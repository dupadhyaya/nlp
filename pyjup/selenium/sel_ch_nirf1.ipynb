{
 "cells": [
  {
   "cell_type": "markdown",
   "id": "c11581c7-beb1-4360-b0a8-524271c5daf0",
   "metadata": {},
   "source": [
    "# Selenium \n",
    "- Extract Data from NIRF Site"
   ]
  },
  {
   "cell_type": "code",
   "execution_count": 41,
   "id": "ca62ed04-52be-410a-9825-b1fc6f1395e0",
   "metadata": {},
   "outputs": [],
   "source": [
    "#!pip install selenium"
   ]
  },
  {
   "cell_type": "code",
   "execution_count": 42,
   "id": "56417a58-0294-4e4c-9aa6-e6fac0e0931f",
   "metadata": {},
   "outputs": [],
   "source": [
    "import selenium\n",
    "import pandas as pd"
   ]
  },
  {
   "cell_type": "code",
   "execution_count": 43,
   "id": "d42422c0-c2fa-4523-a248-52b845f3c649",
   "metadata": {},
   "outputs": [
    {
     "data": {
      "text/plain": [
       "'4.18.1'"
      ]
     },
     "execution_count": 43,
     "metadata": {},
     "output_type": "execute_result"
    }
   ],
   "source": [
    "selenium.__version__\n",
    "# > 4.11  update if reqd"
   ]
  },
  {
   "cell_type": "code",
   "execution_count": 44,
   "id": "19dbca05-4b13-40f5-a9bf-ee744192b9af",
   "metadata": {},
   "outputs": [],
   "source": [
    "from selenium import webdriver\n",
    "from selenium.webdriver.common.keys import Keys\n",
    "import time"
   ]
  },
  {
   "cell_type": "code",
   "execution_count": 45,
   "id": "99b8231a-1220-44bc-b6fd-6d4402dba9f0",
   "metadata": {},
   "outputs": [],
   "source": [
    "from selenium.webdriver.chrome.service import Service\n",
    "from selenium.webdriver.common.by import By\n",
    "from selenium.webdriver.support.ui import WebDriverWait\n",
    "from selenium.webdriver.support import expected_conditions as EC"
   ]
  },
  {
   "cell_type": "code",
   "execution_count": 62,
   "id": "c6e26e43-bcc4-4ef8-baec-0f862d988417",
   "metadata": {},
   "outputs": [],
   "source": [
    "service = Service()"
   ]
  },
  {
   "cell_type": "code",
   "execution_count": 63,
   "id": "fd50348b-bfe9-4693-bb7d-6bd815e0aa45",
   "metadata": {},
   "outputs": [
    {
     "name": "stdout",
     "output_type": "stream",
     "text": [
      "<selenium.webdriver.chrome.options.Options object at 0x3135bd450>\n"
     ]
    }
   ],
   "source": [
    "options = webdriver.ChromeOptions()\n",
    "print(options)"
   ]
  },
  {
   "cell_type": "code",
   "execution_count": 64,
   "id": "1707d63e-9ea4-4e7c-8d8c-325e2e0e36e2",
   "metadata": {},
   "outputs": [
    {
     "name": "stdout",
     "output_type": "stream",
     "text": [
      "<selenium.webdriver.chrome.webdriver.WebDriver (session=\"b7c6cb7a2ec45f18de594a88b6a66782\")>\n"
     ]
    }
   ],
   "source": [
    "driver = webdriver.Chrome(service =service, options=options)\n",
    "print(driver)"
   ]
  },
  {
   "cell_type": "markdown",
   "id": "0a24b76e-eb72-41cc-be92-424510d4de65",
   "metadata": {},
   "source": [
    "# This should open the window\n",
    "# this works fine"
   ]
  },
  {
   "cell_type": "markdown",
   "id": "bf4c5baf-b6dd-420c-801e-e5034140b00b",
   "metadata": {},
   "source": [
    "## Links to navigate"
   ]
  },
  {
   "cell_type": "code",
   "execution_count": 65,
   "id": "65a42f0f-ef3d-4a41-bd89-632051513682",
   "metadata": {},
   "outputs": [],
   "source": [
    "n24or1 = 'https://www.nirfindia.org/Rankings/2024/OverallRanking.html'\n",
    "n24or2 = 'https://www.nirfindia.org/Rankings/2024/OverallRanking150.html'\n",
    "n24or3 = 'https://www.nirfindia.org/Rankings/2024/OverallRanking200.html'\n",
    "n24op = 'https://www.nirfindia.org/Rankings/2024/OverallRankingALL.html'"
   ]
  },
  {
   "cell_type": "code",
   "execution_count": 66,
   "id": "08a365fa-d8f9-45e3-80e8-3a5fa3a571a9",
   "metadata": {},
   "outputs": [],
   "source": [
    "driver.get(n24or1)\n",
    "#this loads the page"
   ]
  },
  {
   "cell_type": "code",
   "execution_count": 67,
   "id": "1b60de59-5d2f-4e42-aaf8-80860d61ca8d",
   "metadata": {},
   "outputs": [],
   "source": [
    "#driver.save_screenshot('screenshot.png')"
   ]
  },
  {
   "cell_type": "code",
   "execution_count": 68,
   "id": "4f36fb45-234c-46fd-a877-5aaa90aaf6d3",
   "metadata": {},
   "outputs": [
    {
     "name": "stdout",
     "output_type": "stream",
     "text": [
      "<html class=\" js flexbox flexboxlegacy canvas canvastext webgl no-touch geolocation postmessage no-w\n"
     ]
    }
   ],
   "source": [
    "rendered_html = driver.page_source\n",
    "print(rendered_html[0:100])"
   ]
  },
  {
   "cell_type": "markdown",
   "id": "7ca23ef0-5712-4d97-85ee-3bedc8197903",
   "metadata": {},
   "source": [
    "# Find Elements"
   ]
  },
  {
   "cell_type": "code",
   "execution_count": 69,
   "id": "52e786b2-700d-46ef-bdd5-51134dad2eef",
   "metadata": {},
   "outputs": [
    {
     "data": {
      "text/plain": [
       "[]"
      ]
     },
     "execution_count": 69,
     "metadata": {},
     "output_type": "execute_result"
    }
   ],
   "source": [
    "ide = driver.find_elements(By.ID,'tblAllInstitutes')\n",
    "ide"
   ]
  },
  {
   "cell_type": "markdown",
   "id": "e9c04c09-c6b1-48e9-893e-d0da314e3241",
   "metadata": {},
   "source": [
    "driver.refresh()"
   ]
  },
  {
   "cell_type": "code",
   "execution_count": 70,
   "id": "07b1c3cc-8988-473c-8ef7-b5929fd0e29c",
   "metadata": {},
   "outputs": [],
   "source": [
    "# Find Elements by Xpath\n",
    "xp1 = \"//*[@id='tblAllInstitutes']\"\n",
    "xp2 = \"//table[@id='tblAllInstitutes']\"\n",
    "xp3 = '//*[@id=\"tbl_overall\"]'"
   ]
  },
  {
   "cell_type": "code",
   "execution_count": 71,
   "id": "6169c815-9587-47d4-aaed-32ec31c72a66",
   "metadata": {},
   "outputs": [],
   "source": [
    "xpe2 = driver.find_elements(By.XPATH, xp3)"
   ]
  },
  {
   "cell_type": "code",
   "execution_count": 72,
   "id": "88fc54bd-0313-4e2e-b333-7b328998f279",
   "metadata": {},
   "outputs": [
    {
     "data": {
      "text/plain": [
       "list"
      ]
     },
     "execution_count": 72,
     "metadata": {},
     "output_type": "execute_result"
    }
   ],
   "source": [
    "type(xpe2)"
   ]
  },
  {
   "cell_type": "code",
   "execution_count": 73,
   "id": "477e9e56-ce6d-419c-9c7b-9ebc614ba235",
   "metadata": {},
   "outputs": [
    {
     "name": "stdout",
     "output_type": "stream",
     "text": [
      "Institute ID Name City State Score Rank\n",
      "IR-O-U-0456 Indian Institute of Technology Madras\n",
      "More Details | |\n",
      "\n",
      "Chennai Tamil Nadu 86.42 1\n",
      "IR-O-U-0220 Indian Institute of Science, Bengaluru\n",
      "More Details | |\n",
      "\n",
      "Bengaluru Karnataka 83.28 2\n",
      "IR-O-U-0306 Indian Institute of Technology Bombay\n",
      "More Details | |\n",
      "\n",
      "Mumbai Maharashtra 81.37 3\n",
      "IR-O-I-1074 Indian Institute of Technology Delhi\n",
      "More Details | |\n",
      "\n",
      "New Delhi Delhi 80.31 4\n",
      "IR-O-I-1075 Indian Institute of Technology Kanpur\n",
      "More Details | |\n",
      "\n",
      "Kanpur Uttar Pradesh 77.56 5\n",
      "IR-O-U-0573 Indian Institute of Technology Kharagpur\n",
      "More Details | |\n",
      "\n",
      "Kharagpur West Bengal 74.77 6\n",
      "IR-O-N-15 All India Institute of Medical Sciences Delhi\n",
      "More Details | |\n",
      "\n",
      "New Delhi Delhi 74.27 7\n",
      "IR-O-U-0560 Indian Institute of Technology Roorkee\n",
      "More Details | |\n",
      "\n",
      "Roorkee Uttarakhand 71.52 8\n",
      "IR-O-U-0053 Indian Institute of Technology Guwahati\n",
      "More Details | |\n",
      "\n",
      "Guwahati Assam 69.04 9\n",
      "IR-O-U-0109 Jawaharlal Nehru University\n",
      "More Details | |\n",
      "\n",
      "New Delhi Delhi 68.53 10\n",
      "IR-O-U-0500 Banaras Hindu University\n",
      "More Details | |\n",
      "\n",
      "Varanasi Uttar Pradesh 67.56 11\n",
      "IR-O-U-0013 Indian Institute of Technology Hyderabad\n",
      "More Details | |\n",
      "\n",
      "Hyderabad Telangana 66.69 12\n",
      "IR-O-U-0108 Jamia Millia Islamia\n",
      "More Details | |\n",
      "\n",
      "New Delhi Delhi 66.00 13\n",
      "IR-O-U-0234 Manipal Academy of Higher Education, Manipal\n",
      "More Details | |\n",
      "\n",
      "Manipal Karnataka 64.94 14\n",
      "IR-O-U-0120 University of Delhi\n",
      "More Details | |\n",
      "\n",
      "Delhi Delhi 64.81 15\n",
      "IR-O-U-0496 Aligarh Muslim University\n",
      "More Details | |\n",
      "\n",
      "Aligarh Uttar Pradesh 64.17 16\n",
      "IR-O-U-0575 Jadavpur University\n",
      "More Details | |\n",
      "\n",
      "Kolkata West Bengal 63.84 17\n",
      "IR-O-U-0436 Amrita Vishwa Vidyapeetham\n",
      "More Details | |\n",
      "\n",
      "Coimbatore Tamil Nadu 63.81 18\n",
      "IR-O-U-0490 Vellore Institute of Technology\n",
      "More Details | |\n",
      "\n",
      "Vellore Tamil Nadu 62.97 19\n",
      "IR-O-U-0439 Anna University\n",
      "More Details | |\n",
      "\n",
      "Chennai Tamil Nadu 62.77 20\n",
      "IR-O-U-0473 S.R.M. Institute of Science and Technology\n",
      "More Details | |\n",
      "\n",
      "Chennai Tamil Nadu 62.07 21\n",
      "IR-O-I-1441 Saveetha Institute of Medical and Technical Sciences\n",
      "More Details | |\n",
      "\n",
      "Chennai Tamil Nadu 61.79 22\n",
      "IR-O-U-0391 Birla Institute of Technology and Science, Pilani\n",
      "More Details | |\n",
      "\n",
      "Pilani Rajasthan 60.87 23\n",
      "IR-O-U-0363 Siksha `O` Anusandhan\n",
      "More Details | |\n",
      "\n",
      "Bhubaneswar Odisha 60.73 24\n",
      "IR-O-U-0042 University of Hyderabad\n",
      "More Details | |\n",
      "\n",
      "Hyderabad Telangana 60.55 25\n",
      "IR-O-U-0570 Calcutta University\n",
      "More Details | |\n",
      "\n",
      "Kolkata West Bengal 60.25 26\n",
      "IR-O-U-0304 Homi Bhabha National Institute\n",
      "More Details | |\n",
      "\n",
      "Mumbai Maharashtra 60.13 27\n",
      "IR-O-U-0356 Kalinga Institute of Industrial Technology\n",
      "More Details | |\n",
      "\n",
      "Bhubaneswar Odisha 59.94 28\n",
      "IR-O-U-0139 Indian Institute of Technology Gandhinagar\n",
      "More Details | |\n",
      "\n",
      "Gandhinagar Gujarat 58.77 29\n",
      "IR-O-U-0701 Indian Institute of Technology (Banaras Hindu University) Varanasi\n",
      "More Details | |\n",
      "\n",
      "Varanasi Uttar Pradesh 58.69 30\n",
      "IR-O-U-0467 National Institute of Technology Tiruchirappalli\n",
      "More Details | |\n",
      "\n",
      "Tiruchirappalli Tamil Nadu 58.60 31\n",
      "IR-O-U-0747 Chandigarh University\n",
      "More Details | |\n",
      "\n",
      "Mohali Punjab 58.30 32\n",
      "IR-O-U-0273 Indian Institute of Technology Indore\n",
      "More Details | |\n",
      "\n",
      "Indore Madhya Pradesh 57.31 33\n",
      "IR-O-U-0357 National Institute of Technology Rourkela\n",
      "More Details | |\n",
      "\n",
      "Rourkela Odisha 57.04 34\n",
      "IR-O-U-0205 Indian Institute of Technology (Indian School of Mines) Dhanbad\n",
      "More Details | |\n",
      "\n",
      "Dhanbad Jharkhand 56.97 35\n",
      "IR-O-U-0222 JSS Academy of Higher Education and Research\n",
      "More Details | |\n",
      "\n",
      "Mysuru Karnataka 55.79 36\n",
      "IR-O-U-0323 Savitribai Phule Pune University\n",
      "More Details | |\n",
      "\n",
      "Pune Maharashtra 55.69 37\n",
      "IR-O-U-0260 Kerala University\n",
      "More Details | |\n",
      "\n",
      "Thiruvananthapuram Kerala 55.61 38\n",
      "IR-O-U-0368 Jawaharlal Institute of Post Graduate Medical Education and Research\n",
      "More Details | |\n",
      "\n",
      "Puducherry Pondicherry 55.51 39\n",
      "IR-O-U-0020 Koneru Lakshmaiah Education Foundation University (K L College of Engineering)\n",
      "More Details | |\n",
      "\n",
      "Vaddeswaram Andhra Pradesh 55.47 40\n",
      "IR-O-U-0006 Andhra University\n",
      "More Details | |\n",
      "\n",
      "Visakhapatnam Andhra Pradesh 54.97 41\n",
      "IR-O-U-0305 Indian Institute of Science Education and Research Pune\n",
      "More Details | |\n",
      "\n",
      "Pune Maharashtra 54.86 42\n",
      "IR-O-I-1480 Thapar Institute of Engineering and Technology (Deemed-to-be-university)\n",
      "More Details | |\n",
      "\n",
      "Patiala Punjab 54.83 43\n",
      "IR-O-U-0447 Bharathiar University\n",
      "More Details | |\n",
      "\n",
      "Coimbatore Tamil Nadu 54.81 44\n",
      "IR-O-U-0379 Lovely Professional University\n",
      "More Details | |\n",
      "\n",
      "Phagwara Punjab 54.58 45\n",
      "IR-O-U-0237 National Institute of Technology Karnataka, Surathkal\n",
      "More Details | |\n",
      "\n",
      "Surathkal Karnataka 54.44 46\n",
      "IR-O-U-0476 Shanmugha Arts Science Technology and Research Academy\n",
      "More Details | |\n",
      "\n",
      "Thanjavur Tamil Nadu 54.14 47\n",
      "IR-O-U-0378 Indian Institute of Technology Ropar\n",
      "More Details | |\n",
      "\n",
      "Rupnagar Punjab 54.12 48\n",
      "IR-O-U-0497 Amity University\n",
      "More Details | |\n",
      "\n",
      "Gautam Budh Nagar Uttar Pradesh 54.04 49\n",
      "IR-O-U-0458 Kalasalingam Academy of Research and Education\n",
      "More Details | |\n",
      "\n",
      "Srivilliputhur Tamil Nadu 54.02 50\n",
      "IR-O-U-0253 Cochin University of Science and Technology\n",
      "More Details | |\n",
      "\n",
      "Cochin Kerala 53.99 51\n",
      "IR-O-U-0329 Symbiosis International\n",
      "More Details | |\n",
      "\n",
      "Pune Maharashtra 53.93 52\n",
      "IR-O-U-0025 National Institute of Technology Warangal\n",
      "More Details | |\n",
      "\n",
      "Warangal Telangana 53.74 53\n",
      "IR-O-U-0263 National Institute of Technology Calicut\n",
      "More Details | |\n",
      "\n",
      "Kozhikode Kerala 53.66 54\n",
      "IR-O-U-0448 Bharathidasan University\n",
      "More Details | |\n",
      "\n",
      "Tiruchirappalli Tamil Nadu 53.47 55\n",
      "IR-O-U-0308 Institute of Chemical Technology\n",
      "More Details | |\n",
      "\n",
      "Mumbai Maharashtra 53.38 56\n",
      "IR-O-U-0052 Gauhati University\n",
      "More Details | |\n",
      "\n",
      "Guwahati Assam 53.28 57\n",
      "IR-O-U-0498 Babasaheb Bhimrao Ambedkar University\n",
      "More Details | |\n",
      "\n",
      "Lucknow Uttar Pradesh 53.26 58\n",
      "IR-O-U-0564 UPES\n",
      "More Details | |\n",
      "\n",
      "Dehradun Uttarakhand 53.05 59\n",
      "IR-O-U-0078 Panjab University\n",
      "More Details | |\n",
      "\n",
      "Chandigarh Chandigarh 52.99 60\n",
      "IR-O-U-0572 Indian Institute of Science Education and Research Kolkata\n",
      "More Details | |\n",
      "\n",
      "Mohanpur West Bengal 52.91 61\n",
      "IR-O-U-0107 Jamia Hamdard\n",
      "More Details | |\n",
      "\n",
      "New Delhi Delhi 52.83 62\n",
      "IR-O-I-1110 Dr. D. Y. Patil Vidyapeeth\n",
      "More Details | |\n",
      "\n",
      "Pune Maharashtra 52.72 63\n",
      "IR-O-U-0377 Indian Institute of Science Education and Research Mohali\n",
      "More Details | |\n",
      "\n",
      "Mohali Punjab 52.58 64\n",
      "IR-O-I-1357 University of Madras\n",
      "More Details | |\n",
      "\n",
      "Chennai Tamil Nadu 52.58 64\n",
      "IR-O-U-0098 Delhi Technological University\n",
      "More Details | |\n",
      "\n",
      "New Delhi Delhi 52.38 66\n",
      "IR-O-U-0262 Mahatma Gandhi University\n",
      "More Details | |\n",
      "\n",
      "Kottayam Kerala 52.30 67\n",
      "IR-O-U-0395 Indian Institute of Technology Jodhpur\n",
      "More Details | |\n",
      "\n",
      "Jodhpur Rajasthan 52.24 68\n",
      "IR-O-U-0196 University of Kashmir\n",
      "More Details | |\n",
      "\n",
      "Srinagar Jammu and Kashmir 52.14 69\n",
      "IR-O-U-0027 Osmania University\n",
      "More Details | |\n",
      "\n",
      "Hyderabad Telangana 52.02 70\n",
      "IR-O-U-0295 Datta Meghe Institute of Higher Education and Research\n",
      "More Details | |\n",
      "\n",
      "Wardha Maharashtra 51.75 71\n",
      "IR-O-U-0184 Indian Institute of Technology Mandi\n",
      "More Details | |\n",
      "\n",
      "Mandi Himachal Pradesh 51.68 72\n",
      "IR-O-U-0064 Indian Institute of Technology Patna\n",
      "More Details | |\n",
      "\n",
      "Patna Bihar 51.24 73\n",
      "IR-O-U-0691 All India Institute of Medical Sciences Rishikesh\n",
      "More Details | |\n",
      "\n",
      "Rishikesh Uttarakhand 51.22 74\n",
      "IR-O-U-0574 Indian Statistical Institute, Kolkata\n",
      "More Details | |\n",
      "\n",
      "Kolkata West Bengal 51.10 75\n",
      "IR-O-U-0435 Alagappa University\n",
      "More Details | |\n",
      "\n",
      "Karaikudi Tamil Nadu 51.07 76\n",
      "IR-O-U-0334 Visvesvaraya National Institute of Technology Nagpur\n",
      "More Details | |\n",
      "\n",
      "Nagpur Maharashtra 51.03 77\n",
      "IR-O-U-0272 Indian Institute of Science Education and Research Bhopal\n",
      "More Details | |\n",
      "\n",
      "Bhopal Madhya Pradesh 50.94 78\n",
      "IR-O-U-0555 Graphic Era University\n",
      "More Details | |\n",
      "\n",
      "Dehradun Uttarakhand 50.58 79\n",
      "IR-O-U-0381 Punjab Agricultural University\n",
      "More Details | |\n",
      "\n",
      "Ludhiana Punjab 50.55 80\n",
      "IR-O-C-16604 Sri Sivasubramaniya Nadar College of Engineering\n",
      "More Details | |\n",
      "\n",
      "Kalavakkam Tamil Nadu 50.43 81\n",
      "IR-O-U-0410 Malaviya National Institute of Technology\n",
      "More Details | |\n",
      "\n",
      "Jaipur Rajasthan 50.41 82\n",
      "IR-O-U-0689 All India Institute of Medical Sciences Jodhpur\n",
      "More Details | |\n",
      "\n",
      "Jodhpur Rajasthan 49.94 83\n",
      "IR-O-N-10 SVKM`s Narsee Monjee Institute of Management Studies\n",
      "More Details | |\n",
      "\n",
      "Mumbai Maharashtra 49.59 84\n",
      "IR-O-U-0474 Sathyabama Institute of Science and Technology\n",
      "More Details | |\n",
      "\n",
      "Chennai Tamil Nadu 49.52 85\n",
      "IR-O-U-0235 Mysore University\n",
      "More Details | |\n",
      "\n",
      "Mysuru Karnataka 49.45 86\n",
      "IR-O-U-0195 University of Jammu\n",
      "More Details | |\n",
      "\n",
      "Jammu Jammu and Kashmir 49.40 87\n",
      "IR-O-U-0523 King George`s Medical University\n",
      "More Details | |\n",
      "\n",
      "Lucknow Uttar Pradesh 48.98 88\n",
      "IR-O-U-0190 Shoolini University of Biotechnology and Management Sciences\n",
      "More Details | |\n",
      "\n",
      "Solan Himachal Pradesh 48.95 89\n",
      "IR-O-U-0217 Christ University\n",
      "More Details | |\n",
      "\n",
      "Bengaluru Karnataka 48.66 90\n",
      "IR-O-U-0446 Bharath Institute of Higher Education and Research\n",
      "More Details | |\n",
      "\n",
      "Chennai Tamil Nadu 48.64 91\n",
      "IR-O-U-0055 National Institute of Technology Silchar\n",
      "More Details | |\n",
      "\n",
      "Silchar Assam 48.55 92\n",
      "IR-O-U-0577 National Institute of Technology Durgapur\n",
      "More Details | |\n",
      "\n",
      "Durgapur West Bengal 48.29 93\n",
      "IR-O-U-0136 Gujarat University\n",
      "More Details | |\n",
      "\n",
      "Ahmedabad Gujarat 48.16 94\n",
      "IR-O-U-0642 Shiv Nadar University\n",
      "More Details | |\n",
      "\n",
      "Gautam Buddha Nagar Uttar Pradesh 48.12 95\n",
      "IR-O-I-1486 Sri Ramachandra Institute of Higher Education and Research\n",
      "More Details | |\n",
      "\n",
      "Chennai Tamil Nadu 48.10 96\n",
      "IR-O-U-0003 Acharya Nagarjuna University\n",
      "More Details | |\n",
      "\n",
      "Guntur Andhra Pradesh 47.73 97\n",
      "IR-O-U-0331 Tata Institute of Social Sciences\n",
      "More Details | |\n",
      "\n",
      "Mumbai Maharashtra 47.56 98\n",
      "IR-O-U-0686 All India Institute of Medical Sciences Patna\n",
      "More Details | |\n",
      "\n",
      "Patna Bihar 47.55 99\n",
      "IR-O-U-0470 Periyar University\n",
      "More Details | |\n",
      "\n",
      "Salem Tamil Nadu 47.43 100\n"
     ]
    }
   ],
   "source": [
    "for data in xpe2:\n",
    "    print(data.text)"
   ]
  },
  {
   "cell_type": "code",
   "execution_count": 24,
   "id": "ca8240ca-50b3-4ce4-a78c-b7c7d3a09a0e",
   "metadata": {},
   "outputs": [
    {
     "ename": "SyntaxError",
     "evalue": "invalid syntax (1007331447.py, line 1)",
     "output_type": "error",
     "traceback": [
      "\u001b[0;36m  Cell \u001b[0;32mIn[24], line 1\u001b[0;36m\u001b[0m\n\u001b[0;31m    tbl = driver.find_elements(By.XPATH,\"//html/body/table\").  .get_attribute('outerHTML')\u001b[0m\n\u001b[0m                                                               ^\u001b[0m\n\u001b[0;31mSyntaxError\u001b[0m\u001b[0;31m:\u001b[0m invalid syntax\n"
     ]
    }
   ],
   "source": [
    "tbl = driver.find_elements(By.XPATH,\"//html/body/table\").  .get_attribute('outerHTML')\n",
    "df  = pd.read_html(tbl)"
   ]
  },
  {
   "cell_type": "code",
   "execution_count": 65,
   "id": "84998ba1-7315-42bf-ba22-d855524554a9",
   "metadata": {},
   "outputs": [
    {
     "name": "stdout",
     "output_type": "stream",
     "text": [
      "//table[@id='tblAllInstitutes']/tbody/tr[3]/td\n"
     ]
    }
   ],
   "source": [
    "xp3 = xp2 + '/tbody/tr[3]/td'\n",
    "print(xp3)"
   ]
  },
  {
   "cell_type": "code",
   "execution_count": 67,
   "id": "6bfa3f76-6a88-4258-9e94-b4c181a05176",
   "metadata": {},
   "outputs": [],
   "source": [
    "xpe3 = driver.find_elements(By.XPATH, xp3)"
   ]
  },
  {
   "cell_type": "code",
   "execution_count": 68,
   "id": "1b738a77-c3f3-403a-a95a-bdb9a3812b06",
   "metadata": {},
   "outputs": [
    {
     "name": "stdout",
     "output_type": "stream",
     "text": [
      "A M C College of Engineering, Bangalore\n",
      "Bengaluru\n",
      "Karnataka\n"
     ]
    }
   ],
   "source": [
    "# 3rd row of the table\n",
    "for data in xpe3:\n",
    "    print(data.text)"
   ]
  },
  {
   "cell_type": "code",
   "execution_count": 25,
   "id": "13c87ce7-7cce-42f9-86eb-87657b5b760d",
   "metadata": {},
   "outputs": [
    {
     "name": "stdout",
     "output_type": "stream",
     "text": [
      "//table[@id='tblAllInstitutes']/tbody/tr[3]/td[1]\n"
     ]
    }
   ],
   "source": [
    "xp4 = xp2 + '/tbody/tr[3]/td[1]'\n",
    "print(xp4)"
   ]
  },
  {
   "cell_type": "code",
   "execution_count": 26,
   "id": "474cc33f-eeaf-4a8a-9409-268a2098fd0a",
   "metadata": {},
   "outputs": [],
   "source": [
    "xpe4 = driver.find_elements(By.XPATH, xp4)\n",
    "# 3rd row and 1st col of the table\n",
    "for data in xpe4:\n",
    "    print(data.text)"
   ]
  },
  {
   "cell_type": "code",
   "execution_count": 27,
   "id": "9b4ea7f1-956e-4e8d-baba-60eac91dd132",
   "metadata": {},
   "outputs": [
    {
     "name": "stdout",
     "output_type": "stream",
     "text": [
      "//table[@id='tblAllInstitutes']/tbody/thead/tr\n"
     ]
    }
   ],
   "source": [
    "# Header\n",
    "xp5 = xp2 + '/tbody/thead/tr'\n",
    "print(xp5)"
   ]
  },
  {
   "cell_type": "code",
   "execution_count": 28,
   "id": "3b32ef75-6eea-41fc-ac04-3747798b6f90",
   "metadata": {},
   "outputs": [],
   "source": [
    "xpe5 = driver.find_elements(By.XPATH, xp5)\n",
    "# header row of the table\n",
    "for data in xpe5:\n",
    "    print(data.text)"
   ]
  },
  {
   "cell_type": "code",
   "execution_count": 29,
   "id": "c463ef2e-eb63-4728-91bb-0f326584929a",
   "metadata": {},
   "outputs": [
    {
     "name": "stderr",
     "output_type": "stream",
     "text": [
      "/var/folders/z4/8qd93wx14xz1c9qfb_z969wc0000gn/T/ipykernel_5931/3094398582.py:2: FutureWarning: Passing literal html to 'read_html' is deprecated and will be removed in a future version. To read from a literal string, wrap it in a 'StringIO' object.\n",
      "  df = pd.read_html(driver.page_source)[0]\n"
     ]
    }
   ],
   "source": [
    "#---------\n",
    "df = pd.read_html(driver.page_source)[0]"
   ]
  },
  {
   "cell_type": "code",
   "execution_count": 30,
   "id": "898a5432-1ad4-4938-948b-a6e30a9122ed",
   "metadata": {},
   "outputs": [
    {
     "data": {
      "text/html": [
       "<div>\n",
       "<style scoped>\n",
       "    .dataframe tbody tr th:only-of-type {\n",
       "        vertical-align: middle;\n",
       "    }\n",
       "\n",
       "    .dataframe tbody tr th {\n",
       "        vertical-align: top;\n",
       "    }\n",
       "\n",
       "    .dataframe thead th {\n",
       "        text-align: right;\n",
       "    }\n",
       "</style>\n",
       "<table border=\"1\" class=\"dataframe\">\n",
       "  <thead>\n",
       "    <tr style=\"text-align: right;\">\n",
       "      <th></th>\n",
       "      <th>Institute ID</th>\n",
       "      <th>Name</th>\n",
       "      <th>City</th>\n",
       "      <th>State</th>\n",
       "      <th>Score</th>\n",
       "      <th>Rank</th>\n",
       "    </tr>\n",
       "  </thead>\n",
       "  <tbody>\n",
       "    <tr>\n",
       "      <th>0</th>\n",
       "      <td>IR-O-U-0456</td>\n",
       "      <td>Indian Institute of Technology MadrasMore Deta...</td>\n",
       "      <td>Chennai</td>\n",
       "      <td>Tamil Nadu</td>\n",
       "      <td>86.42</td>\n",
       "      <td>1</td>\n",
       "    </tr>\n",
       "    <tr>\n",
       "      <th>1</th>\n",
       "      <td>IR-O-U-0220</td>\n",
       "      <td>Indian Institute of Science, BengaluruMore Det...</td>\n",
       "      <td>Bengaluru</td>\n",
       "      <td>Karnataka</td>\n",
       "      <td>83.28</td>\n",
       "      <td>2</td>\n",
       "    </tr>\n",
       "    <tr>\n",
       "      <th>2</th>\n",
       "      <td>IR-O-U-0306</td>\n",
       "      <td>Indian Institute of Technology BombayMore Deta...</td>\n",
       "      <td>Mumbai</td>\n",
       "      <td>Maharashtra</td>\n",
       "      <td>81.37</td>\n",
       "      <td>3</td>\n",
       "    </tr>\n",
       "    <tr>\n",
       "      <th>3</th>\n",
       "      <td>IR-O-I-1074</td>\n",
       "      <td>Indian Institute of Technology DelhiMore Detai...</td>\n",
       "      <td>New Delhi</td>\n",
       "      <td>Delhi</td>\n",
       "      <td>80.31</td>\n",
       "      <td>4</td>\n",
       "    </tr>\n",
       "    <tr>\n",
       "      <th>4</th>\n",
       "      <td>IR-O-I-1075</td>\n",
       "      <td>Indian Institute of Technology KanpurMore Deta...</td>\n",
       "      <td>Kanpur</td>\n",
       "      <td>Uttar Pradesh</td>\n",
       "      <td>77.56</td>\n",
       "      <td>5</td>\n",
       "    </tr>\n",
       "    <tr>\n",
       "      <th>...</th>\n",
       "      <td>...</td>\n",
       "      <td>...</td>\n",
       "      <td>...</td>\n",
       "      <td>...</td>\n",
       "      <td>...</td>\n",
       "      <td>...</td>\n",
       "    </tr>\n",
       "    <tr>\n",
       "      <th>95</th>\n",
       "      <td>IR-O-I-1486</td>\n",
       "      <td>Sri Ramachandra Institute of Higher Education ...</td>\n",
       "      <td>Chennai</td>\n",
       "      <td>Tamil Nadu</td>\n",
       "      <td>48.10</td>\n",
       "      <td>96</td>\n",
       "    </tr>\n",
       "    <tr>\n",
       "      <th>96</th>\n",
       "      <td>IR-O-U-0003</td>\n",
       "      <td>Acharya Nagarjuna UniversityMore Details | |</td>\n",
       "      <td>Guntur</td>\n",
       "      <td>Andhra Pradesh</td>\n",
       "      <td>47.73</td>\n",
       "      <td>97</td>\n",
       "    </tr>\n",
       "    <tr>\n",
       "      <th>97</th>\n",
       "      <td>IR-O-U-0331</td>\n",
       "      <td>Tata Institute of Social SciencesMore Details | |</td>\n",
       "      <td>Mumbai</td>\n",
       "      <td>Maharashtra</td>\n",
       "      <td>47.56</td>\n",
       "      <td>98</td>\n",
       "    </tr>\n",
       "    <tr>\n",
       "      <th>98</th>\n",
       "      <td>IR-O-U-0686</td>\n",
       "      <td>All India Institute of Medical Sciences PatnaM...</td>\n",
       "      <td>Patna</td>\n",
       "      <td>Bihar</td>\n",
       "      <td>47.55</td>\n",
       "      <td>99</td>\n",
       "    </tr>\n",
       "    <tr>\n",
       "      <th>99</th>\n",
       "      <td>IR-O-U-0470</td>\n",
       "      <td>Periyar UniversityMore Details | |</td>\n",
       "      <td>Salem</td>\n",
       "      <td>Tamil Nadu</td>\n",
       "      <td>47.43</td>\n",
       "      <td>100</td>\n",
       "    </tr>\n",
       "  </tbody>\n",
       "</table>\n",
       "<p>100 rows × 6 columns</p>\n",
       "</div>"
      ],
      "text/plain": [
       "   Institute ID                                               Name       City  \\\n",
       "0   IR-O-U-0456  Indian Institute of Technology MadrasMore Deta...    Chennai   \n",
       "1   IR-O-U-0220  Indian Institute of Science, BengaluruMore Det...  Bengaluru   \n",
       "2   IR-O-U-0306  Indian Institute of Technology BombayMore Deta...     Mumbai   \n",
       "3   IR-O-I-1074  Indian Institute of Technology DelhiMore Detai...  New Delhi   \n",
       "4   IR-O-I-1075  Indian Institute of Technology KanpurMore Deta...     Kanpur   \n",
       "..          ...                                                ...        ...   \n",
       "95  IR-O-I-1486  Sri Ramachandra Institute of Higher Education ...    Chennai   \n",
       "96  IR-O-U-0003       Acharya Nagarjuna UniversityMore Details | |     Guntur   \n",
       "97  IR-O-U-0331  Tata Institute of Social SciencesMore Details | |     Mumbai   \n",
       "98  IR-O-U-0686  All India Institute of Medical Sciences PatnaM...      Patna   \n",
       "99  IR-O-U-0470                 Periyar UniversityMore Details | |      Salem   \n",
       "\n",
       "             State  Score  Rank  \n",
       "0       Tamil Nadu  86.42     1  \n",
       "1        Karnataka  83.28     2  \n",
       "2      Maharashtra  81.37     3  \n",
       "3            Delhi  80.31     4  \n",
       "4    Uttar Pradesh  77.56     5  \n",
       "..             ...    ...   ...  \n",
       "95      Tamil Nadu  48.10    96  \n",
       "96  Andhra Pradesh  47.73    97  \n",
       "97     Maharashtra  47.56    98  \n",
       "98           Bihar  47.55    99  \n",
       "99      Tamil Nadu  47.43   100  \n",
       "\n",
       "[100 rows x 6 columns]"
      ]
     },
     "execution_count": 30,
     "metadata": {},
     "output_type": "execute_result"
    }
   ],
   "source": [
    "df"
   ]
  },
  {
   "cell_type": "code",
   "execution_count": 31,
   "id": "cec35107-5f17-4c33-84f8-4d04f153ad14",
   "metadata": {},
   "outputs": [],
   "source": [
    "xpF1 ='/html/body/div[2]/div[1]/div/div/div/div[2]/div/table/tbody'"
   ]
  },
  {
   "cell_type": "code",
   "execution_count": 32,
   "id": "8ae84007-fef4-4594-82c8-393d780a22db",
   "metadata": {},
   "outputs": [],
   "source": [
    "rows=100\n",
    "columns=3\n",
    "df1 = pd.DataFrame()\n",
    "for i in range(rows):\n",
    "    s = pd.Series()\n",
    "    for c in range(columns):\n",
    "        s[c] = driver.find_elements(By.XPATH,f\"/html/body/div[2]/div[1]/div/div/div/div[2]/div/table/tbody/tr[{i+1}]/td[{c+1}]\")\n",
    "    df1 = pd.concat([df1, pd.DataFrame(s) ], ignore_index=True)"
   ]
  },
  {
   "cell_type": "code",
   "execution_count": 33,
   "id": "c4fde22c-309b-4bea-bb3b-bd14bcee4713",
   "metadata": {},
   "outputs": [
    {
     "data": {
      "text/html": [
       "<div>\n",
       "<style scoped>\n",
       "    .dataframe tbody tr th:only-of-type {\n",
       "        vertical-align: middle;\n",
       "    }\n",
       "\n",
       "    .dataframe tbody tr th {\n",
       "        vertical-align: top;\n",
       "    }\n",
       "\n",
       "    .dataframe thead th {\n",
       "        text-align: right;\n",
       "    }\n",
       "</style>\n",
       "<table border=\"1\" class=\"dataframe\">\n",
       "  <thead>\n",
       "    <tr style=\"text-align: right;\">\n",
       "      <th></th>\n",
       "      <th>0</th>\n",
       "    </tr>\n",
       "  </thead>\n",
       "  <tbody>\n",
       "    <tr>\n",
       "      <th>0</th>\n",
       "      <td>[]</td>\n",
       "    </tr>\n",
       "    <tr>\n",
       "      <th>1</th>\n",
       "      <td>[]</td>\n",
       "    </tr>\n",
       "    <tr>\n",
       "      <th>2</th>\n",
       "      <td>[]</td>\n",
       "    </tr>\n",
       "    <tr>\n",
       "      <th>3</th>\n",
       "      <td>[]</td>\n",
       "    </tr>\n",
       "    <tr>\n",
       "      <th>4</th>\n",
       "      <td>[]</td>\n",
       "    </tr>\n",
       "    <tr>\n",
       "      <th>...</th>\n",
       "      <td>...</td>\n",
       "    </tr>\n",
       "    <tr>\n",
       "      <th>295</th>\n",
       "      <td>[]</td>\n",
       "    </tr>\n",
       "    <tr>\n",
       "      <th>296</th>\n",
       "      <td>[]</td>\n",
       "    </tr>\n",
       "    <tr>\n",
       "      <th>297</th>\n",
       "      <td>[]</td>\n",
       "    </tr>\n",
       "    <tr>\n",
       "      <th>298</th>\n",
       "      <td>[]</td>\n",
       "    </tr>\n",
       "    <tr>\n",
       "      <th>299</th>\n",
       "      <td>[]</td>\n",
       "    </tr>\n",
       "  </tbody>\n",
       "</table>\n",
       "<p>300 rows × 1 columns</p>\n",
       "</div>"
      ],
      "text/plain": [
       "      0\n",
       "0    []\n",
       "1    []\n",
       "2    []\n",
       "3    []\n",
       "4    []\n",
       "..   ..\n",
       "295  []\n",
       "296  []\n",
       "297  []\n",
       "298  []\n",
       "299  []\n",
       "\n",
       "[300 rows x 1 columns]"
      ]
     },
     "execution_count": 33,
     "metadata": {},
     "output_type": "execute_result"
    }
   ],
   "source": [
    "df1"
   ]
  },
  {
   "cell_type": "code",
   "execution_count": 34,
   "id": "c5abc27d-d2f6-4348-bd58-b69265216e96",
   "metadata": {},
   "outputs": [],
   "source": [
    "from bs4 import BeautifulSoup as bs\n",
    "import requests"
   ]
  },
  {
   "cell_type": "code",
   "execution_count": 35,
   "id": "4686d813-098b-40ad-ba71-da191c45cd33",
   "metadata": {},
   "outputs": [],
   "source": [
    "r = requests.get(n24op) "
   ]
  },
  {
   "cell_type": "code",
   "execution_count": 36,
   "id": "ae9bffda-89b3-417a-9193-6134bccc3980",
   "metadata": {},
   "outputs": [],
   "source": [
    "soup = bs(r.content)"
   ]
  },
  {
   "cell_type": "code",
   "execution_count": 37,
   "id": "3df24292-b096-480d-908c-dc00b29e4025",
   "metadata": {},
   "outputs": [],
   "source": [
    "#print(soup.prettify())"
   ]
  },
  {
   "cell_type": "code",
   "execution_count": 38,
   "id": "4d1566b5-c2fc-44a5-9891-2924af201dbf",
   "metadata": {},
   "outputs": [],
   "source": [
    "table = soup.select('table#tblAllInstitutes')[0] "
   ]
  },
  {
   "cell_type": "code",
   "execution_count": 131,
   "id": "b4dbe16b-8518-41b4-85b6-81bf140a6e1d",
   "metadata": {},
   "outputs": [],
   "source": [
    "#table"
   ]
  },
  {
   "cell_type": "code",
   "execution_count": 135,
   "id": "0067fc56-2c3b-4b84-859d-fcc3fa8e7b54",
   "metadata": {},
   "outputs": [],
   "source": [
    "columns = table.find('thead').find_all('th') #.text()"
   ]
  },
  {
   "cell_type": "code",
   "execution_count": 141,
   "id": "0034a870-3d22-44ae-b5d5-7bb47a0976a0",
   "metadata": {},
   "outputs": [
    {
     "data": {
      "text/plain": [
       "bs4.element.ResultSet"
      ]
     },
     "execution_count": 141,
     "metadata": {},
     "output_type": "execute_result"
    }
   ],
   "source": [
    "columns# .contents #.get_text()\n",
    "type(columns)"
   ]
  },
  {
   "cell_type": "code",
   "execution_count": 143,
   "id": "1aed9166-ebda-430d-876b-a1d18d9c666d",
   "metadata": {},
   "outputs": [
    {
     "name": "stdout",
     "output_type": "stream",
     "text": [
      "Name\n",
      "City\n",
      "State\n"
     ]
    }
   ],
   "source": [
    "for tag in columns:\n",
    "    print(tag.text.strip())"
   ]
  },
  {
   "cell_type": "code",
   "execution_count": 116,
   "id": "936733a9-edcb-4507-ac8c-06328172033a",
   "metadata": {},
   "outputs": [
    {
     "name": "stderr",
     "output_type": "stream",
     "text": [
      "/var/folders/z4/8qd93wx14xz1c9qfb_z969wc0000gn/T/ipykernel_63200/514477678.py:1: FutureWarning: Passing literal html to 'read_html' is deprecated and will be removed in a future version. To read from a literal string, wrap it in a 'StringIO' object.\n",
      "  table_df = pd.read_html(str(table))[0]\n"
     ]
    }
   ],
   "source": [
    "table_df = pd.read_html(str(table))[0] "
   ]
  },
  {
   "cell_type": "code",
   "execution_count": 115,
   "id": "b507018a-12a4-4294-b36b-b72b76bf1267",
   "metadata": {},
   "outputs": [
    {
     "data": {
      "text/html": [
       "<div>\n",
       "<style scoped>\n",
       "    .dataframe tbody tr th:only-of-type {\n",
       "        vertical-align: middle;\n",
       "    }\n",
       "\n",
       "    .dataframe tbody tr th {\n",
       "        vertical-align: top;\n",
       "    }\n",
       "\n",
       "    .dataframe thead th {\n",
       "        text-align: right;\n",
       "    }\n",
       "</style>\n",
       "<table border=\"1\" class=\"dataframe\">\n",
       "  <thead>\n",
       "    <tr style=\"text-align: right;\">\n",
       "      <th></th>\n",
       "      <th>Name</th>\n",
       "      <th>City</th>\n",
       "      <th>State</th>\n",
       "    </tr>\n",
       "  </thead>\n",
       "  <tbody>\n",
       "    <tr>\n",
       "      <th>0</th>\n",
       "      <td>Adv.B.D.Hambarde Mahavidyalaya Ashti</td>\n",
       "      <td>Ashti</td>\n",
       "      <td>Maharashtra</td>\n",
       "    </tr>\n",
       "    <tr>\n",
       "      <th>1</th>\n",
       "      <td>IDEAL ARTS AND SCIENCE COLLEGE, CHERPULASSERY</td>\n",
       "      <td>CHERPULASSERY</td>\n",
       "      <td>Kerala</td>\n",
       "    </tr>\n",
       "    <tr>\n",
       "      <th>2</th>\n",
       "      <td>A G PATIL INSTITUTE OF TECHNOLOGY 18 2A2 PRATA...</td>\n",
       "      <td>Solapur</td>\n",
       "      <td>Maharashtra</td>\n",
       "    </tr>\n",
       "    <tr>\n",
       "      <th>3</th>\n",
       "      <td>A J Institute of Engineering and Technology Ma...</td>\n",
       "      <td>Mangaluru</td>\n",
       "      <td>Karnataka</td>\n",
       "    </tr>\n",
       "    <tr>\n",
       "      <th>4</th>\n",
       "      <td>A M C College of Engineering, Bangalore</td>\n",
       "      <td>Bengaluru</td>\n",
       "      <td>Karnataka</td>\n",
       "    </tr>\n",
       "  </tbody>\n",
       "</table>\n",
       "</div>"
      ],
      "text/plain": [
       "                                                Name           City  \\\n",
       "0               Adv.B.D.Hambarde Mahavidyalaya Ashti          Ashti   \n",
       "1      IDEAL ARTS AND SCIENCE COLLEGE, CHERPULASSERY  CHERPULASSERY   \n",
       "2  A G PATIL INSTITUTE OF TECHNOLOGY 18 2A2 PRATA...        Solapur   \n",
       "3  A J Institute of Engineering and Technology Ma...      Mangaluru   \n",
       "4            A M C College of Engineering, Bangalore      Bengaluru   \n",
       "\n",
       "         State  \n",
       "0  Maharashtra  \n",
       "1       Kerala  \n",
       "2  Maharashtra  \n",
       "3    Karnataka  \n",
       "4    Karnataka  "
      ]
     },
     "execution_count": 115,
     "metadata": {},
     "output_type": "execute_result"
    }
   ],
   "source": [
    "table_df.head()"
   ]
  },
  {
   "cell_type": "code",
   "execution_count": 117,
   "id": "370648ae-2380-4fe6-8d19-7042a7a4703e",
   "metadata": {},
   "outputs": [],
   "source": [
    "from io import StringIO"
   ]
  },
  {
   "cell_type": "code",
   "execution_count": null,
   "id": "5c583523-b5bf-46b6-86a8-0f37a613e902",
   "metadata": {},
   "outputs": [],
   "source": [
    "table_df = pd.read_html(str(table))[0] "
   ]
  },
  {
   "cell_type": "code",
   "execution_count": 126,
   "id": "a10a3e9a-ead1-49c2-ba3d-2344139a5342",
   "metadata": {},
   "outputs": [
    {
     "ename": "TypeError",
     "evalue": "initial_value must be str or None, not Tag",
     "output_type": "error",
     "traceback": [
      "\u001b[0;31m---------------------------------------------------------------------------\u001b[0m",
      "\u001b[0;31mTypeError\u001b[0m                                 Traceback (most recent call last)",
      "Cell \u001b[0;32mIn[126], line 1\u001b[0m\n\u001b[0;32m----> 1\u001b[0m table_df2 \u001b[38;5;241m=\u001b[39m pd\u001b[38;5;241m.\u001b[39mread_html(StringIO(table), match\u001b[38;5;241m=\u001b[39m{\u001b[38;5;124m'\u001b[39m\u001b[38;5;124mid\u001b[39m\u001b[38;5;124m'\u001b[39m:\u001b[38;5;124m'\u001b[39m\u001b[38;5;124mtable\u001b[39m\u001b[38;5;124m'\u001b[39m})[\u001b[38;5;241m0\u001b[39m]\n",
      "\u001b[0;31mTypeError\u001b[0m: initial_value must be str or None, not Tag"
     ]
    }
   ],
   "source": [
    "table_df2 = pd.read_html(StringIO(table), match={'id':'table'})[0]"
   ]
  },
  {
   "cell_type": "code",
   "execution_count": null,
   "id": "5c27027e-a20f-41e4-bb23-df68aff9a4d7",
   "metadata": {},
   "outputs": [],
   "source": []
  }
 ],
 "metadata": {
  "kernelspec": {
   "display_name": "Python 3 (ipykernel)",
   "language": "python",
   "name": "python3"
  },
  "language_info": {
   "codemirror_mode": {
    "name": "ipython",
    "version": 3
   },
   "file_extension": ".py",
   "mimetype": "text/x-python",
   "name": "python",
   "nbconvert_exporter": "python",
   "pygments_lexer": "ipython3",
   "version": "3.11.5"
  }
 },
 "nbformat": 4,
 "nbformat_minor": 5
}
