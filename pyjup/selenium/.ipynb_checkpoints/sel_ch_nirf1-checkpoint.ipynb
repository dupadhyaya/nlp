{
 "cells": [
  {
   "cell_type": "markdown",
   "id": "c11581c7-beb1-4360-b0a8-524271c5daf0",
   "metadata": {},
   "source": [
    "# Selenium\n",
    "-   x\n",
    "-   "
   ]
  },
  {
   "cell_type": "code",
   "execution_count": 4,
   "id": "ca62ed04-52be-410a-9825-b1fc6f1395e0",
   "metadata": {},
   "outputs": [],
   "source": [
    "#!pip install selenium"
   ]
  },
  {
   "cell_type": "code",
   "execution_count": 86,
   "id": "56417a58-0294-4e4c-9aa6-e6fac0e0931f",
   "metadata": {},
   "outputs": [],
   "source": [
    "import selenium\n",
    "import pandas as pd"
   ]
  },
  {
   "cell_type": "code",
   "execution_count": 2,
   "id": "d42422c0-c2fa-4523-a248-52b845f3c649",
   "metadata": {},
   "outputs": [
    {
     "data": {
      "text/plain": [
       "'4.18.1'"
      ]
     },
     "execution_count": 2,
     "metadata": {},
     "output_type": "execute_result"
    }
   ],
   "source": [
    "selenium.__version__\n",
    "# > 4.11  update if reqd"
   ]
  },
  {
   "cell_type": "code",
   "execution_count": 28,
   "id": "19dbca05-4b13-40f5-a9bf-ee744192b9af",
   "metadata": {},
   "outputs": [],
   "source": [
    "from selenium import webdriver\n",
    "from selenium.webdriver.common.keys import Keys\n",
    "import time"
   ]
  },
  {
   "cell_type": "code",
   "execution_count": 29,
   "id": "99b8231a-1220-44bc-b6fd-6d4402dba9f0",
   "metadata": {},
   "outputs": [],
   "source": [
    "from selenium.webdriver.chrome.service import Service\n",
    "from selenium.webdriver.common.by import By\n",
    "from selenium.webdriver.support.ui import WebDriverWait\n",
    "from selenium.webdriver.support import expected_conditions as EC"
   ]
  },
  {
   "cell_type": "code",
   "execution_count": 30,
   "id": "c6e26e43-bcc4-4ef8-baec-0f862d988417",
   "metadata": {},
   "outputs": [],
   "source": [
    "service = Service()"
   ]
  },
  {
   "cell_type": "code",
   "execution_count": 31,
   "id": "fd50348b-bfe9-4693-bb7d-6bd815e0aa45",
   "metadata": {},
   "outputs": [],
   "source": [
    "options = webdriver.ChromeOptions()"
   ]
  },
  {
   "cell_type": "code",
   "execution_count": 32,
   "id": "1707d63e-9ea4-4e7c-8d8c-325e2e0e36e2",
   "metadata": {},
   "outputs": [],
   "source": [
    "driver = webdriver.Chrome(service =service, options=options)"
   ]
  },
  {
   "cell_type": "code",
   "execution_count": 33,
   "id": "9a36d506-3e61-4c70-a10e-a135866b3b82",
   "metadata": {},
   "outputs": [],
   "source": [
    "#this works fine"
   ]
  },
  {
   "cell_type": "code",
   "execution_count": 34,
   "id": "65a42f0f-ef3d-4a41-bd89-632051513682",
   "metadata": {},
   "outputs": [],
   "source": [
    "n24op = 'https://www.nirfindia.org/Rankings/2024/OverallRankingALL.html'"
   ]
  },
  {
   "cell_type": "code",
   "execution_count": 35,
   "id": "08a365fa-d8f9-45e3-80e8-3a5fa3a571a9",
   "metadata": {},
   "outputs": [],
   "source": [
    "driver.get(n24op)"
   ]
  },
  {
   "cell_type": "code",
   "execution_count": 36,
   "id": "1b60de59-5d2f-4e42-aaf8-80860d61ca8d",
   "metadata": {},
   "outputs": [],
   "source": [
    "#driver.save_screenshot('screenshot.png')"
   ]
  },
  {
   "cell_type": "code",
   "execution_count": 37,
   "id": "4f36fb45-234c-46fd-a877-5aaa90aaf6d3",
   "metadata": {},
   "outputs": [],
   "source": [
    "rendered_html = driver.page_source"
   ]
  },
  {
   "cell_type": "code",
   "execution_count": 38,
   "id": "8bd43328-f2a0-4f64-b8c6-1e3a20b55b03",
   "metadata": {},
   "outputs": [
    {
     "data": {
      "text/plain": [
       "'<html class=\" js flexbox flexboxlegacy canvas canvastext webgl no-touch geolocation postmessage no-w'"
      ]
     },
     "execution_count": 38,
     "metadata": {},
     "output_type": "execute_result"
    }
   ],
   "source": [
    "rendered_html[0:100]"
   ]
  },
  {
   "cell_type": "markdown",
   "id": "7ca23ef0-5712-4d97-85ee-3bedc8197903",
   "metadata": {},
   "source": [
    "# Find Elements"
   ]
  },
  {
   "cell_type": "code",
   "execution_count": 42,
   "id": "52e786b2-700d-46ef-bdd5-51134dad2eef",
   "metadata": {},
   "outputs": [],
   "source": [
    "ide = driver.find_elements(By.ID,'tblAllInstitutes')"
   ]
  },
  {
   "cell_type": "markdown",
   "id": "e9c04c09-c6b1-48e9-893e-d0da314e3241",
   "metadata": {},
   "source": []
  },
  {
   "cell_type": "code",
   "execution_count": 60,
   "id": "07b1c3cc-8988-473c-8ef7-b5929fd0e29c",
   "metadata": {},
   "outputs": [],
   "source": [
    "# Find Elements by Xpath\n",
    "xp1 = \"//*[@id='tblAllInstitutes']\"\n",
    "xp2 = \"//table[@id='tblAllInstitutes']\""
   ]
  },
  {
   "cell_type": "code",
   "execution_count": 81,
   "id": "6169c815-9587-47d4-aaed-32ec31c72a66",
   "metadata": {},
   "outputs": [],
   "source": [
    "xpe2 = driver.find_elements(By.XPATH,xp2)"
   ]
  },
  {
   "cell_type": "code",
   "execution_count": 82,
   "id": "88fc54bd-0313-4e2e-b333-7b328998f279",
   "metadata": {},
   "outputs": [
    {
     "data": {
      "text/plain": [
       "list"
      ]
     },
     "execution_count": 82,
     "metadata": {},
     "output_type": "execute_result"
    }
   ],
   "source": [
    "type(xpe2)"
   ]
  },
  {
   "cell_type": "code",
   "execution_count": 83,
   "id": "477e9e56-ce6d-419c-9c7b-9ebc614ba235",
   "metadata": {},
   "outputs": [
    {
     "name": "stdout",
     "output_type": "stream",
     "text": [
      "Name City State\n",
      "A G PATIL INSTITUTE OF TECHNOLOGY 18 2A2 PRATANAGER SOREGON ROAD Solapur Maharashtra\n",
      "A J Institute of Engineering and Technology Mangaluru Mangaluru Karnataka\n",
      "A M C College of Engineering, Bangalore Bengaluru Karnataka\n",
      "A. J. K. College of Arts & Science Coimbatore Tamil Nadu\n",
      "A. M. A. L. Degree College ANAKAPALLE Andhra Pradesh\n",
      "A. M. College, Gaya ( Anugrah Memorial College, Gaya) Gaya Bihar\n",
      "A. S. N. Pharmacy College Tenali Andhra Pradesh\n",
      "A. V. Patel Commerce College BILIMORA Gujarat\n",
      "A.D.P. College Nagaon Assam\n",
      "A.N.College Patna Bihar\n",
      "A.P Residential Degree College NAGARJUNASAGAR Andhra Pradesh\n",
      "A.R.A. COLLEGE OF PHARMACY, DHULE. Dhule Maharashtra\n",
      "A.S. College, Lakhaoti (Bulandshahr) Bulandshahr Uttar Pradesh\n",
      "A.V.C. College of Engineering Mayiladuthurai Tamil Nadu\n",
      "A.V.D.SAVJANI ARTS & COMMERCE COLLEGE-JAMJODHAPUR Jamjodhpur-360530 Gujarat\n",
      "AAFT University of Media and Arts Raipur Chhattisgarh\n",
      "ABES Engineering College Ghaziabad Uttar Pradesh\n",
      "ABM college. Jamshedpur JAMSHEDPUR Jharkhand\n",
      "Academy of Maritime Education and Training Kancheepuram Tamil Nadu\n",
      "Academy of Scientific and Innovative Research Ghaziabad Uttar Pradesh\n",
      "Accurate Institute of Advanced Management Greater Noida Uttar Pradesh\n",
      "Acharya Girish Chandra Bose College KOLKATA West Bengal\n",
      "Acharya Institute of Technology Bengaluru Karnataka\n",
      "Acharya Instiute Graduate Studies(of Journalism) Bengaluru Karnataka\n",
      "Acharya N G Ranga Agricultural University Guntur Andhra Pradesh\n",
      "Acharya Nagarjuna University Guntur Andhra Pradesh\n",
      "Acharya Narendra Deva University of Agriculture & Technology, Kumarganj, Ayodhya Faizabad Uttar Pradesh\n",
      "Acharya Patashala College of Commerce Bengaluru Karnataka\n",
      "Acharya Sukumar Sen Mahavidyalaya, Burdwan Burdwan West Bengal\n",
      "Acharyas Bangalore B School Bengaluru Karnataka\n",
      "Achievers College Of Commerce And Management Night College Kalyan Maharashtra\n",
      "Acropolis Institute Of Technology And Research Indore Madhya Pradesh\n",
      "Adarsh Arts Commerce College, Desaiganj Desaiganj ( Wadsa ) Maharashtra\n",
      "ADARSH INSTITUTE OF MANAGEMENT AND INFORMATION TECHNOLOGY Bengaluru Karnataka\n",
      "Adarsh Shikshan Sanstha`s Kalikadevi Arts, Commerce & Science College Shirur Kasar Maharashtra\n",
      "Adarsha Edu. Society's Arts Commerce & Science College, Hingoli Hingoli Maharashtra\n",
      "ADARSHA INSTITUTE OF TECHNOLOGY, LINGADJEERA GOLLAHALLI, DEVANAHALLI Bengaluru Karnataka\n",
      "Adarsha Science, Jairamdas Bhagchand Arts and Birla Commerce Mahavidyalaya, Dhamangaon Rly. District Amravati Amravati Maharashtra\n",
      "ADHIPARASAKTHI COLLEGE OF ARTS AND SCIENCE Raniipet Tamil Nadu\n",
      "Adhiparasakthi College of Engineering Arcot Tamil Nadu\n",
      "Adhiparasakthi Engineering College Chengalpat Tamil Nadu\n",
      "Adhiyamaan College of Engineering(Autonomous) Hosur Tamil Nadu\n",
      "Adichunchanagiri College of Nursing Balagangadharanatha Nagara Karnataka\n",
      "Adichunchanagiri Institute of Technology Chikmagalur Karnataka\n",
      "Adichunchanagiri University Mandya Karnataka\n",
      "Adikavi Nannaya University Rajahmundry Andhra Pradesh\n",
      "Adithya Institute of Technology Coimbatore Tamil Nadu\n",
      "Aditya College of Engineering Surampalem Andhra Pradesh\n",
      "ADITYA COLLEGE OF ENGINEERING Madanapalle Andhra Pradesh\n",
      "Aditya College of Engineering & Technology Surampalem Andhra Pradesh\n",
      "Aditya Engineering College Surampalem Andhra Pradesh\n",
      "Aditya Institute of Technology and Management Tekkali Andhra Pradesh\n",
      "Adusumilli Gopalakrishnaiah & Sugarcane Growers Siddhartha Degree College of Arts & Science Vuyyuru Andhra Pradesh\n",
      "Adv.B.D.Hambarde Mahavidyalaya Ashti Ashti Maharashtra\n",
      "Agarwal Vidya Vihar English Medium College Surat Gujarat\n",
      "Aggarwal College Dist. Faridabad Haryana\n",
      "Aghore Kamini Prakash Chandra Mahavidyalaya Arambagh West Bengal\n",
      "Agni College of Technology Chennai Tamil Nadu\n",
      "Agrawal P.G. College, Jaipur JAIPUR Rajasthan\n",
      "Agriculture University,Jodhpur Jodhpur Rajasthan\n",
      "Ahalia School of Management Palakkad Kerala\n",
      "Ahmedabad University Ahmedabad Gujarat\n",
      "AISECT UNIVERSITY Hazaribag Jharkhand\n",
      "Ajay Binay Institute of Technology, (ABIT), Cuttack CUTTACK Odisha\n",
      "Ajeenkya D Y Patil University Pune Maharashtra\n",
      "Ajeenkya DY Patil School of Engineering Pune Maharashtra\n",
      "Al Shifa College of Pharmacy, Perinthalmanna Malappuram Kerala\n",
      "Al- Ameen College, Edathala North P.O. Alwaye Ernakulam Kerala\n",
      "Alagappa Government Arts College Karaikudi Tamil Nadu\n",
      "Alagappa University Karaikudi Tamil Nadu\n",
      "ALBERTIAN INSTITUTE OF SCIENCE AND TECHNOLOGY - AISAT KOCHI Kerala\n",
      "Aldel Education Trusts St. John Institute of Pharmacy, Palghar, Dist Thane Palghar Maharashtra\n",
      "Aliah University, Kolkata Kolkata West Bengal\n",
      "Aligarh Muslim University Aligarh Uttar Pradesh\n",
      "All India Institute of Medical Sciences Bhopal Bhopal Madhya Pradesh\n",
      "All India Institute of Medical Sciences Delhi New Delhi Delhi\n",
      "All India Institute of Medical Sciences Jodhpur Jodhpur Rajasthan\n",
      "All India Institute of Medical Sciences Patna Patna Bihar\n",
      "All India Institute of Medical Sciences Rishikesh Rishikesh Uttarakhand\n",
      "All India Shivaji Memorial Societys College of Engineering, Pune Pune Maharashtra\n",
      "Allahabad Degree College Prayagraj Uttar Pradesh\n",
      "Alvas Institute of Engineering and Technology, MOODBIDRI Dakshina Kannada Karnataka\n",
      "AMAL COLLEGE OF ADVANCED STUDIES, MYLADI Nilambur Kerala\n",
      "Aman Bhalla Institute of Engg. & Tech, Jhakolari, Pathankot Pathankot Punjab\n",
      "Ambala College of Engineering & Applied Research Ambala Cantt -133101 Haryana\n",
      "Ambalika Institute of Management and Technology Lucknow Uttar Pradesh\n",
      "Amity University Gautam Budh Nagar Uttar Pradesh\n",
      "Amity University North Twenty Four Parganas West Bengal\n",
      "Amity University Haryana, Gurgaon Gurugram, Haryana Haryana\n",
      "Amity University Patna Patna Bihar\n",
      "Amity University Rajasthan,Jaipur Jaipur Rajasthan\n",
      "Amity University, Gwalior Gwalior Madhya Pradesh\n",
      "Amity University, Jharkhand Ranchi Jharkhand\n",
      "Amity University, Mumbai Mumbai Maharashtra\n",
      "Amity University, Raipur Raipur Chhattisgarh\n",
      "AMJAD ALI KHAN COLLEGE OF BUSINESS ADMINISTRATION Hyderabad Telangana\n",
      "Amrapali Institute of Hotel Management Haldwani Uttarakhand\n",
      "Amrita College of Engineering and Technology, Nagercoil NAGERCOIL Tamil Nadu\n",
      "Amrita Vishwa Vidyapeetham Coimbatore Tamil Nadu\n",
      "Amritsar Group of Colleges Amritsar Punjab\n"
     ]
    }
   ],
   "source": [
    "for data in xpe2:\n",
    "    print(data.text)"
   ]
  },
  {
   "cell_type": "code",
   "execution_count": 90,
   "id": "ca8240ca-50b3-4ce4-a78c-b7c7d3a09a0e",
   "metadata": {},
   "outputs": [
    {
     "ename": "AttributeError",
     "evalue": "'list' object has no attribute 'get_attribute'",
     "output_type": "error",
     "traceback": [
      "\u001b[0;31m---------------------------------------------------------------------------\u001b[0m",
      "\u001b[0;31mAttributeError\u001b[0m                            Traceback (most recent call last)",
      "Cell \u001b[0;32mIn[90], line 1\u001b[0m\n\u001b[0;32m----> 1\u001b[0m tbl \u001b[38;5;241m=\u001b[39m driver\u001b[38;5;241m.\u001b[39mfind_elements(By\u001b[38;5;241m.\u001b[39mXPATH,\u001b[38;5;124m\"\u001b[39m\u001b[38;5;124m//html/body/table\u001b[39m\u001b[38;5;124m\"\u001b[39m)\u001b[38;5;241m.\u001b[39mget_attribute(\u001b[38;5;124m'\u001b[39m\u001b[38;5;124mouterHTML\u001b[39m\u001b[38;5;124m'\u001b[39m)\n\u001b[1;32m      2\u001b[0m df  \u001b[38;5;241m=\u001b[39m pd\u001b[38;5;241m.\u001b[39mread_html(tbl)\n",
      "\u001b[0;31mAttributeError\u001b[0m: 'list' object has no attribute 'get_attribute'"
     ]
    }
   ],
   "source": [
    "tbl = driver.find_elements(By.XPATH,\"//html/body/table\").  .get_attribute('outerHTML')\n",
    "df  = pd.read_html(tbl)"
   ]
  },
  {
   "cell_type": "code",
   "execution_count": 65,
   "id": "84998ba1-7315-42bf-ba22-d855524554a9",
   "metadata": {},
   "outputs": [
    {
     "name": "stdout",
     "output_type": "stream",
     "text": [
      "//table[@id='tblAllInstitutes']/tbody/tr[3]/td\n"
     ]
    }
   ],
   "source": [
    "xp3 = xp2 + '/tbody/tr[3]/td'\n",
    "print(xp3)"
   ]
  },
  {
   "cell_type": "code",
   "execution_count": 67,
   "id": "6bfa3f76-6a88-4258-9e94-b4c181a05176",
   "metadata": {},
   "outputs": [],
   "source": [
    "xpe3 = driver.find_elements(By.XPATH, xp3)"
   ]
  },
  {
   "cell_type": "code",
   "execution_count": 68,
   "id": "1b738a77-c3f3-403a-a95a-bdb9a3812b06",
   "metadata": {},
   "outputs": [
    {
     "name": "stdout",
     "output_type": "stream",
     "text": [
      "A M C College of Engineering, Bangalore\n",
      "Bengaluru\n",
      "Karnataka\n"
     ]
    }
   ],
   "source": [
    "# 3rd row of the table\n",
    "for data in xpe3:\n",
    "    print(data.text)"
   ]
  },
  {
   "cell_type": "code",
   "execution_count": 71,
   "id": "13c87ce7-7cce-42f9-86eb-87657b5b760d",
   "metadata": {},
   "outputs": [
    {
     "name": "stdout",
     "output_type": "stream",
     "text": [
      "//table[@id='tblAllInstitutes']/tbody/tr[3]/td[1]\n"
     ]
    }
   ],
   "source": [
    "xp4 = xp2 + '/tbody/tr[3]/td[1]'\n",
    "print(xp4)"
   ]
  },
  {
   "cell_type": "code",
   "execution_count": 70,
   "id": "474cc33f-eeaf-4a8a-9409-268a2098fd0a",
   "metadata": {},
   "outputs": [
    {
     "name": "stdout",
     "output_type": "stream",
     "text": [
      "A M C College of Engineering, Bangalore\n"
     ]
    }
   ],
   "source": [
    "xpe4 = driver.find_elements(By.XPATH, xp4)\n",
    "# 3rd row and 1st col of the table\n",
    "for data in xpe4:\n",
    "    print(data.text)"
   ]
  },
  {
   "cell_type": "code",
   "execution_count": 79,
   "id": "9b4ea7f1-956e-4e8d-baba-60eac91dd132",
   "metadata": {},
   "outputs": [
    {
     "name": "stdout",
     "output_type": "stream",
     "text": [
      "//table[@id='tblAllInstitutes']/tbody/thead/tr\n"
     ]
    }
   ],
   "source": [
    "# Header\n",
    "xp5 = xp2 + '/tbody/thead/tr'\n",
    "print(xp5)"
   ]
  },
  {
   "cell_type": "code",
   "execution_count": 80,
   "id": "3b32ef75-6eea-41fc-ac04-3747798b6f90",
   "metadata": {},
   "outputs": [],
   "source": [
    "xpe5 = driver.find_elements(By.XPATH, xp5)\n",
    "# header row of the table\n",
    "for data in xpe5:\n",
    "    print(data.text)"
   ]
  },
  {
   "cell_type": "code",
   "execution_count": 91,
   "id": "c463ef2e-eb63-4728-91bb-0f326584929a",
   "metadata": {},
   "outputs": [
    {
     "name": "stderr",
     "output_type": "stream",
     "text": [
      "/var/folders/z4/8qd93wx14xz1c9qfb_z969wc0000gn/T/ipykernel_63200/3094398582.py:2: FutureWarning: Passing literal html to 'read_html' is deprecated and will be removed in a future version. To read from a literal string, wrap it in a 'StringIO' object.\n",
      "  df = pd.read_html(driver.page_source)[0]\n"
     ]
    }
   ],
   "source": [
    "#---------\n",
    "df = pd.read_html(driver.page_source)[0]"
   ]
  },
  {
   "cell_type": "code",
   "execution_count": 92,
   "id": "898a5432-1ad4-4938-948b-a6e30a9122ed",
   "metadata": {},
   "outputs": [
    {
     "data": {
      "text/html": [
       "<div>\n",
       "<style scoped>\n",
       "    .dataframe tbody tr th:only-of-type {\n",
       "        vertical-align: middle;\n",
       "    }\n",
       "\n",
       "    .dataframe tbody tr th {\n",
       "        vertical-align: top;\n",
       "    }\n",
       "\n",
       "    .dataframe thead th {\n",
       "        text-align: right;\n",
       "    }\n",
       "</style>\n",
       "<table border=\"1\" class=\"dataframe\">\n",
       "  <thead>\n",
       "    <tr style=\"text-align: right;\">\n",
       "      <th></th>\n",
       "      <th>Name</th>\n",
       "      <th>City</th>\n",
       "      <th>State</th>\n",
       "    </tr>\n",
       "  </thead>\n",
       "  <tbody>\n",
       "    <tr>\n",
       "      <th>0</th>\n",
       "      <td>A G PATIL INSTITUTE OF TECHNOLOGY 18 2A2 PRATA...</td>\n",
       "      <td>Solapur</td>\n",
       "      <td>Maharashtra</td>\n",
       "    </tr>\n",
       "    <tr>\n",
       "      <th>1</th>\n",
       "      <td>A J Institute of Engineering and Technology Ma...</td>\n",
       "      <td>Mangaluru</td>\n",
       "      <td>Karnataka</td>\n",
       "    </tr>\n",
       "    <tr>\n",
       "      <th>2</th>\n",
       "      <td>A M C College of Engineering, Bangalore</td>\n",
       "      <td>Bengaluru</td>\n",
       "      <td>Karnataka</td>\n",
       "    </tr>\n",
       "    <tr>\n",
       "      <th>3</th>\n",
       "      <td>A. J. K. College of Arts &amp; Science</td>\n",
       "      <td>Coimbatore</td>\n",
       "      <td>Tamil Nadu</td>\n",
       "    </tr>\n",
       "    <tr>\n",
       "      <th>4</th>\n",
       "      <td>A. M. A. L. Degree College</td>\n",
       "      <td>ANAKAPALLE</td>\n",
       "      <td>Andhra Pradesh</td>\n",
       "    </tr>\n",
       "    <tr>\n",
       "      <th>...</th>\n",
       "      <td>...</td>\n",
       "      <td>...</td>\n",
       "      <td>...</td>\n",
       "    </tr>\n",
       "    <tr>\n",
       "      <th>95</th>\n",
       "      <td>AMJAD ALI KHAN COLLEGE OF BUSINESS ADMINISTRATION</td>\n",
       "      <td>Hyderabad</td>\n",
       "      <td>Telangana</td>\n",
       "    </tr>\n",
       "    <tr>\n",
       "      <th>96</th>\n",
       "      <td>Amrapali Institute of Hotel Management</td>\n",
       "      <td>Haldwani</td>\n",
       "      <td>Uttarakhand</td>\n",
       "    </tr>\n",
       "    <tr>\n",
       "      <th>97</th>\n",
       "      <td>Amrita College of Engineering and Technology, ...</td>\n",
       "      <td>NAGERCOIL</td>\n",
       "      <td>Tamil Nadu</td>\n",
       "    </tr>\n",
       "    <tr>\n",
       "      <th>98</th>\n",
       "      <td>Amrita Vishwa Vidyapeetham</td>\n",
       "      <td>Coimbatore</td>\n",
       "      <td>Tamil Nadu</td>\n",
       "    </tr>\n",
       "    <tr>\n",
       "      <th>99</th>\n",
       "      <td>Amritsar Group of Colleges</td>\n",
       "      <td>Amritsar</td>\n",
       "      <td>Punjab</td>\n",
       "    </tr>\n",
       "  </tbody>\n",
       "</table>\n",
       "<p>100 rows × 3 columns</p>\n",
       "</div>"
      ],
      "text/plain": [
       "                                                 Name        City  \\\n",
       "0   A G PATIL INSTITUTE OF TECHNOLOGY 18 2A2 PRATA...     Solapur   \n",
       "1   A J Institute of Engineering and Technology Ma...   Mangaluru   \n",
       "2             A M C College of Engineering, Bangalore   Bengaluru   \n",
       "3                  A. J. K. College of Arts & Science  Coimbatore   \n",
       "4                          A. M. A. L. Degree College  ANAKAPALLE   \n",
       "..                                                ...         ...   \n",
       "95  AMJAD ALI KHAN COLLEGE OF BUSINESS ADMINISTRATION   Hyderabad   \n",
       "96             Amrapali Institute of Hotel Management    Haldwani   \n",
       "97  Amrita College of Engineering and Technology, ...   NAGERCOIL   \n",
       "98                         Amrita Vishwa Vidyapeetham  Coimbatore   \n",
       "99                         Amritsar Group of Colleges    Amritsar   \n",
       "\n",
       "             State  \n",
       "0      Maharashtra  \n",
       "1        Karnataka  \n",
       "2        Karnataka  \n",
       "3       Tamil Nadu  \n",
       "4   Andhra Pradesh  \n",
       "..             ...  \n",
       "95       Telangana  \n",
       "96     Uttarakhand  \n",
       "97      Tamil Nadu  \n",
       "98      Tamil Nadu  \n",
       "99          Punjab  \n",
       "\n",
       "[100 rows x 3 columns]"
      ]
     },
     "execution_count": 92,
     "metadata": {},
     "output_type": "execute_result"
    }
   ],
   "source": [
    "df"
   ]
  },
  {
   "cell_type": "code",
   "execution_count": null,
   "id": "cec35107-5f17-4c33-84f8-4d04f153ad14",
   "metadata": {},
   "outputs": [],
   "source": [
    "xpF1 ='/html/body/div[2]/div[1]/div/div/div/div[2]/div/table/tbody'"
   ]
  },
  {
   "cell_type": "code",
   "execution_count": 98,
   "id": "8ae84007-fef4-4594-82c8-393d780a22db",
   "metadata": {},
   "outputs": [],
   "source": [
    "rows=100\n",
    "columns=3\n",
    "df1 = pd.DataFrame()\n",
    "for i in range(rows):\n",
    "    s = pd.Series()\n",
    "    for c in range(columns):\n",
    "        s[c] = driver.find_elements(By.XPATH,f\"/html/body/div[2]/div[1]/div/div/div/div[2]/div/table/tbody/tr[{i+1}]/td[{c+1}]\")\n",
    "    df1 = pd.concat([df1, pd.DataFrame(s) ], ignore_index=True)"
   ]
  },
  {
   "cell_type": "code",
   "execution_count": 99,
   "id": "c4fde22c-309b-4bea-bb3b-bd14bcee4713",
   "metadata": {},
   "outputs": [
    {
     "data": {
      "text/html": [
       "<div>\n",
       "<style scoped>\n",
       "    .dataframe tbody tr th:only-of-type {\n",
       "        vertical-align: middle;\n",
       "    }\n",
       "\n",
       "    .dataframe tbody tr th {\n",
       "        vertical-align: top;\n",
       "    }\n",
       "\n",
       "    .dataframe thead th {\n",
       "        text-align: right;\n",
       "    }\n",
       "</style>\n",
       "<table border=\"1\" class=\"dataframe\">\n",
       "  <thead>\n",
       "    <tr style=\"text-align: right;\">\n",
       "      <th></th>\n",
       "      <th>0</th>\n",
       "    </tr>\n",
       "  </thead>\n",
       "  <tbody>\n",
       "    <tr>\n",
       "      <th>0</th>\n",
       "      <td>[&lt;selenium.webdriver.remote.webelement.WebElem...</td>\n",
       "    </tr>\n",
       "    <tr>\n",
       "      <th>1</th>\n",
       "      <td>[&lt;selenium.webdriver.remote.webelement.WebElem...</td>\n",
       "    </tr>\n",
       "    <tr>\n",
       "      <th>2</th>\n",
       "      <td>[&lt;selenium.webdriver.remote.webelement.WebElem...</td>\n",
       "    </tr>\n",
       "    <tr>\n",
       "      <th>3</th>\n",
       "      <td>[&lt;selenium.webdriver.remote.webelement.WebElem...</td>\n",
       "    </tr>\n",
       "    <tr>\n",
       "      <th>4</th>\n",
       "      <td>[&lt;selenium.webdriver.remote.webelement.WebElem...</td>\n",
       "    </tr>\n",
       "    <tr>\n",
       "      <th>...</th>\n",
       "      <td>...</td>\n",
       "    </tr>\n",
       "    <tr>\n",
       "      <th>295</th>\n",
       "      <td>[&lt;selenium.webdriver.remote.webelement.WebElem...</td>\n",
       "    </tr>\n",
       "    <tr>\n",
       "      <th>296</th>\n",
       "      <td>[&lt;selenium.webdriver.remote.webelement.WebElem...</td>\n",
       "    </tr>\n",
       "    <tr>\n",
       "      <th>297</th>\n",
       "      <td>[&lt;selenium.webdriver.remote.webelement.WebElem...</td>\n",
       "    </tr>\n",
       "    <tr>\n",
       "      <th>298</th>\n",
       "      <td>[&lt;selenium.webdriver.remote.webelement.WebElem...</td>\n",
       "    </tr>\n",
       "    <tr>\n",
       "      <th>299</th>\n",
       "      <td>[&lt;selenium.webdriver.remote.webelement.WebElem...</td>\n",
       "    </tr>\n",
       "  </tbody>\n",
       "</table>\n",
       "<p>300 rows × 1 columns</p>\n",
       "</div>"
      ],
      "text/plain": [
       "                                                     0\n",
       "0    [<selenium.webdriver.remote.webelement.WebElem...\n",
       "1    [<selenium.webdriver.remote.webelement.WebElem...\n",
       "2    [<selenium.webdriver.remote.webelement.WebElem...\n",
       "3    [<selenium.webdriver.remote.webelement.WebElem...\n",
       "4    [<selenium.webdriver.remote.webelement.WebElem...\n",
       "..                                                 ...\n",
       "295  [<selenium.webdriver.remote.webelement.WebElem...\n",
       "296  [<selenium.webdriver.remote.webelement.WebElem...\n",
       "297  [<selenium.webdriver.remote.webelement.WebElem...\n",
       "298  [<selenium.webdriver.remote.webelement.WebElem...\n",
       "299  [<selenium.webdriver.remote.webelement.WebElem...\n",
       "\n",
       "[300 rows x 1 columns]"
      ]
     },
     "execution_count": 99,
     "metadata": {},
     "output_type": "execute_result"
    }
   ],
   "source": [
    "df1"
   ]
  },
  {
   "cell_type": "code",
   "execution_count": 104,
   "id": "c5abc27d-d2f6-4348-bd58-b69265216e96",
   "metadata": {},
   "outputs": [],
   "source": [
    "from bs4 import BeautifulSoup as bs\n",
    "import requests"
   ]
  },
  {
   "cell_type": "code",
   "execution_count": 105,
   "id": "4686d813-098b-40ad-ba71-da191c45cd33",
   "metadata": {},
   "outputs": [],
   "source": [
    "r = requests.get(n24op) "
   ]
  },
  {
   "cell_type": "code",
   "execution_count": 106,
   "id": "ae9bffda-89b3-417a-9193-6134bccc3980",
   "metadata": {},
   "outputs": [],
   "source": [
    "soup = bs(r.content)"
   ]
  },
  {
   "cell_type": "code",
   "execution_count": 108,
   "id": "3df24292-b096-480d-908c-dc00b29e4025",
   "metadata": {},
   "outputs": [],
   "source": [
    "#print(soup.prettify())"
   ]
  },
  {
   "cell_type": "code",
   "execution_count": 129,
   "id": "4d1566b5-c2fc-44a5-9891-2924af201dbf",
   "metadata": {},
   "outputs": [],
   "source": [
    "table = soup.select('table#tblAllInstitutes')[0] "
   ]
  },
  {
   "cell_type": "code",
   "execution_count": 131,
   "id": "b4dbe16b-8518-41b4-85b6-81bf140a6e1d",
   "metadata": {},
   "outputs": [],
   "source": [
    "#table"
   ]
  },
  {
   "cell_type": "code",
   "execution_count": 135,
   "id": "0067fc56-2c3b-4b84-859d-fcc3fa8e7b54",
   "metadata": {},
   "outputs": [],
   "source": [
    "columns = table.find('thead').find_all('th') #.text()"
   ]
  },
  {
   "cell_type": "code",
   "execution_count": 141,
   "id": "0034a870-3d22-44ae-b5d5-7bb47a0976a0",
   "metadata": {},
   "outputs": [
    {
     "data": {
      "text/plain": [
       "bs4.element.ResultSet"
      ]
     },
     "execution_count": 141,
     "metadata": {},
     "output_type": "execute_result"
    }
   ],
   "source": [
    "columns# .contents #.get_text()\n",
    "type(columns)"
   ]
  },
  {
   "cell_type": "code",
   "execution_count": 143,
   "id": "1aed9166-ebda-430d-876b-a1d18d9c666d",
   "metadata": {},
   "outputs": [
    {
     "name": "stdout",
     "output_type": "stream",
     "text": [
      "Name\n",
      "City\n",
      "State\n"
     ]
    }
   ],
   "source": [
    "for tag in columns:\n",
    "    print(tag.text.strip())"
   ]
  },
  {
   "cell_type": "code",
   "execution_count": 116,
   "id": "936733a9-edcb-4507-ac8c-06328172033a",
   "metadata": {},
   "outputs": [
    {
     "name": "stderr",
     "output_type": "stream",
     "text": [
      "/var/folders/z4/8qd93wx14xz1c9qfb_z969wc0000gn/T/ipykernel_63200/514477678.py:1: FutureWarning: Passing literal html to 'read_html' is deprecated and will be removed in a future version. To read from a literal string, wrap it in a 'StringIO' object.\n",
      "  table_df = pd.read_html(str(table))[0]\n"
     ]
    }
   ],
   "source": [
    "table_df = pd.read_html(str(table))[0] "
   ]
  },
  {
   "cell_type": "code",
   "execution_count": 115,
   "id": "b507018a-12a4-4294-b36b-b72b76bf1267",
   "metadata": {},
   "outputs": [
    {
     "data": {
      "text/html": [
       "<div>\n",
       "<style scoped>\n",
       "    .dataframe tbody tr th:only-of-type {\n",
       "        vertical-align: middle;\n",
       "    }\n",
       "\n",
       "    .dataframe tbody tr th {\n",
       "        vertical-align: top;\n",
       "    }\n",
       "\n",
       "    .dataframe thead th {\n",
       "        text-align: right;\n",
       "    }\n",
       "</style>\n",
       "<table border=\"1\" class=\"dataframe\">\n",
       "  <thead>\n",
       "    <tr style=\"text-align: right;\">\n",
       "      <th></th>\n",
       "      <th>Name</th>\n",
       "      <th>City</th>\n",
       "      <th>State</th>\n",
       "    </tr>\n",
       "  </thead>\n",
       "  <tbody>\n",
       "    <tr>\n",
       "      <th>0</th>\n",
       "      <td>Adv.B.D.Hambarde Mahavidyalaya Ashti</td>\n",
       "      <td>Ashti</td>\n",
       "      <td>Maharashtra</td>\n",
       "    </tr>\n",
       "    <tr>\n",
       "      <th>1</th>\n",
       "      <td>IDEAL ARTS AND SCIENCE COLLEGE, CHERPULASSERY</td>\n",
       "      <td>CHERPULASSERY</td>\n",
       "      <td>Kerala</td>\n",
       "    </tr>\n",
       "    <tr>\n",
       "      <th>2</th>\n",
       "      <td>A G PATIL INSTITUTE OF TECHNOLOGY 18 2A2 PRATA...</td>\n",
       "      <td>Solapur</td>\n",
       "      <td>Maharashtra</td>\n",
       "    </tr>\n",
       "    <tr>\n",
       "      <th>3</th>\n",
       "      <td>A J Institute of Engineering and Technology Ma...</td>\n",
       "      <td>Mangaluru</td>\n",
       "      <td>Karnataka</td>\n",
       "    </tr>\n",
       "    <tr>\n",
       "      <th>4</th>\n",
       "      <td>A M C College of Engineering, Bangalore</td>\n",
       "      <td>Bengaluru</td>\n",
       "      <td>Karnataka</td>\n",
       "    </tr>\n",
       "  </tbody>\n",
       "</table>\n",
       "</div>"
      ],
      "text/plain": [
       "                                                Name           City  \\\n",
       "0               Adv.B.D.Hambarde Mahavidyalaya Ashti          Ashti   \n",
       "1      IDEAL ARTS AND SCIENCE COLLEGE, CHERPULASSERY  CHERPULASSERY   \n",
       "2  A G PATIL INSTITUTE OF TECHNOLOGY 18 2A2 PRATA...        Solapur   \n",
       "3  A J Institute of Engineering and Technology Ma...      Mangaluru   \n",
       "4            A M C College of Engineering, Bangalore      Bengaluru   \n",
       "\n",
       "         State  \n",
       "0  Maharashtra  \n",
       "1       Kerala  \n",
       "2  Maharashtra  \n",
       "3    Karnataka  \n",
       "4    Karnataka  "
      ]
     },
     "execution_count": 115,
     "metadata": {},
     "output_type": "execute_result"
    }
   ],
   "source": [
    "table_df.head()"
   ]
  },
  {
   "cell_type": "code",
   "execution_count": 117,
   "id": "370648ae-2380-4fe6-8d19-7042a7a4703e",
   "metadata": {},
   "outputs": [],
   "source": [
    "from io import StringIO"
   ]
  },
  {
   "cell_type": "code",
   "execution_count": null,
   "id": "5c583523-b5bf-46b6-86a8-0f37a613e902",
   "metadata": {},
   "outputs": [],
   "source": [
    "table_df = pd.read_html(str(table))[0] "
   ]
  },
  {
   "cell_type": "code",
   "execution_count": 126,
   "id": "a10a3e9a-ead1-49c2-ba3d-2344139a5342",
   "metadata": {},
   "outputs": [
    {
     "ename": "TypeError",
     "evalue": "initial_value must be str or None, not Tag",
     "output_type": "error",
     "traceback": [
      "\u001b[0;31m---------------------------------------------------------------------------\u001b[0m",
      "\u001b[0;31mTypeError\u001b[0m                                 Traceback (most recent call last)",
      "Cell \u001b[0;32mIn[126], line 1\u001b[0m\n\u001b[0;32m----> 1\u001b[0m table_df2 \u001b[38;5;241m=\u001b[39m pd\u001b[38;5;241m.\u001b[39mread_html(StringIO(table), match\u001b[38;5;241m=\u001b[39m{\u001b[38;5;124m'\u001b[39m\u001b[38;5;124mid\u001b[39m\u001b[38;5;124m'\u001b[39m:\u001b[38;5;124m'\u001b[39m\u001b[38;5;124mtable\u001b[39m\u001b[38;5;124m'\u001b[39m})[\u001b[38;5;241m0\u001b[39m]\n",
      "\u001b[0;31mTypeError\u001b[0m: initial_value must be str or None, not Tag"
     ]
    }
   ],
   "source": [
    "table_df2 = pd.read_html(StringIO(table), match={'id':'table'})[0]"
   ]
  },
  {
   "cell_type": "code",
   "execution_count": null,
   "id": "5c27027e-a20f-41e4-bb23-df68aff9a4d7",
   "metadata": {},
   "outputs": [],
   "source": []
  }
 ],
 "metadata": {
  "kernelspec": {
   "display_name": "Python 3 (ipykernel)",
   "language": "python",
   "name": "python3"
  },
  "language_info": {
   "codemirror_mode": {
    "name": "ipython",
    "version": 3
   },
   "file_extension": ".py",
   "mimetype": "text/x-python",
   "name": "python",
   "nbconvert_exporter": "python",
   "pygments_lexer": "ipython3",
   "version": "3.11.5"
  }
 },
 "nbformat": 4,
 "nbformat_minor": 5
}
