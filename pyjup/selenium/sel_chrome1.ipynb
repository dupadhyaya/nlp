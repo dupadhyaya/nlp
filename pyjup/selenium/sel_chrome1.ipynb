{
 "cells": [
  {
   "cell_type": "markdown",
   "id": "c11581c7-beb1-4360-b0a8-524271c5daf0",
   "metadata": {},
   "source": [
    "# Selenium\n",
    "-   x\n",
    "-   "
   ]
  },
  {
   "cell_type": "code",
   "execution_count": 4,
   "id": "ca62ed04-52be-410a-9825-b1fc6f1395e0",
   "metadata": {},
   "outputs": [],
   "source": [
    "#!pip install selenium"
   ]
  },
  {
   "cell_type": "code",
   "execution_count": 5,
   "id": "56417a58-0294-4e4c-9aa6-e6fac0e0931f",
   "metadata": {},
   "outputs": [],
   "source": [
    "import selenium"
   ]
  },
  {
   "cell_type": "code",
   "execution_count": 7,
   "id": "d42422c0-c2fa-4523-a248-52b845f3c649",
   "metadata": {},
   "outputs": [
    {
     "data": {
      "text/plain": [
       "'4.19.0'"
      ]
     },
     "execution_count": 7,
     "metadata": {},
     "output_type": "execute_result"
    }
   ],
   "source": [
    "selenium.__version__\n",
    "# > 4.11  update if reqd"
   ]
  },
  {
   "cell_type": "code",
   "execution_count": 8,
   "id": "19dbca05-4b13-40f5-a9bf-ee744192b9af",
   "metadata": {},
   "outputs": [],
   "source": [
    "from selenium import webdriver"
   ]
  },
  {
   "cell_type": "code",
   "execution_count": 9,
   "id": "99b8231a-1220-44bc-b6fd-6d4402dba9f0",
   "metadata": {},
   "outputs": [],
   "source": [
    "from selenium.webdriver.chrome.service import Service"
   ]
  },
  {
   "cell_type": "code",
   "execution_count": 10,
   "id": "c6e26e43-bcc4-4ef8-baec-0f862d988417",
   "metadata": {},
   "outputs": [],
   "source": [
    "service = Service()"
   ]
  },
  {
   "cell_type": "code",
   "execution_count": 11,
   "id": "fd50348b-bfe9-4693-bb7d-6bd815e0aa45",
   "metadata": {},
   "outputs": [],
   "source": [
    "options = webdriver.ChromeOptions()"
   ]
  },
  {
   "cell_type": "code",
   "execution_count": 12,
   "id": "1707d63e-9ea4-4e7c-8d8c-325e2e0e36e2",
   "metadata": {},
   "outputs": [],
   "source": [
    "driver = webdriver.Chrome(service =service, options=options)"
   ]
  },
  {
   "cell_type": "code",
   "execution_count": 13,
   "id": "9a36d506-3e61-4c70-a10e-a135866b3b82",
   "metadata": {},
   "outputs": [],
   "source": [
    "#this works fine"
   ]
  },
  {
   "cell_type": "code",
   "execution_count": null,
   "id": "65a42f0f-ef3d-4a41-bd89-632051513682",
   "metadata": {},
   "outputs": [],
   "source": []
  }
 ],
 "metadata": {
  "kernelspec": {
   "display_name": "Python 3 (ipykernel)",
   "language": "python",
   "name": "python3"
  },
  "language_info": {
   "codemirror_mode": {
    "name": "ipython",
    "version": 3
   },
   "file_extension": ".py",
   "mimetype": "text/x-python",
   "name": "python",
   "nbconvert_exporter": "python",
   "pygments_lexer": "ipython3",
   "version": "3.11.8"
  }
 },
 "nbformat": 4,
 "nbformat_minor": 5
}
