{
 "cells": [
  {
   "cell_type": "markdown",
   "id": "04fa1124-0dfb-4d43-b1e1-dc145e82c28a",
   "metadata": {},
   "source": [
    "# Jan 2025\n",
    "- Functions\n",
    "    - https://www.linkedin.com/feed/update/urn:li:activity:7279874647381159936/"
   ]
  },
  {
   "cell_type": "code",
   "execution_count": 1,
   "id": "2b3b7ab7-f7dd-4e0b-9c0b-23f956c5b0c9",
   "metadata": {
    "tags": []
   },
   "outputs": [],
   "source": [
    "import pandas as pd"
   ]
  },
  {
   "cell_type": "code",
   "execution_count": 2,
   "id": "1517b3d6-9437-4d7e-8130-63259bec3150",
   "metadata": {
    "tags": []
   },
   "outputs": [],
   "source": [
    "from pydataset import data"
   ]
  },
  {
   "cell_type": "code",
   "execution_count": 3,
   "id": "331e49a3-fbef-4925-aa40-2ef00f769123",
   "metadata": {
    "tags": []
   },
   "outputs": [
    {
     "data": {
      "text/html": [
       "<div>\n",
       "<style scoped>\n",
       "    .dataframe tbody tr th:only-of-type {\n",
       "        vertical-align: middle;\n",
       "    }\n",
       "\n",
       "    .dataframe tbody tr th {\n",
       "        vertical-align: top;\n",
       "    }\n",
       "\n",
       "    .dataframe thead th {\n",
       "        text-align: right;\n",
       "    }\n",
       "</style>\n",
       "<table border=\"1\" class=\"dataframe\">\n",
       "  <thead>\n",
       "    <tr style=\"text-align: right;\">\n",
       "      <th></th>\n",
       "      <th>mpg</th>\n",
       "      <th>cyl</th>\n",
       "      <th>disp</th>\n",
       "      <th>hp</th>\n",
       "      <th>drat</th>\n",
       "      <th>wt</th>\n",
       "      <th>qsec</th>\n",
       "      <th>vs</th>\n",
       "      <th>am</th>\n",
       "      <th>gear</th>\n",
       "      <th>carb</th>\n",
       "    </tr>\n",
       "  </thead>\n",
       "  <tbody>\n",
       "    <tr>\n",
       "      <th>Mazda RX4</th>\n",
       "      <td>21.0</td>\n",
       "      <td>6</td>\n",
       "      <td>160.0</td>\n",
       "      <td>110</td>\n",
       "      <td>3.90</td>\n",
       "      <td>2.620</td>\n",
       "      <td>16.46</td>\n",
       "      <td>0</td>\n",
       "      <td>1</td>\n",
       "      <td>4</td>\n",
       "      <td>4</td>\n",
       "    </tr>\n",
       "    <tr>\n",
       "      <th>Mazda RX4 Wag</th>\n",
       "      <td>21.0</td>\n",
       "      <td>6</td>\n",
       "      <td>160.0</td>\n",
       "      <td>110</td>\n",
       "      <td>3.90</td>\n",
       "      <td>2.875</td>\n",
       "      <td>17.02</td>\n",
       "      <td>0</td>\n",
       "      <td>1</td>\n",
       "      <td>4</td>\n",
       "      <td>4</td>\n",
       "    </tr>\n",
       "    <tr>\n",
       "      <th>Datsun 710</th>\n",
       "      <td>22.8</td>\n",
       "      <td>4</td>\n",
       "      <td>108.0</td>\n",
       "      <td>93</td>\n",
       "      <td>3.85</td>\n",
       "      <td>2.320</td>\n",
       "      <td>18.61</td>\n",
       "      <td>1</td>\n",
       "      <td>1</td>\n",
       "      <td>4</td>\n",
       "      <td>1</td>\n",
       "    </tr>\n",
       "    <tr>\n",
       "      <th>Hornet 4 Drive</th>\n",
       "      <td>21.4</td>\n",
       "      <td>6</td>\n",
       "      <td>258.0</td>\n",
       "      <td>110</td>\n",
       "      <td>3.08</td>\n",
       "      <td>3.215</td>\n",
       "      <td>19.44</td>\n",
       "      <td>1</td>\n",
       "      <td>0</td>\n",
       "      <td>3</td>\n",
       "      <td>1</td>\n",
       "    </tr>\n",
       "    <tr>\n",
       "      <th>Hornet Sportabout</th>\n",
       "      <td>18.7</td>\n",
       "      <td>8</td>\n",
       "      <td>360.0</td>\n",
       "      <td>175</td>\n",
       "      <td>3.15</td>\n",
       "      <td>3.440</td>\n",
       "      <td>17.02</td>\n",
       "      <td>0</td>\n",
       "      <td>0</td>\n",
       "      <td>3</td>\n",
       "      <td>2</td>\n",
       "    </tr>\n",
       "  </tbody>\n",
       "</table>\n",
       "</div>"
      ],
      "text/plain": [
       "                    mpg  cyl   disp   hp  drat     wt   qsec  vs  am  gear  \\\n",
       "Mazda RX4          21.0    6  160.0  110  3.90  2.620  16.46   0   1     4   \n",
       "Mazda RX4 Wag      21.0    6  160.0  110  3.90  2.875  17.02   0   1     4   \n",
       "Datsun 710         22.8    4  108.0   93  3.85  2.320  18.61   1   1     4   \n",
       "Hornet 4 Drive     21.4    6  258.0  110  3.08  3.215  19.44   1   0     3   \n",
       "Hornet Sportabout  18.7    8  360.0  175  3.15  3.440  17.02   0   0     3   \n",
       "\n",
       "                   carb  \n",
       "Mazda RX4             4  \n",
       "Mazda RX4 Wag         4  \n",
       "Datsun 710            1  \n",
       "Hornet 4 Drive        1  \n",
       "Hornet Sportabout     2  "
      ]
     },
     "execution_count": 3,
     "metadata": {},
     "output_type": "execute_result"
    }
   ],
   "source": [
    "mtcars = data('mtcars')\n",
    "mtcars.head()"
   ]
  },
  {
   "cell_type": "code",
   "execution_count": 8,
   "id": "e777348d-39e3-4872-ae54-a809b375d769",
   "metadata": {
    "tags": []
   },
   "outputs": [],
   "source": [
    "label = ['Q1','Q2', 'Q3','Q4']"
   ]
  },
  {
   "cell_type": "code",
   "execution_count": 9,
   "id": "34b3eba4-6a79-4dd4-bcf6-fe42b96da552",
   "metadata": {
    "tags": []
   },
   "outputs": [],
   "source": [
    "df = mtcars"
   ]
  },
  {
   "cell_type": "code",
   "execution_count": 12,
   "id": "f842beca-7122-49e0-a86a-f4b8690afa57",
   "metadata": {
    "tags": []
   },
   "outputs": [],
   "source": [
    "df['mpg_level'] = pd.qcut(df['mpg'], q=4, labels=label)\n",
    "df['wt_level'] = pd.qcut(df['wt'], q=4, labels=label)\n",
    "df['hp_level'] = pd.qcut(df['hp'], q=4, labels=label)"
   ]
  },
  {
   "cell_type": "code",
   "execution_count": 16,
   "id": "519ca48a-2f06-434c-9d58-adf3cb19be6e",
   "metadata": {
    "tags": []
   },
   "outputs": [
    {
     "data": {
      "text/html": [
       "<div>\n",
       "<style scoped>\n",
       "    .dataframe tbody tr th:only-of-type {\n",
       "        vertical-align: middle;\n",
       "    }\n",
       "\n",
       "    .dataframe tbody tr th {\n",
       "        vertical-align: top;\n",
       "    }\n",
       "\n",
       "    .dataframe thead th {\n",
       "        text-align: right;\n",
       "    }\n",
       "</style>\n",
       "<table border=\"1\" class=\"dataframe\">\n",
       "  <thead>\n",
       "    <tr style=\"text-align: right;\">\n",
       "      <th></th>\n",
       "      <th>mpg</th>\n",
       "      <th>cyl</th>\n",
       "      <th>disp</th>\n",
       "      <th>hp</th>\n",
       "      <th>drat</th>\n",
       "      <th>wt</th>\n",
       "      <th>qsec</th>\n",
       "      <th>vs</th>\n",
       "      <th>am</th>\n",
       "      <th>gear</th>\n",
       "      <th>carb</th>\n",
       "      <th>mpg_level</th>\n",
       "      <th>wt_level</th>\n",
       "      <th>hp_level</th>\n",
       "    </tr>\n",
       "  </thead>\n",
       "  <tbody>\n",
       "    <tr>\n",
       "      <th>Mazda RX4</th>\n",
       "      <td>21.0</td>\n",
       "      <td>6</td>\n",
       "      <td>160.0</td>\n",
       "      <td>110</td>\n",
       "      <td>3.90</td>\n",
       "      <td>2.620</td>\n",
       "      <td>16.46</td>\n",
       "      <td>0</td>\n",
       "      <td>1</td>\n",
       "      <td>4</td>\n",
       "      <td>4</td>\n",
       "      <td>Q3</td>\n",
       "      <td>Q2</td>\n",
       "      <td>Q2</td>\n",
       "    </tr>\n",
       "    <tr>\n",
       "      <th>Mazda RX4 Wag</th>\n",
       "      <td>21.0</td>\n",
       "      <td>6</td>\n",
       "      <td>160.0</td>\n",
       "      <td>110</td>\n",
       "      <td>3.90</td>\n",
       "      <td>2.875</td>\n",
       "      <td>17.02</td>\n",
       "      <td>0</td>\n",
       "      <td>1</td>\n",
       "      <td>4</td>\n",
       "      <td>4</td>\n",
       "      <td>Q3</td>\n",
       "      <td>Q2</td>\n",
       "      <td>Q2</td>\n",
       "    </tr>\n",
       "    <tr>\n",
       "      <th>Datsun 710</th>\n",
       "      <td>22.8</td>\n",
       "      <td>4</td>\n",
       "      <td>108.0</td>\n",
       "      <td>93</td>\n",
       "      <td>3.85</td>\n",
       "      <td>2.320</td>\n",
       "      <td>18.61</td>\n",
       "      <td>1</td>\n",
       "      <td>1</td>\n",
       "      <td>4</td>\n",
       "      <td>1</td>\n",
       "      <td>Q3</td>\n",
       "      <td>Q1</td>\n",
       "      <td>Q1</td>\n",
       "    </tr>\n",
       "    <tr>\n",
       "      <th>Hornet 4 Drive</th>\n",
       "      <td>21.4</td>\n",
       "      <td>6</td>\n",
       "      <td>258.0</td>\n",
       "      <td>110</td>\n",
       "      <td>3.08</td>\n",
       "      <td>3.215</td>\n",
       "      <td>19.44</td>\n",
       "      <td>1</td>\n",
       "      <td>0</td>\n",
       "      <td>3</td>\n",
       "      <td>1</td>\n",
       "      <td>Q3</td>\n",
       "      <td>Q2</td>\n",
       "      <td>Q2</td>\n",
       "    </tr>\n",
       "    <tr>\n",
       "      <th>Hornet Sportabout</th>\n",
       "      <td>18.7</td>\n",
       "      <td>8</td>\n",
       "      <td>360.0</td>\n",
       "      <td>175</td>\n",
       "      <td>3.15</td>\n",
       "      <td>3.440</td>\n",
       "      <td>17.02</td>\n",
       "      <td>0</td>\n",
       "      <td>0</td>\n",
       "      <td>3</td>\n",
       "      <td>2</td>\n",
       "      <td>Q2</td>\n",
       "      <td>Q3</td>\n",
       "      <td>Q3</td>\n",
       "    </tr>\n",
       "  </tbody>\n",
       "</table>\n",
       "</div>"
      ],
      "text/plain": [
       "                    mpg  cyl   disp   hp  drat     wt   qsec  vs  am  gear  \\\n",
       "Mazda RX4          21.0    6  160.0  110  3.90  2.620  16.46   0   1     4   \n",
       "Mazda RX4 Wag      21.0    6  160.0  110  3.90  2.875  17.02   0   1     4   \n",
       "Datsun 710         22.8    4  108.0   93  3.85  2.320  18.61   1   1     4   \n",
       "Hornet 4 Drive     21.4    6  258.0  110  3.08  3.215  19.44   1   0     3   \n",
       "Hornet Sportabout  18.7    8  360.0  175  3.15  3.440  17.02   0   0     3   \n",
       "\n",
       "                   carb mpg_level wt_level hp_level  \n",
       "Mazda RX4             4        Q3       Q2       Q2  \n",
       "Mazda RX4 Wag         4        Q3       Q2       Q2  \n",
       "Datsun 710            1        Q3       Q1       Q1  \n",
       "Hornet 4 Drive        1        Q3       Q2       Q2  \n",
       "Hornet Sportabout     2        Q2       Q3       Q3  "
      ]
     },
     "execution_count": 16,
     "metadata": {},
     "output_type": "execute_result"
    }
   ],
   "source": [
    "df.head()"
   ]
  },
  {
   "cell_type": "code",
   "execution_count": 14,
   "id": "5b81296c-40d1-41a9-9909-f84d2ec706d2",
   "metadata": {
    "tags": []
   },
   "outputs": [],
   "source": [
    "# function tools\n",
    "from functools import partial"
   ]
  },
  {
   "cell_type": "code",
   "execution_count": 15,
   "id": "ec313e65-a4e8-46d5-b809-53864b12a7c6",
   "metadata": {
    "tags": []
   },
   "outputs": [
    {
     "data": {
      "text/plain": [
       "functools.partial(<function qcut at 0x160bba160>, q=4, labels=['Q1', 'Q2', 'Q3', 'Q4'])"
      ]
     },
     "execution_count": 15,
     "metadata": {},
     "output_type": "execute_result"
    }
   ],
   "source": [
    "quartile_bin = partial(pd.qcut, q=4, labels = label)\n",
    "quartile_bin"
   ]
  },
  {
   "cell_type": "code",
   "execution_count": 17,
   "id": "d7621081-04ce-4dd4-abe2-2d8ed342c258",
   "metadata": {
    "tags": []
   },
   "outputs": [],
   "source": [
    "df['mpg_level2'] = quartile_bin(df['mpg'])\n",
    "df['wt_level2']  = quartile_bin(df['wt'])\n",
    "df['hp_level2']  = quartile_bin(df['hp'])"
   ]
  },
  {
   "cell_type": "code",
   "execution_count": 19,
   "id": "f2df66f8-4ec7-40d8-a610-70f63f707bb2",
   "metadata": {
    "tags": []
   },
   "outputs": [
    {
     "data": {
      "text/html": [
       "<div>\n",
       "<style scoped>\n",
       "    .dataframe tbody tr th:only-of-type {\n",
       "        vertical-align: middle;\n",
       "    }\n",
       "\n",
       "    .dataframe tbody tr th {\n",
       "        vertical-align: top;\n",
       "    }\n",
       "\n",
       "    .dataframe thead th {\n",
       "        text-align: right;\n",
       "    }\n",
       "</style>\n",
       "<table border=\"1\" class=\"dataframe\">\n",
       "  <thead>\n",
       "    <tr style=\"text-align: right;\">\n",
       "      <th></th>\n",
       "      <th>mpg</th>\n",
       "      <th>cyl</th>\n",
       "      <th>disp</th>\n",
       "      <th>hp</th>\n",
       "      <th>drat</th>\n",
       "      <th>wt</th>\n",
       "      <th>qsec</th>\n",
       "      <th>vs</th>\n",
       "      <th>am</th>\n",
       "      <th>gear</th>\n",
       "      <th>carb</th>\n",
       "      <th>mpg_level</th>\n",
       "      <th>wt_level</th>\n",
       "      <th>hp_level</th>\n",
       "      <th>mpg_level2</th>\n",
       "      <th>wt_level2</th>\n",
       "      <th>hp_level2</th>\n",
       "    </tr>\n",
       "  </thead>\n",
       "  <tbody>\n",
       "    <tr>\n",
       "      <th>Mazda RX4</th>\n",
       "      <td>21.0</td>\n",
       "      <td>6</td>\n",
       "      <td>160.0</td>\n",
       "      <td>110</td>\n",
       "      <td>3.90</td>\n",
       "      <td>2.620</td>\n",
       "      <td>16.46</td>\n",
       "      <td>0</td>\n",
       "      <td>1</td>\n",
       "      <td>4</td>\n",
       "      <td>4</td>\n",
       "      <td>Q3</td>\n",
       "      <td>Q2</td>\n",
       "      <td>Q2</td>\n",
       "      <td>Q3</td>\n",
       "      <td>Q2</td>\n",
       "      <td>Q2</td>\n",
       "    </tr>\n",
       "    <tr>\n",
       "      <th>Mazda RX4 Wag</th>\n",
       "      <td>21.0</td>\n",
       "      <td>6</td>\n",
       "      <td>160.0</td>\n",
       "      <td>110</td>\n",
       "      <td>3.90</td>\n",
       "      <td>2.875</td>\n",
       "      <td>17.02</td>\n",
       "      <td>0</td>\n",
       "      <td>1</td>\n",
       "      <td>4</td>\n",
       "      <td>4</td>\n",
       "      <td>Q3</td>\n",
       "      <td>Q2</td>\n",
       "      <td>Q2</td>\n",
       "      <td>Q3</td>\n",
       "      <td>Q2</td>\n",
       "      <td>Q2</td>\n",
       "    </tr>\n",
       "    <tr>\n",
       "      <th>Datsun 710</th>\n",
       "      <td>22.8</td>\n",
       "      <td>4</td>\n",
       "      <td>108.0</td>\n",
       "      <td>93</td>\n",
       "      <td>3.85</td>\n",
       "      <td>2.320</td>\n",
       "      <td>18.61</td>\n",
       "      <td>1</td>\n",
       "      <td>1</td>\n",
       "      <td>4</td>\n",
       "      <td>1</td>\n",
       "      <td>Q3</td>\n",
       "      <td>Q1</td>\n",
       "      <td>Q1</td>\n",
       "      <td>Q3</td>\n",
       "      <td>Q1</td>\n",
       "      <td>Q1</td>\n",
       "    </tr>\n",
       "    <tr>\n",
       "      <th>Hornet 4 Drive</th>\n",
       "      <td>21.4</td>\n",
       "      <td>6</td>\n",
       "      <td>258.0</td>\n",
       "      <td>110</td>\n",
       "      <td>3.08</td>\n",
       "      <td>3.215</td>\n",
       "      <td>19.44</td>\n",
       "      <td>1</td>\n",
       "      <td>0</td>\n",
       "      <td>3</td>\n",
       "      <td>1</td>\n",
       "      <td>Q3</td>\n",
       "      <td>Q2</td>\n",
       "      <td>Q2</td>\n",
       "      <td>Q3</td>\n",
       "      <td>Q2</td>\n",
       "      <td>Q2</td>\n",
       "    </tr>\n",
       "    <tr>\n",
       "      <th>Hornet Sportabout</th>\n",
       "      <td>18.7</td>\n",
       "      <td>8</td>\n",
       "      <td>360.0</td>\n",
       "      <td>175</td>\n",
       "      <td>3.15</td>\n",
       "      <td>3.440</td>\n",
       "      <td>17.02</td>\n",
       "      <td>0</td>\n",
       "      <td>0</td>\n",
       "      <td>3</td>\n",
       "      <td>2</td>\n",
       "      <td>Q2</td>\n",
       "      <td>Q3</td>\n",
       "      <td>Q3</td>\n",
       "      <td>Q2</td>\n",
       "      <td>Q3</td>\n",
       "      <td>Q3</td>\n",
       "    </tr>\n",
       "  </tbody>\n",
       "</table>\n",
       "</div>"
      ],
      "text/plain": [
       "                    mpg  cyl   disp   hp  drat     wt   qsec  vs  am  gear  \\\n",
       "Mazda RX4          21.0    6  160.0  110  3.90  2.620  16.46   0   1     4   \n",
       "Mazda RX4 Wag      21.0    6  160.0  110  3.90  2.875  17.02   0   1     4   \n",
       "Datsun 710         22.8    4  108.0   93  3.85  2.320  18.61   1   1     4   \n",
       "Hornet 4 Drive     21.4    6  258.0  110  3.08  3.215  19.44   1   0     3   \n",
       "Hornet Sportabout  18.7    8  360.0  175  3.15  3.440  17.02   0   0     3   \n",
       "\n",
       "                   carb mpg_level wt_level hp_level mpg_level2 wt_level2  \\\n",
       "Mazda RX4             4        Q3       Q2       Q2         Q3        Q2   \n",
       "Mazda RX4 Wag         4        Q3       Q2       Q2         Q3        Q2   \n",
       "Datsun 710            1        Q3       Q1       Q1         Q3        Q1   \n",
       "Hornet 4 Drive        1        Q3       Q2       Q2         Q3        Q2   \n",
       "Hornet Sportabout     2        Q2       Q3       Q3         Q2        Q3   \n",
       "\n",
       "                  hp_level2  \n",
       "Mazda RX4                Q2  \n",
       "Mazda RX4 Wag            Q2  \n",
       "Datsun 710               Q1  \n",
       "Hornet 4 Drive           Q2  \n",
       "Hornet Sportabout        Q3  "
      ]
     },
     "execution_count": 19,
     "metadata": {},
     "output_type": "execute_result"
    }
   ],
   "source": [
    "df.head()"
   ]
  },
  {
   "cell_type": "code",
   "execution_count": 21,
   "id": "10f406e8-87f5-40e0-8f0a-c0deab3cfa33",
   "metadata": {
    "tags": []
   },
   "outputs": [],
   "source": [
    "# Easy to create different binning strategies\n",
    "quintile_bin = partial(pd.qcut, q=5, labels=[\"Bottom\", \"Low\", \"Mid\", \"High\", \"Top\"])"
   ]
  },
  {
   "cell_type": "code",
   "execution_count": 22,
   "id": "703c4c76-a4c0-4e47-8bfd-7ceb51b7cc7d",
   "metadata": {
    "tags": []
   },
   "outputs": [],
   "source": [
    "df['mpg_level3'] = quintile_bin(df['mpg'])\n",
    "df['wt_level3']  = quintile_bin(df['wt'])\n",
    "df['hp_level3']  = quintile_bin(df['hp'])"
   ]
  },
  {
   "cell_type": "code",
   "execution_count": 27,
   "id": "2b90e340-3413-4353-a37f-67624cdd226c",
   "metadata": {
    "tags": []
   },
   "outputs": [
    {
     "data": {
      "text/html": [
       "<div>\n",
       "<style scoped>\n",
       "    .dataframe tbody tr th:only-of-type {\n",
       "        vertical-align: middle;\n",
       "    }\n",
       "\n",
       "    .dataframe tbody tr th {\n",
       "        vertical-align: top;\n",
       "    }\n",
       "\n",
       "    .dataframe thead th {\n",
       "        text-align: right;\n",
       "    }\n",
       "</style>\n",
       "<table border=\"1\" class=\"dataframe\">\n",
       "  <thead>\n",
       "    <tr style=\"text-align: right;\">\n",
       "      <th></th>\n",
       "      <th>mpg_level2</th>\n",
       "      <th>wt_level2</th>\n",
       "      <th>hp_level2</th>\n",
       "      <th>mpg_level3</th>\n",
       "      <th>wt_level3</th>\n",
       "      <th>hp_level3</th>\n",
       "    </tr>\n",
       "  </thead>\n",
       "  <tbody>\n",
       "    <tr>\n",
       "      <th>Mazda RX4</th>\n",
       "      <td>Q3</td>\n",
       "      <td>Q2</td>\n",
       "      <td>Q2</td>\n",
       "      <td>Mid</td>\n",
       "      <td>Low</td>\n",
       "      <td>Low</td>\n",
       "    </tr>\n",
       "    <tr>\n",
       "      <th>Mazda RX4 Wag</th>\n",
       "      <td>Q3</td>\n",
       "      <td>Q2</td>\n",
       "      <td>Q2</td>\n",
       "      <td>Mid</td>\n",
       "      <td>Low</td>\n",
       "      <td>Low</td>\n",
       "    </tr>\n",
       "    <tr>\n",
       "      <th>Datsun 710</th>\n",
       "      <td>Q3</td>\n",
       "      <td>Q1</td>\n",
       "      <td>Q1</td>\n",
       "      <td>High</td>\n",
       "      <td>Bottom</td>\n",
       "      <td>Bottom</td>\n",
       "    </tr>\n",
       "    <tr>\n",
       "      <th>Hornet 4 Drive</th>\n",
       "      <td>Q3</td>\n",
       "      <td>Q2</td>\n",
       "      <td>Q2</td>\n",
       "      <td>High</td>\n",
       "      <td>Mid</td>\n",
       "      <td>Low</td>\n",
       "    </tr>\n",
       "    <tr>\n",
       "      <th>Hornet Sportabout</th>\n",
       "      <td>Q2</td>\n",
       "      <td>Q3</td>\n",
       "      <td>Q3</td>\n",
       "      <td>Mid</td>\n",
       "      <td>Mid</td>\n",
       "      <td>High</td>\n",
       "    </tr>\n",
       "  </tbody>\n",
       "</table>\n",
       "</div>"
      ],
      "text/plain": [
       "                  mpg_level2 wt_level2 hp_level2 mpg_level3 wt_level3  \\\n",
       "Mazda RX4                 Q3        Q2        Q2        Mid       Low   \n",
       "Mazda RX4 Wag             Q3        Q2        Q2        Mid       Low   \n",
       "Datsun 710                Q3        Q1        Q1       High    Bottom   \n",
       "Hornet 4 Drive            Q3        Q2        Q2       High       Mid   \n",
       "Hornet Sportabout         Q2        Q3        Q3        Mid       Mid   \n",
       "\n",
       "                  hp_level3  \n",
       "Mazda RX4               Low  \n",
       "Mazda RX4 Wag           Low  \n",
       "Datsun 710           Bottom  \n",
       "Hornet 4 Drive          Low  \n",
       "Hornet Sportabout      High  "
      ]
     },
     "execution_count": 27,
     "metadata": {},
     "output_type": "execute_result"
    }
   ],
   "source": [
    "df[['mpg_level2','wt_level2', 'hp_level2', 'mpg_level3','wt_level3', 'hp_level3']].head()"
   ]
  },
  {
   "cell_type": "markdown",
   "id": "a18f77fd-8dd8-4684-8718-465cc8dd2273",
   "metadata": {
    "tags": []
   },
   "source": [
    "## Password and user name safe in python\n",
    "- https://codecut.ai/store-sensitive-information-securely-in-python-with-env-files\n",
    "- https://github.com/theskumar/python-dotenv/tree/main\n",
    "- Got to Project Root Dir\n",
    "    - $ pip install \"python-dotenv[cli]\"\n",
    "    - $ dotenv set USER foo\n",
    "    - $ dotenv set EMAIL foo@example.org\n",
    "    - $ dotenv list\n",
    "    - USER=foo\n",
    "    - EMAIL=foo@example.org"
   ]
  },
  {
   "cell_type": "code",
   "execution_count": 55,
   "id": "15adcfa7-d218-4a0b-bb06-723e261d9b45",
   "metadata": {
    "tags": []
   },
   "outputs": [],
   "source": [
    "from dotenv import load_dotenv"
   ]
  },
  {
   "cell_type": "code",
   "execution_count": 56,
   "id": "a1ef6153-f76f-4b04-bcc4-8244ee18516b",
   "metadata": {
    "tags": []
   },
   "outputs": [],
   "source": [
    "import os"
   ]
  },
  {
   "cell_type": "code",
   "execution_count": 57,
   "id": "a04d551c-40a0-48bc-9bd8-890f8ef5e50f",
   "metadata": {
    "tags": []
   },
   "outputs": [
    {
     "name": "stdout",
     "output_type": "stream",
     "text": [
      "The dotenv extension is already loaded. To reload it, use:\n",
      "  %reload_ext dotenv\n"
     ]
    }
   ],
   "source": [
    "%load_ext dotenv"
   ]
  },
  {
   "cell_type": "code",
   "execution_count": 58,
   "id": "45184262-e0e8-452c-ac9f-2501bce012a5",
   "metadata": {
    "tags": []
   },
   "outputs": [],
   "source": [
    "%dotenv"
   ]
  },
  {
   "cell_type": "code",
   "execution_count": 59,
   "id": "1c2174e3-0e5b-428c-b0ae-19d1e0ee4dd8",
   "metadata": {
    "tags": []
   },
   "outputs": [],
   "source": [
    "PASSWORD = os.getenv('PASSWORD')\n",
    "DOMAIN = os.getenv('DOMAIN')\n",
    "USERNAME = os.getenv('USER')\n",
    "EMAIL = os.getenv('EMAIL')"
   ]
  },
  {
   "cell_type": "code",
   "execution_count": 60,
   "id": "799c556f-ee6f-4e95-829b-ad8049b9b146",
   "metadata": {
    "tags": []
   },
   "outputs": [
    {
     "name": "stdout",
     "output_type": "stream",
     "text": [
      "foo@example.org du amity.edu\n"
     ]
    }
   ],
   "source": [
    "print(EMAIL, USERNAME, DOMAIN)"
   ]
  },
  {
   "cell_type": "code",
   "execution_count": 50,
   "id": "3361dce0-baa2-41e1-892f-87150176e769",
   "metadata": {
    "tags": []
   },
   "outputs": [
    {
     "name": "stdout",
     "output_type": "stream",
     "text": [
      "du\n"
     ]
    }
   ],
   "source": [
    "print(USERNAME)"
   ]
  },
  {
   "cell_type": "markdown",
   "id": "933d366d-2d33-4814-a233-aaf48ea129b0",
   "metadata": {},
   "source": [
    "## Nested IF : Dictionaries\n",
    "-  https://codecut.ai/dict-get-get-the-default-value-of-a-dictionary-if-a-key-doesnt-exist"
   ]
  },
  {
   "cell_type": "code",
   "execution_count": 63,
   "id": "e246ac65-a123-4788-a296-9e73eb8611fd",
   "metadata": {
    "tags": []
   },
   "outputs": [],
   "source": [
    "# Checking dictionary values with multiple if-else\n",
    "user_data = {\"name\": \"Alice\", \"age\": 30}\n"
   ]
  },
  {
   "cell_type": "code",
   "execution_count": 62,
   "id": "1cca4cbf-5df9-4158-a23c-28643a9924a8",
   "metadata": {
    "tags": []
   },
   "outputs": [
    {
     "data": {
      "text/plain": [
       "{'name': 'Alice', 'age': 30}"
      ]
     },
     "execution_count": 62,
     "metadata": {},
     "output_type": "execute_result"
    }
   ],
   "source": [
    "user_data"
   ]
  },
  {
   "cell_type": "code",
   "execution_count": 64,
   "id": "3eb43e79-b4d1-4d09-a3d7-1616706396f9",
   "metadata": {
    "tags": []
   },
   "outputs": [],
   "source": [
    "if \"name\" in user_data:\n",
    "    name = user_data[\"name\"]\n",
    "else:\n",
    "    name = \"Unknown\""
   ]
  },
  {
   "cell_type": "code",
   "execution_count": 67,
   "id": "88b36748-8575-485b-8793-1801cb1dfc96",
   "metadata": {
    "tags": []
   },
   "outputs": [],
   "source": [
    "if \"email\" in user_data:\n",
    "    email = user_data[\"email\"]\n",
    "else:\n",
    "    email = \"no-email@example.com\""
   ]
  },
  {
   "cell_type": "code",
   "execution_count": 68,
   "id": "86de6b75-ed31-47c9-b36e-dde92f20cae6",
   "metadata": {
    "tags": []
   },
   "outputs": [
    {
     "name": "stdout",
     "output_type": "stream",
     "text": [
      "name='Alice'\n"
     ]
    }
   ],
   "source": [
    "print(f\"{name=}\")"
   ]
  },
  {
   "cell_type": "code",
   "execution_count": 69,
   "id": "f56048b1-2da1-4853-bcae-24c343a691e2",
   "metadata": {
    "tags": []
   },
   "outputs": [
    {
     "name": "stdout",
     "output_type": "stream",
     "text": [
      "email='no-email@example.com'\n"
     ]
    }
   ],
   "source": [
    "print(f\"{email=}\")"
   ]
  },
  {
   "cell_type": "code",
   "execution_count": 70,
   "id": "3f16796a-2ba8-41c3-8ca4-9ba4eb76c6a0",
   "metadata": {
    "tags": []
   },
   "outputs": [],
   "source": [
    "# Concise way to handle missing values\n",
    "name = user_data.get(\"name\", \"Unknown\")\n",
    "age = user_data.get(\"age\", 0)\n",
    "email = user_data.get(\"email\", \"no-email@example.com\")"
   ]
  },
  {
   "cell_type": "code",
   "execution_count": 71,
   "id": "f97155d7-5601-47e2-a7a7-01dbfeeca926",
   "metadata": {
    "tags": []
   },
   "outputs": [
    {
     "name": "stdout",
     "output_type": "stream",
     "text": [
      "name='Alice'\n",
      "age=30\n",
      "email='no-email@example.com'\n"
     ]
    }
   ],
   "source": [
    "print(f\"{name=}\")\n",
    "print(f\"{age=}\")\n",
    "print(f\"{email=}\")"
   ]
  },
  {
   "cell_type": "code",
   "execution_count": null,
   "id": "3b0fccb9-9e46-4806-a49c-96703e328a75",
   "metadata": {},
   "outputs": [],
   "source": []
  }
 ],
 "metadata": {
  "kernelspec": {
   "display_name": "Python 3 (ipykernel)",
   "language": "python",
   "name": "python3"
  },
  "language_info": {
   "codemirror_mode": {
    "name": "ipython",
    "version": 3
   },
   "file_extension": ".py",
   "mimetype": "text/x-python",
   "name": "python",
   "nbconvert_exporter": "python",
   "pygments_lexer": "ipython3",
   "version": "3.11.5"
  }
 },
 "nbformat": 4,
 "nbformat_minor": 5
}
