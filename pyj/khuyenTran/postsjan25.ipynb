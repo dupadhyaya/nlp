{
 "cells": [
  {
   "cell_type": "markdown",
   "id": "04fa1124-0dfb-4d43-b1e1-dc145e82c28a",
   "metadata": {},
   "source": [
    "# Jan 2025\n",
    "- Functions\n",
    "    - https://www.linkedin.com/feed/update/urn:li:activity:7279874647381159936/"
   ]
  },
  {
   "cell_type": "code",
   "execution_count": null,
   "id": "2b3b7ab7-f7dd-4e0b-9c0b-23f956c5b0c9",
   "metadata": {
    "tags": []
   },
   "outputs": [],
   "source": [
    "import pandas as pd"
   ]
  },
  {
   "cell_type": "code",
   "execution_count": null,
   "id": "1517b3d6-9437-4d7e-8130-63259bec3150",
   "metadata": {
    "tags": []
   },
   "outputs": [],
   "source": [
    "from pydataset import data"
   ]
  },
  {
   "cell_type": "code",
   "execution_count": null,
   "id": "331e49a3-fbef-4925-aa40-2ef00f769123",
   "metadata": {
    "tags": []
   },
   "outputs": [],
   "source": [
    "mtcars = data('mtcars')\n",
    "mtcars.head()"
   ]
  },
  {
   "cell_type": "code",
   "execution_count": null,
   "id": "e777348d-39e3-4872-ae54-a809b375d769",
   "metadata": {
    "tags": []
   },
   "outputs": [],
   "source": [
    "label = ['Q1','Q2', 'Q3','Q4']"
   ]
  },
  {
   "cell_type": "code",
   "execution_count": null,
   "id": "34b3eba4-6a79-4dd4-bcf6-fe42b96da552",
   "metadata": {
    "tags": []
   },
   "outputs": [],
   "source": [
    "df = mtcars"
   ]
  },
  {
   "cell_type": "code",
   "execution_count": null,
   "id": "f842beca-7122-49e0-a86a-f4b8690afa57",
   "metadata": {
    "tags": []
   },
   "outputs": [],
   "source": [
    "df['mpg_level'] = pd.qcut(df['mpg'], q=4, labels=label)\n",
    "df['wt_level'] = pd.qcut(df['wt'], q=4, labels=label)\n",
    "df['hp_level'] = pd.qcut(df['hp'], q=4, labels=label)"
   ]
  },
  {
   "cell_type": "code",
   "execution_count": null,
   "id": "519ca48a-2f06-434c-9d58-adf3cb19be6e",
   "metadata": {
    "tags": []
   },
   "outputs": [],
   "source": [
    "df.head()"
   ]
  },
  {
   "cell_type": "code",
   "execution_count": null,
   "id": "5b81296c-40d1-41a9-9909-f84d2ec706d2",
   "metadata": {
    "tags": []
   },
   "outputs": [],
   "source": [
    "# function tools\n",
    "from functools import partial"
   ]
  },
  {
   "cell_type": "code",
   "execution_count": null,
   "id": "ec313e65-a4e8-46d5-b809-53864b12a7c6",
   "metadata": {
    "tags": []
   },
   "outputs": [],
   "source": [
    "quartile_bin = partial(pd.qcut, q=4, labels = label)\n",
    "quartile_bin"
   ]
  },
  {
   "cell_type": "code",
   "execution_count": null,
   "id": "d7621081-04ce-4dd4-abe2-2d8ed342c258",
   "metadata": {
    "tags": []
   },
   "outputs": [],
   "source": [
    "df['mpg_level2'] = quartile_bin(df['mpg'])\n",
    "df['wt_level2']  = quartile_bin(df['wt'])\n",
    "df['hp_level2']  = quartile_bin(df['hp'])"
   ]
  },
  {
   "cell_type": "code",
   "execution_count": null,
   "id": "f2df66f8-4ec7-40d8-a610-70f63f707bb2",
   "metadata": {
    "tags": []
   },
   "outputs": [],
   "source": [
    "df.head()"
   ]
  },
  {
   "cell_type": "code",
   "execution_count": null,
   "id": "10f406e8-87f5-40e0-8f0a-c0deab3cfa33",
   "metadata": {
    "tags": []
   },
   "outputs": [],
   "source": [
    "# Easy to create different binning strategies\n",
    "quintile_bin = partial(pd.qcut, q=5, labels=[\"Bottom\", \"Low\", \"Mid\", \"High\", \"Top\"])"
   ]
  },
  {
   "cell_type": "code",
   "execution_count": null,
   "id": "703c4c76-a4c0-4e47-8bfd-7ceb51b7cc7d",
   "metadata": {
    "tags": []
   },
   "outputs": [],
   "source": [
    "df['mpg_level3'] = quintile_bin(df['mpg'])\n",
    "df['wt_level3']  = quintile_bin(df['wt'])\n",
    "df['hp_level3']  = quintile_bin(df['hp'])"
   ]
  },
  {
   "cell_type": "code",
   "execution_count": null,
   "id": "2b90e340-3413-4353-a37f-67624cdd226c",
   "metadata": {
    "tags": []
   },
   "outputs": [],
   "source": [
    "df[['mpg_level2','wt_level2', 'hp_level2', 'mpg_level3','wt_level3', 'hp_level3']].head()"
   ]
  },
  {
   "cell_type": "markdown",
   "id": "a18f77fd-8dd8-4684-8718-465cc8dd2273",
   "metadata": {
    "tags": []
   },
   "source": [
    "## Password and user name safe in python\n",
    "- https://codecut.ai/store-sensitive-information-securely-in-python-with-env-files\n",
    "- https://github.com/theskumar/python-dotenv/tree/main\n",
    "- Got to Project Root Dir\n",
    "    - $ pip install \"python-dotenv[cli]\"\n",
    "    - $ dotenv set USER foo\n",
    "    - $ dotenv set EMAIL foo@example.org\n",
    "    - $ dotenv list\n",
    "    - USER=foo\n",
    "    - EMAIL=foo@example.org"
   ]
  },
  {
   "cell_type": "code",
   "execution_count": null,
   "id": "15adcfa7-d218-4a0b-bb06-723e261d9b45",
   "metadata": {
    "tags": []
   },
   "outputs": [],
   "source": [
    "from dotenv import load_dotenv"
   ]
  },
  {
   "cell_type": "code",
   "execution_count": null,
   "id": "a1ef6153-f76f-4b04-bcc4-8244ee18516b",
   "metadata": {
    "tags": []
   },
   "outputs": [],
   "source": [
    "import os"
   ]
  },
  {
   "cell_type": "code",
   "execution_count": null,
   "id": "a04d551c-40a0-48bc-9bd8-890f8ef5e50f",
   "metadata": {
    "tags": []
   },
   "outputs": [],
   "source": [
    "%load_ext dotenv"
   ]
  },
  {
   "cell_type": "code",
   "execution_count": null,
   "id": "45184262-e0e8-452c-ac9f-2501bce012a5",
   "metadata": {
    "tags": []
   },
   "outputs": [],
   "source": [
    "%dotenv"
   ]
  },
  {
   "cell_type": "code",
   "execution_count": null,
   "id": "1c2174e3-0e5b-428c-b0ae-19d1e0ee4dd8",
   "metadata": {
    "tags": []
   },
   "outputs": [],
   "source": [
    "PASSWORD = os.getenv('PASSWORD')\n",
    "DOMAIN = os.getenv('DOMAIN')\n",
    "USERNAME = os.getenv('USER')\n",
    "EMAIL = os.getenv('EMAIL')"
   ]
  },
  {
   "cell_type": "code",
   "execution_count": null,
   "id": "799c556f-ee6f-4e95-829b-ad8049b9b146",
   "metadata": {
    "tags": []
   },
   "outputs": [],
   "source": [
    "print(EMAIL, USERNAME, DOMAIN)"
   ]
  },
  {
   "cell_type": "code",
   "execution_count": null,
   "id": "3361dce0-baa2-41e1-892f-87150176e769",
   "metadata": {
    "tags": []
   },
   "outputs": [],
   "source": [
    "print(USERNAME)"
   ]
  },
  {
   "cell_type": "markdown",
   "id": "933d366d-2d33-4814-a233-aaf48ea129b0",
   "metadata": {},
   "source": [
    "## Nested IF : Dictionaries\n",
    "-  https://codecut.ai/dict-get-get-the-default-value-of-a-dictionary-if-a-key-doesnt-exist"
   ]
  },
  {
   "cell_type": "code",
   "execution_count": null,
   "id": "e246ac65-a123-4788-a296-9e73eb8611fd",
   "metadata": {
    "tags": []
   },
   "outputs": [],
   "source": [
    "# Checking dictionary values with multiple if-else\n",
    "user_data = {\"name\": \"Alice\", \"age\": 30}\n"
   ]
  },
  {
   "cell_type": "code",
   "execution_count": null,
   "id": "1cca4cbf-5df9-4158-a23c-28643a9924a8",
   "metadata": {
    "tags": []
   },
   "outputs": [],
   "source": [
    "user_data"
   ]
  },
  {
   "cell_type": "code",
   "execution_count": null,
   "id": "3eb43e79-b4d1-4d09-a3d7-1616706396f9",
   "metadata": {
    "tags": []
   },
   "outputs": [],
   "source": [
    "if \"name\" in user_data:\n",
    "    name = user_data[\"name\"]\n",
    "else:\n",
    "    name = \"Unknown\""
   ]
  },
  {
   "cell_type": "code",
   "execution_count": null,
   "id": "88b36748-8575-485b-8793-1801cb1dfc96",
   "metadata": {
    "tags": []
   },
   "outputs": [],
   "source": [
    "if \"email\" in user_data:\n",
    "    email = user_data[\"email\"]\n",
    "else:\n",
    "    email = \"no-email@example.com\""
   ]
  },
  {
   "cell_type": "code",
   "execution_count": null,
   "id": "86de6b75-ed31-47c9-b36e-dde92f20cae6",
   "metadata": {
    "tags": []
   },
   "outputs": [],
   "source": [
    "print(f\"{name=}\")"
   ]
  },
  {
   "cell_type": "code",
   "execution_count": null,
   "id": "f56048b1-2da1-4853-bcae-24c343a691e2",
   "metadata": {
    "tags": []
   },
   "outputs": [],
   "source": [
    "print(f\"{email=}\")"
   ]
  },
  {
   "cell_type": "code",
   "execution_count": null,
   "id": "3f16796a-2ba8-41c3-8ca4-9ba4eb76c6a0",
   "metadata": {
    "tags": []
   },
   "outputs": [],
   "source": [
    "# Concise way to handle missing values\n",
    "name = user_data.get(\"name\", \"Unknown\")\n",
    "age = user_data.get(\"age\", 0)\n",
    "email = user_data.get(\"email\", \"no-email@example.com\")"
   ]
  },
  {
   "cell_type": "code",
   "execution_count": null,
   "id": "f97155d7-5601-47e2-a7a7-01dbfeeca926",
   "metadata": {
    "tags": []
   },
   "outputs": [],
   "source": [
    "print(f\"{name=}\")\n",
    "print(f\"{age=}\")\n",
    "print(f\"{email=}\")"
   ]
  },
  {
   "cell_type": "markdown",
   "id": "272f1668-9f8f-4791-a8fd-266e689774f4",
   "metadata": {},
   "source": [
    "## 21 Jan 2025 - Prettymaps\n",
    "- https://github.com/marceloprates/prettymaps?"
   ]
  },
  {
   "cell_type": "code",
   "execution_count": null,
   "id": "56985804-22c5-47ea-bd4d-491e3e8fdade",
   "metadata": {
    "tags": []
   },
   "outputs": [],
   "source": [
    "#!pip install prettymaps\n",
    "import prettymaps\n",
    "import matplotlib.pyplot as plt\n",
    "plt.rcParams['font.family'] = 'Arial'  # Replace with an available font"
   ]
  },
  {
   "cell_type": "code",
   "execution_count": null,
   "id": "7b98ce35-90d9-470c-a92a-13f97c21c733",
   "metadata": {
    "tags": []
   },
   "outputs": [],
   "source": [
    "plot = prettymaps.plot('Stad van de Zon, Heerhugowaard, Netherlands')"
   ]
  },
  {
   "cell_type": "code",
   "execution_count": null,
   "id": "c9eb33f0-ec1f-4e31-bbe0-c695104f44b7",
   "metadata": {
    "tags": []
   },
   "outputs": [],
   "source": [
    "plot = prettymaps.plot(   'Bom Fim, Porto Alegre, Brasil', radius = False,)"
   ]
  },
  {
   "cell_type": "markdown",
   "id": "048fb5cf-76d7-4d4d-93d9-e08320b8bae3",
   "metadata": {},
   "source": [
    "## 21 Jan 2025 - heartrate\n",
    "- "
   ]
  },
  {
   "cell_type": "code",
   "execution_count": 14,
   "id": "d8a76dcf-8b9a-47ec-b46e-c5491723fc7d",
   "metadata": {
    "tags": []
   },
   "outputs": [],
   "source": [
    "#!pip install heartrate\n",
    "import heartrate"
   ]
  },
  {
   "cell_type": "code",
   "execution_count": 15,
   "id": "94b8e91f-9593-46f2-8beb-2542d0b684aa",
   "metadata": {
    "tags": []
   },
   "outputs": [
    {
     "name": "stdout",
     "output_type": "stream",
     "text": [
      " * Serving Flask app 'heartrate.core'\n",
      " * Debug mode: off\n"
     ]
    }
   ],
   "source": [
    "heartrate.trace(browser=True)"
   ]
  },
  {
   "cell_type": "code",
   "execution_count": 18,
   "id": "16820a0b-45ec-4692-8ebb-57f938ffd094",
   "metadata": {
    "tags": []
   },
   "outputs": [],
   "source": [
    "def factorial(x):\n",
    "    if x== 1:\n",
    "        return 1\n",
    "    else:\n",
    "        return (x * factorial(x-1))"
   ]
  },
  {
   "cell_type": "code",
   "execution_count": 19,
   "id": "dba178c4-f3c9-4b1a-912c-c494bdc667a7",
   "metadata": {
    "tags": []
   },
   "outputs": [
    {
     "data": {
      "text/plain": [
       "93326215443944152681699238856266700490715968264381621468592963895217599993229915608941463976156518286253697920827223758251185210916864000000000000000000000000"
      ]
     },
     "execution_count": 19,
     "metadata": {},
     "output_type": "execute_result"
    }
   ],
   "source": [
    "factorial(100)"
   ]
  },
  {
   "cell_type": "code",
   "execution_count": null,
   "id": "02b96265-479c-4d07-9f26-daace97c08bd",
   "metadata": {},
   "outputs": [],
   "source": []
  }
 ],
 "metadata": {
  "kernelspec": {
   "display_name": "Python 3 (ipykernel)",
   "language": "python",
   "name": "python3"
  },
  "language_info": {
   "codemirror_mode": {
    "name": "ipython",
    "version": 3
   },
   "file_extension": ".py",
   "mimetype": "text/x-python",
   "name": "python",
   "nbconvert_exporter": "python",
   "pygments_lexer": "ipython3",
   "version": "3.11.5"
  }
 },
 "nbformat": 4,
 "nbformat_minor": 5
}
