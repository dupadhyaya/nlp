{
 "cells": [
  {
   "cell_type": "markdown",
   "id": "2bda718b-4c81-463b-8cc3-fb2b059d95cb",
   "metadata": {
    "tags": []
   },
   "source": [
    "# Posts Feb 2025"
   ]
  },
  {
   "cell_type": "markdown",
   "id": "b4ae1f4d-42a4-4d21-a9d6-4dcf79110853",
   "metadata": {},
   "source": [
    "## 6 Feb 2025\n",
    "- check elements in an iteration until a condition is reached\n",
    "- itertools.dropwhile makes your code more concise and functional by skipping elements from the beginning of an iteration until a condition becomes False\n",
    "- join or select only after skipping first set of numbers"
   ]
  },
  {
   "cell_type": "code",
   "execution_count": 12,
   "id": "42ddb672-a7fa-416f-b8cb-ea6f2ffc6770",
   "metadata": {
    "tags": []
   },
   "outputs": [
    {
     "name": "stdout",
     "output_type": "stream",
     "text": [
      " ABC 4 56 D\n"
     ]
    }
   ],
   "source": [
    "# less readable\n",
    "text = '123 ABC 4 56 D'\n",
    "alpha_part = []\n",
    "found_alpha = False\n",
    "for char in text:\n",
    "    if found_alpha or not char.isdigit():\n",
    "        found_alpha = True\n",
    "        alpha_part.append(char)\n",
    "print(''.join(alpha_part))"
   ]
  },
  {
   "cell_type": "code",
   "execution_count": 13,
   "id": "ccaedcbe-e804-4059-a443-171e9369f4ed",
   "metadata": {
    "tags": []
   },
   "outputs": [
    {
     "name": "stdout",
     "output_type": "stream",
     "text": [
      " ABC 4 56 D\n"
     ]
    }
   ],
   "source": [
    "from itertools import dropwhile\n",
    "text = '123 ABC 4 56 D'\n",
    "alpha_part = dropwhile(str.isdigit, text)\n",
    "print(''.join(alpha_part))"
   ]
  },
  {
   "cell_type": "code",
   "execution_count": 14,
   "id": "4a59393e-0233-4197-a712-d89d6417fca4",
   "metadata": {
    "tags": []
   },
   "outputs": [
    {
     "name": "stdout",
     "output_type": "stream",
     "text": [
      "ABCD\n"
     ]
    }
   ],
   "source": [
    "# select only char\n",
    "text = '123 ABC 4 56 D'\n",
    "only_char = ''.join(char for char in text if char.isalpha())\n",
    "\n",
    "# Print the result\n",
    "print(only_char)"
   ]
  },
  {
   "cell_type": "code",
   "execution_count": 16,
   "id": "735fbfa0-2fdf-4476-9fc2-5a5e0097fabd",
   "metadata": {
    "tags": []
   },
   "outputs": [
    {
     "name": "stdout",
     "output_type": "stream",
     "text": [
      "The numbers list is : [123, 4, 56]\n"
     ]
    }
   ],
   "source": [
    "import re\n",
    "temp = re.findall(r'\\d+', text)\n",
    "only_nos = list(map(int, temp))\n",
    "\n",
    "# print result\n",
    "print(\"The numbers list is : \" + str(only_nos))"
   ]
  },
  {
   "cell_type": "code",
   "execution_count": 21,
   "id": "211e9e64-02b7-4e7a-9954-acc0f6681b84",
   "metadata": {
    "tags": []
   },
   "outputs": [
    {
     "name": "stdout",
     "output_type": "stream",
     "text": [
      "[123, 4, 56]\n",
      "123456\n"
     ]
    }
   ],
   "source": [
    "numbers = list(filter(lambda x: x.isdigit(), text.split()))\n",
    "result = [int(s) for s in numbers]\n",
    "print(result)\n",
    "print(''.join(numbers))"
   ]
  },
  {
   "cell_type": "code",
   "execution_count": null,
   "id": "79c5df13-183b-48d3-919f-f5424bbefb78",
   "metadata": {},
   "outputs": [],
   "source": []
  }
 ],
 "metadata": {
  "kernelspec": {
   "display_name": "Python 3 (ipykernel)",
   "language": "python",
   "name": "python3"
  },
  "language_info": {
   "codemirror_mode": {
    "name": "ipython",
    "version": 3
   },
   "file_extension": ".py",
   "mimetype": "text/x-python",
   "name": "python",
   "nbconvert_exporter": "python",
   "pygments_lexer": "ipython3",
   "version": "3.11.5"
  }
 },
 "nbformat": 4,
 "nbformat_minor": 5
}
