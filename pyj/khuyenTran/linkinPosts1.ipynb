{
 "cells": [
  {
   "cell_type": "code",
   "execution_count": null,
   "id": "cc482330-fc39-4fd6-be64-a52f2670727e",
   "metadata": {},
   "outputs": [],
   "source": [
    "#post from Khuyen Tran"
   ]
  },
  {
   "cell_type": "code",
   "execution_count": null,
   "id": "bc7d761d-5bb8-47c4-a7ec-041f99e9c40c",
   "metadata": {},
   "outputs": [],
   "source": [
    "# Chroma Addresses\n",
    "#https://www.linkedin.com/feed/update/urn:li:activity:7275163738524078080/"
   ]
  },
  {
   "cell_type": "code",
   "execution_count": 3,
   "id": "1bd6aebe-1453-4d36-b514-ee54d0e36a03",
   "metadata": {},
   "outputs": [],
   "source": [
    "#!pip install chromadb"
   ]
  },
  {
   "cell_type": "code",
   "execution_count": 10,
   "id": "fb2c0300-7bda-4400-bde8-e14b657674b0",
   "metadata": {},
   "outputs": [],
   "source": [
    "import chromadb"
   ]
  },
  {
   "cell_type": "code",
   "execution_count": 11,
   "id": "db364d16-3de1-4f78-968c-182319f4fc09",
   "metadata": {},
   "outputs": [],
   "source": [
    "client = chromadb.Client()"
   ]
  },
  {
   "cell_type": "code",
   "execution_count": 23,
   "id": "40d1caab-95a2-4660-99a8-6dc229345e3e",
   "metadata": {},
   "outputs": [],
   "source": [
    "#collection = client.create_collection('documents')\n",
    "collection = client.get_or_create_collection('documents')"
   ]
  },
  {
   "cell_type": "code",
   "execution_count": 24,
   "id": "82abb028-4f35-411d-9d21-2d3ac2757984",
   "metadata": {},
   "outputs": [
    {
     "name": "stderr",
     "output_type": "stream",
     "text": [
      "Context leak detected, msgtracer returned -1\n",
      "Context leak detected, msgtracer returned -1\n",
      "Context leak detected, msgtracer returned -1\n",
      "Context leak detected, msgtracer returned -1\n",
      "Context leak detected, msgtracer returned -1\n",
      "Context leak detected, msgtracer returned -1\n",
      "Context leak detected, msgtracer returned -1\n",
      "Context leak detected, msgtracer returned -1\n",
      "Context leak detected, msgtracer returned -1\n",
      "Context leak detected, msgtracer returned -1\n",
      "Context leak detected, msgtracer returned -1\n",
      "Context leak detected, msgtracer returned -1\n",
      "Context leak detected, msgtracer returned -1\n",
      "Context leak detected, msgtracer returned -1\n",
      "Context leak detected, msgtracer returned -1\n",
      "Insert of existing embedding ID: doc1\n",
      "Insert of existing embedding ID: doc2\n",
      "Insert of existing embedding ID: doc3\n",
      "Add of existing embedding ID: doc1\n",
      "Add of existing embedding ID: doc2\n",
      "Add of existing embedding ID: doc3\n"
     ]
    }
   ],
   "source": [
    "collection.add( documents = ['The weather is great today', 'Climate is excellent', 'Too cold weather','Today we are on leave'], ids=['doc1','doc2','doc3', 'doc4'])"
   ]
  },
  {
   "cell_type": "code",
   "execution_count": 26,
   "id": "c8df0e73-c14f-46d8-8e1b-e4923715cbdf",
   "metadata": {},
   "outputs": [],
   "source": [
    "results = collection.query(query_texts = ['Hows the weather'], n_results=4)"
   ]
  },
  {
   "cell_type": "code",
   "execution_count": 27,
   "id": "1291109d-e823-4324-a803-f93623423661",
   "metadata": {},
   "outputs": [
    {
     "name": "stdout",
     "output_type": "stream",
     "text": [
      "['The weather is great today', 'Too cold weather', 'Climate is excellent', 'Today we are on leave']\n"
     ]
    }
   ],
   "source": [
    "print(results['documents'][0])"
   ]
  },
  {
   "cell_type": "code",
   "execution_count": 28,
   "id": "6cf4ba5a-8115-4d59-9731-e1fa811fc5e1",
   "metadata": {},
   "outputs": [],
   "source": [
    "#output Control\n",
    "#https://www.linkedin.com/feed/update/urn:li:activity:7274801364659019796/"
   ]
  },
  {
   "cell_type": "code",
   "execution_count": 29,
   "id": "44087d38-6f60-4328-98be-8630a6271b21",
   "metadata": {},
   "outputs": [],
   "source": [
    "#geometry"
   ]
  },
  {
   "cell_type": "code",
   "execution_count": 42,
   "id": "71234da5-2609-495b-961f-a3043f2922c8",
   "metadata": {},
   "outputs": [],
   "source": [
    "#!pip install geopandas\n",
    "import geopandas"
   ]
  },
  {
   "cell_type": "code",
   "execution_count": 32,
   "id": "c212341e-fd1b-4323-b1af-a816e63e1d24",
   "metadata": {},
   "outputs": [],
   "source": [
    "from shapely.geometry import Polygon"
   ]
  },
  {
   "cell_type": "code",
   "execution_count": 33,
   "id": "aba0ecc4-ae77-4d17-a73c-6d412e97ada1",
   "metadata": {},
   "outputs": [],
   "source": [
    "p1 = Polygon([ (0,0), (1,0), (1,1)])"
   ]
  },
  {
   "cell_type": "code",
   "execution_count": 36,
   "id": "ba6c905d-92a3-46bd-90fd-4d78218e1d25",
   "metadata": {},
   "outputs": [],
   "source": [
    "p2 = Polygon([(2,0), (3,0), (3,1), (2,1)])"
   ]
  },
  {
   "cell_type": "code",
   "execution_count": 38,
   "id": "d90bf26b-e771-45dc-a0c1-c62f3cf32f9f",
   "metadata": {},
   "outputs": [
    {
     "data": {
      "image/svg+xml": [
       "<svg xmlns=\"http://www.w3.org/2000/svg\" xmlns:xlink=\"http://www.w3.org/1999/xlink\" width=\"100.0\" height=\"100.0\" viewBox=\"-0.04 -0.04 1.08 1.08\" preserveAspectRatio=\"xMinYMin meet\"><g transform=\"matrix(1,0,0,-1,0,1.0)\"><path fill-rule=\"evenodd\" fill=\"#66cc99\" stroke=\"#555555\" stroke-width=\"0.0216\" opacity=\"0.6\" d=\"M 0.0,0.0 L 1.0,0.0 L 1.0,1.0 L 0.0,0.0 z\" /></g></svg>"
      ],
      "text/plain": [
       "<POLYGON ((0 0, 1 0, 1 1, 0 0))>"
      ]
     },
     "execution_count": 38,
     "metadata": {},
     "output_type": "execute_result"
    }
   ],
   "source": [
    "p1"
   ]
  },
  {
   "cell_type": "code",
   "execution_count": 39,
   "id": "9f80eb0d-6183-4068-9817-71ec9e7a4506",
   "metadata": {},
   "outputs": [
    {
     "data": {
      "image/svg+xml": [
       "<svg xmlns=\"http://www.w3.org/2000/svg\" xmlns:xlink=\"http://www.w3.org/1999/xlink\" width=\"100.0\" height=\"100.0\" viewBox=\"1.96 -0.04 1.08 1.08\" preserveAspectRatio=\"xMinYMin meet\"><g transform=\"matrix(1,0,0,-1,0,1.0)\"><path fill-rule=\"evenodd\" fill=\"#66cc99\" stroke=\"#555555\" stroke-width=\"0.0216\" opacity=\"0.6\" d=\"M 2.0,0.0 L 3.0,0.0 L 3.0,1.0 L 2.0,1.0 L 2.0,0.0 z\" /></g></svg>"
      ],
      "text/plain": [
       "<POLYGON ((2 0, 3 0, 3 1, 2 1, 2 0))>"
      ]
     },
     "execution_count": 39,
     "metadata": {},
     "output_type": "execute_result"
    }
   ],
   "source": [
    "p2"
   ]
  },
  {
   "cell_type": "code",
   "execution_count": 43,
   "id": "0cd3c7de-f4c8-4c19-ad17-9e2ce314fa51",
   "metadata": {},
   "outputs": [],
   "source": [
    "g = geopandas.GeoSeries([p1, p2])"
   ]
  },
  {
   "cell_type": "code",
   "execution_count": 44,
   "id": "d68fcdad-104d-4ab8-a507-b41966e67899",
   "metadata": {},
   "outputs": [
    {
     "data": {
      "text/plain": [
       "0         POLYGON ((0 0, 1 0, 1 1, 0 0))\n",
       "1    POLYGON ((2 0, 3 0, 3 1, 2 1, 2 0))\n",
       "dtype: geometry"
      ]
     },
     "execution_count": 44,
     "metadata": {},
     "output_type": "execute_result"
    }
   ],
   "source": [
    "g"
   ]
  },
  {
   "cell_type": "code",
   "execution_count": 45,
   "id": "ccd2c5c6-8d83-47d4-b985-7d3f1f41ee30",
   "metadata": {},
   "outputs": [
    {
     "data": {
      "text/plain": [
       "0    0.5\n",
       "1    1.0\n",
       "dtype: float64"
      ]
     },
     "execution_count": 45,
     "metadata": {},
     "output_type": "execute_result"
    }
   ],
   "source": [
    "g.area"
   ]
  },
  {
   "cell_type": "code",
   "execution_count": 46,
   "id": "420cf8a8-8759-489d-9482-e79fa7e93452",
   "metadata": {},
   "outputs": [
    {
     "data": {
      "text/plain": [
       "<Axes: >"
      ]
     },
     "execution_count": 46,
     "metadata": {},
     "output_type": "execute_result"
    },
    {
     "data": {
      "image/png": "[encoded data removed]",
      "text/plain": [
       "<Figure size 640x480 with 1 Axes>"
      ]
     },
     "metadata": {},
     "output_type": "display_data"
    }
   ],
   "source": [
    "g.plot()"
   ]
  },
  {
   "cell_type": "code",
   "execution_count": null,
   "id": "b056e550-5cea-4166-9e81-f6bea7273152",
   "metadata": {},
   "outputs": [],
   "source": []
  }
 ],
 "metadata": {
  "kernelspec": {
   "display_name": "Python 3 (ipykernel)",
   "language": "python",
   "name": "python3"
  },
  "language_info": {
   "codemirror_mode": {
    "name": "ipython",
    "version": 3
   },
   "file_extension": ".py",
   "mimetype": "text/x-python",
   "name": "python",
   "nbconvert_exporter": "python",
   "pygments_lexer": "ipython3",
   "version": "3.11.5"
  }
 },
 "nbformat": 4,
 "nbformat_minor": 5
}
