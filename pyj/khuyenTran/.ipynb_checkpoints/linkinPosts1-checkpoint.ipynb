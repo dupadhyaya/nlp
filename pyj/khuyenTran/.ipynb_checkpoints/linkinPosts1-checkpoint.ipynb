{
 "cells": [
  {
   "cell_type": "code",
   "execution_count": 1,
   "id": "bc7d761d-5bb8-47c4-a7ec-041f99e9c40c",
   "metadata": {},
   "outputs": [],
   "source": [
    "# Chroma Addresses"
   ]
  },
  {
   "cell_type": "code",
   "execution_count": 3,
   "id": "1bd6aebe-1453-4d36-b514-ee54d0e36a03",
   "metadata": {},
   "outputs": [],
   "source": [
    "#!pip install chromadb"
   ]
  },
  {
   "cell_type": "code",
   "execution_count": 4,
   "id": "fb2c0300-7bda-4400-bde8-e14b657674b0",
   "metadata": {},
   "outputs": [],
   "source": [
    "import chromadb"
   ]
  },
  {
   "cell_type": "code",
   "execution_count": 5,
   "id": "db364d16-3de1-4f78-968c-182319f4fc09",
   "metadata": {},
   "outputs": [],
   "source": [
    "client = chromadb.Client()"
   ]
  },
  {
   "cell_type": "code",
   "execution_count": 6,
   "id": "40d1caab-95a2-4660-99a8-6dc229345e3e",
   "metadata": {},
   "outputs": [],
   "source": [
    "collection = client.create_collection('documents')"
   ]
  },
  {
   "cell_type": "code",
   "execution_count": null,
   "id": "82abb028-4f35-411d-9d21-2d3ac2757984",
   "metadata": {},
   "outputs": [
    {
     "name": "stderr",
     "output_type": "stream",
     "text": [
      "/Users/du/.cache/chroma/onnx_models/all-MiniLM-L6-v2/onnx.tar.gz:  78%|▊| 61.9M/"
     ]
    }
   ],
   "source": [
    "collection.add( documents = ['The weather is great today', 'Climate is excellent'], ids=['doc1','doc2'])"
   ]
  },
  {
   "cell_type": "code",
   "execution_count": null,
   "id": "c8df0e73-c14f-46d8-8e1b-e4923715cbdf",
   "metadata": {},
   "outputs": [],
   "source": [
    "results = collection.query(query_texts = ['Hows the weather'], n_results=2)"
   ]
  },
  {
   "cell_type": "code",
   "execution_count": null,
   "id": "1291109d-e823-4324-a803-f93623423661",
   "metadata": {},
   "outputs": [],
   "source": [
    "print(results['documents'][0])"
   ]
  },
  {
   "cell_type": "code",
   "execution_count": null,
   "id": "6cf4ba5a-8115-4d59-9731-e1fa811fc5e1",
   "metadata": {},
   "outputs": [],
   "source": []
  }
 ],
 "metadata": {
  "kernelspec": {
   "display_name": "Python 3 (ipykernel)",
   "language": "python",
   "name": "python3"
  },
  "language_info": {
   "codemirror_mode": {
    "name": "ipython",
    "version": 3
   },
   "file_extension": ".py",
   "mimetype": "text/x-python",
   "name": "python",
   "nbconvert_exporter": "python",
   "pygments_lexer": "ipython3",
   "version": "3.11.5"
  }
 },
 "nbformat": 4,
 "nbformat_minor": 5
}
