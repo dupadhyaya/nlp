{
 "cells": [
  {
   "cell_type": "code",
   "execution_count": 1,
   "id": "1635b3f8-a7ba-4178-8ae3-ec359a601461",
   "metadata": {},
   "outputs": [],
   "source": [
    "# Selenium Setup for Python"
   ]
  },
  {
   "cell_type": "code",
   "execution_count": 2,
   "id": "383b3b81-785a-456b-8d19-7c173c1026c4",
   "metadata": {},
   "outputs": [],
   "source": [
    "#!pip install webdriver-manager"
   ]
  },
  {
   "cell_type": "code",
   "execution_count": 3,
   "id": "78742f5f-fdc2-4919-9390-8e6407e36c2d",
   "metadata": {},
   "outputs": [],
   "source": [
    "from webdriver_manager.chrome import ChromeDriverManager\n",
    "from selenium import webdriver"
   ]
  },
  {
   "cell_type": "code",
   "execution_count": 4,
   "id": "aa98a310-5c06-45df-88e6-bec78c425d55",
   "metadata": {},
   "outputs": [],
   "source": [
    "# Install chrome driver \n",
    "#browser = webdriver.Chrome(ChromeDriverManager().install())"
   ]
  },
  {
   "cell_type": "code",
   "execution_count": 5,
   "id": "8e91f54c-e6c0-47ee-ac1e-05775389625a",
   "metadata": {},
   "outputs": [],
   "source": [
    "cService = webdriver.ChromeService(executable_path='/opt/homebrew/bin/chromedriver')\n",
    "driver = webdriver.Chrome(service = cService)"
   ]
  },
  {
   "cell_type": "markdown",
   "id": "58908897-3dc9-4aa0-8797-9133e3589e56",
   "metadata": {
    "panel-layout": {
     "height": 60.596588134765625,
     "visible": true,
     "width": 100
    }
   },
   "source": [
    "# This Works"
   ]
  },
  {
   "cell_type": "code",
   "execution_count": 6,
   "id": "7557237a-6c9d-4e75-a480-80b7a87ae7d6",
   "metadata": {
    "panel-layout": {
     "height": 0,
     "visible": true,
     "width": 100
    }
   },
   "outputs": [],
   "source": [
    "driver.get('https://amity.edu')"
   ]
  },
  {
   "cell_type": "code",
   "execution_count": null,
   "id": "fb9ccc87-3041-43f9-89b6-def05fabbfa7",
   "metadata": {},
   "outputs": [],
   "source": []
  }
 ],
 "metadata": {
  "kernelspec": {
   "display_name": "Python 3 (ipykernel)",
   "language": "python",
   "name": "python3"
  },
  "language_info": {
   "codemirror_mode": {
    "name": "ipython",
    "version": 3
   },
   "file_extension": ".py",
   "mimetype": "text/x-python",
   "name": "python",
   "nbconvert_exporter": "python",
   "pygments_lexer": "ipython3",
   "version": "3.11.5"
  },
  "panel-cell-order": [
   "58908897-3dc9-4aa0-8797-9133e3589e56",
   "7557237a-6c9d-4e75-a480-80b7a87ae7d6"
  ]
 },
 "nbformat": 4,
 "nbformat_minor": 5
}
