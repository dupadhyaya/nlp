{
 "cells": [
  {
   "cell_type": "code",
   "execution_count": null,
   "id": "5b644579-bf7b-433a-adce-a3ba0bee43b2",
   "metadata": {},
   "outputs": [],
   "source": [
    "# Create Code to import data from NIRF without marks"
   ]
  },
  {
   "cell_type": "markdown",
   "id": "c0b9a51f-e93f-4c48-8da4-4ce83475bed2",
   "metadata": {},
   "source": [
    "## Using Selenium"
   ]
  },
  {
   "cell_type": "code",
   "execution_count": 1,
   "id": "b293f26b-dd3e-4cb4-bfc4-d66b1b349151",
   "metadata": {},
   "outputs": [],
   "source": [
    "from selenium import webdriver\n",
    "from selenium.webdriver.common.by import By\n",
    "import pandas as pd\n",
    "from selenium.webdriver.chrome.service import Service"
   ]
  },
  {
   "cell_type": "markdown",
   "id": "7653ffab-9672-41c7-8409-b158ec1d1cab",
   "metadata": {},
   "source": [
    "# Chrome Version\n",
    "- Version 129.0.6668.71 (Official Build) (arm64)\n",
    "- Latest ChromeDriver 114.0.5735.90\n",
    "- chrome://settings/help\n",
    "- https://developer.chrome.com/docs/chromedriver/downloads"
   ]
  },
  {
   "cell_type": "code",
   "execution_count": 2,
   "id": "a120bff4-9d72-43f3-bf36-778dabc82b78",
   "metadata": {},
   "outputs": [],
   "source": [
    "import time"
   ]
  },
  {
   "cell_type": "code",
   "execution_count": 3,
   "id": "38fa2109-029b-4373-b3d5-d1e4cd16fb61",
   "metadata": {},
   "outputs": [],
   "source": [
    "# Path to your ChromeDriver\n",
    "cp2 = '/opt/homebrew/bin/chromedriver'  # Replace with the actual path to your chromedriver"
   ]
  },
  {
   "cell_type": "markdown",
   "id": "d883b7d7-b03f-47e0-8ceb-9c65a9fb9f72",
   "metadata": {},
   "source": [
    "??webdriver.chrome"
   ]
  },
  {
   "cell_type": "code",
   "execution_count": 4,
   "id": "702e947d-f9cf-4947-9456-781822ecf560",
   "metadata": {},
   "outputs": [],
   "source": [
    "#!pip install webdriver-manager\n",
    "from webdriver_manager.chrome import ChromeDriverManager"
   ]
  },
  {
   "cell_type": "code",
   "execution_count": null,
   "id": "6e433cc3-b2ae-451b-b4fe-803269e97af3",
   "metadata": {},
   "outputs": [],
   "source": []
  },
  {
   "cell_type": "code",
   "execution_count": 5,
   "id": "4af9c644-e454-43d2-bd2e-91b6cd9a6330",
   "metadata": {},
   "outputs": [
    {
     "name": "stdout",
     "output_type": "stream",
     "text": [
      "n24U_b2 151-200 \n",
      " https://www.nirfindia.org/Rankings/2023/UniversityRanking200.html\n"
     ]
    }
   ],
   "source": [
    "# Open the NIRF rankings page\n",
    "n24ob1 = \"https://www.nirfindia.org/Rankings/2024/OverallRanking150.html\"\n",
    "n24ob2 = \"https://www.nirfindia.org/Rankings/2024/OverallRanking200.html\"\n",
    "n24ub1 = \"https://www.nirfindia.org/Rankings/2023/UniversityRanking150.html\"\n",
    "n24ub2 = \"https://www.nirfindia.org/Rankings/2023/UniversityRanking200.html\"\n",
    "\n",
    "url = n24ub2; nData = 'n24U_b2' ; cat1 = '151-200'\n",
    "print(nData, cat1, '\\n', url)"
   ]
  },
  {
   "cell_type": "code",
   "execution_count": 6,
   "id": "b80db78b-ad62-44c2-80cc-56f622b77d47",
   "metadata": {},
   "outputs": [
    {
     "name": "stdout",
     "output_type": "stream",
     "text": [
      "n24U_b2 https://www.nirfindia.org/Rankings/2023/UniversityRanking200.html\n"
     ]
    }
   ],
   "source": [
    "#University Rankings\n",
    "\n",
    "#url = n20u; nData = 'n20u'\n",
    "print(nData, url)"
   ]
  },
  {
   "cell_type": "code",
   "execution_count": 7,
   "id": "8eaed1ae-7aba-4df5-bb0b-12b7fbf679a5",
   "metadata": {},
   "outputs": [],
   "source": [
    "#driver.refresh()"
   ]
  },
  {
   "cell_type": "code",
   "execution_count": 8,
   "id": "4e05d029-1463-4fc9-ab99-8f1ea1eb03c9",
   "metadata": {},
   "outputs": [
    {
     "ename": "SessionNotCreatedException",
     "evalue": "Message: session not created: This version of ChromeDriver only supports Chrome version 136\nCurrent browser version is 135.0.7049.116 with binary path /Applications/Google Chrome.app/Contents/MacOS/Google Chrome\nStacktrace:\n0   chromedriver                        0x0000000102b2c3bc cxxbridge1$str$ptr + 2829900\n1   chromedriver                        0x0000000102b24684 cxxbridge1$str$ptr + 2797844\n2   chromedriver                        0x0000000102661fbc cxxbridge1$string$len + 90140\n3   chromedriver                        0x000000010269a52c cxxbridge1$string$len + 320908\n4   chromedriver                        0x00000001026996fc cxxbridge1$string$len + 317276\n5   chromedriver                        0x0000000102695674 cxxbridge1$string$len + 300756\n6   chromedriver                        0x0000000102691888 cxxbridge1$string$len + 284904\n7   chromedriver                        0x00000001026d64e4 cxxbridge1$string$len + 566596\n8   chromedriver                        0x00000001026d5d54 cxxbridge1$string$len + 564660\n9   chromedriver                        0x000000010269d3f8 cxxbridge1$string$len + 332888\n10  chromedriver                        0x0000000102af07e0 cxxbridge1$str$ptr + 2585200\n11  chromedriver                        0x0000000102af3ab0 cxxbridge1$str$ptr + 2598208\n12  chromedriver                        0x0000000102ad1db4 cxxbridge1$str$ptr + 2459716\n13  chromedriver                        0x0000000102af4328 cxxbridge1$str$ptr + 2600376\n14  chromedriver                        0x0000000102ac3640 cxxbridge1$str$ptr + 2400464\n15  chromedriver                        0x0000000102b1428c cxxbridge1$str$ptr + 2731292\n16  chromedriver                        0x0000000102b14418 cxxbridge1$str$ptr + 2731688\n17  chromedriver                        0x0000000102b242d0 cxxbridge1$str$ptr + 2796896\n18  libsystem_pthread.dylib             0x0000000199915c0c _pthread_start + 136\n19  libsystem_pthread.dylib             0x0000000199910b80 thread_start + 8\n",
     "output_type": "error",
     "traceback": [
      "\u001b[0;31m---------------------------------------------------------------------------\u001b[0m",
      "\u001b[0;31mSessionNotCreatedException\u001b[0m                Traceback (most recent call last)",
      "Cell \u001b[0;32mIn[8], line 2\u001b[0m\n\u001b[1;32m      1\u001b[0m cService \u001b[38;5;241m=\u001b[39m webdriver\u001b[38;5;241m.\u001b[39mChromeService(executable_path\u001b[38;5;241m=\u001b[39m\u001b[38;5;124m'\u001b[39m\u001b[38;5;124m/opt/homebrew/bin/chromedriver\u001b[39m\u001b[38;5;124m'\u001b[39m)\n\u001b[0;32m----> 2\u001b[0m driver \u001b[38;5;241m=\u001b[39m webdriver\u001b[38;5;241m.\u001b[39mChrome(service \u001b[38;5;241m=\u001b[39m cService)\n",
      "File \u001b[0;32m~/anaconda3/lib/python3.12/site-packages/selenium/webdriver/chrome/webdriver.py:45\u001b[0m, in \u001b[0;36mWebDriver.__init__\u001b[0;34m(self, options, service, keep_alive)\u001b[0m\n\u001b[1;32m     42\u001b[0m service \u001b[38;5;241m=\u001b[39m service \u001b[38;5;28;01mif\u001b[39;00m service \u001b[38;5;28;01melse\u001b[39;00m Service()\n\u001b[1;32m     43\u001b[0m options \u001b[38;5;241m=\u001b[39m options \u001b[38;5;28;01mif\u001b[39;00m options \u001b[38;5;28;01melse\u001b[39;00m Options()\n\u001b[0;32m---> 45\u001b[0m \u001b[38;5;28msuper\u001b[39m()\u001b[38;5;241m.\u001b[39m\u001b[38;5;21m__init__\u001b[39m(\n\u001b[1;32m     46\u001b[0m     browser_name\u001b[38;5;241m=\u001b[39mDesiredCapabilities\u001b[38;5;241m.\u001b[39mCHROME[\u001b[38;5;124m\"\u001b[39m\u001b[38;5;124mbrowserName\u001b[39m\u001b[38;5;124m\"\u001b[39m],\n\u001b[1;32m     47\u001b[0m     vendor_prefix\u001b[38;5;241m=\u001b[39m\u001b[38;5;124m\"\u001b[39m\u001b[38;5;124mgoog\u001b[39m\u001b[38;5;124m\"\u001b[39m,\n\u001b[1;32m     48\u001b[0m     options\u001b[38;5;241m=\u001b[39moptions,\n\u001b[1;32m     49\u001b[0m     service\u001b[38;5;241m=\u001b[39mservice,\n\u001b[1;32m     50\u001b[0m     keep_alive\u001b[38;5;241m=\u001b[39mkeep_alive,\n\u001b[1;32m     51\u001b[0m )\n",
      "File \u001b[0;32m~/anaconda3/lib/python3.12/site-packages/selenium/webdriver/chromium/webdriver.py:67\u001b[0m, in \u001b[0;36mChromiumDriver.__init__\u001b[0;34m(self, browser_name, vendor_prefix, options, service, keep_alive)\u001b[0m\n\u001b[1;32m     58\u001b[0m executor \u001b[38;5;241m=\u001b[39m ChromiumRemoteConnection(\n\u001b[1;32m     59\u001b[0m     remote_server_addr\u001b[38;5;241m=\u001b[39m\u001b[38;5;28mself\u001b[39m\u001b[38;5;241m.\u001b[39mservice\u001b[38;5;241m.\u001b[39mservice_url,\n\u001b[1;32m     60\u001b[0m     browser_name\u001b[38;5;241m=\u001b[39mbrowser_name,\n\u001b[0;32m   (...)\u001b[0m\n\u001b[1;32m     63\u001b[0m     ignore_proxy\u001b[38;5;241m=\u001b[39moptions\u001b[38;5;241m.\u001b[39m_ignore_local_proxy,\n\u001b[1;32m     64\u001b[0m )\n\u001b[1;32m     66\u001b[0m \u001b[38;5;28;01mtry\u001b[39;00m:\n\u001b[0;32m---> 67\u001b[0m     \u001b[38;5;28msuper\u001b[39m()\u001b[38;5;241m.\u001b[39m\u001b[38;5;21m__init__\u001b[39m(command_executor\u001b[38;5;241m=\u001b[39mexecutor, options\u001b[38;5;241m=\u001b[39moptions)\n\u001b[1;32m     68\u001b[0m \u001b[38;5;28;01mexcept\u001b[39;00m \u001b[38;5;167;01mException\u001b[39;00m:\n\u001b[1;32m     69\u001b[0m     \u001b[38;5;28mself\u001b[39m\u001b[38;5;241m.\u001b[39mquit()\n",
      "File \u001b[0;32m~/anaconda3/lib/python3.12/site-packages/selenium/webdriver/remote/webdriver.py:260\u001b[0m, in \u001b[0;36mWebDriver.__init__\u001b[0;34m(self, command_executor, keep_alive, file_detector, options, locator_converter, web_element_cls, client_config)\u001b[0m\n\u001b[1;32m    258\u001b[0m \u001b[38;5;28mself\u001b[39m\u001b[38;5;241m.\u001b[39m_authenticator_id \u001b[38;5;241m=\u001b[39m \u001b[38;5;28;01mNone\u001b[39;00m\n\u001b[1;32m    259\u001b[0m \u001b[38;5;28mself\u001b[39m\u001b[38;5;241m.\u001b[39mstart_client()\n\u001b[0;32m--> 260\u001b[0m \u001b[38;5;28mself\u001b[39m\u001b[38;5;241m.\u001b[39mstart_session(capabilities)\n\u001b[1;32m    261\u001b[0m \u001b[38;5;28mself\u001b[39m\u001b[38;5;241m.\u001b[39m_fedcm \u001b[38;5;241m=\u001b[39m FedCM(\u001b[38;5;28mself\u001b[39m)\n\u001b[1;32m    263\u001b[0m \u001b[38;5;28mself\u001b[39m\u001b[38;5;241m.\u001b[39m_websocket_connection \u001b[38;5;241m=\u001b[39m \u001b[38;5;28;01mNone\u001b[39;00m\n",
      "File \u001b[0;32m~/anaconda3/lib/python3.12/site-packages/selenium/webdriver/remote/webdriver.py:357\u001b[0m, in \u001b[0;36mWebDriver.start_session\u001b[0;34m(self, capabilities)\u001b[0m\n\u001b[1;32m    355\u001b[0m caps \u001b[38;5;241m=\u001b[39m _create_caps(capabilities)\n\u001b[1;32m    356\u001b[0m \u001b[38;5;28;01mtry\u001b[39;00m:\n\u001b[0;32m--> 357\u001b[0m     response \u001b[38;5;241m=\u001b[39m \u001b[38;5;28mself\u001b[39m\u001b[38;5;241m.\u001b[39mexecute(Command\u001b[38;5;241m.\u001b[39mNEW_SESSION, caps)[\u001b[38;5;124m\"\u001b[39m\u001b[38;5;124mvalue\u001b[39m\u001b[38;5;124m\"\u001b[39m]\n\u001b[1;32m    358\u001b[0m     \u001b[38;5;28mself\u001b[39m\u001b[38;5;241m.\u001b[39msession_id \u001b[38;5;241m=\u001b[39m response\u001b[38;5;241m.\u001b[39mget(\u001b[38;5;124m\"\u001b[39m\u001b[38;5;124msessionId\u001b[39m\u001b[38;5;124m\"\u001b[39m)\n\u001b[1;32m    359\u001b[0m     \u001b[38;5;28mself\u001b[39m\u001b[38;5;241m.\u001b[39mcaps \u001b[38;5;241m=\u001b[39m response\u001b[38;5;241m.\u001b[39mget(\u001b[38;5;124m\"\u001b[39m\u001b[38;5;124mcapabilities\u001b[39m\u001b[38;5;124m\"\u001b[39m)\n",
      "File \u001b[0;32m~/anaconda3/lib/python3.12/site-packages/selenium/webdriver/remote/webdriver.py:448\u001b[0m, in \u001b[0;36mWebDriver.execute\u001b[0;34m(self, driver_command, params)\u001b[0m\n\u001b[1;32m    446\u001b[0m response \u001b[38;5;241m=\u001b[39m \u001b[38;5;28mself\u001b[39m\u001b[38;5;241m.\u001b[39mcommand_executor\u001b[38;5;241m.\u001b[39mexecute(driver_command, params)\n\u001b[1;32m    447\u001b[0m \u001b[38;5;28;01mif\u001b[39;00m response:\n\u001b[0;32m--> 448\u001b[0m     \u001b[38;5;28mself\u001b[39m\u001b[38;5;241m.\u001b[39merror_handler\u001b[38;5;241m.\u001b[39mcheck_response(response)\n\u001b[1;32m    449\u001b[0m     response[\u001b[38;5;124m\"\u001b[39m\u001b[38;5;124mvalue\u001b[39m\u001b[38;5;124m\"\u001b[39m] \u001b[38;5;241m=\u001b[39m \u001b[38;5;28mself\u001b[39m\u001b[38;5;241m.\u001b[39m_unwrap_value(response\u001b[38;5;241m.\u001b[39mget(\u001b[38;5;124m\"\u001b[39m\u001b[38;5;124mvalue\u001b[39m\u001b[38;5;124m\"\u001b[39m, \u001b[38;5;28;01mNone\u001b[39;00m))\n\u001b[1;32m    450\u001b[0m     \u001b[38;5;28;01mreturn\u001b[39;00m response\n",
      "File \u001b[0;32m~/anaconda3/lib/python3.12/site-packages/selenium/webdriver/remote/errorhandler.py:232\u001b[0m, in \u001b[0;36mErrorHandler.check_response\u001b[0;34m(self, response)\u001b[0m\n\u001b[1;32m    230\u001b[0m         alert_text \u001b[38;5;241m=\u001b[39m value[\u001b[38;5;124m\"\u001b[39m\u001b[38;5;124malert\u001b[39m\u001b[38;5;124m\"\u001b[39m]\u001b[38;5;241m.\u001b[39mget(\u001b[38;5;124m\"\u001b[39m\u001b[38;5;124mtext\u001b[39m\u001b[38;5;124m\"\u001b[39m)\n\u001b[1;32m    231\u001b[0m     \u001b[38;5;28;01mraise\u001b[39;00m exception_class(message, screen, stacktrace, alert_text)  \u001b[38;5;66;03m# type: ignore[call-arg]  # mypy is not smart enough here\u001b[39;00m\n\u001b[0;32m--> 232\u001b[0m \u001b[38;5;28;01mraise\u001b[39;00m exception_class(message, screen, stacktrace)\n",
      "\u001b[0;31mSessionNotCreatedException\u001b[0m: Message: session not created: This version of ChromeDriver only supports Chrome version 136\nCurrent browser version is 135.0.7049.116 with binary path /Applications/Google Chrome.app/Contents/MacOS/Google Chrome\nStacktrace:\n0   chromedriver                        0x0000000102b2c3bc cxxbridge1$str$ptr + 2829900\n1   chromedriver                        0x0000000102b24684 cxxbridge1$str$ptr + 2797844\n2   chromedriver                        0x0000000102661fbc cxxbridge1$string$len + 90140\n3   chromedriver                        0x000000010269a52c cxxbridge1$string$len + 320908\n4   chromedriver                        0x00000001026996fc cxxbridge1$string$len + 317276\n5   chromedriver                        0x0000000102695674 cxxbridge1$string$len + 300756\n6   chromedriver                        0x0000000102691888 cxxbridge1$string$len + 284904\n7   chromedriver                        0x00000001026d64e4 cxxbridge1$string$len + 566596\n8   chromedriver                        0x00000001026d5d54 cxxbridge1$string$len + 564660\n9   chromedriver                        0x000000010269d3f8 cxxbridge1$string$len + 332888\n10  chromedriver                        0x0000000102af07e0 cxxbridge1$str$ptr + 2585200\n11  chromedriver                        0x0000000102af3ab0 cxxbridge1$str$ptr + 2598208\n12  chromedriver                        0x0000000102ad1db4 cxxbridge1$str$ptr + 2459716\n13  chromedriver                        0x0000000102af4328 cxxbridge1$str$ptr + 2600376\n14  chromedriver                        0x0000000102ac3640 cxxbridge1$str$ptr + 2400464\n15  chromedriver                        0x0000000102b1428c cxxbridge1$str$ptr + 2731292\n16  chromedriver                        0x0000000102b14418 cxxbridge1$str$ptr + 2731688\n17  chromedriver                        0x0000000102b242d0 cxxbridge1$str$ptr + 2796896\n18  libsystem_pthread.dylib             0x0000000199915c0c _pthread_start + 136\n19  libsystem_pthread.dylib             0x0000000199910b80 thread_start + 8\n"
     ]
    }
   ],
   "source": [
    "cService = webdriver.ChromeService(executable_path='/opt/homebrew/bin/chromedriver')\n",
    "driver = webdriver.Chrome(service = cService)"
   ]
  },
  {
   "cell_type": "code",
   "execution_count": null,
   "id": "d7e5a92a-5408-40e9-9978-a3d4bbf4ca84",
   "metadata": {},
   "outputs": [],
   "source": [
    "driver.get(url)\n",
    "#driver.maximize_window()\n",
    "time.sleep(5)  # Adjust time if needed, or you can use Selenium's explicit waits"
   ]
  },
  {
   "cell_type": "code",
   "execution_count": null,
   "id": "db155720-9788-4075-9cfe-a3037a91292a",
   "metadata": {},
   "outputs": [],
   "source": [
    "print(driver.title)"
   ]
  },
  {
   "cell_type": "code",
   "execution_count": null,
   "id": "ff259aa4-3deb-4fa2-81e3-58a4ff932835",
   "metadata": {},
   "outputs": [],
   "source": [
    "# Locate the table on the page\n",
    "table = driver.find_element(By.TAG_NAME, 'table')"
   ]
  },
  {
   "cell_type": "code",
   "execution_count": null,
   "id": "f654c007-657e-4f1d-ae0a-d23afec02c74",
   "metadata": {},
   "outputs": [],
   "source": [
    "table"
   ]
  },
  {
   "cell_type": "code",
   "execution_count": null,
   "id": "1cce43fb-c290-4e83-b963-92606be8f080",
   "metadata": {},
   "outputs": [],
   "source": [
    "# Extract table headers\n",
    "headers = []\n",
    "header_elements = table.find_elements(By.TAG_NAME, 'th')\n",
    "for header in header_elements:\n",
    "    headers.append(header.text.strip())"
   ]
  },
  {
   "cell_type": "code",
   "execution_count": 15,
   "id": "a018555d-74b8-4f64-82f6-8449e393577e",
   "metadata": {},
   "outputs": [
    {
     "name": "stdout",
     "output_type": "stream",
     "text": [
      "['Name', 'City', 'State']\n"
     ]
    }
   ],
   "source": [
    "print(headers[0:3])"
   ]
  },
  {
   "cell_type": "code",
   "execution_count": 16,
   "id": "68aeadf2-89a8-4d4e-b7b5-0365df355ea1",
   "metadata": {},
   "outputs": [
    {
     "name": "stdout",
     "output_type": "stream",
     "text": [
      "['Name', 'City', 'State'] 3\n"
     ]
    }
   ],
   "source": [
    "print(headers[0:3], len(headers))"
   ]
  },
  {
   "cell_type": "code",
   "execution_count": 17,
   "id": "082bbfe2-310e-4581-8c4c-7a3497ca92b5",
   "metadata": {},
   "outputs": [],
   "source": [
    "# Extract table rows\n",
    "rows = []\n",
    "row_elements = table.find_elements(By.TAG_NAME, 'tr')"
   ]
  },
  {
   "cell_type": "code",
   "execution_count": 18,
   "id": "1e994396-b5b7-4680-80c9-960dc9e0e311",
   "metadata": {},
   "outputs": [],
   "source": [
    "#print(row_elements[0:5])"
   ]
  },
  {
   "cell_type": "code",
   "execution_count": 19,
   "id": "296f5596-b079-4794-bf34-b5270257d3f2",
   "metadata": {},
   "outputs": [],
   "source": [
    "# Loop through rows to extract data\n",
    "for row in row_elements[1:]:  # Skipping the header row\n",
    "    cols = row.find_elements(By.TAG_NAME, 'td')\n",
    "    cols = [col.text.strip() for col in cols]\n",
    "    rows.append(cols)"
   ]
  },
  {
   "cell_type": "code",
   "execution_count": 20,
   "id": "864a60d3-44d3-4f3d-b4d4-c8d172e2bd40",
   "metadata": {},
   "outputs": [
    {
     "data": {
      "text/plain": [
       "[['Ahmedabad University', 'Ahmedabad', 'Gujarat'],\n",
       " ['Amity University Rajasthan,Jaipur', 'Jaipur', 'Rajasthan'],\n",
       " ['Anand Agricultural University', 'Anand', 'Gujarat']]"
      ]
     },
     "execution_count": 20,
     "metadata": {},
     "output_type": "execute_result"
    }
   ],
   "source": [
    "rows[0:3]\n",
    "#1 row into 3 rows  : 2 & 3rd row are blanks"
   ]
  },
  {
   "cell_type": "code",
   "execution_count": 21,
   "id": "fcf90181-2984-4a8e-bde4-8f6fc6cce773",
   "metadata": {},
   "outputs": [
    {
     "name": "stdout",
     "output_type": "stream",
     "text": [
      "51 3\n"
     ]
    }
   ],
   "source": [
    "print(len(rows), len(headers))"
   ]
  },
  {
   "cell_type": "code",
   "execution_count": 22,
   "id": "c2198aaf-c885-4777-9a64-d9e974e45614",
   "metadata": {},
   "outputs": [
    {
     "name": "stdout",
     "output_type": "stream",
     "text": [
      "['Name', 'City', 'State']\n"
     ]
    }
   ],
   "source": [
    "print(headers[0:3])"
   ]
  },
  {
   "cell_type": "code",
   "execution_count": 23,
   "id": "f1e4ee65-8411-4dd2-9552-9fbfc0f5ffc8",
   "metadata": {},
   "outputs": [
    {
     "name": "stdout",
     "output_type": "stream",
     "text": [
      "[['Ahmedabad University', 'Ahmedabad', 'Gujarat'], ['Amity University Rajasthan,Jaipur', 'Jaipur', 'Rajasthan'], ['Anand Agricultural University', 'Anand', 'Gujarat'], ['B. S. Abdur Rahman Crescent Institute of Science and Technology', 'Chennai', 'Tamil Nadu'], ['Central Agricultural University', 'Imphal West', 'Manipur']]\n"
     ]
    }
   ],
   "source": [
    "print(rows[0:5])"
   ]
  },
  {
   "cell_type": "code",
   "execution_count": 24,
   "id": "10807605-bdcb-4eb2-9c3f-9872755e7c29",
   "metadata": {},
   "outputs": [],
   "source": [
    "#print(rows[0:300:3])"
   ]
  },
  {
   "cell_type": "code",
   "execution_count": null,
   "id": "3ad98ed0-6237-49b0-aa11-2095d260364e",
   "metadata": {},
   "outputs": [],
   "source": [
    "# Create a DataFrame from the extracted data\n",
    "df1 = pd.DataFrame(rows[0:len(rows)], columns=headers[0:3])"
   ]
  },
  {
   "cell_type": "code",
   "execution_count": null,
   "id": "40f0a977-3460-469f-a31c-b99752cdceb8",
   "metadata": {},
   "outputs": [],
   "source": [
    "df1.head(2)"
   ]
  },
  {
   "cell_type": "code",
   "execution_count": null,
   "id": "f7268cc2-9c80-4b3a-b0ba-36e1a27c65b4",
   "metadata": {},
   "outputs": [],
   "source": [
    "list(df1.columns)"
   ]
  },
  {
   "cell_type": "code",
   "execution_count": null,
   "id": "f3a36a24-fe7f-4bc9-b2fe-46e5a3ae5219",
   "metadata": {},
   "outputs": [],
   "source": [
    "df1.columns = ['name','city','state']"
   ]
  },
  {
   "cell_type": "code",
   "execution_count": null,
   "id": "0199ba2f-d7d8-44eb-ab2c-dd55a2dfe21e",
   "metadata": {},
   "outputs": [],
   "source": [
    "df1.head(2)"
   ]
  },
  {
   "cell_type": "code",
   "execution_count": null,
   "id": "9316fea7-0e48-4e77-9c4e-92335f14e238",
   "metadata": {},
   "outputs": [],
   "source": [
    "df1B = df1.copy()\n",
    "df1B.head(2)"
   ]
  },
  {
   "cell_type": "code",
   "execution_count": null,
   "id": "3e99615e-bd37-4c6a-9f87-bcd684f7207e",
   "metadata": {},
   "outputs": [],
   "source": [
    "df1B.shape"
   ]
  },
  {
   "cell_type": "code",
   "execution_count": null,
   "id": "dc0cc952-6fe4-44f6-a61a-0506fad8f9a8",
   "metadata": {},
   "outputs": [],
   "source": [
    "df1B['cat'] = cat1\n",
    "df1B.head()"
   ]
  },
  {
   "cell_type": "code",
   "execution_count": null,
   "id": "4055adf5-84de-4a86-8b7d-142242f83f48",
   "metadata": {},
   "outputs": [],
   "source": [
    "dfNO = pd.concat([df1B.reset_index(drop=True)], axis=1)\n",
    "dfNO['nYear'] = nData"
   ]
  },
  {
   "cell_type": "code",
   "execution_count": null,
   "id": "17e331e3-f1da-4582-a1c7-855f40293c55",
   "metadata": {},
   "outputs": [],
   "source": [
    "dfNO.head(2)"
   ]
  },
  {
   "cell_type": "code",
   "execution_count": null,
   "id": "7ae77378-2d94-49da-9d03-7ebb8c6130e7",
   "metadata": {},
   "outputs": [],
   "source": [
    "# Close the browser\n",
    "driver.quit()"
   ]
  },
  {
   "cell_type": "code",
   "execution_count": null,
   "id": "7ec1ed70-f85a-433d-8d2e-e8988d82c2d3",
   "metadata": {},
   "outputs": [],
   "source": [
    "# Display the extracted data\n",
    "#print(dfNO)"
   ]
  },
  {
   "cell_type": "code",
   "execution_count": null,
   "id": "1313dede-2a75-49b1-ac51-ba5b1da6ec16",
   "metadata": {},
   "outputs": [],
   "source": [
    "# Save the data to a CSV file\n",
    "fileLoc  = '/Users/du/dup/auData/ranking/nirf/'\n",
    "fileName = fileLoc +  nData + '.csv'\n",
    "print(nData, fileName)"
   ]
  },
  {
   "cell_type": "code",
   "execution_count": null,
   "id": "2104aa89-0295-44d2-897d-0daa9f8bb6f9",
   "metadata": {},
   "outputs": [],
   "source": [
    "dfNO.to_csv(fileName, index=False)"
   ]
  },
  {
   "cell_type": "code",
   "execution_count": null,
   "id": "2477e8fb-048a-4d08-a4d7-cc27671e47d0",
   "metadata": {},
   "outputs": [],
   "source": [
    "import os"
   ]
  },
  {
   "cell_type": "code",
   "execution_count": null,
   "id": "807b5db6-c5b5-4f8d-9289-188c59cb1655",
   "metadata": {},
   "outputs": [],
   "source": [
    "print(' '.join(map(str, os.listdir(fileLoc))))"
   ]
  },
  {
   "cell_type": "markdown",
   "id": "0113c0de-6b62-4d5c-bda9-571d96062ced",
   "metadata": {},
   "source": [
    "## End of Coding"
   ]
  },
  {
   "cell_type": "code",
   "execution_count": null,
   "id": "ddae3ecb-5268-4732-9801-c1e1ebd73750",
   "metadata": {},
   "outputs": [],
   "source": [
    "pd.read_csv(fileName).head(2)"
   ]
  },
  {
   "cell_type": "code",
   "execution_count": null,
   "id": "0050900b-a746-4688-95a9-26df0ff3d127",
   "metadata": {},
   "outputs": [],
   "source": []
  },
  {
   "cell_type": "code",
   "execution_count": null,
   "id": "3e2ee730-a63b-4dcf-8f5e-54e1293aa64e",
   "metadata": {},
   "outputs": [],
   "source": []
  }
 ],
 "metadata": {
  "kernelspec": {
   "display_name": "Python 3 (ipykernel)",
   "language": "python",
   "name": "python3"
  },
  "language_info": {
   "codemirror_mode": {
    "name": "ipython",
    "version": 3
   },
   "file_extension": ".py",
   "mimetype": "text/x-python",
   "name": "python",
   "nbconvert_exporter": "python",
   "pygments_lexer": "ipython3",
   "version": "3.12.7"
  }
 },
 "nbformat": 4,
 "nbformat_minor": 5
}
