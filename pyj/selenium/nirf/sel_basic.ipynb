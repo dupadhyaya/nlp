{
 "cells": [
  {
   "cell_type": "markdown",
   "id": "11701380-b920-4f26-9b12-95102fbeb82d",
   "metadata": {},
   "source": [
    "# Selenium - Basic Operations\n",
    "- https://testsigma.com/blog/web-element-in-selenium/\n",
    "- https://www.selenium.dev/documentation/webdriver/elements/interactions/\n",
    "- https://www.selenium.dev/documentation/webdriver/"
   ]
  },
  {
   "cell_type": "code",
   "execution_count": null,
   "id": "2ef576c0-ccdf-41e1-aed8-f2909885c1d6",
   "metadata": {},
   "outputs": [],
   "source": []
  },
  {
   "cell_type": "code",
   "execution_count": 5,
   "id": "a69a8920-3bdf-4f63-9e26-13f952f0d2a3",
   "metadata": {},
   "outputs": [],
   "source": [
    "from selenium import webdriver\n",
    "from selenium.webdriver.common.by import By\n",
    "import pandas as pd\n",
    "import numpy as np\n",
    "from selenium.webdriver.chrome.service import Service\n",
    "import time\n",
    "from webdriver_manager.chrome import ChromeDriverManager"
   ]
  },
  {
   "cell_type": "code",
   "execution_count": 24,
   "id": "a59488d6-ed5b-4e24-95c0-79f92d891855",
   "metadata": {},
   "outputs": [],
   "source": [
    "# Path to your ChromeDriver\n",
    "cp2 = '/opt/homebrew/bin/chromedriver'  # Replace with the actual path to your chromedriver"
   ]
  },
  {
   "cell_type": "markdown",
   "id": "cbf44212-4d0c-4402-bc78-03f4aa55cd95",
   "metadata": {},
   "source": [
    "# interactions with web elements\n",
    "- https://www.selenium.dev/documentation/webdriver/elements/interactions\n",
    "- There are only 5 basic commands that can be executed on an element:\n",
    "    - click (applies to any element)\n",
    "    - send keys (only applies to text fields and content editable elements)\n",
    "    - clear (only applies to text fields and content editable elements)\n",
    "    - submit (only applies to form elements)\n",
    "    - select (see Select List Elements)\n"
   ]
  },
  {
   "cell_type": "markdown",
   "id": "0be59c4c-b88c-4e30-8e4e-889303625a04",
   "metadata": {},
   "source": []
  },
  {
   "cell_type": "code",
   "execution_count": 18,
   "id": "145b0e8b-b463-4a58-8ea2-029b4786c303",
   "metadata": {},
   "outputs": [],
   "source": [
    "# driver\n",
    "cService = webdriver.ChromeService(executable_path='/opt/homebrew/bin/chromedriver')\n",
    "driver = webdriver.Chrome(service = cService)"
   ]
  },
  {
   "cell_type": "raw",
   "id": "8d9e908d-d2da-4486-9ca7-80aded681c85",
   "metadata": {},
   "source": [
    "# Find Elements\n",
    "<ol id=\"vegetables\">\n",
    "    <li class=\"potatoes\">…\n",
    "    <li class=\"onions\">…\n",
    "    <li class=\"tomatoes\"><span>Tomato is a Vegetable</span>…\n",
    "</ol>\n",
    "<ul id=\"fruits\">\n",
    "    <li class=\"bananas\">…\n",
    "    <li class=\"apples\">…\n",
    "    <li class=\"tomatoes\"><span>Tomato is a Fruit</span>…\n",
    "</ul>"
   ]
  },
  {
   "cell_type": "raw",
   "id": "854d4d4f-34d1-47ef-8fee-e82d08fd5a9f",
   "metadata": {},
   "source": [
    "# First matching Element\n",
    "## Look entire DOM\n",
    "- driver.find_element(By.CLASS_NAME, \"tomatoes\")\n",
    "## Subset of DOM\n",
    "- fruits = driver.find_element(By.ID, \"fruits\")\n",
    "- fruit = fruits.find_element(By.CLASS_NAME,\"tomatoes\")\n",
    "## Shadow DOM\n",
    "\n",
    "## Optimised Locator\n",
    "- fruit = driver.find_element(By.CSS_SELECTOR,\"#fruits .tomatoes\")\n",
    "\n",
    "# All matching Elements\n",
    "- plants = driver.find_elements(By.TAG_NAME, \"li\")\n",
    "\n",
    "# iterate over elements\n",
    "    - elements = driver.find_elements(by.TAG_NAME 'p')\n",
    "    - for e in elements:\n",
    "            print(e.text)\n",
    "\n",
    "# Find list of matching child web elements\n",
    "    - # Get element with tag name 'div'\n",
    "    - element = driver.find_element(By.TAG_NAME, 'div')\n",
    "    - # Get all the elements available with tag name 'p'\n",
    "    - elements = element.find_elements(By.TAG_NAME, 'p\n",
    "    - for e in elements:\n",
    "        print(e.text)\n",
    "\n",
    "eg2 : using XPATH\n",
    "- in order to utilize XPATH from current element, you must add \".\" to beginning of path\n",
    "    -# Get first element of tag 'ul'\n",
    "    -element = driver.find_element(By.XPATH, '//ul')\n",
    "    # get children of tag 'ul' with tag 'li'\n",
    "    -elements  = driver.find_elements(By.XPATH, './/li')\n",
    "    -for e in elements:\n",
    "        print(e.text)\n"
   ]
  },
  {
   "cell_type": "raw",
   "id": "22dffa81-b789-434a-8870-5d175b1c24c7",
   "metadata": {},
   "source": [
    "# Get Active Element\n",
    "    - driver.get(\"https://www.google.com\")\n",
    "    - driver.find_element(By.CSS_SELECTOR, '[name=\"q\"]').send_keys(\"webElement\")\n",
    "    - # Get attribute of current active element\n",
    "    - attr = driver.switch_to.active_element.get_attribute(\"title\")\n",
    "    - print(attr)"
   ]
  },
  {
   "cell_type": "code",
   "execution_count": 25,
   "id": "53fd263f-1561-44d9-8889-44cba8754d62",
   "metadata": {},
   "outputs": [
    {
     "ename": "WebDriverException",
     "evalue": "Message: disconnected: not connected to DevTools\n  (failed to check if window was closed: disconnected: not connected to DevTools)\n  (Session info: chrome=130.0.6723.59)\nStacktrace:\n0   chromedriver                        0x00000001011439d4 cxxbridge1$str$ptr + 3647524\n1   chromedriver                        0x000000010113c234 cxxbridge1$str$ptr + 3616900\n2   chromedriver                        0x0000000100ba810c cxxbridge1$string$len + 88416\n3   chromedriver                        0x0000000100b923d8 core::str::slice_error_fail::h1cab30ac4b13c655 + 63276\n4   chromedriver                        0x0000000100b92318 core::str::slice_error_fail::h1cab30ac4b13c655 + 63084\n5   chromedriver                        0x0000000100c23594 cxxbridge1$string$len + 593384\n6   chromedriver                        0x0000000100bdef34 cxxbridge1$string$len + 313224\n7   chromedriver                        0x0000000100bdfba4 cxxbridge1$string$len + 316408\n8   chromedriver                        0x000000010110e61c cxxbridge1$str$ptr + 3429484\n9   chromedriver                        0x0000000101111958 cxxbridge1$str$ptr + 3442600\n10  chromedriver                        0x00000001010f5344 cxxbridge1$str$ptr + 3326356\n11  chromedriver                        0x000000010111221c cxxbridge1$str$ptr + 3444844\n12  chromedriver                        0x00000001010e65cc cxxbridge1$str$ptr + 3265564\n13  chromedriver                        0x000000010112cc98 cxxbridge1$str$ptr + 3554024\n14  chromedriver                        0x000000010112ce14 cxxbridge1$str$ptr + 3554404\n15  chromedriver                        0x000000010113becc cxxbridge1$str$ptr + 3616028\n16  libsystem_pthread.dylib             0x0000000188c8f2e4 _pthread_start + 136\n17  libsystem_pthread.dylib             0x0000000188c8a0fc thread_start + 8\n",
     "output_type": "error",
     "traceback": [
      "\u001b[0;31m---------------------------------------------------------------------------\u001b[0m",
      "\u001b[0;31mWebDriverException\u001b[0m                        Traceback (most recent call last)",
      "Cell \u001b[0;32mIn[25], line 1\u001b[0m\n\u001b[0;32m----> 1\u001b[0m driver\u001b[38;5;241m.\u001b[39mget(\u001b[38;5;124m\"\u001b[39m\u001b[38;5;124mhttps://www.google.com\u001b[39m\u001b[38;5;124m\"\u001b[39m)\n\u001b[1;32m      2\u001b[0m driver\u001b[38;5;241m.\u001b[39mfind_element(By\u001b[38;5;241m.\u001b[39mCSS_SELECTOR, \u001b[38;5;124m'\u001b[39m\u001b[38;5;124m[name=\u001b[39m\u001b[38;5;124m\"\u001b[39m\u001b[38;5;124mq\u001b[39m\u001b[38;5;124m\"\u001b[39m\u001b[38;5;124m]\u001b[39m\u001b[38;5;124m'\u001b[39m)\u001b[38;5;241m.\u001b[39msend_keys(\u001b[38;5;124m\"\u001b[39m\u001b[38;5;124mDhiraj Upadhyaya\u001b[39m\u001b[38;5;124m\"\u001b[39m)\n\u001b[1;32m      4\u001b[0m \u001b[38;5;66;03m# Get attribute of current active element\u001b[39;00m\n",
      "File \u001b[0;32m~/anaconda3/lib/python3.11/site-packages/selenium/webdriver/remote/webdriver.py:356\u001b[0m, in \u001b[0;36mWebDriver.get\u001b[0;34m(self, url)\u001b[0m\n\u001b[1;32m    354\u001b[0m \u001b[38;5;28;01mdef\u001b[39;00m \u001b[38;5;21mget\u001b[39m(\u001b[38;5;28mself\u001b[39m, url: \u001b[38;5;28mstr\u001b[39m) \u001b[38;5;241m-\u001b[39m\u001b[38;5;241m>\u001b[39m \u001b[38;5;28;01mNone\u001b[39;00m:\n\u001b[1;32m    355\u001b[0m \u001b[38;5;250m    \u001b[39m\u001b[38;5;124;03m\"\"\"Loads a web page in the current browser session.\"\"\"\u001b[39;00m\n\u001b[0;32m--> 356\u001b[0m     \u001b[38;5;28mself\u001b[39m\u001b[38;5;241m.\u001b[39mexecute(Command\u001b[38;5;241m.\u001b[39mGET, {\u001b[38;5;124m\"\u001b[39m\u001b[38;5;124murl\u001b[39m\u001b[38;5;124m\"\u001b[39m: url})\n",
      "File \u001b[0;32m~/anaconda3/lib/python3.11/site-packages/selenium/webdriver/remote/webdriver.py:347\u001b[0m, in \u001b[0;36mWebDriver.execute\u001b[0;34m(self, driver_command, params)\u001b[0m\n\u001b[1;32m    345\u001b[0m response \u001b[38;5;241m=\u001b[39m \u001b[38;5;28mself\u001b[39m\u001b[38;5;241m.\u001b[39mcommand_executor\u001b[38;5;241m.\u001b[39mexecute(driver_command, params)\n\u001b[1;32m    346\u001b[0m \u001b[38;5;28;01mif\u001b[39;00m response:\n\u001b[0;32m--> 347\u001b[0m     \u001b[38;5;28mself\u001b[39m\u001b[38;5;241m.\u001b[39merror_handler\u001b[38;5;241m.\u001b[39mcheck_response(response)\n\u001b[1;32m    348\u001b[0m     response[\u001b[38;5;124m\"\u001b[39m\u001b[38;5;124mvalue\u001b[39m\u001b[38;5;124m\"\u001b[39m] \u001b[38;5;241m=\u001b[39m \u001b[38;5;28mself\u001b[39m\u001b[38;5;241m.\u001b[39m_unwrap_value(response\u001b[38;5;241m.\u001b[39mget(\u001b[38;5;124m\"\u001b[39m\u001b[38;5;124mvalue\u001b[39m\u001b[38;5;124m\"\u001b[39m, \u001b[38;5;28;01mNone\u001b[39;00m))\n\u001b[1;32m    349\u001b[0m     \u001b[38;5;28;01mreturn\u001b[39;00m response\n",
      "File \u001b[0;32m~/anaconda3/lib/python3.11/site-packages/selenium/webdriver/remote/errorhandler.py:229\u001b[0m, in \u001b[0;36mErrorHandler.check_response\u001b[0;34m(self, response)\u001b[0m\n\u001b[1;32m    227\u001b[0m         alert_text \u001b[38;5;241m=\u001b[39m value[\u001b[38;5;124m\"\u001b[39m\u001b[38;5;124malert\u001b[39m\u001b[38;5;124m\"\u001b[39m]\u001b[38;5;241m.\u001b[39mget(\u001b[38;5;124m\"\u001b[39m\u001b[38;5;124mtext\u001b[39m\u001b[38;5;124m\"\u001b[39m)\n\u001b[1;32m    228\u001b[0m     \u001b[38;5;28;01mraise\u001b[39;00m exception_class(message, screen, stacktrace, alert_text)  \u001b[38;5;66;03m# type: ignore[call-arg]  # mypy is not smart enough here\u001b[39;00m\n\u001b[0;32m--> 229\u001b[0m \u001b[38;5;28;01mraise\u001b[39;00m exception_class(message, screen, stacktrace)\n",
      "\u001b[0;31mWebDriverException\u001b[0m: Message: disconnected: not connected to DevTools\n  (failed to check if window was closed: disconnected: not connected to DevTools)\n  (Session info: chrome=130.0.6723.59)\nStacktrace:\n0   chromedriver                        0x00000001011439d4 cxxbridge1$str$ptr + 3647524\n1   chromedriver                        0x000000010113c234 cxxbridge1$str$ptr + 3616900\n2   chromedriver                        0x0000000100ba810c cxxbridge1$string$len + 88416\n3   chromedriver                        0x0000000100b923d8 core::str::slice_error_fail::h1cab30ac4b13c655 + 63276\n4   chromedriver                        0x0000000100b92318 core::str::slice_error_fail::h1cab30ac4b13c655 + 63084\n5   chromedriver                        0x0000000100c23594 cxxbridge1$string$len + 593384\n6   chromedriver                        0x0000000100bdef34 cxxbridge1$string$len + 313224\n7   chromedriver                        0x0000000100bdfba4 cxxbridge1$string$len + 316408\n8   chromedriver                        0x000000010110e61c cxxbridge1$str$ptr + 3429484\n9   chromedriver                        0x0000000101111958 cxxbridge1$str$ptr + 3442600\n10  chromedriver                        0x00000001010f5344 cxxbridge1$str$ptr + 3326356\n11  chromedriver                        0x000000010111221c cxxbridge1$str$ptr + 3444844\n12  chromedriver                        0x00000001010e65cc cxxbridge1$str$ptr + 3265564\n13  chromedriver                        0x000000010112cc98 cxxbridge1$str$ptr + 3554024\n14  chromedriver                        0x000000010112ce14 cxxbridge1$str$ptr + 3554404\n15  chromedriver                        0x000000010113becc cxxbridge1$str$ptr + 3616028\n16  libsystem_pthread.dylib             0x0000000188c8f2e4 _pthread_start + 136\n17  libsystem_pthread.dylib             0x0000000188c8a0fc thread_start + 8\n"
     ]
    }
   ],
   "source": [
    "driver.get(\"https://www.google.com\")\n",
    "driver.find_element(By.CSS_SELECTOR, '[name=\"q\"]').send_keys(\"Dhiraj Upadhyaya\")\n",
    "\n",
    "# Get attribute of current active element\n",
    "attr = driver.switch_to.active_element.get_attribute(\"title\")\n",
    "print(attr)"
   ]
  },
  {
   "cell_type": "markdown",
   "id": "8dd06acd-deb4-4fe8-9263-1083a34f928a",
   "metadata": {},
   "source": [
    "## LOCATORS"
   ]
  },
  {
   "cell_type": "markdown",
   "id": "057c8455-d725-466f-a700-cabbebd3a691",
   "metadata": {},
   "source": [
    "<html>\n",
    "<body>\n",
    "<style>\n",
    ".information {\n",
    "  background-color: white;\n",
    "  color: black;\n",
    "  padding: 10px;\n",
    "}\n",
    "</style>\n",
    "<h2>Contact Selenium</h2>\n",
    "\n",
    "<form action=\"/action_page.php\">\n",
    "  <input type=\"radio\" name=\"gender\" value=\"m\" />Male &nbsp;\n",
    "  <input type=\"radio\" name=\"gender\" value=\"f\" />Female <br>\n",
    "  <br>\n",
    "  <label for=\"fname\">First name:</label><br>\n",
    "  <input class=\"information\" type=\"text\" id=\"fname\" name=\"fname\" value=\"Jane\"><br><br>\n",
    "  <label for=\"lname\">Last name:</label><br>\n",
    "  <input class=\"information\" type=\"text\" id=\"lname\" name=\"lname\" value=\"Doe\"><br><br>\n",
    "  <label for=\"newsletter\">Newsletter:</label>\n",
    "  <input type=\"checkbox\" name=\"newsletter\" value=\"1\" /><br><br>\n",
    "  <input type=\"submit\" value=\"Submit\">\n",
    "</form> \n",
    "\n",
    "<p>To know more about Selenium, visit the official page \n",
    "<a href =\"www.selenium.dev\">Selenium Official Page</a> \n",
    "</p>\n",
    "\n",
    "</body>\n",
    "</html>"
   ]
  },
  {
   "cell_type": "markdown",
   "id": "75e8d175-cd1a-49e5-99a5-dd99ed533df8",
   "metadata": {},
   "source": [
    "## Locators\n",
    "- classname\n",
    "    - driver.find_element(By.CLASS_NAME, \"information\")\n",
    "- css selector : css used to style HTMLpages\n",
    "    - If the element has an id, we create the locator as css = #id.\n",
    "        - driver.find_element(By.CSS_SELECTOR, \"#fname\")\n",
    "    - Otherwise the format we follow is css =[attribute=value] .\n",
    "- id\n",
    "    - Generally the ID property should be unique for each element on the web page.\n",
    "    - driver.find_element(By.ID, \"lname\")\n",
    "- name\n",
    "    - Generally the NAME property should be unique for each element on the web page\n",
    "    - driver.find_element(By.NAME, \"newsletter\")\n",
    "- link text\n",
    "    - If the element we want to locate is a link, we can use the link text locator to identify it on the web page.\n",
    "    - The link text is the text displayed of the link.\n",
    "    - driver.find_element(By.LINK_TEXT, \"Selenium Official Page\")\n",
    "- partial link text\n",
    "    - If the element we want to locate is a link, we can use the partial link text locator to identify it on the web page.\n",
    "    - The link text is the text displayed of the link. We can pass partial text as value.\n",
    "    - driver.find_element(By.PARTIAL_LINK_TEXT, \"Official Page\")\n",
    "- tag name\n",
    "    - We can use the HTML TAG itself as a locator to identify the web element on the page.\n",
    "    - driver.find_element(By.TAG_NAME, \"a\")\n",
    "- xpath\n",
    "    - A HTML document can be considered as a XML document, and then we can use xpath which will be the path traversed to reach the element of interest to locate the element.\n",
    "    - The XPath could be absolute xpath, which is created from the root of the document. Example - /html/form/input[1]. This will return the male radio button.\n",
    "    - Or the xpath could be relative. Example- //input[@name=‘fname’]. This will return the first name text box\n",
    "    - driver.find_element(By.XPATH, \"//input[@value='f']\")"
   ]
  },
  {
   "cell_type": "raw",
   "id": "c3c3cda4-4b7d-4c04-8a61-e65e1d80b6b3",
   "metadata": {},
   "source": [
    "## Relative Locators\n",
    "- Above\n",
    "    - If the email text field element is not easily identifiable for some reason, but the password text field element is, we can locate the text field element using the fact that it is an “input” element “above” the password element.\n",
    "    - email_locator = locate_with(By.TAG_NAME, \"input\").above({By.ID: \"password\"})\n",
    "- Below\n",
    "    - password_locator = locate_with(By.TAG_NAME, \"input\").below({By.ID: \"email\"})\n",
    "- Left of\n",
    "    - If the cancel button is not easily identifiable for some reason, but the submit button element is, we can locate the cancel button element using the fact that it is a “button” element to the “left of” the submit element.\n",
    "    - cancel_locator = locate_with(By.TAG_NAME, \"button\").to_left_of({By.ID: \"submit\"})\n",
    "- Right of\n",
    "    - submit_locator = locate_with(By.TAG_NAME, \"button\").to_right_of({By.ID: \"cancel\n",
    "- Near \n",
    "    - If the relative positioning is not obvious, or it varies based on window size, you can use the near method to identify an element that is at most 50px away from the provided locator. One great use case for this is to work with a form element that doesn’t have an easily constructed locator, but its associated input label element does.\n",
    "    - email_locator = locate_with(By.TAG_NAME, \"input\").near({By.ID: \"lbl-email\"})\n",
    "- Chaining relative locators\n",
    "    - You can also chain locators if needed. Sometimes the element is most easily identified as being both above/below one element and right/left of another.\n",
    "    - submit_locator = locate_with(By.TAG_NAME, \"button\").below({By.ID: \"email\"}).to_right_of({By.ID: \"cancel\"}) "
   ]
  },
  {
   "cell_type": "code",
   "execution_count": 19,
   "id": "0a4e19b2-6881-4e71-bbd1-18f899956aeb",
   "metadata": {},
   "outputs": [
    {
     "name": "stdout",
     "output_type": "stream",
     "text": [
      "https://www.selenium.dev/selenium/web/inputs.html\n"
     ]
    }
   ],
   "source": [
    "url1 = \"https://www.selenium.dev/selenium/web/inputs.html\"\n",
    "print(url1)"
   ]
  },
  {
   "cell_type": "code",
   "execution_count": 20,
   "id": "841bfca3-3435-4620-ba74-f2b8f0529af0",
   "metadata": {},
   "outputs": [],
   "source": [
    "driver.get(url1)\n",
    "# <input name=\"color_input\" type=\"color\" value=\"#00ffff\">"
   ]
  },
  {
   "cell_type": "code",
   "execution_count": 21,
   "id": "a9975dcd-965c-4eab-88cc-68b5d286eb3e",
   "metadata": {},
   "outputs": [
    {
     "name": "stdout",
     "output_type": "stream",
     "text": [
      "\n"
     ]
    }
   ],
   "source": []
  },
  {
   "cell_type": "markdown",
   "id": "a3d7b0fc-2c3c-40ba-a4be-23a4731cf91b",
   "metadata": {},
   "source": [
    "## CLICK on webelement  *.click()"
   ]
  },
  {
   "cell_type": "code",
   "execution_count": 11,
   "id": "7c7a6161-d54e-4ffb-b115-0420c09d38bf",
   "metadata": {},
   "outputs": [
    {
     "data": {
      "text/plain": [
       "<selenium.webdriver.remote.webelement.WebElement (session=\"6061ffb9abe854ee5fa27eb9fd0ae040\", element=\"f.4C720DE395B531EF3E47AC5ACA8F3192.d.EB880499A8B3A494ECBB68A3EE8650D4.e.17\")>"
      ]
     },
     "execution_count": 11,
     "metadata": {},
     "output_type": "execute_result"
    }
   ],
   "source": [
    "color_element = driver.find_element(By.NAME, 'color_input')\n",
    "color_element"
   ]
  },
  {
   "cell_type": "code",
   "execution_count": 12,
   "id": "9ca6fb55-4077-45d5-8204-91fc3f9bee56",
   "metadata": {},
   "outputs": [],
   "source": [
    "color_element.click()\n",
    "#see the pop of colors"
   ]
  },
  {
   "cell_type": "markdown",
   "id": "85d60dfa-a439-4afc-88e1-dcbddbf294e1",
   "metadata": {},
   "source": [
    "## CLEAR & SEND data via webelement : \n",
    "- *.clear()\n",
    "- *.send_keys('xx')"
   ]
  },
  {
   "cell_type": "code",
   "execution_count": 13,
   "id": "12be655c-71e9-429c-8e7e-73a5a3155b27",
   "metadata": {},
   "outputs": [],
   "source": [
    "# Navigate to url\n",
    "driver.get(\"https://www.selenium.dev/selenium/web/inputs.html\")\n",
    "# <input name=\"email_input\" type=\"email\" value=\"admin@localhost\">"
   ]
  },
  {
   "cell_type": "code",
   "execution_count": 14,
   "id": "6b0ca248-10b1-4cd6-bfba-b1fb51d6149e",
   "metadata": {},
   "outputs": [],
   "source": [
    "# Clear field to empty it from any previous data\n",
    "email_element = driver.find_element(By.NAME, \"email_input\")\n",
    "email_element.clear()\n",
    "# nothing in the email box now"
   ]
  },
  {
   "cell_type": "code",
   "execution_count": 15,
   "id": "4c31c66f-7999-4058-9e4f-971e9a946a1c",
   "metadata": {},
   "outputs": [],
   "source": [
    "email_element.send_keys(\"dup1966@gmail.com\" )"
   ]
  },
  {
   "cell_type": "code",
   "execution_count": null,
   "id": "3d1ca371-f988-4632-ad45-7991a35f0165",
   "metadata": {},
   "outputs": [],
   "source": [
    "## Operations on WebElements\n",
    "- Browser Operations – Launch, navigate, maximize, minimize, refresh and exit.\n",
    "Web Page Operations – Get the title of the page, URL of the page\n",
    "Link Operations – Click on the Link, Return to the home page, and return to the link name\n",
    "Edit Box Operations – Enter a value, get a new value, delete\n",
    "Button Operations – Enable/disable button status, display status update\n",
    "Text Operations – Capture or return messages/texts on the webpage\n",
    "Image Operations – General image display, clickable image function, redirecting image link\n",
    "Frame Operations – Switch to a specific web page frame from the top window and vice versa\n",
    "Checkbox Operations – Tick and undo\n",
    "Drop Down Operations – Click on the drop-down menu, select and get the count"
   ]
  }
 ],
 "metadata": {
  "kernelspec": {
   "display_name": "Python 3 (ipykernel)",
   "language": "python",
   "name": "python3"
  },
  "language_info": {
   "codemirror_mode": {
    "name": "ipython",
    "version": 3
   },
   "file_extension": ".py",
   "mimetype": "text/x-python",
   "name": "python",
   "nbconvert_exporter": "python",
   "pygments_lexer": "ipython3",
   "version": "3.12.7"
  }
 },
 "nbformat": 4,
 "nbformat_minor": 5
}
