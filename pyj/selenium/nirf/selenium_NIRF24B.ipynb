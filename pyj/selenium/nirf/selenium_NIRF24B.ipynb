{
 "cells": [
  {
   "cell_type": "code",
   "execution_count": 806,
   "id": "5b644579-bf7b-433a-adce-a3ba0bee43b2",
   "metadata": {},
   "outputs": [],
   "source": [
    "# Create Code to import data from NIRF with scores"
   ]
  },
  {
   "cell_type": "markdown",
   "id": "c0b9a51f-e93f-4c48-8da4-4ce83475bed2",
   "metadata": {},
   "source": [
    "## Using Selenium"
   ]
  },
  {
   "cell_type": "code",
   "execution_count": 1,
   "id": "b293f26b-dd3e-4cb4-bfc4-d66b1b349151",
   "metadata": {},
   "outputs": [],
   "source": [
    "from selenium import webdriver\n",
    "from selenium.webdriver.common.by import By\n",
    "import pandas as pd\n",
    "from selenium.webdriver.chrome.service import Service"
   ]
  },
  {
   "cell_type": "markdown",
   "id": "7653ffab-9672-41c7-8409-b158ec1d1cab",
   "metadata": {},
   "source": [
    "# Chrome Version\n",
    "- Version 129.0.6668.71 (Official Build) (arm64)\n",
    "- Latest ChromeDriver 114.0.5735.90\n",
    "- chrome://settings/help\n",
    "- https://developer.chrome.com/docs/chromedriver/downloads"
   ]
  },
  {
   "cell_type": "code",
   "execution_count": 2,
   "id": "a120bff4-9d72-43f3-bf36-778dabc82b78",
   "metadata": {},
   "outputs": [],
   "source": [
    "import time"
   ]
  },
  {
   "cell_type": "code",
   "execution_count": 3,
   "id": "38fa2109-029b-4373-b3d5-d1e4cd16fb61",
   "metadata": {},
   "outputs": [],
   "source": [
    "# Path to your ChromeDriver\n",
    "cp2 = '/opt/homebrew/bin/chromedriver'  # Replace with the actual path to your chromedriver"
   ]
  },
  {
   "cell_type": "markdown",
   "id": "d883b7d7-b03f-47e0-8ceb-9c65a9fb9f72",
   "metadata": {},
   "source": [
    "??webdriver.chrome"
   ]
  },
  {
   "cell_type": "code",
   "execution_count": 4,
   "id": "702e947d-f9cf-4947-9456-781822ecf560",
   "metadata": {},
   "outputs": [],
   "source": [
    "#!pip install webdriver-manager\n",
    "from webdriver_manager.chrome import ChromeDriverManager"
   ]
  },
  {
   "cell_type": "code",
   "execution_count": 5,
   "id": "6e433cc3-b2ae-451b-b4fe-803269e97af3",
   "metadata": {},
   "outputs": [],
   "source": []
  },
  {
   "cell_type": "code",
   "execution_count": 812,
   "id": "4af9c644-e454-43d2-bd2e-91b6cd9a6330",
   "metadata": {},
   "outputs": [
    {
     "name": "stdout",
     "output_type": "stream",
     "text": [
      "n20o https://www.nirfindia.org/Rankings/2020/OverallRanking.html\n"
     ]
    }
   ],
   "source": [
    "# Open the NIRF rankings page\n",
    "n24o = \"https://www.nirfindia.org/Rankings/2024/OverallRanking.html\"\n",
    "n23o = \"https://www.nirfindia.org/Rankings/2023/OverallRanking.html\"\n",
    "n22o = \"https://www.nirfindia.org/Rankings/2022/OverallRanking.html\"\n",
    "n21o = \"https://www.nirfindia.org/Rankings/2021/OverallRanking.html\"\n",
    "n20o = \"https://www.nirfindia.org/Rankings/2020/OverallRanking.html\"\n",
    "n19o = \"https://www.nirfindia.org/Rankings/2019/OverallRanking.html\"\n",
    "#n18o = \"https://www.nirfindia.org/Rankings/2018/OverallRanking.html\"\n",
    "#n17o = \"https://www.nirfindia.org/Rankings/2017/OverallRanking.html\"\n",
    "#n16o = \"https://www.nirfindia.org/Rankings/2016/OverallRanking.html\"\n",
    "\n",
    "url = n20o; nData = 'n20o'\n",
    "print(nData, url)"
   ]
  },
  {
   "cell_type": "code",
   "execution_count": 253,
   "id": "b80db78b-ad62-44c2-80cc-56f622b77d47",
   "metadata": {},
   "outputs": [
    {
     "name": "stdout",
     "output_type": "stream",
     "text": [
      "n20u https://www.nirfindia.org/Rankings/2020/UniversityRanking.html\n"
     ]
    }
   ],
   "source": [
    "#University Rankings\n",
    "n24u = \"https://www.nirfindia.org/Rankings/2024/UniversityRanking.html\"\n",
    "n23u = \"https://www.nirfindia.org/Rankings/2023/UniversityRanking.html\"\n",
    "n22u = \"https://www.nirfindia.org/Rankings/2022/UniversityRanking.html\"\n",
    "n21u = \"https://www.nirfindia.org/Rankings/2021/UniversityRanking.html\"\n",
    "n20u = \"https://www.nirfindia.org/Rankings/2020/UniversityRanking.html\"\n",
    "#n20u = \"https://www.nirfindia.org/Rankings/2020/UniversityRanking.html\"\n",
    "url = n20u; nData = 'n20u'\n",
    "print(nData, url)"
   ]
  },
  {
   "cell_type": "code",
   "execution_count": 254,
   "id": "4e05d029-1463-4fc9-ab99-8f1ea1eb03c9",
   "metadata": {},
   "outputs": [],
   "source": [
    "cService = webdriver.ChromeService(executable_path='/opt/homebrew/bin/chromedriver')\n",
    "driver = webdriver.Chrome(service = cService)"
   ]
  },
  {
   "cell_type": "code",
   "execution_count": 255,
   "id": "d7e5a92a-5408-40e9-9978-a3d4bbf4ca84",
   "metadata": {},
   "outputs": [],
   "source": [
    "driver.get(url)\n",
    "driver.maximize_window()"
   ]
  },
  {
   "cell_type": "code",
   "execution_count": 256,
   "id": "db155720-9788-4075-9cfe-a3037a91292a",
   "metadata": {},
   "outputs": [
    {
     "name": "stdout",
     "output_type": "stream",
     "text": [
      "MoE, National Institute Ranking Framework (NIRF)\n"
     ]
    }
   ],
   "source": [
    "print(driver.title)"
   ]
  },
  {
   "cell_type": "code",
   "execution_count": 257,
   "id": "a6ffe442-13fc-471b-8fa7-605fe3db8f68",
   "metadata": {},
   "outputs": [],
   "source": [
    "# Allow the page to load completely\n",
    "time.sleep(5)  # Adjust time if needed, or you can use Selenium's explicit waits"
   ]
  },
  {
   "cell_type": "code",
   "execution_count": 258,
   "id": "584b0521-d580-4acf-a3a5-e19d1f1385c2",
   "metadata": {},
   "outputs": [],
   "source": [
    "data=[]\n",
    "score=[]"
   ]
  },
  {
   "cell_type": "code",
   "execution_count": 259,
   "id": "c40c1423-d2ee-4691-bbf3-4bc170023cfa",
   "metadata": {},
   "outputs": [],
   "source": [
    "button = driver.find_element(By.XPATH , value = '//a[@class=\"btn-more-details\"]')\n",
    "button.click()  #this worked"
   ]
  },
  {
   "cell_type": "code",
   "execution_count": 260,
   "id": "c6dd5785-0b0d-459d-8d5b-454b82fcca45",
   "metadata": {},
   "outputs": [],
   "source": [
    "table1=driver.find_elements(by=By.XPATH, value='//div[@class=\"tbl_hidden\"]//tbody//tr')"
   ]
  },
  {
   "cell_type": "code",
   "execution_count": 261,
   "id": "e41beb24-6335-431c-99fd-687d4547de74",
   "metadata": {},
   "outputs": [
    {
     "data": {
      "text/plain": [
       "100"
      ]
     },
     "execution_count": 261,
     "metadata": {},
     "output_type": "execute_result"
    }
   ],
   "source": [
    "#table1\n",
    "len(table1)  #100 univ data so 100 elements"
   ]
  },
  {
   "cell_type": "code",
   "execution_count": 262,
   "id": "4908f14b-1f2f-43c7-9ce0-9edb1376a791",
   "metadata": {},
   "outputs": [],
   "source": [
    "length = len(table1)\n",
    "for i in range(length):\n",
    "    #print(i)\n",
    "    score.append(table1[i].get_attribute('innerHTML'))\n",
    "    #score.append(\" \")"
   ]
  },
  {
   "cell_type": "code",
   "execution_count": 263,
   "id": "d4d5e901-f5a6-457e-87c7-5b9a72ec64a4",
   "metadata": {},
   "outputs": [],
   "source": [
    "#score[0:10]\n",
    "#this score of 100 orgs"
   ]
  },
  {
   "cell_type": "code",
   "execution_count": 264,
   "id": "b3ff3415-d2a1-4bcd-ac3a-9ec59a1eadb9",
   "metadata": {},
   "outputs": [
    {
     "data": {
      "text/html": [
       "<div>\n",
       "<style scoped>\n",
       "    .dataframe tbody tr th:only-of-type {\n",
       "        vertical-align: middle;\n",
       "    }\n",
       "\n",
       "    .dataframe tbody tr th {\n",
       "        vertical-align: top;\n",
       "    }\n",
       "\n",
       "    .dataframe thead th {\n",
       "        text-align: right;\n",
       "    }\n",
       "</style>\n",
       "<table border=\"1\" class=\"dataframe\">\n",
       "  <thead>\n",
       "    <tr style=\"text-align: right;\">\n",
       "      <th></th>\n",
       "      <th>0</th>\n",
       "    </tr>\n",
       "  </thead>\n",
       "  <tbody>\n",
       "    <tr>\n",
       "      <th>0</th>\n",
       "      <td>&lt;td&gt;82.22&lt;/td&gt;&lt;td&gt;92.16&lt;/td&gt;&lt;td&gt;82.89&lt;/td&gt;&lt;td&gt;...</td>\n",
       "    </tr>\n",
       "    <tr>\n",
       "      <th>1</th>\n",
       "      <td>&lt;td&gt;74.98&lt;/td&gt;&lt;td&gt;44.80&lt;/td&gt;&lt;td&gt;100.00&lt;/td&gt;&lt;td...</td>\n",
       "    </tr>\n",
       "  </tbody>\n",
       "</table>\n",
       "</div>"
      ],
      "text/plain": [
       "                                                   0\n",
       "0  <td>82.22</td><td>92.16</td><td>82.89</td><td>...\n",
       "1  <td>74.98</td><td>44.80</td><td>100.00</td><td..."
      ]
     },
     "execution_count": 264,
     "metadata": {},
     "output_type": "execute_result"
    }
   ],
   "source": [
    "df2 =pd.DataFrame(score)\n",
    "df2.head(2)"
   ]
  },
  {
   "cell_type": "code",
   "execution_count": 265,
   "id": "992f24f3-aada-45a4-92aa-47859998a86a",
   "metadata": {},
   "outputs": [],
   "source": [
    "df2['A']=df2[0].apply(lambda x: x.replace('</td>',','))\n",
    "#remove <td> and </td> from data"
   ]
  },
  {
   "cell_type": "code",
   "execution_count": 266,
   "id": "c054a5fa-4e6f-47f5-b84e-78de5ae36125",
   "metadata": {},
   "outputs": [],
   "source": [
    "#df2.head(3)  #remove </td> and put a new col A"
   ]
  },
  {
   "cell_type": "code",
   "execution_count": 267,
   "id": "9ab9e07d-3e52-4701-bacf-f3772e73fc2e",
   "metadata": {},
   "outputs": [],
   "source": [
    "df2['A']=df2['A'].apply(lambda x: x.replace('<td>','')) "
   ]
  },
  {
   "cell_type": "code",
   "execution_count": 268,
   "id": "c7a786f1-1bc5-47be-83e3-1f073f4e8c9c",
   "metadata": {},
   "outputs": [
    {
     "data": {
      "text/html": [
       "<div>\n",
       "<style scoped>\n",
       "    .dataframe tbody tr th:only-of-type {\n",
       "        vertical-align: middle;\n",
       "    }\n",
       "\n",
       "    .dataframe tbody tr th {\n",
       "        vertical-align: top;\n",
       "    }\n",
       "\n",
       "    .dataframe thead th {\n",
       "        text-align: right;\n",
       "    }\n",
       "</style>\n",
       "<table border=\"1\" class=\"dataframe\">\n",
       "  <thead>\n",
       "    <tr style=\"text-align: right;\">\n",
       "      <th></th>\n",
       "      <th>0</th>\n",
       "      <th>A</th>\n",
       "    </tr>\n",
       "  </thead>\n",
       "  <tbody>\n",
       "    <tr>\n",
       "      <th>0</th>\n",
       "      <td>&lt;td&gt;82.22&lt;/td&gt;&lt;td&gt;92.16&lt;/td&gt;&lt;td&gt;82.89&lt;/td&gt;&lt;td&gt;...</td>\n",
       "      <td>82.22,92.16,82.89,52.84,100.00,</td>\n",
       "    </tr>\n",
       "    <tr>\n",
       "      <th>1</th>\n",
       "      <td>&lt;td&gt;74.98&lt;/td&gt;&lt;td&gt;44.80&lt;/td&gt;&lt;td&gt;100.00&lt;/td&gt;&lt;td...</td>\n",
       "      <td>74.98,44.80,100.00,75.10,67.24,</td>\n",
       "    </tr>\n",
       "  </tbody>\n",
       "</table>\n",
       "</div>"
      ],
      "text/plain": [
       "                                                   0  \\\n",
       "0  <td>82.22</td><td>92.16</td><td>82.89</td><td>...   \n",
       "1  <td>74.98</td><td>44.80</td><td>100.00</td><td...   \n",
       "\n",
       "                                 A  \n",
       "0  82.22,92.16,82.89,52.84,100.00,  \n",
       "1  74.98,44.80,100.00,75.10,67.24,  "
      ]
     },
     "execution_count": 268,
     "metadata": {},
     "output_type": "execute_result"
    }
   ],
   "source": [
    "df2.head(2)  #remove <td> , now A col is correct, values delimited by , "
   ]
  },
  {
   "cell_type": "code",
   "execution_count": 269,
   "id": "0ea0cf22-af10-4dac-a6f8-91cabd9b1da6",
   "metadata": {},
   "outputs": [],
   "source": [
    "df2['A']=df2['A'].str.split(',')\n",
    "#split the data delim by ,\n",
    "#df2.head()"
   ]
  },
  {
   "cell_type": "code",
   "execution_count": 270,
   "id": "9c2a32e2-a8d7-4225-b89c-e25ff6321bba",
   "metadata": {},
   "outputs": [],
   "source": [
    "#df2.dtypes"
   ]
  },
  {
   "cell_type": "code",
   "execution_count": 271,
   "id": "22fab5bd-f7e0-4f08-8da2-27cd3b403553",
   "metadata": {},
   "outputs": [],
   "source": [
    "df2B = df2['A'].apply(pd.Series)  # create a new DF df3 from series of Col A of df\n",
    "df2B.columns = ['A', 'B','C','D','E','F']  # put values in different columns"
   ]
  },
  {
   "cell_type": "code",
   "execution_count": 272,
   "id": "774d4922-29e7-4ffd-9da8-649500e93985",
   "metadata": {},
   "outputs": [
    {
     "data": {
      "text/html": [
       "<div>\n",
       "<style scoped>\n",
       "    .dataframe tbody tr th:only-of-type {\n",
       "        vertical-align: middle;\n",
       "    }\n",
       "\n",
       "    .dataframe tbody tr th {\n",
       "        vertical-align: top;\n",
       "    }\n",
       "\n",
       "    .dataframe thead th {\n",
       "        text-align: right;\n",
       "    }\n",
       "</style>\n",
       "<table border=\"1\" class=\"dataframe\">\n",
       "  <thead>\n",
       "    <tr style=\"text-align: right;\">\n",
       "      <th></th>\n",
       "      <th>A</th>\n",
       "      <th>B</th>\n",
       "      <th>C</th>\n",
       "      <th>D</th>\n",
       "      <th>E</th>\n",
       "      <th>F</th>\n",
       "    </tr>\n",
       "  </thead>\n",
       "  <tbody>\n",
       "    <tr>\n",
       "      <th>0</th>\n",
       "      <td>82.22</td>\n",
       "      <td>92.16</td>\n",
       "      <td>82.89</td>\n",
       "      <td>52.84</td>\n",
       "      <td>100.00</td>\n",
       "      <td></td>\n",
       "    </tr>\n",
       "    <tr>\n",
       "      <th>1</th>\n",
       "      <td>74.98</td>\n",
       "      <td>44.80</td>\n",
       "      <td>100.00</td>\n",
       "      <td>75.10</td>\n",
       "      <td>67.24</td>\n",
       "      <td></td>\n",
       "    </tr>\n",
       "  </tbody>\n",
       "</table>\n",
       "</div>"
      ],
      "text/plain": [
       "       A      B       C      D       E F\n",
       "0  82.22  92.16   82.89  52.84  100.00  \n",
       "1  74.98  44.80  100.00  75.10   67.24  "
      ]
     },
     "execution_count": 272,
     "metadata": {},
     "output_type": "execute_result"
    }
   ],
   "source": [
    "df2B.head(2)"
   ]
  },
  {
   "cell_type": "code",
   "execution_count": 273,
   "id": "677dae07-d703-4d47-a4e8-3e1f099a322e",
   "metadata": {},
   "outputs": [
    {
     "data": {
      "text/html": [
       "<div>\n",
       "<style scoped>\n",
       "    .dataframe tbody tr th:only-of-type {\n",
       "        vertical-align: middle;\n",
       "    }\n",
       "\n",
       "    .dataframe tbody tr th {\n",
       "        vertical-align: top;\n",
       "    }\n",
       "\n",
       "    .dataframe thead th {\n",
       "        text-align: right;\n",
       "    }\n",
       "</style>\n",
       "<table border=\"1\" class=\"dataframe\">\n",
       "  <thead>\n",
       "    <tr style=\"text-align: right;\">\n",
       "      <th></th>\n",
       "      <th>A</th>\n",
       "      <th>B</th>\n",
       "      <th>C</th>\n",
       "      <th>D</th>\n",
       "      <th>E</th>\n",
       "      <th>F</th>\n",
       "    </tr>\n",
       "  </thead>\n",
       "  <tbody>\n",
       "    <tr>\n",
       "      <th>count</th>\n",
       "      <td>100</td>\n",
       "      <td>100</td>\n",
       "      <td>100</td>\n",
       "      <td>100</td>\n",
       "      <td>100</td>\n",
       "      <td>100</td>\n",
       "    </tr>\n",
       "    <tr>\n",
       "      <th>unique</th>\n",
       "      <td>97</td>\n",
       "      <td>99</td>\n",
       "      <td>98</td>\n",
       "      <td>99</td>\n",
       "      <td>76</td>\n",
       "      <td>1</td>\n",
       "    </tr>\n",
       "    <tr>\n",
       "      <th>top</th>\n",
       "      <td>70.68</td>\n",
       "      <td>8.36</td>\n",
       "      <td>77.12</td>\n",
       "      <td>49.90</td>\n",
       "      <td>18.74</td>\n",
       "      <td></td>\n",
       "    </tr>\n",
       "    <tr>\n",
       "      <th>freq</th>\n",
       "      <td>2</td>\n",
       "      <td>2</td>\n",
       "      <td>2</td>\n",
       "      <td>2</td>\n",
       "      <td>4</td>\n",
       "      <td>100</td>\n",
       "    </tr>\n",
       "  </tbody>\n",
       "</table>\n",
       "</div>"
      ],
      "text/plain": [
       "            A     B      C      D      E    F\n",
       "count     100   100    100    100    100  100\n",
       "unique     97    99     98     99     76    1\n",
       "top     70.68  8.36  77.12  49.90  18.74     \n",
       "freq        2     2      2      2      4  100"
      ]
     },
     "execution_count": 273,
     "metadata": {},
     "output_type": "execute_result"
    }
   ],
   "source": [
    "df2B.describe() # there is 1 value in col F"
   ]
  },
  {
   "cell_type": "code",
   "execution_count": 274,
   "id": "c0131db2-b48f-4d0a-bee0-b600204dd87b",
   "metadata": {},
   "outputs": [
    {
     "data": {
      "text/plain": [
       "array([''], dtype=object)"
      ]
     },
     "execution_count": 274,
     "metadata": {},
     "output_type": "execute_result"
    }
   ],
   "source": [
    "df2B.F.unique()  #there is just a space in F col, check value in col F"
   ]
  },
  {
   "cell_type": "code",
   "execution_count": 275,
   "id": "f6cba311-4d88-4314-b884-68ff5f314403",
   "metadata": {},
   "outputs": [],
   "source": [
    "df2C = df2B.drop('F',axis=1)  # drop col F\n",
    "#df2C.head()"
   ]
  },
  {
   "cell_type": "code",
   "execution_count": 276,
   "id": "88713377-71fb-4415-a457-d8d4de8b9e4a",
   "metadata": {},
   "outputs": [],
   "source": [
    "#df3.to_clipboard(excel=True) # copy to clipboard if required"
   ]
  },
  {
   "cell_type": "markdown",
   "id": "3922d5f8-34e8-4121-bec2-2633668f798a",
   "metadata": {
    "jp-MarkdownHeadingCollapsed": true
   },
   "source": [
    "# restart of other values\n",
    "time.sleep(3)\n",
    "driver.quit()"
   ]
  },
  {
   "cell_type": "markdown",
   "id": "adfef965-89ae-4a45-a2d8-fb109e9d9c5b",
   "metadata": {},
   "source": [
    "# Inner values end here \n",
    "# Start with Outer Table Values"
   ]
  },
  {
   "cell_type": "markdown",
   "id": "374f54c3-7e7e-408a-848e-a5c64d19f9e9",
   "metadata": {},
   "source": [
    "cService = webdriver.ChromeService(executable_path='/opt/homebrew/bin/chromedriver')\n",
    "driver = webdriver.Chrome(service = cService)"
   ]
  },
  {
   "cell_type": "code",
   "execution_count": 277,
   "id": "03b8a4c9-b093-41f0-9938-00c5e7b9ccc8",
   "metadata": {},
   "outputs": [
    {
     "name": "stdout",
     "output_type": "stream",
     "text": [
      "https://www.nirfindia.org/Rankings/2020/UniversityRanking.html\n"
     ]
    }
   ],
   "source": [
    "print(url)"
   ]
  },
  {
   "cell_type": "code",
   "execution_count": 278,
   "id": "a05a0e25-b201-4cbc-a284-fdd5a5b1caaa",
   "metadata": {},
   "outputs": [],
   "source": [
    "driver.get(url)\n",
    "# Allow the page to load completely\n",
    "time.sleep(5)  # Adjust time if needed, or you can use Selenium's explicit waits"
   ]
  },
  {
   "cell_type": "code",
   "execution_count": 279,
   "id": "ff259aa4-3deb-4fa2-81e3-58a4ff932835",
   "metadata": {},
   "outputs": [],
   "source": [
    "# Locate the table on the page\n",
    "table = driver.find_element(By.TAG_NAME, 'table')"
   ]
  },
  {
   "cell_type": "code",
   "execution_count": 280,
   "id": "f654c007-657e-4f1d-ae0a-d23afec02c74",
   "metadata": {},
   "outputs": [
    {
     "data": {
      "text/plain": [
       "<selenium.webdriver.remote.webelement.WebElement (session=\"851e0a43ee6cd33d5760d19be274acd7\", element=\"f.C3FCA229A21DD93FC0F5C03A86F5728E.d.28C834F5DE9569850E2A21742D3B6459.e.856\")>"
      ]
     },
     "execution_count": 280,
     "metadata": {},
     "output_type": "execute_result"
    }
   ],
   "source": [
    "table"
   ]
  },
  {
   "cell_type": "code",
   "execution_count": 281,
   "id": "1cce43fb-c290-4e83-b963-92606be8f080",
   "metadata": {},
   "outputs": [],
   "source": [
    "# Extract table headers\n",
    "headers = []\n",
    "header_elements = table.find_elements(By.TAG_NAME, 'th')\n",
    "for header in header_elements:\n",
    "    headers.append(header.text.strip())"
   ]
  },
  {
   "cell_type": "code",
   "execution_count": 282,
   "id": "a018555d-74b8-4f64-82f6-8449e393577e",
   "metadata": {},
   "outputs": [
    {
     "name": "stdout",
     "output_type": "stream",
     "text": [
      "['Institute ID', 'Name', 'City', 'State', 'Score', 'Rank'] ['', '', '', '', '', '', '', '', '', '', '', '', '', '', '', '', '', '', '', '', '', '', '', '', '', '', '', '', '', '', '', '', '', '', '', '', '', '', '', '', '', '', '', '', '', '', '', '', '', '', '', '', '', '', '', '', '', '', '', '', '', '', '', '', '', '', '', '', '', '', '', '', '', '', '', '', '', '', '', '', '', '', '', '', '', '', '', '', '', '', '', '', '']\n"
     ]
    }
   ],
   "source": [
    "print(headers[0:6], headers[7:100])"
   ]
  },
  {
   "cell_type": "code",
   "execution_count": 283,
   "id": "68aeadf2-89a8-4d4e-b7b5-0365df355ea1",
   "metadata": {},
   "outputs": [
    {
     "name": "stdout",
     "output_type": "stream",
     "text": [
      "['Institute ID', 'Name', 'City', 'State', 'Score', 'Rank']  Actual Count of Headers, some may be blank  506\n"
     ]
    }
   ],
   "source": [
    "print(headers[0:6], ' Actual Count of Headers, some may be blank ', len(headers))"
   ]
  },
  {
   "cell_type": "code",
   "execution_count": 284,
   "id": "082bbfe2-310e-4581-8c4c-7a3497ca92b5",
   "metadata": {},
   "outputs": [],
   "source": [
    "# Extract table rows\n",
    "rows = []\n",
    "row_elements = table.find_elements(By.TAG_NAME, 'tr')"
   ]
  },
  {
   "cell_type": "code",
   "execution_count": 285,
   "id": "1e994396-b5b7-4680-80c9-960dc9e0e311",
   "metadata": {},
   "outputs": [],
   "source": [
    "#print(row_elements[0:5])"
   ]
  },
  {
   "cell_type": "code",
   "execution_count": 286,
   "id": "296f5596-b079-4794-bf34-b5270257d3f2",
   "metadata": {},
   "outputs": [],
   "source": [
    "# Loop through rows to extract data\n",
    "for row in row_elements[1:]:  # Skipping the header row\n",
    "    cols = row.find_elements(By.TAG_NAME, 'td')\n",
    "    cols = [col.text.strip() for col in cols]\n",
    "    rows.append(cols)"
   ]
  },
  {
   "cell_type": "code",
   "execution_count": 287,
   "id": "864a60d3-44d3-4f3d-b4d4-c8d172e2bd40",
   "metadata": {},
   "outputs": [],
   "source": [
    "#rows[0:3]\n",
    "#1 row into 3 rows  : 2 & 3rd row are blanks"
   ]
  },
  {
   "cell_type": "code",
   "execution_count": 288,
   "id": "fcf90181-2984-4a8e-bde4-8f6fc6cce773",
   "metadata": {},
   "outputs": [
    {
     "name": "stdout",
     "output_type": "stream",
     "text": [
      "300 506\n"
     ]
    }
   ],
   "source": [
    "print(len(rows), len(headers))"
   ]
  },
  {
   "cell_type": "code",
   "execution_count": 289,
   "id": "c2198aaf-c885-4777-9a64-d9e974e45614",
   "metadata": {},
   "outputs": [
    {
     "name": "stdout",
     "output_type": "stream",
     "text": [
      "['Institute ID', 'Name', 'City', 'State', 'Score', 'Rank']\n"
     ]
    }
   ],
   "source": [
    "print(headers[0:6])"
   ]
  },
  {
   "cell_type": "code",
   "execution_count": 290,
   "id": "f1e4ee65-8411-4dd2-9552-9fbfc0f5ffc8",
   "metadata": {},
   "outputs": [
    {
     "name": "stdout",
     "output_type": "stream",
     "text": [
      "['IR-O-U-0220', 'Indian Institute of Science\\nMore Details | |', '', '', '', '', '', 'Bengaluru', 'Karnataka', '84.18', '1']\n"
     ]
    }
   ],
   "source": [
    "print(rows[0])"
   ]
  },
  {
   "cell_type": "code",
   "execution_count": 291,
   "id": "10807605-bdcb-4eb2-9c3f-9872755e7c29",
   "metadata": {},
   "outputs": [],
   "source": [
    "#print(rows[0:300:3])"
   ]
  },
  {
   "cell_type": "code",
   "execution_count": 292,
   "id": "3ad98ed0-6237-49b0-aa11-2095d260364e",
   "metadata": {},
   "outputs": [],
   "source": [
    "# Create a DataFrame from the extracted data\n",
    "df1 = pd.DataFrame(rows[0:300:3], columns=headers[0:11])"
   ]
  },
  {
   "cell_type": "code",
   "execution_count": 293,
   "id": "40f0a977-3460-469f-a31c-b99752cdceb8",
   "metadata": {},
   "outputs": [
    {
     "data": {
      "text/html": [
       "<div>\n",
       "<style scoped>\n",
       "    .dataframe tbody tr th:only-of-type {\n",
       "        vertical-align: middle;\n",
       "    }\n",
       "\n",
       "    .dataframe tbody tr th {\n",
       "        vertical-align: top;\n",
       "    }\n",
       "\n",
       "    .dataframe thead th {\n",
       "        text-align: right;\n",
       "    }\n",
       "</style>\n",
       "<table border=\"1\" class=\"dataframe\">\n",
       "  <thead>\n",
       "    <tr style=\"text-align: right;\">\n",
       "      <th></th>\n",
       "      <th>Institute ID</th>\n",
       "      <th>Name</th>\n",
       "      <th>City</th>\n",
       "      <th>State</th>\n",
       "      <th>Score</th>\n",
       "      <th>Rank</th>\n",
       "      <th></th>\n",
       "      <th></th>\n",
       "      <th></th>\n",
       "      <th></th>\n",
       "      <th></th>\n",
       "    </tr>\n",
       "  </thead>\n",
       "  <tbody>\n",
       "    <tr>\n",
       "      <th>0</th>\n",
       "      <td>IR-O-U-0220</td>\n",
       "      <td>Indian Institute of Science\\nMore Details | |</td>\n",
       "      <td></td>\n",
       "      <td></td>\n",
       "      <td></td>\n",
       "      <td></td>\n",
       "      <td></td>\n",
       "      <td>Bengaluru</td>\n",
       "      <td>Karnataka</td>\n",
       "      <td>84.18</td>\n",
       "      <td>1</td>\n",
       "    </tr>\n",
       "    <tr>\n",
       "      <th>1</th>\n",
       "      <td>IR-O-U-0109</td>\n",
       "      <td>Jawaharlal Nehru University\\nMore Details | |</td>\n",
       "      <td></td>\n",
       "      <td></td>\n",
       "      <td></td>\n",
       "      <td></td>\n",
       "      <td></td>\n",
       "      <td>New Delhi</td>\n",
       "      <td>Delhi</td>\n",
       "      <td>70.16</td>\n",
       "      <td>2</td>\n",
       "    </tr>\n",
       "  </tbody>\n",
       "</table>\n",
       "</div>"
      ],
      "text/plain": [
       "  Institute ID                                           Name City State  \\\n",
       "0  IR-O-U-0220  Indian Institute of Science\\nMore Details | |              \n",
       "1  IR-O-U-0109  Jawaharlal Nehru University\\nMore Details | |              \n",
       "\n",
       "  Score Rank                                    \n",
       "0               Bengaluru  Karnataka  84.18  1  \n",
       "1               New Delhi      Delhi  70.16  2  "
      ]
     },
     "execution_count": 293,
     "metadata": {},
     "output_type": "execute_result"
    }
   ],
   "source": [
    "df1.head(2)"
   ]
  },
  {
   "cell_type": "code",
   "execution_count": 294,
   "id": "f7268cc2-9c80-4b3a-b0ba-36e1a27c65b4",
   "metadata": {},
   "outputs": [
    {
     "data": {
      "text/plain": [
       "['Institute ID', 'Name', 'City', 'State', 'Score', 'Rank', '', '', '', '', '']"
      ]
     },
     "execution_count": 294,
     "metadata": {},
     "output_type": "execute_result"
    }
   ],
   "source": [
    "list(df1.columns)"
   ]
  },
  {
   "cell_type": "code",
   "execution_count": 295,
   "id": "f3a36a24-fe7f-4bc9-b2fe-46e5a3ae5219",
   "metadata": {},
   "outputs": [],
   "source": [
    "df1.columns = ['instituteID','name', 'C1','C2','C3','C4','C5','city','state','score','rank']"
   ]
  },
  {
   "cell_type": "code",
   "execution_count": 296,
   "id": "0199ba2f-d7d8-44eb-ab2c-dd55a2dfe21e",
   "metadata": {},
   "outputs": [
    {
     "data": {
      "text/html": [
       "<div>\n",
       "<style scoped>\n",
       "    .dataframe tbody tr th:only-of-type {\n",
       "        vertical-align: middle;\n",
       "    }\n",
       "\n",
       "    .dataframe tbody tr th {\n",
       "        vertical-align: top;\n",
       "    }\n",
       "\n",
       "    .dataframe thead th {\n",
       "        text-align: right;\n",
       "    }\n",
       "</style>\n",
       "<table border=\"1\" class=\"dataframe\">\n",
       "  <thead>\n",
       "    <tr style=\"text-align: right;\">\n",
       "      <th></th>\n",
       "      <th>instituteID</th>\n",
       "      <th>name</th>\n",
       "      <th>C1</th>\n",
       "      <th>C2</th>\n",
       "      <th>C3</th>\n",
       "      <th>C4</th>\n",
       "      <th>C5</th>\n",
       "      <th>city</th>\n",
       "      <th>state</th>\n",
       "      <th>score</th>\n",
       "      <th>rank</th>\n",
       "    </tr>\n",
       "  </thead>\n",
       "  <tbody>\n",
       "    <tr>\n",
       "      <th>0</th>\n",
       "      <td>IR-O-U-0220</td>\n",
       "      <td>Indian Institute of Science\\nMore Details | |</td>\n",
       "      <td></td>\n",
       "      <td></td>\n",
       "      <td></td>\n",
       "      <td></td>\n",
       "      <td></td>\n",
       "      <td>Bengaluru</td>\n",
       "      <td>Karnataka</td>\n",
       "      <td>84.18</td>\n",
       "      <td>1</td>\n",
       "    </tr>\n",
       "    <tr>\n",
       "      <th>1</th>\n",
       "      <td>IR-O-U-0109</td>\n",
       "      <td>Jawaharlal Nehru University\\nMore Details | |</td>\n",
       "      <td></td>\n",
       "      <td></td>\n",
       "      <td></td>\n",
       "      <td></td>\n",
       "      <td></td>\n",
       "      <td>New Delhi</td>\n",
       "      <td>Delhi</td>\n",
       "      <td>70.16</td>\n",
       "      <td>2</td>\n",
       "    </tr>\n",
       "  </tbody>\n",
       "</table>\n",
       "</div>"
      ],
      "text/plain": [
       "   instituteID                                           name C1 C2 C3 C4 C5  \\\n",
       "0  IR-O-U-0220  Indian Institute of Science\\nMore Details | |                  \n",
       "1  IR-O-U-0109  Jawaharlal Nehru University\\nMore Details | |                  \n",
       "\n",
       "        city      state  score rank  \n",
       "0  Bengaluru  Karnataka  84.18    1  \n",
       "1  New Delhi      Delhi  70.16    2  "
      ]
     },
     "execution_count": 296,
     "metadata": {},
     "output_type": "execute_result"
    }
   ],
   "source": [
    "df1.head(2)"
   ]
  },
  {
   "cell_type": "code",
   "execution_count": 297,
   "id": "57356063-b25f-4d76-b1a8-9dfaeca4907d",
   "metadata": {},
   "outputs": [
    {
     "data": {
      "text/html": [
       "<div>\n",
       "<style scoped>\n",
       "    .dataframe tbody tr th:only-of-type {\n",
       "        vertical-align: middle;\n",
       "    }\n",
       "\n",
       "    .dataframe tbody tr th {\n",
       "        vertical-align: top;\n",
       "    }\n",
       "\n",
       "    .dataframe thead th {\n",
       "        text-align: right;\n",
       "    }\n",
       "</style>\n",
       "<table border=\"1\" class=\"dataframe\">\n",
       "  <thead>\n",
       "    <tr style=\"text-align: right;\">\n",
       "      <th></th>\n",
       "      <th>instituteID</th>\n",
       "      <th>name</th>\n",
       "      <th>city</th>\n",
       "      <th>state</th>\n",
       "      <th>score</th>\n",
       "      <th>rank</th>\n",
       "    </tr>\n",
       "  </thead>\n",
       "  <tbody>\n",
       "    <tr>\n",
       "      <th>0</th>\n",
       "      <td>IR-O-U-0220</td>\n",
       "      <td>Indian Institute of Science\\nMore Details | |</td>\n",
       "      <td>Bengaluru</td>\n",
       "      <td>Karnataka</td>\n",
       "      <td>84.18</td>\n",
       "      <td>1</td>\n",
       "    </tr>\n",
       "    <tr>\n",
       "      <th>1</th>\n",
       "      <td>IR-O-U-0109</td>\n",
       "      <td>Jawaharlal Nehru University\\nMore Details | |</td>\n",
       "      <td>New Delhi</td>\n",
       "      <td>Delhi</td>\n",
       "      <td>70.16</td>\n",
       "      <td>2</td>\n",
       "    </tr>\n",
       "  </tbody>\n",
       "</table>\n",
       "</div>"
      ],
      "text/plain": [
       "   instituteID                                           name       city  \\\n",
       "0  IR-O-U-0220  Indian Institute of Science\\nMore Details | |  Bengaluru   \n",
       "1  IR-O-U-0109  Jawaharlal Nehru University\\nMore Details | |  New Delhi   \n",
       "\n",
       "       state  score rank  \n",
       "0  Karnataka  84.18    1  \n",
       "1      Delhi  70.16    2  "
      ]
     },
     "execution_count": 297,
     "metadata": {},
     "output_type": "execute_result"
    }
   ],
   "source": [
    "df1B = df1.drop(columns= ['C1','C2','C3','C4','C5'])\n",
    "df1B.head(2)"
   ]
  },
  {
   "cell_type": "code",
   "execution_count": 298,
   "id": "3e99615e-bd37-4c6a-9f87-bcd684f7207e",
   "metadata": {},
   "outputs": [
    {
     "data": {
      "text/plain": [
       "(100, 6)"
      ]
     },
     "execution_count": 298,
     "metadata": {},
     "output_type": "execute_result"
    }
   ],
   "source": [
    "df1B.shape"
   ]
  },
  {
   "cell_type": "code",
   "execution_count": 299,
   "id": "dc0cc952-6fe4-44f6-a61a-0506fad8f9a8",
   "metadata": {},
   "outputs": [
    {
     "data": {
      "text/plain": [
       "Index(['instituteID', 'name', 'city', 'state', 'score', 'rank'], dtype='object')"
      ]
     },
     "execution_count": 299,
     "metadata": {},
     "output_type": "execute_result"
    }
   ],
   "source": [
    "df1B.columns"
   ]
  },
  {
   "cell_type": "code",
   "execution_count": 300,
   "id": "b34aac1b-b646-4557-901f-b18b6bbbb2db",
   "metadata": {},
   "outputs": [],
   "source": [
    "df1B[['name','extra_col']]= df1B['name'].str.split(\"\\n\", n=1, expand=True)\n",
    "df1B.drop('extra_col', axis=1, inplace=True)"
   ]
  },
  {
   "cell_type": "markdown",
   "id": "4313574c-0d0b-449a-b780-d6d26da1989f",
   "metadata": {},
   "source": [
    "-  df1B['name'].str.replace(r'\\nMore Details | |', '', regex=True)"
   ]
  },
  {
   "cell_type": "code",
   "execution_count": 301,
   "id": "04bab96a-de57-42af-bdb0-77819bb63e25",
   "metadata": {},
   "outputs": [
    {
     "data": {
      "text/html": [
       "<div>\n",
       "<style scoped>\n",
       "    .dataframe tbody tr th:only-of-type {\n",
       "        vertical-align: middle;\n",
       "    }\n",
       "\n",
       "    .dataframe tbody tr th {\n",
       "        vertical-align: top;\n",
       "    }\n",
       "\n",
       "    .dataframe thead th {\n",
       "        text-align: right;\n",
       "    }\n",
       "</style>\n",
       "<table border=\"1\" class=\"dataframe\">\n",
       "  <thead>\n",
       "    <tr style=\"text-align: right;\">\n",
       "      <th></th>\n",
       "      <th>instituteID</th>\n",
       "      <th>name</th>\n",
       "      <th>city</th>\n",
       "      <th>state</th>\n",
       "      <th>score</th>\n",
       "      <th>rank</th>\n",
       "    </tr>\n",
       "  </thead>\n",
       "  <tbody>\n",
       "    <tr>\n",
       "      <th>0</th>\n",
       "      <td>IR-O-U-0220</td>\n",
       "      <td>Indian Institute of Science</td>\n",
       "      <td>Bengaluru</td>\n",
       "      <td>Karnataka</td>\n",
       "      <td>84.18</td>\n",
       "      <td>1</td>\n",
       "    </tr>\n",
       "    <tr>\n",
       "      <th>1</th>\n",
       "      <td>IR-O-U-0109</td>\n",
       "      <td>Jawaharlal Nehru University</td>\n",
       "      <td>New Delhi</td>\n",
       "      <td>Delhi</td>\n",
       "      <td>70.16</td>\n",
       "      <td>2</td>\n",
       "    </tr>\n",
       "  </tbody>\n",
       "</table>\n",
       "</div>"
      ],
      "text/plain": [
       "   instituteID                         name       city      state  score rank\n",
       "0  IR-O-U-0220  Indian Institute of Science  Bengaluru  Karnataka  84.18    1\n",
       "1  IR-O-U-0109  Jawaharlal Nehru University  New Delhi      Delhi  70.16    2"
      ]
     },
     "execution_count": 301,
     "metadata": {},
     "output_type": "execute_result"
    }
   ],
   "source": [
    "df1B.head(2)"
   ]
  },
  {
   "cell_type": "code",
   "execution_count": 302,
   "id": "0f939f97-33e5-4ca5-9c4a-80816ed46668",
   "metadata": {},
   "outputs": [
    {
     "data": {
      "text/plain": [
       "(100, 6)"
      ]
     },
     "execution_count": 302,
     "metadata": {},
     "output_type": "execute_result"
    }
   ],
   "source": [
    "df1B.shape"
   ]
  },
  {
   "cell_type": "code",
   "execution_count": 303,
   "id": "b28b1f96-e17b-4fe1-98a3-01356adbb182",
   "metadata": {},
   "outputs": [
    {
     "data": {
      "text/plain": [
       "(100, 5)"
      ]
     },
     "execution_count": 303,
     "metadata": {},
     "output_type": "execute_result"
    }
   ],
   "source": [
    "df2C.shape"
   ]
  },
  {
   "cell_type": "code",
   "execution_count": 304,
   "id": "cc5e5c14-a07c-4993-9e5d-def38d067894",
   "metadata": {},
   "outputs": [
    {
     "data": {
      "text/html": [
       "<div>\n",
       "<style scoped>\n",
       "    .dataframe tbody tr th:only-of-type {\n",
       "        vertical-align: middle;\n",
       "    }\n",
       "\n",
       "    .dataframe tbody tr th {\n",
       "        vertical-align: top;\n",
       "    }\n",
       "\n",
       "    .dataframe thead th {\n",
       "        text-align: right;\n",
       "    }\n",
       "</style>\n",
       "<table border=\"1\" class=\"dataframe\">\n",
       "  <thead>\n",
       "    <tr style=\"text-align: right;\">\n",
       "      <th></th>\n",
       "      <th>TLR</th>\n",
       "      <th>RPC</th>\n",
       "      <th>GO</th>\n",
       "      <th>OI</th>\n",
       "      <th>PR</th>\n",
       "    </tr>\n",
       "  </thead>\n",
       "  <tbody>\n",
       "    <tr>\n",
       "      <th>0</th>\n",
       "      <td>82.22</td>\n",
       "      <td>92.16</td>\n",
       "      <td>82.89</td>\n",
       "      <td>52.84</td>\n",
       "      <td>100.00</td>\n",
       "    </tr>\n",
       "    <tr>\n",
       "      <th>1</th>\n",
       "      <td>74.98</td>\n",
       "      <td>44.80</td>\n",
       "      <td>100.00</td>\n",
       "      <td>75.10</td>\n",
       "      <td>67.24</td>\n",
       "    </tr>\n",
       "  </tbody>\n",
       "</table>\n",
       "</div>"
      ],
      "text/plain": [
       "     TLR    RPC      GO     OI      PR\n",
       "0  82.22  92.16   82.89  52.84  100.00\n",
       "1  74.98  44.80  100.00  75.10   67.24"
      ]
     },
     "execution_count": 304,
     "metadata": {},
     "output_type": "execute_result"
    }
   ],
   "source": [
    "df2C.columns = ['TLR','RPC','GO','OI','PR']\n",
    "df2C.head(2)"
   ]
  },
  {
   "cell_type": "code",
   "execution_count": 305,
   "id": "4055adf5-84de-4a86-8b7d-142242f83f48",
   "metadata": {},
   "outputs": [],
   "source": [
    "dfNO = pd.concat([df1B.reset_index(drop=True), df2C], axis=1)\n",
    "dfNO['nYear'] = nData"
   ]
  },
  {
   "cell_type": "code",
   "execution_count": 306,
   "id": "17e331e3-f1da-4582-a1c7-855f40293c55",
   "metadata": {},
   "outputs": [
    {
     "data": {
      "text/html": [
       "<div>\n",
       "<style scoped>\n",
       "    .dataframe tbody tr th:only-of-type {\n",
       "        vertical-align: middle;\n",
       "    }\n",
       "\n",
       "    .dataframe tbody tr th {\n",
       "        vertical-align: top;\n",
       "    }\n",
       "\n",
       "    .dataframe thead th {\n",
       "        text-align: right;\n",
       "    }\n",
       "</style>\n",
       "<table border=\"1\" class=\"dataframe\">\n",
       "  <thead>\n",
       "    <tr style=\"text-align: right;\">\n",
       "      <th></th>\n",
       "      <th>instituteID</th>\n",
       "      <th>name</th>\n",
       "      <th>city</th>\n",
       "      <th>state</th>\n",
       "      <th>score</th>\n",
       "      <th>rank</th>\n",
       "      <th>TLR</th>\n",
       "      <th>RPC</th>\n",
       "      <th>GO</th>\n",
       "      <th>OI</th>\n",
       "      <th>PR</th>\n",
       "      <th>nYear</th>\n",
       "    </tr>\n",
       "  </thead>\n",
       "  <tbody>\n",
       "    <tr>\n",
       "      <th>0</th>\n",
       "      <td>IR-O-U-0220</td>\n",
       "      <td>Indian Institute of Science</td>\n",
       "      <td>Bengaluru</td>\n",
       "      <td>Karnataka</td>\n",
       "      <td>84.18</td>\n",
       "      <td>1</td>\n",
       "      <td>82.22</td>\n",
       "      <td>92.16</td>\n",
       "      <td>82.89</td>\n",
       "      <td>52.84</td>\n",
       "      <td>100.00</td>\n",
       "      <td>n20u</td>\n",
       "    </tr>\n",
       "    <tr>\n",
       "      <th>1</th>\n",
       "      <td>IR-O-U-0109</td>\n",
       "      <td>Jawaharlal Nehru University</td>\n",
       "      <td>New Delhi</td>\n",
       "      <td>Delhi</td>\n",
       "      <td>70.16</td>\n",
       "      <td>2</td>\n",
       "      <td>74.98</td>\n",
       "      <td>44.80</td>\n",
       "      <td>100.00</td>\n",
       "      <td>75.10</td>\n",
       "      <td>67.24</td>\n",
       "      <td>n20u</td>\n",
       "    </tr>\n",
       "  </tbody>\n",
       "</table>\n",
       "</div>"
      ],
      "text/plain": [
       "   instituteID                         name       city      state  score rank  \\\n",
       "0  IR-O-U-0220  Indian Institute of Science  Bengaluru  Karnataka  84.18    1   \n",
       "1  IR-O-U-0109  Jawaharlal Nehru University  New Delhi      Delhi  70.16    2   \n",
       "\n",
       "     TLR    RPC      GO     OI      PR nYear  \n",
       "0  82.22  92.16   82.89  52.84  100.00  n20u  \n",
       "1  74.98  44.80  100.00  75.10   67.24  n20u  "
      ]
     },
     "execution_count": 306,
     "metadata": {},
     "output_type": "execute_result"
    }
   ],
   "source": [
    "dfNO.head(2)"
   ]
  },
  {
   "cell_type": "code",
   "execution_count": 307,
   "id": "7ae77378-2d94-49da-9d03-7ebb8c6130e7",
   "metadata": {},
   "outputs": [],
   "source": [
    "# Close the browser\n",
    "driver.quit()"
   ]
  },
  {
   "cell_type": "code",
   "execution_count": 308,
   "id": "7ec1ed70-f85a-433d-8d2e-e8988d82c2d3",
   "metadata": {},
   "outputs": [],
   "source": [
    "# Display the extracted data\n",
    "#print(dfNO)"
   ]
  },
  {
   "cell_type": "code",
   "execution_count": 309,
   "id": "1313dede-2a75-49b1-ac51-ba5b1da6ec16",
   "metadata": {},
   "outputs": [
    {
     "name": "stdout",
     "output_type": "stream",
     "text": [
      "n20u /Users/du/dup/auData/ranking/nirf/n20u.csv\n"
     ]
    }
   ],
   "source": [
    "# Save the data to a CSV file\n",
    "fileLoc  = '/Users/du/dup/auData/ranking/nirf/'\n",
    "fileName = fileLoc +  nData + '.csv'\n",
    "print(nData, fileName)"
   ]
  },
  {
   "cell_type": "code",
   "execution_count": 310,
   "id": "2104aa89-0295-44d2-897d-0daa9f8bb6f9",
   "metadata": {},
   "outputs": [],
   "source": [
    "dfNO.to_csv(fileName, index=False)"
   ]
  },
  {
   "cell_type": "code",
   "execution_count": 311,
   "id": "2477e8fb-048a-4d08-a4d7-cc27671e47d0",
   "metadata": {},
   "outputs": [],
   "source": [
    "import os"
   ]
  },
  {
   "cell_type": "code",
   "execution_count": 312,
   "id": "807b5db6-c5b5-4f8d-9289-188c59cb1655",
   "metadata": {},
   "outputs": [
    {
     "name": "stdout",
     "output_type": "stream",
     "text": [
      "Innovation nirf22R.csv nirf22P.csv N23scores.pdf n24u.csv nirf2122P.csv .DS_Store IR2024_Report.pdf n21o.csv n22u.csv Law Management pdf NIRF 2023 Data Summary.pdf n23u.csv n20o.csv n20u.csv n23o.csv nirf24o.csv Architecture NIRFall.csv nirfAU.csv n22o.csv n21u.csv nirf21A.csv N23Scores.csv n2oo.csv n24o.csv Overall Engineering nirfScores.csv\n"
     ]
    }
   ],
   "source": [
    "print(' '.join(map(str, os.listdir(fileLoc))))"
   ]
  },
  {
   "cell_type": "markdown",
   "id": "0113c0de-6b62-4d5c-bda9-571d96062ced",
   "metadata": {},
   "source": [
    "## End of Coding"
   ]
  },
  {
   "cell_type": "code",
   "execution_count": 313,
   "id": "ddae3ecb-5268-4732-9801-c1e1ebd73750",
   "metadata": {},
   "outputs": [
    {
     "data": {
      "text/html": [
       "<div>\n",
       "<style scoped>\n",
       "    .dataframe tbody tr th:only-of-type {\n",
       "        vertical-align: middle;\n",
       "    }\n",
       "\n",
       "    .dataframe tbody tr th {\n",
       "        vertical-align: top;\n",
       "    }\n",
       "\n",
       "    .dataframe thead th {\n",
       "        text-align: right;\n",
       "    }\n",
       "</style>\n",
       "<table border=\"1\" class=\"dataframe\">\n",
       "  <thead>\n",
       "    <tr style=\"text-align: right;\">\n",
       "      <th></th>\n",
       "      <th>instituteID</th>\n",
       "      <th>name</th>\n",
       "      <th>city</th>\n",
       "      <th>state</th>\n",
       "      <th>score</th>\n",
       "      <th>rank</th>\n",
       "      <th>TLR</th>\n",
       "      <th>RPC</th>\n",
       "      <th>GO</th>\n",
       "      <th>OI</th>\n",
       "      <th>PR</th>\n",
       "      <th>nYear</th>\n",
       "    </tr>\n",
       "  </thead>\n",
       "  <tbody>\n",
       "    <tr>\n",
       "      <th>0</th>\n",
       "      <td>IR-O-U-0220</td>\n",
       "      <td>Indian Institute of Science</td>\n",
       "      <td>Bengaluru</td>\n",
       "      <td>Karnataka</td>\n",
       "      <td>84.18</td>\n",
       "      <td>1</td>\n",
       "      <td>82.22</td>\n",
       "      <td>92.16</td>\n",
       "      <td>82.89</td>\n",
       "      <td>52.84</td>\n",
       "      <td>100.00</td>\n",
       "      <td>n20u</td>\n",
       "    </tr>\n",
       "    <tr>\n",
       "      <th>1</th>\n",
       "      <td>IR-O-U-0109</td>\n",
       "      <td>Jawaharlal Nehru University</td>\n",
       "      <td>New Delhi</td>\n",
       "      <td>Delhi</td>\n",
       "      <td>70.16</td>\n",
       "      <td>2</td>\n",
       "      <td>74.98</td>\n",
       "      <td>44.80</td>\n",
       "      <td>100.00</td>\n",
       "      <td>75.10</td>\n",
       "      <td>67.24</td>\n",
       "      <td>n20u</td>\n",
       "    </tr>\n",
       "  </tbody>\n",
       "</table>\n",
       "</div>"
      ],
      "text/plain": [
       "   instituteID                         name       city      state  score  \\\n",
       "0  IR-O-U-0220  Indian Institute of Science  Bengaluru  Karnataka  84.18   \n",
       "1  IR-O-U-0109  Jawaharlal Nehru University  New Delhi      Delhi  70.16   \n",
       "\n",
       "   rank    TLR    RPC      GO     OI      PR nYear  \n",
       "0     1  82.22  92.16   82.89  52.84  100.00  n20u  \n",
       "1     2  74.98  44.80  100.00  75.10   67.24  n20u  "
      ]
     },
     "execution_count": 313,
     "metadata": {},
     "output_type": "execute_result"
    }
   ],
   "source": [
    "pd.read_csv(fileName).head(2)"
   ]
  },
  {
   "cell_type": "code",
   "execution_count": null,
   "id": "0050900b-a746-4688-95a9-26df0ff3d127",
   "metadata": {},
   "outputs": [],
   "source": []
  }
 ],
 "metadata": {
  "kernelspec": {
   "display_name": "Python 3 (ipykernel)",
   "language": "python",
   "name": "python3"
  },
  "language_info": {
   "codemirror_mode": {
    "name": "ipython",
    "version": 3
   },
   "file_extension": ".py",
   "mimetype": "text/x-python",
   "name": "python",
   "nbconvert_exporter": "python",
   "pygments_lexer": "ipython3",
   "version": "3.11.5"
  }
 },
 "nbformat": 4,
 "nbformat_minor": 5
}
