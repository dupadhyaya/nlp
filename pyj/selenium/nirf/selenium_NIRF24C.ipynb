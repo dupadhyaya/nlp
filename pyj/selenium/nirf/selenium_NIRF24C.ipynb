{
 "cells": [
  {
   "cell_type": "code",
   "execution_count": null,
   "id": "5b644579-bf7b-433a-adce-a3ba0bee43b2",
   "metadata": {},
   "outputs": [],
   "source": [
    "# Create Code to import data from NIRF of participating Institutions"
   ]
  },
  {
   "cell_type": "markdown",
   "id": "c0b9a51f-e93f-4c48-8da4-4ce83475bed2",
   "metadata": {},
   "source": [
    "## Using Selenium"
   ]
  },
  {
   "cell_type": "code",
   "execution_count": 120,
   "id": "b293f26b-dd3e-4cb4-bfc4-d66b1b349151",
   "metadata": {},
   "outputs": [],
   "source": [
    "from selenium import webdriver\n",
    "from selenium.webdriver.common.by import By\n",
    "import pandas as pd\n",
    "import numpy as np\n",
    "from selenium.webdriver.chrome.service import Service"
   ]
  },
  {
   "cell_type": "markdown",
   "id": "7653ffab-9672-41c7-8409-b158ec1d1cab",
   "metadata": {},
   "source": [
    "# Chrome Version\n",
    "- Version 129.0.6668.71 (Official Build) (arm64)\n",
    "- Latest ChromeDriver 114.0.5735.90\n",
    "- chrome://settings/help\n",
    "- https://developer.chrome.com/docs/chromedriver/downloads"
   ]
  },
  {
   "cell_type": "code",
   "execution_count": 2,
   "id": "a120bff4-9d72-43f3-bf36-778dabc82b78",
   "metadata": {},
   "outputs": [],
   "source": [
    "import time"
   ]
  },
  {
   "cell_type": "code",
   "execution_count": 3,
   "id": "38fa2109-029b-4373-b3d5-d1e4cd16fb61",
   "metadata": {},
   "outputs": [],
   "source": [
    "# Path to your ChromeDriver\n",
    "cp2 = '/opt/homebrew/bin/chromedriver'  # Replace with the actual path to your chromedriver"
   ]
  },
  {
   "cell_type": "markdown",
   "id": "d883b7d7-b03f-47e0-8ceb-9c65a9fb9f72",
   "metadata": {},
   "source": [
    "??webdriver.chrome"
   ]
  },
  {
   "cell_type": "code",
   "execution_count": 4,
   "id": "702e947d-f9cf-4947-9456-781822ecf560",
   "metadata": {},
   "outputs": [],
   "source": [
    "#!pip install webdriver-manager\n",
    "from webdriver_manager.chrome import ChromeDriverManager"
   ]
  },
  {
   "cell_type": "code",
   "execution_count": 5,
   "id": "4af9c644-e454-43d2-bd2e-91b6cd9a6330",
   "metadata": {},
   "outputs": [
    {
     "name": "stdout",
     "output_type": "stream",
     "text": [
      "n24O_p participating \n",
      " https://www.nirfindia.org/Rankings/2023/OverallRankingALL.html\n"
     ]
    }
   ],
   "source": [
    "# Open the NIRF rankings page\n",
    "n24op = \"https://www.nirfindia.org/Rankings/2023/OverallRankingALL.html\"\n",
    "\n",
    "url = n24op; nData = 'n24O_p' ; cat1 = 'participating'\n",
    "print(nData, cat1, '\\n', url)"
   ]
  },
  {
   "cell_type": "markdown",
   "id": "6e6b3a35-dc32-4184-86cd-af175abdb9a0",
   "metadata": {},
   "source": [
    "#\n",
    "#url = n20u; nData = 'n20u'\n",
    "print(nData, url)"
   ]
  },
  {
   "cell_type": "code",
   "execution_count": 7,
   "id": "8eaed1ae-7aba-4df5-bb0b-12b7fbf679a5",
   "metadata": {},
   "outputs": [],
   "source": [
    "#driver.refresh()"
   ]
  },
  {
   "cell_type": "code",
   "execution_count": 8,
   "id": "4e05d029-1463-4fc9-ab99-8f1ea1eb03c9",
   "metadata": {},
   "outputs": [],
   "source": [
    "cService = webdriver.ChromeService(executable_path='/opt/homebrew/bin/chromedriver')\n",
    "driver = webdriver.Chrome(service = cService)"
   ]
  },
  {
   "cell_type": "code",
   "execution_count": 9,
   "id": "d7e5a92a-5408-40e9-9978-a3d4bbf4ca84",
   "metadata": {},
   "outputs": [],
   "source": [
    "driver.get(url)\n",
    "#driver.maximize_window()\n",
    "time.sleep(5)  # Adjust time if needed, or you can use Selenium's explicit waits"
   ]
  },
  {
   "cell_type": "code",
   "execution_count": 157,
   "id": "db155720-9788-4075-9cfe-a3037a91292a",
   "metadata": {},
   "outputs": [
    {
     "name": "stdout",
     "output_type": "stream",
     "text": [
      "MoE, National Institute Ranking Framework (NIRF)\n"
     ]
    }
   ],
   "source": [
    "print(driver.title)"
   ]
  },
  {
   "cell_type": "code",
   "execution_count": 10,
   "id": "ff259aa4-3deb-4fa2-81e3-58a4ff932835",
   "metadata": {},
   "outputs": [],
   "source": [
    "# Locate the table on the page\n",
    "table = driver.find_element(By.TAG_NAME, 'table')"
   ]
  },
  {
   "cell_type": "code",
   "execution_count": 11,
   "id": "f654c007-657e-4f1d-ae0a-d23afec02c74",
   "metadata": {},
   "outputs": [
    {
     "data": {
      "text/plain": [
       "<selenium.webdriver.remote.webelement.WebElement (session=\"6768f75bfed133a221753a62b614b562\", element=\"f.2BF7D639DB5D3467AFCA2BB7C26F0C2F.d.E7618026463EF99E993826CB38BF486F.e.37\")>"
      ]
     },
     "execution_count": 11,
     "metadata": {},
     "output_type": "execute_result"
    }
   ],
   "source": [
    "table"
   ]
  },
  {
   "cell_type": "code",
   "execution_count": 12,
   "id": "1cce43fb-c290-4e83-b963-92606be8f080",
   "metadata": {},
   "outputs": [],
   "source": [
    "# Extract table headers\n",
    "headers = []\n",
    "header_elements = table.find_elements(By.TAG_NAME, 'th')\n",
    "for header in header_elements:\n",
    "    headers.append(header.text.strip())"
   ]
  },
  {
   "cell_type": "code",
   "execution_count": 13,
   "id": "a018555d-74b8-4f64-82f6-8449e393577e",
   "metadata": {},
   "outputs": [
    {
     "name": "stdout",
     "output_type": "stream",
     "text": [
      "['Name', 'City', 'State']\n"
     ]
    }
   ],
   "source": [
    "print(headers[0:3])"
   ]
  },
  {
   "cell_type": "code",
   "execution_count": 14,
   "id": "68aeadf2-89a8-4d4e-b7b5-0365df355ea1",
   "metadata": {},
   "outputs": [
    {
     "name": "stdout",
     "output_type": "stream",
     "text": [
      "['Name', 'City', 'State'] 3\n"
     ]
    }
   ],
   "source": [
    "print(headers[0:3], len(headers))"
   ]
  },
  {
   "cell_type": "code",
   "execution_count": 15,
   "id": "082bbfe2-310e-4581-8c4c-7a3497ca92b5",
   "metadata": {},
   "outputs": [],
   "source": [
    "# Extract table rows\n",
    "rows = []\n",
    "row_elements = table.find_elements(By.TAG_NAME, 'tr')"
   ]
  },
  {
   "cell_type": "code",
   "execution_count": 16,
   "id": "1e994396-b5b7-4680-80c9-960dc9e0e311",
   "metadata": {},
   "outputs": [],
   "source": [
    "#print(row_elements[0:5])"
   ]
  },
  {
   "cell_type": "code",
   "execution_count": 17,
   "id": "296f5596-b079-4794-bf34-b5270257d3f2",
   "metadata": {},
   "outputs": [],
   "source": [
    "# Loop through rows to extract data\n",
    "for row in row_elements[1:]:  # Skipping the header row\n",
    "    cols = row.find_elements(By.TAG_NAME, 'td')\n",
    "    cols = [col.text.strip() for col in cols]\n",
    "    rows.append(cols)"
   ]
  },
  {
   "cell_type": "code",
   "execution_count": 18,
   "id": "864a60d3-44d3-4f3d-b4d4-c8d172e2bd40",
   "metadata": {},
   "outputs": [
    {
     "data": {
      "text/plain": [
       "[['A J Institute of Engineering and Technology Mangaluru',\n",
       "  'Mangaluru',\n",
       "  'Karnataka'],\n",
       " ['A M C College of Engineering, Bangalore', 'Bengaluru', 'Karnataka'],\n",
       " ['A N College, Dumka', 'DUMKA', 'Jharkhand']]"
      ]
     },
     "execution_count": 18,
     "metadata": {},
     "output_type": "execute_result"
    }
   ],
   "source": [
    "rows[0:3]\n",
    "#1 row into 3 rows  : 2 & 3rd row are blanks"
   ]
  },
  {
   "cell_type": "code",
   "execution_count": 19,
   "id": "fcf90181-2984-4a8e-bde4-8f6fc6cce773",
   "metadata": {},
   "outputs": [
    {
     "name": "stdout",
     "output_type": "stream",
     "text": [
      "100 3\n"
     ]
    }
   ],
   "source": [
    "print(len(rows), len(headers))"
   ]
  },
  {
   "cell_type": "code",
   "execution_count": 20,
   "id": "c2198aaf-c885-4777-9a64-d9e974e45614",
   "metadata": {},
   "outputs": [
    {
     "name": "stdout",
     "output_type": "stream",
     "text": [
      "['Name', 'City', 'State']\n"
     ]
    }
   ],
   "source": [
    "print(headers[0:3])"
   ]
  },
  {
   "cell_type": "code",
   "execution_count": 21,
   "id": "f1e4ee65-8411-4dd2-9552-9fbfc0f5ffc8",
   "metadata": {},
   "outputs": [
    {
     "name": "stdout",
     "output_type": "stream",
     "text": [
      "[['A J Institute of Engineering and Technology Mangaluru', 'Mangaluru', 'Karnataka'], ['A M C College of Engineering, Bangalore', 'Bengaluru', 'Karnataka'], ['A N College, Dumka', 'DUMKA', 'Jharkhand'], ['A. A. Government Arts College', 'Tiruchirappalli', 'Tamil Nadu'], ['A. J. K. College of Arts & Science', 'Coimbatore', 'Tamil Nadu']]\n"
     ]
    }
   ],
   "source": [
    "print(rows[0:5])"
   ]
  },
  {
   "cell_type": "code",
   "execution_count": 22,
   "id": "10807605-bdcb-4eb2-9c3f-9872755e7c29",
   "metadata": {},
   "outputs": [],
   "source": [
    "#print(rows[0:300:3])"
   ]
  },
  {
   "cell_type": "code",
   "execution_count": 23,
   "id": "3ad98ed0-6237-49b0-aa11-2095d260364e",
   "metadata": {},
   "outputs": [],
   "source": [
    "# Create a DataFrame from the extracted data\n",
    "df1 = pd.DataFrame(rows[0:len(rows)], columns=headers[0:3])"
   ]
  },
  {
   "cell_type": "code",
   "execution_count": 24,
   "id": "40f0a977-3460-469f-a31c-b99752cdceb8",
   "metadata": {},
   "outputs": [
    {
     "data": {
      "text/html": [
       "<div>\n",
       "<style scoped>\n",
       "    .dataframe tbody tr th:only-of-type {\n",
       "        vertical-align: middle;\n",
       "    }\n",
       "\n",
       "    .dataframe tbody tr th {\n",
       "        vertical-align: top;\n",
       "    }\n",
       "\n",
       "    .dataframe thead th {\n",
       "        text-align: right;\n",
       "    }\n",
       "</style>\n",
       "<table border=\"1\" class=\"dataframe\">\n",
       "  <thead>\n",
       "    <tr style=\"text-align: right;\">\n",
       "      <th></th>\n",
       "      <th>Name</th>\n",
       "      <th>City</th>\n",
       "      <th>State</th>\n",
       "    </tr>\n",
       "  </thead>\n",
       "  <tbody>\n",
       "    <tr>\n",
       "      <th>0</th>\n",
       "      <td>A J Institute of Engineering and Technology Ma...</td>\n",
       "      <td>Mangaluru</td>\n",
       "      <td>Karnataka</td>\n",
       "    </tr>\n",
       "    <tr>\n",
       "      <th>1</th>\n",
       "      <td>A M C College of Engineering, Bangalore</td>\n",
       "      <td>Bengaluru</td>\n",
       "      <td>Karnataka</td>\n",
       "    </tr>\n",
       "  </tbody>\n",
       "</table>\n",
       "</div>"
      ],
      "text/plain": [
       "                                                Name       City      State\n",
       "0  A J Institute of Engineering and Technology Ma...  Mangaluru  Karnataka\n",
       "1            A M C College of Engineering, Bangalore  Bengaluru  Karnataka"
      ]
     },
     "execution_count": 24,
     "metadata": {},
     "output_type": "execute_result"
    }
   ],
   "source": [
    "df1.head(2)"
   ]
  },
  {
   "cell_type": "code",
   "execution_count": 25,
   "id": "f7268cc2-9c80-4b3a-b0ba-36e1a27c65b4",
   "metadata": {},
   "outputs": [
    {
     "data": {
      "text/plain": [
       "['Name', 'City', 'State']"
      ]
     },
     "execution_count": 25,
     "metadata": {},
     "output_type": "execute_result"
    }
   ],
   "source": [
    "list(df1.columns)"
   ]
  },
  {
   "cell_type": "code",
   "execution_count": 26,
   "id": "f3a36a24-fe7f-4bc9-b2fe-46e5a3ae5219",
   "metadata": {},
   "outputs": [],
   "source": [
    "df1.columns = ['name','city','state']"
   ]
  },
  {
   "cell_type": "code",
   "execution_count": 27,
   "id": "0199ba2f-d7d8-44eb-ab2c-dd55a2dfe21e",
   "metadata": {},
   "outputs": [
    {
     "data": {
      "text/html": [
       "<div>\n",
       "<style scoped>\n",
       "    .dataframe tbody tr th:only-of-type {\n",
       "        vertical-align: middle;\n",
       "    }\n",
       "\n",
       "    .dataframe tbody tr th {\n",
       "        vertical-align: top;\n",
       "    }\n",
       "\n",
       "    .dataframe thead th {\n",
       "        text-align: right;\n",
       "    }\n",
       "</style>\n",
       "<table border=\"1\" class=\"dataframe\">\n",
       "  <thead>\n",
       "    <tr style=\"text-align: right;\">\n",
       "      <th></th>\n",
       "      <th>name</th>\n",
       "      <th>city</th>\n",
       "      <th>state</th>\n",
       "    </tr>\n",
       "  </thead>\n",
       "  <tbody>\n",
       "    <tr>\n",
       "      <th>0</th>\n",
       "      <td>A J Institute of Engineering and Technology Ma...</td>\n",
       "      <td>Mangaluru</td>\n",
       "      <td>Karnataka</td>\n",
       "    </tr>\n",
       "    <tr>\n",
       "      <th>1</th>\n",
       "      <td>A M C College of Engineering, Bangalore</td>\n",
       "      <td>Bengaluru</td>\n",
       "      <td>Karnataka</td>\n",
       "    </tr>\n",
       "  </tbody>\n",
       "</table>\n",
       "</div>"
      ],
      "text/plain": [
       "                                                name       city      state\n",
       "0  A J Institute of Engineering and Technology Ma...  Mangaluru  Karnataka\n",
       "1            A M C College of Engineering, Bangalore  Bengaluru  Karnataka"
      ]
     },
     "execution_count": 27,
     "metadata": {},
     "output_type": "execute_result"
    }
   ],
   "source": [
    "df1.head(2)"
   ]
  },
  {
   "cell_type": "code",
   "execution_count": 28,
   "id": "9316fea7-0e48-4e77-9c4e-92335f14e238",
   "metadata": {},
   "outputs": [
    {
     "data": {
      "text/html": [
       "<div>\n",
       "<style scoped>\n",
       "    .dataframe tbody tr th:only-of-type {\n",
       "        vertical-align: middle;\n",
       "    }\n",
       "\n",
       "    .dataframe tbody tr th {\n",
       "        vertical-align: top;\n",
       "    }\n",
       "\n",
       "    .dataframe thead th {\n",
       "        text-align: right;\n",
       "    }\n",
       "</style>\n",
       "<table border=\"1\" class=\"dataframe\">\n",
       "  <thead>\n",
       "    <tr style=\"text-align: right;\">\n",
       "      <th></th>\n",
       "      <th>name</th>\n",
       "      <th>city</th>\n",
       "      <th>state</th>\n",
       "    </tr>\n",
       "  </thead>\n",
       "  <tbody>\n",
       "    <tr>\n",
       "      <th>0</th>\n",
       "      <td>A J Institute of Engineering and Technology Ma...</td>\n",
       "      <td>Mangaluru</td>\n",
       "      <td>Karnataka</td>\n",
       "    </tr>\n",
       "    <tr>\n",
       "      <th>1</th>\n",
       "      <td>A M C College of Engineering, Bangalore</td>\n",
       "      <td>Bengaluru</td>\n",
       "      <td>Karnataka</td>\n",
       "    </tr>\n",
       "  </tbody>\n",
       "</table>\n",
       "</div>"
      ],
      "text/plain": [
       "                                                name       city      state\n",
       "0  A J Institute of Engineering and Technology Ma...  Mangaluru  Karnataka\n",
       "1            A M C College of Engineering, Bangalore  Bengaluru  Karnataka"
      ]
     },
     "execution_count": 28,
     "metadata": {},
     "output_type": "execute_result"
    }
   ],
   "source": [
    "df1B = df1.copy()\n",
    "df1B.head(2)"
   ]
  },
  {
   "cell_type": "code",
   "execution_count": 29,
   "id": "3e99615e-bd37-4c6a-9f87-bcd684f7207e",
   "metadata": {},
   "outputs": [
    {
     "data": {
      "text/plain": [
       "(100, 3)"
      ]
     },
     "execution_count": 29,
     "metadata": {},
     "output_type": "execute_result"
    }
   ],
   "source": [
    "df1B.shape"
   ]
  },
  {
   "cell_type": "code",
   "execution_count": 30,
   "id": "dc0cc952-6fe4-44f6-a61a-0506fad8f9a8",
   "metadata": {},
   "outputs": [
    {
     "data": {
      "text/html": [
       "<div>\n",
       "<style scoped>\n",
       "    .dataframe tbody tr th:only-of-type {\n",
       "        vertical-align: middle;\n",
       "    }\n",
       "\n",
       "    .dataframe tbody tr th {\n",
       "        vertical-align: top;\n",
       "    }\n",
       "\n",
       "    .dataframe thead th {\n",
       "        text-align: right;\n",
       "    }\n",
       "</style>\n",
       "<table border=\"1\" class=\"dataframe\">\n",
       "  <thead>\n",
       "    <tr style=\"text-align: right;\">\n",
       "      <th></th>\n",
       "      <th>name</th>\n",
       "      <th>city</th>\n",
       "      <th>state</th>\n",
       "      <th>cat</th>\n",
       "    </tr>\n",
       "  </thead>\n",
       "  <tbody>\n",
       "    <tr>\n",
       "      <th>0</th>\n",
       "      <td>A J Institute of Engineering and Technology Ma...</td>\n",
       "      <td>Mangaluru</td>\n",
       "      <td>Karnataka</td>\n",
       "      <td>participating</td>\n",
       "    </tr>\n",
       "    <tr>\n",
       "      <th>1</th>\n",
       "      <td>A M C College of Engineering, Bangalore</td>\n",
       "      <td>Bengaluru</td>\n",
       "      <td>Karnataka</td>\n",
       "      <td>participating</td>\n",
       "    </tr>\n",
       "    <tr>\n",
       "      <th>2</th>\n",
       "      <td>A N College, Dumka</td>\n",
       "      <td>DUMKA</td>\n",
       "      <td>Jharkhand</td>\n",
       "      <td>participating</td>\n",
       "    </tr>\n",
       "    <tr>\n",
       "      <th>3</th>\n",
       "      <td>A. A. Government Arts College</td>\n",
       "      <td>Tiruchirappalli</td>\n",
       "      <td>Tamil Nadu</td>\n",
       "      <td>participating</td>\n",
       "    </tr>\n",
       "    <tr>\n",
       "      <th>4</th>\n",
       "      <td>A. J. K. College of Arts &amp; Science</td>\n",
       "      <td>Coimbatore</td>\n",
       "      <td>Tamil Nadu</td>\n",
       "      <td>participating</td>\n",
       "    </tr>\n",
       "  </tbody>\n",
       "</table>\n",
       "</div>"
      ],
      "text/plain": [
       "                                                name             city  \\\n",
       "0  A J Institute of Engineering and Technology Ma...        Mangaluru   \n",
       "1            A M C College of Engineering, Bangalore        Bengaluru   \n",
       "2                                 A N College, Dumka            DUMKA   \n",
       "3                      A. A. Government Arts College  Tiruchirappalli   \n",
       "4                 A. J. K. College of Arts & Science       Coimbatore   \n",
       "\n",
       "        state            cat  \n",
       "0   Karnataka  participating  \n",
       "1   Karnataka  participating  \n",
       "2   Jharkhand  participating  \n",
       "3  Tamil Nadu  participating  \n",
       "4  Tamil Nadu  participating  "
      ]
     },
     "execution_count": 30,
     "metadata": {},
     "output_type": "execute_result"
    }
   ],
   "source": [
    "df1B['cat'] = cat1\n",
    "df1B.head()"
   ]
  },
  {
   "cell_type": "code",
   "execution_count": 31,
   "id": "4055adf5-84de-4a86-8b7d-142242f83f48",
   "metadata": {},
   "outputs": [],
   "source": [
    "dfNO = pd.concat([df1B.reset_index(drop=True)], axis=1)\n",
    "dfNO['nYear'] = nData"
   ]
  },
  {
   "cell_type": "code",
   "execution_count": 32,
   "id": "17e331e3-f1da-4582-a1c7-855f40293c55",
   "metadata": {},
   "outputs": [
    {
     "data": {
      "text/html": [
       "<div>\n",
       "<style scoped>\n",
       "    .dataframe tbody tr th:only-of-type {\n",
       "        vertical-align: middle;\n",
       "    }\n",
       "\n",
       "    .dataframe tbody tr th {\n",
       "        vertical-align: top;\n",
       "    }\n",
       "\n",
       "    .dataframe thead th {\n",
       "        text-align: right;\n",
       "    }\n",
       "</style>\n",
       "<table border=\"1\" class=\"dataframe\">\n",
       "  <thead>\n",
       "    <tr style=\"text-align: right;\">\n",
       "      <th></th>\n",
       "      <th>name</th>\n",
       "      <th>city</th>\n",
       "      <th>state</th>\n",
       "      <th>cat</th>\n",
       "      <th>nYear</th>\n",
       "    </tr>\n",
       "  </thead>\n",
       "  <tbody>\n",
       "    <tr>\n",
       "      <th>0</th>\n",
       "      <td>A J Institute of Engineering and Technology Ma...</td>\n",
       "      <td>Mangaluru</td>\n",
       "      <td>Karnataka</td>\n",
       "      <td>participating</td>\n",
       "      <td>n24O_p</td>\n",
       "    </tr>\n",
       "    <tr>\n",
       "      <th>1</th>\n",
       "      <td>A M C College of Engineering, Bangalore</td>\n",
       "      <td>Bengaluru</td>\n",
       "      <td>Karnataka</td>\n",
       "      <td>participating</td>\n",
       "      <td>n24O_p</td>\n",
       "    </tr>\n",
       "  </tbody>\n",
       "</table>\n",
       "</div>"
      ],
      "text/plain": [
       "                                                name       city      state  \\\n",
       "0  A J Institute of Engineering and Technology Ma...  Mangaluru  Karnataka   \n",
       "1            A M C College of Engineering, Bangalore  Bengaluru  Karnataka   \n",
       "\n",
       "             cat   nYear  \n",
       "0  participating  n24O_p  \n",
       "1  participating  n24O_p  "
      ]
     },
     "execution_count": 32,
     "metadata": {},
     "output_type": "execute_result"
    }
   ],
   "source": [
    "dfNO.head(2)"
   ]
  },
  {
   "cell_type": "markdown",
   "id": "a14813ee-20e8-4037-afed-d511fb0e486a",
   "metadata": {},
   "source": [
    "# Now Iteratively Scan through the multiple Pages\n"
   ]
  },
  {
   "cell_type": "code",
   "execution_count": 106,
   "id": "29aa049c-5a38-4f34-b249-197ff40f73d7",
   "metadata": {},
   "outputs": [],
   "source": [
    "cService = webdriver.ChromeService(executable_path='/opt/homebrew/bin/chromedriver')\n",
    "driver = webdriver.Chrome(service = cService)\n",
    "driver.get(url)"
   ]
  },
  {
   "cell_type": "code",
   "execution_count": 107,
   "id": "903f52e0-df02-4ebd-9c92-531d7316b2d5",
   "metadata": {},
   "outputs": [],
   "source": [
    "#table = driver.find_element(By.TAG_NAME, 'table')\n",
    "previous = driver.find_element(By.LINK_TEXT, 'Previous')\n",
    "next = driver.find_element(By.LINK_TEXT, 'Next')"
   ]
  },
  {
   "cell_type": "code",
   "execution_count": 108,
   "id": "a344188d-28de-4f64-aa73-058952a832b4",
   "metadata": {},
   "outputs": [],
   "source": [
    "next = driver.find_element(By.LINK_TEXT, 'Next')\n",
    "next.click()\n",
    "#previous.click()"
   ]
  },
  {
   "cell_type": "code",
   "execution_count": 110,
   "id": "ab060195-81a5-4283-995b-1602167ebdcf",
   "metadata": {},
   "outputs": [
    {
     "name": "stdout",
     "output_type": "stream",
     "text": [
      "['Name', 'City', 'State'] 3\n"
     ]
    }
   ],
   "source": [
    "# Locate the common headers for all pages\n",
    "table = driver.find_element(By.TAG_NAME, 'table')\n",
    "# Extract table headers\n",
    "headers = []\n",
    "header_elements = table.find_elements(By.TAG_NAME, 'th')\n",
    "for header in header_elements:\n",
    "    headers.append(header.text.strip())\n",
    "print(headers[0:3], len(headers))"
   ]
  },
  {
   "cell_type": "code",
   "execution_count": 111,
   "id": "da88c053-1162-4e61-aed5-0100ac6cdc34",
   "metadata": {},
   "outputs": [],
   "source": [
    "## Now get the data page wise"
   ]
  },
  {
   "cell_type": "code",
   "execution_count": 112,
   "id": "c11bacea-55f3-4c72-b4f7-e2142128848d",
   "metadata": {},
   "outputs": [
    {
     "data": {
      "text/plain": [
       "<selenium.webdriver.remote.webelement.WebElement (session=\"c3d6873fc984d508806f77445bff7767\", element=\"f.AA54846C7F7BC4E7C17B6CB7072100F4.d.4A25FB5E7416ED02671DBFB461CFC70F.e.46\")>"
      ]
     },
     "execution_count": 112,
     "metadata": {},
     "output_type": "execute_result"
    }
   ],
   "source": [
    "pages = driver.find_element(By.CLASS_NAME,'paginate_button')\n",
    "pages"
   ]
  },
  {
   "cell_type": "code",
   "execution_count": 113,
   "id": "bc752f3e-5187-4ca4-9774-b49c66ad5975",
   "metadata": {},
   "outputs": [
    {
     "data": {
      "text/plain": [
       "<selenium.webdriver.remote.webelement.WebElement (session=\"c3d6873fc984d508806f77445bff7767\", element=\"f.AA54846C7F7BC4E7C17B6CB7072100F4.d.4A25FB5E7416ED02671DBFB461CFC70F.e.32\")>"
      ]
     },
     "execution_count": 113,
     "metadata": {},
     "output_type": "execute_result"
    }
   ],
   "source": [
    "page1 = driver.find_element(By.XPATH,\"//*[@id='tblAllInstitutes_paginate']/span/a[1]\")\n",
    "page1                            "
   ]
  },
  {
   "cell_type": "code",
   "execution_count": 114,
   "id": "ace7a4fc-8fdf-4376-86c6-6117dd43fbd4",
   "metadata": {},
   "outputs": [],
   "source": [
    "page1.click()"
   ]
  },
  {
   "cell_type": "code",
   "execution_count": null,
   "id": "9e7fb04e-9287-44de-95e9-95f5c6db1f81",
   "metadata": {},
   "outputs": [],
   "source": []
  },
  {
   "cell_type": "markdown",
   "id": "4e0338d5-86fb-42ab-a7ea-b54b8e52404f",
   "metadata": {},
   "source": [
    "page1 = driver.find_element(By.XPATH,\"//*[@id='tblAllInstitutes_paginate']/span/a[1]\")\n",
    "page1.click()\n",
    "for i in range(25):\n",
    "    next = driver.find_element(By.LINK_TEXT, 'Next')\n",
    "    time.sleep(2)\n",
    "    pn = i + 1\n",
    "   print('Page',pn, sep='-', end ='; ')\n",
    "    next.click()"
   ]
  },
  {
   "cell_type": "code",
   "execution_count": 115,
   "id": "1f7ffe94-5a01-48c0-bc9e-51db0d22c64a",
   "metadata": {},
   "outputs": [
    {
     "data": {
      "text/plain": [
       "list"
      ]
     },
     "execution_count": 115,
     "metadata": {},
     "output_type": "execute_result"
    }
   ],
   "source": [
    "headers; type(headers)"
   ]
  },
  {
   "cell_type": "code",
   "execution_count": 121,
   "id": "94a19a42-13a0-4fef-a681-443e1ca11821",
   "metadata": {},
   "outputs": [
    {
     "data": {
      "text/html": [
       "<div>\n",
       "<style scoped>\n",
       "    .dataframe tbody tr th:only-of-type {\n",
       "        vertical-align: middle;\n",
       "    }\n",
       "\n",
       "    .dataframe tbody tr th {\n",
       "        vertical-align: top;\n",
       "    }\n",
       "\n",
       "    .dataframe thead th {\n",
       "        text-align: right;\n",
       "    }\n",
       "</style>\n",
       "<table border=\"1\" class=\"dataframe\">\n",
       "  <thead>\n",
       "    <tr style=\"text-align: right;\">\n",
       "      <th></th>\n",
       "      <th>Name</th>\n",
       "      <th>City</th>\n",
       "      <th>State</th>\n",
       "      <th>pn</th>\n",
       "    </tr>\n",
       "  </thead>\n",
       "  <tbody>\n",
       "  </tbody>\n",
       "</table>\n",
       "</div>"
      ],
      "text/plain": [
       "Empty DataFrame\n",
       "Columns: [Name, City, State, pn]\n",
       "Index: []"
      ]
     },
     "execution_count": 121,
     "metadata": {},
     "output_type": "execute_result"
    }
   ],
   "source": [
    "DF = pd.DataFrame(columns=headers)\n",
    "DF['pn'] = pd.Series(dtype='int')\n",
    "DF"
   ]
  },
  {
   "cell_type": "code",
   "execution_count": 124,
   "id": "722f1d47-7122-4e78-b77b-27d47f381ae3",
   "metadata": {},
   "outputs": [
    {
     "name": "stdout",
     "output_type": "stream",
     "text": [
      "Page 1 - 100 rows, Row/Cols = (100, 4) ; cum Rows/Cols = (100, 4)\n",
      "Page 2 - 100 rows, Row/Cols = (100, 4) ; cum Rows/Cols = (200, 4)\n",
      "Page 3 - 100 rows, Row/Cols = (100, 4) ; cum Rows/Cols = (300, 4)\n",
      "Page 4 - 100 rows, Row/Cols = (100, 4) ; cum Rows/Cols = (400, 4)\n",
      "Page 5 - 100 rows, Row/Cols = (100, 4) ; cum Rows/Cols = (500, 4)\n",
      "Page 6 - 100 rows, Row/Cols = (100, 4) ; cum Rows/Cols = (600, 4)\n",
      "Page 7 - 100 rows, Row/Cols = (100, 4) ; cum Rows/Cols = (700, 4)\n",
      "Page 8 - 100 rows, Row/Cols = (100, 4) ; cum Rows/Cols = (800, 4)\n",
      "Page 9 - 100 rows, Row/Cols = (100, 4) ; cum Rows/Cols = (900, 4)\n",
      "Page 10 - 100 rows, Row/Cols = (100, 4) ; cum Rows/Cols = (1000, 4)\n",
      "Page 11 - 100 rows, Row/Cols = (100, 4) ; cum Rows/Cols = (1100, 4)\n",
      "Page 12 - 100 rows, Row/Cols = (100, 4) ; cum Rows/Cols = (1200, 4)\n",
      "Page 13 - 100 rows, Row/Cols = (100, 4) ; cum Rows/Cols = (1300, 4)\n",
      "Page 14 - 100 rows, Row/Cols = (100, 4) ; cum Rows/Cols = (1400, 4)\n",
      "Page 15 - 100 rows, Row/Cols = (100, 4) ; cum Rows/Cols = (1500, 4)\n",
      "Page 16 - 100 rows, Row/Cols = (100, 4) ; cum Rows/Cols = (1600, 4)\n",
      "Page 17 - 100 rows, Row/Cols = (100, 4) ; cum Rows/Cols = (1700, 4)\n",
      "Page 18 - 100 rows, Row/Cols = (100, 4) ; cum Rows/Cols = (1800, 4)\n",
      "Page 19 - 100 rows, Row/Cols = (100, 4) ; cum Rows/Cols = (1900, 4)\n",
      "Page 20 - 100 rows, Row/Cols = (100, 4) ; cum Rows/Cols = (2000, 4)\n",
      "Page 21 - 100 rows, Row/Cols = (100, 4) ; cum Rows/Cols = (2100, 4)\n",
      "Page 22 - 100 rows, Row/Cols = (100, 4) ; cum Rows/Cols = (2200, 4)\n",
      "Page 23 - 100 rows, Row/Cols = (100, 4) ; cum Rows/Cols = (2300, 4)\n",
      "Page 24 - 100 rows, Row/Cols = (100, 4) ; cum Rows/Cols = (2400, 4)\n",
      "Page 25 - 78 rows, Row/Cols = (78, 4) ; cum Rows/Cols = (2478, 4)\n"
     ]
    }
   ],
   "source": [
    "page1 = driver.find_element(By.XPATH,\"//*[@id='tblAllInstitutes_paginate']/span/a[1]\")\n",
    "page1.click()\n",
    "df1 = {}\n",
    "DF = pd.DataFrame(columns=headers)\n",
    "DF['pn'] = pd.Series(dtype='int')\n",
    "for i in range(25):\n",
    "    next = driver.find_element(By.LINK_TEXT, 'Next')\n",
    "    time.sleep(1)\n",
    "    pn = i + 1\n",
    "    #print('Page',pn, sep='-', end ='; ')\n",
    "    table = driver.find_element(By.TAG_NAME, 'table')\n",
    "    rows = []\n",
    "    row_elements = table.find_elements(By.TAG_NAME, 'tr')\n",
    "    # Loop through rows to extract data\n",
    "    for row in row_elements[1:]:  # Skipping the header row\n",
    "        cols = row.find_elements(By.TAG_NAME, 'td')\n",
    "        cols = [col.text.strip() for col in cols]\n",
    "        rows.append(cols) \n",
    "    df1 = pd.DataFrame(rows[0:len(rows)], columns=headers)\n",
    "    print(df1.tail(2))\n",
    "    df1['pn'] = pn\n",
    "    DF = pd.concat([DF, df1], ignore_index=True)\n",
    "    print(f'Page {pn} - {len(rows)} rows, Row/Cols = {df1.shape} ; cum Rows/Cols = {DF.shape}',  sep='-', end ='\\n')\n",
    "    next.click()"
   ]
  },
  {
   "cell_type": "code",
   "execution_count": 125,
   "id": "8a36ec1a-d92b-4dac-8edd-9f98c744b31e",
   "metadata": {},
   "outputs": [
    {
     "name": "stdout",
     "output_type": "stream",
     "text": [
      "(2478, 4) <class 'pandas.core.frame.DataFrame'>\n"
     ]
    }
   ],
   "source": [
    "print(DF.shape, type(DF))"
   ]
  },
  {
   "cell_type": "code",
   "execution_count": 130,
   "id": "ac98e49f-6298-4a21-a2b0-3939cd80ce88",
   "metadata": {},
   "outputs": [
    {
     "data": {
      "text/html": [
       "<div>\n",
       "<style scoped>\n",
       "    .dataframe tbody tr th:only-of-type {\n",
       "        vertical-align: middle;\n",
       "    }\n",
       "\n",
       "    .dataframe tbody tr th {\n",
       "        vertical-align: top;\n",
       "    }\n",
       "\n",
       "    .dataframe thead th {\n",
       "        text-align: right;\n",
       "    }\n",
       "</style>\n",
       "<table border=\"1\" class=\"dataframe\">\n",
       "  <thead>\n",
       "    <tr style=\"text-align: right;\">\n",
       "      <th></th>\n",
       "      <th>Name</th>\n",
       "      <th>City</th>\n",
       "      <th>State</th>\n",
       "      <th>pn</th>\n",
       "    </tr>\n",
       "  </thead>\n",
       "  <tbody>\n",
       "    <tr>\n",
       "      <th>0</th>\n",
       "      <td>A J Institute of Engineering and Technology Ma...</td>\n",
       "      <td>Mangaluru</td>\n",
       "      <td>Karnataka</td>\n",
       "      <td>1</td>\n",
       "    </tr>\n",
       "    <tr>\n",
       "      <th>1</th>\n",
       "      <td>A M C College of Engineering, Bangalore</td>\n",
       "      <td>Bengaluru</td>\n",
       "      <td>Karnataka</td>\n",
       "      <td>1</td>\n",
       "    </tr>\n",
       "    <tr>\n",
       "      <th>2</th>\n",
       "      <td>A N College, Dumka</td>\n",
       "      <td>DUMKA</td>\n",
       "      <td>Jharkhand</td>\n",
       "      <td>1</td>\n",
       "    </tr>\n",
       "    <tr>\n",
       "      <th>3</th>\n",
       "      <td>A. A. Government Arts College</td>\n",
       "      <td>Tiruchirappalli</td>\n",
       "      <td>Tamil Nadu</td>\n",
       "      <td>1</td>\n",
       "    </tr>\n",
       "    <tr>\n",
       "      <th>4</th>\n",
       "      <td>A. J. K. College of Arts &amp; Science</td>\n",
       "      <td>Coimbatore</td>\n",
       "      <td>Tamil Nadu</td>\n",
       "      <td>1</td>\n",
       "    </tr>\n",
       "    <tr>\n",
       "      <th>2473</th>\n",
       "      <td>Yogada Satsanga Palpara Mahavidyalaya</td>\n",
       "      <td>NA</td>\n",
       "      <td>West Bengal</td>\n",
       "      <td>25</td>\n",
       "    </tr>\n",
       "    <tr>\n",
       "      <th>2474</th>\n",
       "      <td>Yogi Vemana University</td>\n",
       "      <td>Kadapa</td>\n",
       "      <td>Andhra Pradesh</td>\n",
       "      <td>25</td>\n",
       "    </tr>\n",
       "    <tr>\n",
       "      <th>2475</th>\n",
       "      <td>Yuva Vyavsaik Shikshan Mahavidhyalaya, Guna</td>\n",
       "      <td>Guna</td>\n",
       "      <td>Madhya Pradesh</td>\n",
       "      <td>25</td>\n",
       "    </tr>\n",
       "    <tr>\n",
       "      <th>2476</th>\n",
       "      <td>Z.F. Wadia Women`s College &amp; N.K. Jhota Colleg...</td>\n",
       "      <td>Dist. Surat</td>\n",
       "      <td>Gujarat</td>\n",
       "      <td>25</td>\n",
       "    </tr>\n",
       "    <tr>\n",
       "      <th>2477</th>\n",
       "      <td>Zakia Afaque Islamia College, Siwan</td>\n",
       "      <td>Siwan</td>\n",
       "      <td>Bihar</td>\n",
       "      <td>25</td>\n",
       "    </tr>\n",
       "  </tbody>\n",
       "</table>\n",
       "</div>"
      ],
      "text/plain": [
       "                                                   Name             City  \\\n",
       "0     A J Institute of Engineering and Technology Ma...        Mangaluru   \n",
       "1               A M C College of Engineering, Bangalore        Bengaluru   \n",
       "2                                    A N College, Dumka            DUMKA   \n",
       "3                         A. A. Government Arts College  Tiruchirappalli   \n",
       "4                    A. J. K. College of Arts & Science       Coimbatore   \n",
       "2473              Yogada Satsanga Palpara Mahavidyalaya               NA   \n",
       "2474                             Yogi Vemana University           Kadapa   \n",
       "2475        Yuva Vyavsaik Shikshan Mahavidhyalaya, Guna             Guna   \n",
       "2476  Z.F. Wadia Women`s College & N.K. Jhota Colleg...      Dist. Surat   \n",
       "2477                Zakia Afaque Islamia College, Siwan            Siwan   \n",
       "\n",
       "               State  pn  \n",
       "0          Karnataka   1  \n",
       "1          Karnataka   1  \n",
       "2          Jharkhand   1  \n",
       "3         Tamil Nadu   1  \n",
       "4         Tamil Nadu   1  \n",
       "2473     West Bengal  25  \n",
       "2474  Andhra Pradesh  25  \n",
       "2475  Madhya Pradesh  25  \n",
       "2476         Gujarat  25  \n",
       "2477           Bihar  25  "
      ]
     },
     "execution_count": 130,
     "metadata": {},
     "output_type": "execute_result"
    }
   ],
   "source": [
    "#print(DF.head(), DF.tail())\n",
    "pd.concat([DF.head(5), DF.tail(5)])"
   ]
  },
  {
   "cell_type": "code",
   "execution_count": 105,
   "id": "7ae77378-2d94-49da-9d03-7ebb8c6130e7",
   "metadata": {},
   "outputs": [],
   "source": [
    "# Close the browser\n",
    "driver.quit()"
   ]
  },
  {
   "cell_type": "code",
   "execution_count": 137,
   "id": "7ec1ed70-f85a-433d-8d2e-e8988d82c2d3",
   "metadata": {},
   "outputs": [],
   "source": [
    "# Display the extracted data\n",
    "nData = 'n24Opi'\n",
    "DF['cat'] = 'NIRF24O_Participating'"
   ]
  },
  {
   "cell_type": "code",
   "execution_count": 138,
   "id": "1313dede-2a75-49b1-ac51-ba5b1da6ec16",
   "metadata": {},
   "outputs": [
    {
     "name": "stdout",
     "output_type": "stream",
     "text": [
      "n24Opi /Users/du/dup/auData/ranking/nirf/n24Opi.csv\n"
     ]
    }
   ],
   "source": [
    "# Save the data to a CSV file\n",
    "fileLoc  = '/Users/du/dup/auData/ranking/nirf/'\n",
    "fileName = fileLoc +  nData + '.csv'\n",
    "print(nData, fileName)"
   ]
  },
  {
   "cell_type": "code",
   "execution_count": 139,
   "id": "2104aa89-0295-44d2-897d-0daa9f8bb6f9",
   "metadata": {},
   "outputs": [],
   "source": [
    "DF.to_csv(fileName, index=False)"
   ]
  },
  {
   "cell_type": "code",
   "execution_count": 140,
   "id": "2477e8fb-048a-4d08-a4d7-cc27671e47d0",
   "metadata": {},
   "outputs": [],
   "source": [
    "import os"
   ]
  },
  {
   "cell_type": "code",
   "execution_count": 141,
   "id": "807b5db6-c5b5-4f8d-9289-188c59cb1655",
   "metadata": {},
   "outputs": [
    {
     "name": "stdout",
     "output_type": "stream",
     "text": [
      "Innovation nirf22R.csv nirf22P.csv n24Opi.csv N23scores.pdf n24u.csv nirf2122P.csv .DS_Store IR2024_Report.pdf n21o.csv n22u.csv Law Management pdf NIRF 2023 Data Summary.pdf n23u.csv n20o.csv n24O_b1.csv n20u.csv n23o.csv nirf24o.csv Architecture NIRFall.csv n24O_b2.csv nirfAU.csv n24U_b2.csv n22o.csv n21u.csv n24U_b1.csv nirf21A.csv N23Scores.csv n2oo.csv n24o.csv Overall Engineering nirfScores.csv\n"
     ]
    }
   ],
   "source": [
    "print(' '.join(map(str, os.listdir(fileLoc))))"
   ]
  },
  {
   "cell_type": "markdown",
   "id": "0113c0de-6b62-4d5c-bda9-571d96062ced",
   "metadata": {},
   "source": [
    "## End of Coding"
   ]
  },
  {
   "cell_type": "code",
   "execution_count": 142,
   "id": "ddae3ecb-5268-4732-9801-c1e1ebd73750",
   "metadata": {},
   "outputs": [
    {
     "data": {
      "text/html": [
       "<div>\n",
       "<style scoped>\n",
       "    .dataframe tbody tr th:only-of-type {\n",
       "        vertical-align: middle;\n",
       "    }\n",
       "\n",
       "    .dataframe tbody tr th {\n",
       "        vertical-align: top;\n",
       "    }\n",
       "\n",
       "    .dataframe thead th {\n",
       "        text-align: right;\n",
       "    }\n",
       "</style>\n",
       "<table border=\"1\" class=\"dataframe\">\n",
       "  <thead>\n",
       "    <tr style=\"text-align: right;\">\n",
       "      <th></th>\n",
       "      <th>Name</th>\n",
       "      <th>City</th>\n",
       "      <th>State</th>\n",
       "      <th>pn</th>\n",
       "      <th>cat</th>\n",
       "    </tr>\n",
       "  </thead>\n",
       "  <tbody>\n",
       "    <tr>\n",
       "      <th>0</th>\n",
       "      <td>A J Institute of Engineering and Technology Ma...</td>\n",
       "      <td>Mangaluru</td>\n",
       "      <td>Karnataka</td>\n",
       "      <td>1</td>\n",
       "      <td>NIRF24O_Participating</td>\n",
       "    </tr>\n",
       "    <tr>\n",
       "      <th>1</th>\n",
       "      <td>A M C College of Engineering, Bangalore</td>\n",
       "      <td>Bengaluru</td>\n",
       "      <td>Karnataka</td>\n",
       "      <td>1</td>\n",
       "      <td>NIRF24O_Participating</td>\n",
       "    </tr>\n",
       "  </tbody>\n",
       "</table>\n",
       "</div>"
      ],
      "text/plain": [
       "                                                Name       City      State  \\\n",
       "0  A J Institute of Engineering and Technology Ma...  Mangaluru  Karnataka   \n",
       "1            A M C College of Engineering, Bangalore  Bengaluru  Karnataka   \n",
       "\n",
       "   pn                    cat  \n",
       "0   1  NIRF24O_Participating  \n",
       "1   1  NIRF24O_Participating  "
      ]
     },
     "execution_count": 142,
     "metadata": {},
     "output_type": "execute_result"
    }
   ],
   "source": [
    "pd.read_csv(fileName).head(2)"
   ]
  },
  {
   "cell_type": "code",
   "execution_count": null,
   "id": "0050900b-a746-4688-95a9-26df0ff3d127",
   "metadata": {},
   "outputs": [],
   "source": []
  },
  {
   "cell_type": "code",
   "execution_count": null,
   "id": "3e2ee730-a63b-4dcf-8f5e-54e1293aa64e",
   "metadata": {},
   "outputs": [],
   "source": []
  }
 ],
 "metadata": {
  "kernelspec": {
   "display_name": "Python 3 (ipykernel)",
   "language": "python",
   "name": "python3"
  },
  "language_info": {
   "codemirror_mode": {
    "name": "ipython",
    "version": 3
   },
   "file_extension": ".py",
   "mimetype": "text/x-python",
   "name": "python",
   "nbconvert_exporter": "python",
   "pygments_lexer": "ipython3",
   "version": "3.12.7"
  }
 },
 "nbformat": 4,
 "nbformat_minor": 5
}
