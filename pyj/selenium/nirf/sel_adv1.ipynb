{
 "cells": [
  {
   "cell_type": "markdown",
   "id": "45531b6b-739c-434d-9c64-50f86b89322d",
   "metadata": {},
   "source": [
    "# Selenium Advanced\n",
    "- Exceptions\n",
    "    - https://www.selenium.dev/selenium/docs/api/py/common/selenium.common.exceptions.html\n",
    "    - https://www.browserstack.com/guide/exceptions-in-selenium-webdriver\n",
    "    - https://selenium-python.readthedocs.io/api.html\n",
    "- Wait\n",
    "    - https://www.selenium.dev/documentation/webdriver/waits/\n",
    "    - \n",
    "- Refresh\n",
    "  - https://stackoverflow.com/questions/54357519/how-to-reload-page-selenium-if-webdriverwait-timeout-python\n",
    "  - https://stackoverflow.com/questions/17533024/how-to-set-selenium-python-webdriver-default-timeout\n",
    "  - https://www.tutorialspoint.com/how-to-set-selenium-python-webdriver-default-timeout"
   ]
  },
  {
   "cell_type": "code",
   "execution_count": 1,
   "id": "fce726b1-3940-4929-ad2e-a920797f38e3",
   "metadata": {},
   "outputs": [],
   "source": [
    "from selenium import webdriver\n",
    "from selenium.webdriver.common.by import By\n",
    "from selenium.webdriver.support.ui import WebDriverWait\n",
    "from selenium.webdriver.support import expected_conditions as EC\n",
    "import os"
   ]
  },
  {
   "cell_type": "code",
   "execution_count": 37,
   "id": "3ed12975-2df4-43ee-98ee-c9c1ced55a98",
   "metadata": {},
   "outputs": [],
   "source": [
    "cService = webdriver.ChromeService(executable_path='/opt/homebrew/bin/chromedriver')\n",
    "driver = webdriver.Chrome(service = cService)"
   ]
  },
  {
   "cell_type": "code",
   "execution_count": 15,
   "id": "2d361d57-79dd-4db8-b70e-ae14ae9f44f0",
   "metadata": {},
   "outputs": [],
   "source": [
    "driver.set_page_load_timeout(300)"
   ]
  },
  {
   "cell_type": "code",
   "execution_count": 21,
   "id": "ff056db0-9ca7-4534-8bc6-16376d89ed5e",
   "metadata": {},
   "outputs": [],
   "source": [
    "#driver = webdriver.Chrome(executable_path =os.path.abspath(os.getcwd()) + \"/chromedriver\")\n",
    "driver.get(\"https://selenium-python.readthedocs.io/waits.html\")"
   ]
  },
  {
   "cell_type": "markdown",
   "id": "56a257b0-9104-4692-b2a5-65f0256477dc",
   "metadata": {},
   "source": [
    "#working\n",
    "def refresh():\n",
    "    try:\n",
    "        element = WebDriverWait(driver, 10).until( EC.presence_of_element_located((By.CLASS_NAME, \"button\"))\n",
    "        )\n",
    "    except:\n",
    "        driver.refresh()\n",
    "        refresh()\n",
    "\n",
    "refresh()"
   ]
  },
  {
   "cell_type": "code",
   "execution_count": 39,
   "id": "4ff52e95-d965-411d-8616-508b0097312f",
   "metadata": {},
   "outputs": [],
   "source": [
    "url2 = 'https://google.co.in'"
   ]
  },
  {
   "cell_type": "code",
   "execution_count": 40,
   "id": "61bbf7a6-5a09-47c2-a933-f952938cfa7d",
   "metadata": {},
   "outputs": [],
   "source": [
    "driver.get(url2)"
   ]
  },
  {
   "cell_type": "code",
   "execution_count": 41,
   "id": "1153755e-ed7e-49b1-95da-0a3ad98a9ad0",
   "metadata": {},
   "outputs": [
    {
     "data": {
      "text/plain": [
       "'https://www.google.co.in/'"
      ]
     },
     "execution_count": 41,
     "metadata": {},
     "output_type": "execute_result"
    }
   ],
   "source": [
    "driver.current_url"
   ]
  },
  {
   "cell_type": "code",
   "execution_count": 19,
   "id": "7022bf88-5189-4c2d-8fd0-3755d22c452d",
   "metadata": {},
   "outputs": [],
   "source": [
    "# You can get list of elements with explicit wait with presence of elements in Dom with button as class name. If list of element is empty then you can refresh page.\n",
    "wait = WebDriverWait(driver, 30)"
   ]
  },
  {
   "cell_type": "markdown",
   "id": "338e2680-0ecc-4ac5-922c-542a3f2e168d",
   "metadata": {},
   "source": [
    "if  len(wait.until(EC.presence_of_all_elements_located((By.CLASS_NAME,'button'))))==0 :\n",
    "  driver.refresh()\n",
    "#works sometime"
   ]
  },
  {
   "cell_type": "markdown",
   "id": "213b585e-5df0-4f0c-a15e-7bd556127d4a",
   "metadata": {},
   "source": [
    "# Exceptions"
   ]
  },
  {
   "cell_type": "code",
   "execution_count": 23,
   "id": "eb85ffd9-9996-4e94-ae4d-5545e60d021a",
   "metadata": {},
   "outputs": [],
   "source": [
    "# get geeksforgeeks.org\n",
    "driver.get(\"https://www.geeksforgeeks.org/\")"
   ]
  },
  {
   "cell_type": "markdown",
   "id": "3b012db5-7daa-4126-8a59-339e67a52577",
   "metadata": {},
   "source": [
    "# get element \n",
    "element = driver.find_element(By.LINK_TEXT, \"abrakadabra\")\n",
    "#element #this will throw error"
   ]
  },
  {
   "cell_type": "markdown",
   "id": "b67a260d-4dc4-4edb-9b1a-80af2e9bcbb7",
   "metadata": {},
   "source": [
    "#click the item\n",
    "print(element.click())\n"
   ]
  },
  {
   "cell_type": "code",
   "execution_count": null,
   "id": "6c37d77f-3fc9-487b-9316-6204b21a4592",
   "metadata": {},
   "outputs": [],
   "source": [
    "## Exceptions\n",
    "- https://www.lambdatest.com/blog/handling-errors-and-exceptions-in-selenium-python/\n",
    "- from selenium.common.exceptions import [Exception Name]\n",
    "\n"
   ]
  },
  {
   "cell_type": "code",
   "execution_count": 28,
   "id": "bf52c723-933d-4de1-a404-072cdf0b1a69",
   "metadata": {},
   "outputs": [],
   "source": [
    "from selenium.common.exceptions import NoSuchAttributeException\n",
    "#his exception indicates that the website does not contain the attribute of the element being looked for."
   ]
  },
  {
   "cell_type": "code",
   "execution_count": 29,
   "id": "b2e2f6bf-cd48-4516-aa91-471e58c2d6b3",
   "metadata": {},
   "outputs": [],
   "source": [
    "#TimeOutException\n",
    "from selenium.common.exceptions import TimeoutException\n",
    "#When a command does not complete in the time duration set (seconds), this exception is raised or thrown. The wait time can either be implicitly or explicitly defined"
   ]
  },
  {
   "cell_type": "code",
   "execution_count": 30,
   "id": "3e746c8e-6cf9-483f-8936-87eec3873db7",
   "metadata": {},
   "outputs": [],
   "source": [
    "#NoSuchElementException\n",
    "from selenium.common.exceptions import NoSuchElementException\n",
    "# When an element cannot be found, this exception is raised or thrown. Nonetheless, different factors can lead to this exception being generated:\n",
    "#-The element is not yet in the DOM when the find operation is performed because the page loading is in progress.\n",
    "#- Incorrect element locator is used in the source code."
   ]
  },
  {
   "cell_type": "code",
   "execution_count": 31,
   "id": "6c84de3b-945a-4f81-919d-82c6b625adfe",
   "metadata": {},
   "outputs": [],
   "source": [
    "#ElementNotInteractableException\n",
    "from selenium.common.exceptions import ElementNotInteractableException\n",
    "#Such exceptions in Selenium Python is raised whenever an element in the DOM is present but cannot be interacted with"
   ]
  },
  {
   "cell_type": "code",
   "execution_count": 32,
   "id": "22fc4cdc-dabd-4ef3-baf7-f88e169e6f33",
   "metadata": {},
   "outputs": [],
   "source": [
    "#ElementNotVisibleException\n",
    "from selenium.common.exceptions import ElementNotVisibleException\n",
    "#This exception typically arises when the interaction involves clicking or reading text from an element that is not visible in the DOM."
   ]
  },
  {
   "cell_type": "code",
   "execution_count": 33,
   "id": "ad5e9875-346e-45e4-bb23-05f5cd03293e",
   "metadata": {},
   "outputs": [],
   "source": [
    "#StaleElementReferenceException\n",
    "from selenium.common.exceptions import StaleElementReferenceException\n",
    "#An outdated or unavailable element in the DOM is referred to as a stale element. A reference to an element that is currently “stale” will raise or throw this exception.\n",
    "#For example, the following reasons could lead to the StaleElementReferenceException exception:\n",
    "#After the element was located, the page either changed or was refreshed.\n",
    "#A refreshed context may have contained the element.\n",
    "#Complete deletion of the referenced web element."
   ]
  },
  {
   "cell_type": "code",
   "execution_count": 35,
   "id": "045c3ea1-b775-4c54-aa57-69d919470e32",
   "metadata": {},
   "outputs": [],
   "source": [
    "#ElementClickInterceptedException\n",
    "from selenium.common.exceptions import ElementClickInterceptedException\n",
    "#This exception arises when the element receiving the interaction impedes the element intended to be clicked, thereby preventing the Element Click operation from being performed."
   ]
  },
  {
   "cell_type": "code",
   "execution_count": null,
   "id": "b012825c-e8a2-4a0a-8c40-438776f5622a",
   "metadata": {},
   "outputs": [],
   "source": []
  }
 ],
 "metadata": {
  "kernelspec": {
   "display_name": "Python 3 (ipykernel)",
   "language": "python",
   "name": "python3"
  },
  "language_info": {
   "codemirror_mode": {
    "name": "ipython",
    "version": 3
   },
   "file_extension": ".py",
   "mimetype": "text/x-python",
   "name": "python",
   "nbconvert_exporter": "python",
   "pygments_lexer": "ipython3",
   "version": "3.11.5"
  }
 },
 "nbformat": 4,
 "nbformat_minor": 5
}
