{
 "cells": [
  {
   "cell_type": "code",
   "execution_count": null,
   "id": "0f97dbe1-c9a1-48ed-9f5d-f2c241aefb15",
   "metadata": {},
   "outputs": [],
   "source": [
    "# Links\n",
    "- https://medium.com/@amiri.mccain/use-python-to-open-and-save-as-pdfs-all-urls-in-a-pdf-30002e661f7c"
   ]
  },
  {
   "cell_type": "code",
   "execution_count": null,
   "id": "0c675c51-dd45-4bc0-a286-bf5cdce5cb5f",
   "metadata": {},
   "outputs": [],
   "source": []
  },
  {
   "cell_type": "code",
   "execution_count": 2,
   "id": "8908c510-7aa9-40e6-91a9-00e9380f5aa0",
   "metadata": {
    "tags": []
   },
   "outputs": [],
   "source": [
    "# Import libraries\n",
    "from selenium import webdriver\n",
    "from selenium.webdriver.support.ui import WebDriverWait\n",
    "import json\n",
    "import time\n",
    "import os.path\n",
    "import fitz # PyMuPDF\n",
    "import pandas as pd"
   ]
  },
  {
   "cell_type": "code",
   "execution_count": null,
   "id": "74ddd5f0-8bcb-40a6-a8d8-31cdeb6b0733",
   "metadata": {},
   "outputs": [],
   "source": []
  },
  {
   "cell_type": "code",
   "execution_count": 3,
   "id": "cbc189b6-0e06-4661-a68b-0da90cd25be8",
   "metadata": {
    "tags": []
   },
   "outputs": [],
   "source": [
    "def open_pdf_urls_and_save_to_pdf(url, pdf_name, save_to_path):\n",
    "    \"\"\"\n",
    "        Function: \n",
    "            Open web url, wait, then use the Google Chrome browser \n",
    "            to print URL webpage to PDF and save to default \n",
    "            directory (e.g. Downloads folder).\n",
    "        Inputs:\n",
    "            - url: url of the webpage\n",
    "            - pdf_name: the name for the pdf to be saved\n",
    "            - save_to_path: file destination path\n",
    "            - problem_number: defines what problem number is being saved\n",
    "    \"\"\"\n",
    "    appState = {\n",
    "        \"recentDestinations\": [\n",
    "            {\n",
    "                \"id\": \"Save as PDF\",\n",
    "                \"origin\": \"local\",\n",
    "                \"account\": \"\"\n",
    "            }\n",
    "        ],\n",
    "        \"selectedDestinationId\": \"Save as PDF\",\n",
    "        \"version\": 2\n",
    "    }\n",
    "\n",
    "    try:\n",
    "        # Configure Chrome options\n",
    "        profile = {'printing.print_preview_sticky_settings.appState': json.dumps(appState),\n",
    "                'savefile.default_directory': save_to_path}\n",
    "\n",
    "        chrome_options = webdriver.ChromeOptions()\n",
    "        chrome_options.add_experimental_option('prefs', profile)\n",
    "        chrome_options.add_argument('--kiosk-printing')\n",
    "\n",
    "        # Open web url, wait\n",
    "        print('Opening url : ', url)\n",
    "        wait_seconds = 20\n",
    "        driver = webdriver.Chrome(options=chrome_options) # your browser  webdriver.Chrome()\n",
    "        driver.get(url)\n",
    "        wait = WebDriverWait(driver, wait_seconds) # Is this really seconds?\n",
    "\n",
    "        # Allow time for text to appear\n",
    "        time.sleep(5) # Seconds\n",
    "\n",
    "        # Using Google Chrome browser, print to PDF\n",
    "        print('Saving open url to pdf to filename: ', pdf_name)\n",
    "        print('----------------------------------------------------------------------------------------------')\n",
    "        \n",
    "        driver.execute_script('document.title=\"{}\";'.format(pdf_name));driver.execute_script('window.print();')\n",
    "    except Exception as e:\n",
    "        print('An exception occurred in function print_url_to_pdf_using_chrome(): ', url, type(e), e)"
   ]
  },
  {
   "cell_type": "code",
   "execution_count": null,
   "id": "6023e1d4-adf2-4939-bb39-0bc1ab04697e",
   "metadata": {},
   "outputs": [],
   "source": []
  }
 ],
 "metadata": {
  "kernelspec": {
   "display_name": "Python 3 (ipykernel)",
   "language": "python",
   "name": "python3"
  },
  "language_info": {
   "codemirror_mode": {
    "name": "ipython",
    "version": 3
   },
   "file_extension": ".py",
   "mimetype": "text/x-python",
   "name": "python",
   "nbconvert_exporter": "python",
   "pygments_lexer": "ipython3",
   "version": "3.11.5"
  }
 },
 "nbformat": 4,
 "nbformat_minor": 5
}
