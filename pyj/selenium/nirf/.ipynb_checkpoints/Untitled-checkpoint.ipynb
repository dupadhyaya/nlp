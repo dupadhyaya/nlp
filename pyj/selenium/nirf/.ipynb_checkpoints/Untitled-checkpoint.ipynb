{
 "cells": [
  {
   "cell_type": "markdown",
   "id": "dcb4bf21-9e6f-4e2f-acdd-9ff72b6db07b",
   "metadata": {},
   "source": [
    "# saving webpages to pdf\n",
    "-  "
   ]
  },
  {
   "cell_type": "code",
   "execution_count": 21,
   "id": "139e648f-5445-4f60-a56c-bfc6aa26908c",
   "metadata": {
    "tags": []
   },
   "outputs": [],
   "source": [
    "from selenium import webdriver\n",
    "from selenium.webdriver.common.by import By\n",
    "import pandas as pd\n",
    "from selenium.webdriver.chrome.service import Service\n",
    "import json\n",
    "import os"
   ]
  },
  {
   "cell_type": "code",
   "execution_count": null,
   "id": "49f8b4a8-3b6f-4ea1-aa46-232eea531df4",
   "metadata": {},
   "outputs": [],
   "source": [
    "cp2 = '/opt/homebrew/bin/chromedriver'  # Replace with the actual path to your chromedriver\n",
    "cService = webdriver.ChromeService(executable_path=cp2)"
   ]
  },
  {
   "cell_type": "code",
   "execution_count": 14,
   "id": "12742dfe-c1fc-4996-9ae8-22e9730ed356",
   "metadata": {
    "tags": []
   },
   "outputs": [
    {
     "data": {
      "text/plain": [
       "['Welcome to Python.org.pdf', 'Example Domain.pdf']"
      ]
     },
     "execution_count": 14,
     "metadata": {},
     "output_type": "execute_result"
    }
   ],
   "source": [
    "url =\"https://www.python.org/\"\n",
    "os.listdir('/Users/du/dup/audata/lms/webpage_pdfs')"
   ]
  },
  {
   "cell_type": "code",
   "execution_count": null,
   "id": "12fb6967-eec4-43b4-864f-dc407a5f6a8f",
   "metadata": {},
   "outputs": [],
   "source": [
    "# Set up ChromeDriver\n",
    "driver = webdriver.Chrome(service = cService, options=chrome_options)"
   ]
  },
  {
   "cell_type": "code",
   "execution_count": 3,
   "id": "97e22d1e-5c17-4099-b6c3-ac1e9691ec80",
   "metadata": {
    "tags": []
   },
   "outputs": [],
   "source": [
    "appState = {\n",
    "    \"recentDestinations\": [\n",
    "        {\n",
    "            \"id\": \"Save as PDF\",\n",
    "            \"origin\": \"local\",\n",
    "            \"account\": \"\"\n",
    "        }\n",
    "    ],\n",
    "    \"selectedDestinationId\": \"Save as PDF\",\n",
    "    \"version\": 2\n",
    "}"
   ]
  },
  {
   "cell_type": "code",
   "execution_count": 4,
   "id": "1edb0e40-fcc8-416b-920c-e4dae3a0f9c3",
   "metadata": {
    "tags": []
   },
   "outputs": [],
   "source": [
    "save_directory = \"/Users/du/dup/auData/lms/webpage_pdfs\""
   ]
  },
  {
   "cell_type": "code",
   "execution_count": 5,
   "id": "6a03b3d0-0e61-45e4-9a21-2dec90008f45",
   "metadata": {
    "tags": []
   },
   "outputs": [],
   "source": [
    "profile = {'printing.print_preview_sticky_settings.appState': json.dumps(appState), 'savefile.default_directory': save_directory}"
   ]
  },
  {
   "cell_type": "code",
   "execution_count": 6,
   "id": "fb70b277-1f89-4351-8b7d-214327c6abda",
   "metadata": {
    "tags": []
   },
   "outputs": [],
   "source": [
    "chrome_options = webdriver.ChromeOptions()\n",
    "chrome_options.add_experimental_option('prefs', profile)\n",
    "chrome_options.add_argument('--kiosk-printing')"
   ]
  },
  {
   "cell_type": "code",
   "execution_count": 7,
   "id": "980e8eee-2eba-48bc-a0c3-9d52d20c075f",
   "metadata": {
    "tags": []
   },
   "outputs": [],
   "source": [
    "driver = webdriver.Chrome(options=chrome_options)\n",
    "driver.get(url)\n",
    "driver.execute_script('window.print();')"
   ]
  },
  {
   "cell_type": "code",
   "execution_count": 9,
   "id": "d07e76bf-20f1-40a6-a1cd-707b620c9583",
   "metadata": {
    "tags": []
   },
   "outputs": [
    {
     "name": "stdout",
     "output_type": "stream",
     "text": [
      "✅ WebDriver is running successfully.\n"
     ]
    }
   ],
   "source": [
    "# Close the browser\n",
    "#driver.quit()\n",
    "try:\n",
    "    driver = webdriver.Chrome()  # Start the Chrome WebDriver\n",
    "    print(\"✅ WebDriver is running successfully.\")\n",
    "    driver.quit()  # Close the browser\n",
    "except Exception as e:\n",
    "    print(\"❌ WebDriver error:\", str(e))"
   ]
  },
  {
   "cell_type": "code",
   "execution_count": 16,
   "id": "17360a0c-84be-461b-9c99-815d6cbfc19b",
   "metadata": {
    "tags": []
   },
   "outputs": [
    {
     "name": "stdout",
     "output_type": "stream",
     "text": [
      "['Welcome to Python.org.pdf', 'Example Domain.pdf']\n"
     ]
    }
   ],
   "source": [
    "print(os.listdir(save_directory))"
   ]
  },
  {
   "cell_type": "code",
   "execution_count": 20,
   "id": "41ff9905-eb87-4279-a804-79eb4209d369",
   "metadata": {
    "tags": []
   },
   "outputs": [
    {
     "name": "stdout",
     "output_type": "stream",
     "text": [
      "All web pages have been saved as PDFs - count :  2\n"
     ]
    }
   ],
   "source": [
    "print(\"All web pages have been saved as PDFs - count : \", len(os.listdir(save_directory)))"
   ]
  },
  {
   "cell_type": "code",
   "execution_count": null,
   "id": "29ccfd4b-d16d-4dbd-9969-3da283a6636b",
   "metadata": {},
   "outputs": [],
   "source": []
  }
 ],
 "metadata": {
  "kernelspec": {
   "display_name": "Python 3 (ipykernel)",
   "language": "python",
   "name": "python3"
  },
  "language_info": {
   "codemirror_mode": {
    "name": "ipython",
    "version": 3
   },
   "file_extension": ".py",
   "mimetype": "text/x-python",
   "name": "python",
   "nbconvert_exporter": "python",
   "pygments_lexer": "ipython3",
   "version": "3.11.5"
  }
 },
 "nbformat": 4,
 "nbformat_minor": 5
}
