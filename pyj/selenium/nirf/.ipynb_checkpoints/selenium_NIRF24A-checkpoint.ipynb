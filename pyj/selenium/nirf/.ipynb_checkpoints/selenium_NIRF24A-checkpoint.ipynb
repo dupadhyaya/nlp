{
 "cells": [
  {
   "cell_type": "code",
   "execution_count": null,
   "id": "5b644579-bf7b-433a-adce-a3ba0bee43b2",
   "metadata": {},
   "outputs": [],
   "source": [
    "# Create Code to import data from NIRF without marks"
   ]
  },
  {
   "cell_type": "markdown",
   "id": "c0b9a51f-e93f-4c48-8da4-4ce83475bed2",
   "metadata": {},
   "source": [
    "## Using Selenium"
   ]
  },
  {
   "cell_type": "code",
   "execution_count": 1,
   "id": "b293f26b-dd3e-4cb4-bfc4-d66b1b349151",
   "metadata": {},
   "outputs": [],
   "source": [
    "from selenium import webdriver\n",
    "from selenium.webdriver.common.by import By\n",
    "import pandas as pd\n",
    "from selenium.webdriver.chrome.service import Service"
   ]
  },
  {
   "cell_type": "markdown",
   "id": "7653ffab-9672-41c7-8409-b158ec1d1cab",
   "metadata": {},
   "source": [
    "# Chrome Version\n",
    "- Version 129.0.6668.71 (Official Build) (arm64)\n",
    "- Latest ChromeDriver 114.0.5735.90\n",
    "- chrome://settings/help\n",
    "- https://developer.chrome.com/docs/chromedriver/downloads"
   ]
  },
  {
   "cell_type": "code",
   "execution_count": 2,
   "id": "a120bff4-9d72-43f3-bf36-778dabc82b78",
   "metadata": {},
   "outputs": [],
   "source": [
    "import time"
   ]
  },
  {
   "cell_type": "code",
   "execution_count": 3,
   "id": "38fa2109-029b-4373-b3d5-d1e4cd16fb61",
   "metadata": {},
   "outputs": [],
   "source": [
    "# Path to your ChromeDriver\n",
    "cp2 = '/opt/homebrew/bin/chromedriver'  # Replace with the actual path to your chromedriver"
   ]
  },
  {
   "cell_type": "markdown",
   "id": "d883b7d7-b03f-47e0-8ceb-9c65a9fb9f72",
   "metadata": {},
   "source": [
    "??webdriver.chrome"
   ]
  },
  {
   "cell_type": "code",
   "execution_count": 4,
   "id": "702e947d-f9cf-4947-9456-781822ecf560",
   "metadata": {},
   "outputs": [],
   "source": [
    "#!pip install webdriver-manager\n",
    "from webdriver_manager.chrome import ChromeDriverManager"
   ]
  },
  {
   "cell_type": "code",
   "execution_count": null,
   "id": "6e433cc3-b2ae-451b-b4fe-803269e97af3",
   "metadata": {},
   "outputs": [],
   "source": []
  },
  {
   "cell_type": "code",
   "execution_count": 152,
   "id": "4af9c644-e454-43d2-bd2e-91b6cd9a6330",
   "metadata": {},
   "outputs": [
    {
     "name": "stdout",
     "output_type": "stream",
     "text": [
      "n24U_b2 151-200 \n",
      " https://www.nirfindia.org/Rankings/2023/UniversityRanking200.html\n"
     ]
    }
   ],
   "source": [
    "# Open the NIRF rankings page\n",
    "n24ob1 = \"https://www.nirfindia.org/Rankings/2024/OverallRanking150.html\"\n",
    "n24ob2 = \"https://www.nirfindia.org/Rankings/2024/OverallRanking200.html\"\n",
    "n24ub1 = \"https://www.nirfindia.org/Rankings/2023/UniversityRanking150.html\"\n",
    "n24ub2 = \"https://www.nirfindia.org/Rankings/2023/UniversityRanking200.html\"\n",
    "\n",
    "url = n24ub2; nData = 'n24U_b2' ; cat1 = '151-200'\n",
    "print(nData, cat1, '\\n', url)"
   ]
  },
  {
   "cell_type": "code",
   "execution_count": 153,
   "id": "b80db78b-ad62-44c2-80cc-56f622b77d47",
   "metadata": {},
   "outputs": [
    {
     "name": "stdout",
     "output_type": "stream",
     "text": [
      "n24U_b2 https://www.nirfindia.org/Rankings/2023/UniversityRanking200.html\n"
     ]
    }
   ],
   "source": [
    "#University Rankings\n",
    "\n",
    "#url = n20u; nData = 'n20u'\n",
    "print(nData, url)"
   ]
  },
  {
   "cell_type": "code",
   "execution_count": 154,
   "id": "8eaed1ae-7aba-4df5-bb0b-12b7fbf679a5",
   "metadata": {},
   "outputs": [],
   "source": [
    "#driver.refresh()"
   ]
  },
  {
   "cell_type": "code",
   "execution_count": 155,
   "id": "4e05d029-1463-4fc9-ab99-8f1ea1eb03c9",
   "metadata": {},
   "outputs": [],
   "source": [
    "cService = webdriver.ChromeService(executable_path='/opt/homebrew/bin/chromedriver')\n",
    "driver = webdriver.Chrome(service = cService)"
   ]
  },
  {
   "cell_type": "code",
   "execution_count": 156,
   "id": "d7e5a92a-5408-40e9-9978-a3d4bbf4ca84",
   "metadata": {},
   "outputs": [],
   "source": [
    "driver.get(url)\n",
    "#driver.maximize_window()\n",
    "time.sleep(5)  # Adjust time if needed, or you can use Selenium's explicit waits"
   ]
  },
  {
   "cell_type": "code",
   "execution_count": 157,
   "id": "db155720-9788-4075-9cfe-a3037a91292a",
   "metadata": {},
   "outputs": [
    {
     "name": "stdout",
     "output_type": "stream",
     "text": [
      "MoE, National Institute Ranking Framework (NIRF)\n"
     ]
    }
   ],
   "source": [
    "print(driver.title)"
   ]
  },
  {
   "cell_type": "code",
   "execution_count": 158,
   "id": "ff259aa4-3deb-4fa2-81e3-58a4ff932835",
   "metadata": {},
   "outputs": [],
   "source": [
    "# Locate the table on the page\n",
    "table = driver.find_element(By.TAG_NAME, 'table')"
   ]
  },
  {
   "cell_type": "code",
   "execution_count": 159,
   "id": "f654c007-657e-4f1d-ae0a-d23afec02c74",
   "metadata": {},
   "outputs": [
    {
     "data": {
      "text/plain": [
       "<selenium.webdriver.remote.webelement.WebElement (session=\"c9f42c0befce11bfadc8ee9fe624ba76\", element=\"f.0ABDE25FB5833D15520E80BF605685E0.d.D13DE35824F6B0776D1A74300DB9F2CB.e.9\")>"
      ]
     },
     "execution_count": 159,
     "metadata": {},
     "output_type": "execute_result"
    }
   ],
   "source": [
    "table"
   ]
  },
  {
   "cell_type": "code",
   "execution_count": 160,
   "id": "1cce43fb-c290-4e83-b963-92606be8f080",
   "metadata": {},
   "outputs": [],
   "source": [
    "# Extract table headers\n",
    "headers = []\n",
    "header_elements = table.find_elements(By.TAG_NAME, 'th')\n",
    "for header in header_elements:\n",
    "    headers.append(header.text.strip())"
   ]
  },
  {
   "cell_type": "code",
   "execution_count": 161,
   "id": "a018555d-74b8-4f64-82f6-8449e393577e",
   "metadata": {},
   "outputs": [
    {
     "name": "stdout",
     "output_type": "stream",
     "text": [
      "['Name', 'City', 'State']\n"
     ]
    }
   ],
   "source": [
    "print(headers[0:3])"
   ]
  },
  {
   "cell_type": "code",
   "execution_count": 162,
   "id": "68aeadf2-89a8-4d4e-b7b5-0365df355ea1",
   "metadata": {},
   "outputs": [
    {
     "name": "stdout",
     "output_type": "stream",
     "text": [
      "['Name', 'City', 'State'] 3\n"
     ]
    }
   ],
   "source": [
    "print(headers[0:3], len(headers))"
   ]
  },
  {
   "cell_type": "code",
   "execution_count": 163,
   "id": "082bbfe2-310e-4581-8c4c-7a3497ca92b5",
   "metadata": {},
   "outputs": [],
   "source": [
    "# Extract table rows\n",
    "rows = []\n",
    "row_elements = table.find_elements(By.TAG_NAME, 'tr')"
   ]
  },
  {
   "cell_type": "code",
   "execution_count": 164,
   "id": "1e994396-b5b7-4680-80c9-960dc9e0e311",
   "metadata": {},
   "outputs": [],
   "source": [
    "#print(row_elements[0:5])"
   ]
  },
  {
   "cell_type": "code",
   "execution_count": 165,
   "id": "296f5596-b079-4794-bf34-b5270257d3f2",
   "metadata": {},
   "outputs": [],
   "source": [
    "# Loop through rows to extract data\n",
    "for row in row_elements[1:]:  # Skipping the header row\n",
    "    cols = row.find_elements(By.TAG_NAME, 'td')\n",
    "    cols = [col.text.strip() for col in cols]\n",
    "    rows.append(cols)"
   ]
  },
  {
   "cell_type": "code",
   "execution_count": 166,
   "id": "864a60d3-44d3-4f3d-b4d4-c8d172e2bd40",
   "metadata": {},
   "outputs": [
    {
     "data": {
      "text/plain": [
       "[['Ahmedabad University', 'Ahmedabad', 'Gujarat'],\n",
       " ['Amity University Rajasthan,Jaipur', 'Jaipur', 'Rajasthan'],\n",
       " ['Anand Agricultural University', 'Anand', 'Gujarat']]"
      ]
     },
     "execution_count": 166,
     "metadata": {},
     "output_type": "execute_result"
    }
   ],
   "source": [
    "rows[0:3]\n",
    "#1 row into 3 rows  : 2 & 3rd row are blanks"
   ]
  },
  {
   "cell_type": "code",
   "execution_count": 167,
   "id": "fcf90181-2984-4a8e-bde4-8f6fc6cce773",
   "metadata": {},
   "outputs": [
    {
     "name": "stdout",
     "output_type": "stream",
     "text": [
      "51 3\n"
     ]
    }
   ],
   "source": [
    "print(len(rows), len(headers))"
   ]
  },
  {
   "cell_type": "code",
   "execution_count": 168,
   "id": "c2198aaf-c885-4777-9a64-d9e974e45614",
   "metadata": {},
   "outputs": [
    {
     "name": "stdout",
     "output_type": "stream",
     "text": [
      "['Name', 'City', 'State']\n"
     ]
    }
   ],
   "source": [
    "print(headers[0:3])"
   ]
  },
  {
   "cell_type": "code",
   "execution_count": 169,
   "id": "f1e4ee65-8411-4dd2-9552-9fbfc0f5ffc8",
   "metadata": {},
   "outputs": [
    {
     "name": "stdout",
     "output_type": "stream",
     "text": [
      "[['Ahmedabad University', 'Ahmedabad', 'Gujarat'], ['Amity University Rajasthan,Jaipur', 'Jaipur', 'Rajasthan'], ['Anand Agricultural University', 'Anand', 'Gujarat'], ['B. S. Abdur Rahman Crescent Institute of Science and Technology', 'Chennai', 'Tamil Nadu'], ['Central Agricultural University', 'Imphal West', 'Manipur']]\n"
     ]
    }
   ],
   "source": [
    "print(rows[0:5])"
   ]
  },
  {
   "cell_type": "code",
   "execution_count": 170,
   "id": "10807605-bdcb-4eb2-9c3f-9872755e7c29",
   "metadata": {},
   "outputs": [],
   "source": [
    "#print(rows[0:300:3])"
   ]
  },
  {
   "cell_type": "code",
   "execution_count": 171,
   "id": "3ad98ed0-6237-49b0-aa11-2095d260364e",
   "metadata": {},
   "outputs": [],
   "source": [
    "# Create a DataFrame from the extracted data\n",
    "df1 = pd.DataFrame(rows[0:len(rows)], columns=headers[0:3])"
   ]
  },
  {
   "cell_type": "code",
   "execution_count": 172,
   "id": "40f0a977-3460-469f-a31c-b99752cdceb8",
   "metadata": {},
   "outputs": [
    {
     "data": {
      "text/html": [
       "<div>\n",
       "<style scoped>\n",
       "    .dataframe tbody tr th:only-of-type {\n",
       "        vertical-align: middle;\n",
       "    }\n",
       "\n",
       "    .dataframe tbody tr th {\n",
       "        vertical-align: top;\n",
       "    }\n",
       "\n",
       "    .dataframe thead th {\n",
       "        text-align: right;\n",
       "    }\n",
       "</style>\n",
       "<table border=\"1\" class=\"dataframe\">\n",
       "  <thead>\n",
       "    <tr style=\"text-align: right;\">\n",
       "      <th></th>\n",
       "      <th>Name</th>\n",
       "      <th>City</th>\n",
       "      <th>State</th>\n",
       "    </tr>\n",
       "  </thead>\n",
       "  <tbody>\n",
       "    <tr>\n",
       "      <th>0</th>\n",
       "      <td>Ahmedabad University</td>\n",
       "      <td>Ahmedabad</td>\n",
       "      <td>Gujarat</td>\n",
       "    </tr>\n",
       "    <tr>\n",
       "      <th>1</th>\n",
       "      <td>Amity University Rajasthan,Jaipur</td>\n",
       "      <td>Jaipur</td>\n",
       "      <td>Rajasthan</td>\n",
       "    </tr>\n",
       "  </tbody>\n",
       "</table>\n",
       "</div>"
      ],
      "text/plain": [
       "                                Name       City      State\n",
       "0               Ahmedabad University  Ahmedabad    Gujarat\n",
       "1  Amity University Rajasthan,Jaipur     Jaipur  Rajasthan"
      ]
     },
     "execution_count": 172,
     "metadata": {},
     "output_type": "execute_result"
    }
   ],
   "source": [
    "df1.head(2)"
   ]
  },
  {
   "cell_type": "code",
   "execution_count": 173,
   "id": "f7268cc2-9c80-4b3a-b0ba-36e1a27c65b4",
   "metadata": {},
   "outputs": [
    {
     "data": {
      "text/plain": [
       "['Name', 'City', 'State']"
      ]
     },
     "execution_count": 173,
     "metadata": {},
     "output_type": "execute_result"
    }
   ],
   "source": [
    "list(df1.columns)"
   ]
  },
  {
   "cell_type": "code",
   "execution_count": 174,
   "id": "f3a36a24-fe7f-4bc9-b2fe-46e5a3ae5219",
   "metadata": {},
   "outputs": [],
   "source": [
    "df1.columns = ['name','city','state']"
   ]
  },
  {
   "cell_type": "code",
   "execution_count": 175,
   "id": "0199ba2f-d7d8-44eb-ab2c-dd55a2dfe21e",
   "metadata": {},
   "outputs": [
    {
     "data": {
      "text/html": [
       "<div>\n",
       "<style scoped>\n",
       "    .dataframe tbody tr th:only-of-type {\n",
       "        vertical-align: middle;\n",
       "    }\n",
       "\n",
       "    .dataframe tbody tr th {\n",
       "        vertical-align: top;\n",
       "    }\n",
       "\n",
       "    .dataframe thead th {\n",
       "        text-align: right;\n",
       "    }\n",
       "</style>\n",
       "<table border=\"1\" class=\"dataframe\">\n",
       "  <thead>\n",
       "    <tr style=\"text-align: right;\">\n",
       "      <th></th>\n",
       "      <th>name</th>\n",
       "      <th>city</th>\n",
       "      <th>state</th>\n",
       "    </tr>\n",
       "  </thead>\n",
       "  <tbody>\n",
       "    <tr>\n",
       "      <th>0</th>\n",
       "      <td>Ahmedabad University</td>\n",
       "      <td>Ahmedabad</td>\n",
       "      <td>Gujarat</td>\n",
       "    </tr>\n",
       "    <tr>\n",
       "      <th>1</th>\n",
       "      <td>Amity University Rajasthan,Jaipur</td>\n",
       "      <td>Jaipur</td>\n",
       "      <td>Rajasthan</td>\n",
       "    </tr>\n",
       "  </tbody>\n",
       "</table>\n",
       "</div>"
      ],
      "text/plain": [
       "                                name       city      state\n",
       "0               Ahmedabad University  Ahmedabad    Gujarat\n",
       "1  Amity University Rajasthan,Jaipur     Jaipur  Rajasthan"
      ]
     },
     "execution_count": 175,
     "metadata": {},
     "output_type": "execute_result"
    }
   ],
   "source": [
    "df1.head(2)"
   ]
  },
  {
   "cell_type": "code",
   "execution_count": 176,
   "id": "9316fea7-0e48-4e77-9c4e-92335f14e238",
   "metadata": {},
   "outputs": [
    {
     "data": {
      "text/html": [
       "<div>\n",
       "<style scoped>\n",
       "    .dataframe tbody tr th:only-of-type {\n",
       "        vertical-align: middle;\n",
       "    }\n",
       "\n",
       "    .dataframe tbody tr th {\n",
       "        vertical-align: top;\n",
       "    }\n",
       "\n",
       "    .dataframe thead th {\n",
       "        text-align: right;\n",
       "    }\n",
       "</style>\n",
       "<table border=\"1\" class=\"dataframe\">\n",
       "  <thead>\n",
       "    <tr style=\"text-align: right;\">\n",
       "      <th></th>\n",
       "      <th>name</th>\n",
       "      <th>city</th>\n",
       "      <th>state</th>\n",
       "    </tr>\n",
       "  </thead>\n",
       "  <tbody>\n",
       "    <tr>\n",
       "      <th>0</th>\n",
       "      <td>Ahmedabad University</td>\n",
       "      <td>Ahmedabad</td>\n",
       "      <td>Gujarat</td>\n",
       "    </tr>\n",
       "    <tr>\n",
       "      <th>1</th>\n",
       "      <td>Amity University Rajasthan,Jaipur</td>\n",
       "      <td>Jaipur</td>\n",
       "      <td>Rajasthan</td>\n",
       "    </tr>\n",
       "  </tbody>\n",
       "</table>\n",
       "</div>"
      ],
      "text/plain": [
       "                                name       city      state\n",
       "0               Ahmedabad University  Ahmedabad    Gujarat\n",
       "1  Amity University Rajasthan,Jaipur     Jaipur  Rajasthan"
      ]
     },
     "execution_count": 176,
     "metadata": {},
     "output_type": "execute_result"
    }
   ],
   "source": [
    "df1B = df1.copy()\n",
    "df1B.head(2)"
   ]
  },
  {
   "cell_type": "code",
   "execution_count": 177,
   "id": "3e99615e-bd37-4c6a-9f87-bcd684f7207e",
   "metadata": {},
   "outputs": [
    {
     "data": {
      "text/plain": [
       "(51, 3)"
      ]
     },
     "execution_count": 177,
     "metadata": {},
     "output_type": "execute_result"
    }
   ],
   "source": [
    "df1B.shape"
   ]
  },
  {
   "cell_type": "code",
   "execution_count": 178,
   "id": "dc0cc952-6fe4-44f6-a61a-0506fad8f9a8",
   "metadata": {},
   "outputs": [
    {
     "data": {
      "text/html": [
       "<div>\n",
       "<style scoped>\n",
       "    .dataframe tbody tr th:only-of-type {\n",
       "        vertical-align: middle;\n",
       "    }\n",
       "\n",
       "    .dataframe tbody tr th {\n",
       "        vertical-align: top;\n",
       "    }\n",
       "\n",
       "    .dataframe thead th {\n",
       "        text-align: right;\n",
       "    }\n",
       "</style>\n",
       "<table border=\"1\" class=\"dataframe\">\n",
       "  <thead>\n",
       "    <tr style=\"text-align: right;\">\n",
       "      <th></th>\n",
       "      <th>name</th>\n",
       "      <th>city</th>\n",
       "      <th>state</th>\n",
       "      <th>cat</th>\n",
       "    </tr>\n",
       "  </thead>\n",
       "  <tbody>\n",
       "    <tr>\n",
       "      <th>0</th>\n",
       "      <td>Ahmedabad University</td>\n",
       "      <td>Ahmedabad</td>\n",
       "      <td>Gujarat</td>\n",
       "      <td>151-200</td>\n",
       "    </tr>\n",
       "    <tr>\n",
       "      <th>1</th>\n",
       "      <td>Amity University Rajasthan,Jaipur</td>\n",
       "      <td>Jaipur</td>\n",
       "      <td>Rajasthan</td>\n",
       "      <td>151-200</td>\n",
       "    </tr>\n",
       "    <tr>\n",
       "      <th>2</th>\n",
       "      <td>Anand Agricultural University</td>\n",
       "      <td>Anand</td>\n",
       "      <td>Gujarat</td>\n",
       "      <td>151-200</td>\n",
       "    </tr>\n",
       "    <tr>\n",
       "      <th>3</th>\n",
       "      <td>B. S. Abdur Rahman Crescent Institute of Scien...</td>\n",
       "      <td>Chennai</td>\n",
       "      <td>Tamil Nadu</td>\n",
       "      <td>151-200</td>\n",
       "    </tr>\n",
       "    <tr>\n",
       "      <th>4</th>\n",
       "      <td>Central Agricultural University</td>\n",
       "      <td>Imphal West</td>\n",
       "      <td>Manipur</td>\n",
       "      <td>151-200</td>\n",
       "    </tr>\n",
       "  </tbody>\n",
       "</table>\n",
       "</div>"
      ],
      "text/plain": [
       "                                                name         city       state  \\\n",
       "0                               Ahmedabad University    Ahmedabad     Gujarat   \n",
       "1                  Amity University Rajasthan,Jaipur       Jaipur   Rajasthan   \n",
       "2                      Anand Agricultural University        Anand     Gujarat   \n",
       "3  B. S. Abdur Rahman Crescent Institute of Scien...      Chennai  Tamil Nadu   \n",
       "4                    Central Agricultural University  Imphal West     Manipur   \n",
       "\n",
       "       cat  \n",
       "0  151-200  \n",
       "1  151-200  \n",
       "2  151-200  \n",
       "3  151-200  \n",
       "4  151-200  "
      ]
     },
     "execution_count": 178,
     "metadata": {},
     "output_type": "execute_result"
    }
   ],
   "source": [
    "df1B['cat'] = cat1\n",
    "df1B.head()"
   ]
  },
  {
   "cell_type": "code",
   "execution_count": 179,
   "id": "4055adf5-84de-4a86-8b7d-142242f83f48",
   "metadata": {},
   "outputs": [],
   "source": [
    "dfNO = pd.concat([df1B.reset_index(drop=True)], axis=1)\n",
    "dfNO['nYear'] = nData"
   ]
  },
  {
   "cell_type": "code",
   "execution_count": 180,
   "id": "17e331e3-f1da-4582-a1c7-855f40293c55",
   "metadata": {},
   "outputs": [
    {
     "data": {
      "text/html": [
       "<div>\n",
       "<style scoped>\n",
       "    .dataframe tbody tr th:only-of-type {\n",
       "        vertical-align: middle;\n",
       "    }\n",
       "\n",
       "    .dataframe tbody tr th {\n",
       "        vertical-align: top;\n",
       "    }\n",
       "\n",
       "    .dataframe thead th {\n",
       "        text-align: right;\n",
       "    }\n",
       "</style>\n",
       "<table border=\"1\" class=\"dataframe\">\n",
       "  <thead>\n",
       "    <tr style=\"text-align: right;\">\n",
       "      <th></th>\n",
       "      <th>name</th>\n",
       "      <th>city</th>\n",
       "      <th>state</th>\n",
       "      <th>cat</th>\n",
       "      <th>nYear</th>\n",
       "    </tr>\n",
       "  </thead>\n",
       "  <tbody>\n",
       "    <tr>\n",
       "      <th>0</th>\n",
       "      <td>Ahmedabad University</td>\n",
       "      <td>Ahmedabad</td>\n",
       "      <td>Gujarat</td>\n",
       "      <td>151-200</td>\n",
       "      <td>n24U_b2</td>\n",
       "    </tr>\n",
       "    <tr>\n",
       "      <th>1</th>\n",
       "      <td>Amity University Rajasthan,Jaipur</td>\n",
       "      <td>Jaipur</td>\n",
       "      <td>Rajasthan</td>\n",
       "      <td>151-200</td>\n",
       "      <td>n24U_b2</td>\n",
       "    </tr>\n",
       "  </tbody>\n",
       "</table>\n",
       "</div>"
      ],
      "text/plain": [
       "                                name       city      state      cat    nYear\n",
       "0               Ahmedabad University  Ahmedabad    Gujarat  151-200  n24U_b2\n",
       "1  Amity University Rajasthan,Jaipur     Jaipur  Rajasthan  151-200  n24U_b2"
      ]
     },
     "execution_count": 180,
     "metadata": {},
     "output_type": "execute_result"
    }
   ],
   "source": [
    "dfNO.head(2)"
   ]
  },
  {
   "cell_type": "code",
   "execution_count": 181,
   "id": "7ae77378-2d94-49da-9d03-7ebb8c6130e7",
   "metadata": {},
   "outputs": [],
   "source": [
    "# Close the browser\n",
    "driver.quit()"
   ]
  },
  {
   "cell_type": "code",
   "execution_count": 182,
   "id": "7ec1ed70-f85a-433d-8d2e-e8988d82c2d3",
   "metadata": {},
   "outputs": [],
   "source": [
    "# Display the extracted data\n",
    "#print(dfNO)"
   ]
  },
  {
   "cell_type": "code",
   "execution_count": 183,
   "id": "1313dede-2a75-49b1-ac51-ba5b1da6ec16",
   "metadata": {},
   "outputs": [
    {
     "name": "stdout",
     "output_type": "stream",
     "text": [
      "n24U_b2 /Users/du/dup/auData/ranking/nirf/n24U_b2.csv\n"
     ]
    }
   ],
   "source": [
    "# Save the data to a CSV file\n",
    "fileLoc  = '/Users/du/dup/auData/ranking/nirf/'\n",
    "fileName = fileLoc +  nData + '.csv'\n",
    "print(nData, fileName)"
   ]
  },
  {
   "cell_type": "code",
   "execution_count": 184,
   "id": "2104aa89-0295-44d2-897d-0daa9f8bb6f9",
   "metadata": {},
   "outputs": [],
   "source": [
    "dfNO.to_csv(fileName, index=False)"
   ]
  },
  {
   "cell_type": "code",
   "execution_count": 185,
   "id": "2477e8fb-048a-4d08-a4d7-cc27671e47d0",
   "metadata": {},
   "outputs": [],
   "source": [
    "import os"
   ]
  },
  {
   "cell_type": "code",
   "execution_count": 186,
   "id": "807b5db6-c5b5-4f8d-9289-188c59cb1655",
   "metadata": {},
   "outputs": [
    {
     "name": "stdout",
     "output_type": "stream",
     "text": [
      "Innovation nirf22R.csv nirf22P.csv N23scores.pdf n24u.csv nirf2122P.csv .DS_Store IR2024_Report.pdf n21o.csv n22u.csv Law Management pdf NIRF 2023 Data Summary.pdf n23u.csv n20o.csv n24O_b1.csv n20u.csv n23o.csv nirf24o.csv Architecture NIRFall.csv n24O_b2.csv nirfAU.csv n24U_b2.csv n22o.csv n21u.csv n24U_b1.csv nirf21A.csv N23Scores.csv n2oo.csv n24o.csv Overall Engineering nirfScores.csv\n"
     ]
    }
   ],
   "source": [
    "print(' '.join(map(str, os.listdir(fileLoc))))"
   ]
  },
  {
   "cell_type": "markdown",
   "id": "0113c0de-6b62-4d5c-bda9-571d96062ced",
   "metadata": {},
   "source": [
    "## End of Coding"
   ]
  },
  {
   "cell_type": "code",
   "execution_count": 187,
   "id": "ddae3ecb-5268-4732-9801-c1e1ebd73750",
   "metadata": {},
   "outputs": [
    {
     "data": {
      "text/html": [
       "<div>\n",
       "<style scoped>\n",
       "    .dataframe tbody tr th:only-of-type {\n",
       "        vertical-align: middle;\n",
       "    }\n",
       "\n",
       "    .dataframe tbody tr th {\n",
       "        vertical-align: top;\n",
       "    }\n",
       "\n",
       "    .dataframe thead th {\n",
       "        text-align: right;\n",
       "    }\n",
       "</style>\n",
       "<table border=\"1\" class=\"dataframe\">\n",
       "  <thead>\n",
       "    <tr style=\"text-align: right;\">\n",
       "      <th></th>\n",
       "      <th>name</th>\n",
       "      <th>city</th>\n",
       "      <th>state</th>\n",
       "      <th>cat</th>\n",
       "      <th>nYear</th>\n",
       "    </tr>\n",
       "  </thead>\n",
       "  <tbody>\n",
       "    <tr>\n",
       "      <th>0</th>\n",
       "      <td>Ahmedabad University</td>\n",
       "      <td>Ahmedabad</td>\n",
       "      <td>Gujarat</td>\n",
       "      <td>151-200</td>\n",
       "      <td>n24U_b2</td>\n",
       "    </tr>\n",
       "    <tr>\n",
       "      <th>1</th>\n",
       "      <td>Amity University Rajasthan,Jaipur</td>\n",
       "      <td>Jaipur</td>\n",
       "      <td>Rajasthan</td>\n",
       "      <td>151-200</td>\n",
       "      <td>n24U_b2</td>\n",
       "    </tr>\n",
       "  </tbody>\n",
       "</table>\n",
       "</div>"
      ],
      "text/plain": [
       "                                name       city      state      cat    nYear\n",
       "0               Ahmedabad University  Ahmedabad    Gujarat  151-200  n24U_b2\n",
       "1  Amity University Rajasthan,Jaipur     Jaipur  Rajasthan  151-200  n24U_b2"
      ]
     },
     "execution_count": 187,
     "metadata": {},
     "output_type": "execute_result"
    }
   ],
   "source": [
    "pd.read_csv(fileName).head(2)"
   ]
  },
  {
   "cell_type": "code",
   "execution_count": null,
   "id": "0050900b-a746-4688-95a9-26df0ff3d127",
   "metadata": {},
   "outputs": [],
   "source": []
  },
  {
   "cell_type": "code",
   "execution_count": null,
   "id": "3e2ee730-a63b-4dcf-8f5e-54e1293aa64e",
   "metadata": {},
   "outputs": [],
   "source": []
  }
 ],
 "metadata": {
  "kernelspec": {
   "display_name": "Python 3 (ipykernel)",
   "language": "python",
   "name": "python3"
  },
  "language_info": {
   "codemirror_mode": {
    "name": "ipython",
    "version": 3
   },
   "file_extension": ".py",
   "mimetype": "text/x-python",
   "name": "python",
   "nbconvert_exporter": "python",
   "pygments_lexer": "ipython3",
   "version": "3.11.5"
  }
 },
 "nbformat": 4,
 "nbformat_minor": 5
}
