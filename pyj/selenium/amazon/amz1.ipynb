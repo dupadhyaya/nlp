{
 "cells": [
  {
   "cell_type": "code",
   "execution_count": null,
   "id": "c84bfb5e-dbcd-4216-9cc7-2a431e07740c",
   "metadata": {},
   "outputs": [],
   "source": [
    "# amazon prices"
   ]
  },
  {
   "cell_type": "code",
   "execution_count": 53,
   "id": "cddb2c27-2ac6-48bd-925b-f54383276e79",
   "metadata": {},
   "outputs": [],
   "source": [
    "#selenium\n",
    "from selenium import webdriver\n",
    "from selenium.webdriver.common.by import By\n",
    "from selenium.webdriver.chrome.service import Service\n",
    "from selenium.webdriver.chrome.options import Options\n",
    "from webdriver_manager.chrome import ChromeDriverManager\n",
    "from selenium.webdriver.support.ui import WebDriverWait\n",
    "from selenium.webdriver.support import expected_conditions as EC\n",
    "#others\n",
    "import pandas as pd\n",
    "import time"
   ]
  },
  {
   "cell_type": "code",
   "execution_count": 35,
   "id": "a1c471ec-2d31-40a1-944f-0f07feb335e0",
   "metadata": {},
   "outputs": [],
   "source": [
    "#options\n",
    "pd.set_option('display.max_columns', None)\n",
    "pd.set_option('display.max_colwidth', 300)"
   ]
  },
  {
   "cell_type": "code",
   "execution_count": 5,
   "id": "f89d89f8-9224-4cf5-8429-b439ea2cfa34",
   "metadata": {},
   "outputs": [],
   "source": [
    "cdp = '/opt/homebrew/bin/chromedriver'"
   ]
  },
  {
   "cell_type": "code",
   "execution_count": 8,
   "id": "966a15ba-2bff-4b19-9f34-6a76b2d46ea2",
   "metadata": {},
   "outputs": [],
   "source": [
    "cService = webdriver.ChromeService(executable_path=cdp)\n",
    "driver = webdriver.Chrome(service = cService)"
   ]
  },
  {
   "cell_type": "code",
   "execution_count": 59,
   "id": "d59a201a-f801-463c-ae2f-d3ce13b5fa2a",
   "metadata": {},
   "outputs": [],
   "source": [
    "url1 ='https://www.amazon.in/'"
   ]
  },
  {
   "cell_type": "code",
   "execution_count": 60,
   "id": "8237b6b4-1eb9-4be7-ad1a-2b4de1bd6418",
   "metadata": {},
   "outputs": [],
   "source": [
    "driver.get(url1)\n",
    "#driver.maximize_window()\n",
    "time.sleep(5)  # Adjust time if needed, or you can use Selenium's explicit waits"
   ]
  },
  {
   "cell_type": "code",
   "execution_count": 86,
   "id": "a47e64a2-b673-422a-aea1-0dc8439cf481",
   "metadata": {},
   "outputs": [],
   "source": [
    "url2 = 'https://www.amazon.in/Neomate-Portable-Double-Sided-Whiteboard-Students/dp/B0DJPC6V7X'\n",
    "driver.get(url2)"
   ]
  },
  {
   "cell_type": "code",
   "execution_count": 87,
   "id": "aeab71a1-9977-4d3e-8f84-1c3ef40f7ef7",
   "metadata": {},
   "outputs": [],
   "source": [
    "# Extract product details\n",
    "def get_text_or_none(by, value):\n",
    "    try:\n",
    "        return driver.find_element(by, value).text\n",
    "    except:\n",
    "        return None"
   ]
  },
  {
   "cell_type": "code",
   "execution_count": 88,
   "id": "858485ef-560f-469e-acdb-3224a95977ee",
   "metadata": {},
   "outputs": [],
   "source": [
    "item_name = get_text_or_none(By.ID, 'productTitle')\n",
    "rating = get_text_or_none(By.XPATH, '//span[@id=\"acrPopover\"]//span[@class=\"a-icon-alt\"]')\n",
    "\n",
    "try:\n",
    "    mrp_element = wait.until(\n",
    "        EC.presence_of_element_located((By.CSS_SELECTOR, 'span.a-size-small.aok-offscreen'))\n",
    "    )\n",
    "    mrp = mrp_element.text.strip()\n",
    "except:\n",
    "    mrp = None\n",
    "sale_price = get_text_or_none(By.XPATH, '//span[@class=\"a-price-whole\"]')\n",
    "\n",
    "discount = get_text_or_none(By.XPATH, '//span[contains(@class,\"savingsPercentage\")]')"
   ]
  },
  {
   "cell_type": "code",
   "execution_count": 89,
   "id": "609794bf-635c-41c3-9434-216df504b90e",
   "metadata": {},
   "outputs": [
    {
     "data": {
      "text/plain": [
       "''"
      ]
     },
     "execution_count": 89,
     "metadata": {},
     "output_type": "execute_result"
    }
   ],
   "source": [
    "mrp"
   ]
  },
  {
   "cell_type": "code",
   "execution_count": 84,
   "id": "dc2f4a17-7edd-4b5b-a8b7-9a2a9d47974d",
   "metadata": {},
   "outputs": [],
   "source": [
    "# Create a DataFrame\n",
    "data = [{\n",
    "    'URL': url2,\n",
    "    'Item Name': item_name.strip() if item_name else None,\n",
    "    'Average Rating': rating,\n",
    "    'MRP': mrp,\n",
    "    'Discount': discount,\n",
    "    'Sale Price': sale_price\n",
    "}]"
   ]
  },
  {
   "cell_type": "code",
   "execution_count": 85,
   "id": "331f9780-a4fd-4896-b963-813844ddbe5c",
   "metadata": {},
   "outputs": [
    {
     "name": "stdout",
     "output_type": "stream",
     "text": [
      "                                                                                     URL  \\\n",
      "0  https://www.amazon.in/Neomate-Portable-Double-Sided-Whiteboard-Students/dp/B0DJPC6V7X   \n",
      "\n",
      "                                                                                                                                                                Item Name  \\\n",
      "0  Neomate Melamine Dry Erase Lap Boards | 9x12 Inch, Pack of 2 | Includes 2 Boards, 2 Markers, 1 Eraser | Portable Double-Sided Whiteboard for Kids, Students & Teachers   \n",
      "\n",
      "  Average Rating MRP Discount Sale Price  \n",
      "0                        -54%        299  \n"
     ]
    }
   ],
   "source": [
    "df2 = pd.DataFrame(data)\n",
    "print(df2)"
   ]
  },
  {
   "cell_type": "code",
   "execution_count": 67,
   "id": "55090491-5dcb-4ce4-b1c3-31dff758ebec",
   "metadata": {},
   "outputs": [
    {
     "data": {
      "text/plain": [
       "Index(['URL', 'Item Name', 'Average Rating', 'MRP', 'Discount', 'Sale Price'], dtype='object')"
      ]
     },
     "execution_count": 67,
     "metadata": {},
     "output_type": "execute_result"
    }
   ],
   "source": [
    "df.columns"
   ]
  },
  {
   "cell_type": "code",
   "execution_count": 69,
   "id": "933314a5-e661-495b-803c-8e7ab9e41cbf",
   "metadata": {},
   "outputs": [
    {
     "data": {
      "text/html": [
       "<div>\n",
       "<style scoped>\n",
       "    .dataframe tbody tr th:only-of-type {\n",
       "        vertical-align: middle;\n",
       "    }\n",
       "\n",
       "    .dataframe tbody tr th {\n",
       "        vertical-align: top;\n",
       "    }\n",
       "\n",
       "    .dataframe thead th {\n",
       "        text-align: right;\n",
       "    }\n",
       "</style>\n",
       "<table border=\"1\" class=\"dataframe\">\n",
       "  <thead>\n",
       "    <tr style=\"text-align: right;\">\n",
       "      <th></th>\n",
       "      <th>Item Name</th>\n",
       "      <th>MRP</th>\n",
       "      <th>Discount</th>\n",
       "      <th>Sale Price</th>\n",
       "    </tr>\n",
       "  </thead>\n",
       "  <tbody>\n",
       "    <tr>\n",
       "      <th>0</th>\n",
       "      <td>Neomate Melamine Dry Erase Lap Boards | 9x12 Inch, Pack of 2 | Includes 2 Boards, 2 Markers, 1 Eraser | Portable Double-Sided Whiteboard for Kids, Students &amp; Teachers</td>\n",
       "      <td></td>\n",
       "      <td>-54%</td>\n",
       "      <td>299</td>\n",
       "    </tr>\n",
       "  </tbody>\n",
       "</table>\n",
       "</div>"
      ],
      "text/plain": [
       "                                                                                                                                                                Item Name  \\\n",
       "0  Neomate Melamine Dry Erase Lap Boards | 9x12 Inch, Pack of 2 | Includes 2 Boards, 2 Markers, 1 Eraser | Portable Double-Sided Whiteboard for Kids, Students & Teachers   \n",
       "\n",
       "  MRP Discount Sale Price  \n",
       "0         -54%        299  "
      ]
     },
     "execution_count": 69,
     "metadata": {},
     "output_type": "execute_result"
    }
   ],
   "source": [
    "df[['Item Name', 'MRP','Discount', 'Sale Price']]"
   ]
  },
  {
   "cell_type": "code",
   "execution_count": 76,
   "id": "fdf0840c-7b86-41e1-93e9-d7e27e90ae65",
   "metadata": {},
   "outputs": [],
   "source": [
    "url3 ='https://www.tts-international.com/mini-rigid-a4-whiteboard-packs/1019627.html'\n",
    "driver.get(url3)"
   ]
  },
  {
   "cell_type": "code",
   "execution_count": 77,
   "id": "2427a5fa-447c-4d28-8440-47917e36e1ad",
   "metadata": {},
   "outputs": [],
   "source": [
    "# Wait for product title\n",
    "wait = WebDriverWait(driver, 10)\n",
    "item_name = wait.until(EC.presence_of_element_located((By.CSS_SELECTOR, 'h1.product-name'))).text\n",
    "\n",
    "low_price = wait.until(EC.presence_of_element_located( (By.CSS_SELECTOR, 'span.paragraph--price-point[itemprop=\"lowPrice\"]'))\n",
    ").text"
   ]
  },
  {
   "cell_type": "code",
   "execution_count": 72,
   "id": "c6caaecf-e7ef-4bfb-a127-09692c7b654a",
   "metadata": {},
   "outputs": [],
   "source": []
  },
  {
   "cell_type": "code",
   "execution_count": 78,
   "id": "7e48834d-dec7-4309-81ae-6abf64ce2ede",
   "metadata": {},
   "outputs": [],
   "source": [
    "# Store in DataFrame\n",
    "df2 = pd.DataFrame([{\n",
    "    'URL': url3,\n",
    "    'Item Name': item_name,\n",
    "    'Price': low_price\n",
    "}])"
   ]
  },
  {
   "cell_type": "code",
   "execution_count": 79,
   "id": "2834b1dd-b0c5-4230-8657-7cc80ea31f38",
   "metadata": {},
   "outputs": [
    {
     "name": "stdout",
     "output_type": "stream",
     "text": [
      "                                                                             URL  \\\n",
      "0  https://www.tts-international.com/mini-rigid-a4-whiteboard-packs/1019627.html   \n",
      "\n",
      "                        Item Name  Price  \n",
      "0  Mini Rigid A4 Whiteboard Packs  25.69  \n"
     ]
    }
   ],
   "source": [
    "print(df2)"
   ]
  },
  {
   "cell_type": "code",
   "execution_count": 75,
   "id": "4756b598-7a17-4d06-8739-0540bb3939c9",
   "metadata": {},
   "outputs": [
    {
     "data": {
      "text/plain": [
       "'25.69'"
      ]
     },
     "execution_count": 75,
     "metadata": {},
     "output_type": "execute_result"
    }
   ],
   "source": [
    "low_price = wait.until(\n",
    "    EC.presence_of_element_located((By.CSS_SELECTOR, 'span.paragraph--price-point[itemprop=\"lowPrice\"]'))\n",
    ").text\n",
    "low_price"
   ]
  },
  {
   "cell_type": "code",
   "execution_count": 90,
   "id": "ea66659f-c89c-4735-b6a7-d3f11f1a84f2",
   "metadata": {},
   "outputs": [],
   "source": [
    "# Close browser\n",
    "#driver.quit()"
   ]
  },
  {
   "cell_type": "code",
   "execution_count": null,
   "id": "401154ab-9526-466c-be72-b78897a53be2",
   "metadata": {},
   "outputs": [],
   "source": [
    "#list of amazone URL"
   ]
  }
 ],
 "metadata": {
  "kernelspec": {
   "display_name": "Python 3 (ipykernel)",
   "language": "python",
   "name": "python3"
  },
  "language_info": {
   "codemirror_mode": {
    "name": "ipython",
    "version": 3
   },
   "file_extension": ".py",
   "mimetype": "text/x-python",
   "name": "python",
   "nbconvert_exporter": "python",
   "pygments_lexer": "ipython3",
   "version": "3.12.7"
  }
 },
 "nbformat": 4,
 "nbformat_minor": 5
}
