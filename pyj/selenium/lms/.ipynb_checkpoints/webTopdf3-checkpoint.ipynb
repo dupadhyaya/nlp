{
 "cells": [
  {
   "cell_type": "markdown",
   "id": "dcb4bf21-9e6f-4e2f-acdd-9ff72b6db07b",
   "metadata": {},
   "source": [
    "# saving webpages to pdf\n",
    "-  "
   ]
  },
  {
   "cell_type": "code",
   "execution_count": 90,
   "id": "317dfccc-5daa-481c-9409-f4b9a5c8a285",
   "metadata": {
    "tags": []
   },
   "outputs": [],
   "source": [
    "#!pip install pyautogui\n",
    "#!pip install ace-tools\n",
    "#!pip install ace_tools_open"
   ]
  },
  {
   "cell_type": "code",
   "execution_count": 91,
   "id": "139e648f-5445-4f60-a56c-bfc6aa26908c",
   "metadata": {
    "tags": []
   },
   "outputs": [],
   "source": [
    "from selenium import webdriver\n",
    "from selenium.webdriver.common.by import By\n",
    "from selenium.webdriver.support.ui import WebDriverWait\n",
    "from selenium.webdriver.support import expected_conditions as EC\n",
    "from selenium.webdriver.chrome.service import Service\n",
    "#-----\n",
    "import pyautogui\n",
    "import pandas as pd\n",
    "import json\n",
    "import os\n",
    "import time\n",
    "import ace_tools_open as tools;"
   ]
  },
  {
   "cell_type": "code",
   "execution_count": null,
   "id": "49f8b4a8-3b6f-4ea1-aa46-232eea531df4",
   "metadata": {},
   "outputs": [],
   "source": [
    "cp2 = '/opt/homebrew/bin/chromedriver'  # Replace with the actual path to your chromedriver\n",
    "cService = webdriver.ChromeService(executable_path=cp2)"
   ]
  },
  {
   "cell_type": "code",
   "execution_count": 78,
   "id": "12742dfe-c1fc-4996-9ae8-22e9730ed356",
   "metadata": {
    "tags": []
   },
   "outputs": [
    {
     "data": {
      "text/plain": [
       "['.DS_Store',\n",
       " 'Course_ How to use Moodle LMS.pdf',\n",
       " 'Welcome to Python.org.pdf',\n",
       " 'Example Domain.pdf',\n",
       " 'LMS6_Even_ Log in to the site.pdf']"
      ]
     },
     "execution_count": 78,
     "metadata": {},
     "output_type": "execute_result"
    }
   ],
   "source": [
    "#url =\"https://alms6.amizone.net/moodle_24even/course/view.php?id=8819\"\n",
    "url = 'https://alms6.amizone.net/moodle_24even/course/view.php?id=18152'\n",
    "os.listdir('/Users/du/dup/audata/lms/webpage_pdfs')"
   ]
  },
  {
   "cell_type": "code",
   "execution_count": 79,
   "id": "2b4505fa-5265-45de-b821-6be3afc4cd37",
   "metadata": {
    "tags": []
   },
   "outputs": [
    {
     "data": {
      "text/plain": [
       "'18152.pdf'"
      ]
     },
     "execution_count": 79,
     "metadata": {},
     "output_type": "execute_result"
    }
   ],
   "source": [
    "#filename = url.split(\"//\")[-1].replace(\"/\", \"_\") + \".pdf\"\n",
    "filename = url.split(\"id=\")[-1] + \".pdf\"\n",
    "filename"
   ]
  },
  {
   "cell_type": "code",
   "execution_count": 80,
   "id": "12fb6967-eec4-43b4-864f-dc407a5f6a8f",
   "metadata": {},
   "outputs": [],
   "source": [
    "# Set up ChromeDriver\n",
    "#driver = webdriver.Chrome(service = cService, options=chrome_options)"
   ]
  },
  {
   "cell_type": "code",
   "execution_count": null,
   "id": "97e22d1e-5c17-4099-b6c3-ac1e9691ec80",
   "metadata": {
    "tags": []
   },
   "outputs": [],
   "source": [
    "appState = {\n",
    "    \"recentDestinations\": [\n",
    "        {\n",
    "            \"id\": \"Save as PDF\",\n",
    "            \"origin\": \"local\",\n",
    "            \"account\": \"\"\n",
    "        }\n",
    "    ],\n",
    "    \"selectedDestinationId\": \"Save as PDF\",\n",
    "    \"version\": 2\n",
    "}"
   ]
  },
  {
   "cell_type": "code",
   "execution_count": null,
   "id": "1edb0e40-fcc8-416b-920c-e4dae3a0f9c3",
   "metadata": {
    "tags": []
   },
   "outputs": [],
   "source": [
    "save_directory = \"/Users/du/dup/auData/lms/webpage_pdfs\""
   ]
  },
  {
   "cell_type": "code",
   "execution_count": null,
   "id": "6a03b3d0-0e61-45e4-9a21-2dec90008f45",
   "metadata": {
    "tags": []
   },
   "outputs": [],
   "source": [
    "profile = {'printing.print_preview_sticky_settings.appState': json.dumps(appState), 'savefile.default_directory': save_directory}"
   ]
  },
  {
   "cell_type": "code",
   "execution_count": null,
   "id": "fb70b277-1f89-4351-8b7d-214327c6abda",
   "metadata": {
    "tags": []
   },
   "outputs": [],
   "source": [
    "chrome_options = webdriver.ChromeOptions()\n",
    "chrome_options.add_experimental_option('prefs', profile)\n",
    "chrome_options.add_argument('--kiosk-printing')"
   ]
  },
  {
   "cell_type": "code",
   "execution_count": null,
   "id": "980e8eee-2eba-48bc-a0c3-9d52d20c075f",
   "metadata": {
    "tags": []
   },
   "outputs": [],
   "source": [
    "driver = webdriver.Chrome(options=chrome_options)\n",
    "login_url = \"https://alms6.amizone.net/moodle_24even/login/index.php\"\n",
    "driver.get(login_url) #username & password is required here\n",
    "time.sleep(3)"
   ]
  },
  {
   "cell_type": "code",
   "execution_count": null,
   "id": "90a3ff1e-da4b-42f4-ba18-db63f87a3585",
   "metadata": {
    "tags": []
   },
   "outputs": [],
   "source": [
    "# Find username field and enter username\n",
    "username_field = driver.find_element(By.ID, \"username\")\n",
    "username_field.send_keys('manager')\n",
    "\n",
    "# Find password field and enter password\n",
    "password_field = driver.find_element(By.ID, \"password\")\n",
    "password_field.send_keys('Mgrc60#1234')\n",
    "\n",
    "# Press Enter to submit the form\n",
    "#password_field.send_keys(Keys.RETURN)  # ✅ No more 'Keys' error\n",
    "login_button = driver.find_element(By.ID, \"loginbtn\")\n",
    "login_button.click()\n",
    "\n",
    "# Wait for login to process\n",
    "time.sleep(5)\n",
    "\n"
   ]
  },
  {
   "cell_type": "code",
   "execution_count": null,
   "id": "7a20a4df-ecc7-4956-a17a-c2ae73eeaa56",
   "metadata": {
    "tags": []
   },
   "outputs": [],
   "source": [
    "# Check if login was successful\n",
    "if \"courses\" in driver.current_url.lower():\n",
    "    print(\"✅ Login successful!\")\n",
    "else:\n",
    "    print(\"❌ Login failed. Please check credentials.\")"
   ]
  },
  {
   "cell_type": "code",
   "execution_count": null,
   "id": "85d782a6-bf64-452f-a55f-6ce898e07040",
   "metadata": {
    "tags": []
   },
   "outputs": [],
   "source": [
    "#driver.close()"
   ]
  },
  {
   "cell_type": "code",
   "execution_count": 81,
   "id": "f940eb00-696e-4cd9-b6f8-adf8cc51c1ca",
   "metadata": {
    "tags": []
   },
   "outputs": [
    {
     "data": {
      "text/plain": [
       "'Course: RECOMBINANT DNA TECHNOLOGY'"
      ]
     },
     "execution_count": 81,
     "metadata": {},
     "output_type": "execute_result"
    }
   ],
   "source": [
    "#now fetch the courses\n",
    "url #8819\n",
    "driver.get(url)\n",
    "driver.title"
   ]
  },
  {
   "cell_type": "markdown",
   "id": "0abac4dc-de25-4cb5-83ad-74d616e34b9c",
   "metadata": {
    "tags": []
   },
   "source": [
    "#driver.get(url)\n",
    "#driver.execute_script('window.print();')\n",
    "url"
   ]
  },
  {
   "cell_type": "code",
   "execution_count": 82,
   "id": "42fbb4e8-5150-46dc-bef1-32825ade440e",
   "metadata": {
    "tags": []
   },
   "outputs": [
    {
     "name": "stdout",
     "output_type": "stream",
     "text": [
      "✅ Already expanded. No action needed.\n"
     ]
    }
   ],
   "source": [
    "try:\n",
    "    driver.get(url)\n",
    "    time.sleep(5)\n",
    "    # Wait for the collapse/expand button to load\n",
    "    toggle_button = WebDriverWait(driver, 10).until(\n",
    "        EC.presence_of_element_located((By.ID, \"collapsesections\"))\n",
    "    )\n",
    "\n",
    "    # Check the current state of the button\n",
    "    is_expanded = toggle_button.get_attribute(\"aria-expanded\")\n",
    "\n",
    "    if is_expanded == \"true\":\n",
    "        print(\"✅ Already expanded. No action needed.\")\n",
    "        \n",
    "    else:\n",
    "        print(\"🔄 Clicking the button to expand all sections...\")\n",
    "        toggle_button.click()\n",
    "        print(\"✅ Expand All activated.\")\n",
    "    driver.get(url)\n",
    "    driver.execute_script('window.print();')\n",
    "except Exception as e:\n",
    "    print(\"❌ Error:\", str(e))"
   ]
  },
  {
   "cell_type": "markdown",
   "id": "e8b39ed8-c91d-4db6-9725-b77401a190c3",
   "metadata": {
    "tags": []
   },
   "source": [
    "# Close the browser\n",
    "#driver.quit()\n",
    "try:\n",
    "    driver = webdriver.Chrome()  # Start the Chrome WebDriver\n",
    "    print(\"✅ WebDriver is running successfully.\")\n",
    "    driver.quit()  # Close the browser\n",
    "except Exception as e:\n",
    "    print(\"❌ WebDriver error:\", str(e))"
   ]
  },
  {
   "cell_type": "code",
   "execution_count": 83,
   "id": "17360a0c-84be-461b-9c99-815d6cbfc19b",
   "metadata": {
    "tags": []
   },
   "outputs": [
    {
     "name": "stdout",
     "output_type": "stream",
     "text": [
      "['Course_ RECOMBINANT DNA TECHNOLOGY.pdf', '.DS_Store', 'Course_ How to use Moodle LMS.pdf', 'Welcome to Python.org.pdf', 'Example Domain.pdf', 'LMS6_Even_ Log in to the site.pdf']\n"
     ]
    }
   ],
   "source": [
    "print(os.listdir(save_directory))"
   ]
  },
  {
   "cell_type": "code",
   "execution_count": null,
   "id": "41ff9905-eb87-4279-a804-79eb4209d369",
   "metadata": {
    "tags": []
   },
   "outputs": [],
   "source": [
    "print(\"All web pages have been saved as PDFs - count : \", len(os.listdir(save_directory)))"
   ]
  },
  {
   "cell_type": "code",
   "execution_count": null,
   "id": "29ccfd4b-d16d-4dbd-9969-3da283a6636b",
   "metadata": {},
   "outputs": [],
   "source": [
    "import webbrowser\n",
    "webbrowser.open_new(r'file://C:\\path\\to\\file.pdf')"
   ]
  },
  {
   "cell_type": "code",
   "execution_count": null,
   "id": "c5716545-b682-4f81-af39-f0f4d67018d8",
   "metadata": {},
   "outputs": [],
   "source": []
  },
  {
   "cell_type": "code",
   "execution_count": null,
   "id": "404c03c0-fda4-4d62-ba5e-08eb42f34b7b",
   "metadata": {},
   "outputs": [],
   "source": []
  },
  {
   "cell_type": "code",
   "execution_count": null,
   "id": "6ce5f46e-63fc-4e9f-bdc6-bbeff66e7d26",
   "metadata": {
    "tags": []
   },
   "outputs": [],
   "source": [
    "#check with e-content Report"
   ]
  },
  {
   "cell_type": "code",
   "execution_count": 84,
   "id": "fe215df8-28c9-4fa6-b8c3-a2f441f0791d",
   "metadata": {
    "tags": []
   },
   "outputs": [
    {
     "name": "stdout",
     "output_type": "stream",
     "text": [
      "['Course_ RECOMBINANT DNA TECHNOLOGY.pdf', '.DS_Store', 'Course_ How to use Moodle LMS.pdf', 'Welcome to Python.org.pdf', 'Example Domain.pdf', 'LMS6_Even_ Log in to the site.pdf']\n"
     ]
    }
   ],
   "source": [
    "save_directory\n",
    "print(os.listdir(save_directory))"
   ]
  },
  {
   "cell_type": "code",
   "execution_count": 96,
   "id": "d3dbd146-1c68-4963-8008-92f164bf30df",
   "metadata": {
    "tags": []
   },
   "outputs": [],
   "source": []
  },
  {
   "cell_type": "code",
   "execution_count": 97,
   "id": "bda443b5-44b8-41e9-a5f8-7d4cb6d9c744",
   "metadata": {
    "tags": []
   },
   "outputs": [
    {
     "data": {
      "text/html": [
       "<div>\n",
       "<style scoped>\n",
       "    .dataframe tbody tr th:only-of-type {\n",
       "        vertical-align: middle;\n",
       "    }\n",
       "\n",
       "    .dataframe tbody tr th {\n",
       "        vertical-align: top;\n",
       "    }\n",
       "\n",
       "    .dataframe thead th {\n",
       "        text-align: right;\n",
       "    }\n",
       "</style>\n",
       "<table border=\"1\" class=\"dataframe\">\n",
       "  <thead>\n",
       "    <tr style=\"text-align: right;\">\n",
       "      <th></th>\n",
       "      <th>Course Name</th>\n",
       "    </tr>\n",
       "  </thead>\n",
       "  <tbody>\n",
       "    <tr>\n",
       "      <th>0</th>\n",
       "      <td>RECOMBINANT DNA TECHNOLOGY</td>\n",
       "    </tr>\n",
       "    <tr>\n",
       "      <th>1</th>\n",
       "      <td>How to use Moodle LMS</td>\n",
       "    </tr>\n",
       "  </tbody>\n",
       "</table>\n",
       "</div>"
      ],
      "text/plain": [
       "                   Course Name\n",
       "0   RECOMBINANT DNA TECHNOLOGY\n",
       "1        How to use Moodle LMS"
      ]
     },
     "execution_count": 97,
     "metadata": {},
     "output_type": "execute_result"
    }
   ],
   "source": [
    "df"
   ]
  },
  {
   "cell_type": "code",
   "execution_count": 106,
   "id": "118643eb-f524-43cd-995a-4682d5981d27",
   "metadata": {
    "tags": []
   },
   "outputs": [
    {
     "name": "stdout",
     "output_type": "stream",
     "text": [
      "https://alms6.amizone.net/moodle_24even/course/view.php?id=18166\n",
      "https://alms6.amizone.net/moodle_24even/course/view.php?id=18179\n",
      "https://alms6.amizone.net/moodle_24even/course/view.php?id=18193\n",
      "https://alms6.amizone.net/moodle_24even/course/view.php?id=19757\n",
      "https://alms6.amizone.net/moodle_24even/course/view.php?id=19837\n"
     ]
    }
   ],
   "source": [
    "# create urls from course IDs\n",
    "cID = [18166, 18179, 18193 , 19757, 19837]\n",
    "baseurl= \"https://alms6.amizone.net/moodle_24even/course/view.php?id=\"\n",
    "course_urls = [baseurl + str(course_id) for course_id in cID]\n",
    "print(*course_urls, sep ='\\n')   #print(\"\\n\".join(full_urls))"
   ]
  },
  {
   "cell_type": "code",
   "execution_count": null,
   "id": "f76ccce2-a7b3-4775-9825-a07d21e98eb1",
   "metadata": {},
   "outputs": [],
   "source": [
    "cService = webdriver.ChromeService(executable_path=cp2)\n",
    "save_directory = \"/Users/du/dup/auData/lms/webpage_pdfs\""
   ]
  },
  {
   "cell_type": "markdown",
   "id": "dc9b750a-c805-42fe-a05e-e0a7f03dc1fc",
   "metadata": {},
   "source": [
    "driver = webdriver.Chrome(options=chrome_options)\n",
    "login_url = \"https://alms6.amizone.net/moodle_24even/login/index.php\"\n",
    "driver.get(login_url) #username & password is required here\n",
    "time.sleep(3)"
   ]
  },
  {
   "cell_type": "code",
   "execution_count": 107,
   "id": "ff5364d9-5dd3-4755-ac8c-815a21a58d55",
   "metadata": {
    "tags": []
   },
   "outputs": [
    {
     "name": "stdout",
     "output_type": "stream",
     "text": [
      "📄 Processing: https://alms6.amizone.net/moodle_24even/course/view.php?id=18166\n",
      "✅ Already expanded. No action needed.\n",
      "✅ Successfully printed: https://alms6.amizone.net/moodle_24even/course/view.php?id=18166\n",
      "📄 Processing: https://alms6.amizone.net/moodle_24even/course/view.php?id=18179\n",
      "✅ Already expanded. No action needed.\n",
      "✅ Successfully printed: https://alms6.amizone.net/moodle_24even/course/view.php?id=18179\n",
      "📄 Processing: https://alms6.amizone.net/moodle_24even/course/view.php?id=18193\n",
      "✅ Already expanded. No action needed.\n",
      "✅ Successfully printed: https://alms6.amizone.net/moodle_24even/course/view.php?id=18193\n",
      "📄 Processing: https://alms6.amizone.net/moodle_24even/course/view.php?id=19757\n",
      "✅ Already expanded. No action needed.\n",
      "✅ Successfully printed: https://alms6.amizone.net/moodle_24even/course/view.php?id=19757\n",
      "📄 Processing: https://alms6.amizone.net/moodle_24even/course/view.php?id=19837\n",
      "✅ Already expanded. No action needed.\n",
      "✅ Successfully printed: https://alms6.amizone.net/moodle_24even/course/view.php?id=19837\n"
     ]
    }
   ],
   "source": [
    "# Loop through each course URL\n",
    "for index, url in enumerate(course_urls):\n",
    "    try:\n",
    "        print(f\"📄 Processing: {url}\")\n",
    "\n",
    "        # Open the course page\n",
    "        driver.get(url)\n",
    "        time.sleep(5)\n",
    "\n",
    "        # Expand all sections if they are collapsed\n",
    "        try:\n",
    "            toggle_button = WebDriverWait(driver, 10).until(\n",
    "                EC.presence_of_element_located((By.ID, \"collapsesections\"))\n",
    "            )\n",
    "            is_expanded = toggle_button.get_attribute(\"aria-expanded\")\n",
    "\n",
    "            if is_expanded == \"true\":\n",
    "                print(\"✅ Already expanded. No action needed.\")\n",
    "            else:\n",
    "                print(\"🔄 Clicking the button to expand all sections...\")\n",
    "                toggle_button.click()\n",
    "                time.sleep(3)  # Give time for sections to expand\n",
    "                print(\"✅ Expand All activated.\")\n",
    "\n",
    "        except Exception as e:\n",
    "            print(\"⚠️ No expand button found or already expanded:\", str(e))\n",
    "\n",
    "        # Print the page as PDF\n",
    "        driver.execute_script(\"window.print();\")\n",
    "        time.sleep(5)  # Allow time for printing process\n",
    "\n",
    "        print(f\"✅ Successfully printed: {url}\")\n",
    "\n",
    "    except Exception as e:\n",
    "        print(\"❌ Error processing\", url, \":\", str(e))"
   ]
  },
  {
   "cell_type": "code",
   "execution_count": 131,
   "id": "035d6a4d-bf82-489f-8002-4ae7761bc9bd",
   "metadata": {
    "tags": []
   },
   "outputs": [
    {
     "name": "stdout",
     "output_type": "stream",
     "text": [
      "['Course_ RECOMBINANT DNA TECHNOLOGY.pdf', '.DS_Store', 'Course_ Current Themes in Indian Politics.pdf', 'Course_ How to use Moodle LMS.pdf', 'Welcome to Python.org.pdf', 'Course_ Environmental Economics.pdf', 'Course_ History -II.pdf', 'Course_ Demography and Economic Development.pdf', 'Example Domain.pdf', 'Course_ Comparative Government and Politics.pdf', 'LMS6_Even_ Log in to the site.pdf']\n"
     ]
    }
   ],
   "source": [
    "print(os.listdir(save_directory), sep='\\n')"
   ]
  },
  {
   "cell_type": "markdown",
   "id": "24ef5b2c-f746-45fc-a409-1b9b1a8d8477",
   "metadata": {},
   "source": [
    "## List all course PDF save in the folder"
   ]
  },
  {
   "cell_type": "code",
   "execution_count": 140,
   "id": "f6a5d533-b0bf-42db-b5ce-3bab730840a4",
   "metadata": {
    "tags": []
   },
   "outputs": [],
   "source": [
    "# List all files in the folder\n",
    "all_files = os.listdir(save_directory)\n",
    "\n",
    "# Filter files that start with \"Course_\" and end with \".pdf\"\n",
    "course_files = [f for f in all_files if f.startswith(\"Course_\") and f.endswith(\".pdf\")]\n",
    "\n",
    "# Remove \"Course_\" and \".pdf\" from filenames\n",
    "cleaned_names = [f.replace(\"Course_\", \"\").replace(\".pdf\", \"\") for f in course_files]\n",
    "\n",
    "# Convert to DataFrame\n",
    "df = pd.DataFrame(cleaned_names, columns=[\"Course Name\"])\n",
    "#tools.display_dataframe_to_user(name=\"Course Names\", dataframe=df)"
   ]
  },
  {
   "cell_type": "code",
   "execution_count": 141,
   "id": "d0eab694-c80c-4bd0-9b7b-c1c27c4ca084",
   "metadata": {
    "tags": []
   },
   "outputs": [
    {
     "data": {
      "text/html": [
       "<div>\n",
       "<style scoped>\n",
       "    .dataframe tbody tr th:only-of-type {\n",
       "        vertical-align: middle;\n",
       "    }\n",
       "\n",
       "    .dataframe tbody tr th {\n",
       "        vertical-align: top;\n",
       "    }\n",
       "\n",
       "    .dataframe thead th {\n",
       "        text-align: right;\n",
       "    }\n",
       "</style>\n",
       "<table border=\"1\" class=\"dataframe\">\n",
       "  <thead>\n",
       "    <tr style=\"text-align: right;\">\n",
       "      <th></th>\n",
       "      <th>Course Name</th>\n",
       "    </tr>\n",
       "  </thead>\n",
       "  <tbody>\n",
       "    <tr>\n",
       "      <th>0</th>\n",
       "      <td>RECOMBINANT DNA TECHNOLOGY</td>\n",
       "    </tr>\n",
       "    <tr>\n",
       "      <th>1</th>\n",
       "      <td>Current Themes in Indian Politics</td>\n",
       "    </tr>\n",
       "    <tr>\n",
       "      <th>2</th>\n",
       "      <td>How to use Moodle LMS</td>\n",
       "    </tr>\n",
       "    <tr>\n",
       "      <th>3</th>\n",
       "      <td>Environmental Economics</td>\n",
       "    </tr>\n",
       "    <tr>\n",
       "      <th>4</th>\n",
       "      <td>History -II</td>\n",
       "    </tr>\n",
       "    <tr>\n",
       "      <th>5</th>\n",
       "      <td>Demography and Economic Development</td>\n",
       "    </tr>\n",
       "    <tr>\n",
       "      <th>6</th>\n",
       "      <td>Comparative Government and Politics</td>\n",
       "    </tr>\n",
       "  </tbody>\n",
       "</table>\n",
       "</div>"
      ],
      "text/plain": [
       "                            Course Name\n",
       "0            RECOMBINANT DNA TECHNOLOGY\n",
       "1     Current Themes in Indian Politics\n",
       "2                 How to use Moodle LMS\n",
       "3               Environmental Economics\n",
       "4                           History -II\n",
       "5   Demography and Economic Development\n",
       "6   Comparative Government and Politics"
      ]
     },
     "execution_count": 141,
     "metadata": {},
     "output_type": "execute_result"
    }
   ],
   "source": [
    "df"
   ]
  },
  {
   "cell_type": "markdown",
   "id": "de93c1ed-eb9d-4cc9-825e-3c7972ae180e",
   "metadata": {},
   "source": [
    "## check if the Course Name's are in the e-Content report"
   ]
  },
  {
   "cell_type": "code",
   "execution_count": 135,
   "id": "2db8e2a8-2693-4751-853a-5e969ebe61c4",
   "metadata": {
    "tags": []
   },
   "outputs": [
    {
     "name": "stdout",
     "output_type": "stream",
     "text": [
      "Econtent_22even.csv\n",
      "Econtent_22odd.csv\n",
      "Econtent_23even.csv\n",
      "Econtent_23odd.csv\n",
      "eContent.csv\n",
      "eContentData.csv\n",
      "eContentData_11Mar24.csv\n",
      "eContentSum.csv\n",
      "ec jpr.csv\n",
      "econtent_071024_AUHR.csv\n",
      "econtent_071024_AURJ.csv\n",
      "econtent_20240827.csv\n",
      "econtent_22_23_even.csv\n",
      "econtent_23_24_Odd.csv\n",
      "econtent_24E_0225.csv\n",
      "econtent_24E_0225.xlsx\n",
      "econtent_24O_0125.csv\n",
      "econtent_24odd.csv\n",
      "econtent_24odd_70824.csv\n",
      "report-20230808.csv\n",
      "report-20230912.csv\n",
      "report-20231027_AUMP.csv\n",
      "report-20240620.csv\n",
      "report-20241007_0750-comma_separated.csv\n",
      "report_20231027.csv\n"
     ]
    }
   ],
   "source": [
    "reportFolder = '/Users/du/dup/auData/lms/econtent/'\n",
    "print(*sorted(os.listdir(reportFolder)), sep ='\\n')"
   ]
  },
  {
   "cell_type": "code",
   "execution_count": 136,
   "id": "27e9850b-827b-4426-afc6-dfd53c26c997",
   "metadata": {
    "tags": []
   },
   "outputs": [
    {
     "data": {
      "text/plain": [
       "(8159, 32)"
      ]
     },
     "execution_count": 136,
     "metadata": {},
     "output_type": "execute_result"
    }
   ],
   "source": [
    "dfec = pd.read_csv(reportFolder + 'econtent_24E_0225.csv')\n",
    "dfec.shape"
   ]
  },
  {
   "cell_type": "code",
   "execution_count": 137,
   "id": "42697d48-8ac8-4a5d-97f6-de6588a73ef9",
   "metadata": {
    "tags": []
   },
   "outputs": [
    {
     "data": {
      "text/html": [
       "<div>\n",
       "<style scoped>\n",
       "    .dataframe tbody tr th:only-of-type {\n",
       "        vertical-align: middle;\n",
       "    }\n",
       "\n",
       "    .dataframe tbody tr th {\n",
       "        vertical-align: top;\n",
       "    }\n",
       "\n",
       "    .dataframe thead th {\n",
       "        text-align: right;\n",
       "    }\n",
       "</style>\n",
       "<table border=\"1\" class=\"dataframe\">\n",
       "  <thead>\n",
       "    <tr style=\"text-align: right;\">\n",
       "      <th></th>\n",
       "      <th>Faculty Name</th>\n",
       "      <th>Email Address</th>\n",
       "      <th>Section Name</th>\n",
       "      <th>Course Name</th>\n",
       "      <th>Campus Name</th>\n",
       "      <th>Institute Name</th>\n",
       "      <th>assign</th>\n",
       "      <th>assignment</th>\n",
       "      <th>bigbluebuttonbn</th>\n",
       "      <th>book</th>\n",
       "      <th>...</th>\n",
       "      <th>page</th>\n",
       "      <th>quiz</th>\n",
       "      <th>resource</th>\n",
       "      <th>scorm</th>\n",
       "      <th>survey</th>\n",
       "      <th>url</th>\n",
       "      <th>wiki</th>\n",
       "      <th>workshop</th>\n",
       "      <th>vpl</th>\n",
       "      <th>game</th>\n",
       "    </tr>\n",
       "  </thead>\n",
       "  <tbody>\n",
       "    <tr>\n",
       "      <th>0</th>\n",
       "      <td>Mr Syed Sajid Husain Kazmi</td>\n",
       "      <td>304352@amity.edu</td>\n",
       "      <td>B.Ed. - Special Education (LD)/ SPED214/Sem-3/...</td>\n",
       "      <td>Psycho Social and Family Issues of Persons wit...</td>\n",
       "      <td>Lucknow</td>\n",
       "      <td>Amity Institute of Behavioral &amp; Allied Science...</td>\n",
       "      <td>1</td>\n",
       "      <td>0</td>\n",
       "      <td>0</td>\n",
       "      <td>0</td>\n",
       "      <td>...</td>\n",
       "      <td>0</td>\n",
       "      <td>0</td>\n",
       "      <td>7</td>\n",
       "      <td>0</td>\n",
       "      <td>0</td>\n",
       "      <td>4</td>\n",
       "      <td>0</td>\n",
       "      <td>0</td>\n",
       "      <td>0</td>\n",
       "      <td>0</td>\n",
       "    </tr>\n",
       "  </tbody>\n",
       "</table>\n",
       "<p>1 rows × 32 columns</p>\n",
       "</div>"
      ],
      "text/plain": [
       "                 Faculty Name     Email Address  \\\n",
       "0  Mr Syed Sajid Husain Kazmi  304352@amity.edu   \n",
       "\n",
       "                                        Section Name  \\\n",
       "0  B.Ed. - Special Education (LD)/ SPED214/Sem-3/...   \n",
       "\n",
       "                                         Course Name Campus Name  \\\n",
       "0  Psycho Social and Family Issues of Persons wit...     Lucknow   \n",
       "\n",
       "                                      Institute Name  assign  assignment  \\\n",
       "0  Amity Institute of Behavioral & Allied Science...       1           0   \n",
       "\n",
       "   bigbluebuttonbn  book  ...  page  quiz  resource  scorm  survey  url  wiki  \\\n",
       "0                0     0  ...     0     0         7      0       0    4     0   \n",
       "\n",
       "   workshop  vpl  game  \n",
       "0         0    0     0  \n",
       "\n",
       "[1 rows x 32 columns]"
      ]
     },
     "execution_count": 137,
     "metadata": {},
     "output_type": "execute_result"
    }
   ],
   "source": [
    "dfec.head(1)"
   ]
  },
  {
   "cell_type": "code",
   "execution_count": 138,
   "id": "86f3ce6b-715a-4793-955f-6eec7a48daa1",
   "metadata": {
    "tags": []
   },
   "outputs": [
    {
     "data": {
      "text/plain": [
       "Index(['Faculty Name', 'Email Address', 'Section Name', 'Course Name',\n",
       "       'Campus Name', 'Institute Name', 'assign', 'assignment',\n",
       "       'bigbluebuttonbn', 'book', 'chat', 'choice', 'data', 'feedback',\n",
       "       'folder', 'forum', 'glossary', 'h5pactivity', 'imscp', 'label',\n",
       "       'lesson', 'lti', 'page', 'quiz', 'resource', 'scorm', 'survey', 'url',\n",
       "       'wiki', 'workshop', 'vpl', 'game'],\n",
       "      dtype='object')"
      ]
     },
     "execution_count": 138,
     "metadata": {},
     "output_type": "execute_result"
    }
   ],
   "source": [
    "dfec.columns"
   ]
  },
  {
   "cell_type": "code",
   "execution_count": 142,
   "id": "13d0f559-9c04-426f-bc55-acb1619857f1",
   "metadata": {
    "tags": []
   },
   "outputs": [
    {
     "data": {
      "text/plain": [
       "0              RECOMBINANT DNA TECHNOLOGY\n",
       "1       Current Themes in Indian Politics\n",
       "2                   How to use Moodle LMS\n",
       "3                 Environmental Economics\n",
       "4                             History -II\n",
       "5     Demography and Economic Development\n",
       "6     Comparative Government and Politics\n",
       "Name: Course Name, dtype: object"
      ]
     },
     "execution_count": 142,
     "metadata": {},
     "output_type": "execute_result"
    }
   ],
   "source": [
    "df['Course Name']"
   ]
  },
  {
   "cell_type": "code",
   "execution_count": 148,
   "id": "02763b1d-3fee-410d-8e0c-af1729514764",
   "metadata": {
    "tags": []
   },
   "outputs": [],
   "source": [
    "dfec[dfec[\"Course Name\"] == 'History -II'] #'Demography and Economic Development']\n",
    "#some space, remove them\n",
    "df[\"Course Name\"] = df[\"Course Name\"].str.strip()\n",
    "dfec[\"Course Name\"] = dfec[\"Course Name\"].str.strip()"
   ]
  },
  {
   "cell_type": "code",
   "execution_count": 149,
   "id": "74adc037-bc1a-4422-a1e0-9525b41064b3",
   "metadata": {
    "tags": []
   },
   "outputs": [
    {
     "data": {
      "text/html": [
       "<div>\n",
       "<style scoped>\n",
       "    .dataframe tbody tr th:only-of-type {\n",
       "        vertical-align: middle;\n",
       "    }\n",
       "\n",
       "    .dataframe tbody tr th {\n",
       "        vertical-align: top;\n",
       "    }\n",
       "\n",
       "    .dataframe thead th {\n",
       "        text-align: right;\n",
       "    }\n",
       "</style>\n",
       "<table border=\"1\" class=\"dataframe\">\n",
       "  <thead>\n",
       "    <tr style=\"text-align: right;\">\n",
       "      <th></th>\n",
       "      <th>Faculty Name</th>\n",
       "      <th>Email Address</th>\n",
       "      <th>Section Name</th>\n",
       "      <th>Course Name</th>\n",
       "      <th>Campus Name</th>\n",
       "      <th>Institute Name</th>\n",
       "      <th>assign</th>\n",
       "      <th>assignment</th>\n",
       "      <th>bigbluebuttonbn</th>\n",
       "      <th>book</th>\n",
       "      <th>...</th>\n",
       "      <th>page</th>\n",
       "      <th>quiz</th>\n",
       "      <th>resource</th>\n",
       "      <th>scorm</th>\n",
       "      <th>survey</th>\n",
       "      <th>url</th>\n",
       "      <th>wiki</th>\n",
       "      <th>workshop</th>\n",
       "      <th>vpl</th>\n",
       "      <th>game</th>\n",
       "    </tr>\n",
       "  </thead>\n",
       "  <tbody>\n",
       "    <tr>\n",
       "      <th>6402</th>\n",
       "      <td>Dr Ashutosh . Singh</td>\n",
       "      <td>303589@amity.edu</td>\n",
       "      <td>ALSJ/ B.A.,LL.B (H)/ ILB202H/Sem-2/A/2024-2025...</td>\n",
       "      <td>History -II</td>\n",
       "      <td>Jaipur</td>\n",
       "      <td>Amity School of Liberal Arts, Jaipur</td>\n",
       "      <td>1</td>\n",
       "      <td>0</td>\n",
       "      <td>0</td>\n",
       "      <td>0</td>\n",
       "      <td>...</td>\n",
       "      <td>0</td>\n",
       "      <td>1</td>\n",
       "      <td>3</td>\n",
       "      <td>0</td>\n",
       "      <td>0</td>\n",
       "      <td>0</td>\n",
       "      <td>0</td>\n",
       "      <td>0</td>\n",
       "      <td>0</td>\n",
       "      <td>0</td>\n",
       "    </tr>\n",
       "    <tr>\n",
       "      <th>6436</th>\n",
       "      <td>Dr Shakir Hussain Malik</td>\n",
       "      <td>307450@amity.edu</td>\n",
       "      <td>ASLAJ/ B.A. (Economics) (Hons./Hons. with Rese...</td>\n",
       "      <td>Demography and Economic Development</td>\n",
       "      <td>Jaipur</td>\n",
       "      <td>Amity School of Liberal Arts, Jaipur</td>\n",
       "      <td>1</td>\n",
       "      <td>0</td>\n",
       "      <td>0</td>\n",
       "      <td>0</td>\n",
       "      <td>...</td>\n",
       "      <td>0</td>\n",
       "      <td>0</td>\n",
       "      <td>4</td>\n",
       "      <td>0</td>\n",
       "      <td>0</td>\n",
       "      <td>0</td>\n",
       "      <td>0</td>\n",
       "      <td>0</td>\n",
       "      <td>0</td>\n",
       "      <td>0</td>\n",
       "    </tr>\n",
       "    <tr>\n",
       "      <th>6969</th>\n",
       "      <td>Dr Neha . Bhartiya</td>\n",
       "      <td>309731@amity.edu</td>\n",
       "      <td>ASLAJ/ B.A. (H) - Political Science/ BPS601/Se...</td>\n",
       "      <td>Comparative Government and Politics</td>\n",
       "      <td>Jaipur</td>\n",
       "      <td>Amity School of Liberal Arts, Jaipur</td>\n",
       "      <td>2</td>\n",
       "      <td>0</td>\n",
       "      <td>0</td>\n",
       "      <td>0</td>\n",
       "      <td>...</td>\n",
       "      <td>0</td>\n",
       "      <td>0</td>\n",
       "      <td>15</td>\n",
       "      <td>0</td>\n",
       "      <td>0</td>\n",
       "      <td>3</td>\n",
       "      <td>0</td>\n",
       "      <td>0</td>\n",
       "      <td>0</td>\n",
       "      <td>0</td>\n",
       "    </tr>\n",
       "    <tr>\n",
       "      <th>7386</th>\n",
       "      <td>Dr Kush Kumar Nayak</td>\n",
       "      <td>17354@amity.edu</td>\n",
       "      <td>AIBRAI/ B.Tech (BT)/ EBT2601/Sem-6/A/2024-2025...</td>\n",
       "      <td>RECOMBINANT DNA TECHNOLOGY</td>\n",
       "      <td>Raipur</td>\n",
       "      <td>Amity Institute of Biotechnology, Raipur</td>\n",
       "      <td>0</td>\n",
       "      <td>0</td>\n",
       "      <td>0</td>\n",
       "      <td>0</td>\n",
       "      <td>...</td>\n",
       "      <td>0</td>\n",
       "      <td>0</td>\n",
       "      <td>0</td>\n",
       "      <td>0</td>\n",
       "      <td>0</td>\n",
       "      <td>14</td>\n",
       "      <td>0</td>\n",
       "      <td>0</td>\n",
       "      <td>0</td>\n",
       "      <td>0</td>\n",
       "    </tr>\n",
       "    <tr>\n",
       "      <th>7492</th>\n",
       "      <td>Dr Rajeev . Sharma</td>\n",
       "      <td>309730@amity.edu</td>\n",
       "      <td>ASLAJ/ B.A.(H) - Eco/ BAE606/Sem-6/A/2024-2025...</td>\n",
       "      <td>Environmental Economics</td>\n",
       "      <td>Jaipur</td>\n",
       "      <td>Amity School of Liberal Arts, Jaipur</td>\n",
       "      <td>0</td>\n",
       "      <td>0</td>\n",
       "      <td>0</td>\n",
       "      <td>0</td>\n",
       "      <td>...</td>\n",
       "      <td>0</td>\n",
       "      <td>0</td>\n",
       "      <td>7</td>\n",
       "      <td>0</td>\n",
       "      <td>0</td>\n",
       "      <td>0</td>\n",
       "      <td>0</td>\n",
       "      <td>0</td>\n",
       "      <td>0</td>\n",
       "      <td>0</td>\n",
       "    </tr>\n",
       "    <tr>\n",
       "      <th>7493</th>\n",
       "      <td>Mr Avinash . Kumar</td>\n",
       "      <td>312426@amity.edu</td>\n",
       "      <td>ASLAJ/ B.A. (Liberal Arts)/ BAL231/Sem-2/A/202...</td>\n",
       "      <td>Current Themes in Indian Politics</td>\n",
       "      <td>Jaipur</td>\n",
       "      <td>Amity School of Liberal Arts, Jaipur</td>\n",
       "      <td>0</td>\n",
       "      <td>0</td>\n",
       "      <td>0</td>\n",
       "      <td>0</td>\n",
       "      <td>...</td>\n",
       "      <td>0</td>\n",
       "      <td>0</td>\n",
       "      <td>1</td>\n",
       "      <td>0</td>\n",
       "      <td>0</td>\n",
       "      <td>0</td>\n",
       "      <td>0</td>\n",
       "      <td>0</td>\n",
       "      <td>0</td>\n",
       "      <td>0</td>\n",
       "    </tr>\n",
       "  </tbody>\n",
       "</table>\n",
       "<p>6 rows × 32 columns</p>\n",
       "</div>"
      ],
      "text/plain": [
       "                 Faculty Name     Email Address  \\\n",
       "6402      Dr Ashutosh . Singh  303589@amity.edu   \n",
       "6436  Dr Shakir Hussain Malik  307450@amity.edu   \n",
       "6969       Dr Neha . Bhartiya  309731@amity.edu   \n",
       "7386      Dr Kush Kumar Nayak   17354@amity.edu   \n",
       "7492       Dr Rajeev . Sharma  309730@amity.edu   \n",
       "7493       Mr Avinash . Kumar  312426@amity.edu   \n",
       "\n",
       "                                           Section Name  \\\n",
       "6402  ALSJ/ B.A.,LL.B (H)/ ILB202H/Sem-2/A/2024-2025...   \n",
       "6436  ASLAJ/ B.A. (Economics) (Hons./Hons. with Rese...   \n",
       "6969  ASLAJ/ B.A. (H) - Political Science/ BPS601/Se...   \n",
       "7386  AIBRAI/ B.Tech (BT)/ EBT2601/Sem-6/A/2024-2025...   \n",
       "7492  ASLAJ/ B.A.(H) - Eco/ BAE606/Sem-6/A/2024-2025...   \n",
       "7493  ASLAJ/ B.A. (Liberal Arts)/ BAL231/Sem-2/A/202...   \n",
       "\n",
       "                              Course Name Campus Name  \\\n",
       "6402                          History -II      Jaipur   \n",
       "6436  Demography and Economic Development      Jaipur   \n",
       "6969  Comparative Government and Politics      Jaipur   \n",
       "7386           RECOMBINANT DNA TECHNOLOGY      Raipur   \n",
       "7492              Environmental Economics      Jaipur   \n",
       "7493    Current Themes in Indian Politics      Jaipur   \n",
       "\n",
       "                                Institute Name  assign  assignment  \\\n",
       "6402      Amity School of Liberal Arts, Jaipur       1           0   \n",
       "6436      Amity School of Liberal Arts, Jaipur       1           0   \n",
       "6969      Amity School of Liberal Arts, Jaipur       2           0   \n",
       "7386  Amity Institute of Biotechnology, Raipur       0           0   \n",
       "7492      Amity School of Liberal Arts, Jaipur       0           0   \n",
       "7493      Amity School of Liberal Arts, Jaipur       0           0   \n",
       "\n",
       "      bigbluebuttonbn  book  ...  page  quiz  resource  scorm  survey  url  \\\n",
       "6402                0     0  ...     0     1         3      0       0    0   \n",
       "6436                0     0  ...     0     0         4      0       0    0   \n",
       "6969                0     0  ...     0     0        15      0       0    3   \n",
       "7386                0     0  ...     0     0         0      0       0   14   \n",
       "7492                0     0  ...     0     0         7      0       0    0   \n",
       "7493                0     0  ...     0     0         1      0       0    0   \n",
       "\n",
       "      wiki  workshop  vpl  game  \n",
       "6402     0         0    0     0  \n",
       "6436     0         0    0     0  \n",
       "6969     0         0    0     0  \n",
       "7386     0         0    0     0  \n",
       "7492     0         0    0     0  \n",
       "7493     0         0    0     0  \n",
       "\n",
       "[6 rows x 32 columns]"
      ]
     },
     "execution_count": 149,
     "metadata": {},
     "output_type": "execute_result"
    }
   ],
   "source": [
    "# Filter dfec where \"Course Name\" exists in df\n",
    "filtered_dfec = dfec[dfec[\"Course Name\"].isin(df[\"Course Name\"])]\n",
    "filtered_dfec"
   ]
  },
  {
   "cell_type": "markdown",
   "id": "5f1b6aae-db82-4470-9d0e-1ff6a67da7b6",
   "metadata": {
    "tags": []
   },
   "source": [
    "# Filter rows where any keyword from df exists in dfec[\"Course Name\"]\n",
    "filtered_dfec = dfec[dfec[\"Course Name\"].apply(lambda x: any(keyword in x for keyword in df[\"Course Name\"]))]\n",
    "filtered_dfec"
   ]
  },
  {
   "cell_type": "code",
   "execution_count": 150,
   "id": "6b6cddcb-f7a8-4d99-b9b9-365640abac0c",
   "metadata": {
    "tags": []
   },
   "outputs": [
    {
     "data": {
      "text/html": [
       "<div>\n",
       "<style scoped>\n",
       "    .dataframe tbody tr th:only-of-type {\n",
       "        vertical-align: middle;\n",
       "    }\n",
       "\n",
       "    .dataframe tbody tr th {\n",
       "        vertical-align: top;\n",
       "    }\n",
       "\n",
       "    .dataframe thead th {\n",
       "        text-align: right;\n",
       "    }\n",
       "</style>\n",
       "<table border=\"1\" class=\"dataframe\">\n",
       "  <thead>\n",
       "    <tr style=\"text-align: right;\">\n",
       "      <th></th>\n",
       "      <th>Faculty Name</th>\n",
       "      <th>Email Address</th>\n",
       "      <th>Section Name</th>\n",
       "      <th>Course Name</th>\n",
       "      <th>Campus Name</th>\n",
       "      <th>Institute Name</th>\n",
       "      <th>assign</th>\n",
       "      <th>assignment</th>\n",
       "      <th>bigbluebuttonbn</th>\n",
       "      <th>book</th>\n",
       "      <th>...</th>\n",
       "      <th>page</th>\n",
       "      <th>quiz</th>\n",
       "      <th>resource</th>\n",
       "      <th>scorm</th>\n",
       "      <th>survey</th>\n",
       "      <th>url</th>\n",
       "      <th>wiki</th>\n",
       "      <th>workshop</th>\n",
       "      <th>vpl</th>\n",
       "      <th>game</th>\n",
       "    </tr>\n",
       "  </thead>\n",
       "  <tbody>\n",
       "    <tr>\n",
       "      <th>6350</th>\n",
       "      <td>Dr Shakir Hussain Malik</td>\n",
       "      <td>307450@amity.edu</td>\n",
       "      <td>ALSJ/ BBA LL.B. (H)/ BBA201/Sem-2/B/2024-2025/...</td>\n",
       "      <td>Macro Economics for Business</td>\n",
       "      <td>Jaipur</td>\n",
       "      <td>Amity School of Liberal Arts, Jaipur</td>\n",
       "      <td>0</td>\n",
       "      <td>0</td>\n",
       "      <td>0</td>\n",
       "      <td>0</td>\n",
       "      <td>...</td>\n",
       "      <td>0</td>\n",
       "      <td>0</td>\n",
       "      <td>3</td>\n",
       "      <td>0</td>\n",
       "      <td>0</td>\n",
       "      <td>0</td>\n",
       "      <td>0</td>\n",
       "      <td>0</td>\n",
       "      <td>0</td>\n",
       "      <td>0</td>\n",
       "    </tr>\n",
       "    <tr>\n",
       "      <th>6436</th>\n",
       "      <td>Dr Shakir Hussain Malik</td>\n",
       "      <td>307450@amity.edu</td>\n",
       "      <td>ASLAJ/ B.A. (Economics) (Hons./Hons. with Rese...</td>\n",
       "      <td>Demography and Economic Development</td>\n",
       "      <td>Jaipur</td>\n",
       "      <td>Amity School of Liberal Arts, Jaipur</td>\n",
       "      <td>1</td>\n",
       "      <td>0</td>\n",
       "      <td>0</td>\n",
       "      <td>0</td>\n",
       "      <td>...</td>\n",
       "      <td>0</td>\n",
       "      <td>0</td>\n",
       "      <td>4</td>\n",
       "      <td>0</td>\n",
       "      <td>0</td>\n",
       "      <td>0</td>\n",
       "      <td>0</td>\n",
       "      <td>0</td>\n",
       "      <td>0</td>\n",
       "      <td>0</td>\n",
       "    </tr>\n",
       "    <tr>\n",
       "      <th>6470</th>\n",
       "      <td>Dr Shakir Hussain Malik</td>\n",
       "      <td>307450@amity.edu</td>\n",
       "      <td>ALSJ/ B.Com. LL.B. (H)/ BCH285/Sem-2/C/2024-20...</td>\n",
       "      <td>Macroeconomics for Business</td>\n",
       "      <td>Jaipur</td>\n",
       "      <td>Amity School of Liberal Arts, Jaipur</td>\n",
       "      <td>0</td>\n",
       "      <td>0</td>\n",
       "      <td>0</td>\n",
       "      <td>0</td>\n",
       "      <td>...</td>\n",
       "      <td>0</td>\n",
       "      <td>0</td>\n",
       "      <td>3</td>\n",
       "      <td>0</td>\n",
       "      <td>0</td>\n",
       "      <td>0</td>\n",
       "      <td>0</td>\n",
       "      <td>0</td>\n",
       "      <td>0</td>\n",
       "      <td>0</td>\n",
       "    </tr>\n",
       "    <tr>\n",
       "      <th>6766</th>\n",
       "      <td>Dr Shakir Hussain Malik</td>\n",
       "      <td>307450@amity.edu</td>\n",
       "      <td>ASLAJ/ B.A.(H) - Eco/ BAE403/Sem-4/A/2024-2025...</td>\n",
       "      <td>Game Theory</td>\n",
       "      <td>Jaipur</td>\n",
       "      <td>Amity School of Liberal Arts, Jaipur</td>\n",
       "      <td>0</td>\n",
       "      <td>0</td>\n",
       "      <td>0</td>\n",
       "      <td>0</td>\n",
       "      <td>...</td>\n",
       "      <td>0</td>\n",
       "      <td>0</td>\n",
       "      <td>2</td>\n",
       "      <td>0</td>\n",
       "      <td>0</td>\n",
       "      <td>0</td>\n",
       "      <td>0</td>\n",
       "      <td>0</td>\n",
       "      <td>0</td>\n",
       "      <td>0</td>\n",
       "    </tr>\n",
       "    <tr>\n",
       "      <th>7491</th>\n",
       "      <td>Dr Shakir Hussain Malik</td>\n",
       "      <td>307450@amity.edu</td>\n",
       "      <td>ASLAJ/ B.A.(H) - Eco/ BAE401/Sem-4/A/2024-2025...</td>\n",
       "      <td>Statistics for Economics- II</td>\n",
       "      <td>Jaipur</td>\n",
       "      <td>Amity School of Liberal Arts, Jaipur</td>\n",
       "      <td>0</td>\n",
       "      <td>0</td>\n",
       "      <td>0</td>\n",
       "      <td>0</td>\n",
       "      <td>...</td>\n",
       "      <td>0</td>\n",
       "      <td>0</td>\n",
       "      <td>4</td>\n",
       "      <td>0</td>\n",
       "      <td>0</td>\n",
       "      <td>0</td>\n",
       "      <td>0</td>\n",
       "      <td>0</td>\n",
       "      <td>0</td>\n",
       "      <td>0</td>\n",
       "    </tr>\n",
       "    <tr>\n",
       "      <th>7517</th>\n",
       "      <td>Dr Shakir Hussain Malik</td>\n",
       "      <td>307450@amity.edu</td>\n",
       "      <td>ASLAJ/ B.A.(H) - Eco/ BAE601/Sem-6/A/2024-2025...</td>\n",
       "      <td>Econometrics – II</td>\n",
       "      <td>Jaipur</td>\n",
       "      <td>Amity School of Liberal Arts, Jaipur</td>\n",
       "      <td>0</td>\n",
       "      <td>0</td>\n",
       "      <td>0</td>\n",
       "      <td>0</td>\n",
       "      <td>...</td>\n",
       "      <td>0</td>\n",
       "      <td>0</td>\n",
       "      <td>3</td>\n",
       "      <td>0</td>\n",
       "      <td>0</td>\n",
       "      <td>1</td>\n",
       "      <td>0</td>\n",
       "      <td>0</td>\n",
       "      <td>0</td>\n",
       "      <td>0</td>\n",
       "    </tr>\n",
       "    <tr>\n",
       "      <th>7518</th>\n",
       "      <td>Dr Shakir Hussain Malik</td>\n",
       "      <td>307450@amity.edu</td>\n",
       "      <td>ASLAJ/ B.A.(H) - Eco/ BAE603/Sem-6/A/2024-2025...</td>\n",
       "      <td>International Economics</td>\n",
       "      <td>Jaipur</td>\n",
       "      <td>Amity School of Liberal Arts, Jaipur</td>\n",
       "      <td>0</td>\n",
       "      <td>0</td>\n",
       "      <td>0</td>\n",
       "      <td>0</td>\n",
       "      <td>...</td>\n",
       "      <td>0</td>\n",
       "      <td>0</td>\n",
       "      <td>1</td>\n",
       "      <td>0</td>\n",
       "      <td>0</td>\n",
       "      <td>2</td>\n",
       "      <td>0</td>\n",
       "      <td>0</td>\n",
       "      <td>0</td>\n",
       "      <td>0</td>\n",
       "    </tr>\n",
       "  </tbody>\n",
       "</table>\n",
       "<p>7 rows × 32 columns</p>\n",
       "</div>"
      ],
      "text/plain": [
       "                 Faculty Name     Email Address  \\\n",
       "6350  Dr Shakir Hussain Malik  307450@amity.edu   \n",
       "6436  Dr Shakir Hussain Malik  307450@amity.edu   \n",
       "6470  Dr Shakir Hussain Malik  307450@amity.edu   \n",
       "6766  Dr Shakir Hussain Malik  307450@amity.edu   \n",
       "7491  Dr Shakir Hussain Malik  307450@amity.edu   \n",
       "7517  Dr Shakir Hussain Malik  307450@amity.edu   \n",
       "7518  Dr Shakir Hussain Malik  307450@amity.edu   \n",
       "\n",
       "                                           Section Name  \\\n",
       "6350  ALSJ/ BBA LL.B. (H)/ BBA201/Sem-2/B/2024-2025/...   \n",
       "6436  ASLAJ/ B.A. (Economics) (Hons./Hons. with Rese...   \n",
       "6470  ALSJ/ B.Com. LL.B. (H)/ BCH285/Sem-2/C/2024-20...   \n",
       "6766  ASLAJ/ B.A.(H) - Eco/ BAE403/Sem-4/A/2024-2025...   \n",
       "7491  ASLAJ/ B.A.(H) - Eco/ BAE401/Sem-4/A/2024-2025...   \n",
       "7517  ASLAJ/ B.A.(H) - Eco/ BAE601/Sem-6/A/2024-2025...   \n",
       "7518  ASLAJ/ B.A.(H) - Eco/ BAE603/Sem-6/A/2024-2025...   \n",
       "\n",
       "                              Course Name Campus Name  \\\n",
       "6350         Macro Economics for Business      Jaipur   \n",
       "6436  Demography and Economic Development      Jaipur   \n",
       "6470          Macroeconomics for Business      Jaipur   \n",
       "6766                          Game Theory      Jaipur   \n",
       "7491         Statistics for Economics- II      Jaipur   \n",
       "7517                    Econometrics – II      Jaipur   \n",
       "7518              International Economics      Jaipur   \n",
       "\n",
       "                            Institute Name  assign  assignment  \\\n",
       "6350  Amity School of Liberal Arts, Jaipur       0           0   \n",
       "6436  Amity School of Liberal Arts, Jaipur       1           0   \n",
       "6470  Amity School of Liberal Arts, Jaipur       0           0   \n",
       "6766  Amity School of Liberal Arts, Jaipur       0           0   \n",
       "7491  Amity School of Liberal Arts, Jaipur       0           0   \n",
       "7517  Amity School of Liberal Arts, Jaipur       0           0   \n",
       "7518  Amity School of Liberal Arts, Jaipur       0           0   \n",
       "\n",
       "      bigbluebuttonbn  book  ...  page  quiz  resource  scorm  survey  url  \\\n",
       "6350                0     0  ...     0     0         3      0       0    0   \n",
       "6436                0     0  ...     0     0         4      0       0    0   \n",
       "6470                0     0  ...     0     0         3      0       0    0   \n",
       "6766                0     0  ...     0     0         2      0       0    0   \n",
       "7491                0     0  ...     0     0         4      0       0    0   \n",
       "7517                0     0  ...     0     0         3      0       0    1   \n",
       "7518                0     0  ...     0     0         1      0       0    2   \n",
       "\n",
       "      wiki  workshop  vpl  game  \n",
       "6350     0         0    0     0  \n",
       "6436     0         0    0     0  \n",
       "6470     0         0    0     0  \n",
       "6766     0         0    0     0  \n",
       "7491     0         0    0     0  \n",
       "7517     0         0    0     0  \n",
       "7518     0         0    0     0  \n",
       "\n",
       "[7 rows x 32 columns]"
      ]
     },
     "execution_count": 150,
     "metadata": {},
     "output_type": "execute_result"
    }
   ],
   "source": [
    "#searchbyEmailID- AmizoneID\n",
    "dfec[dfec['Email Address'].str.contains('307450', case=False, na=False)]"
   ]
  },
  {
   "cell_type": "code",
   "execution_count": null,
   "id": "c0ed9de0-a4c8-403a-924f-e912725b864b",
   "metadata": {},
   "outputs": [],
   "source": []
  }
 ],
 "metadata": {
  "kernelspec": {
   "display_name": "Python 3 (ipykernel)",
   "language": "python",
   "name": "python3"
  },
  "language_info": {
   "codemirror_mode": {
    "name": "ipython",
    "version": 3
   },
   "file_extension": ".py",
   "mimetype": "text/x-python",
   "name": "python",
   "nbconvert_exporter": "python",
   "pygments_lexer": "ipython3",
   "version": "3.11.5"
  }
 },
 "nbformat": 4,
 "nbformat_minor": 5
}
