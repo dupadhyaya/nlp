{
 "cells": [
  {
   "cell_type": "markdown",
   "id": "dcef0788-ccbf-4122-87f5-2c7b3baea24f",
   "metadata": {},
   "source": [
    "# Create Code to import data from Webpages using Selelinium\n",
    "- https://www.scribd.com/document/562164637/Selenium-Python-Cheatsheet"
   ]
  },
  {
   "cell_type": "markdown",
   "id": "c0b9a51f-e93f-4c48-8da4-4ce83475bed2",
   "metadata": {},
   "source": [
    "## Using Selenium"
   ]
  },
  {
   "cell_type": "code",
   "execution_count": 368,
   "id": "b293f26b-dd3e-4cb4-bfc4-d66b1b349151",
   "metadata": {},
   "outputs": [],
   "source": [
    "from selenium import webdriver\n",
    "from selenium.webdriver.common.by import By\n",
    "import pandas as pd\n",
    "from selenium.webdriver.chrome.service import Service"
   ]
  },
  {
   "cell_type": "markdown",
   "id": "7653ffab-9672-41c7-8409-b158ec1d1cab",
   "metadata": {},
   "source": [
    "# Chrome Version\n",
    "- Version 129.0.6668.71 (Official Build) (arm64)\n",
    "- Latest ChromeDriver 131.0.6778.205 (23Dec24) , 114.0.5735.90\n",
    "- chrome://settings/help\n",
    "- https://developer.chrome.com/docs/chromedriver/downloads"
   ]
  },
  {
   "cell_type": "code",
   "execution_count": 369,
   "id": "a120bff4-9d72-43f3-bf36-778dabc82b78",
   "metadata": {},
   "outputs": [],
   "source": [
    "import time"
   ]
  },
  {
   "cell_type": "code",
   "execution_count": 370,
   "id": "38fa2109-029b-4373-b3d5-d1e4cd16fb61",
   "metadata": {},
   "outputs": [],
   "source": [
    "# Path to your ChromeDriver\n",
    "cdp1 = '/opt/homebrew/bin/chromedriver'  # Replace with the actual path to your chromedriver"
   ]
  },
  {
   "cell_type": "markdown",
   "id": "d883b7d7-b03f-47e0-8ceb-9c65a9fb9f72",
   "metadata": {},
   "source": [
    "??webdriver.chrome"
   ]
  },
  {
   "cell_type": "code",
   "execution_count": 371,
   "id": "702e947d-f9cf-4947-9456-781822ecf560",
   "metadata": {},
   "outputs": [],
   "source": [
    "#!pip install webdriver-manager\n",
    "from webdriver_manager.chrome import ChromeDriverManager"
   ]
  },
  {
   "cell_type": "code",
   "execution_count": 372,
   "id": "4e05d029-1463-4fc9-ab99-8f1ea1eb03c9",
   "metadata": {},
   "outputs": [],
   "source": [
    "cService = webdriver.ChromeService(executable_path=cdp1)\n",
    "driver = webdriver.Chrome(service = cService)"
   ]
  },
  {
   "cell_type": "markdown",
   "id": "33b1a310-55e7-4336-b336-60c961a65a51",
   "metadata": {},
   "source": [
    "## example-1\n",
    "- https://stackoverflow.com/questions/70071495/extracting-nested-elements-using-selenium"
   ]
  },
  {
   "cell_type": "code",
   "execution_count": 6,
   "id": "b80db78b-ad62-44c2-80cc-56f622b77d47",
   "metadata": {},
   "outputs": [
    {
     "data": {
      "text/plain": [
       "'https://www.imoti.net/bg/obiavi/r/prodava/sofia/?sid=hSrJhL'"
      ]
     },
     "execution_count": 6,
     "metadata": {},
     "output_type": "execute_result"
    }
   ],
   "source": [
    "url1 = 'https://www.imoti.net/bg/obiavi/r/prodava/sofia/?sid=hSrJhL'\n",
    "url1"
   ]
  },
  {
   "cell_type": "code",
   "execution_count": 7,
   "id": "8eaed1ae-7aba-4df5-bb0b-12b7fbf679a5",
   "metadata": {},
   "outputs": [],
   "source": [
    "driver.get(url1)\n",
    "time.sleep(5)  # Adjust time if needed, or you can use Selenium's explicit waits"
   ]
  },
  {
   "cell_type": "code",
   "execution_count": 28,
   "id": "d47b56cb-7d2c-4f9c-934e-c7d92f2113c4",
   "metadata": {
    "tags": []
   },
   "outputs": [
    {
     "name": "stdout",
     "output_type": "stream",
     "text": [
      "Недвижими имоти продава - София - Обяви от Imoti.net\n"
     ]
    }
   ],
   "source": [
    "print(driver.title)"
   ]
  },
  {
   "cell_type": "code",
   "execution_count": 31,
   "id": "a6038d83-fd14-49ad-8422-e5936f73f056",
   "metadata": {
    "tags": []
   },
   "outputs": [],
   "source": [
    "driver.refresh()"
   ]
  },
  {
   "cell_type": "code",
   "execution_count": 32,
   "id": "dcb1f9a0-6721-4780-b169-2b869214f9e8",
   "metadata": {
    "tags": []
   },
   "outputs": [
    {
     "name": "stdout",
     "output_type": "stream",
     "text": [
      "[]\n"
     ]
    }
   ],
   "source": [
    "variable = []\n",
    "def testing_values():\n",
    "    variable.append(driver.find_elements(By.CLASS_NAME,'clearfix'))\n",
    "testing_values()\n",
    "print(variable[1:10])"
   ]
  },
  {
   "cell_type": "code",
   "execution_count": 38,
   "id": "62d42a29-a891-4a97-ba6a-d4f94f75c053",
   "metadata": {
    "tags": []
   },
   "outputs": [
    {
     "data": {
      "text/plain": [
       "30"
      ]
     },
     "execution_count": 38,
     "metadata": {},
     "output_type": "execute_result"
    }
   ],
   "source": [
    "fces = driver.find_elements(By.XPATH, \"//li[@class='clearfix']\")\n",
    "len(fces)"
   ]
  },
  {
   "cell_type": "code",
   "execution_count": 33,
   "id": "77ff8939-bb6b-4692-ace7-dbea71110e24",
   "metadata": {
    "tags": []
   },
   "outputs": [],
   "source": [
    "#print using loop"
   ]
  },
  {
   "cell_type": "code",
   "execution_count": 34,
   "id": "3178ec86-d7c5-4e50-ba00-6a5b3baf35d6",
   "metadata": {
    "tags": []
   },
   "outputs": [
    {
     "name": "stdout",
     "output_type": "stream",
     "text": [
      "[['796 М2', '90 М2', '41 М2', '53 М2', '42 М2', '55 М2', '41 М2', '68 М2', '48 М2', '55 М2', '73 М2', '71 М2', '75 М2', '63 М2', '58 М2', '46 М2', '1250 М2', '57 М2', '63 М2', '40 М2', '65 М2', '59 М2', '59 М2', '59 М2', '59 М2', '71 М2', '85 М2', '59 М2', '81 М2', '45 М2']]\n"
     ]
    }
   ],
   "source": [
    "variable = []\n",
    "\n",
    "def testing_values():\n",
    "    variable.append([x.find_element(By.XPATH, \".//div[@class='real-estate-text']/header/div/h3/span[2]\").text for x in driver.find_elements(By.XPATH, \"//li[@class='clearfix']\")])\n",
    "\n",
    "testing_values()\n",
    "print(variable)"
   ]
  },
  {
   "cell_type": "code",
   "execution_count": 36,
   "id": "d7e5a92a-5408-40e9-9978-a3d4bbf4ca84",
   "metadata": {},
   "outputs": [
    {
     "data": {
      "text/plain": [
       "1"
      ]
     },
     "execution_count": 36,
     "metadata": {},
     "output_type": "execute_result"
    }
   ],
   "source": [
    "len(variable)"
   ]
  },
  {
   "cell_type": "code",
   "execution_count": null,
   "id": "a6e8256a-2f33-4f49-b5c3-410caa43a6fa",
   "metadata": {
    "tags": []
   },
   "outputs": [],
   "source": [
    "for i in fces[0:2]:\n",
    "    print(i.text, end =', ')"
   ]
  },
  {
   "cell_type": "code",
   "execution_count": null,
   "id": "ed91d56a-88e8-487b-8840-5597c7fb1695",
   "metadata": {},
   "outputs": [],
   "source": []
  },
  {
   "cell_type": "markdown",
   "id": "dbe1f0fc-b7ae-4bde-941d-6ddbb8c8327f",
   "metadata": {
    "tags": []
   },
   "source": [
    "## Example2\n",
    "- "
   ]
  },
  {
   "cell_type": "code",
   "execution_count": 373,
   "id": "d80e26cf-b990-4a1c-a269-2534723a8ffa",
   "metadata": {
    "tags": []
   },
   "outputs": [],
   "source": [
    "url2 = \"https://mjl.clarivate.com\""
   ]
  },
  {
   "cell_type": "code",
   "execution_count": 374,
   "id": "51bcec4f-dd01-43ff-8fb2-1d2aa2f9f921",
   "metadata": {
    "tags": []
   },
   "outputs": [],
   "source": [
    "driver.get(url2)"
   ]
  },
  {
   "cell_type": "code",
   "execution_count": 375,
   "id": "63484f89-1938-452b-9b60-1ab77e75b985",
   "metadata": {
    "tags": []
   },
   "outputs": [
    {
     "data": {
      "text/plain": [
       "<selenium.webdriver.remote.webelement.WebElement (session=\"e18b3f3ba6954761e336d85cdace9aff\", element=\"f.7EE245B973DAFC68D095F895CD0F0B76.d.A9104065A237992DA266A3FF9895346E.e.89\")>"
      ]
     },
     "execution_count": 375,
     "metadata": {},
     "output_type": "execute_result"
    }
   ],
   "source": [
    "#Close Cookies\n",
    "cbtn = driver.find_element(By.CSS_SELECTOR,'[aria-label=\"Close\"]')\n",
    "cbtn"
   ]
  },
  {
   "cell_type": "code",
   "execution_count": 376,
   "id": "0bba2183-da5f-449c-8459-1e6d2d872ab8",
   "metadata": {
    "tags": []
   },
   "outputs": [],
   "source": [
    "cbtn.click()"
   ]
  },
  {
   "cell_type": "markdown",
   "id": "c04e5e10-ceed-4a7e-9658-407bb8abbbb8",
   "metadata": {},
   "source": [
    "## Search Button\n",
    "- //*[@id=\"search-button\"]/span[2]"
   ]
  },
  {
   "cell_type": "code",
   "execution_count": 377,
   "id": "845047f7-8d74-46ac-a457-f0939fa6e404",
   "metadata": {
    "tags": []
   },
   "outputs": [
    {
     "data": {
      "text/plain": [
       "<selenium.webdriver.remote.webelement.WebElement (session=\"e18b3f3ba6954761e336d85cdace9aff\", element=\"f.7EE245B973DAFC68D095F895CD0F0B76.d.A9104065A237992DA266A3FF9895346E.e.68\")>"
      ]
     },
     "execution_count": 377,
     "metadata": {},
     "output_type": "execute_result"
    }
   ],
   "source": [
    "xpathSer = driver.find_element(By.XPATH ,'//*[@id=\"search-button\"]/span[2]')\n",
    "xpathSer"
   ]
  },
  {
   "cell_type": "code",
   "execution_count": 378,
   "id": "1d7c07fc-8c44-4edb-91da-b698940c05bc",
   "metadata": {
    "tags": []
   },
   "outputs": [],
   "source": [
    "xpathSer.click()"
   ]
  },
  {
   "cell_type": "markdown",
   "id": "e9aaeb96-8e4c-40b1-8897-e07b5f80138e",
   "metadata": {},
   "source": [
    "## active Filters\n",
    "- /html/body/cdx-app/mat-sidenav-container/mat-sidenav-content/main/can-home-page/div/div/div/mat-sidenav-container/mat-sidenav-content/mat-chip-set/div/mat-chip[1]/span[2]/span/span/div/span"
   ]
  },
  {
   "cell_type": "code",
   "execution_count": 223,
   "id": "a8021ab6-9407-4d4d-8596-8d225392355d",
   "metadata": {
    "tags": []
   },
   "outputs": [
    {
     "data": {
      "text/plain": [
       "4"
      ]
     },
     "execution_count": 223,
     "metadata": {},
     "output_type": "execute_result"
    }
   ],
   "source": [
    "afE = driver.find_elements(By.XPATH, xpathAF)\n",
    "len(afEE) #no of active filters"
   ]
  },
  {
   "cell_type": "code",
   "execution_count": 224,
   "id": "259cc144-36f0-457d-a8cc-237755ac9e57",
   "metadata": {
    "tags": []
   },
   "outputs": [
    {
     "name": "stdout",
     "output_type": "stream",
     "text": [
      "SCIENCE CITATION INDEX EXPANDED (SCIE)\n",
      "SOCIAL SCIENCES CITATION INDEX (SSCI)\n",
      "ARTS & HUMANITIES CITATION INDEX (AHCI)\n",
      "EMERGING SOURCES CITATION INDEX (ESCI)\n"
     ]
    }
   ],
   "source": [
    "for i in afE:   print(i.text)"
   ]
  },
  {
   "cell_type": "markdown",
   "id": "37dc4003-6ba4-4a6d-bdf7-5f163af50516",
   "metadata": {},
   "source": [
    "## Cards in the current Page"
   ]
  },
  {
   "cell_type": "code",
   "execution_count": 225,
   "id": "176afbc7-facf-404b-b6af-dd6cc9a887eb",
   "metadata": {
    "tags": []
   },
   "outputs": [
    {
     "data": {
      "text/plain": [
       "[]"
      ]
     },
     "execution_count": 225,
     "metadata": {},
     "output_type": "execute_result"
    }
   ],
   "source": [
    "cards = driver.find_elements(By.CSS_SELECTOR ,\"div[class='div.ng-start-inserted']\")\n",
    "cards"
   ]
  },
  {
   "cell_type": "code",
   "execution_count": 234,
   "id": "6b5810f7-f167-486d-b39b-e7a620ef71f5",
   "metadata": {
    "tags": []
   },
   "outputs": [],
   "source": [
    "xpathCards = '/html/body/cdx-app/mat-sidenav-container/mat-sidenav-content/main/can-home-page/div/div/div/mat-sidenav-container/mat-sidenav-content/app-journal-search-results/div[3]/div/mat-card'"
   ]
  },
  {
   "cell_type": "code",
   "execution_count": 235,
   "id": "d350876c-52ec-4a9e-8a9f-e269559a2b07",
   "metadata": {
    "tags": []
   },
   "outputs": [
    {
     "data": {
      "text/plain": [
       "10"
      ]
     },
     "execution_count": 235,
     "metadata": {},
     "output_type": "execute_result"
    }
   ],
   "source": [
    "cardE = driver.find_elements(By.XPATH, xpathCards)\n",
    "len(cardE)  #no of cards in the page"
   ]
  },
  {
   "cell_type": "code",
   "execution_count": 236,
   "id": "a13a927e-106b-4f1e-8aac-e4705dc07526",
   "metadata": {
    "tags": []
   },
   "outputs": [
    {
     "name": "stdout",
     "output_type": "stream",
     "text": [
      "20 ET 21-REVUE D HISTOIRE\n",
      "Publisher:\n",
      "PRESSES SCIENCES PO , 28 Rue Saint Guillaume, PARIS, France, 75017\n",
      "ISSN / eISSN:\n",
      "2649-664X / 2649-6100\n",
      "Web of Science Core Collection:\n",
      "Arts & Humanities Citation Index\n",
      "share\n",
      "Share This Journal\n",
      "View profile page\n",
      " * Requires free login.\n",
      "-------------\n",
      "2D MATERIALS\n",
      "Publisher:\n",
      "IOP PUBLISHING LTD , TEMPLE CIRCUS, TEMPLE WAY, BRISTOL, ENGLAND, BS1 6BE\n",
      "ISSN / eISSN:\n",
      "2053-1583\n",
      "Web of Science Core Collection:\n",
      "Science Citation Index Expanded\n",
      "Additional Web of Science Indexes:\n",
      "Current Contents Physical, Chemical & Earth Sciences | Essential Science Indicators\n",
      "share\n",
      "Share This Journal\n",
      "View profile page\n",
      " * Requires free login.\n",
      "-------------\n"
     ]
    }
   ],
   "source": [
    "#print data in each card - this will list all data\n",
    "for i in cards2[0:2]:\n",
    "    print(i.text, sep=', ')\n",
    "    print('-------------')"
   ]
  },
  {
   "cell_type": "markdown",
   "id": "2adc9d41-b207-40b1-b48f-49ae27b79bda",
   "metadata": {},
   "source": [
    "## Tile of each page\n",
    "- \"/html/body/cdx-app/mat-sidenav-container/mat-sidenav-content/main/can-home-page/div/div/div/mat-sidenav-container/mat-sidenav-content/app-journal-search-results/div[3]/div/mat-card/mat-card-title\"\n"
   ]
  },
  {
   "cell_type": "code",
   "execution_count": 238,
   "id": "e49fd4d9-f16a-454a-8e1b-ff691027abbb",
   "metadata": {
    "tags": []
   },
   "outputs": [],
   "source": [
    "xpathTitle = \"/html/body/cdx-app/mat-sidenav-container/mat-sidenav-content/main/can-home-page/div/div/div/mat-sidenav-container/mat-sidenav-content/app-journal-search-results/div[3]/div/mat-card/mat-card-title\""
   ]
  },
  {
   "cell_type": "code",
   "execution_count": 239,
   "id": "dd75c8db-d5b4-4ab7-b06d-83ca51291e08",
   "metadata": {
    "tags": []
   },
   "outputs": [
    {
     "data": {
      "text/plain": [
       "10"
      ]
     },
     "execution_count": 239,
     "metadata": {},
     "output_type": "execute_result"
    }
   ],
   "source": [
    "titlesE = driver.find_elements(By.XPATH , xpathTitle)\n",
    "len(titlesE)"
   ]
  },
  {
   "cell_type": "code",
   "execution_count": 242,
   "id": "48fefc1d-8a24-4a03-8930-05e1d6c27fe2",
   "metadata": {
    "tags": []
   },
   "outputs": [
    {
     "name": "stdout",
     "output_type": "stream",
     "text": [
      "20 ET 21-REVUE D HISTOIRE\n",
      "2D MATERIALS\n",
      "3 BIOTECH\n",
      "3C EMPRESA\n",
      "3C TECNOLOGIA\n",
      "3C TIC\n",
      "3D PRINTING AND ADDITIVE MANUFACTURING\n",
      "3D PRINTING IN MEDICINE\n",
      "3L-LANGUAGE LINGUISTICS LITERATURE-THE SOUTHEAST ASIAN JOURNAL OF ENGLISH LANGUAGE STUDIES\n",
      "452 F-REVISTA DE TEORIA DE LA LITERATURA Y LITERATURA COMPARADA\n"
     ]
    }
   ],
   "source": [
    "for i in titlesE:\n",
    "    print(i.text, end ='\\n')"
   ]
  },
  {
   "cell_type": "code",
   "execution_count": null,
   "id": "470c7d22-0bcb-4d0a-be4a-7c6267083210",
   "metadata": {},
   "outputs": [],
   "source": [
    "## Publisher\n",
    "- it containers Publisher, ISSN, WoS Collection, Additional Indexes"
   ]
  },
  {
   "cell_type": "code",
   "execution_count": 267,
   "id": "b0b2bbca-2c5e-4be8-9a13-d6e413476aa9",
   "metadata": {
    "tags": []
   },
   "outputs": [],
   "source": [
    "xpathPub ='/html/body/cdx-app/mat-sidenav-container/mat-sidenav-content/main/can-home-page/div/div/div/mat-sidenav-container/mat-sidenav-content/app-journal-search-results/div[3]/div/mat-card/mat-card-content[1]'"
   ]
  },
  {
   "cell_type": "code",
   "execution_count": 268,
   "id": "15dcd9ff-af8c-4cae-aa27-fbef368291a4",
   "metadata": {
    "tags": []
   },
   "outputs": [
    {
     "data": {
      "text/plain": [
       "10"
      ]
     },
     "execution_count": 268,
     "metadata": {},
     "output_type": "execute_result"
    }
   ],
   "source": [
    "pubE = driver.find_elements(By.XPATH, xpathPub)\n",
    "len(pubE)"
   ]
  },
  {
   "cell_type": "code",
   "execution_count": 274,
   "id": "f2aa8865-a470-4045-a4d6-55c359285e62",
   "metadata": {
    "tags": []
   },
   "outputs": [
    {
     "name": "stdout",
     "output_type": "stream",
     "text": [
      "Publisher:\n",
      "PRESSES SCIENCES PO , 28 Rue Saint Guillaume, PARIS, France, 75017\n",
      "ISSN / eISSN:\n",
      "2649-664X / 2649-6100\n",
      "Web of Science Core Collection:\n",
      "Arts & Humanities Citation Index\n",
      "------------\n",
      "Publisher:\n",
      "IOP PUBLISHING LTD , TEMPLE CIRCUS, TEMPLE WAY, BRISTOL, ENGLAND, BS1 6BE\n",
      "ISSN / eISSN:\n",
      "2053-1583\n",
      "Web of Science Core Collection:\n",
      "Science Citation Index Expanded\n",
      "Additional Web of Science Indexes:\n",
      "Current Contents Physical, Chemical & Earth Sciences | Essential Science Indicators\n",
      "------------\n"
     ]
    }
   ],
   "source": [
    "for i in pubE[0:2]:\n",
    "    print(i.text, sep=', ')\n",
    "    print('------------')"
   ]
  },
  {
   "cell_type": "markdown",
   "id": "bbcac444-bd8c-4b5c-bf2e-e9473611c230",
   "metadata": {},
   "source": [
    "## Publisher Only\n",
    "- /html/body/cdx-app/mat-sidenav-container/mat-sidenav-content/main/can-home-page/div/div/div/mat-sidenav-container/mat-sidenav-content/app-journal-search-results/div[3]/div[1]/mat-card/mat-card-content[1]/div[2]/div/div[1]/div[2]"
   ]
  },
  {
   "cell_type": "code",
   "execution_count": 338,
   "id": "e68bed20-ab5c-46d4-8fde-1e2697bc9b3d",
   "metadata": {
    "tags": []
   },
   "outputs": [],
   "source": [
    "xpathP2 = '/html/body/cdx-app/mat-sidenav-container/mat-sidenav-content/main/can-home-page/div/div/div/mat-sidenav-container/mat-sidenav-content/app-journal-search-results/div[3]/div/mat-card/mat-card-content[1]/div/div/div[1]/div[2]'"
   ]
  },
  {
   "cell_type": "code",
   "execution_count": 339,
   "id": "8009844c-537d-4d0c-b9ef-76eb7f9081eb",
   "metadata": {
    "tags": []
   },
   "outputs": [
    {
     "data": {
      "text/plain": [
       "10"
      ]
     },
     "execution_count": 339,
     "metadata": {},
     "output_type": "execute_result"
    }
   ],
   "source": [
    "pub2E = driver.find_elements(By.XPATH, xpathP2)\n",
    "len(pub2E)"
   ]
  },
  {
   "cell_type": "code",
   "execution_count": 340,
   "id": "43c9606f-a28b-48d6-a949-fa0041146e2d",
   "metadata": {
    "tags": []
   },
   "outputs": [
    {
     "name": "stdout",
     "output_type": "stream",
     "text": [
      "PRESSES SCIENCES PO , 28 Rue Saint Guillaume, PARIS, France, 75017\n",
      "------------\n",
      "IOP PUBLISHING LTD , TEMPLE CIRCUS, TEMPLE WAY, BRISTOL, ENGLAND, BS1 6BE\n",
      "------------\n",
      "SPRINGER HEIDELBERG , TIERGARTENSTRASSE 17, HEIDELBERG, GERMANY, D-69121\n",
      "------------\n",
      "AREA INNOVACION & DESARROLLO , C/ELS ALZAMORA NO 17, ALCOY, ALICANTE, SPAIN, 03802\n",
      "------------\n",
      "3CIENCIAS , C/ SANTA ROSA 15, ALCOY, SPAIN, 03802\n",
      "------------\n",
      "AREA INNOVACION & DESARROLLO , C/ELS ALZAMORA NO 17, ALCOY, ALICANTE, SPAIN, 03802\n",
      "------------\n",
      "MARY ANN LIEBERT, INC , 140 HUGUENOT STREET, 3RD FL, NEW ROCHELLE, USA, NY, 10801\n",
      "------------\n",
      "SPRINGERNATURE , CAMPUS, 4 CRINAN ST, LONDON, ENGLAND, N1 9XW\n",
      "------------\n",
      "PENERBIT UNIV KEBANGSAAN MALAYSIA , PENERBIT UNIV KEBANGSAAN MALAYSIA, FAC SOCIAL SCIENCES & HUMANITIES, BANGI, Malaysia, SELANGOR, 43600\n",
      "------------\n",
      "UNIV BARCELONA, FACULTAD FILOLOGIA , GRAN VIA DE LES CORTS CATALANES, 585, BARCELONA, SPAIN, 08007\n",
      "------------\n"
     ]
    }
   ],
   "source": [
    "for i in pub2E:\n",
    "    print(i.text, sep=', ')\n",
    "    print('------------')"
   ]
  },
  {
   "cell_type": "markdown",
   "id": "99684334-f5f4-43e9-8a47-69627cf74d7e",
   "metadata": {},
   "source": [
    "## ISSN Number only\n",
    "- "
   ]
  },
  {
   "cell_type": "code",
   "execution_count": 341,
   "id": "560e714e-c368-42a5-82f0-660df6f98d5d",
   "metadata": {
    "tags": []
   },
   "outputs": [],
   "source": [
    "xpathI ='/html/body/cdx-app/mat-sidenav-container/mat-sidenav-content/main/can-home-page/div/div/div/mat-sidenav-container/mat-sidenav-content/app-journal-search-results/div[3]/div/mat-card/mat-card-content[1]/div[2]/div/div[2]/div[2]'"
   ]
  },
  {
   "cell_type": "code",
   "execution_count": 342,
   "id": "261cef61-d564-4d38-9d78-a5c842250376",
   "metadata": {
    "tags": []
   },
   "outputs": [
    {
     "data": {
      "text/plain": [
       "10"
      ]
     },
     "execution_count": 342,
     "metadata": {},
     "output_type": "execute_result"
    }
   ],
   "source": [
    "issnE = driver.find_elements(By.XPATH, xpathI)\n",
    "len(issnE)"
   ]
  },
  {
   "cell_type": "code",
   "execution_count": 344,
   "id": "33690da4-3908-4d2e-b098-940b77486776",
   "metadata": {
    "tags": []
   },
   "outputs": [
    {
     "name": "stdout",
     "output_type": "stream",
     "text": [
      "2649-664X / 2649-6100\n",
      "------\n",
      "2053-1583\n",
      "------\n",
      "2190-572X / 2190-5738\n",
      "------\n",
      "2254-3376\n",
      "------\n",
      "2254-4143\n",
      "------\n",
      "2254-6529\n",
      "------\n",
      "2329-7662 / 2329-7670\n",
      "------\n",
      "2365-6271\n",
      "------\n",
      "0128-5157 / 2550-2247\n",
      "------\n",
      "2013-3294\n",
      "------\n"
     ]
    }
   ],
   "source": [
    "for i in issnE:\n",
    "    print(i.text, end ='\\n')\n",
    "    print('------')"
   ]
  },
  {
   "cell_type": "code",
   "execution_count": 408,
   "id": "db155720-9788-4075-9cfe-a3037a91292a",
   "metadata": {},
   "outputs": [
    {
     "name": "stdout",
     "output_type": "stream",
     "text": [
      "Count  10\n",
      "2649-664X / 2649-6100, 2053-1583, 2190-572X / 2190-5738, 2254-3376, 2254-4143, 2254-6529, 2329-7662 / 2329-7670, 2365-6271, 0128-5157 / 2550-2247, 2013-3294, "
     ]
    }
   ],
   "source": [
    "xpathI2 ='//mat-card-content[1]/div[2]/div/div[2]/div[2]'\n",
    "issnE2 = driver.find_elements(By.XPATH, xpathI2)\n",
    "print('Count ', len(issnE2))\n",
    "for i in issnE2:\n",
    "    print(i.text, end =', ')"
   ]
  },
  {
   "cell_type": "markdown",
   "id": "f7026484-5ade-4c78-a89a-51300cc39573",
   "metadata": {},
   "source": [
    "## WoS Collection\n",
    "- /html/body/cdx-app/mat-sidenav-container/mat-sidenav-content/main/can-home-page/div/div/div/mat-sidenav-container/mat-sidenav-content/app-journal-search-results/div[3]/div[2]/mat-card/mat-card-content[1]/div[2]/div/div[3]/div[2]"
   ]
  },
  {
   "cell_type": "code",
   "execution_count": 412,
   "id": "06deef34-0ecd-4fd3-b64a-d8eda2d409ee",
   "metadata": {
    "tags": []
   },
   "outputs": [],
   "source": [
    "xpathC ='/html/body/cdx-app/mat-sidenav-container/mat-sidenav-content/main/can-home-page/div/div/div/mat-sidenav-container/mat-sidenav-content/app-journal-search-results/div[3]/div/mat-card/mat-card-content[1]/div[2]/div/div[3]/div[2]'"
   ]
  },
  {
   "cell_type": "code",
   "execution_count": 413,
   "id": "fec86a1a-b4c2-46bc-8427-bd8f350ac5f4",
   "metadata": {
    "tags": []
   },
   "outputs": [
    {
     "data": {
      "text/plain": [
       "10"
      ]
     },
     "execution_count": 413,
     "metadata": {},
     "output_type": "execute_result"
    }
   ],
   "source": [
    "collE = driver.find_elements(By.XPATH, xpathC)\n",
    "len(collE)"
   ]
  },
  {
   "cell_type": "code",
   "execution_count": 414,
   "id": "ff9cffb9-cf19-4bd1-85fd-25cb28f076cd",
   "metadata": {
    "tags": []
   },
   "outputs": [
    {
     "name": "stdout",
     "output_type": "stream",
     "text": [
      "Arts & Humanities Citation Index, Science Citation Index Expanded, Science Citation Index Expanded, Emerging Sources Citation Index, Emerging Sources Citation Index, Emerging Sources Citation Index, Science Citation Index Expanded, Emerging Sources Citation Index, Emerging Sources Citation Index, Emerging Sources Citation Index, "
     ]
    }
   ],
   "source": [
    "for i in collE: print(i.text, end =', ')"
   ]
  },
  {
   "cell_type": "code",
   "execution_count": 402,
   "id": "3f1a80ae-0900-4847-a8d1-6bb688dceccc",
   "metadata": {
    "tags": []
   },
   "outputs": [],
   "source": [
    "xpathC2 ='//mat-card-content[1]/div[2]/div/div[3]/div[2]'"
   ]
  },
  {
   "cell_type": "code",
   "execution_count": 403,
   "id": "23a1c9e1-fd26-4a6d-9886-d54fed32177e",
   "metadata": {
    "tags": []
   },
   "outputs": [
    {
     "data": {
      "text/plain": [
       "10"
      ]
     },
     "execution_count": 403,
     "metadata": {},
     "output_type": "execute_result"
    }
   ],
   "source": [
    "collE2 = driver.find_elements(By.XPATH, xpathC2)\n",
    "len(collE2)"
   ]
  },
  {
   "cell_type": "code",
   "execution_count": 409,
   "id": "75ee10bc-7c8b-41ec-8030-47f9e24e2ece",
   "metadata": {
    "tags": []
   },
   "outputs": [
    {
     "name": "stdout",
     "output_type": "stream",
     "text": [
      "Count  10\n",
      "Arts & Humanities Citation Index; Science Citation Index Expanded; Science Citation Index Expanded; Emerging Sources Citation Index; Emerging Sources Citation Index; Emerging Sources Citation Index; Science Citation Index Expanded; Emerging Sources Citation Index; Emerging Sources Citation Index; Emerging Sources Citation Index; "
     ]
    }
   ],
   "source": [
    "print('Count ', len(collE2))\n",
    "for i in collE2:\n",
    "    print(i.text, end ='; ')"
   ]
  },
  {
   "cell_type": "markdown",
   "id": "95c9de00-d6a3-4198-8074-203fc841c7cd",
   "metadata": {},
   "source": [
    "## Additional WoS Indexes\n",
    "-  "
   ]
  },
  {
   "cell_type": "code",
   "execution_count": 354,
   "id": "b3d2ba2b-8a10-48f5-be34-d4990d13a9fe",
   "metadata": {
    "tags": []
   },
   "outputs": [],
   "source": [
    "xpathAI ='/html/body/cdx-app/mat-sidenav-container/mat-sidenav-content/main/can-home-page/div/div/div/mat-sidenav-container/mat-sidenav-content/app-journal-search-results/div[3]/div/mat-card/mat-card-content[1]/div[2]/div/div[4]/div[2]'"
   ]
  },
  {
   "cell_type": "code",
   "execution_count": 355,
   "id": "09adb738-1009-43d1-a97c-99de4e91fcb0",
   "metadata": {
    "tags": []
   },
   "outputs": [
    {
     "data": {
      "text/plain": [
       "3"
      ]
     },
     "execution_count": 355,
     "metadata": {},
     "output_type": "execute_result"
    }
   ],
   "source": [
    "aiE = driver.find_elements(By.XPATH, xpathAI)\n",
    "len(aiE)"
   ]
  },
  {
   "cell_type": "code",
   "execution_count": 356,
   "id": "a7cc99bc-bab5-4b9e-99b3-73d2760db7e1",
   "metadata": {
    "tags": []
   },
   "outputs": [
    {
     "name": "stdout",
     "output_type": "stream",
     "text": [
      "Current Contents Physical, Chemical & Earth Sciences | Essential Science Indicators\n",
      " -------\n",
      "Biological Abstracts | BIOSIS Previews | Current Contents Life Sciences | Essential Science Indicators\n",
      " -------\n",
      "Current Contents Engineering, Computing & Technology | Essential Science Indicators\n",
      " -------\n"
     ]
    }
   ],
   "source": [
    "for i in aiE :\n",
    "    print(i.text, end ='\\n ')\n",
    "    print('-------')"
   ]
  },
  {
   "cell_type": "code",
   "execution_count": 399,
   "id": "1a39cb0b-92e5-4958-b047-3f4eea6b611b",
   "metadata": {
    "tags": []
   },
   "outputs": [],
   "source": [
    "#shorter way\n",
    "xpathAI2 = '//div[@class=\"search-results\"]//div[@class=\"search-results-row ng-star-inserted\"][4]//div[@class=\"search-results-value\"]'"
   ]
  },
  {
   "cell_type": "code",
   "execution_count": 400,
   "id": "3f2ab3bd-81c7-46da-b410-87891c689dca",
   "metadata": {
    "tags": []
   },
   "outputs": [
    {
     "data": {
      "text/plain": [
       "3"
      ]
     },
     "execution_count": 400,
     "metadata": {},
     "output_type": "execute_result"
    }
   ],
   "source": [
    "aiE2 = driver.find_elements(By.XPATH, xpathAI2)\n",
    "len(aiE2)"
   ]
  },
  {
   "cell_type": "code",
   "execution_count": 410,
   "id": "6d89f8ec-d8c5-4e8e-ac5e-0b66aa83b0eb",
   "metadata": {
    "tags": []
   },
   "outputs": [
    {
     "name": "stdout",
     "output_type": "stream",
     "text": [
      "Count  3\n",
      "Current Contents Physical, Chemical & Earth Sciences | Essential Science Indicators; Biological Abstracts | BIOSIS Previews | Current Contents Life Sciences | Essential Science Indicators; Current Contents Engineering, Computing & Technology | Essential Science Indicators; "
     ]
    }
   ],
   "source": [
    "print('Count ', len(aiE2))\n",
    "for i in aiE2 :\n",
    "    print(i.text, end ='; ')"
   ]
  },
  {
   "cell_type": "markdown",
   "id": "0f59dba6-fea7-4523-9ebb-51a7b80c208b",
   "metadata": {},
   "source": [
    "## All unique elements in the page\n",
    "-  "
   ]
  },
  {
   "cell_type": "code",
   "execution_count": 351,
   "id": "23853dd1-5e9c-4e89-b4d7-ed142d245856",
   "metadata": {
    "tags": []
   },
   "outputs": [],
   "source": [
    "elems = driver.find_elements(By.TAG_NAME,'*')\n",
    "\n",
    "tags = [x.tag_name for x in elems]"
   ]
  },
  {
   "cell_type": "code",
   "execution_count": 352,
   "id": "e483570c-5ff6-4006-8220-726542b94f1f",
   "metadata": {
    "tags": []
   },
   "outputs": [
    {
     "name": "stdout",
     "output_type": "stream",
     "text": [
      "{'h4', 'header', 'p', 'mat-card', 'strong', 'a', 'mat-form-field', 'cdx-header-global', 'app-main-menu', 'router-outlet', 'app-manuscript-matcher-jargon-filter', 'section', 'mat-sidenav', 'cdx-app', 'mat-icon', 'mat-panel-title', 'mat-slide-toggle', 'b', 'body', 'i', 'style', 'em', 'meta', 'noscript', 'main', 'mat-expansion-panel', 'hr', 'label', 'footer', 'mat-autocomplete', 'mat-chip-set', 'mat-menu', 'mat-select', 'br', 'mat-divider', 'head', 'path', 'app-sidenav-list', 'app-journal-search-results', 'link', 'mat-paginator', 'mat-sidenav-content', 'can-home-page', 'title', 'g', 'mat-chip', 'mat-card-header', 'iframe', 'mat-checkbox', 'app-journal-search-box', 'img', 'app-journal-filters', 'div', 'app-user-actions-list', 'mat-sidenav-container', 'span', 'mat-card-title', 'svg', 'mat-card-content', 'h2', 'can-footer', 'form', 'li', 'script', 'mat-accordion', 'can-header', 'html', 'base', 'mat-expansion-panel-header', 'h3', 'h1', 'ul', 'input', 'button'}, "
     ]
    }
   ],
   "source": [
    "print(set(tags), end =', ')"
   ]
  },
  {
   "cell_type": "code",
   "execution_count": 188,
   "id": "30fde337-9a81-40ec-8a18-c70900148b21",
   "metadata": {
    "tags": []
   },
   "outputs": [],
   "source": [
    "# Different Elements\n",
    "#driver.quit()"
   ]
  },
  {
   "cell_type": "code",
   "execution_count": 353,
   "id": "efe5a1cd-d0bc-4ef1-829c-30d2dc82db0c",
   "metadata": {
    "tags": []
   },
   "outputs": [
    {
     "name": "stdout",
     "output_type": "stream",
     "text": [
      "Publisher:\n",
      "PRESSES SCIENCES PO , 28 Rue Saint Guillaume, PARIS, France, 75017\n",
      "ISSN / eISSN:\n",
      "2649-664X / 2649-6100\n",
      "Web of Science Core Collection:\n",
      "Arts & Humanities Citation Index\n",
      "Publisher:\n",
      "IOP PUBLISHING LTD , TEMPLE CIRCUS, TEMPLE WAY, BRISTOL, ENGLAND, BS1 6BE\n",
      "ISSN / eISSN:\n",
      "2053-1583\n",
      "Web of Science Core Collection:\n",
      "Science Citation Index Expanded\n",
      "Additional Web of Science Indexes:\n",
      "Current Contents Physical, Chemical & Earth Sciences | Essential Science Indicators\n",
      "Publisher:\n",
      "SPRINGER HEIDELBERG , TIERGARTENSTRASSE 17, HEIDELBERG, GERMANY, D-69121\n",
      "ISSN / eISSN:\n",
      "2190-572X / 2190-5738\n",
      "Web of Science Core Collection:\n",
      "Science Citation Index Expanded\n",
      "Additional Web of Science Indexes:\n",
      "Biological Abstracts | BIOSIS Previews | Current Contents Life Sciences | Essential Science Indicators\n",
      "Publisher:\n",
      "AREA INNOVACION & DESARROLLO , C/ELS ALZAMORA NO 17, ALCOY, ALICANTE, SPAIN, 03802\n",
      "ISSN / eISSN:\n",
      "2254-3376\n",
      "Web of Science Core Collection:\n",
      "Emerging Sources Citation Index\n",
      "Publisher:\n",
      "3CIENCIAS , C/ SANTA ROSA 15, ALCOY, SPAIN, 03802\n",
      "ISSN / eISSN:\n",
      "2254-4143\n",
      "Web of Science Core Collection:\n",
      "Emerging Sources Citation Index\n",
      "Publisher:\n",
      "AREA INNOVACION & DESARROLLO , C/ELS ALZAMORA NO 17, ALCOY, ALICANTE, SPAIN, 03802\n",
      "ISSN / eISSN:\n",
      "2254-6529\n",
      "Web of Science Core Collection:\n",
      "Emerging Sources Citation Index\n",
      "Publisher:\n",
      "MARY ANN LIEBERT, INC , 140 HUGUENOT STREET, 3RD FL, NEW ROCHELLE, USA, NY, 10801\n",
      "ISSN / eISSN:\n",
      "2329-7662 / 2329-7670\n",
      "Web of Science Core Collection:\n",
      "Science Citation Index Expanded\n",
      "Additional Web of Science Indexes:\n",
      "Current Contents Engineering, Computing & Technology | Essential Science Indicators\n",
      "Publisher:\n",
      "SPRINGERNATURE , CAMPUS, 4 CRINAN ST, LONDON, ENGLAND, N1 9XW\n",
      "ISSN / eISSN:\n",
      "2365-6271\n",
      "Web of Science Core Collection:\n",
      "Emerging Sources Citation Index\n",
      "Publisher:\n",
      "PENERBIT UNIV KEBANGSAAN MALAYSIA , PENERBIT UNIV KEBANGSAAN MALAYSIA, FAC SOCIAL SCIENCES & HUMANITIES, BANGI, Malaysia, SELANGOR, 43600\n",
      "ISSN / eISSN:\n",
      "0128-5157 / 2550-2247\n",
      "Web of Science Core Collection:\n",
      "Emerging Sources Citation Index\n",
      "Publisher:\n",
      "UNIV BARCELONA, FACULTAD FILOLOGIA , GRAN VIA DE LES CORTS CATALANES, 585, BARCELONA, SPAIN, 08007\n",
      "ISSN / eISSN:\n",
      "2013-3294\n",
      "Web of Science Core Collection:\n",
      "Emerging Sources Citation Index\n"
     ]
    }
   ],
   "source": [
    "listDiv = driver.find_elements(By.XPATH, \"//div[contains(@class, 'search-results-row ng-star-inserted')]\")\n",
    "for a in listDiv:\n",
    "    a.find_element(By.CLASS_NAME ,\"search-results-value\")\n",
    "    a.click()\n",
    "    #print(len(a))\n",
    "    print(a.text)\n"
   ]
  },
  {
   "cell_type": "markdown",
   "id": "03f6ed74-4fed-4a60-b457-40fdc7b00a50",
   "metadata": {},
   "source": [
    "## Next Page\n",
    "-  "
   ]
  },
  {
   "cell_type": "code",
   "execution_count": null,
   "id": "1f10ac76-8c58-41b3-b75a-a5d2f7792267",
   "metadata": {},
   "outputs": [],
   "source": [
    "/html/body/cdx-app/mat-sidenav-container/mat-sidenav-content/main/can-home-page/div/div/div/mat-sidenav-container/mat-sidenav-content/app-journal-search-results/div[3]/div[11]/mat-paginator/div/div/div[2]/button[3]/span[3]"
   ]
  },
  {
   "cell_type": "code",
   "execution_count": 415,
   "id": "9eb21ed2-fa50-4b17-add6-18aeabbd8c12",
   "metadata": {
    "tags": []
   },
   "outputs": [
    {
     "data": {
      "text/plain": [
       "<selenium.webdriver.remote.webelement.WebElement (session=\"e18b3f3ba6954761e336d85cdace9aff\", element=\"f.7EE245B973DAFC68D095F895CD0F0B76.d.A9104065A237992DA266A3FF9895346E.e.4936\")>"
      ]
     },
     "execution_count": 415,
     "metadata": {},
     "output_type": "execute_result"
    }
   ],
   "source": [
    "pbtn = driver.find_element(By.CSS_SELECTOR, '[aria-label=\"Previous page\"]')\n",
    "pbtn"
   ]
  },
  {
   "cell_type": "code",
   "execution_count": 421,
   "id": "2390bf3d-e63d-4226-96cf-ad2c828731aa",
   "metadata": {
    "tags": []
   },
   "outputs": [],
   "source": [
    "from selenium.common.exceptions import WebDriverException"
   ]
  },
  {
   "cell_type": "code",
   "execution_count": 447,
   "id": "f51e0fb5-8615-45a7-a995-49df95d3563e",
   "metadata": {
    "tags": []
   },
   "outputs": [
    {
     "name": "stdout",
     "output_type": "stream",
     "text": [
      "Previous Page Element is not clickable\n"
     ]
    }
   ],
   "source": [
    "#pbtn.click()\n",
    "try:\n",
    "    pbtn.click()\n",
    "except WebDriverException:\n",
    "    print(\"Previous Page Element is not clickable\")"
   ]
  },
  {
   "cell_type": "code",
   "execution_count": 477,
   "id": "58080315-b738-4fce-946d-6db6e1a2d8b9",
   "metadata": {
    "tags": []
   },
   "outputs": [
    {
     "ename": "WebDriverException",
     "evalue": "Message: disconnected: not connected to DevTools\n  (failed to check if window was closed: disconnected: not connected to DevTools)\n  (Session info: chrome=131.0.6778.205)\nStacktrace:\n0   chromedriver                        0x0000000104ad7184 cxxbridge1$str$ptr + 3626716\n1   chromedriver                        0x0000000104acf9d4 cxxbridge1$str$ptr + 3596076\n2   chromedriver                        0x000000010453c968 cxxbridge1$string$len + 89228\n3   chromedriver                        0x00000001045268d4 core::str::slice_error_fail::ha0e52dbcb60e6bae + 63828\n4   chromedriver                        0x0000000104526804 core::str::slice_error_fail::ha0e52dbcb60e6bae + 63620\n5   chromedriver                        0x00000001045b9c40 cxxbridge1$string$len + 601956\n6   chromedriver                        0x0000000104575568 cxxbridge1$string$len + 321676\n7   chromedriver                        0x00000001045761b8 cxxbridge1$string$len + 324828\n8   chromedriver                        0x0000000104aa29ac cxxbridge1$str$ptr + 3411716\n9   chromedriver                        0x0000000104aa5ccc cxxbridge1$str$ptr + 3424804\n10  chromedriver                        0x0000000104a8986c cxxbridge1$str$ptr + 3308996\n11  chromedriver                        0x0000000104aa658c cxxbridge1$str$ptr + 3427044\n12  chromedriver                        0x0000000104a7b09c cxxbridge1$str$ptr + 3249652\n13  chromedriver                        0x0000000104ac04b8 cxxbridge1$str$ptr + 3533328\n14  chromedriver                        0x0000000104ac0634 cxxbridge1$str$ptr + 3533708\n15  chromedriver                        0x0000000104acf648 cxxbridge1$str$ptr + 3595168\n16  libsystem_pthread.dylib             0x000000019a5c42e4 _pthread_start + 136\n17  libsystem_pthread.dylib             0x000000019a5bf0fc thread_start + 8\n",
     "output_type": "error",
     "traceback": [
      "\u001b[0;31m---------------------------------------------------------------------------\u001b[0m",
      "\u001b[0;31mWebDriverException\u001b[0m                        Traceback (most recent call last)",
      "Cell \u001b[0;32mIn[477], line 1\u001b[0m\n\u001b[0;32m----> 1\u001b[0m nbtn \u001b[38;5;241m=\u001b[39m driver\u001b[38;5;241m.\u001b[39mfind_element(By\u001b[38;5;241m.\u001b[39mCSS_SELECTOR, \u001b[38;5;124m'\u001b[39m\u001b[38;5;124m[aria-label=\u001b[39m\u001b[38;5;124m\"\u001b[39m\u001b[38;5;124mNext page\u001b[39m\u001b[38;5;124m\"\u001b[39m\u001b[38;5;124m]\u001b[39m\u001b[38;5;124m'\u001b[39m)\n\u001b[1;32m      2\u001b[0m nbtn\n",
      "File \u001b[0;32m~/anaconda3/lib/python3.11/site-packages/selenium/webdriver/remote/webdriver.py:741\u001b[0m, in \u001b[0;36mWebDriver.find_element\u001b[0;34m(self, by, value)\u001b[0m\n\u001b[1;32m    738\u001b[0m     by \u001b[38;5;241m=\u001b[39m By\u001b[38;5;241m.\u001b[39mCSS_SELECTOR\n\u001b[1;32m    739\u001b[0m     value \u001b[38;5;241m=\u001b[39m \u001b[38;5;124mf\u001b[39m\u001b[38;5;124m'\u001b[39m\u001b[38;5;124m[name=\u001b[39m\u001b[38;5;124m\"\u001b[39m\u001b[38;5;132;01m{\u001b[39;00mvalue\u001b[38;5;132;01m}\u001b[39;00m\u001b[38;5;124m\"\u001b[39m\u001b[38;5;124m]\u001b[39m\u001b[38;5;124m'\u001b[39m\n\u001b[0;32m--> 741\u001b[0m \u001b[38;5;28;01mreturn\u001b[39;00m \u001b[38;5;28mself\u001b[39m\u001b[38;5;241m.\u001b[39mexecute(Command\u001b[38;5;241m.\u001b[39mFIND_ELEMENT, {\u001b[38;5;124m\"\u001b[39m\u001b[38;5;124musing\u001b[39m\u001b[38;5;124m\"\u001b[39m: by, \u001b[38;5;124m\"\u001b[39m\u001b[38;5;124mvalue\u001b[39m\u001b[38;5;124m\"\u001b[39m: value})[\u001b[38;5;124m\"\u001b[39m\u001b[38;5;124mvalue\u001b[39m\u001b[38;5;124m\"\u001b[39m]\n",
      "File \u001b[0;32m~/anaconda3/lib/python3.11/site-packages/selenium/webdriver/remote/webdriver.py:347\u001b[0m, in \u001b[0;36mWebDriver.execute\u001b[0;34m(self, driver_command, params)\u001b[0m\n\u001b[1;32m    345\u001b[0m response \u001b[38;5;241m=\u001b[39m \u001b[38;5;28mself\u001b[39m\u001b[38;5;241m.\u001b[39mcommand_executor\u001b[38;5;241m.\u001b[39mexecute(driver_command, params)\n\u001b[1;32m    346\u001b[0m \u001b[38;5;28;01mif\u001b[39;00m response:\n\u001b[0;32m--> 347\u001b[0m     \u001b[38;5;28mself\u001b[39m\u001b[38;5;241m.\u001b[39merror_handler\u001b[38;5;241m.\u001b[39mcheck_response(response)\n\u001b[1;32m    348\u001b[0m     response[\u001b[38;5;124m\"\u001b[39m\u001b[38;5;124mvalue\u001b[39m\u001b[38;5;124m\"\u001b[39m] \u001b[38;5;241m=\u001b[39m \u001b[38;5;28mself\u001b[39m\u001b[38;5;241m.\u001b[39m_unwrap_value(response\u001b[38;5;241m.\u001b[39mget(\u001b[38;5;124m\"\u001b[39m\u001b[38;5;124mvalue\u001b[39m\u001b[38;5;124m\"\u001b[39m, \u001b[38;5;28;01mNone\u001b[39;00m))\n\u001b[1;32m    349\u001b[0m     \u001b[38;5;28;01mreturn\u001b[39;00m response\n",
      "File \u001b[0;32m~/anaconda3/lib/python3.11/site-packages/selenium/webdriver/remote/errorhandler.py:229\u001b[0m, in \u001b[0;36mErrorHandler.check_response\u001b[0;34m(self, response)\u001b[0m\n\u001b[1;32m    227\u001b[0m         alert_text \u001b[38;5;241m=\u001b[39m value[\u001b[38;5;124m\"\u001b[39m\u001b[38;5;124malert\u001b[39m\u001b[38;5;124m\"\u001b[39m]\u001b[38;5;241m.\u001b[39mget(\u001b[38;5;124m\"\u001b[39m\u001b[38;5;124mtext\u001b[39m\u001b[38;5;124m\"\u001b[39m)\n\u001b[1;32m    228\u001b[0m     \u001b[38;5;28;01mraise\u001b[39;00m exception_class(message, screen, stacktrace, alert_text)  \u001b[38;5;66;03m# type: ignore[call-arg]  # mypy is not smart enough here\u001b[39;00m\n\u001b[0;32m--> 229\u001b[0m \u001b[38;5;28;01mraise\u001b[39;00m exception_class(message, screen, stacktrace)\n",
      "\u001b[0;31mWebDriverException\u001b[0m: Message: disconnected: not connected to DevTools\n  (failed to check if window was closed: disconnected: not connected to DevTools)\n  (Session info: chrome=131.0.6778.205)\nStacktrace:\n0   chromedriver                        0x0000000104ad7184 cxxbridge1$str$ptr + 3626716\n1   chromedriver                        0x0000000104acf9d4 cxxbridge1$str$ptr + 3596076\n2   chromedriver                        0x000000010453c968 cxxbridge1$string$len + 89228\n3   chromedriver                        0x00000001045268d4 core::str::slice_error_fail::ha0e52dbcb60e6bae + 63828\n4   chromedriver                        0x0000000104526804 core::str::slice_error_fail::ha0e52dbcb60e6bae + 63620\n5   chromedriver                        0x00000001045b9c40 cxxbridge1$string$len + 601956\n6   chromedriver                        0x0000000104575568 cxxbridge1$string$len + 321676\n7   chromedriver                        0x00000001045761b8 cxxbridge1$string$len + 324828\n8   chromedriver                        0x0000000104aa29ac cxxbridge1$str$ptr + 3411716\n9   chromedriver                        0x0000000104aa5ccc cxxbridge1$str$ptr + 3424804\n10  chromedriver                        0x0000000104a8986c cxxbridge1$str$ptr + 3308996\n11  chromedriver                        0x0000000104aa658c cxxbridge1$str$ptr + 3427044\n12  chromedriver                        0x0000000104a7b09c cxxbridge1$str$ptr + 3249652\n13  chromedriver                        0x0000000104ac04b8 cxxbridge1$str$ptr + 3533328\n14  chromedriver                        0x0000000104ac0634 cxxbridge1$str$ptr + 3533708\n15  chromedriver                        0x0000000104acf648 cxxbridge1$str$ptr + 3595168\n16  libsystem_pthread.dylib             0x000000019a5c42e4 _pthread_start + 136\n17  libsystem_pthread.dylib             0x000000019a5bf0fc thread_start + 8\n"
     ]
    }
   ],
   "source": [
    "nbtn = driver.find_element(By.CSS_SELECTOR, '[aria-label=\"Next page\"]')\n",
    "nbtn"
   ]
  },
  {
   "cell_type": "code",
   "execution_count": 474,
   "id": "f42d1f35-e11a-4771-adde-19c47d5ee779",
   "metadata": {
    "tags": []
   },
   "outputs": [],
   "source": [
    "try:\n",
    "    nbtn.click()\n",
    "except WebDriverException:\n",
    "    print(\"Next Page Element is not clickable\")\n",
    "time.sleep(5)"
   ]
  },
  {
   "cell_type": "code",
   "execution_count": 475,
   "id": "e2cf2d20-50c1-4d2d-ab6e-f91858ffa31d",
   "metadata": {
    "tags": []
   },
   "outputs": [],
   "source": [
    "xpathPage1 = '//mat-paginator/div/div/div[2]/div'\n",
    "xpathPage2 = '//app-journal-search-results/div[3]/div[11]/mat-paginator/div/div/div[2]/div'"
   ]
  },
  {
   "cell_type": "code",
   "execution_count": 476,
   "id": "db38497a-8f81-40a8-a762-77a73d9e0794",
   "metadata": {
    "tags": []
   },
   "outputs": [
    {
     "data": {
      "text/plain": [
       "'351 – 400 of 22588'"
      ]
     },
     "execution_count": 476,
     "metadata": {},
     "output_type": "execute_result"
    }
   ],
   "source": [
    "pageE = driver.find_element(By.XPATH , xpathPage1)\n",
    "pageE.text"
   ]
  },
  {
   "cell_type": "markdown",
   "id": "75337506-2e2e-4d6c-8c3a-25b812005d8b",
   "metadata": {},
   "source": [
    "## check for Search Text Box and Button"
   ]
  },
  {
   "cell_type": "code",
   "execution_count": null,
   "id": "cdbc2891-06f7-4b2d-9b5a-095554ab2c57",
   "metadata": {},
   "outputs": [],
   "source": []
  },
  {
   "cell_type": "code",
   "execution_count": 134,
   "id": "f7d72deb-19fd-46a6-b49d-b3d9063e5329",
   "metadata": {
    "tags": []
   },
   "outputs": [
    {
     "data": {
      "text/plain": [
       "<selenium.webdriver.remote.webelement.WebElement (session=\"a89daf0674e6ec78721b2404cb4636e4\", element=\"f.B48B988F145340A45DD637074A7E6954.d.CF05AA8CCD0D0ABF11811B77CD07A327.e.27\")>"
      ]
     },
     "execution_count": 134,
     "metadata": {},
     "output_type": "execute_result"
    }
   ],
   "source": [
    "sbox = driver.find_element(By.ID, 'search-box')\n",
    "sbox"
   ]
  },
  {
   "cell_type": "code",
   "execution_count": 135,
   "id": "2468e0a3-025c-469a-84ae-ce9e4611bc9d",
   "metadata": {
    "tags": []
   },
   "outputs": [
    {
     "data": {
      "text/plain": [
       "<selenium.webdriver.remote.webelement.WebElement (session=\"a89daf0674e6ec78721b2404cb4636e4\", element=\"f.B48B988F145340A45DD637074A7E6954.d.CF05AA8CCD0D0ABF11811B77CD07A327.e.32\")>"
      ]
     },
     "execution_count": 135,
     "metadata": {},
     "output_type": "execute_result"
    }
   ],
   "source": [
    "sbtn = driver.find_element(By.ID, 'search-button')\n",
    "sbtn"
   ]
  },
  {
   "cell_type": "code",
   "execution_count": 136,
   "id": "9fdc35f6-cf33-41e0-9a2f-17a683c96b9e",
   "metadata": {
    "tags": []
   },
   "outputs": [],
   "source": [
    "#click on Search Button with anything in Search Box\n",
    "sbtn.click()"
   ]
  },
  {
   "cell_type": "markdown",
   "id": "bb33123a-fa2c-4c72-8e0d-2c884cbd3d9c",
   "metadata": {},
   "source": [
    "# Check for Results\n",
    "- Found 22,488 results (Page 1)\n"
   ]
  },
  {
   "cell_type": "code",
   "execution_count": 137,
   "id": "336085b6-9a4e-49ed-8d19-f7698aa2127f",
   "metadata": {
    "tags": []
   },
   "outputs": [
    {
     "data": {
      "text/plain": [
       "<selenium.webdriver.remote.webelement.WebElement (session=\"a89daf0674e6ec78721b2404cb4636e4\", element=\"f.B48B988F145340A45DD637074A7E6954.d.CF05AA8CCD0D0ABF11811B77CD07A327.e.199\")>"
      ]
     },
     "execution_count": 137,
     "metadata": {},
     "output_type": "execute_result"
    }
   ],
   "source": [
    "results = driver.find_element(By.XPATH, '/html/body/cdx-app/mat-sidenav-container/mat-sidenav-content/main/can-home-page/div/div/div/mat-sidenav-container/mat-sidenav-content/app-journal-search-results/div[1]/div[1]/div[1]')\n",
    "results"
   ]
  },
  {
   "cell_type": "code",
   "execution_count": 138,
   "id": "d15567e6-d124-42f8-978a-5cae66f017b6",
   "metadata": {
    "tags": []
   },
   "outputs": [
    {
     "data": {
      "text/plain": [
       "'Found 22,588 results (Page 1)'"
      ]
     },
     "execution_count": 138,
     "metadata": {},
     "output_type": "execute_result"
    }
   ],
   "source": [
    "results.text"
   ]
  },
  {
   "cell_type": "markdown",
   "id": "60fb67fb-4ee4-47dc-ae92-c32eb82859ee",
   "metadata": {
    "tags": []
   },
   "source": [
    "## Retreive few Journal Data"
   ]
  },
  {
   "cell_type": "code",
   "execution_count": 139,
   "id": "84e9590d-59aa-4458-a977-225e88be4418",
   "metadata": {},
   "outputs": [],
   "source": [
    "# First Data"
   ]
  },
  {
   "cell_type": "code",
   "execution_count": 140,
   "id": "5212d879-c0cf-42db-bf31-5e33215dad5f",
   "metadata": {},
   "outputs": [
    {
     "data": {
      "text/plain": [
       "'20 ET 21-REVUE D HISTOIRE'"
      ]
     },
     "execution_count": 140,
     "metadata": {},
     "output_type": "execute_result"
    }
   ],
   "source": [
    "title1 = driver.find_element(By.XPATH,'/html/body/cdx-app/mat-sidenav-container/mat-sidenav-content/main/can-home-page/div/div/div/mat-sidenav-container/mat-sidenav-content/app-journal-search-results/div[3]/div[1]/mat-card/mat-card-title')\n",
    "title1.text"
   ]
  },
  {
   "cell_type": "code",
   "execution_count": 141,
   "id": "7ecb5fab-24f0-40f4-87c3-6ad127f200ea",
   "metadata": {
    "tags": []
   },
   "outputs": [
    {
     "data": {
      "text/plain": [
       "'PRESSES SCIENCES PO , 28 Rue Saint Guillaume, PARIS, France, 75017'"
      ]
     },
     "execution_count": 141,
     "metadata": {},
     "output_type": "execute_result"
    }
   ],
   "source": [
    "pub1 = driver.find_element(By.XPATH ,'/html/body/cdx-app/mat-sidenav-container/mat-sidenav-content/main/can-home-page/div/div/div/mat-sidenav-container/mat-sidenav-content/app-journal-search-results/div[3]/div[1]/mat-card/mat-card-content[1]/div[2]/div/div[1]/div[2]')\n",
    "pub1.text"
   ]
  },
  {
   "cell_type": "code",
   "execution_count": 142,
   "id": "c96abc11-965f-436c-bf05-2411a5120e4e",
   "metadata": {
    "tags": []
   },
   "outputs": [
    {
     "data": {
      "text/plain": [
       "'2649-664X / 2649-6100'"
      ]
     },
     "execution_count": 142,
     "metadata": {},
     "output_type": "execute_result"
    }
   ],
   "source": [
    "issn1 = driver.find_element(By.XPATH, '/html/body/cdx-app/mat-sidenav-container/mat-sidenav-content/main/can-home-page/div/div/div/mat-sidenav-container/mat-sidenav-content/app-journal-search-results/div[3]/div[1]/mat-card/mat-card-content[1]/div[2]/div/div[2]/div[2]')\n",
    "issn1.text"
   ]
  },
  {
   "cell_type": "code",
   "execution_count": 143,
   "id": "2f78e0f5-5df9-49e0-ae3d-33c1e4c43b36",
   "metadata": {
    "tags": []
   },
   "outputs": [
    {
     "data": {
      "text/plain": [
       "'Arts & Humanities Citation Index'"
      ]
     },
     "execution_count": 143,
     "metadata": {},
     "output_type": "execute_result"
    }
   ],
   "source": [
    "coll1 = driver.find_element(By.XPATH, '/html/body/cdx-app/mat-sidenav-container/mat-sidenav-content/main/can-home-page/div/div/div/mat-sidenav-container/mat-sidenav-content/app-journal-search-results/div[3]/div[1]/mat-card/mat-card-content[1]/div[2]/div/div[3]/div[2]')\n",
    "coll1.text"
   ]
  },
  {
   "cell_type": "code",
   "execution_count": 144,
   "id": "d6d52efd-d803-4c02-87b8-f05ba5ffc0d9",
   "metadata": {
    "tags": []
   },
   "outputs": [
    {
     "data": {
      "text/plain": [
       "'Share This Journal'"
      ]
     },
     "execution_count": 144,
     "metadata": {},
     "output_type": "execute_result"
    }
   ],
   "source": [
    "share1 = driver.find_element(By.XPATH, '/html/body/cdx-app/mat-sidenav-container/mat-sidenav-content/main/can-home-page/div/div/div/mat-sidenav-container/mat-sidenav-content/app-journal-search-results/div[3]/div[1]/mat-card/mat-card-content[2]/div/div/div[1]/div[1]/button/span[2]')\n",
    "share1.text"
   ]
  },
  {
   "cell_type": "code",
   "execution_count": 145,
   "id": "2ff311bd-412b-480d-a53c-29614894f4ff",
   "metadata": {
    "tags": []
   },
   "outputs": [
    {
     "data": {
      "text/plain": [
       "'View profile page'"
      ]
     },
     "execution_count": 145,
     "metadata": {},
     "output_type": "execute_result"
    }
   ],
   "source": [
    "profile1 = driver.find_element(By.XPATH, '/html/body/cdx-app/mat-sidenav-container/mat-sidenav-content/main/can-home-page/div/div/div/mat-sidenav-container/mat-sidenav-content/app-journal-search-results/div[3]/div[1]/mat-card/mat-card-content[2]/div/div/div[1]/div[2]/button/span[2]')\n",
    "profile1.text"
   ]
  },
  {
   "cell_type": "markdown",
   "id": "49f89b36-7210-4a80-83f6-40577ad8dbc4",
   "metadata": {},
   "source": [
    "## Get all on this page\n",
    "- <mat-card-title _ngcontent-ng-c3178260447=\"\" class=\"mat-mdc-card-title\" style=\"padding: 16px;\"><!----> 20 ET 21-REVUE D HISTOIRE <!----><!----></mat-card-title>"
   ]
  },
  {
   "cell_type": "code",
   "execution_count": 146,
   "id": "09020ead-caad-400d-8524-3e582e206a93",
   "metadata": {
    "tags": []
   },
   "outputs": [
    {
     "data": {
      "text/plain": [
       "12"
      ]
     },
     "execution_count": 146,
     "metadata": {},
     "output_type": "execute_result"
    }
   ],
   "source": [
    "#titlen = driver.find_elements(By.XPATH  ,\"//div[@class='ng-star-inserted']\")\n",
    "#xp2 = '/html/body/cdx-app/mat-sidenav-container/mat-sidenav-content/main/can-home-page/div/div/div/mat-sidenav-container/mat-sidenav-content/app-journal-search-results/div[3]/div[1]/mat-card'\n",
    "#xp2 = \"//div[contains(@class,'ng-star-inserted')]//div[contains(@class,'_ngcontent-ng-c3178260447')]\"\n",
    "xp2 = 'title-column1'\n",
    "#titles = driver.find_elements(By.XPATH , xp2)\n",
    "titles = driver.find_elements(By.CLASS_NAME , 'mat-mdc-card-title')\n",
    "len(titles)"
   ]
  },
  {
   "cell_type": "code",
   "execution_count": 147,
   "id": "dec22910-647c-4496-9782-f266dad0261d",
   "metadata": {
    "tags": []
   },
   "outputs": [
    {
     "data": {
      "text/plain": [
       "12"
      ]
     },
     "execution_count": 147,
     "metadata": {},
     "output_type": "execute_result"
    }
   ],
   "source": [
    "len(titles)"
   ]
  },
  {
   "cell_type": "code",
   "execution_count": 148,
   "id": "87e40482-027d-41bb-8dd7-b8885845ac9f",
   "metadata": {
    "tags": []
   },
   "outputs": [
    {
     "name": "stdout",
     "output_type": "stream",
     "text": [
      "20 ET 21-REVUE D HISTOIRE\n",
      "2D MATERIALS\n",
      "3 BIOTECH\n",
      "3C EMPRESA\n",
      "3C TECNOLOGIA\n",
      "3C TIC\n",
      "3D PRINTING AND ADDITIVE MANUFACTURING\n",
      "3D PRINTING IN MEDICINE\n",
      "3L-LANGUAGE LINGUISTICS LITERATURE-THE SOUTHEAST ASIAN JOURNAL OF ENGLISH LANGUAGE STUDIES\n",
      "452 F-REVISTA DE TEORIA DE LA LITERATURA Y LITERATURA COMPARADA\n"
     ]
    }
   ],
   "source": [
    "for i in titles[2:]:\n",
    "    print(i.text)"
   ]
  },
  {
   "cell_type": "code",
   "execution_count": 154,
   "id": "38d2a6a1-4993-4e41-849d-2016de83d554",
   "metadata": {
    "tags": []
   },
   "outputs": [
    {
     "data": {
      "text/plain": [
       "12"
      ]
     },
     "execution_count": 154,
     "metadata": {},
     "output_type": "execute_result"
    }
   ],
   "source": [
    "titles = driver.find_elements(By.XPATH, \"//mat-card-title[contains(@class, 'mat-mdc-card-title')]\")\n",
    "\n",
    "#titles = driver.find_elements(By.XPATH, \"//mat-card-title[contains(@class, 'mat-mdc-card mdc-card card-width-special')]\")\n",
    "\n",
    "len(titles)"
   ]
  },
  {
   "cell_type": "code",
   "execution_count": 155,
   "id": "d792a2a7-7cb1-4ae1-9e8c-64cf36dfb62b",
   "metadata": {
    "tags": []
   },
   "outputs": [
    {
     "data": {
      "text/plain": [
       "12"
      ]
     },
     "execution_count": 155,
     "metadata": {},
     "output_type": "execute_result"
    }
   ],
   "source": [
    "# Extract the text from the elements\n",
    "journal_titles = [title.text.strip() for title in titles]\n",
    "len(journal_titles)"
   ]
  },
  {
   "cell_type": "code",
   "execution_count": 156,
   "id": "a3125177-a1ad-493f-8754-a46901ea649f",
   "metadata": {
    "tags": []
   },
   "outputs": [
    {
     "name": "stdout",
     "output_type": "stream",
     "text": [
      "1: Already have a manuscript?\n",
      "folder\n",
      "2: Filters\n",
      "delete_forever\n",
      "  Clear All\n",
      "3: 20 ET 21-REVUE D HISTOIRE\n",
      "4: 2D MATERIALS\n",
      "5: 3 BIOTECH\n",
      "6: 3C EMPRESA\n",
      "7: 3C TECNOLOGIA\n",
      "8: 3C TIC\n",
      "9: 3D PRINTING AND ADDITIVE MANUFACTURING\n",
      "10: 3D PRINTING IN MEDICINE\n",
      "11: 3L-LANGUAGE LINGUISTICS LITERATURE-THE SOUTHEAST ASIAN JOURNAL OF ENGLISH LANGUAGE STUDIES\n",
      "12: 452 F-REVISTA DE TEORIA DE LA LITERATURA Y LITERATURA COMPARADA\n"
     ]
    }
   ],
   "source": [
    "# Print the extracted titles\n",
    "for idx, title in enumerate(journal_titles, start=1):\n",
    "    print(f\"{idx}: {title}\")\n"
   ]
  },
  {
   "cell_type": "code",
   "execution_count": null,
   "id": "5f2376e0-8c11-4111-ad06-d78e0aca471a",
   "metadata": {},
   "outputs": [],
   "source": []
  },
  {
   "cell_type": "code",
   "execution_count": null,
   "id": "f89a755b-d99d-4a10-aeb8-88a1fcece8e6",
   "metadata": {},
   "outputs": [],
   "source": []
  },
  {
   "cell_type": "code",
   "execution_count": 157,
   "id": "20c4a5bf-672f-482b-b44f-9374362fb781",
   "metadata": {
    "tags": []
   },
   "outputs": [],
   "source": [
    "driver.refresh()"
   ]
  },
  {
   "cell_type": "code",
   "execution_count": null,
   "id": "15dc1977-5891-4f7e-bf0c-afb117c04afe",
   "metadata": {},
   "outputs": [],
   "source": []
  },
  {
   "cell_type": "code",
   "execution_count": null,
   "id": "3aba3fb3-cdf0-4bca-a725-c74ae16d6fc8",
   "metadata": {},
   "outputs": [],
   "source": []
  },
  {
   "cell_type": "code",
   "execution_count": null,
   "id": "bcccd7c4-7733-4022-b90c-32ab8a659252",
   "metadata": {},
   "outputs": [],
   "source": []
  },
  {
   "cell_type": "markdown",
   "id": "51c9aea9-46ee-4df4-8fe9-4f07c3f3b60e",
   "metadata": {
    "tags": []
   },
   "source": [
    "## click on View All"
   ]
  },
  {
   "cell_type": "code",
   "execution_count": null,
   "id": "a0b306b0-3e7f-49b1-b209-d388087a9fff",
   "metadata": {
    "tags": []
   },
   "outputs": [],
   "source": [
    "btviewall = driver.find_element(By.ID, 'btnall')\n",
    "btviewall"
   ]
  },
  {
   "cell_type": "code",
   "execution_count": null,
   "id": "7918151f-ab16-4c1c-a087-0f1964486ef5",
   "metadata": {
    "tags": []
   },
   "outputs": [],
   "source": [
    "btviewall.click()"
   ]
  },
  {
   "cell_type": "code",
   "execution_count": null,
   "id": "94ab361c-b437-44fa-9878-2885ef82d0a6",
   "metadata": {
    "tags": []
   },
   "outputs": [],
   "source": [
    "#setoptionValue\n",
    "btnshow = driver.find_element(By.NAME,'tbl_length')\n",
    "btnshow"
   ]
  },
  {
   "cell_type": "code",
   "execution_count": null,
   "id": "74e3eafa-a8ba-4a0c-a43d-99e1bfadc7d3",
   "metadata": {
    "tags": []
   },
   "outputs": [],
   "source": [
    "from selenium.webdriver.support.ui import Select"
   ]
  },
  {
   "cell_type": "code",
   "execution_count": null,
   "id": "5f50e70c-ed7f-4c23-aaad-7f68fdfc105d",
   "metadata": {
    "tags": []
   },
   "outputs": [],
   "source": [
    "#set option to All\n",
    "mySelect = Select(btnshow)\n",
    "mySelect.select_by_visible_text('All')  #easier one\n",
    "#print(mySelect.text)"
   ]
  },
  {
   "cell_type": "code",
   "execution_count": null,
   "id": "03793e2f-2454-4766-9497-ed2010015d91",
   "metadata": {
    "tags": []
   },
   "outputs": [],
   "source": [
    "btnshow.get_attribute('value')"
   ]
  },
  {
   "cell_type": "code",
   "execution_count": null,
   "id": "e092d6b2-4ce3-4e74-971c-33b0bb082848",
   "metadata": {
    "tags": []
   },
   "outputs": [],
   "source": [
    "btnshow.text"
   ]
  },
  {
   "cell_type": "code",
   "execution_count": null,
   "id": "7ea59314-ec14-433b-a958-73ed10a5f54a",
   "metadata": {
    "tags": []
   },
   "outputs": [],
   "source": [
    "btnshow.get_attribute(\"innerHTML\")"
   ]
  },
  {
   "cell_type": "markdown",
   "id": "71fdd9bf-8695-47fb-8c78-d56e9cf8cbf2",
   "metadata": {},
   "source": [
    "## webtable"
   ]
  },
  {
   "cell_type": "code",
   "execution_count": null,
   "id": "7a3303b3-b914-469b-9340-fd27757801df",
   "metadata": {
    "tags": []
   },
   "outputs": [],
   "source": [
    "webtable_df1 = pd.read_html(driver.find_element(By.XPATH, \"//table[@id='tbl']\").get_attribute('outerHTML'))[0]"
   ]
  },
  {
   "cell_type": "code",
   "execution_count": null,
   "id": "a8a5d472-ab79-4cb0-bfec-2d918409e874",
   "metadata": {
    "tags": []
   },
   "outputs": [],
   "source": [
    "webtable_df1.head(2)"
   ]
  },
  {
   "cell_type": "code",
   "execution_count": null,
   "id": "b1d91454-17e5-43df-9e53-45ab0289a9be",
   "metadata": {
    "tags": []
   },
   "outputs": [],
   "source": [
    "import io"
   ]
  },
  {
   "cell_type": "code",
   "execution_count": null,
   "id": "95e444e2-44a9-4235-a42f-dd16d05ba854",
   "metadata": {
    "tags": []
   },
   "outputs": [],
   "source": [
    "webtable_df2 = pd.read_html(io.StringIO(driver.find_element(By.XPATH, \"//table[@id='tbl']\").get_attribute('outerHTML')))[0]\n",
    "webtable_df2.head(2)"
   ]
  },
  {
   "cell_type": "markdown",
   "id": "047bfa2c-2990-4330-9804-7ae9de599978",
   "metadata": {},
   "source": [
    "## use download csv button"
   ]
  },
  {
   "cell_type": "code",
   "execution_count": null,
   "id": "bc7bcb02-8c7b-4fac-9986-7f811d77b46b",
   "metadata": {
    "tags": []
   },
   "outputs": [],
   "source": [
    "\n",
    "dwcsv = driver.find_element(By.CLASS_NAME, 'dt-button')\n",
    "dwcsv"
   ]
  },
  {
   "cell_type": "code",
   "execution_count": null,
   "id": "7375fe43-00ac-4992-8a5c-78bc44288d5b",
   "metadata": {
    "tags": []
   },
   "outputs": [],
   "source": [
    "dwcsv.click()  #this will download the data "
   ]
  },
  {
   "cell_type": "markdown",
   "id": "8e5f2b9e-a80e-4db0-b46e-c04a5bf0baa3",
   "metadata": {},
   "source": [
    "## use download excel button"
   ]
  },
  {
   "cell_type": "code",
   "execution_count": null,
   "id": "6d43864a-fcfd-4a43-9b7e-f97243be2450",
   "metadata": {
    "tags": []
   },
   "outputs": [],
   "source": [
    "#use download as excel button\n",
    "dwexcel = driver.find_element(By.CLASS_NAME, 'buttons-excel')\n",
    "dwexcel"
   ]
  },
  {
   "cell_type": "code",
   "execution_count": null,
   "id": "14d4c163-9e39-4bc8-af35-7e09b50c6542",
   "metadata": {
    "tags": []
   },
   "outputs": [],
   "source": [
    "dwexcel.click()  #this will download the data in excel"
   ]
  },
  {
   "cell_type": "markdown",
   "id": "0e66b59e-d604-4d56-8949-10ab903d2a35",
   "metadata": {},
   "source": [
    "## Download Table directly"
   ]
  },
  {
   "cell_type": "markdown",
   "id": "1571f529-4f08-4ad0-bc96-3529a7b65e89",
   "metadata": {
    "tags": []
   },
   "source": [
    "btviewall = driver.find_element(By.ID, 'btnall')\n",
    "mySelect = Select(btnshow)\n",
    "mySelect.select_by_visible_text('All')  #easier one "
   ]
  },
  {
   "cell_type": "code",
   "execution_count": null,
   "id": "fb8027e3-8c4a-4576-9400-e240a2da7b62",
   "metadata": {},
   "outputs": [],
   "source": []
  },
  {
   "cell_type": "markdown",
   "id": "f2d3c653-d469-484c-b280-d44f5ba55bcd",
   "metadata": {},
   "source": [
    "### identify table rows\n",
    "- //*[@id=\"trMale0\"]\n",
    "- //*[@id=\"tbodyuni\"]\n",
    "- \"//*[@class= 'spTable']/tbody/tr\")"
   ]
  },
  {
   "cell_type": "code",
   "execution_count": null,
   "id": "eb4e82ef-0c17-4640-948f-4b834df09887",
   "metadata": {
    "tags": []
   },
   "outputs": [],
   "source": [
    "# to identify the table rows\n",
    "trows = driver.find_elements(By.XPATH , \"//*[@id= 'tbl']/tbody/tr\")"
   ]
  },
  {
   "cell_type": "code",
   "execution_count": null,
   "id": "a3709754-dc3e-444a-9c37-4982a9c08784",
   "metadata": {
    "tags": []
   },
   "outputs": [],
   "source": [
    "print (len(trows))"
   ]
  },
  {
   "cell_type": "markdown",
   "id": "6a585914-d920-451f-9aac-93496134d787",
   "metadata": {},
   "source": [
    "### Table Headers\n"
   ]
  },
  {
   "cell_type": "code",
   "execution_count": null,
   "id": "5b2e52fa-35e8-4f62-8d7a-7499db364563",
   "metadata": {
    "tags": []
   },
   "outputs": [],
   "source": [
    "th = driver.find_elements(By.XPATH , \"//*[@id= 'tbl']/thead/tr/th\")\n",
    "#th"
   ]
  },
  {
   "cell_type": "code",
   "execution_count": null,
   "id": "460458ef-bacc-499b-9fc4-e4c1fe02287e",
   "metadata": {
    "tags": []
   },
   "outputs": [],
   "source": [
    "for i in th :\n",
    "    print (i.text)"
   ]
  },
  {
   "cell_type": "markdown",
   "id": "d71cda13-7c91-41b5-a65f-2bd8cf73f064",
   "metadata": {},
   "source": [
    "### Identify Table in the web page\n",
    "- there are multiple tables in the web page"
   ]
  },
  {
   "cell_type": "code",
   "execution_count": null,
   "id": "413f504b-15b3-4c91-8742-dbbb4ff0b2af",
   "metadata": {
    "tags": []
   },
   "outputs": [],
   "source": [
    "tbs = driver.find_elements(By.TAG_NAME, 'table')\n",
    "tbs[0]"
   ]
  },
  {
   "cell_type": "code",
   "execution_count": null,
   "id": "ecbad665-4956-4806-9180-abc407c5a6c8",
   "metadata": {
    "tags": []
   },
   "outputs": [],
   "source": [
    "dataTable = driver.find_element(By.ID,'tbl')\n",
    "dataTable"
   ]
  },
  {
   "cell_type": "code",
   "execution_count": null,
   "id": "8e2d5d7b-4427-4d96-a213-e4c432aecc3f",
   "metadata": {
    "tags": []
   },
   "outputs": [],
   "source": [
    "#driver.refresh()"
   ]
  },
  {
   "cell_type": "code",
   "execution_count": null,
   "id": "1cce43fb-c290-4e83-b963-92606be8f080",
   "metadata": {},
   "outputs": [],
   "source": [
    "# Extract table headers\n",
    "headers = []\n",
    "header_elements = dataTable.find_elements(By.TAG_NAME, 'th')\n",
    "for header in header_elements:\n",
    "    headers.append(header.text.strip())"
   ]
  },
  {
   "cell_type": "code",
   "execution_count": null,
   "id": "a018555d-74b8-4f64-82f6-8449e393577e",
   "metadata": {},
   "outputs": [],
   "source": [
    "print(headers), print(len(headers))\n",
    "# 8 columns"
   ]
  },
  {
   "cell_type": "code",
   "execution_count": null,
   "id": "082bbfe2-310e-4581-8c4c-7a3497ca92b5",
   "metadata": {},
   "outputs": [],
   "source": [
    "# Extract table rows\n",
    "rows = []\n",
    "row_elements = dataTable.find_elements(By.TAG_NAME, 'tr')"
   ]
  },
  {
   "cell_type": "code",
   "execution_count": null,
   "id": "1e994396-b5b7-4680-80c9-960dc9e0e311",
   "metadata": {},
   "outputs": [],
   "source": [
    "print(row_elements[0:5])"
   ]
  },
  {
   "cell_type": "code",
   "execution_count": null,
   "id": "296f5596-b079-4794-bf34-b5270257d3f2",
   "metadata": {},
   "outputs": [],
   "source": [
    "# Loop through rows to extract data\n",
    "for row in row_elements[1:]:  # Skipping the header row\n",
    "    cols = row.find_elements(By.TAG_NAME, 'td')\n",
    "    cols = [col.text.strip() for col in cols]\n",
    "    rows.append(cols)"
   ]
  },
  {
   "cell_type": "code",
   "execution_count": null,
   "id": "864a60d3-44d3-4f3d-b4d4-c8d172e2bd40",
   "metadata": {},
   "outputs": [],
   "source": [
    "rows[0:1]"
   ]
  },
  {
   "cell_type": "code",
   "execution_count": null,
   "id": "fcf90181-2984-4a8e-bde4-8f6fc6cce773",
   "metadata": {},
   "outputs": [],
   "source": [
    "print(len(rows), len(headers))"
   ]
  },
  {
   "cell_type": "code",
   "execution_count": null,
   "id": "10807605-bdcb-4eb2-9c3f-9872755e7c29",
   "metadata": {},
   "outputs": [],
   "source": [
    "#print(rows[0:300:3])"
   ]
  },
  {
   "cell_type": "code",
   "execution_count": null,
   "id": "3ad98ed0-6237-49b0-aa11-2095d260364e",
   "metadata": {},
   "outputs": [],
   "source": [
    "# Create a DataFrame from the extracted data\n",
    "df1 = pd.DataFrame(rows[0:len(rows)], columns=headers)"
   ]
  },
  {
   "cell_type": "code",
   "execution_count": null,
   "id": "40f0a977-3460-469f-a31c-b99752cdceb8",
   "metadata": {},
   "outputs": [],
   "source": [
    "df1.head(2)"
   ]
  },
  {
   "cell_type": "code",
   "execution_count": null,
   "id": "f7268cc2-9c80-4b3a-b0ba-36e1a27c65b4",
   "metadata": {},
   "outputs": [],
   "source": [
    "list(df1.columns)"
   ]
  },
  {
   "cell_type": "code",
   "execution_count": null,
   "id": "f3a36a24-fe7f-4bc9-b2fe-46e5a3ae5219",
   "metadata": {},
   "outputs": [],
   "source": [
    "df1.columns = ['ser','type','university', 'address','zip', 'state', 'status','url']"
   ]
  },
  {
   "cell_type": "code",
   "execution_count": null,
   "id": "0199ba2f-d7d8-44eb-ab2c-dd55a2dfe21e",
   "metadata": {},
   "outputs": [],
   "source": [
    "df1.head(2)"
   ]
  },
  {
   "cell_type": "code",
   "execution_count": null,
   "id": "0f6da93a-a3d1-4c80-80ce-ecaa443749e4",
   "metadata": {},
   "outputs": [],
   "source": []
  },
  {
   "cell_type": "code",
   "execution_count": null,
   "id": "7ae77378-2d94-49da-9d03-7ebb8c6130e7",
   "metadata": {},
   "outputs": [],
   "source": [
    "# Close the browser\n",
    "driver.quit()"
   ]
  },
  {
   "cell_type": "code",
   "execution_count": null,
   "id": "7ec1ed70-f85a-433d-8d2e-e8988d82c2d3",
   "metadata": {},
   "outputs": [],
   "source": [
    "# Display the extracted data\n",
    "#print(dfNO)"
   ]
  },
  {
   "cell_type": "code",
   "execution_count": null,
   "id": "1313dede-2a75-49b1-ac51-ba5b1da6ec16",
   "metadata": {},
   "outputs": [],
   "source": [
    "# Save the data to a CSV file\n",
    "fileLoc  = '/Users/du/dup/auData/journal/'\n",
    "fileName = fileLoc +  nData + '.csv'\n",
    "print(nData, fileName)"
   ]
  },
  {
   "cell_type": "code",
   "execution_count": null,
   "id": "2104aa89-0295-44d2-897d-0daa9f8bb6f9",
   "metadata": {},
   "outputs": [],
   "source": [
    "df1.to_csv(fileName, index=False)"
   ]
  },
  {
   "cell_type": "code",
   "execution_count": null,
   "id": "2477e8fb-048a-4d08-a4d7-cc27671e47d0",
   "metadata": {},
   "outputs": [],
   "source": [
    "import os"
   ]
  },
  {
   "cell_type": "code",
   "execution_count": null,
   "id": "807b5db6-c5b5-4f8d-9289-188c59cb1655",
   "metadata": {},
   "outputs": [],
   "source": [
    "print(' '.join(map(str, os.listdir(fileLoc))))"
   ]
  },
  {
   "cell_type": "markdown",
   "id": "0113c0de-6b62-4d5c-bda9-571d96062ced",
   "metadata": {},
   "source": [
    "## End of Coding"
   ]
  },
  {
   "cell_type": "code",
   "execution_count": null,
   "id": "ddae3ecb-5268-4732-9801-c1e1ebd73750",
   "metadata": {},
   "outputs": [],
   "source": [
    "pd.read_csv(fileName).head(2)"
   ]
  },
  {
   "cell_type": "code",
   "execution_count": null,
   "id": "0050900b-a746-4688-95a9-26df0ff3d127",
   "metadata": {},
   "outputs": [],
   "source": []
  },
  {
   "cell_type": "code",
   "execution_count": null,
   "id": "3e2ee730-a63b-4dcf-8f5e-54e1293aa64e",
   "metadata": {},
   "outputs": [],
   "source": []
  }
 ],
 "metadata": {
  "kernelspec": {
   "display_name": "Python 3 (ipykernel)",
   "language": "python",
   "name": "python3"
  },
  "language_info": {
   "codemirror_mode": {
    "name": "ipython",
    "version": 3
   },
   "file_extension": ".py",
   "mimetype": "text/x-python",
   "name": "python",
   "nbconvert_exporter": "python",
   "pygments_lexer": "ipython3",
   "version": "3.11.5"
  }
 },
 "nbformat": 4,
 "nbformat_minor": 5
}
