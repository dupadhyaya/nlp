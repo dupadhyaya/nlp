{
 "cells": [
  {
   "cell_type": "markdown",
   "id": "565e0c3a-159e-488a-a7e7-e44ca372400e",
   "metadata": {
    "tags": []
   },
   "source": [
    "# General Practise with Selenium\n",
    "- https://pypi.org/project/selenium/\n",
    "- https://www.selenium.dev/documentation/webdriver/\n",
    "- https://selenium-python.readthedocs.io/\n",
    "- https://www.selenium.dev/selenium/docs/api/py/index.html  API\n",
    "- https://www.selenium.dev/documentation/webdriver/getting_started/install_library/\n",
    "- https://www.browserstack.com/guide/selenium-headless-browser-testing\n",
    "- it means browser simulation, which has no UI. Headless browser automation uses a web browser for end-to-end testing without loading the browser’s UI.\n",
    "- https://developer.chrome.com/docs/chromium/headless\n",
    "- https://www.scaler.com/topics/selenium-tutorial/headless-browser-selenium/"
   ]
  },
  {
   "cell_type": "code",
   "execution_count": 1,
   "id": "65962a4e-b959-4d34-9b84-4791d4829efd",
   "metadata": {
    "tags": []
   },
   "outputs": [],
   "source": [
    "from selenium import webdriver\n",
    "from selenium.webdriver.common.by import By\n",
    "import pandas as pd\n",
    "from selenium.webdriver.chrome.service import Service\n",
    "from selenium.webdriver.chrome.options import Options\n",
    "#!pip install webdriver-manager\n",
    "from webdriver_manager.chrome import ChromeDriverManager\n",
    "import os"
   ]
  },
  {
   "cell_type": "code",
   "execution_count": 2,
   "id": "37307580-b164-44b6-80a1-f4b7cb157174",
   "metadata": {
    "tags": []
   },
   "outputs": [],
   "source": [
    "options = Options()\n",
    "options.add_argument(\"--headless=new\")"
   ]
  },
  {
   "cell_type": "code",
   "execution_count": 7,
   "id": "67d86e76-3ffe-417f-8390-e35771fa42ae",
   "metadata": {
    "tags": []
   },
   "outputs": [
    {
     "data": {
      "text/plain": [
       "True"
      ]
     },
     "execution_count": 7,
     "metadata": {},
     "output_type": "execute_result"
    }
   ],
   "source": [
    "os.path.isfile('/opt/homebrew/bin/chromedriver')"
   ]
  },
  {
   "cell_type": "markdown",
   "id": "96f01297-1393-4d1a-9d63-25d08755c21d",
   "metadata": {
    "tags": []
   },
   "source": [
    "### other arguments\n",
    "- options.add_argument(\"--window-size=1920,1200\") \n",
    "- options.add_argument(\"--disable-extensions\")\n",
    "- options.add_argument(\"--disable-dev-shm-usage\")\n",
    "- options.add_argument(\"--no-sandbox\")\n",
    "- options.add_experimental_option(\"prefs\",{\"download.default_directory\":\"/Users/du/dup/auData/\"})"
   ]
  },
  {
   "cell_type": "code",
   "execution_count": 3,
   "id": "bfba2829-70e8-46c6-8575-6fbbd628b0f4",
   "metadata": {
    "tags": []
   },
   "outputs": [],
   "source": [
    "cdp1 = '/opt/homebrew/bin/chromedriver' "
   ]
  },
  {
   "cell_type": "code",
   "execution_count": 4,
   "id": "81faa2f6-1624-407c-90e5-fbe0ce972286",
   "metadata": {
    "tags": []
   },
   "outputs": [],
   "source": [
    "cService = webdriver.ChromeService(executable_path=cdp1)\n",
    "driver = webdriver.Chrome(options=options, service = cService)"
   ]
  },
  {
   "cell_type": "code",
   "execution_count": 5,
   "id": "608ac18c-d066-40b4-9dd4-e6338428e097",
   "metadata": {
    "tags": []
   },
   "outputs": [],
   "source": [
    "url1 = 'https://seleniumbase.io/demo_page'"
   ]
  },
  {
   "cell_type": "code",
   "execution_count": 6,
   "id": "718f370b-fed0-4835-88b7-9180da0797ca",
   "metadata": {
    "tags": []
   },
   "outputs": [],
   "source": [
    "driver.get(url1)"
   ]
  },
  {
   "cell_type": "code",
   "execution_count": null,
   "id": "d53d5c8b-63b5-44b6-b07e-cbbc7b510dab",
   "metadata": {
    "tags": []
   },
   "outputs": [],
   "source": [
    "driver.title"
   ]
  },
  {
   "cell_type": "markdown",
   "id": "4b879c03-29df-4275-bb22-de923d28358c",
   "metadata": {},
   "source": [
    "## CSS Locators\n",
    "-  "
   ]
  },
  {
   "cell_type": "code",
   "execution_count": 12,
   "id": "104382af-e6b8-4ada-9d4e-47c5fe3cf0ba",
   "metadata": {
    "tags": []
   },
   "outputs": [
    {
     "data": {
      "text/plain": [
       "'Demo Page'"
      ]
     },
     "execution_count": 12,
     "metadata": {},
     "output_type": "execute_result"
    }
   ],
   "source": [
    "ecss = driver.find_element(By.CSS_SELECTOR, 'h1')\n",
    "ecss.text"
   ]
  },
  {
   "cell_type": "code",
   "execution_count": null,
   "id": "cdf6b569-3665-42dd-bbe4-7cc84818691c",
   "metadata": {
    "tags": []
   },
   "outputs": [],
   "source": [
    "driver.find_element(By.CSS_SELECTOR, 'form[id=\"myForm\"').text"
   ]
  },
  {
   "cell_type": "code",
   "execution_count": null,
   "id": "84be561b-9475-448c-9f06-bb11f630ad07",
   "metadata": {
    "tags": []
   },
   "outputs": [],
   "source": [
    "driver.find_element(By.CSS_SELECTOR, 'textarea[id=\"myTextarea\"]').get_attribute('rows')"
   ]
  },
  {
   "cell_type": "code",
   "execution_count": null,
   "id": "b8a92096-cf60-4f7b-9ca3-0f0f29758551",
   "metadata": {
    "tags": []
   },
   "outputs": [],
   "source": [
    "driver.find_element(By.ID, \"myTextInput\").click()\n",
    "#.sendKeys('Dhiraj Upadhyaya')"
   ]
  },
  {
   "cell_type": "code",
   "execution_count": null,
   "id": "eb2fe242-15cb-43d9-9887-97697cdbe6a4",
   "metadata": {
    "tags": []
   },
   "outputs": [],
   "source": [
    "driver.find_element(By.CSS_SELECTOR, \"a[href='https://seleniumbase.com']\").click()"
   ]
  },
  {
   "cell_type": "code",
   "execution_count": null,
   "id": "6099fe94-51da-44f1-9dbf-7d5535df8be7",
   "metadata": {
    "tags": []
   },
   "outputs": [],
   "source": [
    "driver.back()"
   ]
  },
  {
   "cell_type": "code",
   "execution_count": null,
   "id": "b3d2b936-58b6-4bbb-9548-ffb111e08ed6",
   "metadata": {
    "tags": []
   },
   "outputs": [],
   "source": [
    "driver.find_element(By.CSS_SELECTOR, \"#myTextarea\").text"
   ]
  },
  {
   "cell_type": "code",
   "execution_count": null,
   "id": "1370ac44-7f15-4f33-9498-11312787ad7c",
   "metadata": {
    "tags": []
   },
   "outputs": [],
   "source": [
    "driver.find_element(By.XPATH, \"myTextarea\").text"
   ]
  },
  {
   "cell_type": "code",
   "execution_count": null,
   "id": "916ecb58-71c1-4f5a-a841-157cbffc5c41",
   "metadata": {},
   "outputs": [],
   "source": [
    "eall = driver.find_elements(By.XPATH, '//*')"
   ]
  },
  {
   "cell_type": "code",
   "execution_count": null,
   "id": "8414d7af-9b59-47bc-a372-f152cef830d1",
   "metadata": {
    "tags": []
   },
   "outputs": [],
   "source": [
    "for i in eall[:10]:\n",
    "    print(i.text)"
   ]
  },
  {
   "cell_type": "code",
   "execution_count": null,
   "id": "f323b23f-4b95-413b-8616-7967a45341e7",
   "metadata": {
    "tags": []
   },
   "outputs": [],
   "source": [
    "ea = driver.find_elements(By.TAG_NAME , 'a')\n",
    "len(ea)"
   ]
  },
  {
   "cell_type": "code",
   "execution_count": null,
   "id": "c57c6c80-51be-4f74-90cd-8cb310307db5",
   "metadata": {
    "tags": []
   },
   "outputs": [],
   "source": [
    "for i in ea:\n",
    "    print(i.text, i.get_attribute('href'))"
   ]
  },
  {
   "cell_type": "code",
   "execution_count": null,
   "id": "21a3b0b2-8100-42e4-888d-bbc6b30fce87",
   "metadata": {
    "tags": []
   },
   "outputs": [],
   "source": [
    "driver.find_element(By.TAG_NAME , 'a[2]')"
   ]
  },
  {
   "cell_type": "code",
   "execution_count": null,
   "id": "93fe150d-2e41-484e-afbe-e24257cfc133",
   "metadata": {},
   "outputs": [],
   "source": []
  }
 ],
 "metadata": {
  "kernelspec": {
   "display_name": "Python 3 (ipykernel)",
   "language": "python",
   "name": "python3"
  },
  "language_info": {
   "codemirror_mode": {
    "name": "ipython",
    "version": 3
   },
   "file_extension": ".py",
   "mimetype": "text/x-python",
   "name": "python",
   "nbconvert_exporter": "python",
   "pygments_lexer": "ipython3",
   "version": "3.11.5"
  }
 },
 "nbformat": 4,
 "nbformat_minor": 5
}
