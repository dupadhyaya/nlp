{
 "cells": [
  {
   "cell_type": "code",
   "execution_count": 6,
   "id": "f6cfea2d-21ae-4de5-99bd-96e517e4e77c",
   "metadata": {
    "tags": []
   },
   "outputs": [],
   "source": [
    "# Simple Ex"
   ]
  },
  {
   "cell_type": "code",
   "execution_count": 1,
   "id": "ed1ebb93-59b8-400c-a3f1-f9996900975a",
   "metadata": {
    "tags": []
   },
   "outputs": [],
   "source": [
    "import time\n",
    "from selenium import webdriver\n",
    "from selenium.webdriver.common.by import By\n",
    "import os"
   ]
  },
  {
   "cell_type": "code",
   "execution_count": 2,
   "id": "2c6c7846-c4d4-40d1-98ec-2d5e5ff971e3",
   "metadata": {},
   "outputs": [],
   "source": [
    "driver = webdriver.Chrome()"
   ]
  },
  {
   "cell_type": "code",
   "execution_count": 3,
   "id": "c10be867-a29d-4215-b00e-47837d4da503",
   "metadata": {
    "tags": []
   },
   "outputs": [],
   "source": [
    "# Optional argument, if not specified will search path.\n",
    "driver.get('http://www.google.com/');\n",
    "time.sleep(5) # Let the user actually see something!"
   ]
  },
  {
   "cell_type": "code",
   "execution_count": 4,
   "id": "ddbd47bc-34a5-4f6e-9a5e-761734545407",
   "metadata": {
    "tags": []
   },
   "outputs": [],
   "source": [
    "search_box = driver.find_element(By.NAME,'q')\n",
    "search_box.send_keys('ChromeDriver')"
   ]
  },
  {
   "cell_type": "code",
   "execution_count": 5,
   "id": "8673f39f-6438-4575-bc26-f452eda5b570",
   "metadata": {
    "tags": []
   },
   "outputs": [],
   "source": [
    "search_box.submit()\n",
    "time.sleep(5) # Let the user actually see something!"
   ]
  },
  {
   "cell_type": "code",
   "execution_count": 6,
   "id": "a5cfba0a-1c39-4a2d-a085-f6c6f7f9590a",
   "metadata": {},
   "outputs": [],
   "source": [
    "driver.quit()"
   ]
  },
  {
   "cell_type": "markdown",
   "id": "f9fcce87-09fc-43e7-967c-370491872691",
   "metadata": {},
   "source": [
    "## Links\n",
    "- https://www.browserstack.com/guide/python-selenium-to-run-web-automation-test\n",
    "- https://www.simplilearn.com/tutorials/python-tutorial/selenium-with-python\n"
   ]
  },
  {
   "cell_type": "markdown",
   "id": "9f532b67-ccd3-4cee-b150-11e0f9f9954e",
   "metadata": {},
   "source": [
    "css_selector = '.coverUpload . pButton'\n",
    "button = find_element_by_css_selector(css_selector)\n",
    "button.click()"
   ]
  }
 ],
 "metadata": {
  "kernelspec": {
   "display_name": "Python 3 (ipykernel)",
   "language": "python",
   "name": "python3"
  },
  "language_info": {
   "codemirror_mode": {
    "name": "ipython",
    "version": 3
   },
   "file_extension": ".py",
   "mimetype": "text/x-python",
   "name": "python",
   "nbconvert_exporter": "python",
   "pygments_lexer": "ipython3",
   "version": "3.12.7"
  }
 },
 "nbformat": 4,
 "nbformat_minor": 5
}
