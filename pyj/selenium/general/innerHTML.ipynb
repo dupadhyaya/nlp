{
 "cells": [
  {
   "cell_type": "markdown",
   "id": "b6f9e406-feaf-4347-8ef2-782dc1ff06f4",
   "metadata": {
    "tags": []
   },
   "source": [
    "# Selenium - Inner & Outer HTML\n",
    "-  "
   ]
  },
  {
   "cell_type": "code",
   "execution_count": 2,
   "id": "fcbacd59-5477-4f36-9b7e-468040b5aa53",
   "metadata": {
    "tags": []
   },
   "outputs": [],
   "source": [
    "from selenium import webdriver\n",
    "from selenium.webdriver.common.by import By\n",
    "import pandas as pd\n",
    "from selenium.webdriver.chrome.service import Service\n",
    "import time\n",
    "from webdriver_manager.chrome import ChromeDriverManager"
   ]
  },
  {
   "cell_type": "code",
   "execution_count": 3,
   "id": "3aed5044-c6af-4c1d-9475-327e56301046",
   "metadata": {
    "tags": []
   },
   "outputs": [],
   "source": [
    "from bs4 import BeautifulSoup"
   ]
  },
  {
   "cell_type": "code",
   "execution_count": 4,
   "id": "8f2ad43c-5b1e-4e75-8e4e-a590d3c3933e",
   "metadata": {
    "tags": []
   },
   "outputs": [],
   "source": [
    "from selenium.webdriver.support.ui import WebDriverWait\n",
    "from selenium.webdriver.support import expected_conditions as EC"
   ]
  },
  {
   "cell_type": "code",
   "execution_count": 5,
   "id": "06f38917-41dc-4a39-bbdb-3a1c4fd49018",
   "metadata": {
    "tags": []
   },
   "outputs": [],
   "source": [
    "cService = webdriver.ChromeService()\n",
    "driver = webdriver.Chrome(service = cService)\n",
    "driver.set_page_load_timeout(200)"
   ]
  },
  {
   "cell_type": "code",
   "execution_count": 6,
   "id": "c35fe3e5-de9e-4820-b61c-fb0249402e3e",
   "metadata": {
    "tags": []
   },
   "outputs": [
    {
     "name": "stdout",
     "output_type": "stream",
     "text": [
      "Web of Science Master Journal List - WoS MJL by Clarivate\n"
     ]
    }
   ],
   "source": [
    "url2 = \"https://mjl.clarivate.com\"\n",
    "driver.get(url2)\n",
    "print(driver.title)"
   ]
  },
  {
   "cell_type": "code",
   "execution_count": 7,
   "id": "905addb4-7fed-40c3-9d5b-ceb14b8ad687",
   "metadata": {
    "tags": []
   },
   "outputs": [],
   "source": [
    "cbtn = driver.find_element(By.CSS_SELECTOR,'[aria-label=\"Close\"]')\n",
    "cbtn.click()"
   ]
  },
  {
   "cell_type": "code",
   "execution_count": 8,
   "id": "aef539d9-ec3b-4c65-b76c-405145c9047e",
   "metadata": {
    "tags": []
   },
   "outputs": [],
   "source": [
    "sbtn = driver.find_element(By.XPATH ,'//*[@id=\"search-button\"]/span[2]')\n",
    "sbtn.click()"
   ]
  },
  {
   "cell_type": "code",
   "execution_count": 9,
   "id": "1a53e6b9-bf6f-472a-99b9-3d05e2bec04f",
   "metadata": {
    "tags": []
   },
   "outputs": [],
   "source": [
    "# all unique tags\n",
    "elems = driver.find_elements(By.TAG_NAME,'*')\n",
    "tags = [x.tag_name for x in elems]"
   ]
  },
  {
   "cell_type": "code",
   "execution_count": 10,
   "id": "6b1add8f-cef2-4bc1-81d7-3d794c05a91c",
   "metadata": {
    "tags": []
   },
   "outputs": [
    {
     "name": "stdout",
     "output_type": "stream",
     "text": [
      "{'noscript', 'img', 'app-user-actions-list', 'path', 'app-main-menu', 'mat-sidenav-content', 'li', 'h2', 'head', 'mat-chip', 'footer', 'input', 'script', 'mat-slide-toggle', 'form', 'b', 'mat-sidenav', 'app-journal-search-box', 'app-sidenav-list', 'title', 'i', 'can-header', 'mat-card-header', 'em', 'app-manuscript-matcher-jargon-filter', 'link', 'strong', 'base', 'p', 'style', 'main', 'meta', 'mat-card-content', 'mat-expansion-panel-header', 'section', 'body', 'cdx-app', 'mat-chip-set', 'mat-sidenav-container', 'br', 'mat-select', 'router-outlet', 'hr', 'html', 'header', 'mat-expansion-panel', 'mat-checkbox', 'mat-card-title', 'mat-divider', 'mat-autocomplete', 'ul', 'mat-menu', 'h4', 'button', 'g', 'can-home-page', 'span', 'mat-card', 'mat-panel-title', 'mat-form-field', 'h1', 'iframe', 'div', 'h3', 'cdx-header-global', 'mat-paginator', 'mat-accordion', 'app-journal-search-results', 'can-footer', 'a', 'label', 'svg', 'mat-icon', 'app-journal-filters'}, "
     ]
    }
   ],
   "source": [
    "print(set(tags), end =', ')"
   ]
  },
  {
   "cell_type": "markdown",
   "id": "9f35c587-cab5-4bee-ba72-4d5a76cd2608",
   "metadata": {},
   "source": [
    "## Page Scrolling\n",
    "- Use WebDriverWait for elements to ensure the page has fully loaded before interacting.\n",
    "- Choose the appropriate selector (By.ID, By.XPATH, By.CLASS_NAME, etc.) for locating elements.\n",
    "- Make sure that the navigation elements (like “Next” or “Back”) are interactable and visible.\n"
   ]
  },
  {
   "cell_type": "markdown",
   "id": "fd5550fd-6974-489a-8478-0cdb475889e2",
   "metadata": {},
   "source": [
    "### After Initial Page\n",
    "- Click on the \"Next\" button/link\n",
    "    - next_button = driver.find_element(By.LINK_TEXT, \"Next\")  # Adjust as per your button text or use an appropriate selector\n",
    "    - next_button.click()"
   ]
  },
  {
   "cell_type": "code",
   "execution_count": 36,
   "id": "7faa2973-1d8c-4f70-8d7a-1ede45cb9093",
   "metadata": {
    "tags": []
   },
   "outputs": [
    {
     "name": "stdout",
     "output_type": "stream",
     "text": [
      "https://mjl.clarivate.com/search-results\n"
     ]
    }
   ],
   "source": [
    "print(driver.current_url)"
   ]
  },
  {
   "cell_type": "code",
   "execution_count": 32,
   "id": "d161c7dd-7efb-4ce9-a042-9c8202090adf",
   "metadata": {
    "tags": []
   },
   "outputs": [
    {
     "data": {
      "text/plain": [
       "'Items per page:\\n10'"
      ]
     },
     "execution_count": 32,
     "metadata": {},
     "output_type": "execute_result"
    }
   ],
   "source": [
    "# check for Tags - Items per page, Next page, Previous page\n",
    "e1 = '//mat-paginator/div/div/div[1]'\n",
    "npage = driver.find_element(By.XPATH, e1)\n",
    "npage.text"
   ]
  },
  {
   "cell_type": "code",
   "execution_count": 33,
   "id": "bf92835c-77ad-4dd8-9445-e0f1b79c3ab8",
   "metadata": {
    "tags": []
   },
   "outputs": [
    {
     "data": {
      "text/plain": [
       "'1 – 10 of 22588'"
      ]
     },
     "execution_count": 33,
     "metadata": {},
     "output_type": "execute_result"
    }
   ],
   "source": [
    "e2 = '//mat-paginator/div/div/div[2]'\n",
    "npage = driver.find_element(By.XPATH, e2)\n",
    "npage.text"
   ]
  },
  {
   "cell_type": "code",
   "execution_count": 42,
   "id": "c1392862-083d-491b-82dd-484957583434",
   "metadata": {
    "tags": []
   },
   "outputs": [
    {
     "data": {
      "text/plain": [
       "''"
      ]
     },
     "execution_count": 42,
     "metadata": {},
     "output_type": "execute_result"
    }
   ],
   "source": [
    "e3 = driver.find_element(By.XPATH,\"//*[contains(text(),'{}')]\".format(\"page\"))\n",
    "#npage = driver.find_element(By.XPATH, e3)\n",
    "e3.text"
   ]
  },
  {
   "cell_type": "code",
   "execution_count": 87,
   "id": "edc39181-95f0-4154-9604-39f6411de24b",
   "metadata": {
    "tags": []
   },
   "outputs": [
    {
     "data": {
      "text/plain": [
       "'1 – 10 of 22588'"
      ]
     },
     "execution_count": 87,
     "metadata": {},
     "output_type": "execute_result"
    }
   ],
   "source": [
    "#driver.find_element(By.PARTIAL_LINK_TEXT, \"View\").text\n",
    "#driver.find_element(By.XPATH, \"//*[contains(text()='Share This Journal)']\").text\n",
    "##/html/body/cdx-app/mat-sidenav-container/mat-sidenav-content/main/can-home-page/div/div/div/mat-sidenav-container/mat-sidenav-content/app-journal-search-results/div[1]/div[1]/div[2]/div/button/span[2]\n",
    "#driver.find_element(By.ID,'mat-paginator-page-size-label-0').text  # Items per page\n",
    "#driver.find_element(By.XPATH,\"//div[@class='mat-mdc-paginator-container']/div[1]\").text  # 'Items per page:\\n10'\n",
    "#driver.find_element(By.XPATH,\"//div[@class='mat-mdc-paginator-container']/div[1]/div[1]\").text  # 'Items per page\n",
    "#driver.find_element(By.XPATH,\"//div[@class='mat-mdc-paginator-container']/div[1]/div[1]\").text  # 'Items per page\n",
    "\n",
    "#driver.find_element(By.XPATH,\"//div[@class='mat-mdc-paginator-container']/div[2]\").text  # 1-10 of 22588\n",
    "driver.find_element(By.XPATH,\"//div[@class='mat-mdc-paginator-container']/div[2]/div[1]\").text  # 'Items per page\n",
    "\n",
    "\n"
   ]
  },
  {
   "cell_type": "code",
   "execution_count": 95,
   "id": "37d4a0ab-f4ce-4cbe-a36d-cb56a7a20fbf",
   "metadata": {
    "tags": []
   },
   "outputs": [],
   "source": [
    "driver.find_element(By.CSS_SELECTOR, '[aria-label=\"Last page\"]').click()"
   ]
  },
  {
   "cell_type": "code",
   "execution_count": 96,
   "id": "09ad2a75-3642-4dbd-98ef-497987f2c2d6",
   "metadata": {
    "tags": []
   },
   "outputs": [],
   "source": [
    "driver.find_element(By.CSS_SELECTOR, '[aria-label=\"First page\"]').click()"
   ]
  },
  {
   "cell_type": "code",
   "execution_count": 97,
   "id": "6880b467-e6c8-4181-b512-65c66b435bf6",
   "metadata": {
    "tags": []
   },
   "outputs": [],
   "source": [
    "driver.find_element(By.CSS_SELECTOR, '[aria-label=\"Next page\"]').click()"
   ]
  },
  {
   "cell_type": "code",
   "execution_count": 98,
   "id": "01a1cdc7-0c6f-4ced-9e4b-2955135ebdfd",
   "metadata": {
    "tags": []
   },
   "outputs": [],
   "source": [
    "driver.find_element(By.CSS_SELECTOR, '[aria-label=\"Previous page\"]').click()"
   ]
  },
  {
   "cell_type": "code",
   "execution_count": 100,
   "id": "989b37e3-b26a-42ff-b41e-5975dd886c6c",
   "metadata": {
    "tags": []
   },
   "outputs": [
    {
     "name": "stdout",
     "output_type": "stream",
     "text": [
      "20 ET 21-REVUE D HISTOIRE\n",
      "Publisher:\n",
      "PRESSES SCIENCES PO , 28 Rue Saint Guillaume, PARIS, France, 75017\n",
      "ISSN / eISSN:\n",
      "2649-664X / 2649-6100\n",
      "Web of Science Core Collection:\n",
      "Arts & Humanities Citation Index\n",
      "share\n",
      "Share This Journal\n",
      "View profile page\n",
      " * Requires free login.\n",
      "2D MATERIALS\n",
      "Publisher:\n",
      "IOP PUBLISHING LTD , TEMPLE CIRCUS, TEMPLE WAY, BRISTOL, ENGLAND, BS1 6BE\n",
      "ISSN / eISSN:\n",
      "2053-1583\n",
      "Web of Science Core Collection:\n",
      "Science Citation Index Expanded\n",
      "Additional Web of Science Indexes:\n",
      "Current Contents Physical, Chemical & Earth Sciences | Essential Science Indicators\n",
      "share\n",
      "Share This Journal\n",
      "View profile page\n",
      " * Requires free login.\n",
      "3 BIOTECH\n",
      "Publisher:\n",
      "SPRINGER HEIDELBERG , TIERGARTENSTRASSE 17, HEIDELBERG, GERMANY, D-69121\n",
      "ISSN / eISSN:\n",
      "2190-572X / 2190-5738\n",
      "Web of Science Core Collection:\n",
      "Science Citation Index Expanded\n",
      "Additional Web of Science Indexes:\n",
      "Biological Abstracts | BIOSIS Previews | Current Contents Life Sciences | Essential Science Indicators\n",
      "share\n",
      "Share This Journal\n",
      "View profile page\n",
      " * Requires free login.\n",
      "3C EMPRESA\n",
      "Publisher:\n",
      "AREA INNOVACION & DESARROLLO , C/ELS ALZAMORA NO 17, ALCOY, ALICANTE, SPAIN, 03802\n",
      "ISSN / eISSN:\n",
      "2254-3376\n",
      "Web of Science Core Collection:\n",
      "Emerging Sources Citation Index\n",
      "share\n",
      "Share This Journal\n",
      "View profile page\n",
      " * Requires free login.\n",
      "3C TECNOLOGIA\n",
      "Publisher:\n",
      "3CIENCIAS , C/ SANTA ROSA 15, ALCOY, SPAIN, 03802\n",
      "ISSN / eISSN:\n",
      "2254-4143\n",
      "Web of Science Core Collection:\n",
      "Emerging Sources Citation Index\n",
      "share\n",
      "Share This Journal\n",
      "View profile page\n",
      " * Requires free login.\n",
      "3C TIC\n",
      "Publisher:\n",
      "AREA INNOVACION & DESARROLLO , C/ELS ALZAMORA NO 17, ALCOY, ALICANTE, SPAIN, 03802\n",
      "ISSN / eISSN:\n",
      "2254-6529\n",
      "Web of Science Core Collection:\n",
      "Emerging Sources Citation Index\n",
      "share\n",
      "Share This Journal\n",
      "View profile page\n",
      " * Requires free login.\n",
      "3D PRINTING AND ADDITIVE MANUFACTURING\n",
      "Publisher:\n",
      "MARY ANN LIEBERT, INC , 140 HUGUENOT STREET, 3RD FL, NEW ROCHELLE, USA, NY, 10801\n",
      "ISSN / eISSN:\n",
      "2329-7662 / 2329-7670\n",
      "Web of Science Core Collection:\n",
      "Science Citation Index Expanded\n",
      "Additional Web of Science Indexes:\n",
      "Current Contents Engineering, Computing & Technology | Essential Science Indicators\n",
      "share\n",
      "Share This Journal\n",
      "View profile page\n",
      " * Requires free login.\n",
      "3D PRINTING IN MEDICINE\n",
      "Publisher:\n",
      "SPRINGERNATURE , CAMPUS, 4 CRINAN ST, LONDON, ENGLAND, N1 9XW\n",
      "ISSN / eISSN:\n",
      "2365-6271\n",
      "Web of Science Core Collection:\n",
      "Emerging Sources Citation Index\n",
      "share\n",
      "Share This Journal\n",
      "View profile page\n",
      " * Requires free login.\n",
      "3L-LANGUAGE LINGUISTICS LITERATURE-THE SOUTHEAST ASIAN JOURNAL OF ENGLISH LANGUAGE STUDIES\n",
      "Publisher:\n",
      "PENERBIT UNIV KEBANGSAAN MALAYSIA , PENERBIT UNIV KEBANGSAAN MALAYSIA, FAC SOCIAL SCIENCES & HUMANITIES, BANGI, Malaysia, SELANGOR, 43600\n",
      "ISSN / eISSN:\n",
      "0128-5157 / 2550-2247\n",
      "Web of Science Core Collection:\n",
      "Emerging Sources Citation Index\n",
      "share\n",
      "Share This Journal\n",
      "View profile page\n",
      " * Requires free login.\n",
      "452 F-REVISTA DE TEORIA DE LA LITERATURA Y LITERATURA COMPARADA\n",
      "Publisher:\n",
      "UNIV BARCELONA, FACULTAD FILOLOGIA , GRAN VIA DE LES CORTS CATALANES, 585, BARCELONA, SPAIN, 08007\n",
      "ISSN / eISSN:\n",
      "2013-3294\n",
      "Web of Science Core Collection:\n",
      "Emerging Sources Citation Index\n",
      "share\n",
      "Share This Journal\n",
      "View profile page\n",
      " * Requires free login.\n"
     ]
    }
   ],
   "source": [
    "cards = driver.find_elements(By.CSS_SELECTOR,'mat-card.mat-mdc-card.mdc-card.card-width-special')\n",
    "    \n",
    "for i in cards:\n",
    "   print(i.text)"
   ]
  },
  {
   "cell_type": "markdown",
   "id": "c0c37099-feb0-433f-8b20-09d86aa3c092",
   "metadata": {},
   "source": [
    "## Every Page on new url\n",
    "### URLS\n",
    "- Move to the next page by URL\n",
    "    -  driver.get(\"https://example.com/page2\")\n",
    "- Move back to the previous page\n",
    "    - driver.get(\"https://example.com/page1\")\n",
    "### Back & Fwd\n",
    "- Go to the next page\n",
    "    -  driver.get(\"https://example.com/page2\")\n",
    "- Navigate back in browser history\n",
    "    -  driver.back()\n",
    "- Navigate forward in browser history\n",
    "    - driver.forward()"
   ]
  },
  {
   "cell_type": "code",
   "execution_count": null,
   "id": "1b41bdcb-f458-47e0-86be-c4e32c709c72",
   "metadata": {},
   "outputs": [],
   "source": []
  },
  {
   "cell_type": "markdown",
   "id": "044aa6e8-3e67-4a29-a1ba-01c3ec8959f0",
   "metadata": {},
   "source": [
    "## Dynamic Navigation\n",
    "while True:\n",
    "    try:\n",
    "        # Click on the \"Next\" button\n",
    "        next_button = driver.find_element(By.XPATH, \"//a[text()='Next']\")  # Adjust selector\n",
    "        next_button.click()\n",
    "        \n",
    "        # Optionally, wait for the page to load\n",
    "        # You can use WebDriverWait for better reliability\n",
    "\n",
    "    except:\n",
    "        # Break if \"Next\" button is not found\n",
    "        print(\"No more pages.\")\n",
    "        break\n",
    "\n",
    "- Go back through browser history if needed\n",
    "    - driver.back()"
   ]
  },
  {
   "cell_type": "code",
   "execution_count": 119,
   "id": "5f55e0b7-5dcc-4901-83a8-c28bdefe0607",
   "metadata": {
    "tags": []
   },
   "outputs": [
    {
     "name": "stdout",
     "output_type": "stream",
     "text": [
      "ISSN / eISSN:\n",
      "ISSN / eISSN:\n",
      "ISSN / eISSN:\n",
      "ISSN / eISSN:\n",
      "ISSN / eISSN:\n",
      "ISSN / eISSN:\n",
      "ISSN / eISSN:\n",
      "ISSN / eISSN:\n",
      "ISSN / eISSN:\n",
      "ISSN / eISSN:\n"
     ]
    }
   ],
   "source": [
    "for e in driver.find_elements(By.XPATH, \"//div[@class='ng-star-inserted']//*[contains(text(),'ISSN')]\"):  print(e.get_attribute('innerHTML'))"
   ]
  },
  {
   "cell_type": "code",
   "execution_count": 140,
   "id": "ea9c2a8c-c7fa-4569-9987-e6355c098bf4",
   "metadata": {
    "tags": []
   },
   "outputs": [
    {
     "name": "stdout",
     "output_type": "stream",
     "text": [
      "<!---->\n",
      "\n",
      "<div _ngcontent-ng-c3178260447=\"\" class=\"search-results-row ng-star-inserted\"><div _ngcontent-ng-c3178260447=\"\" class=\"search-results-title\">Publisher:</div><div _ngcontent-ng-c3178260447=\"\" class=\"search-results-value\"> PRESSES SCIENCES PO , <!----><!---->28 Rue Saint Guillaume, PARIS, France, 75017 </div></div><!----><div _ngcontent-ng-c3178260447=\"\" class=\"search-results-row ng-star-inserted\"><div _ngcontent-ng-c3178260447=\"\" class=\"search-results-title\">ISSN / eISSN:</div><div _ngcontent-ng-c3178260447=\"\" class=\"search-results-value\"> 2649-664X / 2649-6100 </div></div><!----><div _ngcontent-ng-c3178260447=\"\" class=\"search-results-row ng-star-inserted\"><div _ngcontent-ng-c3178260447=\"\" class=\"search-results-title-wide-col\"><em _ngcontent-ng-c3178260447=\"\">Web of Science</em> Core Collection: </div><div _ngcontent-ng-c3178260447=\"\" class=\"search-results-value\"> Arts &amp; Humanities Citation Index </div></div><!----><!----><!----><!---->\n",
      "<!---->\n",
      "\n",
      "<div _ngcontent-ng-c3178260447=\"\" class=\"search-results-row ng-star-inserted\"><div _ngcontent-ng-c3178260447=\"\" class=\"search-results-title\">Publisher:</div><div _ngcontent-ng-c3178260447=\"\" class=\"search-results-value\"> IOP PUBLISHING LTD , <!----><!---->TEMPLE CIRCUS, TEMPLE WAY, BRISTOL, ENGLAND, BS1 6BE </div></div><!----><div _ngcontent-ng-c3178260447=\"\" class=\"search-results-row ng-star-inserted\"><div _ngcontent-ng-c3178260447=\"\" class=\"search-results-title\">ISSN / eISSN:</div><div _ngcontent-ng-c3178260447=\"\" class=\"search-results-value\"> 2053-1583 </div></div><!----><div _ngcontent-ng-c3178260447=\"\" class=\"search-results-row ng-star-inserted\"><div _ngcontent-ng-c3178260447=\"\" class=\"search-results-title-wide-col\"><em _ngcontent-ng-c3178260447=\"\">Web of Science</em> Core Collection: </div><div _ngcontent-ng-c3178260447=\"\" class=\"search-results-value\"> Science Citation Index Expanded </div></div><!----><!----><!----><div _ngcontent-ng-c3178260447=\"\" class=\"search-results-row ng-star-inserted\"><div _ngcontent-ng-c3178260447=\"\" class=\"search-results-title-wide-col\"> Additional <em _ngcontent-ng-c3178260447=\"\">Web of Science</em> Indexes: </div><div _ngcontent-ng-c3178260447=\"\" class=\"search-results-value\"> Current Contents Physical, Chemical &amp; Earth Sciences | Essential Science Indicators </div></div><!----><!---->\n",
      "<!---->\n",
      "\n",
      "<div _ngcontent-ng-c3178260447=\"\" class=\"search-results-row ng-star-inserted\"><div _ngcontent-ng-c3178260447=\"\" class=\"search-results-title\">Publisher:</div><div _ngcontent-ng-c3178260447=\"\" class=\"search-results-value\"> SPRINGER HEIDELBERG , <!----><!---->TIERGARTENSTRASSE 17, HEIDELBERG, GERMANY, D-69121 </div></div><!----><div _ngcontent-ng-c3178260447=\"\" class=\"search-results-row ng-star-inserted\"><div _ngcontent-ng-c3178260447=\"\" class=\"search-results-title\">ISSN / eISSN:</div><div _ngcontent-ng-c3178260447=\"\" class=\"search-results-value\"> 2190-572X / 2190-5738 </div></div><!----><div _ngcontent-ng-c3178260447=\"\" class=\"search-results-row ng-star-inserted\"><div _ngcontent-ng-c3178260447=\"\" class=\"search-results-title-wide-col\"><em _ngcontent-ng-c3178260447=\"\">Web of Science</em> Core Collection: </div><div _ngcontent-ng-c3178260447=\"\" class=\"search-results-value\"> Science Citation Index Expanded </div></div><!----><!----><!----><div _ngcontent-ng-c3178260447=\"\" class=\"search-results-row ng-star-inserted\"><div _ngcontent-ng-c3178260447=\"\" class=\"search-results-title-wide-col\"> Additional <em _ngcontent-ng-c3178260447=\"\">Web of Science</em> Indexes: </div><div _ngcontent-ng-c3178260447=\"\" class=\"search-results-value\"> Biological Abstracts | BIOSIS Previews | Current Contents Life Sciences | Essential Science Indicators </div></div><!----><!---->\n",
      "<!---->\n",
      "\n",
      "<div _ngcontent-ng-c3178260447=\"\" class=\"search-results-row ng-star-inserted\"><div _ngcontent-ng-c3178260447=\"\" class=\"search-results-title\">Publisher:</div><div _ngcontent-ng-c3178260447=\"\" class=\"search-results-value\"> AREA INNOVACION &amp; DESARROLLO , <!----><!---->C/ELS ALZAMORA NO 17, ALCOY, ALICANTE, SPAIN, 03802 </div></div><!----><div _ngcontent-ng-c3178260447=\"\" class=\"search-results-row ng-star-inserted\"><div _ngcontent-ng-c3178260447=\"\" class=\"search-results-title\">ISSN / eISSN:</div><div _ngcontent-ng-c3178260447=\"\" class=\"search-results-value\"> 2254-3376 </div></div><!----><div _ngcontent-ng-c3178260447=\"\" class=\"search-results-row ng-star-inserted\"><div _ngcontent-ng-c3178260447=\"\" class=\"search-results-title-wide-col\"><em _ngcontent-ng-c3178260447=\"\">Web of Science</em> Core Collection: </div><div _ngcontent-ng-c3178260447=\"\" class=\"search-results-value\"> Emerging Sources Citation Index </div></div><!----><!----><!----><!---->\n",
      "<!---->\n",
      "\n",
      "<div _ngcontent-ng-c3178260447=\"\" class=\"search-results-row ng-star-inserted\"><div _ngcontent-ng-c3178260447=\"\" class=\"search-results-title\">Publisher:</div><div _ngcontent-ng-c3178260447=\"\" class=\"search-results-value\"> 3CIENCIAS , <!----><!---->C/ SANTA ROSA 15, ALCOY, SPAIN, 03802 </div></div><!----><div _ngcontent-ng-c3178260447=\"\" class=\"search-results-row ng-star-inserted\"><div _ngcontent-ng-c3178260447=\"\" class=\"search-results-title\">ISSN / eISSN:</div><div _ngcontent-ng-c3178260447=\"\" class=\"search-results-value\"> 2254-4143 </div></div><!----><div _ngcontent-ng-c3178260447=\"\" class=\"search-results-row ng-star-inserted\"><div _ngcontent-ng-c3178260447=\"\" class=\"search-results-title-wide-col\"><em _ngcontent-ng-c3178260447=\"\">Web of Science</em> Core Collection: </div><div _ngcontent-ng-c3178260447=\"\" class=\"search-results-value\"> Emerging Sources Citation Index </div></div><!----><!----><!----><!---->\n",
      "<!---->\n",
      "\n",
      "<div _ngcontent-ng-c3178260447=\"\" class=\"search-results-row ng-star-inserted\"><div _ngcontent-ng-c3178260447=\"\" class=\"search-results-title\">Publisher:</div><div _ngcontent-ng-c3178260447=\"\" class=\"search-results-value\"> AREA INNOVACION &amp; DESARROLLO , <!----><!---->C/ELS ALZAMORA NO 17, ALCOY, ALICANTE, SPAIN, 03802 </div></div><!----><div _ngcontent-ng-c3178260447=\"\" class=\"search-results-row ng-star-inserted\"><div _ngcontent-ng-c3178260447=\"\" class=\"search-results-title\">ISSN / eISSN:</div><div _ngcontent-ng-c3178260447=\"\" class=\"search-results-value\"> 2254-6529 </div></div><!----><div _ngcontent-ng-c3178260447=\"\" class=\"search-results-row ng-star-inserted\"><div _ngcontent-ng-c3178260447=\"\" class=\"search-results-title-wide-col\"><em _ngcontent-ng-c3178260447=\"\">Web of Science</em> Core Collection: </div><div _ngcontent-ng-c3178260447=\"\" class=\"search-results-value\"> Emerging Sources Citation Index </div></div><!----><!----><!----><!---->\n",
      "<!---->\n",
      "\n",
      "<div _ngcontent-ng-c3178260447=\"\" class=\"search-results-row ng-star-inserted\"><div _ngcontent-ng-c3178260447=\"\" class=\"search-results-title\">Publisher:</div><div _ngcontent-ng-c3178260447=\"\" class=\"search-results-value\"> MARY ANN LIEBERT, INC , <!----><!---->140 HUGUENOT STREET, 3RD FL, NEW ROCHELLE, USA, NY, 10801 </div></div><!----><div _ngcontent-ng-c3178260447=\"\" class=\"search-results-row ng-star-inserted\"><div _ngcontent-ng-c3178260447=\"\" class=\"search-results-title\">ISSN / eISSN:</div><div _ngcontent-ng-c3178260447=\"\" class=\"search-results-value\"> 2329-7662 / 2329-7670 </div></div><!----><div _ngcontent-ng-c3178260447=\"\" class=\"search-results-row ng-star-inserted\"><div _ngcontent-ng-c3178260447=\"\" class=\"search-results-title-wide-col\"><em _ngcontent-ng-c3178260447=\"\">Web of Science</em> Core Collection: </div><div _ngcontent-ng-c3178260447=\"\" class=\"search-results-value\"> Science Citation Index Expanded </div></div><!----><!----><!----><div _ngcontent-ng-c3178260447=\"\" class=\"search-results-row ng-star-inserted\"><div _ngcontent-ng-c3178260447=\"\" class=\"search-results-title-wide-col\"> Additional <em _ngcontent-ng-c3178260447=\"\">Web of Science</em> Indexes: </div><div _ngcontent-ng-c3178260447=\"\" class=\"search-results-value\"> Current Contents Engineering, Computing &amp; Technology | Essential Science Indicators </div></div><!----><!---->\n",
      "<!---->\n",
      "\n",
      "<div _ngcontent-ng-c3178260447=\"\" class=\"search-results-row ng-star-inserted\"><div _ngcontent-ng-c3178260447=\"\" class=\"search-results-title\">Publisher:</div><div _ngcontent-ng-c3178260447=\"\" class=\"search-results-value\"> SPRINGERNATURE , <!----><!---->CAMPUS, 4 CRINAN ST, LONDON, ENGLAND, N1 9XW </div></div><!----><div _ngcontent-ng-c3178260447=\"\" class=\"search-results-row ng-star-inserted\"><div _ngcontent-ng-c3178260447=\"\" class=\"search-results-title\">ISSN / eISSN:</div><div _ngcontent-ng-c3178260447=\"\" class=\"search-results-value\"> 2365-6271 </div></div><!----><div _ngcontent-ng-c3178260447=\"\" class=\"search-results-row ng-star-inserted\"><div _ngcontent-ng-c3178260447=\"\" class=\"search-results-title-wide-col\"><em _ngcontent-ng-c3178260447=\"\">Web of Science</em> Core Collection: </div><div _ngcontent-ng-c3178260447=\"\" class=\"search-results-value\"> Emerging Sources Citation Index </div></div><!----><!----><!----><!---->\n",
      "<!---->\n",
      "\n",
      "<div _ngcontent-ng-c3178260447=\"\" class=\"search-results-row ng-star-inserted\"><div _ngcontent-ng-c3178260447=\"\" class=\"search-results-title\">Publisher:</div><div _ngcontent-ng-c3178260447=\"\" class=\"search-results-value\"> PENERBIT UNIV KEBANGSAAN MALAYSIA , <!----><!---->PENERBIT UNIV KEBANGSAAN MALAYSIA, FAC SOCIAL SCIENCES &amp; HUMANITIES, BANGI, Malaysia, SELANGOR, 43600 </div></div><!----><div _ngcontent-ng-c3178260447=\"\" class=\"search-results-row ng-star-inserted\"><div _ngcontent-ng-c3178260447=\"\" class=\"search-results-title\">ISSN / eISSN:</div><div _ngcontent-ng-c3178260447=\"\" class=\"search-results-value\"> 0128-5157 / 2550-2247 </div></div><!----><div _ngcontent-ng-c3178260447=\"\" class=\"search-results-row ng-star-inserted\"><div _ngcontent-ng-c3178260447=\"\" class=\"search-results-title-wide-col\"><em _ngcontent-ng-c3178260447=\"\">Web of Science</em> Core Collection: </div><div _ngcontent-ng-c3178260447=\"\" class=\"search-results-value\"> Emerging Sources Citation Index </div></div><!----><!----><!----><!---->\n",
      "<!---->\n",
      "\n",
      "<div _ngcontent-ng-c3178260447=\"\" class=\"search-results-row ng-star-inserted\"><div _ngcontent-ng-c3178260447=\"\" class=\"search-results-title\">Publisher:</div><div _ngcontent-ng-c3178260447=\"\" class=\"search-results-value\"> UNIV BARCELONA, FACULTAD FILOLOGIA , <!----><!---->GRAN VIA DE LES CORTS CATALANES, 585, BARCELONA, SPAIN, 08007 </div></div><!----><div _ngcontent-ng-c3178260447=\"\" class=\"search-results-row ng-star-inserted\"><div _ngcontent-ng-c3178260447=\"\" class=\"search-results-title\">ISSN / eISSN:</div><div _ngcontent-ng-c3178260447=\"\" class=\"search-results-value\"> 2013-3294 </div></div><!----><div _ngcontent-ng-c3178260447=\"\" class=\"search-results-row ng-star-inserted\"><div _ngcontent-ng-c3178260447=\"\" class=\"search-results-title-wide-col\"><em _ngcontent-ng-c3178260447=\"\">Web of Science</em> Core Collection: </div><div _ngcontent-ng-c3178260447=\"\" class=\"search-results-value\"> Emerging Sources Citation Index </div></div><!----><!----><!----><!---->\n"
     ]
    }
   ],
   "source": [
    "for e in driver.find_elements(By.XPATH, \"//div[@class='search-results']\"):   print(e.get_attribute('innerHTML'))"
   ]
  },
  {
   "cell_type": "code",
   "execution_count": 166,
   "id": "87b59710-c3b4-421e-b9f3-56b51c5bdec7",
   "metadata": {
    "tags": []
   },
   "outputs": [
    {
     "data": {
      "text/plain": [
       "30"
      ]
     },
     "execution_count": 166,
     "metadata": {},
     "output_type": "execute_result"
    }
   ],
   "source": [
    "# Parse the innerHTML using BeautifulSoup\n",
    "e2 = driver.find_elements(By.XPATH, \"//div[@class='search-results']\")\n",
    "len(e2)"
   ]
  },
  {
   "cell_type": "code",
   "execution_count": 167,
   "id": "8ea2dbd2-970c-49f9-a152-5f001e2fecf3",
   "metadata": {
    "tags": []
   },
   "outputs": [
    {
     "name": "stdout",
     "output_type": "stream",
     "text": [
      "1 \n",
      "2 \n",
      "3 Publisher: PRESSES SCIENCES PO , 28 Rue Saint Guillaume, PARIS, France, 75017 ISSN / eISSN: 2649-664X / 2649-6100 Web of Science Core Collection:  Arts & Humanities Citation Index \n",
      "4 \n",
      "5 \n",
      "6 Publisher: IOP PUBLISHING LTD , TEMPLE CIRCUS, TEMPLE WAY, BRISTOL, ENGLAND, BS1 6BE ISSN / eISSN: 2053-1583 Web of Science Core Collection:  Science Citation Index Expanded  Additional Web of Science Indexes:  Current Contents Physical, Chemical & Earth Sciences | Essential Science Indicators \n",
      "7 \n",
      "8 \n",
      "9 Publisher: SPRINGER HEIDELBERG , TIERGARTENSTRASSE 17, HEIDELBERG, GERMANY, D-69121 ISSN / eISSN: 2190-572X / 2190-5738 Web of Science Core Collection:  Science Citation Index Expanded  Additional Web of Science Indexes:  Biological Abstracts | BIOSIS Previews | Current Contents Life Sciences | Essential Science Indicators \n",
      "10 \n",
      "11 \n",
      "12 Publisher: AREA INNOVACION & DESARROLLO , C/ELS ALZAMORA NO 17, ALCOY, ALICANTE, SPAIN, 03802 ISSN / eISSN: 2254-3376 Web of Science Core Collection:  Emerging Sources Citation Index \n",
      "13 \n",
      "14 \n",
      "15 Publisher: 3CIENCIAS , C/ SANTA ROSA 15, ALCOY, SPAIN, 03802 ISSN / eISSN: 2254-4143 Web of Science Core Collection:  Emerging Sources Citation Index \n",
      "16 \n",
      "17 \n",
      "18 Publisher: AREA INNOVACION & DESARROLLO , C/ELS ALZAMORA NO 17, ALCOY, ALICANTE, SPAIN, 03802 ISSN / eISSN: 2254-6529 Web of Science Core Collection:  Emerging Sources Citation Index \n",
      "19 \n",
      "20 \n",
      "21 Publisher: MARY ANN LIEBERT, INC , 140 HUGUENOT STREET, 3RD FL, NEW ROCHELLE, USA, NY, 10801 ISSN / eISSN: 2329-7662 / 2329-7670 Web of Science Core Collection:  Science Citation Index Expanded  Additional Web of Science Indexes:  Current Contents Engineering, Computing & Technology | Essential Science Indicators \n",
      "22 \n",
      "23 \n",
      "24 Publisher: SPRINGERNATURE , CAMPUS, 4 CRINAN ST, LONDON, ENGLAND, N1 9XW ISSN / eISSN: 2365-6271 Web of Science Core Collection:  Emerging Sources Citation Index \n",
      "25 \n",
      "26 \n",
      "27 Publisher: PENERBIT UNIV KEBANGSAAN MALAYSIA , PENERBIT UNIV KEBANGSAAN MALAYSIA, FAC SOCIAL SCIENCES & HUMANITIES, BANGI, Malaysia, SELANGOR, 43600 ISSN / eISSN: 0128-5157 / 2550-2247 Web of Science Core Collection:  Emerging Sources Citation Index \n",
      "28 \n",
      "29 \n",
      "30 Publisher: UNIV BARCELONA, FACULTAD FILOLOGIA , GRAN VIA DE LES CORTS CATALANES, 585, BARCELONA, SPAIN, 08007 ISSN / eISSN: 2013-3294 Web of Science Core Collection:  Emerging Sources Citation Index \n"
     ]
    }
   ],
   "source": [
    "i = 0\n",
    "for e in e2:\n",
    "    inner_html = e.get_attribute(\"innerHTML\")\n",
    "    soup = BeautifulSoup(inner_html, 'html.parser')\n",
    "    plain_text = soup.get_text()\n",
    "    i = i + 1\n",
    "    print(i, plain_text)"
   ]
  },
  {
   "cell_type": "code",
   "execution_count": null,
   "id": "2ffd860e-e1b0-41e8-b353-9908fbf17d29",
   "metadata": {},
   "outputs": [],
   "source": []
  },
  {
   "cell_type": "markdown",
   "id": "f4d37795-3b4b-4d15-aaac-26e173d3f5b0",
   "metadata": {},
   "source": [
    "## Footer Tag\n",
    "--- "
   ]
  },
  {
   "cell_type": "code",
   "execution_count": 168,
   "id": "f8bd51c8-5233-41c2-ae37-c68943510324",
   "metadata": {
    "tags": []
   },
   "outputs": [],
   "source": [
    "xp1 = \"//*[contains(text(),'Publisher')]\""
   ]
  },
  {
   "cell_type": "code",
   "execution_count": 169,
   "id": "0900750c-309b-4044-b46c-c21b19e0742c",
   "metadata": {
    "tags": []
   },
   "outputs": [
    {
     "data": {
      "text/plain": [
       "12"
      ]
     },
     "execution_count": 169,
     "metadata": {},
     "output_type": "execute_result"
    }
   ],
   "source": [
    "e1 = driver.find_elements(By.XPATH, xp1)\n",
    "len(e1)"
   ]
  },
  {
   "cell_type": "code",
   "execution_count": 170,
   "id": "366148d0-752d-4042-a444-5e8d1cea7b58",
   "metadata": {
    "tags": []
   },
   "outputs": [
    {
     "name": "stdout",
     "output_type": "stream",
     "text": [
      "\n",
      "Publisher:\n",
      "Publisher:\n",
      "Publisher:\n",
      "Publisher:\n",
      "Publisher:\n",
      "Publisher:\n",
      "Publisher:\n",
      "Publisher:\n",
      "Publisher:\n",
      "Publisher:\n",
      "Editorial Disclaimer: As an independent organization, Clarivate does not become involved in and is not responsible for the editorial management of any journal or the business practices of any publisher. Publishers are accountable for their journal performance and compliance with ethical publishing standards. The views and opinions expressed in any journal are those of the author(s) and do not necessarily reflect the views or opinions of Clarivate. Clarivate remains neutral in relation to territorial disputes, and allows journals, publishers, institutes and authors to specify their address and affiliation details including territory.\n",
      "\n",
      "Criteria for selection of newly submitted titles and re-evaluation of existing titles in the Web of Science are determined by the Web of Science Editors in their sole discretion. If a publisher’s editorial policy or business practices negatively impact the quality of a journal, or its role in the surrounding literature of the subject, the Web of Science Editors may decline to include the journal in any Clarivate product or service. The Web of Science Editors, in their sole discretion, may remove titles from coverage at any point if the titles fail to maintain our standard of quality, do not comply with ethical standards, or otherwise do not meet the criteria determined by the Web of Science Editors. If a journal is deselected or removed from coverage, the journal will cease to be indexed in the Web of Science from a date determined by the Web of Science Editors in their sole discretion – articles published after that date will not be indexed. The Web of Science Editors’ decision on all matters relating to journal coverage will be final.\n"
     ]
    }
   ],
   "source": [
    "for i in e1 : print(i.text)"
   ]
  },
  {
   "cell_type": "code",
   "execution_count": null,
   "id": "1182358c-5041-4d7e-aaa1-0175b996029a",
   "metadata": {},
   "outputs": [],
   "source": []
  },
  {
   "cell_type": "markdown",
   "id": "3c39a4fb-6cc2-4a89-be90-a24685656a19",
   "metadata": {},
   "source": [
    "## Wait for Element\n",
    "- "
   ]
  },
  {
   "cell_type": "code",
   "execution_count": 165,
   "id": "d5297651-fae5-4e0f-b039-73b0394b3eef",
   "metadata": {
    "tags": []
   },
   "outputs": [
    {
     "ename": "TimeoutException",
     "evalue": "Message: \n",
     "output_type": "error",
     "traceback": [
      "\u001b[0;31m---------------------------------------------------------------------------\u001b[0m",
      "\u001b[0;31mTimeoutException\u001b[0m                          Traceback (most recent call last)",
      "Cell \u001b[0;32mIn[165], line 1\u001b[0m\n\u001b[0;32m----> 1\u001b[0m xp1\u001b[38;5;241m=\u001b[39mWebDriverWait(driver, \u001b[38;5;241m5\u001b[39m)\u001b[38;5;241m.\u001b[39muntil(EC\u001b[38;5;241m.\u001b[39mvisibility_of_element_located((By\u001b[38;5;241m.\u001b[39mXPATH, \u001b[38;5;124m\"\u001b[39m\u001b[38;5;124m//*[contains(text(),\u001b[39m\u001b[38;5;124m'\u001b[39m\u001b[38;5;124mPublisher\u001b[39m\u001b[38;5;124m'\u001b[39m\u001b[38;5;124m)]\u001b[39m\u001b[38;5;124m\"\u001b[39m)))\n",
      "File \u001b[0;32m~/anaconda3/lib/python3.11/site-packages/selenium/webdriver/support/wait.py:105\u001b[0m, in \u001b[0;36mWebDriverWait.until\u001b[0;34m(self, method, message)\u001b[0m\n\u001b[1;32m    103\u001b[0m     \u001b[38;5;28;01mif\u001b[39;00m time\u001b[38;5;241m.\u001b[39mmonotonic() \u001b[38;5;241m>\u001b[39m end_time:\n\u001b[1;32m    104\u001b[0m         \u001b[38;5;28;01mbreak\u001b[39;00m\n\u001b[0;32m--> 105\u001b[0m \u001b[38;5;28;01mraise\u001b[39;00m TimeoutException(message, screen, stacktrace)\n",
      "\u001b[0;31mTimeoutException\u001b[0m: Message: \n"
     ]
    }
   ],
   "source": [
    "xp1=WebDriverWait(driver, 5).until(EC.visibility_of_element_located((By.XPATH, \"//*[contains(text(),'Publisher')]\")))"
   ]
  },
  {
   "cell_type": "code",
   "execution_count": null,
   "id": "02132db5-b257-456c-a84a-0ece29bf6900",
   "metadata": {
    "tags": []
   },
   "outputs": [],
   "source": [
    "e1 = driver.find_elements(By.XPATH, xp1)\n",
    "len(e1)"
   ]
  },
  {
   "cell_type": "markdown",
   "id": "ddd52432-effc-4f81-b6db-867f630a1ba9",
   "metadata": {},
   "source": [
    "## Footer\n",
    "- /html/body/cdx-app/mat-sidenav-container/mat-sidenav-content/can-footer/div[2]/div"
   ]
  },
  {
   "cell_type": "code",
   "execution_count": 63,
   "id": "8b27443c-275f-4dea-bd1e-52e48199356c",
   "metadata": {
    "tags": []
   },
   "outputs": [
    {
     "name": "stdout",
     "output_type": "stream",
     "text": [
      "text visible...\n"
     ]
    }
   ],
   "source": [
    "expected_footer = \"Editorial Disclaimer\"\n",
    "if expected_footer in WebDriverWait(driver, 5).until(EC.visibility_of_element_located((By.XPATH, \"//can-footer/div[2]\"))).text :\n",
    "    print(\"text visible...\")\n",
    "else:\n",
    "    print('Text Not Found')"
   ]
  },
  {
   "cell_type": "code",
   "execution_count": 66,
   "id": "e6434148-03ef-4672-a3df-ce3d1b96c73f",
   "metadata": {
    "tags": []
   },
   "outputs": [],
   "source": [
    "driver.fullscreen_window()"
   ]
  },
  {
   "cell_type": "code",
   "execution_count": 72,
   "id": "7bbfb8ef-cafb-49d6-8ff7-2bc2bbb83ed0",
   "metadata": {
    "tags": []
   },
   "outputs": [
    {
     "data": {
      "text/plain": [
       "{'width': 1512, 'height': 945}"
      ]
     },
     "execution_count": 72,
     "metadata": {},
     "output_type": "execute_result"
    }
   ],
   "source": [
    "driver.get_window_size()"
   ]
  },
  {
   "cell_type": "code",
   "execution_count": 78,
   "id": "6c4aef0d-f451-4e80-b9ad-d4f5d1851f39",
   "metadata": {
    "tags": []
   },
   "outputs": [
    {
     "data": {
      "text/plain": [
       "'JVBERi0xLj'"
      ]
     },
     "execution_count": 78,
     "metadata": {},
     "output_type": "execute_result"
    }
   ],
   "source": [
    "driver.print_page()[0:10]"
   ]
  },
  {
   "cell_type": "code",
   "execution_count": 80,
   "id": "fe1c6849-91af-4adc-a532-9b8f0273213a",
   "metadata": {
    "tags": []
   },
   "outputs": [],
   "source": [
    "#driver.get_screenshot_as_png()"
   ]
  },
  {
   "cell_type": "code",
   "execution_count": 84,
   "id": "a052d3da-fc3b-49b1-ac91-3ed20ee90378",
   "metadata": {
    "tags": []
   },
   "outputs": [
    {
     "data": {
      "text/plain": [
       "<selenium.webdriver.common.timeouts.Timeouts at 0x14ffaf8d0>"
      ]
     },
     "execution_count": 84,
     "metadata": {},
     "output_type": "execute_result"
    }
   ],
   "source": [
    "driver.timeouts"
   ]
  },
  {
   "cell_type": "code",
   "execution_count": 85,
   "id": "3bc5820b-8179-4fe3-94dc-c28b692823ea",
   "metadata": {
    "tags": []
   },
   "outputs": [
    {
     "data": {
      "text/plain": [
       "<bound method ChromiumDriver.start_desktop_mirroring of <selenium.webdriver.chrome.webdriver.WebDriver (session=\"e008ff9510969b78af7b6e24298115a9\")>>"
      ]
     },
     "execution_count": 85,
     "metadata": {},
     "output_type": "execute_result"
    }
   ],
   "source": [
    "driver.start_desktop_mirroring"
   ]
  },
  {
   "cell_type": "code",
   "execution_count": 91,
   "id": "705ee608-d359-4863-b98b-8805cd99804f",
   "metadata": {
    "tags": []
   },
   "outputs": [
    {
     "data": {
      "text/plain": [
       "<bound method WebDriver.set_window_rect of <selenium.webdriver.chrome.webdriver.WebDriver (session=\"e008ff9510969b78af7b6e24298115a9\")>>"
      ]
     },
     "execution_count": 91,
     "metadata": {},
     "output_type": "execute_result"
    }
   ],
   "source": [
    "driver.set_window_rect"
   ]
  },
  {
   "cell_type": "code",
   "execution_count": 163,
   "id": "ca3ec6e8-0913-4ad1-aa3b-16b63a185556",
   "metadata": {
    "tags": []
   },
   "outputs": [],
   "source": [
    "driver.refresh()"
   ]
  },
  {
   "cell_type": "code",
   "execution_count": 131,
   "id": "6a697d5c-450c-4c25-8d26-da8d9243dedd",
   "metadata": {
    "tags": []
   },
   "outputs": [],
   "source": [
    "#driver.quit(), driver.close()"
   ]
  },
  {
   "cell_type": "code",
   "execution_count": 156,
   "id": "b767f971-74dc-4564-b03f-0e06f196ae12",
   "metadata": {
    "tags": []
   },
   "outputs": [
    {
     "data": {
      "text/plain": [
       "1"
      ]
     },
     "execution_count": 156,
     "metadata": {},
     "output_type": "execute_result"
    }
   ],
   "source": [
    "e = driver.find_elements(By.XPATH, \"//body/cdx-app/mat-sidenav-container[@class='mat-drawer-container mat-sidenav-container сs-sidenav']/mat-sidenav-content[@class='mat-drawer-content mat-sidenav-content']/main/can-home-page[@class='ng-star-inserted']/div[@class='page page-search-results']/div[@class='container']/div/mat-sidenav-container[@class='mat-drawer-container mat-sidenav-container сs-sidenav сs-sidenav-search']/mat-sidenav-content[@class='mat-drawer-content mat-sidenav-content']/app-journal-search-results/div[3]/div[5]/mat-card[@class='mat-mdc-card mdc-card card-width-special']/mat-card-content[1]/div[2]/div[@class='search-results']/div[1]/div[@class='search-results-value']\")\n",
    "len(e)"
   ]
  },
  {
   "cell_type": "code",
   "execution_count": null,
   "id": "2827b7a9-ed2a-43ac-8647-18c5cedd1a44",
   "metadata": {},
   "outputs": [],
   "source": [
    "e5 = driver.find_elements(By.XPATH ,\"//body/cdx-app/mat-sidenav-container[@class='mat-drawer-container mat-sidenav-container сs-sidenav']/mat-sidenav-content[@class='mat-drawer-content mat-sidenav-content']/main/can-home-page[@class='ng-star-inserted']/div[@class='page page-search-results']/div[@class='container']/div/mat-sidenav-container[@class='mat-drawer-container mat-sidenav-container сs-sidenav сs-sidenav-search']/mat-sidenav-content[@class='mat-drawer-content mat-sidenav-content']/app-journal-search-results/div[3]/div[5]/mat-card[@class='mat-mdc-card mdc-card card-width-special']/mat-card-content[1]/div[2]/div[@class='search-results']\")\n",
    "len("
   ]
  }
 ],
 "metadata": {
  "kernelspec": {
   "display_name": "Python 3 (ipykernel)",
   "language": "python",
   "name": "python3"
  },
  "language_info": {
   "codemirror_mode": {
    "name": "ipython",
    "version": 3
   },
   "file_extension": ".py",
   "mimetype": "text/x-python",
   "name": "python",
   "nbconvert_exporter": "python",
   "pygments_lexer": "ipython3",
   "version": "3.11.5"
  }
 },
 "nbformat": 4,
 "nbformat_minor": 5
}
