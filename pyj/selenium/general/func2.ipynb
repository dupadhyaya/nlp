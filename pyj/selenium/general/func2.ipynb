{
 "cells": [
  {
   "cell_type": "markdown",
   "id": "fa0d4b4e-82bc-44d5-a5f6-f9d8eefae6a3",
   "metadata": {
    "tags": []
   },
   "source": [
    "# Selenium Function to try\n",
    "- https://github.com/manasiim/Documents/blob/main/selenium%20cheat%20sheet.pdf"
   ]
  },
  {
   "cell_type": "code",
   "execution_count": null,
   "id": "754b775d-0d02-4f6e-bb0d-a759aab2a9a4",
   "metadata": {},
   "outputs": [],
   "source": [
    "alert = driver.switch_to.alert\n",
    "alert.accept()"
   ]
  },
  {
   "cell_type": "code",
   "execution_count": null,
   "id": "01df94bf-acca-4026-9bc8-9b3820b540d8",
   "metadata": {},
   "outputs": [],
   "source": [
    "driver.implicitly_wait(10) # "
   ]
  }
 ],
 "metadata": {
  "kernelspec": {
   "display_name": "Python 3 (ipykernel)",
   "language": "python",
   "name": "python3"
  },
  "language_info": {
   "codemirror_mode": {
    "name": "ipython",
    "version": 3
   },
   "file_extension": ".py",
   "mimetype": "text/x-python",
   "name": "python",
   "nbconvert_exporter": "python",
   "pygments_lexer": "ipython3",
   "version": "3.11.5"
  }
 },
 "nbformat": 4,
 "nbformat_minor": 5
}
