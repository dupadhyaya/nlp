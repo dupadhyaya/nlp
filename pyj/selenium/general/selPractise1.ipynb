{
 "cells": [
  {
   "cell_type": "markdown",
   "id": "fa0d4b4e-82bc-44d5-a5f6-f9d8eefae6a3",
   "metadata": {
    "tags": []
   },
   "source": [
    "# Selenium Function to try\n",
    "- https://github.com/manasiim/Documents/blob/main/selenium%20cheat%20sheet.pdf"
   ]
  },
  {
   "cell_type": "code",
   "execution_count": 58,
   "id": "754b775d-0d02-4f6e-bb0d-a759aab2a9a4",
   "metadata": {},
   "outputs": [],
   "source": [
    "from selenium import webdriver\n",
    "from selenium.webdriver.common.by import By\n",
    "import pandas as pd\n",
    "from selenium.webdriver.chrome.service import Service\n",
    "import time\n",
    "from webdriver_manager.chrome import ChromeDriverManager\n",
    "import os\n",
    "from selenium.webdriver.support.ui import Select"
   ]
  },
  {
   "cell_type": "code",
   "execution_count": null,
   "id": "01df94bf-acca-4026-9bc8-9b3820b540d8",
   "metadata": {},
   "outputs": [],
   "source": []
  },
  {
   "cell_type": "code",
   "execution_count": 59,
   "id": "d4531edf-b45b-46b4-bf08-3c6cbc69cfc1",
   "metadata": {},
   "outputs": [],
   "source": [
    "from selenium.webdriver.support.ui import WebDriverWait\n",
    "from selenium.webdriver.support import expected_conditions as EC"
   ]
  },
  {
   "cell_type": "code",
   "execution_count": 60,
   "id": "754578b0-ec4a-48fb-b7a2-d84db121d7e7",
   "metadata": {
    "tags": []
   },
   "outputs": [],
   "source": [
    "cService = webdriver.ChromeService()\n",
    "driver = webdriver.Chrome(service = cService)\n",
    "driver.set_page_load_timeout(200)"
   ]
  },
  {
   "cell_type": "code",
   "execution_count": 61,
   "id": "ef6c32b2-4d4d-4f57-9f10-1d7dc9fc7861",
   "metadata": {
    "tags": []
   },
   "outputs": [],
   "source": [
    "file ='/Users/du/dup/analytics/projects/nlp/pyj/htmleg/'"
   ]
  },
  {
   "cell_type": "code",
   "execution_count": 62,
   "id": "284dff7e-cf61-4bca-8666-5eca5a651415",
   "metadata": {
    "tags": []
   },
   "outputs": [
    {
     "data": {
      "text/plain": [
       "['divtags.html',\n",
       " 'duprofile1.html',\n",
       " 'ducv1.html',\n",
       " '.ipynb_checkpoints',\n",
       " 'index1.html',\n",
       " 'dropdown1.html',\n",
       " 'page2.html']"
      ]
     },
     "execution_count": 62,
     "metadata": {},
     "output_type": "execute_result"
    }
   ],
   "source": [
    "os.listdir(file)"
   ]
  },
  {
   "cell_type": "code",
   "execution_count": 6,
   "id": "63d85b07-bd7f-4d3c-bc71-24ec31eb01c7",
   "metadata": {
    "tags": []
   },
   "outputs": [],
   "source": [
    "driver.get('file://' + file + 'page2.html')"
   ]
  },
  {
   "cell_type": "code",
   "execution_count": 7,
   "id": "ed27119b-eb27-4428-87e1-dde2d3cac68a",
   "metadata": {
    "tags": []
   },
   "outputs": [],
   "source": [
    "driver.refresh()"
   ]
  },
  {
   "cell_type": "code",
   "execution_count": 8,
   "id": "927535ff-23c9-4da4-9848-9cfc8c15e9a4",
   "metadata": {
    "tags": []
   },
   "outputs": [
    {
     "data": {
      "text/plain": [
       "'HTML Pages : Amity University Hierarchy'"
      ]
     },
     "execution_count": 8,
     "metadata": {},
     "output_type": "execute_result"
    }
   ],
   "source": [
    "driver.title"
   ]
  },
  {
   "cell_type": "code",
   "execution_count": 11,
   "id": "c57f7409-3d7d-4ceb-a1b3-47b9fa1782ff",
   "metadata": {
    "tags": []
   },
   "outputs": [],
   "source": [
    "assert 'Amity' in driver.title, f\"Title Mismatch: Expected 'Amity', Actual '{driver.title}'\"\n",
    "#assert 'Amity' in driver.title, f&quot; 'Title Mismatch': Expected 'Amity' Actual driver.title"
   ]
  },
  {
   "cell_type": "code",
   "execution_count": 12,
   "id": "7f082094-5722-4b6b-9110-9bca58b77ed8",
   "metadata": {
    "tags": []
   },
   "outputs": [
    {
     "name": "stdout",
     "output_type": "stream",
     "text": [
      "Assertion test pass\n"
     ]
    }
   ],
   "source": [
    "try:\n",
    "    title = driver.title\n",
    "    assert 'Amity' in title\n",
    "    print('Assertion test pass')\n",
    "except Exception as e:\n",
    "    print('Assertion test failed', format(e))"
   ]
  },
  {
   "cell_type": "code",
   "execution_count": 13,
   "id": "263a3144-beaa-4955-9954-c076b1216136",
   "metadata": {
    "tags": []
   },
   "outputs": [
    {
     "data": {
      "text/plain": [
       "2"
      ]
     },
     "execution_count": 13,
     "metadata": {},
     "output_type": "execute_result"
    }
   ],
   "source": [
    "e1 = driver.find_elements(By.XPATH,'//html/body/*')\n",
    "len(e1)"
   ]
  },
  {
   "cell_type": "code",
   "execution_count": 14,
   "id": "5da5b5f3-baa9-4745-ab97-975eb0a72ff3",
   "metadata": {
    "tags": []
   },
   "outputs": [
    {
     "name": "stdout",
     "output_type": "stream",
     "text": [
      "Hierarchical Tree\n",
      "Chancellor - AUHR & AUMH\n",
      "Vice Chancellor - AUHR\n",
      "Pro VC - AUHR\n",
      "Registrar - AUHR\n",
      "Vice Chancellor - AUMH\n"
     ]
    }
   ],
   "source": [
    "for i in e1: print(i.text)"
   ]
  },
  {
   "cell_type": "code",
   "execution_count": 15,
   "id": "ec47d6a8-31c8-4411-9c79-d2de615de771",
   "metadata": {
    "tags": []
   },
   "outputs": [
    {
     "name": "stdout",
     "output_type": "stream",
     "text": [
      "Registrar - AUHR\n"
     ]
    },
    {
     "data": {
      "text/plain": [
       "(1, None)"
      ]
     },
     "execution_count": 15,
     "metadata": {},
     "output_type": "execute_result"
    }
   ],
   "source": [
    "e2 = driver.find_elements(By.XPATH, \"//*[contains(text(), 'Registrar')]\")\n",
    "len(e2), print(e2[0].text)"
   ]
  },
  {
   "cell_type": "code",
   "execution_count": 16,
   "id": "6fdca824-8369-434c-a4f1-42de77d32800",
   "metadata": {
    "tags": []
   },
   "outputs": [],
   "source": [
    "#Parents of e2"
   ]
  },
  {
   "cell_type": "code",
   "execution_count": 17,
   "id": "e4d870ba-bfbe-4c5a-8358-941458bbecd0",
   "metadata": {
    "tags": []
   },
   "outputs": [
    {
     "name": "stdout",
     "output_type": "stream",
     "text": [
      "1\n",
      "Chancellor - AUHR & AUMH\n",
      "Vice Chancellor - AUHR\n",
      "Pro VC - AUHR\n",
      "Registrar - AUHR\n",
      "Vice Chancellor - AUMH\n"
     ]
    }
   ],
   "source": [
    "e3 = driver.find_elements(By.XPATH,\"//*[contains(text(), 'Registrar')]/ancestor::div\")\n",
    "print(len(e3))\n",
    "print(e3[0].text)"
   ]
  },
  {
   "cell_type": "code",
   "execution_count": 18,
   "id": "2be428d5-b358-4754-9c41-33358f63569f",
   "metadata": {
    "tags": []
   },
   "outputs": [
    {
     "name": "stdout",
     "output_type": "stream",
     "text": [
      "2\n",
      "Chancellor - AUHR & AUMH\n",
      "Vice Chancellor - AUHR\n",
      "Pro VC - AUHR\n",
      "Registrar - AUHR\n",
      "Vice Chancellor - AUMH ___\n",
      "Registrar - AUHR ___\n"
     ]
    }
   ],
   "source": [
    "e4 = driver.find_elements(By.XPATH,\"//*[contains(text(), 'Registrar')]/ancestor-or-self::div\")\n",
    "print(len(e4))\n",
    "for i in e4: print(i.text, '___')"
   ]
  },
  {
   "cell_type": "code",
   "execution_count": 19,
   "id": "bf2b6d82-9ffa-4aec-9574-6d709aea1799",
   "metadata": {
    "tags": []
   },
   "outputs": [
    {
     "data": {
      "text/plain": [
       "'Registrar - AUHR'"
      ]
     },
     "execution_count": 19,
     "metadata": {},
     "output_type": "execute_result"
    }
   ],
   "source": [
    "e2[0].text"
   ]
  },
  {
   "cell_type": "markdown",
   "id": "6ad9f6bf-41d2-48d0-a59d-a831f4981728",
   "metadata": {},
   "source": [
    "## drop Down"
   ]
  },
  {
   "cell_type": "code",
   "execution_count": 63,
   "id": "354c2af9-ce18-4781-9ca8-7ec98548716f",
   "metadata": {},
   "outputs": [],
   "source": [
    "\n",
    "driver.get('file://' + file + 'dropdown1.html')"
   ]
  },
  {
   "cell_type": "code",
   "execution_count": 64,
   "id": "bf861dbb-1006-41b3-8d78-36434a9a074a",
   "metadata": {
    "tags": []
   },
   "outputs": [],
   "source": [
    "driver.refresh()"
   ]
  },
  {
   "cell_type": "code",
   "execution_count": 65,
   "id": "13e8d7b2-3d75-4ce9-a393-98177b9bc3c5",
   "metadata": {
    "tags": []
   },
   "outputs": [
    {
     "data": {
      "text/plain": [
       "'This is HTML page for Selenium Practise'"
      ]
     },
     "execution_count": 65,
     "metadata": {},
     "output_type": "execute_result"
    }
   ],
   "source": [
    "driver.title\n",
    "#/html/head/title"
   ]
  },
  {
   "cell_type": "code",
   "execution_count": 66,
   "id": "dbd2a8c3-ddf1-450a-a0a2-aa188d7b0abf",
   "metadata": {
    "tags": []
   },
   "outputs": [
    {
     "data": {
      "text/plain": [
       "''"
      ]
     },
     "execution_count": 66,
     "metadata": {},
     "output_type": "execute_result"
    }
   ],
   "source": [
    "title = driver.find_element(By.XPATH, '//title')\n",
    "title.text"
   ]
  },
  {
   "cell_type": "code",
   "execution_count": 57,
   "id": "5f0b27e9-267e-47ac-9195-637d95965466",
   "metadata": {
    "tags": []
   },
   "outputs": [
    {
     "data": {
      "text/plain": [
       "''"
      ]
     },
     "execution_count": 57,
     "metadata": {},
     "output_type": "execute_result"
    }
   ],
   "source": [
    "h1 = driver.find_element(By.XPATH, '/html/body/h1')\n",
    "title.text"
   ]
  },
  {
   "cell_type": "code",
   "execution_count": null,
   "id": "a241f8fd-24cf-48a9-86ab-cb0a1519d157",
   "metadata": {},
   "outputs": [],
   "source": []
  }
 ],
 "metadata": {
  "kernelspec": {
   "display_name": "Python 3 (ipykernel)",
   "language": "python",
   "name": "python3"
  },
  "language_info": {
   "codemirror_mode": {
    "name": "ipython",
    "version": 3
   },
   "file_extension": ".py",
   "mimetype": "text/x-python",
   "name": "python",
   "nbconvert_exporter": "python",
   "pygments_lexer": "ipython3",
   "version": "3.11.5"
  }
 },
 "nbformat": 4,
 "nbformat_minor": 5
}
