{
 "cells": [
  {
   "cell_type": "markdown",
   "id": "565e0c3a-159e-488a-a7e7-e44ca372400e",
   "metadata": {
    "tags": []
   },
   "source": [
    "# General Practise with Selenium\n",
    "- https://www.browserstack.com/guide/selenium-headless-browser-testing\n",
    "- it means browser simulation, which has no UI. Headless browser automation uses a web browser for end-to-end testing without loading the browser’s UI.\n",
    "- https://developer.chrome.com/docs/chromium/headless\n",
    "- https://www.scaler.com/topics/selenium-tutorial/headless-browser-selenium/"
   ]
  },
  {
   "cell_type": "code",
   "execution_count": null,
   "id": "65962a4e-b959-4d34-9b84-4791d4829efd",
   "metadata": {
    "tags": []
   },
   "outputs": [],
   "source": [
    "from selenium import webdriver\n",
    "from selenium.webdriver.common.by import By\n",
    "import pandas as pd\n",
    "from selenium.webdriver.chrome.service import Service\n",
    "from selenium.webdriver.chrome.options import Options"
   ]
  },
  {
   "cell_type": "code",
   "execution_count": null,
   "id": "4040f633-48a9-4eef-b397-e7d06cce208a",
   "metadata": {
    "tags": []
   },
   "outputs": [],
   "source": [
    "#!pip install webdriver-manager\n",
    "from webdriver_manager.chrome import ChromeDriverManager"
   ]
  },
  {
   "cell_type": "code",
   "execution_count": null,
   "id": "37307580-b164-44b6-80a1-f4b7cb157174",
   "metadata": {
    "tags": []
   },
   "outputs": [],
   "source": [
    "options = Options()\n",
    "options.add_argument(\"--headless=new\")"
   ]
  },
  {
   "cell_type": "markdown",
   "id": "96f01297-1393-4d1a-9d63-25d08755c21d",
   "metadata": {
    "tags": []
   },
   "source": [
    "### other arguments\n",
    "- options.add_argument(\"--window-size=1920,1200\") \n",
    "- options.add_argument(\"--disable-extensions\")\n",
    "- options.add_argument(\"--disable-dev-shm-usage\")\n",
    "- options.add_argument(\"--no-sandbox\")\n",
    "- options.add_experimental_option(\"prefs\",{\"download.default_directory\":\"/Users/du/dup/auData/\"})"
   ]
  },
  {
   "cell_type": "code",
   "execution_count": null,
   "id": "bfba2829-70e8-46c6-8575-6fbbd628b0f4",
   "metadata": {
    "tags": []
   },
   "outputs": [],
   "source": [
    "cdp1 = '/opt/homebrew/bin/chromedriver' "
   ]
  },
  {
   "cell_type": "code",
   "execution_count": null,
   "id": "81faa2f6-1624-407c-90e5-fbe0ce972286",
   "metadata": {
    "tags": []
   },
   "outputs": [],
   "source": [
    "cService = webdriver.ChromeService(executable_path=cdp1)\n",
    "driver = webdriver.Chrome(options=options, service = cService)"
   ]
  },
  {
   "cell_type": "code",
   "execution_count": 10,
   "id": "608ac18c-d066-40b4-9dd4-e6338428e097",
   "metadata": {
    "tags": []
   },
   "outputs": [],
   "source": [
    "url1 = 'https://seleniumbase.io/demo_page'"
   ]
  },
  {
   "cell_type": "code",
   "execution_count": 11,
   "id": "718f370b-fed0-4835-88b7-9180da0797ca",
   "metadata": {
    "tags": []
   },
   "outputs": [],
   "source": [
    "driver.get(url1)"
   ]
  },
  {
   "cell_type": "code",
   "execution_count": 12,
   "id": "d53d5c8b-63b5-44b6-b07e-cbbc7b510dab",
   "metadata": {
    "tags": []
   },
   "outputs": [
    {
     "data": {
      "text/plain": [
       "'Web Testing Page'"
      ]
     },
     "execution_count": 12,
     "metadata": {},
     "output_type": "execute_result"
    }
   ],
   "source": [
    "driver.title"
   ]
  },
  {
   "cell_type": "markdown",
   "id": "4b879c03-29df-4275-bb22-de923d28358c",
   "metadata": {},
   "source": [
    "## CSS Locators\n",
    "-  "
   ]
  },
  {
   "cell_type": "code",
   "execution_count": 24,
   "id": "104382af-e6b8-4ada-9d4e-47c5fe3cf0ba",
   "metadata": {
    "tags": []
   },
   "outputs": [
    {
     "data": {
      "text/plain": [
       "'Demo Page'"
      ]
     },
     "execution_count": 24,
     "metadata": {},
     "output_type": "execute_result"
    }
   ],
   "source": [
    "ecss = driver.find_element(By.CSS_SELECTOR, 'h1')\n",
    "ecss.text"
   ]
  },
  {
   "cell_type": "code",
   "execution_count": 29,
   "id": "cdf6b569-3665-42dd-bbe4-7cc84818691c",
   "metadata": {
    "tags": []
   },
   "outputs": [
    {
     "data": {
      "text/plain": [
       "'Demo Page\\nSeleniumBase\\nHover Dropdown\\nAutomation Practice\\nText Input Field: Textarea:\\nPre-Filled Text Field: Button: Click Me (Green)\\nPlaceholder Text Field: Read-Only Text Field:\\nHTML SVG with rect:\\nParagraph with Text:\\nThis Text is Green\\nInput Slider Control: Progress Bar: (50%)\\nSelect Dropdown: \\n                                \\nSet to 25%\\n                                Set to 50%\\n                                Set to 75%\\n                                Set to 100%\\n                             HTML Meter: (25%)\\nImage in iFrame:\\n   RadioButton 1: RadioButton 2:\\nCheckBox: CheckBoxes: Pre-Check Box: CheckBox in iFrame:  \\nURL Link: seleniumbase.com Link with Text: SeleniumBase on GitHub\\nSeleniumBase Docs: seleniumbase.io The Demo Page: SeleniumBase Demo Page'"
      ]
     },
     "execution_count": 29,
     "metadata": {},
     "output_type": "execute_result"
    }
   ],
   "source": [
    "driver.find_element(By.CSS_SELECTOR, 'form[id=\"myForm\"').text"
   ]
  },
  {
   "cell_type": "code",
   "execution_count": 40,
   "id": "84be561b-9475-448c-9f06-bb11f630ad07",
   "metadata": {
    "tags": []
   },
   "outputs": [
    {
     "data": {
      "text/plain": [
       "'2'"
      ]
     },
     "execution_count": 40,
     "metadata": {},
     "output_type": "execute_result"
    }
   ],
   "source": [
    "driver.find_element(By.CSS_SELECTOR, 'textarea[id=\"myTextarea\"]').get_attribute('rows')"
   ]
  },
  {
   "cell_type": "code",
   "execution_count": 38,
   "id": "eb2fe242-15cb-43d9-9887-97697cdbe6a4",
   "metadata": {
    "tags": []
   },
   "outputs": [],
   "source": [
    "driver.find_element(By.CSS_SELECTOR, \"a[href='https://seleniumbase.com']\").click()"
   ]
  },
  {
   "cell_type": "code",
   "execution_count": 39,
   "id": "6099fe94-51da-44f1-9dbf-7d5535df8be7",
   "metadata": {
    "tags": []
   },
   "outputs": [],
   "source": [
    "driver.back()"
   ]
  },
  {
   "cell_type": "code",
   "execution_count": 43,
   "id": "b3d2b936-58b6-4bbb-9548-ffb111e08ed6",
   "metadata": {
    "tags": []
   },
   "outputs": [
    {
     "data": {
      "text/plain": [
       "''"
      ]
     },
     "execution_count": 43,
     "metadata": {},
     "output_type": "execute_result"
    }
   ],
   "source": [
    "driver.find_element(By.CSS_SELECTOR, \"#myTextarea\").text"
   ]
  },
  {
   "cell_type": "code",
   "execution_count": 44,
   "id": "1370ac44-7f15-4f33-9498-11312787ad7c",
   "metadata": {
    "tags": []
   },
   "outputs": [
    {
     "data": {
      "text/plain": [
       "''"
      ]
     },
     "execution_count": 44,
     "metadata": {},
     "output_type": "execute_result"
    }
   ],
   "source": [
    "driver.find_element(By.XPATH, \"myTextarea\").text"
   ]
  },
  {
   "cell_type": "code",
   "execution_count": 15,
   "id": "916ecb58-71c1-4f5a-a841-157cbffc5c41",
   "metadata": {},
   "outputs": [],
   "source": [
    "eall = driver.find_elements(By.XPATH, '//*')"
   ]
  },
  {
   "cell_type": "code",
   "execution_count": 17,
   "id": "8414d7af-9b59-47bc-a372-f152cef830d1",
   "metadata": {
    "tags": []
   },
   "outputs": [
    {
     "name": "stdout",
     "output_type": "stream",
     "text": [
      "Demo Page\n",
      "SeleniumBase\n",
      "Hover Dropdown\n",
      "Automation Practice\n",
      "Text Input Field: Textarea:\n",
      "Pre-Filled Text Field: Button: Click Me (Green)\n",
      "Placeholder Text Field: Read-Only Text Field:\n",
      "HTML SVG with rect:\n",
      "Paragraph with Text:\n",
      "This Text is Green\n",
      "Input Slider Control: Progress Bar: (50%)\n",
      "Select Dropdown: \n",
      "                                \n",
      "Set to 25%\n",
      "                                Set to 50%\n",
      "                                Set to 75%\n",
      "                                Set to 100%\n",
      "                             HTML Meter: (25%)\n",
      "Image in iFrame:\n",
      "   RadioButton 1: RadioButton 2:\n",
      "CheckBox: CheckBoxes: Pre-Check Box: CheckBox in iFrame:  \n",
      "URL Link: seleniumbase.com Link with Text: SeleniumBase on GitHub\n",
      "SeleniumBase Docs: seleniumbase.io The Demo Page: SeleniumBase Demo Page\n",
      "\n",
      "\n",
      "\n",
      "\n",
      "\n",
      "\n",
      "\n",
      "\n",
      "\n"
     ]
    }
   ],
   "source": [
    "for i in eall[:10]:\n",
    "    print(i.text)"
   ]
  },
  {
   "cell_type": "code",
   "execution_count": 19,
   "id": "f323b23f-4b95-413b-8616-7967a45341e7",
   "metadata": {
    "tags": []
   },
   "outputs": [
    {
     "data": {
      "text/plain": [
       "7"
      ]
     },
     "execution_count": 19,
     "metadata": {},
     "output_type": "execute_result"
    }
   ],
   "source": [
    "ea = driver.find_elements(By.TAG_NAME , 'a')\n",
    "len(ea)"
   ]
  },
  {
   "cell_type": "code",
   "execution_count": 22,
   "id": "c57c6c80-51be-4f74-90cd-8cb310307db5",
   "metadata": {
    "tags": []
   },
   "outputs": [
    {
     "name": "stdout",
     "output_type": "stream",
     "text": [
      " None\n",
      " None\n",
      " None\n",
      "seleniumbase.com https://seleniumbase.com/\n",
      "SeleniumBase on GitHub https://github.com/seleniumbase/SeleniumBase\n",
      "seleniumbase.io https://seleniumbase.io/\n",
      "SeleniumBase Demo Page https://seleniumbase.io/demo_page/\n"
     ]
    }
   ],
   "source": [
    "for i in ea:\n",
    "    print(i.text, i.get_attribute('href'))"
   ]
  },
  {
   "cell_type": "code",
   "execution_count": 23,
   "id": "21a3b0b2-8100-42e4-888d-bbc6b30fce87",
   "metadata": {
    "tags": []
   },
   "outputs": [
    {
     "ename": "NoSuchElementException",
     "evalue": "Message: no such element: Unable to locate element: {\"method\":\"tag name\",\"selector\":\"a[2]\"}\n  (Session info: chrome=131.0.6778.205); For documentation on this error, please visit: https://www.selenium.dev/documentation/webdriver/troubleshooting/errors#no-such-element-exception\nStacktrace:\n0   chromedriver                        0x00000001052d7184 cxxbridge1$str$ptr + 3626716\n1   chromedriver                        0x00000001052cf9d4 cxxbridge1$str$ptr + 3596076\n2   chromedriver                        0x0000000104d3c968 cxxbridge1$string$len + 89228\n3   chromedriver                        0x0000000104d80d50 cxxbridge1$string$len + 368756\n4   chromedriver                        0x0000000104dba5b4 cxxbridge1$string$len + 604376\n5   chromedriver                        0x0000000104d75568 cxxbridge1$string$len + 321676\n6   chromedriver                        0x0000000104d761b8 cxxbridge1$string$len + 324828\n7   chromedriver                        0x00000001052a29ac cxxbridge1$str$ptr + 3411716\n8   chromedriver                        0x00000001052a5ccc cxxbridge1$str$ptr + 3424804\n9   chromedriver                        0x000000010528986c cxxbridge1$str$ptr + 3308996\n10  chromedriver                        0x00000001052a658c cxxbridge1$str$ptr + 3427044\n11  chromedriver                        0x000000010527b09c cxxbridge1$str$ptr + 3249652\n12  chromedriver                        0x00000001052c04b8 cxxbridge1$str$ptr + 3533328\n13  chromedriver                        0x00000001052c0634 cxxbridge1$str$ptr + 3533708\n14  chromedriver                        0x00000001052cf648 cxxbridge1$str$ptr + 3595168\n15  libsystem_pthread.dylib             0x000000018f4982e4 _pthread_start + 136\n16  libsystem_pthread.dylib             0x000000018f4930fc thread_start + 8\n",
     "output_type": "error",
     "traceback": [
      "\u001b[0;31m---------------------------------------------------------------------------\u001b[0m",
      "\u001b[0;31mNoSuchElementException\u001b[0m                    Traceback (most recent call last)",
      "Cell \u001b[0;32mIn[23], line 1\u001b[0m\n\u001b[0;32m----> 1\u001b[0m driver\u001b[38;5;241m.\u001b[39mfind_element(By\u001b[38;5;241m.\u001b[39mTAG_NAME , \u001b[38;5;124m'\u001b[39m\u001b[38;5;124ma[2]\u001b[39m\u001b[38;5;124m'\u001b[39m)\n",
      "File \u001b[0;32m~/anaconda3/lib/python3.11/site-packages/selenium/webdriver/remote/webdriver.py:741\u001b[0m, in \u001b[0;36mWebDriver.find_element\u001b[0;34m(self, by, value)\u001b[0m\n\u001b[1;32m    738\u001b[0m     by \u001b[38;5;241m=\u001b[39m By\u001b[38;5;241m.\u001b[39mCSS_SELECTOR\n\u001b[1;32m    739\u001b[0m     value \u001b[38;5;241m=\u001b[39m \u001b[38;5;124mf\u001b[39m\u001b[38;5;124m'\u001b[39m\u001b[38;5;124m[name=\u001b[39m\u001b[38;5;124m\"\u001b[39m\u001b[38;5;132;01m{\u001b[39;00mvalue\u001b[38;5;132;01m}\u001b[39;00m\u001b[38;5;124m\"\u001b[39m\u001b[38;5;124m]\u001b[39m\u001b[38;5;124m'\u001b[39m\n\u001b[0;32m--> 741\u001b[0m \u001b[38;5;28;01mreturn\u001b[39;00m \u001b[38;5;28mself\u001b[39m\u001b[38;5;241m.\u001b[39mexecute(Command\u001b[38;5;241m.\u001b[39mFIND_ELEMENT, {\u001b[38;5;124m\"\u001b[39m\u001b[38;5;124musing\u001b[39m\u001b[38;5;124m\"\u001b[39m: by, \u001b[38;5;124m\"\u001b[39m\u001b[38;5;124mvalue\u001b[39m\u001b[38;5;124m\"\u001b[39m: value})[\u001b[38;5;124m\"\u001b[39m\u001b[38;5;124mvalue\u001b[39m\u001b[38;5;124m\"\u001b[39m]\n",
      "File \u001b[0;32m~/anaconda3/lib/python3.11/site-packages/selenium/webdriver/remote/webdriver.py:347\u001b[0m, in \u001b[0;36mWebDriver.execute\u001b[0;34m(self, driver_command, params)\u001b[0m\n\u001b[1;32m    345\u001b[0m response \u001b[38;5;241m=\u001b[39m \u001b[38;5;28mself\u001b[39m\u001b[38;5;241m.\u001b[39mcommand_executor\u001b[38;5;241m.\u001b[39mexecute(driver_command, params)\n\u001b[1;32m    346\u001b[0m \u001b[38;5;28;01mif\u001b[39;00m response:\n\u001b[0;32m--> 347\u001b[0m     \u001b[38;5;28mself\u001b[39m\u001b[38;5;241m.\u001b[39merror_handler\u001b[38;5;241m.\u001b[39mcheck_response(response)\n\u001b[1;32m    348\u001b[0m     response[\u001b[38;5;124m\"\u001b[39m\u001b[38;5;124mvalue\u001b[39m\u001b[38;5;124m\"\u001b[39m] \u001b[38;5;241m=\u001b[39m \u001b[38;5;28mself\u001b[39m\u001b[38;5;241m.\u001b[39m_unwrap_value(response\u001b[38;5;241m.\u001b[39mget(\u001b[38;5;124m\"\u001b[39m\u001b[38;5;124mvalue\u001b[39m\u001b[38;5;124m\"\u001b[39m, \u001b[38;5;28;01mNone\u001b[39;00m))\n\u001b[1;32m    349\u001b[0m     \u001b[38;5;28;01mreturn\u001b[39;00m response\n",
      "File \u001b[0;32m~/anaconda3/lib/python3.11/site-packages/selenium/webdriver/remote/errorhandler.py:229\u001b[0m, in \u001b[0;36mErrorHandler.check_response\u001b[0;34m(self, response)\u001b[0m\n\u001b[1;32m    227\u001b[0m         alert_text \u001b[38;5;241m=\u001b[39m value[\u001b[38;5;124m\"\u001b[39m\u001b[38;5;124malert\u001b[39m\u001b[38;5;124m\"\u001b[39m]\u001b[38;5;241m.\u001b[39mget(\u001b[38;5;124m\"\u001b[39m\u001b[38;5;124mtext\u001b[39m\u001b[38;5;124m\"\u001b[39m)\n\u001b[1;32m    228\u001b[0m     \u001b[38;5;28;01mraise\u001b[39;00m exception_class(message, screen, stacktrace, alert_text)  \u001b[38;5;66;03m# type: ignore[call-arg]  # mypy is not smart enough here\u001b[39;00m\n\u001b[0;32m--> 229\u001b[0m \u001b[38;5;28;01mraise\u001b[39;00m exception_class(message, screen, stacktrace)\n",
      "\u001b[0;31mNoSuchElementException\u001b[0m: Message: no such element: Unable to locate element: {\"method\":\"tag name\",\"selector\":\"a[2]\"}\n  (Session info: chrome=131.0.6778.205); For documentation on this error, please visit: https://www.selenium.dev/documentation/webdriver/troubleshooting/errors#no-such-element-exception\nStacktrace:\n0   chromedriver                        0x00000001052d7184 cxxbridge1$str$ptr + 3626716\n1   chromedriver                        0x00000001052cf9d4 cxxbridge1$str$ptr + 3596076\n2   chromedriver                        0x0000000104d3c968 cxxbridge1$string$len + 89228\n3   chromedriver                        0x0000000104d80d50 cxxbridge1$string$len + 368756\n4   chromedriver                        0x0000000104dba5b4 cxxbridge1$string$len + 604376\n5   chromedriver                        0x0000000104d75568 cxxbridge1$string$len + 321676\n6   chromedriver                        0x0000000104d761b8 cxxbridge1$string$len + 324828\n7   chromedriver                        0x00000001052a29ac cxxbridge1$str$ptr + 3411716\n8   chromedriver                        0x00000001052a5ccc cxxbridge1$str$ptr + 3424804\n9   chromedriver                        0x000000010528986c cxxbridge1$str$ptr + 3308996\n10  chromedriver                        0x00000001052a658c cxxbridge1$str$ptr + 3427044\n11  chromedriver                        0x000000010527b09c cxxbridge1$str$ptr + 3249652\n12  chromedriver                        0x00000001052c04b8 cxxbridge1$str$ptr + 3533328\n13  chromedriver                        0x00000001052c0634 cxxbridge1$str$ptr + 3533708\n14  chromedriver                        0x00000001052cf648 cxxbridge1$str$ptr + 3595168\n15  libsystem_pthread.dylib             0x000000018f4982e4 _pthread_start + 136\n16  libsystem_pthread.dylib             0x000000018f4930fc thread_start + 8\n"
     ]
    }
   ],
   "source": [
    "driver.find_element(By.TAG_NAME , 'a[2]')"
   ]
  },
  {
   "cell_type": "code",
   "execution_count": null,
   "id": "93fe150d-2e41-484e-afbe-e24257cfc133",
   "metadata": {},
   "outputs": [],
   "source": []
  }
 ],
 "metadata": {
  "kernelspec": {
   "display_name": "Python 3 (ipykernel)",
   "language": "python",
   "name": "python3"
  },
  "language_info": {
   "codemirror_mode": {
    "name": "ipython",
    "version": 3
   },
   "file_extension": ".py",
   "mimetype": "text/x-python",
   "name": "python",
   "nbconvert_exporter": "python",
   "pygments_lexer": "ipython3",
   "version": "3.11.5"
  }
 },
 "nbformat": 4,
 "nbformat_minor": 5
}
