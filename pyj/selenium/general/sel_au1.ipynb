{
 "cells": [
  {
   "cell_type": "markdown",
   "id": "565e0c3a-159e-488a-a7e7-e44ca372400e",
   "metadata": {
    "tags": []
   },
   "source": [
    "# Headless Chrom with Selenium\n",
    "- https://www.browserstack.com/guide/selenium-headless-browser-testing\n",
    "- it means browser simulation, which has no UI. Headless browser automation uses a web browser for end-to-end testing without loading the browser’s UI.\n",
    "- https://developer.chrome.com/docs/chromium/headless\n",
    "- https://www.scaler.com/topics/selenium-tutorial/headless-browser-selenium/"
   ]
  },
  {
   "cell_type": "code",
   "execution_count": 1,
   "id": "65962a4e-b959-4d34-9b84-4791d4829efd",
   "metadata": {
    "tags": []
   },
   "outputs": [],
   "source": [
    "from selenium import webdriver\n",
    "from selenium.webdriver.common.by import By\n",
    "import pandas as pd\n",
    "from selenium.webdriver.chrome.service import Service\n",
    "from selenium.webdriver.chrome.options import Options"
   ]
  },
  {
   "cell_type": "code",
   "execution_count": 2,
   "id": "4040f633-48a9-4eef-b397-e7d06cce208a",
   "metadata": {
    "tags": []
   },
   "outputs": [],
   "source": [
    "#!pip install webdriver-manager\n",
    "from webdriver_manager.chrome import ChromeDriverManager"
   ]
  },
  {
   "cell_type": "code",
   "execution_count": 10,
   "id": "37307580-b164-44b6-80a1-f4b7cb157174",
   "metadata": {
    "tags": []
   },
   "outputs": [],
   "source": [
    "options = Options()\n",
    "#options.add_argument(\"--headless=new\")"
   ]
  },
  {
   "cell_type": "markdown",
   "id": "96f01297-1393-4d1a-9d63-25d08755c21d",
   "metadata": {
    "tags": []
   },
   "source": [
    "### other arguments\n",
    "- options.add_argument(\"--window-size=1920,1200\") \n",
    "- options.add_argument(\"--disable-extensions\")\n",
    "- options.add_argument(\"--disable-dev-shm-usage\")\n",
    "- options.add_argument(\"--no-sandbox\")\n",
    "- options.add_experimental_option(\"prefs\",{\"download.default_directory\":\"/Users/du/dup/auData/\"})"
   ]
  },
  {
   "cell_type": "code",
   "execution_count": 11,
   "id": "bfba2829-70e8-46c6-8575-6fbbd628b0f4",
   "metadata": {
    "tags": []
   },
   "outputs": [],
   "source": [
    "cdp1 = '/opt/homebrew/bin/chromedriver' "
   ]
  },
  {
   "cell_type": "code",
   "execution_count": 12,
   "id": "81faa2f6-1624-407c-90e5-fbe0ce972286",
   "metadata": {
    "tags": []
   },
   "outputs": [],
   "source": [
    "cService = webdriver.ChromeService(executable_path=cdp1)\n",
    "driver = webdriver.Chrome(options=options, service = cService)"
   ]
  },
  {
   "cell_type": "code",
   "execution_count": 13,
   "id": "608ac18c-d066-40b4-9dd4-e6338428e097",
   "metadata": {
    "tags": []
   },
   "outputs": [],
   "source": [
    "url1 = 'https://amity.edu'"
   ]
  },
  {
   "cell_type": "code",
   "execution_count": 14,
   "id": "718f370b-fed0-4835-88b7-9180da0797ca",
   "metadata": {
    "tags": []
   },
   "outputs": [],
   "source": [
    "driver.get(url1)"
   ]
  },
  {
   "cell_type": "code",
   "execution_count": 15,
   "id": "d53d5c8b-63b5-44b6-b07e-cbbc7b510dab",
   "metadata": {
    "tags": []
   },
   "outputs": [
    {
     "data": {
      "text/plain": [
       "'Top Private University in North India | Amity University Noida'"
      ]
     },
     "execution_count": 15,
     "metadata": {},
     "output_type": "execute_result"
    }
   ],
   "source": [
    "driver.title"
   ]
  },
  {
   "cell_type": "code",
   "execution_count": 16,
   "id": "916ecb58-71c1-4f5a-a841-157cbffc5c41",
   "metadata": {},
   "outputs": [],
   "source": [
    "driver.close()"
   ]
  },
  {
   "cell_type": "code",
   "execution_count": null,
   "id": "e63916da-e10b-4504-bcf6-32264eafcb35",
   "metadata": {},
   "outputs": [],
   "source": []
  }
 ],
 "metadata": {
  "kernelspec": {
   "display_name": "Python 3 (ipykernel)",
   "language": "python",
   "name": "python3"
  },
  "language_info": {
   "codemirror_mode": {
    "name": "ipython",
    "version": 3
   },
   "file_extension": ".py",
   "mimetype": "text/x-python",
   "name": "python",
   "nbconvert_exporter": "python",
   "pygments_lexer": "ipython3",
   "version": "3.12.7"
  }
 },
 "nbformat": 4,
 "nbformat_minor": 5
}
