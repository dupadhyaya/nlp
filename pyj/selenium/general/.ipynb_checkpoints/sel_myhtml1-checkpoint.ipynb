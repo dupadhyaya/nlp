{
 "cells": [
  {
   "cell_type": "markdown",
   "id": "fa0d4b4e-82bc-44d5-a5f6-f9d8eefae6a3",
   "metadata": {
    "tags": []
   },
   "source": [
    "# Selenium Function to try\n",
    "- https://github.com/manasiim/Documents/blob/main/selenium%20cheat%20sheet.pdf"
   ]
  },
  {
   "cell_type": "code",
   "execution_count": 1,
   "id": "754b775d-0d02-4f6e-bb0d-a759aab2a9a4",
   "metadata": {},
   "outputs": [],
   "source": [
    "from selenium import webdriver\n",
    "from selenium.webdriver.common.by import By\n",
    "import pandas as pd\n",
    "from selenium.webdriver.chrome.service import Service\n",
    "import time\n",
    "from webdriver_manager.chrome import ChromeDriverManager\n",
    "import os\n",
    "from selenium.webdriver.support.ui import Select"
   ]
  },
  {
   "cell_type": "code",
   "execution_count": 2,
   "id": "d4531edf-b45b-46b4-bf08-3c6cbc69cfc1",
   "metadata": {},
   "outputs": [],
   "source": [
    "from selenium.webdriver.support.ui import WebDriverWait\n",
    "from selenium.webdriver.support import expected_conditions as EC"
   ]
  },
  {
   "cell_type": "code",
   "execution_count": 45,
   "id": "754578b0-ec4a-48fb-b7a2-d84db121d7e7",
   "metadata": {
    "tags": []
   },
   "outputs": [],
   "source": [
    "cService = webdriver.ChromeService()\n",
    "driver = webdriver.Chrome(service = cService)\n",
    "driver.set_page_load_timeout(60)"
   ]
  },
  {
   "cell_type": "code",
   "execution_count": 5,
   "id": "ef6c32b2-4d4d-4f57-9f10-1d7dc9fc7861",
   "metadata": {
    "tags": []
   },
   "outputs": [],
   "source": [
    "file ='/Users/du/dup/analytics/projects/nlp/pyj/htmleg/'"
   ]
  },
  {
   "cell_type": "code",
   "execution_count": 6,
   "id": "284dff7e-cf61-4bca-8666-5eca5a651415",
   "metadata": {
    "tags": []
   },
   "outputs": [
    {
     "data": {
      "text/plain": [
       "['divtags.html',\n",
       " 'duprofile1.html',\n",
       " 'ducv1.html',\n",
       " '.ipynb_checkpoints',\n",
       " 'index1.html',\n",
       " 'dropdown1.html',\n",
       " 'page2.html']"
      ]
     },
     "execution_count": 6,
     "metadata": {},
     "output_type": "execute_result"
    }
   ],
   "source": [
    "os.listdir(file)"
   ]
  },
  {
   "cell_type": "code",
   "execution_count": 46,
   "id": "63d85b07-bd7f-4d3c-bc71-24ec31eb01c7",
   "metadata": {
    "tags": []
   },
   "outputs": [],
   "source": [
    "driver.get('file://' + file + 'page2.html')"
   ]
  },
  {
   "cell_type": "code",
   "execution_count": 8,
   "id": "ed27119b-eb27-4428-87e1-dde2d3cac68a",
   "metadata": {
    "tags": []
   },
   "outputs": [],
   "source": [
    "driver.refresh()"
   ]
  },
  {
   "cell_type": "code",
   "execution_count": 9,
   "id": "927535ff-23c9-4da4-9848-9cfc8c15e9a4",
   "metadata": {
    "tags": []
   },
   "outputs": [
    {
     "data": {
      "text/plain": [
       "'HTML Pages : Amity University Hierarchy'"
      ]
     },
     "execution_count": 9,
     "metadata": {},
     "output_type": "execute_result"
    }
   ],
   "source": [
    "driver.title"
   ]
  },
  {
   "cell_type": "code",
   "execution_count": 10,
   "id": "c57f7409-3d7d-4ceb-a1b3-47b9fa1782ff",
   "metadata": {
    "tags": []
   },
   "outputs": [],
   "source": [
    "assert 'Amity' in driver.title, f\"Title Mismatch: Expected 'Amity', Actual '{driver.title}'\"\n",
    "#assert 'Amity' in driver.title, f&quot; 'Title Mismatch': Expected 'Amity' Actual driver.title"
   ]
  },
  {
   "cell_type": "code",
   "execution_count": 12,
   "id": "7f082094-5722-4b6b-9110-9bca58b77ed8",
   "metadata": {
    "tags": []
   },
   "outputs": [
    {
     "name": "stdout",
     "output_type": "stream",
     "text": [
      "Assertion test pass\n"
     ]
    }
   ],
   "source": [
    "try:\n",
    "    title = driver.title\n",
    "    assert 'Amity' in title\n",
    "    print('Assertion test pass')\n",
    "except Exception as e:\n",
    "    print('Assertion test failed', format(e))"
   ]
  },
  {
   "cell_type": "code",
   "execution_count": 11,
   "id": "263a3144-beaa-4955-9954-c076b1216136",
   "metadata": {
    "tags": []
   },
   "outputs": [
    {
     "data": {
      "text/plain": [
       "2"
      ]
     },
     "execution_count": 11,
     "metadata": {},
     "output_type": "execute_result"
    }
   ],
   "source": [
    "e1 = driver.find_elements(By.XPATH,'//html/body/*')\n",
    "len(e1)"
   ]
  },
  {
   "cell_type": "code",
   "execution_count": 12,
   "id": "5da5b5f3-baa9-4745-ab97-975eb0a72ff3",
   "metadata": {
    "tags": []
   },
   "outputs": [
    {
     "name": "stdout",
     "output_type": "stream",
     "text": [
      "Hierarchical Tree\n",
      "Chancellor - AUHR & AUMH\n",
      "Vice Chancellor - AUHR\n",
      "Pro VC - AUHR\n",
      "Registrar - AUHR\n",
      "Vice Chancellor - AUMH\n"
     ]
    }
   ],
   "source": [
    "for i in e1: print(i.text)"
   ]
  },
  {
   "cell_type": "code",
   "execution_count": 13,
   "id": "ec47d6a8-31c8-4411-9c79-d2de615de771",
   "metadata": {
    "tags": []
   },
   "outputs": [
    {
     "name": "stdout",
     "output_type": "stream",
     "text": [
      "Registrar - AUHR\n"
     ]
    },
    {
     "data": {
      "text/plain": [
       "(1, None)"
      ]
     },
     "execution_count": 13,
     "metadata": {},
     "output_type": "execute_result"
    }
   ],
   "source": [
    "e2 = driver.find_elements(By.XPATH, \"//*[contains(text(), 'Registrar')]\")\n",
    "len(e2), print(e2[0].text)"
   ]
  },
  {
   "cell_type": "code",
   "execution_count": 14,
   "id": "6fdca824-8369-434c-a4f1-42de77d32800",
   "metadata": {
    "tags": []
   },
   "outputs": [],
   "source": [
    "#Parents of e2"
   ]
  },
  {
   "cell_type": "code",
   "execution_count": 15,
   "id": "e4d870ba-bfbe-4c5a-8358-941458bbecd0",
   "metadata": {
    "tags": []
   },
   "outputs": [
    {
     "name": "stdout",
     "output_type": "stream",
     "text": [
      "1\n",
      "Chancellor - AUHR & AUMH\n",
      "Vice Chancellor - AUHR\n",
      "Pro VC - AUHR\n",
      "Registrar - AUHR\n",
      "Vice Chancellor - AUMH\n"
     ]
    }
   ],
   "source": [
    "e3 = driver.find_elements(By.XPATH,\"//*[contains(text(), 'Registrar')]/ancestor::div\")\n",
    "print(len(e3))\n",
    "print(e3[0].text)"
   ]
  },
  {
   "cell_type": "code",
   "execution_count": 16,
   "id": "2be428d5-b358-4754-9c41-33358f63569f",
   "metadata": {
    "tags": []
   },
   "outputs": [
    {
     "name": "stdout",
     "output_type": "stream",
     "text": [
      "2\n",
      "Chancellor - AUHR & AUMH\n",
      "Vice Chancellor - AUHR\n",
      "Pro VC - AUHR\n",
      "Registrar - AUHR\n",
      "Vice Chancellor - AUMH ___\n",
      "Registrar - AUHR ___\n"
     ]
    }
   ],
   "source": [
    "e4 = driver.find_elements(By.XPATH,\"//*[contains(text(), 'Registrar')]/ancestor-or-self::div\")\n",
    "print(len(e4))\n",
    "for i in e4: print(i.text, '___')"
   ]
  },
  {
   "cell_type": "code",
   "execution_count": 17,
   "id": "bf2b6d82-9ffa-4aec-9574-6d709aea1799",
   "metadata": {
    "tags": []
   },
   "outputs": [
    {
     "data": {
      "text/plain": [
       "'Registrar - AUHR'"
      ]
     },
     "execution_count": 17,
     "metadata": {},
     "output_type": "execute_result"
    }
   ],
   "source": [
    "e2[0].text"
   ]
  },
  {
   "cell_type": "markdown",
   "id": "6ad9f6bf-41d2-48d0-a59d-a831f4981728",
   "metadata": {},
   "source": [
    "## drop Down\n",
    "<html>\n",
    "    <head>\n",
    "        <title> This is HTML page for Selenium Practise</title>\n",
    "        <h1> Made by Dhiraj Upadhyaya </h1>\n",
    "    </head>\n",
    "    <body>\n",
    "        \n",
    "    <p>\n",
    "    <div class=\"dropdown\">\n",
    "      <button class=\"btn btn-primary dropdown-toggle\" type=\"button\" data-toggle=\"dropdown\">Dropdown Example\n",
    "      <span class=\"caret\"></span></button>\n",
    "          <ul class=\"dropdown-menu\">\n",
    "            <li><a href=\"#\">HTML</a></li>\n",
    "            <li><a href=\"#\">CSS</a></li>\n",
    "            <li><a href=\"#\">JavaScript</a></li>\n",
    "          </ul>\n",
    "    </div>\n",
    "    </p>\n",
    "    <p>\n",
    "    <div class='select1'>   \n",
    "         <label for=\"cars\">Choose a car:</label>\n",
    "            <select name=\"cars\" id=\"cars\">\n",
    "              <option value=\"maruti\">Maruti</option>\n",
    "              <option value=\"hyundia\">Hyundia</option>\n",
    "              <option value=\"honda\">Honda</option>\n",
    "              <option value=\"kia\">KIA</option>\n",
    "            </select> \n",
    "    </p>\n",
    "    <p>\n",
    "     <div class='select2'>\n",
    "           One Selected Optin \n",
    "           <select id=\"dropdown\">\n",
    "              <option value=\"1\">option 1</option>\n",
    "              <option value=\"2\" selected>option 2</option>\n",
    "              <option value=\"3\">option 3</option>\n",
    "            </select>\n",
    "         </p>    \n",
    "    </body>\n",
    "</html>\n"
   ]
  },
  {
   "cell_type": "code",
   "execution_count": 145,
   "id": "354c2af9-ce18-4781-9ca8-7ec98548716f",
   "metadata": {},
   "outputs": [],
   "source": [
    "file ='/Users/du/dup/analytics/projects/nlp/pyj/htmleg/'\n",
    "cService = webdriver.ChromeService()\n",
    "driver = webdriver.Chrome(service = cService)\n",
    "driver.set_page_load_timeout(60)\n",
    "driver.get('file://' + file + 'dropdown1.html')"
   ]
  },
  {
   "cell_type": "code",
   "execution_count": 124,
   "id": "bf861dbb-1006-41b3-8d78-36434a9a074a",
   "metadata": {
    "tags": []
   },
   "outputs": [],
   "source": [
    "driver.get('file://' + file + 'dropdown1.html')\n",
    "driver.refresh()"
   ]
  },
  {
   "cell_type": "code",
   "execution_count": 146,
   "id": "13e8d7b2-3d75-4ce9-a393-98177b9bc3c5",
   "metadata": {
    "tags": []
   },
   "outputs": [
    {
     "data": {
      "text/plain": [
       "'This is HTML page for Selenium Practise'"
      ]
     },
     "execution_count": 146,
     "metadata": {},
     "output_type": "execute_result"
    }
   ],
   "source": [
    "driver.title\n",
    "#/html/head/title"
   ]
  },
  {
   "cell_type": "code",
   "execution_count": 115,
   "id": "18a2c085-4e45-48b8-8146-e894e1f92cf9",
   "metadata": {
    "tags": []
   },
   "outputs": [],
   "source": [
    "assert 'HTML' in driver.title"
   ]
  },
  {
   "cell_type": "markdown",
   "id": "5935eee2-a099-4188-b16f-0051dc99c4d1",
   "metadata": {},
   "source": [
    "## Tag Names"
   ]
  },
  {
   "cell_type": "code",
   "execution_count": 25,
   "id": "704fa37d-7a45-425d-a4f3-b94e9b445e30",
   "metadata": {
    "tags": []
   },
   "outputs": [
    {
     "data": {
      "text/plain": [
       "'Made by Dhiraj Upadhyaya\\nDropdown Example\\nHTML\\nCSS\\nJavaScript\\nChoose a car: \\n              \\nMaruti\\n              Hyundia\\n              Honda\\n              KIA\\n             One Selected Optin \\n              \\noption 1\\n              option 2\\n              option 3\\n            '"
      ]
     },
     "execution_count": 25,
     "metadata": {},
     "output_type": "execute_result"
    }
   ],
   "source": [
    "driver.find_element(By.TAG_NAME,'html').text"
   ]
  },
  {
   "cell_type": "code",
   "execution_count": 26,
   "id": "c452d3b6-90eb-4331-abe0-b39843f25861",
   "metadata": {
    "tags": []
   },
   "outputs": [
    {
     "data": {
      "text/plain": [
       "'Made by Dhiraj Upadhyaya\\nDropdown Example\\nHTML\\nCSS\\nJavaScript\\nChoose a car: \\n              \\nMaruti\\n              Hyundia\\n              Honda\\n              KIA\\n             One Selected Optin \\n              \\noption 1\\n              option 2\\n              option 3\\n            '"
      ]
     },
     "execution_count": 26,
     "metadata": {},
     "output_type": "execute_result"
    }
   ],
   "source": [
    "driver.find_element(By.TAG_NAME,'body').text"
   ]
  },
  {
   "cell_type": "code",
   "execution_count": 24,
   "id": "a241f8fd-24cf-48a9-86ab-cb0a1519d157",
   "metadata": {},
   "outputs": [
    {
     "data": {
      "text/plain": [
       "'Made by Dhiraj Upadhyaya'"
      ]
     },
     "execution_count": 24,
     "metadata": {},
     "output_type": "execute_result"
    }
   ],
   "source": [
    "#TagName \n",
    "driver.find_element(By.TAG_NAME,'h1').text"
   ]
  },
  {
   "cell_type": "code",
   "execution_count": 48,
   "id": "ee3f0325-cea9-4328-85e4-8e17def6cb13",
   "metadata": {
    "tags": []
   },
   "outputs": [
    {
     "data": {
      "text/plain": [
       "'Dropdown Example\\nHTML\\nCSS\\nJavaScript'"
      ]
     },
     "execution_count": 48,
     "metadata": {},
     "output_type": "execute_result"
    }
   ],
   "source": [
    "driver.find_element(By.TAG_NAME,'div').text"
   ]
  },
  {
   "cell_type": "code",
   "execution_count": 49,
   "id": "dd95a01c-1e20-491e-a99c-e721ae392948",
   "metadata": {
    "tags": []
   },
   "outputs": [
    {
     "data": {
      "text/plain": [
       "'Dropdown Example\\nHTML\\nCSS\\nJavaScript'"
      ]
     },
     "execution_count": 49,
     "metadata": {},
     "output_type": "execute_result"
    }
   ],
   "source": [
    "driver.find_element(By.XPATH,'//div').text"
   ]
  },
  {
   "cell_type": "code",
   "execution_count": 116,
   "id": "1f6e2e62-be8c-4b9a-9894-f87d55574266",
   "metadata": {
    "tags": []
   },
   "outputs": [
    {
     "data": {
      "text/plain": [
       "'Dropdown Example\\nHTML\\nCSS\\nJavaScript\\nR\\nPython'"
      ]
     },
     "execution_count": 116,
     "metadata": {},
     "output_type": "execute_result"
    }
   ],
   "source": [
    "driver.find_element(By.CSS_SELECTOR,'div').text"
   ]
  },
  {
   "cell_type": "code",
   "execution_count": 51,
   "id": "3e009caa-8322-43cf-9a0a-158b5b1e6dc9",
   "metadata": {
    "tags": []
   },
   "outputs": [
    {
     "data": {
      "text/plain": [
       "'Dropdown Example'"
      ]
     },
     "execution_count": 51,
     "metadata": {},
     "output_type": "execute_result"
    }
   ],
   "source": [
    "driver.find_element(By.CSS_SELECTOR ,'.btn').text"
   ]
  },
  {
   "cell_type": "markdown",
   "id": "c18f2872-709a-4ae1-a886-a45d3858ffd9",
   "metadata": {},
   "source": [
    "## li based Options"
   ]
  },
  {
   "cell_type": "code",
   "execution_count": null,
   "id": "45714a07-a0ee-41d2-ba2e-cf5768a7b441",
   "metadata": {},
   "outputs": [],
   "source": [
    "<div class=\"dropdown\">\n",
    "  <button class=\"btn btn-primary dropdown-toggle\" type=\"button\" data-toggle=\"dropdown\">Dropdown Example\n",
    "  <span class=\"caret\"></span></button>\n",
    "      <ul class=\"dropdown-menu\">\n",
    "        <li><a href=\"#\">HTML</a></li>\n",
    "        <li><a href=\"#\">CSS</a></li>\n",
    "        <li><a href=\"#\">JavaScript</a></li>\n",
    "      </ul>\n",
    "</div>"
   ]
  },
  {
   "cell_type": "code",
   "execution_count": 91,
   "id": "7d46bf10-f670-4af8-b677-5a6a35d48e38",
   "metadata": {
    "tags": []
   },
   "outputs": [
    {
     "data": {
      "text/plain": [
       "'HTML\\nCSS\\nJavaScript\\nR\\nPython'"
      ]
     },
     "execution_count": 91,
     "metadata": {},
     "output_type": "execute_result"
    }
   ],
   "source": [
    "driver.find_element(By.CSS_SELECTOR,'ul').text #all under ul"
   ]
  },
  {
   "cell_type": "code",
   "execution_count": 92,
   "id": "0babe33e-e30d-4286-9fd3-4d11a24d434a",
   "metadata": {
    "tags": []
   },
   "outputs": [
    {
     "data": {
      "text/plain": [
       "'HTML'"
      ]
     },
     "execution_count": 92,
     "metadata": {},
     "output_type": "execute_result"
    }
   ],
   "source": [
    "driver.find_element(By.CSS_SELECTOR,'ul > li:first-of-type').text #first bullet"
   ]
  },
  {
   "cell_type": "code",
   "execution_count": 98,
   "id": "5e68f1f3-7d26-41e5-bddb-2ab709a0c88e",
   "metadata": {
    "tags": []
   },
   "outputs": [
    {
     "data": {
      "text/plain": [
       "'Python'"
      ]
     },
     "execution_count": 98,
     "metadata": {},
     "output_type": "execute_result"
    }
   ],
   "source": [
    "driver.find_element(By.CSS_SELECTOR,'ul > li:last-of-type').text #last"
   ]
  },
  {
   "cell_type": "code",
   "execution_count": 100,
   "id": "71f215a7-751f-48e0-8adf-a6172ccb950f",
   "metadata": {
    "tags": []
   },
   "outputs": [
    {
     "data": {
      "text/plain": [
       "'Python'"
      ]
     },
     "execution_count": 100,
     "metadata": {},
     "output_type": "execute_result"
    }
   ],
   "source": [
    "driver.find_element(By.CSS_SELECTOR,'ul > *:last-of-type').text #last of type "
   ]
  },
  {
   "cell_type": "code",
   "execution_count": 99,
   "id": "eb5c8cb2-487a-4cb5-85d5-ac49e3594cb7",
   "metadata": {
    "tags": []
   },
   "outputs": [
    {
     "data": {
      "text/plain": [
       "'JavaScript'"
      ]
     },
     "execution_count": 99,
     "metadata": {},
     "output_type": "execute_result"
    }
   ],
   "source": [
    "driver.find_element(By.CSS_SELECTOR,'ul > li:nth-of-type(3)').text #3rd"
   ]
  },
  {
   "cell_type": "code",
   "execution_count": 102,
   "id": "3606a2fa-c5a6-446d-a49b-2ecba4865d9d",
   "metadata": {
    "tags": []
   },
   "outputs": [
    {
     "data": {
      "text/plain": [
       "'JavaScript'"
      ]
     },
     "execution_count": 102,
     "metadata": {},
     "output_type": "execute_result"
    }
   ],
   "source": [
    "driver.find_element(By.CSS_SELECTOR,'li:nth-of-type(3)').text #3rd  as there is only one li type"
   ]
  },
  {
   "cell_type": "code",
   "execution_count": 104,
   "id": "63229605-2d89-4e08-bc15-1f0767aeeb9a",
   "metadata": {
    "tags": []
   },
   "outputs": [
    {
     "data": {
      "text/plain": [
       "'CSS'"
      ]
     },
     "execution_count": 104,
     "metadata": {},
     "output_type": "execute_result"
    }
   ],
   "source": [
    "driver.find_element(By.XPATH,'//li[2]').text  #2nd in Xpath"
   ]
  },
  {
   "cell_type": "code",
   "execution_count": 106,
   "id": "b1f5742f-f4be-4597-8440-ff168cce3956",
   "metadata": {
    "tags": []
   },
   "outputs": [
    {
     "data": {
      "text/plain": [
       "'CSS'"
      ]
     },
     "execution_count": 106,
     "metadata": {},
     "output_type": "execute_result"
    }
   ],
   "source": [
    "driver.find_element(By.XPATH,'//li[position()=\"2\"]').text  #2nd in Xpath"
   ]
  },
  {
   "cell_type": "code",
   "execution_count": 109,
   "id": "a07947aa-976b-4f4c-b24c-a46b510129aa",
   "metadata": {
    "tags": []
   },
   "outputs": [
    {
     "data": {
      "text/plain": [
       "'CSS'"
      ]
     },
     "execution_count": 109,
     "metadata": {},
     "output_type": "execute_result"
    }
   ],
   "source": [
    "driver.find_element(By.XPATH,'//li[position()=\"2\"]/.').text  #2nd in Xpath, current"
   ]
  },
  {
   "cell_type": "code",
   "execution_count": 108,
   "id": "660775c6-4b12-4f15-8669-31eb97bbe8a0",
   "metadata": {
    "tags": []
   },
   "outputs": [
    {
     "data": {
      "text/plain": [
       "'Python'"
      ]
     },
     "execution_count": 108,
     "metadata": {},
     "output_type": "execute_result"
    }
   ],
   "source": [
    "driver.find_element(By.XPATH,'//li[last()]').text  #2nd in Xpath"
   ]
  },
  {
   "cell_type": "code",
   "execution_count": 107,
   "id": "1c4e8908-cd2e-48de-98b3-4fcaadc1b291",
   "metadata": {
    "tags": []
   },
   "outputs": [
    {
     "data": {
      "text/plain": [
       "'HTML\\nCSS\\nJavaScript\\nR\\nPython'"
      ]
     },
     "execution_count": 107,
     "metadata": {},
     "output_type": "execute_result"
    }
   ],
   "source": [
    "driver.find_element(By.XPATH,'//li[position()=\"2\"]/..').text  #parent of 2nd in Xpath"
   ]
  },
  {
   "cell_type": "markdown",
   "id": "f98f09af-1337-4fe9-be0b-890751a6b76c",
   "metadata": {
    "tags": []
   },
   "source": [
    "### Axes "
   ]
  },
  {
   "cell_type": "code",
   "execution_count": 127,
   "id": "f3019cbe-6270-4777-87fc-4fc7e58e03df",
   "metadata": {
    "tags": []
   },
   "outputs": [
    {
     "data": {
      "text/plain": [
       "'Dropdown Example\\nHTML\\nCSS\\nJavaScript\\nR\\nGGPlot2\\nTidyVerse\\nPython\\nAnaconda'"
      ]
     },
     "execution_count": 127,
     "metadata": {},
     "output_type": "execute_result"
    }
   ],
   "source": [
    "driver.find_element(By.XPATH,'//li[last()]/ancestor::div').text  # all ancessorts with div tags"
   ]
  },
  {
   "cell_type": "code",
   "execution_count": 128,
   "id": "d3875869-261f-43df-b702-c9d6a99c421f",
   "metadata": {
    "tags": []
   },
   "outputs": [
    {
     "data": {
      "text/plain": [
       "'Dropdown Example\\nHTML\\nCSS\\nJavaScript\\nR\\nGGPlot2\\nTidyVerse\\nPython\\nAnaconda'"
      ]
     },
     "execution_count": 128,
     "metadata": {},
     "output_type": "execute_result"
    }
   ],
   "source": [
    "driver.find_element(By.XPATH,'//li[position()=\"2\"]/ancestor::div').text  # all ancessorts with div tags"
   ]
  },
  {
   "cell_type": "code",
   "execution_count": 136,
   "id": "99e9b3d3-f788-4153-963d-ef428f3cbf47",
   "metadata": {
    "tags": []
   },
   "outputs": [
    {
     "data": {
      "text/plain": [
       "'GGPlot2'"
      ]
     },
     "execution_count": 136,
     "metadata": {},
     "output_type": "execute_result"
    }
   ],
   "source": [
    "driver.find_element(By.XPATH,'//ul[@class=\"dropdown-menu\"]//descendant::p').text  # descendant of drop-down-menu , first p"
   ]
  },
  {
   "cell_type": "code",
   "execution_count": 138,
   "id": "f2a99578-c18e-4a25-b48c-3f8321a568b4",
   "metadata": {
    "tags": []
   },
   "outputs": [
    {
     "data": {
      "text/plain": [
       "'GGPlot2'"
      ]
     },
     "execution_count": 138,
     "metadata": {},
     "output_type": "execute_result"
    }
   ],
   "source": [
    "driver.find_element(By.XPATH,'//li[position()=\"2\"]/following-sibling::p').text  # siblings of next tag: of Java Script"
   ]
  },
  {
   "cell_type": "code",
   "execution_count": 159,
   "id": "56b95bc2-b28e-4f9f-bedd-50e250158b5d",
   "metadata": {
    "tags": []
   },
   "outputs": [
    {
     "data": {
      "text/plain": [
       "'GGPlot2'"
      ]
     },
     "execution_count": 159,
     "metadata": {},
     "output_type": "execute_result"
    }
   ],
   "source": [
    "driver.find_element(By.XPATH,'//ul[@class=\"dropdown-menu\"]//child::p').text  # siblings of next tag: of Java Script"
   ]
  },
  {
   "cell_type": "code",
   "execution_count": null,
   "id": "3dd39cdd-c9bc-44fc-8eb5-6abbd40ed411",
   "metadata": {},
   "outputs": [],
   "source": []
  },
  {
   "cell_type": "markdown",
   "id": "17813cae-99b1-4e55-b522-f2f187879161",
   "metadata": {},
   "source": [
    "## select - option"
   ]
  },
  {
   "cell_type": "code",
   "execution_count": 160,
   "id": "07d1eab3-5887-4d6d-81a4-a13a8355abae",
   "metadata": {
    "tags": []
   },
   "outputs": [
    {
     "data": {
      "text/plain": [
       "'              Maruti\\n              Hyundia\\n              Honda\\n              KIA\\n            '"
      ]
     },
     "execution_count": 160,
     "metadata": {},
     "output_type": "execute_result"
    }
   ],
   "source": [
    "driver.find_element(By.XPATH, '//*[@id=\"cars\"]').text"
   ]
  },
  {
   "cell_type": "code",
   "execution_count": 161,
   "id": "3fd36a06-198b-4a35-b40d-7d3c44781c38",
   "metadata": {
    "tags": []
   },
   "outputs": [
    {
     "data": {
      "text/plain": [
       "'              Maruti\\n              Hyundia\\n              Honda\\n              KIA\\n            '"
      ]
     },
     "execution_count": 161,
     "metadata": {},
     "output_type": "execute_result"
    }
   ],
   "source": [
    "driver.find_element(By.XPATH, '//*[@id=\"cars\"]').text"
   ]
  },
  {
   "cell_type": "code",
   "execution_count": 162,
   "id": "a5aa13d6-007c-4e0d-9aed-8f188e6429ee",
   "metadata": {
    "tags": []
   },
   "outputs": [],
   "source": [
    "eSelect = driver.find_element(By.CSS_SELECTOR ,\"select:nth-child(2)\")"
   ]
  },
  {
   "cell_type": "code",
   "execution_count": 163,
   "id": "6b92ee4c-1345-47aa-a1b9-c7ecad81edb2",
   "metadata": {
    "tags": []
   },
   "outputs": [
    {
     "data": {
      "text/plain": [
       "'              Maruti\\n              Hyundia\\n              Honda\\n              KIA\\n            '"
      ]
     },
     "execution_count": 163,
     "metadata": {},
     "output_type": "execute_result"
    }
   ],
   "source": [
    "eSelect.text"
   ]
  },
  {
   "cell_type": "code",
   "execution_count": 164,
   "id": "e8afaa5d-1f7c-4e0b-9888-c1ac0ff7d96c",
   "metadata": {
    "tags": []
   },
   "outputs": [
    {
     "data": {
      "text/plain": [
       "<selenium.webdriver.support.select.Select at 0x16fdda1d0>"
      ]
     },
     "execution_count": 164,
     "metadata": {},
     "output_type": "execute_result"
    }
   ],
   "source": [
    "eSelect2 = Select(driver.find_element(By.ID, 'cars'))\n",
    "eSelect2"
   ]
  },
  {
   "cell_type": "code",
   "execution_count": 165,
   "id": "72f9ea33-31fa-4333-9a86-da41b7aa21f6",
   "metadata": {
    "tags": []
   },
   "outputs": [
    {
     "name": "stdout",
     "output_type": "stream",
     "text": [
      "Maruti\n",
      "Hyundia\n",
      "Honda\n",
      "KIA\n"
     ]
    }
   ],
   "source": [
    "for i in eSelect2.options: print(i.text)"
   ]
  },
  {
   "cell_type": "code",
   "execution_count": 166,
   "id": "993816e7-accc-4f71-95a6-e87706d998ba",
   "metadata": {
    "tags": []
   },
   "outputs": [
    {
     "data": {
      "text/plain": [
       "['maruti', 'hyundia', 'honda', 'kia']"
      ]
     },
     "execution_count": 166,
     "metadata": {},
     "output_type": "execute_result"
    }
   ],
   "source": [
    "[i.get_attribute('value') for i in eSelect2.options]  #all the options"
   ]
  },
  {
   "cell_type": "code",
   "execution_count": 167,
   "id": "a649ba84-4ab4-4e85-ad76-b68ccd265c6a",
   "metadata": {
    "tags": []
   },
   "outputs": [],
   "source": [
    "eSelect2.select_by_visible_text('Hyundia')"
   ]
  },
  {
   "cell_type": "code",
   "execution_count": 168,
   "id": "b60d41e7-660f-430c-a454-e7b0b9a233a3",
   "metadata": {
    "tags": []
   },
   "outputs": [],
   "source": [
    "eSelect2.select_by_index(0)# select_by_visible_text('Hyundia')"
   ]
  },
  {
   "cell_type": "code",
   "execution_count": 169,
   "id": "2ccf2789-e7e9-4a52-87a1-05e03024c756",
   "metadata": {
    "tags": []
   },
   "outputs": [],
   "source": [
    "eSelect2.select_by_value('kia') # select_by_index(0)"
   ]
  },
  {
   "cell_type": "code",
   "execution_count": 170,
   "id": "7b6097f1-ea2f-4344-898f-1b80c85aee0b",
   "metadata": {
    "tags": []
   },
   "outputs": [
    {
     "data": {
      "text/plain": [
       "'KIA'"
      ]
     },
     "execution_count": 170,
     "metadata": {},
     "output_type": "execute_result"
    }
   ],
   "source": [
    "eSelect2.first_selected_option.text  #current value visible"
   ]
  },
  {
   "cell_type": "code",
   "execution_count": 158,
   "id": "d4800fa8-e94f-4a3b-9c57-63bf648628b5",
   "metadata": {
    "tags": []
   },
   "outputs": [
    {
     "data": {
      "text/plain": [
       "'kia'"
      ]
     },
     "execution_count": 158,
     "metadata": {},
     "output_type": "execute_result"
    }
   ],
   "source": [
    "eSelect2.first_selected_option.get_attribute('value') #value in html code"
   ]
  },
  {
   "cell_type": "code",
   "execution_count": 117,
   "id": "a3c677fc-9596-4ad4-bbc5-cd16a7d39a9d",
   "metadata": {
    "tags": []
   },
   "outputs": [],
   "source": [
    "# More Search Functions"
   ]
  },
  {
   "cell_type": "code",
   "execution_count": 173,
   "id": "14906dce-b849-4e30-b3a1-66ec00379753",
   "metadata": {
    "tags": []
   },
   "outputs": [
    {
     "data": {
      "text/plain": [
       "'Python'"
      ]
     },
     "execution_count": 173,
     "metadata": {},
     "output_type": "execute_result"
    }
   ],
   "source": [
    "driver.find_element(By.LINK_TEXT,'Python').text"
   ]
  },
  {
   "cell_type": "code",
   "execution_count": 174,
   "id": "abcf084d-527c-4976-98f1-55d26dfd0274",
   "metadata": {
    "tags": []
   },
   "outputs": [
    {
     "data": {
      "text/plain": [
       "'JavaScript'"
      ]
     },
     "execution_count": 174,
     "metadata": {},
     "output_type": "execute_result"
    }
   ],
   "source": [
    "driver.find_element(By.PARTIAL_LINK_TEXT, 'ava').text"
   ]
  },
  {
   "cell_type": "code",
   "execution_count": 180,
   "id": "2e84c5e8-e4aa-421a-bff5-b1113144dc6a",
   "metadata": {
    "tags": []
   },
   "outputs": [
    {
     "data": {
      "text/plain": [
       "'Dropdown Example\\nHTML\\nCSS\\nJavaScript\\nR\\nGGPlot2\\nTidyVerse\\nPython\\nAnaconda'"
      ]
     },
     "execution_count": 180,
     "metadata": {},
     "output_type": "execute_result"
    }
   ],
   "source": [
    "driver.find_element(By.XPATH, \"//div[@class='dropdown']\").text"
   ]
  },
  {
   "cell_type": "code",
   "execution_count": 181,
   "id": "6e318b4c-dba6-43cc-b6ce-53b36d7b2f70",
   "metadata": {
    "tags": []
   },
   "outputs": [
    {
     "data": {
      "text/plain": [
       "'Dropdown Example\\nHTML\\nCSS\\nJavaScript\\nR\\nGGPlot2\\nTidyVerse\\nPython\\nAnaconda'"
      ]
     },
     "execution_count": 181,
     "metadata": {},
     "output_type": "execute_result"
    }
   ],
   "source": [
    "driver.find_element(By.XPATH, \"//div[starts-with(@class, 'drop')]\").text"
   ]
  },
  {
   "cell_type": "code",
   "execution_count": 194,
   "id": "9f430981-d3dc-472d-9e05-74a4d3963fe7",
   "metadata": {
    "tags": []
   },
   "outputs": [],
   "source": [
    "##driver.find_element(By.XPATH, \"//div[@type='hidden')]\")"
   ]
  },
  {
   "cell_type": "code",
   "execution_count": 183,
   "id": "c23c08f4-2642-4bde-8b4d-5d61182caca5",
   "metadata": {
    "tags": []
   },
   "outputs": [
    {
     "data": {
      "text/plain": [
       "'Dropdown Example\\nHTML\\nCSS\\nJavaScript\\nR\\nGGPlot2\\nTidyVerse\\nPython\\nAnaconda'"
      ]
     },
     "execution_count": 183,
     "metadata": {},
     "output_type": "execute_result"
    }
   ],
   "source": [
    "driver.find_element(By.XPATH, \"//div[not(@type='hidden')]\").text"
   ]
  },
  {
   "cell_type": "code",
   "execution_count": 186,
   "id": "0302b5f2-c29c-4872-8cef-fb3a25013bd7",
   "metadata": {
    "tags": []
   },
   "outputs": [
    {
     "data": {
      "text/plain": [
       "'Dropdown Example\\nHTML\\nCSS\\nJavaScript\\nR\\nGGPlot2\\nTidyVerse\\nPython\\nAnaconda'"
      ]
     },
     "execution_count": 186,
     "metadata": {},
     "output_type": "execute_result"
    }
   ],
   "source": [
    "driver.find_element(By.XPATH, \"//div[not(@type= 'button')]\").text"
   ]
  },
  {
   "cell_type": "code",
   "execution_count": 211,
   "id": "60bf732c-2722-40c2-a19b-b82be247402b",
   "metadata": {
    "tags": []
   },
   "outputs": [
    {
     "data": {
      "text/plain": [
       "[<selenium.webdriver.remote.webelement.WebElement (session=\"ed3a0b44293998b9b63ee49518dc8847\", element=\"f.59B954B5E0A7F3697FC53B047E6EE4AD.d.1DDFA40070D159444B1A7742FABC9988.e.9\")>,\n",
       " <selenium.webdriver.remote.webelement.WebElement (session=\"ed3a0b44293998b9b63ee49518dc8847\", element=\"f.59B954B5E0A7F3697FC53B047E6EE4AD.d.1DDFA40070D159444B1A7742FABC9988.e.11\")>,\n",
       " <selenium.webdriver.remote.webelement.WebElement (session=\"ed3a0b44293998b9b63ee49518dc8847\", element=\"f.59B954B5E0A7F3697FC53B047E6EE4AD.d.1DDFA40070D159444B1A7742FABC9988.e.13\")>,\n",
       " <selenium.webdriver.remote.webelement.WebElement (session=\"ed3a0b44293998b9b63ee49518dc8847\", element=\"f.59B954B5E0A7F3697FC53B047E6EE4AD.d.1DDFA40070D159444B1A7742FABC9988.e.15\")>,\n",
       " <selenium.webdriver.remote.webelement.WebElement (session=\"ed3a0b44293998b9b63ee49518dc8847\", element=\"f.59B954B5E0A7F3697FC53B047E6EE4AD.d.1DDFA40070D159444B1A7742FABC9988.e.19\")>]"
      ]
     },
     "execution_count": 211,
     "metadata": {},
     "output_type": "execute_result"
    }
   ],
   "source": [
    "driver.find_elements(By.XPATH, \"//div/ul/li\") #[count(li)]> 2\""
   ]
  },
  {
   "cell_type": "code",
   "execution_count": 213,
   "id": "27264218-3d02-4c2c-b3f0-ecdc0d298985",
   "metadata": {
    "tags": []
   },
   "outputs": [
    {
     "data": {
      "text/plain": [
       "5"
      ]
     },
     "execution_count": 213,
     "metadata": {},
     "output_type": "execute_result"
    }
   ],
   "source": [
    "len(driver.find_elements(By.XPATH, \"//div/ul/li\"))"
   ]
  },
  {
   "cell_type": "code",
   "execution_count": 216,
   "id": "fb2cb26c-640a-4fc6-a82f-9551693b7689",
   "metadata": {
    "tags": []
   },
   "outputs": [
    {
     "ename": "InvalidSelectorException",
     "evalue": "Message: invalid selector\nfrom javascript error: {\"status\":32,\"value\":\"Unable to locate an element with the xpath expression //div//ul//[count(li)]> 2 because of the following error:\\nSyntaxError: Failed to execute 'evaluate' on 'Document': The string '//div//ul//[count(li)]> 2' is not a valid XPath expression.\"}\n  (Session info: chrome=131.0.6778.205); For documentation on this error, please visit: https://www.selenium.dev/documentation/webdriver/troubleshooting/errors#invalid-selector-exception\nStacktrace:\n0   chromedriver                        0x00000001007b3184 cxxbridge1$str$ptr + 3626716\n1   chromedriver                        0x00000001007ab9d4 cxxbridge1$str$ptr + 3596076\n2   chromedriver                        0x0000000100218968 cxxbridge1$string$len + 89228\n3   chromedriver                        0x000000010021d84c cxxbridge1$string$len + 109424\n4   chromedriver                        0x000000010021f89c cxxbridge1$string$len + 117696\n5   chromedriver                        0x000000010021f944 cxxbridge1$string$len + 117864\n6   chromedriver                        0x000000010025ca94 cxxbridge1$string$len + 368056\n7   chromedriver                        0x00000001002965b4 cxxbridge1$string$len + 604376\n8   chromedriver                        0x0000000100251568 cxxbridge1$string$len + 321676\n9   chromedriver                        0x00000001002521b8 cxxbridge1$string$len + 324828\n10  chromedriver                        0x000000010077e9ac cxxbridge1$str$ptr + 3411716\n11  chromedriver                        0x0000000100781ccc cxxbridge1$str$ptr + 3424804\n12  chromedriver                        0x000000010076586c cxxbridge1$str$ptr + 3308996\n13  chromedriver                        0x000000010078258c cxxbridge1$str$ptr + 3427044\n14  chromedriver                        0x000000010075709c cxxbridge1$str$ptr + 3249652\n15  chromedriver                        0x000000010079c4b8 cxxbridge1$str$ptr + 3533328\n16  chromedriver                        0x000000010079c634 cxxbridge1$str$ptr + 3533708\n17  chromedriver                        0x00000001007ab648 cxxbridge1$str$ptr + 3595168\n18  libsystem_pthread.dylib             0x00000001898b02e4 _pthread_start + 136\n19  libsystem_pthread.dylib             0x00000001898ab0fc thread_start + 8\n",
     "output_type": "error",
     "traceback": [
      "\u001b[0;31m---------------------------------------------------------------------------\u001b[0m",
      "\u001b[0;31mInvalidSelectorException\u001b[0m                  Traceback (most recent call last)",
      "Cell \u001b[0;32mIn[216], line 1\u001b[0m\n\u001b[0;32m----> 1\u001b[0m driver\u001b[38;5;241m.\u001b[39mfind_elements(By\u001b[38;5;241m.\u001b[39mXPATH, \u001b[38;5;124m\"\u001b[39m\u001b[38;5;124m//div//ul//[count(li)]> 2\u001b[39m\u001b[38;5;124m\"\u001b[39m)\n",
      "File \u001b[0;32m~/anaconda3/lib/python3.11/site-packages/selenium/webdriver/remote/webdriver.py:771\u001b[0m, in \u001b[0;36mWebDriver.find_elements\u001b[0;34m(self, by, value)\u001b[0m\n\u001b[1;32m    767\u001b[0m     value \u001b[38;5;241m=\u001b[39m \u001b[38;5;124mf\u001b[39m\u001b[38;5;124m'\u001b[39m\u001b[38;5;124m[name=\u001b[39m\u001b[38;5;124m\"\u001b[39m\u001b[38;5;132;01m{\u001b[39;00mvalue\u001b[38;5;132;01m}\u001b[39;00m\u001b[38;5;124m\"\u001b[39m\u001b[38;5;124m]\u001b[39m\u001b[38;5;124m'\u001b[39m\n\u001b[1;32m    769\u001b[0m \u001b[38;5;66;03m# Return empty list if driver returns null\u001b[39;00m\n\u001b[1;32m    770\u001b[0m \u001b[38;5;66;03m# See https://github.com/SeleniumHQ/selenium/issues/4555\u001b[39;00m\n\u001b[0;32m--> 771\u001b[0m \u001b[38;5;28;01mreturn\u001b[39;00m \u001b[38;5;28mself\u001b[39m\u001b[38;5;241m.\u001b[39mexecute(Command\u001b[38;5;241m.\u001b[39mFIND_ELEMENTS, {\u001b[38;5;124m\"\u001b[39m\u001b[38;5;124musing\u001b[39m\u001b[38;5;124m\"\u001b[39m: by, \u001b[38;5;124m\"\u001b[39m\u001b[38;5;124mvalue\u001b[39m\u001b[38;5;124m\"\u001b[39m: value})[\u001b[38;5;124m\"\u001b[39m\u001b[38;5;124mvalue\u001b[39m\u001b[38;5;124m\"\u001b[39m] \u001b[38;5;129;01mor\u001b[39;00m []\n",
      "File \u001b[0;32m~/anaconda3/lib/python3.11/site-packages/selenium/webdriver/remote/webdriver.py:347\u001b[0m, in \u001b[0;36mWebDriver.execute\u001b[0;34m(self, driver_command, params)\u001b[0m\n\u001b[1;32m    345\u001b[0m response \u001b[38;5;241m=\u001b[39m \u001b[38;5;28mself\u001b[39m\u001b[38;5;241m.\u001b[39mcommand_executor\u001b[38;5;241m.\u001b[39mexecute(driver_command, params)\n\u001b[1;32m    346\u001b[0m \u001b[38;5;28;01mif\u001b[39;00m response:\n\u001b[0;32m--> 347\u001b[0m     \u001b[38;5;28mself\u001b[39m\u001b[38;5;241m.\u001b[39merror_handler\u001b[38;5;241m.\u001b[39mcheck_response(response)\n\u001b[1;32m    348\u001b[0m     response[\u001b[38;5;124m\"\u001b[39m\u001b[38;5;124mvalue\u001b[39m\u001b[38;5;124m\"\u001b[39m] \u001b[38;5;241m=\u001b[39m \u001b[38;5;28mself\u001b[39m\u001b[38;5;241m.\u001b[39m_unwrap_value(response\u001b[38;5;241m.\u001b[39mget(\u001b[38;5;124m\"\u001b[39m\u001b[38;5;124mvalue\u001b[39m\u001b[38;5;124m\"\u001b[39m, \u001b[38;5;28;01mNone\u001b[39;00m))\n\u001b[1;32m    349\u001b[0m     \u001b[38;5;28;01mreturn\u001b[39;00m response\n",
      "File \u001b[0;32m~/anaconda3/lib/python3.11/site-packages/selenium/webdriver/remote/errorhandler.py:229\u001b[0m, in \u001b[0;36mErrorHandler.check_response\u001b[0;34m(self, response)\u001b[0m\n\u001b[1;32m    227\u001b[0m         alert_text \u001b[38;5;241m=\u001b[39m value[\u001b[38;5;124m\"\u001b[39m\u001b[38;5;124malert\u001b[39m\u001b[38;5;124m\"\u001b[39m]\u001b[38;5;241m.\u001b[39mget(\u001b[38;5;124m\"\u001b[39m\u001b[38;5;124mtext\u001b[39m\u001b[38;5;124m\"\u001b[39m)\n\u001b[1;32m    228\u001b[0m     \u001b[38;5;28;01mraise\u001b[39;00m exception_class(message, screen, stacktrace, alert_text)  \u001b[38;5;66;03m# type: ignore[call-arg]  # mypy is not smart enough here\u001b[39;00m\n\u001b[0;32m--> 229\u001b[0m \u001b[38;5;28;01mraise\u001b[39;00m exception_class(message, screen, stacktrace)\n",
      "\u001b[0;31mInvalidSelectorException\u001b[0m: Message: invalid selector\nfrom javascript error: {\"status\":32,\"value\":\"Unable to locate an element with the xpath expression //div//ul//[count(li)]> 2 because of the following error:\\nSyntaxError: Failed to execute 'evaluate' on 'Document': The string '//div//ul//[count(li)]> 2' is not a valid XPath expression.\"}\n  (Session info: chrome=131.0.6778.205); For documentation on this error, please visit: https://www.selenium.dev/documentation/webdriver/troubleshooting/errors#invalid-selector-exception\nStacktrace:\n0   chromedriver                        0x00000001007b3184 cxxbridge1$str$ptr + 3626716\n1   chromedriver                        0x00000001007ab9d4 cxxbridge1$str$ptr + 3596076\n2   chromedriver                        0x0000000100218968 cxxbridge1$string$len + 89228\n3   chromedriver                        0x000000010021d84c cxxbridge1$string$len + 109424\n4   chromedriver                        0x000000010021f89c cxxbridge1$string$len + 117696\n5   chromedriver                        0x000000010021f944 cxxbridge1$string$len + 117864\n6   chromedriver                        0x000000010025ca94 cxxbridge1$string$len + 368056\n7   chromedriver                        0x00000001002965b4 cxxbridge1$string$len + 604376\n8   chromedriver                        0x0000000100251568 cxxbridge1$string$len + 321676\n9   chromedriver                        0x00000001002521b8 cxxbridge1$string$len + 324828\n10  chromedriver                        0x000000010077e9ac cxxbridge1$str$ptr + 3411716\n11  chromedriver                        0x0000000100781ccc cxxbridge1$str$ptr + 3424804\n12  chromedriver                        0x000000010076586c cxxbridge1$str$ptr + 3308996\n13  chromedriver                        0x000000010078258c cxxbridge1$str$ptr + 3427044\n14  chromedriver                        0x000000010075709c cxxbridge1$str$ptr + 3249652\n15  chromedriver                        0x000000010079c4b8 cxxbridge1$str$ptr + 3533328\n16  chromedriver                        0x000000010079c634 cxxbridge1$str$ptr + 3533708\n17  chromedriver                        0x00000001007ab648 cxxbridge1$str$ptr + 3595168\n18  libsystem_pthread.dylib             0x00000001898b02e4 _pthread_start + 136\n19  libsystem_pthread.dylib             0x00000001898ab0fc thread_start + 8\n"
     ]
    }
   ],
   "source": [
    "driver.find_elements(By.XPATH, \"//div//ul//[count(li)]> 2\")"
   ]
  },
  {
   "cell_type": "code",
   "execution_count": 44,
   "id": "bf029e27-6374-427a-91c3-30575d18fcb3",
   "metadata": {
    "tags": []
   },
   "outputs": [
    {
     "ename": "WebDriverException",
     "evalue": "Message: disconnected: not connected to DevTools\n  (failed to check if window was closed: disconnected: not connected to DevTools)\n  (Session info: chrome=131.0.6778.205)\nStacktrace:\n0   chromedriver                        0x00000001049e7184 cxxbridge1$str$ptr + 3626716\n1   chromedriver                        0x00000001049df9d4 cxxbridge1$str$ptr + 3596076\n2   chromedriver                        0x000000010444c968 cxxbridge1$string$len + 89228\n3   chromedriver                        0x0000000104436110 core::str::slice_error_fail::ha0e52dbcb60e6bae + 61840\n4   chromedriver                        0x00000001044363f8 core::str::slice_error_fail::ha0e52dbcb60e6bae + 62584\n5   chromedriver                        0x000000010444cef0 cxxbridge1$string$len + 90644\n6   chromedriver                        0x00000001044279f8 core::str::slice_error_fail::ha0e52dbcb60e6bae + 2680\n7   chromedriver                        0x00000001044bc688 cxxbridge1$string$len + 547244\n8   chromedriver                        0x0000000104485568 cxxbridge1$string$len + 321676\n9   chromedriver                        0x00000001044861b8 cxxbridge1$string$len + 324828\n10  chromedriver                        0x00000001049b29ac cxxbridge1$str$ptr + 3411716\n11  chromedriver                        0x00000001049b5ccc cxxbridge1$str$ptr + 3424804\n12  chromedriver                        0x000000010499986c cxxbridge1$str$ptr + 3308996\n13  chromedriver                        0x00000001049b658c cxxbridge1$str$ptr + 3427044\n14  chromedriver                        0x000000010498b09c cxxbridge1$str$ptr + 3249652\n15  chromedriver                        0x00000001049d04b8 cxxbridge1$str$ptr + 3533328\n16  chromedriver                        0x00000001049d0634 cxxbridge1$str$ptr + 3533708\n17  chromedriver                        0x00000001049df648 cxxbridge1$str$ptr + 3595168\n18  libsystem_pthread.dylib             0x00000001898b02e4 _pthread_start + 136\n19  libsystem_pthread.dylib             0x00000001898ab0fc thread_start + 8\n",
     "output_type": "error",
     "traceback": [
      "\u001b[0;31m---------------------------------------------------------------------------\u001b[0m",
      "\u001b[0;31mWebDriverException\u001b[0m                        Traceback (most recent call last)",
      "Cell \u001b[0;32mIn[44], line 1\u001b[0m\n\u001b[0;32m----> 1\u001b[0m driver\u001b[38;5;241m.\u001b[39mclose()\n",
      "File \u001b[0;32m~/anaconda3/lib/python3.11/site-packages/selenium/webdriver/remote/webdriver.py:458\u001b[0m, in \u001b[0;36mWebDriver.close\u001b[0;34m(self)\u001b[0m\n\u001b[1;32m    450\u001b[0m \u001b[38;5;28;01mdef\u001b[39;00m \u001b[38;5;21mclose\u001b[39m(\u001b[38;5;28mself\u001b[39m) \u001b[38;5;241m-\u001b[39m\u001b[38;5;241m>\u001b[39m \u001b[38;5;28;01mNone\u001b[39;00m:\n\u001b[1;32m    451\u001b[0m \u001b[38;5;250m    \u001b[39m\u001b[38;5;124;03m\"\"\"Closes the current window.\u001b[39;00m\n\u001b[1;32m    452\u001b[0m \n\u001b[1;32m    453\u001b[0m \u001b[38;5;124;03m    :Usage:\u001b[39;00m\n\u001b[0;32m   (...)\u001b[0m\n\u001b[1;32m    456\u001b[0m \u001b[38;5;124;03m            driver.close()\u001b[39;00m\n\u001b[1;32m    457\u001b[0m \u001b[38;5;124;03m    \"\"\"\u001b[39;00m\n\u001b[0;32m--> 458\u001b[0m     \u001b[38;5;28mself\u001b[39m\u001b[38;5;241m.\u001b[39mexecute(Command\u001b[38;5;241m.\u001b[39mCLOSE)\n",
      "File \u001b[0;32m~/anaconda3/lib/python3.11/site-packages/selenium/webdriver/remote/webdriver.py:347\u001b[0m, in \u001b[0;36mWebDriver.execute\u001b[0;34m(self, driver_command, params)\u001b[0m\n\u001b[1;32m    345\u001b[0m response \u001b[38;5;241m=\u001b[39m \u001b[38;5;28mself\u001b[39m\u001b[38;5;241m.\u001b[39mcommand_executor\u001b[38;5;241m.\u001b[39mexecute(driver_command, params)\n\u001b[1;32m    346\u001b[0m \u001b[38;5;28;01mif\u001b[39;00m response:\n\u001b[0;32m--> 347\u001b[0m     \u001b[38;5;28mself\u001b[39m\u001b[38;5;241m.\u001b[39merror_handler\u001b[38;5;241m.\u001b[39mcheck_response(response)\n\u001b[1;32m    348\u001b[0m     response[\u001b[38;5;124m\"\u001b[39m\u001b[38;5;124mvalue\u001b[39m\u001b[38;5;124m\"\u001b[39m] \u001b[38;5;241m=\u001b[39m \u001b[38;5;28mself\u001b[39m\u001b[38;5;241m.\u001b[39m_unwrap_value(response\u001b[38;5;241m.\u001b[39mget(\u001b[38;5;124m\"\u001b[39m\u001b[38;5;124mvalue\u001b[39m\u001b[38;5;124m\"\u001b[39m, \u001b[38;5;28;01mNone\u001b[39;00m))\n\u001b[1;32m    349\u001b[0m     \u001b[38;5;28;01mreturn\u001b[39;00m response\n",
      "File \u001b[0;32m~/anaconda3/lib/python3.11/site-packages/selenium/webdriver/remote/errorhandler.py:229\u001b[0m, in \u001b[0;36mErrorHandler.check_response\u001b[0;34m(self, response)\u001b[0m\n\u001b[1;32m    227\u001b[0m         alert_text \u001b[38;5;241m=\u001b[39m value[\u001b[38;5;124m\"\u001b[39m\u001b[38;5;124malert\u001b[39m\u001b[38;5;124m\"\u001b[39m]\u001b[38;5;241m.\u001b[39mget(\u001b[38;5;124m\"\u001b[39m\u001b[38;5;124mtext\u001b[39m\u001b[38;5;124m\"\u001b[39m)\n\u001b[1;32m    228\u001b[0m     \u001b[38;5;28;01mraise\u001b[39;00m exception_class(message, screen, stacktrace, alert_text)  \u001b[38;5;66;03m# type: ignore[call-arg]  # mypy is not smart enough here\u001b[39;00m\n\u001b[0;32m--> 229\u001b[0m \u001b[38;5;28;01mraise\u001b[39;00m exception_class(message, screen, stacktrace)\n",
      "\u001b[0;31mWebDriverException\u001b[0m: Message: disconnected: not connected to DevTools\n  (failed to check if window was closed: disconnected: not connected to DevTools)\n  (Session info: chrome=131.0.6778.205)\nStacktrace:\n0   chromedriver                        0x00000001049e7184 cxxbridge1$str$ptr + 3626716\n1   chromedriver                        0x00000001049df9d4 cxxbridge1$str$ptr + 3596076\n2   chromedriver                        0x000000010444c968 cxxbridge1$string$len + 89228\n3   chromedriver                        0x0000000104436110 core::str::slice_error_fail::ha0e52dbcb60e6bae + 61840\n4   chromedriver                        0x00000001044363f8 core::str::slice_error_fail::ha0e52dbcb60e6bae + 62584\n5   chromedriver                        0x000000010444cef0 cxxbridge1$string$len + 90644\n6   chromedriver                        0x00000001044279f8 core::str::slice_error_fail::ha0e52dbcb60e6bae + 2680\n7   chromedriver                        0x00000001044bc688 cxxbridge1$string$len + 547244\n8   chromedriver                        0x0000000104485568 cxxbridge1$string$len + 321676\n9   chromedriver                        0x00000001044861b8 cxxbridge1$string$len + 324828\n10  chromedriver                        0x00000001049b29ac cxxbridge1$str$ptr + 3411716\n11  chromedriver                        0x00000001049b5ccc cxxbridge1$str$ptr + 3424804\n12  chromedriver                        0x000000010499986c cxxbridge1$str$ptr + 3308996\n13  chromedriver                        0x00000001049b658c cxxbridge1$str$ptr + 3427044\n14  chromedriver                        0x000000010498b09c cxxbridge1$str$ptr + 3249652\n15  chromedriver                        0x00000001049d04b8 cxxbridge1$str$ptr + 3533328\n16  chromedriver                        0x00000001049d0634 cxxbridge1$str$ptr + 3533708\n17  chromedriver                        0x00000001049df648 cxxbridge1$str$ptr + 3595168\n18  libsystem_pthread.dylib             0x00000001898b02e4 _pthread_start + 136\n19  libsystem_pthread.dylib             0x00000001898ab0fc thread_start + 8\n"
     ]
    }
   ],
   "source": [
    "driver.close()"
   ]
  },
  {
   "cell_type": "code",
   "execution_count": null,
   "id": "b3532d1f-795f-4229-a076-d5e19b13dc21",
   "metadata": {},
   "outputs": [],
   "source": []
  }
 ],
 "metadata": {
  "kernelspec": {
   "display_name": "Python 3 (ipykernel)",
   "language": "python",
   "name": "python3"
  },
  "language_info": {
   "codemirror_mode": {
    "name": "ipython",
    "version": 3
   },
   "file_extension": ".py",
   "mimetype": "text/x-python",
   "name": "python",
   "nbconvert_exporter": "python",
   "pygments_lexer": "ipython3",
   "version": "3.11.5"
  }
 },
 "nbformat": 4,
 "nbformat_minor": 5
}
