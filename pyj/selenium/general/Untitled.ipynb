{
 "cells": [
  {
   "cell_type": "code",
   "execution_count": null,
   "id": "28b31786-73db-473c-9267-57078b2e8652",
   "metadata": {},
   "outputs": [],
   "source": [
    "## Selenium Practise "
   ]
  },
  {
   "cell_type": "code",
   "execution_count": 5,
   "id": "545962c5-4b57-4d34-98b5-9076384910c0",
   "metadata": {
    "tags": []
   },
   "outputs": [],
   "source": [
    "from selenium import webdriver\n",
    "from selenium.webdriver.common.by import By\n",
    "import pandas as pd\n",
    "from selenium.webdriver.chrome.service import Service\n",
    "from selenium.webdriver.chrome.options import Options\n",
    "#!pip install webdriver-manager\n",
    "from webdriver_manager.chrome import ChromeDriverManager"
   ]
  },
  {
   "cell_type": "code",
   "execution_count": 16,
   "id": "9242bcd6-3487-4961-bf6e-eaf003751c1a",
   "metadata": {
    "tags": []
   },
   "outputs": [],
   "source": [
    "url = 'amity.edu'\n",
    "cdp1 = '/opt/homebrew/bin/chromedriver'  # Replace with the actual path to your chromedriver"
   ]
  },
  {
   "cell_type": "code",
   "execution_count": 15,
   "id": "de7e88fa-1ce1-4a35-855c-6c99330ca983",
   "metadata": {
    "tags": []
   },
   "outputs": [
    {
     "ename": "InvalidArgumentException",
     "evalue": "Message: invalid argument\n  (Session info: chrome=131.0.6778.205)\nStacktrace:\n0   chromedriver                        0x0000000105457184 cxxbridge1$str$ptr + 3626716\n1   chromedriver                        0x000000010544f9d4 cxxbridge1$str$ptr + 3596076\n2   chromedriver                        0x0000000104ebc7d8 cxxbridge1$string$len + 88828\n3   chromedriver                        0x0000000104ea74d8 cxxbridge1$string$len + 2044\n4   chromedriver                        0x0000000104ea61ac core::str::slice_error_fail::ha0e52dbcb60e6bae + 61996\n5   chromedriver                        0x0000000104ea62c4 core::str::slice_error_fail::ha0e52dbcb60e6bae + 62276\n6   chromedriver                        0x0000000104ebee6c cxxbridge1$string$len + 98704\n7   chromedriver                        0x0000000104f3ab58 cxxbridge1$string$len + 605820\n8   chromedriver                        0x0000000104f3a5b4 cxxbridge1$string$len + 604376\n9   chromedriver                        0x0000000104ef5568 cxxbridge1$string$len + 321676\n10  chromedriver                        0x0000000104ef61b8 cxxbridge1$string$len + 324828\n11  chromedriver                        0x00000001054229ac cxxbridge1$str$ptr + 3411716\n12  chromedriver                        0x0000000105425ccc cxxbridge1$str$ptr + 3424804\n13  chromedriver                        0x000000010540986c cxxbridge1$str$ptr + 3308996\n14  chromedriver                        0x000000010542658c cxxbridge1$str$ptr + 3427044\n15  chromedriver                        0x00000001053fb09c cxxbridge1$str$ptr + 3249652\n16  chromedriver                        0x00000001054404b8 cxxbridge1$str$ptr + 3533328\n17  chromedriver                        0x0000000105440634 cxxbridge1$str$ptr + 3533708\n18  chromedriver                        0x000000010544f648 cxxbridge1$str$ptr + 3595168\n19  libsystem_pthread.dylib             0x0000000189fe42e4 _pthread_start + 136\n20  libsystem_pthread.dylib             0x0000000189fdf0fc thread_start + 8\n",
     "output_type": "error",
     "traceback": [
      "\u001b[0;31m---------------------------------------------------------------------------\u001b[0m",
      "\u001b[0;31mInvalidArgumentException\u001b[0m                  Traceback (most recent call last)",
      "Cell \u001b[0;32mIn[15], line 3\u001b[0m\n\u001b[1;32m      1\u001b[0m cService \u001b[38;5;241m=\u001b[39m webdriver\u001b[38;5;241m.\u001b[39mChromeService(executable_path\u001b[38;5;241m=\u001b[39mcdp1)\n\u001b[1;32m      2\u001b[0m driver \u001b[38;5;241m=\u001b[39m webdriver\u001b[38;5;241m.\u001b[39mChrome(service \u001b[38;5;241m=\u001b[39m cService)\n\u001b[0;32m----> 3\u001b[0m driver\u001b[38;5;241m.\u001b[39mget(url)\n",
      "File \u001b[0;32m~/anaconda3/lib/python3.11/site-packages/selenium/webdriver/remote/webdriver.py:356\u001b[0m, in \u001b[0;36mWebDriver.get\u001b[0;34m(self, url)\u001b[0m\n\u001b[1;32m    354\u001b[0m \u001b[38;5;28;01mdef\u001b[39;00m \u001b[38;5;21mget\u001b[39m(\u001b[38;5;28mself\u001b[39m, url: \u001b[38;5;28mstr\u001b[39m) \u001b[38;5;241m-\u001b[39m\u001b[38;5;241m>\u001b[39m \u001b[38;5;28;01mNone\u001b[39;00m:\n\u001b[1;32m    355\u001b[0m \u001b[38;5;250m    \u001b[39m\u001b[38;5;124;03m\"\"\"Loads a web page in the current browser session.\"\"\"\u001b[39;00m\n\u001b[0;32m--> 356\u001b[0m     \u001b[38;5;28mself\u001b[39m\u001b[38;5;241m.\u001b[39mexecute(Command\u001b[38;5;241m.\u001b[39mGET, {\u001b[38;5;124m\"\u001b[39m\u001b[38;5;124murl\u001b[39m\u001b[38;5;124m\"\u001b[39m: url})\n",
      "File \u001b[0;32m~/anaconda3/lib/python3.11/site-packages/selenium/webdriver/remote/webdriver.py:347\u001b[0m, in \u001b[0;36mWebDriver.execute\u001b[0;34m(self, driver_command, params)\u001b[0m\n\u001b[1;32m    345\u001b[0m response \u001b[38;5;241m=\u001b[39m \u001b[38;5;28mself\u001b[39m\u001b[38;5;241m.\u001b[39mcommand_executor\u001b[38;5;241m.\u001b[39mexecute(driver_command, params)\n\u001b[1;32m    346\u001b[0m \u001b[38;5;28;01mif\u001b[39;00m response:\n\u001b[0;32m--> 347\u001b[0m     \u001b[38;5;28mself\u001b[39m\u001b[38;5;241m.\u001b[39merror_handler\u001b[38;5;241m.\u001b[39mcheck_response(response)\n\u001b[1;32m    348\u001b[0m     response[\u001b[38;5;124m\"\u001b[39m\u001b[38;5;124mvalue\u001b[39m\u001b[38;5;124m\"\u001b[39m] \u001b[38;5;241m=\u001b[39m \u001b[38;5;28mself\u001b[39m\u001b[38;5;241m.\u001b[39m_unwrap_value(response\u001b[38;5;241m.\u001b[39mget(\u001b[38;5;124m\"\u001b[39m\u001b[38;5;124mvalue\u001b[39m\u001b[38;5;124m\"\u001b[39m, \u001b[38;5;28;01mNone\u001b[39;00m))\n\u001b[1;32m    349\u001b[0m     \u001b[38;5;28;01mreturn\u001b[39;00m response\n",
      "File \u001b[0;32m~/anaconda3/lib/python3.11/site-packages/selenium/webdriver/remote/errorhandler.py:229\u001b[0m, in \u001b[0;36mErrorHandler.check_response\u001b[0;34m(self, response)\u001b[0m\n\u001b[1;32m    227\u001b[0m         alert_text \u001b[38;5;241m=\u001b[39m value[\u001b[38;5;124m\"\u001b[39m\u001b[38;5;124malert\u001b[39m\u001b[38;5;124m\"\u001b[39m]\u001b[38;5;241m.\u001b[39mget(\u001b[38;5;124m\"\u001b[39m\u001b[38;5;124mtext\u001b[39m\u001b[38;5;124m\"\u001b[39m)\n\u001b[1;32m    228\u001b[0m     \u001b[38;5;28;01mraise\u001b[39;00m exception_class(message, screen, stacktrace, alert_text)  \u001b[38;5;66;03m# type: ignore[call-arg]  # mypy is not smart enough here\u001b[39;00m\n\u001b[0;32m--> 229\u001b[0m \u001b[38;5;28;01mraise\u001b[39;00m exception_class(message, screen, stacktrace)\n",
      "\u001b[0;31mInvalidArgumentException\u001b[0m: Message: invalid argument\n  (Session info: chrome=131.0.6778.205)\nStacktrace:\n0   chromedriver                        0x0000000105457184 cxxbridge1$str$ptr + 3626716\n1   chromedriver                        0x000000010544f9d4 cxxbridge1$str$ptr + 3596076\n2   chromedriver                        0x0000000104ebc7d8 cxxbridge1$string$len + 88828\n3   chromedriver                        0x0000000104ea74d8 cxxbridge1$string$len + 2044\n4   chromedriver                        0x0000000104ea61ac core::str::slice_error_fail::ha0e52dbcb60e6bae + 61996\n5   chromedriver                        0x0000000104ea62c4 core::str::slice_error_fail::ha0e52dbcb60e6bae + 62276\n6   chromedriver                        0x0000000104ebee6c cxxbridge1$string$len + 98704\n7   chromedriver                        0x0000000104f3ab58 cxxbridge1$string$len + 605820\n8   chromedriver                        0x0000000104f3a5b4 cxxbridge1$string$len + 604376\n9   chromedriver                        0x0000000104ef5568 cxxbridge1$string$len + 321676\n10  chromedriver                        0x0000000104ef61b8 cxxbridge1$string$len + 324828\n11  chromedriver                        0x00000001054229ac cxxbridge1$str$ptr + 3411716\n12  chromedriver                        0x0000000105425ccc cxxbridge1$str$ptr + 3424804\n13  chromedriver                        0x000000010540986c cxxbridge1$str$ptr + 3308996\n14  chromedriver                        0x000000010542658c cxxbridge1$str$ptr + 3427044\n15  chromedriver                        0x00000001053fb09c cxxbridge1$str$ptr + 3249652\n16  chromedriver                        0x00000001054404b8 cxxbridge1$str$ptr + 3533328\n17  chromedriver                        0x0000000105440634 cxxbridge1$str$ptr + 3533708\n18  chromedriver                        0x000000010544f648 cxxbridge1$str$ptr + 3595168\n19  libsystem_pthread.dylib             0x0000000189fe42e4 _pthread_start + 136\n20  libsystem_pthread.dylib             0x0000000189fdf0fc thread_start + 8\n"
     ]
    }
   ],
   "source": [
    "cService = webdriver.ChromeService(executable_path=cdp1)\n",
    "driver = webdriver.Chrome(service = cService)\n"
   ]
  },
  {
   "cell_type": "code",
   "execution_count": null,
   "id": "59fb092f-254e-472c-b541-1eb57e28a9b3",
   "metadata": {},
   "outputs": [],
   "source": []
  },
  {
   "cell_type": "code",
   "execution_count": 9,
   "id": "8047170b-0f13-47e8-b866-cfbf42979613",
   "metadata": {
    "tags": []
   },
   "outputs": [
    {
     "ename": "InvalidArgumentException",
     "evalue": "Message: invalid argument\n  (Session info: chrome=131.0.6778.205)\nStacktrace:\n0   chromedriver                        0x0000000104eff184 cxxbridge1$str$ptr + 3626716\n1   chromedriver                        0x0000000104ef79d4 cxxbridge1$str$ptr + 3596076\n2   chromedriver                        0x00000001049647d8 cxxbridge1$string$len + 88828\n3   chromedriver                        0x000000010494f4d8 cxxbridge1$string$len + 2044\n4   chromedriver                        0x000000010494e1ac core::str::slice_error_fail::ha0e52dbcb60e6bae + 61996\n5   chromedriver                        0x000000010494e2c4 core::str::slice_error_fail::ha0e52dbcb60e6bae + 62276\n6   chromedriver                        0x0000000104966e6c cxxbridge1$string$len + 98704\n7   chromedriver                        0x00000001049e2b58 cxxbridge1$string$len + 605820\n8   chromedriver                        0x00000001049e25b4 cxxbridge1$string$len + 604376\n9   chromedriver                        0x000000010499d568 cxxbridge1$string$len + 321676\n10  chromedriver                        0x000000010499e1b8 cxxbridge1$string$len + 324828\n11  chromedriver                        0x0000000104eca9ac cxxbridge1$str$ptr + 3411716\n12  chromedriver                        0x0000000104ecdccc cxxbridge1$str$ptr + 3424804\n13  chromedriver                        0x0000000104eb186c cxxbridge1$str$ptr + 3308996\n14  chromedriver                        0x0000000104ece58c cxxbridge1$str$ptr + 3427044\n15  chromedriver                        0x0000000104ea309c cxxbridge1$str$ptr + 3249652\n16  chromedriver                        0x0000000104ee84b8 cxxbridge1$str$ptr + 3533328\n17  chromedriver                        0x0000000104ee8634 cxxbridge1$str$ptr + 3533708\n18  chromedriver                        0x0000000104ef7648 cxxbridge1$str$ptr + 3595168\n19  libsystem_pthread.dylib             0x0000000189fe42e4 _pthread_start + 136\n20  libsystem_pthread.dylib             0x0000000189fdf0fc thread_start + 8\n",
     "output_type": "error",
     "traceback": [
      "\u001b[0;31m---------------------------------------------------------------------------\u001b[0m",
      "\u001b[0;31mInvalidArgumentException\u001b[0m                  Traceback (most recent call last)",
      "Cell \u001b[0;32mIn[9], line 1\u001b[0m\n\u001b[0;32m----> 1\u001b[0m driver\u001b[38;5;241m.\u001b[39mget(url)\n",
      "File \u001b[0;32m~/anaconda3/lib/python3.11/site-packages/selenium/webdriver/remote/webdriver.py:356\u001b[0m, in \u001b[0;36mWebDriver.get\u001b[0;34m(self, url)\u001b[0m\n\u001b[1;32m    354\u001b[0m \u001b[38;5;28;01mdef\u001b[39;00m \u001b[38;5;21mget\u001b[39m(\u001b[38;5;28mself\u001b[39m, url: \u001b[38;5;28mstr\u001b[39m) \u001b[38;5;241m-\u001b[39m\u001b[38;5;241m>\u001b[39m \u001b[38;5;28;01mNone\u001b[39;00m:\n\u001b[1;32m    355\u001b[0m \u001b[38;5;250m    \u001b[39m\u001b[38;5;124;03m\"\"\"Loads a web page in the current browser session.\"\"\"\u001b[39;00m\n\u001b[0;32m--> 356\u001b[0m     \u001b[38;5;28mself\u001b[39m\u001b[38;5;241m.\u001b[39mexecute(Command\u001b[38;5;241m.\u001b[39mGET, {\u001b[38;5;124m\"\u001b[39m\u001b[38;5;124murl\u001b[39m\u001b[38;5;124m\"\u001b[39m: url})\n",
      "File \u001b[0;32m~/anaconda3/lib/python3.11/site-packages/selenium/webdriver/remote/webdriver.py:347\u001b[0m, in \u001b[0;36mWebDriver.execute\u001b[0;34m(self, driver_command, params)\u001b[0m\n\u001b[1;32m    345\u001b[0m response \u001b[38;5;241m=\u001b[39m \u001b[38;5;28mself\u001b[39m\u001b[38;5;241m.\u001b[39mcommand_executor\u001b[38;5;241m.\u001b[39mexecute(driver_command, params)\n\u001b[1;32m    346\u001b[0m \u001b[38;5;28;01mif\u001b[39;00m response:\n\u001b[0;32m--> 347\u001b[0m     \u001b[38;5;28mself\u001b[39m\u001b[38;5;241m.\u001b[39merror_handler\u001b[38;5;241m.\u001b[39mcheck_response(response)\n\u001b[1;32m    348\u001b[0m     response[\u001b[38;5;124m\"\u001b[39m\u001b[38;5;124mvalue\u001b[39m\u001b[38;5;124m\"\u001b[39m] \u001b[38;5;241m=\u001b[39m \u001b[38;5;28mself\u001b[39m\u001b[38;5;241m.\u001b[39m_unwrap_value(response\u001b[38;5;241m.\u001b[39mget(\u001b[38;5;124m\"\u001b[39m\u001b[38;5;124mvalue\u001b[39m\u001b[38;5;124m\"\u001b[39m, \u001b[38;5;28;01mNone\u001b[39;00m))\n\u001b[1;32m    349\u001b[0m     \u001b[38;5;28;01mreturn\u001b[39;00m response\n",
      "File \u001b[0;32m~/anaconda3/lib/python3.11/site-packages/selenium/webdriver/remote/errorhandler.py:229\u001b[0m, in \u001b[0;36mErrorHandler.check_response\u001b[0;34m(self, response)\u001b[0m\n\u001b[1;32m    227\u001b[0m         alert_text \u001b[38;5;241m=\u001b[39m value[\u001b[38;5;124m\"\u001b[39m\u001b[38;5;124malert\u001b[39m\u001b[38;5;124m\"\u001b[39m]\u001b[38;5;241m.\u001b[39mget(\u001b[38;5;124m\"\u001b[39m\u001b[38;5;124mtext\u001b[39m\u001b[38;5;124m\"\u001b[39m)\n\u001b[1;32m    228\u001b[0m     \u001b[38;5;28;01mraise\u001b[39;00m exception_class(message, screen, stacktrace, alert_text)  \u001b[38;5;66;03m# type: ignore[call-arg]  # mypy is not smart enough here\u001b[39;00m\n\u001b[0;32m--> 229\u001b[0m \u001b[38;5;28;01mraise\u001b[39;00m exception_class(message, screen, stacktrace)\n",
      "\u001b[0;31mInvalidArgumentException\u001b[0m: Message: invalid argument\n  (Session info: chrome=131.0.6778.205)\nStacktrace:\n0   chromedriver                        0x0000000104eff184 cxxbridge1$str$ptr + 3626716\n1   chromedriver                        0x0000000104ef79d4 cxxbridge1$str$ptr + 3596076\n2   chromedriver                        0x00000001049647d8 cxxbridge1$string$len + 88828\n3   chromedriver                        0x000000010494f4d8 cxxbridge1$string$len + 2044\n4   chromedriver                        0x000000010494e1ac core::str::slice_error_fail::ha0e52dbcb60e6bae + 61996\n5   chromedriver                        0x000000010494e2c4 core::str::slice_error_fail::ha0e52dbcb60e6bae + 62276\n6   chromedriver                        0x0000000104966e6c cxxbridge1$string$len + 98704\n7   chromedriver                        0x00000001049e2b58 cxxbridge1$string$len + 605820\n8   chromedriver                        0x00000001049e25b4 cxxbridge1$string$len + 604376\n9   chromedriver                        0x000000010499d568 cxxbridge1$string$len + 321676\n10  chromedriver                        0x000000010499e1b8 cxxbridge1$string$len + 324828\n11  chromedriver                        0x0000000104eca9ac cxxbridge1$str$ptr + 3411716\n12  chromedriver                        0x0000000104ecdccc cxxbridge1$str$ptr + 3424804\n13  chromedriver                        0x0000000104eb186c cxxbridge1$str$ptr + 3308996\n14  chromedriver                        0x0000000104ece58c cxxbridge1$str$ptr + 3427044\n15  chromedriver                        0x0000000104ea309c cxxbridge1$str$ptr + 3249652\n16  chromedriver                        0x0000000104ee84b8 cxxbridge1$str$ptr + 3533328\n17  chromedriver                        0x0000000104ee8634 cxxbridge1$str$ptr + 3533708\n18  chromedriver                        0x0000000104ef7648 cxxbridge1$str$ptr + 3595168\n19  libsystem_pthread.dylib             0x0000000189fe42e4 _pthread_start + 136\n20  libsystem_pthread.dylib             0x0000000189fdf0fc thread_start + 8\n"
     ]
    }
   ],
   "source": []
  },
  {
   "cell_type": "code",
   "execution_count": null,
   "id": "b4e06c9e-3f98-4567-a9f7-62efd68fab21",
   "metadata": {},
   "outputs": [],
   "source": []
  }
 ],
 "metadata": {
  "kernelspec": {
   "display_name": "Python 3 (ipykernel)",
   "language": "python",
   "name": "python3"
  },
  "language_info": {
   "codemirror_mode": {
    "name": "ipython",
    "version": 3
   },
   "file_extension": ".py",
   "mimetype": "text/x-python",
   "name": "python",
   "nbconvert_exporter": "python",
   "pygments_lexer": "ipython3",
   "version": "3.11.5"
  }
 },
 "nbformat": 4,
 "nbformat_minor": 5
}
