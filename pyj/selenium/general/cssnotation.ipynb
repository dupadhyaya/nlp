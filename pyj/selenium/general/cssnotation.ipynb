{
 "cells": [
  {
   "cell_type": "markdown",
   "id": "58f3d8ea-a967-4941-a8c5-9720d327347d",
   "metadata": {},
   "source": [
    "# Using CSS dot notation\n",
    "-- \n"
   ]
  },
  {
   "cell_type": "code",
   "execution_count": 30,
   "id": "df79a752-368b-476f-a700-9cb31f583047",
   "metadata": {
    "tags": []
   },
   "outputs": [],
   "source": [
    "from selenium import webdriver\n",
    "from selenium.webdriver.common.by import By\n",
    "import pandas as pd\n",
    "from selenium.webdriver.chrome.service import Service\n",
    "import time\n",
    "from webdriver_manager.chrome import ChromeDriverManager"
   ]
  },
  {
   "cell_type": "code",
   "execution_count": 31,
   "id": "7e61c25f-3b05-4641-8833-b629908e3654",
   "metadata": {
    "tags": []
   },
   "outputs": [],
   "source": [
    "from bs4 import BeautifulSoup"
   ]
  },
  {
   "cell_type": "code",
   "execution_count": 32,
   "id": "62908c71-dca0-46dd-8cf2-5b0857aa8121",
   "metadata": {
    "tags": []
   },
   "outputs": [],
   "source": [
    "from selenium.webdriver.support.ui import WebDriverWait\n",
    "from selenium.webdriver.support import expected_conditions as EC"
   ]
  },
  {
   "cell_type": "code",
   "execution_count": 33,
   "id": "13af1c27-b4d5-4c6a-bed4-df0d212028e8",
   "metadata": {
    "tags": []
   },
   "outputs": [],
   "source": [
    "cService = webdriver.ChromeService()\n",
    "driver = webdriver.Chrome(service = cService)\n",
    "driver.set_page_load_timeout(200)"
   ]
  },
  {
   "cell_type": "code",
   "execution_count": 34,
   "id": "d15af401-986d-4bd4-8df0-4a0f268796c9",
   "metadata": {
    "tags": []
   },
   "outputs": [
    {
     "name": "stdout",
     "output_type": "stream",
     "text": [
      "Web of Science Master Journal List - WoS MJL by Clarivate\n"
     ]
    }
   ],
   "source": [
    "url2 = \"https://mjl.clarivate.com\"\n",
    "driver.get(url2)\n",
    "print(driver.title)"
   ]
  },
  {
   "cell_type": "code",
   "execution_count": 35,
   "id": "c1c72041-6fba-4621-b2e3-a0ec6a12c531",
   "metadata": {
    "tags": []
   },
   "outputs": [],
   "source": [
    "driver.find_element(By.CSS_SELECTOR,'[aria-label=\"Close\"]').click()\n",
    "time.sleep(5)\n",
    "driver.find_element(By.XPATH ,'//*[@id=\"search-button\"]/span[2]').click()"
   ]
  },
  {
   "cell_type": "code",
   "execution_count": 36,
   "id": "5bb38519-756a-4c05-9eb4-a3a89d4aeb8f",
   "metadata": {
    "tags": []
   },
   "outputs": [],
   "source": [
    "## Dot Notations"
   ]
  },
  {
   "cell_type": "code",
   "execution_count": 37,
   "id": "1e3b23ed-9768-4cd3-8c03-62bc1e5bc3af",
   "metadata": {
    "tags": []
   },
   "outputs": [
    {
     "name": "stdout",
     "output_type": "stream",
     "text": [
      "20 ET 21-REVUE D HISTOIRE\n",
      "Publisher:\n",
      "PRESSES SCIENCES PO , 28 Rue Saint Guillaume, PARIS, France, 75017\n",
      "ISSN / eISSN:\n",
      "2649-664X / 2649-6100\n",
      "Web of Science Core Collection:\n",
      "Arts & Humanities Citation Index\n",
      "share\n",
      "Share This Journal\n",
      "View profile page\n",
      " * Requires free login.\n",
      "2D MATERIALS\n",
      "Publisher:\n",
      "IOP PUBLISHING LTD , TEMPLE CIRCUS, TEMPLE WAY, BRISTOL, ENGLAND, BS1 6BE\n",
      "ISSN / eISSN:\n",
      "2053-1583\n",
      "Web of Science Core Collection:\n",
      "Science Citation Index Expanded\n",
      "Additional Web of Science Indexes:\n",
      "Current Contents Physical, Chemical & Earth Sciences | Essential Science Indicators\n",
      "share\n",
      "Share This Journal\n",
      "View profile page\n",
      " * Requires free login.\n"
     ]
    }
   ],
   "source": [
    "cards = driver.find_elements(By.CSS_SELECTOR,'mat-card.mat-mdc-card.mdc-card.card-width-special')\n",
    "for i in cards[0:2]:\n",
    "   print(i.text)"
   ]
  },
  {
   "cell_type": "code",
   "execution_count": 15,
   "id": "79189ea0-0990-4f3f-9536-5726c8bc8d40",
   "metadata": {
    "tags": []
   },
   "outputs": [
    {
     "name": "stdout",
     "output_type": "stream",
     "text": [
      "12\n",
      "\n",
      "\n",
      "20 ET 21-REVUE D HISTOIRE\n",
      "2D MATERIALS\n",
      "3 BIOTECH\n",
      "3C EMPRESA\n",
      "3C TECNOLOGIA\n",
      "3C TIC\n",
      "3D PRINTING AND ADDITIVE MANUFACTURING\n",
      "3D PRINTING IN MEDICINE\n",
      "3L-LANGUAGE LINGUISTICS LITERATURE-THE SOUTHEAST ASIAN JOURNAL OF ENGLISH LANGUAGE STUDIES\n",
      "452 F-REVISTA DE TEORIA DE LA LITERATURA Y LITERATURA COMPARADA\n"
     ]
    }
   ],
   "source": [
    "title1 = driver.find_elements(By.CSS_SELECTOR,'mat-card-title.mat-mdc-card-title')\n",
    "print(len(title1))\n",
    "for i in title1:  print(i.text)"
   ]
  },
  {
   "cell_type": "code",
   "execution_count": 28,
   "id": "b510686d-2ebd-4141-b265-41d5fda88b04",
   "metadata": {
    "tags": []
   },
   "outputs": [
    {
     "name": "stdout",
     "output_type": "stream",
     "text": [
      "33\n",
      "Publisher:\n",
      "PRESSES SCIENCES PO , 28 Rue Saint Guillaume, PARIS, France, 75017\n",
      "ISSN / eISSN:\n",
      "2649-664X / 2649-6100\n",
      "Web of Science Core Collection:\n",
      "Arts & Humanities Citation Index\n",
      "Publisher:\n",
      "IOP PUBLISHING LTD , TEMPLE CIRCUS, TEMPLE WAY, BRISTOL, ENGLAND, BS1 6BE\n",
      "ISSN / eISSN:\n",
      "2053-1583\n",
      "Web of Science Core Collection:\n",
      "Science Citation Index Expanded\n",
      "Additional Web of Science Indexes:\n",
      "Current Contents Physical, Chemical & Earth Sciences | Essential Science Indicators\n",
      "Publisher:\n",
      "SPRINGER HEIDELBERG , TIERGARTENSTRASSE 17, HEIDELBERG, GERMANY, D-69121\n",
      "ISSN / eISSN:\n",
      "2190-572X / 2190-5738\n",
      "Web of Science Core Collection:\n",
      "Science Citation Index Expanded\n",
      "Additional Web of Science Indexes:\n",
      "Biological Abstracts | BIOSIS Previews | Current Contents Life Sciences | Essential Science Indicators\n",
      "Publisher:\n",
      "AREA INNOVACION & DESARROLLO , C/ELS ALZAMORA NO 17, ALCOY, ALICANTE, SPAIN, 03802\n",
      "ISSN / eISSN:\n",
      "2254-3376\n",
      "Web of Science Core Collection:\n",
      "Emerging Sources Citation Index\n",
      "Publisher:\n",
      "3CIENCIAS , C/ SANTA ROSA 15, ALCOY, SPAIN, 03802\n",
      "ISSN / eISSN:\n",
      "2254-4143\n",
      "Web of Science Core Collection:\n",
      "Emerging Sources Citation Index\n",
      "Publisher:\n",
      "AREA INNOVACION & DESARROLLO , C/ELS ALZAMORA NO 17, ALCOY, ALICANTE, SPAIN, 03802\n",
      "ISSN / eISSN:\n",
      "2254-6529\n",
      "Web of Science Core Collection:\n",
      "Emerging Sources Citation Index\n",
      "Publisher:\n",
      "MARY ANN LIEBERT, INC , 140 HUGUENOT STREET, 3RD FL, NEW ROCHELLE, USA, NY, 10801\n",
      "ISSN / eISSN:\n",
      "2329-7662 / 2329-7670\n",
      "Web of Science Core Collection:\n",
      "Science Citation Index Expanded\n",
      "Additional Web of Science Indexes:\n",
      "Current Contents Engineering, Computing & Technology | Essential Science Indicators\n",
      "Publisher:\n",
      "SPRINGERNATURE , CAMPUS, 4 CRINAN ST, LONDON, ENGLAND, N1 9XW\n",
      "ISSN / eISSN:\n",
      "2365-6271\n",
      "Web of Science Core Collection:\n",
      "Emerging Sources Citation Index\n",
      "Publisher:\n",
      "PENERBIT UNIV KEBANGSAAN MALAYSIA , PENERBIT UNIV KEBANGSAAN MALAYSIA, FAC SOCIAL SCIENCES & HUMANITIES, BANGI, Malaysia, SELANGOR, 43600\n",
      "ISSN / eISSN:\n",
      "0128-5157 / 2550-2247\n",
      "Web of Science Core Collection:\n",
      "Emerging Sources Citation Index\n",
      "Publisher:\n",
      "UNIV BARCELONA, FACULTAD FILOLOGIA , GRAN VIA DE LES CORTS CATALANES, 585, BARCELONA, SPAIN, 08007\n",
      "ISSN / eISSN:\n",
      "2013-3294\n",
      "Web of Science Core Collection:\n",
      "Emerging Sources Citation Index\n"
     ]
    }
   ],
   "source": [
    "pub1 = driver.find_elements(By.CSS_SELECTOR,'div.search-results-row.ng-star-inserted')\n",
    "print(len(pub1))\n",
    "for i in pub1:  \n",
    "    #pub2 = pub1.find_elements(By.CSS_SELECTOR, 'div.search-results-value')\n",
    "    print(i.text)"
   ]
  },
  {
   "cell_type": "code",
   "execution_count": 44,
   "id": "2b622f25-28b3-4c5e-a641-aa44875c7c7e",
   "metadata": {
    "tags": []
   },
   "outputs": [],
   "source": [
    "labels = driver.find_elements(By.XPATH, \"//td[contains(text(), None)]\")\n",
    "texts = [l.get_attribute(\"aria-label\") for l in labels]"
   ]
  },
  {
   "cell_type": "code",
   "execution_count": 45,
   "id": "0faa3a26-e24b-4d92-8f16-044068611861",
   "metadata": {
    "tags": []
   },
   "outputs": [
    {
     "data": {
      "text/plain": [
       "0"
      ]
     },
     "execution_count": 45,
     "metadata": {},
     "output_type": "execute_result"
    }
   ],
   "source": [
    "len(texts)"
   ]
  },
  {
   "cell_type": "code",
   "execution_count": null,
   "id": "37aa03d6-3761-4d03-a235-6c7a6d48ba78",
   "metadata": {},
   "outputs": [],
   "source": [
    "soup = BeautifulSoup(html_doc, 'html.parser')"
   ]
  },
  {
   "cell_type": "code",
   "execution_count": null,
   "id": "9e3e6fb7-4ea0-4156-97df-cffcc97de3a1",
   "metadata": {},
   "outputs": [],
   "source": []
  }
 ],
 "metadata": {
  "kernelspec": {
   "display_name": "Python 3 (ipykernel)",
   "language": "python",
   "name": "python3"
  },
  "language_info": {
   "codemirror_mode": {
    "name": "ipython",
    "version": 3
   },
   "file_extension": ".py",
   "mimetype": "text/x-python",
   "name": "python",
   "nbconvert_exporter": "python",
   "pygments_lexer": "ipython3",
   "version": "3.11.5"
  }
 },
 "nbformat": 4,
 "nbformat_minor": 5
}
