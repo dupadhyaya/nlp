{
 "cells": [
  {
   "cell_type": "code",
   "execution_count": null,
   "id": "326b5241-e381-4748-b208-1cf6d35979aa",
   "metadata": {},
   "outputs": [],
   "source": [
    "# AQI \n"
   ]
  },
  {
   "cell_type": "code",
   "execution_count": 1,
   "id": "d7ee5858-c386-4a53-bab7-a5361091d6f0",
   "metadata": {
    "tags": []
   },
   "outputs": [],
   "source": [
    "import pandas as pd\n",
    "url1 = 'https://api.waqi.info'\n",
    "# Get token from:- https://aqicn.org/data-platform/token/#/"
   ]
  },
  {
   "cell_type": "code",
   "execution_count": null,
   "id": "cbe79c49-3cbb-463b-ae37-0ef480ea3cb1",
   "metadata": {},
   "outputs": [],
   "source": [
    "\n",
    "token = 'XXX'\n",
    "box = '113.805332,22.148942,114.434299,22.561716' # polygon around HongKong via bboxfinder.com\n",
    "url2=f'/map/bounds/?latlng={box}&token={token}'\n",
    "my_data = pd.read_json(url1 + url2) \n",
    "\n",
    "all_rows = []\n",
    "for each_row in my_data['data']:\n",
    "    all_rows.append([each_row['station']['name'],each_row['lat'],each_row['lon'],each_row['aqi']])\n",
    "    df = pd.DataFrame(all_rows,columns=['station_name', 'lat', 'lon', 'aqi'])"
   ]
  }
 ],
 "metadata": {
  "kernelspec": {
   "display_name": "Python 3 (ipykernel)",
   "language": "python",
   "name": "python3"
  },
  "language_info": {
   "codemirror_mode": {
    "name": "ipython",
    "version": 3
   },
   "file_extension": ".py",
   "mimetype": "text/x-python",
   "name": "python",
   "nbconvert_exporter": "python",
   "pygments_lexer": "ipython3",
   "version": "3.11.5"
  }
 },
 "nbformat": 4,
 "nbformat_minor": 5
}
