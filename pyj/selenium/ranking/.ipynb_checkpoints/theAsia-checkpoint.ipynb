{
 "cells": [
  {
   "cell_type": "markdown",
   "id": "506aeb8d-0540-42a2-abc3-50509ff1a6cc",
   "metadata": {},
   "source": [
    "# THE Asia Ranking\n",
    "- https://www.timeshighereducation.com/world-university-rankings/2023/regional-ranking\n",
    "- https://www.timeshighereducation.com/world-university-rankings/2024/regional-ranking\n",
    "- https://www.timeshighereducation.com/world-university-rankings/2025/regional-ranking\n",
    "- part : #!/length/-1/sort_by/rank/sort_order/asc/cols/scores"
   ]
  },
  {
   "cell_type": "code",
   "execution_count": 129,
   "id": "137b7ad1-d85d-4ef7-9196-3a9b56c40a06",
   "metadata": {},
   "outputs": [
    {
     "data": {
      "text/plain": [
       "'https://www.timeshighereducation.com/world-university-rankings/2023/regional-ranking/#!/length/-1/sort_by/rank/sort_order/asc/cols/scores/'"
      ]
     },
     "execution_count": 129,
     "metadata": {},
     "output_type": "execute_result"
    }
   ],
   "source": [
    "urls = [\"https://www.timeshighereducation.com/world-university-rankings/2023/regional-ranking/\", \n",
    "\"https://www.timeshighereducation.com/world-university-rankings/2024/regional-ranking/\", \"https://www.timeshighereducation.com/world-university-rankings/2025/regional-ranking\"]\n",
    "part1 = '#!/length/-1/sort_by/rank/sort_order/asc/cols/scores/'\n",
    "urls[0] + part1"
   ]
  },
  {
   "cell_type": "code",
   "execution_count": 144,
   "id": "54e157e3-69cf-4760-91c0-a436e830abad",
   "metadata": {},
   "outputs": [],
   "source": [
    "#install libraries if required"
   ]
  },
  {
   "cell_type": "code",
   "execution_count": 145,
   "id": "fce9a469-570a-4fc0-8023-553cec2c62f6",
   "metadata": {},
   "outputs": [],
   "source": [
    "from selenium import webdriver\n",
    "from selenium.webdriver.chrome.service import Service\n",
    "from webdriver_manager.chrome import ChromeDriverManager\n",
    "from selenium.webdriver.common.by import By\n",
    "from selenium.webdriver.chrome.options import Options\n",
    "from selenium.webdriver.support.ui import WebDriverWait\n",
    "from selenium.webdriver.support import expected_conditions as EC\n",
    "from selenium.common.exceptions import TimeoutException\n",
    "import time\n",
    "import pandas as pd\n",
    "import numpy as np\n",
    "import re"
   ]
  },
  {
   "cell_type": "code",
   "execution_count": 173,
   "id": "c321bcfd-0011-4cd3-b7e5-9524fe70d65d",
   "metadata": {},
   "outputs": [],
   "source": [
    "pd.set_option('max_colwidth',None)"
   ]
  },
  {
   "cell_type": "code",
   "execution_count": 146,
   "id": "1fa165f2-938d-4820-9e07-5455f4823676",
   "metadata": {},
   "outputs": [],
   "source": [
    "# Setup Chrome options\n",
    "options = Options()\n",
    "options.add_argument(\"--start-maximized\")\n",
    "options.add_argument(\"--disable-notifications\")"
   ]
  },
  {
   "cell_type": "code",
   "execution_count": 147,
   "id": "4b64cccc-1d51-4397-bc50-c82edb2f8e6a",
   "metadata": {},
   "outputs": [],
   "source": [
    "# Download location\n",
    "prefs = { \"download.prompt_for_download\": False, \"download.default_directory\": \"/Users/du/dup/auData/download\"}\n",
    "options.add_experimental_option(\"prefs\", prefs)"
   ]
  },
  {
   "cell_type": "code",
   "execution_count": 148,
   "id": "2bafede3-1bf9-401f-bd17-6b271d673599",
   "metadata": {},
   "outputs": [],
   "source": [
    "cp2 = '/opt/homebrew/bin/chromedriver'  # Replace with the actual path to your chromedriver"
   ]
  },
  {
   "cell_type": "code",
   "execution_count": 149,
   "id": "ad5150f4-55ce-41b3-bcc5-60d88ec2ae43",
   "metadata": {},
   "outputs": [],
   "source": [
    "#start driver\n",
    "cService = webdriver.ChromeService(executable_path=cp2)\n",
    "driver = webdriver.Chrome(service = cService)\n",
    "#from webdriver_manager.chrome import ChromeDriverManager\n",
    "#service = Service(ChromeDriverManager().install())\n",
    "#driver = webdriver.Chrome(service=service)\n",
    "#driver = webdriver.Chrome(ChromeDriverManager().install())\n",
    "#print(driver.capabilities)"
   ]
  },
  {
   "cell_type": "code",
   "execution_count": 160,
   "id": "e2d26c85-ae0b-49fc-80f7-a0a4964a83b3",
   "metadata": {},
   "outputs": [],
   "source": [
    "cService = webdriver.ChromeService(executable_path=cp2)\n",
    "driver = webdriver.Chrome(service = cService)\n",
    "url = urls[0] + part1\n",
    "driver.get(url)\n",
    "wait = WebDriverWait(driver, 5)\n",
    "# Maximize window and wait for page to load\n",
    "driver.maximize_window()\n",
    "time.sleep(5)  \n",
    "driver.find_element(By.ID,'CybotCookiebotDialogBodyButtonDecline').click()"
   ]
  },
  {
   "cell_type": "code",
   "execution_count": 164,
   "id": "68347d5b-e2f0-4512-8a0e-95ef728da670",
   "metadata": {},
   "outputs": [
    {
     "data": {
      "text/plain": [
       "['https://www.timeshighereducation.com/world-university-rankings/2023/regional-ranking/',\n",
       " 'https://www.timeshighereducation.com/world-university-rankings/2024/regional-ranking/',\n",
       " 'https://www.timeshighereducation.com/world-university-rankings/2025/regional-ranking']"
      ]
     },
     "execution_count": 164,
     "metadata": {},
     "output_type": "execute_result"
    }
   ],
   "source": [
    "urls"
   ]
  },
  {
   "cell_type": "markdown",
   "id": "2e7ecdff-6d0e-4f4b-8186-442c81694544",
   "metadata": {},
   "source": [
    "Go to: System Settings > Privacy & Security\n",
    "\t2.\tScroll down to Security section\n",
    "\t3.\tYou’ll see: “chromedriver was blocked from use because it is not from an identified developer”\n",
    "\t4.\tClick “Allow Anyway”\n",
    "xattr -d com.apple.quarantine chromedriver"
   ]
  },
  {
   "cell_type": "code",
   "execution_count": 169,
   "id": "b436af9b-8fcf-4347-bb1c-45b84bfc5cb1",
   "metadata": {},
   "outputs": [
    {
     "name": "stdout",
     "output_type": "stream",
     "text": [
      "2023\n",
      "2024\n",
      "2025\n"
     ]
    },
    {
     "data": {
      "text/html": [
       "<div>\n",
       "<style scoped>\n",
       "    .dataframe tbody tr th:only-of-type {\n",
       "        vertical-align: middle;\n",
       "    }\n",
       "\n",
       "    .dataframe tbody tr th {\n",
       "        vertical-align: top;\n",
       "    }\n",
       "\n",
       "    .dataframe thead th {\n",
       "        text-align: right;\n",
       "    }\n",
       "</style>\n",
       "<table border=\"1\" class=\"dataframe\">\n",
       "  <thead>\n",
       "    <tr style=\"text-align: right;\">\n",
       "      <th></th>\n",
       "      <th>year</th>\n",
       "      <th>variables</th>\n",
       "    </tr>\n",
       "  </thead>\n",
       "  <tbody>\n",
       "    <tr>\n",
       "      <th>0</th>\n",
       "      <td>2023</td>\n",
       "      <td>Rank, Name Country/Region, Overall, Citations,...</td>\n",
       "    </tr>\n",
       "    <tr>\n",
       "      <th>1</th>\n",
       "      <td>2024</td>\n",
       "      <td>Rank, Name Country/Region, Overall, Research Q...</td>\n",
       "    </tr>\n",
       "    <tr>\n",
       "      <th>2</th>\n",
       "      <td>2025</td>\n",
       "      <td>Rank, Name Country/Region, Overall, Research Q...</td>\n",
       "    </tr>\n",
       "  </tbody>\n",
       "</table>\n",
       "</div>"
      ],
      "text/plain": [
       "   year                                          variables\n",
       "0  2023  Rank, Name Country/Region, Overall, Citations,...\n",
       "1  2024  Rank, Name Country/Region, Overall, Research Q...\n",
       "2  2025  Rank, Name Country/Region, Overall, Research Q..."
      ]
     },
     "execution_count": 169,
     "metadata": {},
     "output_type": "execute_result"
    }
   ],
   "source": [
    "# Ranking Tab\n",
    "#once cookies has been stopped run this code again\n",
    "ranking_headers = {}\n",
    "for base_url in urls:\n",
    "    full_url = base_url + part1\n",
    "    driver.get(full_url)\n",
    "    year = re.search(r'\\d{4}', driver.title).group()\n",
    "    print(year)\n",
    "    wait = WebDriverWait(driver, 2)\n",
    "    ranking_label = wait.until(EC.element_to_be_clickable((By.CSS_SELECTOR, \"label[for='scores']\")))\n",
    "    ranking_label.click()\n",
    "    time.sleep(2)\n",
    "    \n",
    "    table = driver.find_element(By.ID, \"datatable-1\")\n",
    "    headers = table.find_elements(By.TAG_NAME, \"th\")\n",
    "    ranking_headers[year] = [h.text.replace('\\n', ' ').strip() for h in headers]\n",
    "    #print(ranking_headers)\n",
    "\n",
    "df_headers = pd.DataFrame([ {'year': year, 'variables': ', '.join(cols)} for year, cols in ranking_headers.items()])\n",
    "df_headers\n",
    "#ranking_headers"
   ]
  },
  {
   "cell_type": "code",
   "execution_count": 174,
   "id": "c9dba753-5511-4cff-b198-296e4cb89316",
   "metadata": {},
   "outputs": [
    {
     "data": {
      "text/html": [
       "<div>\n",
       "<style scoped>\n",
       "    .dataframe tbody tr th:only-of-type {\n",
       "        vertical-align: middle;\n",
       "    }\n",
       "\n",
       "    .dataframe tbody tr th {\n",
       "        vertical-align: top;\n",
       "    }\n",
       "\n",
       "    .dataframe thead th {\n",
       "        text-align: right;\n",
       "    }\n",
       "</style>\n",
       "<table border=\"1\" class=\"dataframe\">\n",
       "  <thead>\n",
       "    <tr style=\"text-align: right;\">\n",
       "      <th></th>\n",
       "      <th>year</th>\n",
       "      <th>variables</th>\n",
       "    </tr>\n",
       "  </thead>\n",
       "  <tbody>\n",
       "    <tr>\n",
       "      <th>0</th>\n",
       "      <td>2023</td>\n",
       "      <td>Rank, Name Country/Region, Overall, Citations, Industry Income, International Outlook, Research, Teaching</td>\n",
       "    </tr>\n",
       "    <tr>\n",
       "      <th>1</th>\n",
       "      <td>2024</td>\n",
       "      <td>Rank, Name Country/Region, Overall, Research Quality, Industry, International Outlook, Research Environment, Teaching</td>\n",
       "    </tr>\n",
       "    <tr>\n",
       "      <th>2</th>\n",
       "      <td>2025</td>\n",
       "      <td>Rank, Name Country/Region, Overall, Research Quality, Industry, International Outlook, Research Environment, Teaching</td>\n",
       "    </tr>\n",
       "  </tbody>\n",
       "</table>\n",
       "</div>"
      ],
      "text/plain": [
       "   year  \\\n",
       "0  2023   \n",
       "1  2024   \n",
       "2  2025   \n",
       "\n",
       "                                                                                                               variables  \n",
       "0              Rank, Name Country/Region, Overall, Citations, Industry Income, International Outlook, Research, Teaching  \n",
       "1  Rank, Name Country/Region, Overall, Research Quality, Industry, International Outlook, Research Environment, Teaching  \n",
       "2  Rank, Name Country/Region, Overall, Research Quality, Industry, International Outlook, Research Environment, Teaching  "
      ]
     },
     "execution_count": 174,
     "metadata": {},
     "output_type": "execute_result"
    }
   ],
   "source": [
    "df_headers"
   ]
  },
  {
   "cell_type": "code",
   "execution_count": 166,
   "id": "a82ec712-1b40-4a17-8167-20fd155e25ce",
   "metadata": {},
   "outputs": [
    {
     "data": {
      "text/plain": [
       "{'2025': ['Rank',\n",
       "  'Name Country/Region',\n",
       "  'Overall',\n",
       "  'Research Quality',\n",
       "  'Industry',\n",
       "  'International Outlook',\n",
       "  'Research Environment',\n",
       "  'Teaching']}"
      ]
     },
     "execution_count": 166,
     "metadata": {},
     "output_type": "execute_result"
    }
   ],
   "source": [
    "ranking_headers"
   ]
  },
  {
   "cell_type": "code",
   "execution_count": 175,
   "id": "dda0acf0-73dc-4532-96ec-953777027e55",
   "metadata": {},
   "outputs": [],
   "source": [
    "driver.refresh()"
   ]
  },
  {
   "cell_type": "code",
   "execution_count": 20,
   "id": "bc9f8df4-4283-4bcf-a26e-8a3d870218f1",
   "metadata": {},
   "outputs": [],
   "source": [
    "ranking_table = driver.find_element(By.ID, \"datatable-1\")\n",
    "rows = ranking_table.find_elements(By.TAG_NAME, \"tr\")\n",
    "\n",
    "ranking_data = []\n",
    "for row in rows[1:]:\n",
    "    cols = row.find_elements(By.TAG_NAME, \"td\")\n",
    "    ranking_data.append([col.text for col in cols])"
   ]
  },
  {
   "cell_type": "code",
   "execution_count": 92,
   "id": "dda9c0a9-a7ba-4858-8008-3e857ec777de",
   "metadata": {},
   "outputs": [
    {
     "data": {
      "text/html": [
       "<div>\n",
       "<style scoped>\n",
       "    .dataframe tbody tr th:only-of-type {\n",
       "        vertical-align: middle;\n",
       "    }\n",
       "\n",
       "    .dataframe tbody tr th {\n",
       "        vertical-align: top;\n",
       "    }\n",
       "\n",
       "    .dataframe thead th {\n",
       "        text-align: right;\n",
       "    }\n",
       "</style>\n",
       "<table border=\"1\" class=\"dataframe\">\n",
       "  <thead>\n",
       "    <tr style=\"text-align: right;\">\n",
       "      <th></th>\n",
       "      <th>0</th>\n",
       "      <th>1</th>\n",
       "      <th>2</th>\n",
       "      <th>3</th>\n",
       "      <th>4</th>\n",
       "      <th>5</th>\n",
       "      <th>6</th>\n",
       "      <th>7</th>\n",
       "    </tr>\n",
       "  </thead>\n",
       "  <tbody>\n",
       "    <tr>\n",
       "      <th>0</th>\n",
       "      <td>1</td>\n",
       "      <td>Tsinghua University\\nChina</td>\n",
       "      <td>88.2</td>\n",
       "      <td>88.0</td>\n",
       "      <td>100.0</td>\n",
       "      <td>40.3</td>\n",
       "      <td>97.2</td>\n",
       "      <td>88.6</td>\n",
       "    </tr>\n",
       "  </tbody>\n",
       "</table>\n",
       "</div>"
      ],
      "text/plain": [
       "   0                           1     2     3      4     5     6     7\n",
       "0  1  Tsinghua University\\nChina  88.2  88.0  100.0  40.3  97.2  88.6"
      ]
     },
     "execution_count": 92,
     "metadata": {},
     "output_type": "execute_result"
    }
   ],
   "source": [
    "pd.DataFrame(ranking_data[0:1])"
   ]
  },
  {
   "cell_type": "code",
   "execution_count": 25,
   "id": "c5261547-560e-4ec1-a9d5-02e8aae41eba",
   "metadata": {},
   "outputs": [],
   "source": [
    "columns1 = ['rank','university','overall','citations','industryIncome','intlOutlook', 'research','teaching']\n",
    "df1 = pd.DataFrame(ranking_data, columns=columns1)"
   ]
  },
  {
   "cell_type": "code",
   "execution_count": 26,
   "id": "1f6cce94-d030-43dc-8ddc-778bf91080fa",
   "metadata": {},
   "outputs": [
    {
     "data": {
      "text/plain": [
       "(928, 8)"
      ]
     },
     "execution_count": 26,
     "metadata": {},
     "output_type": "execute_result"
    }
   ],
   "source": [
    "df1.shape"
   ]
  },
  {
   "cell_type": "code",
   "execution_count": 29,
   "id": "3ed7a682-bc7a-479f-9a17-80fa33ce0485",
   "metadata": {},
   "outputs": [],
   "source": [
    "df1['theYear'] ='Asia_2023'"
   ]
  },
  {
   "cell_type": "code",
   "execution_count": 30,
   "id": "1b334204-b047-4b59-a06f-94a6e559fc8e",
   "metadata": {},
   "outputs": [
    {
     "data": {
      "text/html": [
       "<div>\n",
       "<style scoped>\n",
       "    .dataframe tbody tr th:only-of-type {\n",
       "        vertical-align: middle;\n",
       "    }\n",
       "\n",
       "    .dataframe tbody tr th {\n",
       "        vertical-align: top;\n",
       "    }\n",
       "\n",
       "    .dataframe thead th {\n",
       "        text-align: right;\n",
       "    }\n",
       "</style>\n",
       "<table border=\"1\" class=\"dataframe\">\n",
       "  <thead>\n",
       "    <tr style=\"text-align: right;\">\n",
       "      <th></th>\n",
       "      <th>rank</th>\n",
       "      <th>university</th>\n",
       "      <th>overall</th>\n",
       "      <th>citations</th>\n",
       "      <th>industryIncome</th>\n",
       "      <th>intlOutlook</th>\n",
       "      <th>research</th>\n",
       "      <th>teaching</th>\n",
       "      <th>theYear</th>\n",
       "    </tr>\n",
       "  </thead>\n",
       "  <tbody>\n",
       "    <tr>\n",
       "      <th>0</th>\n",
       "      <td>1</td>\n",
       "      <td>Tsinghua University\\nChina</td>\n",
       "      <td>88.2</td>\n",
       "      <td>88.0</td>\n",
       "      <td>100.0</td>\n",
       "      <td>40.3</td>\n",
       "      <td>97.2</td>\n",
       "      <td>88.6</td>\n",
       "      <td>Asia_2023</td>\n",
       "    </tr>\n",
       "    <tr>\n",
       "      <th>1</th>\n",
       "      <td>2</td>\n",
       "      <td>Peking University\\nChina</td>\n",
       "      <td>87.8</td>\n",
       "      <td>80.4</td>\n",
       "      <td>91.8</td>\n",
       "      <td>65.0</td>\n",
       "      <td>96.9</td>\n",
       "      <td>91.5</td>\n",
       "      <td>Asia_2023</td>\n",
       "    </tr>\n",
       "  </tbody>\n",
       "</table>\n",
       "</div>"
      ],
      "text/plain": [
       "  rank                  university overall citations industryIncome  \\\n",
       "0    1  Tsinghua University\\nChina    88.2      88.0          100.0   \n",
       "1    2    Peking University\\nChina    87.8      80.4           91.8   \n",
       "\n",
       "  intlOutlook research teaching    theYear  \n",
       "0        40.3     97.2     88.6  Asia_2023  \n",
       "1        65.0     96.9     91.5  Asia_2023  "
      ]
     },
     "execution_count": 30,
     "metadata": {},
     "output_type": "execute_result"
    }
   ],
   "source": [
    "df1.head(2)"
   ]
  },
  {
   "cell_type": "code",
   "execution_count": 31,
   "id": "af52f420-c410-4e0a-9f39-ada98471ce98",
   "metadata": {},
   "outputs": [],
   "source": [
    "# Key Statistics Tabs\n",
    "# Click the label for \"Key Statistics\" tab\n",
    "key_stats_label = wait.until(EC.element_to_be_clickable((By.CSS_SELECTOR, \"label[for='stats']\")))\n",
    "key_stats_label.click()\n",
    "time.sleep(5)"
   ]
  },
  {
   "cell_type": "code",
   "execution_count": 32,
   "id": "0aac599f-dbe2-4da1-b234-c12b9f028857",
   "metadata": {},
   "outputs": [
    {
     "data": {
      "text/plain": [
       "[['1', 'Tsinghua University\\nChina', '38,324', '11.6', '10%', 'n/a']]"
      ]
     },
     "execution_count": 32,
     "metadata": {},
     "output_type": "execute_result"
    }
   ],
   "source": [
    "table = driver.find_element(By.ID, \"datatable-1\")\n",
    "rows = key_stats_table.find_elements(By.TAG_NAME, \"tr\")\n",
    "\n",
    "key_stats_data = []\n",
    "for row in rows[1:]:\n",
    "    cols = row.find_elements(By.TAG_NAME, \"td\")\n",
    "    key_stats_data.append([col.text for col in cols])\n",
    "key_stats_data[0:1]"
   ]
  },
  {
   "cell_type": "code",
   "execution_count": 76,
   "id": "2a571033-8271-4eca-9748-5bd815789935",
   "metadata": {},
   "outputs": [
    {
     "data": {
      "text/html": [
       "<div>\n",
       "<style scoped>\n",
       "    .dataframe tbody tr th:only-of-type {\n",
       "        vertical-align: middle;\n",
       "    }\n",
       "\n",
       "    .dataframe tbody tr th {\n",
       "        vertical-align: top;\n",
       "    }\n",
       "\n",
       "    .dataframe thead th {\n",
       "        text-align: right;\n",
       "    }\n",
       "</style>\n",
       "<table border=\"1\" class=\"dataframe\">\n",
       "  <thead>\n",
       "    <tr style=\"text-align: right;\">\n",
       "      <th></th>\n",
       "      <th>rank</th>\n",
       "      <th>university</th>\n",
       "      <th>students</th>\n",
       "      <th>stuStaffRatio</th>\n",
       "      <th>intlStudents</th>\n",
       "      <th>FMratio</th>\n",
       "    </tr>\n",
       "  </thead>\n",
       "  <tbody>\n",
       "    <tr>\n",
       "      <th>0</th>\n",
       "      <td>1</td>\n",
       "      <td>Tsinghua University\\nChina</td>\n",
       "      <td>38,324</td>\n",
       "      <td>11.6</td>\n",
       "      <td>10%</td>\n",
       "      <td>n/a</td>\n",
       "    </tr>\n",
       "    <tr>\n",
       "      <th>1</th>\n",
       "      <td>2</td>\n",
       "      <td>Peking University\\nChina</td>\n",
       "      <td>31,994</td>\n",
       "      <td>10.3</td>\n",
       "      <td>19%</td>\n",
       "      <td>n/a</td>\n",
       "    </tr>\n",
       "  </tbody>\n",
       "</table>\n",
       "</div>"
      ],
      "text/plain": [
       "  rank                  university students stuStaffRatio intlStudents FMratio\n",
       "0    1  Tsinghua University\\nChina   38,324          11.6          10%     n/a\n",
       "1    2    Peking University\\nChina   31,994          10.3          19%     n/a"
      ]
     },
     "execution_count": 76,
     "metadata": {},
     "output_type": "execute_result"
    }
   ],
   "source": [
    "columns2 = ['rank','university','students','stuStaffRatio','intlStudents','FMratio']\n",
    "df2 = pd.DataFrame(key_stats_data, columns=columns2)\n",
    "df2.head(2)"
   ]
  },
  {
   "cell_type": "code",
   "execution_count": 77,
   "id": "8832a135-d038-4d47-a376-863bf2b1f9ff",
   "metadata": {},
   "outputs": [],
   "source": [
    "df2['theYear'] = 'Asia_2023'"
   ]
  },
  {
   "cell_type": "code",
   "execution_count": 78,
   "id": "6028bd77-b44a-40fc-ae12-5fb5491c532c",
   "metadata": {},
   "outputs": [
    {
     "data": {
      "text/html": [
       "<div>\n",
       "<style scoped>\n",
       "    .dataframe tbody tr th:only-of-type {\n",
       "        vertical-align: middle;\n",
       "    }\n",
       "\n",
       "    .dataframe tbody tr th {\n",
       "        vertical-align: top;\n",
       "    }\n",
       "\n",
       "    .dataframe thead th {\n",
       "        text-align: right;\n",
       "    }\n",
       "</style>\n",
       "<table border=\"1\" class=\"dataframe\">\n",
       "  <thead>\n",
       "    <tr style=\"text-align: right;\">\n",
       "      <th></th>\n",
       "      <th>rank</th>\n",
       "      <th>university</th>\n",
       "      <th>students</th>\n",
       "      <th>stuStaffRatio</th>\n",
       "      <th>intlStudents</th>\n",
       "      <th>FMratio</th>\n",
       "      <th>theYear</th>\n",
       "    </tr>\n",
       "  </thead>\n",
       "  <tbody>\n",
       "    <tr>\n",
       "      <th>0</th>\n",
       "      <td>1</td>\n",
       "      <td>Tsinghua University\\nChina</td>\n",
       "      <td>38,324</td>\n",
       "      <td>11.6</td>\n",
       "      <td>10%</td>\n",
       "      <td>n/a</td>\n",
       "      <td>Asia_2023</td>\n",
       "    </tr>\n",
       "    <tr>\n",
       "      <th>1</th>\n",
       "      <td>2</td>\n",
       "      <td>Peking University\\nChina</td>\n",
       "      <td>31,994</td>\n",
       "      <td>10.3</td>\n",
       "      <td>19%</td>\n",
       "      <td>n/a</td>\n",
       "      <td>Asia_2023</td>\n",
       "    </tr>\n",
       "    <tr>\n",
       "      <th>2</th>\n",
       "      <td>3</td>\n",
       "      <td>National University of Singapore\\nSingapore\\nE...</td>\n",
       "      <td>32,337</td>\n",
       "      <td>19.8</td>\n",
       "      <td>25%</td>\n",
       "      <td>51 : 49</td>\n",
       "      <td>Asia_2023</td>\n",
       "    </tr>\n",
       "    <tr>\n",
       "      <th>3</th>\n",
       "      <td>4</td>\n",
       "      <td>University of Hong Kong\\nHong Kong\\nExplore</td>\n",
       "      <td>18,087</td>\n",
       "      <td>18.2</td>\n",
       "      <td>43%</td>\n",
       "      <td>54 : 46</td>\n",
       "      <td>Asia_2023</td>\n",
       "    </tr>\n",
       "    <tr>\n",
       "      <th>4</th>\n",
       "      <td>5</td>\n",
       "      <td>Nanyang Technological University, Singapore\\nS...</td>\n",
       "      <td>24,651</td>\n",
       "      <td>15.1</td>\n",
       "      <td>25%</td>\n",
       "      <td>48 : 52</td>\n",
       "      <td>Asia_2023</td>\n",
       "    </tr>\n",
       "  </tbody>\n",
       "</table>\n",
       "</div>"
      ],
      "text/plain": [
       "  rank                                         university students  \\\n",
       "0    1                         Tsinghua University\\nChina   38,324   \n",
       "1    2                           Peking University\\nChina   31,994   \n",
       "2    3  National University of Singapore\\nSingapore\\nE...   32,337   \n",
       "3    4        University of Hong Kong\\nHong Kong\\nExplore   18,087   \n",
       "4    5  Nanyang Technological University, Singapore\\nS...   24,651   \n",
       "\n",
       "  stuStaffRatio intlStudents  FMratio    theYear  \n",
       "0          11.6          10%      n/a  Asia_2023  \n",
       "1          10.3          19%      n/a  Asia_2023  \n",
       "2          19.8          25%  51 : 49  Asia_2023  \n",
       "3          18.2          43%  54 : 46  Asia_2023  \n",
       "4          15.1          25%  48 : 52  Asia_2023  "
      ]
     },
     "execution_count": 78,
     "metadata": {},
     "output_type": "execute_result"
    }
   ],
   "source": [
    "df2.head(5)"
   ]
  },
  {
   "cell_type": "code",
   "execution_count": 127,
   "id": "e0de1fb2-d7f4-43ef-85e5-edc6f0151c34",
   "metadata": {},
   "outputs": [],
   "source": [
    "#df2['university'].str.split('\\n').apply(len).value_counts()"
   ]
  },
  {
   "cell_type": "code",
   "execution_count": 83,
   "id": "9362b99d-69bd-4846-9969-b6468c242627",
   "metadata": {},
   "outputs": [],
   "source": [
    "df2 = pd.DataFrame(key_stats_data, columns=columns2)\n",
    "df2['theYear'] = 'Asia_2023'\n",
    "df2[['university', 'location']] = df2['university'].str.split('\\n', n=1, expand=True)"
   ]
  },
  {
   "cell_type": "code",
   "execution_count": 88,
   "id": "ee998d2d-7d7a-4041-9641-d13a77f0a756",
   "metadata": {},
   "outputs": [],
   "source": [
    "df2 = pd.DataFrame(key_stats_data, columns=columns2)\n",
    "df2['theYear'] = 'Asia_2023'\n",
    "df2[['university', 'location']] = df2['university'].str.split('\\n', n=1, expand=True)\n",
    "df2['intlStudents'] = df2['intlStudents'].str.replace('%', '', regex=False).str.strip()\n",
    "df2['intlStudents'] = pd.to_numeric(df2['intlStudents'], errors='coerce')\n",
    "\n",
    "df2['students'] = df2['students'].str.replace(',', '', regex=False)\n",
    "df2['students'] = pd.to_numeric(df2['students'], errors='coerce')\n",
    "\n",
    "df2['FMratio'] = df2['FMratio'].str.split(':').str[0].str.replace(' ', '')\n",
    "df2['FMratio'] = pd.to_numeric(df2['FMratio'], errors='coerce')\n",
    "df2['location'] = df2['location'].str.replace('\\nExplore', '', regex=False)"
   ]
  },
  {
   "cell_type": "code",
   "execution_count": 89,
   "id": "4e2a3c84-5189-4641-b191-8ad4e215df72",
   "metadata": {},
   "outputs": [
    {
     "data": {
      "text/html": [
       "<div>\n",
       "<style scoped>\n",
       "    .dataframe tbody tr th:only-of-type {\n",
       "        vertical-align: middle;\n",
       "    }\n",
       "\n",
       "    .dataframe tbody tr th {\n",
       "        vertical-align: top;\n",
       "    }\n",
       "\n",
       "    .dataframe thead th {\n",
       "        text-align: right;\n",
       "    }\n",
       "</style>\n",
       "<table border=\"1\" class=\"dataframe\">\n",
       "  <thead>\n",
       "    <tr style=\"text-align: right;\">\n",
       "      <th></th>\n",
       "      <th>rank</th>\n",
       "      <th>university</th>\n",
       "      <th>students</th>\n",
       "      <th>stuStaffRatio</th>\n",
       "      <th>intlStudents</th>\n",
       "      <th>FMratio</th>\n",
       "      <th>theYear</th>\n",
       "      <th>location</th>\n",
       "    </tr>\n",
       "  </thead>\n",
       "  <tbody>\n",
       "    <tr>\n",
       "      <th>0</th>\n",
       "      <td>1</td>\n",
       "      <td>Tsinghua University</td>\n",
       "      <td>38324</td>\n",
       "      <td>11.6</td>\n",
       "      <td>10.0</td>\n",
       "      <td>NaN</td>\n",
       "      <td>Asia_2023</td>\n",
       "      <td>China</td>\n",
       "    </tr>\n",
       "    <tr>\n",
       "      <th>1</th>\n",
       "      <td>2</td>\n",
       "      <td>Peking University</td>\n",
       "      <td>31994</td>\n",
       "      <td>10.3</td>\n",
       "      <td>19.0</td>\n",
       "      <td>NaN</td>\n",
       "      <td>Asia_2023</td>\n",
       "      <td>China</td>\n",
       "    </tr>\n",
       "    <tr>\n",
       "      <th>2</th>\n",
       "      <td>3</td>\n",
       "      <td>National University of Singapore</td>\n",
       "      <td>32337</td>\n",
       "      <td>19.8</td>\n",
       "      <td>25.0</td>\n",
       "      <td>51.0</td>\n",
       "      <td>Asia_2023</td>\n",
       "      <td>Singapore</td>\n",
       "    </tr>\n",
       "    <tr>\n",
       "      <th>3</th>\n",
       "      <td>4</td>\n",
       "      <td>University of Hong Kong</td>\n",
       "      <td>18087</td>\n",
       "      <td>18.2</td>\n",
       "      <td>43.0</td>\n",
       "      <td>54.0</td>\n",
       "      <td>Asia_2023</td>\n",
       "      <td>Hong Kong</td>\n",
       "    </tr>\n",
       "    <tr>\n",
       "      <th>4</th>\n",
       "      <td>5</td>\n",
       "      <td>Nanyang Technological University, Singapore</td>\n",
       "      <td>24651</td>\n",
       "      <td>15.1</td>\n",
       "      <td>25.0</td>\n",
       "      <td>48.0</td>\n",
       "      <td>Asia_2023</td>\n",
       "      <td>Singapore</td>\n",
       "    </tr>\n",
       "  </tbody>\n",
       "</table>\n",
       "</div>"
      ],
      "text/plain": [
       "  rank                                   university  students stuStaffRatio  \\\n",
       "0    1                          Tsinghua University     38324          11.6   \n",
       "1    2                            Peking University     31994          10.3   \n",
       "2    3             National University of Singapore     32337          19.8   \n",
       "3    4                      University of Hong Kong     18087          18.2   \n",
       "4    5  Nanyang Technological University, Singapore     24651          15.1   \n",
       "\n",
       "   intlStudents  FMratio    theYear   location  \n",
       "0          10.0      NaN  Asia_2023      China  \n",
       "1          19.0      NaN  Asia_2023      China  \n",
       "2          25.0     51.0  Asia_2023  Singapore  \n",
       "3          43.0     54.0  Asia_2023  Hong Kong  \n",
       "4          25.0     48.0  Asia_2023  Singapore  "
      ]
     },
     "execution_count": 89,
     "metadata": {},
     "output_type": "execute_result"
    }
   ],
   "source": [
    "df2.head()"
   ]
  },
  {
   "cell_type": "code",
   "execution_count": 136,
   "id": "01fba451-43a4-49fd-a37c-9683e5cd40d2",
   "metadata": {},
   "outputs": [],
   "source": [
    "# Now I want it to scroll through multiple pages and combine in to one excel sheet\n",
    "urls = [\"https://www.timeshighereducation.com/world-university-rankings/2023/regional-ranking/\", \n",
    "\"https://www.timeshighereducation.com/world-university-rankings/2024/regional-ranking/\", \"https://www.timeshighereducation.com/world-university-rankings/2025/regional-ranking\"]\n",
    "part1 = '#!/length/-1/sort_by/rank/sort_order/asc/cols/scores/'"
   ]
  },
  {
   "cell_type": "code",
   "execution_count": 176,
   "id": "5b353791-f9ff-466f-bf7c-52456eb29707",
   "metadata": {},
   "outputs": [
    {
     "name": "stdout",
     "output_type": "stream",
     "text": [
      "No cookie dialog for https://www.timeshighereducation.com/world-university-rankings/2023/regional-ranking/#!/length/-1/sort_by/rank/sort_order/asc/cols/scores/\n",
      "No cookie dialog for https://www.timeshighereducation.com/world-university-rankings/2024/regional-ranking/#!/length/-1/sort_by/rank/sort_order/asc/cols/scores/\n",
      "No cookie dialog for https://www.timeshighereducation.com/world-university-rankings/2025/regional-ranking#!/length/-1/sort_by/rank/sort_order/asc/cols/scores/\n",
      "Ranking Table Headers:\n",
      "2023: ['Rank', 'Name Country/Region', 'Overall', 'Citations', 'Industry Income', 'International Outlook', 'Research', 'Teaching']\n",
      "2024: ['Rank', 'Name Country/Region', 'Overall', 'Research Quality', 'Industry', 'International Outlook', 'Research Environment', 'Teaching']\n",
      "2025: ['Rank', 'Name Country/Region', 'Overall', 'Research Quality', 'Industry', 'International Outlook', 'Research Environment', 'Teaching']\n"
     ]
    }
   ],
   "source": [
    "#check if headings are same\n",
    "# Initialize\n",
    "cService = webdriver.ChromeService(executable_path=cp2)\n",
    "driver = webdriver.Chrome(service = cService)\n",
    "ranking_headers = {}\n",
    "key_stats_headers = {}\n",
    "\n",
    "for url in urls:\n",
    "    full_url = url + part1\n",
    "    driver.get(full_url)\n",
    "    time.sleep(5)\n",
    "    \n",
    "    # Handle cookie reject\n",
    "    try:\n",
    "        reject_button = WebDriverWait(driver, 5).until(\n",
    "            EC.element_to_be_clickable((By.ID, \"CybotCookiebotDialogBodyButtonDecline\")) )\n",
    "        reject_button.click()\n",
    "        time.sleep(2)\n",
    "    except TimeoutException:\n",
    "        print(f\"No cookie dialog for {full_url}\")\n",
    "    #extract year\n",
    "    year = re.search(r'\\d{4}', driver.title).group()\n",
    "\n",
    "    # --- RANKING TAB HEADERS ---\n",
    "    wait.until(EC.element_to_be_clickable((By.CSS_SELECTOR, \"label[for='scores']\"))).click()\n",
    "    time.sleep(3)\n",
    "    table = driver.find_element(By.ID, \"datatable-1\")\n",
    "    headers = table.find_elements(By.TAG_NAME, \"th\")\n",
    "    ranking_headers[year] = [h.text.replace('\\n', ' ').strip() for h in headers]\n",
    "\n",
    "    # --- KEY STATISTICS TAB HEADERS ---\n",
    "    #wait.until(EC.element_to_be_clickable((By.CSS_SELECTOR, \"label[for='stats']\"))).click()\n",
    "    #ime.sleep(3)\n",
    "    #table = driver.find_element(By.ID, \"datatable-1\")\n",
    "    #headers = table.find_elements(By.TAG_NAME, \"th\")\n",
    "    #key_stats_headers[year] = [h.text.replace('\\n', ' ').strip() for h in headers]\n",
    "\n",
    "# Print output\n",
    "print(\"Ranking Table Headers:\")\n",
    "for year, cols in ranking_headers.items():\n",
    "    print(f\"{year}: {cols}\")\n",
    "\n",
    "#print(\"\\nKey Statistics Table Headers:\")\n",
    "#for year, cols in key_stats_headers.items():\n",
    "    #print(f\"{year}: {cols}\")"
   ]
  },
  {
   "cell_type": "code",
   "execution_count": 125,
   "id": "68e66ae7-c9c5-410a-a340-663ade41014c",
   "metadata": {},
   "outputs": [
    {
     "name": "stdout",
     "output_type": "stream",
     "text": [
      "Asia University Rankings 2023 | Times Higher Education (THE)\n",
      "THE_Asia_2023\n",
      "DF1 done for  THE_Asia_2023\n",
      "DF2 done for  THE_Asia_2023\n",
      "Asia University Rankings 2024 | Times Higher Education (THE)\n",
      "THE_Asia_2024\n",
      "DF1 done for  THE_Asia_2024\n",
      "DF2 done for  THE_Asia_2024\n",
      "Asia University Rankings 2025 | Times Higher Education (THE)\n",
      "THE_Asia_2025\n",
      "DF1 done for  THE_Asia_2025\n",
      "DF2 done for  THE_Asia_2025\n",
      "       rank          university1 overall citations industryIncome intlOutlook  \\\n",
      "0  Reporter  Ziauddin University     n/a       n/a            n/a         n/a   \n",
      "1       NaN                  NaN     NaN       NaN            NaN         NaN   \n",
      "2       NaN                  NaN     NaN       NaN            NaN         NaN   \n",
      "3       NaN                  NaN     NaN       NaN            NaN         NaN   \n",
      "4       NaN                  NaN     NaN       NaN            NaN         NaN   \n",
      "\n",
      "  research teaching        theYear    page1 location1 rank  \\\n",
      "0      n/a      n/a  THE_Asia_2023  Ranking  Pakistan    1   \n",
      "1      NaN      NaN            NaN      NaN       NaN    2   \n",
      "2      NaN      NaN            NaN      NaN       NaN    3   \n",
      "3      NaN      NaN            NaN      NaN       NaN    4   \n",
      "4      NaN      NaN            NaN      NaN       NaN    5   \n",
      "\n",
      "                                   university2  students stuStaffRatio  \\\n",
      "0                          Tsinghua University   38324.0          11.6   \n",
      "1                            Peking University   31994.0          10.3   \n",
      "2             National University of Singapore   32337.0          19.8   \n",
      "3                      University of Hong Kong   18087.0          18.2   \n",
      "4  Nanyang Technological University, Singapore   24651.0          15.1   \n",
      "\n",
      "   intlStudents  FMratio        theYear          page2  location2  \n",
      "0          10.0      NaN  THE_Asia_2023  KeyStatistics      China  \n",
      "1          19.0      NaN  THE_Asia_2023  KeyStatistics      China  \n",
      "2          25.0     51.0  THE_Asia_2023  KeyStatistics  Singapore  \n",
      "3          43.0     54.0  THE_Asia_2023  KeyStatistics  Hong Kong  \n",
      "4          25.0     48.0  THE_Asia_2023  KeyStatistics  Singapore  \n"
     ]
    }
   ],
   "source": [
    "all_combined =[]\n",
    "for url in urls:\n",
    "    full_url = url + part1\n",
    "    driver.get(full_url)\n",
    "    print(driver.title)\n",
    "    year = re.search(r'\\d{4}', driver.title).group()\n",
    "    label = 'THE_Asia_' + year\n",
    "    print(label)\n",
    "    wait = WebDriverWait(driver, 20)\n",
    "    driver.maximize_window()\n",
    "    time.sleep(5)\n",
    "\n",
    "#----RANKING\n",
    "    ranking_label = wait.until(EC.element_to_be_clickable((By.CSS_SELECTOR, \"label[for='scores']\")))\n",
    "    ranking_label.click()\n",
    "    time.sleep(5)\n",
    "#------\n",
    "    ranking_table = driver.find_element(By.ID, \"datatable-1\")\n",
    "    rows = ranking_table.find_elements(By.TAG_NAME, \"tr\")\n",
    "\n",
    "    ranking_data = []\n",
    "    for row in rows[1:]:\n",
    "        cols = row.find_elements(By.TAG_NAME, \"td\")\n",
    "    ranking_data.append([col.text for col in cols])\n",
    "    columns1 = ['rank','university1','overall','citations','industryIncome','intlOutlook', 'research','teaching']\n",
    "    df1 = pd.DataFrame(ranking_data, columns=columns1)\n",
    "    df1['theYear'] = label\n",
    "    df1['page1'] ='Ranking'\n",
    "    df1[['university1', 'location1']] = df1['university1'].str.split('\\n', n=1, expand=True)\n",
    "    df1['location1'] = df1['location1'].str.replace('\\nExplore', '', regex=False)\n",
    "    print('DF1 done for ', label)\n",
    "#---keystats-------\n",
    "    key_stats_label = wait.until(EC.element_to_be_clickable((By.CSS_SELECTOR, \"label[for='stats']\")))\n",
    "    key_stats_label.click()\n",
    "    time.sleep(5)\n",
    "#-------\n",
    "    key_stats_table = driver.find_element(By.ID, \"datatable-1\")\n",
    "    rows = key_stats_table.find_elements(By.TAG_NAME, \"tr\")\n",
    "\n",
    "    key_stats_data = []\n",
    "    for row in rows[1:]:\n",
    "        cols = row.find_elements(By.TAG_NAME, \"td\")\n",
    "        key_stats_data.append([col.text for col in cols])\n",
    "#-------\n",
    "    columns2 = ['rank','university2','students','stuStaffRatio','intlStudents','FMratio']\n",
    "    df2 = pd.DataFrame(key_stats_data, columns=columns2)\n",
    "    df2['theYear'] = label\n",
    "    df2['page2'] ='KeyStatistics'\n",
    "#--------\n",
    "    df2[['university2', 'location2']] = df2['university2'].str.split('\\n', n=1, expand=True)\n",
    "    df2['intlStudents'] = df2['intlStudents'].str.replace('%', '', regex=False).str.strip()\n",
    "    df2['intlStudents'] = pd.to_numeric(df2['intlStudents'], errors='coerce')\n",
    "\n",
    "    df2['students'] = df2['students'].str.replace(',', '', regex=False)\n",
    "    df2['students'] = pd.to_numeric(df2['students'], errors='coerce')\n",
    "\n",
    "    df2['FMratio'] = df2['FMratio'].str.split(':').str[0].str.replace(' ', '')\n",
    "    df2['FMratio'] = pd.to_numeric(df2['FMratio'], errors='coerce')\n",
    "    df2['location2'] = df2['location2'].str.replace('\\nExplore', '', regex=False)\n",
    "    print('DF2 done for ', label)\n",
    "    # --- Combine horizontally ---\n",
    "    df_combined = pd.concat([df1.reset_index(drop=True), df2.reset_index(drop=True)], axis=1)\n",
    "    print('DF1 & DF2 combined for ', label)\n",
    "    # --- Append to final list ---\n",
    "    all_combined.append(df_combined)\n",
    "\n",
    "# --- Combine all years (row bind) ---\n",
    "final_df = pd.concat(all_combined, axis=0, ignore_index=True)\n",
    "#print(final_df.head())"
   ]
  },
  {
   "cell_type": "code",
   "execution_count": 126,
   "id": "24f5635d-729d-4258-b7de-cdedeb0a6898",
   "metadata": {},
   "outputs": [
    {
     "data": {
      "text/html": [
       "<div>\n",
       "<style scoped>\n",
       "    .dataframe tbody tr th:only-of-type {\n",
       "        vertical-align: middle;\n",
       "    }\n",
       "\n",
       "    .dataframe tbody tr th {\n",
       "        vertical-align: top;\n",
       "    }\n",
       "\n",
       "    .dataframe thead th {\n",
       "        text-align: right;\n",
       "    }\n",
       "</style>\n",
       "<table border=\"1\" class=\"dataframe\">\n",
       "  <thead>\n",
       "    <tr style=\"text-align: right;\">\n",
       "      <th></th>\n",
       "      <th>rank</th>\n",
       "      <th>university1</th>\n",
       "      <th>overall</th>\n",
       "      <th>citations</th>\n",
       "      <th>industryIncome</th>\n",
       "      <th>intlOutlook</th>\n",
       "      <th>research</th>\n",
       "      <th>teaching</th>\n",
       "      <th>theYear</th>\n",
       "      <th>page1</th>\n",
       "      <th>location1</th>\n",
       "      <th>rank</th>\n",
       "      <th>university2</th>\n",
       "      <th>students</th>\n",
       "      <th>stuStaffRatio</th>\n",
       "      <th>intlStudents</th>\n",
       "      <th>FMratio</th>\n",
       "      <th>theYear</th>\n",
       "      <th>page2</th>\n",
       "      <th>location2</th>\n",
       "    </tr>\n",
       "  </thead>\n",
       "  <tbody>\n",
       "    <tr>\n",
       "      <th>0</th>\n",
       "      <td>Reporter</td>\n",
       "      <td>Ziauddin University</td>\n",
       "      <td>n/a</td>\n",
       "      <td>n/a</td>\n",
       "      <td>n/a</td>\n",
       "      <td>n/a</td>\n",
       "      <td>n/a</td>\n",
       "      <td>n/a</td>\n",
       "      <td>THE_Asia_2023</td>\n",
       "      <td>Ranking</td>\n",
       "      <td>Pakistan</td>\n",
       "      <td>1</td>\n",
       "      <td>Tsinghua University</td>\n",
       "      <td>38324.0</td>\n",
       "      <td>11.6</td>\n",
       "      <td>10.0</td>\n",
       "      <td>NaN</td>\n",
       "      <td>THE_Asia_2023</td>\n",
       "      <td>KeyStatistics</td>\n",
       "      <td>China</td>\n",
       "    </tr>\n",
       "    <tr>\n",
       "      <th>1</th>\n",
       "      <td>NaN</td>\n",
       "      <td>NaN</td>\n",
       "      <td>NaN</td>\n",
       "      <td>NaN</td>\n",
       "      <td>NaN</td>\n",
       "      <td>NaN</td>\n",
       "      <td>NaN</td>\n",
       "      <td>NaN</td>\n",
       "      <td>NaN</td>\n",
       "      <td>NaN</td>\n",
       "      <td>NaN</td>\n",
       "      <td>2</td>\n",
       "      <td>Peking University</td>\n",
       "      <td>31994.0</td>\n",
       "      <td>10.3</td>\n",
       "      <td>19.0</td>\n",
       "      <td>NaN</td>\n",
       "      <td>THE_Asia_2023</td>\n",
       "      <td>KeyStatistics</td>\n",
       "      <td>China</td>\n",
       "    </tr>\n",
       "    <tr>\n",
       "      <th>2</th>\n",
       "      <td>NaN</td>\n",
       "      <td>NaN</td>\n",
       "      <td>NaN</td>\n",
       "      <td>NaN</td>\n",
       "      <td>NaN</td>\n",
       "      <td>NaN</td>\n",
       "      <td>NaN</td>\n",
       "      <td>NaN</td>\n",
       "      <td>NaN</td>\n",
       "      <td>NaN</td>\n",
       "      <td>NaN</td>\n",
       "      <td>3</td>\n",
       "      <td>National University of Singapore</td>\n",
       "      <td>32337.0</td>\n",
       "      <td>19.8</td>\n",
       "      <td>25.0</td>\n",
       "      <td>51.0</td>\n",
       "      <td>THE_Asia_2023</td>\n",
       "      <td>KeyStatistics</td>\n",
       "      <td>Singapore</td>\n",
       "    </tr>\n",
       "    <tr>\n",
       "      <th>3</th>\n",
       "      <td>NaN</td>\n",
       "      <td>NaN</td>\n",
       "      <td>NaN</td>\n",
       "      <td>NaN</td>\n",
       "      <td>NaN</td>\n",
       "      <td>NaN</td>\n",
       "      <td>NaN</td>\n",
       "      <td>NaN</td>\n",
       "      <td>NaN</td>\n",
       "      <td>NaN</td>\n",
       "      <td>NaN</td>\n",
       "      <td>4</td>\n",
       "      <td>University of Hong Kong</td>\n",
       "      <td>18087.0</td>\n",
       "      <td>18.2</td>\n",
       "      <td>43.0</td>\n",
       "      <td>54.0</td>\n",
       "      <td>THE_Asia_2023</td>\n",
       "      <td>KeyStatistics</td>\n",
       "      <td>Hong Kong</td>\n",
       "    </tr>\n",
       "    <tr>\n",
       "      <th>4</th>\n",
       "      <td>NaN</td>\n",
       "      <td>NaN</td>\n",
       "      <td>NaN</td>\n",
       "      <td>NaN</td>\n",
       "      <td>NaN</td>\n",
       "      <td>NaN</td>\n",
       "      <td>NaN</td>\n",
       "      <td>NaN</td>\n",
       "      <td>NaN</td>\n",
       "      <td>NaN</td>\n",
       "      <td>NaN</td>\n",
       "      <td>5</td>\n",
       "      <td>Nanyang Technological University, Singapore</td>\n",
       "      <td>24651.0</td>\n",
       "      <td>15.1</td>\n",
       "      <td>25.0</td>\n",
       "      <td>48.0</td>\n",
       "      <td>THE_Asia_2023</td>\n",
       "      <td>KeyStatistics</td>\n",
       "      <td>Singapore</td>\n",
       "    </tr>\n",
       "  </tbody>\n",
       "</table>\n",
       "</div>"
      ],
      "text/plain": [
       "       rank          university1 overall citations industryIncome intlOutlook  \\\n",
       "0  Reporter  Ziauddin University     n/a       n/a            n/a         n/a   \n",
       "1       NaN                  NaN     NaN       NaN            NaN         NaN   \n",
       "2       NaN                  NaN     NaN       NaN            NaN         NaN   \n",
       "3       NaN                  NaN     NaN       NaN            NaN         NaN   \n",
       "4       NaN                  NaN     NaN       NaN            NaN         NaN   \n",
       "\n",
       "  research teaching        theYear    page1 location1 rank  \\\n",
       "0      n/a      n/a  THE_Asia_2023  Ranking  Pakistan    1   \n",
       "1      NaN      NaN            NaN      NaN       NaN    2   \n",
       "2      NaN      NaN            NaN      NaN       NaN    3   \n",
       "3      NaN      NaN            NaN      NaN       NaN    4   \n",
       "4      NaN      NaN            NaN      NaN       NaN    5   \n",
       "\n",
       "                                   university2  students stuStaffRatio  \\\n",
       "0                          Tsinghua University   38324.0          11.6   \n",
       "1                            Peking University   31994.0          10.3   \n",
       "2             National University of Singapore   32337.0          19.8   \n",
       "3                      University of Hong Kong   18087.0          18.2   \n",
       "4  Nanyang Technological University, Singapore   24651.0          15.1   \n",
       "\n",
       "   intlStudents  FMratio        theYear          page2  location2  \n",
       "0          10.0      NaN  THE_Asia_2023  KeyStatistics      China  \n",
       "1          19.0      NaN  THE_Asia_2023  KeyStatistics      China  \n",
       "2          25.0     51.0  THE_Asia_2023  KeyStatistics  Singapore  \n",
       "3          43.0     54.0  THE_Asia_2023  KeyStatistics  Hong Kong  \n",
       "4          25.0     48.0  THE_Asia_2023  KeyStatistics  Singapore  "
      ]
     },
     "execution_count": 126,
     "metadata": {},
     "output_type": "execute_result"
    }
   ],
   "source": [
    "final_df.head()"
   ]
  },
  {
   "cell_type": "code",
   "execution_count": 110,
   "id": "1e59cf49-2341-414f-ac7b-91525e0c7c3b",
   "metadata": {},
   "outputs": [
    {
     "data": {
      "text/html": [
       "<div>\n",
       "<style scoped>\n",
       "    .dataframe tbody tr th:only-of-type {\n",
       "        vertical-align: middle;\n",
       "    }\n",
       "\n",
       "    .dataframe tbody tr th {\n",
       "        vertical-align: top;\n",
       "    }\n",
       "\n",
       "    .dataframe thead th {\n",
       "        text-align: right;\n",
       "    }\n",
       "</style>\n",
       "<table border=\"1\" class=\"dataframe\">\n",
       "  <thead>\n",
       "    <tr style=\"text-align: right;\">\n",
       "      <th></th>\n",
       "      <th>rank</th>\n",
       "      <th>university2</th>\n",
       "      <th>students</th>\n",
       "      <th>stuStaffRatio</th>\n",
       "      <th>intlStudents</th>\n",
       "      <th>FMratio</th>\n",
       "      <th>theYear</th>\n",
       "      <th>page2</th>\n",
       "      <th>location2</th>\n",
       "    </tr>\n",
       "  </thead>\n",
       "  <tbody>\n",
       "    <tr>\n",
       "      <th>0</th>\n",
       "      <td>1</td>\n",
       "      <td>Tsinghua University</td>\n",
       "      <td>38324</td>\n",
       "      <td>11.6</td>\n",
       "      <td>10.0</td>\n",
       "      <td>NaN</td>\n",
       "      <td>Asia_2023</td>\n",
       "      <td>KeyStatistics</td>\n",
       "      <td>China</td>\n",
       "    </tr>\n",
       "    <tr>\n",
       "      <th>1</th>\n",
       "      <td>2</td>\n",
       "      <td>Peking University</td>\n",
       "      <td>31994</td>\n",
       "      <td>10.3</td>\n",
       "      <td>19.0</td>\n",
       "      <td>NaN</td>\n",
       "      <td>Asia_2023</td>\n",
       "      <td>KeyStatistics</td>\n",
       "      <td>China</td>\n",
       "    </tr>\n",
       "    <tr>\n",
       "      <th>2</th>\n",
       "      <td>3</td>\n",
       "      <td>National University of Singapore</td>\n",
       "      <td>32337</td>\n",
       "      <td>19.8</td>\n",
       "      <td>25.0</td>\n",
       "      <td>51.0</td>\n",
       "      <td>Asia_2023</td>\n",
       "      <td>KeyStatistics</td>\n",
       "      <td>Singapore</td>\n",
       "    </tr>\n",
       "    <tr>\n",
       "      <th>3</th>\n",
       "      <td>4</td>\n",
       "      <td>University of Hong Kong</td>\n",
       "      <td>18087</td>\n",
       "      <td>18.2</td>\n",
       "      <td>43.0</td>\n",
       "      <td>54.0</td>\n",
       "      <td>Asia_2023</td>\n",
       "      <td>KeyStatistics</td>\n",
       "      <td>Hong Kong</td>\n",
       "    </tr>\n",
       "    <tr>\n",
       "      <th>4</th>\n",
       "      <td>5</td>\n",
       "      <td>Nanyang Technological University, Singapore</td>\n",
       "      <td>24651</td>\n",
       "      <td>15.1</td>\n",
       "      <td>25.0</td>\n",
       "      <td>48.0</td>\n",
       "      <td>Asia_2023</td>\n",
       "      <td>KeyStatistics</td>\n",
       "      <td>Singapore</td>\n",
       "    </tr>\n",
       "  </tbody>\n",
       "</table>\n",
       "</div>"
      ],
      "text/plain": [
       "  rank                                  university2  students stuStaffRatio  \\\n",
       "0    1                          Tsinghua University     38324          11.6   \n",
       "1    2                            Peking University     31994          10.3   \n",
       "2    3             National University of Singapore     32337          19.8   \n",
       "3    4                      University of Hong Kong     18087          18.2   \n",
       "4    5  Nanyang Technological University, Singapore     24651          15.1   \n",
       "\n",
       "   intlStudents  FMratio    theYear          page2  location2  \n",
       "0          10.0      NaN  Asia_2023  KeyStatistics      China  \n",
       "1          19.0      NaN  Asia_2023  KeyStatistics      China  \n",
       "2          25.0     51.0  Asia_2023  KeyStatistics  Singapore  \n",
       "3          43.0     54.0  Asia_2023  KeyStatistics  Hong Kong  \n",
       "4          25.0     48.0  Asia_2023  KeyStatistics  Singapore  "
      ]
     },
     "execution_count": 110,
     "metadata": {},
     "output_type": "execute_result"
    }
   ],
   "source": [
    "df2.head()"
   ]
  },
  {
   "cell_type": "code",
   "execution_count": 55,
   "id": "6bfd837f-20d5-46be-afe9-5fefe36e33c6",
   "metadata": {},
   "outputs": [],
   "source": [
    "# Open the THE Rankings page\n",
    "url = \"https://www.timeshighereducation.com/world-university-rankings/2025/regional-ranking#!/length/-1/sort_by/rank/sort_order/asc/cols/scores\"\n",
    "driver.get(url)\n",
    "# Wait for the table to load\n",
    "time.sleep(10)"
   ]
  },
  {
   "cell_type": "markdown",
   "id": "a9c4efee-0164-4bbc-83aa-8f3962186f9a",
   "metadata": {},
   "source": [
    "# Click download button if available\n",
    "try:\n",
    "    download_button = driver.find_element(By.CSS_SELECTOR, \"div.download a[title='Download table data']\")\n",
    "    download_button.click()\n",
    "    print(\"Download started...\")\n",
    "except Exception as e:\n",
    "    print(\"Download failed:\", e)\n",
    "\n",
    "# Wait a bit for download\n",
    "time.sleep(10)\n"
   ]
  },
  {
   "cell_type": "code",
   "execution_count": null,
   "id": "cb572981-2974-49a0-a81e-f7a75ceaedfe",
   "metadata": {},
   "outputs": [],
   "source": [
    "driver.quit()"
   ]
  },
  {
   "cell_type": "code",
   "execution_count": 39,
   "id": "d6dcbe34-a338-417d-be78-0eb8cad4eb09",
   "metadata": {},
   "outputs": [],
   "source": [
    "driver.refresh()"
   ]
  },
  {
   "cell_type": "code",
   "execution_count": 45,
   "id": "7cba528b-1a58-4c89-b0ed-d073079fefac",
   "metadata": {},
   "outputs": [
    {
     "name": "stderr",
     "output_type": "stream",
     "text": [
      "/var/folders/z4/8qd93wx14xz1c9qfb_z969wc0000gn/T/ipykernel_10817/2827145537.py:6: FutureWarning: Passing literal html to 'read_html' is deprecated and will be removed in a future version. To read from a literal string, wrap it in a 'StringIO' object.\n",
      "  df = pd.read_html(html)[0]\n"
     ]
    }
   ],
   "source": [
    "# Locate table by ID\n",
    "table = driver.find_element(\"id\", \"datatable-1\")\n",
    "html = table.get_attribute(\"outerHTML\")\n",
    "\n",
    "# Convert to DataFrame using pandas\n",
    "df = pd.read_html(html)[0]\n",
    "#driver.quit()"
   ]
  },
  {
   "cell_type": "code",
   "execution_count": 101,
   "id": "8696da86-3925-45e1-9595-73c284ceb438",
   "metadata": {},
   "outputs": [
    {
     "data": {
      "text/html": [
       "<div>\n",
       "<style scoped>\n",
       "    .dataframe tbody tr th:only-of-type {\n",
       "        vertical-align: middle;\n",
       "    }\n",
       "\n",
       "    .dataframe tbody tr th {\n",
       "        vertical-align: top;\n",
       "    }\n",
       "\n",
       "    .dataframe thead th {\n",
       "        text-align: right;\n",
       "    }\n",
       "</style>\n",
       "<table border=\"1\" class=\"dataframe\">\n",
       "  <thead>\n",
       "    <tr style=\"text-align: right;\">\n",
       "      <th></th>\n",
       "      <th>rank</th>\n",
       "      <th>university1</th>\n",
       "      <th>overall</th>\n",
       "      <th>citations</th>\n",
       "      <th>industryIncome</th>\n",
       "      <th>intlOutlook</th>\n",
       "      <th>research</th>\n",
       "      <th>teaching</th>\n",
       "      <th>theYear</th>\n",
       "      <th>location1</th>\n",
       "    </tr>\n",
       "  </thead>\n",
       "  <tbody>\n",
       "    <tr>\n",
       "      <th>0</th>\n",
       "      <td>1</td>\n",
       "      <td>Tsinghua University</td>\n",
       "      <td>88.2</td>\n",
       "      <td>88.0</td>\n",
       "      <td>100.0</td>\n",
       "      <td>40.3</td>\n",
       "      <td>97.2</td>\n",
       "      <td>88.6</td>\n",
       "      <td>Asia_2023</td>\n",
       "      <td>China</td>\n",
       "    </tr>\n",
       "    <tr>\n",
       "      <th>1</th>\n",
       "      <td>2</td>\n",
       "      <td>Peking University</td>\n",
       "      <td>87.8</td>\n",
       "      <td>80.4</td>\n",
       "      <td>91.8</td>\n",
       "      <td>65.0</td>\n",
       "      <td>96.9</td>\n",
       "      <td>91.5</td>\n",
       "      <td>Asia_2023</td>\n",
       "      <td>China</td>\n",
       "    </tr>\n",
       "    <tr>\n",
       "      <th>2</th>\n",
       "      <td>3</td>\n",
       "      <td>National University of Singapore</td>\n",
       "      <td>87.2</td>\n",
       "      <td>90.2</td>\n",
       "      <td>87.0</td>\n",
       "      <td>94.0</td>\n",
       "      <td>93.6</td>\n",
       "      <td>73.8</td>\n",
       "      <td>Asia_2023</td>\n",
       "      <td>Singapore\\nExplore</td>\n",
       "    </tr>\n",
       "    <tr>\n",
       "      <th>3</th>\n",
       "      <td>4</td>\n",
       "      <td>University of Hong Kong</td>\n",
       "      <td>80.1</td>\n",
       "      <td>92.4</td>\n",
       "      <td>60.6</td>\n",
       "      <td>98.7</td>\n",
       "      <td>78.4</td>\n",
       "      <td>67.5</td>\n",
       "      <td>Asia_2023</td>\n",
       "      <td>Hong Kong\\nExplore</td>\n",
       "    </tr>\n",
       "    <tr>\n",
       "      <th>4</th>\n",
       "      <td>5</td>\n",
       "      <td>Nanyang Technological University, Singapore</td>\n",
       "      <td>79.2</td>\n",
       "      <td>87.2</td>\n",
       "      <td>84.5</td>\n",
       "      <td>94.5</td>\n",
       "      <td>81.2</td>\n",
       "      <td>61.3</td>\n",
       "      <td>Asia_2023</td>\n",
       "      <td>Singapore\\nExplore</td>\n",
       "    </tr>\n",
       "  </tbody>\n",
       "</table>\n",
       "</div>"
      ],
      "text/plain": [
       "  rank                                  university1 overall citations  \\\n",
       "0    1                          Tsinghua University    88.2      88.0   \n",
       "1    2                            Peking University    87.8      80.4   \n",
       "2    3             National University of Singapore    87.2      90.2   \n",
       "3    4                      University of Hong Kong    80.1      92.4   \n",
       "4    5  Nanyang Technological University, Singapore    79.2      87.2   \n",
       "\n",
       "  industryIncome intlOutlook research teaching    theYear           location1  \n",
       "0          100.0        40.3     97.2     88.6  Asia_2023               China  \n",
       "1           91.8        65.0     96.9     91.5  Asia_2023               China  \n",
       "2           87.0        94.0     93.6     73.8  Asia_2023  Singapore\\nExplore  \n",
       "3           60.6        98.7     78.4     67.5  Asia_2023  Hong Kong\\nExplore  \n",
       "4           84.5        94.5     81.2     61.3  Asia_2023  Singapore\\nExplore  "
      ]
     },
     "execution_count": 101,
     "metadata": {},
     "output_type": "execute_result"
    }
   ],
   "source": [
    "df1.head()"
   ]
  },
  {
   "cell_type": "code",
   "execution_count": 62,
   "id": "f710e8a1-23e2-4848-9150-6ae53ba1ae11",
   "metadata": {},
   "outputs": [],
   "source": [
    "df.to_csv(\"/Users/du/dup/auData/download/theasia25a.csv\", index=False)"
   ]
  },
  {
   "cell_type": "code",
   "execution_count": 57,
   "id": "cf6a5034-aa4b-4718-b3c9-57025d0d47ff",
   "metadata": {},
   "outputs": [],
   "source": [
    "# Find table\n",
    "table = driver.find_element(By.ID, \"datatable-1\")\n",
    "rows = table.find_elements(By.CSS_SELECTOR, \"tbody tr\")\n",
    "\n",
    "# Extract data\n",
    "data = []\n",
    "for row in rows:\n",
    "    cols = row.find_elements(By.TAG_NAME, \"td\")\n",
    "    if len(cols) >= 5:\n",
    "        rank = cols[0].text.strip()\n",
    "        name = cols[1].find_element(By.CLASS_NAME, \"ranking-institution-title\").text.strip()\n",
    "        country = cols[1].find_element(By.CLASS_NAME, \"location\").text.strip()\n",
    "        fte_students = cols[2].text.strip()\n",
    "        student_staff_ratio = cols[3].text.strip()\n",
    "        intl_students = cols[4].text.strip()\n",
    "        data.append({\n",
    "            \"Rank\": rank,\n",
    "            \"Name\": name,\n",
    "            \"Country\": country,\n",
    "            \"FTE Students\": fte_students,\n",
    "            \"Student-Staff Ratio\": student_staff_ratio,\n",
    "            \"International Students\": intl_students\n",
    "        })\n",
    "\n",
    "# Close browser\n",
    "#driver.quit()\n",
    "\n",
    "# Convert to DataFrame\n",
    "df2 = pd.DataFrame(data)"
   ]
  },
  {
   "cell_type": "code",
   "execution_count": 60,
   "id": "fc027277-98df-4dce-8298-677277de3492",
   "metadata": {},
   "outputs": [
    {
     "data": {
      "text/html": [
       "<div>\n",
       "<style scoped>\n",
       "    .dataframe tbody tr th:only-of-type {\n",
       "        vertical-align: middle;\n",
       "    }\n",
       "\n",
       "    .dataframe tbody tr th {\n",
       "        vertical-align: top;\n",
       "    }\n",
       "\n",
       "    .dataframe thead th {\n",
       "        text-align: right;\n",
       "    }\n",
       "</style>\n",
       "<table border=\"1\" class=\"dataframe\">\n",
       "  <thead>\n",
       "    <tr style=\"text-align: right;\">\n",
       "      <th></th>\n",
       "      <th>Rank</th>\n",
       "      <th>Name</th>\n",
       "      <th>Country</th>\n",
       "      <th>FTE Students</th>\n",
       "      <th>Student-Staff Ratio</th>\n",
       "      <th>International Students</th>\n",
       "    </tr>\n",
       "  </thead>\n",
       "  <tbody>\n",
       "    <tr>\n",
       "      <th>0</th>\n",
       "      <td>1</td>\n",
       "      <td>Tsinghua University</td>\n",
       "      <td>China</td>\n",
       "      <td>38,289</td>\n",
       "      <td>11.0</td>\n",
       "      <td>9%</td>\n",
       "    </tr>\n",
       "    <tr>\n",
       "      <th>1</th>\n",
       "      <td>2</td>\n",
       "      <td>Peking University</td>\n",
       "      <td>China</td>\n",
       "      <td>34,981</td>\n",
       "      <td>11.5</td>\n",
       "      <td>15%</td>\n",
       "    </tr>\n",
       "    <tr>\n",
       "      <th>2</th>\n",
       "      <td>3</td>\n",
       "      <td>National University of Singapore</td>\n",
       "      <td>Singapore</td>\n",
       "      <td>34,388</td>\n",
       "      <td>21.0</td>\n",
       "      <td>26%</td>\n",
       "    </tr>\n",
       "    <tr>\n",
       "      <th>3</th>\n",
       "      <td>4</td>\n",
       "      <td>Nanyang Technological University, Singapore</td>\n",
       "      <td>Singapore</td>\n",
       "      <td>26,044</td>\n",
       "      <td>17.1</td>\n",
       "      <td>29%</td>\n",
       "    </tr>\n",
       "    <tr>\n",
       "      <th>4</th>\n",
       "      <td>5</td>\n",
       "      <td>The University of Tokyo</td>\n",
       "      <td>Japan</td>\n",
       "      <td>26,438</td>\n",
       "      <td>10.4</td>\n",
       "      <td>17%</td>\n",
       "    </tr>\n",
       "  </tbody>\n",
       "</table>\n",
       "</div>"
      ],
      "text/plain": [
       "  Rank                                         Name    Country FTE Students  \\\n",
       "0    1                          Tsinghua University      China       38,289   \n",
       "1    2                            Peking University      China       34,981   \n",
       "2    3             National University of Singapore  Singapore       34,388   \n",
       "3    4  Nanyang Technological University, Singapore  Singapore       26,044   \n",
       "4    5                      The University of Tokyo      Japan       26,438   \n",
       "\n",
       "  Student-Staff Ratio International Students  \n",
       "0                11.0                     9%  \n",
       "1                11.5                    15%  \n",
       "2                21.0                    26%  \n",
       "3                17.1                    29%  \n",
       "4                10.4                    17%  "
      ]
     },
     "execution_count": 60,
     "metadata": {},
     "output_type": "execute_result"
    }
   ],
   "source": [
    "df2.head()"
   ]
  },
  {
   "cell_type": "code",
   "execution_count": 61,
   "id": "2fca61bb-2977-4028-9def-d022f0766ca2",
   "metadata": {},
   "outputs": [],
   "source": [
    "df2.to_csv(\"/Users/du/dup/auData/download/theasia25b.csv\", index=False)"
   ]
  },
  {
   "cell_type": "code",
   "execution_count": 38,
   "id": "291fef6e-ba86-4e93-8068-438c740a1e12",
   "metadata": {},
   "outputs": [],
   "source": [
    "driver.quit()"
   ]
  },
  {
   "cell_type": "code",
   "execution_count": null,
   "id": "5e196a76-d5f9-4df1-92b1-f172a8374d3e",
   "metadata": {},
   "outputs": [],
   "source": []
  },
  {
   "cell_type": "code",
   "execution_count": null,
   "id": "2dbaf5bd-0bbe-41fd-9526-1b9a3a744c81",
   "metadata": {},
   "outputs": [],
   "source": []
  },
  {
   "cell_type": "markdown",
   "id": "da609565-ac80-4d8a-ab8f-2e04cb92458f",
   "metadata": {},
   "source": [
    "## practise"
   ]
  },
  {
   "cell_type": "code",
   "execution_count": 179,
   "id": "09fc3cf3-334f-47df-ace1-d933a832648d",
   "metadata": {},
   "outputs": [
    {
     "name": "stdout",
     "output_type": "stream",
     "text": [
      "https://www.timeshighereducation.com/world-university-rankings/2023/regional-ranking/#!/length/-1/sort_by/rank/sort_order/asc/cols/scores/\n",
      "Year 2023 Tile Asia University Rankings 2023 | Times Higher Education (THE)\n"
     ]
    }
   ],
   "source": [
    "# Initialize\n",
    "cService = webdriver.ChromeService(executable_path=cp2)\n",
    "driver = webdriver.Chrome(service = cService)\n",
    "full_url = urls[0] + part1\n",
    "print(full_url)\n",
    "driver.get(full_url)\n",
    "time.sleep(5)\n",
    "    \n",
    "# Handle cookie reject\n",
    "try:\n",
    "    reject_button = WebDriverWait(driver, 5).until( EC.element_to_be_clickable((By.ID, \"CybotCookiebotDialogBodyButtonDecline\")) )\n",
    "    reject_button.click()\n",
    "    time.sleep(2)\n",
    "except TimeoutException:\n",
    "    print(f\"No cookie dialog for {full_url}\")\n",
    "#extract year\n",
    "year = re.search(r'\\d{4}', driver.title).group()\n",
    "print(f'Year {year}', f'Tile {driver.title}')"
   ]
  },
  {
   "cell_type": "code",
   "execution_count": 181,
   "id": "7295acef-7f0c-4f8b-b291-9e421e326d52",
   "metadata": {},
   "outputs": [
    {
     "name": "stdout",
     "output_type": "stream",
     "text": [
      "Label THE_Asia_2023 for Title Asia University Rankings 2023 | Times Higher Education (THE) and Year 2023\n",
      "Label THE_Asia_2024 for Title Asia University Rankings 2024 | Times Higher Education (THE) and Year 2024\n",
      "Label THE_Asia_2025 for Title Asia University Rankings 2025 | Times Higher Education (THE) and Year 2025\n"
     ]
    }
   ],
   "source": [
    "for url in urls:\n",
    "    full_url = url + part1\n",
    "    driver.get(full_url)\n",
    "    time.sleep(2)\n",
    "    year = re.search(r'\\d{4}', driver.title).group()\n",
    "    label = 'THE_Asia_' + year\n",
    "    print(f'Label {label} for Title {driver.title} and Year {year}')   "
   ]
  },
  {
   "cell_type": "code",
   "execution_count": 189,
   "id": "c2176bef-bc45-4e5f-9b2e-e0d2cb8296bb",
   "metadata": {},
   "outputs": [
    {
     "ename": "InvalidSessionIdException",
     "evalue": "Message: invalid session id: session deleted as the browser has closed the connection\nfrom disconnected: not connected to DevTools\n  (Session info: chrome=136.0.7103.93)\nStacktrace:\n0   chromedriver                        0x00000001007383bc cxxbridge1$str$ptr + 2829900\n1   chromedriver                        0x0000000100730684 cxxbridge1$str$ptr + 2797844\n2   chromedriver                        0x000000010026dfbc cxxbridge1$string$len + 90140\n3   chromedriver                        0x0000000100257b98 chromedriver + 195480\n4   chromedriver                        0x000000010027aa9c cxxbridge1$string$len + 142076\n5   chromedriver                        0x00000001002dd214 cxxbridge1$string$len + 545396\n6   chromedriver                        0x00000001002f5b50 cxxbridge1$string$len + 646064\n7   chromedriver                        0x00000001002a93f8 cxxbridge1$string$len + 332888\n8   chromedriver                        0x00000001006fc7e0 cxxbridge1$str$ptr + 2585200\n9   chromedriver                        0x00000001006ffab0 cxxbridge1$str$ptr + 2598208\n10  chromedriver                        0x00000001006dddb4 cxxbridge1$str$ptr + 2459716\n11  chromedriver                        0x0000000100700328 cxxbridge1$str$ptr + 2600376\n12  chromedriver                        0x00000001006cf640 cxxbridge1$str$ptr + 2400464\n13  chromedriver                        0x000000010072028c cxxbridge1$str$ptr + 2731292\n14  chromedriver                        0x0000000100720418 cxxbridge1$str$ptr + 2731688\n15  chromedriver                        0x00000001007302d0 cxxbridge1$str$ptr + 2796896\n16  libsystem_pthread.dylib             0x0000000199915c0c _pthread_start + 136\n17  libsystem_pthread.dylib             0x0000000199910b80 thread_start + 8\n",
     "output_type": "error",
     "traceback": [
      "\u001b[0;31m---------------------------------------------------------------------------\u001b[0m",
      "\u001b[0;31mInvalidSessionIdException\u001b[0m                 Traceback (most recent call last)",
      "Cell \u001b[0;32mIn[189], line 5\u001b[0m\n\u001b[1;32m      3\u001b[0m \u001b[38;5;28;01mfor\u001b[39;00m url \u001b[38;5;129;01min\u001b[39;00m urls:\n\u001b[1;32m      4\u001b[0m     full_url \u001b[38;5;241m=\u001b[39m url \u001b[38;5;241m+\u001b[39m part1\n\u001b[0;32m----> 5\u001b[0m     driver\u001b[38;5;241m.\u001b[39mget(full_url)\n\u001b[1;32m      6\u001b[0m     \u001b[38;5;28mprint\u001b[39m(driver\u001b[38;5;241m.\u001b[39mtitle)\n\u001b[1;32m      7\u001b[0m     time\u001b[38;5;241m.\u001b[39msleep(\u001b[38;5;241m2\u001b[39m)\n",
      "File \u001b[0;32m~/anaconda3/lib/python3.12/site-packages/selenium/webdriver/remote/webdriver.py:473\u001b[0m, in \u001b[0;36mWebDriver.get\u001b[0;34m(self, url)\u001b[0m\n\u001b[1;32m    455\u001b[0m \u001b[38;5;28;01mdef\u001b[39;00m \u001b[38;5;21mget\u001b[39m(\u001b[38;5;28mself\u001b[39m, url: \u001b[38;5;28mstr\u001b[39m) \u001b[38;5;241m-\u001b[39m\u001b[38;5;241m>\u001b[39m \u001b[38;5;28;01mNone\u001b[39;00m:\n\u001b[1;32m    456\u001b[0m \u001b[38;5;250m    \u001b[39m\u001b[38;5;124;03m\"\"\"Navigate the browser to the specified URL in the current window or\u001b[39;00m\n\u001b[1;32m    457\u001b[0m \u001b[38;5;124;03m    tab.\u001b[39;00m\n\u001b[1;32m    458\u001b[0m \n\u001b[0;32m   (...)\u001b[0m\n\u001b[1;32m    471\u001b[0m \u001b[38;5;124;03m    >>> driver.get(\"https://example.com\")\u001b[39;00m\n\u001b[1;32m    472\u001b[0m \u001b[38;5;124;03m    \"\"\"\u001b[39;00m\n\u001b[0;32m--> 473\u001b[0m     \u001b[38;5;28mself\u001b[39m\u001b[38;5;241m.\u001b[39mexecute(Command\u001b[38;5;241m.\u001b[39mGET, {\u001b[38;5;124m\"\u001b[39m\u001b[38;5;124murl\u001b[39m\u001b[38;5;124m\"\u001b[39m: url})\n",
      "File \u001b[0;32m~/anaconda3/lib/python3.12/site-packages/selenium/webdriver/remote/webdriver.py:448\u001b[0m, in \u001b[0;36mWebDriver.execute\u001b[0;34m(self, driver_command, params)\u001b[0m\n\u001b[1;32m    446\u001b[0m response \u001b[38;5;241m=\u001b[39m \u001b[38;5;28mself\u001b[39m\u001b[38;5;241m.\u001b[39mcommand_executor\u001b[38;5;241m.\u001b[39mexecute(driver_command, params)\n\u001b[1;32m    447\u001b[0m \u001b[38;5;28;01mif\u001b[39;00m response:\n\u001b[0;32m--> 448\u001b[0m     \u001b[38;5;28mself\u001b[39m\u001b[38;5;241m.\u001b[39merror_handler\u001b[38;5;241m.\u001b[39mcheck_response(response)\n\u001b[1;32m    449\u001b[0m     response[\u001b[38;5;124m\"\u001b[39m\u001b[38;5;124mvalue\u001b[39m\u001b[38;5;124m\"\u001b[39m] \u001b[38;5;241m=\u001b[39m \u001b[38;5;28mself\u001b[39m\u001b[38;5;241m.\u001b[39m_unwrap_value(response\u001b[38;5;241m.\u001b[39mget(\u001b[38;5;124m\"\u001b[39m\u001b[38;5;124mvalue\u001b[39m\u001b[38;5;124m\"\u001b[39m, \u001b[38;5;28;01mNone\u001b[39;00m))\n\u001b[1;32m    450\u001b[0m     \u001b[38;5;28;01mreturn\u001b[39;00m response\n",
      "File \u001b[0;32m~/anaconda3/lib/python3.12/site-packages/selenium/webdriver/remote/errorhandler.py:232\u001b[0m, in \u001b[0;36mErrorHandler.check_response\u001b[0;34m(self, response)\u001b[0m\n\u001b[1;32m    230\u001b[0m         alert_text \u001b[38;5;241m=\u001b[39m value[\u001b[38;5;124m\"\u001b[39m\u001b[38;5;124malert\u001b[39m\u001b[38;5;124m\"\u001b[39m]\u001b[38;5;241m.\u001b[39mget(\u001b[38;5;124m\"\u001b[39m\u001b[38;5;124mtext\u001b[39m\u001b[38;5;124m\"\u001b[39m)\n\u001b[1;32m    231\u001b[0m     \u001b[38;5;28;01mraise\u001b[39;00m exception_class(message, screen, stacktrace, alert_text)  \u001b[38;5;66;03m# type: ignore[call-arg]  # mypy is not smart enough here\u001b[39;00m\n\u001b[0;32m--> 232\u001b[0m \u001b[38;5;28;01mraise\u001b[39;00m exception_class(message, screen, stacktrace)\n",
      "\u001b[0;31mInvalidSessionIdException\u001b[0m: Message: invalid session id: session deleted as the browser has closed the connection\nfrom disconnected: not connected to DevTools\n  (Session info: chrome=136.0.7103.93)\nStacktrace:\n0   chromedriver                        0x00000001007383bc cxxbridge1$str$ptr + 2829900\n1   chromedriver                        0x0000000100730684 cxxbridge1$str$ptr + 2797844\n2   chromedriver                        0x000000010026dfbc cxxbridge1$string$len + 90140\n3   chromedriver                        0x0000000100257b98 chromedriver + 195480\n4   chromedriver                        0x000000010027aa9c cxxbridge1$string$len + 142076\n5   chromedriver                        0x00000001002dd214 cxxbridge1$string$len + 545396\n6   chromedriver                        0x00000001002f5b50 cxxbridge1$string$len + 646064\n7   chromedriver                        0x00000001002a93f8 cxxbridge1$string$len + 332888\n8   chromedriver                        0x00000001006fc7e0 cxxbridge1$str$ptr + 2585200\n9   chromedriver                        0x00000001006ffab0 cxxbridge1$str$ptr + 2598208\n10  chromedriver                        0x00000001006dddb4 cxxbridge1$str$ptr + 2459716\n11  chromedriver                        0x0000000100700328 cxxbridge1$str$ptr + 2600376\n12  chromedriver                        0x00000001006cf640 cxxbridge1$str$ptr + 2400464\n13  chromedriver                        0x000000010072028c cxxbridge1$str$ptr + 2731292\n14  chromedriver                        0x0000000100720418 cxxbridge1$str$ptr + 2731688\n15  chromedriver                        0x00000001007302d0 cxxbridge1$str$ptr + 2796896\n16  libsystem_pthread.dylib             0x0000000199915c0c _pthread_start + 136\n17  libsystem_pthread.dylib             0x0000000199910b80 thread_start + 8\n"
     ]
    }
   ],
   "source": [
    "#headers \n",
    "ranking_headers={}\n",
    "for url in urls:\n",
    "    full_url = url + part1\n",
    "    driver.get(full_url)\n",
    "    print(driver.title)\n",
    "    time.sleep(2)\n",
    "    #ranking_label = wait.until(EC.element_to_be_clickable((By.CSS_SELECTOR, \"label[for='scores']\")))\n",
    "    #ranking_label.click()\n",
    "    #time.sleep(2)\n",
    "    \n",
    "    table = driver.find_element(By.ID, \"datatable-1\")\n",
    "    headers = table.find_elements(By.TAG_NAME, \"th\")\n",
    "    ranking_headers[year] = [h.text.replace('\\n', ' ').strip() for h in headers]\n",
    "ranking_headers"
   ]
  },
  {
   "cell_type": "code",
   "execution_count": 188,
   "id": "12bc95e7-86a2-4241-9a8a-d7c2de966060",
   "metadata": {},
   "outputs": [
    {
     "data": {
      "text/plain": [
       "{'2025': ['Rank',\n",
       "  'Name Country/Region',\n",
       "  'Overall',\n",
       "  'Research Quality',\n",
       "  'Industry',\n",
       "  'International Outlook',\n",
       "  'Research Environment',\n",
       "  'Teaching']}"
      ]
     },
     "execution_count": 188,
     "metadata": {},
     "output_type": "execute_result"
    }
   ],
   "source": [
    "ranking_headers"
   ]
  },
  {
   "cell_type": "code",
   "execution_count": 184,
   "id": "b118da97-1d4e-413b-b8ec-c79187baba72",
   "metadata": {},
   "outputs": [],
   "source": [
    "driver.refresh()"
   ]
  },
  {
   "cell_type": "code",
   "execution_count": null,
   "id": "10576ae2-085f-4b1f-aa93-b8afa058b91d",
   "metadata": {},
   "outputs": [],
   "source": []
  }
 ],
 "metadata": {
  "kernelspec": {
   "display_name": "Python 3 (ipykernel)",
   "language": "python",
   "name": "python3"
  },
  "language_info": {
   "codemirror_mode": {
    "name": "ipython",
    "version": 3
   },
   "file_extension": ".py",
   "mimetype": "text/x-python",
   "name": "python",
   "nbconvert_exporter": "python",
   "pygments_lexer": "ipython3",
   "version": "3.12.7"
  }
 },
 "nbformat": 4,
 "nbformat_minor": 5
}
