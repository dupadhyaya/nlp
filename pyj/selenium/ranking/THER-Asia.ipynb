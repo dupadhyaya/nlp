{
 "cells": [
  {
   "cell_type": "markdown",
   "id": "506aeb8d-0540-42a2-abc3-50509ff1a6cc",
   "metadata": {},
   "source": [
    "# THE Asia Ranking\n",
    "- https://www.timeshighereducation.com/world-university-rankings/2023/regional-ranking\n",
    "- https://www.timeshighereducation.com/world-university-rankings/2024/regional-ranking\n",
    "- https://www.timeshighereducation.com/world-university-rankings/2025/regional-ranking\n",
    "- part : #!/length/-1/sort_by/rank/sort_order/asc/cols/scores"
   ]
  },
  {
   "cell_type": "code",
   "execution_count": 23,
   "id": "137b7ad1-d85d-4ef7-9196-3a9b56c40a06",
   "metadata": {},
   "outputs": [
    {
     "data": {
      "text/plain": [
       "'https://www.timeshighereducation.com/world-university-rankings/2023/regional-ranking/#!/length/-1/sort_by/rank/sort_order/asc/cols/scores/'"
      ]
     },
     "execution_count": 23,
     "metadata": {},
     "output_type": "execute_result"
    }
   ],
   "source": [
    "urls = [\"https://www.timeshighereducation.com/world-university-rankings/2023/regional-ranking/\", \n",
    "\"https://www.timeshighereducation.com/world-university-rankings/2024/regional-ranking/\", \"https://www.timeshighereducation.com/world-university-rankings/2025/regional-ranking\"]\n",
    "part1 = '#!/length/-1/sort_by/rank/sort_order/asc/cols/scores/'\n",
    "urls[0] + part1"
   ]
  },
  {
   "cell_type": "code",
   "execution_count": 20,
   "id": "e8b1bfd9-6e6f-4b1c-b9d9-a2c4ed63a6ca",
   "metadata": {},
   "outputs": [],
   "source": [
    "import requests\n",
    "import urllib\n",
    "from bs4 import BeautifulSoup\n",
    "response = requests.get('http://google.com')\n",
    "assert response.status_code < 400"
   ]
  },
  {
   "cell_type": "code",
   "execution_count": 18,
   "id": "f8afaaf1-22c3-477b-96cc-14183aba05ae",
   "metadata": {},
   "outputs": [],
   "source": [
    "#functino check if url exists\n",
    "def get_page_title(url):\n",
    "    try:\n",
    "        response = requests.get(url, timeout=5)\n",
    "        if response.status_code == 200:\n",
    "            soup = BeautifulSoup(response.content, 'html.parser')\n",
    "            return soup.title.string.strip() if soup.title else \"No title found\"\n",
    "        else:\n",
    "            return f\"Status code: {response.status_code}\"\n",
    "    except requests.RequestException as e:\n",
    "        return f\"Error: {e}\""
   ]
  },
  {
   "cell_type": "code",
   "execution_count": 25,
   "id": "e2bdc9e1-aac0-4a20-9355-6ebbd5e147bf",
   "metadata": {},
   "outputs": [
    {
     "name": "stdout",
     "output_type": "stream",
     "text": [
      "Google\n",
      "Status code: 403\n"
     ]
    }
   ],
   "source": [
    "print(get_page_title(\"https://www.google.com\"))\n",
    "print(get_page_title(urls[0] + part1))"
   ]
  },
  {
   "cell_type": "code",
   "execution_count": null,
   "id": "54e157e3-69cf-4760-91c0-a436e830abad",
   "metadata": {},
   "outputs": [],
   "source": [
    "#install libraries if required"
   ]
  },
  {
   "cell_type": "code",
   "execution_count": 2,
   "id": "fce9a469-570a-4fc0-8023-553cec2c62f6",
   "metadata": {},
   "outputs": [],
   "source": [
    "from selenium import webdriver\n",
    "from selenium.webdriver.chrome.service import Service\n",
    "from webdriver_manager.chrome import ChromeDriverManager\n",
    "from selenium.webdriver.common.by import By\n",
    "from selenium.webdriver.chrome.options import Options\n",
    "from selenium.webdriver.support.ui import WebDriverWait\n",
    "from selenium.webdriver.support import expected_conditions as EC\n",
    "from selenium.common.exceptions import TimeoutException\n",
    "import time\n",
    "import pandas as pd\n",
    "import numpy as np\n",
    "import re"
   ]
  },
  {
   "cell_type": "code",
   "execution_count": 3,
   "id": "c321bcfd-0011-4cd3-b7e5-9524fe70d65d",
   "metadata": {},
   "outputs": [],
   "source": [
    "pd.set_option('max_colwidth',None)"
   ]
  },
  {
   "cell_type": "code",
   "execution_count": 4,
   "id": "1fa165f2-938d-4820-9e07-5455f4823676",
   "metadata": {},
   "outputs": [],
   "source": [
    "# Setup Chrome options\n",
    "options = Options()\n",
    "options.add_argument(\"--start-maximized\")\n",
    "options.add_argument(\"--disable-notifications\")"
   ]
  },
  {
   "cell_type": "code",
   "execution_count": 5,
   "id": "4b64cccc-1d51-4397-bc50-c82edb2f8e6a",
   "metadata": {},
   "outputs": [],
   "source": [
    "# Download location\n",
    "prefs = { \"download.prompt_for_download\": False, \"download.default_directory\": \"/Users/du/dup/auData/download\"}\n",
    "options.add_experimental_option(\"prefs\", prefs)"
   ]
  },
  {
   "cell_type": "code",
   "execution_count": 6,
   "id": "2bafede3-1bf9-401f-bd17-6b271d673599",
   "metadata": {},
   "outputs": [],
   "source": [
    "cp2 = '/opt/homebrew/bin/chromedriver'  # Replace with the actual path to your chromedriver"
   ]
  },
  {
   "cell_type": "code",
   "execution_count": 7,
   "id": "ad5150f4-55ce-41b3-bcc5-60d88ec2ae43",
   "metadata": {},
   "outputs": [],
   "source": [
    "#start driver\n",
    "cService = webdriver.ChromeService(executable_path=cp2)\n",
    "driver = webdriver.Chrome(service = cService)\n",
    "#from webdriver_manager.chrome import ChromeDriverManager\n",
    "#service = Service(ChromeDriverManager().install())\n",
    "#driver = webdriver.Chrome(service=service)\n",
    "#driver = webdriver.Chrome(ChromeDriverManager().install())\n",
    "#print(driver.capabilities)"
   ]
  },
  {
   "cell_type": "code",
   "execution_count": 8,
   "id": "e2d26c85-ae0b-49fc-80f7-a0a4964a83b3",
   "metadata": {},
   "outputs": [],
   "source": [
    "cService = webdriver.ChromeService(executable_path=cp2)\n",
    "driver = webdriver.Chrome(service = cService)\n",
    "url = urls[0] + part1\n",
    "driver.get(url)\n",
    "wait = WebDriverWait(driver, 5)\n",
    "# Maximize window and wait for page to load\n",
    "driver.maximize_window()\n",
    "time.sleep(5)  \n",
    "driver.find_element(By.ID,'CybotCookiebotDialogBodyButtonDecline').click()"
   ]
  },
  {
   "cell_type": "code",
   "execution_count": 9,
   "id": "68347d5b-e2f0-4512-8a0e-95ef728da670",
   "metadata": {},
   "outputs": [
    {
     "data": {
      "text/plain": [
       "['https://www.timeshighereducation.com/world-university-rankings/2023/regional-ranking/',\n",
       " 'https://www.timeshighereducation.com/world-university-rankings/2024/regional-ranking/',\n",
       " 'https://www.timeshighereducation.com/world-university-rankings/2025/regional-ranking']"
      ]
     },
     "execution_count": 9,
     "metadata": {},
     "output_type": "execute_result"
    }
   ],
   "source": [
    "urls"
   ]
  },
  {
   "cell_type": "markdown",
   "id": "2e7ecdff-6d0e-4f4b-8186-442c81694544",
   "metadata": {},
   "source": [
    "Go to: System Settings > Privacy & Security\n",
    "\t2.\tScroll down to Security section\n",
    "\t3.\tYou’ll see: “chromedriver was blocked from use because it is not from an identified developer”\n",
    "\t4.\tClick “Allow Anyway”\n",
    "xattr -d com.apple.quarantine chromedriver"
   ]
  },
  {
   "cell_type": "code",
   "execution_count": 10,
   "id": "b436af9b-8fcf-4347-bb1c-45b84bfc5cb1",
   "metadata": {},
   "outputs": [
    {
     "name": "stdout",
     "output_type": "stream",
     "text": [
      "2023\n",
      "2024\n",
      "2025\n"
     ]
    },
    {
     "data": {
      "text/html": [
       "<div>\n",
       "<style scoped>\n",
       "    .dataframe tbody tr th:only-of-type {\n",
       "        vertical-align: middle;\n",
       "    }\n",
       "\n",
       "    .dataframe tbody tr th {\n",
       "        vertical-align: top;\n",
       "    }\n",
       "\n",
       "    .dataframe thead th {\n",
       "        text-align: right;\n",
       "    }\n",
       "</style>\n",
       "<table border=\"1\" class=\"dataframe\">\n",
       "  <thead>\n",
       "    <tr style=\"text-align: right;\">\n",
       "      <th></th>\n",
       "      <th>year</th>\n",
       "      <th>variables</th>\n",
       "    </tr>\n",
       "  </thead>\n",
       "  <tbody>\n",
       "    <tr>\n",
       "      <th>0</th>\n",
       "      <td>2023</td>\n",
       "      <td>Rank, Name Country/Region, Overall, Citations, Industry Income, International Outlook, Research, Teaching</td>\n",
       "    </tr>\n",
       "    <tr>\n",
       "      <th>1</th>\n",
       "      <td>2024</td>\n",
       "      <td>Rank, Name Country/Region, Overall, Research Quality, Industry, International Outlook, Research Environment, Teaching</td>\n",
       "    </tr>\n",
       "    <tr>\n",
       "      <th>2</th>\n",
       "      <td>2025</td>\n",
       "      <td>Rank, Name Country/Region, Overall, Research Quality, Industry, International Outlook, Research Environment, Teaching</td>\n",
       "    </tr>\n",
       "  </tbody>\n",
       "</table>\n",
       "</div>"
      ],
      "text/plain": [
       "   year  \\\n",
       "0  2023   \n",
       "1  2024   \n",
       "2  2025   \n",
       "\n",
       "                                                                                                               variables  \n",
       "0              Rank, Name Country/Region, Overall, Citations, Industry Income, International Outlook, Research, Teaching  \n",
       "1  Rank, Name Country/Region, Overall, Research Quality, Industry, International Outlook, Research Environment, Teaching  \n",
       "2  Rank, Name Country/Region, Overall, Research Quality, Industry, International Outlook, Research Environment, Teaching  "
      ]
     },
     "execution_count": 10,
     "metadata": {},
     "output_type": "execute_result"
    }
   ],
   "source": [
    "# Ranking Tab\n",
    "#once cookies has been stopped run this code again\n",
    "ranking_headers = {}\n",
    "for base_url in urls:\n",
    "    full_url = base_url + part1\n",
    "    driver.get(full_url)\n",
    "    year = re.search(r'\\d{4}', driver.title).group()\n",
    "    print(year)\n",
    "    wait = WebDriverWait(driver, 2)\n",
    "    ranking_label = wait.until(EC.element_to_be_clickable((By.CSS_SELECTOR, \"label[for='scores']\")))\n",
    "    ranking_label.click()\n",
    "    time.sleep(2)\n",
    "    \n",
    "    table = driver.find_element(By.ID, \"datatable-1\")\n",
    "    headers = table.find_elements(By.TAG_NAME, \"th\")\n",
    "    ranking_headers[year] = [h.text.replace('\\n', ' ').strip() for h in headers]\n",
    "    #print(ranking_headers)\n",
    "\n",
    "df_headers = pd.DataFrame([ {'year': year, 'variables': ', '.join(cols)} for year, cols in ranking_headers.items()])\n",
    "df_headers\n",
    "#ranking_headers"
   ]
  },
  {
   "cell_type": "code",
   "execution_count": 11,
   "id": "c9dba753-5511-4cff-b198-296e4cb89316",
   "metadata": {},
   "outputs": [
    {
     "data": {
      "text/html": [
       "<div>\n",
       "<style scoped>\n",
       "    .dataframe tbody tr th:only-of-type {\n",
       "        vertical-align: middle;\n",
       "    }\n",
       "\n",
       "    .dataframe tbody tr th {\n",
       "        vertical-align: top;\n",
       "    }\n",
       "\n",
       "    .dataframe thead th {\n",
       "        text-align: right;\n",
       "    }\n",
       "</style>\n",
       "<table border=\"1\" class=\"dataframe\">\n",
       "  <thead>\n",
       "    <tr style=\"text-align: right;\">\n",
       "      <th></th>\n",
       "      <th>year</th>\n",
       "      <th>variables</th>\n",
       "    </tr>\n",
       "  </thead>\n",
       "  <tbody>\n",
       "    <tr>\n",
       "      <th>0</th>\n",
       "      <td>2023</td>\n",
       "      <td>Rank, Name Country/Region, Overall, Citations, Industry Income, International Outlook, Research, Teaching</td>\n",
       "    </tr>\n",
       "    <tr>\n",
       "      <th>1</th>\n",
       "      <td>2024</td>\n",
       "      <td>Rank, Name Country/Region, Overall, Research Quality, Industry, International Outlook, Research Environment, Teaching</td>\n",
       "    </tr>\n",
       "    <tr>\n",
       "      <th>2</th>\n",
       "      <td>2025</td>\n",
       "      <td>Rank, Name Country/Region, Overall, Research Quality, Industry, International Outlook, Research Environment, Teaching</td>\n",
       "    </tr>\n",
       "  </tbody>\n",
       "</table>\n",
       "</div>"
      ],
      "text/plain": [
       "   year  \\\n",
       "0  2023   \n",
       "1  2024   \n",
       "2  2025   \n",
       "\n",
       "                                                                                                               variables  \n",
       "0              Rank, Name Country/Region, Overall, Citations, Industry Income, International Outlook, Research, Teaching  \n",
       "1  Rank, Name Country/Region, Overall, Research Quality, Industry, International Outlook, Research Environment, Teaching  \n",
       "2  Rank, Name Country/Region, Overall, Research Quality, Industry, International Outlook, Research Environment, Teaching  "
      ]
     },
     "execution_count": 11,
     "metadata": {},
     "output_type": "execute_result"
    }
   ],
   "source": [
    "df_headers"
   ]
  },
  {
   "cell_type": "code",
   "execution_count": null,
   "id": "a82ec712-1b40-4a17-8167-20fd155e25ce",
   "metadata": {},
   "outputs": [],
   "source": [
    "ranking_headers"
   ]
  },
  {
   "cell_type": "code",
   "execution_count": 31,
   "id": "dda0acf0-73dc-4532-96ec-953777027e55",
   "metadata": {},
   "outputs": [],
   "source": [
    "driver.refresh()"
   ]
  },
  {
   "cell_type": "code",
   "execution_count": 55,
   "id": "bc9f8df4-4283-4bcf-a26e-8a3d870218f1",
   "metadata": {},
   "outputs": [
    {
     "name": "stdout",
     "output_type": "stream",
     "text": [
      "Year 2025 Title - Asia University Rankings 2025 | Times Higher Education (THE) \n"
     ]
    }
   ],
   "source": [
    "full_url = urls[2] + part1\n",
    "driver.get(full_url)\n",
    "time.sleep(2) \n",
    "year = re.search(r'\\d{4}', driver.title).group()\n",
    "print(f'Year {year} Title - {driver.title} ')\n",
    "ranking_table = driver.find_element(By.ID, \"datatable-1\")\n",
    "rows = ranking_table.find_elements(By.TAG_NAME, \"tr\")\n",
    "\n",
    "ranking_data = []\n",
    "for row in rows[1:]:\n",
    "    cols = row.find_elements(By.TAG_NAME, \"td\")\n",
    "    ranking_data.append([col.text for col in cols])"
   ]
  },
  {
   "cell_type": "code",
   "execution_count": 56,
   "id": "dda9c0a9-a7ba-4858-8008-3e857ec777de",
   "metadata": {},
   "outputs": [
    {
     "data": {
      "text/html": [
       "<div>\n",
       "<style scoped>\n",
       "    .dataframe tbody tr th:only-of-type {\n",
       "        vertical-align: middle;\n",
       "    }\n",
       "\n",
       "    .dataframe tbody tr th {\n",
       "        vertical-align: top;\n",
       "    }\n",
       "\n",
       "    .dataframe thead th {\n",
       "        text-align: right;\n",
       "    }\n",
       "</style>\n",
       "<table border=\"1\" class=\"dataframe\">\n",
       "  <thead>\n",
       "    <tr style=\"text-align: right;\">\n",
       "      <th></th>\n",
       "      <th>0</th>\n",
       "      <th>1</th>\n",
       "      <th>2</th>\n",
       "      <th>3</th>\n",
       "      <th>4</th>\n",
       "      <th>5</th>\n",
       "      <th>6</th>\n",
       "      <th>7</th>\n",
       "    </tr>\n",
       "  </thead>\n",
       "  <tbody>\n",
       "    <tr>\n",
       "      <th>0</th>\n",
       "      <td>1</td>\n",
       "      <td>Tsinghua University\\nChina</td>\n",
       "      <td>93.0</td>\n",
       "      <td>94.8</td>\n",
       "      <td>100.0</td>\n",
       "      <td>49.8</td>\n",
       "      <td>98.4</td>\n",
       "      <td>94.9</td>\n",
       "    </tr>\n",
       "  </tbody>\n",
       "</table>\n",
       "</div>"
      ],
      "text/plain": [
       "   0                           1     2     3      4     5     6     7\n",
       "0  1  Tsinghua University\\nChina  93.0  94.8  100.0  49.8  98.4  94.9"
      ]
     },
     "execution_count": 56,
     "metadata": {},
     "output_type": "execute_result"
    }
   ],
   "source": [
    "pd.DataFrame(ranking_data[0:1])"
   ]
  },
  {
   "cell_type": "code",
   "execution_count": 57,
   "id": "c5261547-560e-4ec1-a9d5-02e8aae41eba",
   "metadata": {},
   "outputs": [
    {
     "data": {
      "text/plain": [
       "(1213, 9)"
      ]
     },
     "execution_count": 57,
     "metadata": {},
     "output_type": "execute_result"
    }
   ],
   "source": [
    "columns1 = ['rank','university','overall','citations','industryIncome','intlOutlook', 'research','teaching']\n",
    "df1 = pd.DataFrame(ranking_data, columns=columns1)\n",
    "df1['theYear'] ='Asia_'+ year + '_score'\n",
    "df1.shape"
   ]
  },
  {
   "cell_type": "code",
   "execution_count": 58,
   "id": "1f6cce94-d030-43dc-8ddc-778bf91080fa",
   "metadata": {},
   "outputs": [
    {
     "data": {
      "text/html": [
       "<div>\n",
       "<style scoped>\n",
       "    .dataframe tbody tr th:only-of-type {\n",
       "        vertical-align: middle;\n",
       "    }\n",
       "\n",
       "    .dataframe tbody tr th {\n",
       "        vertical-align: top;\n",
       "    }\n",
       "\n",
       "    .dataframe thead th {\n",
       "        text-align: right;\n",
       "    }\n",
       "</style>\n",
       "<table border=\"1\" class=\"dataframe\">\n",
       "  <thead>\n",
       "    <tr style=\"text-align: right;\">\n",
       "      <th></th>\n",
       "      <th>rank</th>\n",
       "      <th>university</th>\n",
       "      <th>overall</th>\n",
       "      <th>citations</th>\n",
       "      <th>industryIncome</th>\n",
       "      <th>intlOutlook</th>\n",
       "      <th>research</th>\n",
       "      <th>teaching</th>\n",
       "      <th>theYear</th>\n",
       "    </tr>\n",
       "  </thead>\n",
       "  <tbody>\n",
       "    <tr>\n",
       "      <th>0</th>\n",
       "      <td>1</td>\n",
       "      <td>Tsinghua University\\nChina</td>\n",
       "      <td>93.0</td>\n",
       "      <td>94.8</td>\n",
       "      <td>100.0</td>\n",
       "      <td>49.8</td>\n",
       "      <td>98.4</td>\n",
       "      <td>94.9</td>\n",
       "      <td>Asia_2025_score</td>\n",
       "    </tr>\n",
       "    <tr>\n",
       "      <th>1</th>\n",
       "      <td>2</td>\n",
       "      <td>Peking University\\nChina</td>\n",
       "      <td>92.9</td>\n",
       "      <td>90.4</td>\n",
       "      <td>99.9</td>\n",
       "      <td>70.1</td>\n",
       "      <td>97.9</td>\n",
       "      <td>94.3</td>\n",
       "      <td>Asia_2025_score</td>\n",
       "    </tr>\n",
       "    <tr>\n",
       "      <th>2</th>\n",
       "      <td>3</td>\n",
       "      <td>National University of Singapore\\nSingapore\\nExplore</td>\n",
       "      <td>91.3</td>\n",
       "      <td>97.2</td>\n",
       "      <td>100.0</td>\n",
       "      <td>91.9</td>\n",
       "      <td>94.4</td>\n",
       "      <td>76.6</td>\n",
       "      <td>Asia_2025_score</td>\n",
       "    </tr>\n",
       "    <tr>\n",
       "      <th>3</th>\n",
       "      <td>4</td>\n",
       "      <td>Nanyang Technological University, Singapore\\nSingapore\\nExplore</td>\n",
       "      <td>85.4</td>\n",
       "      <td>96.7</td>\n",
       "      <td>99.9</td>\n",
       "      <td>94.1</td>\n",
       "      <td>82.0</td>\n",
       "      <td>66.7</td>\n",
       "      <td>Asia_2025_score</td>\n",
       "    </tr>\n",
       "    <tr>\n",
       "      <th>4</th>\n",
       "      <td>5</td>\n",
       "      <td>The University of Tokyo\\nJapan</td>\n",
       "      <td>84.8</td>\n",
       "      <td>72.9</td>\n",
       "      <td>100.0</td>\n",
       "      <td>50.4</td>\n",
       "      <td>93.4</td>\n",
       "      <td>93.7</td>\n",
       "      <td>Asia_2025_score</td>\n",
       "    </tr>\n",
       "  </tbody>\n",
       "</table>\n",
       "</div>"
      ],
      "text/plain": [
       "  rank                                                       university  \\\n",
       "0    1                                       Tsinghua University\\nChina   \n",
       "1    2                                         Peking University\\nChina   \n",
       "2    3             National University of Singapore\\nSingapore\\nExplore   \n",
       "3    4  Nanyang Technological University, Singapore\\nSingapore\\nExplore   \n",
       "4    5                                   The University of Tokyo\\nJapan   \n",
       "\n",
       "  overall citations industryIncome intlOutlook research teaching  \\\n",
       "0    93.0      94.8          100.0        49.8     98.4     94.9   \n",
       "1    92.9      90.4           99.9        70.1     97.9     94.3   \n",
       "2    91.3      97.2          100.0        91.9     94.4     76.6   \n",
       "3    85.4      96.7           99.9        94.1     82.0     66.7   \n",
       "4    84.8      72.9          100.0        50.4     93.4     93.7   \n",
       "\n",
       "           theYear  \n",
       "0  Asia_2025_score  \n",
       "1  Asia_2025_score  \n",
       "2  Asia_2025_score  \n",
       "3  Asia_2025_score  \n",
       "4  Asia_2025_score  "
      ]
     },
     "execution_count": 58,
     "metadata": {},
     "output_type": "execute_result"
    }
   ],
   "source": [
    "df1.head()"
   ]
  },
  {
   "cell_type": "code",
   "execution_count": 59,
   "id": "af52f420-c410-4e0a-9f39-ada98471ce98",
   "metadata": {},
   "outputs": [],
   "source": [
    "# Key Statistics Tabs\n",
    "# Click the label for \"Key Statistics\" tab\n",
    "key_stats_label = wait.until(EC.element_to_be_clickable((By.CSS_SELECTOR, \"label[for='stats']\")))\n",
    "key_stats_label.click()\n",
    "time.sleep(5)"
   ]
  },
  {
   "cell_type": "code",
   "execution_count": 60,
   "id": "0aac599f-dbe2-4da1-b234-c12b9f028857",
   "metadata": {},
   "outputs": [
    {
     "data": {
      "text/plain": [
       "[['1', 'Tsinghua University\\nChina', '38,289', '11.0', '9%', 'n/a']]"
      ]
     },
     "execution_count": 60,
     "metadata": {},
     "output_type": "execute_result"
    }
   ],
   "source": [
    "table = driver.find_element(By.ID, \"datatable-1\")\n",
    "rows = table.find_elements(By.TAG_NAME, \"tr\")\n",
    "\n",
    "key_stats_data = []\n",
    "for row in rows[1:]:\n",
    "    cols = row.find_elements(By.TAG_NAME, \"td\")\n",
    "    key_stats_data.append([col.text for col in cols])\n",
    "key_stats_data[0:1]"
   ]
  },
  {
   "cell_type": "code",
   "execution_count": 61,
   "id": "2a571033-8271-4eca-9748-5bd815789935",
   "metadata": {},
   "outputs": [
    {
     "data": {
      "text/html": [
       "<div>\n",
       "<style scoped>\n",
       "    .dataframe tbody tr th:only-of-type {\n",
       "        vertical-align: middle;\n",
       "    }\n",
       "\n",
       "    .dataframe tbody tr th {\n",
       "        vertical-align: top;\n",
       "    }\n",
       "\n",
       "    .dataframe thead th {\n",
       "        text-align: right;\n",
       "    }\n",
       "</style>\n",
       "<table border=\"1\" class=\"dataframe\">\n",
       "  <thead>\n",
       "    <tr style=\"text-align: right;\">\n",
       "      <th></th>\n",
       "      <th>rank</th>\n",
       "      <th>university</th>\n",
       "      <th>students</th>\n",
       "      <th>stuStaffRatio</th>\n",
       "      <th>intlStudents</th>\n",
       "      <th>FMratio</th>\n",
       "      <th>theYear</th>\n",
       "    </tr>\n",
       "  </thead>\n",
       "  <tbody>\n",
       "    <tr>\n",
       "      <th>0</th>\n",
       "      <td>1</td>\n",
       "      <td>Tsinghua University\\nChina</td>\n",
       "      <td>38,289</td>\n",
       "      <td>11.0</td>\n",
       "      <td>9%</td>\n",
       "      <td>n/a</td>\n",
       "      <td>Asia_2025_stats</td>\n",
       "    </tr>\n",
       "    <tr>\n",
       "      <th>1</th>\n",
       "      <td>2</td>\n",
       "      <td>Peking University\\nChina</td>\n",
       "      <td>34,981</td>\n",
       "      <td>11.5</td>\n",
       "      <td>15%</td>\n",
       "      <td>n/a</td>\n",
       "      <td>Asia_2025_stats</td>\n",
       "    </tr>\n",
       "  </tbody>\n",
       "</table>\n",
       "</div>"
      ],
      "text/plain": [
       "  rank                  university students stuStaffRatio intlStudents  \\\n",
       "0    1  Tsinghua University\\nChina   38,289          11.0           9%   \n",
       "1    2    Peking University\\nChina   34,981          11.5          15%   \n",
       "\n",
       "  FMratio          theYear  \n",
       "0     n/a  Asia_2025_stats  \n",
       "1     n/a  Asia_2025_stats  "
      ]
     },
     "execution_count": 61,
     "metadata": {},
     "output_type": "execute_result"
    }
   ],
   "source": [
    "columns2 = ['rank','university','students','stuStaffRatio','intlStudents','FMratio']\n",
    "df2 = pd.DataFrame(key_stats_data, columns=columns2)\n",
    "df2['theYear'] = 'Asia_'+ year + '_stats'\n",
    "df2.head(2)"
   ]
  },
  {
   "cell_type": "code",
   "execution_count": 62,
   "id": "6028bd77-b44a-40fc-ae12-5fb5491c532c",
   "metadata": {},
   "outputs": [
    {
     "data": {
      "text/html": [
       "<div>\n",
       "<style scoped>\n",
       "    .dataframe tbody tr th:only-of-type {\n",
       "        vertical-align: middle;\n",
       "    }\n",
       "\n",
       "    .dataframe tbody tr th {\n",
       "        vertical-align: top;\n",
       "    }\n",
       "\n",
       "    .dataframe thead th {\n",
       "        text-align: right;\n",
       "    }\n",
       "</style>\n",
       "<table border=\"1\" class=\"dataframe\">\n",
       "  <thead>\n",
       "    <tr style=\"text-align: right;\">\n",
       "      <th></th>\n",
       "      <th>rank</th>\n",
       "      <th>university</th>\n",
       "      <th>students</th>\n",
       "      <th>stuStaffRatio</th>\n",
       "      <th>intlStudents</th>\n",
       "      <th>FMratio</th>\n",
       "      <th>theYear</th>\n",
       "    </tr>\n",
       "  </thead>\n",
       "  <tbody>\n",
       "    <tr>\n",
       "      <th>0</th>\n",
       "      <td>1</td>\n",
       "      <td>Tsinghua University\\nChina</td>\n",
       "      <td>38,289</td>\n",
       "      <td>11.0</td>\n",
       "      <td>9%</td>\n",
       "      <td>n/a</td>\n",
       "      <td>Asia_2025_stats</td>\n",
       "    </tr>\n",
       "    <tr>\n",
       "      <th>1</th>\n",
       "      <td>2</td>\n",
       "      <td>Peking University\\nChina</td>\n",
       "      <td>34,981</td>\n",
       "      <td>11.5</td>\n",
       "      <td>15%</td>\n",
       "      <td>n/a</td>\n",
       "      <td>Asia_2025_stats</td>\n",
       "    </tr>\n",
       "    <tr>\n",
       "      <th>2</th>\n",
       "      <td>3</td>\n",
       "      <td>National University of Singapore\\nSingapore\\nExplore</td>\n",
       "      <td>34,388</td>\n",
       "      <td>21.0</td>\n",
       "      <td>26%</td>\n",
       "      <td>49 : 51</td>\n",
       "      <td>Asia_2025_stats</td>\n",
       "    </tr>\n",
       "    <tr>\n",
       "      <th>3</th>\n",
       "      <td>4</td>\n",
       "      <td>Nanyang Technological University, Singapore\\nSingapore\\nExplore</td>\n",
       "      <td>26,044</td>\n",
       "      <td>17.1</td>\n",
       "      <td>29%</td>\n",
       "      <td>48 : 52</td>\n",
       "      <td>Asia_2025_stats</td>\n",
       "    </tr>\n",
       "    <tr>\n",
       "      <th>4</th>\n",
       "      <td>5</td>\n",
       "      <td>The University of Tokyo\\nJapan</td>\n",
       "      <td>26,438</td>\n",
       "      <td>10.4</td>\n",
       "      <td>17%</td>\n",
       "      <td>n/a</td>\n",
       "      <td>Asia_2025_stats</td>\n",
       "    </tr>\n",
       "  </tbody>\n",
       "</table>\n",
       "</div>"
      ],
      "text/plain": [
       "  rank                                                       university  \\\n",
       "0    1                                       Tsinghua University\\nChina   \n",
       "1    2                                         Peking University\\nChina   \n",
       "2    3             National University of Singapore\\nSingapore\\nExplore   \n",
       "3    4  Nanyang Technological University, Singapore\\nSingapore\\nExplore   \n",
       "4    5                                   The University of Tokyo\\nJapan   \n",
       "\n",
       "  students stuStaffRatio intlStudents  FMratio          theYear  \n",
       "0   38,289          11.0           9%      n/a  Asia_2025_stats  \n",
       "1   34,981          11.5          15%      n/a  Asia_2025_stats  \n",
       "2   34,388          21.0          26%  49 : 51  Asia_2025_stats  \n",
       "3   26,044          17.1          29%  48 : 52  Asia_2025_stats  \n",
       "4   26,438          10.4          17%      n/a  Asia_2025_stats  "
      ]
     },
     "execution_count": 62,
     "metadata": {},
     "output_type": "execute_result"
    }
   ],
   "source": [
    "df2.head(5)"
   ]
  },
  {
   "cell_type": "code",
   "execution_count": 63,
   "id": "e0de1fb2-d7f4-43ef-85e5-edc6f0151c34",
   "metadata": {},
   "outputs": [
    {
     "data": {
      "text/html": [
       "<div>\n",
       "<style scoped>\n",
       "    .dataframe tbody tr th:only-of-type {\n",
       "        vertical-align: middle;\n",
       "    }\n",
       "\n",
       "    .dataframe tbody tr th {\n",
       "        vertical-align: top;\n",
       "    }\n",
       "\n",
       "    .dataframe thead th {\n",
       "        text-align: right;\n",
       "    }\n",
       "</style>\n",
       "<table border=\"1\" class=\"dataframe\">\n",
       "  <thead>\n",
       "    <tr style=\"text-align: right;\">\n",
       "      <th></th>\n",
       "      <th>rank</th>\n",
       "      <th>university</th>\n",
       "      <th>students</th>\n",
       "      <th>stuStaffRatio</th>\n",
       "      <th>intlStudents</th>\n",
       "      <th>FMratio</th>\n",
       "      <th>theYear</th>\n",
       "      <th>location</th>\n",
       "    </tr>\n",
       "  </thead>\n",
       "  <tbody>\n",
       "    <tr>\n",
       "      <th>0</th>\n",
       "      <td>1</td>\n",
       "      <td>Tsinghua University</td>\n",
       "      <td>38,289</td>\n",
       "      <td>11.0</td>\n",
       "      <td>9%</td>\n",
       "      <td>n/a</td>\n",
       "      <td>Asia_2025_stats</td>\n",
       "      <td>China</td>\n",
       "    </tr>\n",
       "    <tr>\n",
       "      <th>1</th>\n",
       "      <td>2</td>\n",
       "      <td>Peking University</td>\n",
       "      <td>34,981</td>\n",
       "      <td>11.5</td>\n",
       "      <td>15%</td>\n",
       "      <td>n/a</td>\n",
       "      <td>Asia_2025_stats</td>\n",
       "      <td>China</td>\n",
       "    </tr>\n",
       "  </tbody>\n",
       "</table>\n",
       "</div>"
      ],
      "text/plain": [
       "  rank           university students stuStaffRatio intlStudents FMratio  \\\n",
       "0    1  Tsinghua University   38,289          11.0           9%     n/a   \n",
       "1    2    Peking University   34,981          11.5          15%     n/a   \n",
       "\n",
       "           theYear location  \n",
       "0  Asia_2025_stats    China  \n",
       "1  Asia_2025_stats    China  "
      ]
     },
     "execution_count": 63,
     "metadata": {},
     "output_type": "execute_result"
    }
   ],
   "source": [
    "df2[['university', 'location']] = df2['university'].str.split('\\n', n=1, expand=True)\n",
    "df2.head(2)"
   ]
  },
  {
   "cell_type": "code",
   "execution_count": 64,
   "id": "b819134e",
   "metadata": {},
   "outputs": [],
   "source": [
    "dfs = {'stats': df1, 'keystats': df2}\n",
    "\n",
    "# Save to Excel file\n",
    "with pd.ExcelWriter('/Users/du/dup/auData/ranking/the/asia_'+year+'.xlsx', engine='xlsxwriter') as writer:\n",
    "    for sheet_name, df in dfs.items():\n",
    "        df.to_excel(writer, sheet_name=sheet_name, index=False)"
   ]
  },
  {
   "cell_type": "code",
   "execution_count": null,
   "id": "ee998d2d-7d7a-4041-9641-d13a77f0a756",
   "metadata": {},
   "outputs": [],
   "source": [
    "df2 = pd.DataFrame(key_stats_data, columns=columns2)\n",
    "df2['theYear'] = 'Asia_2023'\n",
    "df2[['university', 'location']] = df2['university'].str.split('\\n', n=1, expand=True)\n",
    "df2['intlStudents'] = df2['intlStudents'].str.replace('%', '', regex=False).str.strip()\n",
    "df2['intlStudents'] = pd.to_numeric(df2['intlStudents'], errors='coerce')\n",
    "\n",
    "df2['students'] = df2['students'].str.replace(',', '', regex=False)\n",
    "df2['students'] = pd.to_numeric(df2['students'], errors='coerce')\n",
    "\n",
    "df2['FMratio'] = df2['FMratio'].str.split(':').str[0].str.replace(' ', '')\n",
    "df2['FMratio'] = pd.to_numeric(df2['FMratio'], errors='coerce')\n",
    "df2['location'] = df2['location'].str.replace('\\nExplore', '', regex=False)"
   ]
  },
  {
   "cell_type": "code",
   "execution_count": null,
   "id": "4e2a3c84-5189-4641-b191-8ad4e215df72",
   "metadata": {},
   "outputs": [],
   "source": [
    "df2.head()"
   ]
  },
  {
   "cell_type": "code",
   "execution_count": null,
   "id": "01fba451-43a4-49fd-a37c-9683e5cd40d2",
   "metadata": {},
   "outputs": [],
   "source": [
    "# Now I want it to scroll through multiple pages and combine in to one excel sheet\n",
    "urls = [\"https://www.timeshighereducation.com/world-university-rankings/2023/regional-ranking/\", \n",
    "\"https://www.timeshighereducation.com/world-university-rankings/2024/regional-ranking/\", \"https://www.timeshighereducation.com/world-university-rankings/2025/regional-ranking\"]\n",
    "part1 = '#!/length/-1/sort_by/rank/sort_order/asc/cols/scores/'"
   ]
  },
  {
   "cell_type": "code",
   "execution_count": null,
   "id": "5b353791-f9ff-466f-bf7c-52456eb29707",
   "metadata": {},
   "outputs": [],
   "source": [
    "#check if headings are same\n",
    "# Initialize\n",
    "cService = webdriver.ChromeService(executable_path=cp2)\n",
    "driver = webdriver.Chrome(service = cService)\n",
    "ranking_headers = {}\n",
    "key_stats_headers = {}\n",
    "\n",
    "for url in urls:\n",
    "    full_url = url + part1\n",
    "    driver.get(full_url)\n",
    "    time.sleep(5)\n",
    "    \n",
    "    # Handle cookie reject\n",
    "    try:\n",
    "        reject_button = WebDriverWait(driver, 5).until(\n",
    "            EC.element_to_be_clickable((By.ID, \"CybotCookiebotDialogBodyButtonDecline\")) )\n",
    "        reject_button.click()\n",
    "        time.sleep(2)\n",
    "    except TimeoutException:\n",
    "        print(f\"No cookie dialog for {full_url}\")\n",
    "    #extract year\n",
    "    year = re.search(r'\\d{4}', driver.title).group()\n",
    "\n",
    "    # --- RANKING TAB HEADERS ---\n",
    "    wait.until(EC.element_to_be_clickable((By.CSS_SELECTOR, \"label[for='scores']\"))).click()\n",
    "    time.sleep(3)\n",
    "    table = driver.find_element(By.ID, \"datatable-1\")\n",
    "    headers = table.find_elements(By.TAG_NAME, \"th\")\n",
    "    ranking_headers[year] = [h.text.replace('\\n', ' ').strip() for h in headers]\n",
    "\n",
    "    # --- KEY STATISTICS TAB HEADERS ---\n",
    "    #wait.until(EC.element_to_be_clickable((By.CSS_SELECTOR, \"label[for='stats']\"))).click()\n",
    "    #ime.sleep(3)\n",
    "    #table = driver.find_element(By.ID, \"datatable-1\")\n",
    "    #headers = table.find_elements(By.TAG_NAME, \"th\")\n",
    "    #key_stats_headers[year] = [h.text.replace('\\n', ' ').strip() for h in headers]\n",
    "\n",
    "# Print output\n",
    "print(\"Ranking Table Headers:\")\n",
    "for year, cols in ranking_headers.items():\n",
    "    print(f\"{year}: {cols}\")\n",
    "\n",
    "#print(\"\\nKey Statistics Table Headers:\")\n",
    "#for year, cols in key_stats_headers.items():\n",
    "    #print(f\"{year}: {cols}\")"
   ]
  },
  {
   "cell_type": "code",
   "execution_count": null,
   "id": "68e66ae7-c9c5-410a-a340-663ade41014c",
   "metadata": {},
   "outputs": [],
   "source": [
    "all_combined =[]\n",
    "for url in urls:\n",
    "    full_url = url + part1\n",
    "    driver.get(full_url)\n",
    "    print(driver.title)\n",
    "    year = re.search(r'\\d{4}', driver.title).group()\n",
    "    label = 'THE_Asia_' + year\n",
    "    print(label)\n",
    "    wait = WebDriverWait(driver, 20)\n",
    "    driver.maximize_window()\n",
    "    time.sleep(5)\n",
    "\n",
    "#----RANKING\n",
    "    ranking_label = wait.until(EC.element_to_be_clickable((By.CSS_SELECTOR, \"label[for='scores']\")))\n",
    "    ranking_label.click()\n",
    "    time.sleep(5)\n",
    "#------\n",
    "    ranking_table = driver.find_element(By.ID, \"datatable-1\")\n",
    "    rows = ranking_table.find_elements(By.TAG_NAME, \"tr\")\n",
    "\n",
    "    ranking_data = []\n",
    "    for row in rows[1:]:\n",
    "        cols = row.find_elements(By.TAG_NAME, \"td\")\n",
    "    ranking_data.append([col.text for col in cols])\n",
    "    columns1 = ['rank','university1','overall','citations','industryIncome','intlOutlook', 'research','teaching']\n",
    "    df1 = pd.DataFrame(ranking_data, columns=columns1)\n",
    "    df1['theYear'] = label\n",
    "    df1['page1'] ='Ranking'\n",
    "    df1[['university1', 'location1']] = df1['university1'].str.split('\\n', n=1, expand=True)\n",
    "    df1['location1'] = df1['location1'].str.replace('\\nExplore', '', regex=False)\n",
    "    print('DF1 done for ', label)\n",
    "#---keystats-------\n",
    "    key_stats_label = wait.until(EC.element_to_be_clickable((By.CSS_SELECTOR, \"label[for='stats']\")))\n",
    "    key_stats_label.click()\n",
    "    time.sleep(5)\n",
    "#-------\n",
    "    key_stats_table = driver.find_element(By.ID, \"datatable-1\")\n",
    "    rows = key_stats_table.find_elements(By.TAG_NAME, \"tr\")\n",
    "\n",
    "    key_stats_data = []\n",
    "    for row in rows[1:]:\n",
    "        cols = row.find_elements(By.TAG_NAME, \"td\")\n",
    "        key_stats_data.append([col.text for col in cols])\n",
    "#-------\n",
    "    columns2 = ['rank','university2','students','stuStaffRatio','intlStudents','FMratio']\n",
    "    df2 = pd.DataFrame(key_stats_data, columns=columns2)\n",
    "    df2['theYear'] = label\n",
    "    df2['page2'] ='KeyStatistics'\n",
    "#--------\n",
    "    df2[['university2', 'location2']] = df2['university2'].str.split('\\n', n=1, expand=True)\n",
    "    df2['intlStudents'] = df2['intlStudents'].str.replace('%', '', regex=False).str.strip()\n",
    "    df2['intlStudents'] = pd.to_numeric(df2['intlStudents'], errors='coerce')\n",
    "\n",
    "    df2['students'] = df2['students'].str.replace(',', '', regex=False)\n",
    "    df2['students'] = pd.to_numeric(df2['students'], errors='coerce')\n",
    "\n",
    "    df2['FMratio'] = df2['FMratio'].str.split(':').str[0].str.replace(' ', '')\n",
    "    df2['FMratio'] = pd.to_numeric(df2['FMratio'], errors='coerce')\n",
    "    df2['location2'] = df2['location2'].str.replace('\\nExplore', '', regex=False)\n",
    "    print('DF2 done for ', label)\n",
    "    # --- Combine horizontally ---\n",
    "    df_combined = pd.concat([df1.reset_index(drop=True), df2.reset_index(drop=True)], axis=1)\n",
    "    print('DF1 & DF2 combined for ', label)\n",
    "    # --- Append to final list ---\n",
    "    all_combined.append(df_combined)\n",
    "\n",
    "# --- Combine all years (row bind) ---\n",
    "final_df = pd.concat(all_combined, axis=0, ignore_index=True)\n",
    "#print(final_df.head())"
   ]
  },
  {
   "cell_type": "code",
   "execution_count": null,
   "id": "24f5635d-729d-4258-b7de-cdedeb0a6898",
   "metadata": {},
   "outputs": [],
   "source": [
    "final_df.head()"
   ]
  },
  {
   "cell_type": "code",
   "execution_count": null,
   "id": "1e59cf49-2341-414f-ac7b-91525e0c7c3b",
   "metadata": {},
   "outputs": [],
   "source": [
    "df2.head()"
   ]
  },
  {
   "cell_type": "code",
   "execution_count": null,
   "id": "6bfd837f-20d5-46be-afe9-5fefe36e33c6",
   "metadata": {},
   "outputs": [],
   "source": [
    "# Open the THE Rankings page\n",
    "url = \"https://www.timeshighereducation.com/world-university-rankings/2025/regional-ranking#!/length/-1/sort_by/rank/sort_order/asc/cols/scores\"\n",
    "driver.get(url)\n",
    "# Wait for the table to load\n",
    "time.sleep(10)"
   ]
  },
  {
   "cell_type": "markdown",
   "id": "a9c4efee-0164-4bbc-83aa-8f3962186f9a",
   "metadata": {},
   "source": [
    "# Click download button if available\n",
    "try:\n",
    "    download_button = driver.find_element(By.CSS_SELECTOR, \"div.download a[title='Download table data']\")\n",
    "    download_button.click()\n",
    "    print(\"Download started...\")\n",
    "except Exception as e:\n",
    "    print(\"Download failed:\", e)\n",
    "\n",
    "# Wait a bit for download\n",
    "time.sleep(10)\n"
   ]
  },
  {
   "cell_type": "code",
   "execution_count": null,
   "id": "cb572981-2974-49a0-a81e-f7a75ceaedfe",
   "metadata": {},
   "outputs": [],
   "source": [
    "driver.quit()"
   ]
  },
  {
   "cell_type": "code",
   "execution_count": null,
   "id": "d6dcbe34-a338-417d-be78-0eb8cad4eb09",
   "metadata": {},
   "outputs": [],
   "source": [
    "driver.refresh()"
   ]
  },
  {
   "cell_type": "code",
   "execution_count": null,
   "id": "7cba528b-1a58-4c89-b0ed-d073079fefac",
   "metadata": {},
   "outputs": [],
   "source": [
    "# Locate table by ID\n",
    "table = driver.find_element(\"id\", \"datatable-1\")\n",
    "html = table.get_attribute(\"outerHTML\")\n",
    "\n",
    "# Convert to DataFrame using pandas\n",
    "df = pd.read_html(html)[0]\n",
    "#driver.quit()"
   ]
  },
  {
   "cell_type": "code",
   "execution_count": null,
   "id": "8696da86-3925-45e1-9595-73c284ceb438",
   "metadata": {},
   "outputs": [],
   "source": [
    "df1.head()"
   ]
  },
  {
   "cell_type": "code",
   "execution_count": null,
   "id": "f710e8a1-23e2-4848-9150-6ae53ba1ae11",
   "metadata": {},
   "outputs": [],
   "source": [
    "df.to_csv(\"/Users/du/dup/auData/download/theasia25a.csv\", index=False)"
   ]
  },
  {
   "cell_type": "code",
   "execution_count": null,
   "id": "cf6a5034-aa4b-4718-b3c9-57025d0d47ff",
   "metadata": {},
   "outputs": [],
   "source": [
    "# Find table\n",
    "table = driver.find_element(By.ID, \"datatable-1\")\n",
    "rows = table.find_elements(By.CSS_SELECTOR, \"tbody tr\")\n",
    "\n",
    "# Extract data\n",
    "data = []\n",
    "for row in rows:\n",
    "    cols = row.find_elements(By.TAG_NAME, \"td\")\n",
    "    if len(cols) >= 5:\n",
    "        rank = cols[0].text.strip()\n",
    "        name = cols[1].find_element(By.CLASS_NAME, \"ranking-institution-title\").text.strip()\n",
    "        country = cols[1].find_element(By.CLASS_NAME, \"location\").text.strip()\n",
    "        fte_students = cols[2].text.strip()\n",
    "        student_staff_ratio = cols[3].text.strip()\n",
    "        intl_students = cols[4].text.strip()\n",
    "        data.append({\n",
    "            \"Rank\": rank,\n",
    "            \"Name\": name,\n",
    "            \"Country\": country,\n",
    "            \"FTE Students\": fte_students,\n",
    "            \"Student-Staff Ratio\": student_staff_ratio,\n",
    "            \"International Students\": intl_students\n",
    "        })\n",
    "\n",
    "# Close browser\n",
    "#driver.quit()\n",
    "\n",
    "# Convert to DataFrame\n",
    "df2 = pd.DataFrame(data)"
   ]
  },
  {
   "cell_type": "code",
   "execution_count": null,
   "id": "fc027277-98df-4dce-8298-677277de3492",
   "metadata": {},
   "outputs": [],
   "source": [
    "df2.head()"
   ]
  },
  {
   "cell_type": "code",
   "execution_count": null,
   "id": "2fca61bb-2977-4028-9def-d022f0766ca2",
   "metadata": {},
   "outputs": [],
   "source": [
    "df2.to_csv(\"/Users/du/dup/auData/download/theasia25b.csv\", index=False)"
   ]
  },
  {
   "cell_type": "code",
   "execution_count": null,
   "id": "291fef6e-ba86-4e93-8068-438c740a1e12",
   "metadata": {},
   "outputs": [],
   "source": [
    "driver.quit()"
   ]
  },
  {
   "cell_type": "code",
   "execution_count": null,
   "id": "5e196a76-d5f9-4df1-92b1-f172a8374d3e",
   "metadata": {},
   "outputs": [],
   "source": []
  },
  {
   "cell_type": "code",
   "execution_count": null,
   "id": "2dbaf5bd-0bbe-41fd-9526-1b9a3a744c81",
   "metadata": {},
   "outputs": [],
   "source": []
  },
  {
   "cell_type": "markdown",
   "id": "da609565-ac80-4d8a-ab8f-2e04cb92458f",
   "metadata": {},
   "source": [
    "## practise"
   ]
  },
  {
   "cell_type": "code",
   "execution_count": null,
   "id": "09fc3cf3-334f-47df-ace1-d933a832648d",
   "metadata": {},
   "outputs": [],
   "source": [
    "# Initialize\n",
    "cService = webdriver.ChromeService(executable_path=cp2)\n",
    "driver = webdriver.Chrome(service = cService)\n",
    "full_url = urls[0] + part1\n",
    "print(full_url)\n",
    "driver.get(full_url)\n",
    "time.sleep(5)\n",
    "    \n",
    "# Handle cookie reject\n",
    "try:\n",
    "    reject_button = WebDriverWait(driver, 5).until( EC.element_to_be_clickable((By.ID, \"CybotCookiebotDialogBodyButtonDecline\")) )\n",
    "    reject_button.click()\n",
    "    time.sleep(2)\n",
    "except TimeoutException:\n",
    "    print(f\"No cookie dialog for {full_url}\")\n",
    "#extract year\n",
    "year = re.search(r'\\d{4}', driver.title).group()\n",
    "print(f'Year {year}', f'Tile {driver.title}')"
   ]
  },
  {
   "cell_type": "code",
   "execution_count": null,
   "id": "7295acef-7f0c-4f8b-b291-9e421e326d52",
   "metadata": {},
   "outputs": [],
   "source": [
    "for url in urls:\n",
    "    full_url = url + part1\n",
    "    driver.get(full_url)\n",
    "    time.sleep(2)\n",
    "    year = re.search(r'\\d{4}', driver.title).group()\n",
    "    label = 'THE_Asia_' + year\n",
    "    print(f'Label {label} for Title {driver.title} and Year {year}')   "
   ]
  },
  {
   "cell_type": "code",
   "execution_count": null,
   "id": "c2176bef-bc45-4e5f-9b2e-e0d2cb8296bb",
   "metadata": {},
   "outputs": [],
   "source": [
    "#headers \n",
    "ranking_headers={}\n",
    "for url in urls:\n",
    "    full_url = url + part1\n",
    "    driver.get(full_url)\n",
    "    print(driver.title)\n",
    "    time.sleep(2)\n",
    "    #ranking_label = wait.until(EC.element_to_be_clickable((By.CSS_SELECTOR, \"label[for='scores']\")))\n",
    "    #ranking_label.click()\n",
    "    #time.sleep(2)\n",
    "    \n",
    "    table = driver.find_element(By.ID, \"datatable-1\")\n",
    "    headers = table.find_elements(By.TAG_NAME, \"th\")\n",
    "    ranking_headers[year] = [h.text.replace('\\n', ' ').strip() for h in headers]\n",
    "ranking_headers"
   ]
  },
  {
   "cell_type": "code",
   "execution_count": null,
   "id": "12bc95e7-86a2-4241-9a8a-d7c2de966060",
   "metadata": {},
   "outputs": [],
   "source": [
    "ranking_headers"
   ]
  },
  {
   "cell_type": "code",
   "execution_count": null,
   "id": "b118da97-1d4e-413b-b8ec-c79187baba72",
   "metadata": {},
   "outputs": [],
   "source": [
    "driver.refresh()"
   ]
  },
  {
   "cell_type": "code",
   "execution_count": null,
   "id": "10576ae2-085f-4b1f-aa93-b8afa058b91d",
   "metadata": {},
   "outputs": [],
   "source": []
  }
 ],
 "metadata": {
  "kernelspec": {
   "display_name": "Python 3 (ipykernel)",
   "language": "python",
   "name": "python3"
  },
  "language_info": {
   "codemirror_mode": {
    "name": "ipython",
    "version": 3
   },
   "file_extension": ".py",
   "mimetype": "text/x-python",
   "name": "python",
   "nbconvert_exporter": "python",
   "pygments_lexer": "ipython3",
   "version": "3.12.7"
  }
 },
 "nbformat": 4,
 "nbformat_minor": 5
}
