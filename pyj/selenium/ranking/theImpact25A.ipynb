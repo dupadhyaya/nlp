{
 "cells": [
  {
   "cell_type": "markdown",
   "id": "506aeb8d-0540-42a2-abc3-50509ff1a6cc",
   "metadata": {},
   "source": [
    "# THE Impact Rankings 2025\n",
    "- https://www.timeshighereducation.com/impactrankings\n",
    "- part : #!/length/-1/sort_by/rank/sort_order/asc/cols/scores\n",
    "- https://www.timeshighereducation.com/impactrankings#!/length/-1/sort_by/rank/sort_order/asc"
   ]
  },
  {
   "cell_type": "code",
   "execution_count": 40,
   "id": "137b7ad1-d85d-4ef7-9196-3a9b56c40a06",
   "metadata": {},
   "outputs": [
    {
     "data": {
      "text/plain": [
       "'https://www.timeshighereducation.com/impactrankings#!/length/-1/sort_by/rank/sort_order/asc'"
      ]
     },
     "execution_count": 40,
     "metadata": {},
     "output_type": "execute_result"
    }
   ],
   "source": [
    "## URLS\n",
    "#urls = [\"https://www.timeshighereducation.com/world-university-rankings/2023/regional-ranking/\", \"https://www.timeshighereducation.com/world-university-rankings/2024/regional-ranking/\", \"https://www.timeshighereducation.com/world-university-rankings/2025/regional-ranking\"]\n",
    "#part1 = '#!/length/-1/sort_by/rank/sort_order/asc/cols/scores/'\n",
    "#urls[0] + part1\n",
    "url1 ='https://www.timeshighereducation.com/impactrankings'\n",
    "url ='https://www.timeshighereducation.com/impactrankings#!/length/-1/sort_by/rank/sort_order/asc'\n",
    "url"
   ]
  },
  {
   "cell_type": "code",
   "execution_count": null,
   "id": "d2f5a067-1bc2-41a4-ada0-4e69b67df871",
   "metadata": {},
   "outputs": [],
   "source": [
    "import requests\n",
    "import urllib\n",
    "from bs4 import BeautifulSoup\n",
    "response = requests.get('http://google.com')\n",
    "assert response.status_code < 400"
   ]
  },
  {
   "cell_type": "code",
   "execution_count": null,
   "id": "b302e3d5-64a0-4147-83b6-f7dcb8cdd672",
   "metadata": {},
   "outputs": [],
   "source": [
    "#function check if url exists\n",
    "import httpx\n",
    "from bs4 import BeautifulSoup\n",
    "\n",
    "def get_title_httpx(url):\n",
    "    try:\n",
    "        with httpx.Client(timeout=5) as client:\n",
    "            response = client.get(url)\n",
    "            if response.status_code == 200:\n",
    "                soup = BeautifulSoup(response.text, 'html.parser')\n",
    "                return soup.title.string.strip() if soup.title else \"No title found\"\n",
    "            else:\n",
    "                return f\"Status code: {response.status_code}\"\n",
    "    except httpx.RequestError as e:\n",
    "        return f\"Error: {e}\""
   ]
  },
  {
   "cell_type": "code",
   "execution_count": null,
   "id": "fbd07ded-4339-428e-af2f-cdfa515bc520",
   "metadata": {},
   "outputs": [],
   "source": [
    "print(get_title_httpx(\"https://www.python.org\"))\n",
    "print(get_title_httpx(url))"
   ]
  },
  {
   "cell_type": "markdown",
   "id": "3776df55-d3f6-4f9b-b565-9780e2606e09",
   "metadata": {},
   "source": [
    "## install libraries if required"
   ]
  },
  {
   "cell_type": "code",
   "execution_count": 8,
   "id": "fce9a469-570a-4fc0-8023-553cec2c62f6",
   "metadata": {},
   "outputs": [],
   "source": [
    "from selenium import webdriver\n",
    "from selenium.webdriver.chrome.service import Service\n",
    "from webdriver_manager.chrome import ChromeDriverManager\n",
    "from selenium.webdriver.common.by import By\n",
    "from selenium.webdriver.chrome.options import Options\n",
    "from selenium.webdriver.support.ui import WebDriverWait\n",
    "from selenium.webdriver.support import expected_conditions as EC\n",
    "from selenium.common.exceptions import TimeoutException\n",
    "import time\n",
    "import pandas as pd\n",
    "import numpy as np\n",
    "import re"
   ]
  },
  {
   "cell_type": "code",
   "execution_count": 9,
   "id": "c321bcfd-0011-4cd3-b7e5-9524fe70d65d",
   "metadata": {},
   "outputs": [],
   "source": [
    "pd.set_option('max_colwidth',None)"
   ]
  },
  {
   "cell_type": "code",
   "execution_count": 10,
   "id": "1fa165f2-938d-4820-9e07-5455f4823676",
   "metadata": {},
   "outputs": [],
   "source": [
    "# Setup Chrome options\n",
    "options = Options()\n",
    "options.add_argument(\"--start-maximized\")\n",
    "options.add_argument(\"--disable-notifications\")"
   ]
  },
  {
   "cell_type": "code",
   "execution_count": 11,
   "id": "4b64cccc-1d51-4397-bc50-c82edb2f8e6a",
   "metadata": {},
   "outputs": [],
   "source": [
    "# Download location\n",
    "prefs = { \"download.prompt_for_download\": False, \"download.default_directory\": \"/Users/du/dup/auData/download\"}\n",
    "options.add_experimental_option(\"prefs\", prefs)"
   ]
  },
  {
   "cell_type": "code",
   "execution_count": 12,
   "id": "2bafede3-1bf9-401f-bd17-6b271d673599",
   "metadata": {},
   "outputs": [],
   "source": [
    "cp2 = '/opt/homebrew/bin/chromedriver'  # Replace with the actual path to your chromedriver"
   ]
  },
  {
   "cell_type": "code",
   "execution_count": null,
   "id": "ad5150f4-55ce-41b3-bcc5-60d88ec2ae43",
   "metadata": {},
   "outputs": [],
   "source": [
    "#start driver\n",
    "cService = webdriver.ChromeService(executable_path=cp2)\n",
    "driver = webdriver.Chrome(service = cService)\n",
    "driver.get(url)\n",
    "wait = WebDriverWait(driver, 3)\n",
    "print(driver.title)"
   ]
  },
  {
   "cell_type": "code",
   "execution_count": null,
   "id": "e2d26c85-ae0b-49fc-80f7-a0a4964a83b3",
   "metadata": {},
   "outputs": [],
   "source": [
    "# Maximize window and wait for page to load\n",
    "driver.maximize_window()\n",
    "time.sleep(5)  \n",
    "driver.find_element(By.ID,'CybotCookiebotDialogBodyButtonDecline').click()"
   ]
  },
  {
   "cell_type": "code",
   "execution_count": null,
   "id": "366582ed-6639-4f01-a428-ce48c3686a54",
   "metadata": {},
   "outputs": [],
   "source": [
    "year = re.search(r'\\d{4}', driver.title).group()\n",
    "print(driver.title, 'Year - ' , year)"
   ]
  },
  {
   "cell_type": "code",
   "execution_count": null,
   "id": "80425ed4-bb7f-4d93-8dc8-b6a9c076c3ca",
   "metadata": {},
   "outputs": [],
   "source": [
    "#check if table element exists\n",
    "table = driver.find_element(By.ID,'datatable-1')\n",
    "table"
   ]
  },
  {
   "cell_type": "code",
   "execution_count": null,
   "id": "481d4cf6-e277-48d2-bf9c-6e99b785a79c",
   "metadata": {},
   "outputs": [],
   "source": [
    "table.text[0:1000]"
   ]
  },
  {
   "cell_type": "code",
   "execution_count": null,
   "id": "68a24b1b-411a-460c-96b9-2110418856e1",
   "metadata": {},
   "outputs": [],
   "source": [
    "# Locate the table header row\n",
    "header_elements = driver.find_elements(By.CSS_SELECTOR, '#datatable-1 thead th')\n",
    "# Extract and print header text\n",
    "headers = [header.text.strip() for header in header_elements]\n",
    "print(headers)"
   ]
  },
  {
   "cell_type": "code",
   "execution_count": null,
   "id": "3ec811b3-7bf6-4d24-b1fe-845f2a4a1ce1",
   "metadata": {},
   "outputs": [],
   "source": [
    "# Another way to download Headings\n",
    "thead = driver.find_element(By.CSS_SELECTOR, '#datatable-1 thead')\n",
    "thead\n",
    "th_elements = thead.find_elements(By.TAG_NAME, \"th\")\n",
    "th_elements\n",
    "header_list = [th.text.strip() for th in th_elements]\n",
    "header_list"
   ]
  },
  {
   "cell_type": "markdown",
   "id": "142f25cc-e6ff-4a94-a787-846031306675",
   "metadata": {},
   "source": [
    "## HTML STRUCTURE\n",
    "<tbody>\n",
    "    <tr>\n",
    "        <td class=\"rank sorting_1 sorting_2\">1</td>\n",
    "        <td class=\"name namesearch\">\n",
    "            <a class=\"ranking-institution-title\" href=\"/world-university-rankings/western-sydney-university\" data-position=\"title\" data-mz=\"\">Western Sydney University</a>\n",
    "            <div class=\"location\"><span><a href=\"/location/a4zw0000000GnyFAAS\">Australia</a></span></div> </td>\n",
    "        <td class=\"best-scores\">\n",
    "            <div class=\"sdg-score-multi\">\n",
    "                <div class=\"sdg-score-multi_item\">\n",
    "                    <div class=\"sdg-score-multi_number\">15</div>\n",
    "                    <div class=\"sdg-score-multi_value-wrapper\">\n",
    "                        <div class=\"sdg-score-multi_value\"> <p>95.1</p> </div> </div></div>\n",
    "                 <div class=\"sdg-score-multi_item\">\n",
    "                    <div class=\"sdg-score-multi_number\">12</div>\n",
    "                    <div class=\"sdg-score-multi_value-wrapper\">\n",
    "                        <div class=\"sdg-score-multi_value\"><p>92.6</p> </div> </div></div>       \n",
    "                 <div class=\"sdg-score-multi_item\">\n",
    "                    <div class=\"sdg-score-multi_number\">11 </div>\n",
    "                    <div class=\"sdg-score-multi_value-wrapper\">\n",
    "                        <div class=\"sdg-score-multi_value\"><p>92.2</p> </div> </div></div>         \n",
    "                <div class=\"sdg-score-multi_item\">\n",
    "                    <div class=\"sdg-score-multi_number\">17 </div>\n",
    "                    <div class=\"sdg-score-multi_value-wrapper\">\n",
    "                        <div class=\"sdg-score-multi_value\"><p>98.1</p> </div> </div></div>\n",
    "            </div>\n",
    "        </td>\n",
    "        <td class=\" scores overall-score\">98.7</td>\n",
    "    </tr>\n",
    "</tbody>"
   ]
  },
  {
   "cell_type": "markdown",
   "id": "565fec56-6da3-4ebe-9160-445633b0a7a6",
   "metadata": {},
   "source": [
    "### Selectors\n",
    "- row //*[@id=\"datatable-1\"]/tbody\n",
    "- rank th[aria-label='Rank: activate to sort column ascending']"
   ]
  },
  {
   "cell_type": "code",
   "execution_count": 132,
   "id": "4d7be5a1-25e3-42ff-9c92-1c4e0062bbba",
   "metadata": {},
   "outputs": [
    {
     "data": {
      "text/plain": [
       "[<selenium.webdriver.remote.webelement.WebElement (session=\"3d8a5caac536fcfcfb6ba5aba3a2cb45\", element=\"f.45772AD9ADD03D76F52CC2E0B279BE3D.d.249C47E654DEE146905C34F3D376FFCA.e.1774\")>,\n",
       " <selenium.webdriver.remote.webelement.WebElement (session=\"3d8a5caac536fcfcfb6ba5aba3a2cb45\", element=\"f.45772AD9ADD03D76F52CC2E0B279BE3D.d.249C47E654DEE146905C34F3D376FFCA.e.1652\")>,\n",
       " <selenium.webdriver.remote.webelement.WebElement (session=\"3d8a5caac536fcfcfb6ba5aba3a2cb45\", element=\"f.45772AD9ADD03D76F52CC2E0B279BE3D.d.249C47E654DEE146905C34F3D376FFCA.e.1700\")>,\n",
       " <selenium.webdriver.remote.webelement.WebElement (session=\"3d8a5caac536fcfcfb6ba5aba3a2cb45\", element=\"f.45772AD9ADD03D76F52CC2E0B279BE3D.d.249C47E654DEE146905C34F3D376FFCA.e.1775\")>,\n",
       " <selenium.webdriver.remote.webelement.WebElement (session=\"3d8a5caac536fcfcfb6ba5aba3a2cb45\", element=\"f.45772AD9ADD03D76F52CC2E0B279BE3D.d.249C47E654DEE146905C34F3D376FFCA.e.1776\")>]"
      ]
     },
     "execution_count": 132,
     "metadata": {},
     "output_type": "execute_result"
    }
   ],
   "source": [
    "# Step 1: Find all rows inside tbody\n",
    "rows = driver.find_elements(By.CSS_SELECTOR, \"table#datatable-1 tbody tr\")\n",
    "rows[0:5] #if 5 elements are shown"
   ]
  },
  {
   "cell_type": "code",
   "execution_count": 155,
   "id": "702db76f-384e-492f-a36c-c44c326dcc6b",
   "metadata": {},
   "outputs": [
    {
     "data": {
      "text/plain": [
       "2232"
      ]
     },
     "execution_count": 155,
     "metadata": {},
     "output_type": "execute_result"
    }
   ],
   "source": [
    "rows2 = driver.find_elements(By.XPATH, \"//tr[contains(@class, 'js-row') and not(contains(@class, 'institution-disabled'))]\")\n",
    "len(rows2)"
   ]
  },
  {
   "cell_type": "code",
   "execution_count": 156,
   "id": "048412e2-dbe7-4033-871b-0613361a51f2",
   "metadata": {},
   "outputs": [
    {
     "name": "stdout",
     "output_type": "stream",
     "text": [
      "1501+ ICFAI University, Dehradun India\n"
     ]
    }
   ],
   "source": [
    "sdg_container = rows2[1].find_element(By.CSS_SELECTOR, \"td.best-scores .sdg-score-multi\")\n",
    "sdg_container\n",
    "sdg_items = sdg_container.find_elements(By.CLASS_NAME, \"sdg-score-multi__item\")\n",
    "sdg_items  #4 items\n",
    "rank = rows2[1700].find_element(By.CSS_SELECTOR, \"td.rank.sorting_1.sorting_2\").text.strip()\n",
    "name = rows2[1700].find_element(By.CSS_SELECTOR, \"td.name a.ranking-institution-title\").text.strip()\n",
    "country = rows2[1700].find_element(By.CSS_SELECTOR, \"td.name .location span a\").text.strip()\n",
    "print(rank, name, country)"
   ]
  },
  {
   "cell_type": "code",
   "execution_count": 157,
   "id": "fc4bd644-edaf-4536-a1a3-1db3f6cbcd30",
   "metadata": {},
   "outputs": [
    {
     "name": "stdout",
     "output_type": "stream",
     "text": [
      "11 95.3\n",
      "15 95.9\n",
      "12 93.5\n",
      "17 94.5\n"
     ]
    }
   ],
   "source": [
    "sdg_scores = {}\n",
    "sdg_container = rows2[1].find_element(By.CSS_SELECTOR, \"td.best-scores .sdg-score-multi\")\n",
    "sdg_container\n",
    "sdg_items = sdg_container.find_elements(By.CLASS_NAME, \"sdg-score-multi__item\")\n",
    "sdg_items  #4 items\n",
    "for item in sdg_items:\n",
    "        number = item.find_element(By.CLASS_NAME, \"sdg-score-multi__number\").text.strip()\n",
    "        value = item.find_element(By.CLASS_NAME, \"sdg-score-multi__value p\").text.strip()\n",
    "        sdg_scores[number] = value\n",
    "        print(number, value)"
   ]
  },
  {
   "cell_type": "code",
   "execution_count": 183,
   "id": "a0a58c11-fb92-4279-8115-26e8f5fc2af1",
   "metadata": {},
   "outputs": [
    {
     "name": "stdout",
     "output_type": "stream",
     "text": [
      "No of rows extracted  2232\n"
     ]
    }
   ],
   "source": [
    "all_data = []\n",
    "i=0\n",
    "#print(rows[0:1])\n",
    "for row in rows2:\n",
    "    i = i + 1\n",
    "    rank = row.find_element(By.CSS_SELECTOR, \"td.rank.sorting_1.sorting_2\").text.strip()\n",
    "    name = row.find_element(By.CSS_SELECTOR, \"td.name a.ranking-institution-title\").text.strip()\n",
    "    country = row.find_element(By.CSS_SELECTOR, \"td.name .location span a\").text.strip()\n",
    "    # Find SDG container *within this row*\n",
    "    sdg_container = row.find_element(By.CSS_SELECTOR, \"td.best-scores .sdg-score-multi\")\n",
    "    # Now find each SDG item within that container\n",
    "    sdg_items = sdg_container.find_elements(By.CLASS_NAME, \"sdg-score-multi__item\")\n",
    "    sdg_scores = {}\n",
    "    for item in sdg_items:\n",
    "        number = item.find_element(By.CLASS_NAME, \"sdg-score-multi__number\").text.strip()\n",
    "        value = item.find_element(By.CLASS_NAME, \"sdg-score-multi__value p\").text.strip()\n",
    "        sdg_scores[number] = value\n",
    "        #print(number, value)\n",
    "    overall = row.find_element(By.CSS_SELECTOR, \"td.scores.overall-score\").text.strip()\n",
    "    #print(i, rank, name)\n",
    "    #print('Rank is ', rank, ', Name is', name, ', Country is ', country, ', Overall Score - ', overall, ' Other Scores ', sdg_scores) #, name, country)   \n",
    "    all_data.append({   \"rank\": rank, \"university\": name, \"country\": country,  \"sdg_scores\": sdg_scores, \"overall_score\": overall })\n",
    "    #all_data.append({   \"rank\": rank, \"university\": name, \"country\": country,  \"overall_score\": overall })\n",
    "print(\"No of rows extracted \", i)"
   ]
  },
  {
   "cell_type": "code",
   "execution_count": 184,
   "id": "092abf6e-2ba7-41bb-8ee7-c583ffc02346",
   "metadata": {},
   "outputs": [
    {
     "data": {
      "text/plain": [
       "list"
      ]
     },
     "execution_count": 184,
     "metadata": {},
     "output_type": "execute_result"
    }
   ],
   "source": [
    "type(all_data)"
   ]
  },
  {
   "cell_type": "code",
   "execution_count": 185,
   "id": "69d60cf0-46c4-4333-9813-da797f31957d",
   "metadata": {},
   "outputs": [
    {
     "data": {
      "text/plain": [
       "2232"
      ]
     },
     "execution_count": 185,
     "metadata": {},
     "output_type": "execute_result"
    }
   ],
   "source": [
    "len(all_data)"
   ]
  },
  {
   "cell_type": "code",
   "execution_count": 187,
   "id": "b183326e-ced2-4a20-8f53-d0754e91f11c",
   "metadata": {},
   "outputs": [
    {
     "data": {
      "text/plain": [
       "[{'rank': '1',\n",
       "  'university': 'Western Sydney University',\n",
       "  'country': 'Australia',\n",
       "  'sdg_scores': {'15': '95.1', '12': '92.6', '11': '92.2', '17': '98.1'},\n",
       "  'overall_score': '98.7'},\n",
       " {'rank': '2',\n",
       "  'university': 'University of Manchester',\n",
       "  'country': 'United Kingdom',\n",
       "  'sdg_scores': {'11': '95.3', '15': '95.9', '12': '93.5', '17': '94.5'},\n",
       "  'overall_score': '98.4'}]"
      ]
     },
     "execution_count": 187,
     "metadata": {},
     "output_type": "execute_result"
    }
   ],
   "source": [
    "sdata= all_data[0:2]\n",
    "sdata"
   ]
  },
  {
   "cell_type": "code",
   "execution_count": 188,
   "id": "61e4c3c4-04dc-4c9b-ba4e-36aff733db90",
   "metadata": {},
   "outputs": [
    {
     "name": "stdout",
     "output_type": "stream",
     "text": [
      "{'rank': '1', 'university': 'Western Sydney University', 'country': 'Australia', 'sdg_scores': {'15': '95.1', '12': '92.6', '11': '92.2', '17': '98.1'}, 'overall_score': '98.7'}\n",
      "{'rank': '2', 'university': 'University of Manchester', 'country': 'United Kingdom', 'sdg_scores': {'11': '95.3', '15': '95.9', '12': '93.5', '17': '94.5'}, 'overall_score': '98.4'}\n"
     ]
    }
   ],
   "source": [
    "# Print or convert to DataFrame\n",
    "for record in all_data[0:2]:    print(record)"
   ]
  },
  {
   "cell_type": "code",
   "execution_count": 189,
   "id": "37f9ea3a-9eea-410a-af6a-e34debbfbf5d",
   "metadata": {},
   "outputs": [
    {
     "name": "stdout",
     "output_type": "stream",
     "text": [
      "Entry 1 SDG Scores: {'15': '95.1', '12': '92.6', '11': '92.2', '17': '98.1'}\n",
      "Entry 2 SDG Scores: {'11': '95.3', '15': '95.9', '12': '93.5', '17': '94.5'}\n"
     ]
    }
   ],
   "source": [
    "sdg_scores_list = [entry['sdg_scores'] for entry in sdata if 'sdg_scores' in entry]\n",
    "for i, scores in enumerate(sdg_scores_list, 1):\n",
    "    print(f\"Entry {i} SDG Scores: {scores}\")"
   ]
  },
  {
   "cell_type": "code",
   "execution_count": 190,
   "id": "18bee9b8-f1c1-40ef-a8f2-d8c220ada37c",
   "metadata": {},
   "outputs": [
    {
     "name": "stdout",
     "output_type": "stream",
     "text": [
      "(2232, 12)\n"
     ]
    }
   ],
   "source": [
    "flat_data = []\n",
    "for entry in all_data:\n",
    "    base = {k: v for k, v in entry.items() if k != 'sdg_scores'}\n",
    "    if 'sdg_scores' in entry:\n",
    "        for i, (sdg_no, sdg_val) in enumerate(entry['sdg_scores'].items(), start=1):\n",
    "            base[f'SDG{i}_no'] = sdg_no\n",
    "            base[f'SDG{i}_value'] = sdg_val\n",
    "    flat_data.append(base)\n",
    "\n",
    "df = pd.DataFrame(flat_data)\n",
    "print(df.shape)"
   ]
  },
  {
   "cell_type": "code",
   "execution_count": 232,
   "id": "87f359ca-6a64-4164-aea6-0264f3ce559d",
   "metadata": {},
   "outputs": [],
   "source": [
    "df1 = df.copy()"
   ]
  },
  {
   "cell_type": "code",
   "execution_count": 233,
   "id": "454a64a5-2963-446b-9c0f-a74ea577de37",
   "metadata": {},
   "outputs": [
    {
     "data": {
      "text/html": [
       "<div>\n",
       "<style scoped>\n",
       "    .dataframe tbody tr th:only-of-type {\n",
       "        vertical-align: middle;\n",
       "    }\n",
       "\n",
       "    .dataframe tbody tr th {\n",
       "        vertical-align: top;\n",
       "    }\n",
       "\n",
       "    .dataframe thead th {\n",
       "        text-align: right;\n",
       "    }\n",
       "</style>\n",
       "<table border=\"1\" class=\"dataframe\">\n",
       "  <thead>\n",
       "    <tr style=\"text-align: right;\">\n",
       "      <th></th>\n",
       "      <th>rank</th>\n",
       "      <th>university</th>\n",
       "      <th>country</th>\n",
       "      <th>overall_score</th>\n",
       "      <th>SDG1_no</th>\n",
       "      <th>SDG1_value</th>\n",
       "      <th>SDG2_no</th>\n",
       "      <th>SDG2_value</th>\n",
       "      <th>SDG3_no</th>\n",
       "      <th>SDG3_value</th>\n",
       "      <th>SDG4_no</th>\n",
       "      <th>SDG4_value</th>\n",
       "    </tr>\n",
       "  </thead>\n",
       "  <tbody>\n",
       "    <tr>\n",
       "      <th>0</th>\n",
       "      <td>1</td>\n",
       "      <td>Western Sydney University</td>\n",
       "      <td>Australia</td>\n",
       "      <td>98.7</td>\n",
       "      <td>15</td>\n",
       "      <td>95.1</td>\n",
       "      <td>12</td>\n",
       "      <td>92.6</td>\n",
       "      <td>11</td>\n",
       "      <td>92.2</td>\n",
       "      <td>17</td>\n",
       "      <td>98.1</td>\n",
       "    </tr>\n",
       "    <tr>\n",
       "      <th>1</th>\n",
       "      <td>2</td>\n",
       "      <td>University of Manchester</td>\n",
       "      <td>United Kingdom</td>\n",
       "      <td>98.4</td>\n",
       "      <td>11</td>\n",
       "      <td>95.3</td>\n",
       "      <td>15</td>\n",
       "      <td>95.9</td>\n",
       "      <td>12</td>\n",
       "      <td>93.5</td>\n",
       "      <td>17</td>\n",
       "      <td>94.5</td>\n",
       "    </tr>\n",
       "    <tr>\n",
       "      <th>2</th>\n",
       "      <td>3</td>\n",
       "      <td>Kyungpook National University (KNU)</td>\n",
       "      <td>South Korea</td>\n",
       "      <td>97.8</td>\n",
       "      <td>8</td>\n",
       "      <td>92.0</td>\n",
       "      <td>9</td>\n",
       "      <td>99.5</td>\n",
       "      <td>15</td>\n",
       "      <td>91.6</td>\n",
       "      <td>17</td>\n",
       "      <td>96.8</td>\n",
       "    </tr>\n",
       "    <tr>\n",
       "      <th>3</th>\n",
       "      <td>=4</td>\n",
       "      <td>Griffith University</td>\n",
       "      <td>Australia</td>\n",
       "      <td>97.7</td>\n",
       "      <td>15</td>\n",
       "      <td>95.6</td>\n",
       "      <td>6</td>\n",
       "      <td>91.8</td>\n",
       "      <td>14</td>\n",
       "      <td>94.3</td>\n",
       "      <td>17</td>\n",
       "      <td>96.4</td>\n",
       "    </tr>\n",
       "    <tr>\n",
       "      <th>4</th>\n",
       "      <td>=4</td>\n",
       "      <td>University of Tasmania</td>\n",
       "      <td>Australia</td>\n",
       "      <td>97.7</td>\n",
       "      <td>15</td>\n",
       "      <td>96.1</td>\n",
       "      <td>13</td>\n",
       "      <td>93.2</td>\n",
       "      <td>14</td>\n",
       "      <td>90.1</td>\n",
       "      <td>17</td>\n",
       "      <td>96.2</td>\n",
       "    </tr>\n",
       "  </tbody>\n",
       "</table>\n",
       "</div>"
      ],
      "text/plain": [
       "  rank                           university         country overall_score  \\\n",
       "0    1            Western Sydney University       Australia          98.7   \n",
       "1    2             University of Manchester  United Kingdom          98.4   \n",
       "2    3  Kyungpook National University (KNU)     South Korea          97.8   \n",
       "3   =4                  Griffith University       Australia          97.7   \n",
       "4   =4               University of Tasmania       Australia          97.7   \n",
       "\n",
       "  SDG1_no SDG1_value SDG2_no SDG2_value SDG3_no SDG3_value SDG4_no SDG4_value  \n",
       "0      15       95.1      12       92.6      11       92.2      17       98.1  \n",
       "1      11       95.3      15       95.9      12       93.5      17       94.5  \n",
       "2       8       92.0       9       99.5      15       91.6      17       96.8  \n",
       "3      15       95.6       6       91.8      14       94.3      17       96.4  \n",
       "4      15       96.1      13       93.2      14       90.1      17       96.2  "
      ]
     },
     "execution_count": 233,
     "metadata": {},
     "output_type": "execute_result"
    }
   ],
   "source": [
    "df1.head()"
   ]
  },
  {
   "cell_type": "code",
   "execution_count": 234,
   "id": "7b63d194-f2ce-40ca-9ddc-c166ceaea7a8",
   "metadata": {},
   "outputs": [
    {
     "data": {
      "text/html": [
       "<div>\n",
       "<style scoped>\n",
       "    .dataframe tbody tr th:only-of-type {\n",
       "        vertical-align: middle;\n",
       "    }\n",
       "\n",
       "    .dataframe tbody tr th {\n",
       "        vertical-align: top;\n",
       "    }\n",
       "\n",
       "    .dataframe thead th {\n",
       "        text-align: right;\n",
       "    }\n",
       "</style>\n",
       "<table border=\"1\" class=\"dataframe\">\n",
       "  <thead>\n",
       "    <tr style=\"text-align: right;\">\n",
       "      <th></th>\n",
       "      <th>ser</th>\n",
       "      <th>rank</th>\n",
       "      <th>university</th>\n",
       "      <th>country</th>\n",
       "      <th>overall_score</th>\n",
       "      <th>SDG1_no</th>\n",
       "      <th>SDG1_value</th>\n",
       "      <th>SDG2_no</th>\n",
       "      <th>SDG2_value</th>\n",
       "      <th>SDG3_no</th>\n",
       "      <th>SDG3_value</th>\n",
       "      <th>SDG4_no</th>\n",
       "      <th>SDG4_value</th>\n",
       "    </tr>\n",
       "  </thead>\n",
       "  <tbody>\n",
       "    <tr>\n",
       "      <th>0</th>\n",
       "      <td>1</td>\n",
       "      <td>1</td>\n",
       "      <td>Western Sydney University</td>\n",
       "      <td>Australia</td>\n",
       "      <td>98.7</td>\n",
       "      <td>15</td>\n",
       "      <td>95.1</td>\n",
       "      <td>12</td>\n",
       "      <td>92.6</td>\n",
       "      <td>11</td>\n",
       "      <td>92.2</td>\n",
       "      <td>17</td>\n",
       "      <td>98.1</td>\n",
       "    </tr>\n",
       "    <tr>\n",
       "      <th>1</th>\n",
       "      <td>2</td>\n",
       "      <td>2</td>\n",
       "      <td>University of Manchester</td>\n",
       "      <td>United Kingdom</td>\n",
       "      <td>98.4</td>\n",
       "      <td>11</td>\n",
       "      <td>95.3</td>\n",
       "      <td>15</td>\n",
       "      <td>95.9</td>\n",
       "      <td>12</td>\n",
       "      <td>93.5</td>\n",
       "      <td>17</td>\n",
       "      <td>94.5</td>\n",
       "    </tr>\n",
       "    <tr>\n",
       "      <th>2</th>\n",
       "      <td>3</td>\n",
       "      <td>3</td>\n",
       "      <td>Kyungpook National University (KNU)</td>\n",
       "      <td>South Korea</td>\n",
       "      <td>97.8</td>\n",
       "      <td>8</td>\n",
       "      <td>92.0</td>\n",
       "      <td>9</td>\n",
       "      <td>99.5</td>\n",
       "      <td>15</td>\n",
       "      <td>91.6</td>\n",
       "      <td>17</td>\n",
       "      <td>96.8</td>\n",
       "    </tr>\n",
       "    <tr>\n",
       "      <th>3</th>\n",
       "      <td>4</td>\n",
       "      <td>=4</td>\n",
       "      <td>Griffith University</td>\n",
       "      <td>Australia</td>\n",
       "      <td>97.7</td>\n",
       "      <td>15</td>\n",
       "      <td>95.6</td>\n",
       "      <td>6</td>\n",
       "      <td>91.8</td>\n",
       "      <td>14</td>\n",
       "      <td>94.3</td>\n",
       "      <td>17</td>\n",
       "      <td>96.4</td>\n",
       "    </tr>\n",
       "    <tr>\n",
       "      <th>4</th>\n",
       "      <td>5</td>\n",
       "      <td>=4</td>\n",
       "      <td>University of Tasmania</td>\n",
       "      <td>Australia</td>\n",
       "      <td>97.7</td>\n",
       "      <td>15</td>\n",
       "      <td>96.1</td>\n",
       "      <td>13</td>\n",
       "      <td>93.2</td>\n",
       "      <td>14</td>\n",
       "      <td>90.1</td>\n",
       "      <td>17</td>\n",
       "      <td>96.2</td>\n",
       "    </tr>\n",
       "  </tbody>\n",
       "</table>\n",
       "</div>"
      ],
      "text/plain": [
       "   ser rank                           university         country  \\\n",
       "0    1    1            Western Sydney University       Australia   \n",
       "1    2    2             University of Manchester  United Kingdom   \n",
       "2    3    3  Kyungpook National University (KNU)     South Korea   \n",
       "3    4   =4                  Griffith University       Australia   \n",
       "4    5   =4               University of Tasmania       Australia   \n",
       "\n",
       "  overall_score SDG1_no SDG1_value SDG2_no SDG2_value SDG3_no SDG3_value  \\\n",
       "0          98.7      15       95.1      12       92.6      11       92.2   \n",
       "1          98.4      11       95.3      15       95.9      12       93.5   \n",
       "2          97.8       8       92.0       9       99.5      15       91.6   \n",
       "3          97.7      15       95.6       6       91.8      14       94.3   \n",
       "4          97.7      15       96.1      13       93.2      14       90.1   \n",
       "\n",
       "  SDG4_no SDG4_value  \n",
       "0      17       98.1  \n",
       "1      17       94.5  \n",
       "2      17       96.8  \n",
       "3      17       96.4  \n",
       "4      17       96.2  "
      ]
     },
     "execution_count": 234,
     "metadata": {},
     "output_type": "execute_result"
    }
   ],
   "source": [
    "# Step 1: Add serial number\n",
    "df1.insert(0, 'ser', range(1, len(df) + 1))\n",
    "df1.head()"
   ]
  },
  {
   "cell_type": "code",
   "execution_count": 235,
   "id": "1e59cf49-2341-414f-ac7b-91525e0c7c3b",
   "metadata": {},
   "outputs": [
    {
     "data": {
      "text/html": [
       "<div>\n",
       "<style scoped>\n",
       "    .dataframe tbody tr th:only-of-type {\n",
       "        vertical-align: middle;\n",
       "    }\n",
       "\n",
       "    .dataframe tbody tr th {\n",
       "        vertical-align: top;\n",
       "    }\n",
       "\n",
       "    .dataframe thead th {\n",
       "        text-align: right;\n",
       "    }\n",
       "</style>\n",
       "<table border=\"1\" class=\"dataframe\">\n",
       "  <thead>\n",
       "    <tr style=\"text-align: right;\">\n",
       "      <th></th>\n",
       "      <th>ser</th>\n",
       "      <th>rank</th>\n",
       "      <th>university</th>\n",
       "      <th>country</th>\n",
       "      <th>overall_score</th>\n",
       "      <th>SDG1_no</th>\n",
       "      <th>SDG1_value</th>\n",
       "      <th>SDG2_no</th>\n",
       "      <th>SDG2_value</th>\n",
       "      <th>SDG3_no</th>\n",
       "      <th>SDG3_value</th>\n",
       "      <th>SDG4_no</th>\n",
       "      <th>SDG4_value</th>\n",
       "    </tr>\n",
       "  </thead>\n",
       "  <tbody>\n",
       "    <tr>\n",
       "      <th>0</th>\n",
       "      <td>1</td>\n",
       "      <td>1</td>\n",
       "      <td>Western Sydney University</td>\n",
       "      <td>Australia</td>\n",
       "      <td>98.7</td>\n",
       "      <td>15</td>\n",
       "      <td>95.1</td>\n",
       "      <td>12</td>\n",
       "      <td>92.6</td>\n",
       "      <td>11</td>\n",
       "      <td>92.2</td>\n",
       "      <td>17</td>\n",
       "      <td>98.1</td>\n",
       "    </tr>\n",
       "    <tr>\n",
       "      <th>1</th>\n",
       "      <td>2</td>\n",
       "      <td>2</td>\n",
       "      <td>University of Manchester</td>\n",
       "      <td>United Kingdom</td>\n",
       "      <td>98.4</td>\n",
       "      <td>11</td>\n",
       "      <td>95.3</td>\n",
       "      <td>15</td>\n",
       "      <td>95.9</td>\n",
       "      <td>12</td>\n",
       "      <td>93.5</td>\n",
       "      <td>17</td>\n",
       "      <td>94.5</td>\n",
       "    </tr>\n",
       "    <tr>\n",
       "      <th>2</th>\n",
       "      <td>3</td>\n",
       "      <td>3</td>\n",
       "      <td>Kyungpook National University (KNU)</td>\n",
       "      <td>South Korea</td>\n",
       "      <td>97.8</td>\n",
       "      <td>8</td>\n",
       "      <td>92.0</td>\n",
       "      <td>9</td>\n",
       "      <td>99.5</td>\n",
       "      <td>15</td>\n",
       "      <td>91.6</td>\n",
       "      <td>17</td>\n",
       "      <td>96.8</td>\n",
       "    </tr>\n",
       "    <tr>\n",
       "      <th>3</th>\n",
       "      <td>4</td>\n",
       "      <td>=4</td>\n",
       "      <td>Griffith University</td>\n",
       "      <td>Australia</td>\n",
       "      <td>97.7</td>\n",
       "      <td>15</td>\n",
       "      <td>95.6</td>\n",
       "      <td>6</td>\n",
       "      <td>91.8</td>\n",
       "      <td>14</td>\n",
       "      <td>94.3</td>\n",
       "      <td>17</td>\n",
       "      <td>96.4</td>\n",
       "    </tr>\n",
       "    <tr>\n",
       "      <th>4</th>\n",
       "      <td>5</td>\n",
       "      <td>=4</td>\n",
       "      <td>University of Tasmania</td>\n",
       "      <td>Australia</td>\n",
       "      <td>97.7</td>\n",
       "      <td>15</td>\n",
       "      <td>96.1</td>\n",
       "      <td>13</td>\n",
       "      <td>93.2</td>\n",
       "      <td>14</td>\n",
       "      <td>90.1</td>\n",
       "      <td>17</td>\n",
       "      <td>96.2</td>\n",
       "    </tr>\n",
       "  </tbody>\n",
       "</table>\n",
       "</div>"
      ],
      "text/plain": [
       "   ser rank                           university         country  \\\n",
       "0    1    1            Western Sydney University       Australia   \n",
       "1    2    2             University of Manchester  United Kingdom   \n",
       "2    3    3  Kyungpook National University (KNU)     South Korea   \n",
       "3    4   =4                  Griffith University       Australia   \n",
       "4    5   =4               University of Tasmania       Australia   \n",
       "\n",
       "  overall_score SDG1_no SDG1_value SDG2_no SDG2_value SDG3_no SDG3_value  \\\n",
       "0          98.7      15       95.1      12       92.6      11       92.2   \n",
       "1          98.4      11       95.3      15       95.9      12       93.5   \n",
       "2          97.8       8       92.0       9       99.5      15       91.6   \n",
       "3          97.7      15       95.6       6       91.8      14       94.3   \n",
       "4          97.7      15       96.1      13       93.2      14       90.1   \n",
       "\n",
       "  SDG4_no SDG4_value  \n",
       "0      17       98.1  \n",
       "1      17       94.5  \n",
       "2      17       96.8  \n",
       "3      17       96.4  \n",
       "4      17       96.2  "
      ]
     },
     "execution_count": 235,
     "metadata": {},
     "output_type": "execute_result"
    }
   ],
   "source": [
    "df1.head()"
   ]
  },
  {
   "cell_type": "code",
   "execution_count": 236,
   "id": "340f9938-6da0-46e9-8b24-a283f0115063",
   "metadata": {},
   "outputs": [],
   "source": [
    "# Step 2: Clean 'rank'\n",
    "def clean_rank(val):\n",
    "    if pd.isna(val): return np.nan\n",
    "    val = re.sub(r'[^\\d\\-–]', '', str(val))  # remove non-digit/range chars\n",
    "    if '-' in val or '–' in val:\n",
    "        parts = re.split(r'[-–]', val)\n",
    "        try:\n",
    "            return np.mean([int(p.strip()) for p in parts if p.strip().isdigit()])\n",
    "        except:\n",
    "            return np.nan\n",
    "    return int(val)\n",
    "\n",
    "df1['rank2'] = df1['rank'].apply(clean_rank)\n",
    "df1['rank2'] = df1['rank2'].fillna(-1).astype(int)\n",
    "# Step 3: Clean 'overall_score'\n",
    "def clean_score(val):\n",
    "    if pd.isna(val): return np.nan\n",
    "    val = str(val)\n",
    "    if '-' in val or '–' in val:\n",
    "        parts = re.split(r'[-–]', val)\n",
    "        try:\n",
    "            return np.mean([float(p.strip()) for p in parts])\n",
    "        except:\n",
    "            return np.nan\n",
    "    try:\n",
    "        return float(val)\n",
    "    except:\n",
    "        return np.nan\n",
    "\n",
    "df1['overall_score2'] = df1['overall_score'].apply(clean_score)"
   ]
  },
  {
   "cell_type": "code",
   "execution_count": 237,
   "id": "20149af5-41d9-4138-94a0-41e6811feac9",
   "metadata": {},
   "outputs": [
    {
     "data": {
      "text/html": [
       "<div>\n",
       "<style scoped>\n",
       "    .dataframe tbody tr th:only-of-type {\n",
       "        vertical-align: middle;\n",
       "    }\n",
       "\n",
       "    .dataframe tbody tr th {\n",
       "        vertical-align: top;\n",
       "    }\n",
       "\n",
       "    .dataframe thead th {\n",
       "        text-align: right;\n",
       "    }\n",
       "</style>\n",
       "<table border=\"1\" class=\"dataframe\">\n",
       "  <thead>\n",
       "    <tr style=\"text-align: right;\">\n",
       "      <th></th>\n",
       "      <th>ser</th>\n",
       "      <th>rank</th>\n",
       "      <th>university</th>\n",
       "      <th>country</th>\n",
       "      <th>overall_score</th>\n",
       "      <th>SDG1_no</th>\n",
       "      <th>SDG1_value</th>\n",
       "      <th>SDG2_no</th>\n",
       "      <th>SDG2_value</th>\n",
       "      <th>SDG3_no</th>\n",
       "      <th>SDG3_value</th>\n",
       "      <th>SDG4_no</th>\n",
       "      <th>SDG4_value</th>\n",
       "      <th>rank2</th>\n",
       "      <th>overall_score2</th>\n",
       "    </tr>\n",
       "  </thead>\n",
       "  <tbody>\n",
       "    <tr>\n",
       "      <th>0</th>\n",
       "      <td>1</td>\n",
       "      <td>1</td>\n",
       "      <td>Western Sydney University</td>\n",
       "      <td>Australia</td>\n",
       "      <td>98.7</td>\n",
       "      <td>15</td>\n",
       "      <td>95.1</td>\n",
       "      <td>12</td>\n",
       "      <td>92.6</td>\n",
       "      <td>11</td>\n",
       "      <td>92.2</td>\n",
       "      <td>17</td>\n",
       "      <td>98.1</td>\n",
       "      <td>1</td>\n",
       "      <td>98.7</td>\n",
       "    </tr>\n",
       "    <tr>\n",
       "      <th>1</th>\n",
       "      <td>2</td>\n",
       "      <td>2</td>\n",
       "      <td>University of Manchester</td>\n",
       "      <td>United Kingdom</td>\n",
       "      <td>98.4</td>\n",
       "      <td>11</td>\n",
       "      <td>95.3</td>\n",
       "      <td>15</td>\n",
       "      <td>95.9</td>\n",
       "      <td>12</td>\n",
       "      <td>93.5</td>\n",
       "      <td>17</td>\n",
       "      <td>94.5</td>\n",
       "      <td>2</td>\n",
       "      <td>98.4</td>\n",
       "    </tr>\n",
       "    <tr>\n",
       "      <th>2</th>\n",
       "      <td>3</td>\n",
       "      <td>3</td>\n",
       "      <td>Kyungpook National University (KNU)</td>\n",
       "      <td>South Korea</td>\n",
       "      <td>97.8</td>\n",
       "      <td>8</td>\n",
       "      <td>92.0</td>\n",
       "      <td>9</td>\n",
       "      <td>99.5</td>\n",
       "      <td>15</td>\n",
       "      <td>91.6</td>\n",
       "      <td>17</td>\n",
       "      <td>96.8</td>\n",
       "      <td>3</td>\n",
       "      <td>97.8</td>\n",
       "    </tr>\n",
       "    <tr>\n",
       "      <th>3</th>\n",
       "      <td>4</td>\n",
       "      <td>=4</td>\n",
       "      <td>Griffith University</td>\n",
       "      <td>Australia</td>\n",
       "      <td>97.7</td>\n",
       "      <td>15</td>\n",
       "      <td>95.6</td>\n",
       "      <td>6</td>\n",
       "      <td>91.8</td>\n",
       "      <td>14</td>\n",
       "      <td>94.3</td>\n",
       "      <td>17</td>\n",
       "      <td>96.4</td>\n",
       "      <td>4</td>\n",
       "      <td>97.7</td>\n",
       "    </tr>\n",
       "    <tr>\n",
       "      <th>4</th>\n",
       "      <td>5</td>\n",
       "      <td>=4</td>\n",
       "      <td>University of Tasmania</td>\n",
       "      <td>Australia</td>\n",
       "      <td>97.7</td>\n",
       "      <td>15</td>\n",
       "      <td>96.1</td>\n",
       "      <td>13</td>\n",
       "      <td>93.2</td>\n",
       "      <td>14</td>\n",
       "      <td>90.1</td>\n",
       "      <td>17</td>\n",
       "      <td>96.2</td>\n",
       "      <td>4</td>\n",
       "      <td>97.7</td>\n",
       "    </tr>\n",
       "  </tbody>\n",
       "</table>\n",
       "</div>"
      ],
      "text/plain": [
       "   ser rank                           university         country  \\\n",
       "0    1    1            Western Sydney University       Australia   \n",
       "1    2    2             University of Manchester  United Kingdom   \n",
       "2    3    3  Kyungpook National University (KNU)     South Korea   \n",
       "3    4   =4                  Griffith University       Australia   \n",
       "4    5   =4               University of Tasmania       Australia   \n",
       "\n",
       "  overall_score SDG1_no SDG1_value SDG2_no SDG2_value SDG3_no SDG3_value  \\\n",
       "0          98.7      15       95.1      12       92.6      11       92.2   \n",
       "1          98.4      11       95.3      15       95.9      12       93.5   \n",
       "2          97.8       8       92.0       9       99.5      15       91.6   \n",
       "3          97.7      15       95.6       6       91.8      14       94.3   \n",
       "4          97.7      15       96.1      13       93.2      14       90.1   \n",
       "\n",
       "  SDG4_no SDG4_value  rank2  overall_score2  \n",
       "0      17       98.1      1            98.7  \n",
       "1      17       94.5      2            98.4  \n",
       "2      17       96.8      3            97.8  \n",
       "3      17       96.4      4            97.7  \n",
       "4      17       96.2      4            97.7  "
      ]
     },
     "execution_count": 237,
     "metadata": {},
     "output_type": "execute_result"
    }
   ],
   "source": [
    "df1.head()"
   ]
  },
  {
   "cell_type": "code",
   "execution_count": 193,
   "id": "d6dcbe34-a338-417d-be78-0eb8cad4eb09",
   "metadata": {},
   "outputs": [],
   "source": [
    "#driver.refresh()\n",
    "#driver.quit()"
   ]
  },
  {
   "cell_type": "code",
   "execution_count": 238,
   "id": "8696da86-3925-45e1-9595-73c284ceb438",
   "metadata": {},
   "outputs": [
    {
     "data": {
      "text/html": [
       "<div>\n",
       "<style scoped>\n",
       "    .dataframe tbody tr th:only-of-type {\n",
       "        vertical-align: middle;\n",
       "    }\n",
       "\n",
       "    .dataframe tbody tr th {\n",
       "        vertical-align: top;\n",
       "    }\n",
       "\n",
       "    .dataframe thead th {\n",
       "        text-align: right;\n",
       "    }\n",
       "</style>\n",
       "<table border=\"1\" class=\"dataframe\">\n",
       "  <thead>\n",
       "    <tr style=\"text-align: right;\">\n",
       "      <th></th>\n",
       "      <th>ser</th>\n",
       "      <th>rank</th>\n",
       "      <th>rank2</th>\n",
       "      <th>university</th>\n",
       "      <th>country</th>\n",
       "      <th>overall_score</th>\n",
       "      <th>overall_score2</th>\n",
       "      <th>sdg_type</th>\n",
       "      <th>sdg_info</th>\n",
       "    </tr>\n",
       "  </thead>\n",
       "  <tbody>\n",
       "    <tr>\n",
       "      <th>0</th>\n",
       "      <td>1</td>\n",
       "      <td>1</td>\n",
       "      <td>1</td>\n",
       "      <td>Western Sydney University</td>\n",
       "      <td>Australia</td>\n",
       "      <td>98.7</td>\n",
       "      <td>98.7</td>\n",
       "      <td>SDG1_no</td>\n",
       "      <td>15</td>\n",
       "    </tr>\n",
       "    <tr>\n",
       "      <th>1</th>\n",
       "      <td>2</td>\n",
       "      <td>2</td>\n",
       "      <td>2</td>\n",
       "      <td>University of Manchester</td>\n",
       "      <td>United Kingdom</td>\n",
       "      <td>98.4</td>\n",
       "      <td>98.4</td>\n",
       "      <td>SDG1_no</td>\n",
       "      <td>11</td>\n",
       "    </tr>\n",
       "    <tr>\n",
       "      <th>2</th>\n",
       "      <td>3</td>\n",
       "      <td>3</td>\n",
       "      <td>3</td>\n",
       "      <td>Kyungpook National University (KNU)</td>\n",
       "      <td>South Korea</td>\n",
       "      <td>97.8</td>\n",
       "      <td>97.8</td>\n",
       "      <td>SDG1_no</td>\n",
       "      <td>8</td>\n",
       "    </tr>\n",
       "    <tr>\n",
       "      <th>3</th>\n",
       "      <td>4</td>\n",
       "      <td>=4</td>\n",
       "      <td>4</td>\n",
       "      <td>Griffith University</td>\n",
       "      <td>Australia</td>\n",
       "      <td>97.7</td>\n",
       "      <td>97.7</td>\n",
       "      <td>SDG1_no</td>\n",
       "      <td>15</td>\n",
       "    </tr>\n",
       "    <tr>\n",
       "      <th>4</th>\n",
       "      <td>5</td>\n",
       "      <td>=4</td>\n",
       "      <td>4</td>\n",
       "      <td>University of Tasmania</td>\n",
       "      <td>Australia</td>\n",
       "      <td>97.7</td>\n",
       "      <td>97.7</td>\n",
       "      <td>SDG1_no</td>\n",
       "      <td>15</td>\n",
       "    </tr>\n",
       "    <tr>\n",
       "      <th>...</th>\n",
       "      <td>...</td>\n",
       "      <td>...</td>\n",
       "      <td>...</td>\n",
       "      <td>...</td>\n",
       "      <td>...</td>\n",
       "      <td>...</td>\n",
       "      <td>...</td>\n",
       "      <td>...</td>\n",
       "      <td>...</td>\n",
       "    </tr>\n",
       "    <tr>\n",
       "      <th>17851</th>\n",
       "      <td>2228</td>\n",
       "      <td>1501+</td>\n",
       "      <td>1501</td>\n",
       "      <td>Zarqa University</td>\n",
       "      <td>Jordan</td>\n",
       "      <td>1.7–49.7</td>\n",
       "      <td>25.7</td>\n",
       "      <td>SDG4_value</td>\n",
       "      <td>63.3–69.9</td>\n",
       "    </tr>\n",
       "    <tr>\n",
       "      <th>17852</th>\n",
       "      <td>2229</td>\n",
       "      <td>1501+</td>\n",
       "      <td>1501</td>\n",
       "      <td>Zaytoonah International University</td>\n",
       "      <td>Syria</td>\n",
       "      <td>1.7–49.7</td>\n",
       "      <td>25.7</td>\n",
       "      <td>SDG4_value</td>\n",
       "      <td>2.1–44.7</td>\n",
       "    </tr>\n",
       "    <tr>\n",
       "      <th>17853</th>\n",
       "      <td>2230</td>\n",
       "      <td>1501+</td>\n",
       "      <td>1501</td>\n",
       "      <td>Zewail City of Science and Technology</td>\n",
       "      <td>Egypt</td>\n",
       "      <td>1.7–49.7</td>\n",
       "      <td>25.7</td>\n",
       "      <td>SDG4_value</td>\n",
       "      <td>44.8–58.0</td>\n",
       "    </tr>\n",
       "    <tr>\n",
       "      <th>17854</th>\n",
       "      <td>2231</td>\n",
       "      <td>1501+</td>\n",
       "      <td>1501</td>\n",
       "      <td>Zhytomyr Ivan Franko State University</td>\n",
       "      <td>Ukraine</td>\n",
       "      <td>1.7–49.7</td>\n",
       "      <td>25.7</td>\n",
       "      <td>SDG4_value</td>\n",
       "      <td>2.1–44.7</td>\n",
       "    </tr>\n",
       "    <tr>\n",
       "      <th>17855</th>\n",
       "      <td>2232</td>\n",
       "      <td>1501+</td>\n",
       "      <td>1501</td>\n",
       "      <td>Ziane Achour University of Djelfa</td>\n",
       "      <td>Algeria</td>\n",
       "      <td>1.7–49.7</td>\n",
       "      <td>25.7</td>\n",
       "      <td>SDG4_value</td>\n",
       "      <td>2.1–44.7</td>\n",
       "    </tr>\n",
       "  </tbody>\n",
       "</table>\n",
       "<p>17856 rows × 9 columns</p>\n",
       "</div>"
      ],
      "text/plain": [
       "        ser   rank  rank2                             university  \\\n",
       "0         1      1      1              Western Sydney University   \n",
       "1         2      2      2               University of Manchester   \n",
       "2         3      3      3    Kyungpook National University (KNU)   \n",
       "3         4     =4      4                    Griffith University   \n",
       "4         5     =4      4                 University of Tasmania   \n",
       "...     ...    ...    ...                                    ...   \n",
       "17851  2228  1501+   1501                       Zarqa University   \n",
       "17852  2229  1501+   1501     Zaytoonah International University   \n",
       "17853  2230  1501+   1501  Zewail City of Science and Technology   \n",
       "17854  2231  1501+   1501  Zhytomyr Ivan Franko State University   \n",
       "17855  2232  1501+   1501      Ziane Achour University of Djelfa   \n",
       "\n",
       "              country overall_score  overall_score2    sdg_type   sdg_info  \n",
       "0           Australia          98.7            98.7     SDG1_no         15  \n",
       "1      United Kingdom          98.4            98.4     SDG1_no         11  \n",
       "2         South Korea          97.8            97.8     SDG1_no          8  \n",
       "3           Australia          97.7            97.7     SDG1_no         15  \n",
       "4           Australia          97.7            97.7     SDG1_no         15  \n",
       "...               ...           ...             ...         ...        ...  \n",
       "17851          Jordan      1.7–49.7            25.7  SDG4_value  63.3–69.9  \n",
       "17852           Syria      1.7–49.7            25.7  SDG4_value   2.1–44.7  \n",
       "17853           Egypt      1.7–49.7            25.7  SDG4_value  44.8–58.0  \n",
       "17854         Ukraine      1.7–49.7            25.7  SDG4_value   2.1–44.7  \n",
       "17855         Algeria      1.7–49.7            25.7  SDG4_value   2.1–44.7  \n",
       "\n",
       "[17856 rows x 9 columns]"
      ]
     },
     "execution_count": 238,
     "metadata": {},
     "output_type": "execute_result"
    }
   ],
   "source": [
    "# Step 1: Identify the columns to melt\n",
    "id_vars = ['ser','rank','rank2', 'university', 'country', 'overall_score','overall_score2']\n",
    "value_vars = [col for col in df1.columns if col.startswith('SDG')]\n",
    "# Step 2: Melt the dataframe to long format\n",
    "df_melted = df1.melt(id_vars=id_vars, value_vars=value_vars, var_name='sdg_type', value_name='sdg_info')\n",
    "df_melted"
   ]
  },
  {
   "cell_type": "code",
   "execution_count": 239,
   "id": "b727bcc6-39b1-4af0-9fdf-c7ff67e17081",
   "metadata": {},
   "outputs": [
    {
     "data": {
      "text/html": [
       "<div>\n",
       "<style scoped>\n",
       "    .dataframe tbody tr th:only-of-type {\n",
       "        vertical-align: middle;\n",
       "    }\n",
       "\n",
       "    .dataframe tbody tr th {\n",
       "        vertical-align: top;\n",
       "    }\n",
       "\n",
       "    .dataframe thead th {\n",
       "        text-align: right;\n",
       "    }\n",
       "</style>\n",
       "<table border=\"1\" class=\"dataframe\">\n",
       "  <thead>\n",
       "    <tr style=\"text-align: right;\">\n",
       "      <th>sdg_field</th>\n",
       "      <th>ser</th>\n",
       "      <th>rank</th>\n",
       "      <th>rank2</th>\n",
       "      <th>university</th>\n",
       "      <th>country</th>\n",
       "      <th>overall_score</th>\n",
       "      <th>overall_score2</th>\n",
       "      <th>sdg_group</th>\n",
       "      <th>SDG_no</th>\n",
       "      <th>SDG_value</th>\n",
       "    </tr>\n",
       "  </thead>\n",
       "  <tbody>\n",
       "    <tr>\n",
       "      <th>2</th>\n",
       "      <td>1</td>\n",
       "      <td>1</td>\n",
       "      <td>1</td>\n",
       "      <td>Western Sydney University</td>\n",
       "      <td>Australia</td>\n",
       "      <td>98.7</td>\n",
       "      <td>98.7</td>\n",
       "      <td>3</td>\n",
       "      <td>11</td>\n",
       "      <td>92.2</td>\n",
       "    </tr>\n",
       "    <tr>\n",
       "      <th>1</th>\n",
       "      <td>1</td>\n",
       "      <td>1</td>\n",
       "      <td>1</td>\n",
       "      <td>Western Sydney University</td>\n",
       "      <td>Australia</td>\n",
       "      <td>98.7</td>\n",
       "      <td>98.7</td>\n",
       "      <td>2</td>\n",
       "      <td>12</td>\n",
       "      <td>92.6</td>\n",
       "    </tr>\n",
       "    <tr>\n",
       "      <th>0</th>\n",
       "      <td>1</td>\n",
       "      <td>1</td>\n",
       "      <td>1</td>\n",
       "      <td>Western Sydney University</td>\n",
       "      <td>Australia</td>\n",
       "      <td>98.7</td>\n",
       "      <td>98.7</td>\n",
       "      <td>1</td>\n",
       "      <td>15</td>\n",
       "      <td>95.1</td>\n",
       "    </tr>\n",
       "    <tr>\n",
       "      <th>3</th>\n",
       "      <td>1</td>\n",
       "      <td>1</td>\n",
       "      <td>1</td>\n",
       "      <td>Western Sydney University</td>\n",
       "      <td>Australia</td>\n",
       "      <td>98.7</td>\n",
       "      <td>98.7</td>\n",
       "      <td>4</td>\n",
       "      <td>17</td>\n",
       "      <td>98.1</td>\n",
       "    </tr>\n",
       "    <tr>\n",
       "      <th>3949</th>\n",
       "      <td>988</td>\n",
       "      <td>1001–1500</td>\n",
       "      <td>1250</td>\n",
       "      <td>Al-Ayen University</td>\n",
       "      <td>Iraq</td>\n",
       "      <td>49.8–60.8</td>\n",
       "      <td>55.3</td>\n",
       "      <td>2</td>\n",
       "      <td>1</td>\n",
       "      <td>57.6–62.4</td>\n",
       "    </tr>\n",
       "  </tbody>\n",
       "</table>\n",
       "</div>"
      ],
      "text/plain": [
       "sdg_field  ser       rank  rank2                 university    country  \\\n",
       "2            1          1      1  Western Sydney University  Australia   \n",
       "1            1          1      1  Western Sydney University  Australia   \n",
       "0            1          1      1  Western Sydney University  Australia   \n",
       "3            1          1      1  Western Sydney University  Australia   \n",
       "3949       988  1001–1500   1250         Al-Ayen University       Iraq   \n",
       "\n",
       "sdg_field overall_score  overall_score2 sdg_group SDG_no  SDG_value  \n",
       "2                  98.7            98.7         3     11       92.2  \n",
       "1                  98.7            98.7         2     12       92.6  \n",
       "0                  98.7            98.7         1     15       95.1  \n",
       "3                  98.7            98.7         4     17       98.1  \n",
       "3949          49.8–60.8            55.3         2      1  57.6–62.4  "
      ]
     },
     "execution_count": 239,
     "metadata": {},
     "output_type": "execute_result"
    }
   ],
   "source": [
    "# Step 3: Create group key for each SDG set\n",
    "df_melted['sdg_group'] = df_melted['sdg_type'].str.extract(r'(\\d+)')  # Extract the number from column name\n",
    "df_melted['sdg_field'] = df_melted['sdg_type'].str.extract(r'(no|value)')  # no or value\n",
    "\n",
    "# Step 4: Pivot back to one row per SDG with separate columns for no and value\n",
    "df_final = df_melted.pivot_table(index=id_vars + ['sdg_group'], \n",
    "                                 columns='sdg_field', \n",
    "                                 values='sdg_info',\n",
    "                                 aggfunc='first').reset_index()\n",
    "\n",
    "# Step 5: Rename columns for clarity\n",
    "df_final = df_final.rename(columns={'no': 'SDG_no', 'value': 'SDG_value'})\n",
    "\n",
    "# Optional: Sort if needed\n",
    "df_final = df_final.sort_values(['rank', 'SDG_no'])\n",
    "\n",
    "# Preview the result\n",
    "df_final.head()"
   ]
  },
  {
   "cell_type": "code",
   "execution_count": 241,
   "id": "cecd07a3-e470-41a5-9972-dcdf90b29e38",
   "metadata": {},
   "outputs": [],
   "source": [
    "# Step 3: Clean 'overall_score'\n",
    "def clean_score(val):\n",
    "    if pd.isna(val): return np.nan\n",
    "    val = str(val)\n",
    "    if '-' in val or '–' in val:\n",
    "        parts = re.split(r'[-–]', val)\n",
    "        try:\n",
    "            return np.mean([float(p.strip()) for p in parts])\n",
    "        except:\n",
    "            return np.nan\n",
    "    try:\n",
    "        return float(val)\n",
    "    except:\n",
    "        return np.nan\n",
    "\n",
    "df_final['SDG_value2'] = df_final['SDG_value'].apply(clean_score)"
   ]
  },
  {
   "cell_type": "code",
   "execution_count": 124,
   "id": "8d70df22-95bf-4aad-9847-4f0bc7526d2a",
   "metadata": {},
   "outputs": [
    {
     "ename": "NameError",
     "evalue": "name 'df_final' is not defined",
     "output_type": "error",
     "traceback": [
      "\u001b[0;31m---------------------------------------------------------------------------\u001b[0m",
      "\u001b[0;31mNameError\u001b[0m                                 Traceback (most recent call last)",
      "Cell \u001b[0;32mIn[124], line 1\u001b[0m\n\u001b[0;32m----> 1\u001b[0m df_final\u001b[38;5;241m.\u001b[39mhead()\n",
      "\u001b[0;31mNameError\u001b[0m: name 'df_final' is not defined"
     ]
    }
   ],
   "source": [
    "df_final.head()"
   ]
  },
  {
   "cell_type": "code",
   "execution_count": 243,
   "id": "f710e8a1-23e2-4848-9150-6ae53ba1ae11",
   "metadata": {},
   "outputs": [],
   "source": [
    "df_final.to_csv(\"/Users/du/dup/auData/ranking/the/theimpact25b.csv\", index=False)"
   ]
  },
  {
   "cell_type": "code",
   "execution_count": 245,
   "id": "fc027277-98df-4dce-8298-677277de3492",
   "metadata": {},
   "outputs": [
    {
     "data": {
      "text/html": [
       "<div>\n",
       "<style scoped>\n",
       "    .dataframe tbody tr th:only-of-type {\n",
       "        vertical-align: middle;\n",
       "    }\n",
       "\n",
       "    .dataframe tbody tr th {\n",
       "        vertical-align: top;\n",
       "    }\n",
       "\n",
       "    .dataframe thead th {\n",
       "        text-align: right;\n",
       "    }\n",
       "</style>\n",
       "<table border=\"1\" class=\"dataframe\">\n",
       "  <thead>\n",
       "    <tr style=\"text-align: right;\">\n",
       "      <th>sdg_field</th>\n",
       "      <th>ser</th>\n",
       "      <th>rank2</th>\n",
       "      <th>university</th>\n",
       "      <th>country</th>\n",
       "      <th>overall_score2</th>\n",
       "      <th>SDG_no</th>\n",
       "      <th>SDG_value2</th>\n",
       "    </tr>\n",
       "  </thead>\n",
       "  <tbody>\n",
       "    <tr>\n",
       "      <th>2</th>\n",
       "      <td>1</td>\n",
       "      <td>1</td>\n",
       "      <td>Western Sydney University</td>\n",
       "      <td>Australia</td>\n",
       "      <td>98.7</td>\n",
       "      <td>11</td>\n",
       "      <td>92.20</td>\n",
       "    </tr>\n",
       "    <tr>\n",
       "      <th>1</th>\n",
       "      <td>1</td>\n",
       "      <td>1</td>\n",
       "      <td>Western Sydney University</td>\n",
       "      <td>Australia</td>\n",
       "      <td>98.7</td>\n",
       "      <td>12</td>\n",
       "      <td>92.60</td>\n",
       "    </tr>\n",
       "    <tr>\n",
       "      <th>0</th>\n",
       "      <td>1</td>\n",
       "      <td>1</td>\n",
       "      <td>Western Sydney University</td>\n",
       "      <td>Australia</td>\n",
       "      <td>98.7</td>\n",
       "      <td>15</td>\n",
       "      <td>95.10</td>\n",
       "    </tr>\n",
       "    <tr>\n",
       "      <th>3</th>\n",
       "      <td>1</td>\n",
       "      <td>1</td>\n",
       "      <td>Western Sydney University</td>\n",
       "      <td>Australia</td>\n",
       "      <td>98.7</td>\n",
       "      <td>17</td>\n",
       "      <td>98.10</td>\n",
       "    </tr>\n",
       "    <tr>\n",
       "      <th>3949</th>\n",
       "      <td>988</td>\n",
       "      <td>1250</td>\n",
       "      <td>Al-Ayen University</td>\n",
       "      <td>Iraq</td>\n",
       "      <td>55.3</td>\n",
       "      <td>1</td>\n",
       "      <td>60.00</td>\n",
       "    </tr>\n",
       "    <tr>\n",
       "      <th>3954</th>\n",
       "      <td>989</td>\n",
       "      <td>1250</td>\n",
       "      <td>Al-Azhar University</td>\n",
       "      <td>Egypt</td>\n",
       "      <td>55.3</td>\n",
       "      <td>1</td>\n",
       "      <td>49.35</td>\n",
       "    </tr>\n",
       "    <tr>\n",
       "      <th>3985</th>\n",
       "      <td>997</td>\n",
       "      <td>1250</td>\n",
       "      <td>Al-Nahrain University</td>\n",
       "      <td>Iraq</td>\n",
       "      <td>55.3</td>\n",
       "      <td>1</td>\n",
       "      <td>55.20</td>\n",
       "    </tr>\n",
       "    <tr>\n",
       "      <th>3998</th>\n",
       "      <td>1000</td>\n",
       "      <td>1250</td>\n",
       "      <td>Al Turath University</td>\n",
       "      <td>Iraq</td>\n",
       "      <td>55.3</td>\n",
       "      <td>1</td>\n",
       "      <td>42.60</td>\n",
       "    </tr>\n",
       "    <tr>\n",
       "      <th>4000</th>\n",
       "      <td>1001</td>\n",
       "      <td>1250</td>\n",
       "      <td>American University of Nigeria</td>\n",
       "      <td>Nigeria</td>\n",
       "      <td>55.3</td>\n",
       "      <td>1</td>\n",
       "      <td>60.00</td>\n",
       "    </tr>\n",
       "    <tr>\n",
       "      <th>4030</th>\n",
       "      <td>1008</td>\n",
       "      <td>1250</td>\n",
       "      <td>Antonio Nariño University</td>\n",
       "      <td>Colombia</td>\n",
       "      <td>55.3</td>\n",
       "      <td>1</td>\n",
       "      <td>42.60</td>\n",
       "    </tr>\n",
       "  </tbody>\n",
       "</table>\n",
       "</div>"
      ],
      "text/plain": [
       "sdg_field   ser  rank2                      university    country  \\\n",
       "2             1      1       Western Sydney University  Australia   \n",
       "1             1      1       Western Sydney University  Australia   \n",
       "0             1      1       Western Sydney University  Australia   \n",
       "3             1      1       Western Sydney University  Australia   \n",
       "3949        988   1250              Al-Ayen University       Iraq   \n",
       "3954        989   1250             Al-Azhar University      Egypt   \n",
       "3985        997   1250           Al-Nahrain University       Iraq   \n",
       "3998       1000   1250            Al Turath University       Iraq   \n",
       "4000       1001   1250  American University of Nigeria    Nigeria   \n",
       "4030       1008   1250       Antonio Nariño University   Colombia   \n",
       "\n",
       "sdg_field  overall_score2 SDG_no  SDG_value2  \n",
       "2                    98.7     11       92.20  \n",
       "1                    98.7     12       92.60  \n",
       "0                    98.7     15       95.10  \n",
       "3                    98.7     17       98.10  \n",
       "3949                 55.3      1       60.00  \n",
       "3954                 55.3      1       49.35  \n",
       "3985                 55.3      1       55.20  \n",
       "3998                 55.3      1       42.60  \n",
       "4000                 55.3      1       60.00  \n",
       "4030                 55.3      1       42.60  "
      ]
     },
     "execution_count": 245,
     "metadata": {},
     "output_type": "execute_result"
    }
   ],
   "source": [
    "df_final[['ser','rank2','university', 'country','overall_score2', 'SDG_no','SDG_value2']].head(10)"
   ]
  },
  {
   "cell_type": "markdown",
   "id": "18dde9a0-f79a-4d00-b467-c5b55fba340e",
   "metadata": {},
   "source": [
    "## SDG Wise"
   ]
  },
  {
   "cell_type": "code",
   "execution_count": 94,
   "id": "5e196a76-d5f9-4df1-92b1-f172a8374d3e",
   "metadata": {},
   "outputs": [
    {
     "data": {
      "text/plain": [
       "'https://www.timeshighereducation.com/impactrankings'"
      ]
     },
     "execution_count": 94,
     "metadata": {},
     "output_type": "execute_result"
    }
   ],
   "source": [
    "# SDG Goals Wise\n",
    "sdglist = ['https://www.timeshighereducation.com/impactrankings','https://www.timeshighereducation.com/impactrankings/no-poverty', 'https://www.timeshighereducation.com/impactrankings/zero-hunger', 'https://www.timeshighereducation.com/impactrankings/good-health-and-well-being',\n",
    "'https://www.timeshighereducation.com/impactrankings/quality-education', 'https://www.timeshighereducation.com/impactrankings/gender-equality', 'https://www.timeshighereducation.com/impactrankings/clean-water-and-sanitation', \n",
    " 'https://www.timeshighereducation.com/impactrankings/affordable-and-clean-energy', 'https://www.timeshighereducation.com/impactrankings/decent-work-and-economic-growth', 'https://www.timeshighereducation.com/impactrankings/industry-innovation-and-infrastructure', 'https://www.timeshighereducation.com/impactrankings/reducing-inequalities'\n",
    ", 'https://www.timeshighereducation.com/impactrankings/sustainable-cities-and-communities', 'https://www.timeshighereducation.com/impactrankings/responsible-consumption-and-production', 'https://www.timeshighereducation.com/impactrankings/climate-action', \n",
    " 'https://www.timeshighereducation.com/impactrankings/life-below-water', 'https://www.timeshighereducation.com/impactrankings/life-land', 'https://www.timeshighereducation.com/impactrankings/peace-justice-and-strong-institutions'\n",
    ", 'https://www.timeshighereducation.com/impactrankings/partnerships-goals']\n",
    "sdglist[0]"
   ]
  },
  {
   "cell_type": "markdown",
   "id": "d0aa5d81-2507-4113-b533-eeacc7ed886b",
   "metadata": {},
   "source": [
    "### structure\n",
    "- Rank : Name : No poverty : Overall\n",
    "<table id='datatable-1'>\n",
    "    <thead>\n",
    "        <tr>\n",
    "            <th class='rank sroting_asc'>Rank </th>\n",
    "            <th class='name namesearch sorting'>Name </th>\n",
    "            <th class='sdg-scores sorting'>No Poverty</th>\n",
    "            <th class='scores overall-score sorting'>Overall</th>\n",
    "        </tr>\n",
    "    </thead>\n",
    "    <tbody>\n",
    "        <tr>\n",
    "            <td class='rank sorting_1 sorting_2'>1</td>\n",
    "            <td class=' name namesearch'>\n",
    "                <a class='ranking-institution-title' href='/world-university-rankings/universiti-sains-malaysia'>Universiti Sains Malaysia</a>\n",
    "                <div class='location'> <span> <a href='/location/a4zw000000GNwUAAS'>Malaysia</a></span> </div> </td>\n",
    "            <td class=' sdg-scores'>\n",
    "                <div class='sdg-score'>94.3</div></td>\n",
    "            <td class=' scores overall-score'>95.6</td>\n",
    "        </tr>\n",
    "    </tbody>\n",
    "</table>"
   ]
  },
  {
   "cell_type": "code",
   "execution_count": 88,
   "id": "cb00993b-7a70-4cab-b705-a99443163d66",
   "metadata": {},
   "outputs": [
    {
     "name": "stdout",
     "output_type": "stream",
     "text": [
      "University Impact Rankings for UN SDG 1: no poverty | Times Higher Education (THE)\n"
     ]
    }
   ],
   "source": [
    "#start driver\n",
    "cService = webdriver.ChromeService(executable_path=cp2)\n",
    "driver = webdriver.Chrome(service = cService)\n",
    "driver.get(sdglist[0])\n",
    "wait = WebDriverWait(driver, 3)\n",
    "print(driver.title)"
   ]
  },
  {
   "cell_type": "code",
   "execution_count": 89,
   "id": "ab6ac793-be06-4f42-80f2-15ec5c773f91",
   "metadata": {},
   "outputs": [],
   "source": [
    "# Maximize window and wait for page to load\n",
    "#driver.get(sdglist[0])\n",
    "driver.maximize_window()\n",
    "time.sleep(3)  \n",
    "driver.find_element(By.ID,'CybotCookiebotDialogBodyButtonDecline').click()"
   ]
  },
  {
   "cell_type": "code",
   "execution_count": 90,
   "id": "07dec2c8-0d6a-4365-8df5-c871a09d892a",
   "metadata": {},
   "outputs": [
    {
     "data": {
      "text/plain": [
       "<selenium.webdriver.remote.webelement.WebElement (session=\"1f616297e6e6e8b1893ff7b2559efec4\", element=\"f.8B7151914B16B26B234911E8C4424F04.d.601D2A6F6AF8538322EC5C67986526D1.e.1593\")>"
      ]
     },
     "execution_count": 90,
     "metadata": {},
     "output_type": "execute_result"
    }
   ],
   "source": [
    "#check if table element exists\n",
    "table = driver.find_element(By.ID,'datatable-1')\n",
    "table"
   ]
  },
  {
   "cell_type": "code",
   "execution_count": 44,
   "id": "8f981797-6f5c-4f36-a578-4dedc827be4a",
   "metadata": {},
   "outputs": [
    {
     "name": "stdout",
     "output_type": "stream",
     "text": [
      "['Rank', 'Name', 'No poverty', 'Overall']\n"
     ]
    }
   ],
   "source": [
    "# Locate the table header row\n",
    "header_elements = driver.find_elements(By.CSS_SELECTOR, '#datatable-1 thead th')\n",
    "# Extract and print header text\n",
    "headers = [header.text.strip() for header in header_elements]\n",
    "print(headers)"
   ]
  },
  {
   "cell_type": "code",
   "execution_count": 55,
   "id": "6f0b6f56-4b6a-4601-9ca8-9818653261a9",
   "metadata": {},
   "outputs": [
    {
     "data": {
      "text/plain": [
       "[<selenium.webdriver.remote.webelement.WebElement (session=\"5f5c4f5fc1927330a899ec337f20c3c1\", element=\"f.55D63FD87B1AF39AAD83F624D366A63A.d.F6DCB01AF49B3BFCCF8AA6FC55E2573D.e.1778\")>,\n",
       " <selenium.webdriver.remote.webelement.WebElement (session=\"5f5c4f5fc1927330a899ec337f20c3c1\", element=\"f.55D63FD87B1AF39AAD83F624D366A63A.d.F6DCB01AF49B3BFCCF8AA6FC55E2573D.e.1779\")>,\n",
       " <selenium.webdriver.remote.webelement.WebElement (session=\"5f5c4f5fc1927330a899ec337f20c3c1\", element=\"f.55D63FD87B1AF39AAD83F624D366A63A.d.F6DCB01AF49B3BFCCF8AA6FC55E2573D.e.1780\")>,\n",
       " <selenium.webdriver.remote.webelement.WebElement (session=\"5f5c4f5fc1927330a899ec337f20c3c1\", element=\"f.55D63FD87B1AF39AAD83F624D366A63A.d.F6DCB01AF49B3BFCCF8AA6FC55E2573D.e.1781\")>,\n",
       " <selenium.webdriver.remote.webelement.WebElement (session=\"5f5c4f5fc1927330a899ec337f20c3c1\", element=\"f.55D63FD87B1AF39AAD83F624D366A63A.d.F6DCB01AF49B3BFCCF8AA6FC55E2573D.e.1782\")>]"
      ]
     },
     "execution_count": 55,
     "metadata": {},
     "output_type": "execute_result"
    }
   ],
   "source": [
    "# Step 1: Find all rows inside tbody\n",
    "rows = driver.find_elements(By.CSS_SELECTOR, \"table#datatable-1 tbody tr\")\n",
    "rows[0:5] #if 5 elements are shown"
   ]
  },
  {
   "cell_type": "code",
   "execution_count": 56,
   "id": "3144a7b7-34e5-455a-8a1f-2a23eb1f9631",
   "metadata": {},
   "outputs": [
    {
     "data": {
      "text/plain": [
       "25"
      ]
     },
     "execution_count": 56,
     "metadata": {},
     "output_type": "execute_result"
    }
   ],
   "source": [
    "rows2 = driver.find_elements(By.XPATH, \"//tr[contains(@class, 'js-row') and not(contains(@class, 'institution-disabled'))]\")\n",
    "len(rows2)"
   ]
  },
  {
   "cell_type": "code",
   "execution_count": 61,
   "id": "5fc6d836-dd27-41ab-94b0-b370c9e66e7a",
   "metadata": {},
   "outputs": [
    {
     "data": {
      "text/plain": [
       "'https://www.timeshighereducation.com/impactrankings/no-poverty#!/length/-1/sort_by/rank/sort_order/asc'"
      ]
     },
     "execution_count": 61,
     "metadata": {},
     "output_type": "execute_result"
    }
   ],
   "source": [
    "part2 =\"#!/length/-1/sort_by/rank/sort_order/asc\"\n"
   ]
  },
  {
   "cell_type": "markdown",
   "id": "be5f8ca8-368c-43da-9e59-90bd075984e8",
   "metadata": {},
   "source": [
    "### SDG00 Overall"
   ]
  },
  {
   "cell_type": "code",
   "execution_count": 135,
   "id": "462c72ca-2f18-4b8f-b486-c665262cc8a9",
   "metadata": {},
   "outputs": [
    {
     "data": {
      "text/plain": [
       "2232"
      ]
     },
     "execution_count": 135,
     "metadata": {},
     "output_type": "execute_result"
    }
   ],
   "source": [
    "sdg00 = sdglist[0] + part2\n",
    "sdg00\n",
    "driver.get(sdg00)\n",
    "rows2 = driver.find_elements(By.XPATH, \"//tr[contains(@class, 'js-row') and not(contains(@class, 'institution-disabled'))]\")\n",
    "len(rows2) #2232"
   ]
  },
  {
   "cell_type": "code",
   "execution_count": 137,
   "id": "111a5128-94af-4fed-a71b-a7b70a28c0d4",
   "metadata": {},
   "outputs": [
    {
     "ename": "InvalidSessionIdException",
     "evalue": "Message: invalid session id: session deleted as the browser has closed the connection\nfrom disconnected: Unable to receive message from renderer\n  (Session info: chrome=137.0.7151.120)\nStacktrace:\n0   chromedriver                        0x0000000104d5a654 cxxbridge1$str$ptr + 2723108\n1   chromedriver                        0x0000000104d528c8 cxxbridge1$str$ptr + 2690968\n2   chromedriver                        0x00000001048a6714 cxxbridge1$string$len + 90428\n3   chromedriver                        0x0000000104891604 cxxbridge1$string$len + 4140\n4   chromedriver                        0x000000010489137c cxxbridge1$string$len + 3492\n5   chromedriver                        0x000000010488f134 chromedriver + 192820\n6   chromedriver                        0x000000010488fcc4 chromedriver + 195780\n7   chromedriver                        0x00000001048abf78 cxxbridge1$string$len + 113056\n8   chromedriver                        0x00000001048ae710 cxxbridge1$string$len + 123192\n9   chromedriver                        0x00000001048ae7b8 cxxbridge1$string$len + 123360\n10  chromedriver                        0x00000001048ed390 cxxbridge1$string$len + 380344\n11  chromedriver                        0x00000001048e2f94 cxxbridge1$string$len + 338364\n12  chromedriver                        0x000000010492ede8 cxxbridge1$string$len + 649232\n13  chromedriver                        0x00000001048e19c8 cxxbridge1$string$len + 332784\n14  chromedriver                        0x0000000104d1e278 cxxbridge1$str$ptr + 2476360\n15  chromedriver                        0x0000000104d2150c cxxbridge1$str$ptr + 2489308\n16  chromedriver                        0x0000000104cffa64 cxxbridge1$str$ptr + 2351412\n17  chromedriver                        0x0000000104d21d94 cxxbridge1$str$ptr + 2491492\n18  chromedriver                        0x0000000104cf0d58 cxxbridge1$str$ptr + 2290728\n19  chromedriver                        0x0000000104d41d60 cxxbridge1$str$ptr + 2622512\n20  chromedriver                        0x0000000104d41eec cxxbridge1$str$ptr + 2622908\n21  chromedriver                        0x0000000104d52514 cxxbridge1$str$ptr + 2690020\n22  libsystem_pthread.dylib             0x000000018da56c0c _pthread_start + 136\n23  libsystem_pthread.dylib             0x000000018da51b80 thread_start + 8\n",
     "output_type": "error",
     "traceback": [
      "\u001b[0;31m---------------------------------------------------------------------------\u001b[0m",
      "\u001b[0;31mInvalidSessionIdException\u001b[0m                 Traceback (most recent call last)",
      "Cell \u001b[0;32mIn[137], line 5\u001b[0m\n\u001b[1;32m      3\u001b[0m \u001b[38;5;28;01mfor\u001b[39;00m row \u001b[38;5;129;01min\u001b[39;00m rows2:\n\u001b[1;32m      4\u001b[0m     i \u001b[38;5;241m=\u001b[39m i \u001b[38;5;241m+\u001b[39m \u001b[38;5;241m1\u001b[39m\n\u001b[0;32m----> 5\u001b[0m     rank \u001b[38;5;241m=\u001b[39m row\u001b[38;5;241m.\u001b[39mfind_element(By\u001b[38;5;241m.\u001b[39mCSS_SELECTOR, \u001b[38;5;124m\"\u001b[39m\u001b[38;5;124mtd.rank.sorting_1.sorting_2\u001b[39m\u001b[38;5;124m\"\u001b[39m)\u001b[38;5;241m.\u001b[39mtext\u001b[38;5;241m.\u001b[39mstrip()\n\u001b[1;32m      6\u001b[0m     name \u001b[38;5;241m=\u001b[39m row\u001b[38;5;241m.\u001b[39mfind_element(By\u001b[38;5;241m.\u001b[39mCSS_SELECTOR, \u001b[38;5;124m\"\u001b[39m\u001b[38;5;124mtd.name a.ranking-institution-title\u001b[39m\u001b[38;5;124m\"\u001b[39m)\u001b[38;5;241m.\u001b[39mtext\u001b[38;5;241m.\u001b[39mstrip()\n\u001b[1;32m      7\u001b[0m     country \u001b[38;5;241m=\u001b[39m row\u001b[38;5;241m.\u001b[39mfind_element(By\u001b[38;5;241m.\u001b[39mCSS_SELECTOR, \u001b[38;5;124m\"\u001b[39m\u001b[38;5;124mtd.name .location span a\u001b[39m\u001b[38;5;124m\"\u001b[39m)\u001b[38;5;241m.\u001b[39mtext\u001b[38;5;241m.\u001b[39mstrip()\n",
      "File \u001b[0;32m~/anaconda3/lib/python3.12/site-packages/selenium/webdriver/remote/webelement.py:601\u001b[0m, in \u001b[0;36mWebElement.find_element\u001b[0;34m(self, by, value)\u001b[0m\n\u001b[1;32m    575\u001b[0m \u001b[38;5;250m\u001b[39m\u001b[38;5;124;03m\"\"\"Find an element given a By strategy and locator.\u001b[39;00m\n\u001b[1;32m    576\u001b[0m \n\u001b[1;32m    577\u001b[0m \u001b[38;5;124;03mParameters:\u001b[39;00m\n\u001b[0;32m   (...)\u001b[0m\n\u001b[1;32m    598\u001b[0m \u001b[38;5;124;03m    The first matching `WebElement` found on the page.\u001b[39;00m\n\u001b[1;32m    599\u001b[0m \u001b[38;5;124;03m\"\"\"\u001b[39;00m\n\u001b[1;32m    600\u001b[0m by, value \u001b[38;5;241m=\u001b[39m \u001b[38;5;28mself\u001b[39m\u001b[38;5;241m.\u001b[39m_parent\u001b[38;5;241m.\u001b[39mlocator_converter\u001b[38;5;241m.\u001b[39mconvert(by, value)\n\u001b[0;32m--> 601\u001b[0m \u001b[38;5;28;01mreturn\u001b[39;00m \u001b[38;5;28mself\u001b[39m\u001b[38;5;241m.\u001b[39m_execute(Command\u001b[38;5;241m.\u001b[39mFIND_CHILD_ELEMENT, {\u001b[38;5;124m\"\u001b[39m\u001b[38;5;124musing\u001b[39m\u001b[38;5;124m\"\u001b[39m: by, \u001b[38;5;124m\"\u001b[39m\u001b[38;5;124mvalue\u001b[39m\u001b[38;5;124m\"\u001b[39m: value})[\u001b[38;5;124m\"\u001b[39m\u001b[38;5;124mvalue\u001b[39m\u001b[38;5;124m\"\u001b[39m]\n",
      "File \u001b[0;32m~/anaconda3/lib/python3.12/site-packages/selenium/webdriver/remote/webelement.py:572\u001b[0m, in \u001b[0;36mWebElement._execute\u001b[0;34m(self, command, params)\u001b[0m\n\u001b[1;32m    570\u001b[0m     params \u001b[38;5;241m=\u001b[39m {}\n\u001b[1;32m    571\u001b[0m params[\u001b[38;5;124m\"\u001b[39m\u001b[38;5;124mid\u001b[39m\u001b[38;5;124m\"\u001b[39m] \u001b[38;5;241m=\u001b[39m \u001b[38;5;28mself\u001b[39m\u001b[38;5;241m.\u001b[39m_id\n\u001b[0;32m--> 572\u001b[0m \u001b[38;5;28;01mreturn\u001b[39;00m \u001b[38;5;28mself\u001b[39m\u001b[38;5;241m.\u001b[39m_parent\u001b[38;5;241m.\u001b[39mexecute(command, params)\n",
      "File \u001b[0;32m~/anaconda3/lib/python3.12/site-packages/selenium/webdriver/remote/webdriver.py:448\u001b[0m, in \u001b[0;36mWebDriver.execute\u001b[0;34m(self, driver_command, params)\u001b[0m\n\u001b[1;32m    446\u001b[0m response \u001b[38;5;241m=\u001b[39m \u001b[38;5;28mself\u001b[39m\u001b[38;5;241m.\u001b[39mcommand_executor\u001b[38;5;241m.\u001b[39mexecute(driver_command, params)\n\u001b[1;32m    447\u001b[0m \u001b[38;5;28;01mif\u001b[39;00m response:\n\u001b[0;32m--> 448\u001b[0m     \u001b[38;5;28mself\u001b[39m\u001b[38;5;241m.\u001b[39merror_handler\u001b[38;5;241m.\u001b[39mcheck_response(response)\n\u001b[1;32m    449\u001b[0m     response[\u001b[38;5;124m\"\u001b[39m\u001b[38;5;124mvalue\u001b[39m\u001b[38;5;124m\"\u001b[39m] \u001b[38;5;241m=\u001b[39m \u001b[38;5;28mself\u001b[39m\u001b[38;5;241m.\u001b[39m_unwrap_value(response\u001b[38;5;241m.\u001b[39mget(\u001b[38;5;124m\"\u001b[39m\u001b[38;5;124mvalue\u001b[39m\u001b[38;5;124m\"\u001b[39m, \u001b[38;5;28;01mNone\u001b[39;00m))\n\u001b[1;32m    450\u001b[0m     \u001b[38;5;28;01mreturn\u001b[39;00m response\n",
      "File \u001b[0;32m~/anaconda3/lib/python3.12/site-packages/selenium/webdriver/remote/errorhandler.py:232\u001b[0m, in \u001b[0;36mErrorHandler.check_response\u001b[0;34m(self, response)\u001b[0m\n\u001b[1;32m    230\u001b[0m         alert_text \u001b[38;5;241m=\u001b[39m value[\u001b[38;5;124m\"\u001b[39m\u001b[38;5;124malert\u001b[39m\u001b[38;5;124m\"\u001b[39m]\u001b[38;5;241m.\u001b[39mget(\u001b[38;5;124m\"\u001b[39m\u001b[38;5;124mtext\u001b[39m\u001b[38;5;124m\"\u001b[39m)\n\u001b[1;32m    231\u001b[0m     \u001b[38;5;28;01mraise\u001b[39;00m exception_class(message, screen, stacktrace, alert_text)  \u001b[38;5;66;03m# type: ignore[call-arg]  # mypy is not smart enough here\u001b[39;00m\n\u001b[0;32m--> 232\u001b[0m \u001b[38;5;28;01mraise\u001b[39;00m exception_class(message, screen, stacktrace)\n",
      "\u001b[0;31mInvalidSessionIdException\u001b[0m: Message: invalid session id: session deleted as the browser has closed the connection\nfrom disconnected: Unable to receive message from renderer\n  (Session info: chrome=137.0.7151.120)\nStacktrace:\n0   chromedriver                        0x0000000104d5a654 cxxbridge1$str$ptr + 2723108\n1   chromedriver                        0x0000000104d528c8 cxxbridge1$str$ptr + 2690968\n2   chromedriver                        0x00000001048a6714 cxxbridge1$string$len + 90428\n3   chromedriver                        0x0000000104891604 cxxbridge1$string$len + 4140\n4   chromedriver                        0x000000010489137c cxxbridge1$string$len + 3492\n5   chromedriver                        0x000000010488f134 chromedriver + 192820\n6   chromedriver                        0x000000010488fcc4 chromedriver + 195780\n7   chromedriver                        0x00000001048abf78 cxxbridge1$string$len + 113056\n8   chromedriver                        0x00000001048ae710 cxxbridge1$string$len + 123192\n9   chromedriver                        0x00000001048ae7b8 cxxbridge1$string$len + 123360\n10  chromedriver                        0x00000001048ed390 cxxbridge1$string$len + 380344\n11  chromedriver                        0x00000001048e2f94 cxxbridge1$string$len + 338364\n12  chromedriver                        0x000000010492ede8 cxxbridge1$string$len + 649232\n13  chromedriver                        0x00000001048e19c8 cxxbridge1$string$len + 332784\n14  chromedriver                        0x0000000104d1e278 cxxbridge1$str$ptr + 2476360\n15  chromedriver                        0x0000000104d2150c cxxbridge1$str$ptr + 2489308\n16  chromedriver                        0x0000000104cffa64 cxxbridge1$str$ptr + 2351412\n17  chromedriver                        0x0000000104d21d94 cxxbridge1$str$ptr + 2491492\n18  chromedriver                        0x0000000104cf0d58 cxxbridge1$str$ptr + 2290728\n19  chromedriver                        0x0000000104d41d60 cxxbridge1$str$ptr + 2622512\n20  chromedriver                        0x0000000104d41eec cxxbridge1$str$ptr + 2622908\n21  chromedriver                        0x0000000104d52514 cxxbridge1$str$ptr + 2690020\n22  libsystem_pthread.dylib             0x000000018da56c0c _pthread_start + 136\n23  libsystem_pthread.dylib             0x000000018da51b80 thread_start + 8\n"
     ]
    }
   ],
   "source": [
    "#SDG Overall\n",
    "rows2 = driver.find_elements(By.XPATH, \"//tr[contains(@class, 'js-row') and not(contains(@class, 'institution-disabled'))]\")\n",
    "len(rows2) #2232\n",
    "data_sdg00 = []\n",
    "i, sdg=0, 0\n",
    "for row in rows2:\n",
    "    i = i + 1\n",
    "    rank = row.find_element(By.CSS_SELECTOR, \"td.rank.sorting_1.sorting_2\").text.strip()\n",
    "    name = row.find_element(By.CSS_SELECTOR, \"td.name a.ranking-institution-title\").text.strip()\n",
    "    country = row.find_element(By.CSS_SELECTOR, \"td.name .location span a\").text.strip()\n",
    "    sdg_container = row.find_element(By.CSS_SELECTOR, \"td.best-scores .sdg-score-multi\")\n",
    "    sdg_items = sdg_container.find_elements(By.CLASS_NAME, \"sdg-score-multi__item\")\n",
    "    sdg_scores = {}\n",
    "    for item in sdg_items:\n",
    "        number = item.find_element(By.CLASS_NAME, \"sdg-score-multi__number\").text.strip()\n",
    "        value = item.find_element(By.CLASS_NAME, \"sdg-score-multi__value p\").text.strip()\n",
    "        sdg_scores[number] = value\n",
    "        overall = row.find_element(By.CSS_SELECTOR, \"td.scores.overall-score\").text.strip()\n",
    "    data_sdg00.append({'ser':i,  \"rank\": rank, \"university\": name, \"country\": country, 'sdgno':sdg, \"sdg_scores\": sdg_scores, \"overall_score\": overall })\n",
    "    \n",
    "print(\"No of rows extracted \", i, ' for overall summary')\n",
    "#----------\n",
    "flat_data = []\n",
    "for entry in data_sdg00:\n",
    "    base = {k: v for k, v in entry.items() if k != 'sdg_scores'}\n",
    "    if 'sdg_scores' in entry:\n",
    "        for i, (sdg_no, sdg_val) in enumerate(entry['sdg_scores'].items(), start=1):\n",
    "            base[f'SDG{i}_no'] = sdg_no\n",
    "            base[f'SDG{i}_value'] = sdg_val\n",
    "    flat_data.append(base)\n",
    "\n",
    "df_sdg00 = pd.DataFrame(flat_data)\n",
    "print(df_sdg00.shape)"
   ]
  },
  {
   "cell_type": "markdown",
   "id": "35c1afcc-1076-43e2-a624-cee800050e97",
   "metadata": {},
   "source": [
    "### SDG01 No Poverty"
   ]
  },
  {
   "cell_type": "code",
   "execution_count": 96,
   "id": "c71344fd-80fc-415a-89b3-96e79b74f5ae",
   "metadata": {},
   "outputs": [
    {
     "data": {
      "text/plain": [
       "1222"
      ]
     },
     "execution_count": 96,
     "metadata": {},
     "output_type": "execute_result"
    }
   ],
   "source": [
    "sdg01 = sdglist[1] + part2\n",
    "sdg01\n",
    "driver.get(sdg01)\n",
    "rows2 = driver.find_elements(By.XPATH, \"//tr[contains(@class, 'js-row') and not(contains(@class, 'institution-disabled'))]\")\n",
    "len(rows2) #1222"
   ]
  },
  {
   "cell_type": "code",
   "execution_count": 63,
   "id": "89428562-e1da-4484-876f-b85465109a12",
   "metadata": {},
   "outputs": [
    {
     "data": {
      "text/plain": [
       "'94.3'"
      ]
     },
     "execution_count": 63,
     "metadata": {},
     "output_type": "execute_result"
    }
   ],
   "source": [
    "sdg_score = rows2[0].find_element(By.CLASS_NAME, \"sdg-score\").text.strip()\n",
    "sdg_score"
   ]
  },
  {
   "cell_type": "code",
   "execution_count": 64,
   "id": "61b9bda7-46a1-4434-8d0f-02e6767adbd1",
   "metadata": {},
   "outputs": [
    {
     "name": "stdout",
     "output_type": "stream",
     "text": [
      "No of rows extracted  1222\n"
     ]
    }
   ],
   "source": [
    "data_sdg01 = []\n",
    "i, sdg=0, 1\n",
    "#print(rows[0:1])\n",
    "for row in rows2:\n",
    "    i = i + 1\n",
    "    rank = row.find_element(By.CSS_SELECTOR, \"td.rank.sorting_1.sorting_2\").text.strip()\n",
    "    name = row.find_element(By.CSS_SELECTOR, \"td.name a.ranking-institution-title\").text.strip()\n",
    "    country = row.find_element(By.CSS_SELECTOR, \"td.name .location span a\").text.strip()\n",
    "    sdg_score = row.find_element(By.CLASS_NAME, \"sdg-score\").text.strip()\n",
    "    overall = row.find_element(By.CSS_SELECTOR, \"td.scores.overall-score\").text.strip()\n",
    "    sdg=1\n",
    "    data_sdg01.append({'ser':i, \"rank\": rank, \"university\": name, \"country\": country, 'sdgno': sdg, \"sdg_score\": sdg_score, \"overall_score\": overall })\n",
    "print(\"No of rows extracted \", i)"
   ]
  },
  {
   "cell_type": "code",
   "execution_count": 65,
   "id": "408e9488-76fe-4f77-abd8-35e14226d3bc",
   "metadata": {},
   "outputs": [
    {
     "data": {
      "text/plain": [
       "(1222, 6)"
      ]
     },
     "execution_count": 65,
     "metadata": {},
     "output_type": "execute_result"
    }
   ],
   "source": [
    "df_sdg01 = pd.DataFrame(data_sdg01)\n",
    "df_sdg01.shape"
   ]
  },
  {
   "cell_type": "markdown",
   "id": "efcff5b3-2012-4c48-94d0-f0534d2b710e",
   "metadata": {},
   "source": [
    "### SDG02 Zero Hunger"
   ]
  },
  {
   "cell_type": "code",
   "execution_count": 76,
   "id": "a09fb4e5-86d7-4940-bd6d-298050ef8fab",
   "metadata": {},
   "outputs": [
    {
     "name": "stdout",
     "output_type": "stream",
     "text": [
      "https://www.timeshighereducation.com/impactrankings/zero-hunger#!/length/-1/sort_by/rank/sort_order/asc\n",
      "921\n"
     ]
    }
   ],
   "source": [
    "#SDG02\n",
    "sdg02 = sdglist[2] + part2\n",
    "print(sdg02)\n",
    "driver.get(sdg02)\n",
    "wait = WebDriverWait(driver, 3)\n",
    "rows2 = driver.find_elements(By.XPATH, \"//tr[contains(@class, 'js-row') and not(contains(@class, 'institution-disabled'))]\")\n",
    "print(len(rows2))"
   ]
  },
  {
   "cell_type": "code",
   "execution_count": 78,
   "id": "9ae0a1d1-0b58-4dd2-9853-4451ae84e696",
   "metadata": {},
   "outputs": [
    {
     "name": "stdout",
     "output_type": "stream",
     "text": [
      "No of rows extracted  921\n"
     ]
    }
   ],
   "source": [
    "data_sdg02 = []\n",
    "i, sdg=0, 2\n",
    "for row in rows2:\n",
    "    i = i + 1 \n",
    "    rank = row.find_element(By.CSS_SELECTOR, \"td.rank.sorting_1.sorting_2\").text.strip()\n",
    "    name = row.find_element(By.CSS_SELECTOR, \"td.name a.ranking-institution-title\").text.strip()\n",
    "    country = row.find_element(By.CSS_SELECTOR, \"td.name .location span a\").text.strip()\n",
    "    sdg_score = row.find_element(By.CLASS_NAME, \"sdg-score\").text.strip()\n",
    "    overall = row.find_element(By.CSS_SELECTOR, \"td.scores.overall-score\").text.strip()\n",
    "    data_sdg02.append({'ser':i, \"rank\": rank, \"university\": name, \"country\": country, 'sdgno': sdg, \"sdg_score\": sdg_score, \"overall_score\": overall })\n",
    "print(\"No of rows extracted \", i)"
   ]
  },
  {
   "cell_type": "code",
   "execution_count": 80,
   "id": "88b12430-3289-46d6-be4d-420b0a4a7a98",
   "metadata": {},
   "outputs": [
    {
     "data": {
      "text/plain": [
       "(921, 6)"
      ]
     },
     "execution_count": 80,
     "metadata": {},
     "output_type": "execute_result"
    }
   ],
   "source": [
    "df_sdg02 = pd.DataFrame(data_sdg02)\n",
    "df_sdg02.shape"
   ]
  },
  {
   "cell_type": "code",
   "execution_count": null,
   "id": "6ebba838-064e-4f8d-8b4b-8704167709d1",
   "metadata": {},
   "outputs": [],
   "source": [
    "### SDG03 Good Health"
   ]
  },
  {
   "cell_type": "code",
   "execution_count": 98,
   "id": "383208c5-3425-4872-b4c3-5e5e50da1e92",
   "metadata": {},
   "outputs": [
    {
     "name": "stdout",
     "output_type": "stream",
     "text": [
      "https://www.timeshighereducation.com/impactrankings/good-health-and-well-being#!/length/-1/sort_by/rank/sort_order/asc\n",
      "1719\n"
     ]
    }
   ],
   "source": [
    "#SDG03\n",
    "sdg03 = sdglist[3] + part2\n",
    "print(sdg03)\n",
    "driver.get(sdg03)\n",
    "wait = WebDriverWait(driver, 3)\n",
    "rows2 = driver.find_elements(By.XPATH, \"//tr[contains(@class, 'js-row') and not(contains(@class, 'institution-disabled'))]\")\n",
    "print(len(rows2)) # 1719"
   ]
  },
  {
   "cell_type": "code",
   "execution_count": 99,
   "id": "27a389a2-551e-4e18-894c-30ad9e57bbdd",
   "metadata": {},
   "outputs": [
    {
     "name": "stdout",
     "output_type": "stream",
     "text": [
      "No of rows extracted  1719\n"
     ]
    }
   ],
   "source": [
    "data_sdg03 = []\n",
    "i, sdg=0, 3\n",
    "for row in rows2:\n",
    "    i = i + 1 \n",
    "    rank = row.find_element(By.CSS_SELECTOR, \"td.rank.sorting_1.sorting_2\").text.strip()\n",
    "    name = row.find_element(By.CSS_SELECTOR, \"td.name a.ranking-institution-title\").text.strip()\n",
    "    country = row.find_element(By.CSS_SELECTOR, \"td.name .location span a\").text.strip()\n",
    "    sdg_score = row.find_element(By.CLASS_NAME, \"sdg-score\").text.strip()\n",
    "    overall = row.find_element(By.CSS_SELECTOR, \"td.scores.overall-score\").text.strip()\n",
    "    data_sdg03.append({ 'ser':i, \"rank\": rank, \"university\": name, \"country\": country, 'sdgno': sdg, \"sdg_score\": sdg_score, \"overall_score\": overall })\n",
    "print(\"No of rows extracted \", i)"
   ]
  },
  {
   "cell_type": "code",
   "execution_count": 75,
   "id": "79bd5dcb-5b76-4683-bda3-9ab838c2ba69",
   "metadata": {},
   "outputs": [
    {
     "data": {
      "text/plain": [
       "(1889, 6)"
      ]
     },
     "execution_count": 75,
     "metadata": {},
     "output_type": "execute_result"
    }
   ],
   "source": [
    "df_sdg03 = pd.DataFrame(data_sdg03)\n",
    "df_sdg03.shape"
   ]
  },
  {
   "cell_type": "code",
   "execution_count": 79,
   "id": "3707cd59-4d9b-4a54-b66a-2c2e524318d6",
   "metadata": {},
   "outputs": [
    {
     "data": {
      "text/html": [
       "<div>\n",
       "<style scoped>\n",
       "    .dataframe tbody tr th:only-of-type {\n",
       "        vertical-align: middle;\n",
       "    }\n",
       "\n",
       "    .dataframe tbody tr th {\n",
       "        vertical-align: top;\n",
       "    }\n",
       "\n",
       "    .dataframe thead th {\n",
       "        text-align: right;\n",
       "    }\n",
       "</style>\n",
       "<table border=\"1\" class=\"dataframe\">\n",
       "  <thead>\n",
       "    <tr style=\"text-align: right;\">\n",
       "      <th></th>\n",
       "      <th>rank</th>\n",
       "      <th>university</th>\n",
       "      <th>country</th>\n",
       "      <th>sdgno</th>\n",
       "      <th>sdg_score</th>\n",
       "      <th>overall_score</th>\n",
       "    </tr>\n",
       "  </thead>\n",
       "  <tbody>\n",
       "    <tr>\n",
       "      <th>0</th>\n",
       "      <td>1</td>\n",
       "      <td>Lingnan University Hong Kong</td>\n",
       "      <td>Hong Kong</td>\n",
       "      <td>3</td>\n",
       "      <td>93.3</td>\n",
       "      <td>83.7–89.4</td>\n",
       "    </tr>\n",
       "    <tr>\n",
       "      <th>1</th>\n",
       "      <td>2</td>\n",
       "      <td>Hong Kong Baptist University</td>\n",
       "      <td>Hong Kong</td>\n",
       "      <td>3</td>\n",
       "      <td>92.2</td>\n",
       "      <td>91.2</td>\n",
       "    </tr>\n",
       "    <tr>\n",
       "      <th>2</th>\n",
       "      <td>=3</td>\n",
       "      <td>Aalborg University</td>\n",
       "      <td>Denmark</td>\n",
       "      <td>3</td>\n",
       "      <td>91.1</td>\n",
       "      <td>96.9</td>\n",
       "    </tr>\n",
       "    <tr>\n",
       "      <th>3</th>\n",
       "      <td>=3</td>\n",
       "      <td>Istanbul Technical University</td>\n",
       "      <td>Turkey</td>\n",
       "      <td>3</td>\n",
       "      <td>91.1</td>\n",
       "      <td>92.6</td>\n",
       "    </tr>\n",
       "    <tr>\n",
       "      <th>4</th>\n",
       "      <td>=5</td>\n",
       "      <td>Al-Ahliyya Amman University</td>\n",
       "      <td>Jordan</td>\n",
       "      <td>3</td>\n",
       "      <td>89.8</td>\n",
       "      <td>83.7–89.4</td>\n",
       "    </tr>\n",
       "  </tbody>\n",
       "</table>\n",
       "</div>"
      ],
      "text/plain": [
       "  rank                     university    country  sdgno sdg_score  \\\n",
       "0    1   Lingnan University Hong Kong  Hong Kong      3      93.3   \n",
       "1    2   Hong Kong Baptist University  Hong Kong      3      92.2   \n",
       "2   =3             Aalborg University    Denmark      3      91.1   \n",
       "3   =3  Istanbul Technical University     Turkey      3      91.1   \n",
       "4   =5    Al-Ahliyya Amman University     Jordan      3      89.8   \n",
       "\n",
       "  overall_score  \n",
       "0     83.7–89.4  \n",
       "1          91.2  \n",
       "2          96.9  \n",
       "3          92.6  \n",
       "4     83.7–89.4  "
      ]
     },
     "execution_count": 79,
     "metadata": {},
     "output_type": "execute_result"
    }
   ],
   "source": [
    "df_sdg03.head()"
   ]
  },
  {
   "cell_type": "markdown",
   "id": "bb77df66-3825-4ea4-a952-a6f1edef584f",
   "metadata": {},
   "source": [
    "### SDG04 Quality Education"
   ]
  },
  {
   "cell_type": "code",
   "execution_count": 81,
   "id": "13226c2a-bfc4-4136-add8-494b4789a41b",
   "metadata": {},
   "outputs": [
    {
     "name": "stdout",
     "output_type": "stream",
     "text": [
      "https://www.timeshighereducation.com/impactrankings/quality-education#!/length/-1/sort_by/rank/sort_order/asc\n",
      "1889\n",
      "No of rows extracted  1889\n"
     ]
    },
    {
     "data": {
      "text/plain": [
       "(1889, 6)"
      ]
     },
     "execution_count": 81,
     "metadata": {},
     "output_type": "execute_result"
    }
   ],
   "source": [
    "#SDG04-------------\n",
    "sdg04 = sdglist[4] + part2\n",
    "print(sdg04)\n",
    "driver.get(sdg04)\n",
    "wait = WebDriverWait(driver, 3)\n",
    "rows2 = driver.find_elements(By.XPATH, \"//tr[contains(@class, 'js-row') and not(contains(@class, 'institution-disabled'))]\")\n",
    "print(len(rows2))\n",
    "#------\n",
    "data_sdg04 = []\n",
    "i, sdg=0, 4\n",
    "for row in rows2:\n",
    "    i = i + 1 \n",
    "    rank = row.find_element(By.CSS_SELECTOR, \"td.rank.sorting_1.sorting_2\").text.strip()\n",
    "    name = row.find_element(By.CSS_SELECTOR, \"td.name a.ranking-institution-title\").text.strip()\n",
    "    country = row.find_element(By.CSS_SELECTOR, \"td.name .location span a\").text.strip()\n",
    "    sdg_score = row.find_element(By.CLASS_NAME, \"sdg-score\").text.strip()\n",
    "    overall = row.find_element(By.CSS_SELECTOR, \"td.scores.overall-score\").text.strip()\n",
    "    data_sdg04.append({ 'ser':i, \"rank\": rank, \"university\": name, \"country\": country, 'sdgno': sdg, \"sdg_score\": sdg_score, \"overall_score\": overall })\n",
    "print(\"No of rows extracted \", i)\n",
    "#-------\n",
    "df_sdg04 = pd.DataFrame(data_sdg04)\n",
    "df_sdg04.shape"
   ]
  },
  {
   "cell_type": "markdown",
   "id": "a72a9953-b120-4521-92fd-f61c70dc5047",
   "metadata": {},
   "source": [
    "### SDG05 Quality Education"
   ]
  },
  {
   "cell_type": "code",
   "execution_count": 82,
   "id": "4cabf260-80ff-43b1-adc4-8ad56e99ed09",
   "metadata": {},
   "outputs": [
    {
     "name": "stdout",
     "output_type": "stream",
     "text": [
      "https://www.timeshighereducation.com/impactrankings/gender-equality#!/length/-1/sort_by/rank/sort_order/asc\n",
      "1508\n",
      "No of rows extracted  1508\n"
     ]
    },
    {
     "data": {
      "text/plain": [
       "(1508, 6)"
      ]
     },
     "execution_count": 82,
     "metadata": {},
     "output_type": "execute_result"
    }
   ],
   "source": [
    "#SDG05 -------------\n",
    "sdg05 = sdglist[5] + part2\n",
    "print(sdg05)\n",
    "driver.get(sdg05)\n",
    "wait = WebDriverWait(driver, 3)\n",
    "rows2 = driver.find_elements(By.XPATH, \"//tr[contains(@class, 'js-row') and not(contains(@class, 'institution-disabled'))]\")\n",
    "print(len(rows2))\n",
    "#------\n",
    "data_sdg05 = []\n",
    "i, sdg=0, 5\n",
    "for row in rows2:\n",
    "    i = i + 1 \n",
    "    rank = row.find_element(By.CSS_SELECTOR, \"td.rank.sorting_1.sorting_2\").text.strip()\n",
    "    name = row.find_element(By.CSS_SELECTOR, \"td.name a.ranking-institution-title\").text.strip()\n",
    "    country = row.find_element(By.CSS_SELECTOR, \"td.name .location span a\").text.strip()\n",
    "    sdg_score = row.find_element(By.CLASS_NAME, \"sdg-score\").text.strip()\n",
    "    overall = row.find_element(By.CSS_SELECTOR, \"td.scores.overall-score\").text.strip()\n",
    "    data_sdg05.append({'ser':i, \"rank\": rank, \"university\": name, \"country\": country, 'sdgno': sdg, \"sdg_score\": sdg_score, \"overall_score\": overall })\n",
    "print(\"No of rows extracted \", i)\n",
    "#-------\n",
    "df_sdg05 = pd.DataFrame(data_sdg05)\n",
    "df_sdg05.shape"
   ]
  },
  {
   "cell_type": "code",
   "execution_count": 85,
   "id": "10576ae2-085f-4b1f-aa93-b8afa058b91d",
   "metadata": {},
   "outputs": [
    {
     "data": {
      "text/html": [
       "<div>\n",
       "<style scoped>\n",
       "    .dataframe tbody tr th:only-of-type {\n",
       "        vertical-align: middle;\n",
       "    }\n",
       "\n",
       "    .dataframe tbody tr th {\n",
       "        vertical-align: top;\n",
       "    }\n",
       "\n",
       "    .dataframe thead th {\n",
       "        text-align: right;\n",
       "    }\n",
       "</style>\n",
       "<table border=\"1\" class=\"dataframe\">\n",
       "  <thead>\n",
       "    <tr style=\"text-align: right;\">\n",
       "      <th></th>\n",
       "      <th>rank</th>\n",
       "      <th>university</th>\n",
       "      <th>country</th>\n",
       "      <th>sdgno</th>\n",
       "      <th>sdg_score</th>\n",
       "      <th>overall_score</th>\n",
       "    </tr>\n",
       "  </thead>\n",
       "  <tbody>\n",
       "    <tr>\n",
       "      <th>0</th>\n",
       "      <td>1</td>\n",
       "      <td>Walailak University</td>\n",
       "      <td>Thailand</td>\n",
       "      <td>5</td>\n",
       "      <td>85.0</td>\n",
       "      <td>89.7</td>\n",
       "    </tr>\n",
       "    <tr>\n",
       "      <th>1</th>\n",
       "      <td>2</td>\n",
       "      <td>Bahçeşehir University</td>\n",
       "      <td>Turkey</td>\n",
       "      <td>5</td>\n",
       "      <td>82.8</td>\n",
       "      <td>91.6</td>\n",
       "    </tr>\n",
       "    <tr>\n",
       "      <th>2</th>\n",
       "      <td>3</td>\n",
       "      <td>University of Bucharest</td>\n",
       "      <td>Romania</td>\n",
       "      <td>5</td>\n",
       "      <td>82.6</td>\n",
       "      <td>89.7</td>\n",
       "    </tr>\n",
       "    <tr>\n",
       "      <th>3</th>\n",
       "      <td>4</td>\n",
       "      <td>Universitas Airlangga</td>\n",
       "      <td>Indonesia</td>\n",
       "      <td>5</td>\n",
       "      <td>82.1</td>\n",
       "      <td>96.9</td>\n",
       "    </tr>\n",
       "    <tr>\n",
       "      <th>4</th>\n",
       "      <td>=5</td>\n",
       "      <td>Flinders University</td>\n",
       "      <td>Australia</td>\n",
       "      <td>5</td>\n",
       "      <td>81.6</td>\n",
       "      <td>95.0</td>\n",
       "    </tr>\n",
       "  </tbody>\n",
       "</table>\n",
       "</div>"
      ],
      "text/plain": [
       "  rank               university    country  sdgno sdg_score overall_score\n",
       "0    1      Walailak University   Thailand      5      85.0          89.7\n",
       "1    2    Bahçeşehir University     Turkey      5      82.8          91.6\n",
       "2    3  University of Bucharest    Romania      5      82.6          89.7\n",
       "3    4    Universitas Airlangga  Indonesia      5      82.1          96.9\n",
       "4   =5      Flinders University  Australia      5      81.6          95.0"
      ]
     },
     "execution_count": 85,
     "metadata": {},
     "output_type": "execute_result"
    }
   ],
   "source": [
    "#df_sdg05['sdgno'] = 5\n",
    "df_sdg05.head()"
   ]
  },
  {
   "cell_type": "markdown",
   "id": "b314531d-98e4-4eea-b6c1-72c2f2c23c29",
   "metadata": {},
   "source": [
    "### SDG06 Clean Water"
   ]
  },
  {
   "cell_type": "code",
   "execution_count": 91,
   "id": "d05ad4bd-830a-417e-a6a3-594948d2f8a5",
   "metadata": {},
   "outputs": [
    {
     "name": "stdout",
     "output_type": "stream",
     "text": [
      "https://www.timeshighereducation.com/impactrankings/clean-water-and-sanitation#!/length/-1/sort_by/rank/sort_order/asc\n",
      "1008\n",
      "No of rows extracted  1008\n"
     ]
    },
    {
     "data": {
      "text/plain": [
       "(1008, 6)"
      ]
     },
     "execution_count": 91,
     "metadata": {},
     "output_type": "execute_result"
    }
   ],
   "source": [
    "#SDG06-------------\n",
    "sdg06 = sdglist[6] + part2\n",
    "print(sdg06)\n",
    "driver.get(sdg06)\n",
    "wait = WebDriverWait(driver, 3)\n",
    "rows2 = driver.find_elements(By.XPATH, \"//tr[contains(@class, 'js-row') and not(contains(@class, 'institution-disabled'))]\")\n",
    "print(len(rows2))\n",
    "#------\n",
    "data_sdg06 = []\n",
    "i, sdg=0, 6\n",
    "for row in rows2:\n",
    "    i = i + 1 \n",
    "    rank = row.find_element(By.CSS_SELECTOR, \"td.rank.sorting_1.sorting_2\").text.strip()\n",
    "    name = row.find_element(By.CSS_SELECTOR, \"td.name a.ranking-institution-title\").text.strip()\n",
    "    country = row.find_element(By.CSS_SELECTOR, \"td.name .location span a\").text.strip()\n",
    "    sdg_score = row.find_element(By.CLASS_NAME, \"sdg-score\").text.strip()\n",
    "    overall = row.find_element(By.CSS_SELECTOR, \"td.scores.overall-score\").text.strip()\n",
    "    data_sdg06.append({'ser':i, \"rank\": rank, \"university\": name, \"country\": country, 'sdgno': sdg, \"sdg_score\": sdg_score, \"overall_score\": overall })\n",
    "print(\"No of rows extracted \", i)\n",
    "#-------\n",
    "df_sdg06 = pd.DataFrame(data_sdg06)\n",
    "df_sdg06.shape"
   ]
  },
  {
   "cell_type": "markdown",
   "id": "e2aefb10-c33c-4eb3-9b0a-6168580f6e9d",
   "metadata": {},
   "source": [
    "### SDG07 Clean Energy"
   ]
  },
  {
   "cell_type": "code",
   "execution_count": 101,
   "id": "16aa4b00-e978-4d6c-8420-e76db12beb49",
   "metadata": {},
   "outputs": [
    {
     "name": "stdout",
     "output_type": "stream",
     "text": [
      "https://www.timeshighereducation.com/impactrankings/affordable-and-clean-energy#!/length/-1/sort_by/rank/sort_order/asc\n",
      "1146\n",
      "No of rows extracted  1146\n"
     ]
    },
    {
     "data": {
      "text/plain": [
       "(1146, 6)"
      ]
     },
     "execution_count": 101,
     "metadata": {},
     "output_type": "execute_result"
    }
   ],
   "source": [
    "#SDG07-------------\n",
    "sdg07 = sdglist[7] + part2\n",
    "print(sdg07)\n",
    "driver.get(sdg07)\n",
    "wait = WebDriverWait(driver, 3)\n",
    "rows2 = driver.find_elements(By.XPATH, \"//tr[contains(@class, 'js-row') and not(contains(@class, 'institution-disabled'))]\")\n",
    "print(len(rows2))\n",
    "#------\n",
    "data_sdg07 = []\n",
    "i, sdg=0, 7\n",
    "for row in rows2:\n",
    "    i = i + 1 \n",
    "    rank = row.find_element(By.CSS_SELECTOR, \"td.rank.sorting_1.sorting_2\").text.strip()\n",
    "    name = row.find_element(By.CSS_SELECTOR, \"td.name a.ranking-institution-title\").text.strip()\n",
    "    country = row.find_element(By.CSS_SELECTOR, \"td.name .location span a\").text.strip()\n",
    "    sdg_score = row.find_element(By.CLASS_NAME, \"sdg-score\").text.strip()\n",
    "    overall = row.find_element(By.CSS_SELECTOR, \"td.scores.overall-score\").text.strip()\n",
    "    data_sdg07.append({'ser':i, \"rank\": rank, \"university\": name, \"country\": country, 'sdgno': sdg, \"sdg_score\": sdg_score, \"overall_score\": overall })\n",
    "print(\"No of rows extracted \", i)\n",
    "#-------\n",
    "df_sdg07 = pd.DataFrame(data_sdg07)\n",
    "df_sdg07.shape #1146"
   ]
  },
  {
   "cell_type": "markdown",
   "id": "7da15d70-43cc-447b-8a22-fd5240a7cf43",
   "metadata": {},
   "source": [
    "### SDG08 Decent Work"
   ]
  },
  {
   "cell_type": "code",
   "execution_count": 102,
   "id": "703e7d77-7cd2-462f-926f-302b84d4eebc",
   "metadata": {},
   "outputs": [
    {
     "name": "stdout",
     "output_type": "stream",
     "text": [
      "https://www.timeshighereducation.com/impactrankings/decent-work-and-economic-growth#!/length/-1/sort_by/rank/sort_order/asc\n",
      "1286\n",
      "No of rows extracted  1286\n"
     ]
    },
    {
     "data": {
      "text/plain": [
       "(1286, 6)"
      ]
     },
     "execution_count": 102,
     "metadata": {},
     "output_type": "execute_result"
    }
   ],
   "source": [
    "#SDG08-------------\n",
    "sdg08 = sdglist[8] + part2\n",
    "print(sdg08)\n",
    "driver.get(sdg08)\n",
    "wait = WebDriverWait(driver, 3)\n",
    "rows2 = driver.find_elements(By.XPATH, \"//tr[contains(@class, 'js-row') and not(contains(@class, 'institution-disabled'))]\")\n",
    "print(len(rows2))\n",
    "#------\n",
    "data_sdg08 = []\n",
    "i, sdg=0, 8\n",
    "for row in rows2:\n",
    "    i = i + 1 \n",
    "    rank = row.find_element(By.CSS_SELECTOR, \"td.rank.sorting_1.sorting_2\").text.strip()\n",
    "    name = row.find_element(By.CSS_SELECTOR, \"td.name a.ranking-institution-title\").text.strip()\n",
    "    country = row.find_element(By.CSS_SELECTOR, \"td.name .location span a\").text.strip()\n",
    "    sdg_score = row.find_element(By.CLASS_NAME, \"sdg-score\").text.strip()\n",
    "    overall = row.find_element(By.CSS_SELECTOR, \"td.scores.overall-score\").text.strip()\n",
    "    data_sdg08.append({'ser':i, \"rank\": rank, \"university\": name, \"country\": country, 'sdgno': sdg, \"sdg_score\": sdg_score, \"overall_score\": overall })\n",
    "print(\"No of rows extracted \", i, 'for sdg ', sdg)\n",
    "#-------\n",
    "df_sdg08 = pd.DataFrame(data_sdg08)\n",
    "df_sdg08.shape"
   ]
  },
  {
   "cell_type": "markdown",
   "id": "5e0291e5-f9d3-4b6e-8654-df72822f73eb",
   "metadata": {},
   "source": [
    "### SDG09 Industry"
   ]
  },
  {
   "cell_type": "code",
   "execution_count": 104,
   "id": "aef5102c-e3d5-4ef5-a3c6-5c14b5cd280e",
   "metadata": {},
   "outputs": [
    {
     "name": "stdout",
     "output_type": "stream",
     "text": [
      "https://www.timeshighereducation.com/impactrankings/industry-innovation-and-infrastructure#!/length/-1/sort_by/rank/sort_order/asc\n",
      "1096\n",
      "No of rows extracted  1096 for sdg  9\n"
     ]
    },
    {
     "data": {
      "text/plain": [
       "(1096, 6)"
      ]
     },
     "execution_count": 104,
     "metadata": {},
     "output_type": "execute_result"
    }
   ],
   "source": [
    "#SDG09-------------\n",
    "sdg09 = sdglist[9] + part2\n",
    "print(sdg09)\n",
    "driver.get(sdg09)\n",
    "wait = WebDriverWait(driver, 4)\n",
    "rows2 = driver.find_elements(By.XPATH, \"//tr[contains(@class, 'js-row') and not(contains(@class, 'institution-disabled'))]\")\n",
    "print(len(rows2))\n",
    "#------\n",
    "data_sdg09 = []\n",
    "i, sdg=0, 9\n",
    "for row in rows2:\n",
    "    i = i + 1 \n",
    "    rank = row.find_element(By.CSS_SELECTOR, \"td.rank.sorting_1.sorting_2\").text.strip()\n",
    "    name = row.find_element(By.CSS_SELECTOR, \"td.name a.ranking-institution-title\").text.strip()\n",
    "    country = row.find_element(By.CSS_SELECTOR, \"td.name .location span a\").text.strip()\n",
    "    sdg_score = row.find_element(By.CLASS_NAME, \"sdg-score\").text.strip()\n",
    "    overall = row.find_element(By.CSS_SELECTOR, \"td.scores.overall-score\").text.strip()\n",
    "    data_sdg09.append({'ser':i, \"rank\": rank, \"university\": name, \"country\": country, 'sdgno': sdg, \"sdg_score\": sdg_score, \"overall_score\": overall })\n",
    "print(\"No of rows extracted \", i, 'for sdg ', sdg)\n",
    "#-------\n",
    "df_sdg09 = pd.DataFrame(data_sdg09)\n",
    "df_sdg09.shape"
   ]
  },
  {
   "cell_type": "markdown",
   "id": "502f3863-80ce-49f4-9687-b9bd6f7163d3",
   "metadata": {},
   "source": [
    "### SDG10 Equality"
   ]
  },
  {
   "cell_type": "code",
   "execution_count": 106,
   "id": "3282b167-3159-402a-8deb-136e6b69f57d",
   "metadata": {},
   "outputs": [
    {
     "name": "stdout",
     "output_type": "stream",
     "text": [
      "https://www.timeshighereducation.com/impactrankings/reducing-inequalities#!/length/-1/sort_by/rank/sort_order/asc\n",
      "1213\n",
      "No of rows extracted  1213 for sdg  10\n"
     ]
    },
    {
     "data": {
      "text/plain": [
       "(1213, 6)"
      ]
     },
     "execution_count": 106,
     "metadata": {},
     "output_type": "execute_result"
    }
   ],
   "source": [
    "#SDG10-------------\n",
    "sdg10 = sdglist[10] + part2\n",
    "print(sdg10)\n",
    "driver.get(sdg10)\n",
    "wait = WebDriverWait(driver, 4)\n",
    "rows2 = driver.find_elements(By.XPATH, \"//tr[contains(@class, 'js-row') and not(contains(@class, 'institution-disabled'))]\")\n",
    "print(len(rows2))\n",
    "#------\n",
    "data_sdg10 = []\n",
    "i, sdg=0, 10\n",
    "for row in rows2:\n",
    "    i = i + 1 \n",
    "    rank = row.find_element(By.CSS_SELECTOR, \"td.rank.sorting_1.sorting_2\").text.strip()\n",
    "    name = row.find_element(By.CSS_SELECTOR, \"td.name a.ranking-institution-title\").text.strip()\n",
    "    country = row.find_element(By.CSS_SELECTOR, \"td.name .location span a\").text.strip()\n",
    "    sdg_score = row.find_element(By.CLASS_NAME, \"sdg-score\").text.strip()\n",
    "    overall = row.find_element(By.CSS_SELECTOR, \"td.scores.overall-score\").text.strip()\n",
    "    data_sdg10.append({'ser':i, \"rank\": rank, \"university\": name, \"country\": country, 'sdgno': sdg, \"sdg_score\": sdg_score, \"overall_score\": overall })\n",
    "print(\"No of rows extracted \", i, 'for sdg ', sdg)\n",
    "#-------\n",
    "df_sdg10 = pd.DataFrame(data_sdg10)\n",
    "df_sdg10.shape"
   ]
  },
  {
   "cell_type": "markdown",
   "id": "a297b052-7bff-4396-9124-fee9fe7a7817",
   "metadata": {},
   "source": [
    "### SDG11 Sustainable Cities"
   ]
  },
  {
   "cell_type": "code",
   "execution_count": 108,
   "id": "651290d4-f562-4434-aa3c-1910677242dd",
   "metadata": {},
   "outputs": [
    {
     "name": "stdout",
     "output_type": "stream",
     "text": [
      "https://www.timeshighereducation.com/impactrankings/sustainable-cities-and-communities#!/length/-1/sort_by/rank/sort_order/asc\n",
      "1101\n",
      "No of rows extracted  1101 for sdg  11\n"
     ]
    },
    {
     "data": {
      "text/plain": [
       "(1101, 6)"
      ]
     },
     "execution_count": 108,
     "metadata": {},
     "output_type": "execute_result"
    }
   ],
   "source": [
    "#SDG11-------------\n",
    "sdg11 = sdglist[11] + part2\n",
    "print(sdg11)\n",
    "driver.get(sdg11)\n",
    "wait = WebDriverWait(driver, 4)\n",
    "rows2 = driver.find_elements(By.XPATH, \"//tr[contains(@class, 'js-row') and not(contains(@class, 'institution-disabled'))]\")\n",
    "print(len(rows2))\n",
    "#------\n",
    "data_sdg11 = []\n",
    "i, sdg=0, 11\n",
    "for row in rows2:\n",
    "    i = i + 1 \n",
    "    rank = row.find_element(By.CSS_SELECTOR, \"td.rank.sorting_1.sorting_2\").text.strip()\n",
    "    name = row.find_element(By.CSS_SELECTOR, \"td.name a.ranking-institution-title\").text.strip()\n",
    "    country = row.find_element(By.CSS_SELECTOR, \"td.name .location span a\").text.strip()\n",
    "    sdg_score = row.find_element(By.CLASS_NAME, \"sdg-score\").text.strip()\n",
    "    overall = row.find_element(By.CSS_SELECTOR, \"td.scores.overall-score\").text.strip()\n",
    "    data_sdg11.append({'ser':i, \"rank\": rank, \"university\": name, \"country\": country, 'sdgno': sdg, \"sdg_score\": sdg_score, \"overall_score\": overall })\n",
    "print(\"No of rows extracted \", i, 'for sdg ', sdg)\n",
    "#-------\n",
    "df_sdg11 = pd.DataFrame(data_sdg11)\n",
    "df_sdg11.shape"
   ]
  },
  {
   "cell_type": "markdown",
   "id": "d31e7cbd-e0b1-492f-baf3-ce4c7d71a76a",
   "metadata": {},
   "source": [
    "### SDG12 Consumption"
   ]
  },
  {
   "cell_type": "code",
   "execution_count": 131,
   "id": "664036f4-3dde-48bc-932d-7ed9908d0f6c",
   "metadata": {},
   "outputs": [
    {
     "name": "stdout",
     "output_type": "stream",
     "text": [
      "https://www.timeshighereducation.com/impactrankings/responsible-consumption-and-production#!/length/-1/sort_by/rank/sort_order/asc\n",
      "940\n",
      "No of rows extracted  940 for sdg  12\n"
     ]
    },
    {
     "data": {
      "text/plain": [
       "(940, 6)"
      ]
     },
     "execution_count": 131,
     "metadata": {},
     "output_type": "execute_result"
    }
   ],
   "source": [
    "#SDG12-------------\n",
    "sdg12 = sdglist[12] + part2\n",
    "print(sdg12)\n",
    "driver.get(sdg12)\n",
    "wait = WebDriverWait(driver, 4)\n",
    "rows2 = driver.find_elements(By.XPATH, \"//tr[contains(@class, 'js-row') and not(contains(@class, 'institution-disabled'))]\")\n",
    "print(len(rows2))\n",
    "#------\n",
    "data_sdg12 = []\n",
    "i, sdg=0, 12\n",
    "for row in rows2:\n",
    "    i = i + 1 \n",
    "    rank = row.find_element(By.CSS_SELECTOR, \"td.rank.sorting_1.sorting_2\").text.strip()\n",
    "    name = row.find_element(By.CSS_SELECTOR, \"td.name a.ranking-institution-title\").text.strip()\n",
    "    country = row.find_element(By.CSS_SELECTOR, \"td.name .location span a\").text.strip()\n",
    "    sdg_score = row.find_element(By.CLASS_NAME, \"sdg-score\").text.strip()\n",
    "    overall = row.find_element(By.CSS_SELECTOR, \"td.scores.overall-score\").text.strip()\n",
    "    data_sdg12.append({'ser':i, \"rank\": rank, \"university\": name, \"country\": country, 'sdgno': sdg, \"sdg_score\": sdg_score, \"overall_score\": overall })\n",
    "print(\"No of rows extracted \", i, 'for sdg ', sdg)\n",
    "#-------\n",
    "df_sdg12 = pd.DataFrame(data_sdg12)\n",
    "df_sdg12.shape"
   ]
  },
  {
   "cell_type": "markdown",
   "id": "f1f0206c-7d52-4e6e-9f22-27818053db4f",
   "metadata": {},
   "source": [
    "### SDG13 Climate"
   ]
  },
  {
   "cell_type": "code",
   "execution_count": 130,
   "id": "d033eede-0b7a-43f2-b1c5-d73e4c1335ad",
   "metadata": {},
   "outputs": [
    {
     "name": "stdout",
     "output_type": "stream",
     "text": [
      "https://www.timeshighereducation.com/impactrankings/climate-action#!/length/-1/sort_by/rank/sort_order/asc\n",
      "1054\n",
      "No of rows extracted  1054 for sdg  13\n"
     ]
    },
    {
     "data": {
      "text/plain": [
       "(1054, 6)"
      ]
     },
     "execution_count": 130,
     "metadata": {},
     "output_type": "execute_result"
    }
   ],
   "source": [
    "#SDG13-------------\n",
    "sdg13 = sdglist[13] + part2\n",
    "print(sdg13)\n",
    "driver.get(sdg13)\n",
    "wait = WebDriverWait(driver, 4)\n",
    "rows2 = driver.find_elements(By.XPATH, \"//tr[contains(@class, 'js-row') and not(contains(@class, 'institution-disabled'))]\")\n",
    "print(len(rows2))\n",
    "#------\n",
    "data_sdg13 = []\n",
    "i, sdg=0, 13\n",
    "for row in rows2:\n",
    "    i = i + 1 \n",
    "    rank = row.find_element(By.CSS_SELECTOR, \"td.rank.sorting_1.sorting_2\").text.strip()\n",
    "    name = row.find_element(By.CSS_SELECTOR, \"td.name a.ranking-institution-title\").text.strip()\n",
    "    country = row.find_element(By.CSS_SELECTOR, \"td.name .location span a\").text.strip()\n",
    "    sdg_score = row.find_element(By.CLASS_NAME, \"sdg-score\").text.strip()\n",
    "    overall = row.find_element(By.CSS_SELECTOR, \"td.scores.overall-score\").text.strip()\n",
    "    data_sdg13.append({'ser':i, \"rank\": rank, \"university\": name, \"country\": country, 'sdgno': sdg, \"sdg_score\": sdg_score, \"overall_score\": overall })\n",
    "print(\"No of rows extracted \", i, 'for sdg ', sdg)\n",
    "#-------\n",
    "df_sdg13 = pd.DataFrame(data_sdg13)\n",
    "df_sdg13.shape"
   ]
  },
  {
   "cell_type": "markdown",
   "id": "63fce8ba-3dd2-4143-84c8-0a51556daeb6",
   "metadata": {},
   "source": [
    "### SDG14 Water"
   ]
  },
  {
   "cell_type": "code",
   "execution_count": 129,
   "id": "3d049a83-bd31-4900-9a8f-53239b54532b",
   "metadata": {},
   "outputs": [
    {
     "name": "stdout",
     "output_type": "stream",
     "text": [
      "https://www.timeshighereducation.com/impactrankings/life-below-water#!/length/-1/sort_by/rank/sort_order/asc\n",
      "682\n",
      "No of rows extracted  682 for sdg  14\n"
     ]
    },
    {
     "data": {
      "text/plain": [
       "(682, 6)"
      ]
     },
     "execution_count": 129,
     "metadata": {},
     "output_type": "execute_result"
    }
   ],
   "source": [
    "#SDG14-------------\n",
    "sdg14 = sdglist[14] + part2\n",
    "print(sdg14)\n",
    "driver.get(sdg14)\n",
    "wait = WebDriverWait(driver, 4)\n",
    "rows2 = driver.find_elements(By.XPATH, \"//tr[contains(@class, 'js-row') and not(contains(@class, 'institution-disabled'))]\")\n",
    "print(len(rows2))\n",
    "#------\n",
    "data_sdg14 = []\n",
    "i, sdg=0, 14\n",
    "for row in rows2:\n",
    "    i = i + 1 \n",
    "    rank = row.find_element(By.CSS_SELECTOR, \"td.rank.sorting_1.sorting_2\").text.strip()\n",
    "    name = row.find_element(By.CSS_SELECTOR, \"td.name a.ranking-institution-title\").text.strip()\n",
    "    country = row.find_element(By.CSS_SELECTOR, \"td.name .location span a\").text.strip()\n",
    "    sdg_score = row.find_element(By.CLASS_NAME, \"sdg-score\").text.strip()\n",
    "    overall = row.find_element(By.CSS_SELECTOR, \"td.scores.overall-score\").text.strip()\n",
    "    data_sdg14.append({'ser':i, \"rank\": rank, \"university\": name, \"country\": country, 'sdgno': sdg, \"sdg_score\": sdg_score, \"overall_score\": overall })\n",
    "print(\"No of rows extracted \", i, 'for sdg ', sdg)\n",
    "#-------\n",
    "df_sdg14 = pd.DataFrame(data_sdg14)\n",
    "df_sdg14.shape"
   ]
  },
  {
   "cell_type": "markdown",
   "id": "eb7f8983-839c-4ce7-b9e7-06fc6a5ebaa4",
   "metadata": {},
   "source": [
    "### SDG15 Life on Land"
   ]
  },
  {
   "cell_type": "markdown",
   "id": "e1f37b4c-1e54-436d-a0cd-9990c81d2a1f",
   "metadata": {},
   "source": [
    "### SDG16 Peace"
   ]
  },
  {
   "cell_type": "code",
   "execution_count": 128,
   "id": "0cb0ce14-10a9-4138-8f88-b877e21b91f8",
   "metadata": {},
   "outputs": [
    {
     "name": "stdout",
     "output_type": "stream",
     "text": [
      "https://www.timeshighereducation.com/impactrankings/life-land#!/length/-1/sort_by/rank/sort_order/asc\n",
      "820\n",
      "No of rows extracted  820 for sdg  15\n"
     ]
    },
    {
     "data": {
      "text/plain": [
       "(820, 6)"
      ]
     },
     "execution_count": 128,
     "metadata": {},
     "output_type": "execute_result"
    }
   ],
   "source": [
    "#SDG15-------------\n",
    "sdg15 = sdglist[15] + part2\n",
    "print(sdg15)\n",
    "driver.get(sdg15)\n",
    "wait = WebDriverWait(driver, 4)\n",
    "rows2 = driver.find_elements(By.XPATH, \"//tr[contains(@class, 'js-row') and not(contains(@class, 'institution-disabled'))]\")\n",
    "print(len(rows2))\n",
    "#------\n",
    "data_sdg15 = []\n",
    "i, sdg=0, 15\n",
    "for row in rows2:\n",
    "    i = i + 1 \n",
    "    rank = row.find_element(By.CSS_SELECTOR, \"td.rank.sorting_1.sorting_2\").text.strip()\n",
    "    name = row.find_element(By.CSS_SELECTOR, \"td.name a.ranking-institution-title\").text.strip()\n",
    "    country = row.find_element(By.CSS_SELECTOR, \"td.name .location span a\").text.strip()\n",
    "    sdg_score = row.find_element(By.CLASS_NAME, \"sdg-score\").text.strip()\n",
    "    overall = row.find_element(By.CSS_SELECTOR, \"td.scores.overall-score\").text.strip()\n",
    "    data_sdg15.append({'ser':i, \"rank\": rank, \"university\": name, \"country\": country, 'sdgno': sdg, \"sdg_score\": sdg_score, \"overall_score\": overall })\n",
    "print(\"No of rows extracted \", i, 'for sdg ', sdg)\n",
    "#-------\n",
    "df_sdg15 = pd.DataFrame(data_sdg15)\n",
    "df_sdg15.shape"
   ]
  },
  {
   "cell_type": "markdown",
   "id": "10d98850-cf82-49e8-8d4f-b3e030404833",
   "metadata": {},
   "source": [
    "### SDG17 Partnerships"
   ]
  },
  {
   "cell_type": "code",
   "execution_count": 118,
   "id": "916e5dec-d6cd-45f0-a857-4c7809b9c141",
   "metadata": {},
   "outputs": [
    {
     "name": "stdout",
     "output_type": "stream",
     "text": [
      "https://www.timeshighereducation.com/impactrankings/peace-justice-and-strong-institutions#!/length/-1/sort_by/rank/sort_order/asc\n",
      "1214\n",
      "No of rows extracted  1214 for sdg  16\n"
     ]
    },
    {
     "data": {
      "text/plain": [
       "(1214, 6)"
      ]
     },
     "execution_count": 118,
     "metadata": {},
     "output_type": "execute_result"
    }
   ],
   "source": [
    "#SDG16-------------\n",
    "sdg16 = sdglist[16] + part2\n",
    "print(sdg16)\n",
    "driver.get(sdg16)\n",
    "wait = WebDriverWait(driver, 4)\n",
    "rows2 = driver.find_elements(By.XPATH, \"//tr[contains(@class, 'js-row') and not(contains(@class, 'institution-disabled'))]\")\n",
    "print(len(rows2))\n",
    "#------\n",
    "data_sdg16 = []\n",
    "i, sdg=0, 16\n",
    "for row in rows2:\n",
    "    i = i + 1 \n",
    "    rank = row.find_element(By.CSS_SELECTOR, \"td.rank.sorting_1.sorting_2\").text.strip()\n",
    "    name = row.find_element(By.CSS_SELECTOR, \"td.name a.ranking-institution-title\").text.strip()\n",
    "    country = row.find_element(By.CSS_SELECTOR, \"td.name .location span a\").text.strip()\n",
    "    sdg_score = row.find_element(By.CLASS_NAME, \"sdg-score\").text.strip()\n",
    "    overall = row.find_element(By.CSS_SELECTOR, \"td.scores.overall-score\").text.strip()\n",
    "    data_sdg16.append({'ser':i, \"rank\": rank, \"university\": name, \"country\": country, 'sdgno': sdg, \"sdg_score\": sdg_score, \"overall_score\": overall })\n",
    "print(\"No of rows extracted \", i, 'for sdg ', sdg)\n",
    "#-------\n",
    "df_sdg16 = pd.DataFrame(data_sdg16)\n",
    "df_sdg16.shape"
   ]
  },
  {
   "cell_type": "code",
   "execution_count": 116,
   "id": "45cbe32b-35ce-4bf5-91e5-7f289b23b95b",
   "metadata": {},
   "outputs": [
    {
     "name": "stdout",
     "output_type": "stream",
     "text": [
      "https://www.timeshighereducation.com/impactrankings/partnerships-goals#!/length/-1/sort_by/rank/sort_order/asc\n",
      "2299\n",
      "No of rows extracted  2299 for sdg  17\n"
     ]
    },
    {
     "data": {
      "text/plain": [
       "(2299, 6)"
      ]
     },
     "execution_count": 116,
     "metadata": {},
     "output_type": "execute_result"
    }
   ],
   "source": [
    "#SDG17-------------\n",
    "sdg17 = sdglist[17] + part2\n",
    "print(sdg17)\n",
    "driver.get(sdg17)\n",
    "wait = WebDriverWait(driver, 4)\n",
    "rows2 = driver.find_elements(By.XPATH, \"//tr[contains(@class, 'js-row') and not(contains(@class, 'institution-disabled'))]\")\n",
    "print(len(rows2))\n",
    "#------\n",
    "data_sdg17 = []\n",
    "i, sdg=0, 17\n",
    "for row in rows2:\n",
    "    i = i + 1 \n",
    "    rank = row.find_element(By.CSS_SELECTOR, \"td.rank.sorting_1.sorting_2\").text.strip()\n",
    "    name = row.find_element(By.CSS_SELECTOR, \"td.name a.ranking-institution-title\").text.strip()\n",
    "    country = row.find_element(By.CSS_SELECTOR, \"td.name .location span a\").text.strip()\n",
    "    sdg_score = row.find_element(By.CLASS_NAME, \"sdg-score\").text.strip()\n",
    "    overall = row.find_element(By.CSS_SELECTOR, \"td.scores.overall-score\").text.strip()\n",
    "    data_sdg17.append({'ser':i, \"rank\": rank, \"university\": name, \"country\": country, 'sdgno': sdg, \"sdg_score\": sdg_score, \"overall_score\": overall })\n",
    "print(\"No of rows extracted \", i, 'for sdg ', sdg)\n",
    "#-------\n",
    "df_sdg17 = pd.DataFrame(data_sdg17)\n",
    "df_sdg17.shape"
   ]
  },
  {
   "cell_type": "markdown",
   "id": "47331b2b-28db-46fe-b928-97781eb0d6be",
   "metadata": {},
   "source": [
    "### All DFs\n",
    "- Shape of multiple DF if they exist"
   ]
  },
  {
   "cell_type": "code",
   "execution_count": 138,
   "id": "ca820f75-7c9a-4e35-b088-16d2baa5c2e4",
   "metadata": {},
   "outputs": [
    {
     "name": "stdout",
     "output_type": "stream",
     "text": [
      "df_sdg00: (2232, 13)\n",
      "df_sdg01: (1222, 6)\n",
      "df_sdg02: (921, 6)\n",
      "df_sdg03: (1889, 6)\n",
      "df_sdg04: (1889, 6)\n",
      "df_sdg05: (1508, 6)\n",
      "df_sdg06: (1008, 6)\n",
      "df_sdg07: (1146, 6)\n",
      "df_sdg08: (1286, 6)\n",
      "df_sdg09: (1096, 6)\n",
      "df_sdg10: (1213, 6)\n",
      "df_sdg11: (1101, 6)\n",
      "df_sdg12: (940, 6)\n",
      "df_sdg13: (1054, 6)\n",
      "df_sdg14: (682, 6)\n",
      "df_sdg15: (820, 6)\n",
      "df_sdg16: (1214, 6)\n",
      "df_sdg17: (2299, 6)\n"
     ]
    }
   ],
   "source": [
    "listDF = ['df_sdg00','df_sdg01','df_sdg02','df_sdg03', 'df_sdg04','df_sdg05','df_sdg06','df_sdg07','df_sdg08','df_sdg09','df_sdg10','df_sdg11','df_sdg12','df_sdg13','df_sdg14','df_sdg15','df_sdg16','df_sdg17']\n",
    "for name in listDF:\n",
    "    try:\n",
    "        df = eval(name)\n",
    "        print(f\"{name}: {df.shape}\")\n",
    "    except NameError:\n",
    "        continue"
   ]
  },
  {
   "cell_type": "code",
   "execution_count": 139,
   "id": "c6f7644a-4259-43a1-bb38-75632cd42673",
   "metadata": {},
   "outputs": [
    {
     "name": "stdout",
     "output_type": "stream",
     "text": [
      "Saved to /Users/du/dup/auData/ranking/the/impact25.xlsx\n"
     ]
    }
   ],
   "source": [
    "file_path = '/Users/du/dup/auData/ranking/the/impact25.xlsx'\n",
    "\n",
    "with pd.ExcelWriter(file_path, engine='xlsxwriter') as writer:\n",
    "    for name in listDF:\n",
    "        if name in globals():\n",
    "            globals()[name].to_excel(writer, sheet_name=name, index=False)\n",
    "\n",
    "print(f\"Saved to {file_path}\")"
   ]
  },
  {
   "cell_type": "code",
   "execution_count": 140,
   "id": "364c3cb3-4c2c-49c7-bffe-09245b584f50",
   "metadata": {},
   "outputs": [
    {
     "name": "stdout",
     "output_type": "stream",
     "text": [
      "['df_sdg00', 'df_sdg01', 'df_sdg02', 'df_sdg03', 'df_sdg04', 'df_sdg05', 'df_sdg06', 'df_sdg07', 'df_sdg08', 'df_sdg09', 'df_sdg10', 'df_sdg11', 'df_sdg12', 'df_sdg13', 'df_sdg14', 'df_sdg15', 'df_sdg16', 'df_sdg17']\n"
     ]
    }
   ],
   "source": [
    "# Load the Excel file\n",
    "excel_file = pd.ExcelFile(file_path)\n",
    "# List all sheet names\n",
    "print(excel_file.sheet_names)"
   ]
  },
  {
   "cell_type": "code",
   "execution_count": null,
   "id": "335206e0-65c8-4835-b2f4-2e4e014be936",
   "metadata": {},
   "outputs": [],
   "source": []
  }
 ],
 "metadata": {
  "kernelspec": {
   "display_name": "Python 3 (ipykernel)",
   "language": "python",
   "name": "python3"
  },
  "language_info": {
   "codemirror_mode": {
    "name": "ipython",
    "version": 3
   },
   "file_extension": ".py",
   "mimetype": "text/x-python",
   "name": "python",
   "nbconvert_exporter": "python",
   "pygments_lexer": "ipython3",
   "version": "3.12.7"
  }
 },
 "nbformat": 4,
 "nbformat_minor": 5
}
