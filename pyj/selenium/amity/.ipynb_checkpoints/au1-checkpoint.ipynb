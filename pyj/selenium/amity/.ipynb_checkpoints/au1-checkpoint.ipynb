{
 "cells": [
  {
   "cell_type": "code",
   "execution_count": null,
   "id": "ceb8c998-ce16-4976-be23-87007e006f12",
   "metadata": {},
   "outputs": [],
   "source": [
    "# Amity Site with Selenium"
   ]
  },
  {
   "cell_type": "code",
   "execution_count": 1,
   "id": "adce2f75-afed-4431-b620-330dfecb0ec9",
   "metadata": {
    "tags": []
   },
   "outputs": [],
   "source": [
    "from selenium import webdriver\n",
    "from selenium.webdriver.common.by import By\n",
    "import pandas as pd\n",
    "from selenium.webdriver.chrome.service import Service\n",
    "import time\n",
    "from webdriver_manager.chrome import ChromeDriverManager"
   ]
  },
  {
   "cell_type": "code",
   "execution_count": 61,
   "id": "54592d1f-2cae-4db1-a951-ea4ad972b163",
   "metadata": {
    "tags": []
   },
   "outputs": [],
   "source": [
    "from selenium.webdriver.support.ui import WebDriverWait\n",
    "from selenium.webdriver.support import expected_conditions as EC"
   ]
  },
  {
   "cell_type": "code",
   "execution_count": 168,
   "id": "854c08ba-cb4d-4ae6-8bd5-b34882654718",
   "metadata": {
    "tags": []
   },
   "outputs": [],
   "source": [
    "from bs4 import BeautifulSoup\n",
    "import re"
   ]
  },
  {
   "cell_type": "code",
   "execution_count": 136,
   "id": "9f354bbd-f7dc-4c2b-bab8-d4eeefc7d097",
   "metadata": {
    "tags": []
   },
   "outputs": [],
   "source": [
    "cService = webdriver.ChromeService()\n",
    "driver = webdriver.Chrome(service = cService)\n",
    "driver.set_page_load_timeout(200)"
   ]
  },
  {
   "cell_type": "code",
   "execution_count": 137,
   "id": "bb403a5e-91df-4d38-8a12-daa75911d1eb",
   "metadata": {
    "tags": []
   },
   "outputs": [
    {
     "name": "stdout",
     "output_type": "stream",
     "text": [
      "Top Private University in North India | Amity University Noida\n"
     ]
    }
   ],
   "source": [
    "url2 = \"https://amity.edu\"\n",
    "driver.get(url2)\n",
    "print(driver.title)"
   ]
  },
  {
   "cell_type": "code",
   "execution_count": 9,
   "id": "4fce7334-1177-49e8-985c-4a934ab4e934",
   "metadata": {
    "tags": []
   },
   "outputs": [
    {
     "data": {
      "text/plain": [
       "'1260'"
      ]
     },
     "execution_count": 9,
     "metadata": {},
     "output_type": "execute_result"
    }
   ],
   "source": [
    "xp1 = \"//B[text()='1260']\"\n",
    "e1 = driver.find_element(By.XPATH, xp1)\n",
    "e1.text"
   ]
  },
  {
   "cell_type": "code",
   "execution_count": 15,
   "id": "2636217c-082e-4c39-87aa-c2bc8ae598b0",
   "metadata": {
    "tags": []
   },
   "outputs": [
    {
     "data": {
      "text/plain": [
       "19"
      ]
     },
     "execution_count": 15,
     "metadata": {},
     "output_type": "execute_result"
    }
   ],
   "source": [
    "xp2 = \"//A[@href='#']\"\n",
    "e2 = driver.find_elements(By.XPATH, xp2)\n",
    "len(e2)"
   ]
  },
  {
   "cell_type": "code",
   "execution_count": 23,
   "id": "5dc3f199-17ad-470c-84fc-907181d95fb8",
   "metadata": {
    "tags": []
   },
   "outputs": [
    {
     "data": {
      "text/plain": [
       "list"
      ]
     },
     "execution_count": 23,
     "metadata": {},
     "output_type": "execute_result"
    }
   ],
   "source": [
    "type(e2)"
   ]
  },
  {
   "cell_type": "code",
   "execution_count": 33,
   "id": "5247c86b-560c-4bf5-b705-06cefe7c4751",
   "metadata": {
    "tags": []
   },
   "outputs": [
    {
     "data": {
      "text/plain": [
       "''"
      ]
     },
     "execution_count": 33,
     "metadata": {},
     "output_type": "execute_result"
    }
   ],
   "source": [
    "e2[4].text"
   ]
  },
  {
   "cell_type": "code",
   "execution_count": 18,
   "id": "512432b9-33f2-464b-b4b0-8aacddfa3065",
   "metadata": {
    "tags": []
   },
   "outputs": [
    {
     "ename": "AttributeError",
     "evalue": "'list' object has no attribute 'text'",
     "output_type": "error",
     "traceback": [
      "\u001b[0;31m---------------------------------------------------------------------------\u001b[0m",
      "\u001b[0;31mAttributeError\u001b[0m                            Traceback (most recent call last)",
      "Cell \u001b[0;32mIn[18], line 2\u001b[0m\n\u001b[1;32m      1\u001b[0m \u001b[38;5;28;01mfor\u001b[39;00m i \u001b[38;5;129;01min\u001b[39;00m e2:\n\u001b[0;32m----> 2\u001b[0m     \u001b[38;5;28mprint\u001b[39m(e2\u001b[38;5;241m.\u001b[39mtext)\n",
      "\u001b[0;31mAttributeError\u001b[0m: 'list' object has no attribute 'text'"
     ]
    }
   ],
   "source": [
    "for i in e2:\n",
    "    print(e2.text)"
   ]
  },
  {
   "cell_type": "code",
   "execution_count": 25,
   "id": "fe9f444c-4e35-4b6d-9d95-a2d31c596436",
   "metadata": {
    "tags": []
   },
   "outputs": [
    {
     "data": {
      "text/plain": [
       "1"
      ]
     },
     "execution_count": 25,
     "metadata": {},
     "output_type": "execute_result"
    }
   ],
   "source": [
    "xp3=\"//DIV[@class='secon_banner_campus']/self::DIV\"\n",
    "e3 = driver.find_elements(By.XPATH, xp3)\n",
    "len(e3)"
   ]
  },
  {
   "cell_type": "code",
   "execution_count": 31,
   "id": "b354e8b4-e0ef-43a3-a427-929cbcca8b7d",
   "metadata": {
    "tags": []
   },
   "outputs": [
    {
     "data": {
      "text/plain": [
       "''"
      ]
     },
     "execution_count": 31,
     "metadata": {},
     "output_type": "execute_result"
    }
   ],
   "source": [
    "e3[0].text"
   ]
  },
  {
   "cell_type": "code",
   "execution_count": 43,
   "id": "5f3a9722-be8e-46d2-80a5-ba82e8ce2730",
   "metadata": {
    "tags": []
   },
   "outputs": [
    {
     "data": {
      "text/plain": [
       "1"
      ]
     },
     "execution_count": 43,
     "metadata": {},
     "output_type": "execute_result"
    }
   ],
   "source": [
    "#xp4 ='//*[@id=\"figurebanner1_RepBannerImg_ctl00_liinner\"]/a'\n",
    "xp4 ='//*[@id=\"carouselExampleIndicators\"]'\n",
    "e4 = driver.find_elements(By.ID, 'carouselExampleIndicators')\n",
    "len(e4)"
   ]
  },
  {
   "cell_type": "code",
   "execution_count": 44,
   "id": "c7e8d20b-225d-4ec8-b822-4efc92b19c34",
   "metadata": {
    "tags": []
   },
   "outputs": [
    {
     "data": {
      "text/plain": [
       "'Mumbai Campus\\nPrevious\\nNext'"
      ]
     },
     "execution_count": 44,
     "metadata": {},
     "output_type": "execute_result"
    }
   ],
   "source": [
    "e4[0].text"
   ]
  },
  {
   "cell_type": "code",
   "execution_count": 49,
   "id": "77553951-dcfa-4c12-a5e8-ad8786c074cd",
   "metadata": {
    "tags": []
   },
   "outputs": [
    {
     "data": {
      "text/plain": [
       "25"
      ]
     },
     "execution_count": 49,
     "metadata": {},
     "output_type": "execute_result"
    }
   ],
   "source": [
    "e5 = driver.find_elements(By.CLASS_NAME, 'nav-link')\n",
    "len(e5)"
   ]
  },
  {
   "cell_type": "code",
   "execution_count": 59,
   "id": "74a4009e-1e0c-41e9-ad03-f53933443f9b",
   "metadata": {
    "tags": []
   },
   "outputs": [],
   "source": [
    "#for i in e5:    print(i, '-', i.text)"
   ]
  },
  {
   "cell_type": "code",
   "execution_count": 139,
   "id": "89dbed4c-0985-4065-b1b4-0810166dd0c6",
   "metadata": {
    "tags": []
   },
   "outputs": [],
   "source": [
    "cService = webdriver.ChromeService()\n",
    "driver = webdriver.Chrome(service = cService)\n",
    "driver.set_page_load_timeout(200)"
   ]
  },
  {
   "cell_type": "code",
   "execution_count": 140,
   "id": "61220f31-cbe1-4795-b850-5f087fe81a6d",
   "metadata": {
    "tags": []
   },
   "outputs": [],
   "source": [
    "# Open the target website\n",
    "url = \"https://www.amity.edu/programe-list.aspx?fd=all\"\n",
    "driver.get(url)"
   ]
  },
  {
   "cell_type": "code",
   "execution_count": 141,
   "id": "4f497eab-19d4-4139-af64-2cda44042274",
   "metadata": {
    "tags": []
   },
   "outputs": [],
   "source": [
    "# Wait for the page to load completely\n",
    "wait = WebDriverWait(driver, 5)  # Adjust timeout as needed"
   ]
  },
  {
   "cell_type": "code",
   "execution_count": 142,
   "id": "dd5750c1-9ec8-4dd4-baaa-4f862b590550",
   "metadata": {
    "tags": []
   },
   "outputs": [],
   "source": [
    "# List to store program details\n",
    "program_details = []"
   ]
  },
  {
   "cell_type": "code",
   "execution_count": 143,
   "id": "4cfbc97b-40c2-486c-8df8-c4fd2489ce20",
   "metadata": {
    "tags": []
   },
   "outputs": [],
   "source": [
    "xp1 ='//*[@id=\"ctl00_ContentPlaceHolder1_UpdatePanel2\"]/section/section/div/div/ul/div'"
   ]
  },
  {
   "cell_type": "code",
   "execution_count": 144,
   "id": "77f1fc6d-40de-4d36-883b-274f26e80b3b",
   "metadata": {
    "tags": []
   },
   "outputs": [],
   "source": [
    "programs = wait.until( EC.presence_of_all_elements_located((By.XPATH, xp1))) # Replace with the correct class"
   ]
  },
  {
   "cell_type": "code",
   "execution_count": 145,
   "id": "661844ed-0b64-4306-bbe6-843919574ef9",
   "metadata": {
    "tags": []
   },
   "outputs": [
    {
     "data": {
      "text/plain": [
       "126"
      ]
     },
     "execution_count": 145,
     "metadata": {},
     "output_type": "execute_result"
    }
   ],
   "source": [
    "len(programs)"
   ]
  },
  {
   "cell_type": "code",
   "execution_count": 146,
   "id": "269d3fc6-bc19-45f1-a9b5-1c9f219f1020",
   "metadata": {
    "tags": []
   },
   "outputs": [
    {
     "data": {
      "text/plain": [
       "'Acting'"
      ]
     },
     "execution_count": 146,
     "metadata": {},
     "output_type": "execute_result"
    }
   ],
   "source": [
    "programs[0].text"
   ]
  },
  {
   "cell_type": "code",
   "execution_count": 154,
   "id": "5df36d22-af23-4fe8-b1d7-5fc2d35a336b",
   "metadata": {
    "tags": []
   },
   "outputs": [
    {
     "data": {
      "text/plain": [
       "'\\n\\t\\t\\t\\t\\t\\t\\t\\t\\t<li class=\"item col-12\"><a href=\"javascript:void(0);\">Acting</a>\\n\\t\\t\\t\\t\\t\\t\\t\\t\\t\\t<div class=\"slide_content\">\\n\\t\\t\\t\\t\\t\\t\\t\\t\\t\\t\\t<a href=\"javascript:void(0);\" class=\"slide_close\"><span class=\"lnr lnr-cross-circle\"></span></a>\\n\\t\\t\\t\\t\\t\\t\\t\\t\\t\\t\\t<div class=\"row\">\\n\\t\\t\\t\\t\\t\\t\\t\\t\\t\\t\\t\\t<div class=\"col-lg-12\">\\n\\n                                                \\n                                                       <div class=\"programe_list_box\"> \\n                                                          <p><strong>B.A. (Acting)</strong>\\n\\t\\t\\t\\t\\t\\t\\t\\t\\t\\t\\t\\t\\t<a href=\"course-details.aspx?fd=FzNymoX3dH0=&amp;cfn=rwVzpSkG2hE2CdpDKHStuQ==\"> Noida</a> </p>\\n\\n\\n\\n                                \\n                                  \\n                                </div>\\n                                                        \\n                                                       <div class=\"programe_list_box\"> \\n                                                          <p><strong>B.A. (Acting) (Honours/Honours with Research)</strong>\\n\\t\\t\\t\\t\\t\\t\\t\\t\\t\\t\\t\\t\\t<a href=\"course-details.aspx?fd=FzNymoX3dH0=&amp;cfn=YBrYnCk+mvROcd92RPXMdg==\"> Noida</a> </p>\\n\\n\\n\\n                                \\n                                  \\n                                </div>\\n                                                        \\n                                                       <div class=\"programe_list_box\"> \\n                                                          <p><strong>PG Diploma in Acting</strong>\\n\\t\\t\\t\\t\\t\\t\\t\\t\\t\\t\\t\\t\\t<a href=\"course-details.aspx?fd=FzNymoX3dH0=&amp;cfn=4oECYdUXdTpRH7vLa5bm3g==\"> Noida</a> </p>\\n\\n\\n\\n                                \\n                                  \\n                                </div>\\n                                                        \\n\\n\\n\\n\\t\\t\\t\\t\\t\\t\\t\\t\\t\\t\\t\\t\\n\\t\\t\\t\\t\\t\\t\\t\\t\\t\\t\\t\\t\\t\\n\\t\\t\\t\\t\\t\\t\\t\\t\\t\\t\\t\\t</div>\\n\\t\\t\\t\\t\\t\\t\\t\\t\\t\\t\\t\\t\\n\\t\\t\\t\\t\\t\\t\\t\\t\\t\\t\\t</div>\\n\\t\\t\\t\\t\\t\\t\\t\\t\\t\\t</div>\\n\\t\\t\\t\\t\\t\\t\\t\\t\\t</li>\\n                                    \\n\\t\\t\\t\\t\\t\\t\\t\\t'"
      ]
     },
     "execution_count": 154,
     "metadata": {},
     "output_type": "execute_result"
    }
   ],
   "source": [
    "programs[0].get_attribute('innerHTML')"
   ]
  },
  {
   "cell_type": "code",
   "execution_count": 155,
   "id": "892da7be-efc6-4269-9f7e-b092616dd37d",
   "metadata": {
    "tags": []
   },
   "outputs": [
    {
     "data": {
      "text/plain": [
       "'\\n\\t\\t\\t\\t\\t\\t\\t\\t\\t<li class=\"item col-12\"><a href=\"javascript:void(0);\">Acting</a>\\n\\t\\t\\t\\t\\t\\t\\t\\t\\t\\t<div class=\"slide_content\">\\n\\t\\t\\t\\t\\t\\t\\t\\t\\t\\t\\t<a href=\"javascript:void(0);\" class=\"slide_close\"><span class=\"lnr lnr-cross-circle\"></span></a>\\n\\t\\t\\t\\t\\t\\t\\t\\t\\t\\t\\t<div class=\"row\">\\n\\t\\t\\t\\t\\t\\t\\t\\t\\t\\t\\t\\t<div class=\"col-lg-12\">\\n\\n                                                \\n                                                       <div class=\"programe_list_box\"> \\n                                                          <p><strong>B.A. (Acting)</strong>\\n\\t\\t\\t\\t\\t\\t\\t\\t\\t\\t\\t\\t\\t<a href=\"course-details.aspx?fd=FzNymoX3dH0=&amp;cfn=rwVzpSkG2hE2CdpDKHStuQ==\"> Noida</a> </p>\\n\\n\\n\\n                                \\n                                  \\n                                </div>\\n                                                        \\n                                                       <div class=\"programe_list_box\"> \\n                                                          <p><strong>B.A. (Acting) (Honours/Honours with Research)</strong>\\n\\t\\t\\t\\t\\t\\t\\t\\t\\t\\t\\t\\t\\t<a href=\"course-details.aspx?fd=FzNymoX3dH0=&amp;cfn=YBrYnCk+mvROcd92RPXMdg==\"> Noida</a> </p>\\n\\n\\n\\n                                \\n                                  \\n                                </div>\\n                                                        \\n                                                       <div class=\"programe_list_box\"> \\n                                                          <p><strong>PG Diploma in Acting</strong>\\n\\t\\t\\t\\t\\t\\t\\t\\t\\t\\t\\t\\t\\t<a href=\"course-details.aspx?fd=FzNymoX3dH0=&amp;cfn=4oECYdUXdTpRH7vLa5bm3g==\"> Noida</a> </p>\\n\\n\\n\\n                                \\n                                  \\n                                </div>\\n                                                        \\n\\n\\n\\n\\t\\t\\t\\t\\t\\t\\t\\t\\t\\t\\t\\t\\n\\t\\t\\t\\t\\t\\t\\t\\t\\t\\t\\t\\t\\t\\n\\t\\t\\t\\t\\t\\t\\t\\t\\t\\t\\t\\t</div>\\n\\t\\t\\t\\t\\t\\t\\t\\t\\t\\t\\t\\t\\n\\t\\t\\t\\t\\t\\t\\t\\t\\t\\t\\t</div>\\n\\t\\t\\t\\t\\t\\t\\t\\t\\t\\t</div>\\n\\t\\t\\t\\t\\t\\t\\t\\t\\t</li>\\n                                    \\n\\t\\t\\t\\t\\t\\t\\t\\t'"
      ]
     },
     "execution_count": 155,
     "metadata": {},
     "output_type": "execute_result"
    }
   ],
   "source": [
    "driver.execute_script(\"return arguments[0].innerHTML\", programs[0])"
   ]
  },
  {
   "cell_type": "code",
   "execution_count": 151,
   "id": "79af7674-e4ed-43bb-b060-c94bce476dc0",
   "metadata": {
    "tags": []
   },
   "outputs": [
    {
     "data": {
      "text/plain": [
       "'Acting'"
      ]
     },
     "execution_count": 151,
     "metadata": {},
     "output_type": "execute_result"
    }
   ],
   "source": [
    "programs[0].get_attribute('innerText')"
   ]
  },
  {
   "cell_type": "code",
   "execution_count": 156,
   "id": "71336bed-2aa5-42f3-884d-73d11d324817",
   "metadata": {
    "tags": []
   },
   "outputs": [
    {
     "data": {
      "text/plain": [
       "'\\n\\t\\t\\t\\t\\t\\t\\t\\t\\tActing\\n\\t\\t\\t\\t\\t\\t\\t\\t\\t\\t\\n\\t\\t\\t\\t\\t\\t\\t\\t\\t\\t\\t\\n\\t\\t\\t\\t\\t\\t\\t\\t\\t\\t\\t\\n\\t\\t\\t\\t\\t\\t\\t\\t\\t\\t\\t\\t\\n\\n                                                \\n                                                        \\n                                                          B.A. (Acting)\\n\\t\\t\\t\\t\\t\\t\\t\\t\\t\\t\\t\\t\\t Noida \\n\\n\\n\\n                                \\n                                  \\n                                \\n                                                        \\n                                                        \\n                                                          B.A. (Acting) (Honours/Honours with Research)\\n\\t\\t\\t\\t\\t\\t\\t\\t\\t\\t\\t\\t\\t Noida \\n\\n\\n\\n                                \\n                                  \\n                                \\n                                                        \\n                                                        \\n                                                          PG Diploma in Acting\\n\\t\\t\\t\\t\\t\\t\\t\\t\\t\\t\\t\\t\\t Noida \\n\\n\\n\\n                                \\n                                  \\n                                \\n                                                        \\n\\n\\n\\n\\t\\t\\t\\t\\t\\t\\t\\t\\t\\t\\t\\t\\n\\t\\t\\t\\t\\t\\t\\t\\t\\t\\t\\t\\t\\t\\n\\t\\t\\t\\t\\t\\t\\t\\t\\t\\t\\t\\t\\n\\t\\t\\t\\t\\t\\t\\t\\t\\t\\t\\t\\t\\n\\t\\t\\t\\t\\t\\t\\t\\t\\t\\t\\t\\n\\t\\t\\t\\t\\t\\t\\t\\t\\t\\t\\n\\t\\t\\t\\t\\t\\t\\t\\t\\t\\n                                    \\n\\t\\t\\t\\t\\t\\t\\t\\t'"
      ]
     },
     "execution_count": 156,
     "metadata": {},
     "output_type": "execute_result"
    }
   ],
   "source": [
    "programs[0].get_attribute('textContent')"
   ]
  },
  {
   "cell_type": "code",
   "execution_count": 161,
   "id": "0e3484e5-c9d6-47c7-9d74-03452b55269b",
   "metadata": {
    "tags": []
   },
   "outputs": [
    {
     "data": {
      "text/plain": [
       "'\\n\\t\\t\\t\\t\\t\\t\\t\\t\\tActing\\n\\t\\t\\t\\t\\t\\t\\t\\t\\t\\t\\n\\t\\t\\t\\t\\t\\t\\t\\t\\t\\t\\t\\n\\t\\t\\t\\t\\t\\t\\t\\t\\t\\t\\t\\n\\t\\t\\t\\t\\t\\t\\t\\t\\t\\t\\t\\t\\n\\n                                                \\n                                                        \\n                                                          B.A. (Acting)\\n\\t\\t\\t\\t\\t\\t\\t\\t\\t\\t\\t\\t\\t Noida \\n\\n\\n\\n                                \\n                                  \\n                                \\n                                                        \\n                                                        \\n                                                          B.A. (Acting) (Honours/Honours with Research)\\n\\t\\t\\t\\t\\t\\t\\t\\t\\t\\t\\t\\t\\t Noida \\n\\n\\n\\n                                \\n                                  \\n                                \\n                                                        \\n                                                        \\n                                                          PG Diploma in Acting\\n\\t\\t\\t\\t\\t\\t\\t\\t\\t\\t\\t\\t\\t Noida \\n\\n\\n\\n                                \\n                                  \\n                                \\n                                                        \\n\\n\\n\\n\\t\\t\\t\\t\\t\\t\\t\\t\\t\\t\\t\\t\\n\\t\\t\\t\\t\\t\\t\\t\\t\\t\\t\\t\\t\\t\\n\\t\\t\\t\\t\\t\\t\\t\\t\\t\\t\\t\\t\\n\\t\\t\\t\\t\\t\\t\\t\\t\\t\\t\\t\\t\\n\\t\\t\\t\\t\\t\\t\\t\\t\\t\\t\\t\\n\\t\\t\\t\\t\\t\\t\\t\\t\\t\\t\\n\\t\\t\\t\\t\\t\\t\\t\\t\\t\\n                                    \\n\\t\\t\\t\\t\\t\\t\\t\\t'"
      ]
     },
     "execution_count": 161,
     "metadata": {},
     "output_type": "execute_result"
    }
   ],
   "source": [
    "driver.execute_script(\"return arguments[0].textContent\", programs[0])"
   ]
  },
  {
   "cell_type": "code",
   "execution_count": 210,
   "id": "76e047c9-d6a2-4b0c-abf0-00170c90a8e5",
   "metadata": {
    "tags": []
   },
   "outputs": [],
   "source": [
    "inner_html = programs[3].get_attribute(\"innerHTML\")"
   ]
  },
  {
   "cell_type": "code",
   "execution_count": 211,
   "id": "06292567-27d7-4864-af27-61473a620d7d",
   "metadata": {
    "tags": []
   },
   "outputs": [
    {
     "data": {
      "text/plain": [
       "'\\n\\t\\t\\t\\t\\t\\t\\t\\t\\t<li class=\"item col-12\"><a href=\"javascript:void(0);\">Advertising &amp; PR</a>\\n\\t\\t\\t\\t\\t\\t\\t\\t\\t\\t<div class=\"slide_content\">\\n\\t\\t\\t\\t\\t\\t\\t\\t\\t\\t\\t<a href=\"javascript:void(0);\" class=\"slide_close\"><span class=\"lnr lnr-cross-circle\"></span></a>\\n\\t\\t\\t\\t\\t\\t\\t\\t\\t\\t\\t<div class=\"row\">\\n\\t\\t\\t\\t\\t\\t\\t\\t\\t\\t\\t\\t<div class=\"col-lg-12\">\\n\\n                                                \\n                                                       <div class=\"programe_list_box\"> \\n                                                          <p><strong>M.A. (Advertising &amp; PR)</strong>\\n\\t\\t\\t\\t\\t\\t\\t\\t\\t\\t\\t\\t\\t<a href=\"course-details.aspx?fd=HMvncVYU9XU=&amp;cfn=GXv4lR1YCKU=\"> Mumbai</a> </p>\\n\\n\\n\\n                                \\n                                  \\n                                </div>\\n                                                        \\n                                                       <div class=\"programe_list_box\"> \\n                                                          <p><strong>MA (Advertising &amp; Marketing Management)</strong>\\n\\t\\t\\t\\t\\t\\t\\t\\t\\t\\t\\t\\t\\t<a href=\"course-details.aspx?fd=D8lvJTW19oE=&amp;cfn=J8msEYEHReo=\"> Lucknow</a> </p>\\n\\n\\n\\n                                \\n                                  \\n                                </div>\\n                                                        \\n                                                       <div class=\"programe_list_box\"> \\n                                                          <p><strong>MA (PR &amp; Event Management)</strong>\\n\\t\\t\\t\\t\\t\\t\\t\\t\\t\\t\\t\\t\\t<a href=\"course-details.aspx?fd=90PDK0gVdOs=&amp;cfn=Ud8OEppAbvs=\"> Ranchi</a> |<a href=\"course-details.aspx?fd=s2eqoSkC5lc=&amp;cfn=Oz2UHlEljBc=\"> Patna</a> |<a href=\"course-details.aspx?fd=o99or86MQh0=&amp;cfn=vteKdkKOMmg=\"> Kolkata</a> </p>\\n\\n\\n\\n                                \\n                                  \\n                                </div>\\n                                                        \\n\\n\\n\\n\\t\\t\\t\\t\\t\\t\\t\\t\\t\\t\\t\\t\\n\\t\\t\\t\\t\\t\\t\\t\\t\\t\\t\\t\\t\\t\\n\\t\\t\\t\\t\\t\\t\\t\\t\\t\\t\\t\\t</div>\\n\\t\\t\\t\\t\\t\\t\\t\\t\\t\\t\\t\\t\\n\\t\\t\\t\\t\\t\\t\\t\\t\\t\\t\\t</div>\\n\\t\\t\\t\\t\\t\\t\\t\\t\\t\\t</div>\\n\\t\\t\\t\\t\\t\\t\\t\\t\\t</li>\\n                                    \\n\\t\\t\\t\\t\\t\\t\\t\\t'"
      ]
     },
     "execution_count": 211,
     "metadata": {},
     "output_type": "execute_result"
    }
   ],
   "source": [
    "inner_html"
   ]
  },
  {
   "cell_type": "code",
   "execution_count": 212,
   "id": "f85dfa99-07d7-428a-92b3-55dd42c05685",
   "metadata": {
    "tags": []
   },
   "outputs": [],
   "source": [
    "soup = BeautifulSoup(inner_html, \"html.parser\")\n",
    "text_only = soup.get_text()"
   ]
  },
  {
   "cell_type": "code",
   "execution_count": 213,
   "id": "05cb80c5-6fd3-47da-89c7-e8aef9c6ea29",
   "metadata": {
    "tags": []
   },
   "outputs": [
    {
     "name": "stdout",
     "output_type": "stream",
     "text": [
      "\n",
      "Advertising & PR\n",
      "\n",
      "\n",
      "\n",
      "\n",
      "\n",
      "M.A. (Advertising & PR)\n",
      " Mumbai \n",
      "\n",
      "\n",
      "MA (Advertising & Marketing Management)\n",
      " Lucknow \n",
      "\n",
      "\n",
      "MA (PR & Event Management)\n",
      " Ranchi | Patna | Kolkata \n",
      "\n",
      "\n",
      "\n",
      "\n",
      "\n",
      "\n"
     ]
    }
   ],
   "source": [
    "print(text_only)  # Extracted text without HTML tags"
   ]
  },
  {
   "cell_type": "code",
   "execution_count": 214,
   "id": "5ae4bbc1-a476-4220-a9b1-909b806e0e42",
   "metadata": {
    "tags": []
   },
   "outputs": [
    {
     "data": {
      "text/plain": [
       "'Advertising & PR: M.A. (Advertising & PR)\\n Mumbai \\nMA (Advertising & Marketing Management)\\n Lucknow \\nMA (PR & Event Management)\\n Ranchi | Patna | Kolkata \\n'"
      ]
     },
     "execution_count": 214,
     "metadata": {},
     "output_type": "execute_result"
    }
   ],
   "source": [
    "text2 = re.sub(r'^$\\n', '', text_only, flags=re.MULTILINE)\n",
    "text3=text2.replace(\"\\n\",\": \",1)\n",
    "#text4=text3.replace(\"\\n\",\"; \")\n",
    "text3"
   ]
  },
  {
   "cell_type": "code",
   "execution_count": 215,
   "id": "3f8b2248-ee8b-482e-973c-6033682306e2",
   "metadata": {
    "tags": []
   },
   "outputs": [],
   "source": [
    "def replace_odd_newlines(input_string):\n",
    "    # Convert the string into a list of characters for easier manipulation\n",
    "    result = []\n",
    "    newline_count = 0\n",
    "\n",
    "    for char in input_string:\n",
    "        if char == '\\n':\n",
    "            newline_count += 1\n",
    "            # Replace with ';' if it's an odd occurrence\n",
    "            if newline_count % 2 == 1:\n",
    "                result.append(',')\n",
    "            else:\n",
    "                result.append('; ')\n",
    "        else:\n",
    "            result.append(char)\n",
    "\n",
    "    # Join the result list back into a string\n",
    "    return ''.join(result)"
   ]
  },
  {
   "cell_type": "code",
   "execution_count": 216,
   "id": "0b988722-e966-4867-8422-7bc0742799b5",
   "metadata": {
    "tags": []
   },
   "outputs": [
    {
     "data": {
      "text/plain": [
       "'Advertising & PR: M.A. (Advertising & PR), Mumbai ; MA (Advertising & Marketing Management), Lucknow ; MA (PR & Event Management), Ranchi | Patna | Kolkata ; '"
      ]
     },
     "execution_count": 216,
     "metadata": {},
     "output_type": "execute_result"
    }
   ],
   "source": [
    "output_str = replace_odd_newlines(text3)\n",
    "output_str"
   ]
  },
  {
   "cell_type": "code",
   "execution_count": 218,
   "id": "d0cfa2a1-3284-4bff-bb31-699a91947942",
   "metadata": {
    "tags": []
   },
   "outputs": [],
   "source": [
    "#This is better"
   ]
  },
  {
   "cell_type": "code",
   "execution_count": 217,
   "id": "5dfbb8e7-3a02-4f22-b7c4-ec0ab4f3e58d",
   "metadata": {
    "tags": []
   },
   "outputs": [],
   "source": [
    "programs[1].click()"
   ]
  },
  {
   "cell_type": "code",
   "execution_count": 114,
   "id": "7d89f88d-2fde-4c09-b4df-01012acc69b2",
   "metadata": {
    "tags": []
   },
   "outputs": [],
   "source": [
    "programs[1].find_element(By.XPATH, '//*[@id=\"ctl00_ContentPlaceHolder1_UpdatePanel2\"]/section/section/div/div/ul/div[2]/li/div/a/span').click()"
   ]
  },
  {
   "cell_type": "code",
   "execution_count": 115,
   "id": "293631d4-f14f-48a0-95f1-c4816109ddc9",
   "metadata": {
    "tags": []
   },
   "outputs": [],
   "source": [
    "programs[2].click()"
   ]
  },
  {
   "cell_type": "code",
   "execution_count": 123,
   "id": "3ff77a80-83ef-4ccb-84c7-8a9161c4301f",
   "metadata": {
    "tags": []
   },
   "outputs": [
    {
     "data": {
      "text/plain": [
       "'MA (Advertising & Marketing Management)\\nNoida'"
      ]
     },
     "execution_count": 123,
     "metadata": {},
     "output_type": "execute_result"
    }
   ],
   "source": [
    "programs[2].find_element(By.XPATH, '//*[@id=\"ctl00_ContentPlaceHolder1_UpdatePanel2\"]/section/section/div/div/ul/div[3]/li/div').text"
   ]
  },
  {
   "cell_type": "code",
   "execution_count": 124,
   "id": "636d7c8d-ea2f-4997-aad2-4aec8959c18a",
   "metadata": {
    "tags": []
   },
   "outputs": [],
   "source": [
    "programs[2].find_element(By.XPATH, '//*[@id=\"ctl00_ContentPlaceHolder1_UpdatePanel2\"]/section/section/div/div/ul/div[3]/li/div/a/span').click()"
   ]
  },
  {
   "cell_type": "code",
   "execution_count": 94,
   "id": "f923387c-69ad-438f-ab96-0380e63be94a",
   "metadata": {
    "tags": []
   },
   "outputs": [
    {
     "ename": "NoSuchElementException",
     "evalue": "Message: no such element: Unable to locate element: {\"method\":\"css selector\",\"selector\":\".program_list_box\"}\n  (Session info: chrome=131.0.6778.205); For documentation on this error, please visit: https://www.selenium.dev/documentation/webdriver/troubleshooting/errors#no-such-element-exception\nStacktrace:\n0   chromedriver                        0x000000010075f184 cxxbridge1$str$ptr + 3626716\n1   chromedriver                        0x00000001007579d4 cxxbridge1$str$ptr + 3596076\n2   chromedriver                        0x00000001001c4968 cxxbridge1$string$len + 89228\n3   chromedriver                        0x0000000100208d50 cxxbridge1$string$len + 368756\n4   chromedriver                        0x00000001001feec8 cxxbridge1$string$len + 328172\n5   chromedriver                        0x00000001002425b4 cxxbridge1$string$len + 604376\n6   chromedriver                        0x00000001001fd568 cxxbridge1$string$len + 321676\n7   chromedriver                        0x00000001001fe1b8 cxxbridge1$string$len + 324828\n8   chromedriver                        0x000000010072a9ac cxxbridge1$str$ptr + 3411716\n9   chromedriver                        0x000000010072dccc cxxbridge1$str$ptr + 3424804\n10  chromedriver                        0x000000010071186c cxxbridge1$str$ptr + 3308996\n11  chromedriver                        0x000000010072e58c cxxbridge1$str$ptr + 3427044\n12  chromedriver                        0x000000010070309c cxxbridge1$str$ptr + 3249652\n13  chromedriver                        0x00000001007484b8 cxxbridge1$str$ptr + 3533328\n14  chromedriver                        0x0000000100748634 cxxbridge1$str$ptr + 3533708\n15  chromedriver                        0x0000000100757648 cxxbridge1$str$ptr + 3595168\n16  libsystem_pthread.dylib             0x0000000187a3c2e4 _pthread_start + 136\n17  libsystem_pthread.dylib             0x0000000187a370fc thread_start + 8\n",
     "output_type": "error",
     "traceback": [
      "\u001b[0;31m---------------------------------------------------------------------------\u001b[0m",
      "\u001b[0;31mNoSuchElementException\u001b[0m                    Traceback (most recent call last)",
      "Cell \u001b[0;32mIn[94], line 4\u001b[0m\n\u001b[1;32m      1\u001b[0m \u001b[38;5;28;01mfor\u001b[39;00m program \u001b[38;5;129;01min\u001b[39;00m programs:\n\u001b[1;32m      2\u001b[0m         \u001b[38;5;66;03m# Extract specific details (e.g., title, description, link)\u001b[39;00m\n\u001b[1;32m      3\u001b[0m         program\u001b[38;5;241m.\u001b[39mclick()\n\u001b[0;32m----> 4\u001b[0m         title \u001b[38;5;241m=\u001b[39m program\u001b[38;5;241m.\u001b[39mfind_element(By\u001b[38;5;241m.\u001b[39mCLASS_NAME, \u001b[38;5;124m\"\u001b[39m\u001b[38;5;124mprogram_list_box\u001b[39m\u001b[38;5;124m\"\u001b[39m)\u001b[38;5;241m.\u001b[39mtext  \u001b[38;5;66;03m# Adjust selector\u001b[39;00m\n\u001b[1;32m      5\u001b[0m         \u001b[38;5;66;03m#description = program.find_element(By.CSS_SELECTOR, \".program-description\").text  # Adjust selector\u001b[39;00m\n\u001b[1;32m      6\u001b[0m         \u001b[38;5;66;03m#link = program.find_element(By.TAG_NAME, \"a\").get_attribute(\"href\")  # Adjust selector\u001b[39;00m\n\u001b[1;32m      7\u001b[0m \n\u001b[1;32m      8\u001b[0m         \u001b[38;5;66;03m# Append to the list as a dictionary\u001b[39;00m\n\u001b[1;32m      9\u001b[0m         program_details\u001b[38;5;241m.\u001b[39mappend({\n\u001b[1;32m     10\u001b[0m             \u001b[38;5;124m\"\u001b[39m\u001b[38;5;124mTitle\u001b[39m\u001b[38;5;124m\"\u001b[39m: title,\n\u001b[1;32m     11\u001b[0m             \u001b[38;5;66;03m#\"Description\": description,\u001b[39;00m\n\u001b[1;32m     12\u001b[0m             \u001b[38;5;66;03m#\"Link\": link\u001b[39;00m\n\u001b[1;32m     13\u001b[0m         })\n",
      "File \u001b[0;32m~/anaconda3/lib/python3.11/site-packages/selenium/webdriver/remote/webelement.py:417\u001b[0m, in \u001b[0;36mWebElement.find_element\u001b[0;34m(self, by, value)\u001b[0m\n\u001b[1;32m    414\u001b[0m     by \u001b[38;5;241m=\u001b[39m By\u001b[38;5;241m.\u001b[39mCSS_SELECTOR\n\u001b[1;32m    415\u001b[0m     value \u001b[38;5;241m=\u001b[39m \u001b[38;5;124mf\u001b[39m\u001b[38;5;124m'\u001b[39m\u001b[38;5;124m[name=\u001b[39m\u001b[38;5;124m\"\u001b[39m\u001b[38;5;132;01m{\u001b[39;00mvalue\u001b[38;5;132;01m}\u001b[39;00m\u001b[38;5;124m\"\u001b[39m\u001b[38;5;124m]\u001b[39m\u001b[38;5;124m'\u001b[39m\n\u001b[0;32m--> 417\u001b[0m \u001b[38;5;28;01mreturn\u001b[39;00m \u001b[38;5;28mself\u001b[39m\u001b[38;5;241m.\u001b[39m_execute(Command\u001b[38;5;241m.\u001b[39mFIND_CHILD_ELEMENT, {\u001b[38;5;124m\"\u001b[39m\u001b[38;5;124musing\u001b[39m\u001b[38;5;124m\"\u001b[39m: by, \u001b[38;5;124m\"\u001b[39m\u001b[38;5;124mvalue\u001b[39m\u001b[38;5;124m\"\u001b[39m: value})[\u001b[38;5;124m\"\u001b[39m\u001b[38;5;124mvalue\u001b[39m\u001b[38;5;124m\"\u001b[39m]\n",
      "File \u001b[0;32m~/anaconda3/lib/python3.11/site-packages/selenium/webdriver/remote/webelement.py:395\u001b[0m, in \u001b[0;36mWebElement._execute\u001b[0;34m(self, command, params)\u001b[0m\n\u001b[1;32m    393\u001b[0m     params \u001b[38;5;241m=\u001b[39m {}\n\u001b[1;32m    394\u001b[0m params[\u001b[38;5;124m\"\u001b[39m\u001b[38;5;124mid\u001b[39m\u001b[38;5;124m\"\u001b[39m] \u001b[38;5;241m=\u001b[39m \u001b[38;5;28mself\u001b[39m\u001b[38;5;241m.\u001b[39m_id\n\u001b[0;32m--> 395\u001b[0m \u001b[38;5;28;01mreturn\u001b[39;00m \u001b[38;5;28mself\u001b[39m\u001b[38;5;241m.\u001b[39m_parent\u001b[38;5;241m.\u001b[39mexecute(command, params)\n",
      "File \u001b[0;32m~/anaconda3/lib/python3.11/site-packages/selenium/webdriver/remote/webdriver.py:347\u001b[0m, in \u001b[0;36mWebDriver.execute\u001b[0;34m(self, driver_command, params)\u001b[0m\n\u001b[1;32m    345\u001b[0m response \u001b[38;5;241m=\u001b[39m \u001b[38;5;28mself\u001b[39m\u001b[38;5;241m.\u001b[39mcommand_executor\u001b[38;5;241m.\u001b[39mexecute(driver_command, params)\n\u001b[1;32m    346\u001b[0m \u001b[38;5;28;01mif\u001b[39;00m response:\n\u001b[0;32m--> 347\u001b[0m     \u001b[38;5;28mself\u001b[39m\u001b[38;5;241m.\u001b[39merror_handler\u001b[38;5;241m.\u001b[39mcheck_response(response)\n\u001b[1;32m    348\u001b[0m     response[\u001b[38;5;124m\"\u001b[39m\u001b[38;5;124mvalue\u001b[39m\u001b[38;5;124m\"\u001b[39m] \u001b[38;5;241m=\u001b[39m \u001b[38;5;28mself\u001b[39m\u001b[38;5;241m.\u001b[39m_unwrap_value(response\u001b[38;5;241m.\u001b[39mget(\u001b[38;5;124m\"\u001b[39m\u001b[38;5;124mvalue\u001b[39m\u001b[38;5;124m\"\u001b[39m, \u001b[38;5;28;01mNone\u001b[39;00m))\n\u001b[1;32m    349\u001b[0m     \u001b[38;5;28;01mreturn\u001b[39;00m response\n",
      "File \u001b[0;32m~/anaconda3/lib/python3.11/site-packages/selenium/webdriver/remote/errorhandler.py:229\u001b[0m, in \u001b[0;36mErrorHandler.check_response\u001b[0;34m(self, response)\u001b[0m\n\u001b[1;32m    227\u001b[0m         alert_text \u001b[38;5;241m=\u001b[39m value[\u001b[38;5;124m\"\u001b[39m\u001b[38;5;124malert\u001b[39m\u001b[38;5;124m\"\u001b[39m]\u001b[38;5;241m.\u001b[39mget(\u001b[38;5;124m\"\u001b[39m\u001b[38;5;124mtext\u001b[39m\u001b[38;5;124m\"\u001b[39m)\n\u001b[1;32m    228\u001b[0m     \u001b[38;5;28;01mraise\u001b[39;00m exception_class(message, screen, stacktrace, alert_text)  \u001b[38;5;66;03m# type: ignore[call-arg]  # mypy is not smart enough here\u001b[39;00m\n\u001b[0;32m--> 229\u001b[0m \u001b[38;5;28;01mraise\u001b[39;00m exception_class(message, screen, stacktrace)\n",
      "\u001b[0;31mNoSuchElementException\u001b[0m: Message: no such element: Unable to locate element: {\"method\":\"css selector\",\"selector\":\".program_list_box\"}\n  (Session info: chrome=131.0.6778.205); For documentation on this error, please visit: https://www.selenium.dev/documentation/webdriver/troubleshooting/errors#no-such-element-exception\nStacktrace:\n0   chromedriver                        0x000000010075f184 cxxbridge1$str$ptr + 3626716\n1   chromedriver                        0x00000001007579d4 cxxbridge1$str$ptr + 3596076\n2   chromedriver                        0x00000001001c4968 cxxbridge1$string$len + 89228\n3   chromedriver                        0x0000000100208d50 cxxbridge1$string$len + 368756\n4   chromedriver                        0x00000001001feec8 cxxbridge1$string$len + 328172\n5   chromedriver                        0x00000001002425b4 cxxbridge1$string$len + 604376\n6   chromedriver                        0x00000001001fd568 cxxbridge1$string$len + 321676\n7   chromedriver                        0x00000001001fe1b8 cxxbridge1$string$len + 324828\n8   chromedriver                        0x000000010072a9ac cxxbridge1$str$ptr + 3411716\n9   chromedriver                        0x000000010072dccc cxxbridge1$str$ptr + 3424804\n10  chromedriver                        0x000000010071186c cxxbridge1$str$ptr + 3308996\n11  chromedriver                        0x000000010072e58c cxxbridge1$str$ptr + 3427044\n12  chromedriver                        0x000000010070309c cxxbridge1$str$ptr + 3249652\n13  chromedriver                        0x00000001007484b8 cxxbridge1$str$ptr + 3533328\n14  chromedriver                        0x0000000100748634 cxxbridge1$str$ptr + 3533708\n15  chromedriver                        0x0000000100757648 cxxbridge1$str$ptr + 3595168\n16  libsystem_pthread.dylib             0x0000000187a3c2e4 _pthread_start + 136\n17  libsystem_pthread.dylib             0x0000000187a370fc thread_start + 8\n"
     ]
    }
   ],
   "source": [
    "for program in programs:\n",
    "        # Extract specific details (e.g., title, description, link)\n",
    "        program.click()\n",
    "        title = program.find_element(By.CLASS_NAME, \"program_list_box\").text  # Adjust selector\n",
    "        #description = program.find_element(By.CSS_SELECTOR, \".program-description\").text  # Adjust selector\n",
    "        #link = program.find_element(By.TAG_NAME, \"a\").get_attribute(\"href\")  # Adjust selector\n",
    "\n",
    "        # Append to the list as a dictionary\n",
    "        program_details.append({\n",
    "            \"Title\": title,\n",
    "            #\"Description\": description,\n",
    "            #\"Link\": link\n",
    "        })"
   ]
  },
  {
   "cell_type": "code",
   "execution_count": 66,
   "id": "78d42c24-eed0-4799-8a89-09638b6062e1",
   "metadata": {
    "tags": []
   },
   "outputs": [
    {
     "name": "stdout",
     "output_type": "stream",
     "text": [
      "An error occurred: Message: \n",
      "\n"
     ]
    }
   ],
   "source": [
    "try:\n",
    "    # Locate the program container (adjust the selector as per the website)\n",
    "    \n",
    "\n",
    "    # Iterate through each program card\n",
    "    \n",
    "\n",
    "except Exception as e:\n",
    "    print(f\"An error occurred: {e}\")\n",
    "\n",
    "finally:\n",
    "    # Close the WebDriver\n",
    "    driver.quit()"
   ]
  },
  {
   "cell_type": "code",
   "execution_count": 67,
   "id": "9f2f73e2-ea94-4413-a3ee-d223802a8b18",
   "metadata": {
    "tags": []
   },
   "outputs": [
    {
     "data": {
      "text/plain": [
       "[]"
      ]
     },
     "execution_count": 67,
     "metadata": {},
     "output_type": "execute_result"
    }
   ],
   "source": [
    "program_details"
   ]
  },
  {
   "cell_type": "code",
   "execution_count": 56,
   "id": "d2eb8c5e-4ad7-4cee-bba6-32fa09474ec0",
   "metadata": {
    "tags": []
   },
   "outputs": [
    {
     "name": "stdout",
     "output_type": "stream",
     "text": [
      "An error occurred: Message: \n",
      "\n"
     ]
    }
   ],
   "source": [
    "\n",
    "\n",
    "\n",
    "\n",
    "\n",
    "\n",
    "\n",
    "# Convert the list to a DataFrame\n",
    "df = pd.DataFrame(program_details)"
   ]
  },
  {
   "cell_type": "code",
   "execution_count": null,
   "id": "99b9d7aa-494f-4b95-b76f-236931c02b2d",
   "metadata": {},
   "outputs": [],
   "source": []
  }
 ],
 "metadata": {
  "kernelspec": {
   "display_name": "Python 3 (ipykernel)",
   "language": "python",
   "name": "python3"
  },
  "language_info": {
   "codemirror_mode": {
    "name": "ipython",
    "version": 3
   },
   "file_extension": ".py",
   "mimetype": "text/x-python",
   "name": "python",
   "nbconvert_exporter": "python",
   "pygments_lexer": "ipython3",
   "version": "3.11.5"
  }
 },
 "nbformat": 4,
 "nbformat_minor": 5
}
