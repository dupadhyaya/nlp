{
 "cells": [
  {
   "cell_type": "code",
   "execution_count": null,
   "id": "5b644579-bf7b-433a-adce-a3ba0bee43b2",
   "metadata": {},
   "outputs": [],
   "source": [
    "# Create Code to import data from UGC"
   ]
  },
  {
   "cell_type": "markdown",
   "id": "c0b9a51f-e93f-4c48-8da4-4ce83475bed2",
   "metadata": {},
   "source": [
    "## Using Selenium"
   ]
  },
  {
   "cell_type": "code",
   "execution_count": 210,
   "id": "b293f26b-dd3e-4cb4-bfc4-d66b1b349151",
   "metadata": {},
   "outputs": [],
   "source": [
    "from selenium import webdriver\n",
    "from selenium.webdriver.common.by import By\n",
    "import pandas as pd\n",
    "from selenium.webdriver.chrome.service import Service"
   ]
  },
  {
   "cell_type": "markdown",
   "id": "7653ffab-9672-41c7-8409-b158ec1d1cab",
   "metadata": {},
   "source": [
    "# Chrome Version\n",
    "- Version 129.0.6668.71 (Official Build) (arm64)\n",
    "- Latest ChromeDriver 114.0.5735.90\n",
    "- chrome://settings/help\n",
    "- https://developer.chrome.com/docs/chromedriver/downloads"
   ]
  },
  {
   "cell_type": "code",
   "execution_count": 211,
   "id": "a120bff4-9d72-43f3-bf36-778dabc82b78",
   "metadata": {},
   "outputs": [],
   "source": [
    "import time"
   ]
  },
  {
   "cell_type": "code",
   "execution_count": 212,
   "id": "38fa2109-029b-4373-b3d5-d1e4cd16fb61",
   "metadata": {},
   "outputs": [],
   "source": [
    "# Path to your ChromeDriver\n",
    "cp2 = '/opt/homebrew/bin/chromedriver'  # Replace with the actual path to your chromedriver"
   ]
  },
  {
   "cell_type": "markdown",
   "id": "d883b7d7-b03f-47e0-8ceb-9c65a9fb9f72",
   "metadata": {},
   "source": [
    "??webdriver.chrome"
   ]
  },
  {
   "cell_type": "code",
   "execution_count": 213,
   "id": "702e947d-f9cf-4947-9456-781822ecf560",
   "metadata": {},
   "outputs": [],
   "source": [
    "#!pip install webdriver-manager\n",
    "from webdriver_manager.chrome import ChromeDriverManager"
   ]
  },
  {
   "cell_type": "code",
   "execution_count": 214,
   "id": "4af9c644-e454-43d2-bd2e-91b6cd9a6330",
   "metadata": {},
   "outputs": [
    {
     "name": "stdout",
     "output_type": "stream",
     "text": [
      "ugc_df \n",
      " https://www.ugc.gov.in/universitydetails/university?type=ddmCMsxJZgXH2S/m0uMOKQ==\n"
     ]
    }
   ],
   "source": [
    "# Open the UGC site\n",
    "ugc1 = \"https://www.ugc.gov.in/universitydetails/university?type=ddmCMsxJZgXH2S/m0uMOKQ==\"\n",
    "url = ugc1; nData = 'ugc_df' \n",
    "print(nData, '\\n', url)"
   ]
  },
  {
   "cell_type": "code",
   "execution_count": 215,
   "id": "b80db78b-ad62-44c2-80cc-56f622b77d47",
   "metadata": {},
   "outputs": [
    {
     "name": "stdout",
     "output_type": "stream",
     "text": [
      "ugc_df https://www.ugc.gov.in/universitydetails/university?type=ddmCMsxJZgXH2S/m0uMOKQ==\n"
     ]
    }
   ],
   "source": [
    "#University Details from UGC\n",
    "#url = n20u; nData = 'n20u'\n",
    "print(nData, url)"
   ]
  },
  {
   "cell_type": "code",
   "execution_count": 216,
   "id": "8eaed1ae-7aba-4df5-bb0b-12b7fbf679a5",
   "metadata": {},
   "outputs": [],
   "source": [
    "#driver.refresh()"
   ]
  },
  {
   "cell_type": "code",
   "execution_count": 217,
   "id": "4e05d029-1463-4fc9-ab99-8f1ea1eb03c9",
   "metadata": {},
   "outputs": [],
   "source": [
    "cService = webdriver.ChromeService(executable_path='/opt/homebrew/bin/chromedriver')\n",
    "driver = webdriver.Chrome(service = cService)"
   ]
  },
  {
   "cell_type": "code",
   "execution_count": 218,
   "id": "d7e5a92a-5408-40e9-9978-a3d4bbf4ca84",
   "metadata": {},
   "outputs": [],
   "source": [
    "driver.get(url)\n",
    "#driver.maximize_window()\n",
    "time.sleep(5)  # Adjust time if needed, or you can use Selenium's explicit waits"
   ]
  },
  {
   "cell_type": "code",
   "execution_count": 219,
   "id": "db155720-9788-4075-9cfe-a3037a91292a",
   "metadata": {},
   "outputs": [
    {
     "name": "stdout",
     "output_type": "stream",
     "text": [
      "Welcome to UGC, New Delhi, India\n"
     ]
    }
   ],
   "source": [
    "print(driver.title)"
   ]
  },
  {
   "cell_type": "markdown",
   "id": "51c9aea9-46ee-4df4-8fe9-4f07c3f3b60e",
   "metadata": {},
   "source": [
    "## click on View All"
   ]
  },
  {
   "cell_type": "code",
   "execution_count": 220,
   "id": "a0b306b0-3e7f-49b1-b209-d388087a9fff",
   "metadata": {
    "tags": []
   },
   "outputs": [
    {
     "data": {
      "text/plain": [
       "<selenium.webdriver.remote.webelement.WebElement (session=\"f95e4ff8c8b3ef7501f5c47adf5d7b12\", element=\"f.DDB98590D807E946A3684515F8BD7471.d.A9A1F88C2194127E7F118C235A6F1DF7.e.90\")>"
      ]
     },
     "execution_count": 220,
     "metadata": {},
     "output_type": "execute_result"
    }
   ],
   "source": [
    "btviewall = driver.find_element(By.ID, 'btnall')\n",
    "btviewall"
   ]
  },
  {
   "cell_type": "code",
   "execution_count": 221,
   "id": "7918151f-ab16-4c1c-a087-0f1964486ef5",
   "metadata": {
    "tags": []
   },
   "outputs": [],
   "source": [
    "btviewall.click()"
   ]
  },
  {
   "cell_type": "code",
   "execution_count": 222,
   "id": "94ab361c-b437-44fa-9878-2885ef82d0a6",
   "metadata": {
    "tags": []
   },
   "outputs": [
    {
     "data": {
      "text/plain": [
       "<selenium.webdriver.remote.webelement.WebElement (session=\"f95e4ff8c8b3ef7501f5c47adf5d7b12\", element=\"f.DDB98590D807E946A3684515F8BD7471.d.A9A1F88C2194127E7F118C235A6F1DF7.e.127\")>"
      ]
     },
     "execution_count": 222,
     "metadata": {},
     "output_type": "execute_result"
    }
   ],
   "source": [
    "#setoptionValue\n",
    "btnshow = driver.find_element(By.NAME,'tbl_length')\n",
    "btnshow"
   ]
  },
  {
   "cell_type": "code",
   "execution_count": 223,
   "id": "74e3eafa-a8ba-4a0c-a43d-99e1bfadc7d3",
   "metadata": {
    "tags": []
   },
   "outputs": [],
   "source": [
    "from selenium.webdriver.support.ui import Select"
   ]
  },
  {
   "cell_type": "code",
   "execution_count": 224,
   "id": "5f50e70c-ed7f-4c23-aaad-7f68fdfc105d",
   "metadata": {
    "tags": []
   },
   "outputs": [],
   "source": [
    "#set option to All\n",
    "mySelect = Select(btnshow)\n",
    "mySelect.select_by_visible_text('All')  #easier one\n",
    "#print(mySelect.text)"
   ]
  },
  {
   "cell_type": "code",
   "execution_count": 173,
   "id": "03793e2f-2454-4766-9497-ed2010015d91",
   "metadata": {
    "tags": []
   },
   "outputs": [
    {
     "data": {
      "text/plain": [
       "'-1'"
      ]
     },
     "execution_count": 173,
     "metadata": {},
     "output_type": "execute_result"
    }
   ],
   "source": [
    "btnshow.get_attribute('value')"
   ]
  },
  {
   "cell_type": "code",
   "execution_count": 225,
   "id": "e092d6b2-4ce3-4e74-971c-33b0bb082848",
   "metadata": {
    "tags": []
   },
   "outputs": [
    {
     "data": {
      "text/plain": [
       "'25\\n50\\nAll'"
      ]
     },
     "execution_count": 225,
     "metadata": {},
     "output_type": "execute_result"
    }
   ],
   "source": [
    "btnshow.text"
   ]
  },
  {
   "cell_type": "code",
   "execution_count": 226,
   "id": "7ea59314-ec14-433b-a958-73ed10a5f54a",
   "metadata": {
    "tags": []
   },
   "outputs": [
    {
     "data": {
      "text/plain": [
       "'<option value=\"25\">25</option><option value=\"50\">50</option><option value=\"-1\">All</option>'"
      ]
     },
     "execution_count": 226,
     "metadata": {},
     "output_type": "execute_result"
    }
   ],
   "source": [
    "btnshow.get_attribute(\"innerHTML\")"
   ]
  },
  {
   "cell_type": "markdown",
   "id": "71fdd9bf-8695-47fb-8c78-d56e9cf8cbf2",
   "metadata": {},
   "source": [
    "## webtable"
   ]
  },
  {
   "cell_type": "code",
   "execution_count": 236,
   "id": "7a3303b3-b914-469b-9340-fd27757801df",
   "metadata": {
    "tags": []
   },
   "outputs": [
    {
     "name": "stderr",
     "output_type": "stream",
     "text": [
      "/var/folders/z4/8qd93wx14xz1c9qfb_z969wc0000gn/T/ipykernel_10664/3472074773.py:1: FutureWarning: Passing literal html to 'read_html' is deprecated and will be removed in a future version. To read from a literal string, wrap it in a 'StringIO' object.\n",
      "  webtable_df1 = pd.read_html(driver.find_element(By.XPATH, \"//table[@id='tbl']\").get_attribute('outerHTML'))[0]\n"
     ]
    }
   ],
   "source": [
    "webtable_df1 = pd.read_html(driver.find_element(By.XPATH, \"//table[@id='tbl']\").get_attribute('outerHTML'))[0]"
   ]
  },
  {
   "cell_type": "code",
   "execution_count": 241,
   "id": "a8a5d472-ab79-4cb0-bfec-2d918409e874",
   "metadata": {
    "tags": []
   },
   "outputs": [
    {
     "data": {
      "text/html": [
       "<div>\n",
       "<style scoped>\n",
       "    .dataframe tbody tr th:only-of-type {\n",
       "        vertical-align: middle;\n",
       "    }\n",
       "\n",
       "    .dataframe tbody tr th {\n",
       "        vertical-align: top;\n",
       "    }\n",
       "\n",
       "    .dataframe thead th {\n",
       "        text-align: right;\n",
       "    }\n",
       "</style>\n",
       "<table border=\"1\" class=\"dataframe\">\n",
       "  <thead>\n",
       "    <tr style=\"text-align: right;\">\n",
       "      <th></th>\n",
       "      <th>Sr.No</th>\n",
       "      <th>Type</th>\n",
       "      <th>Name of the University</th>\n",
       "      <th>Address</th>\n",
       "      <th>Zip</th>\n",
       "      <th>state</th>\n",
       "      <th>Status</th>\n",
       "      <th>URL</th>\n",
       "    </tr>\n",
       "  </thead>\n",
       "  <tbody>\n",
       "    <tr>\n",
       "      <th>0</th>\n",
       "      <td>1</td>\n",
       "      <td>State</td>\n",
       "      <td>\"Kaushalya\" the Skill University</td>\n",
       "      <td>Mahatma Gandhi Labour Institute (MGLI), Drive-...</td>\n",
       "      <td>380052</td>\n",
       "      <td>Gujarat</td>\n",
       "      <td>2(f)</td>\n",
       "      <td>View Website</td>\n",
       "    </tr>\n",
       "    <tr>\n",
       "      <th>1</th>\n",
       "      <td>2</td>\n",
       "      <td>Private</td>\n",
       "      <td>A.K.S. University</td>\n",
       "      <td>SherGanj, Satna</td>\n",
       "      <td>485001</td>\n",
       "      <td>Madhya Pradesh</td>\n",
       "      <td>2(f)</td>\n",
       "      <td>View Website |  View other details</td>\n",
       "    </tr>\n",
       "  </tbody>\n",
       "</table>\n",
       "</div>"
      ],
      "text/plain": [
       "   Sr.No     Type            Name of the University  \\\n",
       "0      1    State  \"Kaushalya\" the Skill University   \n",
       "1      2  Private                 A.K.S. University   \n",
       "\n",
       "                                             Address     Zip           state  \\\n",
       "0  Mahatma Gandhi Labour Institute (MGLI), Drive-...  380052         Gujarat   \n",
       "1                                    SherGanj, Satna  485001  Madhya Pradesh   \n",
       "\n",
       "  Status                                 URL  \n",
       "0   2(f)                        View Website  \n",
       "1   2(f)  View Website |  View other details  "
      ]
     },
     "execution_count": 241,
     "metadata": {},
     "output_type": "execute_result"
    }
   ],
   "source": [
    "webtable_df1.head(2)"
   ]
  },
  {
   "cell_type": "code",
   "execution_count": 238,
   "id": "b1d91454-17e5-43df-9e53-45ab0289a9be",
   "metadata": {
    "tags": []
   },
   "outputs": [],
   "source": [
    "import io"
   ]
  },
  {
   "cell_type": "code",
   "execution_count": 240,
   "id": "95e444e2-44a9-4235-a42f-dd16d05ba854",
   "metadata": {
    "tags": []
   },
   "outputs": [
    {
     "data": {
      "text/html": [
       "<div>\n",
       "<style scoped>\n",
       "    .dataframe tbody tr th:only-of-type {\n",
       "        vertical-align: middle;\n",
       "    }\n",
       "\n",
       "    .dataframe tbody tr th {\n",
       "        vertical-align: top;\n",
       "    }\n",
       "\n",
       "    .dataframe thead th {\n",
       "        text-align: right;\n",
       "    }\n",
       "</style>\n",
       "<table border=\"1\" class=\"dataframe\">\n",
       "  <thead>\n",
       "    <tr style=\"text-align: right;\">\n",
       "      <th></th>\n",
       "      <th>Sr.No</th>\n",
       "      <th>Type</th>\n",
       "      <th>Name of the University</th>\n",
       "      <th>Address</th>\n",
       "      <th>Zip</th>\n",
       "      <th>state</th>\n",
       "      <th>Status</th>\n",
       "      <th>URL</th>\n",
       "    </tr>\n",
       "  </thead>\n",
       "  <tbody>\n",
       "    <tr>\n",
       "      <th>0</th>\n",
       "      <td>1</td>\n",
       "      <td>State</td>\n",
       "      <td>\"Kaushalya\" the Skill University</td>\n",
       "      <td>Mahatma Gandhi Labour Institute (MGLI), Drive-...</td>\n",
       "      <td>380052</td>\n",
       "      <td>Gujarat</td>\n",
       "      <td>2(f)</td>\n",
       "      <td>View Website</td>\n",
       "    </tr>\n",
       "    <tr>\n",
       "      <th>1</th>\n",
       "      <td>2</td>\n",
       "      <td>Private</td>\n",
       "      <td>A.K.S. University</td>\n",
       "      <td>SherGanj, Satna</td>\n",
       "      <td>485001</td>\n",
       "      <td>Madhya Pradesh</td>\n",
       "      <td>2(f)</td>\n",
       "      <td>View Website |  View other details</td>\n",
       "    </tr>\n",
       "  </tbody>\n",
       "</table>\n",
       "</div>"
      ],
      "text/plain": [
       "   Sr.No     Type            Name of the University  \\\n",
       "0      1    State  \"Kaushalya\" the Skill University   \n",
       "1      2  Private                 A.K.S. University   \n",
       "\n",
       "                                             Address     Zip           state  \\\n",
       "0  Mahatma Gandhi Labour Institute (MGLI), Drive-...  380052         Gujarat   \n",
       "1                                    SherGanj, Satna  485001  Madhya Pradesh   \n",
       "\n",
       "  Status                                 URL  \n",
       "0   2(f)                        View Website  \n",
       "1   2(f)  View Website |  View other details  "
      ]
     },
     "execution_count": 240,
     "metadata": {},
     "output_type": "execute_result"
    }
   ],
   "source": [
    "webtable_df2 = pd.read_html(io.StringIO(driver.find_element(By.XPATH, \"//table[@id='tbl']\").get_attribute('outerHTML')))[0]\n",
    "webtable_df2.head(2)"
   ]
  },
  {
   "cell_type": "markdown",
   "id": "047bfa2c-2990-4330-9804-7ae9de599978",
   "metadata": {},
   "source": [
    "## use download csv button"
   ]
  },
  {
   "cell_type": "code",
   "execution_count": 34,
   "id": "bc7bcb02-8c7b-4fac-9986-7f811d77b46b",
   "metadata": {
    "tags": []
   },
   "outputs": [],
   "source": [
    "\n",
    "dwcsv = driver.find_element(By.CLASS_NAME, 'dt-button')\n",
    "dwcsv"
   ]
  },
  {
   "cell_type": "code",
   "execution_count": 36,
   "id": "7375fe43-00ac-4992-8a5c-78bc44288d5b",
   "metadata": {
    "tags": []
   },
   "outputs": [],
   "source": [
    "dwcsv.click()  #this will download the data "
   ]
  },
  {
   "cell_type": "markdown",
   "id": "8e5f2b9e-a80e-4db0-b46e-c04a5bf0baa3",
   "metadata": {},
   "source": [
    "## use download excel button"
   ]
  },
  {
   "cell_type": "code",
   "execution_count": 37,
   "id": "6d43864a-fcfd-4a43-9b7e-f97243be2450",
   "metadata": {
    "tags": []
   },
   "outputs": [
    {
     "data": {
      "text/plain": [
       "<selenium.webdriver.remote.webelement.WebElement (session=\"5a86ba354191a8bd3718bbb44bedffb7\", element=\"f.3B6123937E4CB24267DD43B7F368472B.d.00C04B333B38BB2764112BCCBFB7F2CC.e.234\")>"
      ]
     },
     "execution_count": 37,
     "metadata": {},
     "output_type": "execute_result"
    }
   ],
   "source": [
    "#use download as excel button\n",
    "dwexcel = driver.find_element(By.CLASS_NAME, 'buttons-excel')\n",
    "dwexcel"
   ]
  },
  {
   "cell_type": "code",
   "execution_count": 38,
   "id": "14d4c163-9e39-4bc8-af35-7e09b50c6542",
   "metadata": {
    "tags": []
   },
   "outputs": [],
   "source": [
    "dwexcel.click()  #this will download the data in excel"
   ]
  },
  {
   "cell_type": "markdown",
   "id": "0e66b59e-d604-4d56-8949-10ab903d2a35",
   "metadata": {},
   "source": [
    "## Download Table directly"
   ]
  },
  {
   "cell_type": "markdown",
   "id": "1571f529-4f08-4ad0-bc96-3529a7b65e89",
   "metadata": {
    "tags": []
   },
   "source": [
    "btviewall = driver.find_element(By.ID, 'btnall')\n",
    "mySelect = Select(btnshow)\n",
    "mySelect.select_by_visible_text('All')  #easier one "
   ]
  },
  {
   "cell_type": "code",
   "execution_count": null,
   "id": "fb8027e3-8c4a-4576-9400-e240a2da7b62",
   "metadata": {},
   "outputs": [],
   "source": []
  },
  {
   "cell_type": "markdown",
   "id": "f2d3c653-d469-484c-b280-d44f5ba55bcd",
   "metadata": {},
   "source": [
    "### identify table rows\n",
    "- //*[@id=\"trMale0\"]\n",
    "- //*[@id=\"tbodyuni\"]\n",
    "- \"//*[@class= 'spTable']/tbody/tr\")"
   ]
  },
  {
   "cell_type": "code",
   "execution_count": 175,
   "id": "eb4e82ef-0c17-4640-948f-4b834df09887",
   "metadata": {
    "tags": []
   },
   "outputs": [],
   "source": [
    "# to identify the table rows\n",
    "trows = driver.find_elements(By.XPATH , \"//*[@id= 'tbl']/tbody/tr\")"
   ]
  },
  {
   "cell_type": "code",
   "execution_count": 176,
   "id": "a3709754-dc3e-444a-9c37-4982a9c08784",
   "metadata": {
    "tags": []
   },
   "outputs": [
    {
     "name": "stdout",
     "output_type": "stream",
     "text": [
      "1186\n"
     ]
    }
   ],
   "source": [
    "print (len(trows))"
   ]
  },
  {
   "cell_type": "markdown",
   "id": "6a585914-d920-451f-9aac-93496134d787",
   "metadata": {},
   "source": [
    "### Table Headers\n"
   ]
  },
  {
   "cell_type": "code",
   "execution_count": 177,
   "id": "5b2e52fa-35e8-4f62-8d7a-7499db364563",
   "metadata": {
    "tags": []
   },
   "outputs": [],
   "source": [
    "th = driver.find_elements(By.XPATH , \"//*[@id= 'tbl']/thead/tr/th\")\n",
    "#th"
   ]
  },
  {
   "cell_type": "code",
   "execution_count": 178,
   "id": "460458ef-bacc-499b-9fc4-e4c1fe02287e",
   "metadata": {
    "tags": []
   },
   "outputs": [
    {
     "name": "stdout",
     "output_type": "stream",
     "text": [
      "Sr.No\n",
      "Type\n",
      "Name of the University\n",
      "Address\n",
      "Zip\n",
      "state\n",
      "Status\n",
      "URL\n"
     ]
    }
   ],
   "source": [
    "for i in th :\n",
    "    print (i.text)"
   ]
  },
  {
   "cell_type": "markdown",
   "id": "d71cda13-7c91-41b5-a65f-2bd8cf73f064",
   "metadata": {},
   "source": [
    "### Identify Table in the web page\n",
    "- there are multiple tables in the web page"
   ]
  },
  {
   "cell_type": "code",
   "execution_count": 185,
   "id": "413f504b-15b3-4c91-8742-dbbb4ff0b2af",
   "metadata": {
    "tags": []
   },
   "outputs": [
    {
     "data": {
      "text/plain": [
       "<selenium.webdriver.remote.webelement.WebElement (session=\"7dc18c3892fab67cd6dafbc7a2c7af69\", element=\"f.0E86ECE63C96E7E1B6FC12BE2E7D0965.d.FC749767E0D6D4A6E56AFA8076167ADE.e.185548\")>"
      ]
     },
     "execution_count": 185,
     "metadata": {},
     "output_type": "execute_result"
    }
   ],
   "source": [
    "tbs = driver.find_elements(By.TAG_NAME, 'table')\n",
    "tbs[0]"
   ]
  },
  {
   "cell_type": "code",
   "execution_count": 186,
   "id": "ecbad665-4956-4806-9180-abc407c5a6c8",
   "metadata": {
    "tags": []
   },
   "outputs": [
    {
     "data": {
      "text/plain": [
       "<selenium.webdriver.remote.webelement.WebElement (session=\"7dc18c3892fab67cd6dafbc7a2c7af69\", element=\"f.0E86ECE63C96E7E1B6FC12BE2E7D0965.d.FC749767E0D6D4A6E56AFA8076167ADE.e.185554\")>"
      ]
     },
     "execution_count": 186,
     "metadata": {},
     "output_type": "execute_result"
    }
   ],
   "source": [
    "dataTable = driver.find_element(By.ID,'tbl')\n",
    "dataTable"
   ]
  },
  {
   "cell_type": "code",
   "execution_count": 187,
   "id": "8e2d5d7b-4427-4d96-a213-e4c432aecc3f",
   "metadata": {
    "tags": []
   },
   "outputs": [],
   "source": [
    "#driver.refresh()"
   ]
  },
  {
   "cell_type": "code",
   "execution_count": 188,
   "id": "1cce43fb-c290-4e83-b963-92606be8f080",
   "metadata": {},
   "outputs": [],
   "source": [
    "# Extract table headers\n",
    "headers = []\n",
    "header_elements = dataTable.find_elements(By.TAG_NAME, 'th')\n",
    "for header in header_elements:\n",
    "    headers.append(header.text.strip())"
   ]
  },
  {
   "cell_type": "code",
   "execution_count": 189,
   "id": "a018555d-74b8-4f64-82f6-8449e393577e",
   "metadata": {},
   "outputs": [
    {
     "name": "stdout",
     "output_type": "stream",
     "text": [
      "['Sr.No', 'Type', 'Name of the University', 'Address', 'Zip', 'state', 'Status', 'URL']\n",
      "8\n"
     ]
    },
    {
     "data": {
      "text/plain": [
       "(None, None)"
      ]
     },
     "execution_count": 189,
     "metadata": {},
     "output_type": "execute_result"
    }
   ],
   "source": [
    "print(headers), print(len(headers))\n",
    "# 8 columns"
   ]
  },
  {
   "cell_type": "code",
   "execution_count": 190,
   "id": "082bbfe2-310e-4581-8c4c-7a3497ca92b5",
   "metadata": {},
   "outputs": [],
   "source": [
    "# Extract table rows\n",
    "rows = []\n",
    "row_elements = dataTable.find_elements(By.TAG_NAME, 'tr')"
   ]
  },
  {
   "cell_type": "code",
   "execution_count": 191,
   "id": "1e994396-b5b7-4680-80c9-960dc9e0e311",
   "metadata": {},
   "outputs": [
    {
     "name": "stdout",
     "output_type": "stream",
     "text": [
      "[<selenium.webdriver.remote.webelement.WebElement (session=\"7dc18c3892fab67cd6dafbc7a2c7af69\", element=\"f.0E86ECE63C96E7E1B6FC12BE2E7D0965.d.FC749767E0D6D4A6E56AFA8076167ADE.e.185563\")>, <selenium.webdriver.remote.webelement.WebElement (session=\"7dc18c3892fab67cd6dafbc7a2c7af69\", element=\"f.0E86ECE63C96E7E1B6FC12BE2E7D0965.d.FC749767E0D6D4A6E56AFA8076167ADE.e.185564\")>, <selenium.webdriver.remote.webelement.WebElement (session=\"7dc18c3892fab67cd6dafbc7a2c7af69\", element=\"f.0E86ECE63C96E7E1B6FC12BE2E7D0965.d.FC749767E0D6D4A6E56AFA8076167ADE.e.185565\")>, <selenium.webdriver.remote.webelement.WebElement (session=\"7dc18c3892fab67cd6dafbc7a2c7af69\", element=\"f.0E86ECE63C96E7E1B6FC12BE2E7D0965.d.FC749767E0D6D4A6E56AFA8076167ADE.e.185566\")>, <selenium.webdriver.remote.webelement.WebElement (session=\"7dc18c3892fab67cd6dafbc7a2c7af69\", element=\"f.0E86ECE63C96E7E1B6FC12BE2E7D0965.d.FC749767E0D6D4A6E56AFA8076167ADE.e.185567\")>]\n"
     ]
    }
   ],
   "source": [
    "print(row_elements[0:5])"
   ]
  },
  {
   "cell_type": "code",
   "execution_count": 192,
   "id": "296f5596-b079-4794-bf34-b5270257d3f2",
   "metadata": {},
   "outputs": [],
   "source": [
    "# Loop through rows to extract data\n",
    "for row in row_elements[1:]:  # Skipping the header row\n",
    "    cols = row.find_elements(By.TAG_NAME, 'td')\n",
    "    cols = [col.text.strip() for col in cols]\n",
    "    rows.append(cols)"
   ]
  },
  {
   "cell_type": "code",
   "execution_count": 194,
   "id": "864a60d3-44d3-4f3d-b4d4-c8d172e2bd40",
   "metadata": {},
   "outputs": [
    {
     "data": {
      "text/plain": [
       "[['1',\n",
       "  'State',\n",
       "  '\"Kaushalya\" the Skill University',\n",
       "  'Mahatma Gandhi Labour Institute (MGLI), Drive-in Road, Memnagar, Ahmedabad',\n",
       "  '380052',\n",
       "  'Gujarat',\n",
       "  '2(f)',\n",
       "  'View Website']]"
      ]
     },
     "execution_count": 194,
     "metadata": {},
     "output_type": "execute_result"
    }
   ],
   "source": [
    "rows[0:1]"
   ]
  },
  {
   "cell_type": "code",
   "execution_count": 195,
   "id": "fcf90181-2984-4a8e-bde4-8f6fc6cce773",
   "metadata": {},
   "outputs": [
    {
     "name": "stdout",
     "output_type": "stream",
     "text": [
      "25 8\n"
     ]
    }
   ],
   "source": [
    "print(len(rows), len(headers))"
   ]
  },
  {
   "cell_type": "code",
   "execution_count": null,
   "id": "10807605-bdcb-4eb2-9c3f-9872755e7c29",
   "metadata": {},
   "outputs": [],
   "source": [
    "#print(rows[0:300:3])"
   ]
  },
  {
   "cell_type": "code",
   "execution_count": 196,
   "id": "3ad98ed0-6237-49b0-aa11-2095d260364e",
   "metadata": {},
   "outputs": [],
   "source": [
    "# Create a DataFrame from the extracted data\n",
    "df1 = pd.DataFrame(rows[0:len(rows)], columns=headers)"
   ]
  },
  {
   "cell_type": "code",
   "execution_count": 197,
   "id": "40f0a977-3460-469f-a31c-b99752cdceb8",
   "metadata": {},
   "outputs": [
    {
     "data": {
      "text/html": [
       "<div>\n",
       "<style scoped>\n",
       "    .dataframe tbody tr th:only-of-type {\n",
       "        vertical-align: middle;\n",
       "    }\n",
       "\n",
       "    .dataframe tbody tr th {\n",
       "        vertical-align: top;\n",
       "    }\n",
       "\n",
       "    .dataframe thead th {\n",
       "        text-align: right;\n",
       "    }\n",
       "</style>\n",
       "<table border=\"1\" class=\"dataframe\">\n",
       "  <thead>\n",
       "    <tr style=\"text-align: right;\">\n",
       "      <th></th>\n",
       "      <th>Sr.No</th>\n",
       "      <th>Type</th>\n",
       "      <th>Name of the University</th>\n",
       "      <th>Address</th>\n",
       "      <th>Zip</th>\n",
       "      <th>state</th>\n",
       "      <th>Status</th>\n",
       "      <th>URL</th>\n",
       "    </tr>\n",
       "  </thead>\n",
       "  <tbody>\n",
       "    <tr>\n",
       "      <th>0</th>\n",
       "      <td>1</td>\n",
       "      <td>State</td>\n",
       "      <td>\"Kaushalya\" the Skill University</td>\n",
       "      <td>Mahatma Gandhi Labour Institute (MGLI), Drive-...</td>\n",
       "      <td>380052</td>\n",
       "      <td>Gujarat</td>\n",
       "      <td>2(f)</td>\n",
       "      <td>View Website</td>\n",
       "    </tr>\n",
       "    <tr>\n",
       "      <th>1</th>\n",
       "      <td>2</td>\n",
       "      <td>Private</td>\n",
       "      <td>A.K.S. University</td>\n",
       "      <td>SherGanj, Satna</td>\n",
       "      <td>485001</td>\n",
       "      <td>Madhya Pradesh</td>\n",
       "      <td>2(f)</td>\n",
       "      <td>View Website |\\nView other details</td>\n",
       "    </tr>\n",
       "  </tbody>\n",
       "</table>\n",
       "</div>"
      ],
      "text/plain": [
       "  Sr.No     Type            Name of the University  \\\n",
       "0     1    State  \"Kaushalya\" the Skill University   \n",
       "1     2  Private                 A.K.S. University   \n",
       "\n",
       "                                             Address     Zip           state  \\\n",
       "0  Mahatma Gandhi Labour Institute (MGLI), Drive-...  380052         Gujarat   \n",
       "1                                    SherGanj, Satna  485001  Madhya Pradesh   \n",
       "\n",
       "  Status                                 URL  \n",
       "0   2(f)                        View Website  \n",
       "1   2(f)  View Website |\\nView other details  "
      ]
     },
     "execution_count": 197,
     "metadata": {},
     "output_type": "execute_result"
    }
   ],
   "source": [
    "df1.head(2)"
   ]
  },
  {
   "cell_type": "code",
   "execution_count": 198,
   "id": "f7268cc2-9c80-4b3a-b0ba-36e1a27c65b4",
   "metadata": {},
   "outputs": [
    {
     "data": {
      "text/plain": [
       "['Sr.No',\n",
       " 'Type',\n",
       " 'Name of the University',\n",
       " 'Address',\n",
       " 'Zip',\n",
       " 'state',\n",
       " 'Status',\n",
       " 'URL']"
      ]
     },
     "execution_count": 198,
     "metadata": {},
     "output_type": "execute_result"
    }
   ],
   "source": [
    "list(df1.columns)"
   ]
  },
  {
   "cell_type": "code",
   "execution_count": 201,
   "id": "f3a36a24-fe7f-4bc9-b2fe-46e5a3ae5219",
   "metadata": {},
   "outputs": [],
   "source": [
    "df1.columns = ['ser','type','university', 'address','zip', 'state', 'status','url']"
   ]
  },
  {
   "cell_type": "code",
   "execution_count": 202,
   "id": "0199ba2f-d7d8-44eb-ab2c-dd55a2dfe21e",
   "metadata": {},
   "outputs": [
    {
     "data": {
      "text/html": [
       "<div>\n",
       "<style scoped>\n",
       "    .dataframe tbody tr th:only-of-type {\n",
       "        vertical-align: middle;\n",
       "    }\n",
       "\n",
       "    .dataframe tbody tr th {\n",
       "        vertical-align: top;\n",
       "    }\n",
       "\n",
       "    .dataframe thead th {\n",
       "        text-align: right;\n",
       "    }\n",
       "</style>\n",
       "<table border=\"1\" class=\"dataframe\">\n",
       "  <thead>\n",
       "    <tr style=\"text-align: right;\">\n",
       "      <th></th>\n",
       "      <th>ser</th>\n",
       "      <th>type</th>\n",
       "      <th>university</th>\n",
       "      <th>address</th>\n",
       "      <th>zip</th>\n",
       "      <th>state</th>\n",
       "      <th>status</th>\n",
       "      <th>url</th>\n",
       "    </tr>\n",
       "  </thead>\n",
       "  <tbody>\n",
       "    <tr>\n",
       "      <th>0</th>\n",
       "      <td>1</td>\n",
       "      <td>State</td>\n",
       "      <td>\"Kaushalya\" the Skill University</td>\n",
       "      <td>Mahatma Gandhi Labour Institute (MGLI), Drive-...</td>\n",
       "      <td>380052</td>\n",
       "      <td>Gujarat</td>\n",
       "      <td>2(f)</td>\n",
       "      <td>View Website</td>\n",
       "    </tr>\n",
       "    <tr>\n",
       "      <th>1</th>\n",
       "      <td>2</td>\n",
       "      <td>Private</td>\n",
       "      <td>A.K.S. University</td>\n",
       "      <td>SherGanj, Satna</td>\n",
       "      <td>485001</td>\n",
       "      <td>Madhya Pradesh</td>\n",
       "      <td>2(f)</td>\n",
       "      <td>View Website |\\nView other details</td>\n",
       "    </tr>\n",
       "  </tbody>\n",
       "</table>\n",
       "</div>"
      ],
      "text/plain": [
       "  ser     type                        university  \\\n",
       "0   1    State  \"Kaushalya\" the Skill University   \n",
       "1   2  Private                 A.K.S. University   \n",
       "\n",
       "                                             address     zip           state  \\\n",
       "0  Mahatma Gandhi Labour Institute (MGLI), Drive-...  380052         Gujarat   \n",
       "1                                    SherGanj, Satna  485001  Madhya Pradesh   \n",
       "\n",
       "  status                                 url  \n",
       "0   2(f)                        View Website  \n",
       "1   2(f)  View Website |\\nView other details  "
      ]
     },
     "execution_count": 202,
     "metadata": {},
     "output_type": "execute_result"
    }
   ],
   "source": [
    "df1.head(2)"
   ]
  },
  {
   "cell_type": "code",
   "execution_count": null,
   "id": "0f6da93a-a3d1-4c80-80ce-ecaa443749e4",
   "metadata": {},
   "outputs": [],
   "source": []
  },
  {
   "cell_type": "code",
   "execution_count": null,
   "id": "7ae77378-2d94-49da-9d03-7ebb8c6130e7",
   "metadata": {},
   "outputs": [],
   "source": [
    "# Close the browser\n",
    "driver.quit()"
   ]
  },
  {
   "cell_type": "code",
   "execution_count": null,
   "id": "7ec1ed70-f85a-433d-8d2e-e8988d82c2d3",
   "metadata": {},
   "outputs": [],
   "source": [
    "# Display the extracted data\n",
    "#print(dfNO)"
   ]
  },
  {
   "cell_type": "code",
   "execution_count": 205,
   "id": "1313dede-2a75-49b1-ac51-ba5b1da6ec16",
   "metadata": {},
   "outputs": [
    {
     "name": "stdout",
     "output_type": "stream",
     "text": [
      "ugc_df /Users/du/dup/auData/journal/ugc_df.csv\n"
     ]
    }
   ],
   "source": [
    "# Save the data to a CSV file\n",
    "fileLoc  = '/Users/du/dup/auData/journal/'\n",
    "fileName = fileLoc +  nData + '.csv'\n",
    "print(nData, fileName)"
   ]
  },
  {
   "cell_type": "code",
   "execution_count": 206,
   "id": "2104aa89-0295-44d2-897d-0daa9f8bb6f9",
   "metadata": {},
   "outputs": [],
   "source": [
    "df1.to_csv(fileName, index=False)"
   ]
  },
  {
   "cell_type": "code",
   "execution_count": 207,
   "id": "2477e8fb-048a-4d08-a4d7-cc27671e47d0",
   "metadata": {},
   "outputs": [],
   "source": [
    "import os"
   ]
  },
  {
   "cell_type": "code",
   "execution_count": 208,
   "id": "807b5db6-c5b5-4f8d-9289-188c59cb1655",
   "metadata": {},
   "outputs": [
    {
     "name": "stdout",
     "output_type": "stream",
     "text": [
      "CWTS Journal Indicators March 2024.xlsx scimagojr2023.csv .DS_Store PredQ12StepsWard.pdf ext_list_December_2023.xlsx UGC journal.csv Flow-diagram-of-journal-identification-selection-and-inclusion-in-each-study-group-a.png Journal Evaluation Tool.pdf ugc_df.csv 2021_Book_DataAndInformationInOnlineEnviarrastado.pdf JOURNAL_CHANGE_MONTH_2024_12.xlsx WOS DISCONTINUED JOURNALS DEC 2024.docx thinkchecksubmit.org-Journals.pdf countryRankings.xlsx\n"
     ]
    }
   ],
   "source": [
    "print(' '.join(map(str, os.listdir(fileLoc))))"
   ]
  },
  {
   "cell_type": "markdown",
   "id": "0113c0de-6b62-4d5c-bda9-571d96062ced",
   "metadata": {},
   "source": [
    "## End of Coding"
   ]
  },
  {
   "cell_type": "code",
   "execution_count": 209,
   "id": "ddae3ecb-5268-4732-9801-c1e1ebd73750",
   "metadata": {},
   "outputs": [
    {
     "data": {
      "text/html": [
       "<div>\n",
       "<style scoped>\n",
       "    .dataframe tbody tr th:only-of-type {\n",
       "        vertical-align: middle;\n",
       "    }\n",
       "\n",
       "    .dataframe tbody tr th {\n",
       "        vertical-align: top;\n",
       "    }\n",
       "\n",
       "    .dataframe thead th {\n",
       "        text-align: right;\n",
       "    }\n",
       "</style>\n",
       "<table border=\"1\" class=\"dataframe\">\n",
       "  <thead>\n",
       "    <tr style=\"text-align: right;\">\n",
       "      <th></th>\n",
       "      <th>ser</th>\n",
       "      <th>type</th>\n",
       "      <th>university</th>\n",
       "      <th>address</th>\n",
       "      <th>zip</th>\n",
       "      <th>state</th>\n",
       "      <th>status</th>\n",
       "      <th>url</th>\n",
       "    </tr>\n",
       "  </thead>\n",
       "  <tbody>\n",
       "    <tr>\n",
       "      <th>0</th>\n",
       "      <td>1</td>\n",
       "      <td>State</td>\n",
       "      <td>\"Kaushalya\" the Skill University</td>\n",
       "      <td>Mahatma Gandhi Labour Institute (MGLI), Drive-...</td>\n",
       "      <td>380052</td>\n",
       "      <td>Gujarat</td>\n",
       "      <td>2(f)</td>\n",
       "      <td>View Website</td>\n",
       "    </tr>\n",
       "    <tr>\n",
       "      <th>1</th>\n",
       "      <td>2</td>\n",
       "      <td>Private</td>\n",
       "      <td>A.K.S. University</td>\n",
       "      <td>SherGanj, Satna</td>\n",
       "      <td>485001</td>\n",
       "      <td>Madhya Pradesh</td>\n",
       "      <td>2(f)</td>\n",
       "      <td>View Website |\\nView other details</td>\n",
       "    </tr>\n",
       "  </tbody>\n",
       "</table>\n",
       "</div>"
      ],
      "text/plain": [
       "   ser     type                        university  \\\n",
       "0    1    State  \"Kaushalya\" the Skill University   \n",
       "1    2  Private                 A.K.S. University   \n",
       "\n",
       "                                             address     zip           state  \\\n",
       "0  Mahatma Gandhi Labour Institute (MGLI), Drive-...  380052         Gujarat   \n",
       "1                                    SherGanj, Satna  485001  Madhya Pradesh   \n",
       "\n",
       "  status                                 url  \n",
       "0   2(f)                        View Website  \n",
       "1   2(f)  View Website |\\nView other details  "
      ]
     },
     "execution_count": 209,
     "metadata": {},
     "output_type": "execute_result"
    }
   ],
   "source": [
    "pd.read_csv(fileName).head(2)"
   ]
  },
  {
   "cell_type": "code",
   "execution_count": null,
   "id": "0050900b-a746-4688-95a9-26df0ff3d127",
   "metadata": {},
   "outputs": [],
   "source": []
  },
  {
   "cell_type": "code",
   "execution_count": null,
   "id": "3e2ee730-a63b-4dcf-8f5e-54e1293aa64e",
   "metadata": {},
   "outputs": [],
   "source": []
  }
 ],
 "metadata": {
  "kernelspec": {
   "display_name": "Python 3 (ipykernel)",
   "language": "python",
   "name": "python3"
  },
  "language_info": {
   "codemirror_mode": {
    "name": "ipython",
    "version": 3
   },
   "file_extension": ".py",
   "mimetype": "text/x-python",
   "name": "python",
   "nbconvert_exporter": "python",
   "pygments_lexer": "ipython3",
   "version": "3.11.5"
  }
 },
 "nbformat": 4,
 "nbformat_minor": 5
}
