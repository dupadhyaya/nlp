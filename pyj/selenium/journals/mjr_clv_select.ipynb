{
 "cells": [
  {
   "cell_type": "markdown",
   "id": "fd0f90cb-b0df-4867-89e1-a980b768b04f",
   "metadata": {},
   "source": [
    "# Clarivate MJR - options / select\n",
    "-  https://mjl.clarivate.com"
   ]
  },
  {
   "cell_type": "code",
   "execution_count": 1,
   "id": "c6d09fa2-9322-4778-839a-4c70c5048c1e",
   "metadata": {
    "tags": []
   },
   "outputs": [],
   "source": [
    "from selenium import webdriver\n",
    "from selenium.webdriver.common.by import By\n",
    "import pandas as pd\n",
    "from selenium.webdriver.chrome.service import Service\n",
    "import time\n",
    "from webdriver_manager.chrome import ChromeDriverManager\n",
    "from selenium.common.exceptions import NoSuchElementException\n",
    "from selenium.common.exceptions import TimeoutException\n",
    "from selenium.webdriver.support import expected_conditions as EC\n",
    "from selenium.webdriver.support.ui import WebDriverWait\n",
    "from selenium.webdriver.support.expected_conditions import title_contains"
   ]
  },
  {
   "cell_type": "code",
   "execution_count": 2,
   "id": "357bd6a7-5eae-4ddb-a1f4-dc9aae0e7208",
   "metadata": {
    "tags": []
   },
   "outputs": [],
   "source": [
    "url = \"https://mjl.clarivate.com\""
   ]
  },
  {
   "cell_type": "code",
   "execution_count": 3,
   "id": "f5758e6d-d07a-4e70-9313-50f117847243",
   "metadata": {
    "tags": []
   },
   "outputs": [],
   "source": [
    "cService = webdriver.ChromeService()\n",
    "chrome_options = webdriver.ChromeOptions()\n",
    "chrome_options.add_argument('start-maximized')\n",
    "chrome_options.add_extension('/Users/du/dup/analytics/extn/selectorhub.crx')\n",
    "driver = webdriver.Chrome(service = cService, options=chrome_options)"
   ]
  },
  {
   "cell_type": "code",
   "execution_count": 4,
   "id": "5920dee1-86aa-491c-b9be-a6048d138844",
   "metadata": {
    "tags": []
   },
   "outputs": [],
   "source": [
    "driver.set_page_load_timeout(60) # adapt as you see fit"
   ]
  },
  {
   "cell_type": "code",
   "execution_count": 5,
   "id": "1b8d3920-a8da-4f51-b46e-0888cb82f46c",
   "metadata": {
    "tags": []
   },
   "outputs": [],
   "source": [
    "driver.get(url)\n",
    "driver.maximize_window()\n",
    "time.sleep(5) "
   ]
  },
  {
   "cell_type": "code",
   "execution_count": 6,
   "id": "8473a486-4acd-41dd-b9ed-1a589c4b62dd",
   "metadata": {
    "tags": []
   },
   "outputs": [
    {
     "data": {
      "text/plain": [
       "'Web of Science Master Journal List - WoS MJL by Clarivate'"
      ]
     },
     "execution_count": 6,
     "metadata": {},
     "output_type": "execute_result"
    }
   ],
   "source": [
    "driver.title"
   ]
  },
  {
   "cell_type": "code",
   "execution_count": 7,
   "id": "216712b1-ba05-4308-89c7-305b22ef73b8",
   "metadata": {
    "tags": []
   },
   "outputs": [
    {
     "data": {
      "text/plain": [
       "True"
      ]
     },
     "execution_count": 7,
     "metadata": {},
     "output_type": "execute_result"
    }
   ],
   "source": [
    "WebDriverWait(driver, 10).until(EC.title_contains(\"Clarivate\"))"
   ]
  },
  {
   "cell_type": "code",
   "execution_count": 8,
   "id": "9c365e97-833e-4dfb-a90a-b4ebe5fa22c4",
   "metadata": {
    "tags": []
   },
   "outputs": [
    {
     "name": "stdout",
     "output_type": "stream",
     "text": [
      "Assertion test pass : Cookie Buttion Found\n"
     ]
    }
   ],
   "source": [
    "# Click on Close Cookies & then click on Search Button\n",
    "#cookie : (By.CSS_SELECTOR, \"[aria-label='close']\")\n",
    "try:\n",
    "    assert driver.find_element(By.CSS_SELECTOR, \"[aria-label='Close']\").is_displayed()\n",
    "    print('Assertion test pass : Cookie Buttion Found')\n",
    "    driver.find_element(By.CSS_SELECTOR, \"[aria-label='Close']\").click()\n",
    "except Exception as e:\n",
    "    #print('Assertion test failed: Cookie Button Not Found', format(e))\n",
    "    print('- Cookie Button Not Found--')\n",
    "    \n",
    "#cbtn = driver.find_element(By.CSS_SELECTOR, \"[aria-label='Close']\")"
   ]
  },
  {
   "cell_type": "code",
   "execution_count": 9,
   "id": "13adf669-733d-446b-8aa1-72530faa2345",
   "metadata": {
    "tags": []
   },
   "outputs": [
    {
     "name": "stdout",
     "output_type": "stream",
     "text": [
      "Assertion test pass : Search Buttion Found & Clicked\n"
     ]
    }
   ],
   "source": [
    "# if Search Journal Tab is Visible, Click on int\n",
    "try:\n",
    "    assert driver.find_element(By.XPATH, \"//span[normalize-space()='Search Journals']\").is_displayed()\n",
    "    print('Assertion test pass : Search Buttion Found & Clicked')\n",
    "    driver.find_element(By.XPATH, \"//span[normalize-space()='Search Journals']\").click()\n",
    "except Exception as e:\n",
    "    #print('Assertion test failed: Search Button Not Found', format(e))\n",
    "    print('--- Search Button Not Found---')\n",
    "time.sleep(2)"
   ]
  },
  {
   "cell_type": "code",
   "execution_count": 10,
   "id": "484c2b6e-a9d5-4b6e-83bb-9666f3a87359",
   "metadata": {
    "tags": []
   },
   "outputs": [
    {
     "name": "stdout",
     "output_type": "stream",
     "text": [
      "Web of Science Master Journal List - Search\n"
     ]
    }
   ],
   "source": [
    "print(driver.title)"
   ]
  },
  {
   "cell_type": "code",
   "execution_count": 11,
   "id": "208ed152-4bb1-4b82-9f14-fb950202763a",
   "metadata": {
    "tags": []
   },
   "outputs": [
    {
     "name": "stdout",
     "output_type": "stream",
     "text": [
      "You are in the right page for using Selenium\n"
     ]
    }
   ],
   "source": [
    "try:\n",
    "    assert WebDriverWait(driver, 2).until(EC.title_contains(\"List - Search\"))\n",
    "    print('You are in the right page for using Selenium')\n",
    "except :\n",
    "    print (----'Incorrect Page for Searching Elements----')"
   ]
  },
  {
   "cell_type": "code",
   "execution_count": 12,
   "id": "0c09cf5a-ca99-4b9c-a37d-6b23418e66c6",
   "metadata": {
    "tags": []
   },
   "outputs": [
    {
     "name": "stdout",
     "output_type": "stream",
     "text": [
      "{'app-journal-search-box', 'cdx-header-global', 'hr', 'mat-checkbox', 'br', 'mat-sidenav', 'b', 'app-main-menu', 'mat-card-title', 'label', 'h3', 'html', 'g', 'form', 'footer', 'i', 'cdx-app', 'head', 'mat-expansion-panel-header', 'can-footer', 'router-outlet', 'h1', 'app-sidenav-list', 'li', 'em', 'p', 'mat-chip-set', 'app-manuscript-matcher-jargon-filter', 'app-journal-filters', 'mat-sidenav-container', 'mat-card', 'mat-accordion', 'meta', 'app-journal-search-results', 'mat-autocomplete', 'mat-form-field', 'mat-expansion-panel', 'mat-menu', 'can-header', 'link', 'strong', 'path', 'main', 'span', 'base', 'div', 'svg', 'mat-card-header', 'section', 'script', 'img', 'h4', 'noscript', 'header', 'mat-sidenav-content', 'body', 'mat-slide-toggle', 'button', 'mat-icon', 'style', 'a', 'can-home-page', 'mat-divider', 'mat-select', 'mat-panel-title', 'title', 'app-user-actions-list', 'mat-card-content', 'input', 'mat-chip', 'mat-paginator', 'iframe', 'h2', 'ul'}, "
     ]
    }
   ],
   "source": [
    "# All unique tags\n",
    "elems = driver.find_elements(By.TAG_NAME,'*')\n",
    "tags = [x.tag_name for x in elems]\n",
    "print(set(tags), end =', ')"
   ]
  },
  {
   "cell_type": "code",
   "execution_count": 13,
   "id": "de58389a-8bab-4e1e-86bc-55470b25e316",
   "metadata": {
    "tags": []
   },
   "outputs": [
    {
     "name": "stdout",
     "output_type": "stream",
     "text": [
      "1 – 10 of 22588\n"
     ]
    }
   ],
   "source": [
    "# Result summary\n",
    "results = driver.find_element(By.CSS_SELECTOR, \".mat-mdc-paginator-range-label\")\n",
    "print(results.text)"
   ]
  },
  {
   "cell_type": "code",
   "execution_count": 137,
   "id": "fa363dc9-f6b6-4382-b323-b51b921b76fe",
   "metadata": {
    "tags": []
   },
   "outputs": [],
   "source": [
    "driver.refresh()"
   ]
  },
  {
   "cell_type": "code",
   "execution_count": 24,
   "id": "b3109d52-09dd-4bcf-bda4-8c803c521ec7",
   "metadata": {
    "tags": []
   },
   "outputs": [],
   "source": [
    "#keep doing this to check if webpage is not stale, implicit wait for 5 sec so that search button is displayed\n",
    "driver.refresh()\n",
    "driver.implicitly_wait(5)\n",
    "driver.find_element(By.XPATH, \"//button[@id='search-button']//span[@class='mdc-button__label']\").click()\n",
    "#button[id='search-button'] span[class='mdc-button__label']"
   ]
  },
  {
   "cell_type": "code",
   "execution_count": 26,
   "id": "afb49132-eee4-424e-812c-fd3bfc739dbb",
   "metadata": {
    "tags": []
   },
   "outputs": [
    {
     "data": {
      "text/plain": [
       "'1 – 10 of 22588'"
      ]
     },
     "execution_count": 26,
     "metadata": {},
     "output_type": "execute_result"
    }
   ],
   "source": [
    "# Items per page : .mdc-list-item__primary-text\n",
    "ipage = driver.find_element(By.CSS_SELECTOR , \".mat-mdc-paginator-range-label\")\n",
    "#ipage = driver.find_elements(By.XPATH , \"//span[@class='mdc-list-item__primary-text']\")\n",
    "ipage.text"
   ]
  },
  {
   "cell_type": "code",
   "execution_count": 28,
   "id": "ce2670b7-0f79-4b56-ae81-08ebac65c5c9",
   "metadata": {
    "tags": []
   },
   "outputs": [],
   "source": [
    "#pagenos = driver.find_element(By.XPATH, \"//mat-form-field[@xpath='1']\")\n",
    "#pagenos.text"
   ]
  },
  {
   "cell_type": "code",
   "execution_count": 23,
   "id": "ac5cdd27-e1bb-4a35-92b7-2bcace1582f8",
   "metadata": {
    "tags": []
   },
   "outputs": [],
   "source": [
    "pagenos.click()"
   ]
  },
  {
   "cell_type": "markdown",
   "id": "e7855b82-6bf3-4330-af60-0e5634a8fc12",
   "metadata": {
    "tags": []
   },
   "source": [
    "### tags to try\n",
    "#mat-select-2; #mat-select-value-5; .mat-mdc-text-field-wrapper.mdc-text-field.ng-tns-c1205077789-28.mdc-text-field--outlined.mdc-text-field--no-label\n",
    "driver.find_element(By.XPATH , \"//mat-select[@role='combobox' and @id='mat-select-8']\").text\n",
    "div[class='mat-mdc-select-arrow ng-tns-c3393473648-32'] svg path\n",
    "//div[@id='mat-select-value-9']\n",
    "#mat-select-value-9\n",
    ".mat-mdc-text-field-wrapper.mdc-text-field.ng-tns-c1205077789-26.mdc-text-field--outlined.mdc-text-field--no-label\n",
    "//div[@class='mat-mdc-text-field-wrapper mdc-text-field ng-tns-c1205077789-26 mdc-text-field--outlined mdc-text-field--no-label']\n",
    "//*[@id=\"mat-select-2\"]/div/div[2]/div/svg"
   ]
  },
  {
   "cell_type": "code",
   "execution_count": 173,
   "id": "b8fd50e6-9663-43be-be95-dd2e2423022d",
   "metadata": {
    "tags": []
   },
   "outputs": [
    {
     "ename": "TimeoutException",
     "evalue": "Message: \nStacktrace:\n0   chromedriver                        0x0000000100b77184 cxxbridge1$str$ptr + 3626716\n1   chromedriver                        0x0000000100b6f9d4 cxxbridge1$str$ptr + 3596076\n2   chromedriver                        0x00000001005dc968 cxxbridge1$string$len + 89228\n3   chromedriver                        0x0000000100620d50 cxxbridge1$string$len + 368756\n4   chromedriver                        0x000000010065a5b4 cxxbridge1$string$len + 604376\n5   chromedriver                        0x0000000100615568 cxxbridge1$string$len + 321676\n6   chromedriver                        0x00000001006161b8 cxxbridge1$string$len + 324828\n7   chromedriver                        0x0000000100b429ac cxxbridge1$str$ptr + 3411716\n8   chromedriver                        0x0000000100b45ccc cxxbridge1$str$ptr + 3424804\n9   chromedriver                        0x0000000100b2986c cxxbridge1$str$ptr + 3308996\n10  chromedriver                        0x0000000100b4658c cxxbridge1$str$ptr + 3427044\n11  chromedriver                        0x0000000100b1b09c cxxbridge1$str$ptr + 3249652\n12  chromedriver                        0x0000000100b604b8 cxxbridge1$str$ptr + 3533328\n13  chromedriver                        0x0000000100b60634 cxxbridge1$str$ptr + 3533708\n14  chromedriver                        0x0000000100b6f648 cxxbridge1$str$ptr + 3595168\n15  libsystem_pthread.dylib             0x00000001897382e4 _pthread_start + 136\n16  libsystem_pthread.dylib             0x00000001897330fc thread_start + 8\n",
     "output_type": "error",
     "traceback": [
      "\u001b[0;31m---------------------------------------------------------------------------\u001b[0m",
      "\u001b[0;31mTimeoutException\u001b[0m                          Traceback (most recent call last)",
      "Cell \u001b[0;32mIn[173], line 2\u001b[0m\n\u001b[1;32m      1\u001b[0m wait \u001b[38;5;241m=\u001b[39m WebDriverWait(driver, \u001b[38;5;241m10\u001b[39m)\n\u001b[0;32m----> 2\u001b[0m mat_select \u001b[38;5;241m=\u001b[39m wait\u001b[38;5;241m.\u001b[39muntil(EC\u001b[38;5;241m.\u001b[39melement_to_be_clickable((By\u001b[38;5;241m.\u001b[39mID, \u001b[38;5;124m\"\u001b[39m\u001b[38;5;124mmat-select-4\u001b[39m\u001b[38;5;124m\"\u001b[39m)))\n\u001b[1;32m      3\u001b[0m mat_select\u001b[38;5;241m.\u001b[39mclick()\n\u001b[1;32m      5\u001b[0m \u001b[38;5;66;03m# Wait until the options are visible\u001b[39;00m\n",
      "File \u001b[0;32m~/anaconda3/lib/python3.11/site-packages/selenium/webdriver/support/wait.py:105\u001b[0m, in \u001b[0;36mWebDriverWait.until\u001b[0;34m(self, method, message)\u001b[0m\n\u001b[1;32m    103\u001b[0m     \u001b[38;5;28;01mif\u001b[39;00m time\u001b[38;5;241m.\u001b[39mmonotonic() \u001b[38;5;241m>\u001b[39m end_time:\n\u001b[1;32m    104\u001b[0m         \u001b[38;5;28;01mbreak\u001b[39;00m\n\u001b[0;32m--> 105\u001b[0m \u001b[38;5;28;01mraise\u001b[39;00m TimeoutException(message, screen, stacktrace)\n",
      "\u001b[0;31mTimeoutException\u001b[0m: Message: \nStacktrace:\n0   chromedriver                        0x0000000100b77184 cxxbridge1$str$ptr + 3626716\n1   chromedriver                        0x0000000100b6f9d4 cxxbridge1$str$ptr + 3596076\n2   chromedriver                        0x00000001005dc968 cxxbridge1$string$len + 89228\n3   chromedriver                        0x0000000100620d50 cxxbridge1$string$len + 368756\n4   chromedriver                        0x000000010065a5b4 cxxbridge1$string$len + 604376\n5   chromedriver                        0x0000000100615568 cxxbridge1$string$len + 321676\n6   chromedriver                        0x00000001006161b8 cxxbridge1$string$len + 324828\n7   chromedriver                        0x0000000100b429ac cxxbridge1$str$ptr + 3411716\n8   chromedriver                        0x0000000100b45ccc cxxbridge1$str$ptr + 3424804\n9   chromedriver                        0x0000000100b2986c cxxbridge1$str$ptr + 3308996\n10  chromedriver                        0x0000000100b4658c cxxbridge1$str$ptr + 3427044\n11  chromedriver                        0x0000000100b1b09c cxxbridge1$str$ptr + 3249652\n12  chromedriver                        0x0000000100b604b8 cxxbridge1$str$ptr + 3533328\n13  chromedriver                        0x0000000100b60634 cxxbridge1$str$ptr + 3533708\n14  chromedriver                        0x0000000100b6f648 cxxbridge1$str$ptr + 3595168\n15  libsystem_pthread.dylib             0x00000001897382e4 _pthread_start + 136\n16  libsystem_pthread.dylib             0x00000001897330fc thread_start + 8\n"
     ]
    }
   ],
   "source": [
    "wait = WebDriverWait(driver, 10)\n",
    "mat_select = wait.until(EC.element_to_be_clickable((By.ID, \"mat-select-4\")))\n",
    "mat_select.click()\n",
    "\n",
    "# Wait until the options are visible\n",
    "dropdown_options = wait.until(EC.presence_of_all_elements_located((By.CSS_SELECTOR, \"mat-option\")))\n",
    "\n",
    "# Loop through the options to find the desired value (e.g., \"50\")\n",
    "for option in dropdown_options:\n",
    "    if option.text == \"50\":  # Replace \"50\" with the value you want to select\n",
    "        option.click()\n",
    "        break\n",
    "\n",
    "# Verify the selection (Optional)\n",
    "selected_value = driver.find_element(By.ID, \"mat-select-value-5\").text\n",
    "print(f\"Selected value: {selected_value}\")"
   ]
  },
  {
   "cell_type": "code",
   "execution_count": null,
   "id": "0812a59b-e65d-459a-93fa-e1c44c84681b",
   "metadata": {},
   "outputs": [],
   "source": []
  },
  {
   "cell_type": "code",
   "execution_count": 170,
   "id": "aed59d2f-19ed-4214-92d4-ff614dbb4713",
   "metadata": {
    "tags": []
   },
   "outputs": [
    {
     "ename": "NoSuchElementException",
     "evalue": "Message: no such element: Unable to locate element: {\"method\":\"css selector\",\"selector\":\".ng-tns-c3393473648-27\"}\n  (Session info: chrome=131.0.6778.205); For documentation on this error, please visit: https://www.selenium.dev/documentation/webdriver/troubleshooting/errors#no-such-element-exception\nStacktrace:\n0   chromedriver                        0x0000000100b77184 cxxbridge1$str$ptr + 3626716\n1   chromedriver                        0x0000000100b6f9d4 cxxbridge1$str$ptr + 3596076\n2   chromedriver                        0x00000001005dc968 cxxbridge1$string$len + 89228\n3   chromedriver                        0x0000000100620d50 cxxbridge1$string$len + 368756\n4   chromedriver                        0x000000010065a5b4 cxxbridge1$string$len + 604376\n5   chromedriver                        0x0000000100615568 cxxbridge1$string$len + 321676\n6   chromedriver                        0x00000001006161b8 cxxbridge1$string$len + 324828\n7   chromedriver                        0x0000000100b429ac cxxbridge1$str$ptr + 3411716\n8   chromedriver                        0x0000000100b45ccc cxxbridge1$str$ptr + 3424804\n9   chromedriver                        0x0000000100b2986c cxxbridge1$str$ptr + 3308996\n10  chromedriver                        0x0000000100b4658c cxxbridge1$str$ptr + 3427044\n11  chromedriver                        0x0000000100b1b09c cxxbridge1$str$ptr + 3249652\n12  chromedriver                        0x0000000100b604b8 cxxbridge1$str$ptr + 3533328\n13  chromedriver                        0x0000000100b60634 cxxbridge1$str$ptr + 3533708\n14  chromedriver                        0x0000000100b6f648 cxxbridge1$str$ptr + 3595168\n15  libsystem_pthread.dylib             0x00000001897382e4 _pthread_start + 136\n16  libsystem_pthread.dylib             0x00000001897330fc thread_start + 8\n",
     "output_type": "error",
     "traceback": [
      "\u001b[0;31m---------------------------------------------------------------------------\u001b[0m",
      "\u001b[0;31mNoSuchElementException\u001b[0m                    Traceback (most recent call last)",
      "Cell \u001b[0;32mIn[170], line 2\u001b[0m\n\u001b[1;32m      1\u001b[0m \u001b[38;5;66;03m#click on dropdown for page nos\u001b[39;00m\n\u001b[0;32m----> 2\u001b[0m driver\u001b[38;5;241m.\u001b[39mfind_element(By\u001b[38;5;241m.\u001b[39mCSS_SELECTOR , \u001b[38;5;124m'\u001b[39m\u001b[38;5;124m.ng-tns-c3393473648-27\u001b[39m\u001b[38;5;124m'\u001b[39m)\u001b[38;5;241m.\u001b[39mclick()\n",
      "File \u001b[0;32m~/anaconda3/lib/python3.11/site-packages/selenium/webdriver/remote/webdriver.py:741\u001b[0m, in \u001b[0;36mWebDriver.find_element\u001b[0;34m(self, by, value)\u001b[0m\n\u001b[1;32m    738\u001b[0m     by \u001b[38;5;241m=\u001b[39m By\u001b[38;5;241m.\u001b[39mCSS_SELECTOR\n\u001b[1;32m    739\u001b[0m     value \u001b[38;5;241m=\u001b[39m \u001b[38;5;124mf\u001b[39m\u001b[38;5;124m'\u001b[39m\u001b[38;5;124m[name=\u001b[39m\u001b[38;5;124m\"\u001b[39m\u001b[38;5;132;01m{\u001b[39;00mvalue\u001b[38;5;132;01m}\u001b[39;00m\u001b[38;5;124m\"\u001b[39m\u001b[38;5;124m]\u001b[39m\u001b[38;5;124m'\u001b[39m\n\u001b[0;32m--> 741\u001b[0m \u001b[38;5;28;01mreturn\u001b[39;00m \u001b[38;5;28mself\u001b[39m\u001b[38;5;241m.\u001b[39mexecute(Command\u001b[38;5;241m.\u001b[39mFIND_ELEMENT, {\u001b[38;5;124m\"\u001b[39m\u001b[38;5;124musing\u001b[39m\u001b[38;5;124m\"\u001b[39m: by, \u001b[38;5;124m\"\u001b[39m\u001b[38;5;124mvalue\u001b[39m\u001b[38;5;124m\"\u001b[39m: value})[\u001b[38;5;124m\"\u001b[39m\u001b[38;5;124mvalue\u001b[39m\u001b[38;5;124m\"\u001b[39m]\n",
      "File \u001b[0;32m~/anaconda3/lib/python3.11/site-packages/selenium/webdriver/remote/webdriver.py:347\u001b[0m, in \u001b[0;36mWebDriver.execute\u001b[0;34m(self, driver_command, params)\u001b[0m\n\u001b[1;32m    345\u001b[0m response \u001b[38;5;241m=\u001b[39m \u001b[38;5;28mself\u001b[39m\u001b[38;5;241m.\u001b[39mcommand_executor\u001b[38;5;241m.\u001b[39mexecute(driver_command, params)\n\u001b[1;32m    346\u001b[0m \u001b[38;5;28;01mif\u001b[39;00m response:\n\u001b[0;32m--> 347\u001b[0m     \u001b[38;5;28mself\u001b[39m\u001b[38;5;241m.\u001b[39merror_handler\u001b[38;5;241m.\u001b[39mcheck_response(response)\n\u001b[1;32m    348\u001b[0m     response[\u001b[38;5;124m\"\u001b[39m\u001b[38;5;124mvalue\u001b[39m\u001b[38;5;124m\"\u001b[39m] \u001b[38;5;241m=\u001b[39m \u001b[38;5;28mself\u001b[39m\u001b[38;5;241m.\u001b[39m_unwrap_value(response\u001b[38;5;241m.\u001b[39mget(\u001b[38;5;124m\"\u001b[39m\u001b[38;5;124mvalue\u001b[39m\u001b[38;5;124m\"\u001b[39m, \u001b[38;5;28;01mNone\u001b[39;00m))\n\u001b[1;32m    349\u001b[0m     \u001b[38;5;28;01mreturn\u001b[39;00m response\n",
      "File \u001b[0;32m~/anaconda3/lib/python3.11/site-packages/selenium/webdriver/remote/errorhandler.py:229\u001b[0m, in \u001b[0;36mErrorHandler.check_response\u001b[0;34m(self, response)\u001b[0m\n\u001b[1;32m    227\u001b[0m         alert_text \u001b[38;5;241m=\u001b[39m value[\u001b[38;5;124m\"\u001b[39m\u001b[38;5;124malert\u001b[39m\u001b[38;5;124m\"\u001b[39m]\u001b[38;5;241m.\u001b[39mget(\u001b[38;5;124m\"\u001b[39m\u001b[38;5;124mtext\u001b[39m\u001b[38;5;124m\"\u001b[39m)\n\u001b[1;32m    228\u001b[0m     \u001b[38;5;28;01mraise\u001b[39;00m exception_class(message, screen, stacktrace, alert_text)  \u001b[38;5;66;03m# type: ignore[call-arg]  # mypy is not smart enough here\u001b[39;00m\n\u001b[0;32m--> 229\u001b[0m \u001b[38;5;28;01mraise\u001b[39;00m exception_class(message, screen, stacktrace)\n",
      "\u001b[0;31mNoSuchElementException\u001b[0m: Message: no such element: Unable to locate element: {\"method\":\"css selector\",\"selector\":\".ng-tns-c3393473648-27\"}\n  (Session info: chrome=131.0.6778.205); For documentation on this error, please visit: https://www.selenium.dev/documentation/webdriver/troubleshooting/errors#no-such-element-exception\nStacktrace:\n0   chromedriver                        0x0000000100b77184 cxxbridge1$str$ptr + 3626716\n1   chromedriver                        0x0000000100b6f9d4 cxxbridge1$str$ptr + 3596076\n2   chromedriver                        0x00000001005dc968 cxxbridge1$string$len + 89228\n3   chromedriver                        0x0000000100620d50 cxxbridge1$string$len + 368756\n4   chromedriver                        0x000000010065a5b4 cxxbridge1$string$len + 604376\n5   chromedriver                        0x0000000100615568 cxxbridge1$string$len + 321676\n6   chromedriver                        0x00000001006161b8 cxxbridge1$string$len + 324828\n7   chromedriver                        0x0000000100b429ac cxxbridge1$str$ptr + 3411716\n8   chromedriver                        0x0000000100b45ccc cxxbridge1$str$ptr + 3424804\n9   chromedriver                        0x0000000100b2986c cxxbridge1$str$ptr + 3308996\n10  chromedriver                        0x0000000100b4658c cxxbridge1$str$ptr + 3427044\n11  chromedriver                        0x0000000100b1b09c cxxbridge1$str$ptr + 3249652\n12  chromedriver                        0x0000000100b604b8 cxxbridge1$str$ptr + 3533328\n13  chromedriver                        0x0000000100b60634 cxxbridge1$str$ptr + 3533708\n14  chromedriver                        0x0000000100b6f648 cxxbridge1$str$ptr + 3595168\n15  libsystem_pthread.dylib             0x00000001897382e4 _pthread_start + 136\n16  libsystem_pthread.dylib             0x00000001897330fc thread_start + 8\n"
     ]
    }
   ],
   "source": [
    "#click on dropdown for page nos\n",
    "driver.find_element(By.CSS_SELECTOR , '.ng-tns-c3393473648-27').click()"
   ]
  },
  {
   "cell_type": "code",
   "execution_count": 167,
   "id": "1d88da64-1b4c-4aa8-b468-2c16156766b7",
   "metadata": {
    "tags": []
   },
   "outputs": [],
   "source": [
    "#driver.find_element(By.CSS_SELECTOR , \"#mat-select-2\").is_displayed()\n",
    "#driver.find_element(By.CSS_SELECTOR , \".mat-mdc-text-field-wrapper.mdc-text-field.ng-tns-c1205077789-28.mdc-text-field--outlined.mdc-text-field--no-label\").is_displayed()\n",
    "driver.find_element(By.CSS_SELECTOR , '.ng-tns-c3393473648-27').click()"
   ]
  },
  {
   "cell_type": "code",
   "execution_count": 162,
   "id": "614201ad-a239-4a4f-9684-b4a3b7656b76",
   "metadata": {
    "tags": []
   },
   "outputs": [
    {
     "ename": "NoSuchElementException",
     "evalue": "Message: no such element: Unable to locate element: {\"method\":\"css selector\",\"selector\":\"#mat-select-value-9\"}\n  (Session info: chrome=131.0.6778.205); For documentation on this error, please visit: https://www.selenium.dev/documentation/webdriver/troubleshooting/errors#no-such-element-exception\nStacktrace:\n0   chromedriver                        0x0000000100b77184 cxxbridge1$str$ptr + 3626716\n1   chromedriver                        0x0000000100b6f9d4 cxxbridge1$str$ptr + 3596076\n2   chromedriver                        0x00000001005dc968 cxxbridge1$string$len + 89228\n3   chromedriver                        0x0000000100620d50 cxxbridge1$string$len + 368756\n4   chromedriver                        0x000000010065a5b4 cxxbridge1$string$len + 604376\n5   chromedriver                        0x0000000100615568 cxxbridge1$string$len + 321676\n6   chromedriver                        0x00000001006161b8 cxxbridge1$string$len + 324828\n7   chromedriver                        0x0000000100b429ac cxxbridge1$str$ptr + 3411716\n8   chromedriver                        0x0000000100b45ccc cxxbridge1$str$ptr + 3424804\n9   chromedriver                        0x0000000100b2986c cxxbridge1$str$ptr + 3308996\n10  chromedriver                        0x0000000100b4658c cxxbridge1$str$ptr + 3427044\n11  chromedriver                        0x0000000100b1b09c cxxbridge1$str$ptr + 3249652\n12  chromedriver                        0x0000000100b604b8 cxxbridge1$str$ptr + 3533328\n13  chromedriver                        0x0000000100b60634 cxxbridge1$str$ptr + 3533708\n14  chromedriver                        0x0000000100b6f648 cxxbridge1$str$ptr + 3595168\n15  libsystem_pthread.dylib             0x00000001897382e4 _pthread_start + 136\n16  libsystem_pthread.dylib             0x00000001897330fc thread_start + 8\n",
     "output_type": "error",
     "traceback": [
      "\u001b[0;31m---------------------------------------------------------------------------\u001b[0m",
      "\u001b[0;31mNoSuchElementException\u001b[0m                    Traceback (most recent call last)",
      "Cell \u001b[0;32mIn[162], line 1\u001b[0m\n\u001b[0;32m----> 1\u001b[0m driver\u001b[38;5;241m.\u001b[39mfind_element(By\u001b[38;5;241m.\u001b[39mCSS_SELECTOR , \u001b[38;5;124m\"\u001b[39m\u001b[38;5;124m#mat-select-value-9\u001b[39m\u001b[38;5;124m\"\u001b[39m)\u001b[38;5;241m.\u001b[39mis_displayed()\n",
      "File \u001b[0;32m~/anaconda3/lib/python3.11/site-packages/selenium/webdriver/remote/webdriver.py:741\u001b[0m, in \u001b[0;36mWebDriver.find_element\u001b[0;34m(self, by, value)\u001b[0m\n\u001b[1;32m    738\u001b[0m     by \u001b[38;5;241m=\u001b[39m By\u001b[38;5;241m.\u001b[39mCSS_SELECTOR\n\u001b[1;32m    739\u001b[0m     value \u001b[38;5;241m=\u001b[39m \u001b[38;5;124mf\u001b[39m\u001b[38;5;124m'\u001b[39m\u001b[38;5;124m[name=\u001b[39m\u001b[38;5;124m\"\u001b[39m\u001b[38;5;132;01m{\u001b[39;00mvalue\u001b[38;5;132;01m}\u001b[39;00m\u001b[38;5;124m\"\u001b[39m\u001b[38;5;124m]\u001b[39m\u001b[38;5;124m'\u001b[39m\n\u001b[0;32m--> 741\u001b[0m \u001b[38;5;28;01mreturn\u001b[39;00m \u001b[38;5;28mself\u001b[39m\u001b[38;5;241m.\u001b[39mexecute(Command\u001b[38;5;241m.\u001b[39mFIND_ELEMENT, {\u001b[38;5;124m\"\u001b[39m\u001b[38;5;124musing\u001b[39m\u001b[38;5;124m\"\u001b[39m: by, \u001b[38;5;124m\"\u001b[39m\u001b[38;5;124mvalue\u001b[39m\u001b[38;5;124m\"\u001b[39m: value})[\u001b[38;5;124m\"\u001b[39m\u001b[38;5;124mvalue\u001b[39m\u001b[38;5;124m\"\u001b[39m]\n",
      "File \u001b[0;32m~/anaconda3/lib/python3.11/site-packages/selenium/webdriver/remote/webdriver.py:347\u001b[0m, in \u001b[0;36mWebDriver.execute\u001b[0;34m(self, driver_command, params)\u001b[0m\n\u001b[1;32m    345\u001b[0m response \u001b[38;5;241m=\u001b[39m \u001b[38;5;28mself\u001b[39m\u001b[38;5;241m.\u001b[39mcommand_executor\u001b[38;5;241m.\u001b[39mexecute(driver_command, params)\n\u001b[1;32m    346\u001b[0m \u001b[38;5;28;01mif\u001b[39;00m response:\n\u001b[0;32m--> 347\u001b[0m     \u001b[38;5;28mself\u001b[39m\u001b[38;5;241m.\u001b[39merror_handler\u001b[38;5;241m.\u001b[39mcheck_response(response)\n\u001b[1;32m    348\u001b[0m     response[\u001b[38;5;124m\"\u001b[39m\u001b[38;5;124mvalue\u001b[39m\u001b[38;5;124m\"\u001b[39m] \u001b[38;5;241m=\u001b[39m \u001b[38;5;28mself\u001b[39m\u001b[38;5;241m.\u001b[39m_unwrap_value(response\u001b[38;5;241m.\u001b[39mget(\u001b[38;5;124m\"\u001b[39m\u001b[38;5;124mvalue\u001b[39m\u001b[38;5;124m\"\u001b[39m, \u001b[38;5;28;01mNone\u001b[39;00m))\n\u001b[1;32m    349\u001b[0m     \u001b[38;5;28;01mreturn\u001b[39;00m response\n",
      "File \u001b[0;32m~/anaconda3/lib/python3.11/site-packages/selenium/webdriver/remote/errorhandler.py:229\u001b[0m, in \u001b[0;36mErrorHandler.check_response\u001b[0;34m(self, response)\u001b[0m\n\u001b[1;32m    227\u001b[0m         alert_text \u001b[38;5;241m=\u001b[39m value[\u001b[38;5;124m\"\u001b[39m\u001b[38;5;124malert\u001b[39m\u001b[38;5;124m\"\u001b[39m]\u001b[38;5;241m.\u001b[39mget(\u001b[38;5;124m\"\u001b[39m\u001b[38;5;124mtext\u001b[39m\u001b[38;5;124m\"\u001b[39m)\n\u001b[1;32m    228\u001b[0m     \u001b[38;5;28;01mraise\u001b[39;00m exception_class(message, screen, stacktrace, alert_text)  \u001b[38;5;66;03m# type: ignore[call-arg]  # mypy is not smart enough here\u001b[39;00m\n\u001b[0;32m--> 229\u001b[0m \u001b[38;5;28;01mraise\u001b[39;00m exception_class(message, screen, stacktrace)\n",
      "\u001b[0;31mNoSuchElementException\u001b[0m: Message: no such element: Unable to locate element: {\"method\":\"css selector\",\"selector\":\"#mat-select-value-9\"}\n  (Session info: chrome=131.0.6778.205); For documentation on this error, please visit: https://www.selenium.dev/documentation/webdriver/troubleshooting/errors#no-such-element-exception\nStacktrace:\n0   chromedriver                        0x0000000100b77184 cxxbridge1$str$ptr + 3626716\n1   chromedriver                        0x0000000100b6f9d4 cxxbridge1$str$ptr + 3596076\n2   chromedriver                        0x00000001005dc968 cxxbridge1$string$len + 89228\n3   chromedriver                        0x0000000100620d50 cxxbridge1$string$len + 368756\n4   chromedriver                        0x000000010065a5b4 cxxbridge1$string$len + 604376\n5   chromedriver                        0x0000000100615568 cxxbridge1$string$len + 321676\n6   chromedriver                        0x00000001006161b8 cxxbridge1$string$len + 324828\n7   chromedriver                        0x0000000100b429ac cxxbridge1$str$ptr + 3411716\n8   chromedriver                        0x0000000100b45ccc cxxbridge1$str$ptr + 3424804\n9   chromedriver                        0x0000000100b2986c cxxbridge1$str$ptr + 3308996\n10  chromedriver                        0x0000000100b4658c cxxbridge1$str$ptr + 3427044\n11  chromedriver                        0x0000000100b1b09c cxxbridge1$str$ptr + 3249652\n12  chromedriver                        0x0000000100b604b8 cxxbridge1$str$ptr + 3533328\n13  chromedriver                        0x0000000100b60634 cxxbridge1$str$ptr + 3533708\n14  chromedriver                        0x0000000100b6f648 cxxbridge1$str$ptr + 3595168\n15  libsystem_pthread.dylib             0x00000001897382e4 _pthread_start + 136\n16  libsystem_pthread.dylib             0x00000001897330fc thread_start + 8\n"
     ]
    }
   ],
   "source": [
    "driver.find_element(By.CSS_SELECTOR , \"#mat-select-value-9\").is_displayed()"
   ]
  },
  {
   "cell_type": "code",
   "execution_count": 70,
   "id": "43994c8f-1d8b-48b6-905a-94fa25724491",
   "metadata": {
    "tags": []
   },
   "outputs": [],
   "source": [
    "assert driver.find_element(By.CSS_SELECTOR , \"#mat-select-value-9\").is_displayed()"
   ]
  },
  {
   "cell_type": "code",
   "execution_count": 74,
   "id": "a9e6484a-b0a1-4bf9-b304-bd572639fbaf",
   "metadata": {
    "tags": []
   },
   "outputs": [
    {
     "name": "stdout",
     "output_type": "stream",
     "text": [
      "Assertion test pass : Page-10 Visible\n"
     ]
    },
    {
     "ename": "StaleElementReferenceException",
     "evalue": "Message: stale element reference: stale element not found in the current frame\n  (Session info: chrome=131.0.6778.205); For documentation on this error, please visit: https://www.selenium.dev/documentation/webdriver/troubleshooting/errors#stale-element-reference-exception\nStacktrace:\n0   chromedriver                        0x00000001025ef184 cxxbridge1$str$ptr + 3626716\n1   chromedriver                        0x00000001025e79d4 cxxbridge1$str$ptr + 3596076\n2   chromedriver                        0x0000000102054968 cxxbridge1$string$len + 89228\n3   chromedriver                        0x000000010205984c cxxbridge1$string$len + 109424\n4   chromedriver                        0x000000010205b89c cxxbridge1$string$len + 117696\n5   chromedriver                        0x000000010205b944 cxxbridge1$string$len + 117864\n6   chromedriver                        0x0000000102093f14 cxxbridge1$string$len + 348728\n7   chromedriver                        0x000000010208eec8 cxxbridge1$string$len + 328172\n8   chromedriver                        0x00000001020d25b4 cxxbridge1$string$len + 604376\n9   chromedriver                        0x000000010208d568 cxxbridge1$string$len + 321676\n10  chromedriver                        0x000000010208e1b8 cxxbridge1$string$len + 324828\n11  chromedriver                        0x00000001025ba9ac cxxbridge1$str$ptr + 3411716\n12  chromedriver                        0x00000001025bdccc cxxbridge1$str$ptr + 3424804\n13  chromedriver                        0x00000001025a186c cxxbridge1$str$ptr + 3308996\n14  chromedriver                        0x00000001025be58c cxxbridge1$str$ptr + 3427044\n15  chromedriver                        0x000000010259309c cxxbridge1$str$ptr + 3249652\n16  chromedriver                        0x00000001025d84b8 cxxbridge1$str$ptr + 3533328\n17  chromedriver                        0x00000001025d8634 cxxbridge1$str$ptr + 3533708\n18  chromedriver                        0x00000001025e7648 cxxbridge1$str$ptr + 3595168\n19  libsystem_pthread.dylib             0x00000001897382e4 _pthread_start + 136\n20  libsystem_pthread.dylib             0x00000001897330fc thread_start + 8\n",
     "output_type": "error",
     "traceback": [
      "\u001b[0;31m---------------------------------------------------------------------------\u001b[0m",
      "\u001b[0;31mStaleElementReferenceException\u001b[0m            Traceback (most recent call last)",
      "Cell \u001b[0;32mIn[74], line 4\u001b[0m\n\u001b[1;32m      2\u001b[0m     element \u001b[38;5;241m=\u001b[39m WebDriverWait(driver,\u001b[38;5;241m2\u001b[39m)\u001b[38;5;241m.\u001b[39muntil(EC\u001b[38;5;241m.\u001b[39mpresence_of_element_located((By\u001b[38;5;241m.\u001b[39mCSS_SELECTOR , \u001b[38;5;124m\"\u001b[39m\u001b[38;5;124m#mat-select-value-9\u001b[39m\u001b[38;5;124m\"\u001b[39m)))\n\u001b[1;32m      3\u001b[0m     \u001b[38;5;28mprint\u001b[39m(\u001b[38;5;124m'\u001b[39m\u001b[38;5;124mAssertion test pass : Page-10 Visible\u001b[39m\u001b[38;5;124m'\u001b[39m)\n\u001b[0;32m----> 4\u001b[0m     \u001b[38;5;28mprint\u001b[39m(ipage10\u001b[38;5;241m.\u001b[39mtext)\n\u001b[1;32m      5\u001b[0m \u001b[38;5;28;01mexcept\u001b[39;00m TimeoutException \u001b[38;5;28;01mas\u001b[39;00m e:\n\u001b[1;32m      6\u001b[0m     \u001b[38;5;28mprint\u001b[39m(\u001b[38;5;124m'\u001b[39m\u001b[38;5;124mAssertion test failed\u001b[39m\u001b[38;5;124m'\u001b[39m, \u001b[38;5;28mformat\u001b[39m(e\u001b[38;5;241m.\u001b[39mmessage))\n",
      "File \u001b[0;32m~/anaconda3/lib/python3.11/site-packages/selenium/webdriver/remote/webelement.py:90\u001b[0m, in \u001b[0;36mWebElement.text\u001b[0;34m(self)\u001b[0m\n\u001b[1;32m     87\u001b[0m \u001b[38;5;129m@property\u001b[39m\n\u001b[1;32m     88\u001b[0m \u001b[38;5;28;01mdef\u001b[39;00m \u001b[38;5;21mtext\u001b[39m(\u001b[38;5;28mself\u001b[39m) \u001b[38;5;241m-\u001b[39m\u001b[38;5;241m>\u001b[39m \u001b[38;5;28mstr\u001b[39m:\n\u001b[1;32m     89\u001b[0m \u001b[38;5;250m    \u001b[39m\u001b[38;5;124;03m\"\"\"The text of the element.\"\"\"\u001b[39;00m\n\u001b[0;32m---> 90\u001b[0m     \u001b[38;5;28;01mreturn\u001b[39;00m \u001b[38;5;28mself\u001b[39m\u001b[38;5;241m.\u001b[39m_execute(Command\u001b[38;5;241m.\u001b[39mGET_ELEMENT_TEXT)[\u001b[38;5;124m\"\u001b[39m\u001b[38;5;124mvalue\u001b[39m\u001b[38;5;124m\"\u001b[39m]\n",
      "File \u001b[0;32m~/anaconda3/lib/python3.11/site-packages/selenium/webdriver/remote/webelement.py:395\u001b[0m, in \u001b[0;36mWebElement._execute\u001b[0;34m(self, command, params)\u001b[0m\n\u001b[1;32m    393\u001b[0m     params \u001b[38;5;241m=\u001b[39m {}\n\u001b[1;32m    394\u001b[0m params[\u001b[38;5;124m\"\u001b[39m\u001b[38;5;124mid\u001b[39m\u001b[38;5;124m\"\u001b[39m] \u001b[38;5;241m=\u001b[39m \u001b[38;5;28mself\u001b[39m\u001b[38;5;241m.\u001b[39m_id\n\u001b[0;32m--> 395\u001b[0m \u001b[38;5;28;01mreturn\u001b[39;00m \u001b[38;5;28mself\u001b[39m\u001b[38;5;241m.\u001b[39m_parent\u001b[38;5;241m.\u001b[39mexecute(command, params)\n",
      "File \u001b[0;32m~/anaconda3/lib/python3.11/site-packages/selenium/webdriver/remote/webdriver.py:347\u001b[0m, in \u001b[0;36mWebDriver.execute\u001b[0;34m(self, driver_command, params)\u001b[0m\n\u001b[1;32m    345\u001b[0m response \u001b[38;5;241m=\u001b[39m \u001b[38;5;28mself\u001b[39m\u001b[38;5;241m.\u001b[39mcommand_executor\u001b[38;5;241m.\u001b[39mexecute(driver_command, params)\n\u001b[1;32m    346\u001b[0m \u001b[38;5;28;01mif\u001b[39;00m response:\n\u001b[0;32m--> 347\u001b[0m     \u001b[38;5;28mself\u001b[39m\u001b[38;5;241m.\u001b[39merror_handler\u001b[38;5;241m.\u001b[39mcheck_response(response)\n\u001b[1;32m    348\u001b[0m     response[\u001b[38;5;124m\"\u001b[39m\u001b[38;5;124mvalue\u001b[39m\u001b[38;5;124m\"\u001b[39m] \u001b[38;5;241m=\u001b[39m \u001b[38;5;28mself\u001b[39m\u001b[38;5;241m.\u001b[39m_unwrap_value(response\u001b[38;5;241m.\u001b[39mget(\u001b[38;5;124m\"\u001b[39m\u001b[38;5;124mvalue\u001b[39m\u001b[38;5;124m\"\u001b[39m, \u001b[38;5;28;01mNone\u001b[39;00m))\n\u001b[1;32m    349\u001b[0m     \u001b[38;5;28;01mreturn\u001b[39;00m response\n",
      "File \u001b[0;32m~/anaconda3/lib/python3.11/site-packages/selenium/webdriver/remote/errorhandler.py:229\u001b[0m, in \u001b[0;36mErrorHandler.check_response\u001b[0;34m(self, response)\u001b[0m\n\u001b[1;32m    227\u001b[0m         alert_text \u001b[38;5;241m=\u001b[39m value[\u001b[38;5;124m\"\u001b[39m\u001b[38;5;124malert\u001b[39m\u001b[38;5;124m\"\u001b[39m]\u001b[38;5;241m.\u001b[39mget(\u001b[38;5;124m\"\u001b[39m\u001b[38;5;124mtext\u001b[39m\u001b[38;5;124m\"\u001b[39m)\n\u001b[1;32m    228\u001b[0m     \u001b[38;5;28;01mraise\u001b[39;00m exception_class(message, screen, stacktrace, alert_text)  \u001b[38;5;66;03m# type: ignore[call-arg]  # mypy is not smart enough here\u001b[39;00m\n\u001b[0;32m--> 229\u001b[0m \u001b[38;5;28;01mraise\u001b[39;00m exception_class(message, screen, stacktrace)\n",
      "\u001b[0;31mStaleElementReferenceException\u001b[0m: Message: stale element reference: stale element not found in the current frame\n  (Session info: chrome=131.0.6778.205); For documentation on this error, please visit: https://www.selenium.dev/documentation/webdriver/troubleshooting/errors#stale-element-reference-exception\nStacktrace:\n0   chromedriver                        0x00000001025ef184 cxxbridge1$str$ptr + 3626716\n1   chromedriver                        0x00000001025e79d4 cxxbridge1$str$ptr + 3596076\n2   chromedriver                        0x0000000102054968 cxxbridge1$string$len + 89228\n3   chromedriver                        0x000000010205984c cxxbridge1$string$len + 109424\n4   chromedriver                        0x000000010205b89c cxxbridge1$string$len + 117696\n5   chromedriver                        0x000000010205b944 cxxbridge1$string$len + 117864\n6   chromedriver                        0x0000000102093f14 cxxbridge1$string$len + 348728\n7   chromedriver                        0x000000010208eec8 cxxbridge1$string$len + 328172\n8   chromedriver                        0x00000001020d25b4 cxxbridge1$string$len + 604376\n9   chromedriver                        0x000000010208d568 cxxbridge1$string$len + 321676\n10  chromedriver                        0x000000010208e1b8 cxxbridge1$string$len + 324828\n11  chromedriver                        0x00000001025ba9ac cxxbridge1$str$ptr + 3411716\n12  chromedriver                        0x00000001025bdccc cxxbridge1$str$ptr + 3424804\n13  chromedriver                        0x00000001025a186c cxxbridge1$str$ptr + 3308996\n14  chromedriver                        0x00000001025be58c cxxbridge1$str$ptr + 3427044\n15  chromedriver                        0x000000010259309c cxxbridge1$str$ptr + 3249652\n16  chromedriver                        0x00000001025d84b8 cxxbridge1$str$ptr + 3533328\n17  chromedriver                        0x00000001025d8634 cxxbridge1$str$ptr + 3533708\n18  chromedriver                        0x00000001025e7648 cxxbridge1$str$ptr + 3595168\n19  libsystem_pthread.dylib             0x00000001897382e4 _pthread_start + 136\n20  libsystem_pthread.dylib             0x00000001897330fc thread_start + 8\n"
     ]
    }
   ],
   "source": [
    "try:\n",
    "    element = WebDriverWait(driver,2).until(EC.presence_of_element_located((By.CSS_SELECTOR , \"#mat-select-value-9\")))\n",
    "    print('Assertion test pass : Page-10 Visible')\n",
    "    print(ipage10.text)\n",
    "except TimeoutException as e:\n",
    "    print('Assertion test failed', format(e.message))\n",
    "\n",
    "#ipage10 = driver.find_element(By.XPATH , \"//mat-select[@role='combobox' and @id='mat-select-6']\")\n",
    "#ipage10.text\n",
    "#\"//mat-select[@role='combobox' and @id='mat-select-2']\") #10\n",
    "#\"//mat-select[@role='combobox' and @id='mat-select-4']\") #20\n",
    "#\"//mat-select[@role='combobox' and @id='mat-select-6']\"  #50"
   ]
  },
  {
   "cell_type": "code",
   "execution_count": null,
   "id": "ed6eb5b2-44b1-47b5-9ddb-a5f09f5e64da",
   "metadata": {
    "tags": []
   },
   "outputs": [],
   "source": [
    "for i in ipage:\n",
    "    print(i.text)"
   ]
  },
  {
   "cell_type": "code",
   "execution_count": null,
   "id": "48787b0b-58cd-40cf-b1fd-a7f77b7a7aa8",
   "metadata": {
    "tags": []
   },
   "outputs": [],
   "source": [
    "ipage2 = driver.find_elements(By.CLASS_NAME,  'mat-mdc-form-field')\n",
    "len(ipage2)"
   ]
  },
  {
   "cell_type": "code",
   "execution_count": null,
   "id": "cd129228-9cd7-4a61-b76f-25bce3f3b23a",
   "metadata": {
    "tags": []
   },
   "outputs": [],
   "source": [
    "for i in ipage2[5:] : print(i.text)"
   ]
  },
  {
   "cell_type": "code",
   "execution_count": null,
   "id": "bd964bab-867a-499a-a23a-4489bb06f93d",
   "metadata": {},
   "outputs": [],
   "source": [
    "//*[@id=\"mat-select-value-7\"]/span/span"
   ]
  },
  {
   "cell_type": "code",
   "execution_count": null,
   "id": "041ee9a0-d4f3-43e6-b464-376f93b35078",
   "metadata": {
    "tags": []
   },
   "outputs": [],
   "source": [
    "ipage3 = driver.find_element(By.XPATH , \"//mat-select[@role='combobox' and @id ='mat-select-2']\")\n",
    "ipage3.text\n",
    "#[position()=2]"
   ]
  },
  {
   "cell_type": "code",
   "execution_count": null,
   "id": "44566e84-cd5c-42f9-b2fd-a5a50a110ae0",
   "metadata": {
    "tags": []
   },
   "outputs": [],
   "source": [
    "for i in ipage3: print(i.text)"
   ]
  },
  {
   "cell_type": "code",
   "execution_count": null,
   "id": "34152fa0-a42c-496d-a1ac-c1626150c2e4",
   "metadata": {
    "tags": []
   },
   "outputs": [],
   "source": [
    "ipage4 = driver.find_elements(By.CSS_SELECTOR , \"mat-select#mat-select-2\")\n",
    "len(ipage4)"
   ]
  },
  {
   "cell_type": "code",
   "execution_count": null,
   "id": "5ac61219-dce8-4298-8cab-1bd3406057ac",
   "metadata": {
    "tags": []
   },
   "outputs": [],
   "source": [
    "ipage4[0].text"
   ]
  },
  {
   "cell_type": "code",
   "execution_count": null,
   "id": "c88881c4-6a29-44de-8013-f80c3acd0c34",
   "metadata": {
    "tags": []
   },
   "outputs": [],
   "source": [
    "ipage5 = driver.find_elements(By.CSS_SELECTOR , \"mat-select[id^='mat-select']\").get(1)\n",
    "len(ipage5)"
   ]
  },
  {
   "cell_type": "code",
   "execution_count": null,
   "id": "863e780e-ec37-4a07-8366-06a0eb264f87",
   "metadata": {
    "tags": []
   },
   "outputs": [],
   "source": [
    "for i in ipage5: print(i.text)"
   ]
  },
  {
   "cell_type": "code",
   "execution_count": null,
   "id": "cda38aac-5a70-4acf-95e2-553b77d49b9d",
   "metadata": {},
   "outputs": [],
   "source": []
  }
 ],
 "metadata": {
  "kernelspec": {
   "display_name": "Python 3 (ipykernel)",
   "language": "python",
   "name": "python3"
  },
  "language_info": {
   "codemirror_mode": {
    "name": "ipython",
    "version": 3
   },
   "file_extension": ".py",
   "mimetype": "text/x-python",
   "name": "python",
   "nbconvert_exporter": "python",
   "pygments_lexer": "ipython3",
   "version": "3.11.5"
  }
 },
 "nbformat": 4,
 "nbformat_minor": 5
}
