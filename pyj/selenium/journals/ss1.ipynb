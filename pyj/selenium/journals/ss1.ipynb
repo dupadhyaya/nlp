{
 "cells": [
  {
   "cell_type": "code",
   "execution_count": 1,
   "id": "f198d89b-aba2-42d5-aa6b-b3e56bf427b0",
   "metadata": {
    "tags": []
   },
   "outputs": [],
   "source": [
    "#pop push in Python"
   ]
  },
  {
   "cell_type": "code",
   "execution_count": 15,
   "id": "028b6d2d-0936-4da9-8a74-caa68e6225e4",
   "metadata": {
    "tags": []
   },
   "outputs": [
    {
     "name": "stdin",
     "output_type": "stream",
     "text": [
      "Enter a number 6\n"
     ]
    }
   ],
   "source": [
    "f = int(input ('Enter a number'))"
   ]
  },
  {
   "cell_type": "code",
   "execution_count": 16,
   "id": "bc7b2c88-239f-471f-8c0b-0833f255f886",
   "metadata": {
    "tags": []
   },
   "outputs": [
    {
     "name": "stdout",
     "output_type": "stream",
     "text": [
      "6\n"
     ]
    }
   ],
   "source": [
    "print(f)"
   ]
  },
  {
   "cell_type": "code",
   "execution_count": 18,
   "id": "de0ca247-ea83-464e-b4ee-67b4f9c65e7e",
   "metadata": {
    "tags": []
   },
   "outputs": [
    {
     "name": "stdout",
     "output_type": "stream",
     "text": [
      "[]\n"
     ]
    }
   ],
   "source": [
    "stackList = []\n",
    "print(stackList)"
   ]
  },
  {
   "cell_type": "code",
   "execution_count": 19,
   "id": "2cfe0670-26b2-442a-9a50-40721b66bd54",
   "metadata": {
    "tags": []
   },
   "outputs": [
    {
     "name": "stdout",
     "output_type": "stream",
     "text": [
      "[6]\n"
     ]
    }
   ],
   "source": [
    "stackList.append(f)\n",
    "print(stackList)"
   ]
  },
  {
   "cell_type": "code",
   "execution_count": 20,
   "id": "42d0fa76-1ffe-4c22-8328-f53b01e0a225",
   "metadata": {
    "tags": []
   },
   "outputs": [
    {
     "name": "stdout",
     "output_type": "stream",
     "text": [
      "[6, 3, 4]\n"
     ]
    }
   ],
   "source": [
    "stackList.append(3)\n",
    "stackList.append(4)\n",
    "print(stackList)"
   ]
  },
  {
   "cell_type": "code",
   "execution_count": 21,
   "id": "f875a99f-f4cf-4ddb-bcb6-b51259b2ca82",
   "metadata": {
    "tags": []
   },
   "outputs": [
    {
     "data": {
      "text/plain": [
       "4"
      ]
     },
     "execution_count": 21,
     "metadata": {},
     "output_type": "execute_result"
    }
   ],
   "source": [
    "stackList.pop()"
   ]
  },
  {
   "cell_type": "code",
   "execution_count": 22,
   "id": "b779ec28-c009-48d8-ac9f-b26915c15778",
   "metadata": {
    "tags": []
   },
   "outputs": [
    {
     "data": {
      "text/plain": [
       "3"
      ]
     },
     "execution_count": 22,
     "metadata": {},
     "output_type": "execute_result"
    }
   ],
   "source": [
    "stackList.pop()"
   ]
  },
  {
   "cell_type": "code",
   "execution_count": 23,
   "id": "6fd9b530-5c8d-42fd-b930-0e7c2d09713e",
   "metadata": {
    "tags": []
   },
   "outputs": [
    {
     "data": {
      "text/plain": [
       "6"
      ]
     },
     "execution_count": 23,
     "metadata": {},
     "output_type": "execute_result"
    }
   ],
   "source": [
    "stackList.pop()"
   ]
  },
  {
   "cell_type": "code",
   "execution_count": 24,
   "id": "0888aa3b-6930-4262-945b-222ce494843f",
   "metadata": {
    "tags": []
   },
   "outputs": [],
   "source": [
    "# Lines from SS"
   ]
  },
  {
   "cell_type": "code",
   "execution_count": 25,
   "id": "aea6e77b-2d4d-46bd-80ab-4f686da5b574",
   "metadata": {
    "tags": []
   },
   "outputs": [],
   "source": [
    "stk =[]"
   ]
  },
  {
   "cell_type": "code",
   "execution_count": 26,
   "id": "5b0adbfd-1361-40dc-bc30-c1c87ffa635a",
   "metadata": {
    "tags": []
   },
   "outputs": [
    {
     "name": "stdin",
     "output_type": "stream",
     "text": [
      "Shubha enter the no 6\n"
     ]
    }
   ],
   "source": [
    "f = int(input('Shubha enter the no'))"
   ]
  },
  {
   "cell_type": "code",
   "execution_count": 27,
   "id": "ed844484-6066-4127-a549-17c8b13f8a17",
   "metadata": {
    "tags": []
   },
   "outputs": [
    {
     "name": "stdout",
     "output_type": "stream",
     "text": [
      "6\n"
     ]
    }
   ],
   "source": [
    "print(f)"
   ]
  },
  {
   "cell_type": "code",
   "execution_count": 29,
   "id": "437ed301-8c4a-498a-8cf4-ea1374385f51",
   "metadata": {
    "tags": []
   },
   "outputs": [],
   "source": [
    "def push(list1, x):\n",
    "    list1.append(x)\n",
    "    top = len(list1) - 1\n",
    "    print(list1)"
   ]
  },
  {
   "cell_type": "code",
   "execution_count": 33,
   "id": "860f11cf-cc8f-4ef3-8ce6-5872151d3fd6",
   "metadata": {
    "tags": []
   },
   "outputs": [],
   "source": [
    "def pop(list2):\n",
    "    y = list2.pop()\n",
    "    top = len(list2) -1\n",
    "    print(y)\n",
    "    return(y)"
   ]
  },
  {
   "cell_type": "code",
   "execution_count": 30,
   "id": "a2601fd2-edbc-4edd-ac7b-dd296698a9c0",
   "metadata": {
    "tags": []
   },
   "outputs": [
    {
     "name": "stdout",
     "output_type": "stream",
     "text": [
      "[6]\n",
      "[6]\n"
     ]
    }
   ],
   "source": [
    "push(stk, f)\n",
    "print(stk)"
   ]
  },
  {
   "cell_type": "code",
   "execution_count": 31,
   "id": "f6d6e4f4-9455-4918-a4bd-e714d63a275b",
   "metadata": {
    "tags": []
   },
   "outputs": [
    {
     "name": "stdout",
     "output_type": "stream",
     "text": [
      "[6, 8]\n",
      "[6, 8]\n"
     ]
    }
   ],
   "source": [
    "push(stk,8)\n",
    "print(stk)"
   ]
  },
  {
   "cell_type": "code",
   "execution_count": 34,
   "id": "3f2b19c0-d36a-4b5a-a748-5313aba3bc66",
   "metadata": {
    "tags": []
   },
   "outputs": [
    {
     "name": "stdout",
     "output_type": "stream",
     "text": [
      "8\n"
     ]
    },
    {
     "data": {
      "text/plain": [
       "8"
      ]
     },
     "execution_count": 34,
     "metadata": {},
     "output_type": "execute_result"
    }
   ],
   "source": [
    "pop(stk)"
   ]
  },
  {
   "cell_type": "code",
   "execution_count": 37,
   "id": "a5d6c713-598f-45e8-9298-97d9a08207e5",
   "metadata": {
    "tags": []
   },
   "outputs": [
    {
     "data": {
      "text/plain": [
       "1"
      ]
     },
     "execution_count": 37,
     "metadata": {},
     "output_type": "execute_result"
    }
   ],
   "source": [
    "len(stk)"
   ]
  },
  {
   "cell_type": "code",
   "execution_count": null,
   "id": "e8a37938-dd3d-489b-a1d3-25a01592a790",
   "metadata": {},
   "outputs": [],
   "source": []
  }
 ],
 "metadata": {
  "kernelspec": {
   "display_name": "Python 3 (ipykernel)",
   "language": "python",
   "name": "python3"
  },
  "language_info": {
   "codemirror_mode": {
    "name": "ipython",
    "version": 3
   },
   "file_extension": ".py",
   "mimetype": "text/x-python",
   "name": "python",
   "nbconvert_exporter": "python",
   "pygments_lexer": "ipython3",
   "version": "3.11.5"
  }
 },
 "nbformat": 4,
 "nbformat_minor": 5
}
