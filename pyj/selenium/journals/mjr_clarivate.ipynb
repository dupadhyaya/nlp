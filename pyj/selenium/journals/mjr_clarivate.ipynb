{
 "cells": [
  {
   "cell_type": "markdown",
   "id": "dcef0788-ccbf-4122-87f5-2c7b3baea24f",
   "metadata": {},
   "source": [
    "# Create Code to import data from Clarivate Master Journal List\n",
    "- https://mjl.clarivate.com\n",
    "- WoS(Web of Science) - Master Journal List (MJL) by Clarivate"
   ]
  },
  {
   "cell_type": "markdown",
   "id": "c0b9a51f-e93f-4c48-8da4-4ce83475bed2",
   "metadata": {},
   "source": [
    "## Using Selenium"
   ]
  },
  {
   "cell_type": "code",
   "execution_count": 122,
   "id": "b293f26b-dd3e-4cb4-bfc4-d66b1b349151",
   "metadata": {},
   "outputs": [],
   "source": [
    "from selenium import webdriver\n",
    "from selenium.webdriver.common.by import By\n",
    "import pandas as pd\n",
    "from selenium.webdriver.chrome.service import Service"
   ]
  },
  {
   "cell_type": "markdown",
   "id": "7653ffab-9672-41c7-8409-b158ec1d1cab",
   "metadata": {},
   "source": [
    "# Chrome Version\n",
    "- Version 129.0.6668.71 (Official Build) (arm64)\n",
    "- Latest ChromeDriver 131.0.6778.205 (23Dec24) , 114.0.5735.90\n",
    "- chrome://settings/help\n",
    "- https://developer.chrome.com/docs/chromedriver/downloads"
   ]
  },
  {
   "cell_type": "code",
   "execution_count": 123,
   "id": "a120bff4-9d72-43f3-bf36-778dabc82b78",
   "metadata": {},
   "outputs": [],
   "source": [
    "import time"
   ]
  },
  {
   "cell_type": "code",
   "execution_count": 124,
   "id": "38fa2109-029b-4373-b3d5-d1e4cd16fb61",
   "metadata": {},
   "outputs": [],
   "source": [
    "# Path to your ChromeDriver\n",
    "cp2 = '/opt/homebrew/bin/chromedriver'  # Replace with the actual path to your chromedriver"
   ]
  },
  {
   "cell_type": "markdown",
   "id": "d883b7d7-b03f-47e0-8ceb-9c65a9fb9f72",
   "metadata": {},
   "source": [
    "??webdriver.chrome"
   ]
  },
  {
   "cell_type": "code",
   "execution_count": 126,
   "id": "702e947d-f9cf-4947-9456-781822ecf560",
   "metadata": {},
   "outputs": [],
   "source": [
    "#!pip install webdriver-manager\n",
    "from webdriver_manager.chrome import ChromeDriverManager"
   ]
  },
  {
   "cell_type": "code",
   "execution_count": 127,
   "id": "4af9c644-e454-43d2-bd2e-91b6cd9a6330",
   "metadata": {},
   "outputs": [
    {
     "name": "stdout",
     "output_type": "stream",
     "text": [
      "mjlc \n",
      " https://mjl.clarivate.com\n"
     ]
    }
   ],
   "source": [
    "# Open the UGC site\n",
    "mjlc1 = \"https://mjl.clarivate.com\"\n",
    "url = mjlc1 ; nData = 'mjlc' \n",
    "print(nData, '\\n', url)"
   ]
  },
  {
   "cell_type": "code",
   "execution_count": 128,
   "id": "b80db78b-ad62-44c2-80cc-56f622b77d47",
   "metadata": {},
   "outputs": [],
   "source": [
    "#"
   ]
  },
  {
   "cell_type": "code",
   "execution_count": 130,
   "id": "8eaed1ae-7aba-4df5-bb0b-12b7fbf679a5",
   "metadata": {},
   "outputs": [],
   "source": [
    "#driver.refresh()"
   ]
  },
  {
   "cell_type": "code",
   "execution_count": 131,
   "id": "4e05d029-1463-4fc9-ab99-8f1ea1eb03c9",
   "metadata": {},
   "outputs": [],
   "source": [
    "cService = webdriver.ChromeService(executable_path='/opt/homebrew/bin/chromedriver')\n",
    "driver = webdriver.Chrome(service = cService)"
   ]
  },
  {
   "cell_type": "code",
   "execution_count": 132,
   "id": "d7e5a92a-5408-40e9-9978-a3d4bbf4ca84",
   "metadata": {},
   "outputs": [],
   "source": [
    "driver.get(url)\n",
    "#driver.maximize_window()\n",
    "time.sleep(5)  # Adjust time if needed, or you can use Selenium's explicit waits"
   ]
  },
  {
   "cell_type": "code",
   "execution_count": 133,
   "id": "db155720-9788-4075-9cfe-a3037a91292a",
   "metadata": {},
   "outputs": [
    {
     "name": "stdout",
     "output_type": "stream",
     "text": [
      "Web of Science Master Journal List - WoS MJL by Clarivate\n"
     ]
    }
   ],
   "source": [
    "print(driver.title)"
   ]
  },
  {
   "cell_type": "markdown",
   "id": "75337506-2e2e-4d6c-8c3a-25b812005d8b",
   "metadata": {},
   "source": [
    "## check for Search Text Box and Button"
   ]
  },
  {
   "cell_type": "code",
   "execution_count": 134,
   "id": "f7d72deb-19fd-46a6-b49d-b3d9063e5329",
   "metadata": {
    "tags": []
   },
   "outputs": [
    {
     "data": {
      "text/plain": [
       "<selenium.webdriver.remote.webelement.WebElement (session=\"a89daf0674e6ec78721b2404cb4636e4\", element=\"f.B48B988F145340A45DD637074A7E6954.d.CF05AA8CCD0D0ABF11811B77CD07A327.e.27\")>"
      ]
     },
     "execution_count": 134,
     "metadata": {},
     "output_type": "execute_result"
    }
   ],
   "source": [
    "sbox = driver.find_element(By.ID, 'search-box')\n",
    "sbox"
   ]
  },
  {
   "cell_type": "code",
   "execution_count": 135,
   "id": "2468e0a3-025c-469a-84ae-ce9e4611bc9d",
   "metadata": {
    "tags": []
   },
   "outputs": [
    {
     "data": {
      "text/plain": [
       "<selenium.webdriver.remote.webelement.WebElement (session=\"a89daf0674e6ec78721b2404cb4636e4\", element=\"f.B48B988F145340A45DD637074A7E6954.d.CF05AA8CCD0D0ABF11811B77CD07A327.e.32\")>"
      ]
     },
     "execution_count": 135,
     "metadata": {},
     "output_type": "execute_result"
    }
   ],
   "source": [
    "sbtn = driver.find_element(By.ID, 'search-button')\n",
    "sbtn"
   ]
  },
  {
   "cell_type": "code",
   "execution_count": 136,
   "id": "9fdc35f6-cf33-41e0-9a2f-17a683c96b9e",
   "metadata": {
    "tags": []
   },
   "outputs": [],
   "source": [
    "#click on Search Button with anything in Search Box\n",
    "sbtn.click()"
   ]
  },
  {
   "cell_type": "markdown",
   "id": "bb33123a-fa2c-4c72-8e0d-2c884cbd3d9c",
   "metadata": {},
   "source": [
    "# Check for Results\n",
    "- Found 22,488 results (Page 1)\n"
   ]
  },
  {
   "cell_type": "code",
   "execution_count": 137,
   "id": "336085b6-9a4e-49ed-8d19-f7698aa2127f",
   "metadata": {
    "tags": []
   },
   "outputs": [
    {
     "data": {
      "text/plain": [
       "<selenium.webdriver.remote.webelement.WebElement (session=\"a89daf0674e6ec78721b2404cb4636e4\", element=\"f.B48B988F145340A45DD637074A7E6954.d.CF05AA8CCD0D0ABF11811B77CD07A327.e.199\")>"
      ]
     },
     "execution_count": 137,
     "metadata": {},
     "output_type": "execute_result"
    }
   ],
   "source": [
    "results = driver.find_element(By.XPATH, '/html/body/cdx-app/mat-sidenav-container/mat-sidenav-content/main/can-home-page/div/div/div/mat-sidenav-container/mat-sidenav-content/app-journal-search-results/div[1]/div[1]/div[1]')\n",
    "results"
   ]
  },
  {
   "cell_type": "code",
   "execution_count": 138,
   "id": "d15567e6-d124-42f8-978a-5cae66f017b6",
   "metadata": {
    "tags": []
   },
   "outputs": [
    {
     "data": {
      "text/plain": [
       "'Found 22,588 results (Page 1)'"
      ]
     },
     "execution_count": 138,
     "metadata": {},
     "output_type": "execute_result"
    }
   ],
   "source": [
    "results.text"
   ]
  },
  {
   "cell_type": "markdown",
   "id": "60fb67fb-4ee4-47dc-ae92-c32eb82859ee",
   "metadata": {
    "tags": []
   },
   "source": [
    "## Retreive few Journal Data"
   ]
  },
  {
   "cell_type": "code",
   "execution_count": 139,
   "id": "84e9590d-59aa-4458-a977-225e88be4418",
   "metadata": {},
   "outputs": [],
   "source": [
    "# First Data"
   ]
  },
  {
   "cell_type": "code",
   "execution_count": 140,
   "id": "5212d879-c0cf-42db-bf31-5e33215dad5f",
   "metadata": {},
   "outputs": [
    {
     "data": {
      "text/plain": [
       "'20 ET 21-REVUE D HISTOIRE'"
      ]
     },
     "execution_count": 140,
     "metadata": {},
     "output_type": "execute_result"
    }
   ],
   "source": [
    "title1 = driver.find_element(By.XPATH,'/html/body/cdx-app/mat-sidenav-container/mat-sidenav-content/main/can-home-page/div/div/div/mat-sidenav-container/mat-sidenav-content/app-journal-search-results/div[3]/div[1]/mat-card/mat-card-title')\n",
    "title1.text"
   ]
  },
  {
   "cell_type": "code",
   "execution_count": 141,
   "id": "7ecb5fab-24f0-40f4-87c3-6ad127f200ea",
   "metadata": {
    "tags": []
   },
   "outputs": [
    {
     "data": {
      "text/plain": [
       "'PRESSES SCIENCES PO , 28 Rue Saint Guillaume, PARIS, France, 75017'"
      ]
     },
     "execution_count": 141,
     "metadata": {},
     "output_type": "execute_result"
    }
   ],
   "source": [
    "pub1 = driver.find_element(By.XPATH ,'/html/body/cdx-app/mat-sidenav-container/mat-sidenav-content/main/can-home-page/div/div/div/mat-sidenav-container/mat-sidenav-content/app-journal-search-results/div[3]/div[1]/mat-card/mat-card-content[1]/div[2]/div/div[1]/div[2]')\n",
    "pub1.text"
   ]
  },
  {
   "cell_type": "code",
   "execution_count": 142,
   "id": "c96abc11-965f-436c-bf05-2411a5120e4e",
   "metadata": {
    "tags": []
   },
   "outputs": [
    {
     "data": {
      "text/plain": [
       "'2649-664X / 2649-6100'"
      ]
     },
     "execution_count": 142,
     "metadata": {},
     "output_type": "execute_result"
    }
   ],
   "source": [
    "issn1 = driver.find_element(By.XPATH, '/html/body/cdx-app/mat-sidenav-container/mat-sidenav-content/main/can-home-page/div/div/div/mat-sidenav-container/mat-sidenav-content/app-journal-search-results/div[3]/div[1]/mat-card/mat-card-content[1]/div[2]/div/div[2]/div[2]')\n",
    "issn1.text"
   ]
  },
  {
   "cell_type": "code",
   "execution_count": 143,
   "id": "2f78e0f5-5df9-49e0-ae3d-33c1e4c43b36",
   "metadata": {
    "tags": []
   },
   "outputs": [
    {
     "data": {
      "text/plain": [
       "'Arts & Humanities Citation Index'"
      ]
     },
     "execution_count": 143,
     "metadata": {},
     "output_type": "execute_result"
    }
   ],
   "source": [
    "coll1 = driver.find_element(By.XPATH, '/html/body/cdx-app/mat-sidenav-container/mat-sidenav-content/main/can-home-page/div/div/div/mat-sidenav-container/mat-sidenav-content/app-journal-search-results/div[3]/div[1]/mat-card/mat-card-content[1]/div[2]/div/div[3]/div[2]')\n",
    "coll1.text"
   ]
  },
  {
   "cell_type": "code",
   "execution_count": 144,
   "id": "d6d52efd-d803-4c02-87b8-f05ba5ffc0d9",
   "metadata": {
    "tags": []
   },
   "outputs": [
    {
     "data": {
      "text/plain": [
       "'Share This Journal'"
      ]
     },
     "execution_count": 144,
     "metadata": {},
     "output_type": "execute_result"
    }
   ],
   "source": [
    "share1 = driver.find_element(By.XPATH, '/html/body/cdx-app/mat-sidenav-container/mat-sidenav-content/main/can-home-page/div/div/div/mat-sidenav-container/mat-sidenav-content/app-journal-search-results/div[3]/div[1]/mat-card/mat-card-content[2]/div/div/div[1]/div[1]/button/span[2]')\n",
    "share1.text"
   ]
  },
  {
   "cell_type": "code",
   "execution_count": 145,
   "id": "2ff311bd-412b-480d-a53c-29614894f4ff",
   "metadata": {
    "tags": []
   },
   "outputs": [
    {
     "data": {
      "text/plain": [
       "'View profile page'"
      ]
     },
     "execution_count": 145,
     "metadata": {},
     "output_type": "execute_result"
    }
   ],
   "source": [
    "profile1 = driver.find_element(By.XPATH, '/html/body/cdx-app/mat-sidenav-container/mat-sidenav-content/main/can-home-page/div/div/div/mat-sidenav-container/mat-sidenav-content/app-journal-search-results/div[3]/div[1]/mat-card/mat-card-content[2]/div/div/div[1]/div[2]/button/span[2]')\n",
    "profile1.text"
   ]
  },
  {
   "cell_type": "markdown",
   "id": "49f89b36-7210-4a80-83f6-40577ad8dbc4",
   "metadata": {},
   "source": [
    "## Get all on this page\n",
    "- <mat-card-title _ngcontent-ng-c3178260447=\"\" class=\"mat-mdc-card-title\" style=\"padding: 16px;\"><!----> 20 ET 21-REVUE D HISTOIRE <!----><!----></mat-card-title>"
   ]
  },
  {
   "cell_type": "code",
   "execution_count": 146,
   "id": "09020ead-caad-400d-8524-3e582e206a93",
   "metadata": {
    "tags": []
   },
   "outputs": [
    {
     "data": {
      "text/plain": [
       "12"
      ]
     },
     "execution_count": 146,
     "metadata": {},
     "output_type": "execute_result"
    }
   ],
   "source": [
    "#titlen = driver.find_elements(By.XPATH  ,\"//div[@class='ng-star-inserted']\")\n",
    "#xp2 = '/html/body/cdx-app/mat-sidenav-container/mat-sidenav-content/main/can-home-page/div/div/div/mat-sidenav-container/mat-sidenav-content/app-journal-search-results/div[3]/div[1]/mat-card'\n",
    "#xp2 = \"//div[contains(@class,'ng-star-inserted')]//div[contains(@class,'_ngcontent-ng-c3178260447')]\"\n",
    "xp2 = 'title-column1'\n",
    "#titles = driver.find_elements(By.XPATH , xp2)\n",
    "titles = driver.find_elements(By.CLASS_NAME , 'mat-mdc-card-title')\n",
    "len(titles)"
   ]
  },
  {
   "cell_type": "code",
   "execution_count": 147,
   "id": "dec22910-647c-4496-9782-f266dad0261d",
   "metadata": {
    "tags": []
   },
   "outputs": [
    {
     "data": {
      "text/plain": [
       "12"
      ]
     },
     "execution_count": 147,
     "metadata": {},
     "output_type": "execute_result"
    }
   ],
   "source": [
    "len(titles)"
   ]
  },
  {
   "cell_type": "code",
   "execution_count": 148,
   "id": "87e40482-027d-41bb-8dd7-b8885845ac9f",
   "metadata": {
    "tags": []
   },
   "outputs": [
    {
     "name": "stdout",
     "output_type": "stream",
     "text": [
      "20 ET 21-REVUE D HISTOIRE\n",
      "2D MATERIALS\n",
      "3 BIOTECH\n",
      "3C EMPRESA\n",
      "3C TECNOLOGIA\n",
      "3C TIC\n",
      "3D PRINTING AND ADDITIVE MANUFACTURING\n",
      "3D PRINTING IN MEDICINE\n",
      "3L-LANGUAGE LINGUISTICS LITERATURE-THE SOUTHEAST ASIAN JOURNAL OF ENGLISH LANGUAGE STUDIES\n",
      "452 F-REVISTA DE TEORIA DE LA LITERATURA Y LITERATURA COMPARADA\n"
     ]
    }
   ],
   "source": [
    "for i in titles[2:]:\n",
    "    print(i.text)"
   ]
  },
  {
   "cell_type": "code",
   "execution_count": 154,
   "id": "38d2a6a1-4993-4e41-849d-2016de83d554",
   "metadata": {
    "tags": []
   },
   "outputs": [
    {
     "data": {
      "text/plain": [
       "12"
      ]
     },
     "execution_count": 154,
     "metadata": {},
     "output_type": "execute_result"
    }
   ],
   "source": [
    "titles = driver.find_elements(By.XPATH, \"//mat-card-title[contains(@class, 'mat-mdc-card-title')]\")\n",
    "\n",
    "#titles = driver.find_elements(By.XPATH, \"//mat-card-title[contains(@class, 'mat-mdc-card mdc-card card-width-special')]\")\n",
    "\n",
    "len(titles)"
   ]
  },
  {
   "cell_type": "code",
   "execution_count": 155,
   "id": "d792a2a7-7cb1-4ae1-9e8c-64cf36dfb62b",
   "metadata": {
    "tags": []
   },
   "outputs": [
    {
     "data": {
      "text/plain": [
       "12"
      ]
     },
     "execution_count": 155,
     "metadata": {},
     "output_type": "execute_result"
    }
   ],
   "source": [
    "# Extract the text from the elements\n",
    "journal_titles = [title.text.strip() for title in titles]\n",
    "len(journal_titles)"
   ]
  },
  {
   "cell_type": "code",
   "execution_count": 156,
   "id": "a3125177-a1ad-493f-8754-a46901ea649f",
   "metadata": {
    "tags": []
   },
   "outputs": [
    {
     "name": "stdout",
     "output_type": "stream",
     "text": [
      "1: Already have a manuscript?\n",
      "folder\n",
      "2: Filters\n",
      "delete_forever\n",
      "  Clear All\n",
      "3: 20 ET 21-REVUE D HISTOIRE\n",
      "4: 2D MATERIALS\n",
      "5: 3 BIOTECH\n",
      "6: 3C EMPRESA\n",
      "7: 3C TECNOLOGIA\n",
      "8: 3C TIC\n",
      "9: 3D PRINTING AND ADDITIVE MANUFACTURING\n",
      "10: 3D PRINTING IN MEDICINE\n",
      "11: 3L-LANGUAGE LINGUISTICS LITERATURE-THE SOUTHEAST ASIAN JOURNAL OF ENGLISH LANGUAGE STUDIES\n",
      "12: 452 F-REVISTA DE TEORIA DE LA LITERATURA Y LITERATURA COMPARADA\n"
     ]
    }
   ],
   "source": [
    "# Print the extracted titles\n",
    "for idx, title in enumerate(journal_titles, start=1):\n",
    "    print(f\"{idx}: {title}\")\n"
   ]
  },
  {
   "cell_type": "code",
   "execution_count": null,
   "id": "5f2376e0-8c11-4111-ad06-d78e0aca471a",
   "metadata": {},
   "outputs": [],
   "source": []
  },
  {
   "cell_type": "code",
   "execution_count": null,
   "id": "f89a755b-d99d-4a10-aeb8-88a1fcece8e6",
   "metadata": {},
   "outputs": [],
   "source": []
  },
  {
   "cell_type": "code",
   "execution_count": 157,
   "id": "20c4a5bf-672f-482b-b44f-9374362fb781",
   "metadata": {
    "tags": []
   },
   "outputs": [],
   "source": [
    "driver.refresh()"
   ]
  },
  {
   "cell_type": "code",
   "execution_count": null,
   "id": "15dc1977-5891-4f7e-bf0c-afb117c04afe",
   "metadata": {},
   "outputs": [],
   "source": []
  },
  {
   "cell_type": "code",
   "execution_count": null,
   "id": "3aba3fb3-cdf0-4bca-a725-c74ae16d6fc8",
   "metadata": {},
   "outputs": [],
   "source": []
  },
  {
   "cell_type": "code",
   "execution_count": null,
   "id": "bcccd7c4-7733-4022-b90c-32ab8a659252",
   "metadata": {},
   "outputs": [],
   "source": []
  },
  {
   "cell_type": "markdown",
   "id": "51c9aea9-46ee-4df4-8fe9-4f07c3f3b60e",
   "metadata": {
    "tags": []
   },
   "source": [
    "## click on View All"
   ]
  },
  {
   "cell_type": "code",
   "execution_count": null,
   "id": "a0b306b0-3e7f-49b1-b209-d388087a9fff",
   "metadata": {
    "tags": []
   },
   "outputs": [],
   "source": [
    "btviewall = driver.find_element(By.ID, 'btnall')\n",
    "btviewall"
   ]
  },
  {
   "cell_type": "code",
   "execution_count": null,
   "id": "7918151f-ab16-4c1c-a087-0f1964486ef5",
   "metadata": {
    "tags": []
   },
   "outputs": [],
   "source": [
    "btviewall.click()"
   ]
  },
  {
   "cell_type": "code",
   "execution_count": null,
   "id": "94ab361c-b437-44fa-9878-2885ef82d0a6",
   "metadata": {
    "tags": []
   },
   "outputs": [],
   "source": [
    "#setoptionValue\n",
    "btnshow = driver.find_element(By.NAME,'tbl_length')\n",
    "btnshow"
   ]
  },
  {
   "cell_type": "code",
   "execution_count": null,
   "id": "74e3eafa-a8ba-4a0c-a43d-99e1bfadc7d3",
   "metadata": {
    "tags": []
   },
   "outputs": [],
   "source": [
    "from selenium.webdriver.support.ui import Select"
   ]
  },
  {
   "cell_type": "code",
   "execution_count": null,
   "id": "5f50e70c-ed7f-4c23-aaad-7f68fdfc105d",
   "metadata": {
    "tags": []
   },
   "outputs": [],
   "source": [
    "#set option to All\n",
    "mySelect = Select(btnshow)\n",
    "mySelect.select_by_visible_text('All')  #easier one\n",
    "#print(mySelect.text)"
   ]
  },
  {
   "cell_type": "code",
   "execution_count": null,
   "id": "03793e2f-2454-4766-9497-ed2010015d91",
   "metadata": {
    "tags": []
   },
   "outputs": [],
   "source": [
    "btnshow.get_attribute('value')"
   ]
  },
  {
   "cell_type": "code",
   "execution_count": null,
   "id": "e092d6b2-4ce3-4e74-971c-33b0bb082848",
   "metadata": {
    "tags": []
   },
   "outputs": [],
   "source": [
    "btnshow.text"
   ]
  },
  {
   "cell_type": "code",
   "execution_count": null,
   "id": "7ea59314-ec14-433b-a958-73ed10a5f54a",
   "metadata": {
    "tags": []
   },
   "outputs": [],
   "source": [
    "btnshow.get_attribute(\"innerHTML\")"
   ]
  },
  {
   "cell_type": "markdown",
   "id": "71fdd9bf-8695-47fb-8c78-d56e9cf8cbf2",
   "metadata": {},
   "source": [
    "## webtable"
   ]
  },
  {
   "cell_type": "code",
   "execution_count": null,
   "id": "7a3303b3-b914-469b-9340-fd27757801df",
   "metadata": {
    "tags": []
   },
   "outputs": [],
   "source": [
    "webtable_df1 = pd.read_html(driver.find_element(By.XPATH, \"//table[@id='tbl']\").get_attribute('outerHTML'))[0]"
   ]
  },
  {
   "cell_type": "code",
   "execution_count": null,
   "id": "a8a5d472-ab79-4cb0-bfec-2d918409e874",
   "metadata": {
    "tags": []
   },
   "outputs": [],
   "source": [
    "webtable_df1.head(2)"
   ]
  },
  {
   "cell_type": "code",
   "execution_count": null,
   "id": "b1d91454-17e5-43df-9e53-45ab0289a9be",
   "metadata": {
    "tags": []
   },
   "outputs": [],
   "source": [
    "import io"
   ]
  },
  {
   "cell_type": "code",
   "execution_count": null,
   "id": "95e444e2-44a9-4235-a42f-dd16d05ba854",
   "metadata": {
    "tags": []
   },
   "outputs": [],
   "source": [
    "webtable_df2 = pd.read_html(io.StringIO(driver.find_element(By.XPATH, \"//table[@id='tbl']\").get_attribute('outerHTML')))[0]\n",
    "webtable_df2.head(2)"
   ]
  },
  {
   "cell_type": "markdown",
   "id": "047bfa2c-2990-4330-9804-7ae9de599978",
   "metadata": {},
   "source": [
    "## use download csv button"
   ]
  },
  {
   "cell_type": "code",
   "execution_count": null,
   "id": "bc7bcb02-8c7b-4fac-9986-7f811d77b46b",
   "metadata": {
    "tags": []
   },
   "outputs": [],
   "source": [
    "\n",
    "dwcsv = driver.find_element(By.CLASS_NAME, 'dt-button')\n",
    "dwcsv"
   ]
  },
  {
   "cell_type": "code",
   "execution_count": null,
   "id": "7375fe43-00ac-4992-8a5c-78bc44288d5b",
   "metadata": {
    "tags": []
   },
   "outputs": [],
   "source": [
    "dwcsv.click()  #this will download the data "
   ]
  },
  {
   "cell_type": "markdown",
   "id": "8e5f2b9e-a80e-4db0-b46e-c04a5bf0baa3",
   "metadata": {},
   "source": [
    "## use download excel button"
   ]
  },
  {
   "cell_type": "code",
   "execution_count": null,
   "id": "6d43864a-fcfd-4a43-9b7e-f97243be2450",
   "metadata": {
    "tags": []
   },
   "outputs": [],
   "source": [
    "#use download as excel button\n",
    "dwexcel = driver.find_element(By.CLASS_NAME, 'buttons-excel')\n",
    "dwexcel"
   ]
  },
  {
   "cell_type": "code",
   "execution_count": null,
   "id": "14d4c163-9e39-4bc8-af35-7e09b50c6542",
   "metadata": {
    "tags": []
   },
   "outputs": [],
   "source": [
    "dwexcel.click()  #this will download the data in excel"
   ]
  },
  {
   "cell_type": "markdown",
   "id": "0e66b59e-d604-4d56-8949-10ab903d2a35",
   "metadata": {},
   "source": [
    "## Download Table directly"
   ]
  },
  {
   "cell_type": "markdown",
   "id": "1571f529-4f08-4ad0-bc96-3529a7b65e89",
   "metadata": {
    "tags": []
   },
   "source": [
    "btviewall = driver.find_element(By.ID, 'btnall')\n",
    "mySelect = Select(btnshow)\n",
    "mySelect.select_by_visible_text('All')  #easier one "
   ]
  },
  {
   "cell_type": "code",
   "execution_count": null,
   "id": "fb8027e3-8c4a-4576-9400-e240a2da7b62",
   "metadata": {},
   "outputs": [],
   "source": []
  },
  {
   "cell_type": "markdown",
   "id": "f2d3c653-d469-484c-b280-d44f5ba55bcd",
   "metadata": {},
   "source": [
    "### identify table rows\n",
    "- //*[@id=\"trMale0\"]\n",
    "- //*[@id=\"tbodyuni\"]\n",
    "- \"//*[@class= 'spTable']/tbody/tr\")"
   ]
  },
  {
   "cell_type": "code",
   "execution_count": null,
   "id": "eb4e82ef-0c17-4640-948f-4b834df09887",
   "metadata": {
    "tags": []
   },
   "outputs": [],
   "source": [
    "# to identify the table rows\n",
    "trows = driver.find_elements(By.XPATH , \"//*[@id= 'tbl']/tbody/tr\")"
   ]
  },
  {
   "cell_type": "code",
   "execution_count": null,
   "id": "a3709754-dc3e-444a-9c37-4982a9c08784",
   "metadata": {
    "tags": []
   },
   "outputs": [],
   "source": [
    "print (len(trows))"
   ]
  },
  {
   "cell_type": "markdown",
   "id": "6a585914-d920-451f-9aac-93496134d787",
   "metadata": {},
   "source": [
    "### Table Headers\n"
   ]
  },
  {
   "cell_type": "code",
   "execution_count": null,
   "id": "5b2e52fa-35e8-4f62-8d7a-7499db364563",
   "metadata": {
    "tags": []
   },
   "outputs": [],
   "source": [
    "th = driver.find_elements(By.XPATH , \"//*[@id= 'tbl']/thead/tr/th\")\n",
    "#th"
   ]
  },
  {
   "cell_type": "code",
   "execution_count": null,
   "id": "460458ef-bacc-499b-9fc4-e4c1fe02287e",
   "metadata": {
    "tags": []
   },
   "outputs": [],
   "source": [
    "for i in th :\n",
    "    print (i.text)"
   ]
  },
  {
   "cell_type": "markdown",
   "id": "d71cda13-7c91-41b5-a65f-2bd8cf73f064",
   "metadata": {},
   "source": [
    "### Identify Table in the web page\n",
    "- there are multiple tables in the web page"
   ]
  },
  {
   "cell_type": "code",
   "execution_count": null,
   "id": "413f504b-15b3-4c91-8742-dbbb4ff0b2af",
   "metadata": {
    "tags": []
   },
   "outputs": [],
   "source": [
    "tbs = driver.find_elements(By.TAG_NAME, 'table')\n",
    "tbs[0]"
   ]
  },
  {
   "cell_type": "code",
   "execution_count": null,
   "id": "ecbad665-4956-4806-9180-abc407c5a6c8",
   "metadata": {
    "tags": []
   },
   "outputs": [],
   "source": [
    "dataTable = driver.find_element(By.ID,'tbl')\n",
    "dataTable"
   ]
  },
  {
   "cell_type": "code",
   "execution_count": null,
   "id": "8e2d5d7b-4427-4d96-a213-e4c432aecc3f",
   "metadata": {
    "tags": []
   },
   "outputs": [],
   "source": [
    "#driver.refresh()"
   ]
  },
  {
   "cell_type": "code",
   "execution_count": null,
   "id": "1cce43fb-c290-4e83-b963-92606be8f080",
   "metadata": {},
   "outputs": [],
   "source": [
    "# Extract table headers\n",
    "headers = []\n",
    "header_elements = dataTable.find_elements(By.TAG_NAME, 'th')\n",
    "for header in header_elements:\n",
    "    headers.append(header.text.strip())"
   ]
  },
  {
   "cell_type": "code",
   "execution_count": null,
   "id": "a018555d-74b8-4f64-82f6-8449e393577e",
   "metadata": {},
   "outputs": [],
   "source": [
    "print(headers), print(len(headers))\n",
    "# 8 columns"
   ]
  },
  {
   "cell_type": "code",
   "execution_count": null,
   "id": "082bbfe2-310e-4581-8c4c-7a3497ca92b5",
   "metadata": {},
   "outputs": [],
   "source": [
    "# Extract table rows\n",
    "rows = []\n",
    "row_elements = dataTable.find_elements(By.TAG_NAME, 'tr')"
   ]
  },
  {
   "cell_type": "code",
   "execution_count": null,
   "id": "1e994396-b5b7-4680-80c9-960dc9e0e311",
   "metadata": {},
   "outputs": [],
   "source": [
    "print(row_elements[0:5])"
   ]
  },
  {
   "cell_type": "code",
   "execution_count": null,
   "id": "296f5596-b079-4794-bf34-b5270257d3f2",
   "metadata": {},
   "outputs": [],
   "source": [
    "# Loop through rows to extract data\n",
    "for row in row_elements[1:]:  # Skipping the header row\n",
    "    cols = row.find_elements(By.TAG_NAME, 'td')\n",
    "    cols = [col.text.strip() for col in cols]\n",
    "    rows.append(cols)"
   ]
  },
  {
   "cell_type": "code",
   "execution_count": null,
   "id": "864a60d3-44d3-4f3d-b4d4-c8d172e2bd40",
   "metadata": {},
   "outputs": [],
   "source": [
    "rows[0:1]"
   ]
  },
  {
   "cell_type": "code",
   "execution_count": null,
   "id": "fcf90181-2984-4a8e-bde4-8f6fc6cce773",
   "metadata": {},
   "outputs": [],
   "source": [
    "print(len(rows), len(headers))"
   ]
  },
  {
   "cell_type": "code",
   "execution_count": null,
   "id": "10807605-bdcb-4eb2-9c3f-9872755e7c29",
   "metadata": {},
   "outputs": [],
   "source": [
    "#print(rows[0:300:3])"
   ]
  },
  {
   "cell_type": "code",
   "execution_count": null,
   "id": "3ad98ed0-6237-49b0-aa11-2095d260364e",
   "metadata": {},
   "outputs": [],
   "source": [
    "# Create a DataFrame from the extracted data\n",
    "df1 = pd.DataFrame(rows[0:len(rows)], columns=headers)"
   ]
  },
  {
   "cell_type": "code",
   "execution_count": null,
   "id": "40f0a977-3460-469f-a31c-b99752cdceb8",
   "metadata": {},
   "outputs": [],
   "source": [
    "df1.head(2)"
   ]
  },
  {
   "cell_type": "code",
   "execution_count": null,
   "id": "f7268cc2-9c80-4b3a-b0ba-36e1a27c65b4",
   "metadata": {},
   "outputs": [],
   "source": [
    "list(df1.columns)"
   ]
  },
  {
   "cell_type": "code",
   "execution_count": null,
   "id": "f3a36a24-fe7f-4bc9-b2fe-46e5a3ae5219",
   "metadata": {},
   "outputs": [],
   "source": [
    "df1.columns = ['ser','type','university', 'address','zip', 'state', 'status','url']"
   ]
  },
  {
   "cell_type": "code",
   "execution_count": null,
   "id": "0199ba2f-d7d8-44eb-ab2c-dd55a2dfe21e",
   "metadata": {},
   "outputs": [],
   "source": [
    "df1.head(2)"
   ]
  },
  {
   "cell_type": "code",
   "execution_count": null,
   "id": "0f6da93a-a3d1-4c80-80ce-ecaa443749e4",
   "metadata": {},
   "outputs": [],
   "source": []
  },
  {
   "cell_type": "code",
   "execution_count": null,
   "id": "7ae77378-2d94-49da-9d03-7ebb8c6130e7",
   "metadata": {},
   "outputs": [],
   "source": [
    "# Close the browser\n",
    "driver.quit()"
   ]
  },
  {
   "cell_type": "code",
   "execution_count": null,
   "id": "7ec1ed70-f85a-433d-8d2e-e8988d82c2d3",
   "metadata": {},
   "outputs": [],
   "source": [
    "# Display the extracted data\n",
    "#print(dfNO)"
   ]
  },
  {
   "cell_type": "code",
   "execution_count": null,
   "id": "1313dede-2a75-49b1-ac51-ba5b1da6ec16",
   "metadata": {},
   "outputs": [],
   "source": [
    "# Save the data to a CSV file\n",
    "fileLoc  = '/Users/du/dup/auData/journal/'\n",
    "fileName = fileLoc +  nData + '.csv'\n",
    "print(nData, fileName)"
   ]
  },
  {
   "cell_type": "code",
   "execution_count": null,
   "id": "2104aa89-0295-44d2-897d-0daa9f8bb6f9",
   "metadata": {},
   "outputs": [],
   "source": [
    "df1.to_csv(fileName, index=False)"
   ]
  },
  {
   "cell_type": "code",
   "execution_count": null,
   "id": "2477e8fb-048a-4d08-a4d7-cc27671e47d0",
   "metadata": {},
   "outputs": [],
   "source": [
    "import os"
   ]
  },
  {
   "cell_type": "code",
   "execution_count": null,
   "id": "807b5db6-c5b5-4f8d-9289-188c59cb1655",
   "metadata": {},
   "outputs": [],
   "source": [
    "print(' '.join(map(str, os.listdir(fileLoc))))"
   ]
  },
  {
   "cell_type": "markdown",
   "id": "0113c0de-6b62-4d5c-bda9-571d96062ced",
   "metadata": {},
   "source": [
    "## End of Coding"
   ]
  },
  {
   "cell_type": "code",
   "execution_count": null,
   "id": "ddae3ecb-5268-4732-9801-c1e1ebd73750",
   "metadata": {},
   "outputs": [],
   "source": [
    "pd.read_csv(fileName).head(2)"
   ]
  },
  {
   "cell_type": "code",
   "execution_count": null,
   "id": "0050900b-a746-4688-95a9-26df0ff3d127",
   "metadata": {},
   "outputs": [],
   "source": []
  },
  {
   "cell_type": "code",
   "execution_count": null,
   "id": "3e2ee730-a63b-4dcf-8f5e-54e1293aa64e",
   "metadata": {},
   "outputs": [],
   "source": []
  }
 ],
 "metadata": {
  "kernelspec": {
   "display_name": "Python 3 (ipykernel)",
   "language": "python",
   "name": "python3"
  },
  "language_info": {
   "codemirror_mode": {
    "name": "ipython",
    "version": 3
   },
   "file_extension": ".py",
   "mimetype": "text/x-python",
   "name": "python",
   "nbconvert_exporter": "python",
   "pygments_lexer": "ipython3",
   "version": "3.11.5"
  }
 },
 "nbformat": 4,
 "nbformat_minor": 5
}
