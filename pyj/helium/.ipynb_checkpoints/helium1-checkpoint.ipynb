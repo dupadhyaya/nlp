{
 "cells": [
  {
   "cell_type": "markdown",
   "id": "54c99d23-6b86-4300-bd38-3133ee7f9bee",
   "metadata": {
    "tags": []
   },
   "source": [
    "# helium"
   ]
  },
  {
   "cell_type": "markdown",
   "id": "b2595804-a7f9-4cd0-bdc9-abae1c2c1756",
   "metadata": {
    "tags": []
   },
   "source": [
    "!pip install helium"
   ]
  },
  {
   "cell_type": "code",
   "execution_count": 6,
   "id": "3c3578e6-c8b3-4798-8e92-c23cac3c6198",
   "metadata": {
    "tags": []
   },
   "outputs": [],
   "source": [
    "from helium import *"
   ]
  },
  {
   "cell_type": "code",
   "execution_count": 7,
   "id": "aac1cc8c-8b26-4e6d-940f-aa52b3482623",
   "metadata": {
    "tags": []
   },
   "outputs": [],
   "source": [
    "# A Helium function:\n",
    "driver = start_chrome()"
   ]
  },
  {
   "cell_type": "code",
   "execution_count": 8,
   "id": "8c972e1f-fbec-4081-ae34-50b8fdaef43b",
   "metadata": {
    "tags": []
   },
   "outputs": [],
   "source": [
    "# A Selenium API:\n",
    "driver.execute_script(\"alert('Hi!');\")"
   ]
  },
  {
   "cell_type": "code",
   "execution_count": null,
   "id": "c0d66d53-33d2-43fb-9ab0-172e046753c1",
   "metadata": {},
   "outputs": [],
   "source": []
  }
 ],
 "metadata": {
  "kernelspec": {
   "display_name": "Python 3 (ipykernel)",
   "language": "python",
   "name": "python3"
  },
  "language_info": {
   "codemirror_mode": {
    "name": "ipython",
    "version": 3
   },
   "file_extension": ".py",
   "mimetype": "text/x-python",
   "name": "python",
   "nbconvert_exporter": "python",
   "pygments_lexer": "ipython3",
   "version": "3.11.5"
  }
 },
 "nbformat": 4,
 "nbformat_minor": 5
}
