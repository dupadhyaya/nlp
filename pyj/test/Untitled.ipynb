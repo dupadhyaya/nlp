{
 "cells": [
  {
   "cell_type": "code",
   "execution_count": null,
   "id": "2923c7f3-6eb8-4b1f-92eb-56ff4cd3c123",
   "metadata": {},
   "outputs": [],
   "source": []
  },
  {
   "cell_type": "code",
   "execution_count": null,
   "id": "75b88df6-85e8-4475-82be-b3a72bad39a9",
   "metadata": {},
   "outputs": [],
   "source": []
  },
  {
   "cell_type": "code",
   "execution_count": 2,
   "id": "226c2767-3895-43cf-99cf-b30f3217fad8",
   "metadata": {
    "tags": []
   },
   "outputs": [],
   "source": [
    "import pandas as pd\n",
    "import requests\n",
    "\n",
    "df2024= pd.read_html('https://www.nirfindia.org/Rankings/2024/OverallRanking.html')\n",
    "result = df2024[0]\n",
    "\n"
   ]
  },
  {
   "cell_type": "code",
   "execution_count": 3,
   "id": "f52523f0-753f-4216-b21a-176ca65b6d7a",
   "metadata": {
    "tags": []
   },
   "outputs": [
    {
     "data": {
      "text/html": [
       "<div>\n",
       "<style scoped>\n",
       "    .dataframe tbody tr th:only-of-type {\n",
       "        vertical-align: middle;\n",
       "    }\n",
       "\n",
       "    .dataframe tbody tr th {\n",
       "        vertical-align: top;\n",
       "    }\n",
       "\n",
       "    .dataframe thead th {\n",
       "        text-align: right;\n",
       "    }\n",
       "</style>\n",
       "<table border=\"1\" class=\"dataframe\">\n",
       "  <thead>\n",
       "    <tr style=\"text-align: right;\">\n",
       "      <th></th>\n",
       "      <th>Institute ID</th>\n",
       "      <th>Name</th>\n",
       "      <th>City</th>\n",
       "      <th>State</th>\n",
       "      <th>Score</th>\n",
       "      <th>Rank</th>\n",
       "    </tr>\n",
       "  </thead>\n",
       "  <tbody>\n",
       "    <tr>\n",
       "      <th>0</th>\n",
       "      <td>IR-O-U-0456</td>\n",
       "      <td>Indian Institute of Technology MadrasMore Deta...</td>\n",
       "      <td>Chennai</td>\n",
       "      <td>Tamil Nadu</td>\n",
       "      <td>86.42</td>\n",
       "      <td>1</td>\n",
       "    </tr>\n",
       "    <tr>\n",
       "      <th>1</th>\n",
       "      <td>IR-O-U-0220</td>\n",
       "      <td>Indian Institute of Science, BengaluruMore Det...</td>\n",
       "      <td>Bengaluru</td>\n",
       "      <td>Karnataka</td>\n",
       "      <td>83.28</td>\n",
       "      <td>2</td>\n",
       "    </tr>\n",
       "    <tr>\n",
       "      <th>2</th>\n",
       "      <td>IR-O-U-0306</td>\n",
       "      <td>Indian Institute of Technology BombayMore Deta...</td>\n",
       "      <td>Mumbai</td>\n",
       "      <td>Maharashtra</td>\n",
       "      <td>81.37</td>\n",
       "      <td>3</td>\n",
       "    </tr>\n",
       "    <tr>\n",
       "      <th>3</th>\n",
       "      <td>IR-O-I-1074</td>\n",
       "      <td>Indian Institute of Technology DelhiMore Detai...</td>\n",
       "      <td>New Delhi</td>\n",
       "      <td>Delhi</td>\n",
       "      <td>80.31</td>\n",
       "      <td>4</td>\n",
       "    </tr>\n",
       "    <tr>\n",
       "      <th>4</th>\n",
       "      <td>IR-O-I-1075</td>\n",
       "      <td>Indian Institute of Technology KanpurMore Deta...</td>\n",
       "      <td>Kanpur</td>\n",
       "      <td>Uttar Pradesh</td>\n",
       "      <td>77.56</td>\n",
       "      <td>5</td>\n",
       "    </tr>\n",
       "  </tbody>\n",
       "</table>\n",
       "</div>"
      ],
      "text/plain": [
       "  Institute ID                                               Name       City  \\\n",
       "0  IR-O-U-0456  Indian Institute of Technology MadrasMore Deta...    Chennai   \n",
       "1  IR-O-U-0220  Indian Institute of Science, BengaluruMore Det...  Bengaluru   \n",
       "2  IR-O-U-0306  Indian Institute of Technology BombayMore Deta...     Mumbai   \n",
       "3  IR-O-I-1074  Indian Institute of Technology DelhiMore Detai...  New Delhi   \n",
       "4  IR-O-I-1075  Indian Institute of Technology KanpurMore Deta...     Kanpur   \n",
       "\n",
       "           State  Score  Rank  \n",
       "0     Tamil Nadu  86.42     1  \n",
       "1      Karnataka  83.28     2  \n",
       "2    Maharashtra  81.37     3  \n",
       "3          Delhi  80.31     4  \n",
       "4  Uttar Pradesh  77.56     5  "
      ]
     },
     "execution_count": 3,
     "metadata": {},
     "output_type": "execute_result"
    }
   ],
   "source": [
    "result.head()"
   ]
  },
  {
   "cell_type": "code",
   "execution_count": 8,
   "id": "50c972a5-56fa-45ea-9bae-76bf59e255af",
   "metadata": {
    "tags": []
   },
   "outputs": [
    {
     "data": {
      "text/html": [
       "<div>\n",
       "<style scoped>\n",
       "    .dataframe tbody tr th:only-of-type {\n",
       "        vertical-align: middle;\n",
       "    }\n",
       "\n",
       "    .dataframe tbody tr th {\n",
       "        vertical-align: top;\n",
       "    }\n",
       "\n",
       "    .dataframe thead th {\n",
       "        text-align: right;\n",
       "    }\n",
       "</style>\n",
       "<table border=\"1\" class=\"dataframe\">\n",
       "  <thead>\n",
       "    <tr style=\"text-align: right;\">\n",
       "      <th></th>\n",
       "      <th>TLR (100)</th>\n",
       "      <th>RPC (100)</th>\n",
       "      <th>GO (100)</th>\n",
       "      <th>OI (100)</th>\n",
       "      <th>PERCEPTION (100)</th>\n",
       "    </tr>\n",
       "  </thead>\n",
       "  <tbody>\n",
       "    <tr>\n",
       "      <th>0</th>\n",
       "      <td>88.37</td>\n",
       "      <td>87.30</td>\n",
       "      <td>85.76</td>\n",
       "      <td>65.68</td>\n",
       "      <td>100.00</td>\n",
       "    </tr>\n",
       "    <tr>\n",
       "      <th>0</th>\n",
       "      <td>83.60</td>\n",
       "      <td>86.50</td>\n",
       "      <td>82.17</td>\n",
       "      <td>58.46</td>\n",
       "      <td>99.70</td>\n",
       "    </tr>\n",
       "    <tr>\n",
       "      <th>0</th>\n",
       "      <td>83.85</td>\n",
       "      <td>82.35</td>\n",
       "      <td>83.36</td>\n",
       "      <td>59.05</td>\n",
       "      <td>89.32</td>\n",
       "    </tr>\n",
       "    <tr>\n",
       "      <th>0</th>\n",
       "      <td>76.57</td>\n",
       "      <td>86.23</td>\n",
       "      <td>77.48</td>\n",
       "      <td>66.23</td>\n",
       "      <td>93.48</td>\n",
       "    </tr>\n",
       "    <tr>\n",
       "      <th>0</th>\n",
       "      <td>89.84</td>\n",
       "      <td>69.09</td>\n",
       "      <td>81.96</td>\n",
       "      <td>60.83</td>\n",
       "      <td>74.12</td>\n",
       "    </tr>\n",
       "  </tbody>\n",
       "</table>\n",
       "</div>"
      ],
      "text/plain": [
       "   TLR (100)  RPC (100)  GO (100)  OI (100)  PERCEPTION (100)\n",
       "0      88.37      87.30     85.76     65.68            100.00\n",
       "0      83.60      86.50     82.17     58.46             99.70\n",
       "0      83.85      82.35     83.36     59.05             89.32\n",
       "0      76.57      86.23     77.48     66.23             93.48\n",
       "0      89.84      69.09     81.96     60.83             74.12"
      ]
     },
     "execution_count": 8,
     "metadata": {},
     "output_type": "execute_result"
    }
   ],
   "source": [
    "edf = pd.DataFrame()\n",
    "for l in df2024[1:]:\n",
    "    edf = pd.concat([edf, l ])\n",
    "    #print(l)\n",
    "edf.head()"
   ]
  },
  {
   "cell_type": "code",
   "execution_count": 9,
   "id": "40e69222-2d1f-4b2d-840b-86660ec7c9df",
   "metadata": {
    "tags": []
   },
   "outputs": [],
   "source": [
    "#df2024[1:]"
   ]
  },
  {
   "cell_type": "code",
   "execution_count": 1,
   "id": "dbecdfa9-4d26-4163-b569-d0a209a5d60c",
   "metadata": {
    "tags": []
   },
   "outputs": [
    {
     "ename": "NameError",
     "evalue": "name 'result' is not defined",
     "output_type": "error",
     "traceback": [
      "\u001b[0;31m---------------------------------------------------------------------------\u001b[0m",
      "\u001b[0;31mNameError\u001b[0m                                 Traceback (most recent call last)",
      "Cell \u001b[0;32mIn[1], line 2\u001b[0m\n\u001b[1;32m      1\u001b[0m \u001b[38;5;66;03m# df1 = pd.concat([result, edf], ignore_index=True)\u001b[39;00m\n\u001b[0;32m----> 2\u001b[0m result \u001b[38;5;241m=\u001b[39m result\u001b[38;5;241m.\u001b[39mreset_index(drop\u001b[38;5;241m=\u001b[39m\u001b[38;5;28;01mTrue\u001b[39;00m)\n\u001b[1;32m      3\u001b[0m edf \u001b[38;5;241m=\u001b[39m edf\u001b[38;5;241m.\u001b[39mreset_index(drop\u001b[38;5;241m=\u001b[39m\u001b[38;5;28;01mTrue\u001b[39;00m)\n\u001b[1;32m      5\u001b[0m df1 \u001b[38;5;241m=\u001b[39m pd\u001b[38;5;241m.\u001b[39mconcat([result, edf], axis\u001b[38;5;241m=\u001b[39m\u001b[38;5;241m1\u001b[39m)\n",
      "\u001b[0;31mNameError\u001b[0m: name 'result' is not defined"
     ]
    }
   ],
   "source": [
    "# df1 = pd.concat([result, edf], ignore_index=True)\n",
    "result = result.reset_index(drop=True)\n",
    "edf = edf.reset_index(drop=True)\n",
    "\n",
    "df1 = pd.concat([result, edf], axis=1)\n",
    "#df1 = df1.reset_index(drop=True)\n",
    "df1['Year']= 2024\n",
    "print(df1)"
   ]
  },
  {
   "cell_type": "code",
   "execution_count": null,
   "id": "2cd28764-80d8-469f-ab5a-119690dd48d1",
   "metadata": {},
   "outputs": [],
   "source": []
  }
 ],
 "metadata": {
  "kernelspec": {
   "display_name": "Python 3 (ipykernel)",
   "language": "python",
   "name": "python3"
  },
  "language_info": {
   "codemirror_mode": {
    "name": "ipython",
    "version": 3
   },
   "file_extension": ".py",
   "mimetype": "text/x-python",
   "name": "python",
   "nbconvert_exporter": "python",
   "pygments_lexer": "ipython3",
   "version": "3.11.5"
  }
 },
 "nbformat": 4,
 "nbformat_minor": 5
}
