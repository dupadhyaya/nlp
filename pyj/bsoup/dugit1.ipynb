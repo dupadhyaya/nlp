{
 "cells": [
  {
   "cell_type": "markdown",
   "id": "0055c867-1d27-499b-b607-2585a379a509",
   "metadata": {},
   "source": [
    "# Examples from my own site, using html egs created by self\n",
    "- "
   ]
  },
  {
   "cell_type": "code",
   "execution_count": 2,
   "id": "9b97ec25-863a-4396-b4d7-665f01c2e3bf",
   "metadata": {
    "tags": []
   },
   "outputs": [],
   "source": [
    "from bs4 import BeautifulSoup\n",
    "import pandas as pd\n",
    "import requests\n",
    "import re\n",
    "import os"
   ]
  },
  {
   "cell_type": "code",
   "execution_count": 3,
   "id": "615af76f-e887-4e26-8e4d-3ab1c12eed63",
   "metadata": {
    "tags": []
   },
   "outputs": [
    {
     "data": {
      "text/plain": [
       "['divtags.html', 'duprofile1.html', 'ducv1.html', '.ipynb_checkpoints']"
      ]
     },
     "execution_count": 3,
     "metadata": {},
     "output_type": "execute_result"
    }
   ],
   "source": [
    "os.listdir('../htmleg/')"
   ]
  },
  {
   "cell_type": "code",
   "execution_count": 4,
   "id": "86c1c03e-a415-43ef-a23d-c18409a2ed6f",
   "metadata": {},
   "outputs": [],
   "source": [
    "# Load html files from github\n",
    "prfe = 'https://htmlpreview.github.io/?'\n",
    "mid = 'https://github.com/dupadhyaya/nlp/blob/main/pyj/htmlegs/'\n",
    "divtags = 'divtags.html'\n",
    "ducv1 = 'duc1.html'\n",
    "duprofile1 = 'duprofile1.html'\n"
   ]
  },
  {
   "cell_type": "code",
   "execution_count": 19,
   "id": "d6d66178-7260-421b-937e-b9aeef4fa174",
   "metadata": {
    "tags": []
   },
   "outputs": [
    {
     "data": {
      "text/plain": [
       "6"
      ]
     },
     "execution_count": 19,
     "metadata": {},
     "output_type": "execute_result"
    }
   ],
   "source": [
    "# URL on the Github where the csv files are stored\n",
    "github_url = 'https://github.com/dupadhyaya/nlp/tree/main/pyj/htmleg/'\n",
    "result = requests.get(github_url)\n",
    "soup = BeautifulSoup(result.text, 'html.parser')\n",
    "htmlfiles = soup.find_all(title=re.compile(\"\\.html$\"))\n",
    "len(htmlfiles)"
   ]
  },
  {
   "cell_type": "code",
   "execution_count": 20,
   "id": "2cab849a-4bf1-44c6-8c0b-459b50ababde",
   "metadata": {
    "tags": []
   },
   "outputs": [
    {
     "name": "stdout",
     "output_type": "stream",
     "text": [
      "['divtags.html', 'divtags.html', 'ducv1.html', 'ducv1.html', 'duprofile1.html', 'duprofile1.html']\n"
     ]
    }
   ],
   "source": [
    "filename = [ ]\n",
    "for i in htmlfiles:\n",
    "        filename.append(i.extract().get_text())\n",
    "print(filename)"
   ]
  },
  {
   "cell_type": "code",
   "execution_count": 18,
   "id": "b158338e-c806-4504-8568-668ca0b78282",
   "metadata": {
    "tags": []
   },
   "outputs": [
    {
     "data": {
      "text/plain": [
       "0"
      ]
     },
     "execution_count": 18,
     "metadata": {},
     "output_type": "execute_result"
    }
   ],
   "source": []
  },
  {
   "cell_type": "code",
   "execution_count": null,
   "id": "42a4f72c-5215-4146-a0ed-042903a439b7",
   "metadata": {},
   "outputs": [],
   "source": []
  }
 ],
 "metadata": {
  "kernelspec": {
   "display_name": "Python 3 (ipykernel)",
   "language": "python",
   "name": "python3"
  },
  "language_info": {
   "codemirror_mode": {
    "name": "ipython",
    "version": 3
   },
   "file_extension": ".py",
   "mimetype": "text/x-python",
   "name": "python",
   "nbconvert_exporter": "python",
   "pygments_lexer": "ipython3",
   "version": "3.11.5"
  }
 },
 "nbformat": 4,
 "nbformat_minor": 5
}
