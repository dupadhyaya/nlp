{
 "cells": [
  {
   "cell_type": "markdown",
   "id": "873fbfa1-ebbb-40c7-94dd-4248f1723866",
   "metadata": {},
   "source": [
    "# Navigating HTML Tree\n",
    "- https://coinmarketcap.com/"
   ]
  },
  {
   "cell_type": "code",
   "execution_count": 4,
   "id": "8296d2cf-4e48-4f86-8d73-bb4acbb3dc81",
   "metadata": {
    "tags": []
   },
   "outputs": [],
   "source": [
    "import re\n",
    "from bs4 import BeautifulSoup\n",
    "import pandas as pd\n",
    "import requests"
   ]
  },
  {
   "cell_type": "code",
   "execution_count": 5,
   "id": "e722b686-f599-4bad-8cdc-9bc5f785c32e",
   "metadata": {
    "tags": []
   },
   "outputs": [],
   "source": [
    "url = 'https://coinmarketcap.com/'"
   ]
  },
  {
   "cell_type": "code",
   "execution_count": 7,
   "id": "118eab16-facc-4241-8e5c-90ab361d143b",
   "metadata": {
    "tags": []
   },
   "outputs": [],
   "source": [
    "result = requests.get(url).text\n",
    "doc = BeautifulSoup(result, 'html.parser')"
   ]
  },
  {
   "cell_type": "code",
   "execution_count": 8,
   "id": "9e8dc4e4-e258-43b0-bd84-2b26ed057035",
   "metadata": {
    "tags": []
   },
   "outputs": [],
   "source": [
    "tbody = doc.tbody"
   ]
  },
  {
   "cell_type": "code",
   "execution_count": 9,
   "id": "22ff9247-d10d-4d75-bdd2-ef4c357029f3",
   "metadata": {
    "tags": []
   },
   "outputs": [],
   "source": [
    "trs = tbody.contents"
   ]
  },
  {
   "cell_type": "code",
   "execution_count": 15,
   "id": "5d29c1b4-190e-4ce6-8e76-8dd71f9e6a6c",
   "metadata": {
    "tags": []
   },
   "outputs": [
    {
     "data": {
      "text/plain": [
       "<tr style=\"cursor:pointer\"><td><span class=\"tooltip tooltip-right\" data-text=\"Add to Main Watchlist\"><span class=\"icon-Star\" style=\"color:var(--color-light-neutral-4)\"></span></span></td><td style=\"text-align:start\"><p class=\"sc-71024e3e-0 jBOvmG\" color=\"text2\" data-sensors-click=\"true\" font-size=\"14\">3</p></td><td style=\"text-align:start\"><div class=\"sc-4c05d6ef-0 bLqliP\" display=\"flex\"><a class=\"cmc-link\" href=\"/currencies/tether/\"><div class=\"sc-65e7f566-0 sc-e8147118-0 eQBACe dxqfPq\" data-sensors-click=\"true\"><img alt=\"USDT logo\" class=\"coin-logo\" decoding=\"async\" fetchpriority=\"low\" loading=\"lazy\" src=\"https://s2.coinmarketcap.com/static/img/coins/64x64/825.png\"/><div class=\"sc-65e7f566-0 sc-e8147118-1 eQBACe jtrNaf\"><div class=\"sc-65e7f566-0 sc-e8147118-2 eQBACe beGxzp hide-ranking-number\"><p class=\"sc-65e7f566-0 iPbTJf coin-item-name\">Tether</p><div class=\"sc-e8147118-3 jcakMR\" data-nosnippet=\"true\"><p class=\"sc-65e7f566-0 byYAWx coin-item-symbol\">USDT</p></div></div></div></div></a></div></td><td style=\"text-align:end\"><div class=\"sc-b3fc6b7-0 dzgUIj\"><span>$0.9992</span></div></td><td style=\"text-align:end\"><span class=\"sc-a59753b0-0 cmnujh\"><span class=\"icon-Caret-up\" style=\"width:12px;height:18px;display:inline-block\"></span>0.04%</span></td><td style=\"text-align:end\"><span class=\"sc-a59753b0-0 cmnujh\"><span class=\"icon-Caret-up\" style=\"width:12px;height:18px;display:inline-block\"></span>0.00%</span></td><td style=\"text-align:end\"><span class=\"sc-a59753b0-0 cmnujh\"><span class=\"icon-Caret-up\" style=\"width:12px;height:18px;display:inline-block\"></span>0.03%</span></td><td style=\"text-align:end\"><p class=\"sc-71024e3e-0 bbHOdE\" color=\"text\" data-sensors-click=\"true\" font-size=\"1\" style=\"white-space:nowrap\"><span class=\"sc-11478e5d-0 chpohi\">$139.27B</span><span class=\"sc-11478e5d-1 jfwGHx\" data-nosnippet=\"true\">$139,269,965,721</span></p></td><td style=\"text-align:end\"><div class=\"sc-4c05d6ef-0 sc-97d9abce-0 dlQYLv bJRjhz\"><a class=\"cmc-link\" href=\"/currencies/tether/#markets\"><p class=\"sc-71024e3e-0 bbHOdE font_weight_500\" color=\"text\" data-sensors-click=\"true\" font-size=\"1\">$102,190,655,497</p></a><div data-nosnippet=\"true\"><p class=\"sc-71024e3e-0 hbcVUE\" color=\"text2\" data-sensors-click=\"true\" font-size=\"0\">102,315,846,298 USDT</p></div></div></td><td style=\"text-align:end\"><div class=\"sc-4c05d6ef-0 sc-552ef8b1-0 dlQYLv eOHbrv\" data-sensors-click=\"true\" style=\"cursor:pointer\"><div class=\"sc-4c05d6ef-0 sc-552ef8b1-1 dlQYLv klYCgG\"><p class=\"sc-71024e3e-0 hhmVNu\" color=\"text\" data-sensors-click=\"true\" font-size=\"1\" font-weight=\"medium\">139,440,581,307 USDT</p></div></div></td><td style=\"text-align:end\"><img alt=\"tether-7d-price-graph\" class=\"sc-936354b2-0 fYKKcN\" loading=\"lazy\" src=\"https://s3.coinmarketcap.com/generated/sparklines/web/7d/2781/825.svg\"/></td></tr>"
      ]
     },
     "execution_count": 15,
     "metadata": {},
     "output_type": "execute_result"
    }
   ],
   "source": [
    "trs[1].next_sibling"
   ]
  },
  {
   "cell_type": "code",
   "execution_count": 16,
   "id": "54292f24-3746-4465-a585-6902023b3771",
   "metadata": {
    "tags": []
   },
   "outputs": [
    {
     "data": {
      "text/plain": [
       "<tr style=\"cursor:pointer\"><td><span class=\"tooltip tooltip-right\" data-text=\"Add to Main Watchlist\"><span class=\"icon-Star\" style=\"color:var(--color-light-neutral-4)\"></span></span></td><td style=\"text-align:start\"><p class=\"sc-71024e3e-0 jBOvmG\" color=\"text2\" data-sensors-click=\"true\" font-size=\"14\">1</p></td><td style=\"text-align:start\"><div class=\"sc-4c05d6ef-0 bLqliP\" display=\"flex\"><a class=\"cmc-link\" href=\"/currencies/bitcoin/\"><div class=\"sc-65e7f566-0 sc-e8147118-0 eQBACe dxqfPq\" data-sensors-click=\"true\"><img alt=\"BTC logo\" class=\"coin-logo\" decoding=\"async\" fetchpriority=\"low\" loading=\"lazy\" src=\"https://s2.coinmarketcap.com/static/img/coins/64x64/1.png\"/><div class=\"sc-65e7f566-0 sc-e8147118-1 eQBACe jtrNaf\"><div class=\"sc-65e7f566-0 sc-e8147118-2 eQBACe beGxzp hide-ranking-number\"><p class=\"sc-65e7f566-0 iPbTJf coin-item-name\">Bitcoin</p><div class=\"sc-e8147118-3 jcakMR\" data-nosnippet=\"true\"><p class=\"sc-65e7f566-0 byYAWx coin-item-symbol\">BTC</p></div></div></div></div></a></div></td><td style=\"text-align:end\"><div class=\"sc-b3fc6b7-0 dzgUIj\"><span>$96,811.33</span></div></td><td style=\"text-align:end\"><span class=\"sc-a59753b0-0 cmnujh\"><span class=\"icon-Caret-up\" style=\"width:12px;height:18px;display:inline-block\"></span>0.81%</span></td><td style=\"text-align:end\"><span class=\"sc-a59753b0-0 cmnujh\"><span class=\"icon-Caret-up\" style=\"width:12px;height:18px;display:inline-block\"></span>1.39%</span></td><td style=\"text-align:end\"><span class=\"sc-a59753b0-0 cmnujh\"><span class=\"icon-Caret-up\" style=\"width:12px;height:18px;display:inline-block\"></span>1.84%</span></td><td style=\"text-align:end\"><p class=\"sc-71024e3e-0 bbHOdE\" color=\"text\" data-sensors-click=\"true\" font-size=\"1\" style=\"white-space:nowrap\"><span class=\"sc-11478e5d-0 chpohi\">$1.92T</span><span class=\"sc-11478e5d-1 jfwGHx\" data-nosnippet=\"true\">$1,918,623,913,733</span></p></td><td style=\"text-align:end\"><div class=\"sc-4c05d6ef-0 sc-97d9abce-0 dlQYLv bJRjhz\"><a class=\"cmc-link\" href=\"/currencies/bitcoin/#markets\"><p class=\"sc-71024e3e-0 bbHOdE font_weight_500\" color=\"text\" data-sensors-click=\"true\" font-size=\"1\">$47,638,211,436</p></a><div data-nosnippet=\"true\"><p class=\"sc-71024e3e-0 hbcVUE\" color=\"text2\" data-sensors-click=\"true\" font-size=\"0\">491,666 BTC</p></div></div></td><td style=\"text-align:end\"><div class=\"sc-4c05d6ef-0 sc-552ef8b1-0 dlQYLv eOHbrv\" data-sensors-click=\"true\" style=\"cursor:pointer\"><div class=\"sc-4c05d6ef-0 sc-552ef8b1-1 dlQYLv klYCgG\"><p class=\"sc-71024e3e-0 hhmVNu\" color=\"text\" data-sensors-click=\"true\" font-size=\"1\" font-weight=\"medium\">19,801,778 BTC</p></div><div class=\"sc-c50b4d85-0 lmZKdT\" data-sensors-click=\"true\" height=\"4\" width=\"160\"><div class=\"sc-c50b4d85-1 cKQRrC\" height=\"4\" width=\"151\"></div></div></div></td><td style=\"text-align:end\"><img alt=\"bitcoin-7d-price-graph\" class=\"sc-936354b2-0 fYKKcN isUp\" loading=\"lazy\" src=\"https://s3.coinmarketcap.com/generated/sparklines/web/7d/2781/1.svg\"/></td></tr>"
      ]
     },
     "execution_count": 16,
     "metadata": {},
     "output_type": "execute_result"
    }
   ],
   "source": [
    "trs[1].previous_sibling "
   ]
  },
  {
   "cell_type": "code",
   "execution_count": 18,
   "id": "cab0848c-786e-4caa-b31d-bcfb5fa021ec",
   "metadata": {
    "tags": []
   },
   "outputs": [
    {
     "data": {
      "text/plain": [
       "[<tr style=\"cursor:pointer\"><td><span class=\"tooltip tooltip-right\" data-text=\"Add to Main Watchlist\"><span class=\"icon-Star\" style=\"color:var(--color-light-neutral-4)\"></span></span></td><td style=\"text-align:start\"><p class=\"sc-71024e3e-0 jBOvmG\" color=\"text2\" data-sensors-click=\"true\" font-size=\"14\">3</p></td><td style=\"text-align:start\"><div class=\"sc-4c05d6ef-0 bLqliP\" display=\"flex\"><a class=\"cmc-link\" href=\"/currencies/tether/\"><div class=\"sc-65e7f566-0 sc-e8147118-0 eQBACe dxqfPq\" data-sensors-click=\"true\"><img alt=\"USDT logo\" class=\"coin-logo\" decoding=\"async\" fetchpriority=\"low\" loading=\"lazy\" src=\"https://s2.coinmarketcap.com/static/img/coins/64x64/825.png\"/><div class=\"sc-65e7f566-0 sc-e8147118-1 eQBACe jtrNaf\"><div class=\"sc-65e7f566-0 sc-e8147118-2 eQBACe beGxzp hide-ranking-number\"><p class=\"sc-65e7f566-0 iPbTJf coin-item-name\">Tether</p><div class=\"sc-e8147118-3 jcakMR\" data-nosnippet=\"true\"><p class=\"sc-65e7f566-0 byYAWx coin-item-symbol\">USDT</p></div></div></div></div></a></div></td><td style=\"text-align:end\"><div class=\"sc-b3fc6b7-0 dzgUIj\"><span>$0.9992</span></div></td><td style=\"text-align:end\"><span class=\"sc-a59753b0-0 cmnujh\"><span class=\"icon-Caret-up\" style=\"width:12px;height:18px;display:inline-block\"></span>0.04%</span></td><td style=\"text-align:end\"><span class=\"sc-a59753b0-0 cmnujh\"><span class=\"icon-Caret-up\" style=\"width:12px;height:18px;display:inline-block\"></span>0.00%</span></td><td style=\"text-align:end\"><span class=\"sc-a59753b0-0 cmnujh\"><span class=\"icon-Caret-up\" style=\"width:12px;height:18px;display:inline-block\"></span>0.03%</span></td><td style=\"text-align:end\"><p class=\"sc-71024e3e-0 bbHOdE\" color=\"text\" data-sensors-click=\"true\" font-size=\"1\" style=\"white-space:nowrap\"><span class=\"sc-11478e5d-0 chpohi\">$139.27B</span><span class=\"sc-11478e5d-1 jfwGHx\" data-nosnippet=\"true\">$139,269,965,721</span></p></td><td style=\"text-align:end\"><div class=\"sc-4c05d6ef-0 sc-97d9abce-0 dlQYLv bJRjhz\"><a class=\"cmc-link\" href=\"/currencies/tether/#markets\"><p class=\"sc-71024e3e-0 bbHOdE font_weight_500\" color=\"text\" data-sensors-click=\"true\" font-size=\"1\">$102,190,655,497</p></a><div data-nosnippet=\"true\"><p class=\"sc-71024e3e-0 hbcVUE\" color=\"text2\" data-sensors-click=\"true\" font-size=\"0\">102,315,846,298 USDT</p></div></div></td><td style=\"text-align:end\"><div class=\"sc-4c05d6ef-0 sc-552ef8b1-0 dlQYLv eOHbrv\" data-sensors-click=\"true\" style=\"cursor:pointer\"><div class=\"sc-4c05d6ef-0 sc-552ef8b1-1 dlQYLv klYCgG\"><p class=\"sc-71024e3e-0 hhmVNu\" color=\"text\" data-sensors-click=\"true\" font-size=\"1\" font-weight=\"medium\">139,440,581,307 USDT</p></div></div></td><td style=\"text-align:end\"><img alt=\"tether-7d-price-graph\" class=\"sc-936354b2-0 fYKKcN\" loading=\"lazy\" src=\"https://s3.coinmarketcap.com/generated/sparklines/web/7d/2781/825.svg\"/></td></tr>,\n",
       " <tr style=\"cursor:pointer\"><td><span class=\"tooltip tooltip-right\" data-text=\"Add to Main Watchlist\"><span class=\"icon-Star\" style=\"color:var(--color-light-neutral-4)\"></span></span></td><td style=\"text-align:start\"><p class=\"sc-71024e3e-0 jBOvmG\" color=\"text2\" data-sensors-click=\"true\" font-size=\"14\">4</p></td><td style=\"text-align:start\"><div class=\"sc-4c05d6ef-0 bLqliP\" display=\"flex\"><a class=\"cmc-link\" href=\"/currencies/xrp/\"><div class=\"sc-65e7f566-0 sc-e8147118-0 eQBACe dxqfPq\" data-sensors-click=\"true\"><img alt=\"XRP logo\" class=\"coin-logo\" decoding=\"async\" fetchpriority=\"low\" loading=\"lazy\" src=\"https://s2.coinmarketcap.com/static/img/coins/64x64/52.png\"/><div class=\"sc-65e7f566-0 sc-e8147118-1 eQBACe jtrNaf\"><div class=\"sc-65e7f566-0 sc-e8147118-2 eQBACe beGxzp hide-ranking-number\"><p class=\"sc-65e7f566-0 iPbTJf coin-item-name\">XRP</p><div class=\"sc-e8147118-3 jcakMR\" data-nosnippet=\"true\"><p class=\"sc-65e7f566-0 byYAWx coin-item-symbol\">XRP</p></div></div></div></div></a></div></td><td style=\"text-align:end\"><div class=\"sc-b3fc6b7-0 dzgUIj\"><span>$2.22</span></div></td><td style=\"text-align:end\"><span class=\"sc-a59753b0-0 cmnujh\"><span class=\"icon-Caret-up\" style=\"width:12px;height:18px;display:inline-block\"></span>2.14%</span></td><td style=\"text-align:end\"><span class=\"sc-a59753b0-0 cmnujh\"><span class=\"icon-Caret-up\" style=\"width:12px;height:18px;display:inline-block\"></span>1.62%</span></td><td style=\"text-align:end\"><span class=\"sc-a59753b0-0 cmnujh\"><span class=\"icon-Caret-up\" style=\"width:12px;height:18px;display:inline-block\"></span>0.77%</span></td><td style=\"text-align:end\"><p class=\"sc-71024e3e-0 bbHOdE\" color=\"text\" data-sensors-click=\"true\" font-size=\"1\" style=\"white-space:nowrap\"><span class=\"sc-11478e5d-0 chpohi\">$127.44B</span><span class=\"sc-11478e5d-1 jfwGHx\" data-nosnippet=\"true\">$127,439,794,107</span></p></td><td style=\"text-align:end\"><div class=\"sc-4c05d6ef-0 sc-97d9abce-0 dlQYLv bJRjhz\"><a class=\"cmc-link\" href=\"/currencies/xrp/#markets\"><p class=\"sc-71024e3e-0 bbHOdE font_weight_500\" color=\"text\" data-sensors-click=\"true\" font-size=\"1\">$5,478,683,677</p></a><div data-nosnippet=\"true\"><p class=\"sc-71024e3e-0 hbcVUE\" color=\"text2\" data-sensors-click=\"true\" font-size=\"0\">2,468,086,801 XRP</p></div></div></td><td style=\"text-align:end\"><div class=\"sc-4c05d6ef-0 sc-552ef8b1-0 dlQYLv eOHbrv\" data-sensors-click=\"true\" style=\"cursor:pointer\"><div class=\"sc-4c05d6ef-0 sc-552ef8b1-1 dlQYLv klYCgG\"><p class=\"sc-71024e3e-0 hhmVNu\" color=\"text\" data-sensors-click=\"true\" font-size=\"1\" font-weight=\"medium\">57,410,227,039 XRP</p></div><div class=\"sc-c50b4d85-0 lmZKdT\" data-sensors-click=\"true\" height=\"4\" width=\"160\"><div class=\"sc-c50b4d85-1 lbTXYg\" height=\"4\" width=\"92\"></div></div></div></td><td style=\"text-align:end\"><img alt=\"xrp-7d-price-graph\" class=\"sc-936354b2-0 fYKKcN isUp\" loading=\"lazy\" src=\"https://s3.coinmarketcap.com/generated/sparklines/web/7d/2781/52.svg\"/></td></tr>,\n",
       " <tr style=\"cursor:pointer\"><td><span class=\"tooltip tooltip-right\" data-text=\"Add to Main Watchlist\"><span class=\"icon-Star\" style=\"color:var(--color-light-neutral-4)\"></span></span></td><td style=\"text-align:start\"><p class=\"sc-71024e3e-0 jBOvmG\" color=\"text2\" data-sensors-click=\"true\" font-size=\"14\">5</p></td><td style=\"text-align:start\"><div class=\"sc-4c05d6ef-0 bLqliP\" display=\"flex\"><a class=\"cmc-link\" href=\"/currencies/bnb/\"><div class=\"sc-65e7f566-0 sc-e8147118-0 eQBACe dxqfPq\" data-sensors-click=\"true\"><img alt=\"BNB logo\" class=\"coin-logo\" decoding=\"async\" fetchpriority=\"low\" loading=\"lazy\" src=\"https://s2.coinmarketcap.com/static/img/coins/64x64/1839.png\"/><div class=\"sc-65e7f566-0 sc-e8147118-1 eQBACe jtrNaf\"><div class=\"sc-65e7f566-0 sc-e8147118-2 eQBACe beGxzp hide-ranking-number\"><p class=\"sc-65e7f566-0 iPbTJf coin-item-name\">BNB</p><div class=\"sc-e8147118-3 jcakMR\" data-nosnippet=\"true\"><p class=\"sc-65e7f566-0 byYAWx coin-item-symbol\">BNB</p></div></div></div></div></a></div></td><td style=\"text-align:end\"><div class=\"sc-b3fc6b7-0 dzgUIj\"><span>$704.87</span></div></td><td style=\"text-align:end\"><span class=\"sc-a59753b0-0 cmnujh\"><span class=\"icon-Caret-up\" style=\"width:12px;height:18px;display:inline-block\"></span>1.45%</span></td><td style=\"text-align:end\"><span class=\"sc-a59753b0-0 cmnujh\"><span class=\"icon-Caret-up\" style=\"width:12px;height:18px;display:inline-block\"></span>1.53%</span></td><td style=\"text-align:end\"><span class=\"sc-a59753b0-0 cmnujh\"><span class=\"icon-Caret-up\" style=\"width:12px;height:18px;display:inline-block\"></span>9.60%</span></td><td style=\"text-align:end\"><p class=\"sc-71024e3e-0 bbHOdE\" color=\"text\" data-sensors-click=\"true\" font-size=\"1\" style=\"white-space:nowrap\"><span class=\"sc-11478e5d-0 chpohi\">$101.73B</span><span class=\"sc-11478e5d-1 jfwGHx\" data-nosnippet=\"true\">$101,725,972,940</span></p></td><td style=\"text-align:end\"><div class=\"sc-4c05d6ef-0 sc-97d9abce-0 dlQYLv bJRjhz\"><a class=\"cmc-link\" href=\"/currencies/bnb/#markets\"><p class=\"sc-71024e3e-0 bbHOdE font_weight_500\" color=\"text\" data-sensors-click=\"true\" font-size=\"1\">$1,217,823,718</p></a><div data-nosnippet=\"true\"><p class=\"sc-71024e3e-0 hbcVUE\" color=\"text2\" data-sensors-click=\"true\" font-size=\"0\">1,724,000 BNB</p></div></div></td><td style=\"text-align:end\"><div class=\"sc-4c05d6ef-0 sc-552ef8b1-0 dlQYLv eOHbrv\" data-sensors-click=\"true\" style=\"cursor:pointer\"><div class=\"sc-4c05d6ef-0 sc-552ef8b1-1 dlQYLv klYCgG\"><p class=\"sc-71024e3e-0 hhmVNu\" color=\"text\" data-sensors-click=\"true\" font-size=\"1\" font-weight=\"medium\">144,007,331 BNB</p></div></div></td><td style=\"text-align:end\"><img alt=\"bnb-7d-price-graph\" class=\"sc-936354b2-0 fYKKcN isUp\" loading=\"lazy\" src=\"https://s3.coinmarketcap.com/generated/sparklines/web/7d/2781/1839.svg\"/></td></tr>,\n",
       " <tr style=\"cursor:pointer\"><td><span class=\"tooltip tooltip-right\" data-text=\"Add to Main Watchlist\"><span class=\"icon-Star\" style=\"color:var(--color-light-neutral-4)\"></span></span></td><td style=\"text-align:start\"><p class=\"sc-71024e3e-0 jBOvmG\" color=\"text2\" data-sensors-click=\"true\" font-size=\"14\">6</p></td><td style=\"text-align:start\"><div class=\"sc-4c05d6ef-0 bLqliP\" display=\"flex\"><a class=\"cmc-link\" href=\"/currencies/solana/\"><div class=\"sc-65e7f566-0 sc-e8147118-0 eQBACe dxqfPq\" data-sensors-click=\"true\"><img alt=\"SOL logo\" class=\"coin-logo\" decoding=\"async\" fetchpriority=\"low\" loading=\"lazy\" src=\"https://s2.coinmarketcap.com/static/img/coins/64x64/5426.png\"/><div class=\"sc-65e7f566-0 sc-e8147118-1 eQBACe jtrNaf\"><div class=\"sc-65e7f566-0 sc-e8147118-2 eQBACe beGxzp hide-ranking-number\"><p class=\"sc-65e7f566-0 iPbTJf coin-item-name\">Solana</p><div class=\"sc-e8147118-3 jcakMR\" data-nosnippet=\"true\"><p class=\"sc-65e7f566-0 byYAWx coin-item-symbol\">SOL</p></div></div></div></div></a></div></td><td style=\"text-align:end\"><div class=\"sc-b3fc6b7-0 dzgUIj\"><span>$193.65</span></div></td><td style=\"text-align:end\"><span class=\"sc-a59753b0-0 cmnujh\"><span class=\"icon-Caret-up\" style=\"width:12px;height:18px;display:inline-block\"></span>2.39%</span></td><td style=\"text-align:end\"><span class=\"sc-a59753b0-0 cmnujh\"><span class=\"icon-Caret-up\" style=\"width:12px;height:18px;display:inline-block\"></span>2.37%</span></td><td style=\"text-align:end\"><span class=\"sc-a59753b0-0 cmnujh\"><span class=\"icon-Caret-up\" style=\"width:12px;height:18px;display:inline-block\"></span>6.30%</span></td><td style=\"text-align:end\"><p class=\"sc-71024e3e-0 bbHOdE\" color=\"text\" data-sensors-click=\"true\" font-size=\"1\" style=\"white-space:nowrap\"><span class=\"sc-11478e5d-0 chpohi\">$92.86B</span><span class=\"sc-11478e5d-1 jfwGHx\" data-nosnippet=\"true\">$92,860,717,431</span></p></td><td style=\"text-align:end\"><div class=\"sc-4c05d6ef-0 sc-97d9abce-0 dlQYLv bJRjhz\"><a class=\"cmc-link\" href=\"/currencies/solana/#markets\"><p class=\"sc-71024e3e-0 bbHOdE font_weight_500\" color=\"text\" data-sensors-click=\"true\" font-size=\"1\">$2,684,860,513</p></a><div data-nosnippet=\"true\"><p class=\"sc-71024e3e-0 hbcVUE\" color=\"text2\" data-sensors-click=\"true\" font-size=\"0\">13,864,698 SOL</p></div></div></td><td style=\"text-align:end\"><div class=\"sc-4c05d6ef-0 sc-552ef8b1-0 dlQYLv eOHbrv\" data-sensors-click=\"true\" style=\"cursor:pointer\"><div class=\"sc-4c05d6ef-0 sc-552ef8b1-1 dlQYLv klYCgG\"><p class=\"sc-71024e3e-0 hhmVNu\" color=\"text\" data-sensors-click=\"true\" font-size=\"1\" font-weight=\"medium\">479,535,451 SOL</p></div></div></td><td style=\"text-align:end\"><img alt=\"solana-7d-price-graph\" class=\"sc-936354b2-0 fYKKcN isUp\" loading=\"lazy\" src=\"https://s3.coinmarketcap.com/generated/sparklines/web/7d/2781/5426.svg\"/></td></tr>,\n",
       " <tr style=\"cursor:pointer\"><td><span class=\"tooltip tooltip-right\" data-text=\"Add to Main Watchlist\"><span class=\"icon-Star\" style=\"color:var(--color-light-neutral-4)\"></span></span></td><td style=\"text-align:start\"><p class=\"sc-71024e3e-0 jBOvmG\" color=\"text2\" data-sensors-click=\"true\" font-size=\"14\">7</p></td><td style=\"text-align:start\"><div class=\"sc-4c05d6ef-0 bLqliP\" display=\"flex\"><a class=\"cmc-link\" href=\"/currencies/dogecoin/\"><div class=\"sc-65e7f566-0 sc-e8147118-0 eQBACe dxqfPq\" data-sensors-click=\"true\"><img alt=\"DOGE logo\" class=\"coin-logo\" decoding=\"async\" fetchpriority=\"low\" loading=\"lazy\" src=\"https://s2.coinmarketcap.com/static/img/coins/64x64/74.png\"/><div class=\"sc-65e7f566-0 sc-e8147118-1 eQBACe jtrNaf\"><div class=\"sc-65e7f566-0 sc-e8147118-2 eQBACe beGxzp hide-ranking-number\"><p class=\"sc-65e7f566-0 iPbTJf coin-item-name\">Dogecoin</p><div class=\"sc-e8147118-3 jcakMR\" data-nosnippet=\"true\"><p class=\"sc-65e7f566-0 byYAWx coin-item-symbol\">DOGE</p></div></div></div></div></a></div></td><td style=\"text-align:end\"><div class=\"sc-b3fc6b7-0 dzgUIj\"><span>$0.3236</span></div></td><td style=\"text-align:end\"><span class=\"sc-a59753b0-0 cmnujh\"><span class=\"icon-Caret-up\" style=\"width:12px;height:18px;display:inline-block\"></span>2.73%</span></td><td style=\"text-align:end\"><span class=\"sc-a59753b0-0 cmnujh\"><span class=\"icon-Caret-up\" style=\"width:12px;height:18px;display:inline-block\"></span>2.07%</span></td><td style=\"text-align:end\"><span class=\"sc-a59753b0-0 cmnujh\"><span class=\"icon-Caret-up\" style=\"width:12px;height:18px;display:inline-block\"></span>8.75%</span></td><td style=\"text-align:end\"><p class=\"sc-71024e3e-0 bbHOdE\" color=\"text\" data-sensors-click=\"true\" font-size=\"1\" style=\"white-space:nowrap\"><span class=\"sc-11478e5d-0 chpohi\">$47.69B</span><span class=\"sc-11478e5d-1 jfwGHx\" data-nosnippet=\"true\">$47,689,422,970</span></p></td><td style=\"text-align:end\"><div class=\"sc-4c05d6ef-0 sc-97d9abce-0 dlQYLv bJRjhz\"><a class=\"cmc-link\" href=\"/currencies/dogecoin/#markets\"><p class=\"sc-71024e3e-0 bbHOdE font_weight_500\" color=\"text\" data-sensors-click=\"true\" font-size=\"1\">$2,274,549,977</p></a><div data-nosnippet=\"true\"><p class=\"sc-71024e3e-0 hbcVUE\" color=\"text2\" data-sensors-click=\"true\" font-size=\"0\">7,028,934,605 DOGE</p></div></div></td><td style=\"text-align:end\"><div class=\"sc-4c05d6ef-0 sc-552ef8b1-0 dlQYLv eOHbrv\" data-sensors-click=\"true\" style=\"cursor:pointer\"><div class=\"sc-4c05d6ef-0 sc-552ef8b1-1 dlQYLv klYCgG\"><p class=\"sc-71024e3e-0 hhmVNu\" color=\"text\" data-sensors-click=\"true\" font-size=\"1\" font-weight=\"medium\">147,372,376,384 DOGE</p></div></div></td><td style=\"text-align:end\"><img alt=\"dogecoin-7d-price-graph\" class=\"sc-936354b2-0 fYKKcN isUp\" loading=\"lazy\" src=\"https://s3.coinmarketcap.com/generated/sparklines/web/7d/2781/74.svg\"/></td></tr>,\n",
       " <tr style=\"cursor:pointer\"><td><span class=\"tooltip tooltip-right\" data-text=\"Add to Main Watchlist\"><span class=\"icon-Star\" style=\"color:var(--color-light-neutral-4)\"></span></span></td><td style=\"text-align:start\"><p class=\"sc-71024e3e-0 jBOvmG\" color=\"text2\" data-sensors-click=\"true\" font-size=\"14\">8</p></td><td style=\"text-align:start\"><div class=\"sc-4c05d6ef-0 bLqliP\" display=\"flex\"><a class=\"cmc-link\" href=\"/currencies/usd-coin/\"><div class=\"sc-65e7f566-0 sc-e8147118-0 eQBACe dxqfPq\" data-sensors-click=\"true\"><img alt=\"USDC logo\" class=\"coin-logo\" decoding=\"async\" fetchpriority=\"low\" loading=\"lazy\" src=\"https://s2.coinmarketcap.com/static/img/coins/64x64/3408.png\"/><div class=\"sc-65e7f566-0 sc-e8147118-1 eQBACe jtrNaf\"><div class=\"sc-65e7f566-0 sc-e8147118-2 eQBACe beGxzp hide-ranking-number\"><p class=\"sc-65e7f566-0 iPbTJf coin-item-name\">USDC</p><div class=\"sc-e8147118-3 jcakMR\" data-nosnippet=\"true\"><p class=\"sc-65e7f566-0 byYAWx coin-item-symbol\">USDC</p></div></div></div></div></a></div></td><td style=\"text-align:end\"><div class=\"sc-b3fc6b7-0 dzgUIj\"><span>$1.00</span></div></td><td style=\"text-align:end\"><span class=\"sc-a59753b0-0 cmnujh\"><span class=\"icon-Caret-up\" style=\"width:12px;height:18px;display:inline-block\"></span>0.00%</span></td><td style=\"text-align:end\"><span class=\"sc-a59753b0-0 cmnujh\"><span class=\"icon-Caret-up\" style=\"width:12px;height:18px;display:inline-block\"></span>0.01%</span></td><td style=\"text-align:end\"><span class=\"sc-a59753b0-0 ivvJzO\"><span class=\"icon-Caret-down\" style=\"width:12px;height:18px;display:inline-block\"></span>0.03%</span></td><td style=\"text-align:end\"><p class=\"sc-71024e3e-0 bbHOdE\" color=\"text\" data-sensors-click=\"true\" font-size=\"1\" style=\"white-space:nowrap\"><span class=\"sc-11478e5d-0 chpohi\">$43.56B</span><span class=\"sc-11478e5d-1 jfwGHx\" data-nosnippet=\"true\">$43,558,558,075</span></p></td><td style=\"text-align:end\"><div class=\"sc-4c05d6ef-0 sc-97d9abce-0 dlQYLv bJRjhz\"><a class=\"cmc-link\" href=\"/currencies/usd-coin/#markets\"><p class=\"sc-71024e3e-0 bbHOdE font_weight_500\" color=\"text\" data-sensors-click=\"true\" font-size=\"1\">$6,226,982,176</p></a><div data-nosnippet=\"true\"><p class=\"sc-71024e3e-0 hbcVUE\" color=\"text2\" data-sensors-click=\"true\" font-size=\"0\">6,226,945,277 USDC</p></div></div></td><td style=\"text-align:end\"><div class=\"sc-4c05d6ef-0 sc-552ef8b1-0 dlQYLv eOHbrv\" data-sensors-click=\"true\" style=\"cursor:pointer\"><div class=\"sc-4c05d6ef-0 sc-552ef8b1-1 dlQYLv klYCgG\"><p class=\"sc-71024e3e-0 hhmVNu\" color=\"text\" data-sensors-click=\"true\" font-size=\"1\" font-weight=\"medium\">43,558,299,959 USDC</p></div></div></td><td style=\"text-align:end\"><img alt=\"usd-coin-7d-price-graph\" class=\"sc-936354b2-0 fYKKcN\" loading=\"lazy\" src=\"https://s3.coinmarketcap.com/generated/sparklines/web/7d/2781/3408.svg\"/></td></tr>,\n",
       " <tr style=\"cursor:pointer\"><td><span class=\"tooltip tooltip-right\" data-text=\"Add to Main Watchlist\"><span class=\"icon-Star\" style=\"color:var(--color-light-neutral-4)\"></span></span></td><td style=\"text-align:start\"><p class=\"sc-71024e3e-0 jBOvmG\" color=\"text2\" data-sensors-click=\"true\" font-size=\"14\">9</p></td><td style=\"text-align:start\"><div class=\"sc-4c05d6ef-0 bLqliP\" display=\"flex\"><a class=\"cmc-link\" href=\"/currencies/cardano/\"><div class=\"sc-65e7f566-0 sc-e8147118-0 eQBACe dxqfPq\" data-sensors-click=\"true\"><img alt=\"ADA logo\" class=\"coin-logo\" decoding=\"async\" fetchpriority=\"low\" loading=\"lazy\" src=\"https://s2.coinmarketcap.com/static/img/coins/64x64/2010.png\"/><div class=\"sc-65e7f566-0 sc-e8147118-1 eQBACe jtrNaf\"><div class=\"sc-65e7f566-0 sc-e8147118-2 eQBACe beGxzp hide-ranking-number\"><p class=\"sc-65e7f566-0 iPbTJf coin-item-name\">Cardano</p><div class=\"sc-e8147118-3 jcakMR\" data-nosnippet=\"true\"><p class=\"sc-65e7f566-0 byYAWx coin-item-symbol\">ADA</p></div></div></div></div></a></div></td><td style=\"text-align:end\"><div class=\"sc-b3fc6b7-0 dzgUIj\"><span>$0.9047</span></div></td><td style=\"text-align:end\"><span class=\"sc-a59753b0-0 cmnujh\"><span class=\"icon-Caret-up\" style=\"width:12px;height:18px;display:inline-block\"></span>3.45%</span></td><td style=\"text-align:end\"><span class=\"sc-a59753b0-0 cmnujh\"><span class=\"icon-Caret-up\" style=\"width:12px;height:18px;display:inline-block\"></span>3.88%</span></td><td style=\"text-align:end\"><span class=\"sc-a59753b0-0 cmnujh\"><span class=\"icon-Caret-up\" style=\"width:12px;height:18px;display:inline-block\"></span>9.10%</span></td><td style=\"text-align:end\"><p class=\"sc-71024e3e-0 bbHOdE\" color=\"text\" data-sensors-click=\"true\" font-size=\"1\" style=\"white-space:nowrap\"><span class=\"sc-11478e5d-0 chpohi\">$31.78B</span><span class=\"sc-11478e5d-1 jfwGHx\" data-nosnippet=\"true\">$31,784,669,457</span></p></td><td style=\"text-align:end\"><div class=\"sc-4c05d6ef-0 sc-97d9abce-0 dlQYLv bJRjhz\"><a class=\"cmc-link\" href=\"/currencies/cardano/#markets\"><p class=\"sc-71024e3e-0 bbHOdE font_weight_500\" color=\"text\" data-sensors-click=\"true\" font-size=\"1\">$800,688,278</p></a><div data-nosnippet=\"true\"><p class=\"sc-71024e3e-0 hbcVUE\" color=\"text2\" data-sensors-click=\"true\" font-size=\"0\">885,008,217 ADA</p></div></div></td><td style=\"text-align:end\"><div class=\"sc-4c05d6ef-0 sc-552ef8b1-0 dlQYLv eOHbrv\" data-sensors-click=\"true\" style=\"cursor:pointer\"><div class=\"sc-4c05d6ef-0 sc-552ef8b1-1 dlQYLv klYCgG\"><p class=\"sc-71024e3e-0 hhmVNu\" color=\"text\" data-sensors-click=\"true\" font-size=\"1\" font-weight=\"medium\">35,131,891,445 ADA</p></div><div class=\"sc-c50b4d85-0 lmZKdT\" data-sensors-click=\"true\" height=\"4\" width=\"160\"><div class=\"sc-c50b4d85-1 cKQPQl\" height=\"4\" width=\"125\"></div></div></div></td><td style=\"text-align:end\"><img alt=\"cardano-7d-price-graph\" class=\"sc-936354b2-0 fYKKcN isUp\" loading=\"lazy\" src=\"https://s3.coinmarketcap.com/generated/sparklines/web/7d/2781/2010.svg\"/></td></tr>,\n",
       " <tr style=\"cursor:pointer\"><td><span class=\"tooltip tooltip-right\" data-text=\"Add to Main Watchlist\"><span class=\"icon-Star\" style=\"color:var(--color-light-neutral-4)\"></span></span></td><td style=\"text-align:start\"><p class=\"sc-71024e3e-0 jBOvmG\" color=\"text2\" data-sensors-click=\"true\" font-size=\"14\">10</p></td><td style=\"text-align:start\"><div class=\"sc-4c05d6ef-0 bLqliP\" display=\"flex\"><a class=\"cmc-link\" href=\"/currencies/tron/\"><div class=\"sc-65e7f566-0 sc-e8147118-0 eQBACe dxqfPq\" data-sensors-click=\"true\"><img alt=\"TRX logo\" class=\"coin-logo\" decoding=\"async\" fetchpriority=\"low\" loading=\"lazy\" src=\"https://s2.coinmarketcap.com/static/img/coins/64x64/1958.png\"/><div class=\"sc-65e7f566-0 sc-e8147118-1 eQBACe jtrNaf\"><div class=\"sc-65e7f566-0 sc-e8147118-2 eQBACe beGxzp hide-ranking-number\"><p class=\"sc-65e7f566-0 iPbTJf coin-item-name\">TRON</p><div class=\"sc-e8147118-3 jcakMR\" data-nosnippet=\"true\"><p class=\"sc-65e7f566-0 byYAWx coin-item-symbol\">TRX</p></div></div></div></div></a></div></td><td style=\"text-align:end\"><div class=\"sc-b3fc6b7-0 dzgUIj\"><span>$0.2588</span></div></td><td style=\"text-align:end\"><span class=\"sc-a59753b0-0 cmnujh\"><span class=\"icon-Caret-up\" style=\"width:12px;height:18px;display:inline-block\"></span>0.63%</span></td><td style=\"text-align:end\"><span class=\"sc-a59753b0-0 cmnujh\"><span class=\"icon-Caret-up\" style=\"width:12px;height:18px;display:inline-block\"></span>3.10%</span></td><td style=\"text-align:end\"><span class=\"sc-a59753b0-0 cmnujh\"><span class=\"icon-Caret-up\" style=\"width:12px;height:18px;display:inline-block\"></span>8.19%</span></td><td style=\"text-align:end\"><p class=\"sc-71024e3e-0 bbHOdE\" color=\"text\" data-sensors-click=\"true\" font-size=\"1\" style=\"white-space:nowrap\"><span class=\"sc-11478e5d-0 chpohi\">$22.31B</span><span class=\"sc-11478e5d-1 jfwGHx\" data-nosnippet=\"true\">$22,313,368,600</span></p></td><td style=\"text-align:end\"><div class=\"sc-4c05d6ef-0 sc-97d9abce-0 dlQYLv bJRjhz\"><a class=\"cmc-link\" href=\"/currencies/tron/#markets\"><p class=\"sc-71024e3e-0 bbHOdE font_weight_500\" color=\"text\" data-sensors-click=\"true\" font-size=\"1\">$1,039,213,503</p></a><div data-nosnippet=\"true\"><p class=\"sc-71024e3e-0 hbcVUE\" color=\"text2\" data-sensors-click=\"true\" font-size=\"0\">4,014,939,126 TRX</p></div></div></td><td style=\"text-align:end\"><div class=\"sc-4c05d6ef-0 sc-552ef8b1-0 dlQYLv eOHbrv\" data-sensors-click=\"true\" style=\"cursor:pointer\"><div class=\"sc-4c05d6ef-0 sc-552ef8b1-1 dlQYLv klYCgG\"><p class=\"sc-71024e3e-0 hhmVNu\" color=\"text\" data-sensors-click=\"true\" font-size=\"1\" font-weight=\"medium\">86,206,363,116 TRX</p></div></div></td><td style=\"text-align:end\"><img alt=\"tron-7d-price-graph\" class=\"sc-936354b2-0 fYKKcN isUp\" loading=\"lazy\" src=\"https://s3.coinmarketcap.com/generated/sparklines/web/7d/2781/1958.svg\"/></td></tr>,\n",
       " <tr class=\"sc-240ce903-0 iPeVVh\"><td></td><td></td><td><a class=\"cmc-link\" href=\"/currencies/avalanche/\"><span class=\"circle\"></span><span>Avalanche</span><span class=\"crypto-symbol\">AVAX</span></a></td><td>$<!-- -->38.87</td><td colspan=\"100\"></td></tr>,\n",
       " <tr class=\"sc-240ce903-0 iPeVVh\"><td></td><td></td><td><a class=\"cmc-link\" href=\"/currencies/chainlink/\"><span class=\"circle\"></span><span>Chainlink</span><span class=\"crypto-symbol\">LINK</span></a></td><td>$<!-- -->23.49</td><td colspan=\"100\"></td></tr>,\n",
       " <tr class=\"sc-240ce903-0 iPeVVh\"><td></td><td></td><td><a class=\"cmc-link\" href=\"/currencies/toncoin/\"><span class=\"circle\"></span><span>Toncoin</span><span class=\"crypto-symbol\">TON</span></a></td><td>$<!-- -->5.86</td><td colspan=\"100\"></td></tr>,\n",
       " <tr class=\"sc-240ce903-0 iPeVVh\"><td></td><td></td><td><a class=\"cmc-link\" href=\"/currencies/shiba-inu/\"><span class=\"circle\"></span><span>Shiba Inu</span><span class=\"crypto-symbol\">SHIB</span></a></td><td>$<!-- -->0.00</td><td colspan=\"100\"></td></tr>,\n",
       " <tr class=\"sc-240ce903-0 iPeVVh\"><td></td><td></td><td><a class=\"cmc-link\" href=\"/currencies/sui/\"><span class=\"circle\"></span><span>Sui</span><span class=\"crypto-symbol\">SUI</span></a></td><td>$<!-- -->4.36</td><td colspan=\"100\"></td></tr>,\n",
       " <tr class=\"sc-240ce903-0 iPeVVh\"><td></td><td></td><td><a class=\"cmc-link\" href=\"/currencies/hedera/\"><span class=\"circle\"></span><span>Hedera</span><span class=\"crypto-symbol\">HBAR</span></a></td><td>$<!-- -->0.29</td><td colspan=\"100\"></td></tr>,\n",
       " <tr class=\"sc-240ce903-0 iPeVVh\"><td></td><td></td><td><a class=\"cmc-link\" href=\"/currencies/polkadot-new/\"><span class=\"circle\"></span><span>Polkadot</span><span class=\"crypto-symbol\">DOT</span></a></td><td>$<!-- -->7.27</td><td colspan=\"100\"></td></tr>,\n",
       " <tr class=\"sc-240ce903-0 iPeVVh\"><td></td><td></td><td><a class=\"cmc-link\" href=\"/currencies/stellar/\"><span class=\"circle\"></span><span>Stellar</span><span class=\"crypto-symbol\">XLM</span></a></td><td>$<!-- -->0.37</td><td colspan=\"100\"></td></tr>,\n",
       " <tr class=\"sc-240ce903-0 iPeVVh\"><td></td><td></td><td><a class=\"cmc-link\" href=\"/currencies/bitget-token-new/\"><span class=\"circle\"></span><span>Bitget Token</span><span class=\"crypto-symbol\">BGB</span></a></td><td>$<!-- -->7.40</td><td colspan=\"100\"></td></tr>,\n",
       " <tr class=\"sc-240ce903-0 iPeVVh\"><td></td><td></td><td><a class=\"cmc-link\" href=\"/currencies/hyperliquid/\"><span class=\"circle\"></span><span>Hyperliquid</span><span class=\"crypto-symbol\">HYPE</span></a></td><td>$<!-- -->27.22</td><td colspan=\"100\"></td></tr>,\n",
       " <tr class=\"sc-240ce903-0 iPeVVh\"><td></td><td></td><td><a class=\"cmc-link\" href=\"/currencies/bitcoin-cash/\"><span class=\"circle\"></span><span>Bitcoin Cash</span><span class=\"crypto-symbol\">BCH</span></a></td><td>$<!-- -->458.25</td><td colspan=\"100\"></td></tr>,\n",
       " <tr class=\"sc-240ce903-0 iPeVVh\"><td></td><td></td><td><a class=\"cmc-link\" href=\"/currencies/unus-sed-leo/\"><span class=\"circle\"></span><span>UNUS SED LEO</span><span class=\"crypto-symbol\">LEO</span></a></td><td>$<!-- -->9.21</td><td colspan=\"100\"></td></tr>,\n",
       " <tr class=\"sc-240ce903-0 iPeVVh\"><td></td><td></td><td><a class=\"cmc-link\" href=\"/currencies/uniswap/\"><span class=\"circle\"></span><span>Uniswap</span><span class=\"crypto-symbol\">UNI</span></a></td><td>$<!-- -->14.12</td><td colspan=\"100\"></td></tr>,\n",
       " <tr class=\"sc-240ce903-0 iPeVVh\"><td></td><td></td><td><a class=\"cmc-link\" href=\"/currencies/litecoin/\"><span class=\"circle\"></span><span>Litecoin</span><span class=\"crypto-symbol\">LTC</span></a></td><td>$<!-- -->106.07</td><td colspan=\"100\"></td></tr>,\n",
       " <tr class=\"sc-240ce903-0 iPeVVh\"><td></td><td></td><td><a class=\"cmc-link\" href=\"/currencies/pepe/\"><span class=\"circle\"></span><span>Pepe</span><span class=\"crypto-symbol\">PEPE</span></a></td><td>$<!-- -->0.00</td><td colspan=\"100\"></td></tr>,\n",
       " <tr class=\"sc-240ce903-0 iPeVVh\"><td></td><td></td><td><a class=\"cmc-link\" href=\"/currencies/near-protocol/\"><span class=\"circle\"></span><span>NEAR Protocol</span><span class=\"crypto-symbol\">NEAR</span></a></td><td>$<!-- -->5.29</td><td colspan=\"100\"></td></tr>,\n",
       " <tr class=\"sc-240ce903-0 iPeVVh\"><td></td><td></td><td><a class=\"cmc-link\" href=\"/currencies/ethena-usde/\"><span class=\"circle\"></span><span>Ethena USDe</span><span class=\"crypto-symbol\">USDe</span></a></td><td>$<!-- -->1.00</td><td colspan=\"100\"></td></tr>,\n",
       " <tr class=\"sc-240ce903-0 iPeVVh\"><td></td><td></td><td><a class=\"cmc-link\" href=\"/currencies/multi-collateral-dai/\"><span class=\"circle\"></span><span>Dai</span><span class=\"crypto-symbol\">DAI</span></a></td><td>$<!-- -->1.00</td><td colspan=\"100\"></td></tr>,\n",
       " <tr class=\"sc-240ce903-0 iPeVVh\"><td></td><td></td><td><a class=\"cmc-link\" href=\"/currencies/aave/\"><span class=\"circle\"></span><span>Aave</span><span class=\"crypto-symbol\">AAVE</span></a></td><td>$<!-- -->348.55</td><td colspan=\"100\"></td></tr>,\n",
       " <tr class=\"sc-240ce903-0 iPeVVh\"><td></td><td></td><td><a class=\"cmc-link\" href=\"/currencies/aptos/\"><span class=\"circle\"></span><span>Aptos</span><span class=\"crypto-symbol\">APT</span></a></td><td>$<!-- -->9.25</td><td colspan=\"100\"></td></tr>,\n",
       " <tr class=\"sc-240ce903-0 iPeVVh\"><td></td><td></td><td><a class=\"cmc-link\" href=\"/currencies/internet-computer/\"><span class=\"circle\"></span><span>Internet Computer</span><span class=\"crypto-symbol\">ICP</span></a></td><td>$<!-- -->10.77</td><td colspan=\"100\"></td></tr>,\n",
       " <tr class=\"sc-240ce903-0 iPeVVh\"><td></td><td></td><td><a class=\"cmc-link\" href=\"/currencies/polygon-ecosystem-token/\"><span class=\"circle\"></span><span>POL (ex-MATIC)</span><span class=\"crypto-symbol\">POL</span></a></td><td>$<!-- -->0.50</td><td colspan=\"100\"></td></tr>,\n",
       " <tr class=\"sc-240ce903-0 iPeVVh\"><td></td><td></td><td><a class=\"cmc-link\" href=\"/currencies/cronos/\"><span class=\"circle\"></span><span>Cronos</span><span class=\"crypto-symbol\">CRO</span></a></td><td>$<!-- -->0.15</td><td colspan=\"100\"></td></tr>,\n",
       " <tr class=\"sc-240ce903-0 iPeVVh\"><td></td><td></td><td><a class=\"cmc-link\" href=\"/currencies/mantle/\"><span class=\"circle\"></span><span>Mantle</span><span class=\"crypto-symbol\">MNT</span></a></td><td>$<!-- -->1.21</td><td colspan=\"100\"></td></tr>,\n",
       " <tr class=\"sc-240ce903-0 iPeVVh\"><td></td><td></td><td><a class=\"cmc-link\" href=\"/currencies/ethereum-classic/\"><span class=\"circle\"></span><span>Ethereum Classic</span><span class=\"crypto-symbol\">ETC</span></a></td><td>$<!-- -->27.10</td><td colspan=\"100\"></td></tr>,\n",
       " <tr class=\"sc-240ce903-0 iPeVVh\"><td></td><td></td><td><a class=\"cmc-link\" href=\"/currencies/vechain/\"><span class=\"circle\"></span><span>VeChain</span><span class=\"crypto-symbol\">VET</span></a></td><td>$<!-- -->0.05</td><td colspan=\"100\"></td></tr>,\n",
       " <tr class=\"sc-240ce903-0 iPeVVh\"><td></td><td></td><td><a class=\"cmc-link\" href=\"/currencies/render/\"><span class=\"circle\"></span><span>Render</span><span class=\"crypto-symbol\">RENDER</span></a></td><td>$<!-- -->7.50</td><td colspan=\"100\"></td></tr>,\n",
       " <tr class=\"sc-240ce903-0 iPeVVh\"><td></td><td></td><td><a class=\"cmc-link\" href=\"/currencies/bittensor/\"><span class=\"circle\"></span><span>Bittensor</span><span class=\"crypto-symbol\">TAO</span></a></td><td>$<!-- -->490.47</td><td colspan=\"100\"></td></tr>,\n",
       " <tr class=\"sc-240ce903-0 iPeVVh\"><td></td><td></td><td><a class=\"cmc-link\" href=\"/currencies/monero/\"><span class=\"circle\"></span><span>Monero</span><span class=\"crypto-symbol\">XMR</span></a></td><td>$<!-- -->191.89</td><td colspan=\"100\"></td></tr>,\n",
       " <tr class=\"sc-240ce903-0 iPeVVh\"><td></td><td></td><td><a class=\"cmc-link\" href=\"/currencies/mantra/\"><span class=\"circle\"></span><span>MANTRA</span><span class=\"crypto-symbol\">OM</span></a></td><td>$<!-- -->3.69</td><td colspan=\"100\"></td></tr>,\n",
       " <tr class=\"sc-240ce903-0 iPeVVh\"><td></td><td></td><td><a class=\"cmc-link\" href=\"/currencies/arbitrum/\"><span class=\"circle\"></span><span>Arbitrum</span><span class=\"crypto-symbol\">ARB</span></a></td><td>$<!-- -->0.79</td><td colspan=\"100\"></td></tr>,\n",
       " <tr class=\"sc-240ce903-0 iPeVVh\"><td></td><td></td><td><a class=\"cmc-link\" href=\"/currencies/artificial-superintelligence-alliance/\"><span class=\"circle\"></span><span>Artificial Superintelligence Alliance</span><span class=\"crypto-symbol\">FET</span></a></td><td>$<!-- -->1.34</td><td colspan=\"100\"></td></tr>,\n",
       " <tr class=\"sc-240ce903-0 iPeVVh\"><td></td><td></td><td><a class=\"cmc-link\" href=\"/currencies/filecoin/\"><span class=\"circle\"></span><span>Filecoin</span><span class=\"crypto-symbol\">FIL</span></a></td><td>$<!-- -->5.18</td><td colspan=\"100\"></td></tr>,\n",
       " <tr class=\"sc-240ce903-0 iPeVVh\"><td></td><td></td><td><a class=\"cmc-link\" href=\"/currencies/virtual-protocol/\"><span class=\"circle\"></span><span>Virtuals Protocol</span><span class=\"crypto-symbol\">VIRTUAL</span></a></td><td>$<!-- -->3.14</td><td colspan=\"100\"></td></tr>,\n",
       " <tr class=\"sc-240ce903-0 iPeVVh\"><td></td><td></td><td><a class=\"cmc-link\" href=\"/currencies/okb/\"><span class=\"circle\"></span><span>OKB</span><span class=\"crypto-symbol\">OKB</span></a></td><td>$<!-- -->51.13</td><td colspan=\"100\"></td></tr>,\n",
       " <tr class=\"sc-240ce903-0 iPeVVh\"><td></td><td></td><td><a class=\"cmc-link\" href=\"/currencies/algorand/\"><span class=\"circle\"></span><span>Algorand</span><span class=\"crypto-symbol\">ALGO</span></a></td><td>$<!-- -->0.37</td><td colspan=\"100\"></td></tr>,\n",
       " <tr class=\"sc-240ce903-0 iPeVVh\"><td></td><td></td><td><a class=\"cmc-link\" href=\"/currencies/kaspa/\"><span class=\"circle\"></span><span>Kaspa</span><span class=\"crypto-symbol\">KAS</span></a></td><td>$<!-- -->0.12</td><td colspan=\"100\"></td></tr>,\n",
       " <tr class=\"sc-240ce903-0 iPeVVh\"><td></td><td></td><td><a class=\"cmc-link\" href=\"/currencies/ethena/\"><span class=\"circle\"></span><span>Ethena</span><span class=\"crypto-symbol\">ENA</span></a></td><td>$<!-- -->0.99</td><td colspan=\"100\"></td></tr>,\n",
       " <tr class=\"sc-240ce903-0 iPeVVh\"><td></td><td></td><td><a class=\"cmc-link\" href=\"/currencies/cosmos/\"><span class=\"circle\"></span><span>Cosmos</span><span class=\"crypto-symbol\">ATOM</span></a></td><td>$<!-- -->6.77</td><td colspan=\"100\"></td></tr>,\n",
       " <tr class=\"sc-240ce903-0 iPeVVh\"><td></td><td></td><td><a class=\"cmc-link\" href=\"/currencies/fantom/\"><span class=\"circle\"></span><span>Fantom</span><span class=\"crypto-symbol\">FTM</span></a></td><td>$<!-- -->0.91</td><td colspan=\"100\"></td></tr>,\n",
       " <tr class=\"sc-240ce903-0 iPeVVh\"><td></td><td></td><td><a class=\"cmc-link\" href=\"/currencies/optimism-ethereum/\"><span class=\"circle\"></span><span>Optimism</span><span class=\"crypto-symbol\">OP</span></a></td><td>$<!-- -->1.88</td><td colspan=\"100\"></td></tr>,\n",
       " <tr class=\"sc-240ce903-0 iPeVVh\"><td></td><td></td><td><a class=\"cmc-link\" href=\"/currencies/stacks/\"><span class=\"circle\"></span><span>Stacks</span><span class=\"crypto-symbol\">STX</span></a></td><td>$<!-- -->1.64</td><td colspan=\"100\"></td></tr>,\n",
       " <tr class=\"sc-240ce903-0 iPeVVh\"><td></td><td></td><td><a class=\"cmc-link\" href=\"/currencies/immutable-x/\"><span class=\"circle\"></span><span>Immutable</span><span class=\"crypto-symbol\">IMX</span></a></td><td>$<!-- -->1.43</td><td colspan=\"100\"></td></tr>,\n",
       " <tr class=\"sc-240ce903-0 iPeVVh\"><td></td><td></td><td><a class=\"cmc-link\" href=\"/currencies/bonk1/\"><span class=\"circle\"></span><span>Bonk</span><span class=\"crypto-symbol\">BONK</span></a></td><td>$<!-- -->0.00</td><td colspan=\"100\"></td></tr>,\n",
       " <tr class=\"sc-240ce903-0 iPeVVh\"><td></td><td></td><td><a class=\"cmc-link\" href=\"/currencies/celestia/\"><span class=\"circle\"></span><span>Celestia</span><span class=\"crypto-symbol\">TIA</span></a></td><td>$<!-- -->5.07</td><td colspan=\"100\"></td></tr>,\n",
       " <tr class=\"sc-240ce903-0 iPeVVh\"><td></td><td></td><td><a class=\"cmc-link\" href=\"/currencies/movement/\"><span class=\"circle\"></span><span>Movement</span><span class=\"crypto-symbol\">MOVE</span></a></td><td>$<!-- -->1.04</td><td colspan=\"100\"></td></tr>,\n",
       " <tr class=\"sc-240ce903-0 iPeVVh\"><td></td><td></td><td><a class=\"cmc-link\" href=\"/currencies/theta-network/\"><span class=\"circle\"></span><span>Theta Network</span><span class=\"crypto-symbol\">THETA</span></a></td><td>$<!-- -->2.31</td><td colspan=\"100\"></td></tr>,\n",
       " <tr class=\"sc-240ce903-0 iPeVVh\"><td></td><td></td><td><a class=\"cmc-link\" href=\"/currencies/pudgy-penguins/\"><span class=\"circle\"></span><span>Pudgy Penguins</span><span class=\"crypto-symbol\">PENGU</span></a></td><td>$<!-- -->0.04</td><td colspan=\"100\"></td></tr>,\n",
       " <tr class=\"sc-240ce903-0 iPeVVh\"><td></td><td></td><td><a class=\"cmc-link\" href=\"/currencies/first-digital-usd/\"><span class=\"circle\"></span><span>First Digital USD</span><span class=\"crypto-symbol\">FDUSD</span></a></td><td>$<!-- -->1.00</td><td colspan=\"100\"></td></tr>,\n",
       " <tr class=\"sc-240ce903-0 iPeVVh\"><td></td><td></td><td><a class=\"cmc-link\" href=\"/currencies/injective/\"><span class=\"circle\"></span><span>Injective</span><span class=\"crypto-symbol\">INJ</span></a></td><td>$<!-- -->21.98</td><td colspan=\"100\"></td></tr>,\n",
       " <tr class=\"sc-240ce903-0 iPeVVh\"><td></td><td></td><td><a class=\"cmc-link\" href=\"/currencies/ondo-finance/\"><span class=\"circle\"></span><span>Ondo</span><span class=\"crypto-symbol\">ONDO</span></a></td><td>$<!-- -->1.53</td><td colspan=\"100\"></td></tr>,\n",
       " <tr class=\"sc-240ce903-0 iPeVVh\"><td></td><td></td><td><a class=\"cmc-link\" href=\"/currencies/the-graph/\"><span class=\"circle\"></span><span>The Graph</span><span class=\"crypto-symbol\">GRT</span></a></td><td>$<!-- -->0.22</td><td colspan=\"100\"></td></tr>,\n",
       " <tr class=\"sc-240ce903-0 iPeVVh\"><td></td><td></td><td><a class=\"cmc-link\" href=\"/currencies/dogwifhat/\"><span class=\"circle\"></span><span>dogwifhat</span><span class=\"crypto-symbol\">WIF</span></a></td><td>$<!-- -->1.92</td><td colspan=\"100\"></td></tr>,\n",
       " <tr class=\"sc-240ce903-0 iPeVVh\"><td></td><td></td><td><a class=\"cmc-link\" href=\"/currencies/worldcoin-org/\"><span class=\"circle\"></span><span>Worldcoin</span><span class=\"crypto-symbol\">WLD</span></a></td><td>$<!-- -->2.30</td><td colspan=\"100\"></td></tr>,\n",
       " <tr class=\"sc-240ce903-0 iPeVVh\"><td></td><td></td><td><a class=\"cmc-link\" href=\"/currencies/sei/\"><span class=\"circle\"></span><span>Sei</span><span class=\"crypto-symbol\">SEI</span></a></td><td>$<!-- -->0.44</td><td colspan=\"100\"></td></tr>,\n",
       " <tr class=\"sc-240ce903-0 iPeVVh\"><td></td><td></td><td><a class=\"cmc-link\" href=\"/currencies/jasmy/\"><span class=\"circle\"></span><span>JasmyCoin</span><span class=\"crypto-symbol\">JASMY</span></a></td><td>$<!-- -->0.04</td><td colspan=\"100\"></td></tr>,\n",
       " <tr class=\"sc-240ce903-0 iPeVVh\"><td></td><td></td><td><a class=\"cmc-link\" href=\"/currencies/thorchain/\"><span class=\"circle\"></span><span>THORChain</span><span class=\"crypto-symbol\">RUNE</span></a></td><td>$<!-- -->5.11</td><td colspan=\"100\"></td></tr>,\n",
       " <tr class=\"sc-240ce903-0 iPeVVh\"><td></td><td></td><td><a class=\"cmc-link\" href=\"/currencies/floki-inu/\"><span class=\"circle\"></span><span>FLOKI</span><span class=\"crypto-symbol\">FLOKI</span></a></td><td>$<!-- -->0.00</td><td colspan=\"100\"></td></tr>,\n",
       " <tr class=\"sc-240ce903-0 iPeVVh\"><td></td><td></td><td><a class=\"cmc-link\" href=\"/currencies/lido-dao/\"><span class=\"circle\"></span><span>Lido DAO</span><span class=\"crypto-symbol\">LDO</span></a></td><td>$<!-- -->1.92</td><td colspan=\"100\"></td></tr>,\n",
       " <tr class=\"sc-240ce903-0 iPeVVh\"><td></td><td></td><td><a class=\"cmc-link\" href=\"/currencies/flare/\"><span class=\"circle\"></span><span>Flare</span><span class=\"crypto-symbol\">FLR</span></a></td><td>$<!-- -->0.03</td><td colspan=\"100\"></td></tr>,\n",
       " <tr class=\"sc-240ce903-0 iPeVVh\"><td></td><td></td><td><a class=\"cmc-link\" href=\"/currencies/raydium/\"><span class=\"circle\"></span><span>Raydium</span><span class=\"crypto-symbol\">RAY</span></a></td><td>$<!-- -->4.99</td><td colspan=\"100\"></td></tr>,\n",
       " <tr class=\"sc-240ce903-0 iPeVVh\"><td></td><td></td><td><a class=\"cmc-link\" href=\"/currencies/maker/\"><span class=\"circle\"></span><span>Maker</span><span class=\"crypto-symbol\">MKR</span></a></td><td>$<!-- -->1593.64</td><td colspan=\"100\"></td></tr>,\n",
       " <tr class=\"sc-240ce903-0 iPeVVh\"><td></td><td></td><td><a class=\"cmc-link\" href=\"/currencies/quant/\"><span class=\"circle\"></span><span>Quant</span><span class=\"crypto-symbol\">QNT</span></a></td><td>$<!-- -->117.21</td><td colspan=\"100\"></td></tr>,\n",
       " <tr class=\"sc-240ce903-0 iPeVVh\"><td></td><td></td><td><a class=\"cmc-link\" href=\"/currencies/onbeam/\"><span class=\"circle\"></span><span>Beam</span><span class=\"crypto-symbol\">BEAM</span></a></td><td>$<!-- -->0.03</td><td colspan=\"100\"></td></tr>,\n",
       " <tr class=\"sc-240ce903-0 iPeVVh\"><td></td><td></td><td><a class=\"cmc-link\" href=\"/currencies/tezos/\"><span class=\"circle\"></span><span>Tezos</span><span class=\"crypto-symbol\">XTZ</span></a></td><td>$<!-- -->1.38</td><td colspan=\"100\"></td></tr>,\n",
       " <tr class=\"sc-240ce903-0 iPeVVh\"><td></td><td></td><td><a class=\"cmc-link\" href=\"/currencies/the-sandbox/\"><span class=\"circle\"></span><span>The Sandbox</span><span class=\"crypto-symbol\">SAND</span></a></td><td>$<!-- -->0.58</td><td colspan=\"100\"></td></tr>,\n",
       " <tr class=\"sc-240ce903-0 iPeVVh\"><td></td><td></td><td><a class=\"cmc-link\" href=\"/currencies/pyth-network/\"><span class=\"circle\"></span><span>Pyth Network</span><span class=\"crypto-symbol\">PYTH</span></a></td><td>$<!-- -->0.38</td><td colspan=\"100\"></td></tr>,\n",
       " <tr class=\"sc-240ce903-0 iPeVVh\"><td></td><td></td><td><a class=\"cmc-link\" href=\"/currencies/gala/\"><span class=\"circle\"></span><span>Gala</span><span class=\"crypto-symbol\">GALA</span></a></td><td>$<!-- -->0.04</td><td colspan=\"100\"></td></tr>,\n",
       " <tr class=\"sc-240ce903-0 iPeVVh\"><td></td><td></td><td><a class=\"cmc-link\" href=\"/currencies/gatetoken/\"><span class=\"circle\"></span><span>GateToken</span><span class=\"crypto-symbol\">GT</span></a></td><td>$<!-- -->15.57</td><td colspan=\"100\"></td></tr>,\n",
       " <tr class=\"sc-240ce903-0 iPeVVh\"><td></td><td></td><td><a class=\"cmc-link\" href=\"/currencies/based-brett/\"><span class=\"circle\"></span><span>Brett (Based)</span><span class=\"crypto-symbol\">BRETT</span></a></td><td>$<!-- -->0.13</td><td colspan=\"100\"></td></tr>,\n",
       " <tr class=\"sc-240ce903-0 iPeVVh\"><td></td><td></td><td><a class=\"cmc-link\" href=\"/currencies/kucoin-token/\"><span class=\"circle\"></span><span>KuCoin Token</span><span class=\"crypto-symbol\">KCS</span></a></td><td>$<!-- -->10.94</td><td colspan=\"100\"></td></tr>,\n",
       " <tr class=\"sc-240ce903-0 iPeVVh\"><td></td><td></td><td><a class=\"cmc-link\" href=\"/currencies/kaia/\"><span class=\"circle\"></span><span>Kaia</span><span class=\"crypto-symbol\">KAIA</span></a></td><td>$<!-- -->0.22</td><td colspan=\"100\"></td></tr>,\n",
       " <tr class=\"sc-240ce903-0 iPeVVh\"><td></td><td></td><td><a class=\"cmc-link\" href=\"/currencies/curve-dao-token/\"><span class=\"circle\"></span><span>Curve DAO Token</span><span class=\"crypto-symbol\">CRV</span></a></td><td>$<!-- -->1.00</td><td colspan=\"100\"></td></tr>,\n",
       " <tr class=\"sc-240ce903-0 iPeVVh\"><td></td><td></td><td><a class=\"cmc-link\" href=\"/currencies/eos/\"><span class=\"circle\"></span><span>EOS</span><span class=\"crypto-symbol\">EOS</span></a></td><td>$<!-- -->0.82</td><td colspan=\"100\"></td></tr>,\n",
       " <tr class=\"sc-240ce903-0 iPeVVh\"><td></td><td></td><td><a class=\"cmc-link\" href=\"/currencies/ethereum-name-service/\"><span class=\"circle\"></span><span>Ethereum Name Service</span><span class=\"crypto-symbol\">ENS</span></a></td><td>$<!-- -->35.47</td><td colspan=\"100\"></td></tr>,\n",
       " <tr class=\"sc-240ce903-0 iPeVVh\"><td></td><td></td><td><a class=\"cmc-link\" href=\"/currencies/helium/\"><span class=\"circle\"></span><span>Helium</span><span class=\"crypto-symbol\">HNT</span></a></td><td>$<!-- -->7.02</td><td colspan=\"100\"></td></tr>,\n",
       " <tr class=\"sc-240ce903-0 iPeVVh\"><td></td><td></td><td><a class=\"cmc-link\" href=\"/currencies/ftx-token/\"><span class=\"circle\"></span><span>FTX Token</span><span class=\"crypto-symbol\">FTT</span></a></td><td>$<!-- -->3.68</td><td colspan=\"100\"></td></tr>,\n",
       " <tr class=\"sc-240ce903-0 iPeVVh\"><td></td><td></td><td><a class=\"cmc-link\" href=\"/currencies/dydx-chain/\"><span class=\"circle\"></span><span>dYdX (Native)</span><span class=\"crypto-symbol\">DYDX</span></a></td><td>$<!-- -->1.63</td><td colspan=\"100\"></td></tr>,\n",
       " <tr class=\"sc-240ce903-0 iPeVVh\"><td></td><td></td><td><a class=\"cmc-link\" href=\"/currencies/jupiter-ag/\"><span class=\"circle\"></span><span>Jupiter</span><span class=\"crypto-symbol\">JUP</span></a></td><td>$<!-- -->0.86</td><td colspan=\"100\"></td></tr>,\n",
       " <tr class=\"sc-240ce903-0 iPeVVh\"><td></td><td></td><td><a class=\"cmc-link\" href=\"/currencies/flow/\"><span class=\"circle\"></span><span>Flow</span><span class=\"crypto-symbol\">FLOW</span></a></td><td>$<!-- -->0.74</td><td colspan=\"100\"></td></tr>,\n",
       " <tr class=\"sc-240ce903-0 iPeVVh\"><td></td><td></td><td><a class=\"cmc-link\" href=\"/currencies/xdc-network/\"><span class=\"circle\"></span><span>XDC Network</span><span class=\"crypto-symbol\">XDC</span></a></td><td>$<!-- -->0.08</td><td colspan=\"100\"></td></tr>,\n",
       " <tr class=\"sc-240ce903-0 iPeVVh\"><td></td><td></td><td><a class=\"cmc-link\" href=\"/currencies/aerodrome-finance/\"><span class=\"circle\"></span><span>Aerodrome Finance</span><span class=\"crypto-symbol\">AERO</span></a></td><td>$<!-- -->1.56</td><td colspan=\"100\"></td></tr>,\n",
       " <tr class=\"sc-240ce903-0 iPeVVh\"><td></td><td></td><td><a class=\"cmc-link\" href=\"/currencies/arweave/\"><span class=\"circle\"></span><span>Arweave</span><span class=\"crypto-symbol\">AR</span></a></td><td>$<!-- -->17.17</td><td colspan=\"100\"></td></tr>,\n",
       " <tr class=\"sc-240ce903-0 iPeVVh\"><td></td><td></td><td><a class=\"cmc-link\" href=\"/currencies/iota/\"><span class=\"circle\"></span><span>IOTA</span><span class=\"crypto-symbol\">IOTA</span></a></td><td>$<!-- -->0.31</td><td colspan=\"100\"></td></tr>,\n",
       " <tr class=\"sc-240ce903-0 iPeVVh\"><td></td><td></td><td><a class=\"cmc-link\" href=\"/currencies/starknet-token/\"><span class=\"circle\"></span><span>Starknet</span><span class=\"crypto-symbol\">STRK</span></a></td><td>$<!-- -->0.49</td><td colspan=\"100\"></td></tr>,\n",
       " <tr class=\"sc-240ce903-0 iPeVVh\"><td></td><td></td><td><a class=\"cmc-link\" href=\"/currencies/zcash/\"><span class=\"circle\"></span><span>Zcash</span><span class=\"crypto-symbol\">ZEC</span></a></td><td>$<!-- -->68.06</td><td colspan=\"100\"></td></tr>,\n",
       " <tr class=\"sc-240ce903-0 iPeVVh\"><td></td><td></td><td><a class=\"cmc-link\" href=\"/currencies/bitcoin-sv/\"><span class=\"circle\"></span><span>Bitcoin SV</span><span class=\"crypto-symbol\">BSV</span></a></td><td>$<!-- -->54.83</td><td colspan=\"100\"></td></tr>,\n",
       " <tr class=\"sc-240ce903-0 iPeVVh\"><td></td><td></td><td><a class=\"cmc-link\" href=\"/currencies/bittorrent-new/\"><span class=\"circle\"></span><span>BitTorrent [New]</span><span class=\"crypto-symbol\">BTT</span></a></td><td>$<!-- -->0.00</td><td colspan=\"100\"></td></tr>,\n",
       " <tr class=\"sc-240ce903-0 iPeVVh\"><td></td><td></td><td><a class=\"cmc-link\" href=\"/currencies/core-dao/\"><span class=\"circle\"></span><span>Core</span><span class=\"crypto-symbol\">CORE</span></a></td><td>$<!-- -->1.15</td><td colspan=\"100\"></td></tr>,\n",
       " <tr class=\"sc-240ce903-0 iPeVVh\"><td></td><td></td><td><a class=\"cmc-link\" href=\"/currencies/fartcoin/\"><span class=\"circle\"></span><span>Fartcoin</span><span class=\"crypto-symbol\">FARTCOIN</span></a></td><td>$<!-- -->1.05</td><td colspan=\"100\"></td></tr>]"
      ]
     },
     "execution_count": 18,
     "metadata": {},
     "output_type": "execute_result"
    }
   ],
   "source": [
    "list(trs[1].next_siblings)  #multiple siblings"
   ]
  },
  {
   "cell_type": "code",
   "execution_count": 20,
   "id": "5e81ed9f-b731-406b-9f2f-254b8c1c1d96",
   "metadata": {
    "tags": []
   },
   "outputs": [
    {
     "data": {
      "text/plain": [
       "'tbody'"
      ]
     },
     "execution_count": 20,
     "metadata": {},
     "output_type": "execute_result"
    }
   ],
   "source": [
    "trs[0].parent.name"
   ]
  },
  {
   "cell_type": "code",
   "execution_count": 21,
   "id": "1f92b34d-0ab5-46b0-a438-90df8df9652a",
   "metadata": {
    "tags": []
   },
   "outputs": [
    {
     "data": {
      "text/plain": [
       "<generator object Tag.descendants at 0x157bbfae0>"
      ]
     },
     "execution_count": 21,
     "metadata": {},
     "output_type": "execute_result"
    }
   ],
   "source": [
    "trs[0].descendants"
   ]
  },
  {
   "cell_type": "code",
   "execution_count": 22,
   "id": "d6160927-a14a-4bb3-a928-f720070eca90",
   "metadata": {
    "tags": []
   },
   "outputs": [
    {
     "data": {
      "text/plain": [
       "[<td><span class=\"tooltip tooltip-right\" data-text=\"Add to Main Watchlist\"><span class=\"icon-Star\" style=\"color:var(--color-light-neutral-4)\"></span></span></td>,\n",
       " <span class=\"tooltip tooltip-right\" data-text=\"Add to Main Watchlist\"><span class=\"icon-Star\" style=\"color:var(--color-light-neutral-4)\"></span></span>,\n",
       " <span class=\"icon-Star\" style=\"color:var(--color-light-neutral-4)\"></span>,\n",
       " <td style=\"text-align:start\"><p class=\"sc-71024e3e-0 jBOvmG\" color=\"text2\" data-sensors-click=\"true\" font-size=\"14\">1</p></td>,\n",
       " <p class=\"sc-71024e3e-0 jBOvmG\" color=\"text2\" data-sensors-click=\"true\" font-size=\"14\">1</p>,\n",
       " '1',\n",
       " <td style=\"text-align:start\"><div class=\"sc-4c05d6ef-0 bLqliP\" display=\"flex\"><a class=\"cmc-link\" href=\"/currencies/bitcoin/\"><div class=\"sc-65e7f566-0 sc-e8147118-0 eQBACe dxqfPq\" data-sensors-click=\"true\"><img alt=\"BTC logo\" class=\"coin-logo\" decoding=\"async\" fetchpriority=\"low\" loading=\"lazy\" src=\"https://s2.coinmarketcap.com/static/img/coins/64x64/1.png\"/><div class=\"sc-65e7f566-0 sc-e8147118-1 eQBACe jtrNaf\"><div class=\"sc-65e7f566-0 sc-e8147118-2 eQBACe beGxzp hide-ranking-number\"><p class=\"sc-65e7f566-0 iPbTJf coin-item-name\">Bitcoin</p><div class=\"sc-e8147118-3 jcakMR\" data-nosnippet=\"true\"><p class=\"sc-65e7f566-0 byYAWx coin-item-symbol\">BTC</p></div></div></div></div></a></div></td>,\n",
       " <div class=\"sc-4c05d6ef-0 bLqliP\" display=\"flex\"><a class=\"cmc-link\" href=\"/currencies/bitcoin/\"><div class=\"sc-65e7f566-0 sc-e8147118-0 eQBACe dxqfPq\" data-sensors-click=\"true\"><img alt=\"BTC logo\" class=\"coin-logo\" decoding=\"async\" fetchpriority=\"low\" loading=\"lazy\" src=\"https://s2.coinmarketcap.com/static/img/coins/64x64/1.png\"/><div class=\"sc-65e7f566-0 sc-e8147118-1 eQBACe jtrNaf\"><div class=\"sc-65e7f566-0 sc-e8147118-2 eQBACe beGxzp hide-ranking-number\"><p class=\"sc-65e7f566-0 iPbTJf coin-item-name\">Bitcoin</p><div class=\"sc-e8147118-3 jcakMR\" data-nosnippet=\"true\"><p class=\"sc-65e7f566-0 byYAWx coin-item-symbol\">BTC</p></div></div></div></div></a></div>,\n",
       " <a class=\"cmc-link\" href=\"/currencies/bitcoin/\"><div class=\"sc-65e7f566-0 sc-e8147118-0 eQBACe dxqfPq\" data-sensors-click=\"true\"><img alt=\"BTC logo\" class=\"coin-logo\" decoding=\"async\" fetchpriority=\"low\" loading=\"lazy\" src=\"https://s2.coinmarketcap.com/static/img/coins/64x64/1.png\"/><div class=\"sc-65e7f566-0 sc-e8147118-1 eQBACe jtrNaf\"><div class=\"sc-65e7f566-0 sc-e8147118-2 eQBACe beGxzp hide-ranking-number\"><p class=\"sc-65e7f566-0 iPbTJf coin-item-name\">Bitcoin</p><div class=\"sc-e8147118-3 jcakMR\" data-nosnippet=\"true\"><p class=\"sc-65e7f566-0 byYAWx coin-item-symbol\">BTC</p></div></div></div></div></a>,\n",
       " <div class=\"sc-65e7f566-0 sc-e8147118-0 eQBACe dxqfPq\" data-sensors-click=\"true\"><img alt=\"BTC logo\" class=\"coin-logo\" decoding=\"async\" fetchpriority=\"low\" loading=\"lazy\" src=\"https://s2.coinmarketcap.com/static/img/coins/64x64/1.png\"/><div class=\"sc-65e7f566-0 sc-e8147118-1 eQBACe jtrNaf\"><div class=\"sc-65e7f566-0 sc-e8147118-2 eQBACe beGxzp hide-ranking-number\"><p class=\"sc-65e7f566-0 iPbTJf coin-item-name\">Bitcoin</p><div class=\"sc-e8147118-3 jcakMR\" data-nosnippet=\"true\"><p class=\"sc-65e7f566-0 byYAWx coin-item-symbol\">BTC</p></div></div></div></div>,\n",
       " <img alt=\"BTC logo\" class=\"coin-logo\" decoding=\"async\" fetchpriority=\"low\" loading=\"lazy\" src=\"https://s2.coinmarketcap.com/static/img/coins/64x64/1.png\"/>,\n",
       " <div class=\"sc-65e7f566-0 sc-e8147118-1 eQBACe jtrNaf\"><div class=\"sc-65e7f566-0 sc-e8147118-2 eQBACe beGxzp hide-ranking-number\"><p class=\"sc-65e7f566-0 iPbTJf coin-item-name\">Bitcoin</p><div class=\"sc-e8147118-3 jcakMR\" data-nosnippet=\"true\"><p class=\"sc-65e7f566-0 byYAWx coin-item-symbol\">BTC</p></div></div></div>,\n",
       " <div class=\"sc-65e7f566-0 sc-e8147118-2 eQBACe beGxzp hide-ranking-number\"><p class=\"sc-65e7f566-0 iPbTJf coin-item-name\">Bitcoin</p><div class=\"sc-e8147118-3 jcakMR\" data-nosnippet=\"true\"><p class=\"sc-65e7f566-0 byYAWx coin-item-symbol\">BTC</p></div></div>,\n",
       " <p class=\"sc-65e7f566-0 iPbTJf coin-item-name\">Bitcoin</p>,\n",
       " 'Bitcoin',\n",
       " <div class=\"sc-e8147118-3 jcakMR\" data-nosnippet=\"true\"><p class=\"sc-65e7f566-0 byYAWx coin-item-symbol\">BTC</p></div>,\n",
       " <p class=\"sc-65e7f566-0 byYAWx coin-item-symbol\">BTC</p>,\n",
       " 'BTC',\n",
       " <td style=\"text-align:end\"><div class=\"sc-b3fc6b7-0 dzgUIj\"><span>$96,811.33</span></div></td>,\n",
       " <div class=\"sc-b3fc6b7-0 dzgUIj\"><span>$96,811.33</span></div>,\n",
       " <span>$96,811.33</span>,\n",
       " '$96,811.33',\n",
       " <td style=\"text-align:end\"><span class=\"sc-a59753b0-0 cmnujh\"><span class=\"icon-Caret-up\" style=\"width:12px;height:18px;display:inline-block\"></span>0.81%</span></td>,\n",
       " <span class=\"sc-a59753b0-0 cmnujh\"><span class=\"icon-Caret-up\" style=\"width:12px;height:18px;display:inline-block\"></span>0.81%</span>,\n",
       " <span class=\"icon-Caret-up\" style=\"width:12px;height:18px;display:inline-block\"></span>,\n",
       " '0.81%',\n",
       " <td style=\"text-align:end\"><span class=\"sc-a59753b0-0 cmnujh\"><span class=\"icon-Caret-up\" style=\"width:12px;height:18px;display:inline-block\"></span>1.39%</span></td>,\n",
       " <span class=\"sc-a59753b0-0 cmnujh\"><span class=\"icon-Caret-up\" style=\"width:12px;height:18px;display:inline-block\"></span>1.39%</span>,\n",
       " <span class=\"icon-Caret-up\" style=\"width:12px;height:18px;display:inline-block\"></span>,\n",
       " '1.39%',\n",
       " <td style=\"text-align:end\"><span class=\"sc-a59753b0-0 cmnujh\"><span class=\"icon-Caret-up\" style=\"width:12px;height:18px;display:inline-block\"></span>1.84%</span></td>,\n",
       " <span class=\"sc-a59753b0-0 cmnujh\"><span class=\"icon-Caret-up\" style=\"width:12px;height:18px;display:inline-block\"></span>1.84%</span>,\n",
       " <span class=\"icon-Caret-up\" style=\"width:12px;height:18px;display:inline-block\"></span>,\n",
       " '1.84%',\n",
       " <td style=\"text-align:end\"><p class=\"sc-71024e3e-0 bbHOdE\" color=\"text\" data-sensors-click=\"true\" font-size=\"1\" style=\"white-space:nowrap\"><span class=\"sc-11478e5d-0 chpohi\">$1.92T</span><span class=\"sc-11478e5d-1 jfwGHx\" data-nosnippet=\"true\">$1,918,623,913,733</span></p></td>,\n",
       " <p class=\"sc-71024e3e-0 bbHOdE\" color=\"text\" data-sensors-click=\"true\" font-size=\"1\" style=\"white-space:nowrap\"><span class=\"sc-11478e5d-0 chpohi\">$1.92T</span><span class=\"sc-11478e5d-1 jfwGHx\" data-nosnippet=\"true\">$1,918,623,913,733</span></p>,\n",
       " <span class=\"sc-11478e5d-0 chpohi\">$1.92T</span>,\n",
       " '$1.92T',\n",
       " <span class=\"sc-11478e5d-1 jfwGHx\" data-nosnippet=\"true\">$1,918,623,913,733</span>,\n",
       " '$1,918,623,913,733',\n",
       " <td style=\"text-align:end\"><div class=\"sc-4c05d6ef-0 sc-97d9abce-0 dlQYLv bJRjhz\"><a class=\"cmc-link\" href=\"/currencies/bitcoin/#markets\"><p class=\"sc-71024e3e-0 bbHOdE font_weight_500\" color=\"text\" data-sensors-click=\"true\" font-size=\"1\">$47,638,211,436</p></a><div data-nosnippet=\"true\"><p class=\"sc-71024e3e-0 hbcVUE\" color=\"text2\" data-sensors-click=\"true\" font-size=\"0\">491,666 BTC</p></div></div></td>,\n",
       " <div class=\"sc-4c05d6ef-0 sc-97d9abce-0 dlQYLv bJRjhz\"><a class=\"cmc-link\" href=\"/currencies/bitcoin/#markets\"><p class=\"sc-71024e3e-0 bbHOdE font_weight_500\" color=\"text\" data-sensors-click=\"true\" font-size=\"1\">$47,638,211,436</p></a><div data-nosnippet=\"true\"><p class=\"sc-71024e3e-0 hbcVUE\" color=\"text2\" data-sensors-click=\"true\" font-size=\"0\">491,666 BTC</p></div></div>,\n",
       " <a class=\"cmc-link\" href=\"/currencies/bitcoin/#markets\"><p class=\"sc-71024e3e-0 bbHOdE font_weight_500\" color=\"text\" data-sensors-click=\"true\" font-size=\"1\">$47,638,211,436</p></a>,\n",
       " <p class=\"sc-71024e3e-0 bbHOdE font_weight_500\" color=\"text\" data-sensors-click=\"true\" font-size=\"1\">$47,638,211,436</p>,\n",
       " '$47,638,211,436',\n",
       " <div data-nosnippet=\"true\"><p class=\"sc-71024e3e-0 hbcVUE\" color=\"text2\" data-sensors-click=\"true\" font-size=\"0\">491,666 BTC</p></div>,\n",
       " <p class=\"sc-71024e3e-0 hbcVUE\" color=\"text2\" data-sensors-click=\"true\" font-size=\"0\">491,666 BTC</p>,\n",
       " '491,666 BTC',\n",
       " <td style=\"text-align:end\"><div class=\"sc-4c05d6ef-0 sc-552ef8b1-0 dlQYLv eOHbrv\" data-sensors-click=\"true\" style=\"cursor:pointer\"><div class=\"sc-4c05d6ef-0 sc-552ef8b1-1 dlQYLv klYCgG\"><p class=\"sc-71024e3e-0 hhmVNu\" color=\"text\" data-sensors-click=\"true\" font-size=\"1\" font-weight=\"medium\">19,801,778 BTC</p></div><div class=\"sc-c50b4d85-0 lmZKdT\" data-sensors-click=\"true\" height=\"4\" width=\"160\"><div class=\"sc-c50b4d85-1 cKQRrC\" height=\"4\" width=\"151\"></div></div></div></td>,\n",
       " <div class=\"sc-4c05d6ef-0 sc-552ef8b1-0 dlQYLv eOHbrv\" data-sensors-click=\"true\" style=\"cursor:pointer\"><div class=\"sc-4c05d6ef-0 sc-552ef8b1-1 dlQYLv klYCgG\"><p class=\"sc-71024e3e-0 hhmVNu\" color=\"text\" data-sensors-click=\"true\" font-size=\"1\" font-weight=\"medium\">19,801,778 BTC</p></div><div class=\"sc-c50b4d85-0 lmZKdT\" data-sensors-click=\"true\" height=\"4\" width=\"160\"><div class=\"sc-c50b4d85-1 cKQRrC\" height=\"4\" width=\"151\"></div></div></div>,\n",
       " <div class=\"sc-4c05d6ef-0 sc-552ef8b1-1 dlQYLv klYCgG\"><p class=\"sc-71024e3e-0 hhmVNu\" color=\"text\" data-sensors-click=\"true\" font-size=\"1\" font-weight=\"medium\">19,801,778 BTC</p></div>,\n",
       " <p class=\"sc-71024e3e-0 hhmVNu\" color=\"text\" data-sensors-click=\"true\" font-size=\"1\" font-weight=\"medium\">19,801,778 BTC</p>,\n",
       " '19,801,778 BTC',\n",
       " <div class=\"sc-c50b4d85-0 lmZKdT\" data-sensors-click=\"true\" height=\"4\" width=\"160\"><div class=\"sc-c50b4d85-1 cKQRrC\" height=\"4\" width=\"151\"></div></div>,\n",
       " <div class=\"sc-c50b4d85-1 cKQRrC\" height=\"4\" width=\"151\"></div>,\n",
       " <td style=\"text-align:end\"><img alt=\"bitcoin-7d-price-graph\" class=\"sc-936354b2-0 fYKKcN isUp\" loading=\"lazy\" src=\"https://s3.coinmarketcap.com/generated/sparklines/web/7d/2781/1.svg\"/></td>,\n",
       " <img alt=\"bitcoin-7d-price-graph\" class=\"sc-936354b2-0 fYKKcN isUp\" loading=\"lazy\" src=\"https://s3.coinmarketcap.com/generated/sparklines/web/7d/2781/1.svg\"/>]"
      ]
     },
     "execution_count": 22,
     "metadata": {},
     "output_type": "execute_result"
    }
   ],
   "source": [
    "list(trs[0].descendants)"
   ]
  },
  {
   "cell_type": "code",
   "execution_count": 23,
   "id": "eb7f6240-cb95-47c0-a869-540ac085c05a",
   "metadata": {
    "tags": []
   },
   "outputs": [
    {
     "data": {
      "text/plain": [
       "[<td><span class=\"tooltip tooltip-right\" data-text=\"Add to Main Watchlist\"><span class=\"icon-Star\" style=\"color:var(--color-light-neutral-4)\"></span></span></td>,\n",
       " <td style=\"text-align:start\"><p class=\"sc-71024e3e-0 jBOvmG\" color=\"text2\" data-sensors-click=\"true\" font-size=\"14\">1</p></td>,\n",
       " <td style=\"text-align:start\"><div class=\"sc-4c05d6ef-0 bLqliP\" display=\"flex\"><a class=\"cmc-link\" href=\"/currencies/bitcoin/\"><div class=\"sc-65e7f566-0 sc-e8147118-0 eQBACe dxqfPq\" data-sensors-click=\"true\"><img alt=\"BTC logo\" class=\"coin-logo\" decoding=\"async\" fetchpriority=\"low\" loading=\"lazy\" src=\"https://s2.coinmarketcap.com/static/img/coins/64x64/1.png\"/><div class=\"sc-65e7f566-0 sc-e8147118-1 eQBACe jtrNaf\"><div class=\"sc-65e7f566-0 sc-e8147118-2 eQBACe beGxzp hide-ranking-number\"><p class=\"sc-65e7f566-0 iPbTJf coin-item-name\">Bitcoin</p><div class=\"sc-e8147118-3 jcakMR\" data-nosnippet=\"true\"><p class=\"sc-65e7f566-0 byYAWx coin-item-symbol\">BTC</p></div></div></div></div></a></div></td>,\n",
       " <td style=\"text-align:end\"><div class=\"sc-b3fc6b7-0 dzgUIj\"><span>$96,811.33</span></div></td>,\n",
       " <td style=\"text-align:end\"><span class=\"sc-a59753b0-0 cmnujh\"><span class=\"icon-Caret-up\" style=\"width:12px;height:18px;display:inline-block\"></span>0.81%</span></td>,\n",
       " <td style=\"text-align:end\"><span class=\"sc-a59753b0-0 cmnujh\"><span class=\"icon-Caret-up\" style=\"width:12px;height:18px;display:inline-block\"></span>1.39%</span></td>,\n",
       " <td style=\"text-align:end\"><span class=\"sc-a59753b0-0 cmnujh\"><span class=\"icon-Caret-up\" style=\"width:12px;height:18px;display:inline-block\"></span>1.84%</span></td>,\n",
       " <td style=\"text-align:end\"><p class=\"sc-71024e3e-0 bbHOdE\" color=\"text\" data-sensors-click=\"true\" font-size=\"1\" style=\"white-space:nowrap\"><span class=\"sc-11478e5d-0 chpohi\">$1.92T</span><span class=\"sc-11478e5d-1 jfwGHx\" data-nosnippet=\"true\">$1,918,623,913,733</span></p></td>,\n",
       " <td style=\"text-align:end\"><div class=\"sc-4c05d6ef-0 sc-97d9abce-0 dlQYLv bJRjhz\"><a class=\"cmc-link\" href=\"/currencies/bitcoin/#markets\"><p class=\"sc-71024e3e-0 bbHOdE font_weight_500\" color=\"text\" data-sensors-click=\"true\" font-size=\"1\">$47,638,211,436</p></a><div data-nosnippet=\"true\"><p class=\"sc-71024e3e-0 hbcVUE\" color=\"text2\" data-sensors-click=\"true\" font-size=\"0\">491,666 BTC</p></div></div></td>,\n",
       " <td style=\"text-align:end\"><div class=\"sc-4c05d6ef-0 sc-552ef8b1-0 dlQYLv eOHbrv\" data-sensors-click=\"true\" style=\"cursor:pointer\"><div class=\"sc-4c05d6ef-0 sc-552ef8b1-1 dlQYLv klYCgG\"><p class=\"sc-71024e3e-0 hhmVNu\" color=\"text\" data-sensors-click=\"true\" font-size=\"1\" font-weight=\"medium\">19,801,778 BTC</p></div><div class=\"sc-c50b4d85-0 lmZKdT\" data-sensors-click=\"true\" height=\"4\" width=\"160\"><div class=\"sc-c50b4d85-1 cKQRrC\" height=\"4\" width=\"151\"></div></div></div></td>,\n",
       " <td style=\"text-align:end\"><img alt=\"bitcoin-7d-price-graph\" class=\"sc-936354b2-0 fYKKcN isUp\" loading=\"lazy\" src=\"https://s3.coinmarketcap.com/generated/sparklines/web/7d/2781/1.svg\"/></td>]"
      ]
     },
     "execution_count": 23,
     "metadata": {},
     "output_type": "execute_result"
    }
   ],
   "source": [
    "list(trs[0].contents)"
   ]
  },
  {
   "cell_type": "code",
   "execution_count": 24,
   "id": "7de42de3-94ce-45af-ad68-dbba82230c90",
   "metadata": {
    "tags": []
   },
   "outputs": [
    {
     "data": {
      "text/plain": [
       "[<td><span class=\"tooltip tooltip-right\" data-text=\"Add to Main Watchlist\"><span class=\"icon-Star\" style=\"color:var(--color-light-neutral-4)\"></span></span></td>,\n",
       " <td style=\"text-align:start\"><p class=\"sc-71024e3e-0 jBOvmG\" color=\"text2\" data-sensors-click=\"true\" font-size=\"14\">1</p></td>,\n",
       " <td style=\"text-align:start\"><div class=\"sc-4c05d6ef-0 bLqliP\" display=\"flex\"><a class=\"cmc-link\" href=\"/currencies/bitcoin/\"><div class=\"sc-65e7f566-0 sc-e8147118-0 eQBACe dxqfPq\" data-sensors-click=\"true\"><img alt=\"BTC logo\" class=\"coin-logo\" decoding=\"async\" fetchpriority=\"low\" loading=\"lazy\" src=\"https://s2.coinmarketcap.com/static/img/coins/64x64/1.png\"/><div class=\"sc-65e7f566-0 sc-e8147118-1 eQBACe jtrNaf\"><div class=\"sc-65e7f566-0 sc-e8147118-2 eQBACe beGxzp hide-ranking-number\"><p class=\"sc-65e7f566-0 iPbTJf coin-item-name\">Bitcoin</p><div class=\"sc-e8147118-3 jcakMR\" data-nosnippet=\"true\"><p class=\"sc-65e7f566-0 byYAWx coin-item-symbol\">BTC</p></div></div></div></div></a></div></td>,\n",
       " <td style=\"text-align:end\"><div class=\"sc-b3fc6b7-0 dzgUIj\"><span>$96,811.33</span></div></td>,\n",
       " <td style=\"text-align:end\"><span class=\"sc-a59753b0-0 cmnujh\"><span class=\"icon-Caret-up\" style=\"width:12px;height:18px;display:inline-block\"></span>0.81%</span></td>,\n",
       " <td style=\"text-align:end\"><span class=\"sc-a59753b0-0 cmnujh\"><span class=\"icon-Caret-up\" style=\"width:12px;height:18px;display:inline-block\"></span>1.39%</span></td>,\n",
       " <td style=\"text-align:end\"><span class=\"sc-a59753b0-0 cmnujh\"><span class=\"icon-Caret-up\" style=\"width:12px;height:18px;display:inline-block\"></span>1.84%</span></td>,\n",
       " <td style=\"text-align:end\"><p class=\"sc-71024e3e-0 bbHOdE\" color=\"text\" data-sensors-click=\"true\" font-size=\"1\" style=\"white-space:nowrap\"><span class=\"sc-11478e5d-0 chpohi\">$1.92T</span><span class=\"sc-11478e5d-1 jfwGHx\" data-nosnippet=\"true\">$1,918,623,913,733</span></p></td>,\n",
       " <td style=\"text-align:end\"><div class=\"sc-4c05d6ef-0 sc-97d9abce-0 dlQYLv bJRjhz\"><a class=\"cmc-link\" href=\"/currencies/bitcoin/#markets\"><p class=\"sc-71024e3e-0 bbHOdE font_weight_500\" color=\"text\" data-sensors-click=\"true\" font-size=\"1\">$47,638,211,436</p></a><div data-nosnippet=\"true\"><p class=\"sc-71024e3e-0 hbcVUE\" color=\"text2\" data-sensors-click=\"true\" font-size=\"0\">491,666 BTC</p></div></div></td>,\n",
       " <td style=\"text-align:end\"><div class=\"sc-4c05d6ef-0 sc-552ef8b1-0 dlQYLv eOHbrv\" data-sensors-click=\"true\" style=\"cursor:pointer\"><div class=\"sc-4c05d6ef-0 sc-552ef8b1-1 dlQYLv klYCgG\"><p class=\"sc-71024e3e-0 hhmVNu\" color=\"text\" data-sensors-click=\"true\" font-size=\"1\" font-weight=\"medium\">19,801,778 BTC</p></div><div class=\"sc-c50b4d85-0 lmZKdT\" data-sensors-click=\"true\" height=\"4\" width=\"160\"><div class=\"sc-c50b4d85-1 cKQRrC\" height=\"4\" width=\"151\"></div></div></div></td>,\n",
       " <td style=\"text-align:end\"><img alt=\"bitcoin-7d-price-graph\" class=\"sc-936354b2-0 fYKKcN isUp\" loading=\"lazy\" src=\"https://s3.coinmarketcap.com/generated/sparklines/web/7d/2781/1.svg\"/></td>]"
      ]
     },
     "execution_count": 24,
     "metadata": {},
     "output_type": "execute_result"
    }
   ],
   "source": [
    "list(trs[0].children)"
   ]
  },
  {
   "cell_type": "code",
   "execution_count": 25,
   "id": "a4cd2a0f-a062-407d-8225-df8e211b77d0",
   "metadata": {
    "tags": []
   },
   "outputs": [],
   "source": [
    "# Loop"
   ]
  },
  {
   "cell_type": "code",
   "execution_count": 26,
   "id": "da7e6960-62d7-4232-be11-43872f770714",
   "metadata": {
    "tags": []
   },
   "outputs": [],
   "source": [
    "prices = {}"
   ]
  },
  {
   "cell_type": "code",
   "execution_count": 29,
   "id": "3ed9f081-1c44-42a4-b428-174ef6011868",
   "metadata": {
    "tags": []
   },
   "outputs": [
    {
     "name": "stdout",
     "output_type": "stream",
     "text": [
      "<td><span class=\"tooltip tooltip-right\" data-text=\"Add to Main Watchlist\"><span class=\"icon-Star\" style=\"color:var(--color-light-neutral-4)\"></span></span></td>\n",
      "---\n",
      "<td style=\"text-align:start\"><p class=\"sc-71024e3e-0 jBOvmG\" color=\"text2\" data-sensors-click=\"true\" font-size=\"14\">1</p></td>\n",
      "---\n",
      "<td style=\"text-align:start\"><div class=\"sc-4c05d6ef-0 bLqliP\" display=\"flex\"><a class=\"cmc-link\" href=\"/currencies/bitcoin/\"><div class=\"sc-65e7f566-0 sc-e8147118-0 eQBACe dxqfPq\" data-sensors-click=\"true\"><img alt=\"BTC logo\" class=\"coin-logo\" decoding=\"async\" fetchpriority=\"low\" loading=\"lazy\" src=\"https://s2.coinmarketcap.com/static/img/coins/64x64/1.png\"/><div class=\"sc-65e7f566-0 sc-e8147118-1 eQBACe jtrNaf\"><div class=\"sc-65e7f566-0 sc-e8147118-2 eQBACe beGxzp hide-ranking-number\"><p class=\"sc-65e7f566-0 iPbTJf coin-item-name\">Bitcoin</p><div class=\"sc-e8147118-3 jcakMR\" data-nosnippet=\"true\"><p class=\"sc-65e7f566-0 byYAWx coin-item-symbol\">BTC</p></div></div></div></div></a></div></td>\n",
      "---\n",
      "<td style=\"text-align:end\"><div class=\"sc-b3fc6b7-0 dzgUIj\"><span>$96,811.33</span></div></td>\n",
      "---\n",
      "<td><span class=\"tooltip tooltip-right\" data-text=\"Add to Main Watchlist\"><span class=\"icon-Star\" style=\"color:var(--color-light-neutral-4)\"></span></span></td>\n",
      "---\n",
      "<td style=\"text-align:start\"><p class=\"sc-71024e3e-0 jBOvmG\" color=\"text2\" data-sensors-click=\"true\" font-size=\"14\">2</p></td>\n",
      "---\n",
      "<td style=\"text-align:start\"><div class=\"sc-4c05d6ef-0 bLqliP\" display=\"flex\"><a class=\"cmc-link\" href=\"/currencies/ethereum/\"><div class=\"sc-65e7f566-0 sc-e8147118-0 eQBACe dxqfPq\" data-sensors-click=\"true\"><img alt=\"ETH logo\" class=\"coin-logo\" decoding=\"async\" fetchpriority=\"low\" loading=\"lazy\" src=\"https://s2.coinmarketcap.com/static/img/coins/64x64/1027.png\"/><div class=\"sc-65e7f566-0 sc-e8147118-1 eQBACe jtrNaf\"><div class=\"sc-65e7f566-0 sc-e8147118-2 eQBACe beGxzp hide-ranking-number\"><p class=\"sc-65e7f566-0 iPbTJf coin-item-name\">Ethereum</p><div class=\"sc-e8147118-3 jcakMR\" data-nosnippet=\"true\"><p class=\"sc-65e7f566-0 byYAWx coin-item-symbol\">ETH</p></div></div></div></div></a></div></td>\n",
      "---\n",
      "<td style=\"text-align:end\"><div class=\"sc-b3fc6b7-0 dzgUIj\"><span>$3,417.85</span></div></td>\n",
      "---\n"
     ]
    }
   ],
   "source": [
    "for tr in trs[0:2]:\n",
    "    for td in tr.contents[0:4]:\n",
    "        print(td)\n",
    "        print('---')"
   ]
  },
  {
   "cell_type": "code",
   "execution_count": 43,
   "id": "d34db4ba-9d89-42de-adaa-2b90d3f06cf5",
   "metadata": {
    "tags": []
   },
   "outputs": [
    {
     "name": "stdout",
     "output_type": "stream",
     "text": [
      "Bitcoin ,  96,811.33\n",
      "Ethereum ,  3,417.85\n",
      "Tether ,  0.9992\n",
      "XRP ,  2.22\n",
      "BNB ,  704.87\n",
      "Solana ,  193.65\n",
      "Dogecoin ,  0.3236\n",
      "USDC ,  1.00\n",
      "Cardano ,  0.9047\n",
      "TRON ,  0.2588\n"
     ]
    }
   ],
   "source": [
    "prices ={}\n",
    "for tr in trs[:10]:\n",
    "    name, price = tr.contents[2:4]\n",
    "    print(name.p.string, ', ', price.string[1:])\n",
    "    prices[name.p.string] = price.string[1:]"
   ]
  },
  {
   "cell_type": "code",
   "execution_count": 44,
   "id": "3c260f8c-338d-4bc7-bdef-15a393e9d265",
   "metadata": {
    "tags": []
   },
   "outputs": [
    {
     "name": "stdout",
     "output_type": "stream",
     "text": [
      "{'Bitcoin': '96,811.33', 'Ethereum': '3,417.85', 'Tether': '0.9992', 'XRP': '2.22', 'BNB': '704.87', 'Solana': '193.65', 'Dogecoin': '0.3236', 'USDC': '1.00', 'Cardano': '0.9047', 'TRON': '0.2588'}\n"
     ]
    }
   ],
   "source": [
    "print(prices)"
   ]
  },
  {
   "cell_type": "code",
   "execution_count": null,
   "id": "15a6b52f-5dc0-409d-b50f-b816f5986d1a",
   "metadata": {},
   "outputs": [],
   "source": []
  }
 ],
 "metadata": {
  "kernelspec": {
   "display_name": "Python 3 (ipykernel)",
   "language": "python",
   "name": "python3"
  },
  "language_info": {
   "codemirror_mode": {
    "name": "ipython",
    "version": 3
   },
   "file_extension": ".py",
   "mimetype": "text/x-python",
   "name": "python",
   "nbconvert_exporter": "python",
   "pygments_lexer": "ipython3",
   "version": "3.11.5"
  }
 },
 "nbformat": 4,
 "nbformat_minor": 5
}
