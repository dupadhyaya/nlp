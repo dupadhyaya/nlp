{
 "cells": [
  {
   "cell_type": "markdown",
   "id": "c85cbeb3-6bc3-4824-bc08-9072f79ab2d4",
   "metadata": {
    "tags": []
   },
   "source": [
    "# library urllib\n",
    "- https://docs.python.org/3/library/urllib.request.html"
   ]
  },
  {
   "cell_type": "raw",
   "id": "ce83bccc-c789-452f-ae39-6be341111e9b",
   "metadata": {
    "tags": []
   },
   "source": [
    "import urllib.request"
   ]
  },
  {
   "cell_type": "code",
   "execution_count": 4,
   "id": "9713934c-289e-451a-b148-56da1de99709",
   "metadata": {
    "tags": []
   },
   "outputs": [],
   "source": [
    "url = 'https://amity.edu'\n",
    "url2 ='http://www.python.org/'"
   ]
  },
  {
   "cell_type": "code",
   "execution_count": 5,
   "id": "31b99940-78b3-4267-8ba6-ee8c67df0f58",
   "metadata": {
    "tags": []
   },
   "outputs": [
    {
     "name": "stdout",
     "output_type": "stream",
     "text": [
      "b'\\r\\n<!DOCTYPE html PUBLIC \"-//W3C//DTD XHTML 1.0 Transitional//EN\" \"http://www.w3.org/TR/xhtml1/DTD/xhtml1-transitional.dtd\">\\r\\n<html xmlns=\"http://www.w3.org/1999/xhtml\">\\r\\n<head><meta http-equiv=\"Content-Type\" content=\"text/html; charset=utf-8\" /><meta name=\"viewport\" content=\"width=device-width, init'\n"
     ]
    }
   ],
   "source": [
    "with urllib.request.urlopen(url) as f:\n",
    "    print(f.read(300))"
   ]
  },
  {
   "cell_type": "code",
   "execution_count": 6,
   "id": "0ced5332-fe06-48b1-9274-a6b6d72124d5",
   "metadata": {
    "tags": []
   },
   "outputs": [
    {
     "name": "stdout",
     "output_type": "stream",
     "text": [
      "\n",
      "<!DOCTYPE html PUBLIC \"-//W3C//DTD XHTML 1.0 Transitional//EN\" \"http://www.w3.org/TR/xhtml1/DTD/xh\n"
     ]
    }
   ],
   "source": [
    "with urllib.request.urlopen(url) as f:\n",
    "    print(f.read(100).decode('utf-8'))"
   ]
  },
  {
   "cell_type": "code",
   "execution_count": 7,
   "id": "918d4dd0-44de-42e0-b076-88c357817340",
   "metadata": {
    "tags": []
   },
   "outputs": [
    {
     "data": {
      "text/plain": [
       "<urllib.request.Request at 0x154e92f10>"
      ]
     },
     "execution_count": 7,
     "metadata": {},
     "output_type": "execute_result"
    }
   ],
   "source": [
    "ur = urllib.request.Request(url)\n",
    "ur"
   ]
  },
  {
   "cell_type": "code",
   "execution_count": null,
   "id": "8c7ef926-536f-42ed-be7b-100060ce11c9",
   "metadata": {},
   "outputs": [],
   "source": []
  }
 ],
 "metadata": {
  "kernelspec": {
   "display_name": "Python 3 (ipykernel)",
   "language": "python",
   "name": "python3"
  },
  "language_info": {
   "codemirror_mode": {
    "name": "ipython",
    "version": 3
   },
   "file_extension": ".py",
   "mimetype": "text/x-python",
   "name": "python",
   "nbconvert_exporter": "python",
   "pygments_lexer": "ipython3",
   "version": "3.11.5"
  }
 },
 "nbformat": 4,
 "nbformat_minor": 5
}
