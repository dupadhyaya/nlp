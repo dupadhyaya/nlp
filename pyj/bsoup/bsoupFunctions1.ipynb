{
 "cells": [
  {
   "cell_type": "markdown",
   "id": "82d68bc1-ee16-4e8b-8b82-a043ba9ecade",
   "metadata": {
    "tags": []
   },
   "source": [
    "## Beautiful Soup Functions\n",
    "- Cheatsheets\n",
    "    - https://scrapingant.com/blog/beautifulsoup-cheatsheet\n",
    "    - https://www.crummy.com/software/BeautifulSoup/bs4/doc/\n",
    "- xxx\n",
    "    - xxx\n",
    "    "
   ]
  },
  {
   "cell_type": "code",
   "execution_count": 161,
   "id": "e9a027ba-9637-42cf-affd-007baccf7f21",
   "metadata": {
    "tags": []
   },
   "outputs": [],
   "source": [
    "from bs4 import BeautifulSoup\n",
    "import requests\n",
    "import pandas as pd\n",
    "import re"
   ]
  },
  {
   "cell_type": "code",
   "execution_count": 97,
   "id": "ddbc0b91-cf41-49c6-94ad-d3c83c9bb0d4",
   "metadata": {
    "tags": []
   },
   "outputs": [
    {
     "data": {
      "text/plain": [
       "<Response [200]>"
      ]
     },
     "execution_count": 97,
     "metadata": {},
     "output_type": "execute_result"
    }
   ],
   "source": [
    "url1 = 'https://books.toscrape.com/catalogue/page-1.html'\n",
    "url2 = 'https://sell.amazon.in/sell-online/become-a-seller'\n",
    "url3 = 'https://amity.edu/'\n",
    "response = requests.get(url3)\n",
    "response"
   ]
  },
  {
   "cell_type": "code",
   "execution_count": 98,
   "id": "b4fc72a3-4b49-485a-9ed6-30e7341c3908",
   "metadata": {
    "tags": []
   },
   "outputs": [],
   "source": [
    "s = BeautifulSoup(response.text, 'html.parser')"
   ]
  },
  {
   "cell_type": "markdown",
   "id": "4e03bfe2-0ab7-46e1-b3e4-e43a2259088c",
   "metadata": {},
   "source": [
    "## Tags\n",
    "- A Tag object corresponds to an XML or HTML tag in the original document. Tags have a lot of attributes and methods, and the most important features of a tag are its name and attributes."
   ]
  },
  {
   "cell_type": "code",
   "execution_count": 99,
   "id": "b96827a4-ae04-4da0-837b-3f2148732be2",
   "metadata": {
    "tags": []
   },
   "outputs": [
    {
     "data": {
      "text/plain": [
       "<p class=\"pt-3\">\n",
       "<strong style=\" color:#000; font-size:16px; text-transform:uppercase;\">Regular Courses</strong></p>"
      ]
     },
     "execution_count": 99,
     "metadata": {},
     "output_type": "execute_result"
    }
   ],
   "source": [
    "s.p"
   ]
  },
  {
   "cell_type": "code",
   "execution_count": 100,
   "id": "d61ae114-2d30-415b-8b78-21509877764b",
   "metadata": {
    "tags": []
   },
   "outputs": [
    {
     "data": {
      "text/plain": [
       "'p'"
      ]
     },
     "execution_count": 100,
     "metadata": {},
     "output_type": "execute_result"
    }
   ],
   "source": [
    "s.p.name  #unique class"
   ]
  },
  {
   "cell_type": "code",
   "execution_count": 101,
   "id": "c07091e4-1103-4c3a-bc7c-599b7e298029",
   "metadata": {
    "tags": []
   },
   "outputs": [
    {
     "data": {
      "text/plain": [
       "['pt-3']"
      ]
     },
     "execution_count": 101,
     "metadata": {},
     "output_type": "execute_result"
    }
   ],
   "source": [
    "s.p['class']  #dictionary format"
   ]
  },
  {
   "cell_type": "markdown",
   "id": "f377ffba-0538-4538-b1e7-04eaca4e9fd0",
   "metadata": {},
   "source": [
    "## String\n",
    "- "
   ]
  },
  {
   "cell_type": "code",
   "execution_count": 104,
   "id": "af779345-9607-409e-8d08-d32421045012",
   "metadata": {
    "tags": []
   },
   "outputs": [],
   "source": [
    "s.p.string"
   ]
  },
  {
   "cell_type": "code",
   "execution_count": 105,
   "id": "8a8aaa64-68ba-40cf-b116-ca352b66e508",
   "metadata": {
    "tags": []
   },
   "outputs": [
    {
     "data": {
      "text/plain": [
       "'[document]'"
      ]
     },
     "execution_count": 105,
     "metadata": {},
     "output_type": "execute_result"
    }
   ],
   "source": [
    "s.name"
   ]
  },
  {
   "cell_type": "code",
   "execution_count": 107,
   "id": "0fe8d2d8-18c5-4471-9605-4327afcb8e16",
   "metadata": {
    "tags": []
   },
   "outputs": [
    {
     "data": {
      "text/plain": [
       "'\\r\\n\\tTop Private University in North India | Amity University Noida\\r\\n'"
      ]
     },
     "execution_count": 107,
     "metadata": {},
     "output_type": "execute_result"
    }
   ],
   "source": [
    "s.title.string"
   ]
  },
  {
   "cell_type": "code",
   "execution_count": 108,
   "id": "dbed0d6d-ad47-4aa5-bafe-583619bb5461",
   "metadata": {
    "tags": []
   },
   "outputs": [
    {
     "data": {
      "text/plain": [
       "bs4.element.NavigableString"
      ]
     },
     "execution_count": 108,
     "metadata": {},
     "output_type": "execute_result"
    }
   ],
   "source": [
    "type(s.title.string)"
   ]
  },
  {
   "cell_type": "markdown",
   "id": "7e1ec299-f7cf-4c5a-9867-6f84a6cc45f6",
   "metadata": {},
   "source": [
    "## Navigation"
   ]
  },
  {
   "cell_type": "code",
   "execution_count": 109,
   "id": "7b9725aa-48ad-483d-8caf-78eb690e889c",
   "metadata": {
    "tags": []
   },
   "outputs": [
    {
     "data": {
      "text/plain": [
       "<title>\n",
       "\tTop Private University in North India | Amity University Noida\n",
       "</title>"
      ]
     },
     "execution_count": 109,
     "metadata": {},
     "output_type": "execute_result"
    }
   ],
   "source": [
    "s.title"
   ]
  },
  {
   "cell_type": "code",
   "execution_count": 112,
   "id": "2d197ce1-38cd-4bf5-adf8-1a82c21975ae",
   "metadata": {
    "tags": []
   },
   "outputs": [],
   "source": [
    "#s.head[:10]  #slicing by character not possible, only by tags"
   ]
  },
  {
   "cell_type": "code",
   "execution_count": 113,
   "id": "15b90646-33b6-4bf0-b888-42b7b2c4e3fa",
   "metadata": {
    "tags": []
   },
   "outputs": [
    {
     "data": {
      "text/plain": [
       "['pt-3']"
      ]
     },
     "execution_count": 113,
     "metadata": {},
     "output_type": "execute_result"
    }
   ],
   "source": [
    "s.p['class']"
   ]
  },
  {
   "cell_type": "code",
   "execution_count": 114,
   "id": "6ba4bb58-7bcb-490e-94fa-1f53a777ad47",
   "metadata": {
    "tags": []
   },
   "outputs": [
    {
     "data": {
      "text/plain": [
       "['\\n',\n",
       " <strong style=\" color:#000; font-size:16px; text-transform:uppercase;\">Regular Courses</strong>]"
      ]
     },
     "execution_count": 114,
     "metadata": {},
     "output_type": "execute_result"
    }
   ],
   "source": [
    "s.p.contents"
   ]
  },
  {
   "cell_type": "code",
   "execution_count": 116,
   "id": "d2acd13b-644f-426f-85a6-cf9f76b11ae2",
   "metadata": {
    "tags": []
   },
   "outputs": [
    {
     "name": "stdout",
     "output_type": "stream",
     "text": [
      "\n",
      "\n",
      "<strong style=\" color:#000; font-size:16px; text-transform:uppercase;\">Regular Courses</strong>\n"
     ]
    }
   ],
   "source": [
    "for child in s.p.children:\n",
    "    print(child) "
   ]
  },
  {
   "cell_type": "markdown",
   "id": "942d8763-f33b-41d5-9f9f-c7cea91e17cf",
   "metadata": {},
   "source": [
    "## Searching\n",
    "-  "
   ]
  },
  {
   "cell_type": "code",
   "execution_count": 118,
   "id": "c046040e-ce1e-47a8-97a1-77777c7c8300",
   "metadata": {
    "tags": []
   },
   "outputs": [
    {
     "data": {
      "text/plain": [
       "<b>Fee related queries (1st Sem):</b>"
      ]
     },
     "execution_count": 118,
     "metadata": {},
     "output_type": "execute_result"
    }
   ],
   "source": [
    "s.find('b')"
   ]
  },
  {
   "cell_type": "code",
   "execution_count": 119,
   "id": "5616a43d-975a-4e8d-a26d-f1be60ad93c5",
   "metadata": {
    "tags": []
   },
   "outputs": [
    {
     "data": {
      "text/plain": [
       "[<b>Fee related queries (1st Sem):</b>,\n",
       " <b>Higher Education</b>,\n",
       " <b>Online Degree Programs</b>,\n",
       " <b>Schools</b>,\n",
       " <b>Preschool</b>]"
      ]
     },
     "execution_count": 119,
     "metadata": {},
     "output_type": "execute_result"
    }
   ],
   "source": [
    "s.find_all('b')[0:5]"
   ]
  },
  {
   "cell_type": "code",
   "execution_count": 125,
   "id": "fdd7a225-0eeb-4d0c-85b2-230be7d4513e",
   "metadata": {
    "tags": []
   },
   "outputs": [
    {
     "data": {
      "text/plain": [
       "[]"
      ]
     },
     "execution_count": 125,
     "metadata": {},
     "output_type": "execute_result"
    }
   ],
   "source": [
    "s.select('h1.title')"
   ]
  },
  {
   "cell_type": "code",
   "execution_count": 132,
   "id": "d321dce8-240f-48b1-b391-28c3b5d6b073",
   "metadata": {
    "tags": []
   },
   "outputs": [
    {
     "data": {
      "text/plain": [
       "<strong>Regular Courses</strong>"
      ]
     },
     "execution_count": 132,
     "metadata": {},
     "output_type": "execute_result"
    }
   ],
   "source": [
    "s.p.strong   #only 1 item otherwise for loop"
   ]
  },
  {
   "cell_type": "code",
   "execution_count": 133,
   "id": "fdc37246-447d-46d4-8556-6e52f95bf5d1",
   "metadata": {
    "tags": []
   },
   "outputs": [
    {
     "data": {
      "text/plain": [
       "['pt-4']"
      ]
     },
     "execution_count": 133,
     "metadata": {},
     "output_type": "execute_result"
    }
   ],
   "source": [
    "s.p['class']"
   ]
  },
  {
   "cell_type": "markdown",
   "id": "261e83cb-3e15-42ac-9cf8-5ad950d062e3",
   "metadata": {},
   "source": [
    "## Parents\n",
    "-  "
   ]
  },
  {
   "cell_type": "code",
   "execution_count": 138,
   "id": "3b44cbbd-59ae-4698-b1f5-68121639ba9b",
   "metadata": {
    "tags": []
   },
   "outputs": [
    {
     "data": {
      "text/plain": [
       "[<b>Fee related queries (1st Sem):</b>,\n",
       " <b>Higher Education</b>,\n",
       " <b>Online Degree Programs</b>,\n",
       " <b>Schools</b>,\n",
       " <b>Preschool</b>,\n",
       " <b>Publication</b>,\n",
       " <b>Competitive Exams</b>,\n",
       " <b>Beyond Education</b>,\n",
       " <b>\n",
       "                                     Noida\n",
       "                                     Campus</b>,\n",
       " <b>\n",
       "                                     Lucknow\n",
       "                                     Campus</b>,\n",
       " <b>\n",
       "                                     Jaipur\n",
       "                                     Campus</b>,\n",
       " <b>\n",
       "                                     Gurugram (Manesar)\n",
       "                                     Campus</b>,\n",
       " <b>\n",
       "                                     Gwalior\n",
       "                                     Campus</b>,\n",
       " <b>Fee related queries (1st Sem):</b>,\n",
       " <b>\n",
       "                                     Greater Noida\n",
       "                                     Campus</b>,\n",
       " <b>\n",
       "                                     Mumbai\n",
       "                                     Campus</b>,\n",
       " <b>\n",
       "                                     Raipur\n",
       "                                     Campus</b>,\n",
       " <b>\n",
       "                                     Kolkata\n",
       "                                     Campus</b>,\n",
       " <b>\n",
       "                                     Ranchi\n",
       "                                     Campus</b>,\n",
       " <b>\n",
       "                                     Patna\n",
       "                                     Campus</b>,\n",
       " <b>\n",
       "                                     Mohali\n",
       "                                     Campus</b>,\n",
       " <b>\n",
       "                                     Bengaluru\n",
       "                                     Campus</b>,\n",
       " <b>AMITY UNIVERSITY ONLINE </b>,\n",
       " <b>\n",
       "                                     Jaipur\n",
       "                                     Campus</b>,\n",
       " <b>Higher Education</b>,\n",
       " <b>Online Degree Programs</b>,\n",
       " <b>Schools</b>,\n",
       " <b>Preschool</b>,\n",
       " <b>Publication</b>,\n",
       " <b>Competitive Exams</b>,\n",
       " <b>Beyond Education</b>,\n",
       " <b>1260</b>,\n",
       " <b>99</b>]"
      ]
     },
     "execution_count": 138,
     "metadata": {},
     "output_type": "execute_result"
    }
   ],
   "source": [
    "s.find_all('b')"
   ]
  },
  {
   "cell_type": "code",
   "execution_count": 139,
   "id": "91081838-8412-4875-a5e2-3bd6ebb5d8b3",
   "metadata": {
    "tags": []
   },
   "outputs": [
    {
     "data": {
      "text/plain": [
       "<generator object Tag.descendants at 0x16a33dfc0>"
      ]
     },
     "execution_count": 139,
     "metadata": {},
     "output_type": "execute_result"
    }
   ],
   "source": [
    "s.descendants"
   ]
  },
  {
   "cell_type": "code",
   "execution_count": 137,
   "id": "9b3d2a89-52ca-4ee8-9cba-3811b0b74653",
   "metadata": {
    "tags": []
   },
   "outputs": [
    {
     "data": {
      "text/plain": [
       "<br/>"
      ]
     },
     "execution_count": 137,
     "metadata": {},
     "output_type": "execute_result"
    }
   ],
   "source": [
    "s.find('b').next_sibling.next_sibling"
   ]
  },
  {
   "cell_type": "markdown",
   "id": "1e772f9c-9307-43d9-a4e1-73a5554804f3",
   "metadata": {
    "tags": []
   },
   "source": [
    "j=0\n",
    "for i in s.children:\n",
    "    print(i.text.strip())\n",
    "    j = j + 1\n",
    "    if j > 10: break"
   ]
  },
  {
   "cell_type": "code",
   "execution_count": 148,
   "id": "cc38fb96-e167-459e-9db3-97657c2dc8a5",
   "metadata": {
    "tags": []
   },
   "outputs": [
    {
     "data": {
      "text/plain": [
       "<title>\n",
       "\tTop Private University in North India | Amity University Noida\n",
       "</title>"
      ]
     },
     "execution_count": 148,
     "metadata": {},
     "output_type": "execute_result"
    }
   ],
   "source": [
    "s.title"
   ]
  },
  {
   "cell_type": "code",
   "execution_count": 150,
   "id": "e51bc575-f85b-40af-afc9-c5e560afa509",
   "metadata": {
    "tags": []
   },
   "outputs": [
    {
     "data": {
      "text/plain": [
       "<list_iterator at 0x169bed990>"
      ]
     },
     "execution_count": 150,
     "metadata": {},
     "output_type": "execute_result"
    }
   ],
   "source": [
    "#s.title.parent  #working\n",
    "s.title.parent.children"
   ]
  },
  {
   "cell_type": "code",
   "execution_count": 152,
   "id": "e10ad099-dc0c-480b-987a-f65c400c2897",
   "metadata": {
    "tags": []
   },
   "outputs": [
    {
     "data": {
      "text/plain": [
       "<meta content=\"Amity University provides world-class education in diverse streams including engineering, management, medical and others. Visit our campus to know more.\" name=\"description\"/>"
      ]
     },
     "execution_count": 152,
     "metadata": {},
     "output_type": "execute_result"
    }
   ],
   "source": [
    "s.title.next_sibling"
   ]
  },
  {
   "cell_type": "code",
   "execution_count": 153,
   "id": "d57ca4a9-84f1-4273-997d-5d4efc449338",
   "metadata": {
    "tags": []
   },
   "outputs": [
    {
     "data": {
      "text/plain": [
       "<meta content=\"Universities in delhi ncr, best university in noida, noida university, private universities in delhi ncr, best universities in delhi ncr, Amity University\" name=\"keywords\"/>"
      ]
     },
     "execution_count": 153,
     "metadata": {},
     "output_type": "execute_result"
    }
   ],
   "source": [
    "s.title.previous_sibling"
   ]
  },
  {
   "cell_type": "code",
   "execution_count": 155,
   "id": "c3027a98-3ebf-4630-8196-07f8bbab8436",
   "metadata": {
    "tags": []
   },
   "outputs": [
    {
     "name": "stdout",
     "output_type": "stream",
     "text": [
      "'\\n'\n",
      "<div class=\"menu_nav\">\n",
      "<ul>\n",
      "<li><a href=\"/course-list.aspx?fd=Acting&amp;Programs=Graduate\">\n",
      "                                            Acting</a></li>\n",
      "<li><a href=\"/course-list.aspx?fd=Actuarial Science&amp;Programs=Graduate\">\n",
      "                                            Actuarial Science</a></li>\n",
      "<li><a href=\"/course-list.aspx?fd=Aeronautical Engineering&amp;Programs=Graduate\">\n",
      "                                            Aeronautical Engineering</a></li>\n",
      "<li><a href=\"/course-list.aspx?fd=Aerospace&amp;Programs=Graduate\">\n",
      "                                            Aerospace</a></li>\n",
      "<li><a href=\"/course-list.aspx?fd=Agriculture&amp;Programs=Graduate\">\n",
      "                                            Agriculture</a></li>\n",
      "<li><a href=\"/course-list.aspx?fd=Animation&amp;Programs=Graduate\">\n",
      "                                            Animation</a></li>\n",
      "<li><a href=\"/course-list.aspx?fd=Animation - Visual Graphics&amp;Programs=Graduate\">\n",
      "                                            Animation &amp; Visual Graphics</a></li>\n",
      "<li><a href=\"/course-list.aspx?fd=Anthropology&amp;Programs=Graduate\">\n",
      "                                            Anthropology</a></li>\n",
      "<li><a href=\"/course-list.aspx?fd=Applied Sciences&amp;Programs=Graduate\">\n",
      "                                            Applied Sciences</a></li>\n",
      "<li><a href=\"/course-list.aspx?fd=Architecture&amp;Programs=Graduate\">\n",
      "                                            Architecture</a></li>\n",
      "<li><a href=\"/course-list.aspx?fd=Artificial Intelligence&amp;Programs=Graduate\">\n",
      "                                            Artificial Intelligence</a></li>\n",
      "<li><a href=\"/course-list.aspx?fd=Automobile Engineering&amp;Programs=Graduate\">\n",
      "                                            Automobile Engineering</a></li>\n",
      "<li><a href=\"/course-list.aspx?fd=Avionics&amp;Programs=Graduate\">\n",
      "                                            Avionics</a></li>\n",
      "<li><a href=\"/course-list.aspx?fd=Banking - Finance&amp;Programs=Graduate\">\n",
      "                                            Banking &amp; Finance</a></li>\n",
      "<li><a href=\"/course-list.aspx?fd=Biochemistry&amp;Programs=Graduate\">\n",
      "                                            Biochemistry</a></li>\n",
      "<li><a href=\"/course-list.aspx?fd=Biomedical Science&amp;Programs=Graduate\">\n",
      "                                            Biomedical Science</a></li>\n",
      "<li><a href=\"/course-list.aspx?fd=Biotech&amp;Programs=Graduate\">\n",
      "                                            Biotech</a></li>\n",
      "<li><a href=\"/course-list.aspx?fd=Chemistry&amp;Programs=Graduate\">\n",
      "                                            Chemistry</a></li>\n",
      "<li><a href=\"/course-list.aspx?fd=Commerce&amp;Programs=Graduate\">\n",
      "                                            Commerce</a></li>\n",
      "<li><a href=\"/course-list.aspx?fd=Communication&amp;Programs=Graduate\">\n",
      "                                            Communication</a></li>\n",
      "<li><a href=\"/course-list.aspx?fd=Computer Applications&amp;Programs=Graduate\">\n",
      "                                            Computer Applications</a></li>\n",
      "<li><a href=\"/course-list.aspx?fd=Computer Science Engg.&amp;Programs=Graduate\">\n",
      "                                            Computer Science Engg.</a></li>\n",
      "<li><a href=\"/course-list.aspx?fd=Computer Science/ IT&amp;Programs=Graduate\">\n",
      "                                            Computer Science/ IT</a></li>\n",
      "<li><a href=\"/course-list.aspx?fd=Construction and Real Estate Management&amp;Programs=Graduate\">\n",
      "                                            Construction and Real Estate Management</a></li>\n",
      "<li><a href=\"/course-list.aspx?fd=Data Sciences - Business Analytics&amp;Programs=Graduate\">\n",
      "                                            Data Sciences &amp; Business Analytics</a></li>\n",
      "<li><a href=\"/course-list.aspx?fd=Defence - Strategic Studies &amp;Programs=Graduate\">\n",
      "                                            Defence &amp; Strategic Studies </a></li>\n",
      "<li><a href=\"/course-list.aspx?fd=Defence Technology&amp;Programs=Graduate\">\n",
      "                                            Defence Technology</a></li>\n",
      "<li><a href=\"/course-list.aspx?fd=Design&amp;Programs=Graduate\">\n",
      "                                            Design</a></li>\n",
      "<li><a href=\"/course-list.aspx?fd=Digital Marketing&amp;Programs=Graduate\">\n",
      "                                            Digital Marketing</a></li>\n",
      "<li><a href=\"/course-list.aspx?fd=Earth - Environmental Sciences&amp;Programs=Graduate\">\n",
      "                                            Earth &amp; Environmental Sciences</a></li>\n",
      "<li><a href=\"/course-list.aspx?fd=Economics&amp;Programs=Graduate\">\n",
      "                                            Economics</a></li>\n",
      "<li><a href=\"/course-list.aspx?fd=Education&amp;Programs=Graduate\">\n",
      "                                            Education</a></li>\n",
      "<li><a href=\"/course-list.aspx?fd=Engineering&amp;Programs=Graduate\">\n",
      "                                            Engineering</a></li>\n",
      "<li><a href=\"/course-list.aspx?fd=English literature&amp;Programs=Graduate\">\n",
      "                                            English literature</a></li>\n",
      "<li><a href=\"/course-list.aspx?fd=Environment&amp;Programs=Graduate\">\n",
      "                                            Environment</a></li>\n",
      "<li><a href=\"/course-list.aspx?fd=Fashion&amp;Programs=Graduate\">\n",
      "                                            Fashion</a></li>\n",
      "<li><a href=\"/course-list.aspx?fd=Film - Drama&amp;Programs=Graduate\">\n",
      "                                            Film &amp; Drama</a></li>\n",
      "<li><a href=\"/course-list.aspx?fd=Finance&amp;Programs=Graduate\">\n",
      "                                            Finance</a></li>\n",
      "<li><a href=\"/course-list.aspx?fd=Fine Arts&amp;Programs=Graduate\">\n",
      "                                            Fine Arts</a></li>\n",
      "<li><a href=\"/course-list.aspx?fd=Food Technology&amp;Programs=Graduate\">\n",
      "                                            Food Technology</a></li>\n",
      "<li><a href=\"/course-list.aspx?fd=Foreign Languages&amp;Programs=Graduate\">\n",
      "                                            Foreign Languages</a></li>\n",
      "<li><a href=\"/course-list.aspx?fd=Forensic Sciences&amp;Programs=Graduate\">\n",
      "                                            Forensic Sciences</a></li>\n",
      "<li><a href=\"/course-list.aspx?fd=Forestry - Wildlife Sciences&amp;Programs=Graduate\">\n",
      "                                            Forestry &amp; Wildlife Sciences</a></li>\n",
      "<li><a href=\"/course-list.aspx?fd=Geo Informatics - Remote Sensing&amp;Programs=Graduate\">\n",
      "                                            Geo Informatics &amp; Remote Sensing</a></li>\n",
      "<li><a href=\"/course-list.aspx?fd=Geography&amp;Programs=Graduate\">\n",
      "                                            Geography</a></li>\n",
      "<li><a href=\"/course-list.aspx?fd=Health - Medical Sciences&amp;Programs=Graduate\">\n",
      "                                            Health &amp; Medical Sciences</a></li>\n",
      "<li><a href=\"/course-list.aspx?fd=Health Sciences&amp;Programs=Graduate\">\n",
      "                                            Health Sciences</a></li>\n",
      "<li><a href=\"/course-list.aspx?fd=Hospital Administration&amp;Programs=Graduate\">\n",
      "                                            Hospital Administration</a></li>\n",
      "<li><a href=\"/course-list.aspx?fd=Hospital Management - Administration&amp;Programs=Graduate\">\n",
      "                                            Hospital Management &amp; Administration</a></li>\n",
      "<li><a href=\"/course-list.aspx?fd=Hotel Management Hospitality&amp;Programs=Graduate\">\n",
      "                                            Hotel Management Hospitality</a></li>\n",
      "<li><a href=\"/course-list.aspx?fd=Information Technology&amp;Programs=Graduate\">\n",
      "                                            Information Technology</a></li>\n",
      "<li><a href=\"/course-list.aspx?fd=Insurance and Banking&amp;Programs=Graduate\">\n",
      "                                            Insurance and Banking</a></li>\n",
      "<li><a href=\"/course-list.aspx?fd=Interior Design&amp;Programs=Graduate\">\n",
      "                                            Interior Design</a></li>\n",
      "<li><a href=\"/course-list.aspx?fd=International Relations&amp;Programs=Graduate\">\n",
      "                                            International Relations</a></li>\n",
      "<li><a href=\"/course-list.aspx?fd=Journalism&amp;Programs=Graduate\">\n",
      "                                            Journalism</a></li>\n",
      "<li><a href=\"/course-list.aspx?fd=Journalism - Mass Communication&amp;Programs=Graduate\">\n",
      "                                            Journalism &amp; Mass Communication</a></li>\n",
      "<li><a href=\"/course-list.aspx?fd=Language&amp;Programs=Graduate\">\n",
      "                                            Language</a></li>\n",
      "<li><a href=\"/course-list.aspx?fd=Law&amp;Programs=Graduate\">\n",
      "                                            Law</a></li>\n",
      "<li><a href=\"/course-list.aspx?fd=Liberal Arts&amp;Programs=Graduate\">\n",
      "                                            Liberal Arts</a></li>\n",
      "<li><a href=\"/course-list.aspx?fd=Life Sciences&amp;Programs=Graduate\">\n",
      "                                            Life Sciences</a></li>\n",
      "<li><a href=\"/course-list.aspx?fd=Management&amp;Programs=Graduate\">\n",
      "                                            Management</a></li>\n",
      "<li><a href=\"/course-list.aspx?fd=Marine Science&amp;Programs=Graduate\">\n",
      "                                            Marine Science</a></li>\n",
      "<li><a href=\"/course-list.aspx?fd=Mass Communication&amp;Programs=Graduate\">\n",
      "                                            Mass Communication</a></li>\n",
      "<li><a href=\"/course-list.aspx?fd=Mathematics&amp;Programs=Graduate\">\n",
      "                                            Mathematics</a></li>\n",
      "<li><a href=\"/course-list.aspx?fd=Medical&amp;Programs=Graduate\">\n",
      "                                            Medical</a></li>\n",
      "<li><a href=\"/course-list.aspx?fd=Microbial Sciences&amp;Programs=Graduate\">\n",
      "                                            Microbial Sciences</a></li>\n",
      "<li><a href=\"/course-list.aspx?fd=Molecular Medicine - Stem Cell Research and Cancer Biology&amp;Programs=Graduate\">\n",
      "                                            Molecular Medicine &amp; Stem Cell Research and Cancer Biology</a></li>\n",
      "<li><a href=\"/course-list.aspx?fd=Nanotechnology&amp;Programs=Graduate\">\n",
      "                                            Nanotechnology</a></li>\n",
      "<li><a href=\"/course-list.aspx?fd=Natural Resources - Sustainable Development&amp;Programs=Graduate\">\n",
      "                                            Natural Resources &amp; Sustainable Development</a></li>\n",
      "<li><a href=\"/course-list.aspx?fd=Neuropsychology - Neurosciences&amp;Programs=Graduate\">\n",
      "                                            Neuropsychology &amp; Neurosciences</a></li>\n",
      "<li><a href=\"/course-list.aspx?fd=Nuclear Science - Technology&amp;Programs=Graduate\">\n",
      "                                            Nuclear Science &amp; Technology</a></li>\n",
      "<li><a href=\"/course-list.aspx?fd=Nursing&amp;Programs=Graduate\">\n",
      "                                            Nursing</a></li>\n",
      "<li><a href=\"/course-list.aspx?fd=Nutrition - Dietetics&amp;Programs=Graduate\">\n",
      "                                            Nutrition &amp; Dietetics</a></li>\n",
      "<li><a href=\"/course-list.aspx?fd=Occupational Therapy&amp;Programs=Graduate\">\n",
      "                                            Occupational Therapy</a></li>\n",
      "<li><a href=\"/course-list.aspx?fd=Optometry - Vision Sciences&amp;Programs=Graduate\">\n",
      "                                            Optometry &amp; Vision Sciences</a></li>\n",
      "<li><a href=\"/course-list.aspx?fd=Organic Agriculture&amp;Programs=Graduate\">\n",
      "                                            Organic Agriculture</a></li>\n",
      "<li><a href=\"/course-list.aspx?fd=Performing Arts&amp;Programs=Graduate\">\n",
      "                                            Performing Arts</a></li>\n",
      "<li><a href=\"/course-list.aspx?fd=Pharmacy&amp;Programs=Graduate\">\n",
      "                                            Pharmacy</a></li>\n",
      "<li><a href=\"/course-list.aspx?fd=Philosophy, Political Sc. - Economics&amp;Programs=Graduate\">\n",
      "                                            Philosophy, Political Sc. &amp; Economics</a></li>\n",
      "<li><a href=\"/course-list.aspx?fd=Physical Education&amp;Programs=Graduate\">\n",
      "                                            Physical Education</a></li>\n",
      "<li><a href=\"/course-list.aspx?fd=Physics&amp;Programs=Graduate\">\n",
      "                                            Physics</a></li>\n",
      "<li><a href=\"/course-list.aspx?fd=Physiology&amp;Programs=Graduate\">\n",
      "                                            Physiology</a></li>\n",
      "<li><a href=\"/course-list.aspx?fd=Physiotherapy&amp;Programs=Graduate\">\n",
      "                                            Physiotherapy</a></li>\n",
      "<li><a href=\"/course-list.aspx?fd=Planning&amp;Programs=Graduate\">\n",
      "                                            Planning</a></li>\n",
      "<li><a href=\"/course-list.aspx?fd=Political Science&amp;Programs=Graduate\">\n",
      "                                            Political Science</a></li>\n",
      "<li><a href=\"/course-list.aspx?fd=Product Design&amp;Programs=Graduate\">\n",
      "                                            Product Design</a></li>\n",
      "<li><a href=\"/course-list.aspx?fd=Psychology - Behavioural Science&amp;Programs=Graduate\">\n",
      "                                            Psychology &amp; Behavioural Science</a></li>\n",
      "<li><a href=\"/course-list.aspx?fd=Public Policy&amp;Programs=Graduate\">\n",
      "                                            Public Policy</a></li>\n",
      "<li><a href=\"/course-list.aspx?fd=Real Estate And Urban Infrastructure&amp;Programs=Graduate\">\n",
      "                                            Real Estate And Urban Infrastructure</a></li>\n",
      "<li><a href=\"/course-list.aspx?fd=Sanskrit Studies&amp;Programs=Graduate\">\n",
      "                                            Sanskrit Studies</a></li>\n",
      "<li><a href=\"/course-list.aspx?fd=Skill Development&amp;Programs=Graduate\">\n",
      "                                            Skill Development</a></li>\n",
      "<li><a href=\"/course-list.aspx?fd=Social Science&amp;Programs=Graduate\">\n",
      "                                            Social Science</a></li>\n",
      "<li><a href=\"/course-list.aspx?fd=Social Work&amp;Programs=Graduate\">\n",
      "                                            Social Work</a></li>\n",
      "<li><a href=\"/course-list.aspx?fd=Sociology&amp;Programs=Graduate\">\n",
      "                                            Sociology</a></li>\n",
      "<li><a href=\"/course-list.aspx?fd=Space Sciences&amp;Programs=Graduate\">\n",
      "                                            Space Sciences</a></li>\n",
      "<li><a href=\"/course-list.aspx?fd=Special Education&amp;Programs=Graduate\">\n",
      "                                            Special Education</a></li>\n",
      "<li><a href=\"/course-list.aspx?fd=Statistics&amp;Programs=Graduate\">\n",
      "                                            Statistics</a></li>\n",
      "<li><a href=\"/course-list.aspx?fd=Telecom&amp;Programs=Graduate\">\n",
      "                                            Telecom</a></li>\n",
      "<li><a href=\"/course-list.aspx?fd=Travel - Tourism&amp;Programs=Graduate\">\n",
      "                                            Travel &amp; Tourism</a></li>\n",
      "<li><a href=\"/course-list.aspx?fd=Virology - Immunology&amp;Programs=Graduate\">\n",
      "                                            Virology &amp; Immunology</a></li>\n",
      "<li><a href=\"/course-list.aspx?fd=Visual Effect - Animation&amp;Programs=Graduate\">\n",
      "                                            Visual Effect &amp; Animation</a></li>\n",
      "<li><a href=\"/course-list.aspx?fd=Wildlife Sciences&amp;Programs=Graduate\">\n",
      "                                            Wildlife Sciences</a></li>\n",
      "<li><a href=\"/course-list.aspx?fd=Yoga Therapy&amp;Programs=Graduate\">\n",
      "                                            Yoga Therapy</a></li>\n",
      "<li><a href=\"/course-list.aspx?fd=Zoology&amp;Programs=Graduate\">\n",
      "                                            Zoology</a></li>\n",
      "</ul>\n",
      "</div>\n",
      "'\\n'\n"
     ]
    }
   ],
   "source": [
    "for sibling in s.p.next_siblings:\n",
    "    print(repr(sibling))"
   ]
  },
  {
   "cell_type": "code",
   "execution_count": 156,
   "id": "8a55cbc4-b1c0-4ae1-ba4d-fcb9ee4c8703",
   "metadata": {
    "tags": []
   },
   "outputs": [
    {
     "data": {
      "text/plain": [
       "'\\n'"
      ]
     },
     "execution_count": 156,
     "metadata": {},
     "output_type": "execute_result"
    }
   ],
   "source": [
    "s.p.next_element"
   ]
  },
  {
   "cell_type": "code",
   "execution_count": 157,
   "id": "1f3084f5-97b7-4be3-a064-7a02a0de4053",
   "metadata": {
    "tags": []
   },
   "outputs": [
    {
     "data": {
      "text/plain": [
       "'\\n'"
      ]
     },
     "execution_count": 157,
     "metadata": {},
     "output_type": "execute_result"
    }
   ],
   "source": [
    "s.p.previous_element"
   ]
  },
  {
   "cell_type": "code",
   "execution_count": 159,
   "id": "2a795332-7bdd-4d14-b460-b2ed8366556b",
   "metadata": {
    "tags": []
   },
   "outputs": [
    {
     "name": "stdout",
     "output_type": "stream",
     "text": [
      "'\\n'\n"
     ]
    }
   ],
   "source": [
    "for e in s.p.previous_element:\n",
    "    print(repr(e))"
   ]
  },
  {
   "cell_type": "code",
   "execution_count": 164,
   "id": "7ba9726e-3bde-481f-87bb-fc939bfdd105",
   "metadata": {
    "tags": []
   },
   "outputs": [
    {
     "name": "stdout",
     "output_type": "stream",
     "text": [
      "button\n",
      "button\n",
      "button\n",
      "button\n"
     ]
    }
   ],
   "source": [
    "for tag in s.find_all(re.compile(\"^bu\")):  #starting with b\n",
    "    print(tag.name)"
   ]
  },
  {
   "cell_type": "code",
   "execution_count": 166,
   "id": "3ac8228b-b61d-4f71-96e4-2ac0033d1978",
   "metadata": {
    "tags": []
   },
   "outputs": [
    {
     "name": "stdout",
     "output_type": "stream",
     "text": [
      "meta\n",
      "meta\n",
      "meta\n",
      "meta\n",
      "meta\n",
      "meta\n",
      "meta\n",
      "meta\n",
      "meta\n",
      "meta\n",
      "meta\n",
      "meta\n",
      "meta\n",
      "meta\n",
      "meta\n"
     ]
    }
   ],
   "source": [
    "for tag in s.find_all(re.compile(\"meta\")):  #contains t\n",
    "    print(tag.name)"
   ]
  },
  {
   "cell_type": "code",
   "execution_count": 168,
   "id": "62c29040-95f9-448d-8b3a-3d9c7187e673",
   "metadata": {
    "tags": []
   },
   "outputs": [
    {
     "name": "stdout",
     "output_type": "stream",
     "text": [
      "html, head, meta, meta, meta, title, meta, meta, meta, meta, meta, meta, link, meta, meta, meta, meta, meta, meta, link, link, link, link, link, link, link, link, link, link, link, link, link, link, link, link, link, link, link, link, link, link, script, script, script, script, script, script, script, style, link, body, div, div, div, div, h4, button, div, div, ul, li, a, li, a, li, a, li, a, noscript, iframe, form, input, script, script, script, script, script, script, script, script, script, script, input, div, ul, li, a, span, div, div, a, div, div, span, a, img, div, ul, li, a, li, a, li, a, li, a, li, a, li, a, li, a, li, a, li, a, li, a, li, a, span, div, div, div, div, h5, div, ul, li, h6, span, li, h6, span, br, li, h6, span, li, h6, span, li, h6, span, br, br, b, br, li, h6, span, br, br, li, h6, span, br, br, li, h6, span, li, h6, span, li, h6, span, li, h6, span, li, h6, span, li, h6, span, ul, li, h6, span, div, h4, div, h6, span, span, li, a, span, div, div, a, div, div, span, a, img, div, div, div, ul, li, b, li, strong, li, a, li, a, li, a, li, a, li, a, li, a, li, a, li, a, li, a, li, a, li, a, li, a, li, a, ul, li, strong, li, a, li, a, li, a, li, a, li, a, li, a, li, a, li, a, li, a, li, a, li, a, li, a, li, a, div, ul, li, b, li, a, div, ul, li, b, li, a, strong, li, a, li, a, li, a, li, a, li, a, li, a, li, a, li, a, li, a, li, a, li, a, li, a, li, a, li, a, li, a, li, a, strong, li, a, li, a, ul, li, b, li, a, strong, div, ul, li, b, li, a, li, a, ul, li, b, li, a, div, ul, li, b, li, a, li, a, li, a, li, a, li, a, li, a, li, a, li, a, li, a, li, a, li, a, li, a, li, a, li, a, li, a, li, a, li, a, i, nav, div, div, a, img, button, i, div, ul, li, a, span, div, div, div, div, div, a, img, div, div, a, img, div, div, a, img, div, div, div, a, img, div, div, a, img, div, div, a, img, div, div, div, ul, li, a, li, a, li, a, li, a, li, a, li, a, li, a, li, a, li, a, li, a, li, a, li, a, span, div, div, div, div, div, ul, li, a, li, a, li, a, div, div, p, strong, div, ul, li, a, li, a, li, a, li, a, li, a, li, a, li, a, li, a, li, a, li, a, li, a, li, a, li, a, li, a, li, a, li, a, li, a, li, a, li, a, li, a, li, a, li, a, li, a, li, a, li, a, li, a, li, a, li, a, li, a, li, a, li, a, li, a, li, a, li, a, li, a, li, a, li, a, li, a, li, a, li, a, li, a, li, a, li, a, li, a, li, a, li, a, li, a, li, a, li, a, li, a, li, a, li, a, li, a, li, a, li, a, li, a, li, a, li, a, li, a, li, a, li, a, li, a, li, a, li, a, li, a, li, a, li, a, li, a, li, a, li, a, li, a, li, a, li, a, li, a, li, a, li, a, li, a, li, a, li, a, li, a, li, a, li, a, li, a, li, a, li, a, li, a, li, a, li, a, li, a, li, a, li, a, li, a, li, a, li, a, li, a, li, a, li, a, li, a, li, a, li, a, li, a, li, a, li, a, li, a, div, p, strong, div, ul, li, a, li, a, li, a, li, a, li, a, li, a, li, a, li, a, li, a, li, a, li, a, li, a, li, a, li, a, li, a, li, a, li, a, li, a, li, a, li, a, li, a, li, a, li, a, li, a, li, a, li, a, li, a, li, a, li, a, li, a, li, a, li, a, li, a, li, a, li, a, li, a, li, a, li, a, li, a, li, a, li, a, li, a, li, a, li, a, li, a, li, a, li, a, li, a, li, a, li, a, li, a, li, a, li, a, li, a, li, a, li, a, li, a, li, a, li, a, li, a, li, a, li, a, li, a, li, a, li, a, li, a, li, a, li, a, li, a, li, a, li, a, li, a, li, a, li, a, li, a, li, a, li, a, li, a, li, a, li, a, li, a, li, a, li, a, li, a, li, a, li, a, li, a, li, a, li, a, li, a, li, a, li, a, li, a, li, a, li, a, li, a, li, a, li, a, li, a, li, a, li, a, li, a, li, a, li, a, li, a, li, a, li, a, li, a, li, a, li, a, li, a, li, a, li, a, li, a, li, a, div, div, ul, li, a, li, a, li, a, li, a, li, a, li, a, li, a, li, a, li, a, li, a, span, div, div, div, div, div, h4, div, ul, li, a, li, a, li, a, li, a, li, a, li, a, li, a, li, a, li, a, li, a, li, a, li, a, li, a, div, h4, div, ul, li, a, li, a, li, a, li, a, li, a, li, a, li, a, li, a, li, a, li, a, div, div, h4, div, div, div, a, img, div, a, img, div, a, img, div, a, img, div, div, a, img, div, a, img, div, a, img, div, div, a, img, div, a, img, div, a, img, div, div, a, img, div, a, img, div, a, img, li, a, li, a, li, a, li, a, li, a, div, a, div, ul, li, a, li, a, ul, li, a, li, a, li, a, li, a, li, a, li, a, li, a, li, a, li, a, ul, li, b, span, li, b, span, br, li, b, span, li, b, span, li, b, span, br, br, b, br, li, b, span, br, br, li, b, span, br, br, li, b, span, li, b, span, li, b, span, li, b, span, li, b, span, li, b, span, li, b, span, li, a, ul, li, b, span, span, br, li, a, ul, li, b, li, strong, li, a, li, a, li, a, li, a, li, a, li, a, li, a, li, a, li, a, li, a, li, a, li, a, li, a, li, strong, li, a, li, a, li, a, li, a, li, a, li, a, li, a, li, a, li, b, li, a, li, b, li, a, strong, li, a, li, a, li, a, li, a, li, a, li, a, li, a, li, a, li, a, li, a, li, a, li, a, li, a, li, a, li, a, li, a, strong, li, a, li, a, li, b, li, a, li, b, li, a, li, a, li, b, li, a, li, b, li, a, li, a, li, a, li, a, li, a, li, a, li, a, li, a, li, a, li, a, li, a, span, ul, li, a, li, a, li, a, li, a, ul, li, a, li, a, li, a, li, a, li, a, li, a, li, a, ul, li, a, li, a, li, a, li, a, li, a, li, a, li, a, li, a, li, a, li, a, li, a, li, a, span, ul, li, a, li, a, ul, li, a, li, a, li, a, li, a, li, a, li, a, li, a, li, a, li, a, li, a, li, a, li, a, li, a, li, a, li, a, li, a, li, a, li, a, li, a, li, a, li, a, li, a, li, a, li, a, li, a, li, a, li, a, li, a, li, a, li, a, li, a, li, a, li, a, li, a, li, a, li, a, li, a, li, a, li, a, li, a, li, a, li, a, li, a, li, a, li, a, li, a, li, a, li, a, li, a, li, a, li, a, li, a, li, a, li, a, li, a, li, a, li, a, li, a, li, a, li, a, li, a, li, a, li, a, li, a, li, a, li, a, li, a, li, a, li, a, li, a, li, a, li, a, li, a, li, a, li, a, li, a, li, a, li, a, li, a, li, a, li, a, li, a, li, a, li, a, li, a, li, a, li, a, li, a, li, a, li, a, li, a, li, a, li, a, li, a, li, a, li, a, li, a, li, a, li, a, li, a, li, a, li, a, li, a, li, a, li, a, li, a, ul, li, a, li, a, li, a, li, a, li, a, li, a, li, a, li, a, li, a, li, a, li, a, li, a, li, a, li, a, li, a, li, a, li, a, li, a, li, a, li, a, li, a, li, a, li, a, li, a, li, a, li, a, li, a, li, a, li, a, li, a, li, a, li, a, li, a, li, a, li, a, li, a, li, a, li, a, li, a, li, a, li, a, li, a, li, a, li, a, li, a, li, a, li, a, li, a, li, a, li, a, li, a, li, a, li, a, li, a, li, a, li, a, li, a, li, a, li, a, li, a, li, a, li, a, li, a, li, a, li, a, li, a, li, a, li, a, li, a, li, a, li, a, li, a, li, a, li, a, li, a, li, a, li, a, li, a, li, a, li, a, li, a, li, a, li, a, li, a, li, a, li, a, li, a, li, a, li, a, li, a, li, a, li, a, li, a, li, a, li, a, li, a, li, a, li, a, li, a, li, a, li, a, li, a, li, a, li, a, li, a, li, a, li, a, li, a, li, a, li, a, li, a, li, a, li, a, li, a, li, a, li, a, li, a, li, a, li, a, li, a, li, a, li, a, li, a, li, a, li, a, li, a, span, ul, li, a, ul, li, a, li, a, li, a, li, a, li, a, li, a, li, a, li, a, li, a, li, a, li, a, li, a, li, a, li, a, ul, li, a, li, a, li, a, li, a, li, a, li, a, li, a, li, a, li, a, li, a, li, a, ul, li, a, li, a, li, a, li, a, li, a, li, a, li, a, li, a, li, a, li, a, ul, li, a, li, a, ul, li, a, li, a, ul, li, a, li, a, li, a, li, a, li, a, li, a, li, a, li, a, li, a, li, a, li, a, li, a, ul, li, a, li, a, li, a, li, a, li, a, ul, li, a, li, a, li, a, li, a, ul, li, a, li, a, li, a, li, a, li, a, ul, li, a, li, a, li, a, li, a, li, a, li, a, li, a, li, a, li, a, header, div, a, div, div, div, div, div, p, h2, br, p, span, img, a, div, div, div, div, div, p, br, h2, br, br, p, span, img, a, div, div, div, div, div, h2, br, br, p, p, span, img, a, div, div, div, div, div, h2, p, br, aside, a, i, a, i, a, i, section, div, div, div, h2, div, p, div, ul, li, h3, span, li, h3, span, li, h3, span, div, ul, li, a, li, a, div, h4, span, div, div, div, h3, div, div, input, div, input, input, ul, p, a, a, a, h4, span, div, div, div, h3, div, div, input, div, input, input, ul, p, a, a, a, section, div, div, div, div, div, img, div, div, img, div, div, img, div, div, img, div, div, img, div, div, img, div, div, img, div, div, img, div, div, img, div, div, img, div, div, img, div, div, img, div, div, img, div, div, ul, li, a, li, a, li, a, li, a, li, a, li, a, li, a, li, a, li, a, li, a, li, a, li, a, li, a, a, span, span, a, span, span, div, div, div, div, h2, h3, div, div, h4, br, div, a, span, div, div, div, ul, li, h3, p, li, h3, p, li, h3, p, li, h3, p, li, h3, p, li, h3, p, div, ul, li, h3, p, li, h3, p, li, h3, p, li, h3, p, li, h3, p, li, h3, p, div, ul, li, h3, p, li, h3, p, li, h3, p, li, h3, p, li, h3, p, li, h3, p, div, ul, li, h3, p, li, h3, p, li, h3, p, div, div, div, div, ul, li, span, img, li, span, img, li, span, img, li, span, img, section, div, div, div, h2, span, div, div, div, span, img, div, a, div, div, span, img, div, a, div, span, img, div, a, div, span, img, div, a, div, div, span, img, div, a, section, div, div, div, div, h2, span, h3, b, b, ul, li, a, li, a, li, a, div, div, ul, li, h3, p, li, h3, p, li, h3, p, li, h3, p, div, div, div, div, ul, li, span, img, h4, li, span, img, h4, div, ul, li, span, img, h4, li, span, img, h4, abbr, a, img, section, div, h2, span, abbr, a, img, div, div, div, div, span, img, h4, div, div, div, div, span, img, h4, div, div, span, img, h4, div, div, span, img, h4, div, div, span, img, h4, section, div, ul, li, a, li, a, abbr, a, img, div, h4, span, div, ul, input, input, li, div, span, div, a, span, h4, input, input, li, div, span, div, a, span, h4, input, input, li, div, span, div, a, span, h4, input, input, li, div, span, div, a, span, h4, input, input, li, div, span, div, a, span, h4, input, input, li, div, span, div, a, span, h4, h4, span, div, ul, li, a, div, div, ol, li, li, h3, li, a, div, div, ol, li, li, h3, li, a, div, div, ol, li, li, h3, li, a, div, div, ol, li, li, h3, li, a, div, div, ol, li, li, h3, li, a, div, div, ol, li, li, h3, section, div, ul, li, a, li, a, li, a, div, h4, span, div, div, div, a, div, div, span, img, div, h3, h4, p, br, div, a, div, div, span, img, div, h3, h4, p, br, h4, span, div, div, div, a, div, div, span, img, div, h3, h4, p, br, div, a, div, div, span, img, div, h3, h4, p, br, h4, span, div, div, div, a, div, div, span, img, div, h3, h4, p, p, font, span, p, font, span, p, font, span, p, font, span, div, a, div, div, span, img, div, h3, h4, p, p, div, div, div, div, div, div, div, a, div, div, span, img, div, h3, h4, p, p, div, div, div, div, div, a, div, div, span, img, div, h3, h4, p, p, div, div, div, div, a, div, div, span, img, div, h3, h4, p, p, div, div, div, div, a, div, div, span, img, div, h3, h4, p, p, div, div, section, footer, div, h4, span, div, span, div, div, h3, ul, li, a, li, a, li, a, div, h3, ul, li, a, li, a, li, a, li, a, li, a, li, a, li, a, li, a, li, a, li, a, li, a, li, a, li, a, div, h3, ul, li, a, li, a, li, a, li, a, li, a, li, a, li, a, li, a, li, a, div, h3, ul, li, a, li, a, li, a, li, a, li, a, li, a, li, a, li, a, li, a, li, a, li, a, li, a, li, a, li, a, div, h3, ul, li, a, img, li, a, i, div, h3, div, div, div, input, input, input, input, input, input, span, i, input, input, div, input, h3, ul, li, a, i, li, a, i, li, a, i, li, a, i, h4, p, a, section, div, div, section, div, a, div, div, div, input, input, input, script, script, div, span, a, img, div, div, div, div, div, button, span, h3, div, div, script, div, div, div, div, input, input, div, input, input, input, div, input, input, input, div, div, div, select, option, option, option, option, option, option, option, option, option, option, option, option, option, input, div, select, option, option, option, option, option, option, option, option, option, option, option, option, option, option, option, option, option, option, option, option, option, option, option, option, option, option, option, option, input, div, div, input, input, div, div, img, a, img, div, input, input, script, div, h4, a, div, div, div, div, button, span, h3, div, h3, sup, sup, h4, sup, br, sup, a, script, script, script, script, script, script, script, script, script, script, script, script, script, script, script, script, noscript, div, img, script, script, noscript, div, img, script, script, script, script, "
     ]
    }
   ],
   "source": [
    "for tag in s.find_all(True):\n",
    "    print(tag.name, end=', ')"
   ]
  },
  {
   "cell_type": "code",
   "execution_count": 169,
   "id": "9a7bf650-9cfe-4596-9f25-f92b53533cb4",
   "metadata": {
    "tags": []
   },
   "outputs": [
    {
     "data": {
      "text/plain": [
       "[<a href=\"http://amity.edu/jaipur\" target=\"_blank\">Amity University Jaipur</a>,\n",
       " <a href=\"http://amity.edu/jaipur\" target=\"_blank\">Jaipur</a>,\n",
       " <a href=\"http://amity.edu/jaipur\" target=\"_blank\">Amity University Jaipur</a>,\n",
       " <a href=\"http://amity.edu/jaipur\" target=\"_blank\">Jaipur</a>,\n",
       " <a href=\"http://amity.edu/jaipur\" target=\"_blank\">Jaipur</a>]"
      ]
     },
     "execution_count": 169,
     "metadata": {},
     "output_type": "execute_result"
    }
   ],
   "source": [
    "s.find_all(href=re.compile(\"jaipur\"))"
   ]
  },
  {
   "cell_type": "markdown",
   "id": "19ab67b6-741b-488f-bcc6-2177ecfa60ff",
   "metadata": {
    "tags": []
   },
   "source": [
    "def not_jaipur(href):\n",
    "    return href and not re.compile(\"jaipur\").search(href)\n",
    "s.find_all(href = not_jaipur)"
   ]
  },
  {
   "cell_type": "code",
   "execution_count": 172,
   "id": "1d2834a6-74c5-47f2-8d76-e22f891ccc3f",
   "metadata": {
    "tags": []
   },
   "outputs": [
    {
     "data": {
      "text/plain": [
       "[]"
      ]
     },
     "execution_count": 172,
     "metadata": {},
     "output_type": "execute_result"
    }
   ],
   "source": [
    "s.find_all(href=re.compile(\"jaipur\"), id='link')"
   ]
  },
  {
   "cell_type": "code",
   "execution_count": 173,
   "id": "d2fd0566-e5c9-4902-b034-4673bd47322a",
   "metadata": {
    "tags": []
   },
   "outputs": [
    {
     "data": {
      "text/plain": [
       "[<a href=\"https://amity.edu/apply-now.aspx?1=1\" target=\"_blank\">How To Apply</a>,\n",
       " <a href=\"pdf/admission_prospectus_2024.pdf\" target=\"_blank\">Admission Prospectus Noida - 2024</a>,\n",
       " <a href=\"pdf/admission_prospectus_bihar.pdf\" target=\"_blank\">Admission Prospectus Patna - 2024</a>,\n",
       " <a href=\"#\" target=\"_blank\">Admission Prospectus Ranchi - 2024 </a>,\n",
       " <a href=\"pdf/Punjab-Prospectus-2024.pdf\" target=\"_blank\"><span>Admission Prospectus Mohali - 2024 </span></a>,\n",
       " <a href=\"http://amity.edu/greaternoida/\" target=\"_blank\">Amity Greater Noida</a>,\n",
       " <a href=\"http://amity.edu/kolkata/\" target=\"_blank\">Amity University Kolkata</a>,\n",
       " <a href=\"http://amity.edu/ranchi/\" target=\"_blank\">Amity University Ranchi</a>,\n",
       " <a href=\"http://amity.edu/patna/\" target=\"_blank\">Amity University Patna</a>,\n",
       " <a href=\"http://amity.edu/mohali/\" target=\"_blank\">Amity University Mohali</a>,\n",
       " <a href=\"https://amity.edu/bengaluru/\" target=\"_blank\">Amity University Bengaluru</a>,\n",
       " <a href=\"http://amity.edu/lucknow\" target=\"_blank\">Amity University Lucknow</a>,\n",
       " <a href=\"http://amity.edu/jaipur\" target=\"_blank\">Amity University Jaipur</a>,\n",
       " <a href=\"http://amity.edu/gurgaon\" target=\"_blank\">Amity University Gurgaon</a>,\n",
       " <a href=\"http://amity.edu/gwalior\" target=\"_blank\">Amity University Gwalior</a>,\n",
       " <a href=\"http://amity.edu/mumbai\" target=\"_blank\">Amity University Mumbai</a>,\n",
       " <a href=\"http://amity.edu/raipur/\" target=\"_blank\">Amity University Raipur</a>,\n",
       " <a href=\"https://www.amityuniversity.uk/\" target=\"_blank\">Amity University [in] London</a>,\n",
       " <a href=\"https://www.amityuniversity.ae\" target=\"_blank\">Amity University Dubai </a>,\n",
       " <a href=\"https://amity.uz/\" target=\"_blank\">Amity Tashkent </a>,\n",
       " <a href=\"https://www.amitysingapore.sg/\" target=\"_blank\">Amity Singapore</a>,\n",
       " <a href=\"https://www.amity.za.com/\" target=\"_blank\">Amity South Africa</a>,\n",
       " <a href=\"https://amityabudhabi.com/\" target=\"_blank\">Amity Abu Dhabi</a>,\n",
       " <a href=\"https://amity.edu/mauritius/\" target=\"_blank\">Amity Mauritius</a>,\n",
       " <a href=\"https://amity.edu/china/\" target=\"_blank\">Amity China</a>,\n",
       " <a href=\"https://www.amityschool.nl/\" target=\"_blank\">Amity Amsterdam </a>,\n",
       " <a href=\"https://amityonline.com/\" target=\"_blank\">Amity University Online</a>,\n",
       " <a href=\"https://amityschools.in/\" target=\"_blank\">\n",
       " <strong>Amity International Schools</strong></a>,\n",
       " <a href=\"https://amityschools.in/saket/\" target=\"_blank\">Saket</a>,\n",
       " <a href=\"https://amityschools.in/noida/\" target=\"_blank\">Noida</a>,\n",
       " <a href=\"https://amityschools.in/gwalior/\" target=\"_blank\">Gwalior </a>,\n",
       " <a href=\"https://amityschools.in/gurugram43/\" target=\"_blank\">Power Grid, Gurgaon</a>,\n",
       " <a href=\"https://amityschools.in/gurugram46/\" target=\"_blank\">Sector 46, Gurgaon</a>,\n",
       " <a href=\"https://amityschools.in/aisv6/\" target=\"_blank\">Sector 6, Vasundhara</a>,\n",
       " <a href=\"https://amityschools.in/aisv1/\" target=\"_blank\">Sector 1, Vasundhara</a>,\n",
       " <a href=\"https://amityschools.in/pushpvihar/\" target=\"_blank\">Pushp Vihar</a>,\n",
       " <a href=\"https://amityschools.in/mayurvihar/\" target=\"_blank\">Mayur Vihar</a>,\n",
       " <a href=\"https://amityschools.in/jagdishpur/\" target=\"_blank\">Jagdishpur</a>,\n",
       " <a href=\"https://amityschools.in/vrindavanyojna/\" target=\"_blank\">Vindavan Yojna</a>,\n",
       " <a href=\"https://amityschools.in/virajkhand/\" target=\"_blank\">Vrirajkhand</a>,\n",
       " <a href=\"https://amityschools.in/mohali/\" target=\"_blank\">Mohali</a>,\n",
       " <a href=\"https://amityschools.in/navimumbai/\" target=\"_blank\">Navi Mumbai</a>,\n",
       " <a href=\"https://amityschools.in/raipur/\" target=\"_blank\">Raipur </a>,\n",
       " <a href=\"https://amityglobalschoolnoida.com/\" target=\"_blank\">\n",
       " <strong>Amity Global School</strong></a>,\n",
       " <a href=\"https://amityglobalschoolgurgaon.com/\" target=\"_blank\">Gurgaon</a>,\n",
       " <a href=\"https://amityglobalschoolnoida.com/\" target=\"_blank\">Noida</a>,\n",
       " <a href=\"https://amiown.com/\" target=\"_blank\"><strong>Amiown</strong></a>,\n",
       " <a href=\"https://amityuniversitypress.com/\" target=\"_blank\">Amity University Press</a>,\n",
       " <a href=\"https://amity.edu/ADMAA/publications.aspx\" target=\"_blank\">Amity Directorate\n",
       "                 of Management &amp; Allied Areas(ADMAA)</a>,\n",
       " <a href=\"https://www.amity.edu/aice/\" target=\"_blank\">Amity Institute for Competitive\n",
       "                 Examinations</a>,\n",
       " <a href=\"https://amity.edu/aii/\" target=\"_blank\">Amity Innovation Incubator</a>,\n",
       " <a href=\"https://amity.edu/ditt/\" target=\"_blank\">Directorate of Innovation and Technology Transfer</a>,\n",
       " <a href=\"https://amity.edu/astif/\" target=\"_blank\">Amity Science, Technology &amp; Innovation Foundation</a>,\n",
       " <a href=\"https://www.amity.edu/ssb/\" target=\"_blank\">Amity SSB Academy</a>,\n",
       " <a href=\"https://www.amity.edu/acc/\" target=\"_blank\">Amity Cadet Corps</a>,\n",
       " <a href=\"https://www.amity.edu/aimc/\" target=\"_blank\">Amity Indian Military College</a>,\n",
       " <a href=\"https://www.amity.edu/mtc/\" target=\"_blank\">Military Training Camp</a>,\n",
       " <a href=\"https://www.amityedumedia.com/\" target=\"_blank\">Amity Edumedia</a>,\n",
       " <a href=\"https://amityfinishingschool.com/\" target=\"_blank\">Amity Finishing School</a>,\n",
       " <a href=\"https://amity.edu/summerschool/\" target=\"_blank\">Amity University Summer School</a>,\n",
       " <a href=\"http://alumni.amity.edu/\" target=\"_blank\">Alumni</a>,\n",
       " <a href=\"http://www.amity.edu/login.aspx\" target=\"_blank\">Admission Microsite Login</a>,\n",
       " <a href=\"http://www.amity.edu/phd/\" target=\"_blank\">Ph.D Admission</a>,\n",
       " <a href=\"https://amityonline.com/\" target=\"_blank\">Online Degree Programs </a>,\n",
       " <a href=\"http://www.amity.edu/international/\" target=\"_blank\">International Courses</a>,\n",
       " <a href=\"http://amityfinishingschool.com/\" target=\"_blank\">Amity Finishing School</a>,\n",
       " <a href=\"http://amity.edu/summerschool/\" target=\"_blank\">Summer School</a>,\n",
       " <a href=\"http://www.amity.edu/Lateral/\" target=\"_blank\">Lateral Entry</a>,\n",
       " <a href=\"http://www.amity.edu/3Continent/\" target=\"_blank\">3 Continent Programs</a>,\n",
       " <a href=\"http://amity.edu/noida/\" target=\"_blank\">Noida</a>,\n",
       " <a href=\"http://amity.edu/greaternoida/\" target=\"_blank\">Greater Noida</a>,\n",
       " <a href=\"http://amity.edu/kolkata/\" target=\"_blank\">Kolkata</a>,\n",
       " <a href=\"http://amity.edu/ranchi/\" target=\"_blank\">Ranchi</a>,\n",
       " <a href=\"http://amity.edu/patna/\" target=\"_blank\">Patna</a>,\n",
       " <a href=\"http://amity.edu/mohali/\" target=\"_blank\">Mohali</a>,\n",
       " <a href=\"https://amity.edu/bengaluru/\" target=\"_blank\">Bengaluru</a>,\n",
       " <a href=\"http://amity.edu/lucknow\" target=\"_blank\">Lucknow</a>,\n",
       " <a href=\"http://amity.edu/jaipur\" target=\"_blank\">Jaipur</a>,\n",
       " <a href=\"http://amity.edu/gurgaon\" target=\"_blank\">Gurgaon</a>,\n",
       " <a href=\"http://amity.edu/gwalior\" target=\"_blank\">Gwalior</a>,\n",
       " <a href=\"http://amity.edu/mumbai\" target=\"_blank\">Mumbai</a>,\n",
       " <a href=\"http://amity.edu/raipur/\" target=\"_blank\">Raipur</a>,\n",
       " <a href=\"https://ahmedabad.agbs.in/\" target=\"_blank\">Ahmedabad</a>,\n",
       " <a href=\"https://bangalore.agbs.in/\" target=\"_blank\">Bangalore</a>,\n",
       " <a href=\"https://bhubaneswar.agbs.in/\" target=\"_blank\">Bhubaneswar</a>,\n",
       " <a href=\"https://chennai.agbs.in/\" target=\"_blank\">Chennai</a>,\n",
       " <a href=\"https://hyderabad.agbs.in/\" target=\"_blank\">Hyderabad</a>,\n",
       " <a href=\"https://indore.agbs.in/\" target=\"_blank\">Indore</a>,\n",
       " <a href=\"https://kochi.agbs.in/\" target=\"_blank\">Kochi</a>,\n",
       " <a href=\"https://mumbai.agbs.in/\" target=\"_blank\">Mumbai Malad</a>,\n",
       " <a href=\"https://noida.agbs.in/\" target=\"_blank\">Noida</a>,\n",
       " <a href=\"https://pune.agbs.in/\" target=\"_blank\">Pune</a>,\n",
       " <a href=\"https://www.amity.ac.uk\" target=\"_blank\"><img class=\"img-fluid menu_text_img\" src=\"images/landan.jpg\"/> London</a>,\n",
       " <a href=\"https://amityuniversity.ae/\" target=\"_blank\"><img class=\"img-fluid menu_text_img\" src=\"images/dubai.jpg\"/> Dubai</a>,\n",
       " <a href=\"https://amity.uz/\" target=\"_blank\"><img class=\"img-fluid menu_text_img\" src=\"images/tashkent.jpg\"/> Tashkent</a>,\n",
       " <a href=\"https://www.amitysingapore.sg/\" target=\"_blank\"><img class=\"img-fluid menu_text_img\" src=\"images/singapure.jpg\"/> Singapore</a>,\n",
       " <a href=\"https://amity.edu/mauritius/\" target=\"_blank\"><img class=\"img-fluid menu_text_img\" src=\"images/mauritius.jpg\"/> Mauritius</a>,\n",
       " <a href=\"https://amityabudhabi.com/\" target=\"_blank\"><img class=\"img-fluid menu_text_img\" src=\"images/abu_dhabi.jpg\"/> Abu Dhabi</a>,\n",
       " <a href=\"https://www.amity.za.com/\" target=\"_blank\"> <img class=\"img-fluid menu_text_img\" src=\"images/south_africa.jpg\"/> South Africa</a>,\n",
       " <a href=\"https://www.amityschool.nl\" target=\"_blank\"><img class=\"img-fluid menu_text_img\" src=\"images/Amsterdam.jpg\"/> Amsterdam</a>,\n",
       " <a class=\"nav-link apply_btn\" href=\"https://portal.amity.edu/NewOnlineForm/Candidate/SignUp\" style=\"text-transform: uppercase;\" target=\"_blank\">Apply Now 2025</a>,\n",
       " <a href=\"https://amity.edu/pdf/admission_prospectus_2024.pdf\" target=\"_blank\">Admission Prospectus 2024</a>,\n",
       " <a href=\"http://amity.edu/noida/\" target=\"_blank\">Amity University Noida</a>,\n",
       " <a href=\"http://amity.edu/greaternoida/\" target=\"_blank\">Amity Greater Noida</a>,\n",
       " <a href=\"http://amity.edu/kolkata/\" target=\"_blank\">Amity University Kolkata</a>,\n",
       " <a href=\"http://amity.edu/ranchi/\" target=\"_blank\">Amity University Ranchi</a>,\n",
       " <a href=\"http://amity.edu/patna/\" target=\"_blank\">Amity University Patna</a>,\n",
       " <a href=\"http://amity.edu/mohali/\" target=\"_blank\">Amity University Mohali</a>,\n",
       " <a href=\"https://amity.edu/bengaluru/\" target=\"_blank\">Amity University Bengaluru</a>,\n",
       " <a href=\"http://amity.edu/lucknow\" target=\"_blank\">Amity University Lucknow</a>,\n",
       " <a href=\"http://amity.edu/jaipur\" target=\"_blank\">Amity University Jaipur</a>,\n",
       " <a href=\"http://amity.edu/gurgaon\" target=\"_blank\">Amity University Gurgaon</a>,\n",
       " <a href=\"http://amity.edu/gwalior\" target=\"_blank\">Amity University Gwalior</a>,\n",
       " <a href=\"http://amity.edu/mumbai\" target=\"_blank\">Amity University Mumbai</a>,\n",
       " <a href=\"http://amity.edu/raipur/\" target=\"_blank\">Amity University Raipur</a>,\n",
       " <a href=\"http://www.amityuniversity.ae\" target=\"_blank\">Amity University Dubai</a>,\n",
       " <a href=\"http://www.amitysingapore.sg/\" target=\"_blank\">Amity Singapore</a>,\n",
       " <a href=\"http://www.amitylondon.org.uk/\" target=\"_blank\">Amity University [IN] London</a>,\n",
       " <a href=\"http://amity.edu/mauritius/\" target=\"_blank\">AIHE Mauritius</a>,\n",
       " <a href=\"http://amity.edu/china\" target=\"_blank\">Amity China</a>,\n",
       " <a href=\"https://www.amityschool.nl/\" target=\"_blank\">Amity Amsterdam </a>,\n",
       " <a href=\"https://www.amity.uz/\" target=\"_blank\">Amity Tashkent </a>,\n",
       " <a href=\"https://amityonline.com/\" target=\"_blank\">Amity University Online</a>,\n",
       " <a href=\"https://amityschools.in/\" target=\"_blank\">\n",
       " <strong>Amity International Schools</strong></a>,\n",
       " <a href=\"https://amityschools.in/saket/\" target=\"_blank\">Saket</a>,\n",
       " <a href=\"https://amityschools.in/noida/\" target=\"_blank\">Noida</a>,\n",
       " <a href=\"https://amityschools.in/gwalior/\" target=\"_blank\">Gwalior </a>,\n",
       " <a href=\"https://amityschools.in/gurugram43/\" target=\"_blank\">Power Grid, Gurgaon</a>,\n",
       " <a href=\"https://amityschools.in/gurugram46/\" target=\"_blank\">Sector 46, Gurgaon</a>,\n",
       " <a href=\"https://amityschools.in/aisv6/\" target=\"_blank\">Sector 6, Vasundhara</a>,\n",
       " <a href=\"https://amityschools.in/aisv1/\" target=\"_blank\">Sector 1, Vasundhara</a>,\n",
       " <a href=\"https://amityschools.in/pushpvihar/\" target=\"_blank\">Pushp Vihar</a>,\n",
       " <a href=\"https://amityschools.in/mayurvihar/\" target=\"_blank\">Mayur Vihar</a>,\n",
       " <a href=\"https://amityschools.in/jagdishpur/\" target=\"_blank\">Jagdishpur</a>,\n",
       " <a href=\"https://amityschools.in/vrindavanyojna/\" target=\"_blank\">Vindavan Yojna</a>,\n",
       " <a href=\"https://amityschools.in/virajkhand/\" target=\"_blank\">Vrirajkhand</a>,\n",
       " <a href=\"https://amityschools.in/mohali/\" target=\"_blank\">Mohali</a>,\n",
       " <a href=\"https://amityschools.in/navimumbai/\" target=\"_blank\">Navi Mumbai</a>,\n",
       " <a href=\"https://amityschools.in/raipur/\" target=\"_blank\">Raipur </a>,\n",
       " <a href=\"https://amityglobalschoolnoida.com/\" target=\"_blank\">\n",
       " <strong>Amity Global School</strong></a>,\n",
       " <a href=\"https://amityglobalschoolgurgaon.com/\" target=\"_blank\">Gurgaon</a>,\n",
       " <a href=\"https://amityglobalschoolnoida.com/\" target=\"_blank\">Noida</a>,\n",
       " <a href=\"https://amiown.com/\" target=\"_blank\">Amiown</a>,\n",
       " <a href=\"http://amityuniversitypress.com/\" target=\"_blank\">Amity University Press</a>,\n",
       " <a href=\"http://amity.edu/ADMAA/publications.aspx\" target=\"_blank\">Amity Directorate\n",
       "                     of Management &amp; Allied Areas(ADMAA)</a>,\n",
       " <a href=\"http://www.amity.edu/aice/\" target=\"_blank\">Amity Institute for Competitive\n",
       "                     Examinations</a>,\n",
       " <a href=\"http://amity.edu/aii/\" target=\"_blank\">Amity Innovation Incubator</a>,\n",
       " <a href=\"https://amity.edu/ditt/\" target=\"_blank\">Directorate of Innovation and Technology Transfer</a>,\n",
       " <a href=\"https://amity.edu/astif/\" target=\"_blank\">Amity Science, Technology &amp; Innovation Foundation</a>,\n",
       " <a href=\"http://www.amity.edu/ssb/\" target=\"_blank\">Amity University Press</a>,\n",
       " <a href=\"http://www.amity.edu/acc/\" target=\"_blank\">Amity SSB Academy</a>,\n",
       " <a href=\"http://www.amity.edu/aimc/\" target=\"_blank\">Amity Cadet Corps</a>,\n",
       " <a href=\"http://www.amity.edu/aimc/\" target=\"_blank\">Amity Indian Military College</a>,\n",
       " <a href=\"http://www.amity.edu/mtc/\" target=\"_blank\">Military Training Camp</a>,\n",
       " <a href=\"http://www.amityedumedia.com/\" target=\"_blank\">Amity Edumedia</a>,\n",
       " <a href=\"http://amityfinishingschool.com/\" target=\"_blank\">Amity Finishing School</a>,\n",
       " <a href=\"http://www.amity.edu/phd/\" target=\"_blank\">Ph.D Admission</a>,\n",
       " <a href=\"https://amityonline.com/\" target=\"_blank\">Online Degree Programs</a>,\n",
       " <a href=\"http://www.amity.edu/international/\" target=\"_blank\">International Courses</a>,\n",
       " <a href=\"http://amityfinishingschool.com/\" target=\"_blank\">Amity Finishing School</a>,\n",
       " <a href=\"http://amity.edu/summerschool/\" target=\"_blank\">Summer School</a>,\n",
       " <a href=\"http://www.amity.edu/Lateral/\" target=\"_blank\">Lateral Entry</a>,\n",
       " <a href=\"http://www.amity.edu/3Continent/\" target=\"_blank\">3 Continent Programs</a>,\n",
       " <a href=\"http://amity.edu/lucknow\" target=\"_blank\">Lucknow</a>,\n",
       " <a href=\"http://amity.edu/jaipur\" target=\"_blank\">Jaipur</a>,\n",
       " <a href=\"http://amity.edu/gurgaon\" target=\"_blank\">Gurgaon</a>,\n",
       " <a href=\"http://amity.edu/Gwalior\" target=\"_blank\">Gwalior</a>,\n",
       " <a href=\"http://amity.edu/greaternoida/\" target=\"_blank\">Greater Noida</a>,\n",
       " <a href=\"http://amity.edu/mumbai\" target=\"_blank\">Mumbai</a>,\n",
       " <a href=\"http://amity.edu/raipur\" target=\"_blank\">Raipur</a>,\n",
       " <a href=\"http://amity.edu/kolkata\" target=\"_blank\">Kolkata</a>,\n",
       " <a href=\"http://amity.edu/ranchi\" target=\"_blank\">Ranchi</a>,\n",
       " <a href=\"http://amity.edu/bihar/\" target=\"_blank\">Patna</a>,\n",
       " <a href=\"http://amity.edu/mohali/\" target=\"_blank\">Mohali</a>,\n",
       " <a href=\"https://amity.edu/Bengaluru/\" target=\"_blank\">Amity University, Bengaluru  </a>,\n",
       " <a href=\"https://ahmedabad.agbs.in/\" target=\"_blank\">Ahmedabad</a>,\n",
       " <a href=\"https://bangalore.agbs.in/\" target=\"_blank\">Bangalore</a>,\n",
       " <a href=\"https://bhubaneswar.agbs.in/\" target=\"_blank\">Bhubaneswar</a>,\n",
       " <a href=\"https://chennai.agbs.in/\" target=\"_blank\">Chennai</a>,\n",
       " <a href=\"https://hyderabad.agbs.in/\" target=\"_blank\">Hyderabad</a>,\n",
       " <a href=\"https://indore.agbs.in/\" target=\"_blank\">Indore</a>,\n",
       " <a href=\"https://kochi.agbs.in/\" target=\"_blank\">Kochi</a>,\n",
       " <a href=\"https://mumbai.agbs.in/\" target=\"_blank\">Mumbai Malad</a>,\n",
       " <a href=\"https://noida.agbs.in/\" target=\"_blank\">Noida</a>,\n",
       " <a href=\"https://pune.agbs.in/\" target=\"_blank\">Pune</a>,\n",
       " <a href=\"https://www.amity.ac.uk\" target=\"_blank\">London</a>,\n",
       " <a href=\"http://amityuniversity.ae/\" target=\"_blank\">Dubai</a>,\n",
       " <a href=\"http://www.amitysingapore.sg/\" target=\"_blank\">Singapore</a>,\n",
       " <a href=\"http://amity.edu/mauritius/\" target=\"_blank\">Mauritius</a>,\n",
       " <a href=\"http://amity.edu/china/\" target=\"_blank\">China</a>,\n",
       " <a href=\"https://www.amityschool.nl\" target=\"_blank\">Amsterdam</a>,\n",
       " <a class=\"nav-link\" href=\"http://alumni.amity.edu/\" target=\"_blank\">Alumni</a>,\n",
       " <a class=\"nav-link\" href=\"https://portal.amity.edu/login.aspx\" target=\"_blank\">Admission Microsite Login</a>,\n",
       " <a href=\"https://amity.edu/mohali\" target=\"_blank\">Mohali</a>,\n",
       " <a href=\"http://amity.edu/lucknow\" target=\"_blank\">Lucknow</a>,\n",
       " <a href=\"http://amity.edu/jaipur\" target=\"_blank\">Jaipur</a>,\n",
       " <a href=\"http://amity.edu/gurgaon\" target=\"_blank\">Gurgaon</a>,\n",
       " <a href=\"http://amity.edu/Gwalior\" target=\"_blank\">Gwalior</a>,\n",
       " <a href=\"http://amity.edu/greaternoida/\" target=\"_blank\">Greater Noida</a>,\n",
       " <a href=\"http://amity.edu/mumbai\" target=\"_blank\">Mumbai</a>,\n",
       " <a href=\"http://amity.edu/raipur\" target=\"_blank\">Raipur</a>,\n",
       " <a href=\"http://amity.edu/kolkata\" target=\"_blank\">Kolkata</a>,\n",
       " <a href=\"http://amity.edu/ranchi\" target=\"_blank\">Ranchi</a>,\n",
       " <a href=\"http://amity.edu/patna\" target=\"_blank\">Patna</a>,\n",
       " <a href=\"https://amity.edu/bengaluru/\" target=\"_blank\">Bengaluru</a>,\n",
       " <a href=\"https://amity.edu/apply-now.aspx?1=1\" target=\"_blank\">Application Procedure</a>,\n",
       " <a href=\"https://portal.amity.edu/login.aspx\" target=\"_blank\">Admission Microsite </a>,\n",
       " <a href=\"https://amityonline.com/pdf/UGCPortalApplicationsubmitted31.05.22.pdf\" target=\"_blank\">Application Submitted to DEB</a>,\n",
       " <a href=\"https://amizone.net/amizone/\" target=\"_blank\">Amizone</a>,\n",
       " <a href=\"http://amity.edu/alumni/\" target=\"_blank\">Alumni Portal</a>,\n",
       " <a href=\"http://amity.edu/placement/\" target=\"_blank\">Placement Portal</a>,\n",
       " <a href=\"http://amity.edu/summerschool/\" target=\"_blank\">Amity University Summer School</a>,\n",
       " <a href=\"https://amityeducationfoundation.org/\" target=\"_blank\">Amity Education Foundation</a>,\n",
       " <a href=\"https://amityonline.com/\" target=\"_blank\">Amity University Online</a>,\n",
       " <a href=\"http://radioamity.com/\" target=\"_blank\"><i class=\"fa fa-microphone\"> </i> Amity Radio Live</a>,\n",
       " <a href=\"https://twitter.com/AmityUni\" target=\"_blank\"><i class=\"fa fa-twitter\"></i></a>,\n",
       " <a href=\"https://www.facebook.com/amityuni/\" target=\"_blank\"><i class=\"fa fa-facebook\"></i></a>,\n",
       " <a href=\"https://www.youtube.com/@amityuni\" target=\"_blank\"><i class=\"fa fa-youtube\"></i></a>,\n",
       " <a href=\"https://in.linkedin.com/school/amity-university/\" target=\"_blank\"><i class=\"fa fa-linkedin\"></i></a>,\n",
       " <a href=\"https://www.stercodigitex.com/\" target=\"_blank\">Sterco Digitex</a>,\n",
       " <a href=\"https://portal.amity.edu/NewOnlineForm/Candidate/SignUp\" target=\"_blank\"> \n",
       " \t\t\tApply Now 2025\n",
       " \t\t</a>,\n",
       " <a class=\"btn btn-default rounded\" href=\"https://www.amity.edu/openhouse\" target=\"_blank\">Register Here</a>]"
      ]
     },
     "execution_count": 173,
     "metadata": {},
     "output_type": "execute_result"
    }
   ],
   "source": [
    "s.find_all(attrs={\"target\": \"_blank\"})"
   ]
  },
  {
   "cell_type": "code",
   "execution_count": 174,
   "id": "e89ca358-39e2-4054-8805-f988edad745d",
   "metadata": {
    "tags": []
   },
   "outputs": [
    {
     "data": {
      "text/plain": [
       "['\\r\\n\\tTop Private University in North India | Amity University Noida\\r\\n']"
      ]
     },
     "execution_count": 174,
     "metadata": {},
     "output_type": "execute_result"
    }
   ],
   "source": [
    "s.title.find_all(string=True)"
   ]
  },
  {
   "cell_type": "code",
   "execution_count": 175,
   "id": "b956a52e-740b-4f3e-9de5-9ff933591faa",
   "metadata": {
    "tags": []
   },
   "outputs": [
    {
     "data": {
      "text/plain": [
       "['\\r\\n\\tTop Private University in North India | Amity University Noida\\r\\n']"
      ]
     },
     "execution_count": 175,
     "metadata": {},
     "output_type": "execute_result"
    }
   ],
   "source": [
    "s.title(string=True)"
   ]
  },
  {
   "cell_type": "code",
   "execution_count": 178,
   "id": "c06b730f-d7f0-4e86-91cb-34055ec53c1e",
   "metadata": {
    "tags": []
   },
   "outputs": [
    {
     "data": {
      "text/plain": [
       "'Top Private University in North India | Amity University Noida'"
      ]
     },
     "execution_count": 178,
     "metadata": {},
     "output_type": "execute_result"
    }
   ],
   "source": [
    "s.find(\"head\").find(\"title\").text.strip()"
   ]
  },
  {
   "cell_type": "markdown",
   "id": "adce4578-acd4-49f1-a67b-f3c69f1c72f2",
   "metadata": {},
   "source": [
    "### Extract Prices eg $1200 from web site using parent tag\n",
    "- .content : This attribute returns the raw bytes of the response content. \n",
    "- .text : The text attribute returns the content as a normal UTF-8 encoded Python string.\n",
    "- parent: Access the parent of a tag.\n",
    "- .contents: Access the children of a tag as a list.\n",
    "- .children: Access the children of a tag as a generator.\n",
    "- .descendants: Access all descendants of a tag.\n",
    "- .next_sibling: Access the next sibling of a tag.\n",
    "- .previous_sibling: Access the previous sibling of a tag."
   ]
  },
  {
   "cell_type": "code",
   "execution_count": 182,
   "id": "a67e0248-3963-4dce-a659-2ad94c78e535",
   "metadata": {
    "tags": []
   },
   "outputs": [],
   "source": [
    "tb1 = s.find('table')\n",
    "tb1"
   ]
  },
  {
   "cell_type": "code",
   "execution_count": 185,
   "id": "64f588a3-633c-4691-8c4c-c5fc3aaf9dd9",
   "metadata": {
    "tags": []
   },
   "outputs": [
    {
     "data": {
      "text/plain": [
       "[]"
      ]
     },
     "execution_count": 185,
     "metadata": {},
     "output_type": "execute_result"
    }
   ],
   "source": [
    "s.select('.content')"
   ]
  },
  {
   "cell_type": "code",
   "execution_count": null,
   "id": "3db02f2e-0d5f-467b-ad8c-27760e3b812f",
   "metadata": {},
   "outputs": [],
   "source": []
  },
  {
   "cell_type": "code",
   "execution_count": null,
   "id": "4b61eed8-f347-489e-9eaf-96d31b4d80cf",
   "metadata": {},
   "outputs": [],
   "source": []
  },
  {
   "cell_type": "code",
   "execution_count": null,
   "id": "c5e27870-d0b4-451e-88e4-a266b8cd1136",
   "metadata": {},
   "outputs": [],
   "source": []
  },
  {
   "cell_type": "markdown",
   "id": "7ed470a5-0ab4-42cc-96b6-2e4aa206d37f",
   "metadata": {},
   "source": [
    "# XML"
   ]
  },
  {
   "cell_type": "code",
   "execution_count": 179,
   "id": "19533611-0503-4b99-baf5-0ffa161f3393",
   "metadata": {
    "tags": []
   },
   "outputs": [
    {
     "data": {
      "text/plain": [
       "[]"
      ]
     },
     "execution_count": 179,
     "metadata": {},
     "output_type": "execute_result"
    }
   ],
   "source": [
    "xs = BeautifulSoup(response.text, \"xml\")\n",
    "\n",
    "xs.css.select(\"child\")"
   ]
  },
  {
   "cell_type": "code",
   "execution_count": 180,
   "id": "7f320362-d717-4b91-beb7-187a82eb3f76",
   "metadata": {
    "tags": []
   },
   "outputs": [
    {
     "data": {
      "text/plain": [
       "[]"
      ]
     },
     "execution_count": 180,
     "metadata": {},
     "output_type": "execute_result"
    }
   ],
   "source": [
    "xs.css.select(\"ns1|child\")"
   ]
  },
  {
   "cell_type": "code",
   "execution_count": null,
   "id": "e1b68e86-c1b5-4753-b1b6-f91da56a948d",
   "metadata": {},
   "outputs": [],
   "source": []
  },
  {
   "cell_type": "code",
   "execution_count": null,
   "id": "9214b856-8db6-4440-9996-a7c4c4870fa4",
   "metadata": {},
   "outputs": [],
   "source": []
  },
  {
   "cell_type": "code",
   "execution_count": null,
   "id": "e246965d-7311-44a4-9184-27fa536ffd40",
   "metadata": {},
   "outputs": [],
   "source": []
  },
  {
   "cell_type": "code",
   "execution_count": 46,
   "id": "da31df22-78ab-4670-b341-e5f1790f515c",
   "metadata": {
    "tags": []
   },
   "outputs": [],
   "source": [
    "textDoc = BeautifulSoup(response.text, 'html.parser')\n",
    "#textDoc"
   ]
  },
  {
   "cell_type": "code",
   "execution_count": 47,
   "id": "4ab75c6a-af23-4ba5-90e4-72f20604cf34",
   "metadata": {
    "tags": []
   },
   "outputs": [],
   "source": [
    "htmlDoc = BeautifulSoup(response.content, 'html.parser')\n",
    "#htmlDoc"
   ]
  },
  {
   "cell_type": "code",
   "execution_count": 49,
   "id": "208366e1-21b8-4c0b-a90d-e170ed1bf499",
   "metadata": {
    "tags": []
   },
   "outputs": [],
   "source": [
    "#print(htmlDoc.prettify(formatter='html'))\n"
   ]
  },
  {
   "cell_type": "code",
   "execution_count": 52,
   "id": "5b54881e-9938-4c1c-8ec7-900ad1eed3ce",
   "metadata": {
    "tags": []
   },
   "outputs": [
    {
     "data": {
      "text/plain": [
       "<title>\n",
       "    All products | Books to Scrape - Sandbox\n",
       "</title>"
      ]
     },
     "execution_count": 52,
     "metadata": {},
     "output_type": "execute_result"
    }
   ],
   "source": [
    "#htmlDoc.title\n",
    "textDoc.title"
   ]
  },
  {
   "cell_type": "code",
   "execution_count": 54,
   "id": "313f05ff-795f-4603-85dc-d8445dca00dc",
   "metadata": {
    "tags": []
   },
   "outputs": [
    {
     "data": {
      "text/plain": [
       "[]"
      ]
     },
     "execution_count": 54,
     "metadata": {},
     "output_type": "execute_result"
    }
   ],
   "source": [
    "prices = textDoc.find_all(string='Â£') #£51.\n",
    "prices"
   ]
  },
  {
   "cell_type": "code",
   "execution_count": 72,
   "id": "e4d27c97-e02a-4511-876b-b42175a24e5c",
   "metadata": {
    "tags": []
   },
   "outputs": [
    {
     "data": {
      "text/plain": [
       "[<p class=\"price_color\">Â£51.77</p>,\n",
       " <p class=\"price_color\">Â£53.74</p>,\n",
       " <p class=\"price_color\">Â£50.10</p>,\n",
       " <p class=\"price_color\">Â£47.82</p>,\n",
       " <p class=\"price_color\">Â£54.23</p>]"
      ]
     },
     "execution_count": 72,
     "metadata": {},
     "output_type": "execute_result"
    }
   ],
   "source": [
    "priceTag = textDoc.find_all('p', attrs={'class':'price_color'})\n",
    "priceTag[0:5]"
   ]
  },
  {
   "cell_type": "code",
   "execution_count": 78,
   "id": "153eacbc-8530-4088-933c-9334a6f2ab9f",
   "metadata": {
    "tags": []
   },
   "outputs": [
    {
     "name": "stdout",
     "output_type": "stream",
     "text": [
      "51.77, 53.74, 50.10, 47.82, 54.23, 22.65, 33.34, 17.93, 22.60, 52.15, 13.99, 20.66, 17.46, 52.29, 35.02, 57.25, 23.88, 37.59, 51.33, 45.17, "
     ]
    }
   ],
   "source": [
    "for i in priceTag:   \n",
    "    print(i.text[2:], end =', ')"
   ]
  },
  {
   "cell_type": "code",
   "execution_count": null,
   "id": "75c13b43-24ff-4a99-a48a-c6913e127541",
   "metadata": {},
   "outputs": [],
   "source": []
  }
 ],
 "metadata": {
  "kernelspec": {
   "display_name": "Python 3 (ipykernel)",
   "language": "python",
   "name": "python3"
  },
  "language_info": {
   "codemirror_mode": {
    "name": "ipython",
    "version": 3
   },
   "file_extension": ".py",
   "mimetype": "text/x-python",
   "name": "python",
   "nbconvert_exporter": "python",
   "pygments_lexer": "ipython3",
   "version": "3.11.5"
  }
 },
 "nbformat": 4,
 "nbformat_minor": 5
}
