{
 "cells": [
  {
   "cell_type": "code",
   "execution_count": null,
   "id": "957ca084-2951-4948-ae40-548afb6b2804",
   "metadata": {},
   "outputs": [],
   "source": [
    "## BS - Strainers\n"
   ]
  },
  {
   "cell_type": "code",
   "execution_count": 1,
   "id": "df19f026-58d6-46c7-b0aa-29ec1c1024a4",
   "metadata": {
    "tags": []
   },
   "outputs": [],
   "source": [
    "import re\n",
    "from bs4 import BeautifulSoup\n",
    "from bs4 import SoupStrainer\n",
    "import pandas as pd\n",
    "import requests"
   ]
  },
  {
   "cell_type": "code",
   "execution_count": 2,
   "id": "e7eaa195-11cb-481f-a492-061255ec2e66",
   "metadata": {
    "tags": []
   },
   "outputs": [],
   "source": [
    "only_a_tags = SoupStrainer(\"a\")\n",
    "only_tags_with_id_link2 = SoupStrainer(id=\"link2\")"
   ]
  },
  {
   "cell_type": "code",
   "execution_count": 23,
   "id": "61cf114b-93f5-41a7-999c-383b5e567fa1",
   "metadata": {
    "tags": []
   },
   "outputs": [],
   "source": [
    "def is_short_string(string):\n",
    "  return len(string) < 10\n",
    "only_short_strings = SoupStrainer(string=is_short_string)"
   ]
  },
  {
   "cell_type": "code",
   "execution_count": 4,
   "id": "b362362f-aa94-4676-bf83-bcb7191c8c09",
   "metadata": {
    "tags": []
   },
   "outputs": [
    {
     "data": {
      "text/plain": [
       "<Response [200]>"
      ]
     },
     "execution_count": 4,
     "metadata": {},
     "output_type": "execute_result"
    }
   ],
   "source": [
    "purl = 'https://books.toscrape.com/catalogue/page-1.html'\n",
    "requests.get(purl)"
   ]
  },
  {
   "cell_type": "code",
   "execution_count": 5,
   "id": "e8ef35c1-0942-4b81-9103-5344633d4029",
   "metadata": {
    "tags": []
   },
   "outputs": [],
   "source": [
    "response = requests.get(purl)"
   ]
  },
  {
   "cell_type": "code",
   "execution_count": 6,
   "id": "e58f3eca-5891-4d7a-816b-0bc5992b5f5e",
   "metadata": {
    "tags": []
   },
   "outputs": [],
   "source": [
    "responseC = response.content"
   ]
  },
  {
   "cell_type": "code",
   "execution_count": 7,
   "id": "99275d89-107a-4037-853d-a5481d430986",
   "metadata": {
    "tags": []
   },
   "outputs": [
    {
     "data": {
      "text/plain": [
       "b'\\n\\n<!DOCTYPE html>\\n<!--[if lt IE 7]>      <html lang=\"en-us\" class=\"no-js lt-ie9 lt-ie8 lt-ie7\"> <![e'"
      ]
     },
     "execution_count": 7,
     "metadata": {},
     "output_type": "execute_result"
    }
   ],
   "source": [
    "responseC[0:100]"
   ]
  },
  {
   "cell_type": "code",
   "execution_count": 21,
   "id": "b7b7ba0d-9841-455b-90e9-3a4a842f8a77",
   "metadata": {
    "tags": []
   },
   "outputs": [
    {
     "data": {
      "text/plain": [
       "94"
      ]
     },
     "execution_count": 21,
     "metadata": {},
     "output_type": "execute_result"
    }
   ],
   "source": [
    "soupa = BeautifulSoup(responseC, 'html.parser', parse_only=only_a_tags)\n",
    "len(soupa)"
   ]
  },
  {
   "cell_type": "code",
   "execution_count": 18,
   "id": "7fb1499a-cc4a-4e16-86b7-bbfcad93da44",
   "metadata": {
    "tags": []
   },
   "outputs": [
    {
     "name": "stdout",
     "output_type": "stream",
     "text": [
      "../index.html\n",
      "../index.html\n",
      "category/books_1/index.html\n",
      "category/books/travel_2/index.html\n",
      "category/books/mystery_3/index.html\n",
      "category/books/historical-fiction_4/index.html\n",
      "category/books/sequential-art_5/index.html\n",
      "category/books/classics_6/index.html\n",
      "category/books/philosophy_7/index.html\n",
      "category/books/romance_8/index.html\n",
      "category/books/womens-fiction_9/index.html\n",
      "category/books/fiction_10/index.html\n",
      "category/books/childrens_11/index.html\n",
      "category/books/religion_12/index.html\n",
      "category/books/nonfiction_13/index.html\n",
      "category/books/music_14/index.html\n",
      "category/books/default_15/index.html\n",
      "category/books/science-fiction_16/index.html\n",
      "category/books/sports-and-games_17/index.html\n",
      "category/books/add-a-comment_18/index.html\n",
      "category/books/fantasy_19/index.html\n",
      "category/books/new-adult_20/index.html\n",
      "category/books/young-adult_21/index.html\n",
      "category/books/science_22/index.html\n",
      "category/books/poetry_23/index.html\n",
      "category/books/paranormal_24/index.html\n",
      "category/books/art_25/index.html\n",
      "category/books/psychology_26/index.html\n",
      "category/books/autobiography_27/index.html\n",
      "category/books/parenting_28/index.html\n",
      "category/books/adult-fiction_29/index.html\n",
      "category/books/humor_30/index.html\n",
      "category/books/horror_31/index.html\n",
      "category/books/history_32/index.html\n",
      "category/books/food-and-drink_33/index.html\n",
      "category/books/christian-fiction_34/index.html\n",
      "category/books/business_35/index.html\n",
      "category/books/biography_36/index.html\n",
      "category/books/thriller_37/index.html\n",
      "category/books/contemporary_38/index.html\n",
      "category/books/spirituality_39/index.html\n",
      "category/books/academic_40/index.html\n",
      "category/books/self-help_41/index.html\n",
      "category/books/historical_42/index.html\n",
      "category/books/christian_43/index.html\n",
      "category/books/suspense_44/index.html\n",
      "category/books/short-stories_45/index.html\n",
      "category/books/novels_46/index.html\n",
      "category/books/health_47/index.html\n",
      "category/books/politics_48/index.html\n",
      "category/books/cultural_49/index.html\n",
      "category/books/erotica_50/index.html\n",
      "category/books/crime_51/index.html\n",
      "a-light-in-the-attic_1000/index.html\n",
      "a-light-in-the-attic_1000/index.html\n",
      "tipping-the-velvet_999/index.html\n",
      "tipping-the-velvet_999/index.html\n",
      "soumission_998/index.html\n",
      "soumission_998/index.html\n",
      "sharp-objects_997/index.html\n",
      "sharp-objects_997/index.html\n",
      "sapiens-a-brief-history-of-humankind_996/index.html\n",
      "sapiens-a-brief-history-of-humankind_996/index.html\n",
      "the-requiem-red_995/index.html\n",
      "the-requiem-red_995/index.html\n",
      "the-dirty-little-secrets-of-getting-your-dream-job_994/index.html\n",
      "the-dirty-little-secrets-of-getting-your-dream-job_994/index.html\n",
      "the-coming-woman-a-novel-based-on-the-life-of-the-infamous-feminist-victoria-woodhull_993/index.html\n",
      "the-coming-woman-a-novel-based-on-the-life-of-the-infamous-feminist-victoria-woodhull_993/index.html\n",
      "the-boys-in-the-boat-nine-americans-and-their-epic-quest-for-gold-at-the-1936-berlin-olympics_992/index.html\n",
      "the-boys-in-the-boat-nine-americans-and-their-epic-quest-for-gold-at-the-1936-berlin-olympics_992/index.html\n",
      "the-black-maria_991/index.html\n",
      "the-black-maria_991/index.html\n",
      "starving-hearts-triangular-trade-trilogy-1_990/index.html\n",
      "starving-hearts-triangular-trade-trilogy-1_990/index.html\n",
      "shakespeares-sonnets_989/index.html\n",
      "shakespeares-sonnets_989/index.html\n",
      "set-me-free_988/index.html\n",
      "set-me-free_988/index.html\n",
      "scott-pilgrims-precious-little-life-scott-pilgrim-1_987/index.html\n",
      "scott-pilgrims-precious-little-life-scott-pilgrim-1_987/index.html\n",
      "rip-it-up-and-start-again_986/index.html\n",
      "rip-it-up-and-start-again_986/index.html\n",
      "our-band-could-be-your-life-scenes-from-the-american-indie-underground-1981-1991_985/index.html\n",
      "our-band-could-be-your-life-scenes-from-the-american-indie-underground-1981-1991_985/index.html\n",
      "olio_984/index.html\n",
      "olio_984/index.html\n",
      "mesaerion-the-best-science-fiction-stories-1800-1849_983/index.html\n",
      "mesaerion-the-best-science-fiction-stories-1800-1849_983/index.html\n",
      "libertarianism-for-beginners_982/index.html\n",
      "libertarianism-for-beginners_982/index.html\n",
      "its-only-the-himalayas_981/index.html\n",
      "its-only-the-himalayas_981/index.html\n",
      "page-2.html\n"
     ]
    }
   ],
   "source": [
    "atags=soupa.find_all('a')\n",
    "for i in atags:\n",
    "    print(i.get('href'))"
   ]
  },
  {
   "cell_type": "code",
   "execution_count": 20,
   "id": "0f1c1d6e-cf02-47c1-8fa9-8771fc15d522",
   "metadata": {
    "tags": []
   },
   "outputs": [
    {
     "data": {
      "text/plain": [
       "0"
      ]
     },
     "execution_count": 20,
     "metadata": {},
     "output_type": "execute_result"
    }
   ],
   "source": [
    "soupal2 = BeautifulSoup(responseC, 'html.parser', parse_only=only_tags_with_id_link2)\n",
    "len(soupal2)"
   ]
  },
  {
   "cell_type": "code",
   "execution_count": 24,
   "id": "a9ac6bbd-81be-4c46-97d4-9d4fda8aec02",
   "metadata": {
    "tags": []
   },
   "outputs": [
    {
     "data": {
      "text/plain": [
       "739"
      ]
     },
     "execution_count": 24,
     "metadata": {},
     "output_type": "execute_result"
    }
   ],
   "source": [
    "soupss = BeautifulSoup(responseC, 'html.parser', parse_only=only_short_strings)\n",
    "len(soupss)"
   ]
  },
  {
   "cell_type": "code",
   "execution_count": 29,
   "id": "d4c23fa9-21ad-491c-a5ce-cb1d98d82597",
   "metadata": {
    "tags": []
   },
   "outputs": [],
   "source": [
    "# perform operations"
   ]
  },
  {
   "cell_type": "code",
   "execution_count": 30,
   "id": "0423785d-6732-4693-b772-d8bd8c9736a6",
   "metadata": {
    "tags": []
   },
   "outputs": [
    {
     "data": {
      "text/plain": [
       "[]"
      ]
     },
     "execution_count": 30,
     "metadata": {},
     "output_type": "execute_result"
    }
   ],
   "source": [
    "soupa.select('head > title')"
   ]
  },
  {
   "cell_type": "code",
   "execution_count": 63,
   "id": "50b35334-8637-40a2-b6d8-f7e4daf97100",
   "metadata": {
    "tags": []
   },
   "outputs": [
    {
     "data": {
      "text/plain": [
       "[<a href=\"../index.html\">Books to Scrape</a>,\n",
       " <a href=\"../index.html\">Home</a>,\n",
       " <a href=\"category/books_1/index.html\">\n",
       "                             \n",
       "                                 Books\n",
       "                             \n",
       "                         </a>,\n",
       " <a href=\"category/books/travel_2/index.html\">\n",
       "                             \n",
       "                                 Travel\n",
       "                             \n",
       "                         </a>,\n",
       " <a href=\"category/books/mystery_3/index.html\">\n",
       "                             \n",
       "                                 Mystery\n",
       "                             \n",
       "                         </a>]"
      ]
     },
     "execution_count": 63,
     "metadata": {},
     "output_type": "execute_result"
    }
   ],
   "source": [
    "soupa.select('a[href]')[0:5]"
   ]
  },
  {
   "cell_type": "code",
   "execution_count": 64,
   "id": "4e32abcd-9b2b-40c5-b753-1750e2e08de1",
   "metadata": {
    "tags": []
   },
   "outputs": [
    {
     "data": {
      "text/plain": [
       "[<a href=\"category/books_1/index.html\">\n",
       "                             \n",
       "                                 Books\n",
       "                             \n",
       "                         </a>]"
      ]
     },
     "execution_count": 64,
     "metadata": {},
     "output_type": "execute_result"
    }
   ],
   "source": [
    "soupa.select(\"a:nth-of-type(3)\")  #nth a tag"
   ]
  },
  {
   "cell_type": "code",
   "execution_count": 55,
   "id": "819c5c8c-243d-4fde-a313-398612ddc224",
   "metadata": {
    "tags": []
   },
   "outputs": [
    {
     "data": {
      "text/plain": [
       "[<a href=\"category/books/travel_2/index.html\">\n",
       "                             \n",
       "                                 Travel\n",
       "                             \n",
       "                         </a>,\n",
       " <a href=\"category/books/mystery_3/index.html\">\n",
       "                             \n",
       "                                 Mystery\n",
       "                             \n",
       "                         </a>,\n",
       " <a href=\"category/books/historical-fiction_4/index.html\">\n",
       "                             \n",
       "                                 Historical Fiction\n",
       "                             \n",
       "                         </a>,\n",
       " <a href=\"category/books/sequential-art_5/index.html\">\n",
       "                             \n",
       "                                 Sequential Art\n",
       "                             \n",
       "                         </a>,\n",
       " <a href=\"category/books/classics_6/index.html\">\n",
       "                             \n",
       "                                 Classics\n",
       "                             \n",
       "                         </a>,\n",
       " <a href=\"category/books/philosophy_7/index.html\">\n",
       "                             \n",
       "                                 Philosophy\n",
       "                             \n",
       "                         </a>,\n",
       " <a href=\"category/books/romance_8/index.html\">\n",
       "                             \n",
       "                                 Romance\n",
       "                             \n",
       "                         </a>,\n",
       " <a href=\"category/books/womens-fiction_9/index.html\">\n",
       "                             \n",
       "                                 Womens Fiction\n",
       "                             \n",
       "                         </a>,\n",
       " <a href=\"category/books/fiction_10/index.html\">\n",
       "                             \n",
       "                                 Fiction\n",
       "                             \n",
       "                         </a>,\n",
       " <a href=\"category/books/childrens_11/index.html\">\n",
       "                             \n",
       "                                 Childrens\n",
       "                             \n",
       "                         </a>,\n",
       " <a href=\"category/books/religion_12/index.html\">\n",
       "                             \n",
       "                                 Religion\n",
       "                             \n",
       "                         </a>,\n",
       " <a href=\"category/books/nonfiction_13/index.html\">\n",
       "                             \n",
       "                                 Nonfiction\n",
       "                             \n",
       "                         </a>,\n",
       " <a href=\"category/books/music_14/index.html\">\n",
       "                             \n",
       "                                 Music\n",
       "                             \n",
       "                         </a>,\n",
       " <a href=\"category/books/default_15/index.html\">\n",
       "                             \n",
       "                                 Default\n",
       "                             \n",
       "                         </a>,\n",
       " <a href=\"category/books/science-fiction_16/index.html\">\n",
       "                             \n",
       "                                 Science Fiction\n",
       "                             \n",
       "                         </a>,\n",
       " <a href=\"category/books/sports-and-games_17/index.html\">\n",
       "                             \n",
       "                                 Sports and Games\n",
       "                             \n",
       "                         </a>,\n",
       " <a href=\"category/books/add-a-comment_18/index.html\">\n",
       "                             \n",
       "                                 Add a comment\n",
       "                             \n",
       "                         </a>,\n",
       " <a href=\"category/books/fantasy_19/index.html\">\n",
       "                             \n",
       "                                 Fantasy\n",
       "                             \n",
       "                         </a>,\n",
       " <a href=\"category/books/new-adult_20/index.html\">\n",
       "                             \n",
       "                                 New Adult\n",
       "                             \n",
       "                         </a>,\n",
       " <a href=\"category/books/young-adult_21/index.html\">\n",
       "                             \n",
       "                                 Young Adult\n",
       "                             \n",
       "                         </a>,\n",
       " <a href=\"category/books/science_22/index.html\">\n",
       "                             \n",
       "                                 Science\n",
       "                             \n",
       "                         </a>,\n",
       " <a href=\"category/books/poetry_23/index.html\">\n",
       "                             \n",
       "                                 Poetry\n",
       "                             \n",
       "                         </a>,\n",
       " <a href=\"category/books/paranormal_24/index.html\">\n",
       "                             \n",
       "                                 Paranormal\n",
       "                             \n",
       "                         </a>,\n",
       " <a href=\"category/books/art_25/index.html\">\n",
       "                             \n",
       "                                 Art\n",
       "                             \n",
       "                         </a>,\n",
       " <a href=\"category/books/psychology_26/index.html\">\n",
       "                             \n",
       "                                 Psychology\n",
       "                             \n",
       "                         </a>,\n",
       " <a href=\"category/books/autobiography_27/index.html\">\n",
       "                             \n",
       "                                 Autobiography\n",
       "                             \n",
       "                         </a>,\n",
       " <a href=\"category/books/parenting_28/index.html\">\n",
       "                             \n",
       "                                 Parenting\n",
       "                             \n",
       "                         </a>,\n",
       " <a href=\"category/books/adult-fiction_29/index.html\">\n",
       "                             \n",
       "                                 Adult Fiction\n",
       "                             \n",
       "                         </a>,\n",
       " <a href=\"category/books/humor_30/index.html\">\n",
       "                             \n",
       "                                 Humor\n",
       "                             \n",
       "                         </a>,\n",
       " <a href=\"category/books/horror_31/index.html\">\n",
       "                             \n",
       "                                 Horror\n",
       "                             \n",
       "                         </a>,\n",
       " <a href=\"category/books/history_32/index.html\">\n",
       "                             \n",
       "                                 History\n",
       "                             \n",
       "                         </a>,\n",
       " <a href=\"category/books/food-and-drink_33/index.html\">\n",
       "                             \n",
       "                                 Food and Drink\n",
       "                             \n",
       "                         </a>,\n",
       " <a href=\"category/books/christian-fiction_34/index.html\">\n",
       "                             \n",
       "                                 Christian Fiction\n",
       "                             \n",
       "                         </a>,\n",
       " <a href=\"category/books/business_35/index.html\">\n",
       "                             \n",
       "                                 Business\n",
       "                             \n",
       "                         </a>,\n",
       " <a href=\"category/books/biography_36/index.html\">\n",
       "                             \n",
       "                                 Biography\n",
       "                             \n",
       "                         </a>,\n",
       " <a href=\"category/books/thriller_37/index.html\">\n",
       "                             \n",
       "                                 Thriller\n",
       "                             \n",
       "                         </a>,\n",
       " <a href=\"category/books/contemporary_38/index.html\">\n",
       "                             \n",
       "                                 Contemporary\n",
       "                             \n",
       "                         </a>,\n",
       " <a href=\"category/books/spirituality_39/index.html\">\n",
       "                             \n",
       "                                 Spirituality\n",
       "                             \n",
       "                         </a>,\n",
       " <a href=\"category/books/academic_40/index.html\">\n",
       "                             \n",
       "                                 Academic\n",
       "                             \n",
       "                         </a>,\n",
       " <a href=\"category/books/self-help_41/index.html\">\n",
       "                             \n",
       "                                 Self Help\n",
       "                             \n",
       "                         </a>,\n",
       " <a href=\"category/books/historical_42/index.html\">\n",
       "                             \n",
       "                                 Historical\n",
       "                             \n",
       "                         </a>,\n",
       " <a href=\"category/books/christian_43/index.html\">\n",
       "                             \n",
       "                                 Christian\n",
       "                             \n",
       "                         </a>,\n",
       " <a href=\"category/books/suspense_44/index.html\">\n",
       "                             \n",
       "                                 Suspense\n",
       "                             \n",
       "                         </a>,\n",
       " <a href=\"category/books/short-stories_45/index.html\">\n",
       "                             \n",
       "                                 Short Stories\n",
       "                             \n",
       "                         </a>,\n",
       " <a href=\"category/books/novels_46/index.html\">\n",
       "                             \n",
       "                                 Novels\n",
       "                             \n",
       "                         </a>,\n",
       " <a href=\"category/books/health_47/index.html\">\n",
       "                             \n",
       "                                 Health\n",
       "                             \n",
       "                         </a>,\n",
       " <a href=\"category/books/politics_48/index.html\">\n",
       "                             \n",
       "                                 Politics\n",
       "                             \n",
       "                         </a>,\n",
       " <a href=\"category/books/cultural_49/index.html\">\n",
       "                             \n",
       "                                 Cultural\n",
       "                             \n",
       "                         </a>,\n",
       " <a href=\"category/books/erotica_50/index.html\">\n",
       "                             \n",
       "                                 Erotica\n",
       "                             \n",
       "                         </a>,\n",
       " <a href=\"category/books/crime_51/index.html\">\n",
       "                             \n",
       "                                 Crime\n",
       "                             \n",
       "                         </a>]"
      ]
     },
     "execution_count": 55,
     "metadata": {},
     "output_type": "execute_result"
    }
   ],
   "source": [
    "#soupa.select('a[href]')\n",
    "#soupa.select('a[href$=\"/index.html\"]')  #ending match\n",
    "#soupa.select('a[href*=\"books_1\"]')  #middle match\n",
    "#soupa.select('a[href=\"../index.html\"]')  #exact match\n",
    "#soupa.select('a[href!=\"../index.html\"]')  #not amatch\n",
    "soupa.select('a[href^=\"category/books/\"]')  #start"
   ]
  },
  {
   "cell_type": "code",
   "execution_count": null,
   "id": "e7042cb7-97bd-4640-b30d-f5af9d38653d",
   "metadata": {},
   "outputs": [],
   "source": []
  }
 ],
 "metadata": {
  "kernelspec": {
   "display_name": "Python 3 (ipykernel)",
   "language": "python",
   "name": "python3"
  },
  "language_info": {
   "codemirror_mode": {
    "name": "ipython",
    "version": 3
   },
   "file_extension": ".py",
   "mimetype": "text/x-python",
   "name": "python",
   "nbconvert_exporter": "python",
   "pygments_lexer": "ipython3",
   "version": "3.11.5"
  }
 },
 "nbformat": 4,
 "nbformat_minor": 5
}
