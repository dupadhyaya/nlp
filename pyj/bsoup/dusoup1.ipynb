{
 "cells": [
  {
   "cell_type": "markdown",
   "id": "e5d30e6e-98f4-4a03-8037-5f62430167a3",
   "metadata": {},
   "source": [
    "# DU Practise Files\n",
    "- "
   ]
  },
  {
   "cell_type": "code",
   "execution_count": 4,
   "id": "d77e21fd-6d8a-4800-ae9e-6eedf7c03237",
   "metadata": {
    "tags": []
   },
   "outputs": [],
   "source": [
    "from bs4 import BeautifulSoup\n",
    "import pandas as pd\n",
    "import requests\n",
    "import re\n",
    "import os"
   ]
  },
  {
   "cell_type": "code",
   "execution_count": 6,
   "id": "40e9d9d4-f10c-42ad-b20b-47bb76139667",
   "metadata": {
    "tags": []
   },
   "outputs": [
    {
     "data": {
      "text/plain": [
       "['du1.html', '.ipynb_checkpoints']"
      ]
     },
     "execution_count": 6,
     "metadata": {},
     "output_type": "execute_result"
    }
   ],
   "source": [
    "os.listdir('../examples/')"
   ]
  },
  {
   "cell_type": "code",
   "execution_count": 48,
   "id": "180e0f03-ddb7-4862-85e1-e292e2868ae8",
   "metadata": {
    "tags": []
   },
   "outputs": [
    {
     "data": {
      "text/plain": [
       "<html>\n",
       "<h1>CV of Dhiraj Upadhyaya </h1>\n",
       "<body>\n",
       "<p class=\"role\">This is CV is of Dhiraj Upadhyaya who is a Data Scientist in Amity University </p>\n",
       "<div name=\"profile\">Profile of Dhiraj Upadhyaya</div>\n",
       "<p name=\"yob\">1967</p>\n",
       "<p name=\"city\">Noida</p>\n",
       "<p class=\"courses\"> He has done following Courses </p>\n",
       "<p class=\"courselist\">\n",
       "<div id=\"courses\"> Educational Qualifications\n",
       "<ul>\n",
       "<li>School</li>\n",
       "<li>UG\n",
       "  <ul>\n",
       "<li>B.Sc.</li>\n",
       "<li>B.Tech</li>\n",
       "</ul>\n",
       "</li>\n",
       "<li>PG</li>\n",
       "</ul>\n",
       "</div></p>\n",
       "\n",
       "</body>\n",
       "</html>"
      ]
     },
     "execution_count": 48,
     "metadata": {},
     "output_type": "execute_result"
    }
   ],
   "source": [
    "#read html\n",
    "with open(\"../examples/du1.html\") as fp:\n",
    "    soup = BeautifulSoup(fp, 'html.parser')\n",
    "soup"
   ]
  },
  {
   "cell_type": "code",
   "execution_count": 49,
   "id": "fc199273-bdbc-419e-b2aa-1ece44b5d079",
   "metadata": {
    "tags": []
   },
   "outputs": [
    {
     "data": {
      "text/plain": [
       "<h1>CV of Dhiraj Upadhyaya </h1>"
      ]
     },
     "execution_count": 49,
     "metadata": {},
     "output_type": "execute_result"
    }
   ],
   "source": [
    "soup.h1"
   ]
  },
  {
   "cell_type": "code",
   "execution_count": 50,
   "id": "b939c8dd-16ac-4249-a6a4-26f6f6295325",
   "metadata": {
    "tags": []
   },
   "outputs": [
    {
     "data": {
      "text/plain": [
       "'CV of Dhiraj Upadhyaya '"
      ]
     },
     "execution_count": 50,
     "metadata": {},
     "output_type": "execute_result"
    }
   ],
   "source": [
    "soup.h1.text"
   ]
  },
  {
   "cell_type": "code",
   "execution_count": 51,
   "id": "e83a8bf7-1f60-4f31-957b-b569b55f99ef",
   "metadata": {
    "tags": []
   },
   "outputs": [
    {
     "data": {
      "text/plain": [
       "<div name=\"profile\">Profile of Dhiraj Upadhyaya</div>"
      ]
     },
     "execution_count": 51,
     "metadata": {},
     "output_type": "execute_result"
    }
   ],
   "source": [
    "soup.div"
   ]
  },
  {
   "cell_type": "code",
   "execution_count": 53,
   "id": "de5edb66-b56d-46c7-ba44-aa5cb27d68c2",
   "metadata": {
    "tags": []
   },
   "outputs": [
    {
     "data": {
      "text/plain": [
       "[<div name=\"profile\">Profile of Dhiraj Upadhyaya</div>,\n",
       " <div id=\"courses\"> Educational Qualifications\n",
       " <ul>\n",
       " <li>School</li>\n",
       " <li>UG\n",
       "   <ul>\n",
       " <li>B.Sc.</li>\n",
       " <li>B.Tech</li>\n",
       " </ul>\n",
       " </li>\n",
       " <li>PG</li>\n",
       " </ul>\n",
       " </div>]"
      ]
     },
     "execution_count": 53,
     "metadata": {},
     "output_type": "execute_result"
    }
   ],
   "source": [
    "soup.find_all('div')"
   ]
  },
  {
   "cell_type": "code",
   "execution_count": 52,
   "id": "ba0f8c8a-d6d2-4c46-9e1e-e6a0f66e8509",
   "metadata": {
    "tags": []
   },
   "outputs": [
    {
     "data": {
      "text/plain": [
       "{'name': 'profile'}"
      ]
     },
     "execution_count": 52,
     "metadata": {},
     "output_type": "execute_result"
    }
   ],
   "source": [
    "soup.div.attrs"
   ]
  },
  {
   "cell_type": "code",
   "execution_count": 22,
   "id": "47dab3a7-c67b-4ebe-b5d5-e8368d59f133",
   "metadata": {
    "tags": []
   },
   "outputs": [
    {
     "data": {
      "text/plain": [
       "'div'"
      ]
     },
     "execution_count": 22,
     "metadata": {},
     "output_type": "execute_result"
    }
   ],
   "source": [
    "soup.div.name"
   ]
  },
  {
   "cell_type": "code",
   "execution_count": 26,
   "id": "36c1b4ab-d179-41cc-a78d-038fcad4779b",
   "metadata": {
    "tags": []
   },
   "outputs": [
    {
     "data": {
      "text/plain": [
       "' Educational Qualifications\\n\\nSchool\\nUG\\n  \\nB.Sc.\\nB.Tech\\n\\n\\nPG\\n\\n'"
      ]
     },
     "execution_count": 26,
     "metadata": {},
     "output_type": "execute_result"
    }
   ],
   "source": [
    "soup.div.text"
   ]
  },
  {
   "cell_type": "code",
   "execution_count": 27,
   "id": "d494a874-e2c4-45f9-b5c9-7a3937814791",
   "metadata": {
    "tags": []
   },
   "outputs": [
    {
     "data": {
      "text/plain": [
       "<ul>\n",
       "<li>School</li>\n",
       "<li>UG\n",
       "  <ul>\n",
       "<li>B.Sc.</li>\n",
       "<li>B.Tech</li>\n",
       "</ul>\n",
       "</li>\n",
       "<li>PG</li>\n",
       "</ul>"
      ]
     },
     "execution_count": 27,
     "metadata": {},
     "output_type": "execute_result"
    }
   ],
   "source": [
    "soup.ul"
   ]
  },
  {
   "cell_type": "code",
   "execution_count": 28,
   "id": "67963aa2-38c9-47c7-9316-ec594cca814d",
   "metadata": {
    "tags": []
   },
   "outputs": [
    {
     "data": {
      "text/plain": [
       "<list_iterator at 0x1449a0490>"
      ]
     },
     "execution_count": 28,
     "metadata": {},
     "output_type": "execute_result"
    }
   ],
   "source": [
    "soup.ul.children"
   ]
  },
  {
   "cell_type": "code",
   "execution_count": 32,
   "id": "3b6c400b-00ab-4a13-9441-75ad3767a1e4",
   "metadata": {
    "tags": []
   },
   "outputs": [
    {
     "name": "stdout",
     "output_type": "stream",
     "text": [
      "\n",
      "School\n",
      "\n",
      "UG\n",
      "  \n",
      "B.Sc.\n",
      "B.Tech\n",
      "\n",
      "PG\n",
      "\n"
     ]
    }
   ],
   "source": [
    "for i in soup.ul.children:\n",
    "    print(i.text.strip())"
   ]
  },
  {
   "cell_type": "code",
   "execution_count": 36,
   "id": "a5fbca8c-d7a9-49ca-a7d4-bf36109e1763",
   "metadata": {
    "tags": []
   },
   "outputs": [
    {
     "data": {
      "text/plain": [
       "<li>School</li>"
      ]
     },
     "execution_count": 36,
     "metadata": {},
     "output_type": "execute_result"
    }
   ],
   "source": [
    "soup.ul.li"
   ]
  },
  {
   "cell_type": "code",
   "execution_count": 37,
   "id": "173c3ab5-6bbd-42f7-83aa-3f32bf9567df",
   "metadata": {
    "tags": []
   },
   "outputs": [
    {
     "data": {
      "text/plain": [
       "[<div id=\"courses\"> Educational Qualifications\n",
       " <ul>\n",
       " <li>School</li>\n",
       " <li>UG\n",
       "   <ul>\n",
       " <li>B.Sc.</li>\n",
       " <li>B.Tech</li>\n",
       " </ul>\n",
       " </li>\n",
       " <li>PG</li>\n",
       " </ul>\n",
       " </div>]"
      ]
     },
     "execution_count": 37,
     "metadata": {},
     "output_type": "execute_result"
    }
   ],
   "source": [
    "soup.find_all('div')"
   ]
  },
  {
   "cell_type": "code",
   "execution_count": 38,
   "id": "7fd58b2f-ade0-48aa-a0c9-b4fdc62f8055",
   "metadata": {
    "tags": []
   },
   "outputs": [
    {
     "data": {
      "text/plain": [
       "[<ul>\n",
       " <li>School</li>\n",
       " <li>UG\n",
       "   <ul>\n",
       " <li>B.Sc.</li>\n",
       " <li>B.Tech</li>\n",
       " </ul>\n",
       " </li>\n",
       " <li>PG</li>\n",
       " </ul>,\n",
       " <ul>\n",
       " <li>B.Sc.</li>\n",
       " <li>B.Tech</li>\n",
       " </ul>]"
      ]
     },
     "execution_count": 38,
     "metadata": {},
     "output_type": "execute_result"
    }
   ],
   "source": [
    "soup.find_all('ul')"
   ]
  },
  {
   "cell_type": "code",
   "execution_count": 41,
   "id": "927857d6-7ec2-4aba-9834-7701c9293f1a",
   "metadata": {
    "tags": []
   },
   "outputs": [
    {
     "data": {
      "text/plain": [
       "<ul>\n",
       "<li>B.Sc.</li>\n",
       "<li>B.Tech</li>\n",
       "</ul>"
      ]
     },
     "execution_count": 41,
     "metadata": {},
     "output_type": "execute_result"
    }
   ],
   "source": [
    "soup.find_all('ul')[1] #2nd ul element"
   ]
  },
  {
   "cell_type": "code",
   "execution_count": 43,
   "id": "f370d665-b70a-41f0-b588-434d56d1b8c6",
   "metadata": {
    "tags": []
   },
   "outputs": [
    {
     "data": {
      "text/plain": [
       "<li>B.Tech</li>"
      ]
     },
     "execution_count": 43,
     "metadata": {},
     "output_type": "execute_result"
    }
   ],
   "source": [
    "soup.find_all('ul')[1].find_all('li')[1]  #2nd ul > 2nd li"
   ]
  },
  {
   "cell_type": "code",
   "execution_count": 44,
   "id": "abe08558-6cc9-4881-b964-4a02e7313b21",
   "metadata": {
    "tags": []
   },
   "outputs": [
    {
     "data": {
      "text/plain": [
       "[]"
      ]
     },
     "execution_count": 44,
     "metadata": {},
     "output_type": "execute_result"
    }
   ],
   "source": [
    "soup.find_all('ul > li')"
   ]
  },
  {
   "cell_type": "code",
   "execution_count": 46,
   "id": "b8a148fd-c7dc-46b1-9dc4-486b7e3a282a",
   "metadata": {
    "tags": []
   },
   "outputs": [
    {
     "data": {
      "text/plain": [
       "'This is CV is of Dhiraj Upadhyaya who is a Data Scientist in Amity University '"
      ]
     },
     "execution_count": 46,
     "metadata": {},
     "output_type": "execute_result"
    }
   ],
   "source": [
    "soup.find(class_='role').get_text()"
   ]
  },
  {
   "cell_type": "code",
   "execution_count": null,
   "id": "9e3f9825-4d5a-448d-a020-0a66806e43be",
   "metadata": {},
   "outputs": [],
   "source": []
  }
 ],
 "metadata": {
  "kernelspec": {
   "display_name": "Python 3 (ipykernel)",
   "language": "python",
   "name": "python3"
  },
  "language_info": {
   "codemirror_mode": {
    "name": "ipython",
    "version": 3
   },
   "file_extension": ".py",
   "mimetype": "text/x-python",
   "name": "python",
   "nbconvert_exporter": "python",
   "pygments_lexer": "ipython3",
   "version": "3.11.5"
  }
 },
 "nbformat": 4,
 "nbformat_minor": 5
}
