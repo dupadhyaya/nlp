{
 "cells": [
  {
   "cell_type": "markdown",
   "id": "c2151077-b0a2-456d-9bcc-11838746626e",
   "metadata": {},
   "source": [
    "# Books to Scrap using Beautiful Soup\n",
    "- https://books.toscrape.com/index.html\n",
    "- https://www.youtube.com/watch?v=MH3641s3Roc"
   ]
  },
  {
   "cell_type": "code",
   "execution_count": 1,
   "id": "3548bc2c-ecc8-4e6e-996d-1f296c7b3c6b",
   "metadata": {
    "tags": []
   },
   "outputs": [],
   "source": [
    "import requests\n",
    "import pandas as pd\n",
    "from bs4 import BeautifulSoup"
   ]
  },
  {
   "cell_type": "code",
   "execution_count": 54,
   "id": "44666702-a234-4b9d-a5b8-2290e8aa516a",
   "metadata": {
    "tags": []
   },
   "outputs": [],
   "source": [
    "burl1 = 'https://books.toscrape.com'\n",
    "burl2 = 'https://books.toscrape.com/catalogue'"
   ]
  },
  {
   "cell_type": "code",
   "execution_count": 55,
   "id": "36dd9222-454e-4d9e-bef3-13c5d1333b33",
   "metadata": {
    "tags": []
   },
   "outputs": [
    {
     "data": {
      "text/plain": [
       "<Response [200]>"
      ]
     },
     "execution_count": 55,
     "metadata": {},
     "output_type": "execute_result"
    }
   ],
   "source": [
    "requests.get(burl1) #if it is [200] it is success"
   ]
  },
  {
   "cell_type": "code",
   "execution_count": 6,
   "id": "930c3eaf-97ff-4a09-8dd1-334fad4ecafa",
   "metadata": {
    "tags": []
   },
   "outputs": [],
   "source": [
    "purl = 'https://books.toscrape.com/catalogue/page-1.html'"
   ]
  },
  {
   "cell_type": "code",
   "execution_count": 8,
   "id": "2cebac63-8783-482d-b924-1d2714138514",
   "metadata": {
    "tags": []
   },
   "outputs": [
    {
     "data": {
      "text/plain": [
       "<Response [200]>"
      ]
     },
     "execution_count": 8,
     "metadata": {},
     "output_type": "execute_result"
    }
   ],
   "source": [
    "requests.get(purl) #if it is [200] it is success"
   ]
  },
  {
   "cell_type": "code",
   "execution_count": 9,
   "id": "239648c7-f441-4402-a017-6dd1aa472a82",
   "metadata": {
    "tags": []
   },
   "outputs": [
    {
     "data": {
      "text/plain": [
       "<Response [200]>"
      ]
     },
     "execution_count": 9,
     "metadata": {},
     "output_type": "execute_result"
    }
   ],
   "source": [
    "response = requests.get(purl)\n",
    "response"
   ]
  },
  {
   "cell_type": "code",
   "execution_count": 11,
   "id": "82f2c01a-433a-412c-9469-cf8ee0ea0418",
   "metadata": {
    "tags": []
   },
   "outputs": [
    {
     "data": {
      "text/plain": [
       "b'\\n\\n<!DOCTYPE html>\\n<!--[if lt IE 7]>      <html lang=\"en-us\" class=\"no-js lt-ie9 lt-ie8 lt-ie7\"> <![e'"
      ]
     },
     "execution_count": 11,
     "metadata": {},
     "output_type": "execute_result"
    }
   ],
   "source": [
    "responseC = response.content\n",
    "responseC[0:100]  #this contains html content as well as other content - b...\n",
    "#convert this to html code using BSoup"
   ]
  },
  {
   "cell_type": "code",
   "execution_count": 17,
   "id": "ff45a63f-4d34-45f2-85dd-4a90642ea70e",
   "metadata": {
    "tags": []
   },
   "outputs": [],
   "source": [
    "soup = BeautifulSoup(responseC, 'html.parser')\n",
    "#soup"
   ]
  },
  {
   "cell_type": "code",
   "execution_count": 20,
   "id": "0152febb-dbe7-499c-bc94-911d3a465c5a",
   "metadata": {
    "tags": []
   },
   "outputs": [],
   "source": [
    "#soup.prettify() #little better"
   ]
  },
  {
   "cell_type": "code",
   "execution_count": null,
   "id": "f9e35802-8b7c-40eb-ba67-e91450b09455",
   "metadata": {},
   "outputs": [],
   "source": [
    "## View the page and find elements to be scrapped\n",
    "- ol : <ol> this is ordered list"
   ]
  },
  {
   "cell_type": "markdown",
   "id": "a93a3bee-183e-4879-98a0-1027440c4193",
   "metadata": {},
   "source": [
    "<ol class=\"row\">   ::: ol\n",
    "<li class=\"col-xs-6 col-sm-4 col-md-3 col-lg-3\">\n",
    "<article class=\"product_pod\"> ::: class = article_pod\n",
    "<div class=\"image_container\">\n",
    "<a href=\"a-light-in-the-attic_1000/index.html\"><img alt=\"A Light in the Attic\" class=\"thumbnail\" src=\"../media/cache/2c/da/2cdad67c44b002e7ead0cc35693c0e8b.jpg\"/></a>  ::: a href ='xxx'\n",
    "</div>\n",
    "<p class=\"star-rating Three\">  ::: p, class='star-rating', 'Three'\n",
    "<i class=\"icon-star\"></i>\n",
    "<i class=\"icon-star\"></i>\n",
    "<i class=\"icon-star\"></i>\n",
    "<i class=\"icon-star\"></i>\n",
    "<i class=\"icon-star\"></i>\n",
    "</p>\n",
    "<h3><a href=\"a-light-in-the-attic_1000/index.html\" title=\"A Light in the Attic\">A Light in the ...</a></h3>\n",
    "<div class=\"product_price\">\n",
    "<p class=\"price_color\">£51.77</p>\n",
    "<p class=\"instock availability\">\n",
    "<i class=\"icon-ok\"></i>"
   ]
  },
  {
   "cell_type": "markdown",
   "id": "dd8131b4-89b8-4d88-8245-1c09fc030b0e",
   "metadata": {},
   "source": [
    "## scraping only 1 page items"
   ]
  },
  {
   "cell_type": "code",
   "execution_count": 21,
   "id": "bb2ea112-5980-4d6a-a689-dbcddbb31540",
   "metadata": {
    "tags": []
   },
   "outputs": [],
   "source": [
    "ol = soup.find('ol')  #first instance of ol"
   ]
  },
  {
   "cell_type": "code",
   "execution_count": 31,
   "id": "c981db71-839a-4f5a-8ba7-35654644d036",
   "metadata": {
    "tags": []
   },
   "outputs": [],
   "source": [
    "#ol # since this is first ol tag, hence it is not a list; ol[0:1] will not work, ol will work"
   ]
  },
  {
   "cell_type": "code",
   "execution_count": 24,
   "id": "dbeac6f3-8064-4a60-828c-d813414d1fe6",
   "metadata": {
    "tags": []
   },
   "outputs": [],
   "source": [
    "articles = ol.find_all('article', class_ ='product_pod') # class is python reserved, hence _\n",
    "# all html code in tags <article>...... </article> will be returned; there can be multiple articles"
   ]
  },
  {
   "cell_type": "code",
   "execution_count": 34,
   "id": "8574cb61-4142-4301-996b-ce6f7dc4dad4",
   "metadata": {
    "tags": []
   },
   "outputs": [
    {
     "data": {
      "text/plain": [
       "[<article class=\"product_pod\">\n",
       " <div class=\"image_container\">\n",
       " <a href=\"a-light-in-the-attic_1000/index.html\"><img alt=\"A Light in the Attic\" class=\"thumbnail\" src=\"../media/cache/2c/da/2cdad67c44b002e7ead0cc35693c0e8b.jpg\"/></a>\n",
       " </div>\n",
       " <p class=\"star-rating Three\">\n",
       " <i class=\"icon-star\"></i>\n",
       " <i class=\"icon-star\"></i>\n",
       " <i class=\"icon-star\"></i>\n",
       " <i class=\"icon-star\"></i>\n",
       " <i class=\"icon-star\"></i>\n",
       " </p>\n",
       " <h3><a href=\"a-light-in-the-attic_1000/index.html\" title=\"A Light in the Attic\">A Light in the ...</a></h3>\n",
       " <div class=\"product_price\">\n",
       " <p class=\"price_color\">£51.77</p>\n",
       " <p class=\"instock availability\">\n",
       " <i class=\"icon-ok\"></i>\n",
       "     \n",
       "         In stock\n",
       "     \n",
       " </p>\n",
       " <form>\n",
       " <button class=\"btn btn-primary btn-block\" data-loading-text=\"Adding...\" type=\"submit\">Add to basket</button>\n",
       " </form>\n",
       " </div>\n",
       " </article>]"
      ]
     },
     "execution_count": 34,
     "metadata": {},
     "output_type": "execute_result"
    }
   ],
   "source": [
    "articles[0:1]  #1st article tag : start - end"
   ]
  },
  {
   "cell_type": "markdown",
   "id": "3b70f549-fe21-4cad-b1bb-de81ed795048",
   "metadata": {},
   "source": [
    "- now loop through each article and extact child elements \n",
    "- eg. a href, p class='star-rating', h3, stock, price, title etc"
   ]
  },
  {
   "cell_type": "code",
   "execution_count": 44,
   "id": "79dfde90-59b5-4c70-afb6-68a74d269c2b",
   "metadata": {
    "tags": []
   },
   "outputs": [
    {
     "name": "stdout",
     "output_type": "stream",
     "text": [
      "A Light in the Attic\n",
      "Tipping the Velvet\n"
     ]
    }
   ],
   "source": [
    "for article in articles[0:2]:  #1st 2 article tags\n",
    "    image = article.find('img')\n",
    "    title = image.attrs['alt']\n",
    "    print(title)  "
   ]
  },
  {
   "cell_type": "code",
   "execution_count": 50,
   "id": "e782f118-4a4a-4712-ae76-a73d34462b84",
   "metadata": {
    "tags": []
   },
   "outputs": [
    {
     "name": "stdout",
     "output_type": "stream",
     "text": [
      "Three\n",
      "51.77\n",
      "One\n",
      "53.74\n"
     ]
    }
   ],
   "source": [
    "# star rating, price,\n",
    "for article in articles[0:2]:  #1st 2 article tags\n",
    "    star = article.find('p') #1st p tag\n",
    "    star = star['class'][1]\n",
    "    print(star)\n",
    "    #price = article.find('p', class_ ='price_color').text  #only text\n",
    "    price = article.find('p', class_ ='price_color').text  #text to float\n",
    "    price = float(price[1:])\n",
    "    print(price)"
   ]
  },
  {
   "cell_type": "code",
   "execution_count": 53,
   "id": "9ec370ef-5621-469a-ae81-408c58fb665e",
   "metadata": {
    "tags": []
   },
   "outputs": [
    {
     "name": "stdout",
     "output_type": "stream",
     "text": [
      "In stock\n",
      "a-light-in-the-attic_1000/index.html\n",
      "In stock\n",
      "tipping-the-velvet_999/index.html\n"
     ]
    }
   ],
   "source": [
    "# stock position, a href\n",
    "for article in articles[0:2]:  #1st 2 article tags\n",
    "     stockavl = article.find('p', class_ ='instock availability').text.strip()\n",
    "     print(stockavl)  \n",
    "     ref = article.find(['h3','a']).get('href')\n",
    "     print(ref)"
   ]
  },
  {
   "cell_type": "markdown",
   "id": "579c56d7-cc91-4f89-afcf-e8bccea20240",
   "metadata": {},
   "source": [
    "# Combine together and put in DF\n",
    "- empty DF\n",
    "- empty list of book data\n",
    "- scrap through all pages (1-50); first try for 5 pages\n",
    "- scrap all products in each page (all article tags)\n",
    "- scrap all data points of each article tag - title, price, avl, url, star rating"
   ]
  },
  {
   "cell_type": "code",
   "execution_count": 58,
   "id": "8dbb297a-921d-4a90-aa1b-eaf717e7daa9",
   "metadata": {
    "tags": []
   },
   "outputs": [
    {
     "data": {
      "text/html": [
       "<div>\n",
       "<style scoped>\n",
       "    .dataframe tbody tr th:only-of-type {\n",
       "        vertical-align: middle;\n",
       "    }\n",
       "\n",
       "    .dataframe tbody tr th {\n",
       "        vertical-align: top;\n",
       "    }\n",
       "\n",
       "    .dataframe thead th {\n",
       "        text-align: right;\n",
       "    }\n",
       "</style>\n",
       "<table border=\"1\" class=\"dataframe\">\n",
       "  <thead>\n",
       "    <tr style=\"text-align: right;\">\n",
       "      <th></th>\n",
       "      <th>title</th>\n",
       "      <th>star</th>\n",
       "      <th>price</th>\n",
       "      <th>avl</th>\n",
       "      <th>urlref</th>\n",
       "    </tr>\n",
       "  </thead>\n",
       "  <tbody>\n",
       "  </tbody>\n",
       "</table>\n",
       "</div>"
      ],
      "text/plain": [
       "Empty DataFrame\n",
       "Columns: [title, star, price, avl, urlref]\n",
       "Index: []"
      ]
     },
     "execution_count": 58,
     "metadata": {},
     "output_type": "execute_result"
    }
   ],
   "source": [
    "df = pd.DataFrame(columns = ['title','star','price','avl', 'urlref'])\n",
    "df  #empty DF"
   ]
  },
  {
   "cell_type": "code",
   "execution_count": 59,
   "id": "60c4b270-8f80-4e97-8443-45e81dd87bcb",
   "metadata": {
    "tags": []
   },
   "outputs": [
    {
     "data": {
      "text/plain": [
       "[]"
      ]
     },
     "execution_count": 59,
     "metadata": {},
     "output_type": "execute_result"
    }
   ],
   "source": [
    "books =[]  #empty list to put extacted data\n",
    "books"
   ]
  },
  {
   "cell_type": "code",
   "execution_count": 75,
   "id": "b8c26de6-a340-4635-9ad7-eb2f0cf1562b",
   "metadata": {
    "tags": []
   },
   "outputs": [],
   "source": [
    "books =[] #again reset during start of loop\n",
    "for i in range(1,5):  #this can be changed\n",
    "    purl2 = f'https://books.toscrape.com/catalogue/page-{i}.html'\n",
    "    response = requests.get(purl2).content\n",
    "    soup = BeautifulSoup(response, 'html.parser')\n",
    "    ol = soup.find('ol')\n",
    "    articles = ol.find_all('article', class_ = 'product_pod')\n",
    "    \n",
    "    for article in articles:\n",
    "        imageTitle = article.find('img').get('alt')\n",
    "        star = article.find('p').get('class')[1]\n",
    "        price = float(article.find('p', class_ ='price_color').text[1:]) \n",
    "        stockavl = article.find('p', class_ ='instock availability').text.strip()\n",
    "        ref = article.find(['h3','a']).get('href')\n",
    "        #print(imageTitle, star, price, stockavl)\n",
    "        books.append([imageTitle, star, price, stockavl])"
   ]
  },
  {
   "cell_type": "code",
   "execution_count": 76,
   "id": "275cfc1a-9ee2-4f0b-b5a0-8fbbb3916c34",
   "metadata": {
    "tags": []
   },
   "outputs": [
    {
     "data": {
      "text/plain": [
       "80"
      ]
     },
     "execution_count": 76,
     "metadata": {},
     "output_type": "execute_result"
    }
   ],
   "source": [
    "len(books)  #no of books data extacted"
   ]
  },
  {
   "cell_type": "code",
   "execution_count": 80,
   "id": "76bf8d3e-f467-4408-9471-84980a858af9",
   "metadata": {
    "tags": []
   },
   "outputs": [
    {
     "data": {
      "text/plain": [
       "(80, 4)"
      ]
     },
     "execution_count": 80,
     "metadata": {},
     "output_type": "execute_result"
    }
   ],
   "source": [
    "df = pd.DataFrame(books, columns = ['title','star','price','avl'])\n",
    "df.shape"
   ]
  },
  {
   "cell_type": "code",
   "execution_count": 81,
   "id": "0eac817d-99e5-4f1f-9ed5-2deddf78da5c",
   "metadata": {
    "tags": []
   },
   "outputs": [
    {
     "data": {
      "text/html": [
       "<div>\n",
       "<style scoped>\n",
       "    .dataframe tbody tr th:only-of-type {\n",
       "        vertical-align: middle;\n",
       "    }\n",
       "\n",
       "    .dataframe tbody tr th {\n",
       "        vertical-align: top;\n",
       "    }\n",
       "\n",
       "    .dataframe thead th {\n",
       "        text-align: right;\n",
       "    }\n",
       "</style>\n",
       "<table border=\"1\" class=\"dataframe\">\n",
       "  <thead>\n",
       "    <tr style=\"text-align: right;\">\n",
       "      <th></th>\n",
       "      <th>title</th>\n",
       "      <th>star</th>\n",
       "      <th>price</th>\n",
       "      <th>avl</th>\n",
       "    </tr>\n",
       "  </thead>\n",
       "  <tbody>\n",
       "    <tr>\n",
       "      <th>0</th>\n",
       "      <td>A Light in the Attic</td>\n",
       "      <td>Three</td>\n",
       "      <td>51.77</td>\n",
       "      <td>In stock</td>\n",
       "    </tr>\n",
       "    <tr>\n",
       "      <th>1</th>\n",
       "      <td>Tipping the Velvet</td>\n",
       "      <td>One</td>\n",
       "      <td>53.74</td>\n",
       "      <td>In stock</td>\n",
       "    </tr>\n",
       "    <tr>\n",
       "      <th>2</th>\n",
       "      <td>Soumission</td>\n",
       "      <td>One</td>\n",
       "      <td>50.10</td>\n",
       "      <td>In stock</td>\n",
       "    </tr>\n",
       "    <tr>\n",
       "      <th>3</th>\n",
       "      <td>Sharp Objects</td>\n",
       "      <td>Four</td>\n",
       "      <td>47.82</td>\n",
       "      <td>In stock</td>\n",
       "    </tr>\n",
       "    <tr>\n",
       "      <th>4</th>\n",
       "      <td>Sapiens: A Brief History of Humankind</td>\n",
       "      <td>Five</td>\n",
       "      <td>54.23</td>\n",
       "      <td>In stock</td>\n",
       "    </tr>\n",
       "  </tbody>\n",
       "</table>\n",
       "</div>"
      ],
      "text/plain": [
       "                                   title   star  price       avl\n",
       "0                   A Light in the Attic  Three  51.77  In stock\n",
       "1                     Tipping the Velvet    One  53.74  In stock\n",
       "2                             Soumission    One  50.10  In stock\n",
       "3                          Sharp Objects   Four  47.82  In stock\n",
       "4  Sapiens: A Brief History of Humankind   Five  54.23  In stock"
      ]
     },
     "execution_count": 81,
     "metadata": {},
     "output_type": "execute_result"
    }
   ],
   "source": [
    "df.head()"
   ]
  },
  {
   "cell_type": "code",
   "execution_count": null,
   "id": "78ce93d8-20e3-47a2-ae67-8ad00acce72e",
   "metadata": {},
   "outputs": [],
   "source": [
    "#write to csv\n",
    "#df.to_csv('books.csv')"
   ]
  },
  {
   "cell_type": "markdown",
   "id": "5c121bf0-d2e0-46f5-bd9c-46670be29552",
   "metadata": {},
   "source": [
    "# end of Practise"
   ]
  }
 ],
 "metadata": {
  "kernelspec": {
   "display_name": "Python 3 (ipykernel)",
   "language": "python",
   "name": "python3"
  },
  "language_info": {
   "codemirror_mode": {
    "name": "ipython",
    "version": 3
   },
   "file_extension": ".py",
   "mimetype": "text/x-python",
   "name": "python",
   "nbconvert_exporter": "python",
   "pygments_lexer": "ipython3",
   "version": "3.11.5"
  }
 },
 "nbformat": 4,
 "nbformat_minor": 5
}
