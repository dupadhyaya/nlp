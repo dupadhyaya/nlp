{
 "cells": [
  {
   "cell_type": "code",
   "execution_count": 213,
   "id": "ecbf940c-20ef-4c2a-b870-251fb2e8bde5",
   "metadata": {},
   "outputs": [],
   "source": [
    "# Use Bsoup to extract content"
   ]
  },
  {
   "cell_type": "code",
   "execution_count": 214,
   "id": "1a1a8757-26ea-4652-888d-81d7bf1ff568",
   "metadata": {
    "tags": []
   },
   "outputs": [],
   "source": [
    "from selenium import webdriver\n",
    "from selenium.webdriver.common.by import By\n",
    "import pandas as pd\n",
    "from selenium.webdriver.chrome.service import Service\n",
    "import time\n",
    "import requests\n",
    "import pandas as pd\n",
    "from bs4 import BeautifulSoup\n",
    "from selenium.webdriver.support import expected_conditions as EC\n",
    "from selenium.webdriver.support.ui import Select\n",
    "from selenium.webdriver.support.ui import WebDriverWait"
   ]
  },
  {
   "cell_type": "code",
   "execution_count": 215,
   "id": "dff5b5fe-100b-48cc-8d45-665668bd2049",
   "metadata": {
    "tags": []
   },
   "outputs": [],
   "source": [
    "urlj ='https://mjl.clarivate.com/search-results'"
   ]
  },
  {
   "cell_type": "code",
   "execution_count": 216,
   "id": "83f73366-bc9e-4160-a429-6502aea88792",
   "metadata": {
    "tags": []
   },
   "outputs": [
    {
     "data": {
      "text/plain": [
       "<Response [200]>"
      ]
     },
     "execution_count": 216,
     "metadata": {},
     "output_type": "execute_result"
    }
   ],
   "source": [
    "response = requests.get(urlj)\n",
    "response"
   ]
  },
  {
   "cell_type": "code",
   "execution_count": 217,
   "id": "ff66f0e9-0387-49ce-b1dd-31fb92820ab5",
   "metadata": {
    "tags": []
   },
   "outputs": [],
   "source": [
    "#soup = BeautifulSoup(response.content)"
   ]
  },
  {
   "cell_type": "code",
   "execution_count": 218,
   "id": "c01c9e80-3984-497c-a94b-79200b0d80d8",
   "metadata": {
    "tags": []
   },
   "outputs": [],
   "source": [
    "#print(soup.prettify()[0:100])"
   ]
  },
  {
   "cell_type": "code",
   "execution_count": 219,
   "id": "a3e56ba8-80a1-4ad5-bb94-866ca8be991f",
   "metadata": {
    "tags": []
   },
   "outputs": [],
   "source": [
    "# since the html has used scripting language like js , css we cannot extract using soup"
   ]
  },
  {
   "cell_type": "code",
   "execution_count": 220,
   "id": "bca342f9-1526-485e-ad22-9ecfcbd135ab",
   "metadata": {
    "tags": []
   },
   "outputs": [],
   "source": [
    "# Set up WebDriver (e.g., Chrome)\n",
    "driver = webdriver.Chrome()\n",
    "driver.get(urlj)"
   ]
  },
  {
   "cell_type": "markdown",
   "id": "3a12e6c2-2fe2-4058-8fd3-8db91816e539",
   "metadata": {},
   "source": [
    "## Bsoup way\n",
    "---"
   ]
  },
  {
   "cell_type": "markdown",
   "id": "4c596aed-f2ab-4b63-a6d7-d723629731d7",
   "metadata": {
    "tags": []
   },
   "source": [
    "# Get the rendered HTML\n",
    "html = driver.page_source\n",
    "soup = BeautifulSoup(html, \"html.parser\")\n",
    "print(soup.prettify()[0:100])"
   ]
  },
  {
   "cell_type": "markdown",
   "id": "ea2fc6df-c9eb-4c18-89ec-0a41205b6ed3",
   "metadata": {
    "tags": []
   },
   "source": [
    "# Extract elements\n",
    "elements = soup.find_all(\"div\", class_='ng-star-inserted')\n",
    "#.find_all('mat-card-title')  #\"mat-mdc-title\" > \"mat-mdc-card-title\")\n",
    "len(elements)"
   ]
  },
  {
   "cell_type": "markdown",
   "id": "52f46863-bc41-4fff-8566-0ad0f295a1a4",
   "metadata": {
    "tags": []
   },
   "source": [
    "for element in elements:\n",
    "    print(element.text)"
   ]
  },
  {
   "cell_type": "markdown",
   "id": "f8410fd7-85a5-43ef-952d-15cc5072918b",
   "metadata": {
    "tags": []
   },
   "source": [
    "## Selenium Way\n",
    "- /html/body/cdx-app/mat-sidenav-container/mat-sidenav-content/main/can-home-page/div/div/div/mat-sidenav-container/mat-sidenav-content/app-journal-search-results/div[3]/div[1]/mat-card"
   ]
  },
  {
   "cell_type": "code",
   "execution_count": 134,
   "id": "25f1eaa7-c830-45d6-a2ae-3eacf09db061",
   "metadata": {
    "tags": []
   },
   "outputs": [
    {
     "name": "stdout",
     "output_type": "stream",
     "text": [
      "Web of Science Master Journal List - Search\n"
     ]
    }
   ],
   "source": [
    "print(driver.title)"
   ]
  },
  {
   "cell_type": "code",
   "execution_count": 221,
   "id": "ec09ed95-44eb-4f36-beea-226c88e6f5b2",
   "metadata": {
    "tags": []
   },
   "outputs": [],
   "source": [
    "#cookieButton\n",
    "driver.find_element(By.CSS_SELECTOR, \"[aria-label='Close']\").click()"
   ]
  },
  {
   "cell_type": "code",
   "execution_count": 222,
   "id": "233d3216-3a4b-4186-b268-b44077a6cf66",
   "metadata": {
    "tags": []
   },
   "outputs": [
    {
     "data": {
      "text/plain": [
       "'//app-journal-search-results/div[3]/div[1]'"
      ]
     },
     "execution_count": 222,
     "metadata": {},
     "output_type": "execute_result"
    }
   ],
   "source": [
    "card=1\n",
    "xpathCards1 = '//app-journal-search-results/div[3]/div['+ str(card)+']'\n",
    "xpathCards1"
   ]
  },
  {
   "cell_type": "code",
   "execution_count": 223,
   "id": "15b87bc6-50f2-4c3c-8182-40fa18b2c5b5",
   "metadata": {
    "tags": []
   },
   "outputs": [
    {
     "data": {
      "text/plain": [
       "'//app-journal-search-results/div[3]/div'"
      ]
     },
     "execution_count": 223,
     "metadata": {},
     "output_type": "execute_result"
    }
   ],
   "source": [
    "xpathCards = '//app-journal-search-results/div[3]/div'\n",
    "xpathCards"
   ]
  },
  {
   "cell_type": "code",
   "execution_count": 224,
   "id": "83ebae7e-9a3f-407b-96d0-6e790577fffb",
   "metadata": {
    "tags": []
   },
   "outputs": [],
   "source": [
    "results1 = driver.find_elements(By.XPATH, xpathCards)"
   ]
  },
  {
   "cell_type": "code",
   "execution_count": 225,
   "id": "332a54a5-01d1-4f3a-968b-454aed1d345c",
   "metadata": {
    "tags": []
   },
   "outputs": [
    {
     "data": {
      "text/plain": [
       "11"
      ]
     },
     "execution_count": 225,
     "metadata": {},
     "output_type": "execute_result"
    }
   ],
   "source": [
    "len(results1)\n",
    "#11 titles in the page"
   ]
  },
  {
   "cell_type": "code",
   "execution_count": 226,
   "id": "e6b0b04d-6e5c-4a5c-9a21-6973ec61e7c2",
   "metadata": {
    "tags": []
   },
   "outputs": [
    {
     "name": "stdout",
     "output_type": "stream",
     "text": [
      "---\n",
      "20 ET 21-REVUE D HISTOIRE\n",
      "Publisher:\n",
      "PRESSES SCIENCES PO , 28 Rue Saint Guillaume, PARIS, France, 75017\n",
      "ISSN / eISSN:\n",
      "2649-664X / 2649-6100\n",
      "Web of Science Core Collection:\n",
      "Arts & Humanities Citation Index\n",
      "share\n",
      "Share This Journal\n",
      "View profile page\n",
      " * Requires free login.\n",
      " ---------------2D MATERIALS\n",
      "Publisher:\n",
      "IOP PUBLISHING LTD , TEMPLE CIRCUS, TEMPLE WAY, BRISTOL, ENGLAND, BS1 6BE\n",
      "ISSN / eISSN:\n",
      "2053-1583\n",
      "Web of Science Core Collection:\n",
      "Science Citation Index Expanded\n",
      "Additional Web of Science Indexes:\n",
      "Current Contents Physical, Chemical & Earth Sciences | Essential Science Indicators\n",
      "share\n",
      "Share This Journal\n",
      "View profile page\n",
      " * Requires free login.\n",
      " ---------------3 BIOTECH\n",
      "Publisher:\n",
      "SPRINGER HEIDELBERG , TIERGARTENSTRASSE 17, HEIDELBERG, GERMANY, D-69121\n",
      "ISSN / eISSN:\n",
      "2190-572X / 2190-5738\n",
      "Web of Science Core Collection:\n",
      "Science Citation Index Expanded\n",
      "Additional Web of Science Indexes:\n",
      "Biological Abstracts | BIOSIS Previews | Current Contents Life Sciences | Essential Science Indicators\n",
      "share\n",
      "Share This Journal\n",
      "View profile page\n",
      " * Requires free login.\n",
      " ---------------3C EMPRESA\n",
      "Publisher:\n",
      "AREA INNOVACION & DESARROLLO , C/ELS ALZAMORA NO 17, ALCOY, ALICANTE, SPAIN, 03802\n",
      "ISSN / eISSN:\n",
      "2254-3376\n",
      "Web of Science Core Collection:\n",
      "Emerging Sources Citation Index\n",
      "share\n",
      "Share This Journal\n",
      "View profile page\n",
      " * Requires free login.\n",
      " ---------------3C TECNOLOGIA\n",
      "Publisher:\n",
      "3CIENCIAS , C/ SANTA ROSA 15, ALCOY, SPAIN, 03802\n",
      "ISSN / eISSN:\n",
      "2254-4143\n",
      "Web of Science Core Collection:\n",
      "Emerging Sources Citation Index\n",
      "share\n",
      "Share This Journal\n",
      "View profile page\n",
      " * Requires free login.\n",
      " ---------------3C TIC\n",
      "Publisher:\n",
      "AREA INNOVACION & DESARROLLO , C/ELS ALZAMORA NO 17, ALCOY, ALICANTE, SPAIN, 03802\n",
      "ISSN / eISSN:\n",
      "2254-6529\n",
      "Web of Science Core Collection:\n",
      "Emerging Sources Citation Index\n",
      "share\n",
      "Share This Journal\n",
      "View profile page\n",
      " * Requires free login.\n",
      " ---------------3D PRINTING AND ADDITIVE MANUFACTURING\n",
      "Publisher:\n",
      "MARY ANN LIEBERT, INC , 140 HUGUENOT STREET, 3RD FL, NEW ROCHELLE, USA, NY, 10801\n",
      "ISSN / eISSN:\n",
      "2329-7662 / 2329-7670\n",
      "Web of Science Core Collection:\n",
      "Science Citation Index Expanded\n",
      "Additional Web of Science Indexes:\n",
      "Current Contents Engineering, Computing & Technology | Essential Science Indicators\n",
      "share\n",
      "Share This Journal\n",
      "View profile page\n",
      " * Requires free login.\n",
      " ---------------3D PRINTING IN MEDICINE\n",
      "Publisher:\n",
      "SPRINGERNATURE , CAMPUS, 4 CRINAN ST, LONDON, ENGLAND, N1 9XW\n",
      "ISSN / eISSN:\n",
      "2365-6271\n",
      "Web of Science Core Collection:\n",
      "Emerging Sources Citation Index\n",
      "share\n",
      "Share This Journal\n",
      "View profile page\n",
      " * Requires free login.\n",
      " ---------------3L-LANGUAGE LINGUISTICS LITERATURE-THE SOUTHEAST ASIAN JOURNAL OF ENGLISH LANGUAGE STUDIES\n",
      "Publisher:\n",
      "PENERBIT UNIV KEBANGSAAN MALAYSIA , PENERBIT UNIV KEBANGSAAN MALAYSIA, FAC SOCIAL SCIENCES & HUMANITIES, BANGI, Malaysia, SELANGOR, 43600\n",
      "ISSN / eISSN:\n",
      "0128-5157 / 2550-2247\n",
      "Web of Science Core Collection:\n",
      "Emerging Sources Citation Index\n",
      "share\n",
      "Share This Journal\n",
      "View profile page\n",
      " * Requires free login.\n",
      " ---------------452 F-REVISTA DE TEORIA DE LA LITERATURA Y LITERATURA COMPARADA\n",
      "Publisher:\n",
      "UNIV BARCELONA, FACULTAD FILOLOGIA , GRAN VIA DE LES CORTS CATALANES, 585, BARCELONA, SPAIN, 08007\n",
      "ISSN / eISSN:\n",
      "2013-3294\n",
      "Web of Science Core Collection:\n",
      "Emerging Sources Citation Index\n",
      "share\n",
      "Share This Journal\n",
      "View profile page\n",
      " * Requires free login.\n",
      " ---------------"
     ]
    }
   ],
   "source": [
    "print('---')\n",
    "for i in results1[:-1]:\n",
    "    print(i.text, end='\\n ---------------')"
   ]
  },
  {
   "cell_type": "code",
   "execution_count": 227,
   "id": "4104421a-840d-4dc3-b8ff-69d7899c631e",
   "metadata": {
    "tags": []
   },
   "outputs": [],
   "source": [
    "#result1.get_attribute('innerHTML')\n",
    "#result1.get_attribute('outerHTML')\n",
    "#result1.find_element(By.XPATH, \"//*\").text"
   ]
  },
  {
   "cell_type": "code",
   "execution_count": 228,
   "id": "7a0ad3a5-92e0-4541-9b4c-523231dea574",
   "metadata": {
    "tags": []
   },
   "outputs": [],
   "source": [
    "#results1.text"
   ]
  },
  {
   "cell_type": "markdown",
   "id": "c4ab58a9-83c5-44f3-87b5-9ae5743a5ad7",
   "metadata": {},
   "source": [
    "- /html/body/cdx-app/mat-sidenav-container/mat-sidenav-content/main/can-home-page/div/div/div/mat-sidenav-container/mat-sidenav-content/app-journal-search-results/div[3]/div[2]/mat-card/mat-card-content[1]/div[2]/div/div[1]/div[2]"
   ]
  },
  {
   "cell_type": "code",
   "execution_count": 229,
   "id": "ffa512f2-8b31-4655-aa73-0ff906987f73",
   "metadata": {
    "tags": []
   },
   "outputs": [],
   "source": [
    "results2 = driver.find_elements(By.XPATH, xpathCards)\n",
    "listData = []\n",
    "cnt=1\n",
    "for i in results2[:-1]:\n",
    "    title = i.find_element(By.XPATH,'.//mat-card/mat-card-title')\n",
    "    pub =   i.find_element(By.XPATH,'.//mat-card/mat-card-content[1]/div[2]/div/div[1]/div[2]')\n",
    "    issn =  i.find_element(By.XPATH,'.//mat-card/mat-card-content[1]/div[2]/div/div[2]/div[2]')  \n",
    "    wosCC = i.find_element(By.XPATH,'.//mat-card/mat-card-content[1]/div[2]/div/div[3]/div[2]') \n",
    "    if i.find_element(By.XPATH,'//div/mat-card[1]/mat-card-content[1]/div[2]/div/div[4]/div[2]'):\n",
    "        awosI = i.find_element(By.XPATH,'//div/mat-card[1]/mat-card-content[1]/div[2]/div/div[4]/div[2]')\n",
    "    else:\n",
    "        awosI = None\n",
    "    #print(cnt, title.text, pub.text, issn.text, wosCC.text, awosI.text )\n",
    "    listData.append([cnt, title.text, pub.text, issn.text, wosCC.text, awosI.text])\n",
    "    cnt = cnt + 1"
   ]
  },
  {
   "cell_type": "markdown",
   "id": "eae093d6-68a4-4c08-b1f4-ef235dabf805",
   "metadata": {
    "tags": []
   },
   "source": [
    "content = results2 = driver.find_elements(By.XPATH, xpathCards)\n",
    "for i in content[0:2]:\n",
    "    print(i.text) \n",
    "    print('-------')"
   ]
  },
  {
   "cell_type": "code",
   "execution_count": 230,
   "id": "42ed618e-695d-41d8-9c9e-fa41a001ff78",
   "metadata": {
    "tags": []
   },
   "outputs": [],
   "source": [
    "#listData[0:2]"
   ]
  },
  {
   "cell_type": "code",
   "execution_count": 231,
   "id": "5bff7475-84bc-45c1-9dc5-18e508fe67ae",
   "metadata": {
    "tags": []
   },
   "outputs": [
    {
     "data": {
      "text/html": [
       "<div>\n",
       "<style scoped>\n",
       "    .dataframe tbody tr th:only-of-type {\n",
       "        vertical-align: middle;\n",
       "    }\n",
       "\n",
       "    .dataframe tbody tr th {\n",
       "        vertical-align: top;\n",
       "    }\n",
       "\n",
       "    .dataframe thead th {\n",
       "        text-align: right;\n",
       "    }\n",
       "</style>\n",
       "<table border=\"1\" class=\"dataframe\">\n",
       "  <thead>\n",
       "    <tr style=\"text-align: right;\">\n",
       "      <th></th>\n",
       "      <th>ser</th>\n",
       "      <th>title</th>\n",
       "      <th>pub</th>\n",
       "      <th>issn</th>\n",
       "      <th>wosCC</th>\n",
       "      <th>awosI</th>\n",
       "    </tr>\n",
       "  </thead>\n",
       "  <tbody>\n",
       "    <tr>\n",
       "      <th>0</th>\n",
       "      <td>1</td>\n",
       "      <td>20 ET 21-REVUE D HISTOIRE</td>\n",
       "      <td>PRESSES SCIENCES PO , 28 Rue Saint Guillaume, ...</td>\n",
       "      <td>2649-664X / 2649-6100</td>\n",
       "      <td>Arts &amp; Humanities Citation Index</td>\n",
       "      <td>Current Contents Physical, Chemical &amp; Earth Sc...</td>\n",
       "    </tr>\n",
       "    <tr>\n",
       "      <th>1</th>\n",
       "      <td>2</td>\n",
       "      <td>2D MATERIALS</td>\n",
       "      <td>IOP PUBLISHING LTD , TEMPLE CIRCUS, TEMPLE WAY...</td>\n",
       "      <td>2053-1583</td>\n",
       "      <td>Science Citation Index Expanded</td>\n",
       "      <td>Current Contents Physical, Chemical &amp; Earth Sc...</td>\n",
       "    </tr>\n",
       "    <tr>\n",
       "      <th>2</th>\n",
       "      <td>3</td>\n",
       "      <td>3 BIOTECH</td>\n",
       "      <td>SPRINGER HEIDELBERG , TIERGARTENSTRASSE 17, HE...</td>\n",
       "      <td>2190-572X / 2190-5738</td>\n",
       "      <td>Science Citation Index Expanded</td>\n",
       "      <td>Current Contents Physical, Chemical &amp; Earth Sc...</td>\n",
       "    </tr>\n",
       "    <tr>\n",
       "      <th>3</th>\n",
       "      <td>4</td>\n",
       "      <td>3C EMPRESA</td>\n",
       "      <td>AREA INNOVACION &amp; DESARROLLO , C/ELS ALZAMORA ...</td>\n",
       "      <td>2254-3376</td>\n",
       "      <td>Emerging Sources Citation Index</td>\n",
       "      <td>Current Contents Physical, Chemical &amp; Earth Sc...</td>\n",
       "    </tr>\n",
       "    <tr>\n",
       "      <th>4</th>\n",
       "      <td>5</td>\n",
       "      <td>3C TECNOLOGIA</td>\n",
       "      <td>3CIENCIAS , C/ SANTA ROSA 15, ALCOY, SPAIN, 03802</td>\n",
       "      <td>2254-4143</td>\n",
       "      <td>Emerging Sources Citation Index</td>\n",
       "      <td>Current Contents Physical, Chemical &amp; Earth Sc...</td>\n",
       "    </tr>\n",
       "  </tbody>\n",
       "</table>\n",
       "</div>"
      ],
      "text/plain": [
       "   ser                      title  \\\n",
       "0    1  20 ET 21-REVUE D HISTOIRE   \n",
       "1    2               2D MATERIALS   \n",
       "2    3                  3 BIOTECH   \n",
       "3    4                 3C EMPRESA   \n",
       "4    5              3C TECNOLOGIA   \n",
       "\n",
       "                                                 pub                   issn  \\\n",
       "0  PRESSES SCIENCES PO , 28 Rue Saint Guillaume, ...  2649-664X / 2649-6100   \n",
       "1  IOP PUBLISHING LTD , TEMPLE CIRCUS, TEMPLE WAY...              2053-1583   \n",
       "2  SPRINGER HEIDELBERG , TIERGARTENSTRASSE 17, HE...  2190-572X / 2190-5738   \n",
       "3  AREA INNOVACION & DESARROLLO , C/ELS ALZAMORA ...              2254-3376   \n",
       "4  3CIENCIAS , C/ SANTA ROSA 15, ALCOY, SPAIN, 03802              2254-4143   \n",
       "\n",
       "                              wosCC  \\\n",
       "0  Arts & Humanities Citation Index   \n",
       "1   Science Citation Index Expanded   \n",
       "2   Science Citation Index Expanded   \n",
       "3   Emerging Sources Citation Index   \n",
       "4   Emerging Sources Citation Index   \n",
       "\n",
       "                                               awosI  \n",
       "0  Current Contents Physical, Chemical & Earth Sc...  \n",
       "1  Current Contents Physical, Chemical & Earth Sc...  \n",
       "2  Current Contents Physical, Chemical & Earth Sc...  \n",
       "3  Current Contents Physical, Chemical & Earth Sc...  \n",
       "4  Current Contents Physical, Chemical & Earth Sc...  "
      ]
     },
     "execution_count": 231,
     "metadata": {},
     "output_type": "execute_result"
    }
   ],
   "source": [
    "df = pd.DataFrame(listData, columns =['ser', 'title', 'pub', 'issn', 'wosCC', 'awosI'])\n",
    "df.head()"
   ]
  },
  {
   "cell_type": "code",
   "execution_count": 232,
   "id": "950ad251-2aa0-42d9-b3d6-42c06b7ccb38",
   "metadata": {
    "tags": []
   },
   "outputs": [],
   "source": [
    "#driver.quit()"
   ]
  },
  {
   "cell_type": "markdown",
   "id": "af1200b1-0d11-42af-9a14-1f119c4fd840",
   "metadata": {
    "tags": []
   },
   "source": [
    "## Options Button\n",
    "- Relevancy\n",
    "- Items per Page"
   ]
  },
  {
   "cell_type": "code",
   "execution_count": 266,
   "id": "b6e3a603-951e-404a-aa15-6a8306961d00",
   "metadata": {
    "tags": []
   },
   "outputs": [
    {
     "ename": "WebDriverException",
     "evalue": "Message: disconnected: not connected to DevTools\n  (failed to check if window was closed: disconnected: not connected to DevTools)\n  (Session info: chrome=131.0.6778.205)\nStacktrace:\n0   chromedriver                        0x0000000100947184 cxxbridge1$str$ptr + 3626716\n1   chromedriver                        0x000000010093f9d4 cxxbridge1$str$ptr + 3596076\n2   chromedriver                        0x00000001003ac968 cxxbridge1$string$len + 89228\n3   chromedriver                        0x00000001003968d4 core::str::slice_error_fail::ha0e52dbcb60e6bae + 63828\n4   chromedriver                        0x0000000100396804 core::str::slice_error_fail::ha0e52dbcb60e6bae + 63620\n5   chromedriver                        0x0000000100429c40 cxxbridge1$string$len + 601956\n6   chromedriver                        0x00000001003e5568 cxxbridge1$string$len + 321676\n7   chromedriver                        0x00000001003e61b8 cxxbridge1$string$len + 324828\n8   chromedriver                        0x00000001009129ac cxxbridge1$str$ptr + 3411716\n9   chromedriver                        0x0000000100915ccc cxxbridge1$str$ptr + 3424804\n10  chromedriver                        0x00000001008f986c cxxbridge1$str$ptr + 3308996\n11  chromedriver                        0x000000010091658c cxxbridge1$str$ptr + 3427044\n12  chromedriver                        0x00000001008eb09c cxxbridge1$str$ptr + 3249652\n13  chromedriver                        0x00000001009304b8 cxxbridge1$str$ptr + 3533328\n14  chromedriver                        0x0000000100930634 cxxbridge1$str$ptr + 3533708\n15  chromedriver                        0x000000010093f648 cxxbridge1$str$ptr + 3595168\n16  libsystem_pthread.dylib             0x000000018f4982e4 _pthread_start + 136\n17  libsystem_pthread.dylib             0x000000018f4930fc thread_start + 8\n",
     "output_type": "error",
     "traceback": [
      "\u001b[0;31m---------------------------------------------------------------------------\u001b[0m",
      "\u001b[0;31mWebDriverException\u001b[0m                        Traceback (most recent call last)",
      "Cell \u001b[0;32mIn[266], line 1\u001b[0m\n\u001b[0;32m----> 1\u001b[0m driver\u001b[38;5;241m.\u001b[39mrefresh()\n",
      "File \u001b[0;32m~/anaconda3/lib/python3.11/site-packages/selenium/webdriver/remote/webdriver.py:570\u001b[0m, in \u001b[0;36mWebDriver.refresh\u001b[0;34m(self)\u001b[0m\n\u001b[1;32m    562\u001b[0m \u001b[38;5;28;01mdef\u001b[39;00m \u001b[38;5;21mrefresh\u001b[39m(\u001b[38;5;28mself\u001b[39m) \u001b[38;5;241m-\u001b[39m\u001b[38;5;241m>\u001b[39m \u001b[38;5;28;01mNone\u001b[39;00m:\n\u001b[1;32m    563\u001b[0m \u001b[38;5;250m    \u001b[39m\u001b[38;5;124;03m\"\"\"Refreshes the current page.\u001b[39;00m\n\u001b[1;32m    564\u001b[0m \n\u001b[1;32m    565\u001b[0m \u001b[38;5;124;03m    :Usage:\u001b[39;00m\n\u001b[0;32m   (...)\u001b[0m\n\u001b[1;32m    568\u001b[0m \u001b[38;5;124;03m            driver.refresh()\u001b[39;00m\n\u001b[1;32m    569\u001b[0m \u001b[38;5;124;03m    \"\"\"\u001b[39;00m\n\u001b[0;32m--> 570\u001b[0m     \u001b[38;5;28mself\u001b[39m\u001b[38;5;241m.\u001b[39mexecute(Command\u001b[38;5;241m.\u001b[39mREFRESH)\n",
      "File \u001b[0;32m~/anaconda3/lib/python3.11/site-packages/selenium/webdriver/remote/webdriver.py:347\u001b[0m, in \u001b[0;36mWebDriver.execute\u001b[0;34m(self, driver_command, params)\u001b[0m\n\u001b[1;32m    345\u001b[0m response \u001b[38;5;241m=\u001b[39m \u001b[38;5;28mself\u001b[39m\u001b[38;5;241m.\u001b[39mcommand_executor\u001b[38;5;241m.\u001b[39mexecute(driver_command, params)\n\u001b[1;32m    346\u001b[0m \u001b[38;5;28;01mif\u001b[39;00m response:\n\u001b[0;32m--> 347\u001b[0m     \u001b[38;5;28mself\u001b[39m\u001b[38;5;241m.\u001b[39merror_handler\u001b[38;5;241m.\u001b[39mcheck_response(response)\n\u001b[1;32m    348\u001b[0m     response[\u001b[38;5;124m\"\u001b[39m\u001b[38;5;124mvalue\u001b[39m\u001b[38;5;124m\"\u001b[39m] \u001b[38;5;241m=\u001b[39m \u001b[38;5;28mself\u001b[39m\u001b[38;5;241m.\u001b[39m_unwrap_value(response\u001b[38;5;241m.\u001b[39mget(\u001b[38;5;124m\"\u001b[39m\u001b[38;5;124mvalue\u001b[39m\u001b[38;5;124m\"\u001b[39m, \u001b[38;5;28;01mNone\u001b[39;00m))\n\u001b[1;32m    349\u001b[0m     \u001b[38;5;28;01mreturn\u001b[39;00m response\n",
      "File \u001b[0;32m~/anaconda3/lib/python3.11/site-packages/selenium/webdriver/remote/errorhandler.py:229\u001b[0m, in \u001b[0;36mErrorHandler.check_response\u001b[0;34m(self, response)\u001b[0m\n\u001b[1;32m    227\u001b[0m         alert_text \u001b[38;5;241m=\u001b[39m value[\u001b[38;5;124m\"\u001b[39m\u001b[38;5;124malert\u001b[39m\u001b[38;5;124m\"\u001b[39m]\u001b[38;5;241m.\u001b[39mget(\u001b[38;5;124m\"\u001b[39m\u001b[38;5;124mtext\u001b[39m\u001b[38;5;124m\"\u001b[39m)\n\u001b[1;32m    228\u001b[0m     \u001b[38;5;28;01mraise\u001b[39;00m exception_class(message, screen, stacktrace, alert_text)  \u001b[38;5;66;03m# type: ignore[call-arg]  # mypy is not smart enough here\u001b[39;00m\n\u001b[0;32m--> 229\u001b[0m \u001b[38;5;28;01mraise\u001b[39;00m exception_class(message, screen, stacktrace)\n",
      "\u001b[0;31mWebDriverException\u001b[0m: Message: disconnected: not connected to DevTools\n  (failed to check if window was closed: disconnected: not connected to DevTools)\n  (Session info: chrome=131.0.6778.205)\nStacktrace:\n0   chromedriver                        0x0000000100947184 cxxbridge1$str$ptr + 3626716\n1   chromedriver                        0x000000010093f9d4 cxxbridge1$str$ptr + 3596076\n2   chromedriver                        0x00000001003ac968 cxxbridge1$string$len + 89228\n3   chromedriver                        0x00000001003968d4 core::str::slice_error_fail::ha0e52dbcb60e6bae + 63828\n4   chromedriver                        0x0000000100396804 core::str::slice_error_fail::ha0e52dbcb60e6bae + 63620\n5   chromedriver                        0x0000000100429c40 cxxbridge1$string$len + 601956\n6   chromedriver                        0x00000001003e5568 cxxbridge1$string$len + 321676\n7   chromedriver                        0x00000001003e61b8 cxxbridge1$string$len + 324828\n8   chromedriver                        0x00000001009129ac cxxbridge1$str$ptr + 3411716\n9   chromedriver                        0x0000000100915ccc cxxbridge1$str$ptr + 3424804\n10  chromedriver                        0x00000001008f986c cxxbridge1$str$ptr + 3308996\n11  chromedriver                        0x000000010091658c cxxbridge1$str$ptr + 3427044\n12  chromedriver                        0x00000001008eb09c cxxbridge1$str$ptr + 3249652\n13  chromedriver                        0x00000001009304b8 cxxbridge1$str$ptr + 3533328\n14  chromedriver                        0x0000000100930634 cxxbridge1$str$ptr + 3533708\n15  chromedriver                        0x000000010093f648 cxxbridge1$str$ptr + 3595168\n16  libsystem_pthread.dylib             0x000000018f4982e4 _pthread_start + 136\n17  libsystem_pthread.dylib             0x000000018f4930fc thread_start + 8\n"
     ]
    }
   ],
   "source": [
    "driver.refresh()"
   ]
  },
  {
   "cell_type": "code",
   "execution_count": 263,
   "id": "134206fd-0a20-4c34-92cf-f85e490c4eda",
   "metadata": {
    "tags": []
   },
   "outputs": [
    {
     "data": {
      "text/plain": [
       "'Relevancy'"
      ]
     },
     "execution_count": 263,
     "metadata": {},
     "output_type": "execute_result"
    }
   ],
   "source": [
    "e1 = driver.find_element(By.XPATH, \"//div[contains(@class, 'container')]/div/mat-sidenav-container/mat-sidenav-content/app-journal-search-box/form/div/div[2]/mat-form-field\")\n",
    "e1.text\n",
    "#for i in e1: print(i.text)"
   ]
  },
  {
   "cell_type": "code",
   "execution_count": 265,
   "id": "94ff7823-35b4-461a-a2cc-8cccb8d7b024",
   "metadata": {
    "tags": []
   },
   "outputs": [],
   "source": [
    "e1.click()"
   ]
  },
  {
   "cell_type": "code",
   "execution_count": null,
   "id": "2c8f4bd6-eb65-44b5-9939-69692d2ae38a",
   "metadata": {},
   "outputs": [],
   "source": []
  },
  {
   "cell_type": "code",
   "execution_count": null,
   "id": "d40d0dfc-2567-4380-8f2d-9c93cb097885",
   "metadata": {},
   "outputs": [],
   "source": [
    "/html/body/div[5]"
   ]
  },
  {
   "cell_type": "code",
   "execution_count": null,
   "id": "f3d25003-4580-40cc-b17c-dd41aea014c8",
   "metadata": {},
   "outputs": [],
   "source": [
    "rdb = driver.find_elements(By.CSS_SELECTOR,'div.b5cd09854e.d10a6220b4')"
   ]
  },
  {
   "cell_type": "code",
   "execution_count": 212,
   "id": "b6e6e6ea-2375-4074-829b-e3873b98987c",
   "metadata": {
    "tags": []
   },
   "outputs": [
    {
     "name": "stdout",
     "output_type": "stream",
     "text": [
      "An exception occurred\n"
     ]
    }
   ],
   "source": [
    "# Relevancy DropDown\n",
    "try :\n",
    "    #mat_select = WebDriverWait(driver, 10).until(EC.element_to_be_clickable((By.CSS_SELECTOR, \"mat-select\")))\n",
    "    #mat_select\n",
    "    #mat_select.click()\n",
    "    selected_value = WebDriverWait(driver, 10).until(EC.presence_of_element_located((By.CSS_SELECTOR, \".mat-option\")) )\n",
    "    print(f\"Selected value: {selected_value.text}\")\n",
    "except:\n",
    "  print(\"An exception occurred\")"
   ]
  },
  {
   "cell_type": "code",
   "execution_count": null,
   "id": "8b1df827-ccf8-4096-9c0f-b95f4d3dc3a8",
   "metadata": {},
   "outputs": [],
   "source": []
  },
  {
   "cell_type": "markdown",
   "id": "6709d921-b93e-44a9-b7f3-625ae4319022",
   "metadata": {},
   "source": [
    "## Setting Items per Page\n",
    "-  "
   ]
  },
  {
   "cell_type": "code",
   "execution_count": 177,
   "id": "6914384f-643c-4fd7-8d7c-76d65fd245dd",
   "metadata": {
    "tags": []
   },
   "outputs": [
    {
     "data": {
      "text/plain": [
       "[]"
      ]
     },
     "execution_count": 146,
     "metadata": {},
     "output_type": "execute_result"
    }
   ],
   "source": [
    "pageResults = driver.find_elements(By.XPATH, '/html/body/cdx-app/mat-sidenav-container/mat-sidenav-content/main/can-home-page/div/div/div/mat-sidenav-container/mat-sidenav-content/app-journal-search-results/div')\n",
    "len(pageResults)"
   ]
  },
  {
   "cell_type": "code",
   "execution_count": 180,
   "id": "1697e5ef-0a45-474a-8a4f-9833359cea9a",
   "metadata": {
    "tags": []
   },
   "outputs": [
    {
     "name": "stdout",
     "output_type": "stream",
     "text": [
      "Search Results\n",
      "Found 22,588 results (Page 1)\n",
      "share\n",
      "Share These Results\n",
      "\n"
     ]
    }
   ],
   "source": [
    "for i in pageResults[0:2]:\n",
    "    print(i.text)"
   ]
  },
  {
   "cell_type": "code",
   "execution_count": 162,
   "id": "d9e7dc93-c6f6-47d4-a40c-333b0cbb9805",
   "metadata": {
    "tags": []
   },
   "outputs": [
    {
     "data": {
      "text/plain": [
       "'Found 22,588 results (Page 1)'"
      ]
     },
     "execution_count": 162,
     "metadata": {},
     "output_type": "execute_result"
    }
   ],
   "source": [
    "pageResults = driver.find_element(By.XPATH, '/html/body/cdx-app/mat-sidenav-container/mat-sidenav-content/main/can-home-page/div/div/div/mat-sidenav-container/mat-sidenav-content/app-journal-search-results/div[1]/div[1]/div[1]')\n",
    "pageResults.text"
   ]
  },
  {
   "cell_type": "code",
   "execution_count": 185,
   "id": "753f2309-5867-4f01-a1b6-4948d83aa49e",
   "metadata": {
    "tags": []
   },
   "outputs": [
    {
     "data": {
      "text/plain": [
       "1"
      ]
     },
     "execution_count": 185,
     "metadata": {},
     "output_type": "execute_result"
    }
   ],
   "source": [
    "pageC = driver.find_elements(By.CSS_SELECTOR , '.mat-mdc-paginator-container')\n",
    "len(pageC) #.text"
   ]
  },
  {
   "cell_type": "code",
   "execution_count": 186,
   "id": "66681292-1550-41f6-824b-87e6591777d2",
   "metadata": {
    "tags": []
   },
   "outputs": [
    {
     "name": "stdout",
     "output_type": "stream",
     "text": [
      "Items per page:\n",
      "20\n",
      "1 – 20 of 22588\n"
     ]
    }
   ],
   "source": [
    "for i in pageC:\n",
    "    print(i.text)"
   ]
  },
  {
   "cell_type": "code",
   "execution_count": 199,
   "id": "53972618-06da-44ee-907c-1d34df408b7b",
   "metadata": {
    "tags": []
   },
   "outputs": [
    {
     "name": "stdout",
     "output_type": "stream",
     "text": [
      "20\n"
     ]
    },
    {
     "ename": "ElementClickInterceptedException",
     "evalue": "Message: element click intercepted: Element <mat-select _ngcontent-ng-c1133426303=\"\" role=\"combobox\" aria-autocomplete=\"none\" aria-haspopup=\"listbox\" ngskiphydration=\"\" hidesingleselectionindicator=\"\" formcontrolname=\"sortBy\" class=\"mat-mdc-select ng-tns-c3393473648-25 ng-tns-c1205077789-24 mat-mdc-select-required ng-untouched ng-pristine ng-valid ng-star-inserted\" aria-labelledby=\"mat-select-value-1\" id=\"mat-select-0\" tabindex=\"0\" aria-expanded=\"true\" aria-required=\"true\" aria-disabled=\"false\" aria-invalid=\"false\" aria-controls=\"mat-select-0-panel\" aria-activedescendant=\"mat-option-538\">...</mat-select> is not clickable at point (1541, 12). Other element would receive the click: <div class=\"cdk-overlay-backdrop cdk-overlay-transparent-backdrop cdk-overlay-backdrop-showing\"></div>\n  (Session info: chrome=131.0.6778.205)\nStacktrace:\n0   chromedriver                        0x0000000102d63184 cxxbridge1$str$ptr + 3626716\n1   chromedriver                        0x0000000102d5b9d4 cxxbridge1$str$ptr + 3596076\n2   chromedriver                        0x00000001027c8968 cxxbridge1$string$len + 89228\n3   chromedriver                        0x00000001028125e4 cxxbridge1$string$len + 391432\n4   chromedriver                        0x0000000102810c34 cxxbridge1$string$len + 384856\n5   chromedriver                        0x000000010280eb78 cxxbridge1$string$len + 376476\n6   chromedriver                        0x000000010280df90 cxxbridge1$string$len + 373428\n7   chromedriver                        0x0000000102803474 cxxbridge1$string$len + 329624\n8   chromedriver                        0x0000000102802ec8 cxxbridge1$string$len + 328172\n9   chromedriver                        0x00000001028465b4 cxxbridge1$string$len + 604376\n10  chromedriver                        0x0000000102801568 cxxbridge1$string$len + 321676\n11  chromedriver                        0x00000001028021b8 cxxbridge1$string$len + 324828\n12  chromedriver                        0x0000000102d2e9ac cxxbridge1$str$ptr + 3411716\n13  chromedriver                        0x0000000102d31ccc cxxbridge1$str$ptr + 3424804\n14  chromedriver                        0x0000000102d1586c cxxbridge1$str$ptr + 3308996\n15  chromedriver                        0x0000000102d3258c cxxbridge1$str$ptr + 3427044\n16  chromedriver                        0x0000000102d0709c cxxbridge1$str$ptr + 3249652\n17  chromedriver                        0x0000000102d4c4b8 cxxbridge1$str$ptr + 3533328\n18  chromedriver                        0x0000000102d4c634 cxxbridge1$str$ptr + 3533708\n19  chromedriver                        0x0000000102d5b648 cxxbridge1$str$ptr + 3595168\n20  libsystem_pthread.dylib             0x000000018f4982e4 _pthread_start + 136\n21  libsystem_pthread.dylib             0x000000018f4930fc thread_start + 8\n",
     "output_type": "error",
     "traceback": [
      "\u001b[0;31m---------------------------------------------------------------------------\u001b[0m",
      "\u001b[0;31mElementClickInterceptedException\u001b[0m          Traceback (most recent call last)",
      "Cell \u001b[0;32mIn[199], line 5\u001b[0m\n\u001b[1;32m      3\u001b[0m \u001b[38;5;28mprint\u001b[39m(ipage\u001b[38;5;241m.\u001b[39mtext)\n\u001b[1;32m      4\u001b[0m mat_select \u001b[38;5;241m=\u001b[39m WebDriverWait(driver, \u001b[38;5;241m10\u001b[39m)\u001b[38;5;241m.\u001b[39muntil(EC\u001b[38;5;241m.\u001b[39melement_to_be_clickable((By\u001b[38;5;241m.\u001b[39mCSS_SELECTOR, \u001b[38;5;124m\"\u001b[39m\u001b[38;5;124mmat-select\u001b[39m\u001b[38;5;124m\"\u001b[39m)))\n\u001b[0;32m----> 5\u001b[0m mat_select\u001b[38;5;241m.\u001b[39mclick()\n",
      "File \u001b[0;32m~/anaconda3/lib/python3.11/site-packages/selenium/webdriver/remote/webelement.py:94\u001b[0m, in \u001b[0;36mWebElement.click\u001b[0;34m(self)\u001b[0m\n\u001b[1;32m     92\u001b[0m \u001b[38;5;28;01mdef\u001b[39;00m \u001b[38;5;21mclick\u001b[39m(\u001b[38;5;28mself\u001b[39m) \u001b[38;5;241m-\u001b[39m\u001b[38;5;241m>\u001b[39m \u001b[38;5;28;01mNone\u001b[39;00m:\n\u001b[1;32m     93\u001b[0m \u001b[38;5;250m    \u001b[39m\u001b[38;5;124;03m\"\"\"Clicks the element.\"\"\"\u001b[39;00m\n\u001b[0;32m---> 94\u001b[0m     \u001b[38;5;28mself\u001b[39m\u001b[38;5;241m.\u001b[39m_execute(Command\u001b[38;5;241m.\u001b[39mCLICK_ELEMENT)\n",
      "File \u001b[0;32m~/anaconda3/lib/python3.11/site-packages/selenium/webdriver/remote/webelement.py:395\u001b[0m, in \u001b[0;36mWebElement._execute\u001b[0;34m(self, command, params)\u001b[0m\n\u001b[1;32m    393\u001b[0m     params \u001b[38;5;241m=\u001b[39m {}\n\u001b[1;32m    394\u001b[0m params[\u001b[38;5;124m\"\u001b[39m\u001b[38;5;124mid\u001b[39m\u001b[38;5;124m\"\u001b[39m] \u001b[38;5;241m=\u001b[39m \u001b[38;5;28mself\u001b[39m\u001b[38;5;241m.\u001b[39m_id\n\u001b[0;32m--> 395\u001b[0m \u001b[38;5;28;01mreturn\u001b[39;00m \u001b[38;5;28mself\u001b[39m\u001b[38;5;241m.\u001b[39m_parent\u001b[38;5;241m.\u001b[39mexecute(command, params)\n",
      "File \u001b[0;32m~/anaconda3/lib/python3.11/site-packages/selenium/webdriver/remote/webdriver.py:347\u001b[0m, in \u001b[0;36mWebDriver.execute\u001b[0;34m(self, driver_command, params)\u001b[0m\n\u001b[1;32m    345\u001b[0m response \u001b[38;5;241m=\u001b[39m \u001b[38;5;28mself\u001b[39m\u001b[38;5;241m.\u001b[39mcommand_executor\u001b[38;5;241m.\u001b[39mexecute(driver_command, params)\n\u001b[1;32m    346\u001b[0m \u001b[38;5;28;01mif\u001b[39;00m response:\n\u001b[0;32m--> 347\u001b[0m     \u001b[38;5;28mself\u001b[39m\u001b[38;5;241m.\u001b[39merror_handler\u001b[38;5;241m.\u001b[39mcheck_response(response)\n\u001b[1;32m    348\u001b[0m     response[\u001b[38;5;124m\"\u001b[39m\u001b[38;5;124mvalue\u001b[39m\u001b[38;5;124m\"\u001b[39m] \u001b[38;5;241m=\u001b[39m \u001b[38;5;28mself\u001b[39m\u001b[38;5;241m.\u001b[39m_unwrap_value(response\u001b[38;5;241m.\u001b[39mget(\u001b[38;5;124m\"\u001b[39m\u001b[38;5;124mvalue\u001b[39m\u001b[38;5;124m\"\u001b[39m, \u001b[38;5;28;01mNone\u001b[39;00m))\n\u001b[1;32m    349\u001b[0m     \u001b[38;5;28;01mreturn\u001b[39;00m response\n",
      "File \u001b[0;32m~/anaconda3/lib/python3.11/site-packages/selenium/webdriver/remote/errorhandler.py:229\u001b[0m, in \u001b[0;36mErrorHandler.check_response\u001b[0;34m(self, response)\u001b[0m\n\u001b[1;32m    227\u001b[0m         alert_text \u001b[38;5;241m=\u001b[39m value[\u001b[38;5;124m\"\u001b[39m\u001b[38;5;124malert\u001b[39m\u001b[38;5;124m\"\u001b[39m]\u001b[38;5;241m.\u001b[39mget(\u001b[38;5;124m\"\u001b[39m\u001b[38;5;124mtext\u001b[39m\u001b[38;5;124m\"\u001b[39m)\n\u001b[1;32m    228\u001b[0m     \u001b[38;5;28;01mraise\u001b[39;00m exception_class(message, screen, stacktrace, alert_text)  \u001b[38;5;66;03m# type: ignore[call-arg]  # mypy is not smart enough here\u001b[39;00m\n\u001b[0;32m--> 229\u001b[0m \u001b[38;5;28;01mraise\u001b[39;00m exception_class(message, screen, stacktrace)\n",
      "\u001b[0;31mElementClickInterceptedException\u001b[0m: Message: element click intercepted: Element <mat-select _ngcontent-ng-c1133426303=\"\" role=\"combobox\" aria-autocomplete=\"none\" aria-haspopup=\"listbox\" ngskiphydration=\"\" hidesingleselectionindicator=\"\" formcontrolname=\"sortBy\" class=\"mat-mdc-select ng-tns-c3393473648-25 ng-tns-c1205077789-24 mat-mdc-select-required ng-untouched ng-pristine ng-valid ng-star-inserted\" aria-labelledby=\"mat-select-value-1\" id=\"mat-select-0\" tabindex=\"0\" aria-expanded=\"true\" aria-required=\"true\" aria-disabled=\"false\" aria-invalid=\"false\" aria-controls=\"mat-select-0-panel\" aria-activedescendant=\"mat-option-538\">...</mat-select> is not clickable at point (1541, 12). Other element would receive the click: <div class=\"cdk-overlay-backdrop cdk-overlay-transparent-backdrop cdk-overlay-backdrop-showing\"></div>\n  (Session info: chrome=131.0.6778.205)\nStacktrace:\n0   chromedriver                        0x0000000102d63184 cxxbridge1$str$ptr + 3626716\n1   chromedriver                        0x0000000102d5b9d4 cxxbridge1$str$ptr + 3596076\n2   chromedriver                        0x00000001027c8968 cxxbridge1$string$len + 89228\n3   chromedriver                        0x00000001028125e4 cxxbridge1$string$len + 391432\n4   chromedriver                        0x0000000102810c34 cxxbridge1$string$len + 384856\n5   chromedriver                        0x000000010280eb78 cxxbridge1$string$len + 376476\n6   chromedriver                        0x000000010280df90 cxxbridge1$string$len + 373428\n7   chromedriver                        0x0000000102803474 cxxbridge1$string$len + 329624\n8   chromedriver                        0x0000000102802ec8 cxxbridge1$string$len + 328172\n9   chromedriver                        0x00000001028465b4 cxxbridge1$string$len + 604376\n10  chromedriver                        0x0000000102801568 cxxbridge1$string$len + 321676\n11  chromedriver                        0x00000001028021b8 cxxbridge1$string$len + 324828\n12  chromedriver                        0x0000000102d2e9ac cxxbridge1$str$ptr + 3411716\n13  chromedriver                        0x0000000102d31ccc cxxbridge1$str$ptr + 3424804\n14  chromedriver                        0x0000000102d1586c cxxbridge1$str$ptr + 3308996\n15  chromedriver                        0x0000000102d3258c cxxbridge1$str$ptr + 3427044\n16  chromedriver                        0x0000000102d0709c cxxbridge1$str$ptr + 3249652\n17  chromedriver                        0x0000000102d4c4b8 cxxbridge1$str$ptr + 3533328\n18  chromedriver                        0x0000000102d4c634 cxxbridge1$str$ptr + 3533708\n19  chromedriver                        0x0000000102d5b648 cxxbridge1$str$ptr + 3595168\n20  libsystem_pthread.dylib             0x000000018f4982e4 _pthread_start + 136\n21  libsystem_pthread.dylib             0x000000018f4930fc thread_start + 8\n"
     ]
    }
   ],
   "source": [
    "for i in pageC:\n",
    "    ipage = i.find_element(By.XPATH,'.//div/mat-form-field')\n",
    "    print(ipage.text)\n",
    "    mat_select = WebDriverWait(driver, 10).until(EC.element_to_be_clickable((By.CSS_SELECTOR, \"mat-select\")))\n",
    "    mat_select.click()\n",
    "    #print(i.text)"
   ]
  },
  {
   "cell_type": "code",
   "execution_count": null,
   "id": "14319a14-8cae-4b5a-a98b-9bca14cf5bb7",
   "metadata": {},
   "outputs": [],
   "source": []
  },
  {
   "cell_type": "code",
   "execution_count": 181,
   "id": "c8f0cb90-5333-472e-9ba1-846e36d57137",
   "metadata": {
    "tags": []
   },
   "outputs": [
    {
     "ename": "NoSuchElementException",
     "evalue": "Message: no such element: Unable to locate element: {\"method\":\"css selector\",\"selector\":\"[id=\"mat-select-8\"]\"}\n  (Session info: chrome=131.0.6778.205); For documentation on this error, please visit: https://www.selenium.dev/documentation/webdriver/troubleshooting/errors#no-such-element-exception\nStacktrace:\n0   chromedriver                        0x0000000102d63184 cxxbridge1$str$ptr + 3626716\n1   chromedriver                        0x0000000102d5b9d4 cxxbridge1$str$ptr + 3596076\n2   chromedriver                        0x00000001027c8968 cxxbridge1$string$len + 89228\n3   chromedriver                        0x000000010280cd50 cxxbridge1$string$len + 368756\n4   chromedriver                        0x00000001028465b4 cxxbridge1$string$len + 604376\n5   chromedriver                        0x0000000102801568 cxxbridge1$string$len + 321676\n6   chromedriver                        0x00000001028021b8 cxxbridge1$string$len + 324828\n7   chromedriver                        0x0000000102d2e9ac cxxbridge1$str$ptr + 3411716\n8   chromedriver                        0x0000000102d31ccc cxxbridge1$str$ptr + 3424804\n9   chromedriver                        0x0000000102d1586c cxxbridge1$str$ptr + 3308996\n10  chromedriver                        0x0000000102d3258c cxxbridge1$str$ptr + 3427044\n11  chromedriver                        0x0000000102d0709c cxxbridge1$str$ptr + 3249652\n12  chromedriver                        0x0000000102d4c4b8 cxxbridge1$str$ptr + 3533328\n13  chromedriver                        0x0000000102d4c634 cxxbridge1$str$ptr + 3533708\n14  chromedriver                        0x0000000102d5b648 cxxbridge1$str$ptr + 3595168\n15  libsystem_pthread.dylib             0x000000018f4982e4 _pthread_start + 136\n16  libsystem_pthread.dylib             0x000000018f4930fc thread_start + 8\n",
     "output_type": "error",
     "traceback": [
      "\u001b[0;31m---------------------------------------------------------------------------\u001b[0m",
      "\u001b[0;31mNoSuchElementException\u001b[0m                    Traceback (most recent call last)",
      "Cell \u001b[0;32mIn[181], line 1\u001b[0m\n\u001b[0;32m----> 1\u001b[0m driver\u001b[38;5;241m.\u001b[39mfind_element(By\u001b[38;5;241m.\u001b[39mID, \u001b[38;5;124m'\u001b[39m\u001b[38;5;124mmat-select-8\u001b[39m\u001b[38;5;124m'\u001b[39m)\n",
      "File \u001b[0;32m~/anaconda3/lib/python3.11/site-packages/selenium/webdriver/remote/webdriver.py:741\u001b[0m, in \u001b[0;36mWebDriver.find_element\u001b[0;34m(self, by, value)\u001b[0m\n\u001b[1;32m    738\u001b[0m     by \u001b[38;5;241m=\u001b[39m By\u001b[38;5;241m.\u001b[39mCSS_SELECTOR\n\u001b[1;32m    739\u001b[0m     value \u001b[38;5;241m=\u001b[39m \u001b[38;5;124mf\u001b[39m\u001b[38;5;124m'\u001b[39m\u001b[38;5;124m[name=\u001b[39m\u001b[38;5;124m\"\u001b[39m\u001b[38;5;132;01m{\u001b[39;00mvalue\u001b[38;5;132;01m}\u001b[39;00m\u001b[38;5;124m\"\u001b[39m\u001b[38;5;124m]\u001b[39m\u001b[38;5;124m'\u001b[39m\n\u001b[0;32m--> 741\u001b[0m \u001b[38;5;28;01mreturn\u001b[39;00m \u001b[38;5;28mself\u001b[39m\u001b[38;5;241m.\u001b[39mexecute(Command\u001b[38;5;241m.\u001b[39mFIND_ELEMENT, {\u001b[38;5;124m\"\u001b[39m\u001b[38;5;124musing\u001b[39m\u001b[38;5;124m\"\u001b[39m: by, \u001b[38;5;124m\"\u001b[39m\u001b[38;5;124mvalue\u001b[39m\u001b[38;5;124m\"\u001b[39m: value})[\u001b[38;5;124m\"\u001b[39m\u001b[38;5;124mvalue\u001b[39m\u001b[38;5;124m\"\u001b[39m]\n",
      "File \u001b[0;32m~/anaconda3/lib/python3.11/site-packages/selenium/webdriver/remote/webdriver.py:347\u001b[0m, in \u001b[0;36mWebDriver.execute\u001b[0;34m(self, driver_command, params)\u001b[0m\n\u001b[1;32m    345\u001b[0m response \u001b[38;5;241m=\u001b[39m \u001b[38;5;28mself\u001b[39m\u001b[38;5;241m.\u001b[39mcommand_executor\u001b[38;5;241m.\u001b[39mexecute(driver_command, params)\n\u001b[1;32m    346\u001b[0m \u001b[38;5;28;01mif\u001b[39;00m response:\n\u001b[0;32m--> 347\u001b[0m     \u001b[38;5;28mself\u001b[39m\u001b[38;5;241m.\u001b[39merror_handler\u001b[38;5;241m.\u001b[39mcheck_response(response)\n\u001b[1;32m    348\u001b[0m     response[\u001b[38;5;124m\"\u001b[39m\u001b[38;5;124mvalue\u001b[39m\u001b[38;5;124m\"\u001b[39m] \u001b[38;5;241m=\u001b[39m \u001b[38;5;28mself\u001b[39m\u001b[38;5;241m.\u001b[39m_unwrap_value(response\u001b[38;5;241m.\u001b[39mget(\u001b[38;5;124m\"\u001b[39m\u001b[38;5;124mvalue\u001b[39m\u001b[38;5;124m\"\u001b[39m, \u001b[38;5;28;01mNone\u001b[39;00m))\n\u001b[1;32m    349\u001b[0m     \u001b[38;5;28;01mreturn\u001b[39;00m response\n",
      "File \u001b[0;32m~/anaconda3/lib/python3.11/site-packages/selenium/webdriver/remote/errorhandler.py:229\u001b[0m, in \u001b[0;36mErrorHandler.check_response\u001b[0;34m(self, response)\u001b[0m\n\u001b[1;32m    227\u001b[0m         alert_text \u001b[38;5;241m=\u001b[39m value[\u001b[38;5;124m\"\u001b[39m\u001b[38;5;124malert\u001b[39m\u001b[38;5;124m\"\u001b[39m]\u001b[38;5;241m.\u001b[39mget(\u001b[38;5;124m\"\u001b[39m\u001b[38;5;124mtext\u001b[39m\u001b[38;5;124m\"\u001b[39m)\n\u001b[1;32m    228\u001b[0m     \u001b[38;5;28;01mraise\u001b[39;00m exception_class(message, screen, stacktrace, alert_text)  \u001b[38;5;66;03m# type: ignore[call-arg]  # mypy is not smart enough here\u001b[39;00m\n\u001b[0;32m--> 229\u001b[0m \u001b[38;5;28;01mraise\u001b[39;00m exception_class(message, screen, stacktrace)\n",
      "\u001b[0;31mNoSuchElementException\u001b[0m: Message: no such element: Unable to locate element: {\"method\":\"css selector\",\"selector\":\"[id=\"mat-select-8\"]\"}\n  (Session info: chrome=131.0.6778.205); For documentation on this error, please visit: https://www.selenium.dev/documentation/webdriver/troubleshooting/errors#no-such-element-exception\nStacktrace:\n0   chromedriver                        0x0000000102d63184 cxxbridge1$str$ptr + 3626716\n1   chromedriver                        0x0000000102d5b9d4 cxxbridge1$str$ptr + 3596076\n2   chromedriver                        0x00000001027c8968 cxxbridge1$string$len + 89228\n3   chromedriver                        0x000000010280cd50 cxxbridge1$string$len + 368756\n4   chromedriver                        0x00000001028465b4 cxxbridge1$string$len + 604376\n5   chromedriver                        0x0000000102801568 cxxbridge1$string$len + 321676\n6   chromedriver                        0x00000001028021b8 cxxbridge1$string$len + 324828\n7   chromedriver                        0x0000000102d2e9ac cxxbridge1$str$ptr + 3411716\n8   chromedriver                        0x0000000102d31ccc cxxbridge1$str$ptr + 3424804\n9   chromedriver                        0x0000000102d1586c cxxbridge1$str$ptr + 3308996\n10  chromedriver                        0x0000000102d3258c cxxbridge1$str$ptr + 3427044\n11  chromedriver                        0x0000000102d0709c cxxbridge1$str$ptr + 3249652\n12  chromedriver                        0x0000000102d4c4b8 cxxbridge1$str$ptr + 3533328\n13  chromedriver                        0x0000000102d4c634 cxxbridge1$str$ptr + 3533708\n14  chromedriver                        0x0000000102d5b648 cxxbridge1$str$ptr + 3595168\n15  libsystem_pthread.dylib             0x000000018f4982e4 _pthread_start + 136\n16  libsystem_pthread.dylib             0x000000018f4930fc thread_start + 8\n"
     ]
    }
   ],
   "source": [
    "driver.find_element(By.ID, 'mat-select-8')"
   ]
  },
  {
   "cell_type": "code",
   "execution_count": 177,
   "id": "c8ab50ee",
   "metadata": {
    "tags": []
   },
   "outputs": [
    {
     "data": {
      "text/plain": [
       "[]"
      ]
     },
     "execution_count": 146,
     "metadata": {},
     "output_type": "execute_result"
    }
   ],
   "source": [
    "pageResults = driver.find_elements(By.XPATH, '/html/body/cdx-app/mat-sidenav-container/mat-sidenav-content/main/can-home-page/div/div/div/mat-sidenav-container/mat-sidenav-content/app-journal-search-results/div')\n",
    "len(pageResults)"
   ]
  },
  {
   "cell_type": "code",
   "execution_count": null,
   "id": "a6bc4960-d27c-4c5b-b810-d7887d37e9a6",
   "metadata": {},
   "outputs": [],
   "source": [
    "//*[@id=\"mat-select-value-9\"]/span/span"
   ]
  },
  {
   "cell_type": "code",
   "execution_count": 159,
   "id": "7247e7dd-1694-45ed-bd64-a6c7eb1f1083",
   "metadata": {
    "tags": []
   },
   "outputs": [
    {
     "ename": "NoSuchElementException",
     "evalue": "Message: no such element: Unable to locate element: {\"method\":\"xpath\",\"selector\":\"//*[@id=\"mat-select-value-9\"]/span/span\"}\n  (Session info: chrome=131.0.6778.205); For documentation on this error, please visit: https://www.selenium.dev/documentation/webdriver/troubleshooting/errors#no-such-element-exception\nStacktrace:\n0   chromedriver                        0x0000000102d63184 cxxbridge1$str$ptr + 3626716\n1   chromedriver                        0x0000000102d5b9d4 cxxbridge1$str$ptr + 3596076\n2   chromedriver                        0x00000001027c8968 cxxbridge1$string$len + 89228\n3   chromedriver                        0x000000010280cd50 cxxbridge1$string$len + 368756\n4   chromedriver                        0x00000001028465b4 cxxbridge1$string$len + 604376\n5   chromedriver                        0x0000000102801568 cxxbridge1$string$len + 321676\n6   chromedriver                        0x00000001028021b8 cxxbridge1$string$len + 324828\n7   chromedriver                        0x0000000102d2e9ac cxxbridge1$str$ptr + 3411716\n8   chromedriver                        0x0000000102d31ccc cxxbridge1$str$ptr + 3424804\n9   chromedriver                        0x0000000102d1586c cxxbridge1$str$ptr + 3308996\n10  chromedriver                        0x0000000102d3258c cxxbridge1$str$ptr + 3427044\n11  chromedriver                        0x0000000102d0709c cxxbridge1$str$ptr + 3249652\n12  chromedriver                        0x0000000102d4c4b8 cxxbridge1$str$ptr + 3533328\n13  chromedriver                        0x0000000102d4c634 cxxbridge1$str$ptr + 3533708\n14  chromedriver                        0x0000000102d5b648 cxxbridge1$str$ptr + 3595168\n15  libsystem_pthread.dylib             0x000000018f4982e4 _pthread_start + 136\n16  libsystem_pthread.dylib             0x000000018f4930fc thread_start + 8\n",
     "output_type": "error",
     "traceback": [
      "\u001b[0;31m---------------------------------------------------------------------------\u001b[0m",
      "\u001b[0;31mNoSuchElementException\u001b[0m                    Traceback (most recent call last)",
      "Cell \u001b[0;32mIn[159], line 1\u001b[0m\n\u001b[0;32m----> 1\u001b[0m dropdown \u001b[38;5;241m=\u001b[39m Select(driver\u001b[38;5;241m.\u001b[39mfind_element(By\u001b[38;5;241m.\u001b[39mXPATH, \u001b[38;5;124m'\u001b[39m\u001b[38;5;124m//*[@id=\u001b[39m\u001b[38;5;124m\"\u001b[39m\u001b[38;5;124mmat-select-value-9\u001b[39m\u001b[38;5;124m\"\u001b[39m\u001b[38;5;124m]/span/span\u001b[39m\u001b[38;5;124m'\u001b[39m))\n\u001b[1;32m      2\u001b[0m \u001b[38;5;28mprint\u001b[39m(\u001b[38;5;124m\"\u001b[39m\u001b[38;5;124mItems are: \u001b[39m\u001b[38;5;124m\"\u001b[39m )\n",
      "File \u001b[0;32m~/anaconda3/lib/python3.11/site-packages/selenium/webdriver/remote/webdriver.py:741\u001b[0m, in \u001b[0;36mWebDriver.find_element\u001b[0;34m(self, by, value)\u001b[0m\n\u001b[1;32m    738\u001b[0m     by \u001b[38;5;241m=\u001b[39m By\u001b[38;5;241m.\u001b[39mCSS_SELECTOR\n\u001b[1;32m    739\u001b[0m     value \u001b[38;5;241m=\u001b[39m \u001b[38;5;124mf\u001b[39m\u001b[38;5;124m'\u001b[39m\u001b[38;5;124m[name=\u001b[39m\u001b[38;5;124m\"\u001b[39m\u001b[38;5;132;01m{\u001b[39;00mvalue\u001b[38;5;132;01m}\u001b[39;00m\u001b[38;5;124m\"\u001b[39m\u001b[38;5;124m]\u001b[39m\u001b[38;5;124m'\u001b[39m\n\u001b[0;32m--> 741\u001b[0m \u001b[38;5;28;01mreturn\u001b[39;00m \u001b[38;5;28mself\u001b[39m\u001b[38;5;241m.\u001b[39mexecute(Command\u001b[38;5;241m.\u001b[39mFIND_ELEMENT, {\u001b[38;5;124m\"\u001b[39m\u001b[38;5;124musing\u001b[39m\u001b[38;5;124m\"\u001b[39m: by, \u001b[38;5;124m\"\u001b[39m\u001b[38;5;124mvalue\u001b[39m\u001b[38;5;124m\"\u001b[39m: value})[\u001b[38;5;124m\"\u001b[39m\u001b[38;5;124mvalue\u001b[39m\u001b[38;5;124m\"\u001b[39m]\n",
      "File \u001b[0;32m~/anaconda3/lib/python3.11/site-packages/selenium/webdriver/remote/webdriver.py:347\u001b[0m, in \u001b[0;36mWebDriver.execute\u001b[0;34m(self, driver_command, params)\u001b[0m\n\u001b[1;32m    345\u001b[0m response \u001b[38;5;241m=\u001b[39m \u001b[38;5;28mself\u001b[39m\u001b[38;5;241m.\u001b[39mcommand_executor\u001b[38;5;241m.\u001b[39mexecute(driver_command, params)\n\u001b[1;32m    346\u001b[0m \u001b[38;5;28;01mif\u001b[39;00m response:\n\u001b[0;32m--> 347\u001b[0m     \u001b[38;5;28mself\u001b[39m\u001b[38;5;241m.\u001b[39merror_handler\u001b[38;5;241m.\u001b[39mcheck_response(response)\n\u001b[1;32m    348\u001b[0m     response[\u001b[38;5;124m\"\u001b[39m\u001b[38;5;124mvalue\u001b[39m\u001b[38;5;124m\"\u001b[39m] \u001b[38;5;241m=\u001b[39m \u001b[38;5;28mself\u001b[39m\u001b[38;5;241m.\u001b[39m_unwrap_value(response\u001b[38;5;241m.\u001b[39mget(\u001b[38;5;124m\"\u001b[39m\u001b[38;5;124mvalue\u001b[39m\u001b[38;5;124m\"\u001b[39m, \u001b[38;5;28;01mNone\u001b[39;00m))\n\u001b[1;32m    349\u001b[0m     \u001b[38;5;28;01mreturn\u001b[39;00m response\n",
      "File \u001b[0;32m~/anaconda3/lib/python3.11/site-packages/selenium/webdriver/remote/errorhandler.py:229\u001b[0m, in \u001b[0;36mErrorHandler.check_response\u001b[0;34m(self, response)\u001b[0m\n\u001b[1;32m    227\u001b[0m         alert_text \u001b[38;5;241m=\u001b[39m value[\u001b[38;5;124m\"\u001b[39m\u001b[38;5;124malert\u001b[39m\u001b[38;5;124m\"\u001b[39m]\u001b[38;5;241m.\u001b[39mget(\u001b[38;5;124m\"\u001b[39m\u001b[38;5;124mtext\u001b[39m\u001b[38;5;124m\"\u001b[39m)\n\u001b[1;32m    228\u001b[0m     \u001b[38;5;28;01mraise\u001b[39;00m exception_class(message, screen, stacktrace, alert_text)  \u001b[38;5;66;03m# type: ignore[call-arg]  # mypy is not smart enough here\u001b[39;00m\n\u001b[0;32m--> 229\u001b[0m \u001b[38;5;28;01mraise\u001b[39;00m exception_class(message, screen, stacktrace)\n",
      "\u001b[0;31mNoSuchElementException\u001b[0m: Message: no such element: Unable to locate element: {\"method\":\"xpath\",\"selector\":\"//*[@id=\"mat-select-value-9\"]/span/span\"}\n  (Session info: chrome=131.0.6778.205); For documentation on this error, please visit: https://www.selenium.dev/documentation/webdriver/troubleshooting/errors#no-such-element-exception\nStacktrace:\n0   chromedriver                        0x0000000102d63184 cxxbridge1$str$ptr + 3626716\n1   chromedriver                        0x0000000102d5b9d4 cxxbridge1$str$ptr + 3596076\n2   chromedriver                        0x00000001027c8968 cxxbridge1$string$len + 89228\n3   chromedriver                        0x000000010280cd50 cxxbridge1$string$len + 368756\n4   chromedriver                        0x00000001028465b4 cxxbridge1$string$len + 604376\n5   chromedriver                        0x0000000102801568 cxxbridge1$string$len + 321676\n6   chromedriver                        0x00000001028021b8 cxxbridge1$string$len + 324828\n7   chromedriver                        0x0000000102d2e9ac cxxbridge1$str$ptr + 3411716\n8   chromedriver                        0x0000000102d31ccc cxxbridge1$str$ptr + 3424804\n9   chromedriver                        0x0000000102d1586c cxxbridge1$str$ptr + 3308996\n10  chromedriver                        0x0000000102d3258c cxxbridge1$str$ptr + 3427044\n11  chromedriver                        0x0000000102d0709c cxxbridge1$str$ptr + 3249652\n12  chromedriver                        0x0000000102d4c4b8 cxxbridge1$str$ptr + 3533328\n13  chromedriver                        0x0000000102d4c634 cxxbridge1$str$ptr + 3533708\n14  chromedriver                        0x0000000102d5b648 cxxbridge1$str$ptr + 3595168\n15  libsystem_pthread.dylib             0x000000018f4982e4 _pthread_start + 136\n16  libsystem_pthread.dylib             0x000000018f4930fc thread_start + 8\n"
     ]
    }
   ],
   "source": [
    "dropdown = Select(driver.find_element(By.XPATH, '//*[@id=\"mat-select-value-9\"]/span/span'))\n",
    "print(\"Items are: \" )\n",
    "#for i in dropdown.options:  print(i.get_attribute('innerHTML'))"
   ]
  },
  {
   "cell_type": "code",
   "execution_count": 153,
   "id": "6ebd7163-dfc3-4e71-ae2d-ac977dc70798",
   "metadata": {
    "tags": []
   },
   "outputs": [
    {
     "ename": "NoSuchElementException",
     "evalue": "Message: no such element: Unable to locate element: {\"method\":\"css selector\",\"selector\":\"[id=\"btnall\"]\"}\n  (Session info: chrome=131.0.6778.205); For documentation on this error, please visit: https://www.selenium.dev/documentation/webdriver/troubleshooting/errors#no-such-element-exception\nStacktrace:\n0   chromedriver                        0x0000000102d63184 cxxbridge1$str$ptr + 3626716\n1   chromedriver                        0x0000000102d5b9d4 cxxbridge1$str$ptr + 3596076\n2   chromedriver                        0x00000001027c8968 cxxbridge1$string$len + 89228\n3   chromedriver                        0x000000010280cd50 cxxbridge1$string$len + 368756\n4   chromedriver                        0x00000001028465b4 cxxbridge1$string$len + 604376\n5   chromedriver                        0x0000000102801568 cxxbridge1$string$len + 321676\n6   chromedriver                        0x00000001028021b8 cxxbridge1$string$len + 324828\n7   chromedriver                        0x0000000102d2e9ac cxxbridge1$str$ptr + 3411716\n8   chromedriver                        0x0000000102d31ccc cxxbridge1$str$ptr + 3424804\n9   chromedriver                        0x0000000102d1586c cxxbridge1$str$ptr + 3308996\n10  chromedriver                        0x0000000102d3258c cxxbridge1$str$ptr + 3427044\n11  chromedriver                        0x0000000102d0709c cxxbridge1$str$ptr + 3249652\n12  chromedriver                        0x0000000102d4c4b8 cxxbridge1$str$ptr + 3533328\n13  chromedriver                        0x0000000102d4c634 cxxbridge1$str$ptr + 3533708\n14  chromedriver                        0x0000000102d5b648 cxxbridge1$str$ptr + 3595168\n15  libsystem_pthread.dylib             0x000000018f4982e4 _pthread_start + 136\n16  libsystem_pthread.dylib             0x000000018f4930fc thread_start + 8\n",
     "output_type": "error",
     "traceback": [
      "\u001b[0;31m---------------------------------------------------------------------------\u001b[0m",
      "\u001b[0;31mNoSuchElementException\u001b[0m                    Traceback (most recent call last)",
      "Cell \u001b[0;32mIn[153], line 1\u001b[0m\n\u001b[0;32m----> 1\u001b[0m btviewall \u001b[38;5;241m=\u001b[39m driver\u001b[38;5;241m.\u001b[39mfind_element(By\u001b[38;5;241m.\u001b[39mID, \u001b[38;5;124m'\u001b[39m\u001b[38;5;124mbtnall\u001b[39m\u001b[38;5;124m'\u001b[39m)\n\u001b[1;32m      2\u001b[0m btviewall\n",
      "File \u001b[0;32m~/anaconda3/lib/python3.11/site-packages/selenium/webdriver/remote/webdriver.py:741\u001b[0m, in \u001b[0;36mWebDriver.find_element\u001b[0;34m(self, by, value)\u001b[0m\n\u001b[1;32m    738\u001b[0m     by \u001b[38;5;241m=\u001b[39m By\u001b[38;5;241m.\u001b[39mCSS_SELECTOR\n\u001b[1;32m    739\u001b[0m     value \u001b[38;5;241m=\u001b[39m \u001b[38;5;124mf\u001b[39m\u001b[38;5;124m'\u001b[39m\u001b[38;5;124m[name=\u001b[39m\u001b[38;5;124m\"\u001b[39m\u001b[38;5;132;01m{\u001b[39;00mvalue\u001b[38;5;132;01m}\u001b[39;00m\u001b[38;5;124m\"\u001b[39m\u001b[38;5;124m]\u001b[39m\u001b[38;5;124m'\u001b[39m\n\u001b[0;32m--> 741\u001b[0m \u001b[38;5;28;01mreturn\u001b[39;00m \u001b[38;5;28mself\u001b[39m\u001b[38;5;241m.\u001b[39mexecute(Command\u001b[38;5;241m.\u001b[39mFIND_ELEMENT, {\u001b[38;5;124m\"\u001b[39m\u001b[38;5;124musing\u001b[39m\u001b[38;5;124m\"\u001b[39m: by, \u001b[38;5;124m\"\u001b[39m\u001b[38;5;124mvalue\u001b[39m\u001b[38;5;124m\"\u001b[39m: value})[\u001b[38;5;124m\"\u001b[39m\u001b[38;5;124mvalue\u001b[39m\u001b[38;5;124m\"\u001b[39m]\n",
      "File \u001b[0;32m~/anaconda3/lib/python3.11/site-packages/selenium/webdriver/remote/webdriver.py:347\u001b[0m, in \u001b[0;36mWebDriver.execute\u001b[0;34m(self, driver_command, params)\u001b[0m\n\u001b[1;32m    345\u001b[0m response \u001b[38;5;241m=\u001b[39m \u001b[38;5;28mself\u001b[39m\u001b[38;5;241m.\u001b[39mcommand_executor\u001b[38;5;241m.\u001b[39mexecute(driver_command, params)\n\u001b[1;32m    346\u001b[0m \u001b[38;5;28;01mif\u001b[39;00m response:\n\u001b[0;32m--> 347\u001b[0m     \u001b[38;5;28mself\u001b[39m\u001b[38;5;241m.\u001b[39merror_handler\u001b[38;5;241m.\u001b[39mcheck_response(response)\n\u001b[1;32m    348\u001b[0m     response[\u001b[38;5;124m\"\u001b[39m\u001b[38;5;124mvalue\u001b[39m\u001b[38;5;124m\"\u001b[39m] \u001b[38;5;241m=\u001b[39m \u001b[38;5;28mself\u001b[39m\u001b[38;5;241m.\u001b[39m_unwrap_value(response\u001b[38;5;241m.\u001b[39mget(\u001b[38;5;124m\"\u001b[39m\u001b[38;5;124mvalue\u001b[39m\u001b[38;5;124m\"\u001b[39m, \u001b[38;5;28;01mNone\u001b[39;00m))\n\u001b[1;32m    349\u001b[0m     \u001b[38;5;28;01mreturn\u001b[39;00m response\n",
      "File \u001b[0;32m~/anaconda3/lib/python3.11/site-packages/selenium/webdriver/remote/errorhandler.py:229\u001b[0m, in \u001b[0;36mErrorHandler.check_response\u001b[0;34m(self, response)\u001b[0m\n\u001b[1;32m    227\u001b[0m         alert_text \u001b[38;5;241m=\u001b[39m value[\u001b[38;5;124m\"\u001b[39m\u001b[38;5;124malert\u001b[39m\u001b[38;5;124m\"\u001b[39m]\u001b[38;5;241m.\u001b[39mget(\u001b[38;5;124m\"\u001b[39m\u001b[38;5;124mtext\u001b[39m\u001b[38;5;124m\"\u001b[39m)\n\u001b[1;32m    228\u001b[0m     \u001b[38;5;28;01mraise\u001b[39;00m exception_class(message, screen, stacktrace, alert_text)  \u001b[38;5;66;03m# type: ignore[call-arg]  # mypy is not smart enough here\u001b[39;00m\n\u001b[0;32m--> 229\u001b[0m \u001b[38;5;28;01mraise\u001b[39;00m exception_class(message, screen, stacktrace)\n",
      "\u001b[0;31mNoSuchElementException\u001b[0m: Message: no such element: Unable to locate element: {\"method\":\"css selector\",\"selector\":\"[id=\"btnall\"]\"}\n  (Session info: chrome=131.0.6778.205); For documentation on this error, please visit: https://www.selenium.dev/documentation/webdriver/troubleshooting/errors#no-such-element-exception\nStacktrace:\n0   chromedriver                        0x0000000102d63184 cxxbridge1$str$ptr + 3626716\n1   chromedriver                        0x0000000102d5b9d4 cxxbridge1$str$ptr + 3596076\n2   chromedriver                        0x00000001027c8968 cxxbridge1$string$len + 89228\n3   chromedriver                        0x000000010280cd50 cxxbridge1$string$len + 368756\n4   chromedriver                        0x00000001028465b4 cxxbridge1$string$len + 604376\n5   chromedriver                        0x0000000102801568 cxxbridge1$string$len + 321676\n6   chromedriver                        0x00000001028021b8 cxxbridge1$string$len + 324828\n7   chromedriver                        0x0000000102d2e9ac cxxbridge1$str$ptr + 3411716\n8   chromedriver                        0x0000000102d31ccc cxxbridge1$str$ptr + 3424804\n9   chromedriver                        0x0000000102d1586c cxxbridge1$str$ptr + 3308996\n10  chromedriver                        0x0000000102d3258c cxxbridge1$str$ptr + 3427044\n11  chromedriver                        0x0000000102d0709c cxxbridge1$str$ptr + 3249652\n12  chromedriver                        0x0000000102d4c4b8 cxxbridge1$str$ptr + 3533328\n13  chromedriver                        0x0000000102d4c634 cxxbridge1$str$ptr + 3533708\n14  chromedriver                        0x0000000102d5b648 cxxbridge1$str$ptr + 3595168\n15  libsystem_pthread.dylib             0x000000018f4982e4 _pthread_start + 136\n16  libsystem_pthread.dylib             0x000000018f4930fc thread_start + 8\n"
     ]
    }
   ],
   "source": [
    "btviewall = driver.find_element(By.ID, 'btnall')\n",
    "btviewall"
   ]
  },
  {
   "cell_type": "code",
   "execution_count": 151,
   "id": "28316422-aa96-4446-bb83-2e6cb00676bf",
   "metadata": {
    "tags": []
   },
   "outputs": [
    {
     "data": {
      "text/plain": [
       "0"
      ]
     },
     "execution_count": 151,
     "metadata": {},
     "output_type": "execute_result"
    }
   ],
   "source": [
    "pageEle = driver.find_elements(By.XPATH ,'//div[\"id\"=\"mat-select-value-7\"]')\n",
    "len(pageEle)"
   ]
  },
  {
   "cell_type": "code",
   "execution_count": 152,
   "id": "58cf09d3-5b4a-41cc-a69a-2acb6a6270f9",
   "metadata": {
    "tags": []
   },
   "outputs": [
    {
     "ename": "NoSuchElementException",
     "evalue": "Message: no such element: Unable to locate element: {\"method\":\"css selector\",\"selector\":\"mat-select-6\"}\n  (Session info: chrome=131.0.6778.205); For documentation on this error, please visit: https://www.selenium.dev/documentation/webdriver/troubleshooting/errors#no-such-element-exception\nStacktrace:\n0   chromedriver                        0x0000000102d63184 cxxbridge1$str$ptr + 3626716\n1   chromedriver                        0x0000000102d5b9d4 cxxbridge1$str$ptr + 3596076\n2   chromedriver                        0x00000001027c8968 cxxbridge1$string$len + 89228\n3   chromedriver                        0x000000010280cd50 cxxbridge1$string$len + 368756\n4   chromedriver                        0x00000001028465b4 cxxbridge1$string$len + 604376\n5   chromedriver                        0x0000000102801568 cxxbridge1$string$len + 321676\n6   chromedriver                        0x00000001028021b8 cxxbridge1$string$len + 324828\n7   chromedriver                        0x0000000102d2e9ac cxxbridge1$str$ptr + 3411716\n8   chromedriver                        0x0000000102d31ccc cxxbridge1$str$ptr + 3424804\n9   chromedriver                        0x0000000102d1586c cxxbridge1$str$ptr + 3308996\n10  chromedriver                        0x0000000102d3258c cxxbridge1$str$ptr + 3427044\n11  chromedriver                        0x0000000102d0709c cxxbridge1$str$ptr + 3249652\n12  chromedriver                        0x0000000102d4c4b8 cxxbridge1$str$ptr + 3533328\n13  chromedriver                        0x0000000102d4c634 cxxbridge1$str$ptr + 3533708\n14  chromedriver                        0x0000000102d5b648 cxxbridge1$str$ptr + 3595168\n15  libsystem_pthread.dylib             0x000000018f4982e4 _pthread_start + 136\n16  libsystem_pthread.dylib             0x000000018f4930fc thread_start + 8\n",
     "output_type": "error",
     "traceback": [
      "\u001b[0;31m---------------------------------------------------------------------------\u001b[0m",
      "\u001b[0;31mNoSuchElementException\u001b[0m                    Traceback (most recent call last)",
      "Cell \u001b[0;32mIn[152], line 1\u001b[0m\n\u001b[0;32m----> 1\u001b[0m driver\u001b[38;5;241m.\u001b[39mfind_element(By\u001b[38;5;241m.\u001b[39mCSS_SELECTOR, \u001b[38;5;124m'\u001b[39m\u001b[38;5;124mmat-select-6\u001b[39m\u001b[38;5;124m'\u001b[39m)\n",
      "File \u001b[0;32m~/anaconda3/lib/python3.11/site-packages/selenium/webdriver/remote/webdriver.py:741\u001b[0m, in \u001b[0;36mWebDriver.find_element\u001b[0;34m(self, by, value)\u001b[0m\n\u001b[1;32m    738\u001b[0m     by \u001b[38;5;241m=\u001b[39m By\u001b[38;5;241m.\u001b[39mCSS_SELECTOR\n\u001b[1;32m    739\u001b[0m     value \u001b[38;5;241m=\u001b[39m \u001b[38;5;124mf\u001b[39m\u001b[38;5;124m'\u001b[39m\u001b[38;5;124m[name=\u001b[39m\u001b[38;5;124m\"\u001b[39m\u001b[38;5;132;01m{\u001b[39;00mvalue\u001b[38;5;132;01m}\u001b[39;00m\u001b[38;5;124m\"\u001b[39m\u001b[38;5;124m]\u001b[39m\u001b[38;5;124m'\u001b[39m\n\u001b[0;32m--> 741\u001b[0m \u001b[38;5;28;01mreturn\u001b[39;00m \u001b[38;5;28mself\u001b[39m\u001b[38;5;241m.\u001b[39mexecute(Command\u001b[38;5;241m.\u001b[39mFIND_ELEMENT, {\u001b[38;5;124m\"\u001b[39m\u001b[38;5;124musing\u001b[39m\u001b[38;5;124m\"\u001b[39m: by, \u001b[38;5;124m\"\u001b[39m\u001b[38;5;124mvalue\u001b[39m\u001b[38;5;124m\"\u001b[39m: value})[\u001b[38;5;124m\"\u001b[39m\u001b[38;5;124mvalue\u001b[39m\u001b[38;5;124m\"\u001b[39m]\n",
      "File \u001b[0;32m~/anaconda3/lib/python3.11/site-packages/selenium/webdriver/remote/webdriver.py:347\u001b[0m, in \u001b[0;36mWebDriver.execute\u001b[0;34m(self, driver_command, params)\u001b[0m\n\u001b[1;32m    345\u001b[0m response \u001b[38;5;241m=\u001b[39m \u001b[38;5;28mself\u001b[39m\u001b[38;5;241m.\u001b[39mcommand_executor\u001b[38;5;241m.\u001b[39mexecute(driver_command, params)\n\u001b[1;32m    346\u001b[0m \u001b[38;5;28;01mif\u001b[39;00m response:\n\u001b[0;32m--> 347\u001b[0m     \u001b[38;5;28mself\u001b[39m\u001b[38;5;241m.\u001b[39merror_handler\u001b[38;5;241m.\u001b[39mcheck_response(response)\n\u001b[1;32m    348\u001b[0m     response[\u001b[38;5;124m\"\u001b[39m\u001b[38;5;124mvalue\u001b[39m\u001b[38;5;124m\"\u001b[39m] \u001b[38;5;241m=\u001b[39m \u001b[38;5;28mself\u001b[39m\u001b[38;5;241m.\u001b[39m_unwrap_value(response\u001b[38;5;241m.\u001b[39mget(\u001b[38;5;124m\"\u001b[39m\u001b[38;5;124mvalue\u001b[39m\u001b[38;5;124m\"\u001b[39m, \u001b[38;5;28;01mNone\u001b[39;00m))\n\u001b[1;32m    349\u001b[0m     \u001b[38;5;28;01mreturn\u001b[39;00m response\n",
      "File \u001b[0;32m~/anaconda3/lib/python3.11/site-packages/selenium/webdriver/remote/errorhandler.py:229\u001b[0m, in \u001b[0;36mErrorHandler.check_response\u001b[0;34m(self, response)\u001b[0m\n\u001b[1;32m    227\u001b[0m         alert_text \u001b[38;5;241m=\u001b[39m value[\u001b[38;5;124m\"\u001b[39m\u001b[38;5;124malert\u001b[39m\u001b[38;5;124m\"\u001b[39m]\u001b[38;5;241m.\u001b[39mget(\u001b[38;5;124m\"\u001b[39m\u001b[38;5;124mtext\u001b[39m\u001b[38;5;124m\"\u001b[39m)\n\u001b[1;32m    228\u001b[0m     \u001b[38;5;28;01mraise\u001b[39;00m exception_class(message, screen, stacktrace, alert_text)  \u001b[38;5;66;03m# type: ignore[call-arg]  # mypy is not smart enough here\u001b[39;00m\n\u001b[0;32m--> 229\u001b[0m \u001b[38;5;28;01mraise\u001b[39;00m exception_class(message, screen, stacktrace)\n",
      "\u001b[0;31mNoSuchElementException\u001b[0m: Message: no such element: Unable to locate element: {\"method\":\"css selector\",\"selector\":\"mat-select-6\"}\n  (Session info: chrome=131.0.6778.205); For documentation on this error, please visit: https://www.selenium.dev/documentation/webdriver/troubleshooting/errors#no-such-element-exception\nStacktrace:\n0   chromedriver                        0x0000000102d63184 cxxbridge1$str$ptr + 3626716\n1   chromedriver                        0x0000000102d5b9d4 cxxbridge1$str$ptr + 3596076\n2   chromedriver                        0x00000001027c8968 cxxbridge1$string$len + 89228\n3   chromedriver                        0x000000010280cd50 cxxbridge1$string$len + 368756\n4   chromedriver                        0x00000001028465b4 cxxbridge1$string$len + 604376\n5   chromedriver                        0x0000000102801568 cxxbridge1$string$len + 321676\n6   chromedriver                        0x00000001028021b8 cxxbridge1$string$len + 324828\n7   chromedriver                        0x0000000102d2e9ac cxxbridge1$str$ptr + 3411716\n8   chromedriver                        0x0000000102d31ccc cxxbridge1$str$ptr + 3424804\n9   chromedriver                        0x0000000102d1586c cxxbridge1$str$ptr + 3308996\n10  chromedriver                        0x0000000102d3258c cxxbridge1$str$ptr + 3427044\n11  chromedriver                        0x0000000102d0709c cxxbridge1$str$ptr + 3249652\n12  chromedriver                        0x0000000102d4c4b8 cxxbridge1$str$ptr + 3533328\n13  chromedriver                        0x0000000102d4c634 cxxbridge1$str$ptr + 3533708\n14  chromedriver                        0x0000000102d5b648 cxxbridge1$str$ptr + 3595168\n15  libsystem_pthread.dylib             0x000000018f4982e4 _pthread_start + 136\n16  libsystem_pthread.dylib             0x000000018f4930fc thread_start + 8\n"
     ]
    }
   ],
   "source": [
    "driver.find_element(By.CSS_SELECTOR, 'mat-select-6')"
   ]
  },
  {
   "cell_type": "code",
   "execution_count": 118,
   "id": "f26bc2f0-43d5-4a94-8ff5-1006f788282e",
   "metadata": {
    "tags": []
   },
   "outputs": [
    {
     "name": "stdout",
     "output_type": "stream",
     "text": [
      "Items per page:\n",
      "10\n",
      "1 – 10 of 22588\n"
     ]
    }
   ],
   "source": [
    "for i in pageEle:\n",
    "    print (i.text)"
   ]
  },
  {
   "cell_type": "code",
   "execution_count": 122,
   "id": "36eb2736-f0c0-46ad-898c-7b339603bc3c",
   "metadata": {
    "tags": []
   },
   "outputs": [
    {
     "ename": "InvalidArgumentException",
     "evalue": "Message: invalid argument: invalid locator\n  (Session info: chrome=131.0.6778.205)\nStacktrace:\n0   chromedriver                        0x0000000100c23184 cxxbridge1$str$ptr + 3626716\n1   chromedriver                        0x0000000100c1b9d4 cxxbridge1$str$ptr + 3596076\n2   chromedriver                        0x0000000100688968 cxxbridge1$string$len + 89228\n3   chromedriver                        0x00000001006cc76c cxxbridge1$string$len + 367248\n4   chromedriver                        0x00000001006c2ec8 cxxbridge1$string$len + 328172\n5   chromedriver                        0x00000001007065b4 cxxbridge1$string$len + 604376\n6   chromedriver                        0x00000001006c1568 cxxbridge1$string$len + 321676\n7   chromedriver                        0x00000001006c21b8 cxxbridge1$string$len + 324828\n8   chromedriver                        0x0000000100bee9ac cxxbridge1$str$ptr + 3411716\n9   chromedriver                        0x0000000100bf1ccc cxxbridge1$str$ptr + 3424804\n10  chromedriver                        0x0000000100bd586c cxxbridge1$str$ptr + 3308996\n11  chromedriver                        0x0000000100bf258c cxxbridge1$str$ptr + 3427044\n12  chromedriver                        0x0000000100bc709c cxxbridge1$str$ptr + 3249652\n13  chromedriver                        0x0000000100c0c4b8 cxxbridge1$str$ptr + 3533328\n14  chromedriver                        0x0000000100c0c634 cxxbridge1$str$ptr + 3533708\n15  chromedriver                        0x0000000100c1b648 cxxbridge1$str$ptr + 3595168\n16  libsystem_pthread.dylib             0x000000018f4982e4 _pthread_start + 136\n17  libsystem_pthread.dylib             0x000000018f4930fc thread_start + 8\n",
     "output_type": "error",
     "traceback": [
      "\u001b[0;31m---------------------------------------------------------------------------\u001b[0m",
      "\u001b[0;31mInvalidArgumentException\u001b[0m                  Traceback (most recent call last)",
      "Cell \u001b[0;32mIn[122], line 2\u001b[0m\n\u001b[1;32m      1\u001b[0m \u001b[38;5;28;01mfor\u001b[39;00m i \u001b[38;5;129;01min\u001b[39;00m pageEle:\n\u001b[0;32m----> 2\u001b[0m     items \u001b[38;5;241m=\u001b[39m i\u001b[38;5;241m.\u001b[39mfind_element(\u001b[38;5;124m'\u001b[39m\u001b[38;5;124m.//div/div\u001b[39m\u001b[38;5;124m'\u001b[39m)\n\u001b[1;32m      3\u001b[0m     \u001b[38;5;28mprint\u001b[39m(items\u001b[38;5;241m.\u001b[39mtext)\n",
      "File \u001b[0;32m~/anaconda3/lib/python3.11/site-packages/selenium/webdriver/remote/webelement.py:417\u001b[0m, in \u001b[0;36mWebElement.find_element\u001b[0;34m(self, by, value)\u001b[0m\n\u001b[1;32m    414\u001b[0m     by \u001b[38;5;241m=\u001b[39m By\u001b[38;5;241m.\u001b[39mCSS_SELECTOR\n\u001b[1;32m    415\u001b[0m     value \u001b[38;5;241m=\u001b[39m \u001b[38;5;124mf\u001b[39m\u001b[38;5;124m'\u001b[39m\u001b[38;5;124m[name=\u001b[39m\u001b[38;5;124m\"\u001b[39m\u001b[38;5;132;01m{\u001b[39;00mvalue\u001b[38;5;132;01m}\u001b[39;00m\u001b[38;5;124m\"\u001b[39m\u001b[38;5;124m]\u001b[39m\u001b[38;5;124m'\u001b[39m\n\u001b[0;32m--> 417\u001b[0m \u001b[38;5;28;01mreturn\u001b[39;00m \u001b[38;5;28mself\u001b[39m\u001b[38;5;241m.\u001b[39m_execute(Command\u001b[38;5;241m.\u001b[39mFIND_CHILD_ELEMENT, {\u001b[38;5;124m\"\u001b[39m\u001b[38;5;124musing\u001b[39m\u001b[38;5;124m\"\u001b[39m: by, \u001b[38;5;124m\"\u001b[39m\u001b[38;5;124mvalue\u001b[39m\u001b[38;5;124m\"\u001b[39m: value})[\u001b[38;5;124m\"\u001b[39m\u001b[38;5;124mvalue\u001b[39m\u001b[38;5;124m\"\u001b[39m]\n",
      "File \u001b[0;32m~/anaconda3/lib/python3.11/site-packages/selenium/webdriver/remote/webelement.py:395\u001b[0m, in \u001b[0;36mWebElement._execute\u001b[0;34m(self, command, params)\u001b[0m\n\u001b[1;32m    393\u001b[0m     params \u001b[38;5;241m=\u001b[39m {}\n\u001b[1;32m    394\u001b[0m params[\u001b[38;5;124m\"\u001b[39m\u001b[38;5;124mid\u001b[39m\u001b[38;5;124m\"\u001b[39m] \u001b[38;5;241m=\u001b[39m \u001b[38;5;28mself\u001b[39m\u001b[38;5;241m.\u001b[39m_id\n\u001b[0;32m--> 395\u001b[0m \u001b[38;5;28;01mreturn\u001b[39;00m \u001b[38;5;28mself\u001b[39m\u001b[38;5;241m.\u001b[39m_parent\u001b[38;5;241m.\u001b[39mexecute(command, params)\n",
      "File \u001b[0;32m~/anaconda3/lib/python3.11/site-packages/selenium/webdriver/remote/webdriver.py:347\u001b[0m, in \u001b[0;36mWebDriver.execute\u001b[0;34m(self, driver_command, params)\u001b[0m\n\u001b[1;32m    345\u001b[0m response \u001b[38;5;241m=\u001b[39m \u001b[38;5;28mself\u001b[39m\u001b[38;5;241m.\u001b[39mcommand_executor\u001b[38;5;241m.\u001b[39mexecute(driver_command, params)\n\u001b[1;32m    346\u001b[0m \u001b[38;5;28;01mif\u001b[39;00m response:\n\u001b[0;32m--> 347\u001b[0m     \u001b[38;5;28mself\u001b[39m\u001b[38;5;241m.\u001b[39merror_handler\u001b[38;5;241m.\u001b[39mcheck_response(response)\n\u001b[1;32m    348\u001b[0m     response[\u001b[38;5;124m\"\u001b[39m\u001b[38;5;124mvalue\u001b[39m\u001b[38;5;124m\"\u001b[39m] \u001b[38;5;241m=\u001b[39m \u001b[38;5;28mself\u001b[39m\u001b[38;5;241m.\u001b[39m_unwrap_value(response\u001b[38;5;241m.\u001b[39mget(\u001b[38;5;124m\"\u001b[39m\u001b[38;5;124mvalue\u001b[39m\u001b[38;5;124m\"\u001b[39m, \u001b[38;5;28;01mNone\u001b[39;00m))\n\u001b[1;32m    349\u001b[0m     \u001b[38;5;28;01mreturn\u001b[39;00m response\n",
      "File \u001b[0;32m~/anaconda3/lib/python3.11/site-packages/selenium/webdriver/remote/errorhandler.py:229\u001b[0m, in \u001b[0;36mErrorHandler.check_response\u001b[0;34m(self, response)\u001b[0m\n\u001b[1;32m    227\u001b[0m         alert_text \u001b[38;5;241m=\u001b[39m value[\u001b[38;5;124m\"\u001b[39m\u001b[38;5;124malert\u001b[39m\u001b[38;5;124m\"\u001b[39m]\u001b[38;5;241m.\u001b[39mget(\u001b[38;5;124m\"\u001b[39m\u001b[38;5;124mtext\u001b[39m\u001b[38;5;124m\"\u001b[39m)\n\u001b[1;32m    228\u001b[0m     \u001b[38;5;28;01mraise\u001b[39;00m exception_class(message, screen, stacktrace, alert_text)  \u001b[38;5;66;03m# type: ignore[call-arg]  # mypy is not smart enough here\u001b[39;00m\n\u001b[0;32m--> 229\u001b[0m \u001b[38;5;28;01mraise\u001b[39;00m exception_class(message, screen, stacktrace)\n",
      "\u001b[0;31mInvalidArgumentException\u001b[0m: Message: invalid argument: invalid locator\n  (Session info: chrome=131.0.6778.205)\nStacktrace:\n0   chromedriver                        0x0000000100c23184 cxxbridge1$str$ptr + 3626716\n1   chromedriver                        0x0000000100c1b9d4 cxxbridge1$str$ptr + 3596076\n2   chromedriver                        0x0000000100688968 cxxbridge1$string$len + 89228\n3   chromedriver                        0x00000001006cc76c cxxbridge1$string$len + 367248\n4   chromedriver                        0x00000001006c2ec8 cxxbridge1$string$len + 328172\n5   chromedriver                        0x00000001007065b4 cxxbridge1$string$len + 604376\n6   chromedriver                        0x00000001006c1568 cxxbridge1$string$len + 321676\n7   chromedriver                        0x00000001006c21b8 cxxbridge1$string$len + 324828\n8   chromedriver                        0x0000000100bee9ac cxxbridge1$str$ptr + 3411716\n9   chromedriver                        0x0000000100bf1ccc cxxbridge1$str$ptr + 3424804\n10  chromedriver                        0x0000000100bd586c cxxbridge1$str$ptr + 3308996\n11  chromedriver                        0x0000000100bf258c cxxbridge1$str$ptr + 3427044\n12  chromedriver                        0x0000000100bc709c cxxbridge1$str$ptr + 3249652\n13  chromedriver                        0x0000000100c0c4b8 cxxbridge1$str$ptr + 3533328\n14  chromedriver                        0x0000000100c0c634 cxxbridge1$str$ptr + 3533708\n15  chromedriver                        0x0000000100c1b648 cxxbridge1$str$ptr + 3595168\n16  libsystem_pthread.dylib             0x000000018f4982e4 _pthread_start + 136\n17  libsystem_pthread.dylib             0x000000018f4930fc thread_start + 8\n"
     ]
    }
   ],
   "source": [
    "for i in pageEle:\n",
    "    items = i.find_element('.//div/div')\n",
    "    print(items.text)"
   ]
  },
  {
   "cell_type": "code",
   "execution_count": null,
   "id": "e3916cac-25ed-468d-bb38-e77b58de37d1",
   "metadata": {},
   "outputs": [],
   "source": []
  }
 ],
 "metadata": {
  "kernelspec": {
   "display_name": "Python 3 (ipykernel)",
   "language": "python",
   "name": "python3"
  },
  "language_info": {
   "codemirror_mode": {
    "name": "ipython",
    "version": 3
   },
   "file_extension": ".py",
   "mimetype": "text/x-python",
   "name": "python",
   "nbconvert_exporter": "python",
   "pygments_lexer": "ipython3",
   "version": "3.11.5"
  }
 },
 "nbformat": 4,
 "nbformat_minor": 5
}
