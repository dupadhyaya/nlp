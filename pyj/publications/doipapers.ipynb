{
 "cells": [
  {
   "cell_type": "code",
   "execution_count": null,
   "id": "de260cec-e276-4989-9504-14426664c193",
   "metadata": {},
   "outputs": [],
   "source": []
  },
  {
   "cell_type": "markdown",
   "id": "0ebac506-e1cf-4e8a-ba9e-634d208bee98",
   "metadata": {},
   "source": [
    "## To achieve this in Python, you can use the following approach:\n",
    "- Check if the paper exists: Use the crossrefapi or requests library to query the CrossRef API.\n",
    "- Retrieve journal impact factor: Use the Web of Science, Scopus, or Journal Citation Reports (JCR) databases, but they require institutional access or an API key.\n",
    "- Alternative sources: If you do not have API access to Web of Science or Scopus, you can scrape impact factors from sources like Scimago Journal Rank (SJR).\n",
    "\n",
    "##Steps:\n",
    "- Query CrossRef API to check if DOI exists.\n",
    "- If DOI is valid, extract journal name and publication year.\n",
    "- Query Scimago or Web of Science (if access is available) for impact factor.\n",
    "\n",
    "- https://api.crossref.org/works/10.1007/s00339-021-04577-8"
   ]
  },
  {
   "cell_type": "code",
   "execution_count": 1,
   "id": "065eb7b4-d477-45b1-87c3-bb1ef207dc9a",
   "metadata": {
    "tags": []
   },
   "outputs": [],
   "source": [
    "import requests\n",
    "from bs4 import BeautifulSoup"
   ]
  },
  {
   "cell_type": "code",
   "execution_count": 2,
   "id": "51fb5449-de34-4226-ab4a-ba95f5c378e2",
   "metadata": {
    "tags": []
   },
   "outputs": [],
   "source": [
    "def check_doi_existence(doi):\n",
    "    \"\"\"Check if the DOI exists using the CrossRef API.\"\"\"\n",
    "    crossref_url = f\"https://api.crossref.org/works/{doi}\"\n",
    "    response = requests.get(crossref_url)\n",
    "    \n",
    "    if response.status_code == 200:\n",
    "        data = response.json()\n",
    "        journal = data['message'].get('container-title', ['Unknown Journal'])[0]\n",
    "        year = data['message'].get('published-print', {}).get('date-parts', [[None]])[0][0]\n",
    "        return True, journal, year\n",
    "    else:\n",
    "        return False, None, None"
   ]
  },
  {
   "cell_type": "code",
   "execution_count": 3,
   "id": "b636c4bc-329c-4a9e-a3ec-2e6c60a4ce28",
   "metadata": {
    "tags": []
   },
   "outputs": [],
   "source": [
    "def get_impact_factor(journal_name):\n",
    "    \"\"\"Fetch impact factor from Scimago Journal Rank (SJR) (alternative to Web of Science).\"\"\"\n",
    "    search_url = f\"https://www.scimagojr.com/journalsearch.php?q={journal_name.replace(' ', '+')}&tip=sid\"\n",
    "    response = requests.get(search_url)\n",
    "    \n",
    "    if response.status_code == 200:\n",
    "        soup = BeautifulSoup(response.text, 'html.parser')\n",
    "        impact_factor_section = soup.find(\"td\", class_=\"metric\")\n",
    "        if impact_factor_section:\n",
    "            return impact_factor_section.text.strip()\n",
    "    \n",
    "    return \"Impact Factor Not Found\"\n"
   ]
  },
  {
   "cell_type": "code",
   "execution_count": 8,
   "id": "4004630d-8bb2-42c1-ac76-ccea97a38bd7",
   "metadata": {
    "tags": []
   },
   "outputs": [
    {
     "data": {
      "text/plain": [
       "['10.1038/s41586-020-2649-2',\n",
       " '10.1007/s00382-021-05718-9',\n",
       " '10.1007/s00339-021-04577-8',\n",
       " '10.1007/s00339-021-04801-5',\n",
       " '10.1007/s12010-022-03950-4',\n",
       " '10.1007/s11356-021-16846-3',\n",
       " '10.1007/s41742-022-00418-5',\n",
       " '10.1007/s00284-022-02854-0']"
      ]
     },
     "execution_count": 8,
     "metadata": {},
     "output_type": "execute_result"
    }
   ],
   "source": [
    "# Example DOIs\n",
    "doi_list = [\n",
    "    \"10.1038/s41586-020-2649-2\",  # Example DOI\n",
    "    \"10.1007/s00382-021-05718-9\",\n",
    "    \"10.1007/s00339-021-04577-8\", #start from here\n",
    "    \"10.1007/s00339-021-04801-5\",\n",
    "    \"10.1007/s12010-022-03950-4\",\n",
    "    \"10.1007/s11356-021-16846-3\",\n",
    "    \"10.1007/s41742-022-00418-5\",\n",
    "    \"10.1007/s00284-022-02854-0\"\n",
    "]\n",
    "doi_list"
   ]
  },
  {
   "cell_type": "code",
   "execution_count": 7,
   "id": "92c55518-0df2-4ca3-a676-393c1f257803",
   "metadata": {
    "tags": []
   },
   "outputs": [
    {
     "name": "stdout",
     "output_type": "stream",
     "text": [
      "DOI: 10.1038/s41586-020-2649-2 | Journal: Nature | Year: 2020\n",
      "Impact Factor: Impact Factor Not Found\n",
      "DOI: 10.1007/s00382-021-05718-9 does not exist.\n",
      "DOI: 10.1007/s00339-021-04577-8 | Journal: Applied Physics A | Year: 2021\n",
      "Impact Factor: Impact Factor Not Found\n",
      "DOI: 10.1007/s00339-021-04801-5 | Journal: Applied Physics A | Year: 2021\n",
      "Impact Factor: Impact Factor Not Found\n",
      "DOI: 10.1007/s12010-022-03950-4 | Journal: Applied Biochemistry and Biotechnology | Year: 2023\n",
      "Impact Factor: Impact Factor Not Found\n",
      "DOI: 10.1007/s11356-021-16846-3 | Journal: Environmental Science and Pollution Research | Year: 2022\n",
      "Impact Factor: Impact Factor Not Found\n",
      "DOI: 10.1007/s41742-022-00418-5 | Journal: International Journal of Environmental Research | Year: 2022\n",
      "Impact Factor: Impact Factor Not Found\n",
      "DOI: 10.1007/s00284-022-02854-0 | Journal: Current Microbiology | Year: 2022\n",
      "Impact Factor: Impact Factor Not Found\n"
     ]
    }
   ],
   "source": [
    "for doi in doi_list:\n",
    "    exists, journal, year = check_doi_existence(doi)\n",
    "    if exists:\n",
    "        print(f\"DOI: {doi} | Journal: {journal} | Year: {year}\")\n",
    "        impact_factor = get_impact_factor(journal)\n",
    "        print(f\"Impact Factor: {impact_factor}\")\n",
    "    else:\n",
    "        print(f\"DOI: {doi} does not exist.\")"
   ]
  },
  {
   "cell_type": "code",
   "execution_count": null,
   "id": "40149f5e-7c4c-4dc2-8094-074d47af976e",
   "metadata": {},
   "outputs": [],
   "source": []
  },
  {
   "cell_type": "markdown",
   "id": "f5bedc34-13bf-45bc-bc20-337c2fcd42f5",
   "metadata": {},
   "source": [
    "## Scopus/ WoS\n",
    "-  Web of Science API (Clarivate) : Steps\n",
    "    - Get API Access: Request an API key from Clarivate.\n",
    "    - Use the Web of Science Journal API to retrieve impact factors.\n"
   ]
  },
  {
   "cell_type": "code",
   "execution_count": 6,
   "id": "ba22f733-f34e-4811-a857-e008637442e9",
   "metadata": {
    "tags": []
   },
   "outputs": [
    {
     "name": "stdout",
     "output_type": "stream",
     "text": [
      "Journal: Nature | WoS Impact Factor: Error: Unable to fetch impact factor\n"
     ]
    }
   ],
   "source": [
    "import requests\n",
    "\n",
    "# Replace with your Web of Science API key\n",
    "WOS_API_KEY = \"your_api_key_here\"\n",
    "\n",
    "def get_wos_impact_factor(journal_name):\n",
    "    \"\"\"Fetch Journal Impact Factor from Web of Science (JCR).\"\"\"\n",
    "    base_url = \"https://api.clarivate.com/apis/wos-journals/v1\"\n",
    "    headers = {\"X-ApiKey\": WOS_API_KEY}\n",
    "\n",
    "    response = requests.get(f\"{base_url}?journal={journal_name}\", headers=headers)\n",
    "\n",
    "    if response.status_code == 200:\n",
    "        data = response.json()\n",
    "        impact_factor = data.get(\"impactFactor\", \"Not Found\")\n",
    "        return impact_factor\n",
    "    else:\n",
    "        return \"Error: Unable to fetch impact factor\"\n",
    "\n",
    "# Example usage\n",
    "journal = \"Nature\"\n",
    "impact_factor = get_wos_impact_factor(journal)\n",
    "print(f\"Journal: {journal} | WoS Impact Factor: {impact_factor}\")"
   ]
  },
  {
   "cell_type": "markdown",
   "id": "524f03a5-6ed7-48d0-8589-6e9e17178777",
   "metadata": {},
   "source": [
    "## Option 2: Scopus API (Elsevier)\n",
    "- Steps\n",
    "    - Get API Key: Sign up on Elsevier Developer Portal.\n",
    "    - Use the Scopus API to fetch journal metrics.\n",
    "\n",
    "Python Code for Scopus API"
   ]
  },
  {
   "cell_type": "code",
   "execution_count": null,
   "id": "ac619290-0975-441f-8741-0f79f75de7ee",
   "metadata": {},
   "outputs": [],
   "source": [
    "import requests\n",
    "\n",
    "# Replace with your Scopus API key\n",
    "SCOPUS_API_KEY = \"your_api_key_here\"\n",
    "\n",
    "def get_scopus_impact_factor(journal_name):\n",
    "    \"\"\"Fetch Journal Metrics from Scopus API.\"\"\"\n",
    "    base_url = \"https://api.elsevier.com/content/serial/title\"\n",
    "    params = {\n",
    "        \"title\": journal_name,\n",
    "        \"apiKey\": SCOPUS_API_KEY\n",
    "    }\n",
    "    response = requests.get(base_url, params=params)\n",
    "\n",
    "    if response.status_code == 200:\n",
    "        data = response.json()\n",
    "        impact_factor = data.get(\"serial-metadata-response\", {}).get(\"entry\", [{}])[0].get(\"SJR\", \"Not Found\")\n",
    "        return impact_factor\n",
    "    else:\n",
    "        return \"Error: Unable to fetch impact factor\"\n",
    "\n",
    "# Example usage\n",
    "journal = \"Nature\"\n",
    "impact_factor = get_scopus_impact_factor(journal)\n",
    "print(f\"Journal: {journal} | Scopus SJR Impact Factor: {impact_factor}\")"
   ]
  },
  {
   "attachments": {
    "ca35be47-7b9a-4732-8514-fcd313ce3f06.png": {
     "image/png": "[encoded data removed]"
    }
   },
   "cell_type": "markdown",
   "id": "8d8484d5-d8a3-42b0-bb10-d1830eeb8423",
   "metadata": {},
   "source": [
    "![image.png](attachment:ca35be47-7b9a-4732-8514-fcd313ce3f06.png)"
   ]
  },
  {
   "cell_type": "markdown",
   "id": "d2c35dc5-fc49-48f4-aa6b-21d17b7fc727",
   "metadata": {},
   "source": [
    "## Hbaerno\n",
    "- To extract metadata (title, journal, date of publishing, authors) from a list of DOIs in Python, you can use the habanero library, which interfaces with the CrossRef API. Here’s how you can do it:"
   ]
  },
  {
   "cell_type": "code",
   "execution_count": 13,
   "id": "0ef34c86-2bee-4670-95d1-0954f2f3f7ed",
   "metadata": {
    "tags": []
   },
   "outputs": [],
   "source": [
    "#pip install habanero\n",
    "from habanero import cn\n",
    "import pandas as pd"
   ]
  },
  {
   "cell_type": "code",
   "execution_count": 18,
   "id": "31c70926-3e86-43f5-9203-314fb3674361",
   "metadata": {
    "tags": []
   },
   "outputs": [
    {
     "data": {
      "text/plain": [
       "['10.1007/s00339-021-04577-8',\n",
       " '10.1007/s00339-021-04801-5',\n",
       " '10.1007/s12010-022-03950-4',\n",
       " '10.1007/s11356-021-16846-3',\n",
       " '10.1007/s41742-022-00418-5',\n",
       " '10.1007/s00284-022-02854-0']"
      ]
     },
     "execution_count": 18,
     "metadata": {},
     "output_type": "execute_result"
    }
   ],
   "source": [
    "dois = [\n",
    "    \"10.1007/s00339-021-04577-8\", #start from here\n",
    "    \"10.1007/s00339-021-04801-5\",\n",
    "    \"10.1007/s12010-022-03950-4\",\n",
    "    \"10.1007/s11356-021-16846-3\",\n",
    "    \"10.1007/s41742-022-00418-5\",\n",
    "    \"10.1007/s00284-022-02854-0\"\n",
    "]\n",
    "dois"
   ]
  },
  {
   "cell_type": "code",
   "execution_count": 14,
   "id": "2dacbe4e-8098-45a0-b3d1-4577aa417cb2",
   "metadata": {
    "tags": []
   },
   "outputs": [],
   "source": [
    "# Function to fetch metadata\n",
    "def get_metadata(doi):\n",
    "    try:\n",
    "        metadata = cn.content_negotiation(ids=doi, format=\"citeproc-json\")\n",
    "        return {\n",
    "            \"DOI\": doi,\n",
    "            \"Title\": metadata.get(\"title\", \"N/A\"),\n",
    "            \"Journal\": metadata.get(\"container-title\", \"N/A\"),\n",
    "            \"Date\": metadata.get(\"issued\", {}).get(\"date-parts\", [[None]])[0][0],\n",
    "            \"Authors\": \", \".join([author[\"given\"] + \" \" + author[\"family\"] for author in metadata.get(\"author\", [])]) if \"author\" in metadata else \"N/A\"\n",
    "        }\n",
    "    except Exception as e:\n",
    "        return {\"DOI\": doi, \"Title\": \"Error\", \"Journal\": \"Error\", \"Date\": \"Error\", \"Authors\": \"Error\"}\n",
    "\n",
    "# Fetch metadata for all DOIs\n",
    "metadata_list = [get_metadata(doi) for doi in dois]\n",
    "\n",
    "# Convert to DataFrame\n",
    "df = pd.DataFrame(metadata_list)"
   ]
  },
  {
   "cell_type": "code",
   "execution_count": 15,
   "id": "e74f343c-aed2-49d4-81f7-328ee642c5bd",
   "metadata": {
    "tags": []
   },
   "outputs": [
    {
     "data": {
      "text/html": [
       "<div>\n",
       "<style scoped>\n",
       "    .dataframe tbody tr th:only-of-type {\n",
       "        vertical-align: middle;\n",
       "    }\n",
       "\n",
       "    .dataframe tbody tr th {\n",
       "        vertical-align: top;\n",
       "    }\n",
       "\n",
       "    .dataframe thead th {\n",
       "        text-align: right;\n",
       "    }\n",
       "</style>\n",
       "<table border=\"1\" class=\"dataframe\">\n",
       "  <thead>\n",
       "    <tr style=\"text-align: right;\">\n",
       "      <th></th>\n",
       "      <th>DOI</th>\n",
       "      <th>Title</th>\n",
       "      <th>Journal</th>\n",
       "      <th>Date</th>\n",
       "      <th>Authors</th>\n",
       "    </tr>\n",
       "  </thead>\n",
       "  <tbody>\n",
       "    <tr>\n",
       "      <th>0</th>\n",
       "      <td>10.1038/s41586-020-2649-2</td>\n",
       "      <td>Error</td>\n",
       "      <td>Error</td>\n",
       "      <td>Error</td>\n",
       "      <td>Error</td>\n",
       "    </tr>\n",
       "    <tr>\n",
       "      <th>1</th>\n",
       "      <td>10.1126/science.abb3673</td>\n",
       "      <td>Error</td>\n",
       "      <td>Error</td>\n",
       "      <td>Error</td>\n",
       "      <td>Error</td>\n",
       "    </tr>\n",
       "    <tr>\n",
       "      <th>2</th>\n",
       "      <td>10.1007/s00339-021-04577-8</td>\n",
       "      <td>Error</td>\n",
       "      <td>Error</td>\n",
       "      <td>Error</td>\n",
       "      <td>Error</td>\n",
       "    </tr>\n",
       "    <tr>\n",
       "      <th>3</th>\n",
       "      <td>10.1007/s00339-021-04801-5</td>\n",
       "      <td>Error</td>\n",
       "      <td>Error</td>\n",
       "      <td>Error</td>\n",
       "      <td>Error</td>\n",
       "    </tr>\n",
       "    <tr>\n",
       "      <th>4</th>\n",
       "      <td>10.1007/s12010-022-03950-4</td>\n",
       "      <td>Error</td>\n",
       "      <td>Error</td>\n",
       "      <td>Error</td>\n",
       "      <td>Error</td>\n",
       "    </tr>\n",
       "    <tr>\n",
       "      <th>5</th>\n",
       "      <td>10.1007/s11356-021-16846-3</td>\n",
       "      <td>Error</td>\n",
       "      <td>Error</td>\n",
       "      <td>Error</td>\n",
       "      <td>Error</td>\n",
       "    </tr>\n",
       "    <tr>\n",
       "      <th>6</th>\n",
       "      <td>10.1007/s41742-022-00418-5</td>\n",
       "      <td>Error</td>\n",
       "      <td>Error</td>\n",
       "      <td>Error</td>\n",
       "      <td>Error</td>\n",
       "    </tr>\n",
       "    <tr>\n",
       "      <th>7</th>\n",
       "      <td>10.1007/s00284-022-02854-0</td>\n",
       "      <td>Error</td>\n",
       "      <td>Error</td>\n",
       "      <td>Error</td>\n",
       "      <td>Error</td>\n",
       "    </tr>\n",
       "  </tbody>\n",
       "</table>\n",
       "</div>"
      ],
      "text/plain": [
       "                          DOI  Title Journal   Date Authors\n",
       "0   10.1038/s41586-020-2649-2  Error   Error  Error   Error\n",
       "1     10.1126/science.abb3673  Error   Error  Error   Error\n",
       "2  10.1007/s00339-021-04577-8  Error   Error  Error   Error\n",
       "3  10.1007/s00339-021-04801-5  Error   Error  Error   Error\n",
       "4  10.1007/s12010-022-03950-4  Error   Error  Error   Error\n",
       "5  10.1007/s11356-021-16846-3  Error   Error  Error   Error\n",
       "6  10.1007/s41742-022-00418-5  Error   Error  Error   Error\n",
       "7  10.1007/s00284-022-02854-0  Error   Error  Error   Error"
      ]
     },
     "execution_count": 15,
     "metadata": {},
     "output_type": "execute_result"
    }
   ],
   "source": [
    "df"
   ]
  },
  {
   "cell_type": "code",
   "execution_count": 24,
   "id": "db128284-4fea-41cb-a56f-e037cdbac11c",
   "metadata": {
    "tags": []
   },
   "outputs": [
    {
     "data": {
      "text/plain": [
       "(6, 5)"
      ]
     },
     "execution_count": 24,
     "metadata": {},
     "output_type": "execute_result"
    }
   ],
   "source": [
    "# Function to fetch metadata from CrossRef\n",
    "def get_metadata(doi):\n",
    "    url = f\"https://api.crossref.org/works/{doi}\"\n",
    "    headers = {\"User-Agent\": \"doi-metadata-fetcher/1.0 (mailto:your-email@example.com)\"}\n",
    "    \n",
    "    try:\n",
    "        response = requests.get(url, headers=headers)\n",
    "        response.raise_for_status()\n",
    "        data = response.json()\n",
    "        \n",
    "        item = data.get(\"message\", {})\n",
    "\n",
    "        # Extracting publication date (Year, Month, Day if available)\n",
    "        date_parts = item.get(\"published-print\", item.get(\"published-online\", {})).get(\"date-parts\", [[None]])\n",
    "        publication_date = \"-\".join(map(str, date_parts[0])) if date_parts[0][0] else \"N/A\"\n",
    "\n",
    "        return {\n",
    "            \"DOI\": doi,\n",
    "            \"Title\": item.get(\"title\", [\"N/A\"])[0],\n",
    "            \"Journal\": item.get(\"container-title\", [\"N/A\"])[0],\n",
    "            \"Publication Date\": publication_date,\n",
    "            \"Authors\": \", \".join([f\"{a['given']} {a['family']}\" for a in item.get(\"author\", [])]) if \"author\" in item else \"N/A\"\n",
    "        }\n",
    "    except requests.exceptions.RequestException as e:\n",
    "        return {\"DOI\": doi, \"Title\": \"Error\", \"Journal\": \"Error\", \"Publication Date\": \"Error\", \"Authors\": \"Error\"}\n",
    "\n",
    "# Fetch metadata for all DOIs\n",
    "metadata_list = [get_metadata(doi) for doi in dois]\n",
    "\n",
    "# Convert to DataFrame\n",
    "df = pd.DataFrame(metadata_list)\n",
    "df.shape"
   ]
  },
  {
   "cell_type": "code",
   "execution_count": 25,
   "id": "920d270a-6897-4fb3-9c93-73bfa11a610c",
   "metadata": {
    "tags": []
   },
   "outputs": [],
   "source": [
    "df.to_clipboard()"
   ]
  },
  {
   "cell_type": "code",
   "execution_count": 21,
   "id": "a3ec9a25-5e0c-44c3-9461-b3a146a330b8",
   "metadata": {
    "tags": []
   },
   "outputs": [],
   "source": [
    "def get_metadata(doi):\n",
    "    url = f\"https://api.crossref.org/works/{doi}\"\n",
    "    headers = {\"User-Agent\": \"doi-metadata-fetcher/1.0 (mailto:your-email@example.com)\"}\n",
    "    \n",
    "    try:\n",
    "        response = requests.get(url, headers=headers)\n",
    "        response.raise_for_status()\n",
    "        data = response.json()\n",
    "        \n",
    "        item = data.get(\"message\", {})\n",
    "\n",
    "        # Extracting publication date (Year, Month, Day if available)\n",
    "        date_parts = item.get(\"published-print\", item.get(\"published-online\", {})).get(\"date-parts\", [[None]])\n",
    "        publication_date = \"-\".join(map(str, date_parts[0])) if date_parts[0][0] else \"N/A\"\n",
    "\n",
    "        # Extract authors and their affiliations\n",
    "        authors_data = item.get(\"author\", [])\n",
    "        authors_info = []\n",
    "        for author in authors_data:\n",
    "            name = f\"{author.get('given', '')} {author.get('family', '')}\".strip()\n",
    "            affiliations = \"; \".join([aff[\"name\"] for aff in author.get(\"affiliation\", [])]) if \"affiliation\" in author else \"N/A\"\n",
    "            authors_info.append(f\"{name} ({affiliations})\" if affiliations != \"N/A\" else name)\n",
    "\n",
    "        return {\n",
    "            \"DOI\": doi,\n",
    "            \"Title\": item.get(\"title\", [\"N/A\"])[0],\n",
    "            \"Journal\": item.get(\"container-title\", [\"N/A\"])[0],\n",
    "            \"Publication Date\": publication_date,\n",
    "            \"Authors & Affiliations\": \", \".join(authors_info) if authors_info else \"N/A\"\n",
    "        }\n",
    "    except requests.exceptions.RequestException as e:\n",
    "        return {\"DOI\": doi, \"Title\": \"Error\", \"Journal\": \"Error\", \"Publication Date\": \"Error\", \"Authors & Affiliations\": \"Error\"}\n",
    "\n",
    "# Fetch metadata for all DOIs\n",
    "metadata_list = [get_metadata(doi) for doi in dois]\n",
    "\n",
    "# Convert to DataFrame\n",
    "df = pd.DataFrame(metadata_list)"
   ]
  },
  {
   "cell_type": "code",
   "execution_count": 22,
   "id": "49cc1a43-7a9f-410e-841a-82e0a52defbf",
   "metadata": {
    "tags": []
   },
   "outputs": [
    {
     "data": {
      "text/html": [
       "<div>\n",
       "<style scoped>\n",
       "    .dataframe tbody tr th:only-of-type {\n",
       "        vertical-align: middle;\n",
       "    }\n",
       "\n",
       "    .dataframe tbody tr th {\n",
       "        vertical-align: top;\n",
       "    }\n",
       "\n",
       "    .dataframe thead th {\n",
       "        text-align: right;\n",
       "    }\n",
       "</style>\n",
       "<table border=\"1\" class=\"dataframe\">\n",
       "  <thead>\n",
       "    <tr style=\"text-align: right;\">\n",
       "      <th></th>\n",
       "      <th>DOI</th>\n",
       "      <th>Title</th>\n",
       "      <th>Journal</th>\n",
       "      <th>Publication Date</th>\n",
       "      <th>Authors &amp; Affiliations</th>\n",
       "    </tr>\n",
       "  </thead>\n",
       "  <tbody>\n",
       "    <tr>\n",
       "      <th>0</th>\n",
       "      <td>10.1007/s00339-021-04577-8</td>\n",
       "      <td>Effect of concentration on lattice strain, die...</td>\n",
       "      <td>Applied Physics A</td>\n",
       "      <td>2021-6</td>\n",
       "      <td>U. K. Dwivedi (), Manisha Kumari (), Meenu Kha...</td>\n",
       "    </tr>\n",
       "    <tr>\n",
       "      <th>1</th>\n",
       "      <td>10.1007/s00339-021-04801-5</td>\n",
       "      <td>Effect of concentration on sensing properties ...</td>\n",
       "      <td>Applied Physics A</td>\n",
       "      <td>2021-9</td>\n",
       "      <td>Meenu Khan (), Manisha Kumari (), Hariom Pawar...</td>\n",
       "    </tr>\n",
       "    <tr>\n",
       "      <th>2</th>\n",
       "      <td>10.1007/s12010-022-03950-4</td>\n",
       "      <td>Potential of Desert Medicinal Plants for Comba...</td>\n",
       "      <td>Applied Biochemistry and Biotechnology</td>\n",
       "      <td>2023-9</td>\n",
       "      <td>Neha Singh (), Shivam Mishra (), Asmita Mondal...</td>\n",
       "    </tr>\n",
       "    <tr>\n",
       "      <th>3</th>\n",
       "      <td>10.1007/s11356-021-16846-3</td>\n",
       "      <td>A systematic review on iron-based nanoparticle...</td>\n",
       "      <td>Environmental Science and Pollution Research</td>\n",
       "      <td>2022-1</td>\n",
       "      <td>Baby Sharma (), Nilima Kumari (), Shruti Mathu...</td>\n",
       "    </tr>\n",
       "    <tr>\n",
       "      <th>4</th>\n",
       "      <td>10.1007/s41742-022-00418-5</td>\n",
       "      <td>Kinetics and Optimization of Azo Dye Decoloris...</td>\n",
       "      <td>International Journal of Environmental Research</td>\n",
       "      <td>2022-8</td>\n",
       "      <td>Baby Sharma (), Nilima Kumari (), Shruti Mathu...</td>\n",
       "    </tr>\n",
       "    <tr>\n",
       "      <th>5</th>\n",
       "      <td>10.1007/s00284-022-02854-0</td>\n",
       "      <td>Immobilization-Based Bio-formulation of Asperg...</td>\n",
       "      <td>Current Microbiology</td>\n",
       "      <td>2022-6</td>\n",
       "      <td>Rachana Jain (), Anumegha Gupta (), Vinay Shar...</td>\n",
       "    </tr>\n",
       "  </tbody>\n",
       "</table>\n",
       "</div>"
      ],
      "text/plain": [
       "                          DOI  \\\n",
       "0  10.1007/s00339-021-04577-8   \n",
       "1  10.1007/s00339-021-04801-5   \n",
       "2  10.1007/s12010-022-03950-4   \n",
       "3  10.1007/s11356-021-16846-3   \n",
       "4  10.1007/s41742-022-00418-5   \n",
       "5  10.1007/s00284-022-02854-0   \n",
       "\n",
       "                                               Title  \\\n",
       "0  Effect of concentration on lattice strain, die...   \n",
       "1  Effect of concentration on sensing properties ...   \n",
       "2  Potential of Desert Medicinal Plants for Comba...   \n",
       "3  A systematic review on iron-based nanoparticle...   \n",
       "4  Kinetics and Optimization of Azo Dye Decoloris...   \n",
       "5  Immobilization-Based Bio-formulation of Asperg...   \n",
       "\n",
       "                                           Journal Publication Date  \\\n",
       "0                                Applied Physics A           2021-6   \n",
       "1                                Applied Physics A           2021-9   \n",
       "2           Applied Biochemistry and Biotechnology           2023-9   \n",
       "3     Environmental Science and Pollution Research           2022-1   \n",
       "4  International Journal of Environmental Research           2022-8   \n",
       "5                             Current Microbiology           2022-6   \n",
       "\n",
       "                              Authors & Affiliations  \n",
       "0  U. K. Dwivedi (), Manisha Kumari (), Meenu Kha...  \n",
       "1  Meenu Khan (), Manisha Kumari (), Hariom Pawar...  \n",
       "2  Neha Singh (), Shivam Mishra (), Asmita Mondal...  \n",
       "3  Baby Sharma (), Nilima Kumari (), Shruti Mathu...  \n",
       "4  Baby Sharma (), Nilima Kumari (), Shruti Mathu...  \n",
       "5  Rachana Jain (), Anumegha Gupta (), Vinay Shar...  "
      ]
     },
     "execution_count": 22,
     "metadata": {},
     "output_type": "execute_result"
    }
   ],
   "source": [
    "df"
   ]
  },
  {
   "cell_type": "code",
   "execution_count": null,
   "id": "3c32301b-4750-4cbb-b68e-79a4ba4c4c36",
   "metadata": {},
   "outputs": [],
   "source": []
  }
 ],
 "metadata": {
  "kernelspec": {
   "display_name": "Python 3 (ipykernel)",
   "language": "python",
   "name": "python3"
  },
  "language_info": {
   "codemirror_mode": {
    "name": "ipython",
    "version": 3
   },
   "file_extension": ".py",
   "mimetype": "text/x-python",
   "name": "python",
   "nbconvert_exporter": "python",
   "pygments_lexer": "ipython3",
   "version": "3.11.5"
  }
 },
 "nbformat": 4,
 "nbformat_minor": 5
}
