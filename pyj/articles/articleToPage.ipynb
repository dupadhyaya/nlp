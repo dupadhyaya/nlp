{
 "cells": [
  {
   "cell_type": "markdown",
   "id": "a25fb4e4-72c1-49d1-8e2f-6fbeb8322d08",
   "metadata": {},
   "source": [
    "# Scrap the article and create pdf of the article\n",
    "- not working"
   ]
  },
  {
   "cell_type": "code",
   "execution_count": null,
   "id": "2cd91def-0dab-42d6-bb11-95eaaeee21a4",
   "metadata": {
    "tags": []
   },
   "outputs": [],
   "source": [
    "import requests\n",
    "from bs4 import BeautifulSoup\n",
    "from fpdf import FPDF"
   ]
  },
  {
   "cell_type": "code",
   "execution_count": null,
   "id": "5f258eac-752f-4844-9b47-5a20ce34dba1",
   "metadata": {
    "tags": []
   },
   "outputs": [],
   "source": [
    "# URL of the article\n",
    "url = \"https://economictimes.indiatimes.com/jobs/c-suite/for-india-inc-the-struggle-is-real-to-incorporate-ai-in-hiring/articleshow/118591003.cms\"\n",
    "url"
   ]
  },
  {
   "cell_type": "code",
   "execution_count": null,
   "id": "1419c5e1-4157-4247-b328-14377488808f",
   "metadata": {
    "tags": []
   },
   "outputs": [],
   "source": [
    "# Fetch the web page\n",
    "headers = {\"User-Agent\": \"Mozilla/5.0\"}\n",
    "response = requests.get(url, headers=headers)\n",
    "soup = BeautifulSoup(response.text, 'html.parser')"
   ]
  },
  {
   "cell_type": "code",
   "execution_count": null,
   "id": "0607cdd1-30ef-46ed-a820-fd59618d863e",
   "metadata": {
    "tags": []
   },
   "outputs": [],
   "source": [
    "# Extract the article content\n",
    "article = soup.find('div', class_=\"Normal\")  # Change this based on actual HTML structure\n",
    "if article:\n",
    "    text = article.get_text(separator=\"\\n\", strip=True)\n",
    "else:\n",
    "    text = \"Article content not found!\"\n",
    "\n",
    "# Save to PDF\n",
    "pdf = FPDF()\n",
    "pdf.set_auto_page_break(auto=True, margin=15)\n",
    "pdf.add_page()\n",
    "pdf.set_font(\"Arial\", size=12)"
   ]
  },
  {
   "cell_type": "code",
   "execution_count": null,
   "id": "713fd52d-73da-4e08-9b8c-1dabfb4563e2",
   "metadata": {
    "tags": []
   },
   "outputs": [],
   "source": [
    "for line in text.split(\"\\n\"):\n",
    "    pdf.cell(200, 10, txt=line, ln=True, align='L')\n",
    "\n",
    "pdf.output(\"article1.pdf\")\n",
    "\n",
    "print(\"PDF saved successfully!\")"
   ]
  },
  {
   "cell_type": "code",
   "execution_count": null,
   "id": "62c195e4-b22c-4dcd-afda-6c343806b38c",
   "metadata": {
    "tags": []
   },
   "outputs": [],
   "source": [
    "# did not work "
   ]
  },
  {
   "cell_type": "markdown",
   "id": "2f027bdc-8573-42f6-9f3d-bdcd49d9df52",
   "metadata": {},
   "source": [
    "## using Selenium"
   ]
  },
  {
   "cell_type": "code",
   "execution_count": null,
   "id": "8d6d9b6e-c5b7-4bf4-aad2-73ca3018a358",
   "metadata": {
    "tags": []
   },
   "outputs": [],
   "source": [
    "from selenium import webdriver\n",
    "from selenium.webdriver.chrome.service import Service\n",
    "from selenium.webdriver.common.by import By\n",
    "from selenium.webdriver.chrome.options import Options\n",
    "from fpdf import FPDF\n",
    "import time"
   ]
  },
  {
   "cell_type": "code",
   "execution_count": null,
   "id": "27cb7736-7f7d-4cdf-9662-6f573ca6dc5d",
   "metadata": {
    "tags": []
   },
   "outputs": [],
   "source": [
    "# URL of the article\n",
    "url = \"https://economictimes.indiatimes.com/jobs/c-suite/for-india-inc-the-struggle-is-real-to-incorporate-ai-in-hiring/articleshow/118591003.cms\"\n",
    "url"
   ]
  },
  {
   "cell_type": "code",
   "execution_count": null,
   "id": "728ce4a9-90cc-4db6-b0b0-c951a21f260d",
   "metadata": {
    "tags": []
   },
   "outputs": [],
   "source": [
    "# Path to your ChromeDriver\n",
    "cp2 = '/opt/homebrew/bin/chromedriver'  # Replace with the actual path to your chromedriver\n",
    "# Set up Selenium with headless Chrome\n",
    "chrome_options = Options()\n",
    "#chrome_options.add_argument(\"--headless\")\n",
    "chrome_options.add_argument(\"--disable-gpu\")\n",
    "chrome_options.add_argument(\"--no-sandbox\")\n",
    "chrome_options.add_argument(\"--disable-blink-features=AutomationControlled\")  # Avoid detection\n",
    "\n",
    "cService = webdriver.ChromeService(executable_path=cp2)\n",
    "driver = webdriver.Chrome(service=cService, options=chrome_options)"
   ]
  },
  {
   "cell_type": "code",
   "execution_count": null,
   "id": "7cc347e4-179d-4816-a3d0-5f79be237dbd",
   "metadata": {
    "tags": []
   },
   "outputs": [],
   "source": [
    "# Open the webpage\n",
    "driver.get(url)\n",
    "time.sleep(5)  # Wait for the page to fully load\n",
    "\n",
    "# Extract the article content\n",
    "try:\n",
    "    article_div = driver.find_element(By.CLASS_NAME, \"artText.medium\")\n",
    "    article_content = article_div.text\n",
    "except:\n",
    "    article_content = \"Article content not found!\"\n",
    "\n",
    "driver.quit()  # Close the browser"
   ]
  },
  {
   "cell_type": "code",
   "execution_count": null,
   "id": "58b1d503-3af8-490c-a070-f8a1b9b16356",
   "metadata": {
    "tags": []
   },
   "outputs": [],
   "source": [
    "# Save to PDF\n",
    "pdf = FPDF()\n",
    "pdf.set_auto_page_break(auto=True, margin=15)\n",
    "pdf.add_page()\n",
    "pdf.set_font(\"Arial\", size=12)\n",
    "\n",
    "for line in article_content.split(\"\\n\"):\n",
    "    pdf.cell(200, 10, txt=line, ln=True, align='L')\n",
    "\n",
    "pdf.output(\"article.pdf\")\n",
    "\n",
    "print(\"PDF saved successfully!\")"
   ]
  },
  {
   "cell_type": "code",
   "execution_count": null,
   "id": "52a20e61-c477-402e-a1b8-4923a55e260d",
   "metadata": {},
   "outputs": [],
   "source": []
  }
 ],
 "metadata": {
  "kernelspec": {
   "display_name": "Python 3 (ipykernel)",
   "language": "python",
   "name": "python3"
  },
  "language_info": {
   "codemirror_mode": {
    "name": "ipython",
    "version": 3
   },
   "file_extension": ".py",
   "mimetype": "text/x-python",
   "name": "python",
   "nbconvert_exporter": "python",
   "pygments_lexer": "ipython3",
   "version": "3.11.5"
  }
 },
 "nbformat": 4,
 "nbformat_minor": 5
}
