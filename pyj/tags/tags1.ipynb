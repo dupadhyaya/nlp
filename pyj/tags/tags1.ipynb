{
 "cells": [
  {
   "cell_type": "code",
   "execution_count": null,
   "id": "2dc1c8c2-6737-4bbe-ac1a-d98299b6f188",
   "metadata": {},
   "outputs": [],
   "source": [
    "# tags"
   ]
  },
  {
   "cell_type": "code",
   "execution_count": 1,
   "id": "8d3c8983-2821-4443-8f05-3c2ccab7f006",
   "metadata": {},
   "outputs": [],
   "source": [
    "import pandas as pd"
   ]
  },
  {
   "cell_type": "code",
   "execution_count": 2,
   "id": "38837e5d-149e-436d-af10-fbbc9a6a8779",
   "metadata": {},
   "outputs": [],
   "source": [
    "# Sample dataframe\n",
    "data = {'Feedback': ['Great service and quick delivery', 'The product quality is bad', 'Support was helpful']}\n",
    "df = pd.DataFrame(data)"
   ]
  },
  {
   "cell_type": "code",
   "execution_count": 3,
   "id": "a184c476-7623-459a-b278-289f1d11024f",
   "metadata": {},
   "outputs": [
    {
     "data": {
      "text/html": [
       "<div>\n",
       "<style scoped>\n",
       "    .dataframe tbody tr th:only-of-type {\n",
       "        vertical-align: middle;\n",
       "    }\n",
       "\n",
       "    .dataframe tbody tr th {\n",
       "        vertical-align: top;\n",
       "    }\n",
       "\n",
       "    .dataframe thead th {\n",
       "        text-align: right;\n",
       "    }\n",
       "</style>\n",
       "<table border=\"1\" class=\"dataframe\">\n",
       "  <thead>\n",
       "    <tr style=\"text-align: right;\">\n",
       "      <th></th>\n",
       "      <th>Feedback</th>\n",
       "    </tr>\n",
       "  </thead>\n",
       "  <tbody>\n",
       "    <tr>\n",
       "      <th>0</th>\n",
       "      <td>Great service and quick delivery</td>\n",
       "    </tr>\n",
       "    <tr>\n",
       "      <th>1</th>\n",
       "      <td>The product quality is bad</td>\n",
       "    </tr>\n",
       "    <tr>\n",
       "      <th>2</th>\n",
       "      <td>Support was helpful</td>\n",
       "    </tr>\n",
       "  </tbody>\n",
       "</table>\n",
       "</div>"
      ],
      "text/plain": [
       "                           Feedback\n",
       "0  Great service and quick delivery\n",
       "1        The product quality is bad\n",
       "2               Support was helpful"
      ]
     },
     "execution_count": 3,
     "metadata": {},
     "output_type": "execute_result"
    }
   ],
   "source": [
    "df"
   ]
  },
  {
   "cell_type": "code",
   "execution_count": 4,
   "id": "e8006da5-a049-4d5b-b0ea-df7059875c0c",
   "metadata": {},
   "outputs": [],
   "source": [
    "# Define keyword-based tags\n",
    "tags = {\n",
    "    'service': ['service', 'helpful', 'staff', 'friendly'],\n",
    "    'product quality': ['quality', 'durable', 'good', 'defective'],\n",
    "    'delivery': ['late', 'shipping', 'on time', 'delay'],\n",
    "    'support': ['support', 'problem', 'issue', 'customer service']\n",
    "}"
   ]
  },
  {
   "cell_type": "code",
   "execution_count": 5,
   "id": "d5223015-b624-465f-b425-2640e7cfeabf",
   "metadata": {},
   "outputs": [
    {
     "data": {
      "text/plain": [
       "{'service': ['service', 'helpful', 'staff', 'friendly'],\n",
       " 'product quality': ['quality', 'durable', 'good', 'defective'],\n",
       " 'delivery': ['late', 'shipping', 'on time', 'delay'],\n",
       " 'support': ['support', 'problem', 'issue', 'customer service']}"
      ]
     },
     "execution_count": 5,
     "metadata": {},
     "output_type": "execute_result"
    }
   ],
   "source": [
    "tags"
   ]
  },
  {
   "cell_type": "code",
   "execution_count": 6,
   "id": "46a3d7d7-2848-4ce0-b90c-3e906f3621e8",
   "metadata": {},
   "outputs": [],
   "source": [
    "def assign_tags(feedback):\n",
    "    feedback = feedback.lower()\n",
    "    assigned_tags = []\n",
    "    for tag, keywords in tags.items():\n",
    "        if any(keyword in feedback for keyword in keywords):\n",
    "            assigned_tags.append(tag)\n",
    "    return ', '.join(assigned_tags)"
   ]
  },
  {
   "cell_type": "code",
   "execution_count": 7,
   "id": "82cad59b-b830-41ec-9b17-0e698cb2c822",
   "metadata": {},
   "outputs": [
    {
     "data": {
      "text/plain": [
       "<function __main__.assign_tags(feedback)>"
      ]
     },
     "execution_count": 7,
     "metadata": {},
     "output_type": "execute_result"
    }
   ],
   "source": [
    "assign_tags"
   ]
  },
  {
   "cell_type": "code",
   "execution_count": 8,
   "id": "02cde185-facb-4ec8-975c-2649d9380c33",
   "metadata": {},
   "outputs": [
    {
     "data": {
      "text/html": [
       "<div>\n",
       "<style scoped>\n",
       "    .dataframe tbody tr th:only-of-type {\n",
       "        vertical-align: middle;\n",
       "    }\n",
       "\n",
       "    .dataframe tbody tr th {\n",
       "        vertical-align: top;\n",
       "    }\n",
       "\n",
       "    .dataframe thead th {\n",
       "        text-align: right;\n",
       "    }\n",
       "</style>\n",
       "<table border=\"1\" class=\"dataframe\">\n",
       "  <thead>\n",
       "    <tr style=\"text-align: right;\">\n",
       "      <th></th>\n",
       "      <th>Feedback</th>\n",
       "      <th>Tags</th>\n",
       "    </tr>\n",
       "  </thead>\n",
       "  <tbody>\n",
       "    <tr>\n",
       "      <th>0</th>\n",
       "      <td>Great service and quick delivery</td>\n",
       "      <td>service</td>\n",
       "    </tr>\n",
       "    <tr>\n",
       "      <th>1</th>\n",
       "      <td>The product quality is bad</td>\n",
       "      <td>product quality</td>\n",
       "    </tr>\n",
       "    <tr>\n",
       "      <th>2</th>\n",
       "      <td>Support was helpful</td>\n",
       "      <td>service, support</td>\n",
       "    </tr>\n",
       "  </tbody>\n",
       "</table>\n",
       "</div>"
      ],
      "text/plain": [
       "                           Feedback              Tags\n",
       "0  Great service and quick delivery           service\n",
       "1        The product quality is bad   product quality\n",
       "2               Support was helpful  service, support"
      ]
     },
     "execution_count": 8,
     "metadata": {},
     "output_type": "execute_result"
    }
   ],
   "source": [
    "# Apply the function to the feedback column\n",
    "df['Tags'] = df['Feedback'].apply(assign_tags)\n",
    "df"
   ]
  },
  {
   "cell_type": "raw",
   "id": "e3322189-e5c2-4121-b022-4bb010772eda",
   "metadata": {},
   "source": [
    "!pip install ace-tools\n",
    "# Display the result - not working\n",
    "#import ace_tools as tools\n",
    "tools.display_dataframe_to_user(name=\"Customer Feedback Tags\", dataframe=df)"
   ]
  },
  {
   "cell_type": "code",
   "execution_count": 24,
   "id": "8bd32973-5d3a-4d2e-b90d-c30013f5dc12",
   "metadata": {},
   "outputs": [
    {
     "name": "stdout",
     "output_type": "stream",
     "text": [
      "                           Feedback              Tags\n",
      "0  Great service and quick delivery           service\n",
      "1        The product quality is bad   product quality\n",
      "2               Support was helpful  service, support\n"
     ]
    }
   ],
   "source": [
    "print(df)"
   ]
  },
  {
   "cell_type": "code",
   "execution_count": null,
   "id": "4d06c7c0-b79e-4d5d-95eb-ed025eb8842e",
   "metadata": {},
   "outputs": [],
   "source": []
  }
 ],
 "metadata": {
  "kernelspec": {
   "display_name": "Python 3 (ipykernel)",
   "language": "python",
   "name": "python3"
  },
  "language_info": {
   "codemirror_mode": {
    "name": "ipython",
    "version": 3
   },
   "file_extension": ".py",
   "mimetype": "text/x-python",
   "name": "python",
   "nbconvert_exporter": "python",
   "pygments_lexer": "ipython3",
   "version": "3.11.5"
  }
 },
 "nbformat": 4,
 "nbformat_minor": 5
}
