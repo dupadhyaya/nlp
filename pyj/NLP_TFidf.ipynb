{
 "cells": [
  {
   "cell_type": "code",
   "execution_count": null,
   "id": "0efded32",
   "metadata": {},
   "outputs": [],
   "source": [
    "# TF - IDF\n"
   ]
  },
  {
   "cell_type": "code",
   "execution_count": 2,
   "id": "e9fe9093",
   "metadata": {},
   "outputs": [
    {
     "name": "stderr",
     "output_type": "stream",
     "text": [
      "C:\\ProgramData\\Anaconda3\\lib\\site-packages\\numpy\\_distributor_init.py:30: UserWarning: loaded more than 1 DLL from .libs:\n",
      "C:\\ProgramData\\Anaconda3\\lib\\site-packages\\numpy\\.libs\\libopenblas64__v0.3.21-gcc_10_3_0.dll\n",
      "C:\\ProgramData\\Anaconda3\\lib\\site-packages\\numpy\\.libs\\libopenblas64__v0.3.23-246-g3d31191b-gcc_10_3_0.dll\n",
      "  warnings.warn(\"loaded more than 1 DLL from .libs:\"\n"
     ]
    }
   ],
   "source": [
    "from nltk.tokenize import word_tokenize\n",
    "import numpy as np\n",
    "import string\n",
    "import pandas as pd"
   ]
  },
  {
   "cell_type": "code",
   "execution_count": 1,
   "id": "6242add1",
   "metadata": {},
   "outputs": [],
   "source": [
    "docs=[ \"Sachin is considered to be one of the greatest cricket players\",\n",
    "          \"Federer is considered one of the greatest tennis players\",\n",
    "          \"Nadal is considered one of the greatest tennis players\",\n",
    "          \"Virat is the captain of the  Indian cricket team\"]"
   ]
  },
  {
   "cell_type": "code",
   "execution_count": 3,
   "id": "482b986e",
   "metadata": {},
   "outputs": [],
   "source": [
    "def createVocab( docList):\n",
    "    vocab = {}\n",
    "    for doc in docList:\n",
    "        print(doc)\n",
    "        doc= doc.translate(str.maketrans('', '', string.punctuation))\n",
    "        \n",
    "        words= word_tokenize(doc.lower())\n",
    "        for word in words:\n",
    "            if(word in vocab.keys()):\n",
    "                vocab[word] = vocab[word] +1\n",
    "            else:\n",
    "                vocab[word] =1 \n",
    "    return vocab"
   ]
  },
  {
   "cell_type": "code",
   "execution_count": 4,
   "id": "e0746767",
   "metadata": {},
   "outputs": [
    {
     "name": "stdout",
     "output_type": "stream",
     "text": [
      "Sachin is considered to be one of the greatest cricket players\n",
      "Federer is considered one of the greatest tennis players\n",
      "Nadal is considered one of the greatest tennis players\n",
      "Virat is the captain of the  Indian cricket team\n"
     ]
    },
    {
     "data": {
      "text/plain": [
       "{'sachin': 1,\n",
       " 'is': 4,\n",
       " 'considered': 3,\n",
       " 'to': 1,\n",
       " 'be': 1,\n",
       " 'one': 3,\n",
       " 'of': 4,\n",
       " 'the': 5,\n",
       " 'greatest': 3,\n",
       " 'cricket': 2,\n",
       " 'players': 3,\n",
       " 'federer': 1,\n",
       " 'tennis': 2,\n",
       " 'nadal': 1,\n",
       " 'virat': 1,\n",
       " 'captain': 1,\n",
       " 'indian': 1,\n",
       " 'team': 1}"
      ]
     },
     "execution_count": 4,
     "metadata": {},
     "output_type": "execute_result"
    }
   ],
   "source": [
    "vocab = createVocab(docs)\n",
    "vocab"
   ]
  },
  {
   "cell_type": "code",
   "execution_count": 17,
   "id": "d11c21b8",
   "metadata": {},
   "outputs": [],
   "source": [
    "#Compute document term matrix as well idf for each term \n",
    "termDict={}\n",
    "docsTFMat = np.zeros((len(docs),len(vocab)))\n",
    "docsIdfMat = np.zeros((len(vocab),len(docs)))\n",
    "docTermDf = pd.DataFrame(docsTFMat ,columns=sorted(vocab.keys()))"
   ]
  },
  {
   "cell_type": "code",
   "execution_count": 18,
   "id": "9a3a4126",
   "metadata": {},
   "outputs": [],
   "source": [
    "docCount=0\n",
    "for doc in docs:\n",
    "    doc= doc.translate(str.maketrans('', '', string.punctuation))\n",
    "    words= word_tokenize(doc.lower())\n",
    "    for word in words:\n",
    "        if(word in vocab.keys()):\n",
    "          docTermDf[word][docCount] = docTermDf[word][docCount] +1\n",
    "    docCount = docCount +1"
   ]
  },
  {
   "cell_type": "code",
   "execution_count": 19,
   "id": "2b660001",
   "metadata": {},
   "outputs": [
    {
     "data": {
      "text/plain": [
       "4"
      ]
     },
     "execution_count": 19,
     "metadata": {},
     "output_type": "execute_result"
    }
   ],
   "source": [
    "docCount"
   ]
  },
  {
   "cell_type": "code",
   "execution_count": 20,
   "id": "e483dd01",
   "metadata": {},
   "outputs": [],
   "source": [
    "#Computed idf for each word in vocab\n",
    "idfDict={}\n",
    "for column in docTermDf.columns:\n",
    "    idfDict[column]= np.log((len(docs) +1 )/(1+ (docTermDf[column] != 0).sum()))+1"
   ]
  },
  {
   "cell_type": "code",
   "execution_count": 21,
   "id": "90a1d0d5",
   "metadata": {},
   "outputs": [],
   "source": [
    "#compute tf.idf matrix\n",
    "docsTfIdfMat = np.zeros((len(docs),len(vocab)))\n",
    "docTfIdfDf = pd.DataFrame(docsTfIdfMat ,columns=sorted(vocab.keys()))"
   ]
  },
  {
   "cell_type": "code",
   "execution_count": 22,
   "id": "d72bfd57",
   "metadata": {},
   "outputs": [
    {
     "name": "stdout",
     "output_type": "stream",
     "text": [
      "         be   captain  considered   cricket   federer  greatest    indian  \\\n",
      "0  1.916291  0.000000    1.223144  1.510826  0.000000  1.223144  0.000000   \n",
      "1  0.000000  0.000000    1.223144  0.000000  1.916291  1.223144  0.000000   \n",
      "2  0.000000  0.000000    1.223144  0.000000  0.000000  1.223144  0.000000   \n",
      "3  0.000000  1.916291    0.000000  1.510826  0.000000  0.000000  1.916291   \n",
      "\n",
      "    is     nadal   of       one   players    sachin      team    tennis  the  \\\n",
      "0  1.0  0.000000  1.0  1.223144  1.223144  1.916291  0.000000  0.000000  1.0   \n",
      "1  1.0  0.000000  1.0  1.223144  1.223144  0.000000  0.000000  1.510826  1.0   \n",
      "2  1.0  1.916291  1.0  1.223144  1.223144  0.000000  0.000000  1.510826  1.0   \n",
      "3  1.0  0.000000  1.0  0.000000  0.000000  0.000000  1.916291  0.000000  2.0   \n",
      "\n",
      "         to     virat  \n",
      "0  1.916291  0.000000  \n",
      "1  0.000000  0.000000  \n",
      "2  0.000000  0.000000  \n",
      "3  0.000000  1.916291  \n"
     ]
    }
   ],
   "source": [
    "docCount = 0\n",
    "for doc in docs:\n",
    "    for key in idfDict.keys():\n",
    "        docTfIdfDf[key][docCount] = docTermDf[key][docCount] * idfDict[key]\n",
    "    docCount = docCount +1 \n",
    "print(docTfIdfDf)"
   ]
  },
  {
   "cell_type": "code",
   "execution_count": 23,
   "id": "ba0960e4",
   "metadata": {},
   "outputs": [],
   "source": [
    "## Use TfidfVectorizer to perfom the same\n",
    "from sklearn.feature_extraction.text import TfidfVectorizer\n",
    "from sklearn.metrics.pairwise import cosine_similarity"
   ]
  },
  {
   "cell_type": "code",
   "execution_count": 24,
   "id": "a5de4eee",
   "metadata": {},
   "outputs": [],
   "source": [
    "vectorizer = TfidfVectorizer(analyzer='word',norm=None, use_idf=True,smooth_idf=True)\n",
    "tfIdfMat  = vectorizer.fit_transform(docs)"
   ]
  },
  {
   "cell_type": "code",
   "execution_count": null,
   "id": "6f435c54",
   "metadata": {},
   "outputs": [],
   "source": [
    "vectorizer.g"
   ]
  },
  {
   "cell_type": "code",
   "execution_count": 26,
   "id": "29e13ae4",
   "metadata": {},
   "outputs": [
    {
     "name": "stdout",
     "output_type": "stream",
     "text": [
      "             be   captain  considered   cricket   federer  greatest    indian  \\\n",
      "Doc 1  1.916291  0.000000    1.223144  1.510826  0.000000  1.223144  0.000000   \n",
      "Doc 2  0.000000  0.000000    1.223144  0.000000  1.916291  1.223144  0.000000   \n",
      "Doc 3  0.000000  0.000000    1.223144  0.000000  0.000000  1.223144  0.000000   \n",
      "Doc 4  0.000000  1.916291    0.000000  1.510826  0.000000  0.000000  1.916291   \n",
      "\n",
      "        is     nadal   of       one   players    sachin      team    tennis  \\\n",
      "Doc 1  1.0  0.000000  1.0  1.223144  1.223144  1.916291  0.000000  0.000000   \n",
      "Doc 2  1.0  0.000000  1.0  1.223144  1.223144  0.000000  0.000000  1.510826   \n",
      "Doc 3  1.0  1.916291  1.0  1.223144  1.223144  0.000000  0.000000  1.510826   \n",
      "Doc 4  1.0  0.000000  1.0  0.000000  0.000000  0.000000  1.916291  0.000000   \n",
      "\n",
      "       the        to     virat  \n",
      "Doc 1  1.0  1.916291  0.000000  \n",
      "Doc 2  1.0  0.000000  0.000000  \n",
      "Doc 3  1.0  0.000000  0.000000  \n",
      "Doc 4  2.0  0.000000  1.916291  \n"
     ]
    }
   ],
   "source": [
    "feature_names = sorted(vectorizer.get_feature_names_out())\n",
    "docList=['Doc 1','Doc 2','Doc 3','Doc 4']\n",
    "skDocsTfIdfdf = pd.DataFrame(tfIdfMat.todense(),index=sorted(docList),  columns=feature_names)\n",
    "print(skDocsTfIdfdf)"
   ]
  },
  {
   "cell_type": "code",
   "execution_count": 27,
   "id": "f7218351",
   "metadata": {},
   "outputs": [],
   "source": [
    "#compute cosine similarity\n",
    "csim = cosine_similarity(tfIdfMat,tfIdfMat)\n",
    "\n",
    "csimDf = pd.DataFrame(csim,index=sorted(docList),columns=sorted(docList))"
   ]
  },
  {
   "cell_type": "code",
   "execution_count": 28,
   "id": "9ce9111e",
   "metadata": {},
   "outputs": [
    {
     "data": {
      "text/html": [
       "<div>\n",
       "<style scoped>\n",
       "    .dataframe tbody tr th:only-of-type {\n",
       "        vertical-align: middle;\n",
       "    }\n",
       "\n",
       "    .dataframe tbody tr th {\n",
       "        vertical-align: top;\n",
       "    }\n",
       "\n",
       "    .dataframe thead th {\n",
       "        text-align: right;\n",
       "    }\n",
       "</style>\n",
       "<table border=\"1\" class=\"dataframe\">\n",
       "  <thead>\n",
       "    <tr style=\"text-align: right;\">\n",
       "      <th></th>\n",
       "      <th>Doc 1</th>\n",
       "      <th>Doc 2</th>\n",
       "      <th>Doc 3</th>\n",
       "      <th>Doc 4</th>\n",
       "    </tr>\n",
       "  </thead>\n",
       "  <tbody>\n",
       "    <tr>\n",
       "      <th>Doc 1</th>\n",
       "      <td>1.000000</td>\n",
       "      <td>0.492416</td>\n",
       "      <td>0.492416</td>\n",
       "      <td>0.277687</td>\n",
       "    </tr>\n",
       "    <tr>\n",
       "      <th>Doc 2</th>\n",
       "      <td>0.492416</td>\n",
       "      <td>1.000000</td>\n",
       "      <td>0.754190</td>\n",
       "      <td>0.215926</td>\n",
       "    </tr>\n",
       "    <tr>\n",
       "      <th>Doc 3</th>\n",
       "      <td>0.492416</td>\n",
       "      <td>0.754190</td>\n",
       "      <td>1.000000</td>\n",
       "      <td>0.215926</td>\n",
       "    </tr>\n",
       "    <tr>\n",
       "      <th>Doc 4</th>\n",
       "      <td>0.277687</td>\n",
       "      <td>0.215926</td>\n",
       "      <td>0.215926</td>\n",
       "      <td>1.000000</td>\n",
       "    </tr>\n",
       "  </tbody>\n",
       "</table>\n",
       "</div>"
      ],
      "text/plain": [
       "          Doc 1     Doc 2     Doc 3     Doc 4\n",
       "Doc 1  1.000000  0.492416  0.492416  0.277687\n",
       "Doc 2  0.492416  1.000000  0.754190  0.215926\n",
       "Doc 3  0.492416  0.754190  1.000000  0.215926\n",
       "Doc 4  0.277687  0.215926  0.215926  1.000000"
      ]
     },
     "execution_count": 28,
     "metadata": {},
     "output_type": "execute_result"
    }
   ],
   "source": [
    "csimDf"
   ]
  },
  {
   "cell_type": "code",
   "execution_count": 29,
   "id": "8371f608",
   "metadata": {},
   "outputs": [
    {
     "data": {
      "text/plain": [
       "['Sachin is considered to be one of the greatest cricket players',\n",
       " 'Federer is considered one of the greatest tennis players',\n",
       " 'Nadal is considered one of the greatest tennis players',\n",
       " 'Virat is the captain of the  Indian cricket team']"
      ]
     },
     "execution_count": 29,
     "metadata": {},
     "output_type": "execute_result"
    }
   ],
   "source": [
    "docs"
   ]
  },
  {
   "cell_type": "code",
   "execution_count": null,
   "id": "c5bf89ed",
   "metadata": {},
   "outputs": [],
   "source": []
  }
 ],
 "metadata": {
  "kernelspec": {
   "display_name": "Python 3 (ipykernel)",
   "language": "python",
   "name": "python3"
  },
  "language_info": {
   "codemirror_mode": {
    "name": "ipython",
    "version": 3
   },
   "file_extension": ".py",
   "mimetype": "text/x-python",
   "name": "python",
   "nbconvert_exporter": "python",
   "pygments_lexer": "ipython3",
   "version": "3.9.16"
  }
 },
 "nbformat": 4,
 "nbformat_minor": 5
}
